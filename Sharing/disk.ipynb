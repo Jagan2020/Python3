{
 "cells": [
  {
   "cell_type": "code",
   "execution_count": 1,
   "metadata": {},
   "outputs": [
    {
     "name": "stdout",
     "output_type": "stream",
     "text": [
      "Filesystem             Size      Used      Avail      Mounted-on\n",
      "****************************************************************\n",
      "/dev/sda1               14G       12G       2G        /                   \n",
      "/dev/sda5               92G       63G       28G       /media/mana/MULTIMEDIA2\n",
      "/dev/sda3               27G       14G       14G       /media/mana/DATA    \n"
     ]
    }
   ],
   "source": [
    "from pathlib import Path\n",
    "from os import statvfs as svfs\n",
    "import re\n",
    "import bisect\n",
    "\n",
    "#size = [1, 1e+3, 1e+6, 1e+9]      ## GB\n",
    "size = [1, 2**10, 2**20, 2**30]  ## GiB\n",
    "unit = ['B', 'K', 'M', 'G']\n",
    "mline = Path('/proc/mounts').read_text().splitlines()\n",
    "mdev = [lp.split()[:2] for lp in mline if re.match(r'^/dev/sd[a-z][1-9]', lp)]\n",
    "clt = [(fsl,svfs(mpl)[0]*svfs(mpl)[2],svfs(mpl)[0]*svfs(mpl)[3],mpl) for fsl, mpl in mdev]\n",
    "\n",
    "def con(byts):\n",
    "    index = bisect.bisect(size, byts)-1\n",
    "    return \"{:.0f}{}\".format(byts/size[index], unit[index])\n",
    "\n",
    "print('{:20} {:^9} {:^9} {:^9} {:>13}'.format('Filesystem','Size','Used','Avail','Mounted-on'))\n",
    "print('*'*64)\n",
    "for fs in clt:\n",
    "     print('{:20} {:^9} {:^9} {:^9}    {:20}'.format(fs[0],con(fs[1]),con(fs[1]-fs[2]),con(fs[2]),fs[3]))   "
   ]
  },
  {
   "cell_type": "code",
   "execution_count": null,
   "metadata": {},
   "outputs": [],
   "source": []
  }
 ],
 "metadata": {
  "kernelspec": {
   "display_name": "Python 3",
   "language": "python",
   "name": "python3"
  },
  "language_info": {
   "codemirror_mode": {
    "name": "ipython",
    "version": 3
   },
   "file_extension": ".py",
   "mimetype": "text/x-python",
   "name": "python",
   "nbconvert_exporter": "python",
   "pygments_lexer": "ipython3",
   "version": "3.5.2"
  },
  "widgets": {
   "application/vnd.jupyter.widget-state+json": {
    "state": {},
    "version_major": 2,
    "version_minor": 0
   }
  }
 },
 "nbformat": 4,
 "nbformat_minor": 2
}
