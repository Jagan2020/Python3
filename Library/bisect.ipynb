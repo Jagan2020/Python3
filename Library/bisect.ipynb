{
 "cells": [
  {
   "cell_type": "markdown",
   "metadata": {},
   "source": [
    "## bisect"
   ]
  },
  {
   "cell_type": "raw",
   "metadata": {},
   "source": [
    "The module “bisect” which allows to keep the list in sorted order after insertion of each element. \n",
    "\n",
    "The purpose of Bisect algorithm is to find a position in list where an element needs to be inserted \n",
    "to keep the list sorted."
   ]
  },
  {
   "cell_type": "markdown",
   "metadata": {},
   "source": [
    "### Methods of bisect"
   ]
  },
  {
   "cell_type": "code",
   "execution_count": 3,
   "metadata": {},
   "outputs": [
    {
     "name": "stdout",
     "output_type": "stream",
     "text": [
      "bisect\n",
      "bisect_left\n",
      "bisect_right\n",
      "insort\n",
      "insort_left\n",
      "insort_right\n"
     ]
    }
   ],
   "source": [
    "import bisect\n",
    "\n",
    "for i in dir(bisect):\n",
    "    if not i.startswith('__'):\n",
    "        print(i)"
   ]
  },
  {
   "cell_type": "markdown",
   "metadata": {},
   "source": [
    "### **bisect**\n",
    "\n",
    "> bisect(list, num, beg, end)"
   ]
  },
  {
   "cell_type": "raw",
   "metadata": {},
   "source": [
    "This function returns the position in the sorted list, where the number passed in argument can be placed so as to maintain the resultant list in sorted order. If the element is already present in the list, the right most position where element has to be inserted is returned. This function takes 4 arguments, list which has to be worked with, number to insert, starting position in list to consider, ending position which has to be considered."
   ]
  },
  {
   "cell_type": "code",
   "execution_count": 9,
   "metadata": {},
   "outputs": [
    {
     "data": {
      "text/plain": [
       "5"
      ]
     },
     "execution_count": 9,
     "metadata": {},
     "output_type": "execute_result"
    }
   ],
   "source": [
    "from bisect import bisect\n",
    "\n",
    "lst = [1, 3, 4, 4, 4, 6, 7] \n",
    "bisect(lst,4)"
   ]
  },
  {
   "cell_type": "markdown",
   "metadata": {},
   "source": [
    "### **bisect_left**\n",
    "\n",
    "> bisect_left(list, num, beg, end) "
   ]
  },
  {
   "cell_type": "raw",
   "metadata": {},
   "source": [
    "This function returns the position in the sorted list, where the number passed in argument can be placed so as to maintain the resultant list in sorted order. **If the element is already present in the list, the left most position where element has to be inserted is returned.** This function takes 4 arguments, list which has to be worked with, number to insert, starting position in list to consider, ending position which has to be considered."
   ]
  },
  {
   "cell_type": "code",
   "execution_count": 7,
   "metadata": {},
   "outputs": [
    {
     "data": {
      "text/plain": [
       "2"
      ]
     },
     "execution_count": 7,
     "metadata": {},
     "output_type": "execute_result"
    }
   ],
   "source": [
    "from bisect import bisect_left\n",
    "\n",
    "lst = [1, 3, 4, 4, 4, 6, 7] \n",
    "bisect_left(lst,4)"
   ]
  },
  {
   "cell_type": "markdown",
   "metadata": {},
   "source": [
    "### **bisect_right**\n",
    "> bisect_right(list, num, beg, end)"
   ]
  },
  {
   "cell_type": "code",
   "execution_count": 8,
   "metadata": {},
   "outputs": [
    {
     "data": {
      "text/plain": [
       "5"
      ]
     },
     "execution_count": 8,
     "metadata": {},
     "output_type": "execute_result"
    }
   ],
   "source": [
    "from bisect import bisect_right\n",
    "\n",
    "lst = [1, 3, 4, 4, 4, 6, 7] \n",
    "bisect_right(lst,4)"
   ]
  },
  {
   "cell_type": "markdown",
   "metadata": {},
   "source": [
    "### **insort**\n",
    "> insort(list, num, beg, end)"
   ]
  },
  {
   "cell_type": "raw",
   "metadata": {},
   "source": [
    "This function returns the sorted list after inserting number in appropriate position, if the element is already present in the list, the element is inserted at the rightmost possible position. This function takes 4 arguments, list which has to be worked with, number to insert, starting position in list to consider, ending position which has to be considered."
   ]
  },
  {
   "cell_type": "code",
   "execution_count": 13,
   "metadata": {},
   "outputs": [
    {
     "data": {
      "text/plain": [
       "[1, 3, 4, 4, 4, 5, 6, 7]"
      ]
     },
     "execution_count": 13,
     "metadata": {},
     "output_type": "execute_result"
    }
   ],
   "source": [
    "from bisect import insort\n",
    "\n",
    "lst = [1, 3, 4, 4, 4, 6, 7] \n",
    "insort(lst,5)\n",
    "lst"
   ]
  },
  {
   "cell_type": "markdown",
   "metadata": {},
   "source": [
    "### **insort_left**\n",
    "> insort_left(list, num, beg, end) "
   ]
  },
  {
   "cell_type": "raw",
   "metadata": {},
   "source": [
    "This function returns the sorted list after inserting number in appropriate position, if the element is already present in the list, the element is inserted at the leftmost possible position. This function takes 4 arguments, list which has to be worked with, number to insert, starting position in list to consider, ending position which has to be considered."
   ]
  },
  {
   "cell_type": "code",
   "execution_count": 16,
   "metadata": {},
   "outputs": [
    {
     "data": {
      "text/plain": [
       "[1, 3, 4, 4, 4, 5, 6, 7]"
      ]
     },
     "execution_count": 16,
     "metadata": {},
     "output_type": "execute_result"
    }
   ],
   "source": [
    "from bisect import insort_left\n",
    "\n",
    "lst = [1, 3, 4, 4, 4, 6, 7] \n",
    "insort_left(lst,5)\n",
    "lst"
   ]
  },
  {
   "cell_type": "markdown",
   "metadata": {},
   "source": [
    "### ** insort_right**\n",
    "> insort_right(list, num, beg, end)"
   ]
  },
  {
   "cell_type": "raw",
   "metadata": {},
   "source": [
    "This function works similar to the “insort()” as mentioned above."
   ]
  }
 ],
 "metadata": {
  "kernelspec": {
   "display_name": "Python 3",
   "language": "python",
   "name": "python3"
  },
  "language_info": {
   "codemirror_mode": {
    "name": "ipython",
    "version": 3
   },
   "file_extension": ".py",
   "mimetype": "text/x-python",
   "name": "python",
   "nbconvert_exporter": "python",
   "pygments_lexer": "ipython3",
   "version": "3.6.9"
  }
 },
 "nbformat": 4,
 "nbformat_minor": 2
}
