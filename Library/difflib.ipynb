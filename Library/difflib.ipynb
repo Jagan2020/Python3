{
 "cells": [
  {
   "cell_type": "markdown",
   "metadata": {},
   "source": [
    "# difflib"
   ]
  },
  {
   "cell_type": "markdown",
   "metadata": {},
   "source": [
    "## Differ"
   ]
  },
  {
   "cell_type": "markdown",
   "metadata": {},
   "source": [
    "### Differ class methods and variables"
   ]
  },
  {
   "cell_type": "code",
   "execution_count": 1,
   "metadata": {},
   "outputs": [
    {
     "name": "stdout",
     "output_type": "stream",
     "text": [
      "These are Variables of Differ module:\n",
      "***********************************\n",
      "\n",
      "These are Methods of Differ module:\n",
      "***********************************\n",
      "compare\n"
     ]
    }
   ],
   "source": [
    "from difflib import Differ\n",
    "\n",
    "d = [i for i in dir(Differ) \n",
    "     if not i.startswith('_')]\n",
    "print('These are Variables of Differ module:')\n",
    "print('*'*35)\n",
    "for x in d:\n",
    "    if not callable(getattr(Differ, x)):\n",
    "        print(x)\n",
    "else:\n",
    "    print()\n",
    "\n",
    "print('These are Methods of Differ module:')\n",
    "print('*'*35)\n",
    "for x in d:\n",
    "    if callable(getattr(Differ, x)):\n",
    "        print(x)"
   ]
  },
  {
   "cell_type": "markdown",
   "metadata": {},
   "source": [
    "### Differ Methods"
   ]
  },
  {
   "cell_type": "markdown",
   "metadata": {},
   "source": [
    "### compare"
   ]
  },
  {
   "cell_type": "markdown",
   "metadata": {},
   "source": [
    "### Comparing two files"
   ]
  },
  {
   "cell_type": "raw",
   "metadata": {},
   "source": [
    "Compare two sequences of lines; generate the resulting delta."
   ]
  },
  {
   "cell_type": "code",
   "execution_count": 5,
   "metadata": {},
   "outputs": [
    {
     "name": "stdout",
     "output_type": "stream",
     "text": [
      "This is file2 lists:\r\n",
      "1. red Apple\r\n",
      "2. Green Apple\r\n",
      "3. white Apple\r\n"
     ]
    }
   ],
   "source": [
    "!cat /home/mana/Work/file2.txt"
   ]
  },
  {
   "cell_type": "code",
   "execution_count": 4,
   "metadata": {},
   "outputs": [
    {
     "name": "stdout",
     "output_type": "stream",
     "text": [
      "This is file1 list:\r\n",
      "1. Red Apple\r\n",
      "2. Green Aple\r\n"
     ]
    }
   ],
   "source": [
    "!cat /home/mana/Work/file1.txt"
   ]
  },
  {
   "cell_type": "code",
   "execution_count": 8,
   "metadata": {},
   "outputs": [
    {
     "name": "stdout",
     "output_type": "stream",
     "text": [
      "- This is file1 list:\n",
      "?             ^\n",
      "\n",
      "+ This is file2 lists:\n",
      "?             ^     +\n",
      "\n",
      "- 1. Red Apple\n",
      "?    ^\n",
      "\n",
      "+ 1. red Apple\n",
      "?    ^\n",
      "\n",
      "- 2. Green Aple\n",
      "+ 2. Green Apple\n",
      "?            +\n",
      "\n",
      "  3. white Apple\n"
     ]
    }
   ],
   "source": [
    "from pathlib import Path\n",
    "\n",
    "f1 = Path('/home/mana/Work/file1.txt').read_text().splitlines()\n",
    "f2 = Path('/home/mana/Work/file2.txt').read_text().splitlines()\n",
    "\n",
    "diff = Differ().compare(f1,f2)\n",
    "print(*diff, sep = '\\n')"
   ]
  },
  {
   "cell_type": "code",
   "execution_count": 6,
   "metadata": {},
   "outputs": [
    {
     "name": "stdout",
     "output_type": "stream",
     "text": [
      "I need to buy apples.\r\n",
      "I need to run the laundry.\r\n",
      "I need to wash the dog.\r\n",
      "I need to get the car detailed.\r\n"
     ]
    }
   ],
   "source": [
    "!cat /home/mana/Work/sample1.txt"
   ]
  },
  {
   "cell_type": "code",
   "execution_count": 7,
   "metadata": {},
   "outputs": [
    {
     "name": "stdout",
     "output_type": "stream",
     "text": [
      "I need to do the laundry.\r\n",
      "I need to buy apples.\r\n",
      "I need to wash the car.\r\n",
      "I need to get the dog detailed.\r\n"
     ]
    }
   ],
   "source": [
    "!cat /home/mana/Work/sample2.txt"
   ]
  },
  {
   "cell_type": "markdown",
   "metadata": {},
   "source": [
    "### **How to find similar lines?**"
   ]
  },
  {
   "cell_type": "code",
   "execution_count": 8,
   "metadata": {},
   "outputs": [
    {
     "name": "stdout",
     "output_type": "stream",
     "text": [
      "  I need to buy apples.\n"
     ]
    }
   ],
   "source": [
    "from difflib import Differ\n",
    "from pathlib import Path\n",
    "\n",
    "P = Path('/home/mana/Work')\n",
    "f1 = (P/'sample1.txt').read_text().splitlines()\n",
    "f2 = (P/'sample2.txt').read_text().splitlines()\n",
    "diff = Differ().compare(f1,f2)\n",
    "same_lines = [x for x in diff if x.startswith(' ')]\n",
    "print(*same_lines)"
   ]
  },
  {
   "cell_type": "markdown",
   "metadata": {},
   "source": [
    "### **ndiff**"
   ]
  },
  {
   "cell_type": "code",
   "execution_count": 9,
   "metadata": {},
   "outputs": [
    {
     "data": {
      "text/plain": [
       "['+ I need to do the laundry.',\n",
       " '  I need to buy apples.',\n",
       " '- I need to run the laundry.',\n",
       " '- I need to wash the dog.',\n",
       " '?                    ^^^\\n',\n",
       " '+ I need to wash the car.',\n",
       " '?                    ^^^\\n',\n",
       " '- I need to get the car detailed.',\n",
       " '?                   ^^^\\n',\n",
       " '+ I need to get the dog detailed.',\n",
       " '?                   ^^^\\n']"
      ]
     },
     "execution_count": 9,
     "metadata": {},
     "output_type": "execute_result"
    }
   ],
   "source": [
    "from difflib import ndiff\n",
    "from pathlib import Path\n",
    "\n",
    "P = Path('/home/mana/Work')\n",
    "f1 = (P/'sample1.txt').read_text().splitlines()\n",
    "f2 = (P/'sample2.txt').read_text().splitlines()\n",
    "[i for i in ndiff(f1, f2)]\n"
   ]
  },
  {
   "cell_type": "markdown",
   "metadata": {},
   "source": [
    "### **How to find different lines?**"
   ]
  },
  {
   "cell_type": "code",
   "execution_count": 4,
   "metadata": {},
   "outputs": [
    {
     "name": "stdout",
     "output_type": "stream",
     "text": [
      "I need to run the laundry.\n",
      "I need to wash the dog.\n",
      "I need to get the car detailed.\n"
     ]
    }
   ],
   "source": [
    "from difflib import ndiff\n",
    "from pathlib import Path\n",
    "\n",
    "P = Path('/home/mana/Work')\n",
    "f1 = (P/'sample1.txt').read_text().splitlines()\n",
    "f2 = (P/'sample2.txt').read_text().splitlines()\n",
    "diff = ndiff(f1, f2)\n",
    "delta = [x.replace('- ','') for x in diff if x.startswith('-')]\n",
    "\n",
    "print(*delta, sep = '\\n')"
   ]
  },
  {
   "cell_type": "markdown",
   "metadata": {},
   "source": [
    "## SequenceMatcher"
   ]
  },
  {
   "cell_type": "code",
   "execution_count": 1,
   "metadata": {},
   "outputs": [
    {
     "name": "stdout",
     "output_type": "stream",
     "text": [
      "extension\n"
     ]
    }
   ],
   "source": [
    "from difflib import SequenceMatcher\n",
    "w1 = 'lease extension'\n",
    "w2 = 'extension lease'\n",
    "word_match = SequenceMatcher(None,w1,w2) \n",
    "wm = word_match.find_longest_match(0, len(w1), 0, len(w2)) \n",
    "print(w1[wm.a:wm.a+wm.size])"
   ]
  },
  {
   "cell_type": "code",
   "execution_count": 2,
   "metadata": {},
   "outputs": [
    {
     "name": "stdout",
     "output_type": "stream",
     "text": [
      "extension\n",
      "\n"
     ]
    }
   ],
   "source": [
    "from difflib import SequenceMatcher\n",
    "w1 = 'lease extension'\n",
    "w2 = 'extension lease'\n",
    "word_match = SequenceMatcher(None,w1,w2).get_matching_blocks()\n",
    "\n",
    "for wm in word_match:\n",
    "    print(w1[wm.a:wm.a+wm.size])"
   ]
  },
  {
   "cell_type": "markdown",
   "metadata": {},
   "source": [
    "### How to list get_close_matches?"
   ]
  },
  {
   "cell_type": "code",
   "execution_count": 1,
   "metadata": {},
   "outputs": [
    {
     "name": "stdout",
     "output_type": "stream",
     "text": [
      "['GeoIP-1.5.0-15.el7.x86_64.rpm', 'GeoIP-1.5.0-14.el7.x86_64.rpm']\n"
     ]
    }
   ],
   "source": [
    "from difflib import get_close_matches\n",
    "\n",
    "strs = ['389-ds-base-1.3.9.1-10.el7.x86_64.rpm',\n",
    " 'GeoIP-1.5.0-15.el7.x86_64.rpm',\n",
    " '389-ds-base-devel-1.3.9.1-10.el7.x86_64.rpm',\n",
    " 'Cython-0.19-4.el7.x86_64.rpm',\n",
    " 'Cython-0.19-5.el7.x86_64.rpm',\n",
    " 'GeoIP-1.5.0-14.el7.x86_64.rpm']\n",
    "\n",
    "print(get_close_matches('GeoIP',strs,n=2,cutoff=0.2))"
   ]
  },
  {
   "cell_type": "markdown",
   "metadata": {},
   "source": [
    "### class HtmlDiff"
   ]
  },
  {
   "cell_type": "markdown",
   "metadata": {},
   "source": [
    "### How to compare two lines? "
   ]
  },
  {
   "cell_type": "code",
   "execution_count": 1,
   "metadata": {},
   "outputs": [],
   "source": [
    "from difflib import HtmlDiff\n",
    "\n",
    "line1 = ['Chennai is very hot.']\n",
    "line2 = ['Chennai is very sweet.']\n",
    "print(HtmlDiff().make_file(line1,line2), file = open('/home/mana/Work/diff.html','w'))"
   ]
  },
  {
   "cell_type": "markdown",
   "metadata": {},
   "source": [
    "### How to compare two files?"
   ]
  },
  {
   "cell_type": "code",
   "execution_count": 2,
   "metadata": {},
   "outputs": [],
   "source": [
    "from difflib import HtmlDiff\n",
    "from pathlib import Path\n",
    "\n",
    "f1 = Path('/home/mana/Work/file1.txt').read_text().splitlines()\n",
    "f2 = Path('/home/mana/Work/file2.txt').read_text().splitlines()\n",
    "print(HtmlDiff().make_file(f1,f2), file = open('/home/mana/Work/diff.html','w'))"
   ]
  },
  {
   "cell_type": "markdown",
   "metadata": {},
   "source": [
    "## **Excercise**"
   ]
  },
  {
   "cell_type": "markdown",
   "metadata": {},
   "source": [
    "#### **How to find different and similar lines between two files?**"
   ]
  },
  {
   "cell_type": "code",
   "execution_count": 10,
   "metadata": {},
   "outputs": [
    {
     "name": "stdout",
     "output_type": "stream",
     "text": [
      "These lines are same: \n",
      "I need to buy apples.\n",
      "\n",
      "These lines are different: \n",
      "I need to run the laundry.\n",
      "I need to wash the dog.\n",
      "I need to get the car detailed.\n"
     ]
    }
   ],
   "source": [
    "from difflib import Differ,ndiff\n",
    "from pathlib import Path\n",
    "\n",
    "P = Path('/home/mana/Work')\n",
    "f1 = (P/'sample1.txt').read_text().splitlines()\n",
    "f2 = (P/'sample2.txt').read_text().splitlines()\n",
    "same = Differ().compare(f1,f2)\n",
    "different = ndiff(f1, f2)\n",
    "same_lines = [x.replace('  ','') for x in same if x.startswith(' ')]\n",
    "different_lines = [x.replace('- ','') for x in different \n",
    "                   if x.startswith('-')]\n",
    "print(\"These lines are same: \")\n",
    "print(*same_lines, sep = '\\n')\n",
    "print()\n",
    "print(\"These lines are different: \")\n",
    "print(*different_lines, sep = '\\n')"
   ]
  },
  {
   "cell_type": "code",
   "execution_count": null,
   "metadata": {},
   "outputs": [],
   "source": []
  }
 ],
 "metadata": {
  "kernelspec": {
   "display_name": "Python 3",
   "language": "python",
   "name": "python3"
  },
  "language_info": {
   "codemirror_mode": {
    "name": "ipython",
    "version": 3
   },
   "file_extension": ".py",
   "mimetype": "text/x-python",
   "name": "python",
   "nbconvert_exporter": "python",
   "pygments_lexer": "ipython3",
   "version": "3.6.9"
  }
 },
 "nbformat": 4,
 "nbformat_minor": 2
}
