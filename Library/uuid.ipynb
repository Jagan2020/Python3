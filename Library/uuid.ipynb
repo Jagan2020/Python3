{
 "cells": [
  {
   "cell_type": "markdown",
   "metadata": {},
   "source": [
    "## **uuid**\n",
    "\n",
    "#### UUID module to generate the universally unique identifiers.\n",
    "\n",
    "https://docs.python.org/3/library/uuid.html#module-uuid"
   ]
  },
  {
   "cell_type": "raw",
   "metadata": {},
   "source": [
    "This module provides immutable UUID objects (the UUID class) and \n",
    "the functions uuid1(), uuid3(), uuid4(), uuid5() for generating \n",
    "version 1, 3, 4, and 5 UUIDs as specified in RFC 4122.\n",
    "\n",
    "If all you want is a unique ID, you should probably call uuid1() or uuid4(). \n",
    "Note that uuid1() may compromise privacy since it creates a UUID containing \n",
    "the computer’s network address. uuid4() creates a random UUID."
   ]
  },
  {
   "cell_type": "markdown",
   "metadata": {},
   "source": [
    "### **What is UUID**"
   ]
  },
  {
   "cell_type": "raw",
   "metadata": {},
   "source": [
    "UUID is a Universally Unique Identifier. \n",
    "You can also call it as GUID, i.e., Globally Unique Identifier.\n",
    "\n",
    "A UUID is 128 bits long number or ID to uniquely identify \n",
    "the documents, Users, resources or information in computer systems."
   ]
  },
  {
   "cell_type": "markdown",
   "metadata": {},
   "source": [
    "### **uuid methods**"
   ]
  },
  {
   "cell_type": "code",
   "execution_count": 9,
   "metadata": {},
   "outputs": [
    {
     "name": "stdout",
     "output_type": "stream",
     "text": [
      "uuid1          uuid3          uuid4          uuid5          \n"
     ]
    }
   ],
   "source": [
    "import uuid\n",
    "\n",
    "methods = [i for i  in dir(uuid) if i[0].islower() and i.startswith('u')]\n",
    "fmt = '{:15s}'*4\n",
    "\n",
    "for fn in zip(*[iter(methods)] *4):\n",
    "    print(fmt.format(*fn))"
   ]
  },
  {
   "cell_type": "code",
   "execution_count": 10,
   "metadata": {},
   "outputs": [
    {
     "name": "stdout",
     "output_type": "stream",
     "text": [
      "uuid1:\n",
      "Generate a UUID from a host ID, sequence number, and the current time.\n",
      "    If 'node' is not given, getnode() is used to obtain the hardware\n",
      "    address.  If 'clock_seq' is given, it is used as the sequence number;\n",
      "    otherwise a random 14-bit sequence number is chosen.\n",
      "**************************************************\n",
      "uuid3:\n",
      "Generate a UUID from the MD5 hash of a namespace UUID and a name.\n",
      "**************************************************\n",
      "uuid4:\n",
      "Generate a random UUID.\n",
      "**************************************************\n",
      "uuid5:\n",
      "Generate a UUID from the SHA-1 hash of a namespace UUID and a name.\n",
      "**************************************************\n"
     ]
    }
   ],
   "source": [
    "import uuid\n",
    "\n",
    "methods = [i for i  in dir(uuid) if i[0].islower() and i.startswith('u')]\n",
    "\n",
    "for i in methods:\n",
    "    print(i+':')\n",
    "    print(getattr(uuid,i).__doc__)\n",
    "    print('*'*50)"
   ]
  },
  {
   "cell_type": "markdown",
   "metadata": {},
   "source": [
    "### **Structure of UUID and UUID.fields**"
   ]
  },
  {
   "cell_type": "raw",
   "metadata": {},
   "source": [
    "A tuple of the six integer fields of the UUID, \n",
    "which are also available as six individual attributes \n",
    "and two derived attributes:"
   ]
  },
  {
   "cell_type": "markdown",
   "metadata": {},
   "source": [
    "#### <img src=\"suuid.png\" height=\"500\" width=\"500\" align=\"left\">"
   ]
  },
  {
   "cell_type": "markdown",
   "metadata": {},
   "source": [
    "### **Why and When to use UUID**"
   ]
  },
  {
   "cell_type": "raw",
   "metadata": {},
   "source": [
    "Note: When to use UUID is depends on the situation, use case, conditions, and complexity.\n",
    "\n",
    "1. To Generate unique Uniform Resource Names. UUIDs are of a fixed size (128 bits) \n",
    "which is reasonably small compared to other alternatives.  As you know UUID is unique \n",
    "and persistent, it is an excellent choice for Uniform Resource Names.\n",
    "2. Generating UUID doesn’t require a registration process.\n",
    "3. We can even use UUID as a transaction ID.\n",
    "4. Notable uses in cryptographic applications.\n",
    "\n",
    "In Web Application:\n",
    "1. UUID’s are also handy for generating the unique session id to help state management.\n",
    "4. To generate a User ID. If you are using auto-increment values to generate user ids \n",
    "Its very simple and easily guessed. People can use an integer value to guess and try \n",
    "to access user using user Id. However, when you use UUID, it is difficult to guess \n",
    "because UUID not created in any sequential format, so it is tough to guess its sequence."
   ]
  },
  {
   "cell_type": "markdown",
   "metadata": {},
   "source": [
    "### **getnode**"
   ]
  },
  {
   "cell_type": "raw",
   "metadata": {},
   "source": [
    "Get the hardware address as a 48-bit positive integer.\n",
    "“Hardware address” means the MAC address of a network interface."
   ]
  },
  {
   "cell_type": "code",
   "execution_count": 17,
   "metadata": {},
   "outputs": [
    {
     "name": "stdout",
     "output_type": "stream",
     "text": [
      " fcde56ff0106\n"
     ]
    }
   ],
   "source": [
    "import uuid\n",
    "\n",
    "print(f'{uuid.getnode(): x}')"
   ]
  },
  {
   "cell_type": "markdown",
   "metadata": {},
   "source": [
    "### **uuid1(node=None, clock_seq=None)**\n",
    "\n",
    "UUID1 – Generate UUID using a Host MAC address, sequence number and the current time. \n",
    "\n",
    "This version uses the IEEE 802 MAC addresses."
   ]
  },
  {
   "cell_type": "raw",
   "metadata": {},
   "source": [
    "Generate a UUID from a host ID, sequence number, and the current time. \n",
    "If node is not given, getnode() is used to obtain the hardware address. \n",
    "If clock_seq is given, it is used as the sequence number; \n",
    "otherwise a random 14-bit sequence number is chosen."
   ]
  },
  {
   "cell_type": "code",
   "execution_count": 26,
   "metadata": {},
   "outputs": [
    {
     "name": "stdout",
     "output_type": "stream",
     "text": [
      "UUID of version 1\n",
      "ed32f57e-6f4c-11ea-b7a5-fcde56ff0106\n"
     ]
    }
   ],
   "source": [
    "import uuid\n",
    "\n",
    "# make a UUID based on the host address and current time\n",
    "uuidOne = uuid.uuid1()\n",
    "print (\"UUID of version 1\")\n",
    "print(uuidOne)"
   ]
  },
  {
   "cell_type": "markdown",
   "metadata": {},
   "source": [
    "### **uuid3(namespace, name)**\n",
    "\n",
    "UUID3 and UUID 5 uses cryptographic hashing and application-provided \n",
    "\n",
    "text strings to generate UUID. UUID 3 uses MD5 hashing, and UUID 5 uses SHA-1 hashing."
   ]
  },
  {
   "cell_type": "raw",
   "metadata": {},
   "source": [
    "Generate a UUID based on the MD5 hash of a namespace identifier \n",
    "(which is a UUID) and a name (which is a string)."
   ]
  },
  {
   "cell_type": "code",
   "execution_count": null,
   "metadata": {},
   "outputs": [],
   "source": []
  },
  {
   "cell_type": "markdown",
   "metadata": {},
   "source": [
    "### **uuid4()**\n",
    "\n",
    "UUID4 uses pseudo-random number generators to generate uuid."
   ]
  },
  {
   "cell_type": "raw",
   "metadata": {},
   "source": [
    "Generate a random UUID."
   ]
  },
  {
   "cell_type": "code",
   "execution_count": null,
   "metadata": {},
   "outputs": [],
   "source": []
  },
  {
   "cell_type": "markdown",
   "metadata": {},
   "source": [
    "### **uuid5(namespace, name)**"
   ]
  },
  {
   "cell_type": "raw",
   "metadata": {},
   "source": [
    "Generate a UUID based on the SHA-1 hash of a namespace identifier (which is a UUID) \n",
    "and a name (which is a string)."
   ]
  },
  {
   "cell_type": "code",
   "execution_count": null,
   "metadata": {},
   "outputs": [],
   "source": []
  },
  {
   "cell_type": "code",
   "execution_count": null,
   "metadata": {},
   "outputs": [],
   "source": []
  }
 ],
 "metadata": {
  "kernelspec": {
   "display_name": "Python 3",
   "language": "python",
   "name": "python3"
  },
  "language_info": {
   "codemirror_mode": {
    "name": "ipython",
    "version": 3
   },
   "file_extension": ".py",
   "mimetype": "text/x-python",
   "name": "python",
   "nbconvert_exporter": "python",
   "pygments_lexer": "ipython3",
   "version": "3.6.9"
  }
 },
 "nbformat": 4,
 "nbformat_minor": 2
}
