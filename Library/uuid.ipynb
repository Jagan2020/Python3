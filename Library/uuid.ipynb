{
 "cells": [
  {
   "cell_type": "markdown",
   "metadata": {},
   "source": [
    "## **uuid**\n",
    "\n",
    "#### UUID module to generate the universally unique identifiers.\n",
    "\n",
    "https://docs.python.org/3/library/uuid.html#module-uuid"
   ]
  },
  {
   "cell_type": "raw",
   "metadata": {},
   "source": [
    "This module provides immutable UUID objects (the UUID class) and \n",
    "the functions uuid1(), uuid3(), uuid4(), uuid5() for generating \n",
    "version 1, 3, 4, and 5 UUIDs as specified in RFC 4122.\n",
    "\n",
    "If all you want is a unique ID, you should probably call uuid1() or uuid4(). \n",
    "Note that uuid1() may compromise privacy since it creates a UUID containing \n",
    "the computer’s network address. uuid4() creates a random UUID."
   ]
  },
  {
   "cell_type": "markdown",
   "metadata": {},
   "source": [
    "### **What is UUID**"
   ]
  },
  {
   "cell_type": "raw",
   "metadata": {},
   "source": [
    "UUID is a Universally Unique Identifier. \n",
    "You can also call it as GUID, i.e., Globally Unique Identifier.\n",
    "\n",
    "A UUID is 128 bits long number or ID to uniquely identify \n",
    "the documents, Users, resources or information in computer systems."
   ]
  },
  {
   "cell_type": "markdown",
   "metadata": {},
   "source": [
    "### **uuid methods**"
   ]
  },
  {
   "cell_type": "code",
   "execution_count": 9,
   "metadata": {},
   "outputs": [
    {
     "name": "stdout",
     "output_type": "stream",
     "text": [
      "uuid1          uuid3          uuid4          uuid5          \n"
     ]
    }
   ],
   "source": [
    "import uuid\n",
    "\n",
    "methods = [i for i  in dir(uuid) if i[0].islower() and i.startswith('u')]\n",
    "fmt = '{:15s}'*4\n",
    "\n",
    "for fn in zip(*[iter(methods)] *4):\n",
    "    print(fmt.format(*fn))"
   ]
  },
  {
   "cell_type": "code",
   "execution_count": 10,
   "metadata": {},
   "outputs": [
    {
     "name": "stdout",
     "output_type": "stream",
     "text": [
      "uuid1:\n",
      "Generate a UUID from a host ID, sequence number, and the current time.\n",
      "    If 'node' is not given, getnode() is used to obtain the hardware\n",
      "    address.  If 'clock_seq' is given, it is used as the sequence number;\n",
      "    otherwise a random 14-bit sequence number is chosen.\n",
      "**************************************************\n",
      "uuid3:\n",
      "Generate a UUID from the MD5 hash of a namespace UUID and a name.\n",
      "**************************************************\n",
      "uuid4:\n",
      "Generate a random UUID.\n",
      "**************************************************\n",
      "uuid5:\n",
      "Generate a UUID from the SHA-1 hash of a namespace UUID and a name.\n",
      "**************************************************\n"
     ]
    }
   ],
   "source": [
    "import uuid\n",
    "\n",
    "methods = [i for i  in dir(uuid) if i[0].islower() and i.startswith('u')]\n",
    "\n",
    "for i in methods:\n",
    "    print(i+':')\n",
    "    print(getattr(uuid,i).__doc__)\n",
    "    print('*'*50)"
   ]
  },
  {
   "cell_type": "markdown",
   "metadata": {},
   "source": [
    "### **Structure of UUID and UUID.fields**"
   ]
  },
  {
   "cell_type": "raw",
   "metadata": {},
   "source": [
    "A tuple of the six integer fields of the UUID, \n",
    "which are also available as six individual attributes \n",
    "and two derived attributes:"
   ]
  },
  {
   "cell_type": "markdown",
   "metadata": {},
   "source": [
    "#### <img src=\"suuid.png\" height=\"500\" width=\"500\" align=\"left\">"
   ]
  },
  {
   "cell_type": "markdown",
   "metadata": {},
   "source": [
    "### **Why and When to use UUID**"
   ]
  },
  {
   "cell_type": "raw",
   "metadata": {},
   "source": [
    "Note: When to use UUID is depends on the situation, use case, conditions, and complexity.\n",
    "\n",
    "1. To Generate unique Uniform Resource Names. UUIDs are of a fixed size (128 bits) \n",
    "which is reasonably small compared to other alternatives.  As you know UUID is unique \n",
    "and persistent, it is an excellent choice for Uniform Resource Names.\n",
    "2. Generating UUID doesn’t require a registration process.\n",
    "3. We can even use UUID as a transaction ID.\n",
    "4. Notable uses in cryptographic applications.\n",
    "\n",
    "In Web Application:\n",
    "1. UUID’s are also handy for generating the unique session id to help state management.\n",
    "4. To generate a User ID. If you are using auto-increment values to generate user ids \n",
    "Its very simple and easily guessed. People can use an integer value to guess and try \n",
    "to access user using user Id. However, when you use UUID, it is difficult to guess \n",
    "because UUID not created in any sequential format, so it is tough to guess its sequence."
   ]
  },
  {
   "cell_type": "markdown",
   "metadata": {},
   "source": [
    "### **getnode**"
   ]
  },
  {
   "cell_type": "raw",
   "metadata": {},
   "source": [
    "Get the hardware address as a 48-bit positive integer.\n",
    "“Hardware address” means the MAC address of a network interface."
   ]
  },
  {
   "cell_type": "code",
   "execution_count": 17,
   "metadata": {},
   "outputs": [
    {
     "name": "stdout",
     "output_type": "stream",
     "text": [
      " fcde56ff0106\n"
     ]
    }
   ],
   "source": [
    "import uuid\n",
    "\n",
    "print(f'{uuid.getnode(): x}')"
   ]
  },
  {
   "cell_type": "markdown",
   "metadata": {},
   "source": [
    "### **uuid1(node=None, clock_seq=None)**\n",
    "\n",
    "UUID1 – Generate UUID using a Host MAC address, sequence number and the current time. \n",
    "\n",
    "This version uses the IEEE 802 MAC addresses."
   ]
  },
  {
   "cell_type": "markdown",
   "metadata": {},
   "source": [
    "#### **UUID 1 to Generate a unique ID using MAC Address**"
   ]
  },
  {
   "cell_type": "raw",
   "metadata": {},
   "source": [
    "The uuid.uuid1() function is used to generate a UUID from the host ID, \n",
    "sequence number, and the current time. It uses the MAC address of a host \n",
    "as a source of uniqueness.\n",
    "\n",
    "1. The node and clock_seq are optional arguments.\n",
    "\n",
    "2. The node is the hardware address, which is a 48-bit positive integer. \n",
    "If the node not given, then uuid.getnode()  function is used to obtain\n",
    "the Universally administered MAC addresses of a current host.\n",
    "\n",
    "3. If clock_seq is given, it used as the sequence number. \n",
    "Otherwise, a random 14-bit sequence number is chosen."
   ]
  },
  {
   "cell_type": "code",
   "execution_count": 26,
   "metadata": {},
   "outputs": [
    {
     "name": "stdout",
     "output_type": "stream",
     "text": [
      "UUID of version 1\n",
      "ed32f57e-6f4c-11ea-b7a5-fcde56ff0106\n"
     ]
    }
   ],
   "source": [
    "import uuid\n",
    "\n",
    "# make a UUID based on the host address and current time\n",
    "uuidOne = uuid.uuid1()\n",
    "print (\"UUID of version 1\")\n",
    "print(uuidOne)"
   ]
  },
  {
   "cell_type": "markdown",
   "metadata": {},
   "source": [
    "#### **Generate a UUID using a clock sequence and node**"
   ]
  },
  {
   "cell_type": "code",
   "execution_count": 27,
   "metadata": {},
   "outputs": [
    {
     "name": "stdout",
     "output_type": "stream",
     "text": [
      "UUID of version one\n",
      "f0b5ef6e-6fa3-11ea-9013-ccaf789d94a0\n",
      "f0b5f89a-6fa3-11ea-9013-adaf456d94a0\n"
     ]
    }
   ],
   "source": [
    "import uuid\n",
    "\n",
    "print(\"UUID of version one\")\n",
    "clock_seq = 4115\n",
    "\n",
    "for node in [0xccaf789d94a0, 0xadaf456d94a0]:\n",
    "    print(uuid.uuid1(node, clock_seq))"
   ]
  },
  {
   "cell_type": "markdown",
   "metadata": {},
   "source": [
    "### **uuid4()**\n",
    "\n",
    "UUID4 uses pseudo-random number generators to generate uuid."
   ]
  },
  {
   "cell_type": "raw",
   "metadata": {},
   "source": [
    "Generate a random UUID.\n",
    "\n",
    "uuid4() function is created using a truly Random or Pseudo-Random generator."
   ]
  },
  {
   "cell_type": "code",
   "execution_count": 31,
   "metadata": {},
   "outputs": [
    {
     "name": "stdout",
     "output_type": "stream",
     "text": [
      "b8bcfedd-55ca-40f8-a2ea-b54b61474a88\n"
     ]
    }
   ],
   "source": [
    "import uuid\n",
    "\n",
    "print(uuid.uuid4())"
   ]
  },
  {
   "cell_type": "raw",
   "metadata": {},
   "source": [
    "UUID 3 and UUID 5 to Create a Name-Based UUID:\n",
    "Version 3 or 5 UUID meant for generating UUIDs from “names.” we can use name and namespace to create a series of a unique UUIDs. In simple words version, 3 and  5 UUIDs is nothing but hashing namespace identifier with a name.\n",
    "\n",
    "The uuid.uuid3(namespace, name) generate a UUID based on the MD5 hash of a namespace identifier (which is a UUID) and a string.\n",
    "\n",
    "Similarly, the uuid.uuid5(namespace, name) generate a UUID based on the SHA-1 hashing technique of a namespace identifier (which is a UUID) and a name.\n",
    "\n",
    "The UUID module defines the following namespace identifiers to use with uuid3() or uuid5().\n",
    "\n",
    "UUID.NAMESPACE_DNS means a fully qualified domain name. For example, https://pynative.com.\n",
    "UUID.NAMESPACE_URL When this namespace is specified, It means it is a URL.\n",
    "UUID.NAMESPACE_OID When this namespace is specified, the name string is an ISO OID.\n",
    "UUID.NAMESPACE_X500 When this namespace is specified, the name string is an X.500 DN in DER or a text output format."
   ]
  },
  {
   "cell_type": "markdown",
   "metadata": {},
   "source": [
    "### **uuid3(namespace, name)**\n",
    "\n",
    "UUID3 and UUID 5 uses cryptographic hashing and application-provided \n",
    "\n",
    "text strings to generate UUID. UUID 3 uses MD5 hashing, and UUID 5 uses SHA-1 hashing."
   ]
  },
  {
   "cell_type": "raw",
   "metadata": {},
   "source": [
    "Generate a UUID based on the MD5 hash of a namespace identifier \n",
    "(which is a UUID) and a name (which is a string)."
   ]
  },
  {
   "cell_type": "code",
   "execution_count": 35,
   "metadata": {},
   "outputs": [
    {
     "name": "stdout",
     "output_type": "stream",
     "text": [
      "6cbd995f-af93-33c9-bba2-376cf544982e\n"
     ]
    }
   ],
   "source": [
    "import uuid\n",
    "\n",
    "print(uuid.uuid3(uuid.NAMESPACE_DNS, 'joe.com'))"
   ]
  },
  {
   "cell_type": "markdown",
   "metadata": {},
   "source": [
    "### **uuid5(namespace, name)**"
   ]
  },
  {
   "cell_type": "raw",
   "metadata": {},
   "source": [
    "Generate a UUID based on the SHA-1 hash of a namespace identifier (which is a UUID) \n",
    "and a name (which is a string)."
   ]
  },
  {
   "cell_type": "code",
   "execution_count": 37,
   "metadata": {},
   "outputs": [
    {
     "name": "stdout",
     "output_type": "stream",
     "text": [
      "1c92ad3e-5bc9-56e1-9619-3a9ae18afc5b\n"
     ]
    }
   ],
   "source": [
    "import uuid\n",
    "\n",
    "print(uuid.uuid5(uuid.NAMESPACE_DNS, 'joe.com'))"
   ]
  },
  {
   "cell_type": "markdown",
   "metadata": {},
   "source": [
    "### **Extract UUID attributes read-only attributes**"
   ]
  },
  {
   "cell_type": "raw",
   "metadata": {},
   "source": [
    "UUID module provides the various read-only argument to access the value of each component of the UUID object. You can extract the values from UUID so we can use this value for a different purpose. For example, You want to Extract the time from a UUID version1 in python.\n",
    "\n",
    "UUID Read-only Attribute includes the following: –\n",
    "\n",
    "UUID.bytes: The UUID as a 16-byte string (containing the six integer fields in big-endian byte order).\n",
    "\n",
    "UUID.bytes_le: It is a 16-byte string that consists of a time_low, time_mid, and time_hi_version.\n",
    "\n",
    "UUID.fields:  A tuple of the six integer fields of the UUID, which are also available as six individual attributes and two derived attributes: \n",
    "\n",
    "UUID.hex: The UUID as a 32-character hexadecimal string.\n",
    "\n",
    "UUID.int: The integer representation of a UUID as a 128-bit integer.\n",
    "\n",
    "UUID.urn: The UUID as a uniform resource name.\n",
    "\n",
    "UUID.variant: The UUID variant, which determines the internal layout of the UUID. This will be one of the constants RESERVED_NCS, RFC_4122, RESERVED_MICROSOFT, or RESERVED_FUTURE.\n",
    "\n",
    "UUID.version: the version of UUID. anything between 1, 4, 3, and 5."
   ]
  },
  {
   "cell_type": "code",
   "execution_count": 43,
   "metadata": {},
   "outputs": [
    {
     "name": "stdout",
     "output_type": "stream",
     "text": [
      "UUID is  57258040-6fb7-11ea-b7a5-fcde56ff0106\n",
      "UUID Type is  <class 'uuid.UUID'>\n",
      "UUID.bytes   : b'W%\\x80@o\\xb7\\x11\\xea\\xb7\\xa5\\xfc\\xdeV\\xff\\x01\\x06'\n",
      "UUID.bytes_le : b'@\\x80%W\\xb7o\\xea\\x11\\xb7\\xa5\\xfc\\xdeV\\xff\\x01\\x06'\n",
      "UUID.hex     : 572580406fb711eab7a5fcde56ff0106\n",
      "UUID.int     : 115837551870659292016779076754944753926\n",
      "UUID.urn     : urn:uuid:57258040-6fb7-11ea-b7a5-fcde56ff0106\n",
      "UUID.variant : specified in RFC 4122\n",
      "UUID.version : 1\n",
      "UUID.fields  : (1462075456, 28599, 4586, 183, 165, 278031872491782)\n",
      "Prining each field seperately\n",
      "UUID.time_low            :  1462075456\n",
      "UUID.time_mid            :  28599\n",
      "UUID.time_hi_version     :  4586\n",
      "UUID.clock_seq_hi_variant:  183\n",
      "UUID.clock_seq_low       :  165\n",
      "UUID.node                :  278031872491782\n",
      "UUID.time                :  138045571819995200\n",
      "UUID.clock_seq           :  14245\n"
     ]
    }
   ],
   "source": [
    "import uuid\n",
    "\n",
    "UUID = uuid.uuid1()\n",
    "\n",
    "print(\"UUID is \", UUID)\n",
    "print(\"UUID Type is \",type(UUID))\n",
    "print('UUID.bytes   :', UUID.bytes)\n",
    "print('UUID.bytes_le :', UUID.bytes_le)\n",
    "print('UUID.hex     :', UUID.hex)\n",
    "print('UUID.int     :', UUID.int)\n",
    "print('UUID.urn     :', UUID.urn)\n",
    "print('UUID.variant :', UUID.variant)\n",
    "print('UUID.version :', UUID.version)\n",
    "print('UUID.fields  :', UUID.fields)\n",
    "print(\"Prining each field seperately\")\n",
    "print('UUID.time_low            : ', UUID.time_low)\n",
    "print('UUID.time_mid            : ', UUID.time_mid)\n",
    "print('UUID.time_hi_version     : ', UUID.time_hi_version)\n",
    "print('UUID.clock_seq_hi_variant: ', UUID.clock_seq_hi_variant)\n",
    "print('UUID.clock_seq_low       : ', UUID.clock_seq_low)\n",
    "print('UUID.node                : ', UUID.node)\n",
    "print('UUID.time                : ', UUID.time)\n",
    "print('UUID.clock_seq           : ', UUID.clock_seq)"
   ]
  },
  {
   "cell_type": "markdown",
   "metadata": {},
   "source": [
    "### **How to create UUID from String?**"
   ]
  },
  {
   "cell_type": "raw",
   "metadata": {},
   "source": [
    "uuid.UUID class to generate a valid UUID from String.\n",
    "\n",
    "The uuid.UUID is a class which returns a UUID instance when we pass the argument of UUID. \n",
    "Let assume that you have this UUID in string format {018c168c-d509-11e8-b096-ccaf789d94a0}."
   ]
  },
  {
   "cell_type": "code",
   "execution_count": 44,
   "metadata": {},
   "outputs": [
    {
     "name": "stdout",
     "output_type": "stream",
     "text": [
      "My UUID is 55da37d1-d481-11e8-9013-adaf456d94a0\n",
      "My UUID time component is 137593440591034321\n",
      "My UUID is 018c168c-d509-11e8-b096-ccaf789d94a0\n",
      "My UUID time component is 137594023292180108\n",
      "My UUID is e5e9394c-daed-498e-b9f3-69228b44fbfa\n",
      "My UUID time component is 688728508333635916\n"
     ]
    }
   ],
   "source": [
    "import uuid\n",
    "\n",
    "UUIDStrings = [\"{55da37d1-d481-11e8-9013-adaf456d94a0}\", \"018c168c-d509-11e8-b096-ccaf789d94a0\", \"urn:uuid:e5e9394c-daed-498e-b9f3-69228b44fbfa\"]\n",
    "\n",
    "for string in UUIDStrings:\n",
    "    # make a UUID from a string of hex digits (braces and hyphens ignored)\n",
    "    myUUID = uuid.UUID(string)\n",
    "    print(\"My UUID is\", myUUID)\n",
    "    print(\"My UUID time component is\", myUUID.time)"
   ]
  },
  {
   "cell_type": "markdown",
   "metadata": {},
   "source": [
    "### **Generate Reproducible UUIDs**"
   ]
  },
  {
   "cell_type": "raw",
   "metadata": {},
   "source": [
    "To Generate the same UUID anytime, you need a seed value. UUID has various attributes as we already discussed above. Using any of its attribute values, we can reproduce the same UUID. Alternatively, you can use seed value to generate the same UUID. Let see both ways.\n",
    "\n",
    "You can create a UUID instance by passing argument value to uuid.UUID class. For example, you can create a UUID instance from the following inputs: –\n",
    "\n",
    "UUID.String\n",
    "UUID.Bytes\n",
    "UUID.Bytes_le\n",
    "UUID.Fields\n",
    "UUID.int\n",
    "\n",
    "If you have any of the above values, you can generate a UUID. Let see this with an example. I have used all these values of the same UUID. therefore, the result must be the same UUID in all cases."
   ]
  },
  {
   "cell_type": "code",
   "execution_count": 45,
   "metadata": {},
   "outputs": [
    {
     "name": "stdout",
     "output_type": "stream",
     "text": [
      "Generating UUID from int\n",
      "UUID is b1d0cac0-d50d-11e8-b57b-ccaf789d94a0\n",
      "UUID from URN\n",
      "UUID is b1d0cac0-d50d-11e8-b57b-ccaf789d94a0\n",
      "UUID from bytes\n",
      "UUID is b1d0cac0-d50d-11e8-b57b-ccaf789d94a0\n",
      "UUID from bytes_len\n",
      "UUID is b1d0cac0-d50d-11e8-b57b-ccaf789d94a0\n",
      "UUID from fields\n",
      "UUID is b1d0cac0-d50d-11e8-b57b-ccaf789d94a0\n"
     ]
    }
   ],
   "source": [
    "import uuid\n",
    "\n",
    "print(\"Generating UUID from int\")\n",
    "UUID_x = uuid.UUID(int=236357465324988601727440242910546465952)\n",
    "print(\"UUID is\", UUID_x)\n",
    "\n",
    "print(\"UUID from URN\")\n",
    "UUID_x1 = uuid.UUID('urn:uuid:b1d0cac0-d50d-11e8-b57b-ccaf789d94a0')\n",
    "print(\"UUID is\", UUID_x1)\n",
    "\n",
    "print(\"UUID from bytes\")\n",
    "UUID_x2 = uuid.UUID(bytes=b'\\xb1\\xd0\\xca\\xc0\\xd5\\r\\x11\\xe8\\xb5{\\xcc\\xafx\\x9d\\x94\\xa0')\n",
    "print(\"UUID is\", UUID_x2)\n",
    "\n",
    "print(\"UUID from bytes_len\")\n",
    "UUID_x3 = uuid.UUID(bytes_le=b'\\xc0\\xca\\xd0\\xb1\\r\\xd5\\xe8\\x11\\xb5{\\xcc\\xafx\\x9d\\x94\\xa0')\n",
    "print(\"UUID is\", UUID_x3)\n",
    "\n",
    "print(\"UUID from fields\")\n",
    "UUID_x4 = uuid.UUID(fields=(2983250624, 54541, 4584, 181, 123, 225054014936224))\n",
    "print(\"UUID is\", UUID_x4)"
   ]
  },
  {
   "cell_type": "markdown",
   "metadata": {},
   "source": [
    "### **Reproduce UUID with seed**"
   ]
  },
  {
   "cell_type": "raw",
   "metadata": {},
   "source": [
    "For testing purposes, we need to generate the same UUID again, \n",
    "and again.i have used the faker module here for a seed value."
   ]
  },
  {
   "cell_type": "code",
   "execution_count": null,
   "metadata": {},
   "outputs": [],
   "source": [
    "import uuid\n",
    "from faker import Faker\n",
    "\n",
    "fakerObj = Faker()\n",
    "fakerObj.seed(8754)\n",
    "print(fakerObj.uuid4())\n",
    "\n",
    "fakerObj.seed(8754)\n",
    "print(fakerObj.uuid4())"
   ]
  },
  {
   "cell_type": "code",
   "execution_count": null,
   "metadata": {},
   "outputs": [],
   "source": []
  }
 ],
 "metadata": {
  "kernelspec": {
   "display_name": "Python 3",
   "language": "python",
   "name": "python3"
  },
  "language_info": {
   "codemirror_mode": {
    "name": "ipython",
    "version": 3
   },
   "file_extension": ".py",
   "mimetype": "text/x-python",
   "name": "python",
   "nbconvert_exporter": "python",
   "pygments_lexer": "ipython3",
   "version": "3.6.9"
  }
 },
 "nbformat": 4,
 "nbformat_minor": 2
}
