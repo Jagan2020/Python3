{
 "cells": [
  {
   "cell_type": "markdown",
   "metadata": {},
   "source": [
    "# format --- > \"{replacement field}\".format('string')"
   ]
  },
  {
   "cell_type": "raw",
   "metadata": {},
   "source": []
  },
  {
   "cell_type": "markdown",
   "metadata": {},
   "source": [
    "### esacpe chracter {{ and }}"
   ]
  },
  {
   "cell_type": "raw",
   "metadata": {},
   "source": [
    "If you need to include a brace character in the literal text, it can be escaped by doubling: {{ and }}."
   ]
  },
  {
   "cell_type": "code",
   "execution_count": 45,
   "metadata": {},
   "outputs": [
    {
     "data": {
      "text/plain": [
       "'{Hi}'"
      ]
     },
     "execution_count": 45,
     "metadata": {},
     "output_type": "execute_result"
    }
   ],
   "source": [
    "\"{{Hi}}\".format()"
   ]
  },
  {
   "cell_type": "markdown",
   "metadata": {},
   "source": [
    "###  grammar for a replacement field"
   ]
  },
  {
   "cell_type": "raw",
   "metadata": {},
   "source": [
    "replacement_field ::=  \"{\" [field_name] [\"!\" conversion] [\":\" format_spec] \"}\"\n",
    "field_name        ::=  arg_name (\".\" attribute_name | \"[\" element_index \"]\")*\n",
    "arg_name          ::=  [identifier | digit+]\n",
    "attribute_name    ::=  identifier\n",
    "element_index     ::=  digit+ | index_string\n",
    "index_string      ::=  <any source character except \"]\"> +\n",
    "conversion        ::=  \"r\" | \"s\" | \"a\"\n",
    "format_spec       ::=  <described in the next section>"
   ]
  },
  {
   "cell_type": "markdown",
   "metadata": {},
   "source": [
    "### filedname"
   ]
  },
  {
   "cell_type": "markdown",
   "metadata": {},
   "source": [
    "#### attribute_name"
   ]
  },
  {
   "cell_type": "code",
   "execution_count": 27,
   "metadata": {},
   "outputs": [
    {
     "data": {
      "text/plain": [
       "'Manavalan Micheal'"
      ]
     },
     "execution_count": 27,
     "metadata": {},
     "output_type": "execute_result"
    }
   ],
   "source": [
    "\"{firstname} {lastname}\".format(firstname = 'Manavalan', lastname = 'Micheal')"
   ]
  },
  {
   "cell_type": "markdown",
   "metadata": {},
   "source": [
    "#### Positional argument specifiers"
   ]
  },
  {
   "cell_type": "raw",
   "metadata": {},
   "source": [
    "The positional argument specifiers can be omitted for str.format(), \n",
    "so '{} {}'.format(a, b) is equivalent to '{0} {1}'.format(a, b)."
   ]
  },
  {
   "cell_type": "code",
   "execution_count": 48,
   "metadata": {},
   "outputs": [
    {
     "data": {
      "text/plain": [
       "'a b'"
      ]
     },
     "execution_count": 48,
     "metadata": {},
     "output_type": "execute_result"
    }
   ],
   "source": [
    "'{} {}'.format('a', 'b')"
   ]
  },
  {
   "cell_type": "code",
   "execution_count": 50,
   "metadata": {},
   "outputs": [
    {
     "data": {
      "text/plain": [
       "'a b'"
      ]
     },
     "execution_count": 50,
     "metadata": {},
     "output_type": "execute_result"
    }
   ],
   "source": [
    "'{0} {1}'.format('a', 'b')"
   ]
  },
  {
   "cell_type": "markdown",
   "metadata": {},
   "source": [
    "#### element_index"
   ]
  },
  {
   "cell_type": "code",
   "execution_count": 8,
   "metadata": {},
   "outputs": [
    {
     "data": {
      "text/plain": [
       "'Linux Python'"
      ]
     },
     "execution_count": 8,
     "metadata": {},
     "output_type": "execute_result"
    }
   ],
   "source": [
    "\"{0} {1}\".format('Linux','Python')"
   ]
  },
  {
   "cell_type": "markdown",
   "metadata": {},
   "source": [
    "#### index_string"
   ]
  },
  {
   "cell_type": "code",
   "execution_count": 31,
   "metadata": {},
   "outputs": [
    {
     "data": {
      "text/plain": [
       "'i'"
      ]
     },
     "execution_count": 31,
     "metadata": {},
     "output_type": "execute_result"
    }
   ],
   "source": [
    "\"{1}\".format('L','i','n','u','x')"
   ]
  },
  {
   "cell_type": "markdown",
   "metadata": {},
   "source": [
    "### conversion"
   ]
  },
  {
   "cell_type": "markdown",
   "metadata": {},
   "source": [
    "#### repr --> quote"
   ]
  },
  {
   "cell_type": "code",
   "execution_count": 16,
   "metadata": {},
   "outputs": [
    {
     "data": {
      "text/plain": [
       "\"'Linux'\""
      ]
     },
     "execution_count": 16,
     "metadata": {},
     "output_type": "execute_result"
    }
   ],
   "source": [
    "\"{!r}\".format(\"Linux\")"
   ]
  },
  {
   "cell_type": "code",
   "execution_count": 38,
   "metadata": {},
   "outputs": [
    {
     "name": "stdout",
     "output_type": "stream",
     "text": [
      "'Linux'\n"
     ]
    }
   ],
   "source": [
    "print(\"{!r}\".format(\"Linux\"))"
   ]
  },
  {
   "cell_type": "markdown",
   "metadata": {},
   "source": [
    "#### string"
   ]
  },
  {
   "cell_type": "code",
   "execution_count": 33,
   "metadata": {},
   "outputs": [
    {
     "name": "stdout",
     "output_type": "stream",
     "text": [
      "Linux\n"
     ]
    }
   ],
   "source": [
    "\"{!s}\".format(\"Linux\")"
   ]
  },
  {
   "cell_type": "code",
   "execution_count": 37,
   "metadata": {},
   "outputs": [
    {
     "name": "stdout",
     "output_type": "stream",
     "text": [
      "Linux\n"
     ]
    }
   ],
   "source": [
    "print(\"{!s}\".format(\"Linux\"))"
   ]
  },
  {
   "cell_type": "markdown",
   "metadata": {},
   "source": [
    "#### ascii"
   ]
  },
  {
   "cell_type": "code",
   "execution_count": 36,
   "metadata": {},
   "outputs": [
    {
     "data": {
      "text/plain": [
       "\"'Linux'\""
      ]
     },
     "execution_count": 36,
     "metadata": {},
     "output_type": "execute_result"
    }
   ],
   "source": [
    "\"{!a}\".format(\"Linux\")"
   ]
  },
  {
   "cell_type": "code",
   "execution_count": 35,
   "metadata": {},
   "outputs": [
    {
     "name": "stdout",
     "output_type": "stream",
     "text": [
      "'Linux'\n"
     ]
    }
   ],
   "source": [
    "print(\"{!a}\".format(\"Linux\"))"
   ]
  },
  {
   "cell_type": "markdown",
   "metadata": {},
   "source": [
    "### Some conversion examples:"
   ]
  },
  {
   "cell_type": "raw",
   "metadata": {},
   "source": [
    "\"Harold's a clever {0!s}\"        # Calls str() on the argument first\n",
    "\"Bring out the holy {name!r}\"    # Calls repr() on the argument first\n",
    "\"More {!a}\"                      # Calls ascii() on the argument first"
   ]
  },
  {
   "cell_type": "code",
   "execution_count": 54,
   "metadata": {},
   "outputs": [
    {
     "name": "stdout",
     "output_type": "stream",
     "text": [
      "Harold's a clever okay\n"
     ]
    }
   ],
   "source": [
    "print(\"Harold's a clever {0!s}\".format('okay'))"
   ]
  },
  {
   "cell_type": "code",
   "execution_count": 56,
   "metadata": {},
   "outputs": [
    {
     "data": {
      "text/plain": [
       "\"Bring out the holy 'day'\""
      ]
     },
     "execution_count": 56,
     "metadata": {},
     "output_type": "execute_result"
    }
   ],
   "source": [
    "\"Bring out the holy {name!r}\".format(name = 'day')"
   ]
  },
  {
   "cell_type": "markdown",
   "metadata": {},
   "source": [
    "### Simple format string examples:"
   ]
  },
  {
   "cell_type": "raw",
   "metadata": {},
   "source": [
    "\"First, thou shalt count to {0}\"  # References first positional argument\n",
    "\"Bring me a {}\"                   # Implicitly references the first positional argument\n",
    "\"From {} to {}\"                   # Same as \"From {0} to {1}\"\n",
    "\"My quest is {name}\"              # References keyword argument 'name'\n",
    "\"Weight in tons {0.weight}\"       # 'weight' attribute of first positional arg\n",
    "\"Units destroyed: {players[0]}\"   # First element of keyword argument 'players'."
   ]
  },
  {
   "cell_type": "markdown",
   "metadata": {},
   "source": [
    "### format specifiers"
   ]
  },
  {
   "cell_type": "raw",
   "metadata": {},
   "source": [
    "The format_spec field contains a specification of how the value should be presented, including such details as field width, alignment, padding, decimal precision and so on. Each value type can define its own “formatting mini-language” or interpretation of the format_spec."
   ]
  },
  {
   "cell_type": "markdown",
   "metadata": {},
   "source": [
    "#### Zero float means integer"
   ]
  },
  {
   "cell_type": "code",
   "execution_count": 19,
   "metadata": {},
   "outputs": [
    {
     "data": {
      "text/plain": [
       "'234'"
      ]
     },
     "execution_count": 19,
     "metadata": {},
     "output_type": "execute_result"
    }
   ],
   "source": [
    "\"{:.0f}\".format(234.1423)"
   ]
  },
  {
   "cell_type": "markdown",
   "metadata": {},
   "source": [
    "#### 1 float"
   ]
  },
  {
   "cell_type": "code",
   "execution_count": 21,
   "metadata": {},
   "outputs": [
    {
     "data": {
      "text/plain": [
       "'234.1'"
      ]
     },
     "execution_count": 21,
     "metadata": {},
     "output_type": "execute_result"
    }
   ],
   "source": [
    "\"{:.1f}\".format(234.1423)"
   ]
  },
  {
   "cell_type": "markdown",
   "metadata": {},
   "source": [
    "#### 2 float"
   ]
  },
  {
   "cell_type": "code",
   "execution_count": 22,
   "metadata": {},
   "outputs": [
    {
     "data": {
      "text/plain": [
       "'234.14'"
      ]
     },
     "execution_count": 22,
     "metadata": {},
     "output_type": "execute_result"
    }
   ],
   "source": [
    "\"{:.2f}\".format(234.1423)"
   ]
  },
  {
   "cell_type": "markdown",
   "metadata": {},
   "source": [
    "#### Percentage"
   ]
  },
  {
   "cell_type": "code",
   "execution_count": 58,
   "metadata": {},
   "outputs": [
    {
     "data": {
      "text/plain": [
       "'20.000000%'"
      ]
     },
     "execution_count": 58,
     "metadata": {},
     "output_type": "execute_result"
    }
   ],
   "source": [
    "\"{:%}\".format(20/100)"
   ]
  },
  {
   "cell_type": "code",
   "execution_count": 63,
   "metadata": {},
   "outputs": [
    {
     "data": {
      "text/plain": [
       "'20%'"
      ]
     },
     "execution_count": 63,
     "metadata": {},
     "output_type": "execute_result"
    }
   ],
   "source": [
    "\"{:.0%}\".format(20/100)"
   ]
  },
  {
   "cell_type": "markdown",
   "metadata": {},
   "source": [
    "#### thousands separator"
   ]
  },
  {
   "cell_type": "code",
   "execution_count": 26,
   "metadata": {},
   "outputs": [
    {
     "data": {
      "text/plain": [
       "'12,345,678'"
      ]
     },
     "execution_count": 26,
     "metadata": {},
     "output_type": "execute_result"
    }
   ],
   "source": [
    "\"{:,}\".format(12345678)"
   ]
  },
  {
   "cell_type": "markdown",
   "metadata": {},
   "source": [
    "## Format Specification Mini-Language"
   ]
  },
  {
   "cell_type": "raw",
   "metadata": {},
   "source": [
    "“Format specifications” are used within replacement fields contained within a format string \n",
    "to define how individual values are presented"
   ]
  },
  {
   "cell_type": "markdown",
   "metadata": {},
   "source": [
    "### The general form of a standard format specifier is:"
   ]
  },
  {
   "cell_type": "raw",
   "metadata": {},
   "source": [
    "The following options for format specifications, although some of the formatting options \n",
    "are only supported by the numeric types."
   ]
  },
  {
   "cell_type": "raw",
   "metadata": {},
   "source": [
    "format_spec     ::=  [[fill]align][sign][#][0][width][grouping_option][.precision][type]\n",
    "fill            ::=  <any character>\n",
    "align           ::=  \"<\" | \">\" | \"=\" | \"^\"\n",
    "sign            ::=  \"+\" | \"-\" | \" \"\n",
    "width           ::=  digit+\n",
    "grouping_option ::=  \"_\" | \",\"\n",
    "precision       ::=  digit+\n",
    "type            ::=  \"b\" | \"c\" | \"d\" | \"e\" | \"E\" | \"f\" | \"F\" | \"g\" | \"G\" | \"n\" | \"o\" | \"s\" | \"x\" | \"X\" | \"%\""
   ]
  },
  {
   "cell_type": "markdown",
   "metadata": {},
   "source": [
    "### fill  ::=  anycharacter"
   ]
  },
  {
   "cell_type": "code",
   "execution_count": 67,
   "metadata": {},
   "outputs": [
    {
     "name": "stdout",
     "output_type": "stream",
     "text": [
      "8\n"
     ]
    }
   ],
   "source": [
    "# No fill\n",
    "\n",
    "print(\"{}\".format(8))"
   ]
  },
  {
   "cell_type": "code",
   "execution_count": 65,
   "metadata": {},
   "outputs": [
    {
     "name": "stdout",
     "output_type": "stream",
     "text": [
      " 8\n"
     ]
    }
   ],
   "source": [
    "# filled with empty space\n",
    "\n",
    "print(\"{:2}\".format(8))"
   ]
  },
  {
   "cell_type": "code",
   "execution_count": 69,
   "metadata": {},
   "outputs": [
    {
     "name": "stdout",
     "output_type": "stream",
     "text": [
      "08\n"
     ]
    }
   ],
   "source": [
    "# filled with zero\n",
    "\n",
    "print(\"{:02}\".format(8))"
   ]
  },
  {
   "cell_type": "code",
   "execution_count": 91,
   "metadata": {},
   "outputs": [
    {
     "data": {
      "text/plain": [
       "'**********'"
      ]
     },
     "execution_count": 91,
     "metadata": {},
     "output_type": "execute_result"
    }
   ],
   "source": [
    "# filled with *\n",
    "'{:*>10}'.format('')"
   ]
  },
  {
   "cell_type": "markdown",
   "metadata": {},
   "source": [
    "### align    ::=  \"<\" | \">\" | \"=\" | \"^\""
   ]
  },
  {
   "cell_type": "raw",
   "metadata": {},
   "source": [
    "The meaning of the various alignment options is as follows:\n",
    "\n",
    "Option\tMeaning\n",
    "'<'\t    Forces the field to be left-aligned within the available space (this is the default for most objects).\n",
    "'>'\t    Forces the field to be right-aligned within the available space (this is the default for numbers).\n",
    "'='\t    Forces the padding to be placed after the sign (if any) but before the digits. This is used for printing           fields in the form ‘+000000120’. This alignment option is only valid for numeric types. It becomes the             default when ‘0’ immediately precedes the field width.\n",
    "'^'\t    Forces the field to be centered within the available space."
   ]
  },
  {
   "cell_type": "markdown",
   "metadata": {},
   "source": [
    "### sign            ::=  \"+\" | \"-\" | \" \""
   ]
  },
  {
   "cell_type": "raw",
   "metadata": {},
   "source": [
    "The sign option is only valid for number types."
   ]
  },
  {
   "cell_type": "raw",
   "metadata": {},
   "source": [
    "Option\t Meaning\n",
    "'+'\t     indicates that a sign should be used for both positive as well as negative numbers.\n",
    "'-'\t     indicates that a sign should be used only for negative numbers (this is the default behavior).\n",
    "space\t indicates that a leading space should be used on positive numbers, and a minus sign on negative numbers."
   ]
  },
  {
   "cell_type": "markdown",
   "metadata": {},
   "source": [
    "### #"
   ]
  },
  {
   "cell_type": "raw",
   "metadata": {},
   "source": [
    "The '#' option causes the “alternate form” to be used for the conversion. The alternate form is defined differently for different types. This option is only valid for integer, float, complex and Decimal types. For integers, when binary, octal, or hexadecimal output is used, this option adds the prefix respective '0b', '0o', or '0x' to the output value. For floats, complex and Decimal the alternate form causes the result of the conversion to always contain a decimal-point character, even if no digits follow it. Normally, a decimal-point character appears in the result of these conversions only if a digit follows it. In addition, for 'g' and 'G' conversions, trailing zeros are not removed from the result."
   ]
  },
  {
   "cell_type": "markdown",
   "metadata": {},
   "source": [
    "### width           ::=  digit+"
   ]
  },
  {
   "cell_type": "raw",
   "metadata": {},
   "source": [
    "width is a decimal integer defining the minimum field width. If not specified, then the \n",
    "field width will be determined by the content.\n",
    "\n",
    "When no explicit alignment is given, preceding the width field by a zero ('0') character \n",
    "enables sign-aware zero-padding for numeric types. This is equivalent to a fill character \n",
    "of '0' with an alignment type of '='."
   ]
  },
  {
   "cell_type": "markdown",
   "metadata": {},
   "source": [
    "### grouping_option ::=  \"_\" | \",\""
   ]
  },
  {
   "cell_type": "raw",
   "metadata": {},
   "source": [
    "The ',' option signals the use of a comma for a thousands separator. \n",
    "For a locale aware separator, use the 'n' integer presentation type instead.\n",
    "\n",
    "\n",
    "The '_' option signals the use of an underscore for a thousands separator for floating point \n",
    "presentation types and for integer presentation type 'd'. For integer presentation types\n",
    "'b', 'o', 'x', and 'X', underscores will be inserted every 4 digits. \n",
    "For other presentation types, specifying this option is an error."
   ]
  },
  {
   "cell_type": "markdown",
   "metadata": {},
   "source": [
    "### precision       ::=  digit+"
   ]
  },
  {
   "cell_type": "raw",
   "metadata": {},
   "source": [
    "The precision is a decimal number indicating how many digits should be displayed after \n",
    "the decimal point for a floating point value formatted with 'f' and 'F', or before and after \n",
    "the decimal point for a floating point value formatted with 'g' or 'G'. For non-number types \n",
    "the field indicates the maximum field size - in other words, how many characters will be used \n",
    "from the field content. The precision is not allowed for integer values."
   ]
  },
  {
   "cell_type": "markdown",
   "metadata": {},
   "source": [
    "### type            ::=  \"b\" | \"c\" | \"d\" | \"e\" | \"E\" | \"f\" | \"F\" | \"g\" | \"G\" | \"n\" | \"o\" | \"s\" | \"x\" | \"X\" | \"%\""
   ]
  },
  {
   "cell_type": "raw",
   "metadata": {},
   "source": [
    "The available string presentation types are:\n",
    "\n",
    "Type\tMeaning\n",
    "'s'\t    String format. This is the default type for strings and may be omitted.\n",
    "None\tThe same as 's'."
   ]
  },
  {
   "cell_type": "raw",
   "metadata": {},
   "source": [
    "The available integer presentation types are:\n",
    "\n",
    "Type\tMeaning\n",
    "'b'\t    Binary format. Outputs the number in base 2.\n",
    "'c'\t    Character. Converts the integer to the corresponding unicode character before printing.\n",
    "'d'\t    Decimal Integer. Outputs the number in base 10.\n",
    "'o'\t    Octal format. Outputs the number in base 8.\n",
    "'x'\t    Hex format. Outputs the number in base 16, using lower-case letters for the digits above 9.\n",
    "'X'\t    Hex format. Outputs the number in base 16, using upper-case letters for the digits above 9.\n",
    "'n'\t    Number. This is the same as 'd', except that it uses the current locale setting to insert the appropriate         number separator characters.\n",
    "None\tThe same as 'd'."
   ]
  },
  {
   "cell_type": "raw",
   "metadata": {},
   "source": [
    "The available presentation types for floating point and decimal values are:\n",
    "\n",
    "Type\tMeaning\n",
    "'e'\t    Exponent notation. Prints the number in scientific notation using the letter ‘e’ to indicate the exponent.         The default precision is 6.\n",
    "'E'\t    Exponent notation. Same as 'e' except it uses an upper case ‘E’ as the separator character.\n",
    "'f'\t    Fixed-point notation. Displays the number as a fixed-point number. The default precision is 6.\n",
    "'F'\t    Fixed-point notation. Same as 'f', but converts nan to NAN and inf to INF.\n",
    "'g'\t    General format. For a given precision p >= 1, this rounds the number to p significant digits and then             formats the result in either fixed-point format or in scientific notation, depending on its magnitude.\n",
    "'G'\t    General format. Same as 'g' except switches to 'E' if the number gets too large. The representations of           infinity and NaN are uppercased, too.\n",
    "'n'\t    Number. This is the same as 'g', except that it uses the current locale setting to insert the appropriate         number separator characters.\n",
    "'%'\t    Percentage. Multiplies the number by 100 and displays in fixed ('f') format, followed by a percent sign.\n",
    "None\tSimilar to 'g', except that fixed-point notation, when used, has at least one digit past the decimal               point. The default precision is as high as needed to represent the particular value. The overall effect is         to match the output of str() as altered by the other format modifiers."
   ]
  },
  {
   "cell_type": "code",
   "execution_count": null,
   "metadata": {},
   "outputs": [],
   "source": []
  },
  {
   "cell_type": "markdown",
   "metadata": {},
   "source": [
    "# Excercise"
   ]
  },
  {
   "cell_type": "markdown",
   "metadata": {},
   "source": [
    "### Accessing arguments by position:"
   ]
  },
  {
   "cell_type": "code",
   "execution_count": 73,
   "metadata": {},
   "outputs": [
    {
     "data": {
      "text/plain": [
       "'a, b, c'"
      ]
     },
     "execution_count": 73,
     "metadata": {},
     "output_type": "execute_result"
    }
   ],
   "source": [
    "'{0}, {1}, {2}'.format('a', 'b', 'c')"
   ]
  },
  {
   "cell_type": "code",
   "execution_count": 75,
   "metadata": {},
   "outputs": [
    {
     "data": {
      "text/plain": [
       "'a, b, c'"
      ]
     },
     "execution_count": 75,
     "metadata": {},
     "output_type": "execute_result"
    }
   ],
   "source": [
    "'{}, {}, {}'.format('a', 'b', 'c')  # Version 3.1+ only"
   ]
  },
  {
   "cell_type": "code",
   "execution_count": 76,
   "metadata": {},
   "outputs": [
    {
     "data": {
      "text/plain": [
       "'c, b, a'"
      ]
     },
     "execution_count": 76,
     "metadata": {},
     "output_type": "execute_result"
    }
   ],
   "source": [
    "'{2}, {1}, {0}'.format('a', 'b', 'c')"
   ]
  },
  {
   "cell_type": "code",
   "execution_count": 77,
   "metadata": {},
   "outputs": [
    {
     "data": {
      "text/plain": [
       "'c, b, a'"
      ]
     },
     "execution_count": 77,
     "metadata": {},
     "output_type": "execute_result"
    }
   ],
   "source": [
    "'{2}, {1}, {0}'.format(*'abc')      # unpacking argument sequence"
   ]
  },
  {
   "cell_type": "code",
   "execution_count": 78,
   "metadata": {},
   "outputs": [
    {
     "data": {
      "text/plain": [
       "'abracadabra'"
      ]
     },
     "execution_count": 78,
     "metadata": {},
     "output_type": "execute_result"
    }
   ],
   "source": [
    "'{0}{1}{0}'.format('abra', 'cad')   # arguments' indices can be repeated"
   ]
  },
  {
   "cell_type": "code",
   "execution_count": 81,
   "metadata": {},
   "outputs": [
    {
     "data": {
      "text/plain": [
       "'Manavalan Micheal'"
      ]
     },
     "execution_count": 81,
     "metadata": {},
     "output_type": "execute_result"
    }
   ],
   "source": [
    "firstname = 'Manavalan' \n",
    "lastname = 'Micheal'\n",
    "\"{} {}\".format(firstname, lastname)"
   ]
  },
  {
   "cell_type": "markdown",
   "metadata": {},
   "source": [
    "### Accessing arguments by name:"
   ]
  },
  {
   "cell_type": "code",
   "execution_count": 80,
   "metadata": {},
   "outputs": [
    {
     "data": {
      "text/plain": [
       "'Manavalan Micheal'"
      ]
     },
     "execution_count": 80,
     "metadata": {},
     "output_type": "execute_result"
    }
   ],
   "source": [
    "\"{firstname} {lastname}\".format(firstname = 'Manavalan', lastname = 'Micheal')"
   ]
  },
  {
   "cell_type": "code",
   "execution_count": 83,
   "metadata": {},
   "outputs": [
    {
     "data": {
      "text/plain": [
       "'Manavalan Micheal'"
      ]
     },
     "execution_count": 83,
     "metadata": {},
     "output_type": "execute_result"
    }
   ],
   "source": [
    "name = {'firstname': 'Manavalan','lastname': 'Micheal'}\n",
    "\"{firstname} {lastname}\".format(**name)\n"
   ]
  },
  {
   "cell_type": "markdown",
   "metadata": {},
   "source": [
    "### Accessing arguments’ attributes:"
   ]
  },
  {
   "cell_type": "code",
   "execution_count": 85,
   "metadata": {},
   "outputs": [
    {
     "data": {
      "text/plain": [
       "'The complex number (3-5j) is formed from the real part 3.0 and the imaginary part -5.0.'"
      ]
     },
     "execution_count": 85,
     "metadata": {},
     "output_type": "execute_result"
    }
   ],
   "source": [
    "c = 3-5j \n",
    "('The complex number {0} is formed from the real part {0.real} and the imaginary part {0.imag}.').format(c)"
   ]
  },
  {
   "cell_type": "code",
   "execution_count": 86,
   "metadata": {},
   "outputs": [
    {
     "data": {
      "text/plain": [
       "'Point(4, 2)'"
      ]
     },
     "execution_count": 86,
     "metadata": {},
     "output_type": "execute_result"
    }
   ],
   "source": [
    "class Point:\n",
    "    def __init__(self, x, y):\n",
    "        self.x, self.y = x, y\n",
    "    def __str__(self):\n",
    "        return 'Point({self.x}, {self.y})'.format(self=self)\n",
    "\n",
    "str(Point(4, 2))"
   ]
  },
  {
   "cell_type": "markdown",
   "metadata": {},
   "source": [
    "### Accessing arguments’ items:"
   ]
  },
  {
   "cell_type": "code",
   "execution_count": 87,
   "metadata": {},
   "outputs": [
    {
     "data": {
      "text/plain": [
       "'X: 3;  Y: 5'"
      ]
     },
     "execution_count": 87,
     "metadata": {},
     "output_type": "execute_result"
    }
   ],
   "source": [
    "coord = (3, 5)\n",
    "'X: {0[0]};  Y: {0[1]}'.format(coord)"
   ]
  },
  {
   "cell_type": "markdown",
   "metadata": {},
   "source": [
    "### Replacing %s and %r:"
   ]
  },
  {
   "cell_type": "code",
   "execution_count": 88,
   "metadata": {},
   "outputs": [
    {
     "data": {
      "text/plain": [
       "\"repr() shows quotes: 'test1'; str() doesn't: test2\""
      ]
     },
     "execution_count": 88,
     "metadata": {},
     "output_type": "execute_result"
    }
   ],
   "source": [
    "\"repr() shows quotes: {!r}; str() doesn't: {!s}\".format('test1', 'test2')"
   ]
  },
  {
   "cell_type": "code",
   "execution_count": null,
   "metadata": {},
   "outputs": [],
   "source": []
  },
  {
   "cell_type": "code",
   "execution_count": null,
   "metadata": {},
   "outputs": [],
   "source": []
  },
  {
   "cell_type": "code",
   "execution_count": null,
   "metadata": {},
   "outputs": [],
   "source": []
  },
  {
   "cell_type": "code",
   "execution_count": null,
   "metadata": {},
   "outputs": [],
   "source": []
  },
  {
   "cell_type": "markdown",
   "metadata": {},
   "source": [
    "### How to unpack str,list,dict and format?"
   ]
  },
  {
   "cell_type": "code",
   "execution_count": 72,
   "metadata": {},
   "outputs": [
    {
     "data": {
      "text/plain": [
       "'c, b, a'"
      ]
     },
     "execution_count": 72,
     "metadata": {},
     "output_type": "execute_result"
    }
   ],
   "source": [
    "'{2}, {1}, {0}'.format(*'abc')  # unpacking argument sequence"
   ]
  },
  {
   "cell_type": "code",
   "execution_count": 1,
   "metadata": {},
   "outputs": [
    {
     "name": "stdout",
     "output_type": "stream",
     "text": [
      "1 F 32\n"
     ]
    }
   ],
   "source": [
    "li = ['1', 'F', '32']\n",
    "\n",
    "print('{} {} {}'.format(*li))"
   ]
  },
  {
   "cell_type": "code",
   "execution_count": 84,
   "metadata": {},
   "outputs": [
    {
     "data": {
      "text/plain": [
       "'Manavalan Micheal'"
      ]
     },
     "execution_count": 84,
     "metadata": {},
     "output_type": "execute_result"
    }
   ],
   "source": [
    "name = {'firstname': 'Manavalan','lastname': 'Micheal'}\n",
    "\"{firstname} {lastname}\".format(**name)"
   ]
  },
  {
   "cell_type": "markdown",
   "metadata": {},
   "source": [
    "### How to use indexing in format?"
   ]
  },
  {
   "cell_type": "code",
   "execution_count": 2,
   "metadata": {},
   "outputs": [
    {
     "data": {
      "text/plain": [
       "'Bin: 11001; Oct: 31'"
      ]
     },
     "execution_count": 2,
     "metadata": {},
     "output_type": "execute_result"
    }
   ],
   "source": [
    "\"Bin: {0:b}; Oct: {0:o}\".format(25)"
   ]
  },
  {
   "cell_type": "markdown",
   "metadata": {},
   "source": [
    "### How to convert Binary,Octal,Hexadecimal from integer?"
   ]
  },
  {
   "cell_type": "code",
   "execution_count": 3,
   "metadata": {},
   "outputs": [
    {
     "data": {
      "text/plain": [
       "'Bin: 1001101; Oct: 115; Hex:4D'"
      ]
     },
     "execution_count": 3,
     "metadata": {},
     "output_type": "execute_result"
    }
   ],
   "source": [
    "\"Bin: {0:b}; Oct: {0:o}; Hex:{0:X}\".format(77)"
   ]
  },
  {
   "cell_type": "code",
   "execution_count": null,
   "metadata": {},
   "outputs": [],
   "source": []
  }
 ],
 "metadata": {
  "kernelspec": {
   "display_name": "Python 3",
   "language": "python",
   "name": "python3"
  },
  "language_info": {
   "codemirror_mode": {
    "name": "ipython",
    "version": 3
   },
   "file_extension": ".py",
   "mimetype": "text/x-python",
   "name": "python",
   "nbconvert_exporter": "python",
   "pygments_lexer": "ipython3",
   "version": "3.5.2"
  }
 },
 "nbformat": 4,
 "nbformat_minor": 2
}
