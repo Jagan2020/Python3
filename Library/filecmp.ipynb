{
 "cells": [
  {
   "cell_type": "markdown",
   "metadata": {},
   "source": [
    "# filecmp - File and Directory Comparisons"
   ]
  },
  {
   "cell_type": "code",
   "execution_count": 10,
   "metadata": {},
   "outputs": [
    {
     "name": "stdout",
     "output_type": "stream",
     "text": [
      "Help on module filecmp:\n",
      "\n",
      "NAME\n",
      "    filecmp - Utilities for comparing files and directories.\n",
      "\n",
      "MODULE REFERENCE\n",
      "    https://docs.python.org/3.5/library/filecmp.html\n",
      "    \n",
      "    The following documentation is automatically generated from the Python\n",
      "    source files.  It may be incomplete, incorrect or include features that\n",
      "    are considered implementation detail and may vary between Python\n",
      "    implementations.  When in doubt, consult the module reference at the\n",
      "    location listed above.\n",
      "\n",
      "DESCRIPTION\n",
      "    Classes:\n",
      "        dircmp\n",
      "    \n",
      "    Functions:\n",
      "        cmp(f1, f2, shallow=True) -> int\n",
      "        cmpfiles(a, b, common) -> ([], [], [])\n",
      "        clear_cache()\n",
      "\n",
      "CLASSES\n",
      "    builtins.object\n",
      "        dircmp\n",
      "    \n",
      "    class dircmp(builtins.object)\n",
      "     |  A class that manages the comparison of 2 directories.\n",
      "     |  \n",
      "     |  dircmp(a, b, ignore=None, hide=None)\n",
      "     |    A and B are directories.\n",
      "     |    IGNORE is a list of names to ignore,\n",
      "     |      defaults to DEFAULT_IGNORES.\n",
      "     |    HIDE is a list of names to hide,\n",
      "     |      defaults to [os.curdir, os.pardir].\n",
      "     |  \n",
      "     |  High level usage:\n",
      "     |    x = dircmp(dir1, dir2)\n",
      "     |    x.report() -> prints a report on the differences between dir1 and dir2\n",
      "     |     or\n",
      "     |    x.report_partial_closure() -> prints report on differences between dir1\n",
      "     |          and dir2, and reports on common immediate subdirectories.\n",
      "     |    x.report_full_closure() -> like report_partial_closure,\n",
      "     |          but fully recursive.\n",
      "     |  \n",
      "     |  Attributes:\n",
      "     |   left_list, right_list: The files in dir1 and dir2,\n",
      "     |      filtered by hide and ignore.\n",
      "     |   common: a list of names in both dir1 and dir2.\n",
      "     |   left_only, right_only: names only in dir1, dir2.\n",
      "     |   common_dirs: subdirectories in both dir1 and dir2.\n",
      "     |   common_files: files in both dir1 and dir2.\n",
      "     |   common_funny: names in both dir1 and dir2 where the type differs between\n",
      "     |      dir1 and dir2, or the name is not stat-able.\n",
      "     |   same_files: list of identical files.\n",
      "     |   diff_files: list of filenames which differ.\n",
      "     |   funny_files: list of files which could not be compared.\n",
      "     |   subdirs: a dictionary of dircmp objects, keyed by names in common_dirs.\n",
      "     |  \n",
      "     |  Methods defined here:\n",
      "     |  \n",
      "     |  __getattr__(self, attr)\n",
      "     |  \n",
      "     |  __init__(self, a, b, ignore=None, hide=None)\n",
      "     |      Initialize self.  See help(type(self)) for accurate signature.\n",
      "     |  \n",
      "     |  phase0(self)\n",
      "     |  \n",
      "     |  phase1(self)\n",
      "     |  \n",
      "     |  phase2(self)\n",
      "     |  \n",
      "     |  phase3(self)\n",
      "     |  \n",
      "     |  phase4(self)\n",
      "     |  \n",
      "     |  phase4_closure(self)\n",
      "     |  \n",
      "     |  report(self)\n",
      "     |  \n",
      "     |  report_full_closure(self)\n",
      "     |  \n",
      "     |  report_partial_closure(self)\n",
      "     |  \n",
      "     |  ----------------------------------------------------------------------\n",
      "     |  Data descriptors defined here:\n",
      "     |  \n",
      "     |  __dict__\n",
      "     |      dictionary for instance variables (if defined)\n",
      "     |  \n",
      "     |  __weakref__\n",
      "     |      list of weak references to the object (if defined)\n",
      "     |  \n",
      "     |  ----------------------------------------------------------------------\n",
      "     |  Data and other attributes defined here:\n",
      "     |  \n",
      "     |  methodmap = {'common': <function dircmp.phase1>, 'common_dirs': <funct...\n",
      "\n",
      "FUNCTIONS\n",
      "    clear_cache()\n",
      "        Clear the filecmp cache.\n",
      "    \n",
      "    cmp(f1, f2, shallow=True)\n",
      "        Compare two files.\n",
      "        \n",
      "        Arguments:\n",
      "        \n",
      "        f1 -- First file name\n",
      "        \n",
      "        f2 -- Second file name\n",
      "        \n",
      "        shallow -- Just check stat signature (do not read the files).\n",
      "                   defaults to True.\n",
      "        \n",
      "        Return value:\n",
      "        \n",
      "        True if the files are the same, False otherwise.\n",
      "        \n",
      "        This function uses a cache for past comparisons and the results,\n",
      "        with cache entries invalidated if their stat information\n",
      "        changes.  The cache may be cleared by calling clear_cache().\n",
      "    \n",
      "    cmpfiles(a, b, common, shallow=True)\n",
      "        Compare common files in two directories.\n",
      "        \n",
      "        a, b -- directory names\n",
      "        common -- list of file names found in both directories\n",
      "        shallow -- if true, do comparison based solely on stat() information\n",
      "        \n",
      "        Returns a tuple of three lists:\n",
      "          files that compare equal\n",
      "          files that are different\n",
      "          filenames that aren't regular files.\n",
      "\n",
      "DATA\n",
      "    DEFAULT_IGNORES = ['RCS', 'CVS', 'tags', '.git', '.hg', '.bzr', '_darc...\n",
      "    __all__ = ['clear_cache', 'cmp', 'dircmp', 'cmpfiles', 'DEFAULT_IGNORE...\n",
      "\n",
      "FILE\n",
      "    /usr/lib/python3.5/filecmp.py\n",
      "\n",
      "\n"
     ]
    }
   ],
   "source": [
    "import filecmp\n",
    "\n",
    "help(filecmp)"
   ]
  },
  {
   "cell_type": "code",
   "execution_count": 13,
   "metadata": {},
   "outputs": [
    {
     "data": {
      "text/plain": [
       "['BUFSIZE',\n",
       " 'DEFAULT_IGNORES',\n",
       " '__all__',\n",
       " '__builtins__',\n",
       " '__cached__',\n",
       " '__doc__',\n",
       " '__file__',\n",
       " '__loader__',\n",
       " '__name__',\n",
       " '__package__',\n",
       " '__spec__',\n",
       " '_cache',\n",
       " '_cmp',\n",
       " '_do_cmp',\n",
       " '_filter',\n",
       " '_sig',\n",
       " 'clear_cache',\n",
       " 'cmp',\n",
       " 'cmpfiles',\n",
       " 'demo',\n",
       " 'dircmp',\n",
       " 'filterfalse',\n",
       " 'os',\n",
       " 'stat']"
      ]
     },
     "execution_count": 13,
     "metadata": {},
     "output_type": "execute_result"
    }
   ],
   "source": [
    "import filecmp\n",
    "\n",
    "dir(filecmp)"
   ]
  },
  {
   "cell_type": "code",
   "execution_count": 14,
   "metadata": {},
   "outputs": [
    {
     "data": {
      "text/plain": [
       "['__class__',\n",
       " '__delattr__',\n",
       " '__dict__',\n",
       " '__dir__',\n",
       " '__doc__',\n",
       " '__eq__',\n",
       " '__format__',\n",
       " '__ge__',\n",
       " '__getattr__',\n",
       " '__getattribute__',\n",
       " '__gt__',\n",
       " '__hash__',\n",
       " '__init__',\n",
       " '__le__',\n",
       " '__lt__',\n",
       " '__module__',\n",
       " '__ne__',\n",
       " '__new__',\n",
       " '__reduce__',\n",
       " '__reduce_ex__',\n",
       " '__repr__',\n",
       " '__setattr__',\n",
       " '__sizeof__',\n",
       " '__str__',\n",
       " '__subclasshook__',\n",
       " '__weakref__',\n",
       " 'methodmap',\n",
       " 'phase0',\n",
       " 'phase1',\n",
       " 'phase2',\n",
       " 'phase3',\n",
       " 'phase4',\n",
       " 'phase4_closure',\n",
       " 'report',\n",
       " 'report_full_closure',\n",
       " 'report_partial_closure']"
      ]
     },
     "execution_count": 14,
     "metadata": {},
     "output_type": "execute_result"
    }
   ],
   "source": [
    "from filecmp import dircmp\n",
    "\n",
    "dir(dircmp)"
   ]
  },
  {
   "cell_type": "markdown",
   "metadata": {},
   "source": [
    "### cmp(f1, f2, shallow=True)\n",
    "Compare file contents."
   ]
  },
  {
   "cell_type": "code",
   "execution_count": 17,
   "metadata": {},
   "outputs": [
    {
     "data": {
      "text/plain": [
       "True"
      ]
     },
     "execution_count": 17,
     "metadata": {},
     "output_type": "execute_result"
    }
   ],
   "source": [
    "import filecmp\n",
    "\n",
    "filecmp.clear_cache()\n",
    "f1 = '/home/mana/Temp/task1/btheme.txt'\n",
    "f2 = '/home/mana/Temp/task2/theme.txt'\n",
    "filecmp.cmp(f1, f2)"
   ]
  },
  {
   "cell_type": "markdown",
   "metadata": {},
   "source": [
    "### cmpfiles(dir1, dir2, common, shallow=True)\n",
    "Compare the files in the two directories dir1 and dir2 whose names are given by common files.\n",
    "\n",
    "Returns three lists of file names: match, mismatch, errors. \n",
    "\n",
    "match contains the list of files that match, mismatch contains the names of those that don’t, and \n",
    "\n",
    "errors lists the names of files which could not be compared. Files are listed in errors if they don’t exist in one of the directories, the user lacks permission to read them or if the comparison could not be done for some other reason."
   ]
  },
  {
   "cell_type": "code",
   "execution_count": 24,
   "metadata": {},
   "outputs": [
    {
     "data": {
      "text/plain": [
       "(['theme.txt'], [], [])"
      ]
     },
     "execution_count": 24,
     "metadata": {},
     "output_type": "execute_result"
    }
   ],
   "source": [
    "import filecmp\n",
    "\n",
    "filecmp.clear_cache()\n",
    "d1 = '/home/mana/Temp/task1'\n",
    "d2 = '/home/mana/Temp/task2'\n",
    "filecmp.cmpfiles(d1, d2, ['theme.txt'])"
   ]
  },
  {
   "cell_type": "markdown",
   "metadata": {},
   "source": [
    "### How to Check both directories files have same content?"
   ]
  },
  {
   "cell_type": "raw",
   "metadata": {},
   "source": [
    "Compare the files in the two directories dir1 and dir2 whose names are given by common files.\n",
    "Returns three lists of file names: match, mismatch, errors.\n",
    "\n",
    "match contains the list of files that match, mismatch contains the names of those that don’t, and\n",
    "errors lists the names of files which could not be compared.\n",
    "\n",
    "Files are listed in errors if they don’t exist in one of the directories,\n",
    "the user lacks permission to read them or if the comparison could not be done for some other reason.\n"
   ]
  },
  {
   "cell_type": "code",
   "execution_count": 6,
   "metadata": {},
   "outputs": [
    {
     "name": "stdout",
     "output_type": "stream",
     "text": [
      "[] [] ['pack.txt']\n"
     ]
    }
   ],
   "source": [
    "from pathlib import Path\n",
    "import filecmp\n",
    "\n",
    "filecmp.clear_cache()\n",
    "source = Path('/home/mana/test1')\n",
    "dest = Path('/home/mana/test2')\n",
    "matched, unmatched, err = filecmp.cmpfiles(str(source), str(dest), \n",
    "                             [i.name for i in source.rglob('*')])\n",
    "print(matched, unmatched, err)"
   ]
  },
  {
   "cell_type": "markdown",
   "metadata": {},
   "source": [
    "### clear_cache()\n",
    "Clear the filecmp cache. \n",
    "\n",
    "cmp function uses a cache for past comparisons and the results, with cache entries invalidated if the os.stat() information for the file changes. \n",
    "\n",
    "The entire cache may be cleared using clear_cache()."
   ]
  },
  {
   "cell_type": "code",
   "execution_count": 66,
   "metadata": {},
   "outputs": [
    {
     "data": {
      "text/plain": [
       "True"
      ]
     },
     "execution_count": 66,
     "metadata": {},
     "output_type": "execute_result"
    }
   ],
   "source": [
    "import filecmp\n",
    "\n",
    "filecmp.clear_cache()\n",
    "f1 = '/home/mana/Temp/task1/btheme.txt'\n",
    "f2 = '/home/mana/Temp/task2/theme.txt'\n",
    "filecmp.cmp(f1, f2)"
   ]
  },
  {
   "cell_type": "markdown",
   "metadata": {},
   "source": [
    "## dircmp class\n",
    "\n"
   ]
  },
  {
   "cell_type": "markdown",
   "metadata": {},
   "source": [
    "### dircmp(a, b, ignore=None, hide=None)\n",
    "compare the directories a and b."
   ]
  },
  {
   "cell_type": "code",
   "execution_count": 6,
   "metadata": {},
   "outputs": [
    {
     "name": "stdout",
     "output_type": "stream",
     "text": [
      "diff /home/mana/Temp/task1 /home/mana/Temp/task2\n",
      "Only in /home/mana/Temp/task1 : ['btheme.txt']\n",
      "Only in /home/mana/Temp/task2 : ['Ad-Mate Menu Color', 'assets.svg', 'render-bits.sh', 'theme.txt']\n"
     ]
    }
   ],
   "source": [
    "import filecmp\n",
    "\n",
    "filecmp.clear_cache()\n",
    "d1 = '/home/mana/Temp/task1'\n",
    "d2 = '/home/mana/Temp/task2'\n",
    "filecmp.dircmp(d1, d2).report()"
   ]
  },
  {
   "cell_type": "markdown",
   "metadata": {},
   "source": [
    "### report()"
   ]
  },
  {
   "cell_type": "code",
   "execution_count": 12,
   "metadata": {},
   "outputs": [
    {
     "name": "stdout",
     "output_type": "stream",
     "text": [
      "diff /home/mana/Temp/task1 /home/mana/Temp/task2\n",
      "Only in /home/mana/Temp/task1 : ['btheme.txt']\n",
      "Only in /home/mana/Temp/task2 : ['Ad-Mate Menu Color', 'assets.svg', 'render-bits.sh', 'theme.txt']\n"
     ]
    }
   ],
   "source": [
    "import filecmp\n",
    "\n",
    "filecmp.clear_cache()\n",
    "d1 = '/home/mana/Temp/task1'\n",
    "d2 = '/home/mana/Temp/task2'\n",
    "filecmp.dircmp(d1, d2).report()"
   ]
  },
  {
   "cell_type": "code",
   "execution_count": 19,
   "metadata": {},
   "outputs": [
    {
     "name": "stdout",
     "output_type": "stream",
     "text": [
      "diff /home/mana/Temp/task1 /home/mana/Temp/task2\n",
      "Only in /home/mana/Temp/task1 : ['btheme.txt']\n",
      "Only in /home/mana/Temp/task2 : ['assets.svg', 'render-bits.sh', 'theme.txt']\n"
     ]
    }
   ],
   "source": [
    "import filecmp\n",
    "\n",
    "filecmp.clear_cache()\n",
    "d1 = '/home/mana/Temp/task1'\n",
    "d2 = '/home/mana/Temp/task2'\n",
    "x = filecmp.dircmp(d1, d2)\n",
    "x.report()"
   ]
  },
  {
   "cell_type": "markdown",
   "metadata": {},
   "source": [
    "### report_partial_closure()\n",
    "Print a comparison between a and b and common immediate subdirectories.\n"
   ]
  },
  {
   "cell_type": "code",
   "execution_count": 8,
   "metadata": {},
   "outputs": [
    {
     "name": "stdout",
     "output_type": "stream",
     "text": [
      "diff /home/mana/Temp/task1 /home/mana/Temp/task2\n",
      "Only in /home/mana/Temp/task1 : ['btheme.txt']\n",
      "Only in /home/mana/Temp/task2 : ['Ad-Mate Menu Color', 'assets.svg', 'render-bits.sh', 'theme.txt']\n"
     ]
    }
   ],
   "source": [
    "import filecmp\n",
    "\n",
    "filecmp.clear_cache()\n",
    "d1 = '/home/mana/Temp/task1'\n",
    "d2 = '/home/mana/Temp/task2'\n",
    "filecmp.dircmp(d1, d2).report_partial_closure()"
   ]
  },
  {
   "cell_type": "markdown",
   "metadata": {},
   "source": [
    "### report_full_closure()\n",
    "Print a comparison between a and b and common subdirectories (recursively)."
   ]
  },
  {
   "cell_type": "code",
   "execution_count": 9,
   "metadata": {},
   "outputs": [
    {
     "name": "stdout",
     "output_type": "stream",
     "text": [
      "diff /home/mana/Temp/task1 /home/mana/Temp/task2\n",
      "Only in /home/mana/Temp/task1 : ['btheme.txt']\n",
      "Only in /home/mana/Temp/task2 : ['Ad-Mate Menu Color', 'assets.svg', 'render-bits.sh', 'theme.txt']\n"
     ]
    }
   ],
   "source": [
    "import filecmp\n",
    "\n",
    "filecmp.clear_cache()\n",
    "d1 = '/home/mana/Temp/task1'\n",
    "d2 = '/home/mana/Temp/task2'\n",
    "filecmp.dircmp(d1, d2).report_full_closure()"
   ]
  },
  {
   "cell_type": "markdown",
   "metadata": {},
   "source": [
    "## dircmp class variables"
   ]
  },
  {
   "cell_type": "markdown",
   "metadata": {},
   "source": [
    "### left\n",
    "The directory a."
   ]
  },
  {
   "cell_type": "code",
   "execution_count": 15,
   "metadata": {},
   "outputs": [
    {
     "data": {
      "text/plain": [
       "'/home/mana/Temp/task1'"
      ]
     },
     "execution_count": 15,
     "metadata": {},
     "output_type": "execute_result"
    }
   ],
   "source": [
    "import filecmp\n",
    "\n",
    "filecmp.clear_cache()\n",
    "d1 = '/home/mana/Temp/task1'\n",
    "d2 = '/home/mana/Temp/task2'\n",
    "x = filecmp.dircmp(d1, d2)\n",
    "x.left"
   ]
  },
  {
   "cell_type": "markdown",
   "metadata": {},
   "source": [
    "### right\n",
    "The directory b."
   ]
  },
  {
   "cell_type": "code",
   "execution_count": 18,
   "metadata": {},
   "outputs": [
    {
     "data": {
      "text/plain": [
       "'/home/mana/Temp/task2'"
      ]
     },
     "execution_count": 18,
     "metadata": {},
     "output_type": "execute_result"
    }
   ],
   "source": [
    "import filecmp\n",
    "\n",
    "filecmp.clear_cache()\n",
    "d1 = '/home/mana/Temp/task1'\n",
    "d2 = '/home/mana/Temp/task2'\n",
    "x = filecmp.dircmp(d1, d2)\n",
    "x.right"
   ]
  },
  {
   "cell_type": "markdown",
   "metadata": {},
   "source": [
    "### left_list\n",
    "Files and subdirectories in a, filtered by hide and ignore."
   ]
  },
  {
   "cell_type": "code",
   "execution_count": 20,
   "metadata": {},
   "outputs": [
    {
     "data": {
      "text/plain": [
       "['btheme.txt']"
      ]
     },
     "execution_count": 20,
     "metadata": {},
     "output_type": "execute_result"
    }
   ],
   "source": [
    "import filecmp\n",
    "\n",
    "filecmp.clear_cache()\n",
    "d1 = '/home/mana/Temp/task1'\n",
    "d2 = '/home/mana/Temp/task2'\n",
    "x = filecmp.dircmp(d1, d2)\n",
    "x.left_list"
   ]
  },
  {
   "cell_type": "markdown",
   "metadata": {},
   "source": [
    "### right_list\n",
    "Files and subdirectories in b, filtered by hide and ignore.\n",
    "\n"
   ]
  },
  {
   "cell_type": "code",
   "execution_count": 21,
   "metadata": {},
   "outputs": [
    {
     "data": {
      "text/plain": [
       "['assets.svg', 'render-bits.sh', 'theme.txt']"
      ]
     },
     "execution_count": 21,
     "metadata": {},
     "output_type": "execute_result"
    }
   ],
   "source": [
    "import filecmp\n",
    "\n",
    "filecmp.clear_cache()\n",
    "d1 = '/home/mana/Temp/task1'\n",
    "d2 = '/home/mana/Temp/task2'\n",
    "x = filecmp.dircmp(d1, d2)\n",
    "x.right_list"
   ]
  },
  {
   "cell_type": "markdown",
   "metadata": {},
   "source": [
    "### common_files\n",
    "Files in both a and b.It checks only file name not contents."
   ]
  },
  {
   "cell_type": "code",
   "execution_count": 40,
   "metadata": {},
   "outputs": [
    {
     "data": {
      "text/plain": [
       "['theme.txt']"
      ]
     },
     "execution_count": 40,
     "metadata": {},
     "output_type": "execute_result"
    }
   ],
   "source": [
    "import filecmp\n",
    "\n",
    "filecmp.clear_cache()\n",
    "d1 = '/home/mana/Temp/task1'\n",
    "d2 = '/home/mana/Temp/task2'\n",
    "x = filecmp.dircmp(d1, d2)\n",
    "x.common"
   ]
  },
  {
   "cell_type": "markdown",
   "metadata": {},
   "source": [
    "### left_only\n",
    "Files and subdirectories only in a."
   ]
  },
  {
   "cell_type": "code",
   "execution_count": 35,
   "metadata": {},
   "outputs": [
    {
     "data": {
      "text/plain": [
       "[]"
      ]
     },
     "execution_count": 35,
     "metadata": {},
     "output_type": "execute_result"
    }
   ],
   "source": [
    "import filecmp\n",
    "\n",
    "filecmp.clear_cache()\n",
    "d1 = '/home/mana/Temp/task1'\n",
    "d2 = '/home/mana/Temp/task2'\n",
    "x = filecmp.dircmp(d1, d2)\n",
    "x.left_only"
   ]
  },
  {
   "cell_type": "markdown",
   "metadata": {},
   "source": [
    "### right_only\n",
    "Files and subdirectories only in b.\n",
    "\n"
   ]
  },
  {
   "cell_type": "code",
   "execution_count": 36,
   "metadata": {},
   "outputs": [
    {
     "data": {
      "text/plain": [
       "['render-bits.sh', 'assets.svg']"
      ]
     },
     "execution_count": 36,
     "metadata": {},
     "output_type": "execute_result"
    }
   ],
   "source": [
    "import filecmp\n",
    "\n",
    "filecmp.clear_cache()\n",
    "d1 = '/home/mana/Temp/task1'\n",
    "d2 = '/home/mana/Temp/task2'\n",
    "x = filecmp.dircmp(d1, d2)\n",
    "x.right_only"
   ]
  },
  {
   "cell_type": "markdown",
   "metadata": {},
   "source": [
    "### common_dirs\n",
    "Subdirectories in both a and b.\n",
    "\n"
   ]
  },
  {
   "cell_type": "code",
   "execution_count": 60,
   "metadata": {},
   "outputs": [
    {
     "data": {
      "text/plain": [
       "['rust']"
      ]
     },
     "execution_count": 60,
     "metadata": {},
     "output_type": "execute_result"
    }
   ],
   "source": [
    "import filecmp\n",
    "\n",
    "filecmp.clear_cache()\n",
    "d1 = '/home/mana/Temp/task1'\n",
    "d2 = '/home/mana/Temp/task2'\n",
    "x = filecmp.dircmp(d1, d2)\n",
    "x.common_dirs"
   ]
  },
  {
   "cell_type": "markdown",
   "metadata": {},
   "source": [
    "### common_files\n",
    "Files in both a and b.\n",
    "\n"
   ]
  },
  {
   "cell_type": "code",
   "execution_count": 43,
   "metadata": {},
   "outputs": [
    {
     "data": {
      "text/plain": [
       "['theme.txt']"
      ]
     },
     "execution_count": 43,
     "metadata": {},
     "output_type": "execute_result"
    }
   ],
   "source": [
    "import filecmp\n",
    "\n",
    "filecmp.clear_cache()\n",
    "d1 = '/home/mana/Temp/task1'\n",
    "d2 = '/home/mana/Temp/task2'\n",
    "x = filecmp.dircmp(d1, d2)\n",
    "x.common_files"
   ]
  },
  {
   "cell_type": "markdown",
   "metadata": {},
   "source": [
    "### common_funny\n",
    "Names in both a and b, such that the type differs between the directories, or names.\n"
   ]
  },
  {
   "cell_type": "code",
   "execution_count": 42,
   "metadata": {},
   "outputs": [
    {
     "data": {
      "text/plain": [
       "[]"
      ]
     },
     "execution_count": 42,
     "metadata": {},
     "output_type": "execute_result"
    }
   ],
   "source": [
    "import filecmp\n",
    "\n",
    "filecmp.clear_cache()\n",
    "d1 = '/home/mana/Temp/task1'\n",
    "d2 = '/home/mana/Temp/task2'\n",
    "x = filecmp.dircmp(d1, d2)\n",
    "x.common_funny"
   ]
  },
  {
   "cell_type": "markdown",
   "metadata": {},
   "source": [
    "### same_files\n",
    "Files which are identical(contents) in both a and b, using the class’s file comparison operator.\n",
    "\n"
   ]
  },
  {
   "cell_type": "code",
   "execution_count": 47,
   "metadata": {},
   "outputs": [
    {
     "data": {
      "text/plain": [
       "['theme.txt']"
      ]
     },
     "execution_count": 47,
     "metadata": {},
     "output_type": "execute_result"
    }
   ],
   "source": [
    "import filecmp\n",
    "\n",
    "filecmp.clear_cache()\n",
    "d1 = '/home/mana/Temp/task1'\n",
    "d2 = '/home/mana/Temp/task2'\n",
    "x = filecmp.dircmp(d1, d2)\n",
    "x.same_files"
   ]
  },
  {
   "cell_type": "markdown",
   "metadata": {},
   "source": [
    "### diff_files\n",
    "Files which are in both a and b, whose contents differ according to the class’s file comparison operator."
   ]
  },
  {
   "cell_type": "code",
   "execution_count": 50,
   "metadata": {},
   "outputs": [
    {
     "data": {
      "text/plain": [
       "[]"
      ]
     },
     "execution_count": 50,
     "metadata": {},
     "output_type": "execute_result"
    }
   ],
   "source": [
    "import filecmp\n",
    "\n",
    "filecmp.clear_cache()\n",
    "d1 = '/home/mana/Temp/task1'\n",
    "d2 = '/home/mana/Temp/task2'\n",
    "x = filecmp.dircmp(d1, d2)\n",
    "x.diff_files"
   ]
  },
  {
   "cell_type": "markdown",
   "metadata": {},
   "source": [
    "### funny_files\n",
    "Files which are in both a and b, but could not be compared.\n",
    "\n"
   ]
  },
  {
   "cell_type": "code",
   "execution_count": 51,
   "metadata": {},
   "outputs": [
    {
     "data": {
      "text/plain": [
       "[]"
      ]
     },
     "execution_count": 51,
     "metadata": {},
     "output_type": "execute_result"
    }
   ],
   "source": [
    "import filecmp\n",
    "\n",
    "filecmp.clear_cache()\n",
    "d1 = '/home/mana/Temp/task1'\n",
    "d2 = '/home/mana/Temp/task2'\n",
    "x = filecmp.dircmp(d1, d2)\n",
    "x.funny_files"
   ]
  },
  {
   "cell_type": "markdown",
   "metadata": {},
   "source": [
    "### subdirs\n",
    "A dictionary mapping names in common_dirs to dircmp objects.\n",
    "\n"
   ]
  },
  {
   "cell_type": "code",
   "execution_count": 58,
   "metadata": {},
   "outputs": [
    {
     "data": {
      "text/plain": [
       "dict_values([])"
      ]
     },
     "execution_count": 58,
     "metadata": {},
     "output_type": "execute_result"
    }
   ],
   "source": [
    "import filecmp\n",
    "\n",
    "filecmp.clear_cache()\n",
    "d1 = '/home/mana/Temp/task1'\n",
    "d2 = '/home/mana/Temp/task2'\n",
    "x = filecmp.dircmp(d1, d2)\n",
    "x.subdirs.values()"
   ]
  },
  {
   "cell_type": "code",
   "execution_count": null,
   "metadata": {},
   "outputs": [],
   "source": []
  },
  {
   "cell_type": "markdown",
   "metadata": {},
   "source": [
    "# Excercise"
   ]
  },
  {
   "cell_type": "markdown",
   "metadata": {},
   "source": [
    "### How to find duplicate files between 2 directories?\n",
    "This is program also check identical contents."
   ]
  },
  {
   "cell_type": "code",
   "execution_count": 61,
   "metadata": {},
   "outputs": [
    {
     "name": "stdout",
     "output_type": "stream",
     "text": [
      "These files are same file name:\n",
      "rust,theme.txt,Antiloop.mp3\n",
      "\n",
      "These files are same contents:\n",
      "theme.txt,Antiloop.mp3\n"
     ]
    }
   ],
   "source": [
    "import filecmp\n",
    "\n",
    "filecmp.clear_cache()\n",
    "d1 = '/home/mana/Temp/task1'\n",
    "d2 = '/home/mana/Temp/task2'\n",
    "x = filecmp.dircmp(d1, d2)\n",
    "print('These files are same file name:')\n",
    "print(*x.common, sep = ',')\n",
    "print('')\n",
    "print('These files are same contents:')\n",
    "print(*x.same_files, sep = ',')"
   ]
  },
  {
   "cell_type": "markdown",
   "metadata": {},
   "source": [
    "### How to delete duplicate files to compare 2 directories?"
   ]
  },
  {
   "cell_type": "code",
   "execution_count": 76,
   "metadata": {},
   "outputs": [
    {
     "name": "stdout",
     "output_type": "stream",
     "text": [
      "These same files are removed:\n",
      "/home/mana/Temp/task1/theme.txt\n",
      "/home/mana/Temp/task1/Antiloop.mp3\n"
     ]
    }
   ],
   "source": [
    "import filecmp\n",
    "from pathlib import Path\n",
    "\n",
    "filecmp.clear_cache()\n",
    "d1 = Path('/home/mana/Temp/task1')\n",
    "d2 = Path('/home/mana/Temp/task2')\n",
    "print('These same files are removed:')\n",
    "x = filecmp.dircmp(str(d1), str(d2))\n",
    "for i in  x.common and x.same_files:\n",
    "    print(d1.joinpath(i))\n",
    "    d1.joinpath(i).unlink()"
   ]
  },
  {
   "cell_type": "code",
   "execution_count": null,
   "metadata": {},
   "outputs": [],
   "source": []
  }
 ],
 "metadata": {
  "kernelspec": {
   "display_name": "Python 3",
   "language": "python",
   "name": "python3"
  },
  "language_info": {
   "codemirror_mode": {
    "name": "ipython",
    "version": 3
   },
   "file_extension": ".py",
   "mimetype": "text/x-python",
   "name": "python",
   "nbconvert_exporter": "python",
   "pygments_lexer": "ipython3",
   "version": "3.5.2"
  }
 },
 "nbformat": 4,
 "nbformat_minor": 2
}
