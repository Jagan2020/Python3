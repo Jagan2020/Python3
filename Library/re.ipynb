{
 "cells": [
  {
   "cell_type": "markdown",
   "metadata": {},
   "source": [
    "# re"
   ]
  },
  {
   "cell_type": "code",
   "execution_count": null,
   "metadata": {},
   "outputs": [],
   "source": []
  },
  {
   "cell_type": "code",
   "execution_count": null,
   "metadata": {},
   "outputs": [],
   "source": []
  },
  {
   "cell_type": "markdown",
   "metadata": {},
   "source": [
    "### **Lookaround**"
   ]
  },
  {
   "cell_type": "markdown",
   "metadata": {},
   "source": [
    "### **Regex Positive lookahead and Negative lookahead**"
   ]
  },
  {
   "cell_type": "markdown",
   "metadata": {},
   "source": [
    "### <img src=\"lookaround.png\" height=\"500\" width=\"500\" align=\"left\">"
   ]
  },
  {
   "cell_type": "raw",
   "metadata": {},
   "source": [
    "(?!) - negative lookahead\n",
    "(?=) - positive lookahead\n",
    "(?<=) - positive lookbehind\n",
    "(?<!) - negative lookbehind\n",
    "\n",
    "https://stackoverflow.com/questions/2973436/regex-lookahead-lookbehind-and-atomic-groups"
   ]
  },
  {
   "cell_type": "raw",
   "metadata": {},
   "source": [
    "?    means look\n",
    "=    means postive\n",
    "!    means negative\n",
    "<    means behind"
   ]
  },
  {
   "cell_type": "raw",
   "metadata": {},
   "source": [
    "Error: lookbehind assertion is not fixed length\n",
    "\n",
    "Lookahead and lookbehind aren't nearly as similar as their names imply. The lookahead expression works exactly the same as it would if it were a standalone regex, except it's anchored at the current match position and it doesn't consume what it matches.\n",
    "\n",
    "Lookbehind is a whole different story. Starting at the current match position, it steps backward through the text one character at a time, attempting to match its expression at each position. In cases where no match is possible, the lookbehind has to go all the way to the beginning of the text (one character at a time, remember) before it gives up. Compare that to the lookahead expression, which gets applied exactly once.\n",
    "\n",
    "This is a gross oversimplification, of course, and not all flavors work that way, but you get the idea. The way lookbehinds are applied is fundamentally different from (and much, much less efficient than) the way lookaheads are applied. It only makes sense to put a limit on how far back the lookbehind has to look.\n"
   ]
  },
  {
   "cell_type": "markdown",
   "metadata": {},
   "source": [
    "#### **Postive lookahead**"
   ]
  },
  {
   "cell_type": "code",
   "execution_count": 5,
   "metadata": {},
   "outputs": [
    {
     "data": {
      "text/plain": [
       "['# This is the ssh client system-wide configuration file.  See',\n",
       " '# ssh_config(5) for more information.  This file provides defaults for',\n",
       " '# users, and the values can be changed in per-user configuration files',\n",
       " '# or on the command line.',\n",
       " '# Configuration data is parsed as follows:',\n",
       " '#  1. command line options',\n",
       " '#  2. user-specific file',\n",
       " '#  3. system-wide file',\n",
       " '# Any configuration value is only changed the first time it is set.',\n",
       " '# Thus, host-specific definitions should be at the beginning of the',\n",
       " '# configuration file, and defaults at the end.',\n",
       " '# Site-wide defaults for some commonly used options.  For a comprehensive',\n",
       " '# list of available options, their meanings and defaults, please see the',\n",
       " '# ssh_config(5) man page.',\n",
       " '#   ForwardAgent no',\n",
       " '#   ForwardX11 no',\n",
       " '#   ForwardX11Trusted yes',\n",
       " '#   PasswordAuthentication yes',\n",
       " '#   HostbasedAuthentication no',\n",
       " '#   GSSAPIAuthentication no',\n",
       " '#   GSSAPIDelegateCredentials no',\n",
       " '#   GSSAPIKeyExchange no',\n",
       " '#   GSSAPITrustDNS no',\n",
       " '#   BatchMode no',\n",
       " '#   CheckHostIP yes',\n",
       " '#   AddressFamily any',\n",
       " '#   ConnectTimeout 0',\n",
       " '#   StrictHostKeyChecking ask',\n",
       " '#   IdentityFile ~/.ssh/id_rsa',\n",
       " '#   IdentityFile ~/.ssh/id_dsa',\n",
       " '#   IdentityFile ~/.ssh/id_ecdsa',\n",
       " '#   IdentityFile ~/.ssh/id_ed25519',\n",
       " '#   Port 22',\n",
       " '#   Protocol 2',\n",
       " '#   Ciphers aes128-ctr,aes192-ctr,aes256-ctr,aes128-cbc,3des-cbc',\n",
       " '#   MACs hmac-md5,hmac-sha1,umac-64@openssh.com',\n",
       " '#   EscapeChar ~',\n",
       " '#   Tunnel no',\n",
       " '#   TunnelDevice any:any',\n",
       " '#   PermitLocalCommand no',\n",
       " '#   VisualHostKey no',\n",
       " '#   ProxyCommand ssh -q -W %h:%p gateway.example.com',\n",
       " '#   RekeyLimit 1G 1h']"
      ]
     },
     "execution_count": 5,
     "metadata": {},
     "output_type": "execute_result"
    }
   ],
   "source": [
    "from pathlib import Path\n",
    "from re import search\n",
    "\n",
    "file_read = Path('/etc/ssh/ssh_config').read_text().splitlines()\n",
    "[i for i in file_read if search(r'^(?=#)',i)]"
   ]
  },
  {
   "cell_type": "markdown",
   "metadata": {},
   "source": [
    "#### **Postive lookbehind**"
   ]
  },
  {
   "cell_type": "code",
   "execution_count": 6,
   "metadata": {},
   "outputs": [
    {
     "data": {
      "text/plain": [
       "[]"
      ]
     },
     "execution_count": 6,
     "metadata": {},
     "output_type": "execute_result"
    }
   ],
   "source": [
    "from pathlib import Path\n",
    "from re import search\n",
    "\n",
    "file_read = Path('/etc/ssh/ssh_config').read_text().splitlines()\n",
    "[i for i in file_read if search(r'^(?<=#)',i)]"
   ]
  },
  {
   "cell_type": "markdown",
   "metadata": {},
   "source": [
    "#### **Negative lookahead**"
   ]
  },
  {
   "cell_type": "code",
   "execution_count": 7,
   "metadata": {},
   "outputs": [
    {
     "data": {
      "text/plain": [
       "['',\n",
       " '',\n",
       " '',\n",
       " '',\n",
       " 'Host *',\n",
       " '    SendEnv LANG LC_*',\n",
       " '    HashKnownHosts yes',\n",
       " '    GSSAPIAuthentication yes']"
      ]
     },
     "execution_count": 7,
     "metadata": {},
     "output_type": "execute_result"
    }
   ],
   "source": [
    "from pathlib import Path\n",
    "from re import search\n",
    "\n",
    "file_read = Path('/etc/ssh/ssh_config').read_text().splitlines()\n",
    "[i for i in file_read if search(r'^(?!#)',i)]"
   ]
  },
  {
   "cell_type": "code",
   "execution_count": 8,
   "metadata": {},
   "outputs": [
    {
     "data": {
      "text/plain": [
       "['Host *',\n",
       " '    SendEnv LANG LC_*',\n",
       " '    HashKnownHosts yes',\n",
       " '    GSSAPIAuthentication yes']"
      ]
     },
     "execution_count": 8,
     "metadata": {},
     "output_type": "execute_result"
    }
   ],
   "source": [
    "from pathlib import Path\n",
    "from re import search\n",
    "\n",
    "file_read = Path('/etc/ssh/ssh_config').read_text().splitlines()\n",
    "[i for i in file_read if search(r'^(?!(#|^$))',i)]"
   ]
  },
  {
   "cell_type": "markdown",
   "metadata": {},
   "source": [
    "#### **Negative lookbehind**"
   ]
  },
  {
   "cell_type": "code",
   "execution_count": 9,
   "metadata": {},
   "outputs": [
    {
     "data": {
      "text/plain": [
       "['',\n",
       " '# This is the ssh client system-wide configuration file.  See',\n",
       " '# ssh_config(5) for more information.  This file provides defaults for',\n",
       " '# users, and the values can be changed in per-user configuration files',\n",
       " '# or on the command line.',\n",
       " '',\n",
       " '# Configuration data is parsed as follows:',\n",
       " '#  1. command line options',\n",
       " '#  2. user-specific file',\n",
       " '#  3. system-wide file',\n",
       " '# Any configuration value is only changed the first time it is set.',\n",
       " '# Thus, host-specific definitions should be at the beginning of the',\n",
       " '# configuration file, and defaults at the end.',\n",
       " '',\n",
       " '# Site-wide defaults for some commonly used options.  For a comprehensive',\n",
       " '# list of available options, their meanings and defaults, please see the',\n",
       " '# ssh_config(5) man page.',\n",
       " '',\n",
       " 'Host *',\n",
       " '#   ForwardAgent no',\n",
       " '#   ForwardX11 no',\n",
       " '#   ForwardX11Trusted yes',\n",
       " '#   PasswordAuthentication yes',\n",
       " '#   HostbasedAuthentication no',\n",
       " '#   GSSAPIAuthentication no',\n",
       " '#   GSSAPIDelegateCredentials no',\n",
       " '#   GSSAPIKeyExchange no',\n",
       " '#   GSSAPITrustDNS no',\n",
       " '#   BatchMode no',\n",
       " '#   CheckHostIP yes',\n",
       " '#   AddressFamily any',\n",
       " '#   ConnectTimeout 0',\n",
       " '#   StrictHostKeyChecking ask',\n",
       " '#   IdentityFile ~/.ssh/id_rsa',\n",
       " '#   IdentityFile ~/.ssh/id_dsa',\n",
       " '#   IdentityFile ~/.ssh/id_ecdsa',\n",
       " '#   IdentityFile ~/.ssh/id_ed25519',\n",
       " '#   Port 22',\n",
       " '#   Protocol 2',\n",
       " '#   Ciphers aes128-ctr,aes192-ctr,aes256-ctr,aes128-cbc,3des-cbc',\n",
       " '#   MACs hmac-md5,hmac-sha1,umac-64@openssh.com',\n",
       " '#   EscapeChar ~',\n",
       " '#   Tunnel no',\n",
       " '#   TunnelDevice any:any',\n",
       " '#   PermitLocalCommand no',\n",
       " '#   VisualHostKey no',\n",
       " '#   ProxyCommand ssh -q -W %h:%p gateway.example.com',\n",
       " '#   RekeyLimit 1G 1h',\n",
       " '    SendEnv LANG LC_*',\n",
       " '    HashKnownHosts yes',\n",
       " '    GSSAPIAuthentication yes']"
      ]
     },
     "execution_count": 9,
     "metadata": {},
     "output_type": "execute_result"
    }
   ],
   "source": [
    "from pathlib import Path\n",
    "from re import search\n",
    "\n",
    "file_read = Path('/etc/ssh/ssh_config').read_text().splitlines()\n",
    "[i for i in file_read if search(r'^(?<!#)',i)]"
   ]
  },
  {
   "cell_type": "markdown",
   "metadata": {},
   "source": [
    "### **Excercise**"
   ]
  },
  {
   "cell_type": "markdown",
   "metadata": {},
   "source": [
    "### Findout empty line"
   ]
  },
  {
   "cell_type": "code",
   "execution_count": 1,
   "metadata": {},
   "outputs": [
    {
     "data": {
      "text/plain": [
       "['\\n\\n', '\\n\\n']"
      ]
     },
     "execution_count": 1,
     "metadata": {},
     "output_type": "execute_result"
    }
   ],
   "source": [
    "import re\n",
    "\n",
    "lines = '''Hi\n",
    "This is line one\n",
    "\n",
    "This line two\n",
    "\n",
    "This is line three'''\n",
    "re.findall(r'\\n\\s*\\n',lines)"
   ]
  },
  {
   "cell_type": "markdown",
   "metadata": {},
   "source": [
    "### Findout new line"
   ]
  },
  {
   "cell_type": "code",
   "execution_count": 2,
   "metadata": {},
   "outputs": [
    {
     "data": {
      "text/plain": [
       "['\\n', '\\n', '\\n', '\\n', '\\n']"
      ]
     },
     "execution_count": 2,
     "metadata": {},
     "output_type": "execute_result"
    }
   ],
   "source": [
    "import re\n",
    "\n",
    "lines = '''Hi\n",
    "This is line one\n",
    "\n",
    "This line two\n",
    "\n",
    "This is line three'''\n",
    "\n",
    "[i for i in lines if re.match(r'^$',i)]"
   ]
  },
  {
   "cell_type": "markdown",
   "metadata": {},
   "source": [
    "### split text contains spaces but keeps words inside quotations as one unit"
   ]
  },
  {
   "cell_type": "raw",
   "metadata": {},
   "source": [
    "Expect Output:\n",
    "['cmd', '-a', '-b', '-c', '\"file with spaces.mp4\"', '-e', '-f']    "
   ]
  },
  {
   "cell_type": "code",
   "execution_count": 3,
   "metadata": {},
   "outputs": [
    {
     "data": {
      "text/plain": [
       "['cmd', '-a', '-b', '-c', '\"file with spaces.mp4\"', '-e', '-f']"
      ]
     },
     "execution_count": 3,
     "metadata": {},
     "output_type": "execute_result"
    }
   ],
   "source": [
    "import re\n",
    "\n",
    "s = 'cmd -a -b -c \"file with spaces.mp4\" -e -f'\n",
    "re.findall('\"[^\"]*\"|\\S+', s)"
   ]
  },
  {
   "cell_type": "markdown",
   "metadata": {},
   "source": [
    "### How to use file in re?"
   ]
  },
  {
   "cell_type": "code",
   "execution_count": null,
   "metadata": {},
   "outputs": [],
   "source": [
    "import re\n",
    "words = re.findall(r'\\w+', open('ipencil.txt').read().lower())\n",
    "Counter(words).most_common(1) "
   ]
  },
  {
   "cell_type": "markdown",
   "metadata": {},
   "source": [
    "### **How to filter except some text in a file?**\n",
    "Here i filter line text except sbin"
   ]
  },
  {
   "cell_type": "code",
   "execution_count": 1,
   "metadata": {},
   "outputs": [
    {
     "name": "stdout",
     "output_type": "stream",
     "text": [
      "geoclue:x:121:129::/var/geoclue:/usr/sbin/nologin\r\n",
      "mana:x:1000:1000:mana,,,:/home/mana:/bin/bash\r\n",
      "sshd:x:122:65534::/run/sshd:/usr/sbin/nologin\r\n",
      "\r\n"
     ]
    }
   ],
   "source": [
    "!cat ~/user.txt"
   ]
  },
  {
   "cell_type": "code",
   "execution_count": 3,
   "metadata": {},
   "outputs": [
    {
     "name": "stdout",
     "output_type": "stream",
     "text": [
      "mana:x:1000:1000:mana,,,:/home/mana:/bin/bash\n",
      "\n"
     ]
    }
   ],
   "source": [
    "%%bash\n",
    "\n",
    "grep -P '^(?!.*sbin).*' ~/user.txt"
   ]
  },
  {
   "cell_type": "code",
   "execution_count": null,
   "metadata": {},
   "outputs": [],
   "source": []
  }
 ],
 "metadata": {
  "kernelspec": {
   "display_name": "Python 3",
   "language": "python",
   "name": "python3"
  },
  "language_info": {
   "codemirror_mode": {
    "name": "ipython",
    "version": 3
   },
   "file_extension": ".py",
   "mimetype": "text/x-python",
   "name": "python",
   "nbconvert_exporter": "python",
   "pygments_lexer": "ipython3",
   "version": "3.6.9"
  }
 },
 "nbformat": 4,
 "nbformat_minor": 2
}
