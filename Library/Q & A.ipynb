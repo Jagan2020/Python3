{
 "cells": [
  {
   "cell_type": "markdown",
   "metadata": {},
   "source": [
    "### What is output of this program?"
   ]
  },
  {
   "cell_type": "raw",
   "metadata": {},
   "source": [
    "for i in range(6):\n",
    "    pass\n",
    "else:\n",
    "    print(i)"
   ]
  },
  {
   "cell_type": "raw",
   "metadata": {},
   "source": [
    "1. Error\n",
    "2. 5\n",
    "3. 6\n",
    "4. None"
   ]
  },
  {
   "cell_type": "markdown",
   "metadata": {},
   "source": [
    "### What is output of this program?"
   ]
  },
  {
   "cell_type": "raw",
   "metadata": {},
   "source": [
    "a = [ 1,2,3,4,5]\n",
    "for i in range(1,5):\n",
    "    a[~i+1] = a[i]\n",
    "for i in range(0,5):\n",
    "    print(a[i], end = ' ')"
   ]
  },
  {
   "cell_type": "raw",
   "metadata": {},
   "source": [
    "1. 1,2,3,4,5\n",
    "2. 2,4,6,8,10\n",
    "3. 1 2 3 3 2\n",
    "4. 1 2 3 4 2 "
   ]
  },
  {
   "cell_type": "markdown",
   "metadata": {},
   "source": [
    "### What is Output this Program?"
   ]
  },
  {
   "cell_type": "code",
   "execution_count": null,
   "metadata": {},
   "outputs": [],
   "source": [
    "lst = ['R', '', \"A\", 'M']\n",
    "\n",
    "[i for i in lst if i]\n"
   ]
  },
  {
   "cell_type": "raw",
   "metadata": {},
   "source": [
    "1. ['R', 'A', 'M']\n",
    "2. ['R', '', \"A\", 'M']\n",
    "3. ['RAM']\n",
    "4. ['R AM']"
   ]
  },
  {
   "cell_type": "markdown",
   "metadata": {},
   "source": [
    "### What is Output this Program?"
   ]
  },
  {
   "cell_type": "raw",
   "metadata": {},
   "source": [
    "'Python'.split()"
   ]
  },
  {
   "cell_type": "raw",
   "metadata": {},
   "source": [
    "1. ['P', 'y', 't', 'h', 'o', 'n']\n",
    "2. None\n",
    "3. ['Python']\n",
    "4. 'Python'"
   ]
  },
  {
   "cell_type": "markdown",
   "metadata": {},
   "source": [
    "### What are correct statement to fetch 5 only?"
   ]
  },
  {
   "cell_type": "raw",
   "metadata": {},
   "source": [
    "num = '3257560159585'\n",
    "\n",
    "1. import re; re.findall(r'5',num)\n",
    "2. [i for i in list(num) if i ==5]\n",
    "3. [i for i in num if i ==5]\n",
    "4. [i for i in num if int(i) ==5]"
   ]
  },
  {
   "cell_type": "markdown",
   "metadata": {},
   "source": [
    "### What is output of this program?"
   ]
  },
  {
   "cell_type": "raw",
   "metadata": {},
   "source": [
    "import re\n",
    "\n",
    "mystring = 'P*&yt-*h$%o@n+'\n",
    "''.join(re.findall(r'[a-zA-Z', mystring)"
   ]
  },
  {
   "cell_type": "raw",
   "metadata": {},
   "source": [
    "1. 'Python'\n",
    "2. "
   ]
  },
  {
   "cell_type": "markdown",
   "metadata": {},
   "source": [
    "### What is output of this program?"
   ]
  },
  {
   "cell_type": "raw",
   "metadata": {},
   "source": [
    "string = 'AB' + 'BA'\n",
    "print(string[::-1])"
   ]
  },
  {
   "cell_type": "raw",
   "metadata": {},
   "source": [
    "1. ABBA\n",
    "2. BAAB\n",
    "3. AABB\n",
    "4. BBAA"
   ]
  },
  {
   "cell_type": "markdown",
   "metadata": {},
   "source": [
    "### What is output of this program?"
   ]
  },
  {
   "cell_type": "raw",
   "metadata": {},
   "source": [
    "'Correct' if 'AB' + 'BA' == 'AB' else 'Wrong'"
   ]
  },
  {
   "cell_type": "markdown",
   "metadata": {},
   "source": [
    "### What is output of this program?"
   ]
  },
  {
   "cell_type": "raw",
   "metadata": {},
   "source": [
    "lst = [1,4,6,10]\n",
    "lst[4]"
   ]
  },
  {
   "cell_type": "raw",
   "metadata": {},
   "source": [
    "1. 10\n",
    "2. In"
   ]
  },
  {
   "cell_type": "markdown",
   "metadata": {},
   "source": [
    "### What is output of this program?"
   ]
  },
  {
   "cell_type": "raw",
   "metadata": {},
   "source": [
    "def num(x,y):\n",
    "    return x+y, x-y\n",
    "print(num(19,4))"
   ]
  },
  {
   "cell_type": "raw",
   "metadata": {},
   "source": [
    "1. 23, 15\n",
    "2. 19, 4\n",
    "3. (23, 15)\n",
    "4. 38"
   ]
  },
  {
   "cell_type": "markdown",
   "metadata": {},
   "source": [
    "### What is output of this program?"
   ]
  },
  {
   "cell_type": "raw",
   "metadata": {},
   "source": [
    "numbers = [1, 2, 2, 4, 5, 7, 8, 3, 4, 6, 1, 4, 6]\n",
    "print(list({num for num in numbers}))"
   ]
  },
  {
   "cell_type": "raw",
   "metadata": {},
   "source": [
    "1. {1:1,2:2,4:3,5:1,6:2,7:1,8:1}\n",
    "2. {1:2,2:2,3:1,4:3,5:1,6:2,7:1,8:1}\n",
    "3. ValueError\n",
    "4. [1, 2, 3, 4, 5, 6, 7, 8]"
   ]
  },
  {
   "cell_type": "markdown",
   "metadata": {},
   "source": [
    "### What is output of this program?"
   ]
  },
  {
   "cell_type": "code",
   "execution_count": 8,
   "metadata": {},
   "outputs": [
    {
     "data": {
      "text/plain": [
       "[0, 1, 2, 3]"
      ]
     },
     "execution_count": 8,
     "metadata": {},
     "output_type": "execute_result"
    }
   ],
   "source": [
    "lst = [100, 388, 567, 3]\n",
    "for i in range(len(lst)):\n",
    "    lst[i] = i\n",
    "lst"
   ]
  },
  {
   "cell_type": "code",
   "execution_count": null,
   "metadata": {},
   "outputs": [],
   "source": []
  }
 ],
 "metadata": {
  "kernelspec": {
   "display_name": "Python 3",
   "language": "python",
   "name": "python3"
  },
  "language_info": {
   "codemirror_mode": {
    "name": "ipython",
    "version": 3
   },
   "file_extension": ".py",
   "mimetype": "text/x-python",
   "name": "python",
   "nbconvert_exporter": "python",
   "pygments_lexer": "ipython3",
   "version": "3.6.9"
  }
 },
 "nbformat": 4,
 "nbformat_minor": 2
}
