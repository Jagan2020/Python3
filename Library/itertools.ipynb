{
 "cells": [
  {
   "cell_type": "markdown",
   "metadata": {},
   "source": [
    "## **itertools**"
   ]
  },
  {
   "cell_type": "markdown",
   "metadata": {},
   "source": [
    "### **accumulate**\n",
    ">accumulate(iterable, function)"
   ]
  },
  {
   "cell_type": "code",
   "execution_count": 3,
   "metadata": {},
   "outputs": [
    {
     "data": {
      "text/plain": [
       "[2, 5, 9]"
      ]
     },
     "execution_count": 3,
     "metadata": {},
     "output_type": "execute_result"
    }
   ],
   "source": [
    "from itertools import accumulate\n",
    "from operator import add\n",
    "\n",
    "lst = [2, 3, 4]\n",
    "list(accumulate(lst, add))"
   ]
  },
  {
   "cell_type": "code",
   "execution_count": 10,
   "metadata": {},
   "outputs": [
    {
     "data": {
      "text/plain": [
       "[2, 6, 24]"
      ]
     },
     "execution_count": 10,
     "metadata": {},
     "output_type": "execute_result"
    }
   ],
   "source": [
    "from itertools import accumulate\n",
    "from operator import mul\n",
    "\n",
    "lst = [2, 3, 4]\n",
    "list(accumulate(lst, mul))"
   ]
  },
  {
   "cell_type": "markdown",
   "metadata": {},
   "source": [
    "### **chain**\n",
    ">chain(*iterables)"
   ]
  },
  {
   "cell_type": "raw",
   "metadata": {},
   "source": [
    "Make an iterator that returns elements from the first iterable until it is exhausted, \n",
    "then proceeds to the next iterable, until all of the iterables are exhausted. \n",
    "Used for treating consecutive sequences as a single sequence. "
   ]
  },
  {
   "cell_type": "code",
   "execution_count": 11,
   "metadata": {},
   "outputs": [
    {
     "data": {
      "text/plain": [
       "[1, 4, 5, 7, 3, 4, 46, 7, 3]"
      ]
     },
     "execution_count": 11,
     "metadata": {},
     "output_type": "execute_result"
    }
   ],
   "source": [
    "from itertools import chain \n",
    "\n",
    "lst = [[1, 4, 5], [7, 3], [4], [46, 7, 3]] \n",
    "list(chain(*lst))"
   ]
  },
  {
   "cell_type": "markdown",
   "metadata": {},
   "source": [
    "### **combinations**"
   ]
  },
  {
   "cell_type": "code",
   "execution_count": 2,
   "metadata": {},
   "outputs": [
    {
     "data": {
      "text/plain": [
       "[(1, 4), (1, 5), (1, 7), (4, 5), (4, 7), (5, 7)]"
      ]
     },
     "execution_count": 2,
     "metadata": {},
     "output_type": "execute_result"
    }
   ],
   "source": [
    "from itertools import combinations\n",
    "\n",
    "lst = [1, 4, 5, 7]\n",
    "list(combinations(lst, 2))"
   ]
  },
  {
   "cell_type": "markdown",
   "metadata": {},
   "source": [
    "### **permutations**"
   ]
  },
  {
   "cell_type": "code",
   "execution_count": 4,
   "metadata": {},
   "outputs": [
    {
     "data": {
      "text/plain": [
       "[(1, 4),\n",
       " (1, 5),\n",
       " (1, 7),\n",
       " (4, 1),\n",
       " (4, 5),\n",
       " (4, 7),\n",
       " (5, 1),\n",
       " (5, 4),\n",
       " (5, 7),\n",
       " (7, 1),\n",
       " (7, 4),\n",
       " (7, 5)]"
      ]
     },
     "execution_count": 4,
     "metadata": {},
     "output_type": "execute_result"
    }
   ],
   "source": [
    "from itertools import permutations\n",
    "\n",
    "\n",
    "lst = [1, 4, 5, 7]\n",
    "list(permutations(lst, 2))"
   ]
  },
  {
   "cell_type": "markdown",
   "metadata": {},
   "source": [
    "### **Excersice**"
   ]
  },
  {
   "cell_type": "markdown",
   "metadata": {},
   "source": [
    "### How to alternate two lists here might be one solution?"
   ]
  },
  {
   "cell_type": "raw",
   "metadata": {},
   "source": [
    "Using the standard library itertools, you can use the zip_longest method that allows \n",
    "for unequal length lists note that the fillvalue is set to None, if you might have \n",
    "items called None, replace this\n",
    "list(zip_longest(list1, list2, fillvalue=None))\n",
    "the result from this is:\n",
    "[('a', 'b'), ('c', ''), ('e', ''), ('g', 'd'), ('q', 'f'), ('ww', 'h'), ('extra1', None), ('extra2', None)]\n",
    "But we dont want nested lists and we dont want none.\n",
    "but I MIGHT want the empty words in my lists.\n",
    "[x for x in list(chain.from_iterable(res)) if x != None]\n",
    "results in the following:\n",
    "['a', 'b', 'c', '', 'e', '', 'g', 'd', 'q', 'f', 'ww', 'h', 'extra1', 'extra2']"
   ]
  },
  {
   "cell_type": "code",
   "execution_count": 3,
   "metadata": {},
   "outputs": [
    {
     "name": "stdout",
     "output_type": "stream",
     "text": [
      "['a', 'b', 'c', '', 'e', '', 'g', 'd', 'q', 'f', 'ww', 'h', 'extra1', 'extra2']\n"
     ]
    }
   ],
   "source": [
    "from itertools import chain,zip_longest\n",
    "\n",
    "list1 = ['a','c','e','g','q','ww','extra1','extra2']\n",
    "list2 = ['b','','','d','f','h']\n",
    "res = list(zip_longest(list1, list2, fillvalue=None))\n",
    "res = [x for x in list(chain.from_iterable(res)) if x != None]\n",
    "print(res)"
   ]
  },
  {
   "cell_type": "markdown",
   "metadata": {},
   "source": [
    "#### **Merge python lists of different lengths**\n"
   ]
  },
  {
   "cell_type": "code",
   "execution_count": 1,
   "metadata": {},
   "outputs": [
    {
     "data": {
      "text/plain": [
       "[[1, 1], [2, 5], [3], [4]]"
      ]
     },
     "execution_count": 1,
     "metadata": {},
     "output_type": "execute_result"
    }
   ],
   "source": [
    "from itertools import zip_longest    \n",
    "\n",
    "[[x for x in t if x is not None] for t in zip_longest([1,2,3,4], [1,5])]"
   ]
  },
  {
   "cell_type": "markdown",
   "metadata": {},
   "source": [
    "#### **How to split a list into multiple lists?**"
   ]
  },
  {
   "cell_type": "code",
   "execution_count": 1,
   "metadata": {},
   "outputs": [
    {
     "name": "stdout",
     "output_type": "stream",
     "text": [
      "CS\n",
      "CS-PP\n",
      "CS-PP-GE\n",
      "CS-PP-GE-RI\n",
      "CS-PP-GE-RI-ET\n"
     ]
    }
   ],
   "source": [
    "from itertools import accumulate\n",
    "\n",
    "l = 'CS-PP-GE-RI-ET'.split('-')\n",
    "print(*accumulate(l, lambda x, y: '-'.join([x, y])), sep='\\n')"
   ]
  },
  {
   "cell_type": "raw",
   "metadata": {},
   "source": [
    "accumulate() returns a list containing the intermediate results. \n",
    "The last number of the list returned is summation value of the list."
   ]
  },
  {
   "cell_type": "code",
   "execution_count": 11,
   "metadata": {},
   "outputs": [
    {
     "name": "stdout",
     "output_type": "stream",
     "text": [
      "[1, 4, 8, 18, 22]\n"
     ]
    }
   ],
   "source": [
    "from itertools import accumulate\n",
    "\n",
    "lst = [ 1, 3, 4, 10, 4 ]\n",
    "fn = lambda x,y: x+y\n",
    "print(list(accumulate(lst, fn)))"
   ]
  },
  {
   "cell_type": "markdown",
   "metadata": {},
   "source": [
    "#### **Write a python program to remove duplicates in Matrix**"
   ]
  },
  {
   "cell_type": "raw",
   "metadata": {},
   "source": [
    "INPUT : [[5, 6, 8], [8, 5, 3], [9, 10, 3]]\n",
    "OUTPUT: [[5, 6, 8], [3], [9, 10]]"
   ]
  },
  {
   "cell_type": "code",
   "execution_count": 2,
   "metadata": {},
   "outputs": [
    {
     "data": {
      "text/plain": [
       "[[5, 6, 8], [3], [9, 10]]"
      ]
     },
     "execution_count": 2,
     "metadata": {},
     "output_type": "execute_result"
    }
   ],
   "source": [
    "from itertools import accumulate\n",
    "\n",
    "lst = [[5, 6, 8], [8, 5, 3], [9, 10, 3]]\n",
    "list(accumulate(lst, lambda x,y : list(set(y) - set(x))))"
   ]
  },
  {
   "cell_type": "markdown",
   "metadata": {},
   "source": [
    "#### **Merge two lists alternatively**"
   ]
  },
  {
   "cell_type": "code",
   "execution_count": 8,
   "metadata": {},
   "outputs": [
    {
     "data": {
      "text/plain": [
       "[1, 'a', 2, 'b', 3, 'c']"
      ]
     },
     "execution_count": 8,
     "metadata": {},
     "output_type": "execute_result"
    }
   ],
   "source": [
    "from itertools import chain\n",
    "  \n",
    "\n",
    "lst1 = [1, 2, 3] \n",
    "lst2 = ['a', 'b', 'c'] \n",
    "list(chain(*zip(lst1, lst2))) "
   ]
  },
  {
   "cell_type": "markdown",
   "metadata": {},
   "source": [
    "#### **How to change list of list into single list?**"
   ]
  },
  {
   "cell_type": "code",
   "execution_count": 13,
   "metadata": {},
   "outputs": [
    {
     "data": {
      "text/plain": [
       "[1, 4, 5, 7, 3, 4, 46, 7, 3]"
      ]
     },
     "execution_count": 13,
     "metadata": {},
     "output_type": "execute_result"
    }
   ],
   "source": [
    "from itertools import chain \n",
    "\n",
    "lst = [[1, 4, 5], [7, 3], [4], [46, 7, 3]] \n",
    "list(chain(*lst))"
   ]
  },
  {
   "cell_type": "markdown",
   "metadata": {},
   "source": [
    "### **How to join the list items?**"
   ]
  },
  {
   "cell_type": "code",
   "execution_count": 17,
   "metadata": {},
   "outputs": [
    {
     "name": "stdout",
     "output_type": "stream",
     "text": [
      "ManavalanMicheal\n"
     ]
    }
   ],
   "source": [
    "from itertools import chain \n",
    "name = ['Manavalan', 'Micheal']\n",
    "\n",
    "print(*chain(*name), sep= '')"
   ]
  },
  {
   "cell_type": "markdown",
   "metadata": {},
   "source": [
    "#### **Removing duplicates from a list of lists**"
   ]
  },
  {
   "cell_type": "code",
   "execution_count": 1,
   "metadata": {},
   "outputs": [
    {
     "data": {
      "text/plain": [
       "[[1, 2], [3], [4], [5, 6, 2]]"
      ]
     },
     "execution_count": 1,
     "metadata": {},
     "output_type": "execute_result"
    }
   ],
   "source": [
    "import itertools\n",
    "k = [[1, 2], [4], [5, 6, 2], [1, 2], [3], [4]]\n",
    "k.sort()\n",
    "list(k for k,_ in itertools.groupby(k))"
   ]
  },
  {
   "cell_type": "markdown",
   "metadata": {},
   "source": [
    "#### **What is () + () + () = 30 using 1,3,5,7,9,11,13,15?**"
   ]
  },
  {
   "cell_type": "raw",
   "metadata": {},
   "source": [
    "Ans:\n",
    "There is no solution to this question using normal methods, \n",
    "as three odd numbers added together will always produce an odd number"
   ]
  },
  {
   "cell_type": "code",
   "execution_count": 16,
   "metadata": {},
   "outputs": [],
   "source": [
    "from itertools import permutations\n",
    "\n",
    "lst = [1, 3, 5, 7, 9, 11, 13, 15]\n",
    "for i in list(permutations(lst, 3)):\n",
    "    if sum(i) == 30:\n",
    "        print(i)"
   ]
  },
  {
   "cell_type": "markdown",
   "metadata": {},
   "source": [
    "#### **How to find all possible pairs with given sum?**\n",
    "> k = 12"
   ]
  },
  {
   "cell_type": "code",
   "execution_count": 8,
   "metadata": {},
   "outputs": [
    {
     "name": "stdout",
     "output_type": "stream",
     "text": [
      "(5, 7)\n",
      "(3, 9)\n"
     ]
    }
   ],
   "source": [
    "from itertools import combinations\n",
    "from functools import reduce\n",
    "from operator import add\n",
    "\n",
    "k = 12\n",
    "lst = [1, 5, 3, 7, 9] \n",
    "for x in list(combinations(lst, 2)):\n",
    "    if reduce(add, x) == k:\n",
    "        print(x)"
   ]
  },
  {
   "cell_type": "markdown",
   "metadata": {},
   "source": [
    "#### **How to pick the numbers which sums upto 15?**"
   ]
  },
  {
   "cell_type": "code",
   "execution_count": 24,
   "metadata": {},
   "outputs": [
    {
     "name": "stdout",
     "output_type": "stream",
     "text": [
      "2 14\n",
      "7 9\n",
      "12 4\n",
      "1 3 12\n",
      "1 7 8\n",
      "1 12 3\n",
      "2 5 9\n",
      "5 3 8\n",
      "5 7 4\n",
      "5 3 8\n",
      "3 4 9\n",
      "3 4 9\n",
      "1 2 5 8\n",
      "1 2 4 9\n",
      "1 5 3 7\n",
      "1 5 7 3\n",
      "1 3 3 9\n",
      "1 3 8 4\n",
      "1 3 8 4\n",
      "2 3 7 4\n",
      "2 3 3 8\n",
      "2 7 3 4\n",
      "1 2 3 7 3\n",
      "1 5 3 3 4\n"
     ]
    }
   ],
   "source": [
    "from itertools import combinations\n",
    "from functools import reduce\n",
    "from operator import add\n",
    "\n",
    "lst_nums = [1, 2, 17, 14, 5, 3, 7, 12, 3, 8, 4, 9]\n",
    "sum = 16\n",
    "for i in range(1,len(lst_nums)):\n",
    "    x = list(combinations(lst_nums, i))\n",
    "    for y in x:\n",
    "        tmp = reduce(add, y)\n",
    "        if tmp == sum:\n",
    "            print(*y)"
   ]
  },
  {
   "cell_type": "code",
   "execution_count": null,
   "metadata": {},
   "outputs": [],
   "source": []
  }
 ],
 "metadata": {
  "kernelspec": {
   "display_name": "Python 3",
   "language": "python",
   "name": "python3"
  },
  "language_info": {
   "codemirror_mode": {
    "name": "ipython",
    "version": 3
   },
   "file_extension": ".py",
   "mimetype": "text/x-python",
   "name": "python",
   "nbconvert_exporter": "python",
   "pygments_lexer": "ipython3",
   "version": "3.6.9"
  }
 },
 "nbformat": 4,
 "nbformat_minor": 2
}
