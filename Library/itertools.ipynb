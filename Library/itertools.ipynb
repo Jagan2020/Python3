{
 "cells": [
  {
   "cell_type": "code",
   "execution_count": null,
   "metadata": {},
   "outputs": [],
   "source": []
  },
  {
   "cell_type": "code",
   "execution_count": null,
   "metadata": {},
   "outputs": [],
   "source": []
  },
  {
   "cell_type": "code",
   "execution_count": null,
   "metadata": {},
   "outputs": [],
   "source": []
  },
  {
   "cell_type": "code",
   "execution_count": null,
   "metadata": {},
   "outputs": [],
   "source": []
  },
  {
   "cell_type": "code",
   "execution_count": null,
   "metadata": {},
   "outputs": [],
   "source": []
  },
  {
   "cell_type": "code",
   "execution_count": null,
   "metadata": {},
   "outputs": [],
   "source": []
  },
  {
   "cell_type": "code",
   "execution_count": null,
   "metadata": {},
   "outputs": [],
   "source": []
  },
  {
   "cell_type": "code",
   "execution_count": null,
   "metadata": {},
   "outputs": [],
   "source": []
  },
  {
   "cell_type": "markdown",
   "metadata": {},
   "source": [
    "### **Excersice**"
   ]
  },
  {
   "cell_type": "markdown",
   "metadata": {},
   "source": [
    "### How to alternate two lists here might be one solution?"
   ]
  },
  {
   "cell_type": "raw",
   "metadata": {},
   "source": [
    "Using the standard library itertools, you can use the zip_longest method that allows \n",
    "for unequal length lists note that the fillvalue is set to None, if you might have \n",
    "items called None, replace this\n",
    "list(zip_longest(list1, list2, fillvalue=None))\n",
    "the result from this is:\n",
    "[('a', 'b'), ('c', ''), ('e', ''), ('g', 'd'), ('q', 'f'), ('ww', 'h'), ('extra1', None), ('extra2', None)]\n",
    "But we dont want nested lists and we dont want none.\n",
    "but I MIGHT want the empty words in my lists.\n",
    "[x for x in list(chain.from_iterable(res)) if x != None]\n",
    "results in the following:\n",
    "['a', 'b', 'c', '', 'e', '', 'g', 'd', 'q', 'f', 'ww', 'h', 'extra1', 'extra2']"
   ]
  },
  {
   "cell_type": "code",
   "execution_count": 3,
   "metadata": {},
   "outputs": [
    {
     "name": "stdout",
     "output_type": "stream",
     "text": [
      "['a', 'b', 'c', '', 'e', '', 'g', 'd', 'q', 'f', 'ww', 'h', 'extra1', 'extra2']\n"
     ]
    }
   ],
   "source": [
    "from itertools import chain,zip_longest\n",
    "\n",
    "list1 = ['a','c','e','g','q','ww','extra1','extra2']\n",
    "list2 = ['b','','','d','f','h']\n",
    "res = list(zip_longest(list1, list2, fillvalue=None))\n",
    "res = [x for x in list(chain.from_iterable(res)) if x != None]\n",
    "print(res)"
   ]
  },
  {
   "cell_type": "markdown",
   "metadata": {},
   "source": [
    "#### **Merge python lists of different lengths**\n"
   ]
  },
  {
   "cell_type": "code",
   "execution_count": 1,
   "metadata": {},
   "outputs": [
    {
     "data": {
      "text/plain": [
       "[[1, 1], [2, 5], [3], [4]]"
      ]
     },
     "execution_count": 1,
     "metadata": {},
     "output_type": "execute_result"
    }
   ],
   "source": [
    "from itertools import zip_longest    \n",
    "\n",
    "[[x for x in t if x is not None] for t in zip_longest([1,2,3,4], [1,5])]"
   ]
  },
  {
   "cell_type": "markdown",
   "metadata": {},
   "source": [
    "#### **How to split a list into multiple lists?**"
   ]
  },
  {
   "cell_type": "code",
   "execution_count": 1,
   "metadata": {},
   "outputs": [
    {
     "name": "stdout",
     "output_type": "stream",
     "text": [
      "CS\n",
      "CS-PP\n",
      "CS-PP-GE\n",
      "CS-PP-GE-RI\n",
      "CS-PP-GE-RI-ET\n"
     ]
    }
   ],
   "source": [
    "from itertools import accumulate\n",
    "\n",
    "l = 'CS-PP-GE-RI-ET'.split('-')\n",
    "print(*accumulate(l, lambda x, y: '-'.join([x, y])), sep='\\n')"
   ]
  },
  {
   "cell_type": "markdown",
   "metadata": {},
   "source": [
    "#### **Merge two lists alternatively**"
   ]
  },
  {
   "cell_type": "code",
   "execution_count": 8,
   "metadata": {},
   "outputs": [
    {
     "data": {
      "text/plain": [
       "[1, 'a', 2, 'b', 3, 'c']"
      ]
     },
     "execution_count": 8,
     "metadata": {},
     "output_type": "execute_result"
    }
   ],
   "source": [
    "from itertools import chain\n",
    "  \n",
    "\n",
    "lst1 = [1, 2, 3] \n",
    "lst2 = ['a', 'b', 'c'] \n",
    "list(chain(*zip(lst1, lst2))) "
   ]
  },
  {
   "cell_type": "markdown",
   "metadata": {},
   "source": [
    "#### **How to change list of list into single list?**"
   ]
  },
  {
   "cell_type": "code",
   "execution_count": 10,
   "metadata": {},
   "outputs": [
    {
     "data": {
      "text/plain": [
       "[1, 4, 5, 7, 3, 4, 46, 7, 3]"
      ]
     },
     "execution_count": 10,
     "metadata": {},
     "output_type": "execute_result"
    }
   ],
   "source": [
    "from itertools import chain \n",
    "\n",
    "lst = [[1, 4, 5], [7, 3], [4], [46, 7, 3]] \n",
    "list(chain(*lst))"
   ]
  },
  {
   "cell_type": "code",
   "execution_count": null,
   "metadata": {},
   "outputs": [],
   "source": []
  }
 ],
 "metadata": {
  "kernelspec": {
   "display_name": "Python 3",
   "language": "python",
   "name": "python3"
  },
  "language_info": {
   "codemirror_mode": {
    "name": "ipython",
    "version": 3
   },
   "file_extension": ".py",
   "mimetype": "text/x-python",
   "name": "python",
   "nbconvert_exporter": "python",
   "pygments_lexer": "ipython3",
   "version": "3.6.9"
  }
 },
 "nbformat": 4,
 "nbformat_minor": 2
}
