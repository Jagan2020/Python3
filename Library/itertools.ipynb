{
 "cells": [
  {
   "cell_type": "markdown",
   "metadata": {},
   "source": [
    "## **itertools**\n",
    "https://docs.python.org/3/library/itertools.html#module-itertools"
   ]
  },
  {
   "cell_type": "markdown",
   "metadata": {},
   "source": [
    "### **itertools methods**"
   ]
  },
  {
   "cell_type": "code",
   "execution_count": 9,
   "metadata": {},
   "outputs": [
    {
     "name": "stdout",
     "output_type": "stream",
     "text": [
      "accumulate     chain          combinations   combinations_with_replacement\n",
      "compress       count          cycle          dropwhile      \n",
      "filterfalse    groupby        islice         permutations   \n",
      "product        repeat         starmap        takewhile      \n"
     ]
    }
   ],
   "source": [
    "import itertools\n",
    "\n",
    "methods = [i for i  in dir(itertools) if not i.startswith('_')]\n",
    "fmt = '{:15s}'*4\n",
    "\n",
    "for fn in zip(*[iter(methods)] *4):\n",
    "    print(fmt.format(*fn))\n"
   ]
  },
  {
   "cell_type": "code",
   "execution_count": 35,
   "metadata": {},
   "outputs": [
    {
     "name": "stdout",
     "output_type": "stream",
     "text": [
      "accumulate:\n",
      "accumulate(iterable[, func]) --> accumulate object\n",
      "\n",
      "Return series of accumulated sums (or other binary function results).\n",
      "**************************************************\n",
      "chain:\n",
      "chain(*iterables) --> chain object\n",
      "\n",
      "Return a chain object whose .__next__() method returns elements from the\n",
      "first iterable until it is exhausted, then elements from the next\n",
      "iterable, until all of the iterables are exhausted.\n",
      "**************************************************\n",
      "combinations:\n",
      "combinations(iterable, r) --> combinations object\n",
      "\n",
      "Return successive r-length combinations of elements in the iterable.\n",
      "\n",
      "combinations(range(4), 3) --> (0,1,2), (0,1,3), (0,2,3), (1,2,3)\n",
      "**************************************************\n",
      "combinations_with_replacement:\n",
      "combinations_with_replacement(iterable, r) --> combinations_with_replacement object\n",
      "\n",
      "Return successive r-length combinations of elements in the iterable\n",
      "allowing individual elements to have successive repeats.\n",
      "combinations_with_replacement('ABC', 2) --> AA AB AC BB BC CC\n",
      "**************************************************\n",
      "compress:\n",
      "compress(data, selectors) --> iterator over selected data\n",
      "\n",
      "Return data elements corresponding to true selector elements.\n",
      "Forms a shorter iterator from selected data elements using the\n",
      "selectors to choose the data elements.\n",
      "**************************************************\n",
      "count:\n",
      "count(start=0, step=1) --> count object\n",
      "\n",
      "Return a count object whose .__next__() method returns consecutive values.\n",
      "Equivalent to:\n",
      "\n",
      "    def count(firstval=0, step=1):\n",
      "        x = firstval\n",
      "        while 1:\n",
      "            yield x\n",
      "            x += step\n",
      "\n",
      "**************************************************\n",
      "cycle:\n",
      "cycle(iterable) --> cycle object\n",
      "\n",
      "Return elements from the iterable until it is exhausted.\n",
      "Then repeat the sequence indefinitely.\n",
      "**************************************************\n",
      "dropwhile:\n",
      "dropwhile(predicate, iterable) --> dropwhile object\n",
      "\n",
      "Drop items from the iterable while predicate(item) is true.\n",
      "Afterwards, return every element until the iterable is exhausted.\n",
      "**************************************************\n",
      "filterfalse:\n",
      "filterfalse(function or None, sequence) --> filterfalse object\n",
      "\n",
      "Return those items of sequence for which function(item) is false.\n",
      "If function is None, return the items that are false.\n",
      "**************************************************\n",
      "groupby:\n",
      "groupby(iterable, key=None) -> make an iterator that returns consecutive\n",
      "keys and groups from the iterable.  If the key function is not specified or\n",
      "is None, the element itself is used for grouping.\n",
      "\n",
      "**************************************************\n",
      "islice:\n",
      "islice(iterable, stop) --> islice object\n",
      "islice(iterable, start, stop[, step]) --> islice object\n",
      "\n",
      "Return an iterator whose next() method returns selected values from an\n",
      "iterable.  If start is specified, will skip all preceding elements;\n",
      "otherwise, start defaults to zero.  Step defaults to one.  If\n",
      "specified as another value, step determines how many values are \n",
      "skipped between successive calls.  Works like a slice() on a list\n",
      "but returns an iterator.\n",
      "**************************************************\n",
      "permutations:\n",
      "permutations(iterable[, r]) --> permutations object\n",
      "\n",
      "Return successive r-length permutations of elements in the iterable.\n",
      "\n",
      "permutations(range(3), 2) --> (0,1), (0,2), (1,0), (1,2), (2,0), (2,1)\n",
      "**************************************************\n",
      "product:\n",
      "product(*iterables, repeat=1) --> product object\n",
      "\n",
      "Cartesian product of input iterables.  Equivalent to nested for-loops.\n",
      "\n",
      "For example, product(A, B) returns the same as:  ((x,y) for x in A for y in B).\n",
      "The leftmost iterators are in the outermost for-loop, so the output tuples\n",
      "cycle in a manner similar to an odometer (with the rightmost element changing\n",
      "on every iteration).\n",
      "\n",
      "To compute the product of an iterable with itself, specify the number\n",
      "of repetitions with the optional repeat keyword argument. For example,\n",
      "product(A, repeat=4) means the same as product(A, A, A, A).\n",
      "\n",
      "product('ab', range(3)) --> ('a',0) ('a',1) ('a',2) ('b',0) ('b',1) ('b',2)\n",
      "product((0,1), (0,1), (0,1)) --> (0,0,0) (0,0,1) (0,1,0) (0,1,1) (1,0,0) ...\n",
      "**************************************************\n",
      "repeat:\n",
      "repeat(object [,times]) -> create an iterator which returns the object\n",
      "for the specified number of times.  If not specified, returns the object\n",
      "endlessly.\n",
      "**************************************************\n",
      "starmap:\n",
      "starmap(function, sequence) --> starmap object\n",
      "\n",
      "Return an iterator whose values are returned from the function evaluated\n",
      "with an argument tuple taken from the given sequence.\n",
      "**************************************************\n",
      "takewhile:\n",
      "takewhile(predicate, iterable) --> takewhile object\n",
      "\n",
      "Return successive entries from an iterable as long as the \n",
      "predicate evaluates to true for each entry.\n",
      "**************************************************\n",
      "tee:\n",
      "tee(iterable, n=2) --> tuple of n independent iterators.\n",
      "**************************************************\n",
      "zip_longest:\n",
      "zip_longest(iter1 [,iter2 [...]], [fillvalue=None]) --> zip_longest object\n",
      "\n",
      "Return a zip_longest object whose .__next__() method returns a tuple where\n",
      "the i-th element comes from the i-th iterable argument.  The .__next__()\n",
      "method continues until the longest iterable in the argument sequence\n",
      "is exhausted and then it raises StopIteration.  When the shorter iterables\n",
      "are exhausted, the fillvalue is substituted in their place.  The fillvalue\n",
      "defaults to None or can be specified by a keyword argument.\n",
      "\n",
      "**************************************************\n"
     ]
    }
   ],
   "source": [
    "import itertools\n",
    "\n",
    "methods = [i for i  in dir(itertools) if not i.startswith('_')]\n",
    "\n",
    "for i in methods:\n",
    "    print(i+':')\n",
    "    print(getattr(itertools,i).__doc__)\n",
    "    print('*'*50)"
   ]
  },
  {
   "cell_type": "markdown",
   "metadata": {},
   "source": [
    "### **accumulate**\n",
    ">accumulate(iterable, function)\n",
    "\n",
    "https://docs.python.org/3/library/itertools.html#itertools.accumulate"
   ]
  },
  {
   "cell_type": "code",
   "execution_count": 15,
   "metadata": {},
   "outputs": [
    {
     "name": "stdout",
     "output_type": "stream",
     "text": [
      "accumulate(iterable[, func]) --> accumulate object\n",
      "\n",
      "Return series of accumulated sums (or other binary function results).\n"
     ]
    }
   ],
   "source": [
    "import itertools\n",
    "\n",
    "print(getattr(itertools, 'accumulate').__doc__)"
   ]
  },
  {
   "cell_type": "code",
   "execution_count": 3,
   "metadata": {},
   "outputs": [
    {
     "data": {
      "text/plain": [
       "[2, 5, 9]"
      ]
     },
     "execution_count": 3,
     "metadata": {},
     "output_type": "execute_result"
    }
   ],
   "source": [
    "from itertools import accumulate\n",
    "from operator import add\n",
    "\n",
    "lst = [2, 3, 4]\n",
    "list(accumulate(lst, add))"
   ]
  },
  {
   "cell_type": "code",
   "execution_count": 5,
   "metadata": {},
   "outputs": [
    {
     "data": {
      "text/plain": [
       "[2, 5, 9]"
      ]
     },
     "execution_count": 5,
     "metadata": {},
     "output_type": "execute_result"
    }
   ],
   "source": [
    "from itertools import accumulate\n",
    "\n",
    "lst = [2, 3, 4]\n",
    "list(accumulate(lst))"
   ]
  },
  {
   "cell_type": "code",
   "execution_count": 10,
   "metadata": {},
   "outputs": [
    {
     "data": {
      "text/plain": [
       "[2, 6, 24]"
      ]
     },
     "execution_count": 10,
     "metadata": {},
     "output_type": "execute_result"
    }
   ],
   "source": [
    "from itertools import accumulate\n",
    "from operator import mul\n",
    "\n",
    "lst = [2, 3, 4]\n",
    "list(accumulate(lst, mul))"
   ]
  },
  {
   "cell_type": "code",
   "execution_count": 3,
   "metadata": {},
   "outputs": [
    {
     "data": {
      "text/plain": [
       "[5, 5, 6, 6, 6, 9, 9]"
      ]
     },
     "execution_count": 3,
     "metadata": {},
     "output_type": "execute_result"
    }
   ],
   "source": [
    "from itertools import accumulate\n",
    "\n",
    "data = [5, 2, 6, 4, 5, 9, 1]\n",
    "list(accumulate(data, max))"
   ]
  },
  {
   "cell_type": "markdown",
   "metadata": {},
   "source": [
    "### **chain**\n",
    ">chain(*iterables)\n",
    "\n",
    "https://docs.python.org/3/library/itertools.html#itertools.chain"
   ]
  },
  {
   "cell_type": "raw",
   "metadata": {},
   "source": [
    "Make an iterator that returns elements from the first iterable until it is exhausted, \n",
    "then proceeds to the next iterable, until all of the iterables are exhausted. \n",
    "Used for treating consecutive sequences as a single sequence. "
   ]
  },
  {
   "cell_type": "code",
   "execution_count": 16,
   "metadata": {},
   "outputs": [
    {
     "name": "stdout",
     "output_type": "stream",
     "text": [
      "chain(*iterables) --> chain object\n",
      "\n",
      "Return a chain object whose .__next__() method returns elements from the\n",
      "first iterable until it is exhausted, then elements from the next\n",
      "iterable, until all of the iterables are exhausted.\n"
     ]
    }
   ],
   "source": [
    "import itertools\n",
    "\n",
    "print(getattr(itertools, 'chain').__doc__)"
   ]
  },
  {
   "cell_type": "code",
   "execution_count": 50,
   "metadata": {},
   "outputs": [
    {
     "data": {
      "text/plain": [
       "[1, 4, 5, 7, 3, 4, 46, 7, 3]"
      ]
     },
     "execution_count": 50,
     "metadata": {},
     "output_type": "execute_result"
    }
   ],
   "source": [
    "from itertools import chain \n",
    "\n",
    "lst = [[1, 4, 5], [7, 3], [4], [46, 7, 3]] \n",
    "list(chain(*lst))"
   ]
  },
  {
   "cell_type": "code",
   "execution_count": 48,
   "metadata": {},
   "outputs": [
    {
     "data": {
      "text/plain": [
       "[2, 3, 4, 5, 6, 7, 8, 9, 10, 'J', 'Q', 'K', 'A']"
      ]
     },
     "execution_count": 48,
     "metadata": {},
     "output_type": "execute_result"
    }
   ],
   "source": [
    "from itertools import chain\n",
    "\n",
    "FACE_CARDS = ('J', 'Q', 'K', 'A')\n",
    "SUITS = ('H', 'D', 'C', 'S')\n",
    "\n",
    "list(chain(range(2, 11), FACE_CARDS))"
   ]
  },
  {
   "cell_type": "markdown",
   "metadata": {},
   "source": [
    "### **from_iterable(iterable)**\n",
    "\n",
    "https://docs.python.org/3/library/itertools.html#itertools.chain.from_iterable"
   ]
  },
  {
   "cell_type": "code",
   "execution_count": 52,
   "metadata": {},
   "outputs": [
    {
     "data": {
      "text/plain": [
       "[1, 4, 5, 7, 3, 4, 46, 7, 3]"
      ]
     },
     "execution_count": 52,
     "metadata": {},
     "output_type": "execute_result"
    }
   ],
   "source": [
    "from itertools import chain \n",
    "\n",
    "lst = [[1, 4, 5], [7, 3], [4], [46, 7, 3]] \n",
    "\n",
    "[i for i in chain.from_iterable(lst)]"
   ]
  },
  {
   "cell_type": "markdown",
   "metadata": {},
   "source": [
    "### **combinations**\n",
    "r-length tuples, in sorted order, no repeated elements\n",
    "\n",
    "Note: Repeated elements means no repeated AA, BB, CC\n",
    "\n",
    "https://docs.python.org/3/library/itertools.html#itertools.combinations"
   ]
  },
  {
   "cell_type": "raw",
   "metadata": {},
   "source": [
    "To limit the values to unique combinations rather than permutations, use combinations(). As long as the members of the input are unique, the output will not include any repeated values."
   ]
  },
  {
   "cell_type": "code",
   "execution_count": 18,
   "metadata": {},
   "outputs": [
    {
     "name": "stdout",
     "output_type": "stream",
     "text": [
      "combinations(iterable, r) --> combinations object\n",
      "\n",
      "Return successive r-length combinations of elements in the iterable.\n",
      "\n",
      "combinations(range(4), 3) --> (0,1,2), (0,1,3), (0,2,3), (1,2,3)\n"
     ]
    }
   ],
   "source": [
    "import itertools\n",
    "\n",
    "print(getattr(itertools, 'combinations').__doc__)"
   ]
  },
  {
   "cell_type": "code",
   "execution_count": 21,
   "metadata": {},
   "outputs": [
    {
     "data": {
      "text/plain": [
       "[('A', 'B'), ('A', 'C'), ('A', 'D'), ('B', 'C'), ('B', 'D'), ('C', 'D')]"
      ]
     },
     "execution_count": 21,
     "metadata": {},
     "output_type": "execute_result"
    }
   ],
   "source": [
    "from itertools import combinations\n",
    "\n",
    "list(combinations('ABCD', 2))"
   ]
  },
  {
   "cell_type": "code",
   "execution_count": 2,
   "metadata": {},
   "outputs": [
    {
     "data": {
      "text/plain": [
       "[(1, 4), (1, 5), (1, 7), (4, 5), (4, 7), (5, 7)]"
      ]
     },
     "execution_count": 2,
     "metadata": {},
     "output_type": "execute_result"
    }
   ],
   "source": [
    "from itertools import combinations\n",
    "\n",
    "lst = [1, 4, 5, 7]\n",
    "list(combinations(lst, 2))"
   ]
  },
  {
   "cell_type": "code",
   "execution_count": 2,
   "metadata": {},
   "outputs": [
    {
     "data": {
      "text/plain": [
       "[(0, 1), (0, 2), (0, 3), (1, 2), (1, 3), (2, 3)]"
      ]
     },
     "execution_count": 2,
     "metadata": {},
     "output_type": "execute_result"
    }
   ],
   "source": [
    "import itertools\n",
    "list(itertools.combinations(range(4), 2))"
   ]
  },
  {
   "cell_type": "code",
   "execution_count": 98,
   "metadata": {},
   "outputs": [
    {
     "name": "stdout",
     "output_type": "stream",
     "text": [
      "ab ac ad \n",
      "bc bd \n",
      "cd "
     ]
    }
   ],
   "source": [
    "from itertools import combinations\n",
    "\n",
    "def show(iterable):\n",
    "    first = None\n",
    "    for i in iterable:\n",
    "        if first != i[0]:\n",
    "            if first is not None:\n",
    "                print()\n",
    "            first = i[0]\n",
    "        print(''.join(i), end = ' ')\n",
    "\n",
    "show(combinations('abcd', 2))"
   ]
  },
  {
   "cell_type": "markdown",
   "metadata": {},
   "source": [
    "### **combinations_with_replacement**\n",
    "r-length tuples, in sorted order, with repeated elements.\n",
    "\n",
    "https://docs.python.org/3/library/itertools.html#itertools.combinations_with_replacement\n"
   ]
  },
  {
   "cell_type": "code",
   "execution_count": 19,
   "metadata": {},
   "outputs": [
    {
     "name": "stdout",
     "output_type": "stream",
     "text": [
      "combinations_with_replacement(iterable, r) --> combinations_with_replacement object\n",
      "\n",
      "Return successive r-length combinations of elements in the iterable\n",
      "allowing individual elements to have successive repeats.\n",
      "combinations_with_replacement('ABC', 2) --> AA AB AC BB BC CC\n"
     ]
    }
   ],
   "source": [
    "import itertools\n",
    "\n",
    "print(getattr(itertools, 'combinations_with_replacement').__doc__)"
   ]
  },
  {
   "cell_type": "code",
   "execution_count": 23,
   "metadata": {},
   "outputs": [
    {
     "data": {
      "text/plain": [
       "[('A', 'A'),\n",
       " ('A', 'B'),\n",
       " ('A', 'C'),\n",
       " ('A', 'D'),\n",
       " ('B', 'B'),\n",
       " ('B', 'C'),\n",
       " ('B', 'D'),\n",
       " ('C', 'C'),\n",
       " ('C', 'D'),\n",
       " ('D', 'D')]"
      ]
     },
     "execution_count": 23,
     "metadata": {},
     "output_type": "execute_result"
    }
   ],
   "source": [
    "from itertools import combinations_with_replacement\n",
    "\n",
    "list(combinations_with_replacement('ABCD', 2))"
   ]
  },
  {
   "cell_type": "markdown",
   "metadata": {},
   "source": [
    "### **compress(data, selectors)**\n",
    "\n",
    "https://docs.python.org/3/library/itertools.html#itertools.compress"
   ]
  },
  {
   "cell_type": "code",
   "execution_count": 20,
   "metadata": {},
   "outputs": [
    {
     "name": "stdout",
     "output_type": "stream",
     "text": [
      "compress(data, selectors) --> iterator over selected data\n",
      "\n",
      "Return data elements corresponding to true selector elements.\n",
      "Forms a shorter iterator from selected data elements using the\n",
      "selectors to choose the data elements.\n"
     ]
    }
   ],
   "source": [
    "import itertools\n",
    "\n",
    "print(getattr(itertools, 'compress').__doc__)"
   ]
  },
  {
   "cell_type": "code",
   "execution_count": 25,
   "metadata": {},
   "outputs": [
    {
     "data": {
      "text/plain": [
       "['A', 'C', 'E', 'F']"
      ]
     },
     "execution_count": 25,
     "metadata": {},
     "output_type": "execute_result"
    }
   ],
   "source": [
    "from itertools import compress\n",
    "list(compress('ABCDEF', [1,0,1,0,1,1]))"
   ]
  },
  {
   "cell_type": "code",
   "execution_count": 27,
   "metadata": {},
   "outputs": [
    {
     "data": {
      "text/plain": [
       "['A', 'C', 'E', 'F']"
      ]
     },
     "execution_count": 27,
     "metadata": {},
     "output_type": "execute_result"
    }
   ],
   "source": [
    "from itertools import compress\n",
    "list(compress('ABCDEF', [1,None,1,0,1,1]))"
   ]
  },
  {
   "cell_type": "code",
   "execution_count": 28,
   "metadata": {},
   "outputs": [
    {
     "data": {
      "text/plain": [
       "['A', 'C', 'E', 'F']"
      ]
     },
     "execution_count": 28,
     "metadata": {},
     "output_type": "execute_result"
    }
   ],
   "source": [
    "from itertools import compress\n",
    "list(compress('ABCDEF', [1,'',1,0,1,1]))"
   ]
  },
  {
   "cell_type": "code",
   "execution_count": 26,
   "metadata": {},
   "outputs": [
    {
     "data": {
      "text/plain": [
       "['A', 'B', 'C', 'E', 'F']"
      ]
     },
     "execution_count": 26,
     "metadata": {},
     "output_type": "execute_result"
    }
   ],
   "source": [
    "from itertools import compress\n",
    "list(compress('ABCDEF', [1,1,1,0,1,1]))"
   ]
  },
  {
   "cell_type": "code",
   "execution_count": 29,
   "metadata": {},
   "outputs": [
    {
     "data": {
      "text/plain": [
       "['A', 'B', 'C', 'E', 'F']"
      ]
     },
     "execution_count": 29,
     "metadata": {},
     "output_type": "execute_result"
    }
   ],
   "source": [
    "from itertools import compress\n",
    "list(compress('ABCDEF', [1,True,1,0,1,1]))"
   ]
  },
  {
   "cell_type": "markdown",
   "metadata": {},
   "source": [
    "### **Count(n)**\n",
    "https://docs.python.org/3/library/itertools.html#itertools.count"
   ]
  },
  {
   "cell_type": "code",
   "execution_count": 21,
   "metadata": {},
   "outputs": [
    {
     "name": "stdout",
     "output_type": "stream",
     "text": [
      "count(start=0, step=1) --> count object\n",
      "\n",
      "Return a count object whose .__next__() method returns consecutive values.\n",
      "Equivalent to:\n",
      "\n",
      "    def count(firstval=0, step=1):\n",
      "        x = firstval\n",
      "        while 1:\n",
      "            yield x\n",
      "            x += step\n",
      "\n"
     ]
    }
   ],
   "source": [
    "import itertools\n",
    "\n",
    "print(getattr(itertools, 'count').__doc__)"
   ]
  },
  {
   "cell_type": "code",
   "execution_count": null,
   "metadata": {},
   "outputs": [],
   "source": [
    "from itertools import count\n",
    "\n",
    "list(count(1, 5))"
   ]
  },
  {
   "cell_type": "code",
   "execution_count": 3,
   "metadata": {},
   "outputs": [
    {
     "data": {
      "text/plain": [
       "[(1, 'a'), (2, 'b'), (3, 'c')]"
      ]
     },
     "execution_count": 3,
     "metadata": {},
     "output_type": "execute_result"
    }
   ],
   "source": [
    "from itertools import count\n",
    "\n",
    "iterable = ['a', 'b', 'c']\n",
    "list(zip(count(1), iterable))"
   ]
  },
  {
   "cell_type": "markdown",
   "metadata": {},
   "source": [
    "### **cycle**\n",
    "https://docs.python.org/3/library/itertools.html#itertools.cycle"
   ]
  },
  {
   "cell_type": "raw",
   "metadata": {},
   "source": [
    "The cycle() function returns an iterator that repeats the contents of the arguments it is given indefinitely. Since it has to remember the entire contents of the input iterator, it may consume quite a bit of memory if the iterator is long."
   ]
  },
  {
   "cell_type": "code",
   "execution_count": 22,
   "metadata": {},
   "outputs": [
    {
     "name": "stdout",
     "output_type": "stream",
     "text": [
      "cycle(iterable) --> cycle object\n",
      "\n",
      "Return elements from the iterable until it is exhausted.\n",
      "Then repeat the sequence indefinitely.\n"
     ]
    }
   ],
   "source": [
    "import itertools\n",
    "\n",
    "print(getattr(itertools, 'cycle').__doc__)"
   ]
  },
  {
   "cell_type": "code",
   "execution_count": 2,
   "metadata": {},
   "outputs": [
    {
     "data": {
      "text/plain": [
       "[(0, 'a'), (1, 'b'), (2, 'c'), (3, 'a'), (4, 'b'), (5, 'c'), (6, 'a')]"
      ]
     },
     "execution_count": 2,
     "metadata": {},
     "output_type": "execute_result"
    }
   ],
   "source": [
    "from itertools import cycle\n",
    "\n",
    "list(zip(range(7), cycle(['a', 'b', 'c'])))"
   ]
  },
  {
   "cell_type": "markdown",
   "metadata": {},
   "source": [
    "### **dropwhile(predicate, iterable)**\n",
    "https://docs.python.org/3/library/itertools.html#itertools.dropwhile"
   ]
  },
  {
   "cell_type": "raw",
   "metadata": {},
   "source": [
    "Make an iterator that drops elements from the iterable as long as the predicate is true; afterwards, returns every element. Note, the iterator does not produce any output until the predicate first becomes false, so it may have a lengthy start-up time."
   ]
  },
  {
   "cell_type": "code",
   "execution_count": 23,
   "metadata": {},
   "outputs": [
    {
     "name": "stdout",
     "output_type": "stream",
     "text": [
      "dropwhile(predicate, iterable) --> dropwhile object\n",
      "\n",
      "Drop items from the iterable while predicate(item) is true.\n",
      "Afterwards, return every element until the iterable is exhausted.\n"
     ]
    }
   ],
   "source": [
    "import itertools\n",
    "\n",
    "print(getattr(itertools, 'dropwhile').__doc__)"
   ]
  },
  {
   "cell_type": "code",
   "execution_count": 4,
   "metadata": {},
   "outputs": [
    {
     "data": {
      "text/plain": [
       "[6, 4, 1]"
      ]
     },
     "execution_count": 4,
     "metadata": {},
     "output_type": "execute_result"
    }
   ],
   "source": [
    "from itertools import dropwhile\n",
    "\n",
    "lst = [1,4,6,4,1]\n",
    "list(dropwhile(lambda x: x < 5, lst))"
   ]
  },
  {
   "cell_type": "code",
   "execution_count": 7,
   "metadata": {},
   "outputs": [
    {
     "data": {
      "text/plain": [
       "[4, 6, 4, 1]"
      ]
     },
     "execution_count": 7,
     "metadata": {},
     "output_type": "execute_result"
    }
   ],
   "source": [
    "lst = [1,4,6,4,1]\n",
    "list(dropwhile(lambda x: x < 4, lst))"
   ]
  },
  {
   "cell_type": "markdown",
   "metadata": {},
   "source": [
    "### **filterfalse(predicate, iterable)**\n",
    "https://docs.python.org/3/library/itertools.html#itertools.filterfalse"
   ]
  },
  {
   "cell_type": "raw",
   "metadata": {},
   "source": [
    "Make an iterator that filters elements from iterable returning only those for which the predicate is False. If predicate is None, return the items that are false. "
   ]
  },
  {
   "cell_type": "code",
   "execution_count": 24,
   "metadata": {},
   "outputs": [
    {
     "name": "stdout",
     "output_type": "stream",
     "text": [
      "filterfalse(function or None, sequence) --> filterfalse object\n",
      "\n",
      "Return those items of sequence for which function(item) is false.\n",
      "If function is None, return the items that are false.\n"
     ]
    }
   ],
   "source": [
    "import itertools\n",
    "\n",
    "print(getattr(itertools, 'filterfalse').__doc__)"
   ]
  },
  {
   "cell_type": "code",
   "execution_count": 5,
   "metadata": {},
   "outputs": [
    {
     "data": {
      "text/plain": [
       "[0, 2, 4, 6, 8]"
      ]
     },
     "execution_count": 5,
     "metadata": {},
     "output_type": "execute_result"
    }
   ],
   "source": [
    "from itertools import filterfalse\n",
    "\n",
    "list(filterfalse(lambda x: x%2, range(10)))"
   ]
  },
  {
   "cell_type": "markdown",
   "metadata": {},
   "source": [
    "### **groupby(iterable, key=None)**\n",
    "https://docs.python.org/3/library/itertools.html#itertools.groupby"
   ]
  },
  {
   "cell_type": "raw",
   "metadata": {},
   "source": [
    "Make an iterator that returns consecutive keys and groups from the iterable. The key is a function computing a key value for each element. If not specified or is None, key defaults to an identity function and returns the element unchanged. Generally, the iterable needs to already be sorted on the same key function.\n",
    "\n",
    "The operation of groupby() is similar to the uniq filter in Unix. It generates a break or new group every time the value of the key function changes (which is why it is usually necessary to have sorted the data using the same key function). That behavior differs from SQL’s GROUP BY which aggregates common elements regardless of their input order."
   ]
  },
  {
   "cell_type": "code",
   "execution_count": 25,
   "metadata": {},
   "outputs": [
    {
     "name": "stdout",
     "output_type": "stream",
     "text": [
      "groupby(iterable, key=None) -> make an iterator that returns consecutive\n",
      "keys and groups from the iterable.  If the key function is not specified or\n",
      "is None, the element itself is used for grouping.\n",
      "\n"
     ]
    }
   ],
   "source": [
    "import itertools\n",
    "\n",
    "print(getattr(itertools, 'groupby').__doc__)"
   ]
  },
  {
   "cell_type": "code",
   "execution_count": 2,
   "metadata": {},
   "outputs": [
    {
     "data": {
      "text/plain": [
       "[('A', <itertools._grouper at 0x7f5dccdbe0b8>),\n",
       " ('B', <itertools._grouper at 0x7f5dccdbe0f0>),\n",
       " ('C', <itertools._grouper at 0x7f5dccdbe128>),\n",
       " ('D', <itertools._grouper at 0x7f5dccdbe160>),\n",
       " ('A', <itertools._grouper at 0x7f5dccdbe198>),\n",
       " ('B', <itertools._grouper at 0x7f5dccdbe1d0>)]"
      ]
     },
     "execution_count": 2,
     "metadata": {},
     "output_type": "execute_result"
    }
   ],
   "source": [
    "from itertools import groupby\n",
    "\n",
    "iterable = 'AAAABBBCCDAABBB'\n",
    "list(groupby(iterable))"
   ]
  },
  {
   "cell_type": "code",
   "execution_count": 3,
   "metadata": {},
   "outputs": [
    {
     "data": {
      "text/plain": [
       "['A', 'B', 'C', 'D', 'A', 'B']"
      ]
     },
     "execution_count": 3,
     "metadata": {},
     "output_type": "execute_result"
    }
   ],
   "source": [
    "[k for k, g in groupby('AAAABBBCCDAABBB')]"
   ]
  },
  {
   "cell_type": "code",
   "execution_count": 4,
   "metadata": {},
   "outputs": [
    {
     "data": {
      "text/plain": [
       "[['A', 'A', 'A', 'A'], ['B', 'B', 'B'], ['C', 'C'], ['D']]"
      ]
     },
     "execution_count": 4,
     "metadata": {},
     "output_type": "execute_result"
    }
   ],
   "source": [
    "[list(g) for k, g in groupby('AAAABBBCCD')]"
   ]
  },
  {
   "cell_type": "markdown",
   "metadata": {},
   "source": [
    "### **islice(iterable, stop)**\n",
    "> islice(iterable, start, stop[, step])\n",
    "\n",
    "https://docs.python.org/3/library/itertools.html#itertools.islice"
   ]
  },
  {
   "cell_type": "raw",
   "metadata": {},
   "source": [
    "Make an iterator that returns selected elements from the iterable. If start is non-zero, then elements from the iterable are skipped until start is reached. Afterward, elements are returned consecutively unless step is set higher than one which results in items being skipped. If stop is None, then iteration continues until the iterator is exhausted, if at all; otherwise, it stops at the specified position. Unlike regular slicing, islice() does not support negative values for start, stop, or step. Can be used to extract related fields from data where the internal structure has been flattened (for example, a multi-line report may list a name field on every third line). Roughly equivalent to:"
   ]
  },
  {
   "cell_type": "code",
   "execution_count": 26,
   "metadata": {},
   "outputs": [
    {
     "name": "stdout",
     "output_type": "stream",
     "text": [
      "islice(iterable, stop) --> islice object\n",
      "islice(iterable, start, stop[, step]) --> islice object\n",
      "\n",
      "Return an iterator whose next() method returns selected values from an\n",
      "iterable.  If start is specified, will skip all preceding elements;\n",
      "otherwise, start defaults to zero.  Step defaults to one.  If\n",
      "specified as another value, step determines how many values are \n",
      "skipped between successive calls.  Works like a slice() on a list\n",
      "but returns an iterator.\n"
     ]
    }
   ],
   "source": [
    "import itertools\n",
    "\n",
    "print(getattr(itertools, 'islice').__doc__)"
   ]
  },
  {
   "cell_type": "code",
   "execution_count": 9,
   "metadata": {},
   "outputs": [
    {
     "data": {
      "text/plain": [
       "['A', 'B']"
      ]
     },
     "execution_count": 9,
     "metadata": {},
     "output_type": "execute_result"
    }
   ],
   "source": [
    "from itertools import islice\n",
    "\n",
    "list(islice('ABCDEFG', 2) )"
   ]
  },
  {
   "cell_type": "code",
   "execution_count": 11,
   "metadata": {},
   "outputs": [
    {
     "data": {
      "text/plain": [
       "['C', 'D']"
      ]
     },
     "execution_count": 11,
     "metadata": {},
     "output_type": "execute_result"
    }
   ],
   "source": [
    "list(islice('ABCDEFG', 2, 4))"
   ]
  },
  {
   "cell_type": "code",
   "execution_count": 12,
   "metadata": {},
   "outputs": [
    {
     "data": {
      "text/plain": [
       "['C', 'D', 'E', 'F', 'G']"
      ]
     },
     "execution_count": 12,
     "metadata": {},
     "output_type": "execute_result"
    }
   ],
   "source": [
    "list(islice('ABCDEFG', 2, None))"
   ]
  },
  {
   "cell_type": "code",
   "execution_count": 14,
   "metadata": {},
   "outputs": [
    {
     "data": {
      "text/plain": [
       "['A', 'C', 'E', 'G']"
      ]
     },
     "execution_count": 14,
     "metadata": {},
     "output_type": "execute_result"
    }
   ],
   "source": [
    "list(islice('ABCDEFG', 0, None, 2))"
   ]
  },
  {
   "cell_type": "markdown",
   "metadata": {},
   "source": [
    "### **permutations**\n",
    "r-length tuples, all possible orderings, no repeated elements.\n",
    "\n",
    "https://docs.python.org/3/library/itertools.html#itertools.permutations"
   ]
  },
  {
   "cell_type": "raw",
   "metadata": {},
   "source": [
    "Return successive r length permutations of elements in the iterable.\n",
    "\n",
    "If r is not specified or is None, then r defaults to the length of the iterable and all possible full-length permutations are generated.\n",
    "\n",
    "Permutations are emitted in lexicographic sort order. So, if the input iterable is sorted, the permutation tuples will be produced in sorted order.\n",
    "\n",
    "Elements are treated as unique based on their position, not on their value. So if the input elements are unique, there will be no repeat values in each permutation."
   ]
  },
  {
   "cell_type": "code",
   "execution_count": 27,
   "metadata": {},
   "outputs": [
    {
     "name": "stdout",
     "output_type": "stream",
     "text": [
      "permutations(iterable[, r]) --> permutations object\n",
      "\n",
      "Return successive r-length permutations of elements in the iterable.\n",
      "\n",
      "permutations(range(3), 2) --> (0,1), (0,2), (1,0), (1,2), (2,0), (2,1)\n"
     ]
    }
   ],
   "source": [
    "import itertools\n",
    "\n",
    "print(getattr(itertools, 'permutations').__doc__)"
   ]
  },
  {
   "cell_type": "code",
   "execution_count": 16,
   "metadata": {},
   "outputs": [
    {
     "data": {
      "text/plain": [
       "[('A', 'B'),\n",
       " ('A', 'C'),\n",
       " ('A', 'D'),\n",
       " ('B', 'A'),\n",
       " ('B', 'C'),\n",
       " ('B', 'D'),\n",
       " ('C', 'A'),\n",
       " ('C', 'B'),\n",
       " ('C', 'D'),\n",
       " ('D', 'A'),\n",
       " ('D', 'B'),\n",
       " ('D', 'C')]"
      ]
     },
     "execution_count": 16,
     "metadata": {},
     "output_type": "execute_result"
    }
   ],
   "source": [
    "from itertools import permutations\n",
    "\n",
    "list(permutations('ABCD', 2))"
   ]
  },
  {
   "cell_type": "code",
   "execution_count": 19,
   "metadata": {},
   "outputs": [
    {
     "data": {
      "text/plain": [
       "[(0, 1, 2), (0, 2, 1), (1, 0, 2), (1, 2, 0), (2, 0, 1), (2, 1, 0)]"
      ]
     },
     "execution_count": 19,
     "metadata": {},
     "output_type": "execute_result"
    }
   ],
   "source": [
    "list(permutations(range(3)))"
   ]
  },
  {
   "cell_type": "code",
   "execution_count": 20,
   "metadata": {},
   "outputs": [
    {
     "data": {
      "text/plain": [
       "[(1, 4, 5),\n",
       " (1, 4, 7),\n",
       " (1, 5, 4),\n",
       " (1, 5, 7),\n",
       " (1, 7, 4),\n",
       " (1, 7, 5),\n",
       " (4, 1, 5),\n",
       " (4, 1, 7),\n",
       " (4, 5, 1),\n",
       " (4, 5, 7),\n",
       " (4, 7, 1),\n",
       " (4, 7, 5),\n",
       " (5, 1, 4),\n",
       " (5, 1, 7),\n",
       " (5, 4, 1),\n",
       " (5, 4, 7),\n",
       " (5, 7, 1),\n",
       " (5, 7, 4),\n",
       " (7, 1, 4),\n",
       " (7, 1, 5),\n",
       " (7, 4, 1),\n",
       " (7, 4, 5),\n",
       " (7, 5, 1),\n",
       " (7, 5, 4)]"
      ]
     },
     "execution_count": 20,
     "metadata": {},
     "output_type": "execute_result"
    }
   ],
   "source": [
    "from itertools import permutations\n",
    "\n",
    "\n",
    "lst = [1, 4, 5, 7]\n",
    "list(permutations(lst, 3))"
   ]
  },
  {
   "cell_type": "code",
   "execution_count": 22,
   "metadata": {},
   "outputs": [
    {
     "data": {
      "text/plain": [
       "[('A', 'B'), ('B', 'C'), ('C', 'D')]"
      ]
     },
     "execution_count": 22,
     "metadata": {},
     "output_type": "execute_result"
    }
   ],
   "source": [
    "from itertools import permutations\n",
    "\n",
    "lst = list(permutations('ABCD', 2))\n",
    "lst[::4]"
   ]
  },
  {
   "cell_type": "code",
   "execution_count": 90,
   "metadata": {},
   "outputs": [
    {
     "name": "stdout",
     "output_type": "stream",
     "text": [
      "All permutations:\n",
      "\n",
      "abcd abdc acbd acdb adbc adcb \n",
      "bacd badc bcad bcda bdac bdca \n",
      "cabd cadb cbad cbda cdab cdba \n",
      "dabc dacb dbac dbca dcab dcba \n",
      "\n",
      "Pairs:\n",
      "\n",
      "ab ac ad \n",
      "ba bc bd \n",
      "ca cb cd \n",
      "da db dc \n"
     ]
    }
   ],
   "source": [
    "from itertools import permutations\n",
    "\n",
    "def show(iterable):\n",
    "    first = None\n",
    "    for i, item in enumerate(iterable, 1):\n",
    "        if first != item[0]:\n",
    "            if first is not None:\n",
    "                print()\n",
    "            first = item[0]\n",
    "        print(''.join(item), end=' ')\n",
    "    print()\n",
    "\n",
    "\n",
    "print('All permutations:\\n')\n",
    "show(permutations('abcd')) \n",
    "\n",
    "print('\\nPairs:\\n')\n",
    "show(permutations('abcd', r=2))"
   ]
  },
  {
   "cell_type": "markdown",
   "metadata": {},
   "source": [
    "### **product**\n",
    "cartesian product, equivalent to a nested for-loop.\n",
    "\n",
    "https://docs.python.org/3/library/itertools.html#itertools.product"
   ]
  },
  {
   "cell_type": "raw",
   "metadata": {},
   "source": [
    "Nested for loops that iterate over multiple sequences can often be replaced with product(), which produces a single iterable whose values are the Cartesian product of the set of input values."
   ]
  },
  {
   "cell_type": "code",
   "execution_count": 28,
   "metadata": {},
   "outputs": [
    {
     "name": "stdout",
     "output_type": "stream",
     "text": [
      "product(*iterables, repeat=1) --> product object\n",
      "\n",
      "Cartesian product of input iterables.  Equivalent to nested for-loops.\n",
      "\n",
      "For example, product(A, B) returns the same as:  ((x,y) for x in A for y in B).\n",
      "The leftmost iterators are in the outermost for-loop, so the output tuples\n",
      "cycle in a manner similar to an odometer (with the rightmost element changing\n",
      "on every iteration).\n",
      "\n",
      "To compute the product of an iterable with itself, specify the number\n",
      "of repetitions with the optional repeat keyword argument. For example,\n",
      "product(A, repeat=4) means the same as product(A, A, A, A).\n",
      "\n",
      "product('ab', range(3)) --> ('a',0) ('a',1) ('a',2) ('b',0) ('b',1) ('b',2)\n",
      "product((0,1), (0,1), (0,1)) --> (0,0,0) (0,0,1) (0,1,0) (0,1,1) (1,0,0) ...\n"
     ]
    }
   ],
   "source": [
    "import itertools\n",
    "\n",
    "print(getattr(itertools, 'product').__doc__)"
   ]
  },
  {
   "cell_type": "code",
   "execution_count": 20,
   "metadata": {},
   "outputs": [
    {
     "data": {
      "text/plain": [
       "[('1', '1')]"
      ]
     },
     "execution_count": 20,
     "metadata": {},
     "output_type": "execute_result"
    }
   ],
   "source": [
    "from itertools import product\n",
    "\n",
    "list(product('1', repeat=2))"
   ]
  },
  {
   "cell_type": "code",
   "execution_count": 21,
   "metadata": {},
   "outputs": [
    {
     "data": {
      "text/plain": [
       "[('A', 'A'), ('A', 'B'), ('B', 'A'), ('B', 'B')]"
      ]
     },
     "execution_count": 21,
     "metadata": {},
     "output_type": "execute_result"
    }
   ],
   "source": [
    "from itertools import product\n",
    "\n",
    "list(product('AB', repeat=2))"
   ]
  },
  {
   "cell_type": "code",
   "execution_count": 40,
   "metadata": {},
   "outputs": [
    {
     "data": {
      "text/plain": [
       "[('a', 0), ('a', 1), ('a', 2), ('b', 0), ('b', 1), ('b', 2)]"
      ]
     },
     "execution_count": 40,
     "metadata": {},
     "output_type": "execute_result"
    }
   ],
   "source": [
    "from itertools import product\n",
    "\n",
    "list(product('ab', range(3)))"
   ]
  },
  {
   "cell_type": "code",
   "execution_count": 42,
   "metadata": {},
   "outputs": [
    {
     "data": {
      "text/plain": [
       "[(0, 0, 0),\n",
       " (0, 0, 1),\n",
       " (0, 1, 0),\n",
       " (0, 1, 1),\n",
       " (1, 0, 0),\n",
       " (1, 0, 1),\n",
       " (1, 1, 0),\n",
       " (1, 1, 1)]"
      ]
     },
     "execution_count": 42,
     "metadata": {},
     "output_type": "execute_result"
    }
   ],
   "source": [
    "from itertools import product\n",
    "\n",
    "list(product((0,1), (0,1), (0,1)))"
   ]
  },
  {
   "cell_type": "code",
   "execution_count": 23,
   "metadata": {},
   "outputs": [
    {
     "data": {
      "text/plain": [
       "[('A', 'x'),\n",
       " ('A', 'y'),\n",
       " ('B', 'x'),\n",
       " ('B', 'y'),\n",
       " ('C', 'x'),\n",
       " ('C', 'y'),\n",
       " ('D', 'x'),\n",
       " ('D', 'y')]"
      ]
     },
     "execution_count": 23,
     "metadata": {},
     "output_type": "execute_result"
    }
   ],
   "source": [
    "list(product('ABCD', 'xy'))"
   ]
  },
  {
   "cell_type": "code",
   "execution_count": 24,
   "metadata": {},
   "outputs": [
    {
     "data": {
      "text/plain": [
       "[(0, 0, 0),\n",
       " (0, 0, 1),\n",
       " (0, 1, 0),\n",
       " (0, 1, 1),\n",
       " (1, 0, 0),\n",
       " (1, 0, 1),\n",
       " (1, 1, 0),\n",
       " (1, 1, 1)]"
      ]
     },
     "execution_count": 24,
     "metadata": {},
     "output_type": "execute_result"
    }
   ],
   "source": [
    "list(product(range(2), repeat=3))"
   ]
  },
  {
   "cell_type": "code",
   "execution_count": 7,
   "metadata": {},
   "outputs": [
    {
     "data": {
      "text/plain": [
       "[(1, 'a'),\n",
       " (1, 'b'),\n",
       " (1, 'c'),\n",
       " (2, 'a'),\n",
       " (2, 'b'),\n",
       " (2, 'c'),\n",
       " (3, 'a'),\n",
       " (3, 'b'),\n",
       " (3, 'c')]"
      ]
     },
     "execution_count": 7,
     "metadata": {},
     "output_type": "execute_result"
    }
   ],
   "source": [
    "from itertools import product\n",
    "num_data = [1, 2, 3]\n",
    "alpha_data = ['a', 'b', 'c']\n",
    "list(product(num_data, alpha_data))"
   ]
  },
  {
   "cell_type": "code",
   "execution_count": 44,
   "metadata": {},
   "outputs": [
    {
     "data": {
      "text/plain": [
       "[('J', 'H'),\n",
       " ('J', 'D'),\n",
       " ('J', 'C'),\n",
       " ('J', 'S'),\n",
       " ('Q', 'H'),\n",
       " ('Q', 'D'),\n",
       " ('Q', 'C'),\n",
       " ('Q', 'S'),\n",
       " ('K', 'H'),\n",
       " ('K', 'D'),\n",
       " ('K', 'C'),\n",
       " ('K', 'S'),\n",
       " ('A', 'H'),\n",
       " ('A', 'D'),\n",
       " ('A', 'C'),\n",
       " ('A', 'S')]"
      ]
     },
     "execution_count": 44,
     "metadata": {},
     "output_type": "execute_result"
    }
   ],
   "source": [
    "from itertools import product, chain\n",
    "\n",
    "FACE_CARDS = ('J', 'Q', 'K', 'A')\n",
    "SUITS = ('H', 'D', 'C', 'S')\n",
    "\n",
    "list(product(FACE_CARDS, SUITS))"
   ]
  },
  {
   "cell_type": "code",
   "execution_count": 47,
   "metadata": {},
   "outputs": [
    {
     "data": {
      "text/plain": [
       "[2, 3, 4, 5, 6, 7, 8, 9, 10, 'J', 'Q', 'K', 'A']"
      ]
     },
     "execution_count": 47,
     "metadata": {},
     "output_type": "execute_result"
    }
   ],
   "source": [
    "from itertools import product, chain\n",
    "\n",
    "FACE_CARDS = ('J', 'Q', 'K', 'A')\n",
    "SUITS = ('H', 'D', 'C', 'S')\n",
    "\n",
    "list(chain(range(2, 11), FACE_CARDS))"
   ]
  },
  {
   "cell_type": "code",
   "execution_count": 50,
   "metadata": {},
   "outputs": [
    {
     "data": {
      "text/plain": [
       "[(2, 'H'),\n",
       " (2, 'D'),\n",
       " (2, 'C'),\n",
       " (2, 'S'),\n",
       " (3, 'H'),\n",
       " (3, 'D'),\n",
       " (3, 'C'),\n",
       " (3, 'S'),\n",
       " (4, 'H'),\n",
       " (4, 'D'),\n",
       " (4, 'C'),\n",
       " (4, 'S'),\n",
       " (5, 'H'),\n",
       " (5, 'D'),\n",
       " (5, 'C'),\n",
       " (5, 'S'),\n",
       " (6, 'H'),\n",
       " (6, 'D'),\n",
       " (6, 'C'),\n",
       " (6, 'S'),\n",
       " (7, 'H'),\n",
       " (7, 'D'),\n",
       " (7, 'C'),\n",
       " (7, 'S'),\n",
       " (8, 'H'),\n",
       " (8, 'D'),\n",
       " (8, 'C'),\n",
       " (8, 'S'),\n",
       " (9, 'H'),\n",
       " (9, 'D'),\n",
       " (9, 'C'),\n",
       " (9, 'S'),\n",
       " (10, 'H'),\n",
       " (10, 'D'),\n",
       " (10, 'C'),\n",
       " (10, 'S'),\n",
       " ('J', 'H'),\n",
       " ('J', 'D'),\n",
       " ('J', 'C'),\n",
       " ('J', 'S'),\n",
       " ('Q', 'H'),\n",
       " ('Q', 'D'),\n",
       " ('Q', 'C'),\n",
       " ('Q', 'S'),\n",
       " ('K', 'H'),\n",
       " ('K', 'D'),\n",
       " ('K', 'C'),\n",
       " ('K', 'S'),\n",
       " ('A', 'H'),\n",
       " ('A', 'D'),\n",
       " ('A', 'C'),\n",
       " ('A', 'S')]"
      ]
     },
     "execution_count": 50,
     "metadata": {},
     "output_type": "execute_result"
    }
   ],
   "source": [
    "from itertools import product, chain\n",
    "\n",
    "FACE_CARDS = ('J', 'Q', 'K', 'A')\n",
    "SUITS = ('H', 'D', 'C', 'S')\n",
    "\n",
    "list(product(chain(range(2, 11), FACE_CARDS), SUITS))"
   ]
  },
  {
   "cell_type": "code",
   "execution_count": 56,
   "metadata": {},
   "outputs": [
    {
     "name": "stdout",
     "output_type": "stream",
     "text": [
      " H2  D2  C2  S2  H3  D3  C3  S3  H4  D4  C4  S4  H5  D5  C5  S5  H6  D6  C6  S6  H7  D7  C7  S7  H8  D8  C8  S8  H9  D9  C9  S9  H10  D10  C10  S10  HJ  DJ  CJ  SJ  HQ  DQ  CQ  SQ  HK  DK  CK  SK  HA  DA  CA  SA "
     ]
    }
   ],
   "source": [
    "from itertools import product, chain\n",
    "\n",
    "FACE_CARDS = ('J', 'Q', 'K', 'A')\n",
    "SUITS = ('H', 'D', 'C', 'S')\n",
    "\n",
    "DECK =list(product(chain(range(2, 11), FACE_CARDS), SUITS))\n",
    "\n",
    "for card in DECK:\n",
    "    print('{:>2}{}'.format(card[1], card[0]), end=' ')\n",
    "    "
   ]
  },
  {
   "cell_type": "code",
   "execution_count": 57,
   "metadata": {},
   "outputs": [
    {
     "data": {
      "text/plain": [
       "[(0, 0), (0, 1), (0, 2), (1, 0), (1, 1), (1, 2), (2, 0), (2, 1), (2, 2)]"
      ]
     },
     "execution_count": 57,
     "metadata": {},
     "output_type": "execute_result"
    }
   ],
   "source": [
    "from itertools import product\n",
    "\n",
    "list(product(range(3), repeat=2))"
   ]
  },
  {
   "cell_type": "code",
   "execution_count": 62,
   "metadata": {},
   "outputs": [
    {
     "name": "stdout",
     "output_type": "stream",
     "text": [
      "(0, 0) (0, 1) (0, 2) \n",
      "(1, 0) (1, 1) (1, 2) \n",
      "(2, 0) (2, 1) (2, 2) \n"
     ]
    }
   ],
   "source": [
    "from itertools import product\n",
    "\n",
    "def show(iterable):\n",
    "    for i, item in enumerate(iterable, 1):\n",
    "        print(item, end=' ')\n",
    "        if (i % 3) == 0:\n",
    "            print()\n",
    "        \n",
    "show(list(product(range(3), repeat=2)))"
   ]
  },
  {
   "cell_type": "markdown",
   "metadata": {},
   "source": [
    "### **How to find comman elements between 2 lists?**"
   ]
  },
  {
   "cell_type": "code",
   "execution_count": 99,
   "metadata": {},
   "outputs": [
    {
     "name": "stdout",
     "output_type": "stream",
     "text": [
      "1, 2, 4, 7, "
     ]
    }
   ],
   "source": [
    "from itertools import product\n",
    "\n",
    "lst1 = [1, 2, 4, 7, 5]\n",
    "lst2 = [1, 2, 3, 4, 7, 6]\n",
    "\n",
    "for i, j in product(lst1, lst2):\n",
    "    if i == j:\n",
    "        print(i, end = ', ')"
   ]
  },
  {
   "cell_type": "markdown",
   "metadata": {},
   "source": [
    "### **repeat(object [, times])**\n",
    "\n",
    "https://docs.python.org/3/library/itertools.html#itertools.repeat"
   ]
  },
  {
   "cell_type": "raw",
   "metadata": {},
   "source": [
    "Make an iterator that returns object over and over again. Runs indefinitely unless the times argument is specified. Used as argument to map() for invariant parameters to the called function. Also used with zip() to create an invariant part of a tuple record."
   ]
  },
  {
   "cell_type": "code",
   "execution_count": 29,
   "metadata": {},
   "outputs": [
    {
     "name": "stdout",
     "output_type": "stream",
     "text": [
      "repeat(object [,times]) -> create an iterator which returns the object\n",
      "for the specified number of times.  If not specified, returns the object\n",
      "endlessly.\n"
     ]
    }
   ],
   "source": [
    "import itertools\n",
    "\n",
    "print(getattr(itertools, 'repeat').__doc__)"
   ]
  },
  {
   "cell_type": "code",
   "execution_count": 4,
   "metadata": {},
   "outputs": [
    {
     "data": {
      "text/plain": [
       "[10, 10, 10]"
      ]
     },
     "execution_count": 4,
     "metadata": {},
     "output_type": "execute_result"
    }
   ],
   "source": [
    "from itertools import repeat\n",
    "\n",
    "list(repeat(10, 3))\n"
   ]
  },
  {
   "cell_type": "code",
   "execution_count": 28,
   "metadata": {},
   "outputs": [
    {
     "data": {
      "text/plain": [
       "[0, 1, 4, 9, 16, 25, 36, 49, 64, 81]"
      ]
     },
     "execution_count": 28,
     "metadata": {},
     "output_type": "execute_result"
    }
   ],
   "source": [
    "list(map(pow, range(10), repeat(2)))"
   ]
  },
  {
   "cell_type": "code",
   "execution_count": 5,
   "metadata": {},
   "outputs": [
    {
     "name": "stdout",
     "output_type": "stream",
     "text": [
      "over-and-over\n",
      "over-and-over\n",
      "over-and-over\n",
      "over-and-over\n",
      "over-and-over\n"
     ]
    }
   ],
   "source": [
    "for i in repeat('over-and-over', 5):\n",
    "    print(i)"
   ]
  },
  {
   "cell_type": "code",
   "execution_count": 7,
   "metadata": {},
   "outputs": [
    {
     "data": {
      "text/plain": [
       "[(2, 0, 0), (2, 1, 2), (2, 2, 4), (2, 3, 6), (2, 4, 8)]"
      ]
     },
     "execution_count": 7,
     "metadata": {},
     "output_type": "execute_result"
    }
   ],
   "source": [
    "list(map(lambda x, y: (x, y, x * y), repeat(2), range(5)))"
   ]
  },
  {
   "cell_type": "markdown",
   "metadata": {},
   "source": [
    "### **starmap(function, iterable)**\n",
    "\n",
    "https://docs.python.org/3/library/itertools.html#itertools.starmap"
   ]
  },
  {
   "cell_type": "raw",
   "metadata": {},
   "source": [
    "Make an iterator that computes the function using arguments obtained from the iterable. Used instead of map() when argument parameters are already grouped in tuples from a single iterable (the data has been “pre-zipped”)."
   ]
  },
  {
   "cell_type": "code",
   "execution_count": 30,
   "metadata": {},
   "outputs": [
    {
     "name": "stdout",
     "output_type": "stream",
     "text": [
      "starmap(function, sequence) --> starmap object\n",
      "\n",
      "Return an iterator whose values are returned from the function evaluated\n",
      "with an argument tuple taken from the given sequence.\n"
     ]
    }
   ],
   "source": [
    "import itertools\n",
    "\n",
    "print(getattr(itertools, 'starmap').__doc__)"
   ]
  },
  {
   "cell_type": "code",
   "execution_count": 37,
   "metadata": {},
   "outputs": [
    {
     "data": {
      "text/plain": [
       "[32, 9, 1000]"
      ]
     },
     "execution_count": 37,
     "metadata": {},
     "output_type": "execute_result"
    }
   ],
   "source": [
    "from itertools import starmap\n",
    "\n",
    "list(starmap(pow, [(2,5), (3,2), (10,3)]))"
   ]
  },
  {
   "cell_type": "markdown",
   "metadata": {},
   "source": [
    "#### **Sum of every three number from a list**"
   ]
  },
  {
   "cell_type": "code",
   "execution_count": 37,
   "metadata": {},
   "outputs": [
    {
     "data": {
      "text/plain": [
       "[6, 15, 24]"
      ]
     },
     "execution_count": 37,
     "metadata": {},
     "output_type": "execute_result"
    }
   ],
   "source": [
    "from itertools import starmap\n",
    "\n",
    "lst = [1,2,3,4,5,6,7,8,9]\n",
    "partion3 = [lst[i:i+3] for i in range(0, len(lst), 3)]\n",
    "\n",
    "list(starmap(lambda x, y, z: x + y + z, partion3))"
   ]
  },
  {
   "cell_type": "markdown",
   "metadata": {},
   "source": [
    "### **takewhile(predicate, iterable)**\n",
    "\n",
    "https://docs.python.org/3/library/itertools.html#itertools.takewhile"
   ]
  },
  {
   "cell_type": "raw",
   "metadata": {},
   "source": [
    "Make an iterator that returns elements from the iterable as long as the predicate is true. "
   ]
  },
  {
   "cell_type": "code",
   "execution_count": 31,
   "metadata": {},
   "outputs": [
    {
     "name": "stdout",
     "output_type": "stream",
     "text": [
      "takewhile(predicate, iterable) --> takewhile object\n",
      "\n",
      "Return successive entries from an iterable as long as the \n",
      "predicate evaluates to true for each entry.\n"
     ]
    }
   ],
   "source": [
    "import itertools\n",
    "\n",
    "print(getattr(itertools, 'takewhile').__doc__)"
   ]
  },
  {
   "cell_type": "code",
   "execution_count": 39,
   "metadata": {},
   "outputs": [
    {
     "data": {
      "text/plain": [
       "[1, 4]"
      ]
     },
     "execution_count": 39,
     "metadata": {},
     "output_type": "execute_result"
    }
   ],
   "source": [
    "from itertools import takewhile\n",
    "\n",
    "list(takewhile(lambda x: x<5, [1,4,6,4,1]))"
   ]
  },
  {
   "cell_type": "markdown",
   "metadata": {},
   "source": [
    "### **tee(iterable, n=2)**"
   ]
  },
  {
   "cell_type": "raw",
   "metadata": {},
   "source": [
    "Return n independent iterators from a single iterable."
   ]
  },
  {
   "cell_type": "code",
   "execution_count": 44,
   "metadata": {},
   "outputs": [],
   "source": [
    "from itertools import tee\n",
    "\n"
   ]
  },
  {
   "cell_type": "markdown",
   "metadata": {},
   "source": [
    "### **zip_longest(*iterables, fillvalue=None)**\n",
    "\n",
    "https://docs.python.org/3/library/itertools.html#itertools.zip_longest"
   ]
  },
  {
   "cell_type": "raw",
   "metadata": {},
   "source": [
    "Make an iterator that aggregates elements from each of the iterables. If the iterables are of uneven length, missing values are filled-in with fillvalue. Iteration continues until the longest iterable is exhausted."
   ]
  },
  {
   "cell_type": "code",
   "execution_count": 32,
   "metadata": {},
   "outputs": [
    {
     "name": "stdout",
     "output_type": "stream",
     "text": [
      "zip_longest(iter1 [,iter2 [...]], [fillvalue=None]) --> zip_longest object\n",
      "\n",
      "Return a zip_longest object whose .__next__() method returns a tuple where\n",
      "the i-th element comes from the i-th iterable argument.  The .__next__()\n",
      "method continues until the longest iterable in the argument sequence\n",
      "is exhausted and then it raises StopIteration.  When the shorter iterables\n",
      "are exhausted, the fillvalue is substituted in their place.  The fillvalue\n",
      "defaults to None or can be specified by a keyword argument.\n",
      "\n"
     ]
    }
   ],
   "source": [
    "import itertools\n",
    "\n",
    "print(getattr(itertools, 'zip_longest').__doc__)"
   ]
  },
  {
   "cell_type": "code",
   "execution_count": 46,
   "metadata": {},
   "outputs": [
    {
     "data": {
      "text/plain": [
       "[('A', 'x'), ('B', 'y'), ('C', '-'), ('D', '-')]"
      ]
     },
     "execution_count": 46,
     "metadata": {},
     "output_type": "execute_result"
    }
   ],
   "source": [
    "from itertools import zip_longest\n",
    "\n",
    "list(zip_longest('ABCD', 'xy', fillvalue='-'))"
   ]
  },
  {
   "cell_type": "code",
   "execution_count": 48,
   "metadata": {},
   "outputs": [
    {
     "data": {
      "text/plain": [
       "[('a', 'b'),\n",
       " ('c', ''),\n",
       " ('e', ''),\n",
       " ('g', 'd'),\n",
       " ('q', 'f'),\n",
       " ('ww', 'h'),\n",
       " ('extra1', None),\n",
       " ('extra2', None)]"
      ]
     },
     "execution_count": 48,
     "metadata": {},
     "output_type": "execute_result"
    }
   ],
   "source": [
    "list1 = ['a','c','e','g','q','ww','extra1','extra2']\n",
    "list2 = ['b','','','d','f','h']\n",
    "list(zip_longest(list1, list2, fillvalue=None))"
   ]
  },
  {
   "cell_type": "code",
   "execution_count": 55,
   "metadata": {},
   "outputs": [
    {
     "data": {
      "text/plain": [
       "[(0, 0), (1, 1), (2, None)]"
      ]
     },
     "execution_count": 55,
     "metadata": {},
     "output_type": "execute_result"
    }
   ],
   "source": [
    "r1 = range(3)\n",
    "r2 = range(2)\n",
    "list(zip_longest(r1, r2))"
   ]
  },
  {
   "cell_type": "markdown",
   "metadata": {},
   "source": [
    "### **Excersice**"
   ]
  },
  {
   "cell_type": "markdown",
   "metadata": {},
   "source": [
    "### How to alternate two lists here might be one solution?"
   ]
  },
  {
   "cell_type": "raw",
   "metadata": {},
   "source": [
    "Using the standard library itertools, you can use the zip_longest method that allows \n",
    "for unequal length lists note that the fillvalue is set to None, if you might have \n",
    "items called None, replace this\n",
    "list(zip_longest(list1, list2, fillvalue=None))\n",
    "the result from this is:\n",
    "[('a', 'b'), ('c', ''), ('e', ''), ('g', 'd'), ('q', 'f'), ('ww', 'h'), ('extra1', None), ('extra2', None)]\n",
    "But we dont want nested lists and we dont want none.\n",
    "but I MIGHT want the empty words in my lists.\n",
    "[x for x in list(chain.from_iterable(res)) if x != None]\n",
    "results in the following:\n",
    "['a', 'b', 'c', '', 'e', '', 'g', 'd', 'q', 'f', 'ww', 'h', 'extra1', 'extra2']"
   ]
  },
  {
   "cell_type": "code",
   "execution_count": 3,
   "metadata": {},
   "outputs": [
    {
     "name": "stdout",
     "output_type": "stream",
     "text": [
      "['a', 'b', 'c', '', 'e', '', 'g', 'd', 'q', 'f', 'ww', 'h', 'extra1', 'extra2']\n"
     ]
    }
   ],
   "source": [
    "from itertools import chain,zip_longest\n",
    "\n",
    "list1 = ['a','c','e','g','q','ww','extra1','extra2']\n",
    "list2 = ['b','','','d','f','h']\n",
    "res = list(zip_longest(list1, list2, fillvalue=None))\n",
    "res = [x for x in list(chain.from_iterable(res)) if x != None]\n",
    "print(res)"
   ]
  },
  {
   "cell_type": "markdown",
   "metadata": {},
   "source": [
    "#### **Merge python lists of different lengths**\n"
   ]
  },
  {
   "cell_type": "code",
   "execution_count": 1,
   "metadata": {},
   "outputs": [
    {
     "data": {
      "text/plain": [
       "[[1, 1], [2, 5], [3], [4]]"
      ]
     },
     "execution_count": 1,
     "metadata": {},
     "output_type": "execute_result"
    }
   ],
   "source": [
    "from itertools import zip_longest    \n",
    "\n",
    "[[x for x in t if x is not None] for t in zip_longest([1,2,3,4], [1,5])]"
   ]
  },
  {
   "cell_type": "markdown",
   "metadata": {},
   "source": [
    "#### **How to split a list into multiple lists?**"
   ]
  },
  {
   "cell_type": "code",
   "execution_count": 1,
   "metadata": {},
   "outputs": [
    {
     "name": "stdout",
     "output_type": "stream",
     "text": [
      "CS\n",
      "CS-PP\n",
      "CS-PP-GE\n",
      "CS-PP-GE-RI\n",
      "CS-PP-GE-RI-ET\n"
     ]
    }
   ],
   "source": [
    "from itertools import accumulate\n",
    "\n",
    "l = 'CS-PP-GE-RI-ET'.split('-')\n",
    "print(*accumulate(l, lambda x, y: '-'.join([x, y])), sep='\\n')"
   ]
  },
  {
   "cell_type": "raw",
   "metadata": {},
   "source": [
    "accumulate() returns a list containing the intermediate results. \n",
    "The last number of the list returned is summation value of the list."
   ]
  },
  {
   "cell_type": "code",
   "execution_count": 11,
   "metadata": {},
   "outputs": [
    {
     "name": "stdout",
     "output_type": "stream",
     "text": [
      "[1, 4, 8, 18, 22]\n"
     ]
    }
   ],
   "source": [
    "from itertools import accumulate\n",
    "\n",
    "lst = [ 1, 3, 4, 10, 4 ]\n",
    "fn = lambda x,y: x+y\n",
    "print(list(accumulate(lst, fn)))"
   ]
  },
  {
   "cell_type": "markdown",
   "metadata": {},
   "source": [
    "#### **Write a python program to remove duplicates in Matrix**"
   ]
  },
  {
   "cell_type": "raw",
   "metadata": {},
   "source": [
    "INPUT : [[5, 6, 8], [8, 5, 3], [9, 10, 3]]\n",
    "OUTPUT: [[5, 6, 8], [3], [9, 10]]"
   ]
  },
  {
   "cell_type": "code",
   "execution_count": 2,
   "metadata": {},
   "outputs": [
    {
     "data": {
      "text/plain": [
       "[[5, 6, 8], [3], [9, 10]]"
      ]
     },
     "execution_count": 2,
     "metadata": {},
     "output_type": "execute_result"
    }
   ],
   "source": [
    "from itertools import accumulate\n",
    "\n",
    "lst = [[5, 6, 8], [8, 5, 3], [9, 10, 3]]\n",
    "list(accumulate(lst, lambda x,y : list(set(y) - set(x))))"
   ]
  },
  {
   "cell_type": "markdown",
   "metadata": {},
   "source": [
    "#### **Merge two lists alternatively**"
   ]
  },
  {
   "cell_type": "code",
   "execution_count": 8,
   "metadata": {},
   "outputs": [
    {
     "data": {
      "text/plain": [
       "[1, 'a', 2, 'b', 3, 'c']"
      ]
     },
     "execution_count": 8,
     "metadata": {},
     "output_type": "execute_result"
    }
   ],
   "source": [
    "from itertools import chain\n",
    "  \n",
    "\n",
    "lst1 = [1, 2, 3] \n",
    "lst2 = ['a', 'b', 'c'] \n",
    "list(chain(*zip(lst1, lst2))) "
   ]
  },
  {
   "cell_type": "markdown",
   "metadata": {},
   "source": [
    "#### **How to change list of list into single list?**"
   ]
  },
  {
   "cell_type": "code",
   "execution_count": 13,
   "metadata": {},
   "outputs": [
    {
     "data": {
      "text/plain": [
       "[1, 4, 5, 7, 3, 4, 46, 7, 3]"
      ]
     },
     "execution_count": 13,
     "metadata": {},
     "output_type": "execute_result"
    }
   ],
   "source": [
    "from itertools import chain \n",
    "\n",
    "lst = [[1, 4, 5], [7, 3], [4], [46, 7, 3]] \n",
    "list(chain(*lst))"
   ]
  },
  {
   "cell_type": "markdown",
   "metadata": {},
   "source": [
    "### **How to join the list items?**"
   ]
  },
  {
   "cell_type": "code",
   "execution_count": 17,
   "metadata": {},
   "outputs": [
    {
     "name": "stdout",
     "output_type": "stream",
     "text": [
      "ManavalanMicheal\n"
     ]
    }
   ],
   "source": [
    "from itertools import chain \n",
    "name = ['Manavalan', 'Micheal']\n",
    "\n",
    "print(*chain(*name), sep= '')"
   ]
  },
  {
   "cell_type": "markdown",
   "metadata": {},
   "source": [
    "#### **Removing duplicates from a list of lists**"
   ]
  },
  {
   "cell_type": "code",
   "execution_count": 1,
   "metadata": {},
   "outputs": [
    {
     "data": {
      "text/plain": [
       "[[1, 2], [3], [4], [5, 6, 2]]"
      ]
     },
     "execution_count": 1,
     "metadata": {},
     "output_type": "execute_result"
    }
   ],
   "source": [
    "import itertools\n",
    "k = [[1, 2], [4], [5, 6, 2], [1, 2], [3], [4]]\n",
    "k.sort()\n",
    "list(k for k,_ in itertools.groupby(k))"
   ]
  },
  {
   "cell_type": "markdown",
   "metadata": {},
   "source": [
    "#### **What is () + () + () = 30 using 1,3,5,7,9,11,13,15?**"
   ]
  },
  {
   "cell_type": "raw",
   "metadata": {},
   "source": [
    "Ans:\n",
    "There is no solution to this question using normal methods, \n",
    "as three odd numbers added together will always produce an odd number"
   ]
  },
  {
   "cell_type": "code",
   "execution_count": 16,
   "metadata": {},
   "outputs": [],
   "source": [
    "from itertools import permutations\n",
    "\n",
    "lst = [1, 3, 5, 7, 9, 11, 13, 15]\n",
    "for i in list(permutations(lst, 3)):\n",
    "    if sum(i) == 30:\n",
    "        print(i)"
   ]
  },
  {
   "cell_type": "markdown",
   "metadata": {},
   "source": [
    "#### **How to find all possible pairs with given sum?**\n",
    "> k = 12"
   ]
  },
  {
   "cell_type": "code",
   "execution_count": 8,
   "metadata": {},
   "outputs": [
    {
     "name": "stdout",
     "output_type": "stream",
     "text": [
      "(5, 7)\n",
      "(3, 9)\n"
     ]
    }
   ],
   "source": [
    "from itertools import combinations\n",
    "from functools import reduce\n",
    "from operator import add\n",
    "\n",
    "k = 12\n",
    "lst = [1, 5, 3, 7, 9] \n",
    "for x in list(combinations(lst, 2)):\n",
    "    if reduce(add, x) == k:\n",
    "        print(x)"
   ]
  },
  {
   "cell_type": "markdown",
   "metadata": {},
   "source": [
    "#### **How to pick the numbers which sums upto 15?**"
   ]
  },
  {
   "cell_type": "code",
   "execution_count": 3,
   "metadata": {},
   "outputs": [
    {
     "name": "stdout",
     "output_type": "stream",
     "text": [
      "8\n",
      "1 7\n",
      "5 3\n",
      "5 3\n",
      "1 2 5\n",
      "1 3 4\n",
      "1 3 4\n",
      "2 3 3\n"
     ]
    }
   ],
   "source": [
    "from itertools import combinations\n",
    "from functools import reduce\n",
    "from operator import add\n",
    "\n",
    "lst_nums = [1, 2, 17, 14, 5, 3, 7, 12, 3, 8, 4, 9]\n",
    "sum1 = 8\n",
    "for i in range(1,len(lst_nums)):\n",
    "    x = list(combinations(lst_nums, i))\n",
    "    for y in x:\n",
    "        tmp = reduce(add, y)\n",
    "        if tmp == sum1:\n",
    "            print(*y)"
   ]
  },
  {
   "cell_type": "raw",
   "metadata": {},
   "source": [
    "If a, b, c, d are postive integers with sum of 63,\n",
    "What is maximum value of ab + bc + cd?"
   ]
  },
  {
   "cell_type": "code",
   "execution_count": 26,
   "metadata": {},
   "outputs": [
    {
     "data": {
      "text/plain": [
       "991"
      ]
     },
     "execution_count": 26,
     "metadata": {},
     "output_type": "execute_result"
    }
   ],
   "source": [
    "from itertools import permutations\n",
    "from operator import add, mul\n",
    "from functools import reduce\n",
    "\n",
    "a = 1 \n",
    "b = 30 \n",
    "c = 31 \n",
    "d = 1\n",
    "lst = [a, b, c, d]\n",
    "result = list(permutations(lst, 2))\n",
    "reduce(add, [mul(*i) for i in result[::4]])\n",
    "    "
   ]
  },
  {
   "cell_type": "raw",
   "metadata": {},
   "source": [
    "If a, b, c, d are postive integers with sum of random number,\n",
    "What is maximum value of ab + bc + cd?"
   ]
  },
  {
   "cell_type": "code",
   "execution_count": 13,
   "metadata": {},
   "outputs": [
    {
     "data": {
      "text/plain": [
       "129"
      ]
     },
     "execution_count": 13,
     "metadata": {},
     "output_type": "execute_result"
    }
   ],
   "source": [
    "from itertools import permutations\n",
    "from operator import add,mul\n",
    "from functools import reduce\n",
    "from random import randint\n",
    "\n",
    "\n",
    "lst = a, b, c, d = [ randint(1,10) for i in range(4)]\n",
    "result = list(permutations(lst, 2))\n",
    "reduce(add, [mul(*i) for i in result[::4]])\n",
    "    "
   ]
  },
  {
   "cell_type": "markdown",
   "metadata": {},
   "source": [
    "### **How to count word occurance using groupby method?**"
   ]
  },
  {
   "cell_type": "code",
   "execution_count": 63,
   "metadata": {},
   "outputs": [
    {
     "name": "stdout",
     "output_type": "stream",
     "text": [
      "a 3\n",
      "all 1\n",
      "and 1\n",
      "command 1\n",
      "count 5\n",
      "counts 1\n",
      "file 6\n",
      "find 1\n",
      "in 6\n",
      "lines 2\n",
      "linux 2\n",
      "linux. 1\n",
      "number 3\n",
      "occurrences 2\n",
      "of 6\n",
      "script 3\n",
      "shell 3\n",
      "string 1\n",
      "to 3\n",
      "using 1\n",
      "wc 1\n",
      "without 1\n",
      "word 1\n",
      "words 3\n"
     ]
    }
   ],
   "source": [
    "from itertools import groupby\n",
    "from pathlib import Path\n",
    "\n",
    "lines = Path('/home/mana/Work/data.txt').read_text().split()\n",
    "word_cnt = [(x,len(list(y))) for x, y in groupby(sorted(lines))]\n",
    "\n",
    "for word, n in word_cnt:\n",
    "    print(word, n)"
   ]
  },
  {
   "cell_type": "code",
   "execution_count": null,
   "metadata": {},
   "outputs": [],
   "source": []
  }
 ],
 "metadata": {
  "kernelspec": {
   "display_name": "Python 3",
   "language": "python",
   "name": "python3"
  },
  "language_info": {
   "codemirror_mode": {
    "name": "ipython",
    "version": 3
   },
   "file_extension": ".py",
   "mimetype": "text/x-python",
   "name": "python",
   "nbconvert_exporter": "python",
   "pygments_lexer": "ipython3",
   "version": "3.6.9"
  }
 },
 "nbformat": 4,
 "nbformat_minor": 2
}
