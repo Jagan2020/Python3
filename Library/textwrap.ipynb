{
 "cells": [
  {
   "cell_type": "markdown",
   "metadata": {},
   "source": [
    "## **textwrap - Text wrapping and filling**\n",
    "\n",
    "https://docs.python.org/3/library/textwrap.html#module-textwrap"
   ]
  },
  {
   "cell_type": "raw",
   "metadata": {},
   "source": [
    "The textwrap module provides some convenience functions, as well as TextWrapper, \n",
    "the class that does all the work. If you’re just wrapping or filling one or two text strings, \n",
    "the convenience functions should be good enough."
   ]
  },
  {
   "cell_type": "markdown",
   "metadata": {},
   "source": [
    "### **textwrap methods**"
   ]
  },
  {
   "cell_type": "code",
   "execution_count": 22,
   "metadata": {},
   "outputs": [
    {
     "name": "stdout",
     "output_type": "stream",
     "text": [
      "dedent    fill      indent    shorten   wrap      \n"
     ]
    }
   ],
   "source": [
    "import textwrap\n",
    "\n",
    "methods = ['dedent', 'fill', 'indent',  'shorten', 'wrap']\n",
    "fmt = '{:10s}'*5\n",
    "\n",
    "for fn in zip(*[iter(methods)] *5):\n",
    "    print(fmt.format(*fn))"
   ]
  },
  {
   "cell_type": "code",
   "execution_count": 21,
   "metadata": {},
   "outputs": [
    {
     "name": "stdout",
     "output_type": "stream",
     "text": [
      "dedent:\n",
      "Remove any common leading whitespace from every line in `text`.\n",
      "\n",
      "    This can be used to make triple-quoted strings line up with the left\n",
      "    edge of the display, while still presenting them in the source code\n",
      "    in indented form.\n",
      "\n",
      "    Note that tabs and spaces are both treated as whitespace, but they\n",
      "    are not equal: the lines \"  hello\" and \"\\thello\" are\n",
      "    considered to have no common leading whitespace.  (This behaviour is\n",
      "    new in Python 2.5; older versions of this module incorrectly\n",
      "    expanded tabs before searching for common leading whitespace.)\n",
      "    \n",
      "**************************************************\n",
      "fill:\n",
      "Fill a single paragraph of text, returning a new string.\n",
      "\n",
      "    Reformat the single paragraph in 'text' to fit in lines of no more\n",
      "    than 'width' columns, and return a new string containing the entire\n",
      "    wrapped paragraph.  As with wrap(), tabs are expanded and other\n",
      "    whitespace characters converted to space.  See TextWrapper class for\n",
      "    available keyword args to customize wrapping behaviour.\n",
      "    \n",
      "**************************************************\n",
      "indent:\n",
      "Adds 'prefix' to the beginning of selected lines in 'text'.\n",
      "\n",
      "    If 'predicate' is provided, 'prefix' will only be added to the lines\n",
      "    where 'predicate(line)' is True. If 'predicate' is not provided,\n",
      "    it will default to adding 'prefix' to all non-empty lines that do not\n",
      "    consist solely of whitespace characters.\n",
      "    \n",
      "**************************************************\n",
      "shorten:\n",
      "Collapse and truncate the given text to fit in the given width.\n",
      "\n",
      "    The text first has its whitespace collapsed.  If it then fits in\n",
      "    the *width*, it is returned as is.  Otherwise, as many words\n",
      "    as possible are joined and then the placeholder is appended::\n",
      "\n",
      "        >>> textwrap.shorten(\"Hello  world!\", width=12)\n",
      "        'Hello world!'\n",
      "        >>> textwrap.shorten(\"Hello  world!\", width=11)\n",
      "        'Hello [...]'\n",
      "    \n",
      "**************************************************\n",
      "wrap:\n",
      "Wrap a single paragraph of text, returning a list of wrapped lines.\n",
      "\n",
      "    Reformat the single paragraph in 'text' so it fits in lines of no\n",
      "    more than 'width' columns, and return a list of wrapped lines.  By\n",
      "    default, tabs in 'text' are expanded with string.expandtabs(), and\n",
      "    all other whitespace characters (including newline) are converted to\n",
      "    space.  See TextWrapper class for available keyword args to customize\n",
      "    wrapping behaviour.\n",
      "    \n",
      "**************************************************\n"
     ]
    }
   ],
   "source": [
    "import textwrap\n",
    "\n",
    "methods = ['dedent', 'fill', 'indent',  'shorten', 'wrap']\n",
    "\n",
    "for i in methods:\n",
    "    print(i+':')\n",
    "    print(getattr(textwrap,i).__doc__)\n",
    "    print('*'*50)"
   ]
  },
  {
   "cell_type": "markdown",
   "metadata": {},
   "source": [
    "#### **Sample text:**"
   ]
  },
  {
   "cell_type": "code",
   "execution_count": 32,
   "metadata": {},
   "outputs": [
    {
     "name": "stdout",
     "output_type": "stream",
     "text": [
      "count occurrences of word in file linux\r\n",
      "shell script to count number of words in a file\r\n",
      "count occurrences of all words in file linux\r\n",
      "shell script to count number of lines in a file without using wc command\r\n",
      "shell script to counts number of lines and words in a file\r\n",
      "find count of string in file linux.\r\n"
     ]
    }
   ],
   "source": [
    "!cat /home/mana/Work/data.txt"
   ]
  },
  {
   "cell_type": "markdown",
   "metadata": {},
   "source": [
    "### **wrap(Wraps the single paragraph)**\n",
    "> wrap(text, width=70, **kwargs)"
   ]
  },
  {
   "cell_type": "raw",
   "metadata": {},
   "source": [
    "Wraps the single paragraph in text (a string) so every line is at most width characters long. \n",
    "Returns a list of output lines, without final newlines.\n",
    "\n",
    "Optional keyword arguments correspond to the instance attributes of TextWrapper, \n",
    "documented below. width defaults to 70."
   ]
  },
  {
   "cell_type": "code",
   "execution_count": 51,
   "metadata": {},
   "outputs": [
    {
     "data": {
      "text/plain": [
       "['count occurrences of word in file linux. shell script to count number',\n",
       " 'of words in a file. count occurrences of all words in file linux.',\n",
       " 'shell script to count number of lines in a file without using wc',\n",
       " 'command. shell script to counts number of lines and words in a file.',\n",
       " 'find count of string in file linux.']"
      ]
     },
     "execution_count": 51,
     "metadata": {},
     "output_type": "execute_result"
    }
   ],
   "source": [
    "from textwrap import wrap\n",
    "\n",
    "text = '''count occurrences of word in file linux.\n",
    "shell script to count number of words in a file.\n",
    "count occurrences of all words in file linux.\n",
    "shell script to count number of lines in a file without using wc command.\n",
    "shell script to counts number of lines and words in a file.\n",
    "find count of string in file linux.'''\n",
    "\n",
    "wrap(text)"
   ]
  },
  {
   "cell_type": "code",
   "execution_count": 41,
   "metadata": {},
   "outputs": [
    {
     "data": {
      "text/plain": [
       "['count occurrences of word in file linux shell script to count number of words in',\n",
       " 'a file count occurrences of all words in file linux shell script to count number',\n",
       " 'of lines in a file without using wc command shell script to counts number of',\n",
       " 'lines and words in a file find count of string in file linux.']"
      ]
     },
     "execution_count": 41,
     "metadata": {},
     "output_type": "execute_result"
    }
   ],
   "source": [
    "from textwrap import wrap\n",
    "\n",
    "text = '''count occurrences of word in file linux\n",
    "shell script to count number of words in a file\n",
    "count occurrences of all words in file linux\n",
    "shell script to count number of lines in a file without using wc command\n",
    "shell script to counts number of lines and words in a file\n",
    "find count of string in file linux.'''\n",
    "\n",
    "wrap(text, width=80)"
   ]
  },
  {
   "cell_type": "markdown",
   "metadata": {},
   "source": [
    "### **fill**\n",
    ">fill(text, width=70, **kwargs)"
   ]
  },
  {
   "cell_type": "raw",
   "metadata": {},
   "source": [
    "Wraps the single paragraph in text, and returns a single string \n",
    "containing the wrapped paragraph. fill() is shorthand for\n",
    "\"\\n\".join(wrap(text, ...))"
   ]
  },
  {
   "cell_type": "code",
   "execution_count": 48,
   "metadata": {},
   "outputs": [
    {
     "data": {
      "text/plain": [
       "'count occurrences of word in file linux. shell script to count number\\nof words in a file. count occurrences of all words in file linux.\\nshell script to count number of lines in a file without using wc\\ncommand. shell script to counts number of lines and words in a file.\\nfind count of string in file linux.'"
      ]
     },
     "execution_count": 48,
     "metadata": {},
     "output_type": "execute_result"
    }
   ],
   "source": [
    "from textwrap import fill\n",
    "\n",
    "text = '''count occurrences of word in file linux.\n",
    "shell script to count number of words in a file.\n",
    "count occurrences of all words in file linux.\n",
    "shell script to count number of lines in a file without using wc command.\n",
    "shell script to counts number of lines and words in a file.\n",
    "find count of string in file linux.'''\n",
    "\n",
    "fill(text)"
   ]
  },
  {
   "cell_type": "code",
   "execution_count": 53,
   "metadata": {},
   "outputs": [
    {
     "name": "stdout",
     "output_type": "stream",
     "text": [
      "Count occurrences of word in file linux. shell script to count number\n",
      "of words in a file. count occurrences of all words in file linux.\n",
      "shell script to count number of lines in a file without using wc\n",
      "command. shell script to counts number of lines and words in a file.\n",
      "find count of string in file linux.\n"
     ]
    }
   ],
   "source": [
    "from textwrap import fill\n",
    "\n",
    "text = '''Count occurrences of word in file linux.\n",
    "shell script to count number of words in a file.\n",
    "count occurrences of all words in file linux.\n",
    "shell script to count number of lines in a file without using wc command.\n",
    "shell script to counts number of lines and words in a file.\n",
    "find count of string in file linux.'''\n",
    "\n",
    "print(fill(text))"
   ]
  },
  {
   "cell_type": "markdown",
   "metadata": {},
   "source": [
    "### **How to reformat line width in a file?**"
   ]
  },
  {
   "cell_type": "code",
   "execution_count": 2,
   "metadata": {},
   "outputs": [
    {
     "name": "stdout",
     "output_type": "stream",
     "text": [
      "Count occurrences of word in file linux.\r\n",
      "Shell script to count number of words in a file.\r\n",
      "Shell script to count number of lines in a file without using wc command.\r\n",
      "Shell script to counts number of lines and words in a file.\r\n",
      "Find count of string in file linux.\r\n"
     ]
    }
   ],
   "source": [
    "!cat /home/mana/Work/data.txt"
   ]
  },
  {
   "cell_type": "code",
   "execution_count": 1,
   "metadata": {},
   "outputs": [
    {
     "name": "stdout",
     "output_type": "stream",
     "text": [
      "Count occurrences of word in file linux. Shell script to count number\n",
      "of words in a file. Shell script to count number of lines in a file\n",
      "without using wc command. Shell script to counts number of lines and\n",
      "words in a file. Find count of string in file linux.\n"
     ]
    }
   ],
   "source": [
    "from textwrap import fill, wrap\n",
    "from pathlib import Path\n",
    "\n",
    "file = Path('/home/mana/Work/data.txt').read_text()\n",
    "print(fill(file))"
   ]
  },
  {
   "cell_type": "markdown",
   "metadata": {},
   "source": [
    "### **shorten(Collapse and truncate the given text to fit in the given width.)**\n",
    ">shorten(text, width, **kwargs)"
   ]
  },
  {
   "cell_type": "raw",
   "metadata": {},
   "source": [
    "Collapse and truncate the given text to fit in the given width.\n",
    "\n",
    "First the whitespace in text is collapsed (all whitespace is replaced by single spaces). \n",
    "If the result fits in the width, it is returned. Otherwise, enough words are dropped \n",
    "from the end so that the remaining words plus the placeholder fit within width:"
   ]
  },
  {
   "cell_type": "code",
   "execution_count": 3,
   "metadata": {},
   "outputs": [
    {
     "data": {
      "text/plain": [
       "'Hello world!'"
      ]
     },
     "execution_count": 3,
     "metadata": {},
     "output_type": "execute_result"
    }
   ],
   "source": [
    "from textwrap import shorten\n",
    "\n",
    "shorten(\"Hello  world!\", width=12)"
   ]
  },
  {
   "cell_type": "code",
   "execution_count": 4,
   "metadata": {},
   "outputs": [
    {
     "data": {
      "text/plain": [
       "'Hello [...]'"
      ]
     },
     "execution_count": 4,
     "metadata": {},
     "output_type": "execute_result"
    }
   ],
   "source": [
    "shorten(\"Hello  world!\", width=11)"
   ]
  },
  {
   "cell_type": "code",
   "execution_count": 6,
   "metadata": {},
   "outputs": [
    {
     "data": {
      "text/plain": [
       "'Hello...'"
      ]
     },
     "execution_count": 6,
     "metadata": {},
     "output_type": "execute_result"
    }
   ],
   "source": [
    "shorten(\"Hello world\", width=10, placeholder=\"...\")"
   ]
  },
  {
   "cell_type": "code",
   "execution_count": 11,
   "metadata": {},
   "outputs": [
    {
     "data": {
      "text/plain": [
       "'Count occurrences of word in file linux. shell...'"
      ]
     },
     "execution_count": 11,
     "metadata": {},
     "output_type": "execute_result"
    }
   ],
   "source": [
    "from textwrap import shorten\n",
    "\n",
    "text = '''Count occurrences of word in file linux.\n",
    "shell script to count number of words in a file.\n",
    "count occurrences of all words in file linux.\n",
    "shell script to count number of lines in a file without using wc command.\n",
    "shell script to counts number of lines and words in a file.\n",
    "find count of string in file linux.'''\n",
    "\n",
    "shorten(text, width=50, placeholder = '...')"
   ]
  },
  {
   "cell_type": "markdown",
   "metadata": {},
   "source": [
    "### **dedent(Remove any common leading whitespace from every line in text.)**\n",
    ">dedent(text)"
   ]
  },
  {
   "cell_type": "raw",
   "metadata": {},
   "source": [
    "Remove any common leading whitespace from every line in text.\n",
    "\n",
    "This can be used to make triple-quoted strings line up with the left edge \n",
    "of the display, while still presenting them in the source code in indented form.\n",
    "\n",
    "Note that tabs and spaces are both treated as whitespace, but they are not equal:\n",
    "the lines \"  hello\" and \"\\thello\" are considered to have no common leading whitespace.\n",
    "\n",
    "Lines containing only whitespace are ignored in the input and normalized to a single \n",
    "newline character in the output."
   ]
  },
  {
   "cell_type": "code",
   "execution_count": 16,
   "metadata": {},
   "outputs": [
    {
     "name": "stdout",
     "output_type": "stream",
     "text": [
      "'    hello\\n      world\\n    '\n",
      "hello\n",
      "  world\n",
      "\n",
      "'hello\\n  world\\n'\n"
     ]
    }
   ],
   "source": [
    "from textwrap import dedent\n",
    "\n",
    "s = '''\\\n",
    "    hello\n",
    "      world\n",
    "    '''\n",
    "print(repr(s))\n",
    "print(dedent(s))\n",
    "print(repr(dedent(s)))"
   ]
  },
  {
   "cell_type": "markdown",
   "metadata": {},
   "source": [
    "### **indent**\n",
    ">indent(text, prefix, predicate=None)"
   ]
  },
  {
   "cell_type": "raw",
   "metadata": {},
   "source": [
    "Add prefix to the beginning of selected lines in text.\n",
    "Lines are separated by calling text.splitlines(True).\n",
    "By default, prefix is added to all lines that do not consist \n",
    "solely of whitespace (including any line endings)."
   ]
  },
  {
   "cell_type": "code",
   "execution_count": 20,
   "metadata": {},
   "outputs": [
    {
     "data": {
      "text/plain": [
       "'*hello\\n\\n \\n*world'"
      ]
     },
     "execution_count": 20,
     "metadata": {},
     "output_type": "execute_result"
    }
   ],
   "source": [
    "from textwrap import indent\n",
    "\n",
    "s = 'hello\\n\\n \\nworld'\n",
    "indent(s, '*')"
   ]
  },
  {
   "cell_type": "code",
   "execution_count": 24,
   "metadata": {},
   "outputs": [
    {
     "name": "stdout",
     "output_type": "stream",
     "text": [
      "=> hello\n",
      "\n",
      " \n",
      "=> world\n"
     ]
    }
   ],
   "source": [
    "from textwrap import indent\n",
    "\n",
    "s = 'hello\\n\\n \\nworld'\n",
    "print(indent(s, '=> '))"
   ]
  },
  {
   "cell_type": "raw",
   "metadata": {},
   "source": [
    "The optional predicate argument can be used to control which lines are indented. \n",
    "For example, it is easy to add prefix to even empty and whitespace-only lines:"
   ]
  },
  {
   "cell_type": "code",
   "execution_count": 25,
   "metadata": {},
   "outputs": [
    {
     "name": "stdout",
     "output_type": "stream",
     "text": [
      "+ hello\n",
      "+ \n",
      "+  \n",
      "+ world\n"
     ]
    }
   ],
   "source": [
    "print(indent(s, '+ ', lambda line: True))"
   ]
  },
  {
   "cell_type": "markdown",
   "metadata": {},
   "source": [
    "## **TextWrapper**\n",
    ">TextWrapper(**kwargs)"
   ]
  },
  {
   "cell_type": "raw",
   "metadata": {},
   "source": [
    "wrap(), fill() and shorten() work by creating a TextWrapper instance \n",
    "and calling a single method on it. That instance is not reused, so for \n",
    "applications that process many text strings using wrap() and/or fill(), \n",
    "it may be more efficient to create your own TextWrapper object."
   ]
  },
  {
   "cell_type": "raw",
   "metadata": {},
   "source": [
    "The TextWrapper constructor accepts a number of optional keyword arguments. \n",
    "Each keyword argument corresponds to an instance attribute, so for example"
   ]
  },
  {
   "cell_type": "code",
   "execution_count": 2,
   "metadata": {},
   "outputs": [],
   "source": [
    "from textwrap import TextWrapper\n",
    "\n",
    "wrapper = TextWrapper(initial_indent=\"* \")"
   ]
  },
  {
   "cell_type": "raw",
   "metadata": {},
   "source": [
    "same as"
   ]
  },
  {
   "cell_type": "code",
   "execution_count": 3,
   "metadata": {},
   "outputs": [],
   "source": [
    "wrapper = TextWrapper()\n",
    "wrapper.initial_indent = \"* \""
   ]
  },
  {
   "cell_type": "raw",
   "metadata": {},
   "source": [
    "You can re-use the same TextWrapper object many times, \n",
    "and you can change any of its options through direct assignment \n",
    "to instance attributes between uses."
   ]
  },
  {
   "cell_type": "raw",
   "metadata": {},
   "source": [
    "The TextWrapper instance attributes \n",
    "(and keyword arguments to the constructor) are as follows:"
   ]
  },
  {
   "cell_type": "code",
   "execution_count": 6,
   "metadata": {},
   "outputs": [
    {
     "name": "stdout",
     "output_type": "stream",
     "text": [
      "* Count occurrences of word in file linux. shell script to count\n",
      "number of words in a file. count occurrences of all words in file\n",
      "linux. shell script to count number of lines in a file without using\n",
      "wc command. shell script to counts number of lines and words in a\n",
      "file. find count of string in file linux.\n"
     ]
    }
   ],
   "source": [
    "from textwrap import TextWrapper\n",
    "\n",
    "text = '''Count occurrences of word in file linux.\n",
    "shell script to count number of words in a file.\n",
    "count occurrences of all words in file linux.\n",
    "shell script to count number of lines in a file without using wc command.\n",
    "shell script to counts number of lines and words in a file.\n",
    "find count of string in file linux.'''\n",
    "\n",
    "wrapper = TextWrapper(initial_indent=\"* \")\n",
    "print(wrapper.fill(text))\n",
    "\n"
   ]
  },
  {
   "cell_type": "code",
   "execution_count": 11,
   "metadata": {},
   "outputs": [
    {
     "name": "stdout",
     "output_type": "stream",
     "text": [
      "\t Count occurrences of word in file linux. shell script to\n",
      "    count number of words in a file. count occurrences of\n",
      "    all words in file linux. shell script to count number of\n",
      "    lines in a file without using wc command. shell script\n",
      "    to counts number of lines and words in a file. find\n",
      "    count of string in file linux.\n"
     ]
    }
   ],
   "source": [
    "from textwrap import TextWrapper\n",
    "\n",
    "text = '''Count occurrences of word in file linux.\n",
    "shell script to count number of words in a file.\n",
    "count occurrences of all words in file linux.\n",
    "shell script to count number of lines in a file without using wc command.\n",
    "shell script to counts number of lines and words in a file.\n",
    "find count of string in file linux.'''\n",
    "\n",
    "wrapper = TextWrapper()\n",
    "wrapper.initial_indent = \"\\t \"\n",
    "wrapper.subsequent_indent='\\t\\T ' * 4\n",
    "wrapper.width = 60\n",
    "print(wrapper.fill(text))\n",
    "\n"
   ]
  },
  {
   "cell_type": "code",
   "execution_count": null,
   "metadata": {},
   "outputs": [],
   "source": []
  }
 ],
 "metadata": {
  "kernelspec": {
   "display_name": "Python 3",
   "language": "python",
   "name": "python3"
  },
  "language_info": {
   "codemirror_mode": {
    "name": "ipython",
    "version": 3
   },
   "file_extension": ".py",
   "mimetype": "text/x-python",
   "name": "python",
   "nbconvert_exporter": "python",
   "pygments_lexer": "ipython3",
   "version": "3.6.9"
  }
 },
 "nbformat": 4,
 "nbformat_minor": 2
}
