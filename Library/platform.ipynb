{
 "cells": [
  {
   "cell_type": "markdown",
   "metadata": {},
   "source": [
    "# platform\n",
    "Access to underlying platform’s identifying data"
   ]
  },
  {
   "cell_type": "code",
   "execution_count": 1,
   "metadata": {
    "scrolled": false
   },
   "outputs": [
    {
     "name": "stdout",
     "output_type": "stream",
     "text": [
      "Help on module platform:\n",
      "\n",
      "NAME\n",
      "    platform\n",
      "\n",
      "MODULE REFERENCE\n",
      "    https://docs.python.org/3.5/library/platform.html\n",
      "    \n",
      "    The following documentation is automatically generated from the Python\n",
      "    source files.  It may be incomplete, incorrect or include features that\n",
      "    are considered implementation detail and may vary between Python\n",
      "    implementations.  When in doubt, consult the module reference at the\n",
      "    location listed above.\n",
      "\n",
      "DESCRIPTION\n",
      "    This module tries to retrieve as much platform-identifying data as\n",
      "    possible. It makes this information available via function APIs.\n",
      "    \n",
      "    If called from the command line, it prints the platform\n",
      "    information concatenated as single string to stdout. The output\n",
      "    format is useable as part of a filename.\n",
      "\n",
      "CLASSES\n",
      "    builtins.tuple(builtins.object)\n",
      "        uname_result\n",
      "    \n",
      "    class uname_result(builtins.tuple)\n",
      "     |  uname_result(system, node, release, version, machine, processor)\n",
      "     |  \n",
      "     |  Method resolution order:\n",
      "     |      uname_result\n",
      "     |      builtins.tuple\n",
      "     |      builtins.object\n",
      "     |  \n",
      "     |  Methods defined here:\n",
      "     |  \n",
      "     |  __getnewargs__(self)\n",
      "     |      Return self as a plain tuple.  Used by copy and pickle.\n",
      "     |  \n",
      "     |  __repr__(self)\n",
      "     |      Return a nicely formatted representation string\n",
      "     |  \n",
      "     |  _asdict(self)\n",
      "     |      Return a new OrderedDict which maps field names to their values.\n",
      "     |  \n",
      "     |  _replace(_self, **kwds)\n",
      "     |      Return a new uname_result object replacing specified fields with new values\n",
      "     |  \n",
      "     |  ----------------------------------------------------------------------\n",
      "     |  Class methods defined here:\n",
      "     |  \n",
      "     |  _make(iterable, new=<built-in method __new__ of type object at 0x84d2520>, len=<built-in function len>) from builtins.type\n",
      "     |      Make a new uname_result object from a sequence or iterable\n",
      "     |  \n",
      "     |  ----------------------------------------------------------------------\n",
      "     |  Static methods defined here:\n",
      "     |  \n",
      "     |  __new__(_cls, system, node, release, version, machine, processor)\n",
      "     |      Create new instance of uname_result(system, node, release, version, machine, processor)\n",
      "     |  \n",
      "     |  ----------------------------------------------------------------------\n",
      "     |  Data descriptors defined here:\n",
      "     |  \n",
      "     |  machine\n",
      "     |      Alias for field number 4\n",
      "     |  \n",
      "     |  node\n",
      "     |      Alias for field number 1\n",
      "     |  \n",
      "     |  processor\n",
      "     |      Alias for field number 5\n",
      "     |  \n",
      "     |  release\n",
      "     |      Alias for field number 2\n",
      "     |  \n",
      "     |  system\n",
      "     |      Alias for field number 0\n",
      "     |  \n",
      "     |  version\n",
      "     |      Alias for field number 3\n",
      "     |  \n",
      "     |  ----------------------------------------------------------------------\n",
      "     |  Data and other attributes defined here:\n",
      "     |  \n",
      "     |  _fields = ('system', 'node', 'release', 'version', 'machine', 'process...\n",
      "     |  \n",
      "     |  _source = \"from builtins import property as _property, tupl..._itemget...\n",
      "     |  \n",
      "     |  ----------------------------------------------------------------------\n",
      "     |  Methods inherited from builtins.tuple:\n",
      "     |  \n",
      "     |  __add__(self, value, /)\n",
      "     |      Return self+value.\n",
      "     |  \n",
      "     |  __contains__(self, key, /)\n",
      "     |      Return key in self.\n",
      "     |  \n",
      "     |  __eq__(self, value, /)\n",
      "     |      Return self==value.\n",
      "     |  \n",
      "     |  __ge__(self, value, /)\n",
      "     |      Return self>=value.\n",
      "     |  \n",
      "     |  __getattribute__(self, name, /)\n",
      "     |      Return getattr(self, name).\n",
      "     |  \n",
      "     |  __getitem__(self, key, /)\n",
      "     |      Return self[key].\n",
      "     |  \n",
      "     |  __gt__(self, value, /)\n",
      "     |      Return self>value.\n",
      "     |  \n",
      "     |  __hash__(self, /)\n",
      "     |      Return hash(self).\n",
      "     |  \n",
      "     |  __iter__(self, /)\n",
      "     |      Implement iter(self).\n",
      "     |  \n",
      "     |  __le__(self, value, /)\n",
      "     |      Return self<=value.\n",
      "     |  \n",
      "     |  __len__(self, /)\n",
      "     |      Return len(self).\n",
      "     |  \n",
      "     |  __lt__(self, value, /)\n",
      "     |      Return self<value.\n",
      "     |  \n",
      "     |  __mul__(self, value, /)\n",
      "     |      Return self*value.n\n",
      "     |  \n",
      "     |  __ne__(self, value, /)\n",
      "     |      Return self!=value.\n",
      "     |  \n",
      "     |  __rmul__(self, value, /)\n",
      "     |      Return self*value.\n",
      "     |  \n",
      "     |  count(...)\n",
      "     |      T.count(value) -> integer -- return number of occurrences of value\n",
      "     |  \n",
      "     |  index(...)\n",
      "     |      T.index(value, [start, [stop]]) -> integer -- return first index of value.\n",
      "     |      Raises ValueError if the value is not present.\n",
      "\n",
      "FUNCTIONS\n",
      "    architecture(executable='/usr/bin/python3', bits='', linkage='')\n",
      "        Queries the given executable (defaults to the Python interpreter\n",
      "        binary) for various architecture information.\n",
      "        \n",
      "        Returns a tuple (bits, linkage) which contains information about\n",
      "        the bit architecture and the linkage format used for the\n",
      "        executable. Both values are returned as strings.\n",
      "        \n",
      "        Values that cannot be determined are returned as given by the\n",
      "        parameter presets. If bits is given as '', the sizeof(pointer)\n",
      "        (or sizeof(long) on Python version < 1.5.2) is used as\n",
      "        indicator for the supported pointer size.\n",
      "        \n",
      "        The function relies on the system's \"file\" command to do the\n",
      "        actual work. This is available on most if not all Unix\n",
      "        platforms. On some non-Unix platforms where the \"file\" command\n",
      "        does not exist and the executable is set to the Python interpreter\n",
      "        binary defaults from _default_architecture are used.\n",
      "    \n",
      "    dist(distname='', version='', id='', supported_dists=('SuSE', 'debian', 'fedora', 'redhat', 'centos', 'mandrake', 'mandriva', 'rocks', 'slackware', 'yellowdog', 'gentoo', 'UnitedLinux', 'turbolinux', 'arch', 'mageia', 'Ubuntu'))\n",
      "        Tries to determine the name of the Linux OS distribution name.\n",
      "        \n",
      "        The function first looks for a distribution release file in\n",
      "        /etc and then reverts to _dist_try_harder() in case no\n",
      "        suitable files are found.\n",
      "        \n",
      "        Returns a tuple (distname, version, id) which default to the\n",
      "        args given as parameters.\n",
      "    \n",
      "    java_ver(release='', vendor='', vminfo=('', '', ''), osinfo=('', '', ''))\n",
      "        Version interface for Jython.\n",
      "        \n",
      "        Returns a tuple (release, vendor, vminfo, osinfo) with vminfo being\n",
      "        a tuple (vm_name, vm_release, vm_vendor) and osinfo being a\n",
      "        tuple (os_name, os_version, os_arch).\n",
      "        \n",
      "        Values which cannot be determined are set to the defaults\n",
      "        given as parameters (which all default to '').\n",
      "    \n",
      "    libc_ver(executable='/usr/bin/python3', lib='', version='', chunksize=16384)\n",
      "        Tries to determine the libc version that the file executable\n",
      "        (which defaults to the Python interpreter) is linked against.\n",
      "        \n",
      "        Returns a tuple of strings (lib,version) which default to the\n",
      "        given parameters in case the lookup fails.\n",
      "        \n",
      "        Note that the function has intimate knowledge of how different\n",
      "        libc versions add symbols to the executable and thus is probably\n",
      "        only useable for executables compiled using gcc.\n",
      "        \n",
      "        The file is read and scanned in chunks of chunksize bytes.\n",
      "    \n",
      "    linux_distribution(distname='', version='', id='', supported_dists=('SuSE', 'debian', 'fedora', 'redhat', 'centos', 'mandrake', 'mandriva', 'rocks', 'slackware', 'yellowdog', 'gentoo', 'UnitedLinux', 'turbolinux', 'arch', 'mageia', 'Ubuntu'), full_distribution_name=1)\n",
      "    \n",
      "    mac_ver(release='', versioninfo=('', '', ''), machine='')\n",
      "        Get MacOS version information and return it as tuple (release,\n",
      "        versioninfo, machine) with versioninfo being a tuple (version,\n",
      "        dev_stage, non_release_version).\n",
      "        \n",
      "        Entries which cannot be determined are set to the parameter values\n",
      "        which default to ''. All tuple entries are strings.\n",
      "    \n",
      "    machine()\n",
      "        Returns the machine type, e.g. 'i386'\n",
      "        \n",
      "        An empty string is returned if the value cannot be determined.\n",
      "    \n",
      "    node()\n",
      "        Returns the computer's network name (which may not be fully\n",
      "        qualified)\n",
      "        \n",
      "        An empty string is returned if the value cannot be determined.\n",
      "    \n",
      "    platform(aliased=0, terse=0)\n",
      "        Returns a single string identifying the underlying platform\n",
      "        with as much useful information as possible (but no more :).\n",
      "        \n",
      "        The output is intended to be human readable rather than\n",
      "        machine parseable. It may look different on different\n",
      "        platforms and this is intended.\n",
      "        \n",
      "        If \"aliased\" is true, the function will use aliases for\n",
      "        various platforms that report system names which differ from\n",
      "        their common names, e.g. SunOS will be reported as\n",
      "        Solaris. The system_alias() function is used to implement\n",
      "        this.\n",
      "        \n",
      "        Setting terse to true causes the function to return only the\n",
      "        absolute minimum information needed to identify the platform.\n",
      "    \n",
      "    popen(cmd, mode='r', bufsize=-1)\n",
      "        Portable popen() interface.\n",
      "    \n",
      "    processor()\n",
      "        Returns the (true) processor name, e.g. 'amdk6'\n",
      "        \n",
      "        An empty string is returned if the value cannot be\n",
      "        determined. Note that many platforms do not provide this\n",
      "        information or simply return the same value as for machine(),\n",
      "        e.g.  NetBSD does this.\n",
      "    \n",
      "    python_branch()\n",
      "        Returns a string identifying the Python implementation\n",
      "        branch.\n",
      "        \n",
      "        For CPython this is the Subversion branch from which the\n",
      "        Python binary was built.\n",
      "        \n",
      "        If not available, an empty string is returned.\n",
      "    \n",
      "    python_build()\n",
      "        Returns a tuple (buildno, builddate) stating the Python\n",
      "        build number and date as strings.\n",
      "    \n",
      "    python_compiler()\n",
      "        Returns a string identifying the compiler used for compiling\n",
      "        Python.\n",
      "    \n",
      "    python_implementation()\n",
      "        Returns a string identifying the Python implementation.\n",
      "        \n",
      "        Currently, the following implementations are identified:\n",
      "          'CPython' (C implementation of Python),\n",
      "          'IronPython' (.NET implementation of Python),\n",
      "          'Jython' (Java implementation of Python),\n",
      "          'PyPy' (Python implementation of Python).\n",
      "    \n",
      "    python_revision()\n",
      "        Returns a string identifying the Python implementation\n",
      "        revision.\n",
      "        \n",
      "        For CPython this is the Subversion revision from which the\n",
      "        Python binary was built.\n",
      "        \n",
      "        If not available, an empty string is returned.\n",
      "    \n",
      "    python_version()\n",
      "        Returns the Python version as string 'major.minor.patchlevel'\n",
      "        \n",
      "        Note that unlike the Python sys.version, the returned value\n",
      "        will always include the patchlevel (it defaults to 0).\n",
      "    \n",
      "    python_version_tuple()\n",
      "        Returns the Python version as tuple (major, minor, patchlevel)\n",
      "        of strings.\n",
      "        \n",
      "        Note that unlike the Python sys.version, the returned value\n",
      "        will always include the patchlevel (it defaults to 0).\n",
      "    \n",
      "    release()\n",
      "        Returns the system's release, e.g. '2.2.0' or 'NT'\n",
      "        \n",
      "        An empty string is returned if the value cannot be determined.\n",
      "    \n",
      "    system()\n",
      "        Returns the system/OS name, e.g. 'Linux', 'Windows' or 'Java'.\n",
      "        \n",
      "        An empty string is returned if the value cannot be determined.\n",
      "    \n",
      "    system_alias(system, release, version)\n",
      "        Returns (system, release, version) aliased to common\n",
      "        marketing names used for some systems.\n",
      "        \n",
      "        It also does some reordering of the information in some cases\n",
      "        where it would otherwise cause confusion.\n",
      "    \n",
      "    uname()\n",
      "        Fairly portable uname interface. Returns a tuple\n",
      "        of strings (system, node, release, version, machine, processor)\n",
      "        identifying the underlying platform.\n",
      "        \n",
      "        Note that unlike the os.uname function this also returns\n",
      "        possible processor information as an additional tuple entry.\n",
      "        \n",
      "        Entries which cannot be determined are set to ''.\n",
      "    \n",
      "    version()\n",
      "        Returns the system's release version, e.g. '#3 on degas'\n",
      "        \n",
      "        An empty string is returned if the value cannot be determined.\n",
      "    \n",
      "    win32_ver(release='', version='', csd='', ptype='')\n",
      "\n",
      "DATA\n",
      "    DEV_NULL = '/dev/null'\n",
      "    __copyright__ = '\\n    Copyright (c) 1999-2000, Marc-Andre Lemburg... ...\n",
      "\n",
      "VERSION\n",
      "    1.0.7\n",
      "\n",
      "FILE\n",
      "    /usr/lib/python3.5/platform.py\n",
      "\n",
      "\n"
     ]
    }
   ],
   "source": [
    "import platform\n",
    "\n",
    "help(platform)"
   ]
  },
  {
   "cell_type": "code",
   "execution_count": 3,
   "metadata": {},
   "outputs": [
    {
     "data": {
      "text/plain": [
       "['DEV_NULL',\n",
       " '_UNIXCONFDIR',\n",
       " '_WIN32_CLIENT_RELEASES',\n",
       " '_WIN32_SERVER_RELEASES',\n",
       " '__builtins__',\n",
       " '__cached__',\n",
       " '__copyright__',\n",
       " '__doc__',\n",
       " '__file__',\n",
       " '__loader__',\n",
       " '__name__',\n",
       " '__package__',\n",
       " '__spec__',\n",
       " '__version__',\n",
       " '_codename_file_re',\n",
       " '_default_architecture',\n",
       " '_dist_try_harder',\n",
       " '_distributor_id_file_re',\n",
       " '_follow_symlinks',\n",
       " '_get_real_winver',\n",
       " '_ironpython26_sys_version_parser',\n",
       " '_ironpython_sys_version_parser',\n",
       " '_java_getprop',\n",
       " '_libc_search',\n",
       " '_linux_distribution',\n",
       " '_lsb_release_version',\n",
       " '_mac_ver_xml',\n",
       " '_node',\n",
       " '_norm_version',\n",
       " '_parse_release_file',\n",
       " '_platform',\n",
       " '_platform_cache',\n",
       " '_pypy_sys_version_parser',\n",
       " '_release_file_re',\n",
       " '_release_filename',\n",
       " '_release_version',\n",
       " '_supported_dists',\n",
       " '_sys_version',\n",
       " '_sys_version_cache',\n",
       " '_sys_version_parser',\n",
       " '_syscmd_file',\n",
       " '_syscmd_uname',\n",
       " '_syscmd_ver',\n",
       " '_uname_cache',\n",
       " '_ver_output',\n",
       " 'architecture',\n",
       " 'collections',\n",
       " 'dist',\n",
       " 'java_ver',\n",
       " 'libc_ver',\n",
       " 'linux_distribution',\n",
       " 'mac_ver',\n",
       " 'machine',\n",
       " 'node',\n",
       " 'os',\n",
       " 'platform',\n",
       " 'popen',\n",
       " 'processor',\n",
       " 'python_branch',\n",
       " 'python_build',\n",
       " 'python_compiler',\n",
       " 'python_implementation',\n",
       " 'python_revision',\n",
       " 'python_version',\n",
       " 'python_version_tuple',\n",
       " 're',\n",
       " 'release',\n",
       " 'subprocess',\n",
       " 'sys',\n",
       " 'system',\n",
       " 'system_alias',\n",
       " 'uname',\n",
       " 'uname_result',\n",
       " 'version',\n",
       " 'warnings',\n",
       " 'win32_ver']"
      ]
     },
     "execution_count": 3,
     "metadata": {},
     "output_type": "execute_result"
    }
   ],
   "source": [
    "import platform \n",
    "\n",
    "dir(platform)"
   ]
  },
  {
   "cell_type": "markdown",
   "metadata": {},
   "source": [
    "### List platform module variables"
   ]
  },
  {
   "cell_type": "code",
   "execution_count": 8,
   "metadata": {},
   "outputs": [
    {
     "data": {
      "text/plain": [
       "['DEV_NULL', 'collections', 'os', 're', 'subprocess', 'sys', 'warnings']"
      ]
     },
     "execution_count": 8,
     "metadata": {},
     "output_type": "execute_result"
    }
   ],
   "source": [
    "import platform \n",
    "\n",
    "[i for i in dir(platform) if not callable(getattr(platform, i)) \n",
    " and not i.startswith('_')]"
   ]
  },
  {
   "cell_type": "code",
   "execution_count": 38,
   "metadata": {},
   "outputs": [
    {
     "data": {
      "text/plain": [
       "<module 'os' from '/usr/lib/python3.5/os.py'>"
      ]
     },
     "execution_count": 38,
     "metadata": {},
     "output_type": "execute_result"
    }
   ],
   "source": [
    "platform.os"
   ]
  },
  {
   "cell_type": "code",
   "execution_count": 39,
   "metadata": {},
   "outputs": [
    {
     "data": {
      "text/plain": [
       "<module 're' from '/usr/lib/python3.5/re.py'>"
      ]
     },
     "execution_count": 39,
     "metadata": {},
     "output_type": "execute_result"
    }
   ],
   "source": [
    "platform.re"
   ]
  },
  {
   "cell_type": "code",
   "execution_count": 40,
   "metadata": {},
   "outputs": [
    {
     "data": {
      "text/plain": [
       "<module 'sys' (built-in)>"
      ]
     },
     "execution_count": 40,
     "metadata": {},
     "output_type": "execute_result"
    }
   ],
   "source": [
    "platform.sys"
   ]
  },
  {
   "cell_type": "markdown",
   "metadata": {},
   "source": [
    "### List platform module methods"
   ]
  },
  {
   "cell_type": "code",
   "execution_count": 7,
   "metadata": {},
   "outputs": [
    {
     "data": {
      "text/plain": [
       "['architecture',\n",
       " 'dist',\n",
       " 'java_ver',\n",
       " 'libc_ver',\n",
       " 'linux_distribution',\n",
       " 'mac_ver',\n",
       " 'machine',\n",
       " 'node',\n",
       " 'platform',\n",
       " 'popen',\n",
       " 'processor',\n",
       " 'python_branch',\n",
       " 'python_build',\n",
       " 'python_compiler',\n",
       " 'python_implementation',\n",
       " 'python_revision',\n",
       " 'python_version',\n",
       " 'python_version_tuple',\n",
       " 'release',\n",
       " 'system',\n",
       " 'system_alias',\n",
       " 'uname',\n",
       " 'uname_result',\n",
       " 'version',\n",
       " 'win32_ver']"
      ]
     },
     "execution_count": 7,
     "metadata": {},
     "output_type": "execute_result"
    }
   ],
   "source": [
    "import platform \n",
    "\n",
    "[i for i in dir(platform) if callable(getattr(platform, i)) \n",
    " and not i.startswith('_')]"
   ]
  },
  {
   "cell_type": "markdown",
   "metadata": {},
   "source": [
    "## Methods"
   ]
  },
  {
   "cell_type": "markdown",
   "metadata": {},
   "source": [
    "### architecture(executable=sys.executable, bits='', linkage='')"
   ]
  },
  {
   "cell_type": "raw",
   "metadata": {},
   "source": [
    "Queries the given executable (defaults to the Python interpreter binary) for various architecture information.\n",
    "\n",
    "Returns a tuple (bits, linkage) which contain information about the bit architecture and the\n",
    "linkage format used for the executable. Both values are returned as strings."
   ]
  },
  {
   "cell_type": "code",
   "execution_count": 9,
   "metadata": {},
   "outputs": [
    {
     "data": {
      "text/plain": [
       "('32bit', 'ELF')"
      ]
     },
     "execution_count": 9,
     "metadata": {},
     "output_type": "execute_result"
    }
   ],
   "source": [
    "import platform\n",
    "\n",
    "platform.architecture()"
   ]
  },
  {
   "cell_type": "markdown",
   "metadata": {},
   "source": [
    "### machine()"
   ]
  },
  {
   "cell_type": "raw",
   "metadata": {},
   "source": [
    "Returns the machine type, e.g. 'i386'. An empty string is returned if the value cannot be determined."
   ]
  },
  {
   "cell_type": "code",
   "execution_count": 10,
   "metadata": {},
   "outputs": [
    {
     "data": {
      "text/plain": [
       "'i686'"
      ]
     },
     "execution_count": 10,
     "metadata": {},
     "output_type": "execute_result"
    }
   ],
   "source": [
    "import platform \n",
    "\n",
    "platform.machine()"
   ]
  },
  {
   "cell_type": "markdown",
   "metadata": {},
   "source": [
    "### node()"
   ]
  },
  {
   "cell_type": "raw",
   "metadata": {},
   "source": [
    "Returns the computer’s network name (may not be fully qualified!). An empty string is returned\n",
    "if the value cannot be determined."
   ]
  },
  {
   "cell_type": "code",
   "execution_count": 12,
   "metadata": {},
   "outputs": [
    {
     "data": {
      "text/plain": [
       "'joe'"
      ]
     },
     "execution_count": 12,
     "metadata": {},
     "output_type": "execute_result"
    }
   ],
   "source": [
    "import platform\n",
    "platform.node()"
   ]
  },
  {
   "cell_type": "markdown",
   "metadata": {},
   "source": [
    "### platform(aliased=0, terse=0)"
   ]
  },
  {
   "cell_type": "raw",
   "metadata": {},
   "source": [
    "Returns a single string identifying the underlying platform with as much useful information as possible.\n",
    "\n",
    "The output is intended to be human readable rather than machine parseable. It may look different on different platforms and this is intended.\n",
    "\n",
    "If aliased is true, the function will use aliases for various platforms that report system names which differ from their common names, for example SunOS will be reported as Solaris. The system_alias() function is used to implement this.\n",
    "\n",
    "Setting terse to true causes the function to return only the absolute minimum information needed to identify the platform."
   ]
  },
  {
   "cell_type": "code",
   "execution_count": 13,
   "metadata": {},
   "outputs": [
    {
     "data": {
      "text/plain": [
       "'Linux-4.4.0-104-generic-i686-with-Ubuntu-16.04-xenial'"
      ]
     },
     "execution_count": 13,
     "metadata": {},
     "output_type": "execute_result"
    }
   ],
   "source": [
    "import platform\n",
    "\n",
    "platform.platform()"
   ]
  },
  {
   "cell_type": "code",
   "execution_count": 14,
   "metadata": {},
   "outputs": [
    {
     "data": {
      "text/plain": [
       "'Linux-4.4.0-104-generic-i686-with-Ubuntu-16.04-xenial'"
      ]
     },
     "execution_count": 14,
     "metadata": {},
     "output_type": "execute_result"
    }
   ],
   "source": [
    "import platform\n",
    "\n",
    "platform.platform(aliased=1)"
   ]
  },
  {
   "cell_type": "code",
   "execution_count": 15,
   "metadata": {},
   "outputs": [
    {
     "data": {
      "text/plain": [
       "'Linux-4.4.0-104-generic-i686-with-glibc2.9'"
      ]
     },
     "execution_count": 15,
     "metadata": {},
     "output_type": "execute_result"
    }
   ],
   "source": [
    "import platform\n",
    "\n",
    "platform.platform(terse=1)"
   ]
  },
  {
   "cell_type": "markdown",
   "metadata": {},
   "source": [
    "### processor()"
   ]
  },
  {
   "cell_type": "raw",
   "metadata": {},
   "source": [
    "Returns the (real) processor name, e.g. 'amdk6'."
   ]
  },
  {
   "cell_type": "code",
   "execution_count": 16,
   "metadata": {},
   "outputs": [
    {
     "data": {
      "text/plain": [
       "'i686'"
      ]
     },
     "execution_count": 16,
     "metadata": {},
     "output_type": "execute_result"
    }
   ],
   "source": [
    "import platform\n",
    "\n",
    "platform.processor()"
   ]
  },
  {
   "cell_type": "markdown",
   "metadata": {},
   "source": [
    "### python_implementation()"
   ]
  },
  {
   "cell_type": "raw",
   "metadata": {},
   "source": [
    "Returns a string identifying the Python implementation. Possible return values are:\n",
    "‘CPython’, ‘IronPython’, ‘Jython’, ‘PyPy’."
   ]
  },
  {
   "cell_type": "code",
   "execution_count": 18,
   "metadata": {},
   "outputs": [
    {
     "data": {
      "text/plain": [
       "'CPython'"
      ]
     },
     "execution_count": 18,
     "metadata": {},
     "output_type": "execute_result"
    }
   ],
   "source": [
    "platform.python_implementation()"
   ]
  },
  {
   "cell_type": "markdown",
   "metadata": {},
   "source": [
    "### python_version()"
   ]
  },
  {
   "cell_type": "raw",
   "metadata": {},
   "source": [
    "Returns the Python version as string 'major.minor.patchlevel'.\n",
    "\n",
    "Note that unlike the Python sys.version, the returned value will always include\n",
    "the patchlevel (it defaults to 0)."
   ]
  },
  {
   "cell_type": "code",
   "execution_count": 19,
   "metadata": {},
   "outputs": [
    {
     "data": {
      "text/plain": [
       "'3.5.2'"
      ]
     },
     "execution_count": 19,
     "metadata": {},
     "output_type": "execute_result"
    }
   ],
   "source": [
    "platform.python_version()"
   ]
  },
  {
   "cell_type": "markdown",
   "metadata": {},
   "source": [
    "### python_version_tuple()"
   ]
  },
  {
   "cell_type": "raw",
   "metadata": {},
   "source": [
    "Returns the Python version as tuple (major, minor, patchlevel) of strings.\n",
    "\n",
    "Note that unlike the Python sys.version, the returned value will always\n",
    "include the patchlevel (it defaults to '0')."
   ]
  },
  {
   "cell_type": "code",
   "execution_count": 21,
   "metadata": {},
   "outputs": [
    {
     "data": {
      "text/plain": [
       "('3', '5', '2')"
      ]
     },
     "execution_count": 21,
     "metadata": {},
     "output_type": "execute_result"
    }
   ],
   "source": [
    "platform.python_version_tuple()"
   ]
  },
  {
   "cell_type": "markdown",
   "metadata": {},
   "source": [
    "### release()"
   ]
  },
  {
   "cell_type": "raw",
   "metadata": {},
   "source": [
    "Returns the system’s release, e.g. '2.2.0' or 'NT' An empty string is\n",
    "returned if the value cannot be determined."
   ]
  },
  {
   "cell_type": "code",
   "execution_count": 22,
   "metadata": {},
   "outputs": [
    {
     "data": {
      "text/plain": [
       "'4.4.0-104-generic'"
      ]
     },
     "execution_count": 22,
     "metadata": {},
     "output_type": "execute_result"
    }
   ],
   "source": [
    "platform.release()"
   ]
  },
  {
   "cell_type": "markdown",
   "metadata": {},
   "source": [
    "### system()"
   ]
  },
  {
   "cell_type": "raw",
   "metadata": {},
   "source": [
    "Returns the system/OS name, e.g. 'Linux', 'Windows', or 'Java'. An empty string is returned\n",
    "if the value cannot be determined."
   ]
  },
  {
   "cell_type": "code",
   "execution_count": 23,
   "metadata": {},
   "outputs": [
    {
     "data": {
      "text/plain": [
       "'Linux'"
      ]
     },
     "execution_count": 23,
     "metadata": {},
     "output_type": "execute_result"
    }
   ],
   "source": [
    "platform.system()"
   ]
  },
  {
   "cell_type": "markdown",
   "metadata": {},
   "source": [
    "### system_alias(system, release, version)"
   ]
  },
  {
   "cell_type": "raw",
   "metadata": {},
   "source": [
    "Returns (system, release, version) aliased to common marketing names used for some systems. \n",
    "It also does some reordering of the information in some cases where it would otherwise cause confusion."
   ]
  },
  {
   "cell_type": "code",
   "execution_count": 31,
   "metadata": {},
   "outputs": [
    {
     "data": {
      "text/plain": [
       "('Linux', '4.10.0-104-generic', '3.5.2')"
      ]
     },
     "execution_count": 31,
     "metadata": {},
     "output_type": "execute_result"
    }
   ],
   "source": [
    "platform.system_alias('Linux','4.10.0-104-generic','3.5.2')"
   ]
  },
  {
   "cell_type": "markdown",
   "metadata": {},
   "source": [
    "### version()"
   ]
  },
  {
   "cell_type": "raw",
   "metadata": {},
   "source": [
    "Returns the system’s release version, e.g. '#3 on degas'. An empty string is returned\n",
    "if the value cannot be determined."
   ]
  },
  {
   "cell_type": "code",
   "execution_count": 32,
   "metadata": {},
   "outputs": [
    {
     "data": {
      "text/plain": [
       "'#127-Ubuntu SMP Mon Dec 11 12:16:50 UTC 2017'"
      ]
     },
     "execution_count": 32,
     "metadata": {},
     "output_type": "execute_result"
    }
   ],
   "source": [
    "platform.version()"
   ]
  },
  {
   "cell_type": "markdown",
   "metadata": {},
   "source": [
    "### uname()"
   ]
  },
  {
   "cell_type": "raw",
   "metadata": {},
   "source": [
    "Fairly portable uname interface. Returns a namedtuple() containing six attributes: \n",
    "system, node, release, version, machine, and processor.\n",
    "\n",
    "Note that this adds a sixth attribute (processor) not present in the os.uname()\n",
    "result. Also, the attribute names are different for the first two attributes; os.uname() names them sysname and nodename."
   ]
  },
  {
   "cell_type": "code",
   "execution_count": 33,
   "metadata": {},
   "outputs": [
    {
     "data": {
      "text/plain": [
       "uname_result(system='Linux', node='joe', release='4.4.0-104-generic', version='#127-Ubuntu SMP Mon Dec 11 12:16:50 UTC 2017', machine='i686', processor='i686')"
      ]
     },
     "execution_count": 33,
     "metadata": {},
     "output_type": "execute_result"
    }
   ],
   "source": [
    "platform.uname()"
   ]
  },
  {
   "cell_type": "code",
   "execution_count": 34,
   "metadata": {},
   "outputs": [
    {
     "data": {
      "text/plain": [
       "posix.uname_result(sysname='Linux', nodename='joe', release='4.4.0-104-generic', version='#127-Ubuntu SMP Mon Dec 11 12:16:50 UTC 2017', machine='i686')"
      ]
     },
     "execution_count": 34,
     "metadata": {},
     "output_type": "execute_result"
    }
   ],
   "source": [
    "import os\n",
    "\n",
    "os.uname()"
   ]
  },
  {
   "cell_type": "markdown",
   "metadata": {},
   "source": [
    "### dist(distname='', version='', id='', supported_dists=('SuSE', 'debian', 'redhat', 'mandrake', ...))"
   ]
  },
  {
   "cell_type": "raw",
   "metadata": {},
   "source": [
    "This is another name for linux_distribution().\n",
    "\n",
    "Deprecated since version 3.5, will be removed in version 3.8: See alternative like the distro package."
   ]
  },
  {
   "cell_type": "code",
   "execution_count": 35,
   "metadata": {},
   "outputs": [
    {
     "data": {
      "text/plain": [
       "('Ubuntu', '16.04', 'xenial')"
      ]
     },
     "execution_count": 35,
     "metadata": {},
     "output_type": "execute_result"
    }
   ],
   "source": [
    "platform.dist()"
   ]
  },
  {
   "cell_type": "code",
   "execution_count": 36,
   "metadata": {},
   "outputs": [
    {
     "data": {
      "text/plain": [
       "('Ubuntu', '16.04', 'xenial')"
      ]
     },
     "execution_count": 36,
     "metadata": {},
     "output_type": "execute_result"
    }
   ],
   "source": [
    "platform.linux_distribution()"
   ]
  },
  {
   "cell_type": "markdown",
   "metadata": {},
   "source": [
    "### libc_ver(executable=sys.executable, lib='', version='', chunksize=16384)"
   ]
  },
  {
   "cell_type": "code",
   "execution_count": 37,
   "metadata": {},
   "outputs": [
    {
     "data": {
      "text/plain": [
       "('glibc', '2.9')"
      ]
     },
     "execution_count": 37,
     "metadata": {},
     "output_type": "execute_result"
    }
   ],
   "source": [
    "platform.libc_ver()"
   ]
  },
  {
   "cell_type": "code",
   "execution_count": null,
   "metadata": {},
   "outputs": [],
   "source": []
  }
 ],
 "metadata": {
  "kernelspec": {
   "display_name": "Python 3",
   "language": "python",
   "name": "python3"
  },
  "language_info": {
   "codemirror_mode": {
    "name": "ipython",
    "version": 3
   },
   "file_extension": ".py",
   "mimetype": "text/x-python",
   "name": "python",
   "nbconvert_exporter": "python",
   "pygments_lexer": "ipython3",
   "version": "3.5.2"
  }
 },
 "nbformat": 4,
 "nbformat_minor": 2
}
