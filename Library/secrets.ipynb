{
 "cells": [
  {
   "cell_type": "markdown",
   "metadata": {},
   "source": [
    "## **secrets**\n",
    "\n",
    "### Generate secure random numbers for managing secrets\n",
    "https://docs.python.org/3/library/secrets.html#module-secrets"
   ]
  },
  {
   "cell_type": "raw",
   "metadata": {},
   "source": [
    "The secrets module is used for generating cryptographically strong random numbers \n",
    "suitable for managing data such as passwords, account authentication, security tokens,\n",
    "and related secrets.\n",
    "\n",
    "The cryptographically secure random generator generates random data using \n",
    "synchronization methods to ensure that no two processes can obtain the same data at the same time.\n",
    "\n",
    "The secrets module is CSPRNG i.e., cryptographically strong Pseudo-Random Number Generator. \n",
    "It is used to produce random-numbers which are secure and useful in security-sensitive applications. \n",
    "\n",
    "you can use the secrets module for following common security-related functions.\n",
    "\n",
    "1. generating random numbers,\n",
    "2. Passwords and OTP.\n",
    "3. random token.\n",
    "4. Password recovery safe URLs, and session keys.\n",
    "\n",
    "The secrets module is based on os.urandom() and random.SystemRandom(), \n",
    "which are the interface to the operating system’s best source of cryptographic randomness."
   ]
  },
  {
   "cell_type": "markdown",
   "metadata": {},
   "source": [
    "### **secrets methods**"
   ]
  },
  {
   "cell_type": "code",
   "execution_count": 8,
   "metadata": {},
   "outputs": [
    {
     "name": "stdout",
     "output_type": "stream",
     "text": [
      "SystemRandom   choice         compare_digest randbelow      \n",
      "randbits       token_bytes    token_hex      token_urlsafe  \n"
     ]
    }
   ],
   "source": [
    "import secrets\n",
    "\n",
    "methods = [i for i  in dir(secrets) if not i.startswith('_')  \n",
    "           and callable(getattr(secrets,i))]\n",
    "\n",
    "fmt = '{:15s}'*4\n",
    "\n",
    "for fn in zip(*[iter(methods)] *4):\n",
    "    print(fmt.format(*fn))   "
   ]
  },
  {
   "cell_type": "markdown",
   "metadata": {},
   "source": [
    "### **Generate Random Numbers**"
   ]
  },
  {
   "cell_type": "markdown",
   "metadata": {},
   "source": [
    "### **Class secrets.SystemRandom**"
   ]
  },
  {
   "cell_type": "raw",
   "metadata": {},
   "source": [
    "==> A class for generating random numbers using the highest-quality sources \n",
    "    provided by the operating system.\n",
    "==> Using secrets.SystemRandom class, we can use all the functions of a random module.\n",
    "==> Before the secrets module, we were using random.SystemRandom class \n",
    "    to cryptographically secure random data. The same class is also accessible \n",
    "    using the secrets module. Just execute secrets.SystemRandom()."
   ]
  },
  {
   "cell_type": "code",
   "execution_count": 9,
   "metadata": {},
   "outputs": [
    {
     "name": "stdout",
     "output_type": "stream",
     "text": [
      "Random integer numbers generated using secrets module \n",
      "Secure random number is  12\n",
      "Secure random number within range is  12\n",
      "Secure random choice using secrets is  48\n",
      "Secure random sample using secrets is  [36, 6, 24]\n",
      "Secure random float number using secrets is  3.756444282327051\n"
     ]
    }
   ],
   "source": [
    "import secrets\n",
    "print(\"Random integer numbers generated using secrets module \")\n",
    "\n",
    "#Getting systemRandom class instance out of secrets module\n",
    "secretsGenerator = secrets.SystemRandom()\n",
    "\n",
    "#random integer number uisng secrets\n",
    "randomNumber = secretsGenerator.randint(0,50)\n",
    "print(\"Secure random number is \", randomNumber)\n",
    "\n",
    "#random integer number within given range using secrets\n",
    "randomNumber = secretsGenerator.randrange(4, 40, 4)\n",
    "print(\"Secure random number within range is \", randomNumber)\n",
    "\n",
    "#Secure Random choice using secrets\n",
    "number_list = [6, 12, 18, 24, 30, 36, 42, 48, 54, 60]\n",
    "secure_choice = secretsGenerator.choice(number_list)\n",
    "print (\"Secure random choice using secrets is \", secure_choice)\n",
    "\n",
    "#Secure Random sample uisng secrets\n",
    "secure_sample = secretsGenerator.sample(number_list, 3)\n",
    "print (\"Secure random sample using secrets is \", secure_sample)\n",
    "\n",
    "#Secure Random uniform using secrets\n",
    "secure_float = secretsGenerator.uniform(2.5, 25.5)\n",
    "print(\"Secure random float number using secrets is \", secure_float)"
   ]
  },
  {
   "cell_type": "markdown",
   "metadata": {},
   "source": [
    "### **choice(sequence)**\n",
    "Return a randomly-chosen element from a non-empty sequence.\n"
   ]
  },
  {
   "cell_type": "code",
   "execution_count": 12,
   "metadata": {},
   "outputs": [
    {
     "data": {
      "text/plain": [
       "'a'"
      ]
     },
     "execution_count": 12,
     "metadata": {},
     "output_type": "execute_result"
    }
   ],
   "source": [
    "import secrets\n",
    "\n",
    "name = 'Manavalan'\n",
    "secrets.choice(name)"
   ]
  },
  {
   "cell_type": "markdown",
   "metadata": {},
   "source": [
    "### **randbelow(n)**\n",
    "Return a random int in the range [0, n)."
   ]
  },
  {
   "cell_type": "code",
   "execution_count": 15,
   "metadata": {},
   "outputs": [
    {
     "data": {
      "text/plain": [
       "12"
      ]
     },
     "execution_count": 15,
     "metadata": {},
     "output_type": "execute_result"
    }
   ],
   "source": [
    "import secrets\n",
    "\n",
    "secrets.randbelow(15)"
   ]
  },
  {
   "cell_type": "markdown",
   "metadata": {},
   "source": [
    "### **randbits(k)**\n",
    "Return an int with k random bits."
   ]
  },
  {
   "cell_type": "raw",
   "metadata": {},
   "source": [
    "* This method returns a secure unsigned integer with k random bits.\n",
    "* This function is to generate a random bitmask that would contain \n",
    "  N bits set (this is not the same as generating a random integer \n",
    "  since that is not guaranteed to have N bits set in it).\n",
    "* A random number generated using randbits is more secure.\n",
    "\n",
    "It generates a random integer within a bit range.\n",
    "* If k=4 then Unsigned integer From 0 to 15.\n",
    "* k=8 then Unsigned integer From 0 to 255.\n",
    "* If k=16 then Unsigned integer From 0 to 65,535, and so on."
   ]
  },
  {
   "cell_type": "code",
   "execution_count": 17,
   "metadata": {},
   "outputs": [
    {
     "name": "stdout",
     "output_type": "stream",
     "text": [
      "7\n",
      "126\n",
      "26938\n",
      "2062280327\n"
     ]
    }
   ],
   "source": [
    "import secrets\n",
    "\n",
    "print(secrets.randbits(4))\n",
    "print(secrets.randbits(8))\n",
    "print(secrets.randbits(16))\n",
    "print(secrets.randbits(32))"
   ]
  },
  {
   "cell_type": "markdown",
   "metadata": {},
   "source": [
    "### **Generating tokens**\n",
    "The secrets module provides functions for generating secure tokens, \n",
    "\n",
    "suitable for applications such as password resets, hard-to-guess URLs, and similar."
   ]
  },
  {
   "cell_type": "markdown",
   "metadata": {},
   "source": [
    "### **token_bytes([nbytes=None])**\n",
    "\n",
    "Return a random byte string containing nbytes number of bytes."
   ]
  },
  {
   "cell_type": "code",
   "execution_count": 20,
   "metadata": {},
   "outputs": [
    {
     "data": {
      "text/plain": [
       "b'R\\xbcB\\te\\t>\\x8f\\xff%'"
      ]
     },
     "execution_count": 20,
     "metadata": {},
     "output_type": "execute_result"
    }
   ],
   "source": [
    "import secrets\n",
    "\n",
    "secrets.token_bytes(10)"
   ]
  },
  {
   "cell_type": "markdown",
   "metadata": {},
   "source": [
    "### **token_hex([nbytes=None])**\n",
    "Return a random text string, in hexadecimal. The string has nbytes random bytes,\n",
    "\n",
    "each byte converted to two hex digits. If nbytes is None or not supplied, \n",
    "\n",
    "a reasonable default is used."
   ]
  },
  {
   "cell_type": "code",
   "execution_count": 21,
   "metadata": {},
   "outputs": [
    {
     "data": {
      "text/plain": [
       "'3c8d1b69f58b052c8478'"
      ]
     },
     "execution_count": 21,
     "metadata": {},
     "output_type": "execute_result"
    }
   ],
   "source": [
    "import secrets\n",
    "\n",
    "secrets.token_hex(10)"
   ]
  },
  {
   "cell_type": "markdown",
   "metadata": {},
   "source": [
    "### **token_urlsafe([nbytes=None])**\n",
    "Return a random URL-safe text string, containing nbytes random bytes. \n",
    "\n",
    "The text is Base64 encoded, so on average each byte results in approximately 1.3 characters. \n",
    "\n",
    "If nbytes is None or not supplied, a reasonable default is used."
   ]
  },
  {
   "cell_type": "code",
   "execution_count": 23,
   "metadata": {},
   "outputs": [
    {
     "data": {
      "text/plain": [
       "'Xn46ld2Z5Odw_Q'"
      ]
     },
     "execution_count": 23,
     "metadata": {},
     "output_type": "execute_result"
    }
   ],
   "source": [
    "import secrets\n",
    "\n",
    "secrets.token_urlsafe(10)"
   ]
  },
  {
   "cell_type": "markdown",
   "metadata": {},
   "source": [
    "### **How many bytes should tokens use?**"
   ]
  },
  {
   "cell_type": "raw",
   "metadata": {},
   "source": [
    "Tokens need to have sufficient randomness To secure against brute-force attacks \n",
    "and timing attacks. As per experts, 32 bytes (256 bits) of randomness is sufficient \n",
    "to secure against brute-force attacks. You should choose byte size as per your requirement."
   ]
  },
  {
   "cell_type": "markdown",
   "metadata": {},
   "source": [
    "### **Reduce timing attack using secrets.compare_digest(a, b)**"
   ]
  },
  {
   "cell_type": "raw",
   "metadata": {},
   "source": [
    "To reduce the risk of timing attacks secrets module has the compare_digest(a, b) function. \n",
    "This function returns True if string a and b are equal, otherwise False to reduce the risk of timing attacks."
   ]
  },
  {
   "cell_type": "code",
   "execution_count": null,
   "metadata": {},
   "outputs": [],
   "source": []
  },
  {
   "cell_type": "markdown",
   "metadata": {},
   "source": [
    "### **Excercise**"
   ]
  },
  {
   "cell_type": "markdown",
   "metadata": {},
   "source": [
    "#### **Generate an eight-character alphanumeric password:**"
   ]
  },
  {
   "cell_type": "code",
   "execution_count": 34,
   "metadata": {},
   "outputs": [
    {
     "data": {
      "text/plain": [
       "'$pwpZzl#'"
      ]
     },
     "execution_count": 34,
     "metadata": {},
     "output_type": "execute_result"
    }
   ],
   "source": [
    "import string\n",
    "import secrets\n",
    "alphabet = string.ascii_letters + string.digits + '!#$%&*+-:=?@_'\n",
    "password = ''.join(secrets.choice(alphabet) for i in range(8))\n",
    "password"
   ]
  },
  {
   "cell_type": "markdown",
   "metadata": {},
   "source": [
    "#### **Generate a ten-character alphanumeric password with**\n",
    "#### **at least one lowercase character, at least one uppercase character, and at least three digits:**"
   ]
  },
  {
   "cell_type": "code",
   "execution_count": 44,
   "metadata": {},
   "outputs": [
    {
     "name": "stdout",
     "output_type": "stream",
     "text": [
      "2vpSUY5f3h\n"
     ]
    }
   ],
   "source": [
    "import string\n",
    "import secrets\n",
    "alphabet = string.ascii_letters + string.digits\n",
    "while True:\n",
    "    password = ''.join(secrets.choice(alphabet) for i in range(10))\n",
    "    if (any(c.islower() for c in password)\n",
    "            and any(c.isupper() for c in password)\n",
    "            and sum(c.isdigit() for c in password) >= 3):\n",
    "        print(password)\n",
    "        break\n"
   ]
  },
  {
   "cell_type": "markdown",
   "metadata": {},
   "source": [
    "### **Generate an XKCD-style passphrase:**"
   ]
  },
  {
   "cell_type": "code",
   "execution_count": 47,
   "metadata": {},
   "outputs": [
    {
     "data": {
      "text/plain": [
       "['immolates', \"thriftiness's\", 'chlorofluorocarbons', 'prominently']"
      ]
     },
     "execution_count": 47,
     "metadata": {},
     "output_type": "execute_result"
    }
   ],
   "source": [
    "from pathlib import Path\n",
    "from secrets import choice\n",
    "\n",
    "words = Path('/usr/share/dict/words').read_text().splitlines()\n",
    "[choice(words) for _ in range(4)]\n"
   ]
  },
  {
   "cell_type": "code",
   "execution_count": null,
   "metadata": {},
   "outputs": [],
   "source": []
  }
 ],
 "metadata": {
  "kernelspec": {
   "display_name": "Python 3",
   "language": "python",
   "name": "python3"
  },
  "language_info": {
   "codemirror_mode": {
    "name": "ipython",
    "version": 3
   },
   "file_extension": ".py",
   "mimetype": "text/x-python",
   "name": "python",
   "nbconvert_exporter": "python",
   "pygments_lexer": "ipython3",
   "version": "3.6.9"
  }
 },
 "nbformat": 4,
 "nbformat_minor": 2
}
