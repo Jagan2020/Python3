{
 "cells": [
  {
   "cell_type": "markdown",
   "metadata": {},
   "source": [
    "# calendar"
   ]
  },
  {
   "cell_type": "raw",
   "metadata": {},
   "source": [
    "This module allows you to output calendars like the Unix cal program, and provides additional useful functions related to the calendar. By default, these calendars have Monday as the first day of the week, and Sunday as the last (the European convention). Use setfirstweekday() to set the first day of the week to Sunday (6) or to any other weekday."
   ]
  },
  {
   "cell_type": "code",
   "execution_count": 3,
   "metadata": {},
   "outputs": [
    {
     "name": "stdout",
     "output_type": "stream",
     "text": [
      "Help on module calendar:\n",
      "\n",
      "NAME\n",
      "    calendar - Calendar printing functions\n",
      "\n",
      "MODULE REFERENCE\n",
      "    https://docs.python.org/3.5/library/calendar.html\n",
      "    \n",
      "    The following documentation is automatically generated from the Python\n",
      "    source files.  It may be incomplete, incorrect or include features that\n",
      "    are considered implementation detail and may vary between Python\n",
      "    implementations.  When in doubt, consult the module reference at the\n",
      "    location listed above.\n",
      "\n",
      "DESCRIPTION\n",
      "    Note when comparing these calendars to the ones printed by cal(1): By\n",
      "    default, these calendars have Monday as the first day of the week, and\n",
      "    Sunday as the last (the European convention). Use setfirstweekday() to\n",
      "    set the first day of the week (0=Monday, 6=Sunday).\n",
      "\n",
      "CLASSES\n",
      "    builtins.ValueError(builtins.Exception)\n",
      "        IllegalMonthError\n",
      "        IllegalWeekdayError\n",
      "    \n",
      "    class IllegalMonthError(builtins.ValueError)\n",
      "     |  Inappropriate argument value (of correct type).\n",
      "     |  \n",
      "     |  Method resolution order:\n",
      "     |      IllegalMonthError\n",
      "     |      builtins.ValueError\n",
      "     |      builtins.Exception\n",
      "     |      builtins.BaseException\n",
      "     |      builtins.object\n",
      "     |  \n",
      "     |  Methods defined here:\n",
      "     |  \n",
      "     |  __init__(self, month)\n",
      "     |      Initialize self.  See help(type(self)) for accurate signature.\n",
      "     |  \n",
      "     |  __str__(self)\n",
      "     |      Return str(self).\n",
      "     |  \n",
      "     |  ----------------------------------------------------------------------\n",
      "     |  Data descriptors defined here:\n",
      "     |  \n",
      "     |  __weakref__\n",
      "     |      list of weak references to the object (if defined)\n",
      "     |  \n",
      "     |  ----------------------------------------------------------------------\n",
      "     |  Methods inherited from builtins.ValueError:\n",
      "     |  \n",
      "     |  __new__(*args, **kwargs) from builtins.type\n",
      "     |      Create and return a new object.  See help(type) for accurate signature.\n",
      "     |  \n",
      "     |  ----------------------------------------------------------------------\n",
      "     |  Methods inherited from builtins.BaseException:\n",
      "     |  \n",
      "     |  __delattr__(self, name, /)\n",
      "     |      Implement delattr(self, name).\n",
      "     |  \n",
      "     |  __getattribute__(self, name, /)\n",
      "     |      Return getattr(self, name).\n",
      "     |  \n",
      "     |  __reduce__(...)\n",
      "     |      helper for pickle\n",
      "     |  \n",
      "     |  __repr__(self, /)\n",
      "     |      Return repr(self).\n",
      "     |  \n",
      "     |  __setattr__(self, name, value, /)\n",
      "     |      Implement setattr(self, name, value).\n",
      "     |  \n",
      "     |  __setstate__(...)\n",
      "     |  \n",
      "     |  with_traceback(...)\n",
      "     |      Exception.with_traceback(tb) --\n",
      "     |      set self.__traceback__ to tb and return self.\n",
      "     |  \n",
      "     |  ----------------------------------------------------------------------\n",
      "     |  Data descriptors inherited from builtins.BaseException:\n",
      "     |  \n",
      "     |  __cause__\n",
      "     |      exception cause\n",
      "     |  \n",
      "     |  __context__\n",
      "     |      exception context\n",
      "     |  \n",
      "     |  __dict__\n",
      "     |  \n",
      "     |  __suppress_context__\n",
      "     |  \n",
      "     |  __traceback__\n",
      "     |  \n",
      "     |  args\n",
      "    \n",
      "    class IllegalWeekdayError(builtins.ValueError)\n",
      "     |  Inappropriate argument value (of correct type).\n",
      "     |  \n",
      "     |  Method resolution order:\n",
      "     |      IllegalWeekdayError\n",
      "     |      builtins.ValueError\n",
      "     |      builtins.Exception\n",
      "     |      builtins.BaseException\n",
      "     |      builtins.object\n",
      "     |  \n",
      "     |  Methods defined here:\n",
      "     |  \n",
      "     |  __init__(self, weekday)\n",
      "     |      Initialize self.  See help(type(self)) for accurate signature.\n",
      "     |  \n",
      "     |  __str__(self)\n",
      "     |      Return str(self).\n",
      "     |  \n",
      "     |  ----------------------------------------------------------------------\n",
      "     |  Data descriptors defined here:\n",
      "     |  \n",
      "     |  __weakref__\n",
      "     |      list of weak references to the object (if defined)\n",
      "     |  \n",
      "     |  ----------------------------------------------------------------------\n",
      "     |  Methods inherited from builtins.ValueError:\n",
      "     |  \n",
      "     |  __new__(*args, **kwargs) from builtins.type\n",
      "     |      Create and return a new object.  See help(type) for accurate signature.\n",
      "     |  \n",
      "     |  ----------------------------------------------------------------------\n",
      "     |  Methods inherited from builtins.BaseException:\n",
      "     |  \n",
      "     |  __delattr__(self, name, /)\n",
      "     |      Implement delattr(self, name).\n",
      "     |  \n",
      "     |  __getattribute__(self, name, /)\n",
      "     |      Return getattr(self, name).\n",
      "     |  \n",
      "     |  __reduce__(...)\n",
      "     |      helper for pickle\n",
      "     |  \n",
      "     |  __repr__(self, /)\n",
      "     |      Return repr(self).\n",
      "     |  \n",
      "     |  __setattr__(self, name, value, /)\n",
      "     |      Implement setattr(self, name, value).\n",
      "     |  \n",
      "     |  __setstate__(...)\n",
      "     |  \n",
      "     |  with_traceback(...)\n",
      "     |      Exception.with_traceback(tb) --\n",
      "     |      set self.__traceback__ to tb and return self.\n",
      "     |  \n",
      "     |  ----------------------------------------------------------------------\n",
      "     |  Data descriptors inherited from builtins.BaseException:\n",
      "     |  \n",
      "     |  __cause__\n",
      "     |      exception cause\n",
      "     |  \n",
      "     |  __context__\n",
      "     |      exception context\n",
      "     |  \n",
      "     |  __dict__\n",
      "     |  \n",
      "     |  __suppress_context__\n",
      "     |  \n",
      "     |  __traceback__\n",
      "     |  \n",
      "     |  args\n",
      "\n",
      "FUNCTIONS\n",
      "    calendar = formatyear(theyear, w=2, l=1, c=6, m=3) method of TextCalendar instance\n",
      "        Returns a year's calendar as a multi-line string.\n",
      "    \n",
      "    firstweekday = getfirstweekday() method of TextCalendar instance\n",
      "    \n",
      "    isleap(year)\n",
      "        Return True for leap years, False for non-leap years.\n",
      "    \n",
      "    leapdays(y1, y2)\n",
      "        Return number of leap years in range [y1, y2).\n",
      "        Assume y1 <= y2.\n",
      "    \n",
      "    month = formatmonth(theyear, themonth, w=0, l=0) method of TextCalendar instance\n",
      "        Return a month's calendar string (multi-line).\n",
      "    \n",
      "    monthcalendar = monthdayscalendar(year, month) method of TextCalendar instance\n",
      "        Return a matrix representing a month's calendar.\n",
      "        Each row represents a week; days outside this month are zero.\n",
      "    \n",
      "    monthrange(year, month)\n",
      "        Return weekday (0-6 ~ Mon-Sun) and number of days (28-31) for\n",
      "        year, month.\n",
      "    \n",
      "    prcal = pryear(theyear, w=0, l=0, c=6, m=3) method of TextCalendar instance\n",
      "        Print a year's calendar.\n",
      "    \n",
      "    prmonth(theyear, themonth, w=0, l=0) method of TextCalendar instance\n",
      "        Print a month's calendar.\n",
      "    \n",
      "    setfirstweekday(firstweekday)\n",
      "    \n",
      "    timegm(tuple)\n",
      "        Unrelated but handy function to calculate Unix timestamp from GMT.\n",
      "    \n",
      "    weekday(year, month, day)\n",
      "        Return weekday (0-6 ~ Mon-Sun) for year (1970-...), month (1-12),\n",
      "        day (1-31).\n",
      "\n",
      "DATA\n",
      "    __all__ = ['IllegalMonthError', 'IllegalWeekdayError', 'setfirstweekda...\n",
      "    day_abbr = <calendar._localized_day object>\n",
      "    day_name = <calendar._localized_day object>\n",
      "    month_abbr = <calendar._localized_month object>\n",
      "    month_name = <calendar._localized_month object>\n",
      "\n",
      "FILE\n",
      "    /usr/lib/python3.5/calendar.py\n",
      "\n",
      "\n"
     ]
    }
   ],
   "source": [
    "import calendar\n",
    "\n",
    "help(calendar)"
   ]
  },
  {
   "cell_type": "code",
   "execution_count": 5,
   "metadata": {},
   "outputs": [
    {
     "data": {
      "text/plain": [
       "['Calendar',\n",
       " 'EPOCH',\n",
       " 'FRIDAY',\n",
       " 'February',\n",
       " 'HTMLCalendar',\n",
       " 'IllegalMonthError',\n",
       " 'IllegalWeekdayError',\n",
       " 'January',\n",
       " 'LocaleHTMLCalendar',\n",
       " 'LocaleTextCalendar',\n",
       " 'MONDAY',\n",
       " 'SATURDAY',\n",
       " 'SUNDAY',\n",
       " 'THURSDAY',\n",
       " 'TUESDAY',\n",
       " 'TextCalendar',\n",
       " 'WEDNESDAY',\n",
       " '_EPOCH_ORD',\n",
       " '__all__',\n",
       " '__builtins__',\n",
       " '__cached__',\n",
       " '__doc__',\n",
       " '__file__',\n",
       " '__loader__',\n",
       " '__name__',\n",
       " '__package__',\n",
       " '__spec__',\n",
       " '_colwidth',\n",
       " '_locale',\n",
       " '_localized_day',\n",
       " '_localized_month',\n",
       " '_spacing',\n",
       " 'c',\n",
       " 'calendar',\n",
       " 'datetime',\n",
       " 'day_abbr',\n",
       " 'day_name',\n",
       " 'different_locale',\n",
       " 'error',\n",
       " 'firstweekday',\n",
       " 'format',\n",
       " 'formatstring',\n",
       " 'isleap',\n",
       " 'leapdays',\n",
       " 'main',\n",
       " 'mdays',\n",
       " 'month',\n",
       " 'month_abbr',\n",
       " 'month_name',\n",
       " 'monthcalendar',\n",
       " 'monthrange',\n",
       " 'prcal',\n",
       " 'prmonth',\n",
       " 'prweek',\n",
       " 'setfirstweekday',\n",
       " 'sys',\n",
       " 'timegm',\n",
       " 'week',\n",
       " 'weekday',\n",
       " 'weekheader']"
      ]
     },
     "execution_count": 5,
     "metadata": {},
     "output_type": "execute_result"
    }
   ],
   "source": [
    "import calendar \n",
    "\n",
    "dir(calendar)"
   ]
  },
  {
   "cell_type": "markdown",
   "metadata": {},
   "source": [
    "###  calendar module's methods and variables"
   ]
  },
  {
   "cell_type": "code",
   "execution_count": 7,
   "metadata": {},
   "outputs": [
    {
     "name": "stdout",
     "output_type": "stream",
     "text": [
      "These are Variables of calendar module:\n",
      "***********************************\n",
      "EPOCH\n",
      "FRIDAY\n",
      "February\n",
      "January\n",
      "MONDAY\n",
      "SATURDAY\n",
      "SUNDAY\n",
      "THURSDAY\n",
      "TUESDAY\n",
      "WEDNESDAY\n",
      "c\n",
      "datetime\n",
      "day_abbr\n",
      "day_name\n",
      "mdays\n",
      "month_abbr\n",
      "month_name\n",
      "sys\n",
      "\n",
      "These are Methods of calendar module:\n",
      "***********************************\n",
      "Calendar\n",
      "HTMLCalendar\n",
      "IllegalMonthError\n",
      "IllegalWeekdayError\n",
      "LocaleHTMLCalendar\n",
      "LocaleTextCalendar\n",
      "TextCalendar\n",
      "calendar\n",
      "different_locale\n",
      "error\n",
      "firstweekday\n",
      "format\n",
      "formatstring\n",
      "isleap\n",
      "leapdays\n",
      "main\n",
      "month\n",
      "monthcalendar\n",
      "monthrange\n",
      "prcal\n",
      "prmonth\n",
      "prweek\n",
      "setfirstweekday\n",
      "timegm\n",
      "week\n",
      "weekday\n",
      "weekheader\n"
     ]
    }
   ],
   "source": [
    "import calendar\n",
    "\n",
    "d = [i for i in dir(calendar) \n",
    "     if not i.startswith('_')]\n",
    "print('These are Variables of calendar module:')\n",
    "print('*'*35)\n",
    "for x in d:\n",
    "    if not callable(getattr(calendar, x)):\n",
    "        print(x)\n",
    "else:\n",
    "    print()\n",
    "\n",
    "print('These are Methods of calendar module:')\n",
    "print('*'*35)\n",
    "for x in d:\n",
    "    if callable(getattr(calendar, x)):\n",
    "        print(x)"
   ]
  },
  {
   "cell_type": "markdown",
   "metadata": {},
   "source": [
    "### class calendar.Calendar(firstweekday=0)"
   ]
  },
  {
   "cell_type": "raw",
   "metadata": {},
   "source": [
    "Creates a Calendar object. firstweekday is an integer specifying the first day of the week. 0 is Monday (the default), 6 is Sunday.\n",
    "\n",
    "A Calendar object provides several methods that can be used for preparing the calendar data for formatting."
   ]
  },
  {
   "cell_type": "code",
   "execution_count": 9,
   "metadata": {},
   "outputs": [
    {
     "data": {
      "text/plain": [
       "{'Calendar': calendar.Calendar,\n",
       " 'EPOCH': 1970,\n",
       " 'FRIDAY': 4,\n",
       " 'February': 2,\n",
       " 'HTMLCalendar': calendar.HTMLCalendar,\n",
       " 'IllegalMonthError': calendar.IllegalMonthError,\n",
       " 'IllegalWeekdayError': calendar.IllegalWeekdayError,\n",
       " 'January': 1,\n",
       " 'LocaleHTMLCalendar': calendar.LocaleHTMLCalendar,\n",
       " 'LocaleTextCalendar': calendar.LocaleTextCalendar,\n",
       " 'MONDAY': 0,\n",
       " 'SATURDAY': 5,\n",
       " 'SUNDAY': 6,\n",
       " 'THURSDAY': 3,\n",
       " 'TUESDAY': 1,\n",
       " 'TextCalendar': calendar.TextCalendar,\n",
       " 'WEDNESDAY': 2,\n",
       " '_EPOCH_ORD': 719163,\n",
       " '__all__': ['IllegalMonthError',\n",
       "  'IllegalWeekdayError',\n",
       "  'setfirstweekday',\n",
       "  'firstweekday',\n",
       "  'isleap',\n",
       "  'leapdays',\n",
       "  'weekday',\n",
       "  'monthrange',\n",
       "  'monthcalendar',\n",
       "  'prmonth',\n",
       "  'month',\n",
       "  'prcal',\n",
       "  'calendar',\n",
       "  'timegm',\n",
       "  'month_name',\n",
       "  'month_abbr',\n",
       "  'day_name',\n",
       "  'day_abbr'],\n",
       " '__builtins__': {'ArithmeticError': ArithmeticError,\n",
       "  'AssertionError': AssertionError,\n",
       "  'AttributeError': AttributeError,\n",
       "  'BaseException': BaseException,\n",
       "  'BlockingIOError': BlockingIOError,\n",
       "  'BrokenPipeError': BrokenPipeError,\n",
       "  'BufferError': BufferError,\n",
       "  'BytesWarning': BytesWarning,\n",
       "  'ChildProcessError': ChildProcessError,\n",
       "  'ConnectionAbortedError': ConnectionAbortedError,\n",
       "  'ConnectionError': ConnectionError,\n",
       "  'ConnectionRefusedError': ConnectionRefusedError,\n",
       "  'ConnectionResetError': ConnectionResetError,\n",
       "  'DeprecationWarning': DeprecationWarning,\n",
       "  'EOFError': EOFError,\n",
       "  'Ellipsis': Ellipsis,\n",
       "  'EnvironmentError': OSError,\n",
       "  'Exception': Exception,\n",
       "  'False': False,\n",
       "  'FileExistsError': FileExistsError,\n",
       "  'FileNotFoundError': FileNotFoundError,\n",
       "  'FloatingPointError': FloatingPointError,\n",
       "  'FutureWarning': FutureWarning,\n",
       "  'GeneratorExit': GeneratorExit,\n",
       "  'IOError': OSError,\n",
       "  'ImportError': ImportError,\n",
       "  'ImportWarning': ImportWarning,\n",
       "  'IndentationError': IndentationError,\n",
       "  'IndexError': IndexError,\n",
       "  'InterruptedError': InterruptedError,\n",
       "  'IsADirectoryError': IsADirectoryError,\n",
       "  'KeyError': KeyError,\n",
       "  'KeyboardInterrupt': KeyboardInterrupt,\n",
       "  'LookupError': LookupError,\n",
       "  'MemoryError': MemoryError,\n",
       "  'NameError': NameError,\n",
       "  'None': None,\n",
       "  'NotADirectoryError': NotADirectoryError,\n",
       "  'NotImplemented': NotImplemented,\n",
       "  'NotImplementedError': NotImplementedError,\n",
       "  'OSError': OSError,\n",
       "  'OverflowError': OverflowError,\n",
       "  'PendingDeprecationWarning': PendingDeprecationWarning,\n",
       "  'PermissionError': PermissionError,\n",
       "  'ProcessLookupError': ProcessLookupError,\n",
       "  'RecursionError': RecursionError,\n",
       "  'ReferenceError': ReferenceError,\n",
       "  'ResourceWarning': ResourceWarning,\n",
       "  'RuntimeError': RuntimeError,\n",
       "  'RuntimeWarning': RuntimeWarning,\n",
       "  'StopAsyncIteration': StopAsyncIteration,\n",
       "  'StopIteration': StopIteration,\n",
       "  'SyntaxError': SyntaxError,\n",
       "  'SyntaxWarning': SyntaxWarning,\n",
       "  'SystemError': SystemError,\n",
       "  'SystemExit': SystemExit,\n",
       "  'TabError': TabError,\n",
       "  'TimeoutError': TimeoutError,\n",
       "  'True': True,\n",
       "  'TypeError': TypeError,\n",
       "  'UnboundLocalError': UnboundLocalError,\n",
       "  'UnicodeDecodeError': UnicodeDecodeError,\n",
       "  'UnicodeEncodeError': UnicodeEncodeError,\n",
       "  'UnicodeError': UnicodeError,\n",
       "  'UnicodeTranslateError': UnicodeTranslateError,\n",
       "  'UnicodeWarning': UnicodeWarning,\n",
       "  'UserWarning': UserWarning,\n",
       "  'ValueError': ValueError,\n",
       "  'Warning': Warning,\n",
       "  'ZeroDivisionError': ZeroDivisionError,\n",
       "  '__IPYTHON__': True,\n",
       "  '__build_class__': <function __build_class__>,\n",
       "  '__debug__': True,\n",
       "  '__doc__': \"Built-in functions, exceptions, and other objects.\\n\\nNoteworthy: None is the `nil' object; Ellipsis represents `...' in slices.\",\n",
       "  '__import__': <function __import__>,\n",
       "  '__loader__': _frozen_importlib.BuiltinImporter,\n",
       "  '__name__': 'builtins',\n",
       "  '__package__': '',\n",
       "  '__spec__': ModuleSpec(name='builtins', loader=<class '_frozen_importlib.BuiltinImporter'>),\n",
       "  'abs': <function abs(x, /)>,\n",
       "  'all': <function all(iterable, /)>,\n",
       "  'any': <function any(iterable, /)>,\n",
       "  'ascii': <function ascii(obj, /)>,\n",
       "  'bin': <function bin(number, /)>,\n",
       "  'bool': bool,\n",
       "  'bytearray': bytearray,\n",
       "  'bytes': bytes,\n",
       "  'callable': <function callable(obj, /)>,\n",
       "  'chr': <function chr(i, /)>,\n",
       "  'classmethod': classmethod,\n",
       "  'compile': <function compile(source, filename, mode, flags=0, dont_inherit=False, optimize=-1)>,\n",
       "  'complex': complex,\n",
       "  'copyright': Copyright (c) 2001-2016 Python Software Foundation.\n",
       "  All Rights Reserved.\n",
       "  \n",
       "  Copyright (c) 2000 BeOpen.com.\n",
       "  All Rights Reserved.\n",
       "  \n",
       "  Copyright (c) 1995-2001 Corporation for National Research Initiatives.\n",
       "  All Rights Reserved.\n",
       "  \n",
       "  Copyright (c) 1991-1995 Stichting Mathematisch Centrum, Amsterdam.\n",
       "  All Rights Reserved.,\n",
       "  'credits':     Thanks to CWI, CNRI, BeOpen.com, Zope Corporation and a cast of thousands\n",
       "      for supporting Python development.  See www.python.org for more information.,\n",
       "  'delattr': <function delattr(obj, name, /)>,\n",
       "  'dict': dict,\n",
       "  'dir': <function dir>,\n",
       "  'display': <function IPython.core.display.display(*objs, include=None, exclude=None, metadata=None, transient=None, display_id=None, **kwargs)>,\n",
       "  'divmod': <function divmod(x, y, /)>,\n",
       "  'enumerate': enumerate,\n",
       "  'eval': <function eval(source, globals=None, locals=None, /)>,\n",
       "  'exec': <function exec(source, globals=None, locals=None, /)>,\n",
       "  'filter': filter,\n",
       "  'float': float,\n",
       "  'format': <function format(value, format_spec='', /)>,\n",
       "  'frozenset': frozenset,\n",
       "  'get_ipython': <bound method InteractiveShell.get_ipython of <ipykernel.zmqshell.ZMQInteractiveShell object at 0xb5ba366c>>,\n",
       "  'getattr': <function getattr>,\n",
       "  'globals': <function globals()>,\n",
       "  'hasattr': <function hasattr(obj, name, /)>,\n",
       "  'hash': <function hash(obj, /)>,\n",
       "  'help': Type help() for interactive help, or help(object) for help about object.,\n",
       "  'hex': <function hex(number, /)>,\n",
       "  'id': <function id(obj, /)>,\n",
       "  'input': <bound method Kernel.raw_input of <ipykernel.ipkernel.IPythonKernel object at 0xb5ba3acc>>,\n",
       "  'int': int,\n",
       "  'isinstance': <function isinstance(obj, class_or_tuple, /)>,\n",
       "  'issubclass': <function issubclass(cls, class_or_tuple, /)>,\n",
       "  'iter': <function iter>,\n",
       "  'len': <function len(obj, /)>,\n",
       "  'license': Type license() to see the full license text,\n",
       "  'list': list,\n",
       "  'locals': <function locals()>,\n",
       "  'map': map,\n",
       "  'max': <function max>,\n",
       "  'memoryview': memoryview,\n",
       "  'min': <function min>,\n",
       "  'next': <function next>,\n",
       "  'object': object,\n",
       "  'oct': <function oct(number, /)>,\n",
       "  'open': <function io.open(file, mode='r', buffering=-1, encoding=None, errors=None, newline=None, closefd=True, opener=None)>,\n",
       "  'ord': <function ord(c, /)>,\n",
       "  'pow': <function pow(x, y, z=None, /)>,\n",
       "  'print': <function print>,\n",
       "  'property': property,\n",
       "  'range': range,\n",
       "  'repr': <function repr(obj, /)>,\n",
       "  'reversed': reversed,\n",
       "  'round': <function round>,\n",
       "  'set': set,\n",
       "  'setattr': <function setattr(obj, name, value, /)>,\n",
       "  'slice': slice,\n",
       "  'sorted': <function sorted(iterable, key=None, reverse=False)>,\n",
       "  'staticmethod': staticmethod,\n",
       "  'str': str,\n",
       "  'sum': <function sum(iterable, start=0, /)>,\n",
       "  'super': super,\n",
       "  'tuple': tuple,\n",
       "  'type': type,\n",
       "  'vars': <function vars>,\n",
       "  'zip': zip},\n",
       " '__cached__': '/usr/lib/python3.5/__pycache__/calendar.cpython-35.pyc',\n",
       " '__doc__': 'Calendar printing functions\\n\\nNote when comparing these calendars to the ones printed by cal(1): By\\ndefault, these calendars have Monday as the first day of the week, and\\nSunday as the last (the European convention). Use setfirstweekday() to\\nset the first day of the week (0=Monday, 6=Sunday).',\n",
       " '__file__': '/usr/lib/python3.5/calendar.py',\n",
       " '__loader__': <_frozen_importlib_external.SourceFileLoader at 0xb62afbac>,\n",
       " '__name__': 'calendar',\n",
       " '__package__': '',\n",
       " '__spec__': ModuleSpec(name='calendar', loader=<_frozen_importlib_external.SourceFileLoader object at 0xb62afbac>, origin='/usr/lib/python3.5/calendar.py'),\n",
       " '_colwidth': 20,\n",
       " '_locale': <module 'locale' from '/usr/lib/python3.5/locale.py'>,\n",
       " '_localized_day': calendar._localized_day,\n",
       " '_localized_month': calendar._localized_month,\n",
       " '_spacing': 6,\n",
       " 'c': <calendar.TextCalendar at 0xb62baeec>,\n",
       " 'calendar': <bound method TextCalendar.formatyear of <calendar.TextCalendar object at 0xb62baeec>>,\n",
       " 'datetime': <module 'datetime' from '/usr/lib/python3.5/datetime.py'>,\n",
       " 'day_abbr': <calendar._localized_day at 0xb62baa6c>,\n",
       " 'day_name': <calendar._localized_day at 0xb62baa4c>,\n",
       " 'different_locale': calendar.different_locale,\n",
       " 'error': ValueError,\n",
       " 'firstweekday': <bound method Calendar.getfirstweekday of <calendar.TextCalendar object at 0xb62baeec>>,\n",
       " 'format': <function calendar.format(cols, colwidth=20, spacing=6)>,\n",
       " 'formatstring': <function calendar.formatstring(cols, colwidth=20, spacing=6)>,\n",
       " 'isleap': <function calendar.isleap(year)>,\n",
       " 'leapdays': <function calendar.leapdays(y1, y2)>,\n",
       " 'main': <function calendar.main(args)>,\n",
       " 'mdays': [0, 31, 28, 31, 30, 31, 30, 31, 31, 30, 31, 30, 31],\n",
       " 'month': <bound method TextCalendar.formatmonth of <calendar.TextCalendar object at 0xb62baeec>>,\n",
       " 'month_abbr': <calendar._localized_month at 0xb62baaec>,\n",
       " 'month_name': <calendar._localized_month at 0xb62baaac>,\n",
       " 'monthcalendar': <bound method Calendar.monthdayscalendar of <calendar.TextCalendar object at 0xb62baeec>>,\n",
       " 'monthrange': <function calendar.monthrange(year, month)>,\n",
       " 'prcal': <bound method TextCalendar.pryear of <calendar.TextCalendar object at 0xb62baeec>>,\n",
       " 'prmonth': <bound method TextCalendar.prmonth of <calendar.TextCalendar object at 0xb62baeec>>,\n",
       " 'prweek': <bound method TextCalendar.prweek of <calendar.TextCalendar object at 0xb62baeec>>,\n",
       " 'setfirstweekday': <function calendar.setfirstweekday(firstweekday)>,\n",
       " 'sys': <module 'sys' (built-in)>,\n",
       " 'timegm': <function calendar.timegm(tuple)>,\n",
       " 'week': <bound method TextCalendar.formatweek of <calendar.TextCalendar object at 0xb62baeec>>,\n",
       " 'weekday': <function calendar.weekday(year, month, day)>,\n",
       " 'weekheader': <bound method TextCalendar.formatweekheader of <calendar.TextCalendar object at 0xb62baeec>>}"
      ]
     },
     "execution_count": 9,
     "metadata": {},
     "output_type": "execute_result"
    }
   ],
   "source": [
    "import calendar\n",
    "\n",
    "c = calendar\n",
    "c.__dict__"
   ]
  },
  {
   "cell_type": "markdown",
   "metadata": {},
   "source": [
    "## Functions"
   ]
  },
  {
   "cell_type": "markdown",
   "metadata": {},
   "source": [
    "### setfirstweekday(weekday)"
   ]
  },
  {
   "cell_type": "raw",
   "metadata": {},
   "source": [
    "Sets the weekday (0 is Monday, 6 is Sunday) to start each week. The values MONDAY, TUESDAY, WEDNESDAY, THURSDAY, FRIDAY, SATURDAY, and SUNDAY are provided for convenience. For example, to set the first weekday to Sunday:"
   ]
  },
  {
   "cell_type": "code",
   "execution_count": null,
   "metadata": {},
   "outputs": [],
   "source": [
    "import calendar\n",
    "calendar.setfirstweekday(calendar.SUNDAY)"
   ]
  },
  {
   "cell_type": "markdown",
   "metadata": {},
   "source": [
    "### firstweekday()"
   ]
  },
  {
   "cell_type": "raw",
   "metadata": {},
   "source": [
    "Returns the current setting for the weekday to start each week."
   ]
  },
  {
   "cell_type": "code",
   "execution_count": 6,
   "metadata": {},
   "outputs": [
    {
     "data": {
      "text/plain": [
       "0"
      ]
     },
     "execution_count": 6,
     "metadata": {},
     "output_type": "execute_result"
    }
   ],
   "source": [
    "import calendar as cal\n",
    "\n",
    "cal.firstweekday()"
   ]
  },
  {
   "cell_type": "markdown",
   "metadata": {},
   "source": [
    "### isleap(year)"
   ]
  },
  {
   "cell_type": "raw",
   "metadata": {},
   "source": [
    "Returns True if year is a leap year, otherwise False."
   ]
  },
  {
   "cell_type": "code",
   "execution_count": 8,
   "metadata": {},
   "outputs": [
    {
     "data": {
      "text/plain": [
       "False"
      ]
     },
     "execution_count": 8,
     "metadata": {},
     "output_type": "execute_result"
    }
   ],
   "source": [
    "import calendar as cal\n",
    "\n",
    "cal.isleap(2019)"
   ]
  },
  {
   "cell_type": "markdown",
   "metadata": {},
   "source": [
    "### leapdays(y1, y2)"
   ]
  },
  {
   "cell_type": "raw",
   "metadata": {},
   "source": [
    "Returns the number of leap years in the range from y1 to y2 (exclusive), where y1 and y2 are years."
   ]
  },
  {
   "cell_type": "code",
   "execution_count": 9,
   "metadata": {},
   "outputs": [
    {
     "data": {
      "text/plain": [
       "2"
      ]
     },
     "execution_count": 9,
     "metadata": {},
     "output_type": "execute_result"
    }
   ],
   "source": [
    "import calendar as cal\n",
    "\n",
    "cal.leapdays(2010,2020)"
   ]
  },
  {
   "cell_type": "markdown",
   "metadata": {},
   "source": [
    "### weekday(year, month, day)"
   ]
  },
  {
   "cell_type": "raw",
   "metadata": {},
   "source": [
    "Returns the day of the week (0 is Monday) for year (1970–…), month (1–12), day (1–31)"
   ]
  },
  {
   "cell_type": "code",
   "execution_count": 15,
   "metadata": {},
   "outputs": [
    {
     "data": {
      "text/plain": [
       "1"
      ]
     },
     "execution_count": 15,
     "metadata": {},
     "output_type": "execute_result"
    }
   ],
   "source": [
    "import calendar as cal\n",
    "\n",
    "cal.weekday(2018, 12, 25)"
   ]
  },
  {
   "cell_type": "markdown",
   "metadata": {},
   "source": [
    "### weekheader(n)"
   ]
  },
  {
   "cell_type": "raw",
   "metadata": {},
   "source": [
    "Return a header containing abbreviated weekday names. n specifies the width in characters for one weekday."
   ]
  },
  {
   "cell_type": "code",
   "execution_count": 34,
   "metadata": {},
   "outputs": [
    {
     "name": "stdout",
     "output_type": "stream",
     "text": [
      "M T W T F S S\n",
      "Mon Tue Wed Thu Fri Sat Sun\n"
     ]
    }
   ],
   "source": [
    "import calendar as cal\n",
    "\n",
    "print(cal.weekheader(1))\n",
    "print(cal.weekheader(3))"
   ]
  },
  {
   "cell_type": "markdown",
   "metadata": {},
   "source": [
    "### monthrange(year, month)"
   ]
  },
  {
   "cell_type": "raw",
   "metadata": {},
   "source": [
    "Returns weekday of first day of the month and number of days in month, for the specified year and month."
   ]
  },
  {
   "cell_type": "code",
   "execution_count": 36,
   "metadata": {},
   "outputs": [
    {
     "data": {
      "text/plain": [
       "(4, 28)"
      ]
     },
     "execution_count": 36,
     "metadata": {},
     "output_type": "execute_result"
    }
   ],
   "source": [
    "import calendar as cal\n",
    "\n",
    "cal.monthrange(2019, 2)"
   ]
  },
  {
   "cell_type": "markdown",
   "metadata": {},
   "source": [
    "### monthcalendar(year, month)"
   ]
  },
  {
   "cell_type": "raw",
   "metadata": {},
   "source": [
    "Returns a matrix representing a month’s calendar. Each row represents a week; days outside of the month a represented by zeros."
   ]
  },
  {
   "cell_type": "code",
   "execution_count": 45,
   "metadata": {},
   "outputs": [
    {
     "data": {
      "text/plain": [
       "[[0, 0, 0, 0, 1, 2, 3],\n",
       " [4, 5, 6, 7, 8, 9, 10],\n",
       " [11, 12, 13, 14, 15, 16, 17],\n",
       " [18, 19, 20, 21, 22, 23, 24],\n",
       " [25, 26, 27, 28, 0, 0, 0]]"
      ]
     },
     "execution_count": 45,
     "metadata": {},
     "output_type": "execute_result"
    }
   ],
   "source": [
    "import calendar as cal\n",
    "\n",
    "cal.monthcalendar(2019,2)"
   ]
  },
  {
   "cell_type": "markdown",
   "metadata": {},
   "source": [
    "### prmonth(theyear, themonth, w=0, l=0)"
   ]
  },
  {
   "cell_type": "raw",
   "metadata": {},
   "source": [
    "Prints a month’s calendar as returned by month()."
   ]
  },
  {
   "cell_type": "code",
   "execution_count": 46,
   "metadata": {},
   "outputs": [
    {
     "name": "stdout",
     "output_type": "stream",
     "text": [
      "   February 2019\n",
      "Mo Tu We Th Fr Sa Su\n",
      "             1  2  3\n",
      " 4  5  6  7  8  9 10\n",
      "11 12 13 14 15 16 17\n",
      "18 19 20 21 22 23 24\n",
      "25 26 27 28\n",
      " "
     ]
    }
   ],
   "source": [
    "import calendar as cal\n",
    "\n",
    "cal.prmonth(2019,2)"
   ]
  },
  {
   "cell_type": "markdown",
   "metadata": {},
   "source": [
    "### month(theyear, themonth, w=0, l=0)"
   ]
  },
  {
   "cell_type": "raw",
   "metadata": {},
   "source": [
    "Returns a month’s calendar in a multi-line string using the formatmonth() of the TextCalendar class."
   ]
  },
  {
   "cell_type": "code",
   "execution_count": 48,
   "metadata": {},
   "outputs": [
    {
     "name": "stdout",
     "output_type": "stream",
     "text": [
      "   February 2019\n",
      "Mo Tu We Th Fr Sa Su\n",
      "             1  2  3\n",
      " 4  5  6  7  8  9 10\n",
      "11 12 13 14 15 16 17\n",
      "18 19 20 21 22 23 24\n",
      "25 26 27 28\n",
      "\n"
     ]
    }
   ],
   "source": [
    "import calendar as cal\n",
    "\n",
    "print(cal.month(2019,2))"
   ]
  },
  {
   "cell_type": "markdown",
   "metadata": {},
   "source": [
    "### prcal(year, w=0, l=0, c=6, m=3)"
   ]
  },
  {
   "cell_type": "raw",
   "metadata": {},
   "source": [
    "Prints the calendar for an entire year as returned by calendar()."
   ]
  },
  {
   "cell_type": "code",
   "execution_count": 52,
   "metadata": {},
   "outputs": [
    {
     "name": "stdout",
     "output_type": "stream",
     "text": [
      "                                               2019\n",
      "\n",
      "      January                   February                   March                     April\n",
      "Mo Tu We Th Fr Sa Su      Mo Tu We Th Fr Sa Su      Mo Tu We Th Fr Sa Su      Mo Tu We Th Fr Sa Su\n",
      "    1  2  3  4  5  6                   1  2  3                   1  2  3       1  2  3  4  5  6  7\n",
      " 7  8  9 10 11 12 13       4  5  6  7  8  9 10       4  5  6  7  8  9 10       8  9 10 11 12 13 14\n",
      "14 15 16 17 18 19 20      11 12 13 14 15 16 17      11 12 13 14 15 16 17      15 16 17 18 19 20 21\n",
      "21 22 23 24 25 26 27      18 19 20 21 22 23 24      18 19 20 21 22 23 24      22 23 24 25 26 27 28\n",
      "28 29 30 31               25 26 27 28               25 26 27 28 29 30 31      29 30\n",
      "\n",
      "        May                       June                      July                     August\n",
      "Mo Tu We Th Fr Sa Su      Mo Tu We Th Fr Sa Su      Mo Tu We Th Fr Sa Su      Mo Tu We Th Fr Sa Su\n",
      "       1  2  3  4  5                      1  2       1  2  3  4  5  6  7                1  2  3  4\n",
      " 6  7  8  9 10 11 12       3  4  5  6  7  8  9       8  9 10 11 12 13 14       5  6  7  8  9 10 11\n",
      "13 14 15 16 17 18 19      10 11 12 13 14 15 16      15 16 17 18 19 20 21      12 13 14 15 16 17 18\n",
      "20 21 22 23 24 25 26      17 18 19 20 21 22 23      22 23 24 25 26 27 28      19 20 21 22 23 24 25\n",
      "27 28 29 30 31            24 25 26 27 28 29 30      29 30 31                  26 27 28 29 30 31\n",
      "\n",
      "     September                  October                   November                  December\n",
      "Mo Tu We Th Fr Sa Su      Mo Tu We Th Fr Sa Su      Mo Tu We Th Fr Sa Su      Mo Tu We Th Fr Sa Su\n",
      "                   1          1  2  3  4  5  6                   1  2  3                         1\n",
      " 2  3  4  5  6  7  8       7  8  9 10 11 12 13       4  5  6  7  8  9 10       2  3  4  5  6  7  8\n",
      " 9 10 11 12 13 14 15      14 15 16 17 18 19 20      11 12 13 14 15 16 17       9 10 11 12 13 14 15\n",
      "16 17 18 19 20 21 22      21 22 23 24 25 26 27      18 19 20 21 22 23 24      16 17 18 19 20 21 22\n",
      "23 24 25 26 27 28 29      28 29 30 31               25 26 27 28 29 30         23 24 25 26 27 28 29\n",
      "30                                                                            30 31\n",
      "\n"
     ]
    }
   ],
   "source": [
    "import calendar as cal\n",
    "\n",
    "cal.prcal(2019,m=4)"
   ]
  },
  {
   "cell_type": "markdown",
   "metadata": {},
   "source": [
    "### calendar(year, w=2, l=1, c=6, m=3)"
   ]
  },
  {
   "cell_type": "raw",
   "metadata": {},
   "source": [
    "Returns a 3-column calendar for an entire year as a multi-line string using the formatyear() \n",
    "of the TextCalendar class."
   ]
  },
  {
   "cell_type": "code",
   "execution_count": 56,
   "metadata": {},
   "outputs": [
    {
     "name": "stdout",
     "output_type": "stream",
     "text": [
      "                                  2019\n",
      "\n",
      "      January                   February                   March\n",
      "Mo Tu We Th Fr Sa Su      Mo Tu We Th Fr Sa Su      Mo Tu We Th Fr Sa Su\n",
      "    1  2  3  4  5  6                   1  2  3                   1  2  3\n",
      " 7  8  9 10 11 12 13       4  5  6  7  8  9 10       4  5  6  7  8  9 10\n",
      "14 15 16 17 18 19 20      11 12 13 14 15 16 17      11 12 13 14 15 16 17\n",
      "21 22 23 24 25 26 27      18 19 20 21 22 23 24      18 19 20 21 22 23 24\n",
      "28 29 30 31               25 26 27 28               25 26 27 28 29 30 31\n",
      "\n",
      "       April                      May                       June\n",
      "Mo Tu We Th Fr Sa Su      Mo Tu We Th Fr Sa Su      Mo Tu We Th Fr Sa Su\n",
      " 1  2  3  4  5  6  7             1  2  3  4  5                      1  2\n",
      " 8  9 10 11 12 13 14       6  7  8  9 10 11 12       3  4  5  6  7  8  9\n",
      "15 16 17 18 19 20 21      13 14 15 16 17 18 19      10 11 12 13 14 15 16\n",
      "22 23 24 25 26 27 28      20 21 22 23 24 25 26      17 18 19 20 21 22 23\n",
      "29 30                     27 28 29 30 31            24 25 26 27 28 29 30\n",
      "\n",
      "        July                     August                  September\n",
      "Mo Tu We Th Fr Sa Su      Mo Tu We Th Fr Sa Su      Mo Tu We Th Fr Sa Su\n",
      " 1  2  3  4  5  6  7                1  2  3  4                         1\n",
      " 8  9 10 11 12 13 14       5  6  7  8  9 10 11       2  3  4  5  6  7  8\n",
      "15 16 17 18 19 20 21      12 13 14 15 16 17 18       9 10 11 12 13 14 15\n",
      "22 23 24 25 26 27 28      19 20 21 22 23 24 25      16 17 18 19 20 21 22\n",
      "29 30 31                  26 27 28 29 30 31         23 24 25 26 27 28 29\n",
      "                                                    30\n",
      "\n",
      "      October                   November                  December\n",
      "Mo Tu We Th Fr Sa Su      Mo Tu We Th Fr Sa Su      Mo Tu We Th Fr Sa Su\n",
      "    1  2  3  4  5  6                   1  2  3                         1\n",
      " 7  8  9 10 11 12 13       4  5  6  7  8  9 10       2  3  4  5  6  7  8\n",
      "14 15 16 17 18 19 20      11 12 13 14 15 16 17       9 10 11 12 13 14 15\n",
      "21 22 23 24 25 26 27      18 19 20 21 22 23 24      16 17 18 19 20 21 22\n",
      "28 29 30 31               25 26 27 28 29 30         23 24 25 26 27 28 29\n",
      "                                                    30 31\n",
      "\n"
     ]
    }
   ],
   "source": [
    "import calendar as cal\n",
    "\n",
    "print(cal.calendar(2019))"
   ]
  },
  {
   "cell_type": "markdown",
   "metadata": {},
   "source": [
    "## Variables"
   ]
  },
  {
   "cell_type": "markdown",
   "metadata": {},
   "source": [
    "### calendar.day_name"
   ]
  },
  {
   "cell_type": "raw",
   "metadata": {},
   "source": [
    "An array that represents the days of the week in the current locale."
   ]
  },
  {
   "cell_type": "code",
   "execution_count": 58,
   "metadata": {},
   "outputs": [
    {
     "data": {
      "text/plain": [
       "['Monday', 'Tuesday', 'Wednesday', 'Thursday', 'Friday', 'Saturday', 'Sunday']"
      ]
     },
     "execution_count": 58,
     "metadata": {},
     "output_type": "execute_result"
    }
   ],
   "source": [
    "import calendar as cal\n",
    "\n",
    "list(cal.day_name)"
   ]
  },
  {
   "cell_type": "code",
   "execution_count": 60,
   "metadata": {},
   "outputs": [
    {
     "data": {
      "text/plain": [
       "['Monday', 'Tuesday', 'Wednesday', 'Thursday', 'Friday', 'Saturday', 'Sunday']"
      ]
     },
     "execution_count": 60,
     "metadata": {},
     "output_type": "execute_result"
    }
   ],
   "source": [
    "import calendar as cal\n",
    "\n",
    "[*cal.day_name]"
   ]
  },
  {
   "cell_type": "markdown",
   "metadata": {},
   "source": [
    "### calendar.day_abbr"
   ]
  },
  {
   "cell_type": "raw",
   "metadata": {},
   "source": [
    "An array that represents the abbreviated days of the week in the current locale."
   ]
  },
  {
   "cell_type": "code",
   "execution_count": 61,
   "metadata": {},
   "outputs": [
    {
     "data": {
      "text/plain": [
       "['Mon', 'Tue', 'Wed', 'Thu', 'Fri', 'Sat', 'Sun']"
      ]
     },
     "execution_count": 61,
     "metadata": {},
     "output_type": "execute_result"
    }
   ],
   "source": [
    "import calendar as cal\n",
    "\n",
    "list(cal.day_abbr)"
   ]
  },
  {
   "cell_type": "code",
   "execution_count": 112,
   "metadata": {},
   "outputs": [
    {
     "data": {
      "text/plain": [
       "['Mon', 'Tue', 'Wed', 'Thu', 'Fri', 'Sat', 'Sun']"
      ]
     },
     "execution_count": 112,
     "metadata": {},
     "output_type": "execute_result"
    }
   ],
   "source": [
    "import calendar as cal\n",
    "\n",
    "[*cal.day_abbr]"
   ]
  },
  {
   "cell_type": "markdown",
   "metadata": {},
   "source": [
    "### calendar.month_name"
   ]
  },
  {
   "cell_type": "raw",
   "metadata": {},
   "source": [
    "An array that represents the months of the year in the current locale. This follows normal convention of January being month number 1, so it has a length of 13 and month_name[0] is the empty string."
   ]
  },
  {
   "cell_type": "code",
   "execution_count": 113,
   "metadata": {},
   "outputs": [
    {
     "data": {
      "text/plain": [
       "['',\n",
       " 'January',\n",
       " 'February',\n",
       " 'March',\n",
       " 'April',\n",
       " 'May',\n",
       " 'June',\n",
       " 'July',\n",
       " 'August',\n",
       " 'September',\n",
       " 'October',\n",
       " 'November',\n",
       " 'December']"
      ]
     },
     "execution_count": 113,
     "metadata": {},
     "output_type": "execute_result"
    }
   ],
   "source": [
    "import calendar as cal\n",
    "\n",
    "list(cal.month_name)"
   ]
  },
  {
   "cell_type": "code",
   "execution_count": 64,
   "metadata": {},
   "outputs": [
    {
     "data": {
      "text/plain": [
       "['',\n",
       " 'January',\n",
       " 'February',\n",
       " 'March',\n",
       " 'April',\n",
       " 'May',\n",
       " 'June',\n",
       " 'July',\n",
       " 'August',\n",
       " 'September',\n",
       " 'October',\n",
       " 'November',\n",
       " 'December']"
      ]
     },
     "execution_count": 64,
     "metadata": {},
     "output_type": "execute_result"
    }
   ],
   "source": [
    "import calendar as cal\n",
    "\n",
    "[*cal.month_name]"
   ]
  },
  {
   "cell_type": "markdown",
   "metadata": {},
   "source": [
    "### calendar.month_abbr"
   ]
  },
  {
   "cell_type": "raw",
   "metadata": {},
   "source": [
    "An array that represents the abbreviated months of the year in the current locale. This follows normal convention of January being month number 1, so it has a length of 13 and month_abbr[0] is the empty string."
   ]
  },
  {
   "cell_type": "code",
   "execution_count": 65,
   "metadata": {},
   "outputs": [
    {
     "data": {
      "text/plain": [
       "['',\n",
       " 'Jan',\n",
       " 'Feb',\n",
       " 'Mar',\n",
       " 'Apr',\n",
       " 'May',\n",
       " 'Jun',\n",
       " 'Jul',\n",
       " 'Aug',\n",
       " 'Sep',\n",
       " 'Oct',\n",
       " 'Nov',\n",
       " 'Dec']"
      ]
     },
     "execution_count": 65,
     "metadata": {},
     "output_type": "execute_result"
    }
   ],
   "source": [
    "import calendar as cal\n",
    "\n",
    "list(cal.month_abbr)"
   ]
  },
  {
   "cell_type": "markdown",
   "metadata": {},
   "source": [
    "# Excercise"
   ]
  },
  {
   "cell_type": "markdown",
   "metadata": {},
   "source": [
    "### How to print particular month's calendar?"
   ]
  },
  {
   "cell_type": "code",
   "execution_count": 50,
   "metadata": {},
   "outputs": [
    {
     "name": "stdout",
     "output_type": "stream",
     "text": [
      "   February 2019\n",
      "Mo Tu We Th Fr Sa Su\n",
      "             1  2  3\n",
      " 4  5  6  7  8  9 10\n",
      "11 12 13 14 15 16 17\n",
      "18 19 20 21 22 23 24\n",
      "25 26 27 28\n",
      " "
     ]
    }
   ],
   "source": [
    "import calendar as cal\n",
    "\n",
    "cal.prmonth(2019,2)"
   ]
  },
  {
   "cell_type": "markdown",
   "metadata": {},
   "source": [
    "### How to find leap year or not?"
   ]
  },
  {
   "cell_type": "code",
   "execution_count": 108,
   "metadata": {},
   "outputs": [
    {
     "name": "stdout",
     "output_type": "stream",
     "text": [
      "*************************\n",
      "No. 2019 is not leap year.\n",
      "\n",
      "   February 2019\n",
      "Mo Tu We Th Fr Sa Su\n",
      "             1  2  3\n",
      " 4  5  6  7  8  9 10\n",
      "11 12 13 14 15 16 17\n",
      "18 19 20 21 22 23 24\n",
      "25 26 27 28\n",
      "\n",
      "*************************\n",
      "Yes. 2020 is leap year.\n",
      "\n",
      "   February 2020\n",
      "Mo Tu We Th Fr Sa Su\n",
      "                1  2\n",
      " 3  4  5  6  7  8  9\n",
      "10 11 12 13 14 15 16\n",
      "17 18 19 20 21 22 23\n",
      "24 25 26 27 28 29\n",
      "\n",
      "*************************\n"
     ]
    }
   ],
   "source": [
    "import calendar as cal\n",
    "\n",
    "y = [2019, 2020]\n",
    "\n",
    "print('*'*25)\n",
    "for i in y:\n",
    "    if cal.isleap(i):\n",
    "        print('Yes.', i, 'is leap year.\\n')\n",
    "        print(cal.month(i,2))\n",
    "        print('*'*25)\n",
    "    else:\n",
    "        print('No.', i, 'is not leap year.\\n')\n",
    "        print(cal.month(i,2))\n",
    "        print('*'*25)"
   ]
  },
  {
   "cell_type": "markdown",
   "metadata": {},
   "source": [
    "### How to find dayname of particular date of year?"
   ]
  },
  {
   "cell_type": "code",
   "execution_count": 118,
   "metadata": {},
   "outputs": [
    {
     "data": {
      "text/plain": [
       "'Tuesday'"
      ]
     },
     "execution_count": 118,
     "metadata": {},
     "output_type": "execute_result"
    }
   ],
   "source": [
    "import calendar as cal\n",
    "\n",
    "inx = cal.weekday(2018,12,25)\n",
    "cal.day_name[inx]"
   ]
  },
  {
   "cell_type": "code",
   "execution_count": 146,
   "metadata": {},
   "outputs": [
    {
     "data": {
      "text/plain": [
       "'Tuesday'"
      ]
     },
     "execution_count": 146,
     "metadata": {},
     "output_type": "execute_result"
    }
   ],
   "source": [
    "import calendar as cal\n",
    "\n",
    "dayname = [*cal.day_name]\n",
    "inx = cal.weekday(2018,12,25)\n",
    "dayname[inx]"
   ]
  },
  {
   "cell_type": "code",
   "execution_count": 145,
   "metadata": {},
   "outputs": [
    {
     "data": {
      "text/plain": [
       "'TUESDAY'"
      ]
     },
     "execution_count": 145,
     "metadata": {},
     "output_type": "execute_result"
    }
   ],
   "source": [
    "import calendar as cal\n",
    "\n",
    "dayname = ['MONDAY', 'TUESDAY', 'WEDNESDAY', 'THURSDAY', \n",
    "           'FRIDAY', 'SATURDAY', 'SUNDAY']\n",
    "inx = cal.weekday(2018,12,25)\n",
    "dayname[inx]"
   ]
  },
  {
   "cell_type": "markdown",
   "metadata": {},
   "source": [
    "### How to find dayname of 1st date of 2019 Apr(01-04-2019)?"
   ]
  },
  {
   "cell_type": "code",
   "execution_count": 144,
   "metadata": {},
   "outputs": [
    {
     "data": {
      "text/plain": [
       "'MONDAY'"
      ]
     },
     "execution_count": 144,
     "metadata": {},
     "output_type": "execute_result"
    }
   ],
   "source": [
    "import calendar as cal\n",
    "\n",
    "dayname = ['MONDAY', 'TUESDAY', 'WEDNESDAY', 'THURSDAY', \n",
    "           'FRIDAY', 'SATURDAY', 'SUNDAY']\n",
    "inx = cal.monthrange(2019,4)[0]\n",
    "dayname[inx]"
   ]
  },
  {
   "cell_type": "markdown",
   "metadata": {},
   "source": [
    "### How to find number of days in month(2019,5)?"
   ]
  },
  {
   "cell_type": "code",
   "execution_count": 137,
   "metadata": {},
   "outputs": [
    {
     "name": "stdout",
     "output_type": "stream",
     "text": [
      "31 days.\n"
     ]
    }
   ],
   "source": [
    "import calendar as cal\n",
    "\n",
    "d = cal.monthrange(2019,5)[1]\n",
    "print(d,'days.')"
   ]
  },
  {
   "cell_type": "markdown",
   "metadata": {},
   "source": [
    "### How to find number of days per month in 2019 year?"
   ]
  },
  {
   "cell_type": "code",
   "execution_count": 141,
   "metadata": {},
   "outputs": [
    {
     "name": "stdout",
     "output_type": "stream",
     "text": [
      "January         31\n",
      "February        28\n",
      "March           31\n",
      "April           30\n",
      "May             31\n",
      "June            30\n",
      "July            31\n",
      "August          31\n",
      "September       30\n",
      "October         31\n",
      "November        30\n",
      "December        31\n"
     ]
    }
   ],
   "source": [
    "import calendar as cal\n",
    "\n",
    "for i in range(1,13):\n",
    "    print('{:<15} {}'.format(cal.month_name[i],cal.monthrange(2019,i)[1]))"
   ]
  },
  {
   "cell_type": "markdown",
   "metadata": {},
   "source": [
    "### How to find every month start which dayname in 2019?"
   ]
  },
  {
   "cell_type": "code",
   "execution_count": 147,
   "metadata": {},
   "outputs": [
    {
     "name": "stdout",
     "output_type": "stream",
     "text": [
      "January         Tuesday\n",
      "February        Friday\n",
      "March           Friday\n",
      "April           Monday\n",
      "May             Wednesday\n",
      "June            Saturday\n",
      "July            Monday\n",
      "August          Thursday\n",
      "September       Sunday\n",
      "October         Tuesday\n",
      "November        Friday\n",
      "December        Sunday\n"
     ]
    }
   ],
   "source": [
    "import calendar as cal\n",
    "\n",
    "for i in range(1,13):\n",
    "    day = cal.monthrange(2019,i)[0]\n",
    "    print('{:<15} {}'.format(cal.month_name[i],cal.day_name[day]))"
   ]
  },
  {
   "cell_type": "code",
   "execution_count": null,
   "metadata": {},
   "outputs": [],
   "source": []
  }
 ],
 "metadata": {
  "kernelspec": {
   "display_name": "Python 3",
   "language": "python",
   "name": "python3"
  },
  "language_info": {
   "codemirror_mode": {
    "name": "ipython",
    "version": 3
   },
   "file_extension": ".py",
   "mimetype": "text/x-python",
   "name": "python",
   "nbconvert_exporter": "python",
   "pygments_lexer": "ipython3",
   "version": "3.5.2"
  }
 },
 "nbformat": 4,
 "nbformat_minor": 2
}
