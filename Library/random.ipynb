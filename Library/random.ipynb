{
 "cells": [
  {
   "cell_type": "markdown",
   "metadata": {},
   "source": [
    "## **random**\n",
    "https://docs.python.org/3/library/random.html"
   ]
  },
  {
   "cell_type": "markdown",
   "metadata": {},
   "source": [
    "### **random methods**"
   ]
  },
  {
   "cell_type": "code",
   "execution_count": 2,
   "metadata": {},
   "outputs": [
    {
     "name": "stdout",
     "output_type": "stream",
     "text": [
      "betavariate    choice         choices        expovariate    \n",
      "gammavariate   gauss          getrandbits    getstate       \n",
      "lognormvariate normalvariate  paretovariate  randint        \n",
      "random         randrange      sample         seed           \n",
      "setstate       shuffle        triangular     uniform        \n"
     ]
    }
   ],
   "source": [
    "import random\n",
    "\n",
    "methods = [i for i  in dir(random) if i[0].islower()]\n",
    "fmt = '{:15s}'*4\n",
    "\n",
    "for fn in zip(*[iter(methods)] *4):\n",
    "    print(fmt.format(*fn))"
   ]
  },
  {
   "cell_type": "code",
   "execution_count": 3,
   "metadata": {},
   "outputs": [
    {
     "name": "stdout",
     "output_type": "stream",
     "text": [
      "betavariate:\n",
      "Beta distribution.\n",
      "\n",
      "        Conditions on the parameters are alpha > 0 and beta > 0.\n",
      "        Returned values range between 0 and 1.\n",
      "\n",
      "        \n",
      "**************************************************\n",
      "choice:\n",
      "Choose a random element from a non-empty sequence.\n",
      "**************************************************\n",
      "choices:\n",
      "Return a k sized list of population elements chosen with replacement.\n",
      "\n",
      "        If the relative weights or cumulative weights are not specified,\n",
      "        the selections are made with equal probability.\n",
      "\n",
      "        \n",
      "**************************************************\n",
      "expovariate:\n",
      "Exponential distribution.\n",
      "\n",
      "        lambd is 1.0 divided by the desired mean.  It should be\n",
      "        nonzero.  (The parameter would be called \"lambda\", but that is\n",
      "        a reserved word in Python.)  Returned values range from 0 to\n",
      "        positive infinity if lambd is positive, and from negative\n",
      "        infinity to 0 if lambd is negative.\n",
      "\n",
      "        \n",
      "**************************************************\n",
      "gammavariate:\n",
      "Gamma distribution.  Not the gamma function!\n",
      "\n",
      "        Conditions on the parameters are alpha > 0 and beta > 0.\n",
      "\n",
      "        The probability distribution function is:\n",
      "\n",
      "                    x ** (alpha - 1) * math.exp(-x / beta)\n",
      "          pdf(x) =  --------------------------------------\n",
      "                      math.gamma(alpha) * beta ** alpha\n",
      "\n",
      "        \n",
      "**************************************************\n",
      "gauss:\n",
      "Gaussian distribution.\n",
      "\n",
      "        mu is the mean, and sigma is the standard deviation.  This is\n",
      "        slightly faster than the normalvariate() function.\n",
      "\n",
      "        Not thread-safe without a lock around calls.\n",
      "\n",
      "        \n",
      "**************************************************\n",
      "getrandbits:\n",
      "getrandbits(k) -> x.  Generates an int with k random bits.\n",
      "**************************************************\n",
      "getstate:\n",
      "Return internal state; can be passed to setstate() later.\n",
      "**************************************************\n",
      "lognormvariate:\n",
      "Log normal distribution.\n",
      "\n",
      "        If you take the natural logarithm of this distribution, you'll get a\n",
      "        normal distribution with mean mu and standard deviation sigma.\n",
      "        mu can have any value, and sigma must be greater than zero.\n",
      "\n",
      "        \n",
      "**************************************************\n",
      "normalvariate:\n",
      "Normal distribution.\n",
      "\n",
      "        mu is the mean, and sigma is the standard deviation.\n",
      "\n",
      "        \n",
      "**************************************************\n",
      "paretovariate:\n",
      "Pareto distribution.  alpha is the shape parameter.\n",
      "**************************************************\n",
      "randint:\n",
      "Return random integer in range [a, b], including both end points.\n",
      "        \n",
      "**************************************************\n",
      "random:\n",
      "random() -> x in the interval [0, 1).\n",
      "**************************************************\n",
      "randrange:\n",
      "Choose a random item from range(start, stop[, step]).\n",
      "\n",
      "        This fixes the problem with randint() which includes the\n",
      "        endpoint; in Python this is usually not what you want.\n",
      "\n",
      "        \n",
      "**************************************************\n",
      "sample:\n",
      "Chooses k unique random elements from a population sequence or set.\n",
      "\n",
      "        Returns a new list containing elements from the population while\n",
      "        leaving the original population unchanged.  The resulting list is\n",
      "        in selection order so that all sub-slices will also be valid random\n",
      "        samples.  This allows raffle winners (the sample) to be partitioned\n",
      "        into grand prize and second place winners (the subslices).\n",
      "\n",
      "        Members of the population need not be hashable or unique.  If the\n",
      "        population contains repeats, then each occurrence is a possible\n",
      "        selection in the sample.\n",
      "\n",
      "        To choose a sample in a range of integers, use range as an argument.\n",
      "        This is especially fast and space efficient for sampling from a\n",
      "        large population:   sample(range(10000000), 60)\n",
      "        \n",
      "**************************************************\n",
      "seed:\n",
      "Initialize internal state from hashable object.\n",
      "\n",
      "        None or no argument seeds from current time or from an operating\n",
      "        system specific randomness source if available.\n",
      "\n",
      "        If *a* is an int, all bits are used.\n",
      "\n",
      "        For version 2 (the default), all of the bits are used if *a* is a str,\n",
      "        bytes, or bytearray.  For version 1 (provided for reproducing random\n",
      "        sequences from older versions of Python), the algorithm for str and\n",
      "        bytes generates a narrower range of seeds.\n",
      "\n",
      "        \n",
      "**************************************************\n",
      "setstate:\n",
      "Restore internal state from object returned by getstate().\n",
      "**************************************************\n",
      "shuffle:\n",
      "Shuffle list x in place, and return None.\n",
      "\n",
      "        Optional argument random is a 0-argument function returning a\n",
      "        random float in [0.0, 1.0); if it is the default None, the\n",
      "        standard random.random will be used.\n",
      "\n",
      "        \n",
      "**************************************************\n",
      "triangular:\n",
      "Triangular distribution.\n",
      "\n",
      "        Continuous distribution bounded by given lower and upper limits,\n",
      "        and having a given mode value in-between.\n",
      "\n",
      "        http://en.wikipedia.org/wiki/Triangular_distribution\n",
      "\n",
      "        \n",
      "**************************************************\n",
      "uniform:\n",
      "Get a random number in the range [a, b) or [a, b] depending on rounding.\n",
      "**************************************************\n",
      "vonmisesvariate:\n",
      "Circular data distribution.\n",
      "\n",
      "        mu is the mean angle, expressed in radians between 0 and 2*pi, and\n",
      "        kappa is the concentration parameter, which must be greater than or\n",
      "        equal to zero.  If kappa is equal to zero, this distribution reduces\n",
      "        to a uniform random angle over the range 0 to 2*pi.\n",
      "\n",
      "        \n",
      "**************************************************\n",
      "weibullvariate:\n",
      "Weibull distribution.\n",
      "\n",
      "        alpha is the scale parameter and beta is the shape parameter.\n",
      "\n",
      "        \n",
      "**************************************************\n"
     ]
    }
   ],
   "source": [
    "import random\n",
    "\n",
    "methods = [i for i  in dir(random) if i[0].islower()]\n",
    "fmt = '{:15s}'*4\n",
    "\n",
    "for i in methods:\n",
    "    print(i+':')\n",
    "    print(getattr(random,i).__doc__)\n",
    "    print('*'*50)"
   ]
  },
  {
   "cell_type": "markdown",
   "metadata": {},
   "source": [
    "### shuffle(Shuffle the sequence x in place.)\n",
    "> shuffle(x[, random])\n",
    "\n",
    "shuffle shuffles in place and didn’t return anything"
   ]
  },
  {
   "cell_type": "code",
   "execution_count": 4,
   "metadata": {},
   "outputs": [
    {
     "name": "stdout",
     "output_type": "stream",
     "text": [
      "Shuffle list x in place, and return None.\n",
      "\n",
      "        Optional argument random is a 0-argument function returning a\n",
      "        random float in [0.0, 1.0); if it is the default None, the\n",
      "        standard random.random will be used.\n",
      "\n",
      "        \n"
     ]
    }
   ],
   "source": [
    "import random\n",
    "\n",
    "print(getattr(random, 'shuffle').__doc__)"
   ]
  },
  {
   "cell_type": "markdown",
   "metadata": {},
   "source": [
    "#### **shuffle a list**"
   ]
  },
  {
   "cell_type": "code",
   "execution_count": 8,
   "metadata": {},
   "outputs": [
    {
     "name": "stdout",
     "output_type": "stream",
     "text": [
      "Original list :  [7, 14, 21, 28, 35, 42, 49, 56, 63, 70]\n",
      "List after shuffle  :  [7, 14, 35, 63, 56, 42, 21, 28, 49, 70]\n"
     ]
    }
   ],
   "source": [
    "import random\n",
    "number_list = [7, 14, 21, 28, 35, 42, 49, 56, 63, 70]\n",
    "print (\"Original list : \",  number_list)\n",
    "\n",
    "random.shuffle(number_list) #shuffle method\n",
    "print (\"List after shuffle  : \",  number_list)"
   ]
  },
  {
   "cell_type": "markdown",
   "metadata": {},
   "source": [
    "#### **Shuffle a list of Strings**"
   ]
  },
  {
   "cell_type": "code",
   "execution_count": 10,
   "metadata": {},
   "outputs": [
    {
     "name": "stdout",
     "output_type": "stream",
     "text": [
      "Original String list:  ['Paint It Black', 'Gimme Shelter', 'Sympathy for the Devil', 'Satisfaction']\n",
      "String List after shuffle  :  ['Paint It Black', 'Satisfaction', 'Gimme Shelter', 'Sympathy for the Devil']\n"
     ]
    }
   ],
   "source": [
    "import random\n",
    "\n",
    "string_list = [\"Paint It Black\", \"Gimme Shelter\", \"Sympathy for the Devil\", \"Satisfaction\"]\n",
    "print (\"Original String list: \",  string_list)\n",
    "\n",
    "random.shuffle(string_list) #shuffle method\n",
    "print (\"String List after shuffle  : \",  string_list)"
   ]
  },
  {
   "cell_type": "markdown",
   "metadata": {},
   "source": [
    "#### **Shuffling a String**\n",
    "\n",
    "To shuffle an immutable sequence and return a new shuffled list, use sample(x, k=len(x)) instead."
   ]
  },
  {
   "cell_type": "code",
   "execution_count": 23,
   "metadata": {},
   "outputs": [
    {
     "data": {
      "text/plain": [
       "'vlananama'"
      ]
     },
     "execution_count": 23,
     "metadata": {},
     "output_type": "execute_result"
    }
   ],
   "source": [
    "import random\n",
    "s=\"manavalan\"\n",
    "''.join(random.sample(s,len(s)))"
   ]
  },
  {
   "cell_type": "code",
   "execution_count": 22,
   "metadata": {},
   "outputs": [
    {
     "name": "stdout",
     "output_type": "stream",
     "text": [
      "lnavnamaa\n"
     ]
    }
   ],
   "source": [
    "import random\n",
    "\n",
    "name = \"manavalan\"\n",
    "name = list(name)\n",
    "random.shuffle(name)\n",
    "print(*name, sep = '')"
   ]
  },
  {
   "cell_type": "markdown",
   "metadata": {},
   "source": [
    "#### **shuffling list to get the same result every time**"
   ]
  },
  {
   "cell_type": "code",
   "execution_count": 46,
   "metadata": {},
   "outputs": [
    {
     "name": "stdout",
     "output_type": "stream",
     "text": [
      "Original list:  [10, 20, 30, 40, 50, 60]\n",
      "reshuffled list  [10, 30, 40, 60, 50, 20]\n"
     ]
    }
   ],
   "source": [
    "import random\n",
    "\n",
    "numbers = [10, 20, 30, 40, 50, 60]\n",
    "print (\"Original list: \", numbers )\n",
    "random.seed(3)\n",
    "random.shuffle(numbers)\n",
    "print(\"reshuffled list \", numbers)"
   ]
  },
  {
   "cell_type": "markdown",
   "metadata": {},
   "source": [
    "#### **Shuffle two List at once with the same order**"
   ]
  },
  {
   "cell_type": "raw",
   "metadata": {},
   "source": [
    "Let’s assume if you want to Shuffle two list but also wants \n",
    "to maintain the same shuffle order. For example, One list contains \n",
    "employee name and the other contains a salary"
   ]
  },
  {
   "cell_type": "code",
   "execution_count": 48,
   "metadata": {},
   "outputs": [
    {
     "name": "stdout",
     "output_type": "stream",
     "text": [
      "\n",
      "Print Lists after Shuffling\n",
      "List Employee Names:  ('Kelly', 'Jhon', 'Emma', 'Jason')\n",
      "List Employee Salary:  (9000, 7000, 6500, 10000)\n"
     ]
    }
   ],
   "source": [
    "import random\n",
    "\n",
    "empName = ['Jhon', 'Emma', 'Kelly', 'Jason']\n",
    "empSalary = [7000, 6500, 9000, 10000]\n",
    "\n",
    "mapIndexPosition = list(zip(empName, empSalary))\n",
    "random.shuffle(mapIndexPosition)\n",
    "empName, empSalary = zip(*mapIndexPosition)\n",
    "\n",
    "print(\"\\nPrint Lists after Shuffling\")\n",
    "print(\"List Employee Names: \", empName)\n",
    "print(\"List Employee Salary: \", empSalary)"
   ]
  },
  {
   "cell_type": "markdown",
   "metadata": {},
   "source": [
    "#### **Shuffling multidimensional array**"
   ]
  },
  {
   "cell_type": "code",
   "execution_count": 49,
   "metadata": {},
   "outputs": [
    {
     "name": "stdout",
     "output_type": "stream",
     "text": [
      "Before Shufflling 2-dimensional array in Python\n",
      "[[100 110]\n",
      " [120 130]\n",
      " [140 150]\n",
      " [160 170]\n",
      " [180 190]\n",
      " [200 210]\n",
      " [220 230]]\n",
      "After Shufflling 2-dimensional array in Python\n",
      "[[220 230]\n",
      " [100 110]\n",
      " [120 130]\n",
      " [140 150]\n",
      " [160 170]\n",
      " [180 190]\n",
      " [200 210]]\n"
     ]
    }
   ],
   "source": [
    "import numpy\n",
    "\n",
    "print(\"Before Shufflling 2-dimensional array in Python\")\n",
    "sampleArray = numpy.arange(100, 240, 10)\n",
    "sampleArray = sampleArray.reshape(7,2)\n",
    "print (sampleArray)\n",
    "\n",
    "print(\"After Shufflling 2-dimensional array in Python\")\n",
    "newArray = numpy.random.shuffle(sampleArray)\n",
    "print (sampleArray)"
   ]
  },
  {
   "cell_type": "code",
   "execution_count": null,
   "metadata": {},
   "outputs": [],
   "source": []
  },
  {
   "cell_type": "markdown",
   "metadata": {},
   "source": [
    "### **Excercise**"
   ]
  },
  {
   "cell_type": "code",
   "execution_count": 5,
   "metadata": {},
   "outputs": [
    {
     "name": "stdout",
     "output_type": "stream",
     "text": [
      "Count occurrences of word in file linux.\r\n",
      "Shell script to count number of words in a file.\r\n",
      "Shell script to count number of lines.\r\n",
      "Shell script to counts number of lines and words in a file.\r\n",
      "Find count of string in file linux.\r\n"
     ]
    }
   ],
   "source": [
    "!cat /home/mana/Work/data.txt"
   ]
  },
  {
   "cell_type": "code",
   "execution_count": 6,
   "metadata": {},
   "outputs": [
    {
     "name": "stdout",
     "output_type": "stream",
     "text": [
      "Count occurrences of word in file linux.\n",
      "Shell script to count number of lines.\n",
      "Shell script to counts number of lines and words in a file.\n",
      "Shell script to count number of words in a file.\n",
      "Find count of string in file linux.\n"
     ]
    }
   ],
   "source": [
    "from random import shuffle\n",
    "from pathlib import Path\n",
    "\n",
    "lines = Path('/home/mana/Work/data.txt').read_text().splitlines()\n",
    "shuffle(lines)\n",
    "print(*lines, sep = '\\n')"
   ]
  },
  {
   "cell_type": "code",
   "execution_count": null,
   "metadata": {},
   "outputs": [],
   "source": []
  }
 ],
 "metadata": {
  "kernelspec": {
   "display_name": "Python 3",
   "language": "python",
   "name": "python3"
  },
  "language_info": {
   "codemirror_mode": {
    "name": "ipython",
    "version": 3
   },
   "file_extension": ".py",
   "mimetype": "text/x-python",
   "name": "python",
   "nbconvert_exporter": "python",
   "pygments_lexer": "ipython3",
   "version": "3.6.9"
  }
 },
 "nbformat": 4,
 "nbformat_minor": 2
}
