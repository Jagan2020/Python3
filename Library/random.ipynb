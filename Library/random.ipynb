{
 "cells": [
  {
   "cell_type": "markdown",
   "metadata": {},
   "source": [
    "## **random**\n",
    "\n",
    "#### **Random Module to Generate random numbers and Data**\n",
    "https://docs.python.org/3/library/random.html"
   ]
  },
  {
   "cell_type": "raw",
   "metadata": {},
   "source": [
    "The random module also provides the SystemRandom class which \n",
    "uses the system function os.urandom() to generate random numbers \n",
    "from sources provided by the operating system."
   ]
  },
  {
   "cell_type": "markdown",
   "metadata": {},
   "source": [
    "### **random methods**"
   ]
  },
  {
   "cell_type": "code",
   "execution_count": 2,
   "metadata": {},
   "outputs": [
    {
     "name": "stdout",
     "output_type": "stream",
     "text": [
      "betavariate    choice         choices        expovariate    \n",
      "gammavariate   gauss          getrandbits    getstate       \n",
      "lognormvariate normalvariate  paretovariate  randint        \n",
      "random         randrange      sample         seed           \n",
      "setstate       shuffle        triangular     uniform        \n"
     ]
    }
   ],
   "source": [
    "import random\n",
    "\n",
    "methods = [i for i  in dir(random) if i[0].islower()]\n",
    "fmt = '{:15s}'*4\n",
    "\n",
    "for fn in zip(*[iter(methods)] *4):\n",
    "    print(fmt.format(*fn))"
   ]
  },
  {
   "cell_type": "code",
   "execution_count": 1,
   "metadata": {},
   "outputs": [
    {
     "name": "stdout",
     "output_type": "stream",
     "text": [
      "betavariate:\n",
      "Beta distribution.\n",
      "\n",
      "        Conditions on the parameters are alpha > 0 and beta > 0.\n",
      "        Returned values range between 0 and 1.\n",
      "\n",
      "        \n",
      "**************************************************\n",
      "choice:\n",
      "Choose a random element from a non-empty sequence.\n",
      "**************************************************\n",
      "choices:\n",
      "Return a k sized list of population elements chosen with replacement.\n",
      "\n",
      "        If the relative weights or cumulative weights are not specified,\n",
      "        the selections are made with equal probability.\n",
      "\n",
      "        \n",
      "**************************************************\n",
      "expovariate:\n",
      "Exponential distribution.\n",
      "\n",
      "        lambd is 1.0 divided by the desired mean.  It should be\n",
      "        nonzero.  (The parameter would be called \"lambda\", but that is\n",
      "        a reserved word in Python.)  Returned values range from 0 to\n",
      "        positive infinity if lambd is positive, and from negative\n",
      "        infinity to 0 if lambd is negative.\n",
      "\n",
      "        \n",
      "**************************************************\n",
      "gammavariate:\n",
      "Gamma distribution.  Not the gamma function!\n",
      "\n",
      "        Conditions on the parameters are alpha > 0 and beta > 0.\n",
      "\n",
      "        The probability distribution function is:\n",
      "\n",
      "                    x ** (alpha - 1) * math.exp(-x / beta)\n",
      "          pdf(x) =  --------------------------------------\n",
      "                      math.gamma(alpha) * beta ** alpha\n",
      "\n",
      "        \n",
      "**************************************************\n",
      "gauss:\n",
      "Gaussian distribution.\n",
      "\n",
      "        mu is the mean, and sigma is the standard deviation.  This is\n",
      "        slightly faster than the normalvariate() function.\n",
      "\n",
      "        Not thread-safe without a lock around calls.\n",
      "\n",
      "        \n",
      "**************************************************\n",
      "getrandbits:\n",
      "getrandbits(k) -> x.  Generates an int with k random bits.\n",
      "**************************************************\n",
      "getstate:\n",
      "Return internal state; can be passed to setstate() later.\n",
      "**************************************************\n",
      "lognormvariate:\n",
      "Log normal distribution.\n",
      "\n",
      "        If you take the natural logarithm of this distribution, you'll get a\n",
      "        normal distribution with mean mu and standard deviation sigma.\n",
      "        mu can have any value, and sigma must be greater than zero.\n",
      "\n",
      "        \n",
      "**************************************************\n",
      "normalvariate:\n",
      "Normal distribution.\n",
      "\n",
      "        mu is the mean, and sigma is the standard deviation.\n",
      "\n",
      "        \n",
      "**************************************************\n",
      "paretovariate:\n",
      "Pareto distribution.  alpha is the shape parameter.\n",
      "**************************************************\n",
      "randint:\n",
      "Return random integer in range [a, b], including both end points.\n",
      "        \n",
      "**************************************************\n",
      "random:\n",
      "random() -> x in the interval [0, 1).\n",
      "**************************************************\n",
      "randrange:\n",
      "Choose a random item from range(start, stop[, step]).\n",
      "\n",
      "        This fixes the problem with randint() which includes the\n",
      "        endpoint; in Python this is usually not what you want.\n",
      "\n",
      "        \n",
      "**************************************************\n",
      "sample:\n",
      "Chooses k unique random elements from a population sequence or set.\n",
      "\n",
      "        Returns a new list containing elements from the population while\n",
      "        leaving the original population unchanged.  The resulting list is\n",
      "        in selection order so that all sub-slices will also be valid random\n",
      "        samples.  This allows raffle winners (the sample) to be partitioned\n",
      "        into grand prize and second place winners (the subslices).\n",
      "\n",
      "        Members of the population need not be hashable or unique.  If the\n",
      "        population contains repeats, then each occurrence is a possible\n",
      "        selection in the sample.\n",
      "\n",
      "        To choose a sample in a range of integers, use range as an argument.\n",
      "        This is especially fast and space efficient for sampling from a\n",
      "        large population:   sample(range(10000000), 60)\n",
      "        \n",
      "**************************************************\n",
      "seed:\n",
      "Initialize internal state from hashable object.\n",
      "\n",
      "        None or no argument seeds from current time or from an operating\n",
      "        system specific randomness source if available.\n",
      "\n",
      "        If *a* is an int, all bits are used.\n",
      "\n",
      "        For version 2 (the default), all of the bits are used if *a* is a str,\n",
      "        bytes, or bytearray.  For version 1 (provided for reproducing random\n",
      "        sequences from older versions of Python), the algorithm for str and\n",
      "        bytes generates a narrower range of seeds.\n",
      "\n",
      "        \n",
      "**************************************************\n",
      "setstate:\n",
      "Restore internal state from object returned by getstate().\n",
      "**************************************************\n",
      "shuffle:\n",
      "Shuffle list x in place, and return None.\n",
      "\n",
      "        Optional argument random is a 0-argument function returning a\n",
      "        random float in [0.0, 1.0); if it is the default None, the\n",
      "        standard random.random will be used.\n",
      "\n",
      "        \n",
      "**************************************************\n",
      "triangular:\n",
      "Triangular distribution.\n",
      "\n",
      "        Continuous distribution bounded by given lower and upper limits,\n",
      "        and having a given mode value in-between.\n",
      "\n",
      "        http://en.wikipedia.org/wiki/Triangular_distribution\n",
      "\n",
      "        \n",
      "**************************************************\n",
      "uniform:\n",
      "Get a random number in the range [a, b) or [a, b] depending on rounding.\n",
      "**************************************************\n",
      "vonmisesvariate:\n",
      "Circular data distribution.\n",
      "\n",
      "        mu is the mean angle, expressed in radians between 0 and 2*pi, and\n",
      "        kappa is the concentration parameter, which must be greater than or\n",
      "        equal to zero.  If kappa is equal to zero, this distribution reduces\n",
      "        to a uniform random angle over the range 0 to 2*pi.\n",
      "\n",
      "        \n",
      "**************************************************\n",
      "weibullvariate:\n",
      "Weibull distribution.\n",
      "\n",
      "        alpha is the scale parameter and beta is the shape parameter.\n",
      "\n",
      "        \n",
      "**************************************************\n"
     ]
    }
   ],
   "source": [
    "import random\n",
    "\n",
    "methods = [i for i  in dir(random) if i[0].islower()]\n",
    "\n",
    "for i in methods:\n",
    "    print(i+':')\n",
    "    print(getattr(random,i).__doc__)\n",
    "    print('*'*50)"
   ]
  },
  {
   "cell_type": "markdown",
   "metadata": {},
   "source": [
    "### **random()**"
   ]
  },
  {
   "cell_type": "raw",
   "metadata": {},
   "source": [
    "Almost all module functions depend on the basic function random(),\n",
    "which generates a random float uniformly in the semi-open range [0.0, 1.0). "
   ]
  },
  {
   "cell_type": "code",
   "execution_count": 4,
   "metadata": {},
   "outputs": [
    {
     "data": {
      "text/plain": [
       "0.2616214829446579"
      ]
     },
     "execution_count": 4,
     "metadata": {},
     "output_type": "execute_result"
    }
   ],
   "source": [
    "import random\n",
    "\n",
    "random.random()"
   ]
  },
  {
   "cell_type": "markdown",
   "metadata": {},
   "source": [
    "### **Bookkeeping functions**"
   ]
  },
  {
   "cell_type": "markdown",
   "metadata": {},
   "source": [
    "### **seed(a=None, version=2)**"
   ]
  },
  {
   "cell_type": "raw",
   "metadata": {},
   "source": [
    "* The seed method is used to initialize the pseudorandom number generator in Python.\n",
    "* The random module uses the seed value as a base to generate a random number. \n",
    "  If seed value is not present, it takes a system current time."
   ]
  },
  {
   "cell_type": "code",
   "execution_count": 8,
   "metadata": {},
   "outputs": [
    {
     "name": "stdout",
     "output_type": "stream",
     "text": [
      "Random number with seed  0.793340083761663\n",
      "Random number with seed  0.793340083761663\n",
      "Random number with seed  0.6229016948897019\n"
     ]
    }
   ],
   "source": [
    "import random\n",
    "random.seed(6)\n",
    "print(\"Random number with seed \",random.random())\n",
    "\n",
    "random.seed(6) \n",
    "print(\"Random number with seed \",random.random())\n",
    "\n",
    "random.seed(5) \n",
    "print(\"Random number with seed \",random.random())"
   ]
  },
  {
   "cell_type": "markdown",
   "metadata": {},
   "source": [
    "### **Get and Set the state of random Generator**"
   ]
  },
  {
   "cell_type": "raw",
   "metadata": {},
   "source": [
    "The random module has two function getstate and setstate which helps us to capture \n",
    "the current internal state of the random generator. Using this state, we can generate\n",
    "the same random numbers or sequence of data."
   ]
  },
  {
   "cell_type": "markdown",
   "metadata": {},
   "source": [
    "### **getstate()**"
   ]
  },
  {
   "cell_type": "raw",
   "metadata": {},
   "source": [
    "The getstate function returns an object by captures the current internal state of \n",
    "the random generator. We can pass this state to the setstate method to restore this \n",
    "state as a current state.\n",
    "\n",
    "Note: By changing the state to the previous state we can get the same random data again. \n",
    "For example, If you want to get the same sample items again, you can use these functions."
   ]
  },
  {
   "cell_type": "markdown",
   "metadata": {},
   "source": [
    "### **setstate(state)**"
   ]
  },
  {
   "cell_type": "raw",
   "metadata": {},
   "source": [
    "state should have been obtained from a previous call to getstate(), and setstate() \n",
    "restores the internal state of the generator to what it was at the time getstate() was called."
   ]
  },
  {
   "cell_type": "markdown",
   "metadata": {},
   "source": [
    "### **Why Use getstate and setstate functions?**"
   ]
  },
  {
   "cell_type": "raw",
   "metadata": {},
   "source": [
    "If you get a previous state and restore it, then you can reproduce the same random \n",
    "data again and again.  Remember you cannot use a different random function, nor you \n",
    "can change parameters value. By doing this, you are altering the state."
   ]
  },
  {
   "cell_type": "code",
   "execution_count": 20,
   "metadata": {},
   "outputs": [
    {
     "name": "stdout",
     "output_type": "stream",
     "text": [
      "First Sample is  [18, 6, 30, 21, 12]\n",
      "Second Sample is  [15, 24, 6, 21, 27]\n",
      "Third Sample is  [15, 24, 6, 21, 27]\n",
      "Fourth Sample is  [15, 24, 6, 21, 27]\n"
     ]
    }
   ],
   "source": [
    "import random\n",
    "\n",
    "number_list = [3, 6, 9, 12, 15, 18, 21, 24, 27, 30]\n",
    "\n",
    "print(\"First Sample is \", random.sample(number_list,k=5))\n",
    "\n",
    "state = random.getstate()  # store this current state in state object\n",
    "print(\"Second Sample is \", random.sample(number_list,k=5))\n",
    "\n",
    "random.setstate(state)     # restore state now using setstate\n",
    "print(\"Third Sample is \", random.sample(number_list,k=5)) #Now it will print the same second sample list\n",
    "\n",
    "random.setstate(state)     # restore state now\n",
    "print(\"Fourth Sample is \", random.sample(number_list,k=5)) #again it will print the same second sample list again\n"
   ]
  },
  {
   "cell_type": "markdown",
   "metadata": {},
   "source": [
    "### **Functions for integers**"
   ]
  },
  {
   "cell_type": "markdown",
   "metadata": {},
   "source": [
    "### **randrange(stop)**"
   ]
  },
  {
   "cell_type": "code",
   "execution_count": 2,
   "metadata": {},
   "outputs": [
    {
     "data": {
      "text/plain": [
       "9"
      ]
     },
     "execution_count": 2,
     "metadata": {},
     "output_type": "execute_result"
    }
   ],
   "source": [
    "from random import randrange\n",
    "\n",
    "randrange(10)"
   ]
  },
  {
   "cell_type": "markdown",
   "metadata": {},
   "source": [
    "### **randrange(start, stop[, step])**"
   ]
  },
  {
   "cell_type": "raw",
   "metadata": {},
   "source": [
    "Return a randomly selected element from range(start, stop, step). \n",
    "This is equivalent to choice(range(start, stop, step)), \n",
    "but doesn’t actually build a range object."
   ]
  },
  {
   "cell_type": "code",
   "execution_count": 10,
   "metadata": {},
   "outputs": [
    {
     "data": {
      "text/plain": [
       "11"
      ]
     },
     "execution_count": 10,
     "metadata": {},
     "output_type": "execute_result"
    }
   ],
   "source": [
    "from random import randrange\n",
    "\n",
    "randrange(10, 50)"
   ]
  },
  {
   "cell_type": "code",
   "execution_count": 11,
   "metadata": {},
   "outputs": [
    {
     "data": {
      "text/plain": [
       "20"
      ]
     },
     "execution_count": 11,
     "metadata": {},
     "output_type": "execute_result"
    }
   ],
   "source": [
    "from random import randrange\n",
    "\n",
    "randrange(10, 50, 10)"
   ]
  },
  {
   "cell_type": "markdown",
   "metadata": {},
   "source": [
    "### **randint(a, b)**"
   ]
  },
  {
   "cell_type": "code",
   "execution_count": 14,
   "metadata": {},
   "outputs": [
    {
     "data": {
      "text/plain": [
       "1"
      ]
     },
     "execution_count": 14,
     "metadata": {},
     "output_type": "execute_result"
    }
   ],
   "source": [
    "from random import randint\n",
    "\n",
    "randint(0, 9)"
   ]
  },
  {
   "cell_type": "markdown",
   "metadata": {},
   "source": [
    "### **Functions for sequences**\n",
    "Randomly select an item from a Sequences"
   ]
  },
  {
   "cell_type": "markdown",
   "metadata": {},
   "source": [
    "### **choice(seq)**"
   ]
  },
  {
   "cell_type": "raw",
   "metadata": {},
   "source": [
    "Return a random element from the non-empty sequence seq. \n",
    "If seq is empty, raises IndexError."
   ]
  },
  {
   "cell_type": "code",
   "execution_count": 4,
   "metadata": {},
   "outputs": [
    {
     "data": {
      "text/plain": [
       "'n'"
      ]
     },
     "execution_count": 4,
     "metadata": {},
     "output_type": "execute_result"
    }
   ],
   "source": [
    "from random import choice\n",
    "\n",
    "st = 'Manavalan'\n",
    "choice(st)"
   ]
  },
  {
   "cell_type": "code",
   "execution_count": 5,
   "metadata": {},
   "outputs": [
    {
     "data": {
      "text/plain": [
       "'a'"
      ]
     },
     "execution_count": 5,
     "metadata": {},
     "output_type": "execute_result"
    }
   ],
   "source": [
    "lst = ['M', 'a', 'n', 'a', 'v', 'a', 'l', 'a', 'n']\n",
    "choice(lst)"
   ]
  },
  {
   "cell_type": "markdown",
   "metadata": {},
   "source": [
    "### **choices(population, weights=None, *, cum_weights=None, k=1)**\n",
    "choose more than one element from the sequence randomly"
   ]
  },
  {
   "cell_type": "raw",
   "metadata": {},
   "source": [
    "Return a k sized list of elements chosen from the population with replacement. \n",
    "If the population is empty, raises IndexError."
   ]
  },
  {
   "cell_type": "code",
   "execution_count": 19,
   "metadata": {},
   "outputs": [
    {
     "data": {
      "text/plain": [
       "['M', 'a', 'l']"
      ]
     },
     "execution_count": 19,
     "metadata": {},
     "output_type": "execute_result"
    }
   ],
   "source": [
    "from random import choices\n",
    "\n",
    "lst = ['M', 'a', 'n', 'a', 'v', 'a', 'l', 'a', 'n']\n",
    "choices(lst, k=3)\n"
   ]
  },
  {
   "cell_type": "code",
   "execution_count": 22,
   "metadata": {},
   "outputs": [
    {
     "data": {
      "text/plain": [
       "[['b', 'a'], ['a', 'b'], ['c', 'b'], ['a', 'b'], ['a', 'b']]"
      ]
     },
     "execution_count": 22,
     "metadata": {},
     "output_type": "execute_result"
    }
   ],
   "source": [
    "import random\n",
    "\n",
    "random.choices(\n",
    "population=[['a','b'], ['b','a'], ['c','b']],\n",
    "weights=[0.2, 0.2, 0.6],\n",
    "k=5)\n"
   ]
  },
  {
   "cell_type": "markdown",
   "metadata": {},
   "source": [
    "### shuffle(Shuffle the sequence x in place.)\n",
    "> shuffle(x[, random])\n",
    "\n",
    "shuffle shuffles in place and didn’t return anything"
   ]
  },
  {
   "cell_type": "code",
   "execution_count": 23,
   "metadata": {},
   "outputs": [
    {
     "name": "stdout",
     "output_type": "stream",
     "text": [
      "Shuffle list x in place, and return None.\n",
      "\n",
      "        Optional argument random is a 0-argument function returning a\n",
      "        random float in [0.0, 1.0); if it is the default None, the\n",
      "        standard random.random will be used.\n",
      "\n",
      "        \n"
     ]
    }
   ],
   "source": [
    "import random\n",
    "\n",
    "print(random.shuffle.__doc__)"
   ]
  },
  {
   "cell_type": "markdown",
   "metadata": {},
   "source": [
    "#### **shuffle a list**"
   ]
  },
  {
   "cell_type": "code",
   "execution_count": 8,
   "metadata": {},
   "outputs": [
    {
     "name": "stdout",
     "output_type": "stream",
     "text": [
      "Original list :  [7, 14, 21, 28, 35, 42, 49, 56, 63, 70]\n",
      "List after shuffle  :  [7, 14, 35, 63, 56, 42, 21, 28, 49, 70]\n"
     ]
    }
   ],
   "source": [
    "import random\n",
    "number_list = [7, 14, 21, 28, 35, 42, 49, 56, 63, 70]\n",
    "print (\"Original list : \",  number_list)\n",
    "\n",
    "random.shuffle(number_list) #shuffle method\n",
    "print (\"List after shuffle  : \",  number_list)"
   ]
  },
  {
   "cell_type": "markdown",
   "metadata": {},
   "source": [
    "#### **Shuffle a list of Strings**"
   ]
  },
  {
   "cell_type": "code",
   "execution_count": 10,
   "metadata": {},
   "outputs": [
    {
     "name": "stdout",
     "output_type": "stream",
     "text": [
      "Original String list:  ['Paint It Black', 'Gimme Shelter', 'Sympathy for the Devil', 'Satisfaction']\n",
      "String List after shuffle  :  ['Paint It Black', 'Satisfaction', 'Gimme Shelter', 'Sympathy for the Devil']\n"
     ]
    }
   ],
   "source": [
    "import random\n",
    "\n",
    "string_list = [\"Paint It Black\", \"Gimme Shelter\", \"Sympathy for the Devil\", \"Satisfaction\"]\n",
    "print (\"Original String list: \",  string_list)\n",
    "\n",
    "random.shuffle(string_list) #shuffle method\n",
    "print (\"String List after shuffle  : \",  string_list)"
   ]
  },
  {
   "cell_type": "markdown",
   "metadata": {},
   "source": [
    "#### **Shuffling a String**\n",
    "\n",
    "To shuffle an immutable sequence and return a new shuffled list, use sample(x, k=len(x)) instead."
   ]
  },
  {
   "cell_type": "code",
   "execution_count": 23,
   "metadata": {},
   "outputs": [
    {
     "data": {
      "text/plain": [
       "'vlananama'"
      ]
     },
     "execution_count": 23,
     "metadata": {},
     "output_type": "execute_result"
    }
   ],
   "source": [
    "import random\n",
    "s=\"manavalan\"\n",
    "''.join(random.sample(s,len(s)))"
   ]
  },
  {
   "cell_type": "code",
   "execution_count": 22,
   "metadata": {},
   "outputs": [
    {
     "name": "stdout",
     "output_type": "stream",
     "text": [
      "lnavnamaa\n"
     ]
    }
   ],
   "source": [
    "import random\n",
    "\n",
    "name = \"manavalan\"\n",
    "name = list(name)\n",
    "random.shuffle(name)\n",
    "print(*name, sep = '')"
   ]
  },
  {
   "cell_type": "markdown",
   "metadata": {},
   "source": [
    "#### **shuffling list to get the same result every time**"
   ]
  },
  {
   "cell_type": "code",
   "execution_count": 46,
   "metadata": {},
   "outputs": [
    {
     "name": "stdout",
     "output_type": "stream",
     "text": [
      "Original list:  [10, 20, 30, 40, 50, 60]\n",
      "reshuffled list  [10, 30, 40, 60, 50, 20]\n"
     ]
    }
   ],
   "source": [
    "import random\n",
    "\n",
    "numbers = [10, 20, 30, 40, 50, 60]\n",
    "print (\"Original list: \", numbers )\n",
    "random.seed(3)\n",
    "random.shuffle(numbers)\n",
    "print(\"reshuffled list \", numbers)"
   ]
  },
  {
   "cell_type": "markdown",
   "metadata": {},
   "source": [
    "#### **Shuffle two List at once with the same order**"
   ]
  },
  {
   "cell_type": "raw",
   "metadata": {},
   "source": [
    "Let’s assume if you want to Shuffle two list but also wants \n",
    "to maintain the same shuffle order. For example, One list contains \n",
    "employee name and the other contains a salary"
   ]
  },
  {
   "cell_type": "code",
   "execution_count": 48,
   "metadata": {},
   "outputs": [
    {
     "name": "stdout",
     "output_type": "stream",
     "text": [
      "\n",
      "Print Lists after Shuffling\n",
      "List Employee Names:  ('Kelly', 'Jhon', 'Emma', 'Jason')\n",
      "List Employee Salary:  (9000, 7000, 6500, 10000)\n"
     ]
    }
   ],
   "source": [
    "import random\n",
    "\n",
    "empName = ['Jhon', 'Emma', 'Kelly', 'Jason']\n",
    "empSalary = [7000, 6500, 9000, 10000]\n",
    "\n",
    "mapIndexPosition = list(zip(empName, empSalary))\n",
    "random.shuffle(mapIndexPosition)\n",
    "empName, empSalary = zip(*mapIndexPosition)\n",
    "\n",
    "print(\"\\nPrint Lists after Shuffling\")\n",
    "print(\"List Employee Names: \", empName)\n",
    "print(\"List Employee Salary: \", empSalary)"
   ]
  },
  {
   "cell_type": "markdown",
   "metadata": {},
   "source": [
    "#### **Shuffling multidimensional array**"
   ]
  },
  {
   "cell_type": "code",
   "execution_count": 49,
   "metadata": {},
   "outputs": [
    {
     "name": "stdout",
     "output_type": "stream",
     "text": [
      "Before Shufflling 2-dimensional array in Python\n",
      "[[100 110]\n",
      " [120 130]\n",
      " [140 150]\n",
      " [160 170]\n",
      " [180 190]\n",
      " [200 210]\n",
      " [220 230]]\n",
      "After Shufflling 2-dimensional array in Python\n",
      "[[220 230]\n",
      " [100 110]\n",
      " [120 130]\n",
      " [140 150]\n",
      " [160 170]\n",
      " [180 190]\n",
      " [200 210]]\n"
     ]
    }
   ],
   "source": [
    "import numpy\n",
    "\n",
    "print(\"Before Shufflling 2-dimensional array in Python\")\n",
    "sampleArray = numpy.arange(100, 240, 10)\n",
    "sampleArray = sampleArray.reshape(7,2)\n",
    "print (sampleArray)\n",
    "\n",
    "print(\"After Shufflling 2-dimensional array in Python\")\n",
    "newArray = numpy.random.shuffle(sampleArray)\n",
    "print (sampleArray)"
   ]
  },
  {
   "cell_type": "markdown",
   "metadata": {},
   "source": [
    "### **sample(population, k)**\n",
    "Randomly pick more than one element from the list without repeating elements"
   ]
  },
  {
   "cell_type": "raw",
   "metadata": {},
   "source": [
    "The random.sample() function has two arguments, and both are required.\n",
    "\n",
    "==> The population can be any sequence such as list, set from which \n",
    "    you want to select a k length number.\n",
    "==> The k is the number of random items you want to select from the sequence. \n",
    "    k must be less than the size of the specified list.\n",
    "\n",
    "A random.sample() function raises a type error if you miss any of the required arguments.\n",
    "The random.sample() returns a new list containing the randomly selected items\n",
    "\n",
    "==> It doesn’t change the specified sequence or list. It returns a new sampled \n",
    "    list containing elements from the specified sequence or list.\n",
    "==> The specified list or population need not be hashable or unique."
   ]
  },
  {
   "cell_type": "markdown",
   "metadata": {},
   "source": [
    "#### **select multiple items from a list without repeating**"
   ]
  },
  {
   "cell_type": "code",
   "execution_count": 24,
   "metadata": {},
   "outputs": [
    {
     "name": "stdout",
     "output_type": "stream",
     "text": [
      "[100, 40, 80]\n"
     ]
    }
   ],
   "source": [
    "import random\n",
    "\n",
    "aList = [20, 40, 80, 100, 120]\n",
    "sampled_list = random.sample(aList, 3)\n",
    "print(sampled_list)"
   ]
  },
  {
   "cell_type": "raw",
   "metadata": {},
   "source": [
    "If your list itself contains repeated or duplicate elements, then random.sample() \n",
    "can pick repeated items because each occurrence is a possible selection in the sample. \n",
    "I.e., The random.sample() can pick the repeated items from the specified list\n",
    "if the unique members are less than a sampling size."
   ]
  },
  {
   "cell_type": "code",
   "execution_count": 25,
   "metadata": {},
   "outputs": [
    {
     "name": "stdout",
     "output_type": "stream",
     "text": [
      "[60, 20, 40, 40]\n"
     ]
    }
   ],
   "source": [
    "import random\n",
    "\n",
    "exampleList = [20, 40, 20, 20, 40, 60, 70]\n",
    "sampled_list2 = random.sample(exampleList, 4)\n",
    "print(sampled_list2)"
   ]
  },
  {
   "cell_type": "markdown",
   "metadata": {},
   "source": [
    "#### **Generate the sampled list of random integers**"
   ]
  },
  {
   "cell_type": "code",
   "execution_count": 26,
   "metadata": {},
   "outputs": [
    {
     "data": {
      "text/plain": [
       "[11, 13, 10, 17, 15]"
      ]
     },
     "execution_count": 26,
     "metadata": {},
     "output_type": "execute_result"
    }
   ],
   "source": [
    "from random import sample\n",
    "\n",
    "sample(range(10,20), k=5)"
   ]
  },
  {
   "cell_type": "markdown",
   "metadata": {},
   "source": [
    "#### **random sample from the Python set**"
   ]
  },
  {
   "cell_type": "code",
   "execution_count": 28,
   "metadata": {},
   "outputs": [
    {
     "name": "stdout",
     "output_type": "stream",
     "text": [
      "['kelly', 'Scoot', 'Eric']\n"
     ]
    }
   ],
   "source": [
    "import random\n",
    "\n",
    "aSet = {\"Jhon\", \"kelly\", \"Scoot\", \"Emma\", \"Eric\"}\n",
    "sampled_set = random.sample(aSet, 3)\n",
    "print(sampled_set)"
   ]
  },
  {
   "cell_type": "markdown",
   "metadata": {},
   "source": [
    "#### **random sample from dictionary**"
   ]
  },
  {
   "cell_type": "code",
   "execution_count": 29,
   "metadata": {},
   "outputs": [
    {
     "name": "stdout",
     "output_type": "stream",
     "text": [
      "[('jhon', 70), ('Donald', 60)]\n"
     ]
    }
   ],
   "source": [
    "import random\n",
    "\n",
    "marks_dict = {\n",
    "    \"Kelly\": 55,\n",
    "    \"jhon\": 70,\n",
    "    \"Donald\": 60,\n",
    "    \"Lennin\": 50\n",
    "}\n",
    "\n",
    "sampled_dict = random.sample(marks_dict.items(), 2)\n",
    "print(sampled_dict)"
   ]
  },
  {
   "cell_type": "markdown",
   "metadata": {},
   "source": [
    "#### **random sample from string**"
   ]
  },
  {
   "cell_type": "code",
   "execution_count": 39,
   "metadata": {},
   "outputs": [
    {
     "data": {
      "text/plain": [
       "['M', 'l', 'v']"
      ]
     },
     "execution_count": 39,
     "metadata": {},
     "output_type": "execute_result"
    }
   ],
   "source": [
    "from random import sample\n",
    "\n",
    "sample('Manavalan', k=3)"
   ]
  },
  {
   "cell_type": "markdown",
   "metadata": {},
   "source": [
    "#### **random sample seed to get the same sample list every time**"
   ]
  },
  {
   "cell_type": "code",
   "execution_count": 36,
   "metadata": {},
   "outputs": [
    {
     "name": "stdout",
     "output_type": "stream",
     "text": [
      "Randomly select same sample list every time\n",
      "sampled list [40.5, 30.5, 20.5]\n",
      "sampled list [40.5, 30.5, 20.5]\n"
     ]
    }
   ],
   "source": [
    "import random\n",
    "\n",
    "print(\"Randomly select same sample list every time\")\n",
    "alist = [20.5, 40.5, 30.5, 50.5, 70.5]\n",
    "\n",
    "random.seed(4)\n",
    "sample_list = random.sample(alist, 3)\n",
    "print(\"sampled list\", sample_list)\n",
    "\n",
    "random.seed(4)\n",
    "sample_list = random.sample(alist, 3)\n",
    "print(\"sampled list\", sample_list)"
   ]
  },
  {
   "cell_type": "markdown",
   "metadata": {},
   "source": [
    "### **Real-valued distributions**"
   ]
  },
  {
   "cell_type": "markdown",
   "metadata": {},
   "source": [
    "### **random()**\n"
   ]
  },
  {
   "cell_type": "raw",
   "metadata": {},
   "source": [
    "Return the next random floating point number in the range [0.0, 1.0)."
   ]
  },
  {
   "cell_type": "code",
   "execution_count": 40,
   "metadata": {},
   "outputs": [
    {
     "data": {
      "text/plain": [
       "0.9179550430877189"
      ]
     },
     "execution_count": 40,
     "metadata": {},
     "output_type": "execute_result"
    }
   ],
   "source": [
    "import random\n",
    "\n",
    "random.random()"
   ]
  },
  {
   "cell_type": "markdown",
   "metadata": {},
   "source": [
    "### **random.uniform(a, b)**"
   ]
  },
  {
   "cell_type": "raw",
   "metadata": {},
   "source": [
    "Return a random floating point number."
   ]
  },
  {
   "cell_type": "code",
   "execution_count": 43,
   "metadata": {},
   "outputs": [
    {
     "data": {
      "text/plain": [
       "1.2219281756903175"
      ]
     },
     "execution_count": 43,
     "metadata": {},
     "output_type": "execute_result"
    }
   ],
   "source": [
    "import random\n",
    "\n",
    "random.uniform(1,2)"
   ]
  },
  {
   "cell_type": "code",
   "execution_count": 44,
   "metadata": {},
   "outputs": [
    {
     "name": "stdout",
     "output_type": "stream",
     "text": [
      "floating point within given range\n",
      "18.5502001226222\n"
     ]
    }
   ],
   "source": [
    "import random\n",
    "print(\"floating point within given range\")\n",
    "print(random.uniform(10.5, 25.5))"
   ]
  },
  {
   "cell_type": "markdown",
   "metadata": {},
   "source": [
    "### **triangular(low, high, mode)**"
   ]
  },
  {
   "cell_type": "raw",
   "metadata": {},
   "source": [
    "Returns a random float number between two given parameters, \n",
    "you can also set a mode parameter to specify the midpoint between the two other parameters."
   ]
  },
  {
   "cell_type": "code",
   "execution_count": 51,
   "metadata": {},
   "outputs": [
    {
     "name": "stdout",
     "output_type": "stream",
     "text": [
      "floating point triangular\n",
      "11.110941211804738\n"
     ]
    }
   ],
   "source": [
    "import random\n",
    "print(\"floating point triangular\")\n",
    "print(random.triangular(10.5, 25.5, 5.5))"
   ]
  },
  {
   "cell_type": "raw",
   "metadata": {},
   "source": [
    "Return a random number between, and included, 20 and 60, but most likely closer to 20:"
   ]
  },
  {
   "cell_type": "code",
   "execution_count": 52,
   "metadata": {},
   "outputs": [
    {
     "name": "stdout",
     "output_type": "stream",
     "text": [
      "38.84274882920175\n"
     ]
    }
   ],
   "source": [
    "import random\n",
    "\n",
    "print(random.triangular(20, 60, 30))"
   ]
  },
  {
   "cell_type": "markdown",
   "metadata": {},
   "source": [
    "### **betavariate(alpha, beta)**"
   ]
  },
  {
   "cell_type": "raw",
   "metadata": {},
   "source": [
    "Returns a random float number between 0 and 1 based on \n",
    "the Beta distribution (used in statistics)"
   ]
  },
  {
   "cell_type": "code",
   "execution_count": 50,
   "metadata": {},
   "outputs": [
    {
     "data": {
      "text/plain": [
       "0.3808763988129472"
      ]
     },
     "execution_count": 50,
     "metadata": {},
     "output_type": "execute_result"
    }
   ],
   "source": [
    "import random\n",
    "\n",
    "random.betavariate(5, 10)"
   ]
  },
  {
   "cell_type": "markdown",
   "metadata": {},
   "source": [
    "### **expovariate(lambd)**"
   ]
  },
  {
   "cell_type": "raw",
   "metadata": {},
   "source": [
    "Returns a random float number between 0 and 1, or between 0 and -1 \n",
    "if the parameter is negative, based on the Exponential distribution (used in statistics)."
   ]
  },
  {
   "cell_type": "code",
   "execution_count": 59,
   "metadata": {},
   "outputs": [
    {
     "data": {
      "text/plain": [
       "0.45355425425191265"
      ]
     },
     "execution_count": 59,
     "metadata": {},
     "output_type": "execute_result"
    }
   ],
   "source": [
    "from random import expovariate\n",
    "\n",
    "expovariate(1 / 5)   # Interval between arrivals averaging 5 seconds"
   ]
  },
  {
   "cell_type": "markdown",
   "metadata": {},
   "source": [
    "### **gammavariate(alpha, beta)**"
   ]
  },
  {
   "cell_type": "raw",
   "metadata": {},
   "source": [
    "Returns a random float number between 0 and 1 based on \n",
    "the Gamma distribution (used in statistics)"
   ]
  },
  {
   "cell_type": "code",
   "execution_count": 53,
   "metadata": {},
   "outputs": [
    {
     "data": {
      "text/plain": [
       "69.8797075085446"
      ]
     },
     "execution_count": 53,
     "metadata": {},
     "output_type": "execute_result"
    }
   ],
   "source": [
    "import random\n",
    "\n",
    "random.gammavariate(5, 10)"
   ]
  },
  {
   "cell_type": "markdown",
   "metadata": {},
   "source": [
    "### **Alternative Generator**"
   ]
  },
  {
   "cell_type": "markdown",
   "metadata": {},
   "source": [
    "### **Random([seed])**"
   ]
  },
  {
   "cell_type": "raw",
   "metadata": {},
   "source": [
    "Class that implements the default pseudo-random number generator used by the random module."
   ]
  },
  {
   "cell_type": "code",
   "execution_count": 57,
   "metadata": {},
   "outputs": [
    {
     "data": {
      "text/plain": [
       "<random.Random at 0x2c64588>"
      ]
     },
     "execution_count": 57,
     "metadata": {},
     "output_type": "execute_result"
    }
   ],
   "source": [
    "import random\n",
    "\n",
    "random.Random()"
   ]
  },
  {
   "cell_type": "markdown",
   "metadata": {},
   "source": [
    "#### **random.SystemRandom([seed])**"
   ]
  },
  {
   "cell_type": "raw",
   "metadata": {},
   "source": [
    "Class that uses the os.urandom() function for generating random numbers \n",
    "from sources provided by the operating system. "
   ]
  },
  {
   "cell_type": "code",
   "execution_count": null,
   "metadata": {},
   "outputs": [],
   "source": []
  },
  {
   "cell_type": "code",
   "execution_count": null,
   "metadata": {},
   "outputs": [],
   "source": []
  },
  {
   "cell_type": "markdown",
   "metadata": {},
   "source": [
    "### **Excercise**"
   ]
  },
  {
   "cell_type": "code",
   "execution_count": 5,
   "metadata": {},
   "outputs": [
    {
     "name": "stdout",
     "output_type": "stream",
     "text": [
      "Count occurrences of word in file linux.\r\n",
      "Shell script to count number of words in a file.\r\n",
      "Shell script to count number of lines.\r\n",
      "Shell script to counts number of lines and words in a file.\r\n",
      "Find count of string in file linux.\r\n"
     ]
    }
   ],
   "source": [
    "!cat /home/mana/Work/data.txt"
   ]
  },
  {
   "cell_type": "code",
   "execution_count": 6,
   "metadata": {},
   "outputs": [
    {
     "name": "stdout",
     "output_type": "stream",
     "text": [
      "Count occurrences of word in file linux.\n",
      "Shell script to count number of lines.\n",
      "Shell script to counts number of lines and words in a file.\n",
      "Shell script to count number of words in a file.\n",
      "Find count of string in file linux.\n"
     ]
    }
   ],
   "source": [
    "from random import shuffle\n",
    "from pathlib import Path\n",
    "\n",
    "lines = Path('/home/mana/Work/data.txt').read_text().splitlines()\n",
    "shuffle(lines)\n",
    "print(*lines, sep = '\\n')"
   ]
  },
  {
   "cell_type": "markdown",
   "metadata": {},
   "source": [
    "### **Simulations**"
   ]
  },
  {
   "cell_type": "code",
   "execution_count": 10,
   "metadata": {},
   "outputs": [
    {
     "data": {
      "text/plain": [
       "['black', 'green', 'red', 'black', 'black', 'red']"
      ]
     },
     "execution_count": 10,
     "metadata": {},
     "output_type": "execute_result"
    }
   ],
   "source": [
    "from random import choices\n",
    "\n",
    "choices(['red', 'black', 'green'], [18, 18, 2], k=6)"
   ]
  },
  {
   "cell_type": "code",
   "execution_count": null,
   "metadata": {},
   "outputs": [],
   "source": []
  }
 ],
 "metadata": {
  "kernelspec": {
   "display_name": "Python 3",
   "language": "python",
   "name": "python3"
  },
  "language_info": {
   "codemirror_mode": {
    "name": "ipython",
    "version": 3
   },
   "file_extension": ".py",
   "mimetype": "text/x-python",
   "name": "python",
   "nbconvert_exporter": "python",
   "pygments_lexer": "ipython3",
   "version": "3.6.9"
  }
 },
 "nbformat": 4,
 "nbformat_minor": 2
}
