{
 "cells": [
  {
   "cell_type": "markdown",
   "metadata": {},
   "source": [
    "## **tarfile**"
   ]
  },
  {
   "cell_type": "markdown",
   "metadata": {},
   "source": [
    "### **Capture current date log and compress into tar file**"
   ]
  },
  {
   "cell_type": "code",
   "execution_count": 1,
   "metadata": {},
   "outputs": [],
   "source": [
    "from datetime import datetime\n",
    "from pathlib import Path\n",
    "import tarfile\n",
    "\n",
    "dpath = '/home/mana/Work/'\n",
    "log_file = Path('/var/log/syslog').read_text().splitlines()\n",
    "today = datetime.today().strftime('%b %d')\n",
    "current_date_log = [i for i in log_file if i.startswith(today)]\n",
    "print(*current_date_log, sep = '\\n', file = open(dpath+'log.txt', 'w'))\n",
    "with tarfile.open('/home/mana/Work/log.tar.gz', \"w:gz\") as tar:\n",
    "    tar.add(dpath+'log.txt', arcname=Path(dpath+'log.txt').name)\n",
    "Path(dpath+'log.txt').unlink()"
   ]
  },
  {
   "cell_type": "raw",
   "metadata": {},
   "source": [
    "Python Programmers [beginners]\n",
    "\n",
    "Hi Everyone, I have a tar.gz file and I would like append some characters on the files once it is extracted. Is there a command for it? I need this is my script\n",
    "\n",
    "hello.tar.gz\n",
    "test1.dat\n",
    "test2.dat\n",
    "test3.dat\n",
    "\n",
    "Extract Output:\n",
    "x_test1.dat\n",
    "x_test2.dat\n",
    "x_test3.dat"
   ]
  },
  {
   "cell_type": "code",
   "execution_count": null,
   "metadata": {},
   "outputs": [],
   "source": []
  }
 ],
 "metadata": {
  "kernelspec": {
   "display_name": "Python 3",
   "language": "python",
   "name": "python3"
  },
  "language_info": {
   "codemirror_mode": {
    "name": "ipython",
    "version": 3
   },
   "file_extension": ".py",
   "mimetype": "text/x-python",
   "name": "python",
   "nbconvert_exporter": "python",
   "pygments_lexer": "ipython3",
   "version": "3.6.9"
  }
 },
 "nbformat": 4,
 "nbformat_minor": 2
}
