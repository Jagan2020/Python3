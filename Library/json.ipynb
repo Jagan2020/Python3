{
 "cells": [
  {
   "cell_type": "markdown",
   "metadata": {},
   "source": [
    "## **json - JSON encoder and decoder**\n",
    "\n",
    "### **JSON (JavaScript Object Notation)**"
   ]
  },
  {
   "cell_type": "raw",
   "metadata": {},
   "source": [
    "JSON (JavaScript Object Notation) is a lightweight data interchange format \n",
    "inspired by JavaScript object literal syntax\n",
    "\n",
    "json exposes an API familiar to users of the standard library marshal and pickle modules.\n",
    "\n",
    "The built-in Python json module provides us with methods and classes that are used \n",
    "to parse and manipulate JSON in Python."
   ]
  },
  {
   "cell_type": "raw",
   "metadata": {},
   "source": [
    "What is JSON?\n",
    "\n",
    "JSON (an acronym for JavaScript Object Notation) is a data-interchange format and is most commonly used for client-server communication. \n",
    "\n",
    "Example:\n",
    "{\"name\": \"jane doe\", \"salary\": 9000, \"email\": \"JaneDoe@pynative.com\"}\n",
    "\n",
    "A JSON is an unordered collection of key and value pairs, resembling Python’s native dictionary.\n",
    "\n",
    "=> Keys are unique Strings that cannot be null.\n",
    "=> Values can be anything from a String, Boolean, Number, list, or even null.\n",
    "=> A JSONO can be represented by a String enclosed within curly braces with keys and values separated      by a colon, and pairs separated by a comma.\n",
    "\n",
    "Whenever the client needs information, it calls the server using a URI, and the server returns data to the client in the form of JSON. Later we can use this data in our application as per our requirement. Also, when the client application wants to store the data on the server. It can POST that data in the form of JSON.\n",
    "\n",
    "JSON is most commonly used for client-server communication because:\n",
    "\n",
    "=> It is human readable.\n",
    "=> It’s both easy to read/write and\n",
    "=> JSON is language-independent."
   ]
  },
  {
   "cell_type": "markdown",
   "metadata": {},
   "source": [
    "### **json encoding and decoding**\n",
    "\n",
    "<img src=\"json.jpg\" height=\"700\" width=\"600\" align=\"left\">"
   ]
  },
  {
   "cell_type": "code",
   "execution_count": null,
   "metadata": {},
   "outputs": [],
   "source": []
  }
 ],
 "metadata": {
  "kernelspec": {
   "display_name": "Python 3",
   "language": "python",
   "name": "python3"
  },
  "language_info": {
   "codemirror_mode": {
    "name": "ipython",
    "version": 3
   },
   "file_extension": ".py",
   "mimetype": "text/x-python",
   "name": "python",
   "nbconvert_exporter": "python",
   "pygments_lexer": "ipython3",
   "version": "3.6.9"
  }
 },
 "nbformat": 4,
 "nbformat_minor": 2
}
