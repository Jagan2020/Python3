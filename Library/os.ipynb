{
 "cells": [
  {
   "cell_type": "markdown",
   "metadata": {},
   "source": [
    "## How to filter os.method only from os module?"
   ]
  },
  {
   "cell_type": "code",
   "execution_count": null,
   "metadata": {},
   "outputs": [],
   "source": [
    "import os\n",
    "\n",
    "[i for i in dir(os) if callable(getattr(os, i))]"
   ]
  },
  {
   "cell_type": "code",
   "execution_count": null,
   "metadata": {},
   "outputs": [],
   "source": [
    "import os\n",
    "\n",
    "[i for i in dir(os) if callable(eval('os.'+i))]"
   ]
  },
  {
   "cell_type": "markdown",
   "metadata": {},
   "source": [
    "### access(path,mode)\n",
    "Test the path permission"
   ]
  },
  {
   "cell_type": "code",
   "execution_count": null,
   "metadata": {},
   "outputs": [],
   "source": [
    "import os\n",
    "\n",
    "path = '/home/mana/Work/test.sh'\n",
    "print(os.access(path,os.F_OK))\n",
    "print(os.access(path,os.X_OK))"
   ]
  },
  {
   "cell_type": "code",
   "execution_count": null,
   "metadata": {},
   "outputs": [],
   "source": [
    "import os\n",
    "\n",
    "path = '/home/mana/Work/test.sh'\n",
    "mode = [os.F_OK, os.R_OK, os.W_OK, os.X_OK]\n",
    "\n",
    "for i in mode:\n",
    "    print(os.access(path,i))"
   ]
  },
  {
   "cell_type": "markdown",
   "metadata": {},
   "source": [
    "### How to check user have read permission before open file?"
   ]
  },
  {
   "cell_type": "code",
   "execution_count": null,
   "metadata": {},
   "outputs": [],
   "source": [
    "import os\n",
    "\n",
    "path = '/home/mana/Work/tmp.txt'\n",
    "\n",
    "if os.access(path, os.R_OK):    # This is check permission\n",
    "    with open(path) as opn:\n",
    "        st = opn.read()\n",
    "st.splitlines()"
   ]
  },
  {
   "cell_type": "markdown",
   "metadata": {},
   "source": [
    "### chdir(path)\n",
    "Change current working directory."
   ]
  },
  {
   "cell_type": "code",
   "execution_count": null,
   "metadata": {},
   "outputs": [],
   "source": [
    "import os\n",
    "\n",
    "os.chdir('/home/mana/Work')"
   ]
  },
  {
   "cell_type": "markdown",
   "metadata": {},
   "source": [
    "### chflags(path,flags)\n",
    "Set the flags of path to the numeric flags."
   ]
  },
  {
   "cell_type": "code",
   "execution_count": null,
   "metadata": {},
   "outputs": [],
   "source": [
    "import os\n",
    "\n",
    "os.chflags('test.sh', os.UF_NOUNLINK)"
   ]
  },
  {
   "cell_type": "markdown",
   "metadata": {},
   "source": [
    "### chmod(path,mode)\n",
    "Alter the mode(Permission)"
   ]
  },
  {
   "cell_type": "markdown",
   "metadata": {},
   "source": [
    "### How to find file permission?"
   ]
  },
  {
   "cell_type": "code",
   "execution_count": null,
   "metadata": {},
   "outputs": [],
   "source": [
    "from pathlib import Path\n",
    "import stat\n",
    "\n",
    "p = Path('/home/mana/Work/my.txt').stat().st_mode\n",
    "format(stat.S_IMODE(p), 'o')"
   ]
  },
  {
   "cell_type": "markdown",
   "metadata": {},
   "source": [
    "### How to get mode value of stat.S_IRWXU?\n",
    "Read, write, and execute by owner"
   ]
  },
  {
   "cell_type": "code",
   "execution_count": null,
   "metadata": {},
   "outputs": [],
   "source": [
    "import stat\n",
    "\n",
    "print('Mode Value:',stat.S_IRWXU)\n",
    "print('Octal Value:',format(448, 'o'))"
   ]
  },
  {
   "cell_type": "markdown",
   "metadata": {},
   "source": [
    "### How to change permission using mode value"
   ]
  },
  {
   "cell_type": "code",
   "execution_count": null,
   "metadata": {},
   "outputs": [],
   "source": [
    "import os\n",
    "import stat\n",
    "\n",
    "os.chmod('my.txt',stat.S_IREAD)"
   ]
  },
  {
   "cell_type": "markdown",
   "metadata": {},
   "source": [
    "### How to change permission directly?"
   ]
  },
  {
   "cell_type": "code",
   "execution_count": null,
   "metadata": {},
   "outputs": [],
   "source": [
    "import os\n",
    "\n",
    "os.chmod('my.txt',0o777)"
   ]
  },
  {
   "cell_type": "markdown",
   "metadata": {},
   "source": [
    "### chown(path,uid,gid)\n",
    "Change the owner and group id."
   ]
  },
  {
   "cell_type": "markdown",
   "metadata": {},
   "source": [
    "### How to get user uid,gid?"
   ]
  },
  {
   "cell_type": "code",
   "execution_count": null,
   "metadata": {},
   "outputs": [],
   "source": [
    "import pwd\n",
    "\n",
    "uid, gid = pwd.getpwnam('mana')[2],  pwd.getpwnam('mana')[3]\n",
    "print(uid,gid)"
   ]
  },
  {
   "cell_type": "markdown",
   "metadata": {},
   "source": [
    "### How to change user id, group id?"
   ]
  },
  {
   "cell_type": "code",
   "execution_count": null,
   "metadata": {},
   "outputs": [],
   "source": [
    "import pwd\n",
    "import os\n",
    "\n",
    "uid, gid = pwd.getpwnam('mana')[2],  pwd.getpwnam('mana')[3]\n",
    "os.chown('/home/mana/Work/number.txt', uid, gid)"
   ]
  },
  {
   "cell_type": "markdown",
   "metadata": {},
   "source": [
    "### chroot(path)\n",
    "Change the root directory of the current process to path."
   ]
  },
  {
   "cell_type": "code",
   "execution_count": null,
   "metadata": {},
   "outputs": [],
   "source": [
    "import os\n",
    "\n",
    "os.chroot(\"/Photos\")"
   ]
  },
  {
   "cell_type": "markdown",
   "metadata": {},
   "source": [
    "### close(fd)\n",
    "Close file descriptor fd"
   ]
  },
  {
   "cell_type": "code",
   "execution_count": null,
   "metadata": {},
   "outputs": [],
   "source": [
    "import os \n",
    "\n",
    "fd = os.open('today.txt', os.O_RDWR)\n",
    "os.close(fd)"
   ]
  },
  {
   "cell_type": "markdown",
   "metadata": {},
   "source": [
    "### closerange(fd_low,fd_high)\n",
    "Closes all file descriptors from fd_low to fd_high"
   ]
  },
  {
   "cell_type": "code",
   "execution_count": null,
   "metadata": {},
   "outputs": [],
   "source": [
    "import os\n",
    "\n",
    "fd = os.open('today.txt',os.O_RDWR)\n",
    "os.write(fd, b'testing')\n",
    "os.closerange(fd,fd)"
   ]
  },
  {
   "cell_type": "markdown",
   "metadata": {},
   "source": [
    "### dup(fd)\n",
    "Returns a duplicate of the file descriptor fd."
   ]
  },
  {
   "cell_type": "code",
   "execution_count": null,
   "metadata": {},
   "outputs": [],
   "source": [
    "import os\n",
    "\n",
    "fd = os.open('today.txt', os.O_RDWR)\n",
    "dfd = os.dup(fd)\n",
    "os.write(dfd, b'This is duplicate')\n",
    "os.closerange(fd,dfd)"
   ]
  },
  {
   "cell_type": "markdown",
   "metadata": {},
   "source": [
    "### fchmod(fd,mode)\n",
    "Change the mode of the file given by fd"
   ]
  },
  {
   "cell_type": "code",
   "execution_count": null,
   "metadata": {},
   "outputs": [],
   "source": [
    "import os\n",
    "import stat\n",
    "\n",
    "fd = os.open('tmp.txt', os.O_RDWR)\n",
    "os.fchmod(fd, stat.S_IRWXU)\n",
    "os.close(fd)"
   ]
  },
  {
   "cell_type": "markdown",
   "metadata": {},
   "source": [
    "### fchown(fd,uid,gid)\n",
    "Change the owner and group id of the file given by fd"
   ]
  },
  {
   "cell_type": "code",
   "execution_count": null,
   "metadata": {},
   "outputs": [],
   "source": [
    "import os\n",
    "import pwd\n",
    "\n",
    "uid, gid = pwd.getpwnam('mana')[2:4]\n",
    "fd = os.open('tmp.txt', os.O_RDWR)\n",
    "os.fchown(fd,uid,gid)\n",
    "os.close(fd)"
   ]
  },
  {
   "cell_type": "markdown",
   "metadata": {},
   "source": [
    "### fpathconf(fd, name)\n",
    "System configuration information of file."
   ]
  },
  {
   "cell_type": "markdown",
   "metadata": {},
   "source": [
    "### How to list system configuration information of file?"
   ]
  },
  {
   "cell_type": "code",
   "execution_count": null,
   "metadata": {},
   "outputs": [],
   "source": [
    "print (os.pathconf_names)"
   ]
  },
  {
   "cell_type": "code",
   "execution_count": null,
   "metadata": {},
   "outputs": [],
   "source": [
    "import os\n",
    "\n",
    "fd = os.open('today.txt', os.O_RDWR)\n",
    "nlink = os.fpathconf(fd, 'PC_LINK_MAX')\n",
    "print(f'Maximum number of links to the file: {nlink}')\n",
    "fmax = os.fpathconf(fd, 'PC_NAME_MAX')\n",
    "print(f'Maximum length of a filename : {fmax}')"
   ]
  },
  {
   "cell_type": "markdown",
   "metadata": {},
   "source": [
    "### fstat(fd)\n",
    "Returns information about the fd "
   ]
  },
  {
   "cell_type": "code",
   "execution_count": null,
   "metadata": {},
   "outputs": [],
   "source": [
    "import os\n",
    "\n",
    "fd = os.open('today.txt', os.O_RDWR)\n",
    "os.fstat(fd)"
   ]
  },
  {
   "cell_type": "code",
   "execution_count": null,
   "metadata": {},
   "outputs": [],
   "source": [
    "import os\n",
    "\n",
    "fd = os.open('today.txt', os.O_RDWR)\n",
    "info = os.fstat(fd)\n",
    "info.st_uid"
   ]
  },
  {
   "cell_type": "markdown",
   "metadata": {},
   "source": [
    "### fstatvfs(fd)\n",
    "Returns information about the file system containing the file linked."
   ]
  },
  {
   "cell_type": "code",
   "execution_count": null,
   "metadata": {},
   "outputs": [],
   "source": [
    "import os\n",
    "\n",
    "fd = os.open('today.txt', os.O_RDWR)\n",
    "os.fstatvfs(fd)"
   ]
  },
  {
   "cell_type": "code",
   "execution_count": null,
   "metadata": {},
   "outputs": [],
   "source": [
    "import os\n",
    "\n",
    "fd = os.open('today.txt', os.O_RDWR)\n",
    "info = os.fstatvfs(fd)\n",
    "print(f'Free Blocks: {info.f_bfree}')"
   ]
  },
  {
   "cell_type": "markdown",
   "metadata": {},
   "source": [
    "### getcwd()\n",
    "Returns the current working directory"
   ]
  },
  {
   "cell_type": "code",
   "execution_count": null,
   "metadata": {},
   "outputs": [],
   "source": [
    "import os\n",
    "\n",
    "os.getcwd()"
   ]
  },
  {
   "cell_type": "markdown",
   "metadata": {},
   "source": [
    "### getcwdb()\n",
    "Return a bytestring representing the current working directory."
   ]
  },
  {
   "cell_type": "code",
   "execution_count": null,
   "metadata": {},
   "outputs": [],
   "source": [
    "import os\n",
    "\n",
    "os.getcwdb()"
   ]
  },
  {
   "cell_type": "markdown",
   "metadata": {},
   "source": [
    "### isatty(fd)\n",
    "Returns True if the descriptor fd is open, and is connected to a tty(-like) device."
   ]
  },
  {
   "cell_type": "code",
   "execution_count": null,
   "metadata": {},
   "outputs": [],
   "source": [
    "import os\n",
    "\n",
    "fd = os.open('/home/mana/Work/today.txt', os.O_RDWR)\n",
    "os.write(fd, b'Testing')\n",
    "os.isatty(fd)"
   ]
  },
  {
   "cell_type": "markdown",
   "metadata": {},
   "source": [
    "### link(src,dst)\n",
    "Create hard link"
   ]
  },
  {
   "cell_type": "code",
   "execution_count": null,
   "metadata": {},
   "outputs": [],
   "source": [
    "import os\n",
    "\n",
    "src = '/home/mana/Work/today.txt'\n",
    "dst = '/home/mana/lin.txt'\n",
    "os.link(src,dst)"
   ]
  },
  {
   "cell_type": "markdown",
   "metadata": {},
   "source": [
    "### listdir(path)\n",
    "Return a list the names of the entries in the directory at the path."
   ]
  },
  {
   "cell_type": "code",
   "execution_count": null,
   "metadata": {},
   "outputs": [],
   "source": [
    "import os\n",
    "\n",
    "list(os.listdir('/home/mana'))"
   ]
  },
  {
   "cell_type": "markdown",
   "metadata": {},
   "source": [
    "### lseek(fd,pos,how)\n",
    "It set the current position of the descriptor fd."
   ]
  },
  {
   "cell_type": "code",
   "execution_count": null,
   "metadata": {},
   "outputs": [],
   "source": [
    "import os\n",
    "\n",
    "fd = os.open('/home/mana/Work/number.txt', os.O_RDWR)\n",
    "os.lseek(fd, 0, 0)"
   ]
  },
  {
   "cell_type": "markdown",
   "metadata": {},
   "source": [
    "### major(device)\n",
    "Extract the device major number from a raw device number "
   ]
  },
  {
   "cell_type": "code",
   "execution_count": null,
   "metadata": {},
   "outputs": [],
   "source": [
    "import os\n",
    "\n",
    "path = 'today.txt'\n",
    "info = os.stat(path)\n",
    "os.major(info.st_dev)"
   ]
  },
  {
   "cell_type": "markdown",
   "metadata": {},
   "source": [
    "### Print major,minor device number"
   ]
  },
  {
   "cell_type": "code",
   "execution_count": null,
   "metadata": {},
   "outputs": [],
   "source": [
    "import os\n",
    "\n",
    "path = 'today.txt'\n",
    "info = os.stat(path)\n",
    "print(f'{os.major(info.st_dev)}:{os.minor(info.st_dev)}')"
   ]
  },
  {
   "cell_type": "markdown",
   "metadata": {},
   "source": [
    "### makedev(major,minor)\n",
    "Compose a raw device number from the major and minor device numbers."
   ]
  },
  {
   "cell_type": "code",
   "execution_count": null,
   "metadata": {},
   "outputs": [],
   "source": [
    "import os\n",
    "\n",
    "path = 'today.txt'\n",
    "info = os.stat(path)\n",
    "major, minor = os.major(info.st_dev), os.minor(info.st_dev)\n",
    "os.makedev(major, minor)"
   ]
  },
  {
   "cell_type": "markdown",
   "metadata": {},
   "source": [
    "### mkdir(path[, mode])\n",
    "Create directory."
   ]
  },
  {
   "cell_type": "code",
   "execution_count": null,
   "metadata": {},
   "outputs": [],
   "source": [
    "import os\n",
    "\n",
    "os.mkdir('my_dir')"
   ]
  },
  {
   "cell_type": "markdown",
   "metadata": {},
   "source": [
    "###  makedirs(path[, mode])\n",
    "Recursive directory creation function. "
   ]
  },
  {
   "cell_type": "code",
   "execution_count": null,
   "metadata": {},
   "outputs": [],
   "source": [
    "import os\n",
    "\n",
    "os.makedirs('test/new')"
   ]
  },
  {
   "cell_type": "markdown",
   "metadata": {},
   "source": [
    "### mkfifo(path[, mode])\n",
    "Creates a FIFO named ‘path'."
   ]
  },
  {
   "cell_type": "code",
   "execution_count": null,
   "metadata": {},
   "outputs": [],
   "source": [
    "import os\n",
    "\n",
    "p = 'named-pipe'\n",
    "os.mkfifo(p, 0o644)"
   ]
  },
  {
   "cell_type": "markdown",
   "metadata": {},
   "source": [
    "### mknod(filename[, mode=0600, device])\n",
    "Create a filesystem node (file, device special file or named pipe) named path."
   ]
  },
  {
   "cell_type": "markdown",
   "metadata": {},
   "source": [
    "### Create character special file"
   ]
  },
  {
   "cell_type": "code",
   "execution_count": null,
   "metadata": {},
   "outputs": [],
   "source": [
    "import os \n",
    "import stat\n",
    "\n",
    "mode = 0o600|stat.S_IFCHR\n",
    "os.mknod('tmpfile', mode)"
   ]
  },
  {
   "cell_type": "markdown",
   "metadata": {},
   "source": [
    "### openpty()\n",
    "Opens a pseudo-terminal pair."
   ]
  },
  {
   "cell_type": "code",
   "execution_count": 29,
   "metadata": {},
   "outputs": [
    {
     "name": "stdout",
     "output_type": "stream",
     "text": [
      "64\n",
      "65\n",
      "64\n",
      "/dev/pts/6\n"
     ]
    }
   ],
   "source": [
    "m,s = os.openpty()\n",
    "print(m)\n",
    "print(s)\n",
    "s = os.ttyname(s)\n",
    "print(m)\n",
    "print(s)"
   ]
  },
  {
   "cell_type": "markdown",
   "metadata": {},
   "source": [
    "### pathconf_names"
   ]
  },
  {
   "cell_type": "code",
   "execution_count": 30,
   "metadata": {},
   "outputs": [
    {
     "data": {
      "text/plain": [
       "{'PC_ALLOC_SIZE_MIN': 18,\n",
       " 'PC_ASYNC_IO': 10,\n",
       " 'PC_CHOWN_RESTRICTED': 6,\n",
       " 'PC_FILESIZEBITS': 13,\n",
       " 'PC_LINK_MAX': 0,\n",
       " 'PC_MAX_CANON': 1,\n",
       " 'PC_MAX_INPUT': 2,\n",
       " 'PC_NAME_MAX': 3,\n",
       " 'PC_NO_TRUNC': 7,\n",
       " 'PC_PATH_MAX': 4,\n",
       " 'PC_PIPE_BUF': 5,\n",
       " 'PC_PRIO_IO': 11,\n",
       " 'PC_REC_INCR_XFER_SIZE': 14,\n",
       " 'PC_REC_MAX_XFER_SIZE': 15,\n",
       " 'PC_REC_MIN_XFER_SIZE': 16,\n",
       " 'PC_REC_XFER_ALIGN': 17,\n",
       " 'PC_SOCK_MAXBUF': 12,\n",
       " 'PC_SYMLINK_MAX': 19,\n",
       " 'PC_SYNC_IO': 9,\n",
       " 'PC_VDISABLE': 8}"
      ]
     },
     "execution_count": 30,
     "metadata": {},
     "output_type": "execute_result"
    }
   ],
   "source": [
    "import os\n",
    "\n",
    "os.pathconf_names"
   ]
  },
  {
   "cell_type": "markdown",
   "metadata": {},
   "source": [
    "### os.pathconf(path, name) \n",
    "Return system configuration information relevant to a named file. "
   ]
  },
  {
   "cell_type": "code",
   "execution_count": 32,
   "metadata": {},
   "outputs": [
    {
     "data": {
      "text/plain": [
       "64"
      ]
     },
     "execution_count": 32,
     "metadata": {},
     "output_type": "execute_result"
    }
   ],
   "source": [
    "import os\n",
    "\n",
    "os.pathconf('bios.py', 'PC_FILESIZEBITS')"
   ]
  },
  {
   "cell_type": "markdown",
   "metadata": {},
   "source": [
    "### popen(command[, mode[, bufsize]])\n",
    "popen() will open a pipe to, or from, the command specified."
   ]
  },
  {
   "cell_type": "code",
   "execution_count": 5,
   "metadata": {},
   "outputs": [
    {
     "data": {
      "text/plain": [
       "<os._wrap_close at 0x7f6617fd4d30>"
      ]
     },
     "execution_count": 5,
     "metadata": {},
     "output_type": "execute_result"
    }
   ],
   "source": [
    "import os\n",
    "\n",
    "a = 'touch mana.txt'\n",
    "os.popen(a,'r',1)"
   ]
  },
  {
   "cell_type": "markdown",
   "metadata": {},
   "source": [
    "### readlink(path)\n",
    "Return orginal path of symbolic link."
   ]
  },
  {
   "cell_type": "code",
   "execution_count": 4,
   "metadata": {},
   "outputs": [
    {
     "data": {
      "text/plain": [
       "'/home/mana/Work/mk.py'"
      ]
     },
     "execution_count": 4,
     "metadata": {},
     "output_type": "execute_result"
    }
   ],
   "source": [
    "import os\n",
    "\n",
    "os.readlink('/home/mana/mk.py')"
   ]
  },
  {
   "cell_type": "markdown",
   "metadata": {},
   "source": [
    "### symlink(src,dst)\n",
    "Create symlink"
   ]
  },
  {
   "cell_type": "code",
   "execution_count": 3,
   "metadata": {},
   "outputs": [],
   "source": [
    "import os\n",
    "\n",
    "src = '/home/mana/Work/mk.py'\n",
    "dst = '/home/mana/mk.py'\n",
    "os.symlink(src,dst)"
   ]
  },
  {
   "cell_type": "markdown",
   "metadata": {},
   "source": [
    "### remove(path)\n",
    "Remove file."
   ]
  },
  {
   "cell_type": "code",
   "execution_count": 5,
   "metadata": {},
   "outputs": [],
   "source": [
    "import os\n",
    "\n",
    "os.remove('/home/mana/mk.py')"
   ]
  },
  {
   "cell_type": "markdown",
   "metadata": {},
   "source": [
    "### removedirs(path) \n",
    "Remove directories recursively if empty. "
   ]
  },
  {
   "cell_type": "code",
   "execution_count": 14,
   "metadata": {},
   "outputs": [],
   "source": [
    "import os\n",
    "\n",
    "os.removedirs('/home/mana/foo/bar/baz')"
   ]
  },
  {
   "cell_type": "markdown",
   "metadata": {},
   "source": [
    "### rename(src,dst) \n",
    "Rename the file or directory"
   ]
  },
  {
   "cell_type": "code",
   "execution_count": 16,
   "metadata": {},
   "outputs": [],
   "source": [
    "import os\n",
    "\n",
    "src = '/home/mana/test.txt'\n",
    "dst = '/home/mana/best.txt'\n",
    "os.rename(src,dst)"
   ]
  },
  {
   "cell_type": "markdown",
   "metadata": {},
   "source": [
    "### renames(old,new)\n",
    "Renames directories and files recursively."
   ]
  },
  {
   "cell_type": "code",
   "execution_count": 1,
   "metadata": {},
   "outputs": [],
   "source": [
    "import os\n",
    "\n",
    "src = '/home/mana/bios.py'\n",
    "dst = '/home/mana/Temp/os.py'\n",
    "os.renames(src,dst)"
   ]
  },
  {
   "cell_type": "code",
   "execution_count": null,
   "metadata": {},
   "outputs": [],
   "source": []
  }
 ],
 "metadata": {
  "kernelspec": {
   "display_name": "Python 3",
   "language": "python",
   "name": "python3"
  },
  "language_info": {
   "codemirror_mode": {
    "name": "ipython",
    "version": 3
   },
   "file_extension": ".py",
   "mimetype": "text/x-python",
   "name": "python",
   "nbconvert_exporter": "python",
   "pygments_lexer": "ipython3",
   "version": "3.6.7"
  }
 },
 "nbformat": 4,
 "nbformat_minor": 2
}
