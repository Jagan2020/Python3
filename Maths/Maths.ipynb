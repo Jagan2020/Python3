{
 "cells": [
  {
   "cell_type": "markdown",
   "metadata": {},
   "source": [
    "# Maths"
   ]
  },
  {
   "cell_type": "code",
   "execution_count": null,
   "metadata": {},
   "outputs": [],
   "source": []
  },
  {
   "cell_type": "markdown",
   "metadata": {},
   "source": [
    "## Numbers"
   ]
  },
  {
   "cell_type": "code",
   "execution_count": null,
   "metadata": {},
   "outputs": [],
   "source": []
  },
  {
   "cell_type": "markdown",
   "metadata": {},
   "source": [
    "### Logarithms\n",
    "\\begin{equation}\n",
    "log_2(8) = 3\n",
    "\\end{equation}"
   ]
  },
  {
   "cell_type": "raw",
   "metadata": {},
   "source": [
    "How many 2s do we multiply to get 8?\n",
    "        (OR)\n",
    "How many 2s need to get 8?\n",
    "Answer: 2 × 2 × 2 = 8, so we had to multiply 3 of the 2s to get 8\n",
    "So the logarithm is 3\n",
    "\n",
    "How to Write it\n",
    "We write \"the number of 2s we need to multiply to get 8 is 3\" as:\n",
    "log2(8) = 3\n",
    "\n",
    "The number we multiply is called the \"base\",\t\n",
    "so we can say:\n",
    "\"the logarithm of 8 with base 2 is 3\"\n",
    "\n",
    "Notice we are dealing with three numbers:\n",
    "1. the base: the number we are multiplying (a \"2\" in the example above)\n",
    "2. how often to use it in a multiplication (3 times, which is the logarithm)\n",
    "3. The number we want to get (an \"8\")\n",
    "\n",
    "Example: What is log5(625) ... ?\n",
    "how many 5s need to be multiplied together to get 625?\n",
    "5 × 5 × 5 × 5 = 625, so we need 4 of the 5s\n",
    "Answer: log5(625) = 4"
   ]
  },
  {
   "cell_type": "markdown",
   "metadata": {},
   "source": [
    "#### Exponents or Power\n",
    "The exponent says how many times to use the number in a multiplication. "
   ]
  },
  {
   "cell_type": "raw",
   "metadata": {},
   "source": [
    "Exponents and Logarithms are related, let's find out how\n",
    "\n",
    "The exponent says how many times to use the number in a multiplication.\n",
    "\n",
    "In this example: 2**3 = 2 × 2 × 2 = 8\n",
    "(2 is used 3 times in a multiplication to get 8)\n",
    "In that example the \"base\" is 2 and the \"exponent\" is 3.\n",
    "\n",
    "Example: What is log10(100) ... ?\n",
    "10**2 = 100\n",
    "So an exponent of 2 is needed to make 10 into 100, and:\n",
    "log10(100) = 2\n",
    "\n",
    "Example: What is log3(81) ... ?\n",
    "3**4 = 81\n",
    "So an exponent of 4 is needed to make 3 into 81, and:\n",
    "log3(81) = 4"
   ]
  },
  {
   "cell_type": "markdown",
   "metadata": {},
   "source": [
    "### Natural Logarithms: Base \"e\"\n",
    "\\begin{equation}\n",
    "f(x) = e^x\n",
    "\\end{equation}"
   ]
  },
  {
   "cell_type": "raw",
   "metadata": {},
   "source": [
    "Natural Logarithms Base is \"e\" (Euler's Number). Which is about 2.71828.\n",
    "\n",
    "This is called a \"natural logarithm\". Mathematicians use this one a lot.\n",
    "\n",
    "It is how many times \"e\"s need to be multiplied, to get our desired number.\n",
    "Example: ln(7.389) = loge(7.389) ≈ 2\n",
    "Because 2.71828**2 ≈ 7.389\n",
    "\n",
    "Note: log = ln are equal.\n",
    "Example: log3(729)\n",
    "log 729    ln 729\n",
    "------- =  ------\n",
    "log 3      ln 3"
   ]
  },
  {
   "cell_type": "code",
   "execution_count": null,
   "metadata": {},
   "outputs": [],
   "source": []
  },
  {
   "cell_type": "markdown",
   "metadata": {},
   "source": [
    "### Factorial !\n",
    "Example: 4! is shorthand for 4 x 3 x 2 x 1\n",
    "\n",
    "The rule is:\n",
    "\n",
    "n! = n × (n−1)!"
   ]
  },
  {
   "cell_type": "raw",
   "metadata": {},
   "source": [
    "The factorial function (symbol: !) says to multiply all whole numbers from our chosen number down to 1.\n",
    "\n",
    "Examples:\n",
    "4! = 4 × 3 × 2 × 1 = 24\n",
    "7! = 7 × 6 × 5 × 4 × 3 × 2 × 1 = 5040\n",
    "1! = 1\n",
    "\n",
    "So the rule is:\n",
    "n! = n × (n−1)!\n",
    "\n",
    "Example:\n",
    "10! = 10 × 9!\n",
    "10! = 10 × 362,880 = 3,628,800\n",
    "\n",
    "What About \"0!\"\n",
    "Zero Factorial is interesting ... it is generally agreed that 0! = 1."
   ]
  },
  {
   "cell_type": "markdown",
   "metadata": {},
   "source": [
    "#### Where is Factorial Used?\n",
    "Factorials are used in many areas of mathematics, but particularly in Combinations and Permutations\n",
    "\\begin{equation*}\n",
    "\\frac{7!}{(7-3)!} = \\frac{7!}{4!}\n",
    "\\end{equation*}"
   ]
  },
  {
   "cell_type": "raw",
   "metadata": {},
   "source": [
    "How many ways can 7 people come 1st, 2nd and 3rd?\n",
    "The list is quite long, if the people are a,b,c,d,e,f,g then the list includes abc,abd,abe,abf,abg,acb,acd,ace,acf,... etc up to gfe.\n",
    "\n",
    "The formula is  7!/(7-3)!  =  7!/4! \n",
    "\n",
    "Let us write the multiplies out in full:\n",
    "7 × 6 × 5 × 4 × 3 × 2 × 14 × 3 × 2 × 1   =  7 × 6 × 5\n",
    "That was neat. The 4 × 3 × 2 × 1 \"cancelled out\", leaving only 7 × 6 × 5. And:\n",
    "7 × 6 × 5  =  210\n",
    "\n",
    "So there are 210 different ways that 7 people could come 1st, 2nd and 3rd."
   ]
  },
  {
   "cell_type": "code",
   "execution_count": null,
   "metadata": {},
   "outputs": [],
   "source": []
  }
 ],
 "metadata": {
  "kernelspec": {
   "display_name": "Python 3",
   "language": "python",
   "name": "python3"
  },
  "language_info": {
   "codemirror_mode": {
    "name": "ipython",
    "version": 3
   },
   "file_extension": ".py",
   "mimetype": "text/x-python",
   "name": "python",
   "nbconvert_exporter": "python",
   "pygments_lexer": "ipython3",
   "version": "3.5.2"
  }
 },
 "nbformat": 4,
 "nbformat_minor": 2
}
