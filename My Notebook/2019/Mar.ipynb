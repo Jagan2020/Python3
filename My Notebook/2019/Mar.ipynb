{
 "cells": [
  {
   "cell_type": "markdown",
   "metadata": {},
   "source": [
    "### How to check nodename?"
   ]
  },
  {
   "cell_type": "code",
   "execution_count": 3,
   "metadata": {},
   "outputs": [
    {
     "name": "stdout",
     "output_type": "stream",
     "text": [
      "joe\n"
     ]
    }
   ],
   "source": [
    "%%bash\n",
    "\n",
    "uname -n"
   ]
  },
  {
   "cell_type": "code",
   "execution_count": 2,
   "metadata": {},
   "outputs": [
    {
     "name": "stdout",
     "output_type": "stream",
     "text": [
      "joe\n"
     ]
    }
   ],
   "source": [
    "%%python3\n",
    "\n",
    "import os\n",
    "print(os.uname()[1])"
   ]
  },
  {
   "cell_type": "markdown",
   "metadata": {},
   "source": [
    "### How to calculate Hard disk size?"
   ]
  },
  {
   "cell_type": "code",
   "execution_count": 1,
   "metadata": {},
   "outputs": [
    {
     "name": "stdout",
     "output_type": "stream",
     "text": [
      "/dev/sda        160G\n"
     ]
    }
   ],
   "source": [
    "from pathlib import Path\n",
    "\n",
    "disk = [p for p in Path('/sys/block').glob('sd[a-z]')]\n",
    "disk_dict = {d.name: d.joinpath('size').read_text().strip() for d in disk}\n",
    "\n",
    "for dev,size in disk_dict.items():\n",
    "    print('{:15} {:.0f}G'.format('/dev/'+dev, int(size)*512/1e+9))\n"
   ]
  },
  {
   "cell_type": "markdown",
   "metadata": {},
   "source": [
    "### How to create object as well call method in same line?"
   ]
  },
  {
   "cell_type": "code",
   "execution_count": 8,
   "metadata": {},
   "outputs": [
    {
     "data": {
      "text/plain": [
       "12"
      ]
     },
     "execution_count": 8,
     "metadata": {},
     "output_type": "execute_result"
    }
   ],
   "source": [
    "class A:\n",
    "    def __init__(self):\n",
    "        pass\n",
    "    def add(self, a, b):\n",
    "        return a + b\n",
    "\n",
    "obj = A().add(5, 7)\n",
    "obj"
   ]
  },
  {
   "cell_type": "markdown",
   "metadata": {},
   "source": [
    "### How to change time settings?"
   ]
  },
  {
   "cell_type": "code",
   "execution_count": 22,
   "metadata": {},
   "outputs": [
    {
     "name": "stdout",
     "output_type": "stream",
     "text": [
      "04:24:10\n",
      "04:35:10\n"
     ]
    }
   ],
   "source": [
    "from datetime import datetime as dat\n",
    "\n",
    "# Before Change\n",
    "print(dat.now().strftime('%H:%M:%S')) \n",
    "\n",
    "# After Change\n",
    "print(dat.now().replace(minute = 35).strftime('%H:%M:%S'))    "
   ]
  },
  {
   "cell_type": "markdown",
   "metadata": {},
   "source": [
    "### Above 90"
   ]
  },
  {
   "cell_type": "code",
   "execution_count": 23,
   "metadata": {},
   "outputs": [
    {
     "name": "stdout",
     "output_type": "stream",
     "text": [
      " Total: 5 \n",
      " Total Score: 468\n"
     ]
    }
   ],
   "source": [
    "scores = [67, 80, 90, 78, 93, 20, 79, 89, 96, 97, 92, 88]\n",
    "\n",
    "filter = [i for i in scores if i >= 90]\n",
    "\n",
    "print(' Total:',len(filter),'\\n', 'Total Score:',sum(filter))"
   ]
  },
  {
   "cell_type": "markdown",
   "metadata": {},
   "source": [
    "### How to find the vowels in a string without using any loops?"
   ]
  },
  {
   "cell_type": "code",
   "execution_count": 51,
   "metadata": {},
   "outputs": [
    {
     "data": {
      "text/plain": [
       "['a']"
      ]
     },
     "execution_count": 51,
     "metadata": {},
     "output_type": "execute_result"
    }
   ],
   "source": [
    "from re import findall\n",
    "\n",
    "s = 'abcd'\n",
    "findall(r'[aeiou]',s)"
   ]
  },
  {
   "cell_type": "code",
   "execution_count": 52,
   "metadata": {},
   "outputs": [
    {
     "data": {
      "text/plain": [
       "{'a'}"
      ]
     },
     "execution_count": 52,
     "metadata": {},
     "output_type": "execute_result"
    }
   ],
   "source": [
    "s = 'abcd'\n",
    "v = 'aeiou'\n",
    "\n",
    "set(s) & set(v)"
   ]
  },
  {
   "cell_type": "code",
   "execution_count": null,
   "metadata": {},
   "outputs": [],
   "source": [
    "list((filter(lambda x: x in 'aeiou', 'somestring')))"
   ]
  },
  {
   "cell_type": "markdown",
   "metadata": {},
   "source": [
    "### How to convert binary,octal,hexadecimal from integer?"
   ]
  },
  {
   "cell_type": "code",
   "execution_count": 63,
   "metadata": {},
   "outputs": [
    {
     "name": "stdout",
     "output_type": "stream",
     "text": [
      "Bin: 11001\n",
      "Oct: 31\n",
      "Hex: 19\n"
     ]
    }
   ],
   "source": [
    "%%python3\n",
    "\n",
    "print(\"Bin: {:b}\".format(25))\n",
    "print(\"Oct: {:o}\".format(25))\n",
    "print(\"Hex: {:x}\".format(25))"
   ]
  },
  {
   "cell_type": "markdown",
   "metadata": {},
   "source": [
    "### How to merge two different locations files?"
   ]
  },
  {
   "cell_type": "code",
   "execution_count": 24,
   "metadata": {},
   "outputs": [],
   "source": [
    "%%python3\n",
    "\n",
    "from pathlib import Path\n",
    "\n",
    "p1 = Path('/etc/hostname').read_text().splitlines()\n",
    "p2 = Path('/etc/lighttpd/conf-available/90-javascript-alias.conf').read_text().splitlines()\n",
    "m = p1 + p2\n",
    "print(*m, sep = '\\n', file = open('/home/mana/new.txt','w'))"
   ]
  },
  {
   "cell_type": "code",
   "execution_count": 9,
   "metadata": {},
   "outputs": [
    {
     "name": "stdout",
     "output_type": "stream",
     "text": [
      "joe\r\n"
     ]
    }
   ],
   "source": [
    "!cat /etc/hostname"
   ]
  },
  {
   "cell_type": "code",
   "execution_count": 1,
   "metadata": {},
   "outputs": [
    {
     "name": "stdout",
     "output_type": "stream",
     "text": [
      "alias.url += (\"/javascript\" => \"/usr/share/javascript\")\r\n"
     ]
    }
   ],
   "source": [
    "!cat /etc/lighttpd/conf-available/90-javascript-alias.conf"
   ]
  },
  {
   "cell_type": "code",
   "execution_count": 20,
   "metadata": {},
   "outputs": [],
   "source": [
    "%%bash \n",
    "\n",
    "cat /etc/{hostname,lighttpd/conf-available/90-javascript-alias.conf} > /home/mana/new.txt"
   ]
  },
  {
   "cell_type": "markdown",
   "metadata": {},
   "source": [
    "### last reboot"
   ]
  },
  {
   "cell_type": "code",
   "execution_count": 14,
   "metadata": {},
   "outputs": [
    {
     "name": "stdout",
     "output_type": "stream",
     "text": [
      "Tue Mar 12 05:24:46 2019\n"
     ]
    }
   ],
   "source": [
    "from pathlib import Path\n",
    "from datetime import datetime,timedelta\n",
    "\n",
    "u = Path('/proc/uptime').read_text().split()[0]\n",
    "boot = datetime.now() - timedelta(seconds = float(u))\n",
    "print(boot.strftime('%c'))"
   ]
  },
  {
   "cell_type": "markdown",
   "metadata": {},
   "source": [
    "### What logic used  behind reverse string?"
   ]
  },
  {
   "cell_type": "code",
   "execution_count": 23,
   "metadata": {},
   "outputs": [
    {
     "data": {
      "text/plain": [
       "'olleh'"
      ]
     },
     "execution_count": 23,
     "metadata": {},
     "output_type": "execute_result"
    }
   ],
   "source": [
    "# Pythonic Way\n",
    "\n",
    "s = 'hello' \n",
    "s[::-1]"
   ]
  },
  {
   "cell_type": "markdown",
   "metadata": {},
   "source": [
    "### How to reverse the string without take another string?\n",
    "Note: Don't use built in functions as well slicing."
   ]
  },
  {
   "cell_type": "code",
   "execution_count": 152,
   "metadata": {},
   "outputs": [
    {
     "name": "stdout",
     "output_type": "stream",
     "text": [
      "olleh"
     ]
    }
   ],
   "source": [
    "_ = -1\n",
    "\n",
    "for x in 'hello':\n",
    "    _ += 1\n",
    "\n",
    "while _  >= 0:\n",
    "    print(s[_], end = '')\n",
    "    _ -= 1"
   ]
  },
  {
   "cell_type": "markdown",
   "metadata": {},
   "source": [
    "### Length of word and assgin to variable"
   ]
  },
  {
   "cell_type": "code",
   "execution_count": 40,
   "metadata": {},
   "outputs": [],
   "source": [
    "word = 'list of words of lengths'\n",
    "\n",
    "for i,j in enumerate(word.split(),97):\n",
    "    eval(\"chr(i),'=',len(j)\")"
   ]
  },
  {
   "cell_type": "code",
   "execution_count": 48,
   "metadata": {},
   "outputs": [],
   "source": [
    "word = 'list of words of lengths'\n",
    "\n",
    "for i, j in enumerate(word.split(), 97):\n",
    "    exec(\"{}='{}'\".format(chr(i), j))"
   ]
  },
  {
   "cell_type": "code",
   "execution_count": 31,
   "metadata": {},
   "outputs": [
    {
     "name": "stdout",
     "output_type": "stream",
     "text": [
      "a = 4\n",
      "b = 2\n",
      "c = 5\n",
      "d = 2\n",
      "e = 7\n"
     ]
    }
   ],
   "source": [
    "word = 'list of words of lengths'\n",
    "\n",
    "for i,j in enumerate(word.split(),97):\n",
    "    print(chr(i),'=',len(j))"
   ]
  },
  {
   "cell_type": "code",
   "execution_count": 30,
   "metadata": {},
   "outputs": [
    {
     "name": "stdout",
     "output_type": "stream",
     "text": [
      "a = 'list'\n",
      "b = 'of'\n",
      "c = 'words'\n",
      "d = 'of'\n",
      "e = 'lengths'\n"
     ]
    }
   ],
   "source": [
    "word = 'list of words of lengths'\n",
    "\n",
    "for i,j in enumerate(word.split(),97):\n",
    "    print(chr(i),'=',repr(j))"
   ]
  },
  {
   "cell_type": "markdown",
   "metadata": {},
   "source": [
    "### How to remove duplicate lines in a file?\n"
   ]
  },
  {
   "cell_type": "code",
   "execution_count": 144,
   "metadata": {},
   "outputs": [
    {
     "name": "stdout",
     "output_type": "stream",
     "text": [
      "This is line 1.\r\n",
      "This is line 2.\r\n",
      "This is line 2.\r\n",
      "This is line 3.\r\n",
      "This is line 3.\r\n",
      "This is line 3.\r\n"
     ]
    }
   ],
   "source": [
    "!cat /home/mana/Work/dup.txt"
   ]
  },
  {
   "cell_type": "code",
   "execution_count": 162,
   "metadata": {},
   "outputs": [],
   "source": [
    "%%bash\n",
    "\n",
    "uniq /home/mana/Work/dup.txt > /home/mana/new.txt"
   ]
  },
  {
   "cell_type": "code",
   "execution_count": 166,
   "metadata": {},
   "outputs": [],
   "source": [
    "%%python3\n",
    "\n",
    "from pathlib import Path\n",
    "from collections import Counter\n",
    "\n",
    "p = Path('/home/mana/Work/dup.txt').read_text().splitlines()\n",
    "u = [i for i in Counter(p)]\n",
    "print(*u, sep = '\\n', file = open('/home/mana/new.txt', 'w'))"
   ]
  },
  {
   "cell_type": "markdown",
   "metadata": {},
   "source": [
    "### What is meaning of _ in python?"
   ]
  },
  {
   "cell_type": "raw",
   "metadata": {},
   "source": [
    "Actually, Default all python output stored into buffer.That buffer variable name is _."
   ]
  },
  {
   "cell_type": "code",
   "execution_count": 197,
   "metadata": {},
   "outputs": [
    {
     "data": {
      "text/plain": [
       "'Hi'"
      ]
     },
     "execution_count": 197,
     "metadata": {},
     "output_type": "execute_result"
    }
   ],
   "source": [
    "_ = 'Hi'\n",
    "\n",
    "_"
   ]
  },
  {
   "cell_type": "markdown",
   "metadata": {},
   "source": [
    "### What is meaning in Bash $_?"
   ]
  },
  {
   "cell_type": "raw",
   "metadata": {},
   "source": [
    "Yes. $_ buffer reference."
   ]
  },
  {
   "cell_type": "code",
   "execution_count": 199,
   "metadata": {},
   "outputs": [
    {
     "name": "stdout",
     "output_type": "stream",
     "text": [
      "Hi\r\n"
     ]
    }
   ],
   "source": [
    "!echo \"Linux\" | echo $_"
   ]
  },
  {
   "cell_type": "markdown",
   "metadata": {},
   "source": [
    "### How to kill all processes?"
   ]
  },
  {
   "cell_type": "code",
   "execution_count": null,
   "metadata": {},
   "outputs": [],
   "source": [
    "kill -9 -1"
   ]
  },
  {
   "cell_type": "markdown",
   "metadata": {},
   "source": [
    "### Choice your breakfast menu."
   ]
  },
  {
   "cell_type": "code",
   "execution_count": 256,
   "metadata": {},
   "outputs": [
    {
     "data": {
      "text/plain": [
       "'uttapam'"
      ]
     },
     "execution_count": 256,
     "metadata": {},
     "output_type": "execute_result"
    }
   ],
   "source": [
    "from random import choice\n",
    "\n",
    "menu = ['idli', 'dosa', 'vada', 'uttapam', 'upma', 'pongal', \n",
    "                  'puttu', 'avial', 'kadubu', 'gojju']\n",
    "\n",
    "choice(menu)"
   ]
  },
  {
   "cell_type": "markdown",
   "metadata": {},
   "source": [
    "### Question"
   ]
  },
  {
   "cell_type": "raw",
   "metadata": {},
   "source": [
    "I have a long text file that contains data as follow:\n",
    "___________________\n",
    "#X,Y,Z: the agents coordinates (in metres)\n",
    "# personal information:\n",
    "# ID| Comment\n",
    "# 1|F 32\n",
    "# 2|F 40\n",
    "#ID FR X Y Z\n",
    "1 0 1 1 1\n",
    "1 1 2 2 2\n",
    "___________________\n",
    "and I just want to store the following data in a matrix:\n",
    "ID Type Comment\n",
    "1 F 32\n",
    "2 F 40\n",
    "Any solutions please?"
   ]
  },
  {
   "cell_type": "code",
   "execution_count": 52,
   "metadata": {},
   "outputs": [
    {
     "data": {
      "text/plain": [
       "['  1 F 32', '  2 F 40']"
      ]
     },
     "execution_count": 52,
     "metadata": {},
     "output_type": "execute_result"
    }
   ],
   "source": [
    "import re\n",
    "\n",
    "text = '''#X,Y,Z: the agents coordinates (in metres)\n",
    "# personal information:\n",
    "# ID| Comment\n",
    "# 1|F 32\n",
    "# 2|F 40\n",
    "#ID FR X Y Z\n",
    "1 0 1 1 1\n",
    "1 1 2 2 2'''\n",
    "\n",
    "after_remove = [re.sub(r'#|\\|',' ',i)for i in text.splitlines() if re.match(r'# \\d',i)]\n",
    "after_remove"
   ]
  },
  {
   "cell_type": "code",
   "execution_count": 53,
   "metadata": {},
   "outputs": [
    {
     "name": "stdout",
     "output_type": "stream",
     "text": [
      "ID Type Comment\n",
      "1   F     32\n",
      "2   F     40\n"
     ]
    }
   ],
   "source": [
    "import re\n",
    "\n",
    "text = '''#X,Y,Z: the agents coordinates (in metres)\n",
    "# personal information:\n",
    "# ID| Comment\n",
    "# 1|F 32\n",
    "# 2|F 40\n",
    "#ID FR X Y Z\n",
    "1 0 1 1 1\n",
    "1 1 2 2 2'''\n",
    "\n",
    "after_remove = [re.sub(r'#|\\|',' ',i)for i in text.splitlines() if re.match(r'# \\d',i)]\n",
    "print('{} {} {}'.format('ID', 'Type', 'Comment'))\n",
    "\n",
    "for x in after_remove:\n",
    "    print('{} {:>3} {:>6}'.format(*x.split()))"
   ]
  },
  {
   "cell_type": "markdown",
   "metadata": {},
   "source": [
    "### How to unpack list and format?"
   ]
  },
  {
   "cell_type": "code",
   "execution_count": 54,
   "metadata": {},
   "outputs": [
    {
     "name": "stdout",
     "output_type": "stream",
     "text": [
      "1 F 32\n"
     ]
    }
   ],
   "source": [
    "li = ['1', 'F', '32']\n",
    "\n",
    "print('{} {} {}'.format(*li))"
   ]
  },
  {
   "cell_type": "markdown",
   "metadata": {},
   "source": [
    "### Average temp of a week"
   ]
  },
  {
   "cell_type": "code",
   "execution_count": 66,
   "metadata": {},
   "outputs": [
    {
     "data": {
      "text/plain": [
       "80.7"
      ]
     },
     "execution_count": 66,
     "metadata": {},
     "output_type": "execute_result"
    }
   ],
   "source": [
    "week_temps_f = \"75.1,77.7,83.2,82.5,81.0,79.5,85.7\".split(',')\n",
    "round(sum(map(float, week_temps_f))/len(week_temps_f),1)"
   ]
  },
  {
   "cell_type": "code",
   "execution_count": 59,
   "metadata": {},
   "outputs": [
    {
     "data": {
      "text/plain": [
       "80.7"
      ]
     },
     "execution_count": 59,
     "metadata": {},
     "output_type": "execute_result"
    }
   ],
   "source": [
    "week_temps_f = \"75.1,77.7,83.2,82.5,81.0,79.5,85.7\"\n",
    "con = list(map(float, week_temps_f.split(',')))\n",
    "avg_temp = sum(con)/len(con)\n",
    "round(avg_temp,1)"
   ]
  },
  {
   "cell_type": "markdown",
   "metadata": {},
   "source": [
    "### Question"
   ]
  },
  {
   "cell_type": "raw",
   "metadata": {},
   "source": [
    "Write a program to print following Abcd Abcde Bacd from letters \n",
    "without using split method first letter must be in capital after space."
   ]
  },
  {
   "cell_type": "code",
   "execution_count": 95,
   "metadata": {},
   "outputs": [
    {
     "name": "stdout",
     "output_type": "stream",
     "text": [
      "abcdefghijklmnopqrstuvwxyz\n",
      "abcde\n",
      "Abcd Abcde Bacd\n"
     ]
    }
   ],
   "source": [
    "import string\n",
    "\n",
    "\n",
    "letters = string.ascii_lowercase\n",
    "print(letters)\n",
    "wrd = letters[0:5]\n",
    "print(wrd)\n",
    "spt_word = [wrd[0:4],wrd[:],wrd[1]+wrd[::2].replace('e',wrd[3])]\n",
    "print(*(map(str.capitalize,spt_word)))"
   ]
  },
  {
   "cell_type": "code",
   "execution_count": 101,
   "metadata": {},
   "outputs": [
    {
     "name": "stdout",
     "output_type": "stream",
     "text": [
      "abcdefghijklmnopqrstuvwxyz\n",
      "abcde\n",
      "Abcd Abcde Bacd\n"
     ]
    }
   ],
   "source": [
    "import string\n",
    "\n",
    "\n",
    "letters = string.ascii_lowercase\n",
    "print(letters)\n",
    "wrd = letters[0:5]\n",
    "print(wrd)\n",
    "spt_word = [wrd[0:4],wrd[:],wrd[1]+wrd[::2].replace('e',wrd[3])]\n",
    "print(str.title(' '.join(spt_word)))"
   ]
  },
  {
   "cell_type": "markdown",
   "metadata": {},
   "source": [
    "### How to convert character from string?"
   ]
  },
  {
   "cell_type": "code",
   "execution_count": 125,
   "metadata": {},
   "outputs": [
    {
     "name": "stdout",
     "output_type": "stream",
     "text": [
      "M\n",
      "a\n",
      "n\n",
      "*********\n",
      "M\n",
      "a\n",
      "n\n"
     ]
    }
   ],
   "source": [
    "%%bash\n",
    "\n",
    "#Method:1\n",
    "echo \"Man\" | grep -o \".\"\n",
    "\n",
    "echo \"*********\"\n",
    "#Method:2\n",
    "echo \"Man\" | grep -Po \"\\w\""
   ]
  },
  {
   "cell_type": "code",
   "execution_count": 124,
   "metadata": {},
   "outputs": [
    {
     "name": "stdout",
     "output_type": "stream",
     "text": [
      "M\n",
      "a\n",
      "n\n",
      "**********\n",
      "M\n",
      "a\n",
      "n\n"
     ]
    }
   ],
   "source": [
    "%%python3\n",
    "\n",
    "#Method:1\n",
    "import re\n",
    "print(*re.findall(r'.','Man'), sep = '\\n')\n",
    "\n",
    "print('*'*10)\n",
    "#Method:2\n",
    "print(*re.findall(r'\\w','Man'), sep = '\\n')"
   ]
  },
  {
   "cell_type": "markdown",
   "metadata": {},
   "source": [
    "### Write ABCD.."
   ]
  },
  {
   "cell_type": "raw",
   "metadata": {},
   "source": [
    "This is another one of Python kids program."
   ]
  },
  {
   "cell_type": "code",
   "execution_count": 129,
   "metadata": {},
   "outputs": [
    {
     "name": "stdout",
     "output_type": "stream",
     "text": [
      "A B C D E F G H I J K L M N O P Q R S T U V W X Y Z\n"
     ]
    }
   ],
   "source": [
    "import string\n",
    "\n",
    "print(*string.ascii_uppercase)"
   ]
  },
  {
   "cell_type": "markdown",
   "metadata": {},
   "source": [
    "### How to convert Binary,Octal,Hexadecimal from integer?"
   ]
  },
  {
   "cell_type": "code",
   "execution_count": 155,
   "metadata": {},
   "outputs": [
    {
     "name": "stdout",
     "output_type": "stream",
     "text": [
      "Bin: 1001101; Oct: 115; Hex:4D\n"
     ]
    }
   ],
   "source": [
    "%%python3\n",
    "\n",
    "print(\"Bin: {0:b}; Oct: {0:o}; Hex:{0:X}\".format(77))"
   ]
  },
  {
   "cell_type": "markdown",
   "metadata": {},
   "source": [
    "### How to find signal name using signal number?"
   ]
  },
  {
   "cell_type": "code",
   "execution_count": 154,
   "metadata": {},
   "outputs": [
    {
     "name": "stdout",
     "output_type": "stream",
     "text": [
      "HUP\n",
      "KILL\n"
     ]
    }
   ],
   "source": [
    "!kill -l 1\n",
    "!kill -l 9"
   ]
  },
  {
   "cell_type": "markdown",
   "metadata": {},
   "source": [
    "### classmethod"
   ]
  },
  {
   "cell_type": "raw",
   "metadata": {},
   "source": [
    "classmethod is function constructor similir to constructor called factory methods.\n",
    "@classmethod decorator in python to create a class method.\n",
    "classmethod takes cls as first parameter."
   ]
  },
  {
   "cell_type": "code",
   "execution_count": 160,
   "metadata": {},
   "outputs": [
    {
     "name": "stdout",
     "output_type": "stream",
     "text": [
      "Micheal\n",
      "23\n"
     ]
    }
   ],
   "source": [
    "from datetime import date \n",
    "  \n",
    "class Person: \n",
    "    def __init__(self, name, age): \n",
    "        self.name = name \n",
    "        self.age = age \n",
    "    \n",
    "    @classmethod              # Function Constructor \n",
    "    def fromBirthYear(cls, name, year): \n",
    "        return cls(name, date.today().year - year) \n",
    "\n",
    "person1 = Person.fromBirthYear('Micheal', 1996)   \n",
    "print(person1.name)\n",
    "print(person1.age)"
   ]
  },
  {
   "cell_type": "markdown",
   "metadata": {},
   "source": [
    "### staticmethod"
   ]
  },
  {
   "cell_type": "raw",
   "metadata": {},
   "source": [
    "staticmethod is similar to a python function but define in a class.\n",
    "@staticmethod decorator to create a static method in python.\n",
    "static method needs no specific parameters."
   ]
  },
  {
   "cell_type": "code",
   "execution_count": 162,
   "metadata": {},
   "outputs": [
    {
     "data": {
      "text/plain": [
       "'Chennai'"
      ]
     },
     "execution_count": 162,
     "metadata": {},
     "output_type": "execute_result"
    }
   ],
   "source": [
    "class MyCity:\n",
    "    @staticmethod\n",
    "    def print_city(city):\n",
    "        return city\n",
    "    \n",
    "MyCity.print_city('Chennai')    "
   ]
  },
  {
   "cell_type": "markdown",
   "metadata": {},
   "source": [
    "### HOW TO CONVERT DECIMAL TO BINARY IN COMMAND PROMPT?"
   ]
  },
  {
   "cell_type": "code",
   "execution_count": 165,
   "metadata": {},
   "outputs": [
    {
     "name": "stdout",
     "output_type": "stream",
     "text": [
      "101\r\n"
     ]
    }
   ],
   "source": [
    "!python3 -c 'print(\"{:b}\".format(5))'"
   ]
  },
  {
   "cell_type": "markdown",
   "metadata": {},
   "source": [
    "### How to print duplicate lines only?"
   ]
  },
  {
   "cell_type": "code",
   "execution_count": 192,
   "metadata": {},
   "outputs": [
    {
     "name": "stdout",
     "output_type": "stream",
     "text": [
      "This is line 1.\r\n",
      "This is line 2.\r\n",
      "This is line 2.\r\n",
      "This is line 3.\r\n",
      "This is line 3.\r\n",
      "This is line 3.\r\n"
     ]
    }
   ],
   "source": [
    "!cat ~/Work/dup.txt"
   ]
  },
  {
   "cell_type": "code",
   "execution_count": 185,
   "metadata": {},
   "outputs": [
    {
     "name": "stdout",
     "output_type": "stream",
     "text": [
      "This is line 2.\n",
      "This is line 3.\n"
     ]
    }
   ],
   "source": [
    "%%bash\n",
    "\n",
    "uniq -d ~/Work/dup.txt"
   ]
  },
  {
   "cell_type": "code",
   "execution_count": 191,
   "metadata": {},
   "outputs": [
    {
     "name": "stdout",
     "output_type": "stream",
     "text": [
      "This is line 2.\n",
      "This is line 3.\n"
     ]
    }
   ],
   "source": [
    "%%python3\n",
    "\n",
    "from pathlib import Path\n",
    "from collections import Counter\n",
    "\n",
    "p = Path('/home/mana/Work/dup.txt').read_text().splitlines()\n",
    "d = [i for i,j in Counter(p).items() if j > 1]\n",
    "print(*sorted(d), sep = '\\n')"
   ]
  },
  {
   "cell_type": "markdown",
   "metadata": {},
   "source": [
    "### How to alter string without index and slicing?"
   ]
  },
  {
   "cell_type": "code",
   "execution_count": 195,
   "metadata": {},
   "outputs": [
    {
     "data": {
      "text/plain": [
       "'dog'"
      ]
     },
     "execution_count": 195,
     "metadata": {},
     "output_type": "execute_result"
    }
   ],
   "source": [
    "'{1}{0}{2}'.format(*'odg')"
   ]
  },
  {
   "cell_type": "markdown",
   "metadata": {},
   "source": [
    "### How to print repeated character?"
   ]
  },
  {
   "cell_type": "code",
   "execution_count": 207,
   "metadata": {},
   "outputs": [
    {
     "data": {
      "text/plain": [
       "'**********'"
      ]
     },
     "execution_count": 207,
     "metadata": {},
     "output_type": "execute_result"
    }
   ],
   "source": [
    "'*'*10"
   ]
  },
  {
   "cell_type": "code",
   "execution_count": 206,
   "metadata": {},
   "outputs": [
    {
     "data": {
      "text/plain": [
       "'**********'"
      ]
     },
     "execution_count": 206,
     "metadata": {},
     "output_type": "execute_result"
    }
   ],
   "source": [
    "'{:*<10}'.format('')"
   ]
  },
  {
   "cell_type": "code",
   "execution_count": 211,
   "metadata": {},
   "outputs": [
    {
     "name": "stdout",
     "output_type": "stream",
     "text": [
      "**********"
     ]
    }
   ],
   "source": [
    "n = '*'\n",
    "for i in range(10):\n",
    "    print(n,end = '')"
   ]
  },
  {
   "cell_type": "markdown",
   "metadata": {},
   "source": [
    "### How to reproduce uptime command in Python?"
   ]
  },
  {
   "cell_type": "code",
   "execution_count": 268,
   "metadata": {},
   "outputs": [
    {
     "name": "stdout",
     "output_type": "stream",
     "text": [
      " 17:21:12 up 2 days, 11:56,  4 users,  load average: 0.99, 1.06, 0.69\r\n"
     ]
    }
   ],
   "source": [
    "!uptime"
   ]
  },
  {
   "cell_type": "code",
   "execution_count": 270,
   "metadata": {},
   "outputs": [
    {
     "name": "stdout",
     "output_type": "stream",
     "text": [
      "17:23:28 up 2 days, 11:58:42, load average: 1.32, 1.13, 0.76\n"
     ]
    }
   ],
   "source": [
    "from datetime import datetime, timedelta\n",
    "from pathlib import Path\n",
    "from os import getloadavg\n",
    "\n",
    "\n",
    "up = Path('/proc/uptime').read_text().split()\n",
    "usecond = timedelta(seconds = float(up[0]))\n",
    "uptime = str(usecond ).split('.')[0]\n",
    "now = datetime.now().strftime('%T')\n",
    "print('{0} up {1}, load average: {2[0]}, {2[1]}, {2[2]}'.format(now, uptime, getloadavg()))"
   ]
  },
  {
   "cell_type": "markdown",
   "metadata": {},
   "source": [
    "### How to read file?"
   ]
  },
  {
   "cell_type": "code",
   "execution_count": 272,
   "metadata": {},
   "outputs": [
    {
     "name": "stdout",
     "output_type": "stream",
     "text": [
      "Filename\t\t\t\tType\t\tSize\tUsed\tPriority\n",
      "/dev/sda2                               partition\t1272828\t57812\t-1\n"
     ]
    }
   ],
   "source": [
    "%%bash\n",
    "\n",
    "cat /proc/swaps"
   ]
  },
  {
   "cell_type": "code",
   "execution_count": 273,
   "metadata": {},
   "outputs": [
    {
     "name": "stdout",
     "output_type": "stream",
     "text": [
      "Filename\t\t\t\tType\t\tSize\tUsed\tPriority\n",
      "/dev/sda2                               partition\t1272828\t57812\t-1\n"
     ]
    }
   ],
   "source": [
    "%%python3\n",
    "\n",
    "from pathlib import Path\n",
    "\n",
    "read = Path('/proc/swaps').read_text().splitlines()\n",
    "print(*read, sep = '\\n')"
   ]
  },
  {
   "cell_type": "markdown",
   "metadata": {},
   "source": [
    "### How to read particualr line in a file?\n",
    "Here, i read 4th line."
   ]
  },
  {
   "cell_type": "code",
   "execution_count": 274,
   "metadata": {},
   "outputs": [
    {
     "name": "stdout",
     "output_type": "stream",
     "text": [
      "     1\tsockets: used 927\r\n",
      "     2\tTCP: inuse 58 orphan 0 tw 1 alloc 66 mem 17\r\n",
      "     3\tUDP: inuse 11 mem 10\r\n",
      "     4\tUDPLITE: inuse 0\r\n",
      "     5\tRAW: inuse 0\r\n",
      "     6\tFRAG: inuse 0 memory 0\r\n"
     ]
    }
   ],
   "source": [
    "!cat -n /proc/net/sockstat"
   ]
  },
  {
   "cell_type": "markdown",
   "metadata": {},
   "source": [
    "#### using sed"
   ]
  },
  {
   "cell_type": "code",
   "execution_count": 276,
   "metadata": {},
   "outputs": [
    {
     "name": "stdout",
     "output_type": "stream",
     "text": [
      "UDPLITE: inuse 0\n"
     ]
    }
   ],
   "source": [
    "%%bash\n",
    "sed -n '4p' /proc/net/sockstat"
   ]
  },
  {
   "cell_type": "markdown",
   "metadata": {},
   "source": [
    "#### using awk"
   ]
  },
  {
   "cell_type": "code",
   "execution_count": 277,
   "metadata": {},
   "outputs": [
    {
     "name": "stdout",
     "output_type": "stream",
     "text": [
      "UDPLITE: inuse 0\n"
     ]
    }
   ],
   "source": [
    "%%bash\n",
    "awk 'NR == 4' /proc/net/sockstat"
   ]
  },
  {
   "cell_type": "code",
   "execution_count": 282,
   "metadata": {},
   "outputs": [
    {
     "name": "stdout",
     "output_type": "stream",
     "text": [
      "UDPLITE: inuse 0\n"
     ]
    }
   ],
   "source": [
    "%%python3\n",
    "from pathlib import Path\n",
    "print(Path('/proc/net/sockstat').read_text().splitlines()[3])"
   ]
  },
  {
   "cell_type": "markdown",
   "metadata": {},
   "source": [
    "### How to comapre two set of groups?"
   ]
  },
  {
   "cell_type": "markdown",
   "metadata": {},
   "source": [
    "#### Compared between A and B"
   ]
  },
  {
   "cell_type": "code",
   "execution_count": 292,
   "metadata": {},
   "outputs": [
    {
     "data": {
      "text/plain": [
       "{3}"
      ]
     },
     "execution_count": 292,
     "metadata": {},
     "output_type": "execute_result"
    }
   ],
   "source": [
    "A = [1, 3, 4, 5]\n",
    "B = [1, 2, 4, 5]\n",
    "set(A) - set(B)"
   ]
  },
  {
   "cell_type": "markdown",
   "metadata": {},
   "source": [
    "#### Compared between B and A"
   ]
  },
  {
   "cell_type": "code",
   "execution_count": 293,
   "metadata": {},
   "outputs": [
    {
     "data": {
      "text/plain": [
       "{2}"
      ]
     },
     "execution_count": 293,
     "metadata": {},
     "output_type": "execute_result"
    }
   ],
   "source": [
    "A = [1, 3, 4, 5]\n",
    "B = [1, 2, 4, 5]\n",
    "set(B) - set(A)"
   ]
  },
  {
   "cell_type": "markdown",
   "metadata": {},
   "source": [
    "### How to comapre two files using set?"
   ]
  },
  {
   "cell_type": "code",
   "execution_count": 300,
   "metadata": {},
   "outputs": [
    {
     "name": "stdout",
     "output_type": "stream",
     "text": [
      "sockets: used 939\r\n",
      "TCP: inuse 58 orphan 0 tw 2 alloc 68 mem 10\r\n",
      "UDP: inuse 11 mem 10\r\n",
      "UDPLITE: inuse 0\r\n",
      "FRAG: inuse 0 memory 0\r\n"
     ]
    }
   ],
   "source": [
    "!cat /home/mana/Work/soc1.txt"
   ]
  },
  {
   "cell_type": "code",
   "execution_count": 301,
   "metadata": {},
   "outputs": [
    {
     "name": "stdout",
     "output_type": "stream",
     "text": [
      "sockets: used 939\r\n",
      "TCP: inuse 58 orphan 0 tw 0 alloc 68 mem 10\r\n",
      "UDP: inuse 11 mem 10\r\n",
      "UDPLITE: inuse 0\r\n",
      "RAW: inuse 0\r\n",
      "FRAG: inuse 0 memory 0\r\n"
     ]
    }
   ],
   "source": [
    "!cat /home/mana/Work/soc2.txt"
   ]
  },
  {
   "cell_type": "code",
   "execution_count": 302,
   "metadata": {},
   "outputs": [
    {
     "data": {
      "text/plain": [
       "{'TCP: inuse 58 orphan 0 tw 2 alloc 68 mem 10'}"
      ]
     },
     "execution_count": 302,
     "metadata": {},
     "output_type": "execute_result"
    }
   ],
   "source": [
    "from pathlib import Path\n",
    "f1 = Path('/home/mana/Work/soc1.txt').read_text().splitlines()\n",
    "f2 = Path('/home/mana/Work/soc2.txt').read_text().splitlines()\n",
    "\n",
    "set(f1) - set(f2)"
   ]
  },
  {
   "cell_type": "code",
   "execution_count": 299,
   "metadata": {},
   "outputs": [
    {
     "data": {
      "text/plain": [
       "{'RAW: inuse 0', 'TCP: inuse 58 orphan 0 tw 0 alloc 68 mem 10'}"
      ]
     },
     "execution_count": 299,
     "metadata": {},
     "output_type": "execute_result"
    }
   ],
   "source": [
    "set(f2) - set(f1)"
   ]
  },
  {
   "cell_type": "markdown",
   "metadata": {},
   "source": [
    "### Comparison Operators (less than)"
   ]
  },
  {
   "cell_type": "code",
   "execution_count": 306,
   "metadata": {},
   "outputs": [
    {
     "name": "stdout",
     "output_type": "stream",
     "text": [
      "True\n"
     ]
    }
   ],
   "source": [
    "%%bash\n",
    "\n",
    "if [ 5 -lt 7 ]\n",
    "then\n",
    "echo \"True\"\n",
    "else\n",
    "echo \"False\"\n",
    "fi"
   ]
  },
  {
   "cell_type": "code",
   "execution_count": 312,
   "metadata": {},
   "outputs": [
    {
     "name": "stdout",
     "output_type": "stream",
     "text": [
      "True\n"
     ]
    }
   ],
   "source": [
    "%%bash\n",
    "\n",
    "if [[ 5 < 7 ]]\n",
    "then\n",
    "echo \"True\"\n",
    "else\n",
    "echo \"False\"\n",
    "fi"
   ]
  },
  {
   "cell_type": "code",
   "execution_count": 313,
   "metadata": {},
   "outputs": [
    {
     "name": "stdout",
     "output_type": "stream",
     "text": [
      "True\n"
     ]
    }
   ],
   "source": [
    "%%bash\n",
    "\n",
    "if ((5 < 7))\n",
    "then\n",
    "echo \"True\"\n",
    "else\n",
    "echo \"False\"\n",
    "fi"
   ]
  },
  {
   "cell_type": "code",
   "execution_count": 316,
   "metadata": {},
   "outputs": [
    {
     "name": "stdout",
     "output_type": "stream",
     "text": [
      "True\n"
     ]
    }
   ],
   "source": [
    "%%bash\n",
    "\n",
    "echo \"5 7\" | awk '{if ($1 < $2) print\"True\"; else \"False\"}'"
   ]
  },
  {
   "cell_type": "code",
   "execution_count": 309,
   "metadata": {},
   "outputs": [
    {
     "name": "stdout",
     "output_type": "stream",
     "text": [
      "True\n"
     ]
    }
   ],
   "source": [
    "%%python3\n",
    "\n",
    "if 5 < 7:\n",
    "    print('True')\n",
    "else:\n",
    "    print('False')\n"
   ]
  },
  {
   "cell_type": "markdown",
   "metadata": {},
   "source": [
    "### How to find number of duplicate occurrence?"
   ]
  },
  {
   "cell_type": "code",
   "execution_count": 317,
   "metadata": {},
   "outputs": [
    {
     "name": "stdout",
     "output_type": "stream",
     "text": [
      "This is line 1.\r\n",
      "This is line 2.\r\n",
      "This is line 2.\r\n",
      "This is line 3.\r\n",
      "This is line 3.\r\n",
      "This is line 3.\r\n"
     ]
    }
   ],
   "source": [
    "!cat ~/Work/dup.txt"
   ]
  },
  {
   "cell_type": "code",
   "execution_count": 318,
   "metadata": {},
   "outputs": [
    {
     "name": "stdout",
     "output_type": "stream",
     "text": [
      "      1 This is line 1.\n",
      "      2 This is line 2.\n",
      "      3 This is line 3.\n"
     ]
    }
   ],
   "source": [
    "%%bash\n",
    "\n",
    "uniq -c ~/Work/dup.txt"
   ]
  },
  {
   "cell_type": "code",
   "execution_count": 325,
   "metadata": {},
   "outputs": [
    {
     "name": "stdout",
     "output_type": "stream",
     "text": [
      "1 This is line 1.\n",
      "2 This is line 2.\n",
      "3 This is line 3.\n"
     ]
    }
   ],
   "source": [
    "%%python3\n",
    "\n",
    "from pathlib import Path\n",
    "from collections import Counter\n",
    "\n",
    "p = Path('/home/mana/Work/dup.txt').read_text().splitlines()\n",
    "for i,j in sorted(Counter(p).items()):\n",
    "    print(j, i)"
   ]
  },
  {
   "cell_type": "code",
   "execution_count": 339,
   "metadata": {},
   "outputs": [],
   "source": [
    "import re\n",
    "\n",
    "a = [[1,2,3],[4,5,6],[7,8,9]]"
   ]
  },
  {
   "cell_type": "markdown",
   "metadata": {},
   "source": [
    "### How to convert multidimensional array to single array?"
   ]
  },
  {
   "cell_type": "code",
   "execution_count": 483,
   "metadata": {},
   "outputs": [
    {
     "data": {
      "text/plain": [
       "[1, 2, 3, 4, 5, 6, 7, 8, 9]"
      ]
     },
     "execution_count": 483,
     "metadata": {},
     "output_type": "execute_result"
    }
   ],
   "source": [
    "#method: 1\n",
    "marry = [[1,2,3],[4,5,6],[7,8,9]]\n",
    "sum(marry, [])"
   ]
  },
  {
   "cell_type": "code",
   "execution_count": 371,
   "metadata": {},
   "outputs": [
    {
     "data": {
      "text/plain": [
       "[1, 2, 3, 4, 5, 6, 7, 8, 9]"
      ]
     },
     "execution_count": 371,
     "metadata": {},
     "output_type": "execute_result"
    }
   ],
   "source": [
    "#method: 2\n",
    "marry = [[1,2,3],[4,5,6],[7,8,9]]\n",
    "a = []\n",
    "for x in marry:\n",
    "    a += x\n",
    "a"
   ]
  },
  {
   "cell_type": "code",
   "execution_count": 379,
   "metadata": {},
   "outputs": [
    {
     "data": {
      "text/plain": [
       "[1, 2, 3, 4, 5, 6, 7, 8, 9]"
      ]
     },
     "execution_count": 379,
     "metadata": {},
     "output_type": "execute_result"
    }
   ],
   "source": [
    "#method: 3\n",
    "import heapq\n",
    "marry = [[1,2,3],[4,5,6],[7,8,9]]\n",
    "list(heapq.merge(*marry))"
   ]
  },
  {
   "cell_type": "code",
   "execution_count": 380,
   "metadata": {},
   "outputs": [
    {
     "data": {
      "text/plain": [
       "[1, 2, 3, 4, 5, 6, 7, 8, 9]"
      ]
     },
     "execution_count": 380,
     "metadata": {},
     "output_type": "execute_result"
    }
   ],
   "source": [
    "#method: 4\n",
    "import itertools\n",
    "marry = [[1,2,3],[4,5,6],[7,8,9]]\n",
    "list(itertools.chain.from_iterable(marry))"
   ]
  },
  {
   "cell_type": "markdown",
   "metadata": {},
   "source": [
    "### How to work with this data?"
   ]
  },
  {
   "cell_type": "code",
   "execution_count": 386,
   "metadata": {},
   "outputs": [
    {
     "data": {
      "text/plain": [
       "['75.1', '77.7', '83.2', '82.5', '81.0', '79.5', '85.7']"
      ]
     },
     "execution_count": 386,
     "metadata": {},
     "output_type": "execute_result"
    }
   ],
   "source": [
    "wtf = week_temps_f = \"75.1,77.7,83.2,82.5,81.0,79.5,85.7\"\n",
    "wtf.split(',')"
   ]
  },
  {
   "cell_type": "code",
   "execution_count": 394,
   "metadata": {},
   "outputs": [
    {
     "data": {
      "text/plain": [
       "[75.1, 77.7, 83.2, 82.5, 81.0, 79.5, 85.7]"
      ]
     },
     "execution_count": 394,
     "metadata": {},
     "output_type": "execute_result"
    }
   ],
   "source": [
    "[float(i) for i in wtf.split(',')]"
   ]
  },
  {
   "cell_type": "code",
   "execution_count": 390,
   "metadata": {},
   "outputs": [
    {
     "data": {
      "text/plain": [
       "[75, 77, 83, 82, 81, 79, 85]"
      ]
     },
     "execution_count": 390,
     "metadata": {},
     "output_type": "execute_result"
    }
   ],
   "source": [
    "[int(float(i)) for i in wtf.split(',')]"
   ]
  },
  {
   "cell_type": "code",
   "execution_count": 400,
   "metadata": {},
   "outputs": [
    {
     "data": {
      "text/plain": [
       "80.67142857142858"
      ]
     },
     "execution_count": 400,
     "metadata": {},
     "output_type": "execute_result"
    }
   ],
   "source": [
    "sum([float(i) for i in wtf.split(',')])/len(wtf.split(','))"
   ]
  },
  {
   "cell_type": "code",
   "execution_count": 401,
   "metadata": {},
   "outputs": [
    {
     "data": {
      "text/plain": [
       "81"
      ]
     },
     "execution_count": 401,
     "metadata": {},
     "output_type": "execute_result"
    }
   ],
   "source": [
    "round(sum([float(i) for i in wtf.split(',')])/len(wtf.split(',')))"
   ]
  },
  {
   "cell_type": "markdown",
   "metadata": {},
   "source": [
    "### How to get a min value for a row in A CSV file? "
   ]
  },
  {
   "cell_type": "code",
   "execution_count": 607,
   "metadata": {},
   "outputs": [
    {
     "name": "stdout",
     "output_type": "stream",
     "text": [
      "13, 56, 0.1, 23, 12, -2.3, 0.8, 5.6, 54\r\n",
      "33, 95, 45, 2, 162, 543, 0.8, 600, 0.1\r\n"
     ]
    }
   ],
   "source": [
    "!cat /home/mana/Work/data.csv"
   ]
  },
  {
   "cell_type": "code",
   "execution_count": 628,
   "metadata": {},
   "outputs": [
    {
     "data": {
      "text/plain": [
       "'-2.3,'"
      ]
     },
     "execution_count": 628,
     "metadata": {},
     "output_type": "execute_result"
    }
   ],
   "source": [
    "from pathlib import Path\n",
    "\n",
    "p = Path('/home/mana/Work/data.csv').read_text().splitlines()\n",
    "min(p[0].split())"
   ]
  },
  {
   "cell_type": "markdown",
   "metadata": {},
   "source": [
    "### Validate Grade"
   ]
  },
  {
   "cell_type": "raw",
   "metadata": {},
   "source": [
    "Write a program to prompt for a score between 0.0 and 1.0. If the score is out of range, \n",
    "print an error message. If the score is between 0.0 and 1.0, print a grade using the following table:\n",
    "\n",
    "Score Grade\n",
    ">= 0.9 A\n",
    ">= 0.8 B\n",
    ">= 0.7 C\n",
    ">= 0.6 D\n",
    "< 0.6 F"
   ]
  },
  {
   "cell_type": "code",
   "execution_count": 476,
   "metadata": {},
   "outputs": [
    {
     "name": "stdout",
     "output_type": "stream",
     "text": [
      "Enter Score:0.7\n"
     ]
    },
    {
     "data": {
      "text/plain": [
       "'C'"
      ]
     },
     "execution_count": 476,
     "metadata": {},
     "output_type": "execute_result"
    }
   ],
   "source": [
    "import bisect\n",
    "\n",
    "score = [0.6, 0.7, 0.8, 0.9]\n",
    "grade = ['D', 'C', 'B', 'A']\n",
    "\n",
    "def chk_grde(val):\n",
    "    if float(val) >= 0.6:\n",
    "        inx = bisect.bisect(score, float(val)) - 1\n",
    "        return grade[inx]\n",
    "    else:\n",
    "        return \"F\"\n",
    "\n",
    "inp = input('Enter Score:')\n",
    "chk_grde(inp)"
   ]
  },
  {
   "cell_type": "markdown",
   "metadata": {},
   "source": [
    "### How to filter intger only?"
   ]
  },
  {
   "cell_type": "code",
   "execution_count": 493,
   "metadata": {},
   "outputs": [
    {
     "data": {
      "text/plain": [
       "[1, 2, 3]"
      ]
     },
     "execution_count": 493,
     "metadata": {},
     "output_type": "execute_result"
    }
   ],
   "source": [
    "li = ['a', 1, 'b', 2, 'c', 3]\n",
    "\n",
    "list(filter(lambda x: isinstance(x, int), li))"
   ]
  },
  {
   "cell_type": "code",
   "execution_count": 498,
   "metadata": {},
   "outputs": [
    {
     "data": {
      "text/plain": [
       "[1, 245, 3]"
      ]
     },
     "execution_count": 498,
     "metadata": {},
     "output_type": "execute_result"
    }
   ],
   "source": [
    "li = ['a', 1, 'b', 245, 'c', 3] \n",
    "[i for i in li if str(i).isdigit()]"
   ]
  },
  {
   "cell_type": "markdown",
   "metadata": {},
   "source": [
    "### How to cut a lines in file?\n",
    "I cut a lines from 4 to 7"
   ]
  },
  {
   "cell_type": "code",
   "execution_count": 485,
   "metadata": {},
   "outputs": [
    {
     "name": "stdout",
     "output_type": "stream",
     "text": [
      "     1\t127.0.0.1\tlocalhost\r\n",
      "     2\t127.0.1.1\tjoe\r\n",
      "     3\t\r\n",
      "     4\t# The following lines are desirable for IPv6 capable hosts\r\n",
      "     5\t::1     ip6-localhost ip6-loopback\r\n",
      "     6\tfe00::0 ip6-localnet\r\n",
      "     7\tff00::0 ip6-mcastprefix\r\n",
      "     8\tff02::1 ip6-allnodes\r\n",
      "     9\tff02::2 ip6-allrouters\r\n"
     ]
    }
   ],
   "source": [
    "!cat -n /etc/hosts"
   ]
  },
  {
   "cell_type": "code",
   "execution_count": 491,
   "metadata": {},
   "outputs": [
    {
     "name": "stdout",
     "output_type": "stream",
     "text": [
      "# The following lines are desirable for IPv6 capable hosts\n",
      "::1     ip6-localhost ip6-loopback\n",
      "fe00::0 ip6-localnet\n",
      "ff00::0 ip6-mcastprefix\n"
     ]
    }
   ],
   "source": [
    "%%python3\n",
    "from pathlib import Path as Pa\n",
    "print(*Pa('/etc/hosts').read_text().splitlines()[3:7], sep = '\\n')"
   ]
  },
  {
   "cell_type": "code",
   "execution_count": 492,
   "metadata": {},
   "outputs": [
    {
     "name": "stdout",
     "output_type": "stream",
     "text": [
      "# The following lines are desirable for IPv6 capable hosts\n",
      "::1     ip6-localhost ip6-loopback\n",
      "fe00::0 ip6-localnet\n",
      "ff00::0 ip6-mcastprefix\n"
     ]
    }
   ],
   "source": [
    "%%bash\n",
    "sed -n '4,7p' /etc/hosts"
   ]
  },
  {
   "cell_type": "markdown",
   "metadata": {},
   "source": [
    "### Logical AND Operator"
   ]
  },
  {
   "cell_type": "code",
   "execution_count": 500,
   "metadata": {},
   "outputs": [
    {
     "name": "stdout",
     "output_type": "stream",
     "text": [
      "true\n"
     ]
    }
   ],
   "source": [
    "%%bash\n",
    "\n",
    "x=2\n",
    "y=5\n",
    "\n",
    "if [[ x > 1 && y > 1 ]]\n",
    "then\n",
    "echo \"true\"\n",
    "else5echo \"false\"\n",
    "fi"
   ]
  },
  {
   "cell_type": "code",
   "execution_count": 504,
   "metadata": {},
   "outputs": [
    {
     "name": "stdout",
     "output_type": "stream",
     "text": [
      "true\n"
     ]
    }
   ],
   "source": [
    "%%bash\n",
    "\n",
    "x=2\n",
    "y=5\n",
    "\n",
    "if ((x > 1 && y > 1))\n",
    "then\n",
    "echo \"true\"\n",
    "else\n",
    "echo \"false\"\n",
    "fi"
   ]
  },
  {
   "cell_type": "code",
   "execution_count": 501,
   "metadata": {},
   "outputs": [
    {
     "name": "stdout",
     "output_type": "stream",
     "text": [
      "true\n"
     ]
    }
   ],
   "source": [
    "%%python3\n",
    "\n",
    "x = 2\n",
    "y = 5\n",
    "\n",
    "if x > 1 and y > 1:\n",
    "    print('true')"
   ]
  },
  {
   "cell_type": "markdown",
   "metadata": {},
   "source": [
    "### list file and directory name only"
   ]
  },
  {
   "cell_type": "code",
   "execution_count": 506,
   "metadata": {},
   "outputs": [
    {
     "name": "stdout",
     "output_type": "stream",
     "text": [
      "cup.txt\n",
      "data.csv\n",
      "face\n",
      "fb\n",
      "file1.txt\n",
      "file2.txt\n"
     ]
    }
   ],
   "source": [
    "%%bash\n",
    "\n",
    "ls -1 ~/Work"
   ]
  },
  {
   "cell_type": "code",
   "execution_count": 509,
   "metadata": {},
   "outputs": [
    {
     "name": "stdout",
     "output_type": "stream",
     "text": [
      "cup.txt\n",
      "data.csv\n",
      "face\n",
      "fb\n",
      "file1.txt\n",
      "file2.txt\n"
     ]
    }
   ],
   "source": [
    "import os\n",
    "\n",
    "print(*sorted(os.listdir('/home/mana/Work')), sep = '\\n')"
   ]
  },
  {
   "cell_type": "markdown",
   "metadata": {},
   "source": [
    "### How to cut the filed(column) in a file?\n",
    "Here, I cut 1st and last filed.\n"
   ]
  },
  {
   "cell_type": "code",
   "execution_count": 513,
   "metadata": {},
   "outputs": [
    {
     "name": "stdout",
     "output_type": "stream",
     "text": [
      "root:x:0:0:root:/root:/bin/bash\r\n"
     ]
    }
   ],
   "source": [
    "!cat ~/Work/user.txt"
   ]
  },
  {
   "cell_type": "code",
   "execution_count": 515,
   "metadata": {},
   "outputs": [
    {
     "name": "stdout",
     "output_type": "stream",
     "text": [
      "root /bin/bash\n"
     ]
    }
   ],
   "source": [
    "%%bash\n",
    "\n",
    "awk -F \":\" '{print $1, $NF}' ~/Work/user.txt"
   ]
  },
  {
   "cell_type": "code",
   "execution_count": 521,
   "metadata": {},
   "outputs": [
    {
     "name": "stdout",
     "output_type": "stream",
     "text": [
      "root:/bin/bash\n"
     ]
    }
   ],
   "source": [
    "%%bash \n",
    "\n",
    "cut -d ':' -f 1,7 ~/Work/user.txt"
   ]
  },
  {
   "cell_type": "code",
   "execution_count": 529,
   "metadata": {},
   "outputs": [
    {
     "name": "stdout",
     "output_type": "stream",
     "text": [
      "root /bin/bash\n"
     ]
    }
   ],
   "source": [
    "%%python3\n",
    "\n",
    "from pathlib import Path\n",
    "\n",
    "line = Path('/home/mana/Work/user.txt').read_text().splitlines()\n",
    "word = text[0].split(':')\n",
    "print(word[0],word[-1])"
   ]
  },
  {
   "cell_type": "markdown",
   "metadata": {},
   "source": [
    "### not equal operator"
   ]
  },
  {
   "cell_type": "code",
   "execution_count": 544,
   "metadata": {},
   "outputs": [
    {
     "name": "stdout",
     "output_type": "stream",
     "text": [
      "true\n"
     ]
    }
   ],
   "source": [
    "%%bash\n",
    "\n",
    "if [[ 7 != 6 ]]\n",
    "then\n",
    "echo \"true\"\n",
    "else\n",
    "echo \"false\"\n",
    "fi"
   ]
  },
  {
   "cell_type": "code",
   "execution_count": 546,
   "metadata": {},
   "outputs": [
    {
     "name": "stdout",
     "output_type": "stream",
     "text": [
      "true\n"
     ]
    }
   ],
   "source": [
    "%%python3\n",
    "\n",
    "if 7 != 6:\n",
    "    print('true')\n",
    "else:\n",
    "    print('false')"
   ]
  },
  {
   "cell_type": "markdown",
   "metadata": {},
   "source": [
    "### Division"
   ]
  },
  {
   "cell_type": "code",
   "execution_count": 550,
   "metadata": {},
   "outputs": [
    {
     "name": "stdout",
     "output_type": "stream",
     "text": [
      "5\n"
     ]
    }
   ],
   "source": [
    "%%bash\n",
    "\n",
    "echo \"$[ 17/3 ]\""
   ]
  },
  {
   "cell_type": "code",
   "execution_count": 556,
   "metadata": {},
   "outputs": [
    {
     "name": "stdout",
     "output_type": "stream",
     "text": [
      "5\n"
     ]
    }
   ],
   "source": [
    "%%bash\n",
    "\n",
    "echo \"$(( 17/3 ))\""
   ]
  },
  {
   "cell_type": "code",
   "execution_count": 568,
   "metadata": {},
   "outputs": [
    {
     "name": "stdout",
     "output_type": "stream",
     "text": [
      "5.66667\n"
     ]
    }
   ],
   "source": [
    "%%bash\n",
    "\n",
    "# It shows reminder\n",
    "awk 'BEGIN { print 17/3}'"
   ]
  },
  {
   "cell_type": "code",
   "execution_count": 570,
   "metadata": {},
   "outputs": [
    {
     "name": "stdout",
     "output_type": "stream",
     "text": [
      "5.666666666666667\n"
     ]
    }
   ],
   "source": [
    "%%python3\n",
    "\n",
    "print(17/3)"
   ]
  },
  {
   "cell_type": "markdown",
   "metadata": {},
   "source": [
    "### How to compare 2 servers users?\n"
   ]
  },
  {
   "cell_type": "markdown",
   "metadata": {},
   "source": [
    "#### list which users have both server"
   ]
  },
  {
   "cell_type": "code",
   "execution_count": 578,
   "metadata": {},
   "outputs": [
    {
     "data": {
      "text/plain": [
       "{'Anwar', 'Ayyapan', 'Ram', 'Xavier'}"
      ]
     },
     "execution_count": 578,
     "metadata": {},
     "output_type": "execute_result"
    }
   ],
   "source": [
    "server1 = ['Xavier', 'Devi', 'Ram', 'Robert', 'Anwar', 'Micheal', 'Ayyapan' ]\n",
    "server2 = ['Rani', 'Veni', 'Ram', 'Xavier','Manavalan', 'Ayyapan', 'Anwar']\n",
    "\n",
    "set(server1) & set(server2)"
   ]
  },
  {
   "cell_type": "markdown",
   "metadata": {},
   "source": [
    "### How to find Disk Model and Serial number?"
   ]
  },
  {
   "cell_type": "code",
   "execution_count": 587,
   "metadata": {},
   "outputs": [
    {
     "name": "stdout",
     "output_type": "stream",
     "text": [
      "\tModel Number:       ST3160215SCE                            \n",
      "\tSerial Number:      9RX7JTEX\n"
     ]
    },
    {
     "name": "stderr",
     "output_type": "stream",
     "text": [
      "[sudo] password for mana: "
     ]
    }
   ],
   "source": [
    "%%bash\n",
    "\n",
    "echo \"123\" | sudo -S hdparm -I /dev/sd? | egrep '(Model|Serial)\\sNumber'"
   ]
  },
  {
   "cell_type": "code",
   "execution_count": 603,
   "metadata": {},
   "outputs": [
    {
     "name": "stdout",
     "output_type": "stream",
     "text": [
      "Model Number: ST3160215SCE\n",
      "Serial Number: 9RX7JTEX\n"
     ]
    }
   ],
   "source": [
    "%%python3\n",
    "\n",
    "import os\n",
    "import re\n",
    "\n",
    "f = os.listdir('/dev/disk/by-id')\n",
    "disk = list(filter(lambda x: re.search(r'[a-z]*-.*[A-Z]$',x),f))\n",
    "diskp = re.sub(r'ata-|_',' ',disk[0]).split()\n",
    "print('Model Number:', diskp[0])\n",
    "print('Serial Number:', diskp[1])"
   ]
  },
  {
   "cell_type": "markdown",
   "metadata": {},
   "source": [
    "### How to check a line exists or not in a file?"
   ]
  },
  {
   "cell_type": "code",
   "execution_count": 604,
   "metadata": {},
   "outputs": [
    {
     "name": "stdout",
     "output_type": "stream",
     "text": [
      "127.0.0.1\tlocalhost\r\n",
      "127.0.1.1\tjoe\r\n",
      "\r\n",
      "# The following lines are desirable for IPv6 capable hosts\r\n",
      "::1     ip6-localhost ip6-loopback\r\n",
      "fe00::0 ip6-localnet\r\n",
      "ff00::0 ip6-mcastprefix\r\n",
      "ff02::1 ip6-allnodes\r\n",
      "ff02::2 ip6-allrouters\r\n"
     ]
    }
   ],
   "source": [
    "!cat /etc/hosts"
   ]
  },
  {
   "cell_type": "code",
   "execution_count": 606,
   "metadata": {},
   "outputs": [
    {
     "name": "stdout",
     "output_type": "stream",
     "text": [
      "line exist\n"
     ]
    }
   ],
   "source": [
    "%%python3\n",
    "\n",
    "from pathlib import Path\n",
    "\n",
    "line = Path('/etc/hosts').read_text().splitlines()\n",
    "\n",
    "if '127.0.1.1\tjoe' in line:\n",
    "    print('line exist')\n",
    "else:\n",
    "    print('line not exist')"
   ]
  },
  {
   "cell_type": "markdown",
   "metadata": {},
   "source": [
    "### How to print  particular phrase line in a file?\n",
    "Find a particular phrase \"localhost\".Print out the line that contains that phrase.\n",
    "Here, i fetch localhost phrase line."
   ]
  },
  {
   "cell_type": "code",
   "execution_count": 630,
   "metadata": {},
   "outputs": [
    {
     "name": "stdout",
     "output_type": "stream",
     "text": [
      "127.0.0.1\tlocalhost\r\n",
      "127.0.1.1\tjoe\r\n",
      "\r\n",
      "# The following lines are desirable for IPv6 capable hosts\r\n",
      "::1     ip6-localhost ip6-loopback\r\n",
      "fe00::0 ip6-localnet\r\n",
      "ff00::0 ip6-mcastprefix\r\n",
      "ff02::1 ip6-allnodes\r\n",
      "ff02::2 ip6-allrouters\r\n"
     ]
    }
   ],
   "source": [
    "# This is sample file\n",
    "!cat /etc/hosts"
   ]
  },
  {
   "cell_type": "code",
   "execution_count": 632,
   "metadata": {},
   "outputs": [
    {
     "name": "stdout",
     "output_type": "stream",
     "text": [
      "127.0.0.1\tlocalhost\n",
      "::1     ip6-localhost ip6-loopback\n"
     ]
    }
   ],
   "source": [
    "from pathlib import Path\n",
    "\n",
    "lines = Path('/etc/hosts').read_text().splitlines()\n",
    "fetch = [i for i in lines if 'localhost'in i]\n",
    "print(*fetch, sep = '\\n')"
   ]
  },
  {
   "cell_type": "markdown",
   "metadata": {},
   "source": [
    "### Print last line and last 10 bytes"
   ]
  },
  {
   "cell_type": "code",
   "execution_count": 10,
   "metadata": {},
   "outputs": [
    {
     "name": "stdout",
     "output_type": "stream",
     "text": [
      "Last_Line: ff02::2 ip6-allrouters\n",
      "Last 10 bytes: b'allrouters'\n"
     ]
    }
   ],
   "source": [
    "from pathlib import Path\n",
    "\n",
    "last_line = Path('/etc/hosts').read_text().splitlines()[-1]\n",
    "\n",
    "print('Last_Line:',last_line)\n",
    "print('Last 10 bytes:',last_line.encode()[-10:])\n"
   ]
  },
  {
   "cell_type": "markdown",
   "metadata": {},
   "source": [
    "### Check user exist or not in server"
   ]
  },
  {
   "cell_type": "code",
   "execution_count": 651,
   "metadata": {},
   "outputs": [
    {
     "name": "stdout",
     "output_type": "stream",
     "text": [
      "User 'mana' exist.\n"
     ]
    }
   ],
   "source": [
    "%%bash\n",
    "\n",
    "usr=mana\n",
    "grep -w \"$usr\" /etc/passwd &> /dev/null \\\n",
    "&& echo \"User '$usr' exist.\" || echo \"User '$usr' does not exist.\""
   ]
  },
  {
   "cell_type": "code",
   "execution_count": 662,
   "metadata": {},
   "outputs": [
    {
     "name": "stdout",
     "output_type": "stream",
     "text": [
      "User 'mana' exist.\n"
     ]
    }
   ],
   "source": [
    "%%python3\n",
    "\n",
    "import pwd\n",
    "\n",
    "usr = 'mana'\n",
    "\n",
    "try:  \n",
    "    print(\"User {!r} exist.\".format(pwd.getpwnam(usr)[0]))\n",
    "except KeyError:\n",
    "    print(\"User {!r} does not exist.\".format(usr))"
   ]
  },
  {
   "cell_type": "markdown",
   "metadata": {},
   "source": [
    "### How to list files startswith \"f\" letter?"
   ]
  },
  {
   "cell_type": "code",
   "execution_count": 15,
   "metadata": {},
   "outputs": [
    {
     "name": "stdout",
     "output_type": "stream",
     "text": [
      "file1.txt\n",
      "file2.txt\n"
     ]
    }
   ],
   "source": [
    "%%bash\n",
    "\n",
    "cd ~/Work\n",
    "ls -1 f*"
   ]
  },
  {
   "cell_type": "code",
   "execution_count": 19,
   "metadata": {},
   "outputs": [
    {
     "name": "stdout",
     "output_type": "stream",
     "text": [
      "file2.txt\n",
      "file1.txt\n"
     ]
    }
   ],
   "source": [
    "%%python3\n",
    "\n",
    "import os\n",
    "\n",
    "fi = [i for i in os.listdir('/home/mana/Work') if i.startswith('f')]\n",
    "print(*fi, sep = '\\n')"
   ]
  },
  {
   "cell_type": "markdown",
   "metadata": {},
   "source": [
    "### How to list files not startswith \"f\" letter?"
   ]
  },
  {
   "cell_type": "code",
   "execution_count": 11,
   "metadata": {},
   "outputs": [
    {
     "name": "stdout",
     "output_type": "stream",
     "text": [
      "cup.txt\n",
      "data.csv\n",
      "user.txt\n"
     ]
    }
   ],
   "source": [
    "%%bash\n",
    "\n",
    "cd ~/Work\n",
    "ls -1 [^f]*"
   ]
  },
  {
   "cell_type": "code",
   "execution_count": 12,
   "metadata": {},
   "outputs": [
    {
     "name": "stdout",
     "output_type": "stream",
     "text": [
      "cup.txt\n",
      "data.csv\n",
      "user.txt\n"
     ]
    }
   ],
   "source": [
    "%%python3\n",
    "\n",
    "import os\n",
    "\n",
    "fi = [i for i in os.listdir('/home/mana/Work') if not i.startswith('f')]\n",
    "print(*fi, sep = '\\n')"
   ]
  },
  {
   "cell_type": "markdown",
   "metadata": {},
   "source": [
    "### How to colloect all users?"
   ]
  },
  {
   "cell_type": "code",
   "execution_count": null,
   "metadata": {},
   "outputs": [],
   "source": [
    "%%bash\n",
    "\n",
    "awk -F \":\" '{print $1}' /etc/passwd"
   ]
  },
  {
   "cell_type": "code",
   "execution_count": 18,
   "metadata": {},
   "outputs": [
    {
     "name": "stdout",
     "output_type": "stream",
     "text": [
      "['root', 'daemon', 'bin', 'sys', 'sync', 'games', 'man', 'lp', 'mail', 'news', 'uucp', 'proxy', 'www-data', 'backup', 'list', 'irc', 'gnats', 'nobody', 'systemd-timesync', 'systemd-network', 'systemd-resolve', 'systemd-bus-proxy', 'syslog', '_apt', 'messagebus', 'uuidd', 'lightdm', 'ntp', 'whoopsie', 'avahi-autoipd', 'avahi', 'colord', 'dnsmasq', 'speech-dispatcher', 'hplip', 'kernoops', 'pulse', 'rtkit', 'saned', 'usbmux', 'mana']\n"
     ]
    }
   ],
   "source": [
    "%%python3\n",
    "\n",
    "import pwd\n",
    "\n",
    "usrs = [i[0] for i in pwd.getpwall()]\n",
    "print(usrs)"
   ]
  },
  {
   "cell_type": "markdown",
   "metadata": {},
   "source": [
    "### list common files between two directories"
   ]
  },
  {
   "cell_type": "code",
   "execution_count": null,
   "metadata": {},
   "outputs": [],
   "source": [
    "%%python3\n",
    "\n",
    "import os\n",
    "\n",
    "d1 = os.listdir('/home/mana/Work1')\n",
    "d2 = os.listdir('/home/mana/Work2')\n",
    "\n",
    "print(set(d1) & set(d2))"
   ]
  },
  {
   "cell_type": "code",
   "execution_count": null,
   "metadata": {},
   "outputs": [],
   "source": [
    "%%python3\n",
    "\n",
    "import filecmp\n",
    "\n",
    "\n",
    "d1 = '/home/mana/Work1'\n",
    "d2 = '/home/mana/Work2'\n",
    "\n",
    "d = filecmp.dircmp(d1, d2)\n",
    "print(d.common_files)"
   ]
  },
  {
   "cell_type": "markdown",
   "metadata": {},
   "source": [
    "### ALL EVEN NUMBERS ARE ONE SIDE AND ODD NUMBERS ONE SIDE... "
   ]
  },
  {
   "cell_type": "code",
   "execution_count": 55,
   "metadata": {},
   "outputs": [
    {
     "data": {
      "text/plain": [
       "[2, 4, 6, 8, 1, 3, 5, 7]"
      ]
     },
     "execution_count": 55,
     "metadata": {},
     "output_type": "execute_result"
    }
   ],
   "source": [
    "lst = [1,2,3,4,5,6,7,8,]\n",
    "\n",
    "even = []\n",
    "odd = []\n",
    "\n",
    "for i in lst:\n",
    "    if i%2 == 0:\n",
    "        even += [i]\n",
    "    else:\n",
    "        odd += [i]\n",
    "even + odd"
   ]
  },
  {
   "cell_type": "code",
   "execution_count": 62,
   "metadata": {},
   "outputs": [
    {
     "data": {
      "text/plain": [
       "[2, 4, 6, 8, 1, 3, 5, 7]"
      ]
     },
     "execution_count": 62,
     "metadata": {},
     "output_type": "execute_result"
    }
   ],
   "source": [
    "lst = [1,2,3,4,5,6,7,8,]\n",
    "\n",
    "list(filter(lambda x: x%2 == 0, lst)) + list(filter(lambda x: x%2, lst))"
   ]
  },
  {
   "cell_type": "code",
   "execution_count": 71,
   "metadata": {},
   "outputs": [
    {
     "data": {
      "text/plain": [
       "[2, 4, 6, 8, 1, 3, 5, 7]"
      ]
     },
     "execution_count": 71,
     "metadata": {},
     "output_type": "execute_result"
    }
   ],
   "source": [
    "lst = [1,2,3,4,5,6,7,8,]\n",
    "sorted(lst, key=lambda x:x%2)\n"
   ]
  },
  {
   "cell_type": "code",
   "execution_count": 74,
   "metadata": {},
   "outputs": [
    {
     "data": {
      "text/plain": [
       "[2, 4, 6, 8, 1, 3, 5, 7]"
      ]
     },
     "execution_count": 74,
     "metadata": {},
     "output_type": "execute_result"
    }
   ],
   "source": [
    "lst = [1,2,3,4,5,6,7,8,]\n",
    "lst.sort(key=lambda x:x%2)\n",
    "lst"
   ]
  },
  {
   "cell_type": "raw",
   "metadata": {},
   "source": [
    "list_of_condition_a=[True, True, False, False]\n",
    "list_of_condition_b=[False, True, False, True, False, False]\n",
    "condition_a_count=list_of_condition_a.count(True)\n",
    "condition_b_count=list_of_condition_a.count(True)\n",
    "\n",
    "percent_of_a =condition_a_count/(condition_a_count+condition_b_count)"
   ]
  },
  {
   "cell_type": "code",
   "execution_count": 173,
   "metadata": {},
   "outputs": [
    {
     "name": "stdout",
     "output_type": "stream",
     "text": [
      "50%\n"
     ]
    }
   ],
   "source": [
    "ondition_a=[True, True, False, False]\n",
    "condition_b=[False, True, False, True, False, False]\n",
    "count_a = len([*filter(bool, ondition_a)])\n",
    "count_b = len([*filter(bool, condition_b)])\n",
    "print('{:.0%}'.format(count_a/(count_a+count_b)))"
   ]
  },
  {
   "cell_type": "markdown",
   "metadata": {},
   "source": [
    "### How google map works?\n",
    "\n",
    "This is sample program of latitude and longitude"
   ]
  },
  {
   "cell_type": "raw",
   "metadata": {},
   "source": [
    "I have a multidimensional numpy 2d array of coordinates. I want check wether a given coordinate value of lat and long falls under that given array. For example \n",
    "a = [[85.319769, 27.7545],\n",
    "[85.328429, 27.7495],\n",
    "[85.329873, 27.742],\n",
    "[85.337089, 27.7445],\n",
    "[85.347193, 27.757],\n",
    "[85.34142, 27.772],\n",
    "[85.329873, 27.772],\n",
    "[85.321212, 27.767],\n",
    "[85.319769, 27.7545]]\n",
    "like this i have 50 more array now i want to find if the following lat and log fall inside it or not. \n",
    "x = [85.3211, 27.7522]\n",
    "if it does. i want to count the value +1 to a_number_of_coordinates_true"
   ]
  },
  {
   "cell_type": "code",
   "execution_count": 32,
   "metadata": {},
   "outputs": [
    {
     "data": {
      "text/plain": [
       "1"
      ]
     },
     "execution_count": 32,
     "metadata": {},
     "output_type": "execute_result"
    }
   ],
   "source": [
    "import bisect \n",
    "\n",
    "a = [[85.319769, 27.7545],\n",
    "[85.328429, 27.7495],\n",
    "[85.329873, 27.742],\n",
    "[85.337089, 27.7445],\n",
    "[85.347193, 27.757],\n",
    "[85.34142, 27.772],\n",
    "[85.329873, 27.772],\n",
    "[85.321212, 27.767],\n",
    "[85.319769, 27.7545]]\n",
    "\n",
    "def chk(*arg):\n",
    "    idx = bisect.bisect(a, *arg)\n",
    "    return idx\n",
    "\n",
    "chk([85.3211, 27.7522])"
   ]
  },
  {
   "cell_type": "markdown",
   "metadata": {},
   "source": [
    "### How to use class and method without create object?"
   ]
  },
  {
   "cell_type": "code",
   "execution_count": 39,
   "metadata": {},
   "outputs": [
    {
     "name": "stdout",
     "output_type": "stream",
     "text": [
      "yes\n"
     ]
    }
   ],
   "source": [
    "class fruit:\n",
    "    def is_sweet():\n",
    "        return True\n",
    "#        return False  \n",
    "\n",
    "if fruit.is_sweet():\n",
    "    print(\"yes\")\n",
    "else:\n",
    "    print(\"No\")"
   ]
  },
  {
   "cell_type": "markdown",
   "metadata": {},
   "source": [
    "### stack"
   ]
  },
  {
   "cell_type": "raw",
   "metadata": {},
   "source": [
    " “last-in, first-out”"
   ]
  },
  {
   "cell_type": "code",
   "execution_count": 75,
   "metadata": {},
   "outputs": [
    {
     "data": {
      "text/plain": [
       "[]"
      ]
     },
     "execution_count": 75,
     "metadata": {},
     "output_type": "execute_result"
    }
   ],
   "source": [
    "foo = [1, 2, 3, 4]\n",
    "\n",
    "while foo:\n",
    "    foo.pop()\n",
    "foo"
   ]
  },
  {
   "cell_type": "markdown",
   "metadata": {},
   "source": [
    "### How to create simple decorate?"
   ]
  },
  {
   "cell_type": "code",
   "execution_count": 78,
   "metadata": {},
   "outputs": [
    {
     "name": "stdout",
     "output_type": "stream",
     "text": [
      "hi!\n",
      "Now Decorate Create\n",
      "hi! Decorate Created.\n"
     ]
    }
   ],
   "source": [
    "def create_decorate(dec):\n",
    "    print('hi!')\n",
    "    dec()\n",
    "    print('hi! Decorate Created.')\n",
    "@create_decorate\n",
    "def my_function():\n",
    "    print('Now Decorate Create')"
   ]
  },
  {
   "cell_type": "markdown",
   "metadata": {},
   "source": [
    "### Pass arguments in decorator"
   ]
  },
  {
   "cell_type": "code",
   "execution_count": 83,
   "metadata": {},
   "outputs": [
    {
     "name": "stdout",
     "output_type": "stream",
     "text": [
      "OS Name: Linux\n"
     ]
    }
   ],
   "source": [
    "import platform\n",
    "\n",
    "def dec(pass_arg):\n",
    "    print('OS Name:', end = ' ')\n",
    "    osname = platform.system()\n",
    "    pass_arg(osname)\n",
    "@dec\n",
    "def fun(osname):\n",
    "    print(osname)"
   ]
  },
  {
   "cell_type": "markdown",
   "metadata": {},
   "source": [
    "### Generate 8 random characters"
   ]
  },
  {
   "cell_type": "code",
   "execution_count": 98,
   "metadata": {},
   "outputs": [
    {
     "data": {
      "text/plain": [
       "'ddh4j\"i!'"
      ]
     },
     "execution_count": 98,
     "metadata": {},
     "output_type": "execute_result"
    }
   ],
   "source": [
    "\n",
    "from string import printable\n",
    "from random import choice\n",
    "\n",
    "ch = printable[:68]+printable[71:73]+printable[82:84]\n",
    "rdm = [choice(ch) for i in range(8)]\n",
    "''.join(rdm)"
   ]
  },
  {
   "cell_type": "markdown",
   "metadata": {},
   "source": [
    "### How To View Logs In Specific Time By Particular Text?"
   ]
  },
  {
   "cell_type": "code",
   "execution_count": 1,
   "metadata": {},
   "outputs": [
    {
     "name": "stdout",
     "output_type": "stream",
     "text": [
      "Enter Minutes: 4\n",
      "Enter Search Text: temp\n",
      "Mar 22 17:10:06 joe kernel: [ 7464.912093] CPU1: Core temperature above threshold, cpu clock throttled (total events = 113342)\n",
      "Mar 22 17:10:06 joe kernel: [ 7464.912103] CPU0: Core temperature above threshold, cpu clock throttled (total events = 113378)\n",
      "Mar 22 17:10:06 joe kernel: [ 7464.913777] CPU1: Core temperature/speed normal\n",
      "Mar 22 17:10:06 joe kernel: [ 7464.913780] CPU0: Core temperature/speed normal\n"
     ]
    }
   ],
   "source": [
    "from datetime import datetime,timedelta\n",
    "from pathlib import Path\n",
    "import re\n",
    "\n",
    "inpm = int(input('Enter Minutes: '))\n",
    "inpt = input('Enter Search Text: ')\n",
    "now = datetime.now()\n",
    "times = [(now - timedelta(minutes=x)).strftime(\"%b %e %H:%M\") \n",
    "     for x in range(inpm)]\n",
    "logs = Path('/var/log/syslog').read_text().splitlines()\n",
    "for line in logs:\n",
    "    time_seq = re.match(r'\\w{3}\\s\\d{1,2}\\s\\d{1,2}:\\d{1,2}', line)\n",
    "    if time_seq.group() in times:\n",
    "        if re.search(r''+time_seq.group()+'.*'+inpt+'', line):\n",
    "            print(line)"
   ]
  },
  {
   "cell_type": "markdown",
   "metadata": {},
   "source": [
    "### How to get hour from time module?"
   ]
  },
  {
   "cell_type": "code",
   "execution_count": 190,
   "metadata": {},
   "outputs": [
    {
     "name": "stdout",
     "output_type": "stream",
     "text": [
      "9\n",
      "9\n"
     ]
    }
   ],
   "source": [
    "import time\n",
    "\n",
    "#Method: 1\n",
    "print(time.localtime()[3])\n",
    "\n",
    "#Method: 2\n",
    "print(time.localtime().tm_hour)"
   ]
  },
  {
   "cell_type": "markdown",
   "metadata": {},
   "source": [
    "### How To Generate Random Alphabet?"
   ]
  },
  {
   "cell_type": "code",
   "execution_count": 176,
   "metadata": {},
   "outputs": [
    {
     "data": {
      "text/plain": [
       "'S'"
      ]
     },
     "execution_count": 176,
     "metadata": {},
     "output_type": "execute_result"
    }
   ],
   "source": [
    "from random import randint\n",
    "\n",
    "chr(randint(65,90))"
   ]
  },
  {
   "cell_type": "markdown",
   "metadata": {},
   "source": [
    "### How to convert upper the Result Output?"
   ]
  },
  {
   "cell_type": "code",
   "execution_count": 194,
   "metadata": {},
   "outputs": [
    {
     "name": "stdout",
     "output_type": "stream",
     "text": [
      "LOAD AVERAGE: 0.93, 0.96, 1.02\r\n"
     ]
    }
   ],
   "source": [
    "!uptime | grep -o \"lo.*$\" | awk '{print toupper($1),toupper($2),$3,$4,$5}'"
   ]
  },
  {
   "cell_type": "markdown",
   "metadata": {},
   "source": [
    "### How to use if and else in one line?"
   ]
  },
  {
   "cell_type": "code",
   "execution_count": 23,
   "metadata": {},
   "outputs": [
    {
     "name": "stdout",
     "output_type": "stream",
     "text": [
      "vaild\n"
     ]
    }
   ],
   "source": [
    "print('vaild' if 'Manavalan'.count('a') == 4 else 'Not Vaild')"
   ]
  },
  {
   "cell_type": "code",
   "execution_count": 24,
   "metadata": {},
   "outputs": [
    {
     "name": "stdout",
     "output_type": "stream",
     "text": [
      "Not Vaild\n"
     ]
    }
   ],
   "source": [
    "print('vaild' if 'Manavalan'.count('n') == 3 else 'Not Vaild')"
   ]
  },
  {
   "cell_type": "markdown",
   "metadata": {},
   "source": [
    "### How to sum dictionary values?"
   ]
  },
  {
   "cell_type": "code",
   "execution_count": 12,
   "metadata": {},
   "outputs": [
    {
     "data": {
      "text/plain": [
       "29"
      ]
     },
     "execution_count": 12,
     "metadata": {},
     "output_type": "execute_result"
    }
   ],
   "source": [
    "school = {'st.marys': 10, 'st.xavier': 8, 'st.john': 11}\n",
    "sum(school.values())"
   ]
  },
  {
   "cell_type": "markdown",
   "metadata": {},
   "source": [
    "### How to find vaild ip?"
   ]
  },
  {
   "cell_type": "code",
   "execution_count": 1,
   "metadata": {},
   "outputs": [
    {
     "data": {
      "text/plain": [
       "True"
      ]
     },
     "execution_count": 1,
     "metadata": {},
     "output_type": "execute_result"
    }
   ],
   "source": [
    "ip = '192.168.1.123'.split('.')\n",
    "len([*filter(lambda x: 1 <= len(x) <= 3 and x.isdecimal(), ip)]) == 4"
   ]
  },
  {
   "cell_type": "code",
   "execution_count": 2,
   "metadata": {},
   "outputs": [
    {
     "data": {
      "text/plain": [
       "False"
      ]
     },
     "execution_count": 2,
     "metadata": {},
     "output_type": "execute_result"
    }
   ],
   "source": [
    "ip = '192.168.1.1234'.split('.')\n",
    "len([*filter(lambda x: 1 <= len(x) <= 3 and x.isdecimal(), ip)]) == 4"
   ]
  },
  {
   "cell_type": "code",
   "execution_count": 3,
   "metadata": {},
   "outputs": [
    {
     "data": {
      "text/plain": [
       "False"
      ]
     },
     "execution_count": 3,
     "metadata": {},
     "output_type": "execute_result"
    }
   ],
   "source": [
    "ip = '192..1.1234'.split('.')\n",
    "len([*filter(lambda x: 1 <= len(x) <= 3 and x.isdecimal(), ip)]) == 4"
   ]
  },
  {
   "cell_type": "code",
   "execution_count": 5,
   "metadata": {},
   "outputs": [
    {
     "data": {
      "text/plain": [
       "True"
      ]
     },
     "execution_count": 5,
     "metadata": {},
     "output_type": "execute_result"
    }
   ],
   "source": [
    "ip = '192.16.1.34'.split('.')\n",
    "len([*filter(lambda x: 1 <= len(x) <= 3 and x.isdecimal(), ip)]) == 4"
   ]
  },
  {
   "cell_type": "code",
   "execution_count": 7,
   "metadata": {},
   "outputs": [
    {
     "data": {
      "text/plain": [
       "False"
      ]
     },
     "execution_count": 7,
     "metadata": {},
     "output_type": "execute_result"
    }
   ],
   "source": [
    "ip = '192.3.*.123'.split('.')\n",
    "len([*filter(lambda x: 1 <= len(x) <= 3 and x.isdecimal(), ip)]) == 4"
   ]
  },
  {
   "cell_type": "code",
   "execution_count": 8,
   "metadata": {},
   "outputs": [
    {
     "data": {
      "text/plain": [
       "True"
      ]
     },
     "execution_count": 8,
     "metadata": {},
     "output_type": "execute_result"
    }
   ],
   "source": [
    "ip = '1.0.0.1'.split('.')\n",
    "len([*filter(lambda x: 1 <= len(x) <= 3 and x.isdecimal(), ip)]) == 4"
   ]
  },
  {
   "cell_type": "markdown",
   "metadata": {},
   "source": [
    "### How to compare two value at a time?"
   ]
  },
  {
   "cell_type": "code",
   "execution_count": 75,
   "metadata": {},
   "outputs": [
    {
     "data": {
      "text/plain": [
       "True"
      ]
     },
     "execution_count": 75,
     "metadata": {},
     "output_type": "execute_result"
    }
   ],
   "source": [
    "num = 10\n",
    "\n",
    "9 <= num <= 11"
   ]
  },
  {
   "cell_type": "code",
   "execution_count": 76,
   "metadata": {},
   "outputs": [
    {
     "data": {
      "text/plain": [
       "False"
      ]
     },
     "execution_count": 76,
     "metadata": {},
     "output_type": "execute_result"
    }
   ],
   "source": [
    "num = 5\n",
    "\n",
    "9 <= num <= 11"
   ]
  },
  {
   "cell_type": "markdown",
   "metadata": {},
   "source": [
    "### Check for duplicate instances of class by their attributes"
   ]
  },
  {
   "cell_type": "code",
   "execution_count": 46,
   "metadata": {},
   "outputs": [
    {
     "name": "stdout",
     "output_type": "stream",
     "text": [
      "True\n",
      "False\n"
     ]
    }
   ],
   "source": [
    "class MyName:\n",
    "    def __init__(self, name, city):\n",
    "        self.name = name\n",
    "        self.city = city\n",
    "    def prt_screen(self):\n",
    "        return self.name\n",
    "        \n",
    "nam1 = MyName('Manavalan', 'Chennai')\n",
    "nam2 = nam1\n",
    "nam3 = MyName('Xavier', 'Chennai')\n",
    "print(nam1.__dict__ == nam2.__dict__ )\n",
    "print(nam1.__dict__ == nam3.__dict__ )"
   ]
  },
  {
   "cell_type": "markdown",
   "metadata": {},
   "source": [
    "### How to compare  instance  to multiple class?"
   ]
  },
  {
   "cell_type": "code",
   "execution_count": 60,
   "metadata": {},
   "outputs": [
    {
     "data": {
      "text/plain": [
       "True"
      ]
     },
     "execution_count": 60,
     "metadata": {},
     "output_type": "execute_result"
    }
   ],
   "source": [
    "iterable = ['python', 'java', 'ruby']\n",
    "isinstance(iterable, (dict,list,str,tuple))\n"
   ]
  },
  {
   "cell_type": "markdown",
   "metadata": {},
   "source": [
    "### How to check iterable or not?"
   ]
  },
  {
   "cell_type": "code",
   "execution_count": 63,
   "metadata": {},
   "outputs": [
    {
     "data": {
      "text/plain": [
       "True"
      ]
     },
     "execution_count": 63,
     "metadata": {},
     "output_type": "execute_result"
    }
   ],
   "source": [
    "iterable = ['python', 'java', 'ruby']\n",
    "'__iter__' in dir(iterable)"
   ]
  },
  {
   "cell_type": "code",
   "execution_count": 65,
   "metadata": {},
   "outputs": [
    {
     "data": {
      "text/plain": [
       "True"
      ]
     },
     "execution_count": 65,
     "metadata": {},
     "output_type": "execute_result"
    }
   ],
   "source": [
    "string = 'Python'\n",
    "'__iter__' in dir(string)"
   ]
  },
  {
   "cell_type": "code",
   "execution_count": 64,
   "metadata": {},
   "outputs": [
    {
     "data": {
      "text/plain": [
       "False"
      ]
     },
     "execution_count": 64,
     "metadata": {},
     "output_type": "execute_result"
    }
   ],
   "source": [
    "n = 5\n",
    "'__iter__' in dir(n)"
   ]
  },
  {
   "cell_type": "markdown",
   "metadata": {},
   "source": [
    "### Count the letters of file"
   ]
  },
  {
   "cell_type": "code",
   "execution_count": 66,
   "metadata": {},
   "outputs": [
    {
     "name": "stdout",
     "output_type": "stream",
     "text": [
      "This is file1 list:\r\n",
      "1. Red Apple\r\n",
      "2. Green Aple\r\n",
      "3. white Apple\r\n"
     ]
    }
   ],
   "source": [
    "!cat /home/mana/Work/file1.txt"
   ]
  },
  {
   "cell_type": "code",
   "execution_count": 68,
   "metadata": {},
   "outputs": [
    {
     "data": {
      "text/plain": [
       "{'1.': 2,\n",
       " '2.': 2,\n",
       " '3.': 2,\n",
       " 'Aple': 4,\n",
       " 'Apple': 5,\n",
       " 'Green': 5,\n",
       " 'Red': 3,\n",
       " 'This': 4,\n",
       " 'file1': 5,\n",
       " 'is': 2,\n",
       " 'list:': 5,\n",
       " 'white': 5}"
      ]
     },
     "execution_count": 68,
     "metadata": {},
     "output_type": "execute_result"
    }
   ],
   "source": [
    "from pathlib import Path\n",
    "\n",
    "word = Path('/home/mana/Work/file1.txt').read_text().split()\n",
    "{i: len(i) for i in word }"
   ]
  },
  {
   "cell_type": "code",
   "execution_count": 89,
   "metadata": {},
   "outputs": [
    {
     "name": "stdout",
     "output_type": "stream",
     "text": [
      "This --> 4\n",
      "is --> 2\n",
      "file1 --> 5\n",
      "list: --> 5\n",
      "1. --> 2\n",
      "Red --> 3\n",
      "Apple --> 5\n",
      "2. --> 2\n",
      "Green --> 5\n",
      "Aple --> 4\n",
      "3. --> 2\n",
      "white --> 5\n",
      "Apple --> 5\n"
     ]
    }
   ],
   "source": [
    "from pathlib import Path\n",
    "\n",
    "word = Path('/home/mana/Work/file1.txt').read_text().split()\n",
    "print(*[i+' --> '+str(len(i)) for i in word], sep = '\\n')"
   ]
  },
  {
   "cell_type": "markdown",
   "metadata": {},
   "source": [
    "### Passwd checks"
   ]
  },
  {
   "cell_type": "code",
   "execution_count": 75,
   "metadata": {},
   "outputs": [
    {
     "name": "stdout",
     "output_type": "stream",
     "text": [
      "What is the password? 123\n",
      "Success\n",
      "Enter password again: 123\n",
      "Success\n",
      "Enter password again: Secret\n"
     ]
    }
   ],
   "source": [
    "password= input('What is the password? ')\n",
    "correctPassword= 'Secret'\n",
    "\n",
    "while password != correctPassword:\n",
    "    print(\"Success\")\n",
    "    password = input('Enter password again: ')\n",
    "    "
   ]
  },
  {
   "cell_type": "markdown",
   "metadata": {},
   "source": [
    "### How to validate user and password? \n",
    "This is sample program."
   ]
  },
  {
   "cell_type": "code",
   "execution_count": 117,
   "metadata": {},
   "outputs": [
    {
     "name": "stdout",
     "output_type": "stream",
     "text": [
      "what is the password: 1\n",
      "What is the username?: w\n",
      "You did not enter in the right username or passwowrd\n"
     ]
    }
   ],
   "source": [
    "passw = input(\"what is the password: \")\n",
    "mypass = '123'\n",
    "\n",
    "\n",
    "user = input(\"What is the username?: \")\n",
    "username = 'mana'\n",
    "\n",
    "\n",
    "if passw == mypass and user == username:\n",
    "    print(\"you entered in the right username and password.\")    \n",
    "    \n",
    "else:    \n",
    "    print(\"You did not enter in the right username or passwowrd.\")"
   ]
  },
  {
   "cell_type": "markdown",
   "metadata": {},
   "source": [
    "### How to sorted dictionary value?"
   ]
  },
  {
   "cell_type": "code",
   "execution_count": 1,
   "metadata": {},
   "outputs": [
    {
     "data": {
      "text/plain": [
       "[(0, 0), (2, 1), (1, 2), (4, 3), (3, 4)]"
      ]
     },
     "execution_count": 1,
     "metadata": {},
     "output_type": "execute_result"
    }
   ],
   "source": [
    "x = {1: 2, 3: 4, 4: 3, 2: 1, 0: 0}\n",
    "\n",
    "sorted(x.items(), key = lambda y: y[1])\n"
   ]
  },
  {
   "cell_type": "code",
   "execution_count": 17,
   "metadata": {},
   "outputs": [
    {
     "data": {
      "text/plain": [
       "OrderedDict([(0, 0), (2, 1), (1, 2), (4, 3), (3, 4)])"
      ]
     },
     "execution_count": 17,
     "metadata": {},
     "output_type": "execute_result"
    }
   ],
   "source": [
    "from collections import OrderedDict\n",
    "\n",
    "x = {1: 2, 3: 4, 4: 3, 2: 1, 0: 0}\n",
    "s = sorted(x.items(), key = lambda y: y[1])\n",
    "o = OrderedDict(s)\n",
    "o\n",
    "#d = {}\n",
    "#for i,j in o.items():\n",
    "#    d.setdefault(i, j)\n",
    "#    d[i] = d.get(i,j)\n",
    "\n",
    "#d   "
   ]
  },
  {
   "cell_type": "markdown",
   "metadata": {},
   "source": [
    "### How to collect Bios information?"
   ]
  },
  {
   "cell_type": "code",
   "execution_count": 137,
   "metadata": {},
   "outputs": [
    {
     "name": "stdout",
     "output_type": "stream",
     "text": [
      " Manufacturer: Phoenix Technologies, LTD\n",
      " Product Name: OEM\n",
      " Bios Version: 6.00 PG\n",
      " Bios Date: 03/09/2015\n"
     ]
    }
   ],
   "source": [
    "from pathlib import Path\n",
    "import os\n",
    "import re\n",
    "\n",
    "com = re.compile(r'bios|product')\n",
    "\n",
    "p = Path('/sys/class/dmi/id')\n",
    "clt = [i for i in p.iterdir() if os.access(str(i), os.R_OK) and com.search(str(i))]\n",
    "bios = {j.stem: j.read_text().strip() for j in clt}\n",
    "\n",
    "print(\" Manufacturer: {}\".format(bios['bios_vendor']))\n",
    "print(\" Product Name: {}\".format(bios['product_name']))\n",
    "print(\" Bios Version: {}\".format(bios['bios_version']))\n",
    "print(\" Bios Date: {}\".format(bios['bios_date']))"
   ]
  },
  {
   "cell_type": "markdown",
   "metadata": {},
   "source": [
    "### How to remove .#?"
   ]
  },
  {
   "cell_type": "code",
   "execution_count": 27,
   "metadata": {},
   "outputs": [
    {
     "data": {
      "text/plain": [
       "'Section 3.2.1 Issue #32'"
      ]
     },
     "execution_count": 27,
     "metadata": {},
     "output_type": "execute_result"
    }
   ],
   "source": [
    "st = '#.....Section 3.2.1 Issue #32...'\n",
    "st.strip('#.!')"
   ]
  },
  {
   "cell_type": "markdown",
   "metadata": {},
   "source": [
    "### How to remove *?"
   ]
  },
  {
   "cell_type": "code",
   "execution_count": 70,
   "metadata": {},
   "outputs": [
    {
     "name": "stdout",
     "output_type": "stream",
     "text": [
      "Manavalan\n"
     ]
    }
   ],
   "source": [
    "%%bash\n",
    "\n",
    "echo \"*****Manavalan*****\" | sed 's/*//g'"
   ]
  },
  {
   "cell_type": "code",
   "execution_count": 72,
   "metadata": {},
   "outputs": [
    {
     "name": "stdout",
     "output_type": "stream",
     "text": [
      "Manavalan\n"
     ]
    }
   ],
   "source": [
    "%%python3\n",
    "\n",
    "st = \"*****Manavalan*****\"\n",
    "print(st.strip('*!'))"
   ]
  },
  {
   "cell_type": "markdown",
   "metadata": {},
   "source": [
    "### How to find largest string between two strings?"
   ]
  },
  {
   "cell_type": "code",
   "execution_count": 107,
   "metadata": {},
   "outputs": [
    {
     "data": {
      "text/plain": [
       "'Sivaram'"
      ]
     },
     "execution_count": 107,
     "metadata": {},
     "output_type": "execute_result"
    }
   ],
   "source": [
    "max('Sivaram', 'Mana')"
   ]
  },
  {
   "cell_type": "markdown",
   "metadata": {},
   "source": [
    "### How to combine string with list?"
   ]
  },
  {
   "cell_type": "code",
   "execution_count": 37,
   "metadata": {},
   "outputs": [
    {
     "data": {
      "text/plain": [
       "[('<', 'left'), ('^', 'center'), ('>', 'right')]"
      ]
     },
     "execution_count": 37,
     "metadata": {},
     "output_type": "execute_result"
    }
   ],
   "source": [
    "list(zip('<^>', ['left', 'center', 'right']))"
   ]
  },
  {
   "cell_type": "code",
   "execution_count": 38,
   "metadata": {},
   "outputs": [
    {
     "data": {
      "text/plain": [
       "[('M', 'Manavalan'), ('F', 'Devi')]"
      ]
     },
     "execution_count": 38,
     "metadata": {},
     "output_type": "execute_result"
    }
   ],
   "source": [
    "list(zip('MF',['Manavalan', 'Devi']))"
   ]
  },
  {
   "cell_type": "markdown",
   "metadata": {},
   "source": [
    "### How to create table?"
   ]
  },
  {
   "cell_type": "code",
   "execution_count": 54,
   "metadata": {},
   "outputs": [
    {
     "name": "stdout",
     "output_type": "stream",
     "text": [
      "25 30 35 40 45 \n",
      "30 36 42 48 54 \n",
      "35 42 49 56 63 \n",
      "40 48 56 64 72 \n",
      "45 54 63 72 81 \n"
     ]
    }
   ],
   "source": [
    "for i in range(5,10):\n",
    "    for j in range(5,10):\n",
    "        print(i*j, end = ' ')\n",
    "    print()"
   ]
  },
  {
   "cell_type": "markdown",
   "metadata": {},
   "source": [
    "### How to find how many words in a file?"
   ]
  },
  {
   "cell_type": "code",
   "execution_count": 55,
   "metadata": {},
   "outputs": [
    {
     "name": "stdout",
     "output_type": "stream",
     "text": [
      "This is file1 list:\r\n",
      "Red Apple\r\n",
      "Green Aple\r\n",
      "white Apple\r\n"
     ]
    }
   ],
   "source": [
    "!cat /home/mana/Work/word.txt"
   ]
  },
  {
   "cell_type": "code",
   "execution_count": 57,
   "metadata": {},
   "outputs": [
    {
     "data": {
      "text/plain": [
       "10"
      ]
     },
     "execution_count": 57,
     "metadata": {},
     "output_type": "execute_result"
    }
   ],
   "source": [
    "from pathlib import Path\n",
    "\n",
    "len(Path('/home/mana/Work/word.txt').read_text().split())"
   ]
  },
  {
   "cell_type": "markdown",
   "metadata": {},
   "source": [
    "### How to create  Jan 2019 Calendar?"
   ]
  },
  {
   "cell_type": "code",
   "execution_count": 64,
   "metadata": {},
   "outputs": [
    {
     "name": "stdout",
     "output_type": "stream",
     "text": [
      "1 2 3 4 5 6 7 8 9 10 11 12 13 14 15 16 17 18 19 20 21 22 23 24 25 26 27 28 29 30 \n"
     ]
    }
   ],
   "source": [
    "import calendar as cal\n",
    "\n",
    "for i in range(1,2):\n",
    "    end = cal.monthrange(2019,i)[1]\n",
    "    for j in range(1,end):\n",
    "        print(j, end = ' ')\n",
    "    print()"
   ]
  },
  {
   "cell_type": "code",
   "execution_count": 73,
   "metadata": {},
   "outputs": [
    {
     "name": "stdout",
     "output_type": "stream",
     "text": [
      "Enter Text: Ram\n",
      "Enter Text: Siva\n",
      "Enter Text: Raja\n",
      "Enter Text: Xavier\n",
      "Enter Text: rex\n",
      "RAM\n",
      "SIVA\n",
      "RAJA\n",
      "XAVIER\n",
      "REX\n"
     ]
    }
   ],
   "source": [
    "line = []\n",
    "x = 0\n",
    "while x < 5:\n",
    "    i = input('Enter Text: ').upper()\n",
    "    line += [i]\n",
    "    x += 1\n",
    "else:\n",
    "    print(*line, sep = '\\n')"
   ]
  },
  {
   "cell_type": "markdown",
   "metadata": {},
   "source": [
    "### How to force user to enter upper case letter"
   ]
  },
  {
   "cell_type": "code",
   "execution_count": 95,
   "metadata": {},
   "outputs": [
    {
     "name": "stdout",
     "output_type": "stream",
     "text": [
      "Enter Text: RUN\n",
      "\n"
     ]
    }
   ],
   "source": [
    "import sys\n",
    "\n",
    "m = ''\n",
    "print(m) if input('Enter Text: ').isupper() else sys.exit('ENTER UPPER CASE LETTER.')"
   ]
  },
  {
   "cell_type": "markdown",
   "metadata": {},
   "source": [
    "### Exit when enter blank Input"
   ]
  },
  {
   "cell_type": "code",
   "execution_count": 92,
   "metadata": {},
   "outputs": [
    {
     "name": "stdout",
     "output_type": "stream",
     "text": [
      "Enter Text: \n"
     ]
    },
    {
     "ename": "SystemExit",
     "evalue": "Don\"t enter blank line.",
     "output_type": "error",
     "traceback": [
      "An exception has occurred, use %tb to see the full traceback.\n",
      "\u001b[0;31mSystemExit\u001b[0m\u001b[0;31m:\u001b[0m Don\"t enter blank line.\n"
     ]
    }
   ],
   "source": [
    "import sys\n",
    "\n",
    "m = ''\n",
    "m if not input('Enter Text: ') == '' else sys.exit('Don\"t enter blank line.')\n",
    "print(m)"
   ]
  },
  {
   "cell_type": "markdown",
   "metadata": {},
   "source": [
    "### How to split a file?\n",
    "Here i split a file. one file has 1000 lines.\n",
    "Remaining lines split to another file."
   ]
  },
  {
   "cell_type": "code",
   "execution_count": 104,
   "metadata": {},
   "outputs": [
    {
     "name": "stdout",
     "output_type": "stream",
     "text": [
      "1500 /home/mana/Work/log.txt\r\n"
     ]
    }
   ],
   "source": [
    "#Before split lines in one file\n",
    "!wc -l /home/mana/Work/log.txt"
   ]
  },
  {
   "cell_type": "code",
   "execution_count": 105,
   "metadata": {},
   "outputs": [],
   "source": [
    "from pathlib import Path\n",
    "f = Path('/home/mana/Work/log.txt').read_text().splitlines()\n",
    "print(*f[1000:], sep = '\\n', file = open('/home/mana/Work/log1.txt', 'w'))\n",
    "print(*f[0:1000], sep = '\\n', file = open('/home/mana/Work/log.txt', 'w'))"
   ]
  },
  {
   "cell_type": "code",
   "execution_count": 106,
   "metadata": {},
   "outputs": [
    {
     "name": "stdout",
     "output_type": "stream",
     "text": [
      "1000 /home/mana/Work/log.txt\n",
      "500 /home/mana/Work/log1.txt\n"
     ]
    }
   ],
   "source": [
    "#After split lines  in two file\n",
    "\n",
    "!wc -l /home/mana/Work/log.txt\n",
    "!wc -l /home/mana/Work/log1.txt"
   ]
  },
  {
   "cell_type": "markdown",
   "metadata": {},
   "source": [
    "### How to truncating long string?"
   ]
  },
  {
   "cell_type": "code",
   "execution_count": 108,
   "metadata": {},
   "outputs": [
    {
     "data": {
      "text/plain": [
       "'Mana'"
      ]
     },
     "execution_count": 108,
     "metadata": {},
     "output_type": "execute_result"
    }
   ],
   "source": [
    "'{:.4}'.format('Manavalan')"
   ]
  },
  {
   "cell_type": "code",
   "execution_count": 109,
   "metadata": {},
   "outputs": [
    {
     "data": {
      "text/plain": [
       "['__add__',\n",
       " '__class__',\n",
       " '__contains__',\n",
       " '__delattr__',\n",
       " '__delitem__',\n",
       " '__dir__',\n",
       " '__doc__',\n",
       " '__eq__',\n",
       " '__format__',\n",
       " '__ge__',\n",
       " '__getattribute__',\n",
       " '__getitem__',\n",
       " '__gt__',\n",
       " '__hash__',\n",
       " '__iadd__',\n",
       " '__imul__',\n",
       " '__init__',\n",
       " '__iter__',\n",
       " '__le__',\n",
       " '__len__',\n",
       " '__lt__',\n",
       " '__mul__',\n",
       " '__ne__',\n",
       " '__new__',\n",
       " '__reduce__',\n",
       " '__reduce_ex__',\n",
       " '__repr__',\n",
       " '__reversed__',\n",
       " '__rmul__',\n",
       " '__setattr__',\n",
       " '__setitem__',\n",
       " '__sizeof__',\n",
       " '__str__',\n",
       " '__subclasshook__',\n",
       " 'append',\n",
       " 'clear',\n",
       " 'copy',\n",
       " 'count',\n",
       " 'extend',\n",
       " 'index',\n",
       " 'insert',\n",
       " 'pop',\n",
       " 'remove',\n",
       " 'reverse',\n",
       " 'sort']"
      ]
     },
     "execution_count": 109,
     "metadata": {},
     "output_type": "execute_result"
    }
   ],
   "source": [
    "dir(list)"
   ]
  },
  {
   "cell_type": "code",
   "execution_count": 128,
   "metadata": {},
   "outputs": [
    {
     "data": {
      "text/plain": [
       "False"
      ]
     },
     "execution_count": 128,
     "metadata": {},
     "output_type": "execute_result"
    }
   ],
   "source": [
    "a = [3, 4]\n",
    "b = [5, 6, 7]\n",
    "a == b"
   ]
  },
  {
   "cell_type": "code",
   "execution_count": 125,
   "metadata": {},
   "outputs": [
    {
     "data": {
      "text/plain": [
       "False"
      ]
     },
     "execution_count": 125,
     "metadata": {},
     "output_type": "execute_result"
    }
   ],
   "source": [
    "a = [3, 4]\n",
    "b = [5, 6, 7]\n",
    "a > b"
   ]
  },
  {
   "cell_type": "code",
   "execution_count": 126,
   "metadata": {},
   "outputs": [
    {
     "data": {
      "text/plain": [
       "True"
      ]
     },
     "execution_count": 126,
     "metadata": {},
     "output_type": "execute_result"
    }
   ],
   "source": [
    "a = [3, 4]\n",
    "b = [5, 6, 7]\n",
    "a < b"
   ]
  },
  {
   "cell_type": "code",
   "execution_count": 127,
   "metadata": {},
   "outputs": [
    {
     "data": {
      "text/plain": [
       "True"
      ]
     },
     "execution_count": 127,
     "metadata": {},
     "output_type": "execute_result"
    }
   ],
   "source": [
    "a = [3, 4]\n",
    "b = [5, 6, 7]\n",
    "a <= b"
   ]
  },
  {
   "cell_type": "markdown",
   "metadata": {},
   "source": [
    "### How to find longest list between two lists?"
   ]
  },
  {
   "cell_type": "code",
   "execution_count": 132,
   "metadata": {},
   "outputs": [
    {
     "data": {
      "text/plain": [
       "[5, 6, 7]"
      ]
     },
     "execution_count": 132,
     "metadata": {},
     "output_type": "execute_result"
    }
   ],
   "source": [
    "a = [3, 4]\n",
    "b = [5, 6, 7]\n",
    "max(a , b)"
   ]
  },
  {
   "cell_type": "code",
   "execution_count": 137,
   "metadata": {},
   "outputs": [
    {
     "name": "stdout",
     "output_type": "stream",
     "text": [
      "List [5, 6, 7] longest than [3, 4]\n"
     ]
    }
   ],
   "source": [
    "a = [3, 4]\n",
    "b = [5, 6, 7]\n",
    "max(a , b)\n",
    "\n",
    "if a > b:\n",
    "    print('List',a,'longest than',b)\n",
    "else:\n",
    "    print('List',b,'longest than',a)"
   ]
  },
  {
   "cell_type": "code",
   "execution_count": 133,
   "metadata": {},
   "outputs": [
    {
     "data": {
      "text/plain": [
       "[5, 6, 7]"
      ]
     },
     "execution_count": 133,
     "metadata": {},
     "output_type": "execute_result"
    }
   ],
   "source": [
    "a = [3, 4]\n",
    "b = [5, 6, 7]\n",
    "c = [1]\n",
    "max(a , b, c)"
   ]
  },
  {
   "cell_type": "markdown",
   "metadata": {},
   "source": [
    "### How to access dictionary item in list?"
   ]
  },
  {
   "cell_type": "code",
   "execution_count": 145,
   "metadata": {},
   "outputs": [
    {
     "data": {
      "text/plain": [
       "'Chennai'"
      ]
     },
     "execution_count": 145,
     "metadata": {},
     "output_type": "execute_result"
    }
   ],
   "source": [
    "city = [{'name': 'Chennai'}, {'name': 'Banglore'}]\n",
    "city[0]['name']"
   ]
  },
  {
   "cell_type": "code",
   "execution_count": 146,
   "metadata": {},
   "outputs": [
    {
     "data": {
      "text/plain": [
       "'Chennai'"
      ]
     },
     "execution_count": 146,
     "metadata": {},
     "output_type": "execute_result"
    }
   ],
   "source": [
    "city = {'name': 'Chennai'}\n",
    "city['name']"
   ]
  },
  {
   "cell_type": "code",
   "execution_count": 143,
   "metadata": {},
   "outputs": [
    {
     "data": {
      "text/plain": [
       "{'name': 'Chennai'}"
      ]
     },
     "execution_count": 143,
     "metadata": {},
     "output_type": "execute_result"
    }
   ],
   "source": [
    "city = [{'name': 'Chennai'}, {'name': 'Banglore'}]\n",
    "city[0]"
   ]
  },
  {
   "cell_type": "markdown",
   "metadata": {},
   "source": [
    "### Short form of \"%H:%M:%S\" time format"
   ]
  },
  {
   "cell_type": "code",
   "execution_count": 148,
   "metadata": {},
   "outputs": [
    {
     "data": {
      "text/plain": [
       "'12:39:08'"
      ]
     },
     "execution_count": 148,
     "metadata": {},
     "output_type": "execute_result"
    }
   ],
   "source": [
    "from datetime import datetime\n",
    "\n",
    "datetime.now().strftime(\"%T\") # \"%H:%M:%S\" = \"%T\""
   ]
  },
  {
   "cell_type": "markdown",
   "metadata": {},
   "source": [
    "### How to override magic method?"
   ]
  },
  {
   "cell_type": "raw",
   "metadata": {},
   "source": [
    "Here, I override __len__ method. Defualt len method call __len___"
   ]
  },
  {
   "cell_type": "code",
   "execution_count": 169,
   "metadata": {},
   "outputs": [
    {
     "data": {
      "text/plain": [
       "3"
      ]
     },
     "execution_count": 169,
     "metadata": {},
     "output_type": "execute_result"
    }
   ],
   "source": [
    "# What is output of len('Python')?\n",
    "# It should 6. But, here alter len method. so it show 3.\n",
    "\n",
    "class Len:\n",
    "    def __len__(self):\n",
    "        x = 0\n",
    "        for i in 'Python':\n",
    "            x += 1\n",
    "        return x - 3\n",
    "len(Len())  "
   ]
  },
  {
   "cell_type": "code",
   "execution_count": 6,
   "metadata": {},
   "outputs": [
    {
     "name": "stdout",
     "output_type": "stream",
     "text": [
      "  4           0 LOAD_CONST               1 (42)\n",
      "              3 STORE_FAST               0 (x)\n",
      "\n",
      "  5           6 LOAD_FAST                0 (x)\n",
      "              9 STORE_FAST               1 (y)\n",
      "\n",
      "  6          12 LOAD_FAST                1 (y)\n",
      "             15 RETURN_VALUE\n"
     ]
    }
   ],
   "source": [
    "import dis\n",
    "\n",
    "def fn():\n",
    "    x = 42\n",
    "    y = x\n",
    "    return y\n",
    "\n",
    "dis.dis(fn)"
   ]
  },
  {
   "cell_type": "markdown",
   "metadata": {},
   "source": [
    "### What's happening y?"
   ]
  },
  {
   "cell_type": "code",
   "execution_count": 23,
   "metadata": {},
   "outputs": [
    {
     "name": "stdout",
     "output_type": "stream",
     "text": [
      "42\n",
      "72\n"
     ]
    }
   ],
   "source": [
    "%%python3\n",
    "\n",
    "x = 42\n",
    "y = x\n",
    "print(y)\n",
    "y = 72\n",
    "print(y)"
   ]
  },
  {
   "cell_type": "raw",
   "metadata": {},
   "source": [
    "1. Python  is interpreter language.\n",
    "2. Python interpreter execute instruction one by one.\n",
    "\n",
    "Here, first assgin x = 42\n",
    "second assgin y = x\n",
    "lastly assgin y = 72\n",
    "\n",
    "Python interpreter overwrite to y in heap memory. Because Python interpreter execute \n",
    "instruction one by one."
   ]
  },
  {
   "cell_type": "code",
   "execution_count": 29,
   "metadata": {},
   "outputs": [
    {
     "data": {
      "text/plain": [
       "['__add__',\n",
       " '__class__',\n",
       " '__contains__',\n",
       " '__delattr__',\n",
       " '__delitem__',\n",
       " '__dir__',\n",
       " '__doc__',\n",
       " '__eq__',\n",
       " '__format__',\n",
       " '__ge__',\n",
       " '__getattribute__',\n",
       " '__getitem__',\n",
       " '__gt__',\n",
       " '__hash__',\n",
       " '__iadd__',\n",
       " '__imul__',\n",
       " '__init__',\n",
       " '__iter__',\n",
       " '__le__',\n",
       " '__len__',\n",
       " '__lt__',\n",
       " '__mul__',\n",
       " '__ne__',\n",
       " '__new__',\n",
       " '__reduce__',\n",
       " '__reduce_ex__',\n",
       " '__repr__',\n",
       " '__reversed__',\n",
       " '__rmul__',\n",
       " '__setattr__',\n",
       " '__setitem__',\n",
       " '__sizeof__',\n",
       " '__str__',\n",
       " '__subclasshook__',\n",
       " 'append',\n",
       " 'clear',\n",
       " 'copy',\n",
       " 'count',\n",
       " 'extend',\n",
       " 'index',\n",
       " 'insert',\n",
       " 'pop',\n",
       " 'remove',\n",
       " 'reverse',\n",
       " 'sort']"
      ]
     },
     "execution_count": 29,
     "metadata": {},
     "output_type": "execute_result"
    }
   ],
   "source": [
    "dir(list)"
   ]
  },
  {
   "cell_type": "code",
   "execution_count": 30,
   "metadata": {},
   "outputs": [
    {
     "name": "stdout",
     "output_type": "stream",
     "text": [
      "Help on wrapper_descriptor:\n",
      "\n",
      "__add__(self, value, /)\n",
      "    Return self+value.\n",
      "\n"
     ]
    }
   ],
   "source": [
    "help(list.__add__)"
   ]
  },
  {
   "cell_type": "code",
   "execution_count": 31,
   "metadata": {},
   "outputs": [
    {
     "name": "stdout",
     "output_type": "stream",
     "text": [
      "Help on class type in module builtins:\n",
      "\n",
      "class type(object)\n",
      " |  type(object_or_name, bases, dict)\n",
      " |  type(object) -> the object's type\n",
      " |  type(name, bases, dict) -> a new type\n",
      " |  \n",
      " |  Methods defined here:\n",
      " |  \n",
      " |  __call__(self, /, *args, **kwargs)\n",
      " |      Call self as a function.\n",
      " |  \n",
      " |  __delattr__(self, name, /)\n",
      " |      Implement delattr(self, name).\n",
      " |  \n",
      " |  __dir__(...)\n",
      " |      __dir__() -> list\n",
      " |      specialized __dir__ implementation for types\n",
      " |  \n",
      " |  __getattribute__(self, name, /)\n",
      " |      Return getattr(self, name).\n",
      " |  \n",
      " |  __init__(self, /, *args, **kwargs)\n",
      " |      Initialize self.  See help(type(self)) for accurate signature.\n",
      " |  \n",
      " |  __instancecheck__(...)\n",
      " |      __instancecheck__() -> bool\n",
      " |      check if an object is an instance\n",
      " |  \n",
      " |  __new__(*args, **kwargs)\n",
      " |      Create and return a new object.  See help(type) for accurate signature.\n",
      " |  \n",
      " |  __prepare__(...)\n",
      " |      __prepare__() -> dict\n",
      " |      used to create the namespace for the class statement\n",
      " |  \n",
      " |  __repr__(self, /)\n",
      " |      Return repr(self).\n",
      " |  \n",
      " |  __setattr__(self, name, value, /)\n",
      " |      Implement setattr(self, name, value).\n",
      " |  \n",
      " |  __sizeof__(...)\n",
      " |      __sizeof__() -> int\n",
      " |      return memory consumption of the type object\n",
      " |  \n",
      " |  __subclasscheck__(...)\n",
      " |      __subclasscheck__() -> bool\n",
      " |      check if a class is a subclass\n",
      " |  \n",
      " |  __subclasses__(...)\n",
      " |      __subclasses__() -> list of immediate subclasses\n",
      " |  \n",
      " |  mro(...)\n",
      " |      mro() -> list\n",
      " |      return a type's method resolution order\n",
      " |  \n",
      " |  ----------------------------------------------------------------------\n",
      " |  Data descriptors defined here:\n",
      " |  \n",
      " |  __abstractmethods__\n",
      " |  \n",
      " |  __dict__\n",
      " |  \n",
      " |  __text_signature__\n",
      " |  \n",
      " |  ----------------------------------------------------------------------\n",
      " |  Data and other attributes defined here:\n",
      " |  \n",
      " |  __base__ = <class 'object'>\n",
      " |      The most base type\n",
      " |  \n",
      " |  __bases__ = (<class 'object'>,)\n",
      " |  \n",
      " |  __basicsize__ = 432\n",
      " |  \n",
      " |  __dictoffset__ = 132\n",
      " |  \n",
      " |  __flags__ = -2146675712\n",
      " |  \n",
      " |  __itemsize__ = 20\n",
      " |  \n",
      " |  __mro__ = (<class 'type'>, <class 'object'>)\n",
      " |  \n",
      " |  __weakrefoffset__ = 184\n",
      "\n"
     ]
    }
   ],
   "source": [
    "help(list.__class__)"
   ]
  },
  {
   "cell_type": "code",
   "execution_count": 28,
   "metadata": {},
   "outputs": [
    {
     "name": "stdout",
     "output_type": "stream",
     "text": [
      "Help on method_descriptor:\n",
      "\n",
      "__getitem__(...)\n",
      "    x.__getitem__(y) <==> x[y]\n",
      "\n"
     ]
    }
   ],
   "source": [
    "help(list.__getitem__)"
   ]
  },
  {
   "cell_type": "markdown",
   "metadata": {},
   "source": [
    "### What is reference count in python?"
   ]
  },
  {
   "cell_type": "raw",
   "metadata": {},
   "source": [
    "1. In Python everything is object.\n",
    "2. All variable is object.\n",
    "\n",
    "For Example,\n",
    "x = 1\n",
    "y = 'one'\n",
    "z = [1, 'one']\n",
    "Here x,y,z are object. But these are different data type.\n",
    "Suppose, if you want x object want assgined to differnet name.\n",
    "Just you reference that variable(object) name only. It wouldn't take extra memory.\n",
    "\n",
    "For Example,\n",
    "x = 1\n",
    "a = x\n",
    "Here, a reference to x. This called reference count in Python.\n",
    "some time we use same object for different purpose.\n",
    "\n",
    "For Example,\n",
    "x = 1\n",
    "a = x\n",
    "b = a\n",
    "Here, Python allocate memory for x variable(object) only. Remaining all are reference to x."
   ]
  },
  {
   "cell_type": "code",
   "execution_count": 14,
   "metadata": {},
   "outputs": [
    {
     "name": "stdout",
     "output_type": "stream",
     "text": [
      "139402144\n",
      "139402144\n",
      "139402144\n"
     ]
    },
    {
     "data": {
      "text/plain": [
       "3292"
      ]
     },
     "execution_count": 14,
     "metadata": {},
     "output_type": "execute_result"
    }
   ],
   "source": [
    "#import sys\n",
    "\n",
    "x = 1\n",
    "a = x\n",
    "b = a\n",
    "\n",
    "print(id(x))\n",
    "print(id(a))\n",
    "print(id(b))\n",
    "sys.getrefcount(x)\n",
    "\n",
    "#Here, x,a,b variables(object) are same memory address."
   ]
  },
  {
   "cell_type": "code",
   "execution_count": 4,
   "metadata": {},
   "outputs": [
    {
     "name": "stdout",
     "output_type": "stream",
     "text": [
      "139285776\n",
      "139285776\n",
      "139285776\n"
     ]
    }
   ],
   "source": [
    "x = None\n",
    "a = x\n",
    "b = a\n",
    "\n",
    "print(id(x))\n",
    "print(id(a))\n",
    "print(id(b))"
   ]
  },
  {
   "cell_type": "markdown",
   "metadata": {},
   "source": [
    "### unicode"
   ]
  },
  {
   "cell_type": "code",
   "execution_count": 1,
   "metadata": {},
   "outputs": [
    {
     "data": {
      "text/plain": [
       "['0x59', '0x20', '0x35', '0x30', '0x30', '0x25']"
      ]
     },
     "execution_count": 1,
     "metadata": {},
     "output_type": "execute_result"
    }
   ],
   "source": [
    "[hex(ord(i)) for i in 'Y 500%']"
   ]
  },
  {
   "cell_type": "markdown",
   "metadata": {},
   "source": [
    "### ascii"
   ]
  },
  {
   "cell_type": "code",
   "execution_count": 2,
   "metadata": {},
   "outputs": [
    {
     "data": {
      "text/plain": [
       "['89', '32', '53', '48', '48', '37']"
      ]
     },
     "execution_count": 2,
     "metadata": {},
     "output_type": "execute_result"
    }
   ],
   "source": [
    "[ascii(ord(i)) for i in 'Y 500%']"
   ]
  },
  {
   "cell_type": "code",
   "execution_count": 11,
   "metadata": {},
   "outputs": [
    {
     "data": {
      "text/plain": [
       "True"
      ]
     },
     "execution_count": 11,
     "metadata": {},
     "output_type": "execute_result"
    }
   ],
   "source": [
    "'Susan' > 'Robert Nix'"
   ]
  },
  {
   "cell_type": "code",
   "execution_count": 12,
   "metadata": {},
   "outputs": [
    {
     "name": "stdout",
     "output_type": "stream",
     "text": [
      "True\n"
     ]
    }
   ],
   "source": [
    "print(\"Susan\" > \"Robert Nix\")"
   ]
  },
  {
   "cell_type": "code",
   "execution_count": 15,
   "metadata": {},
   "outputs": [
    {
     "name": "stdout",
     "output_type": "stream",
     "text": [
      "139402144\n",
      "139402144\n",
      "139402144\n"
     ]
    },
    {
     "data": {
      "text/plain": [
       "3295"
      ]
     },
     "execution_count": 15,
     "metadata": {},
     "output_type": "execute_result"
    }
   ],
   "source": [
    "x = 1\n",
    "a = x\n",
    "b = a\n",
    "\n",
    "print(id(x))\n",
    "print(id(a))\n",
    "print(id(b))\n",
    "sys.getrefcount(x)"
   ]
  },
  {
   "cell_type": "markdown",
   "metadata": {},
   "source": [
    "### How to check start and end is same?"
   ]
  },
  {
   "cell_type": "code",
   "execution_count": 8,
   "metadata": {},
   "outputs": [
    {
     "name": "stdout",
     "output_type": "stream",
     "text": [
      "True\n"
     ]
    }
   ],
   "source": [
    "import re\n",
    "\n",
    "st = 'xyzabcxyzefgxyz'\n",
    "if re.search(r'^...',st).group() == re.search(r'...$',st).group():\n",
    "    print('True')"
   ]
  },
  {
   "cell_type": "code",
   "execution_count": 2,
   "metadata": {},
   "outputs": [
    {
     "data": {
      "text/plain": [
       "False"
      ]
     },
     "execution_count": 2,
     "metadata": {},
     "output_type": "execute_result"
    }
   ],
   "source": [
    "'S' > 's'"
   ]
  },
  {
   "cell_type": "code",
   "execution_count": 5,
   "metadata": {},
   "outputs": [
    {
     "data": {
      "text/plain": [
       "False"
      ]
     },
     "execution_count": 5,
     "metadata": {},
     "output_type": "execute_result"
    }
   ],
   "source": [
    "# It return inger.\n",
    "\n",
    "ascii('S')> ascii('s')"
   ]
  },
  {
   "cell_type": "markdown",
   "metadata": {},
   "source": [
    "### How to combine string with list?"
   ]
  },
  {
   "cell_type": "code",
   "execution_count": 1,
   "metadata": {},
   "outputs": [
    {
     "data": {
      "text/plain": [
       "[('M', 'Manavalan'), ('F', 'Devi')]"
      ]
     },
     "execution_count": 1,
     "metadata": {},
     "output_type": "execute_result"
    }
   ],
   "source": [
    "list(zip('MF',['Manavalan', 'Devi']))"
   ]
  },
  {
   "cell_type": "code",
   "execution_count": 16,
   "metadata": {},
   "outputs": [
    {
     "data": {
      "text/plain": [
       "3021525984"
      ]
     },
     "execution_count": 16,
     "metadata": {},
     "output_type": "execute_result"
    }
   ],
   "source": [
    "i = 'priya'\n",
    "id(i)"
   ]
  },
  {
   "cell_type": "code",
   "execution_count": 17,
   "metadata": {},
   "outputs": [
    {
     "data": {
      "text/plain": [
       "<memory at 0xb417a43c>"
      ]
     },
     "execution_count": 17,
     "metadata": {},
     "output_type": "execute_result"
    }
   ],
   "source": [
    "memoryview(i.encode())"
   ]
  },
  {
   "cell_type": "code",
   "execution_count": 19,
   "metadata": {},
   "outputs": [
    {
     "data": {
      "text/plain": [
       "'3021448252'"
      ]
     },
     "execution_count": 19,
     "metadata": {},
     "output_type": "execute_result"
    }
   ],
   "source": [
    "'{:d}'.format(0xb417a43c)"
   ]
  },
  {
   "cell_type": "markdown",
   "metadata": {},
   "source": [
    "### How to split a word syslog?\n",
    "\n",
    "I need words sys and log.\n"
   ]
  },
  {
   "cell_type": "code",
   "execution_count": 26,
   "metadata": {},
   "outputs": [
    {
     "name": "stdout",
     "output_type": "stream",
     "text": [
      "sys\n",
      "log\n"
     ]
    }
   ],
   "source": [
    "%%bash\n",
    "\n",
    "echo 'syslog' | grep -o '...'"
   ]
  },
  {
   "cell_type": "code",
   "execution_count": 27,
   "metadata": {},
   "outputs": [
    {
     "name": "stdout",
     "output_type": "stream",
     "text": [
      "sys\n",
      "log\n"
     ]
    }
   ],
   "source": [
    "%%python3\n",
    "\n",
    "import re\n",
    "\n",
    "string = 'syslog'\n",
    "print(*re.findall(r'...', string), sep = '\\n')"
   ]
  },
  {
   "cell_type": "markdown",
   "metadata": {},
   "source": [
    "### How to remove log word?"
   ]
  },
  {
   "cell_type": "code",
   "execution_count": 3,
   "metadata": {},
   "outputs": [
    {
     "name": "stdout",
     "output_type": "stream",
     "text": [
      "sys\n"
     ]
    }
   ],
   "source": [
    "%%bash\n",
    "\n",
    "echo 'syslog' | sed 's/...$//'"
   ]
  },
  {
   "cell_type": "code",
   "execution_count": 5,
   "metadata": {},
   "outputs": [
    {
     "name": "stdout",
     "output_type": "stream",
     "text": [
      "sys\n"
     ]
    }
   ],
   "source": [
    "%%python3\n",
    "\n",
    "\n",
    "print('{:.3}'.format('syslog'))"
   ]
  },
  {
   "cell_type": "code",
   "execution_count": 21,
   "metadata": {},
   "outputs": [
    {
     "data": {
      "text/plain": [
       "[(0, 9), (10, 19), (20, 29), (30, 39)]"
      ]
     },
     "execution_count": 21,
     "metadata": {},
     "output_type": "execute_result"
    }
   ],
   "source": [
    "one = [0, 10, 20, 30]\n",
    "two = [9, 19, 29, 39]\n",
    "\n",
    "list(zip(one, two))"
   ]
  },
  {
   "cell_type": "markdown",
   "metadata": {},
   "source": [
    "### How to filter upper case letter only?"
   ]
  },
  {
   "cell_type": "code",
   "execution_count": 76,
   "metadata": {},
   "outputs": [
    {
     "name": "stdout",
     "output_type": "stream",
     "text": [
      "I A R I V R F S P R F R D Q V H C A I D V Q\n"
     ]
    }
   ],
   "source": [
    "st = 'IwAR3tIg1lfxrVa17rxR1yeoF7jSPRFzR3D_17Q3VHz66y7CAIrhDuiyxwVaQ'\n",
    "\n",
    "print(*[i for i in st if i.isupper()])"
   ]
  },
  {
   "cell_type": "code",
   "execution_count": 77,
   "metadata": {},
   "outputs": [
    {
     "name": "stdout",
     "output_type": "stream",
     "text": [
      " 02:02:51 up 2 days,  6:32,  2 users,  load average: 2.39, 1.99, 1.96\r\n"
     ]
    }
   ],
   "source": [
    "!uptime"
   ]
  },
  {
   "cell_type": "markdown",
   "metadata": {},
   "source": [
    "### How to get filesize?"
   ]
  },
  {
   "cell_type": "code",
   "execution_count": 82,
   "metadata": {},
   "outputs": [
    {
     "name": "stdout",
     "output_type": "stream",
     "text": [
      "7.9M /home/mana/Downloads/Python-Docs-Library.pdf\n"
     ]
    }
   ],
   "source": [
    "%%bash\n",
    "\n",
    "ls -1sh /home/mana/Downloads/Python-Docs-Library.pdf"
   ]
  },
  {
   "cell_type": "code",
   "execution_count": 85,
   "metadata": {},
   "outputs": [
    {
     "data": {
      "text/plain": [
       "'7.8M  /home/mana/Downloads/Python-Docs-Library.pdf'"
      ]
     },
     "execution_count": 85,
     "metadata": {},
     "output_type": "execute_result"
    }
   ],
   "source": [
    "from os.path import getsize\n",
    "import bisect\n",
    "\n",
    "#size = [1, 1e+3, 1e+6, 1e+9]\n",
    "size = [1, 2**10, 2**20, 2**30]\n",
    "unit = ['B', 'K', 'M', 'G']\n",
    "\n",
    "\n",
    "def f_size(byte):\n",
    "    index = bisect.bisect(size, byte) - 1\n",
    "    return \"{:.1f}{}  {}\".format(byte/size[index], unit[index], \n",
    "                                 '/home/mana/Downloads/Python-Docs-Library.pdf')\n",
    "\n",
    "f_size(getsize('/home/mana/Downloads/Python-Docs-Library.pdf'))\n"
   ]
  },
  {
   "cell_type": "markdown",
   "metadata": {},
   "source": [
    "### How to convert file.py to file.sh?"
   ]
  },
  {
   "cell_type": "code",
   "execution_count": null,
   "metadata": {},
   "outputs": [],
   "source": [
    "%%bash \n",
    "\n",
    "mv file.py file.sh"
   ]
  },
  {
   "cell_type": "code",
   "execution_count": 90,
   "metadata": {},
   "outputs": [
    {
     "name": "stdout",
     "output_type": "stream",
     "text": [
      "/home/mana/Work/file.sh\n"
     ]
    }
   ],
   "source": [
    "%%python3\n",
    "\n",
    "from pathlib import Path\n",
    "\n",
    "print(Path('/home/mana/Work/file.py').with_suffix('.sh'))"
   ]
  },
  {
   "cell_type": "code",
   "execution_count": null,
   "metadata": {},
   "outputs": [],
   "source": []
  }
 ],
 "metadata": {
  "kernelspec": {
   "display_name": "Python 3",
   "language": "python",
   "name": "python3"
  },
  "language_info": {
   "codemirror_mode": {
    "name": "ipython",
    "version": 3
   },
   "file_extension": ".py",
   "mimetype": "text/x-python",
   "name": "python",
   "nbconvert_exporter": "python",
   "pygments_lexer": "ipython3",
   "version": "3.5.2"
  }
 },
 "nbformat": 4,
 "nbformat_minor": 2
}
