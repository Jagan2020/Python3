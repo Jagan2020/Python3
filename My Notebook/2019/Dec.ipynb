{
 "cells": [
  {
   "cell_type": "markdown",
   "metadata": {},
   "source": [
    "### How to filter particular word?"
   ]
  },
  {
   "cell_type": "code",
   "execution_count": 3,
   "metadata": {},
   "outputs": [
    {
     "data": {
      "text/plain": [
       "['         Serial-number : 4947463783']"
      ]
     },
     "execution_count": 3,
     "metadata": {},
     "output_type": "execute_result"
    }
   ],
   "source": [
    "import re \n",
    "\n",
    "out = '''firmware-version : x.x.x.x\n",
    "         Serial-number : 4947463783\n",
    "         Old-firmware-version : x.x.x.x\n",
    "         '''\n",
    "[i for i in out.splitlines() if re.findall(r'\\d{1,}',i)]"
   ]
  },
  {
   "cell_type": "code",
   "execution_count": 4,
   "metadata": {},
   "outputs": [
    {
     "data": {
      "text/plain": [
       "['          4947463783']"
      ]
     },
     "execution_count": 4,
     "metadata": {},
     "output_type": "execute_result"
    }
   ],
   "source": [
    "import re \n",
    "\n",
    "out = '''firmware-version : x.x.x.x\n",
    "         Serial-number : 4947463783\n",
    "         Old-firmware-version : x.x.x.x\n",
    "         '''\n",
    "[re.sub(r'S.*:','',i) for i in out.splitlines() if re.findall(r'\\d{1,}',i)]"
   ]
  },
  {
   "cell_type": "code",
   "execution_count": 8,
   "metadata": {},
   "outputs": [
    {
     "data": {
      "text/plain": [
       "['firmware-version : x.x.x.x']"
      ]
     },
     "execution_count": 8,
     "metadata": {},
     "output_type": "execute_result"
    }
   ],
   "source": [
    "import re \n",
    "\n",
    "out = '''firmware-version : x.x.x.x\n",
    "         Serial-number : 4947463783\n",
    "         Old-firmware-version : x.x.x.x\n",
    "         '''\n",
    "[i for i in out.splitlines() if re.findall(r'^firmware-version',i)]"
   ]
  },
  {
   "cell_type": "markdown",
   "metadata": {},
   "source": [
    "### How to format the output using zip and iter method?\n",
    "Create table format."
   ]
  },
  {
   "cell_type": "code",
   "execution_count": 1,
   "metadata": {},
   "outputs": [
    {
     "name": "stdout",
     "output_type": "stream",
     "text": [
      "   1    2    3\n",
      "   4    5    6\n",
      "   7    8    9\n"
     ]
    }
   ],
   "source": [
    "lst = [1, 2, 3, 4, 5, 6, 7, 8, 9]\n",
    "\n",
    "for i,j,k in zip(*[iter(lst)] *3):\n",
    "    print('{:4} {:4} {:4}'.format(i, j, k))"
   ]
  },
  {
   "cell_type": "markdown",
   "metadata": {},
   "source": [
    "### How to split a character from string?"
   ]
  },
  {
   "cell_type": "code",
   "execution_count": 3,
   "metadata": {},
   "outputs": [
    {
     "name": "stdout",
     "output_type": "stream",
     "text": [
      "L\n",
      "i\n",
      "n\n",
      "u\n",
      "x\n"
     ]
    }
   ],
   "source": [
    "%%bash\n",
    "\n",
    "text='Linux'\n",
    "echo $text | grep -o '.'"
   ]
  },
  {
   "cell_type": "code",
   "execution_count": 9,
   "metadata": {},
   "outputs": [
    {
     "name": "stdout",
     "output_type": "stream",
     "text": [
      "['L', 'i', 'n', 'u', 'x']\n"
     ]
    }
   ],
   "source": [
    "%%python3\n",
    "\n",
    "text='Linux'\n",
    "print(list(text))"
   ]
  },
  {
   "cell_type": "code",
   "execution_count": 7,
   "metadata": {},
   "outputs": [
    {
     "name": "stdout",
     "output_type": "stream",
     "text": [
      "['L', 'i', 'n', 'u', 'x']\n"
     ]
    }
   ],
   "source": [
    "%%python3\n",
    "\n",
    "import re\n",
    "\n",
    "text='Linux'\n",
    "print(re.findall(r'.',text))"
   ]
  },
  {
   "cell_type": "markdown",
   "metadata": {},
   "source": [
    "### How to convert text file from csv file?"
   ]
  },
  {
   "cell_type": "code",
   "execution_count": 27,
   "metadata": {},
   "outputs": [],
   "source": [
    "from pathlib import Path\n",
    "\n",
    "f = Path('/home/mana/Work/user.csv').read_text().splitlines()\n",
    "fr = [i.replace(',',' ') for i in f]\n",
    "print(*fr, sep = '\\n', file = open('/home/mana/Work/user.txt','w'))"
   ]
  },
  {
   "cell_type": "markdown",
   "metadata": {},
   "source": [
    "### How to remove empty lines in a file?"
   ]
  },
  {
   "cell_type": "code",
   "execution_count": 45,
   "metadata": {},
   "outputs": [
    {
     "name": "stdout",
     "output_type": "stream",
     "text": [
      "daemon x 1 1 daemon /usr/sbin /usr/sbin/nologin\r\n",
      "\r\n",
      "bin x 2 2 bin /bin /usr/sbin/nologin\r\n",
      "sys x 3 3 sys /dev /usr/sbin/nologin\r\n",
      "sync x 4 65534 sync /bin /bin/sync\r\n"
     ]
    }
   ],
   "source": [
    "!cat /home/mana/Work/user.txt"
   ]
  },
  {
   "cell_type": "code",
   "execution_count": null,
   "metadata": {},
   "outputs": [],
   "source": [
    "%%bash\n",
    "\n",
    "sed '/^$/d' /home/mana/Work/user.txt"
   ]
  },
  {
   "cell_type": "code",
   "execution_count": 2,
   "metadata": {},
   "outputs": [],
   "source": [
    "%%python3\n",
    "\n",
    "from pathlib import Path\n",
    "\n",
    "f = Path('/home/mana/Work/user.txt').read_text().splitlines()\n",
    "lr = [i for i in f if i]\n",
    "print(*lr, sep = '\\n', file = open('/home/mana/Work/user1.txt','w'))"
   ]
  },
  {
   "cell_type": "code",
   "execution_count": 47,
   "metadata": {},
   "outputs": [
    {
     "name": "stdout",
     "output_type": "stream",
     "text": [
      "daemon x 1 1 daemon /usr/sbin /usr/sbin/nologin\r\n",
      "bin x 2 2 bin /bin /usr/sbin/nologin\r\n",
      "sys x 3 3 sys /dev /usr/sbin/nologin\r\n",
      "sync x 4 65534 sync /bin /bin/sync\r\n"
     ]
    }
   ],
   "source": [
    "!cat /home/mana/Work/user1.txt"
   ]
  },
  {
   "cell_type": "markdown",
   "metadata": {},
   "source": [
    "### How can I get the days_since_birth return to weeks and days?"
   ]
  },
  {
   "cell_type": "code",
   "execution_count": 97,
   "metadata": {},
   "outputs": [
    {
     "name": "stdout",
     "output_type": "stream",
     "text": [
      "1675 weeks 1 days.\n"
     ]
    }
   ],
   "source": [
    "from datetime import datetime, timedelta\n",
    "\n",
    "date_of_birth = datetime(1987, 11, 4)\n",
    "current_date = datetime.now()\n",
    "da = (current_date - date_of_birth).days\n",
    "print(da//7,'weeks',da%7,'days.')"
   ]
  },
  {
   "cell_type": "markdown",
   "metadata": {},
   "source": [
    "### How to remove duplicate lines in a file?"
   ]
  },
  {
   "cell_type": "code",
   "execution_count": 28,
   "metadata": {},
   "outputs": [
    {
     "name": "stdout",
     "output_type": "stream",
     "text": [
      "Apples and pears.\r\n",
      "Citrus – oranges, grapefruits, mandarins and limes.\r\n",
      "Stone fruit – nectarines, apricots, peaches and plums.\r\n",
      "Tropical and exotic – bananas and mangoes.\r\n",
      "Apples and pears.\r\n",
      "Stone fruit – nectarines, apricots, peaches and plums.\r\n"
     ]
    }
   ],
   "source": [
    "!cat /home/mana/Work/dup.txt"
   ]
  },
  {
   "cell_type": "code",
   "execution_count": 31,
   "metadata": {},
   "outputs": [],
   "source": [
    "from collections import Counter\n",
    "from pathlib import Path\n",
    "\n",
    "p = Path('/home/mana/Work/dup.txt').read_text().splitlines()\n",
    "u = [i for i in Counter(p)]\n",
    "u\n",
    "print(*u, sep = '\\n', file = open('/home/mana/Work/new.txt', 'w'))"
   ]
  },
  {
   "cell_type": "code",
   "execution_count": 32,
   "metadata": {},
   "outputs": [
    {
     "name": "stdout",
     "output_type": "stream",
     "text": [
      "Apples and pears.\r\n",
      "Citrus – oranges, grapefruits, mandarins and limes.\r\n",
      "Stone fruit – nectarines, apricots, peaches and plums.\r\n",
      "Tropical and exotic – bananas and mangoes.\r\n"
     ]
    }
   ],
   "source": [
    "!cat /home/mana/Work/new.txt"
   ]
  },
  {
   "cell_type": "markdown",
   "metadata": {},
   "source": [
    "### How to find that which RAID configure in server?"
   ]
  },
  {
   "cell_type": "code",
   "execution_count": 16,
   "metadata": {},
   "outputs": [
    {
     "data": {
      "text/plain": [
       "'raid5'"
      ]
     },
     "execution_count": 16,
     "metadata": {},
     "output_type": "execute_result"
    }
   ],
   "source": [
    "from pathlib import Path\n",
    "\n",
    "Path('/proc/mdstat').read_text().splitlines()[1].split()[3]"
   ]
  },
  {
   "cell_type": "code",
   "execution_count": 7,
   "metadata": {},
   "outputs": [
    {
     "data": {
      "text/plain": [
       "['raid5']"
      ]
     },
     "execution_count": 7,
     "metadata": {},
     "output_type": "execute_result"
    }
   ],
   "source": [
    "%%python3\n",
    "\n",
    "from pathlib import Path\n",
    "import re\n",
    "\n",
    "P = Path('/proc/mdstat').read_text().splitlines()\n",
    "[i.split()[3] for i in P if re.search(r'active',i)]"
   ]
  },
  {
   "cell_type": "markdown",
   "metadata": {},
   "source": [
    "### How to fetch particular line in a file?"
   ]
  },
  {
   "cell_type": "code",
   "execution_count": 17,
   "metadata": {},
   "outputs": [
    {
     "name": "stdout",
     "output_type": "stream",
     "text": [
      "This is line number 1\r\n",
      "This is line number 2\r\n",
      "This is line number 3\r\n",
      "This is line number 4\r\n",
      "This is line number 5\r\n"
     ]
    }
   ],
   "source": [
    "!cat /home/mana/Work/line.txt"
   ]
  },
  {
   "cell_type": "raw",
   "metadata": {},
   "source": [
    "Now i fetch 3rd line."
   ]
  },
  {
   "cell_type": "code",
   "execution_count": 23,
   "metadata": {},
   "outputs": [
    {
     "name": "stdout",
     "output_type": "stream",
     "text": [
      "This is line number 3\n"
     ]
    }
   ],
   "source": [
    "%%python3\n",
    "\n",
    "from pathlib import Path\n",
    "\n",
    "print(Path('/home/mana/Work/line.txt').read_text().splitlines()[2])"
   ]
  },
  {
   "cell_type": "code",
   "execution_count": 19,
   "metadata": {},
   "outputs": [
    {
     "name": "stdout",
     "output_type": "stream",
     "text": [
      "This is line number 3\n"
     ]
    }
   ],
   "source": [
    "%%bash\n",
    "\n",
    "awk 'NR == 3' /home/mana/Work/line.txt"
   ]
  },
  {
   "cell_type": "code",
   "execution_count": 20,
   "metadata": {},
   "outputs": [
    {
     "name": "stdout",
     "output_type": "stream",
     "text": [
      "This is line number 3\n"
     ]
    }
   ],
   "source": [
    "%%bash\n",
    "\n",
    "sed -n '3p' /home/mana/Work/line.txt"
   ]
  },
  {
   "cell_type": "code",
   "execution_count": 1,
   "metadata": {},
   "outputs": [
    {
     "name": "stdout",
     "output_type": "stream",
     "text": [
      "enter DNA string: TGGTACTCTTTCTTCACAAGGGCGCCGTGTGTG\n",
      "WYSFFTRAPCV\n"
     ]
    }
   ],
   "source": [
    "table = {\n",
    "'ATA':'I', 'ATC':'I', 'ATT':'I', 'ATG':'M',\n",
    "'ACA':'T', 'ACC':'T', 'ACG':'T', 'ACT':'T',\n",
    "'AAC':'N', 'AAT':'N', 'AAA':'K', 'AAG':'K',\n",
    "'AGC':'S', 'AGT':'S', 'AGA':'R', 'AGG':'R',\n",
    "'CTA':'L', 'CTC':'L', 'CTG':'L', 'CTT':'L',\n",
    "'CCA':'P', 'CCC':'P', 'CCG':'P', 'CCT':'P',\n",
    "'CAC':'H', 'CAT':'H', 'CAA':'Q', 'CAG':'Q',\n",
    "'CGA':'R', 'CGC':'R', 'CGG':'R', 'CGT':'R',\n",
    "'GTA':'V', 'GTC':'V', 'GTG':'V', 'GTT':'V',\n",
    "'GCA':'A', 'GCC':'A', 'GCG':'A', 'GCT':'A',\n",
    "'GAC':'D', 'GAT':'D', 'GAA':'E', 'GAG':'E',\n",
    "'GGA':'G', 'GGC':'G', 'GGG':'G', 'GGT':'G',\n",
    "'TCA':'S', 'TCC':'S', 'TCG':'S', 'TCT':'S',\n",
    "'TTC':'F', 'TTT':'F', 'TTA':'L', 'TTG':'L',\n",
    "'TAC':'Y', 'TAT':'Y', 'TAA':'_', 'TAG':'_',\n",
    "'TGC':'C', 'TGT':'C', 'TGA':'_', 'TGG':'W',\n",
    "}\n",
    "seq=input('enter DNA string: ')\n",
    "protein =\"\"\n",
    "if len(seq)%3 == 0:\n",
    "    for i in range(0, len(seq), 3):\n",
    "        codon = seq[i:i + 3]\n",
    "        protein+= table[codon]            \n",
    "        #return protein\n",
    "print(protein)"
   ]
  },
  {
   "cell_type": "markdown",
   "metadata": {},
   "source": [
    "### Translator from DNA to Protein"
   ]
  },
  {
   "cell_type": "raw",
   "metadata": {},
   "source": [
    "The genes in DNA encode protein molecules, which are the \"workhorses\" of the cell, \n",
    "carrying out all the functions necessary for life. For example, enzymes, including \n",
    "those that metabolize nutrients and synthesize new cellular constituents,\n",
    "as well as DNA polymerases and other enzymes that make copies of DNA during \n",
    "cell division, are all proteins."
   ]
  },
  {
   "cell_type": "code",
   "execution_count": 58,
   "metadata": {},
   "outputs": [
    {
     "data": {
      "text/plain": [
       "'WYSFFTRAPCV'"
      ]
     },
     "execution_count": 58,
     "metadata": {},
     "output_type": "execute_result"
    }
   ],
   "source": [
    "import re\n",
    "\n",
    "table = {\n",
    "'ATA':'I', 'ATC':'I', 'ATT':'I', 'ATG':'M',\n",
    "'ACA':'T', 'ACC':'T', 'ACG':'T', 'ACT':'T',\n",
    "'AAC':'N', 'AAT':'N', 'AAA':'K', 'AAG':'K',\n",
    "'AGC':'S', 'AGT':'S', 'AGA':'R', 'AGG':'R',\n",
    "'CTA':'L', 'CTC':'L', 'CTG':'L', 'CTT':'L',\n",
    "'CCA':'P', 'CCC':'P', 'CCG':'P', 'CCT':'P',\n",
    "'CAC':'H', 'CAT':'H', 'CAA':'Q', 'CAG':'Q',\n",
    "'CGA':'R', 'CGC':'R', 'CGG':'R', 'CGT':'R',\n",
    "'GTA':'V', 'GTC':'V', 'GTG':'V', 'GTT':'V',\n",
    "'GCA':'A', 'GCC':'A', 'GCG':'A', 'GCT':'A',\n",
    "'GAC':'D', 'GAT':'D', 'GAA':'E', 'GAG':'E',\n",
    "'GGA':'G', 'GGC':'G', 'GGG':'G', 'GGT':'G',\n",
    "'TCA':'S', 'TCC':'S', 'TCG':'S', 'TCT':'S',\n",
    "'TTC':'F', 'TTT':'F', 'TTA':'L', 'TTG':'L',\n",
    "'TAC':'Y', 'TAT':'Y', 'TAA':'_', 'TAG':'_',\n",
    "'TGC':'C', 'TGT':'C', 'TGA':'_', 'TGG':'W',\n",
    "}\n",
    "DNA_string = 'TGGTACTCTTTCTTCACAAGGGCGCCGTGTGTG'\n",
    "\n",
    "''.join([table[i] for i in re.findall(r'...',DNA_string)])"
   ]
  },
  {
   "cell_type": "raw",
   "metadata": {},
   "source": [
    "l=[('girls','4'),('boys','5'),('girls','10')]\n",
    "o/p:[{'girls': 14}, {'boys': 5}]"
   ]
  },
  {
   "cell_type": "code",
   "execution_count": 37,
   "metadata": {},
   "outputs": [
    {
     "data": {
      "text/plain": [
       "[{'girls': 14}, {'boys': 5}]"
      ]
     },
     "execution_count": 37,
     "metadata": {},
     "output_type": "execute_result"
    }
   ],
   "source": [
    "l=[('girls','4'),('boys','5'),('girls','10')]\n",
    "age = {}\n",
    "for x,y in l:\n",
    "    age.setdefault(x,[]).append(int(y))\n",
    "[{j:sum(age[j])} for j in age]"
   ]
  },
  {
   "cell_type": "markdown",
   "metadata": {},
   "source": [
    "### How to fetch .txt files only?"
   ]
  },
  {
   "cell_type": "raw",
   "metadata": {},
   "source": [
    "Bash"
   ]
  },
  {
   "cell_type": "code",
   "execution_count": 56,
   "metadata": {},
   "outputs": [
    {
     "name": "stdout",
     "output_type": "stream",
     "text": [
      "/home/mana/Work/dup.txt\r\n",
      "/home/mana/Work/fruit1.txt\r\n",
      "/home/mana/Work/fruit2.txt\r\n",
      "/home/mana/Work/line.txt\r\n",
      "/home/mana/Work/new.txt\r\n",
      "/home/mana/Work/user1.txt\r\n",
      "/home/mana/Work/user.txt\r\n"
     ]
    }
   ],
   "source": [
    "!ls -1 /home/mana/Work/*.txt"
   ]
  },
  {
   "cell_type": "raw",
   "metadata": {},
   "source": [
    "Python3"
   ]
  },
  {
   "cell_type": "code",
   "execution_count": 54,
   "metadata": {},
   "outputs": [
    {
     "data": {
      "text/plain": [
       "[PosixPath('/home/mana/Work/fruit1.txt'),\n",
       " PosixPath('/home/mana/Work/fruit2.txt'),\n",
       " PosixPath('/home/mana/Work/user.txt'),\n",
       " PosixPath('/home/mana/Work/user1.txt'),\n",
       " PosixPath('/home/mana/Work/dup.txt'),\n",
       " PosixPath('/home/mana/Work/new.txt'),\n",
       " PosixPath('/home/mana/Work/line.txt')]"
      ]
     },
     "execution_count": 54,
     "metadata": {},
     "output_type": "execute_result"
    }
   ],
   "source": [
    "from pathlib import Path\n",
    "\n",
    "[*Path('/home/mana/Work').glob('*.txt')]"
   ]
  },
  {
   "cell_type": "markdown",
   "metadata": {},
   "source": [
    "### How to print output in beautiful table format?"
   ]
  },
  {
   "cell_type": "code",
   "execution_count": 3,
   "metadata": {},
   "outputs": [
    {
     "name": "stdout",
     "output_type": "stream",
     "text": [
      "one  |  Two  |  Three\n",
      "=====================\n",
      "1    |  2    |  3\n",
      "4    |  5    |  6\n",
      "7    |  8    |  9\n"
     ]
    }
   ],
   "source": [
    "%%bash\n",
    "\n",
    "len=$(echo -e 'one Two Three\\n1 2 3\\n4 5 6' | sed 's/ /,|,/g' \\\n",
    "| column -s ',' -t | awk 'NR == 1 {print length}')\n",
    "\n",
    "echo -e 'one Two Three\\n1 2 3\\n4 5 6\\n7 8 9' | sed 's/ /,|,/g' | \\\n",
    "column -s ',' -t | sed \"1 a $(printf \"%${len}s\\n\" | tr \" \" \"=\")\""
   ]
  },
  {
   "cell_type": "markdown",
   "metadata": {},
   "source": [
    "### How to open image file?"
   ]
  },
  {
   "cell_type": "code",
   "execution_count": 29,
   "metadata": {},
   "outputs": [
    {
     "data": {
      "image/png": "[encoded data removed]",
      "text/plain": [
       "<PIL.PngImagePlugin.PngImageFile image mode=RGBA size=560x422 at 0x7FA5E409F4E0>"
      ]
     },
     "execution_count": 29,
     "metadata": {},
     "output_type": "execute_result"
    }
   ],
   "source": [
    "from PIL import Image\n",
    "\n",
    "Image.open('/home/mana/Work/ubuntu.png')"
   ]
  },
  {
   "cell_type": "markdown",
   "metadata": {},
   "source": [
    "### How to open textfile?"
   ]
  },
  {
   "cell_type": "code",
   "execution_count": 35,
   "metadata": {},
   "outputs": [
    {
     "name": "stdout",
     "output_type": "stream",
     "text": [
      "Apples and pears.\n",
      "Citrus – oranges, grapefruits, mandarins and limes.\n",
      "Stone fruit – nectarines, apricots, peaches and plums.\n",
      "Tropical and exotic – bananas and\n",
      "Berries – strawberries, blueberries, kiwifruit and passionfruit.\n",
      "\n"
     ]
    }
   ],
   "source": [
    "%%bash\n",
    "\n",
    "cat /home/mana/Work/fruit2.txt"
   ]
  },
  {
   "cell_type": "code",
   "execution_count": 36,
   "metadata": {},
   "outputs": [
    {
     "name": "stdout",
     "output_type": "stream",
     "text": [
      "Apples and pears.\n",
      "Citrus – oranges, grapefruits, mandarins and limes.\n",
      "Stone fruit – nectarines, apricots, peaches and plums.\n",
      "Tropical and exotic – bananas and\n",
      "Berries – strawberries, blueberries, kiwifruit and passionfruit.\n",
      "\n"
     ]
    }
   ],
   "source": [
    "%%python3\n",
    "\n",
    "from pathlib import Path\n",
    "\n",
    "opn = Path('/home/mana/Work/fruit2.txt').read_text().splitlines()\n",
    "print(*opn,sep = '\\n')"
   ]
  },
  {
   "cell_type": "markdown",
   "metadata": {},
   "source": [
    "### Get number closest to a given value"
   ]
  },
  {
   "cell_type": "raw",
   "metadata": {},
   "source": [
    "Python:\n",
    "I have a dictionary in the following manner:\n",
    "dica={0:[10],1:[20],2:[30]}\n",
    "\n",
    "And a list like:\n",
    "lista=[16,11,24,25]\n",
    "\n",
    "I want to append numbers in my list to the dictionary whose values is close to the numbers in the given list.\n",
    "For Example: 16 is close to 20 so my dict will after appending will look like 1:[16,20], similarly for 24, 1:[20,24]\n",
    "\n",
    "My final dica should look something like this:\n",
    "dica={0:[10,11],1:[16,20,24],2:[25,30]}"
   ]
  },
  {
   "cell_type": "code",
   "execution_count": 126,
   "metadata": {},
   "outputs": [
    {
     "data": {
      "text/plain": [
       "20"
      ]
     },
     "execution_count": 126,
     "metadata": {},
     "output_type": "execute_result"
    }
   ],
   "source": [
    "num = [0, 10, 20, 30]\n",
    "min(num, key=lambda x:abs(x-22))\n"
   ]
  },
  {
   "cell_type": "code",
   "execution_count": 123,
   "metadata": {},
   "outputs": [
    {
     "data": {
      "text/plain": [
       "30"
      ]
     },
     "execution_count": 123,
     "metadata": {},
     "output_type": "execute_result"
    }
   ],
   "source": [
    "dica={0:[10],1:[20],2:[30]}\n",
    "dic = sum(dica.values(),[])\n",
    "min(dic, key=lambda x:abs(x-26))"
   ]
  },
  {
   "cell_type": "code",
   "execution_count": 16,
   "metadata": {},
   "outputs": [
    {
     "data": {
      "text/plain": [
       "{0: [10, 11], 1: [20, 16, 24], 2: [30, 25]}"
      ]
     },
     "execution_count": 16,
     "metadata": {},
     "output_type": "execute_result"
    }
   ],
   "source": [
    "dica={0:[10],1:[20],2:[30]}\n",
    "lista=[16,11,24,25]\n",
    "dic = sum(dica.values(),[])\n",
    "\n",
    "def fn(*args):\n",
    "    for i in args:\n",
    "        for x,y in dica.items():\n",
    "            v = min(dic, key=lambda x:abs(x-i-1))\n",
    "            r = dica[x]\n",
    "            if r[0] == v:\n",
    "                dica.setdefault(x,[]).append(i)\n",
    "fn(*lista)\n",
    "dica"
   ]
  },
  {
   "cell_type": "code",
   "execution_count": 17,
   "metadata": {},
   "outputs": [
    {
     "name": "stdout",
     "output_type": "stream",
     "text": [
      "{0: [10, 15, 11], 1: [20, 16, 24], 2: [30, 25]}\n"
     ]
    }
   ],
   "source": [
    "dica={0:[10,15],1:[20],2:[30]}\n",
    "lista=[16,11,24,25]\n",
    "temp_dict = {v[0]:k for k,v in dica.items()}\n",
    "for num in lista:\n",
    "    dica[temp_dict[min(temp_dict, key=lambda x:abs(x-num-1))]].append(num)\n",
    "print(dica)"
   ]
  },
  {
   "cell_type": "code",
   "execution_count": 27,
   "metadata": {},
   "outputs": [
    {
     "name": "stdout",
     "output_type": "stream",
     "text": [
      "{0: [10, 12, 11], 1: [20, 16, 24], 2: [30, 25]}\n"
     ]
    }
   ],
   "source": [
    "lista=[16,11,24,25]\n",
    "dica={0:[10,12],1:[20],2:[30]}\n",
    "k=[dica[k][0] for k in dica]\n",
    "fa=lambda num: [abs(x-num-1) for x in k]\n",
    "fb=lambda z: z.index(min(z))\n",
    "for num in lista: dica[fb(fa(num))].append(num)\n",
    "print(dica)"
   ]
  },
  {
   "cell_type": "markdown",
   "metadata": {},
   "source": [
    "### How to fetch range of lines?"
   ]
  },
  {
   "cell_type": "raw",
   "metadata": {},
   "source": [
    "Here i fetch from 3rd line to 5th line."
   ]
  },
  {
   "cell_type": "code",
   "execution_count": 9,
   "metadata": {},
   "outputs": [
    {
     "name": "stdout",
     "output_type": "stream",
     "text": [
      "This is line number 1\r\n",
      "This is line number 2\r\n",
      "This is line number 3\r\n",
      "This is line number 4\r\n",
      "This is line number 5\r\n",
      "This is line number 6\r\n",
      "This is line number 7\r\n"
     ]
    }
   ],
   "source": [
    "!cat /home/mana/Work/line.txt"
   ]
  },
  {
   "cell_type": "code",
   "execution_count": 11,
   "metadata": {},
   "outputs": [
    {
     "name": "stdout",
     "output_type": "stream",
     "text": [
      "This is line number 3\n",
      "This is line number 4\n",
      "This is line number 5\n"
     ]
    }
   ],
   "source": [
    "%%bash \n",
    "\n",
    "sed -n '3,5p' /home/mana/Work/line.txt"
   ]
  },
  {
   "cell_type": "code",
   "execution_count": 12,
   "metadata": {},
   "outputs": [
    {
     "name": "stdout",
     "output_type": "stream",
     "text": [
      "This is line number 3\n",
      "This is line number 4\n",
      "This is line number 5\n"
     ]
    }
   ],
   "source": [
    "%%python3\n",
    "\n",
    "from pathlib import Path\n",
    "\n",
    "print(*Path('/home/mana/Work/line.txt').read_text().splitlines()[2:5],\n",
    "     sep = '\\n')"
   ]
  },
  {
   "cell_type": "code",
   "execution_count": 13,
   "metadata": {},
   "outputs": [
    {
     "name": "stdout",
     "output_type": "stream",
     "text": [
      "daemon,x,1,1,daemon,/usr/sbin,/usr/sbin/nologin\r\n",
      "bin,x,2,2,bin,/bin,/usr/sbin/nologin\r\n",
      "sys,x,3,3,sys,/dev,/usr/sbin/nologin\r\n",
      "sync,x,4,65534,sync,/bin,/bin/sync\r\n"
     ]
    }
   ],
   "source": [
    "!cat /home/mana/Work/user.csv"
   ]
  },
  {
   "cell_type": "code",
   "execution_count": 44,
   "metadata": {},
   "outputs": [],
   "source": [
    "from pathlib import Path\n",
    "\n",
    "lines = Path('/home/mana/Work/user.csv').read_text().splitlines()\n"
   ]
  },
  {
   "cell_type": "code",
   "execution_count": 45,
   "metadata": {},
   "outputs": [
    {
     "name": "stdout",
     "output_type": "stream",
     "text": [
      "daemon,x,1,1,daemon,/usr/sbin,/usr/sbin/nologin\r\n",
      "bin,x,2,2,bin,/bin,/usr/sbin/nologin\r\n",
      "smd,x,3,3,smd,/dev,/usr/sbin/nologin\r\n",
      "sync,x,4,65534,sync,/bin,/bin/sync\r\n"
     ]
    }
   ],
   "source": [
    "!cat /home/mana/Work/user_out.csv"
   ]
  },
  {
   "cell_type": "markdown",
   "metadata": {},
   "source": [
    "### Ranges"
   ]
  },
  {
   "cell_type": "code",
   "execution_count": 61,
   "metadata": {},
   "outputs": [
    {
     "name": "stdout",
     "output_type": "stream",
     "text": [
      "Welcome 1\n",
      "Welcome 2\n",
      "Welcome 3\n"
     ]
    }
   ],
   "source": [
    "%%bash\n",
    "for i in {1..3}; do\n",
    "    echo \"Welcome $i\"\n",
    "done"
   ]
  },
  {
   "cell_type": "code",
   "execution_count": 60,
   "metadata": {},
   "outputs": [
    {
     "name": "stdout",
     "output_type": "stream",
     "text": [
      "Welcome 1\n",
      "Welcome 2\n",
      "Welcome 3\n"
     ]
    }
   ],
   "source": [
    "%%python3\n",
    "for i in range(1,4):\n",
    "    print('Welcome',i)"
   ]
  },
  {
   "cell_type": "code",
   "execution_count": 49,
   "metadata": {},
   "outputs": [
    {
     "name": "stdout",
     "output_type": "stream",
     "text": [
      "Welcome 5\n",
      "Welcome 10\n",
      "Welcome 15\n"
     ]
    }
   ],
   "source": [
    "%%bash\n",
    "for i in {5..15..5}; do\n",
    "    echo \"Welcome $i\"\n",
    "done"
   ]
  },
  {
   "cell_type": "code",
   "execution_count": 58,
   "metadata": {},
   "outputs": [
    {
     "name": "stdout",
     "output_type": "stream",
     "text": [
      "Welcome 5\n",
      "Welcome 10\n",
      "Welcome 15\n"
     ]
    }
   ],
   "source": [
    "%%python3\n",
    "for i in range(5,20,5):\n",
    "    print('Welcome',i)"
   ]
  },
  {
   "cell_type": "markdown",
   "metadata": {},
   "source": [
    "### How to find Mother Board name?"
   ]
  },
  {
   "cell_type": "code",
   "execution_count": 1,
   "metadata": {},
   "outputs": [
    {
     "name": "stdout",
     "output_type": "stream",
     "text": [
      " G41 Series\n"
     ]
    }
   ],
   "source": [
    "from pathlib import Path\n",
    "import re\n",
    "\n",
    "path = Path('/sys/class/dmi/id')\n",
    "boa = [bd for bd in path.iterdir() if re.search(r'board_(ven|nam)',str(bd))]\n",
    "board = [rb.read_text().strip() for rb in boa]\n",
    "print(*board)"
   ]
  },
  {
   "cell_type": "markdown",
   "metadata": {},
   "source": [
    "### What is output of this Program?"
   ]
  },
  {
   "cell_type": "code",
   "execution_count": null,
   "metadata": {},
   "outputs": [],
   "source": [
    "[chr(j) for j in range(65,69)]"
   ]
  },
  {
   "cell_type": "raw",
   "metadata": {},
   "source": [
    "1. [65, 66, 67, 68]\n",
    "2. ['A', 'B', 'C', 'D']\n",
    "3. ['65', '66', '67', '68']\n",
    "4. ['ABCD']"
   ]
  },
  {
   "cell_type": "markdown",
   "metadata": {},
   "source": [
    "### How to check whether file or Directory?"
   ]
  },
  {
   "cell_type": "code",
   "execution_count": 23,
   "metadata": {},
   "outputs": [
    {
     "name": "stdout",
     "output_type": "stream",
     "text": [
      "tintin.png is a File.\n",
      "Wallpapers is a Directory.\n"
     ]
    }
   ],
   "source": [
    "%%bash\n",
    "\n",
    "for i in $(ls -1 /home/mana/Pictures); do\n",
    "if [ -d /home/mana/Pictures/$i ]; then\n",
    "echo \"$i is a Directory.\"\n",
    "else\n",
    "echo \"$i is a File.\"\n",
    "fi\n",
    "done"
   ]
  },
  {
   "cell_type": "code",
   "execution_count": 26,
   "metadata": {},
   "outputs": [
    {
     "name": "stdout",
     "output_type": "stream",
     "text": [
      "Wallpapers is a Directory.\n",
      "tintin.png is a File.\n"
     ]
    }
   ],
   "source": [
    "%%python3\n",
    "\n",
    "from pathlib import Path\n",
    "\n",
    "P = Path('/home/mana/Pictures')\n",
    "for i in P.iterdir():\n",
    "    if i.is_dir():\n",
    "        print(i.name,'is a Directory.')\n",
    "    else:\n",
    "         print(i.name,'is a File.')"
   ]
  },
  {
   "cell_type": "markdown",
   "metadata": {},
   "source": [
    "### How to read particular colum in csv file?"
   ]
  },
  {
   "cell_type": "code",
   "execution_count": 27,
   "metadata": {},
   "outputs": [
    {
     "name": "stdout",
     "output_type": "stream",
     "text": [
      "daemon,x,1,1,daemon,/usr/sbin,/usr/sbin/nologin\r\n",
      "bin,x,2,2,bin,/bin,/usr/sbin/nologin\r\n",
      "sys,x,3,3,sys,/dev,/usr/sbin/nologin\r\n",
      "sync,x,4,65534,sync,/bin,/bin/sync\r\n"
     ]
    }
   ],
   "source": [
    "!cat /home/mana/Work/user.csv"
   ]
  },
  {
   "cell_type": "raw",
   "metadata": {},
   "source": [
    "Here i read 4th column without pandas"
   ]
  },
  {
   "cell_type": "code",
   "execution_count": 32,
   "metadata": {},
   "outputs": [
    {
     "name": "stdout",
     "output_type": "stream",
     "text": [
      "daemon\n",
      "bin\n",
      "sys\n",
      "sync\n"
     ]
    }
   ],
   "source": [
    "from pathlib import Path\n",
    "\n",
    "Pa = Path('/home/mana/Work/user.csv').read_text().splitlines()\n",
    "print(*[i.split(',')[4] for i in Pa ], sep = '\\n')"
   ]
  },
  {
   "cell_type": "markdown",
   "metadata": {},
   "source": [
    "### How to split list of lists of words into the list of list of characters?\n"
   ]
  },
  {
   "cell_type": "code",
   "execution_count": 4,
   "metadata": {},
   "outputs": [
    {
     "data": {
      "text/plain": [
       "[['o', 't', 'o', 't', 'o', 't'],\n",
       " ['t', 'o', 't', 'o', 't', 'o'],\n",
       " ['t', 't', 'o', 'o', 't', 't'],\n",
       " ['o', 't', 't', 'o', 't', 't']]"
      ]
     },
     "execution_count": 4,
     "metadata": {},
     "output_type": "execute_result"
    }
   ],
   "source": [
    "list_of_l= [['ototot'], ['tototo'], ['ttoott'], ['ottott']]\n",
    "[list(i[0]) for i in list_of_l]"
   ]
  },
  {
   "cell_type": "markdown",
   "metadata": {},
   "source": [
    "### How to generate Secure password?"
   ]
  },
  {
   "cell_type": "code",
   "execution_count": 44,
   "metadata": {},
   "outputs": [
    {
     "name": "stdout",
     "output_type": "stream",
     "text": [
      "Your Secure Password:  ufagSb#5\n"
     ]
    }
   ],
   "source": [
    "from string import ascii_letters,digits\n",
    "from random import choices\n",
    "import re\n",
    "\n",
    "c = ascii_letters+digits+'#$%&*+-@*?:'\n",
    "passwds = [''.join(choices(c,k=8)) for i in range(10)]\n",
    "rgx = ['\\W', '[a-z]', '[A-Z]', '\\d']\n",
    "for i in passwds:\n",
    "    x = len([*filter(lambda x: re.search(r''+x+'',i), rgx)])\n",
    "    if x == 4:\n",
    "        print('Your Secure Password: ',i)\n",
    "        break"
   ]
  },
  {
   "cell_type": "markdown",
   "metadata": {},
   "source": [
    "### How to get this output?\n",
    "\n",
    "'S1000E1'"
   ]
  },
  {
   "cell_type": "code",
   "execution_count": 40,
   "metadata": {},
   "outputs": [
    {
     "data": {
      "text/plain": [
       "'S1000E1'"
      ]
     },
     "execution_count": 40,
     "metadata": {},
     "output_type": "execute_result"
    }
   ],
   "source": [
    "st = 'S-1000-1E'\n",
    "s = st.split('-')\n",
    "s1,s2 = s[:2],s[2]\n",
    "''.join(sum((s1,[s2[::-1]]),[]))"
   ]
  },
  {
   "cell_type": "markdown",
   "metadata": {},
   "source": [
    "### How to calculate Linux Server Uptime using Python?"
   ]
  },
  {
   "cell_type": "code",
   "execution_count": 36,
   "metadata": {},
   "outputs": [
    {
     "name": "stdout",
     "output_type": "stream",
     "text": [
      "up 3 days, 18 hours, 14 minutes\r\n"
     ]
    }
   ],
   "source": [
    "!uptime -p"
   ]
  },
  {
   "cell_type": "code",
   "execution_count": 37,
   "metadata": {},
   "outputs": [
    {
     "name": "stdout",
     "output_type": "stream",
     "text": [
      "3 days, 18:14\n"
     ]
    }
   ],
   "source": [
    "from pathlib import Path as Pa\n",
    "from datetime import timedelta\n",
    "\n",
    "u = Pa('/proc/uptime').read_text().split()[0]\n",
    "t = timedelta(seconds = float(u))\n",
    "print(str(t).rpartition(':')[0])"
   ]
  },
  {
   "cell_type": "markdown",
   "metadata": {},
   "source": [
    "### How to alter Forward and Reverse  the string?"
   ]
  },
  {
   "cell_type": "code",
   "execution_count": 13,
   "metadata": {},
   "outputs": [
    {
     "name": "stdout",
     "output_type": "stream",
     "text": [
      "\n",
      "P\n",
      "Py\n",
      "Pyt\n",
      "Pyth\n",
      "Pytho\n",
      "Python\n",
      "Python\n",
      "Pytho\n",
      "Pyth\n",
      "Pyt\n",
      "Py\n",
      "P\n",
      "\n"
     ]
    }
   ],
   "source": [
    "st = 'Python'\n",
    "fdir = [st[0:i] for i in range(len(st)+1)]\n",
    "print(*(fdir+fdir[::-1]), sep = '\\n')"
   ]
  },
  {
   "cell_type": "markdown",
   "metadata": {},
   "source": [
    "### How to fetch ip address only from /etc/hosts file?"
   ]
  },
  {
   "cell_type": "code",
   "execution_count": 14,
   "metadata": {},
   "outputs": [
    {
     "name": "stdout",
     "output_type": "stream",
     "text": [
      "127.0.0.1\n",
      "127.0.1.1\n",
      "::1\n",
      "fe00::0\n",
      "ff00::0\n",
      "ff02::1\n",
      "ff02::2\n"
     ]
    }
   ],
   "source": [
    "%%bash\n",
    "\n",
    "awk '!/#/ && !/^$/{print $1}' /etc/hosts"
   ]
  },
  {
   "cell_type": "code",
   "execution_count": 21,
   "metadata": {},
   "outputs": [
    {
     "name": "stdout",
     "output_type": "stream",
     "text": [
      "127.0.0.1\n",
      "127.0.1.1\n",
      "::1\n",
      "fe00::0\n",
      "ff00::0\n",
      "ff02::1\n",
      "ff02::2\n"
     ]
    }
   ],
   "source": [
    "%%python3\n",
    "\n",
    "from pathlib import Path\n",
    "\n",
    "file = Path('/etc/hosts').read_text().splitlines()\n",
    "ip_filter = [ip.split()[0] for ip in file if '#' not in ip and ip]\n",
    "print(*ip_filter, sep = '\\n')"
   ]
  },
  {
   "cell_type": "markdown",
   "metadata": {},
   "source": [
    "### How to check website up or down?"
   ]
  },
  {
   "cell_type": "code",
   "execution_count": 28,
   "metadata": {},
   "outputs": [
    {
     "name": "stdout",
     "output_type": "stream",
     "text": [
      "google.com-->host Up\n",
      "facebook.com-->host Up\n",
      "twitter.com-->host Up\n",
      "tamilrockers.ca-->host down\n"
     ]
    }
   ],
   "source": [
    "%%bash\n",
    "\n",
    "while read name\n",
    "do \n",
    "echo -n \"$name-->\"\n",
    "(curl -Is $name | grep -i \"location\" &> /dev/null) && echo \"host Up\" || echo \"host down\" \n",
    "done < /home/mana/Work/nodes.txt"
   ]
  },
  {
   "cell_type": "markdown",
   "metadata": {},
   "source": [
    "### How to put line number in front of each line?"
   ]
  },
  {
   "cell_type": "code",
   "execution_count": 33,
   "metadata": {},
   "outputs": [
    {
     "name": "stdout",
     "output_type": "stream",
     "text": [
      "Apples and pears.\r\n",
      "Citrus – oranges, grapefruits, mandarins and limes.\r\n",
      "Stone fruit – nectarines, apricots, peaches and plums.\r\n",
      "Tropical and exotic – bananas and mangoes.\r\n"
     ]
    }
   ],
   "source": [
    "!cat /home/mana/Work/dup.txt"
   ]
  },
  {
   "cell_type": "code",
   "execution_count": 34,
   "metadata": {},
   "outputs": [
    {
     "name": "stdout",
     "output_type": "stream",
     "text": [
      "     1\tApples and pears.\n",
      "     2\tCitrus – oranges, grapefruits, mandarins and limes.\n",
      "     3\tStone fruit – nectarines, apricots, peaches and plums.\n",
      "     4\tTropical and exotic – bananas and mangoes.\n"
     ]
    }
   ],
   "source": [
    "%%bash\n",
    "\n",
    "cat -n /home/mana/Work/dup.txt"
   ]
  },
  {
   "cell_type": "code",
   "execution_count": 35,
   "metadata": {},
   "outputs": [
    {
     "name": "stdout",
     "output_type": "stream",
     "text": [
      "1 Apples and pears.\n",
      "2 Citrus – oranges, grapefruits, mandarins and limes.\n",
      "3 Stone fruit – nectarines, apricots, peaches and plums.\n",
      "4 Tropical and exotic – bananas and mangoes.\n"
     ]
    }
   ],
   "source": [
    "%%python3\n",
    "\n",
    "from pathlib import Path\n",
    "\n",
    "file = Path('/home/mana/Work/dup.txt').read_text().splitlines()\n",
    "for x,y in enumerate(file,1):\n",
    "    print(x, y)"
   ]
  },
  {
   "cell_type": "markdown",
   "metadata": {},
   "source": [
    "### How to remove special characters from string?"
   ]
  },
  {
   "cell_type": "code",
   "execution_count": 81,
   "metadata": {},
   "outputs": [
    {
     "name": "stdout",
     "output_type": "stream",
     "text": [
      "Python"
     ]
    }
   ],
   "source": [
    "%%bash\n",
    "\n",
    "echo 'P*&y_t-*h$%o@n+' | grep -o  '[a-zA-Z]' | tr -d '\\n'"
   ]
  },
  {
   "cell_type": "code",
   "execution_count": 107,
   "metadata": {},
   "outputs": [
    {
     "name": "stdout",
     "output_type": "stream",
     "text": [
      "Python\n"
     ]
    }
   ],
   "source": [
    "%%python3\n",
    "\n",
    "import re\n",
    "\n",
    "mystring = 'P*&y_t-*h$%o@n+'\n",
    "print(''.join(re.findall(r'[a-zA-Z]',mystring)))"
   ]
  },
  {
   "cell_type": "code",
   "execution_count": 76,
   "metadata": {},
   "outputs": [
    {
     "name": "stdout",
     "output_type": "stream",
     "text": [
      "Python\n"
     ]
    }
   ],
   "source": [
    "%%python3\n",
    "#Method: 1\n",
    "import re\n",
    "\n",
    "mystring = 'P*&y_t-*h$%o@n+'\n",
    "letters = [i for i in mystring if re.match(r'[a-zA-Z]',i)]\n",
    "print(''.join(letters))"
   ]
  },
  {
   "cell_type": "code",
   "execution_count": 75,
   "metadata": {},
   "outputs": [
    {
     "name": "stdout",
     "output_type": "stream",
     "text": [
      "Python\n"
     ]
    }
   ],
   "source": [
    "%%python3\n",
    "#Method: 2\n",
    "from string import punctuation\n",
    "\n",
    "mystring = 'P*&y_t-*h$%o@n+'\n",
    "letters = [i for i in mystring if i not in punctuation]\n",
    "print(''.join(letters))"
   ]
  },
  {
   "cell_type": "markdown",
   "metadata": {},
   "source": [
    "### How to check if two indexes have any common values?"
   ]
  },
  {
   "cell_type": "code",
   "execution_count": 103,
   "metadata": {},
   "outputs": [
    {
     "name": "stdout",
     "output_type": "stream",
     "text": [
      "'u' have common values into two indexs.\n"
     ]
    }
   ],
   "source": [
    "from collections import Counter\n",
    "idx = [5, 'u', '8', 9, 's', 187, 'v','u', 890]\n",
    "for x,y in Counter(idx).items():\n",
    "    if y > 1:\n",
    "        print(repr(x), 'have common values into two indexs.')"
   ]
  },
  {
   "cell_type": "code",
   "execution_count": 1,
   "metadata": {},
   "outputs": [
    {
     "name": "stdout",
     "output_type": "stream",
     "text": [
      "daemon x 1 1 daemon /usr/sbin /usr/sbin/nologin\r\n",
      "\r\n",
      "bin x 2 2 bin /bin /usr/sbin/nologin \r\n",
      "sys x 3 3 sys /dev /usr/sbin/nologin \r\n",
      "sync x 4 65534 sync /bin /bin/sync \r\n"
     ]
    }
   ],
   "source": [
    "!cat /home/mana/Work/user.txt"
   ]
  },
  {
   "cell_type": "code",
   "execution_count": 2,
   "metadata": {},
   "outputs": [
    {
     "data": {
      "text/plain": [
       "['daemon x 1 1 daemon /usr/sbin /usr/sbin/nologin',\n",
       " '',\n",
       " 'bin x 2 2 bin /bin /usr/sbin/nologin ',\n",
       " 'sys x 3 3 sys /dev /usr/sbin/nologin ']"
      ]
     },
     "execution_count": 2,
     "metadata": {},
     "output_type": "execute_result"
    }
   ],
   "source": [
    "from pathlib import Path\n",
    "\n",
    "p = Path('/home/mana/Work/user.txt').read_text().splitlines()[:4]\n",
    "p"
   ]
  },
  {
   "cell_type": "code",
   "execution_count": 4,
   "metadata": {},
   "outputs": [
    {
     "name": "stdout",
     "output_type": "stream",
     "text": [
      "daemon x 1 1 daemon /usr/sbin /usr/sbin/nologin\n",
      "\n",
      "bin x 2 2 bin /bin /usr/sbin/nologin \n",
      "sys x 3 3 sys /dev /usr/sbin/nologin \n"
     ]
    }
   ],
   "source": [
    "from pathlib import Path\n",
    "\n",
    "p = Path('/home/mana/Work/user.txt').read_text().splitlines()[:4]\n",
    "print(*p, sep = '\\n')"
   ]
  },
  {
   "cell_type": "markdown",
   "metadata": {},
   "source": [
    "###  How to export a csv format to xlsx?"
   ]
  },
  {
   "cell_type": "code",
   "execution_count": 2,
   "metadata": {},
   "outputs": [],
   "source": [
    "from pathlib import Path\n",
    "\n",
    "P = Path('/home/mana/Work/user.csv').read_text().splitlines()\n",
    "print(*P, sep = '\\n', file = open('/home/mana/Work/user.xlsx','w'))"
   ]
  },
  {
   "cell_type": "markdown",
   "metadata": {},
   "source": [
    "### Draw pattern 'V'"
   ]
  },
  {
   "cell_type": "code",
   "execution_count": 84,
   "metadata": {},
   "outputs": [
    {
     "name": "stdout",
     "output_type": "stream",
     "text": [
      "v              v\n",
      " v            v\n",
      "  v          v\n",
      "   v        v\n",
      "    v      v\n",
      "     v    v\n",
      "      v  v\n",
      "       vv\n"
     ]
    }
   ],
   "source": [
    "s = 'v'*16\n",
    "ln = len(s)\n",
    "space = ln - 2\n",
    "lastpos = ln - 1\n",
    "size = ln//2 if ln  % 2 == 0 else ln//2+1\n",
    "\n",
    "for i in range(size):\n",
    "    if i == lastpos:\n",
    "        print(' '*i+s[i])\n",
    "    else:\n",
    "        print(' '*i+s[i]+' '*space+s[lastpos])\n",
    "    lastpos -= 1\n",
    "    space -= 2\n"
   ]
  },
  {
   "cell_type": "raw",
   "metadata": {},
   "source": [
    "Default if all condition expression are true except None and 0."
   ]
  },
  {
   "cell_type": "code",
   "execution_count": 89,
   "metadata": {},
   "outputs": [
    {
     "name": "stdout",
     "output_type": "stream",
     "text": [
      "exist\n"
     ]
    }
   ],
   "source": [
    "if 'o':\n",
    "    print('exist')\n",
    "else:\n",
    "    print('Dose not exist.')"
   ]
  },
  {
   "cell_type": "raw",
   "metadata": {},
   "source": [
    "This is wrong way"
   ]
  },
  {
   "cell_type": "code",
   "execution_count": 87,
   "metadata": {},
   "outputs": [
    {
     "name": "stdout",
     "output_type": "stream",
     "text": [
      "exist\n"
     ]
    }
   ],
   "source": [
    "name = 'tersa'\n",
    "if 'o' and 'r' in name:\n",
    "    print('exist')\n",
    "else:\n",
    "    print('Dose not exist.')"
   ]
  },
  {
   "cell_type": "raw",
   "metadata": {},
   "source": [
    "Correct way"
   ]
  },
  {
   "cell_type": "code",
   "execution_count": 88,
   "metadata": {},
   "outputs": [
    {
     "name": "stdout",
     "output_type": "stream",
     "text": [
      "Dose not exist.\n"
     ]
    }
   ],
   "source": [
    "name = 'tersa'\n",
    "if 'o' in name and 'r' in name:\n",
    "    print('exist')\n",
    "else:\n",
    "    print('Dose not exist.')"
   ]
  },
  {
   "cell_type": "markdown",
   "metadata": {},
   "source": [
    "### Happy Christmas "
   ]
  },
  {
   "cell_type": "code",
   "execution_count": 39,
   "metadata": {},
   "outputs": [
    {
     "name": "stdout",
     "output_type": "stream",
     "text": [
      "           *           \n",
      "          ***          \n",
      "         *****         \n",
      "        *******        \n",
      "       *********       \n",
      "      ***********      \n",
      "     *************     \n",
      "    ***************    \n",
      "   *****************   \n",
      "  *******************  \n",
      " ********************* \n",
      "           ||          \n",
      "           ||          \n",
      "           ||          \n",
      "         \\====/        \n"
     ]
    }
   ],
   "source": [
    "for tree in range(1,23,2):\n",
    "    print(('*'*tree).center(23))\n",
    "for leg in range(3):\n",
    "    print(('||').center(23))\n",
    "print(('\\====/').center(23))"
   ]
  },
  {
   "cell_type": "code",
   "execution_count": 19,
   "metadata": {},
   "outputs": [
    {
     "name": "stdout",
     "output_type": "stream",
     "text": [
      "Enter Your Cristmas tree size Number: 33\n",
      "                *                \n",
      "               ***               \n",
      "              *****              \n",
      "             *******             \n",
      "            *********            \n",
      "           ***********           \n",
      "          *************          \n",
      "         ***************         \n",
      "        *****************        \n",
      "       *******************       \n",
      "      *********************      \n",
      "     ***********************     \n",
      "    *************************    \n",
      "   ***************************   \n",
      "  *****************************  \n",
      " ******************************* \n",
      "                ||               \n",
      "                ||               \n",
      "                ||               \n",
      "              \\====/             \n"
     ]
    }
   ],
   "source": [
    "inp = int(input('Enter Your Cristmas tree size Number: '))\n",
    "for i in range(1,inp,2):\n",
    "    print(('*'*i).center(inp))\n",
    "for sp in range(3):\n",
    "    print(('||').center(inp))\n",
    "print(('\\====/').center(inp))"
   ]
  },
  {
   "cell_type": "markdown",
   "metadata": {},
   "source": [
    "### Christmas Tree"
   ]
  },
  {
   "cell_type": "code",
   "execution_count": 13,
   "metadata": {},
   "outputs": [
    {
     "name": "stdout",
     "output_type": "stream",
     "text": [
      "               *\n",
      "              ***\n",
      "             *****\n",
      "            *******\n",
      "           *********\n",
      "          ***********\n",
      "         *************\n",
      "        ***************\n",
      "       *****************\n",
      "              ||\n",
      "              ||\n",
      "              ||\n",
      "            \\====/\n"
     ]
    }
   ],
   "source": [
    "import numpy as np\n",
    "\n",
    "x = np.arange(7,16)\n",
    "y = np.arange(1,18,2)\n",
    "z = np.column_stack((x[::-1],y))\n",
    "for i,j in z:\n",
    "    print(' '*i+'*'*j)\n",
    "for r in range(3):\n",
    "    print(' '*13,'||')\n",
    "print(' '*12, end = '\\====/')\n",
    "print('')"
   ]
  },
  {
   "cell_type": "code",
   "execution_count": 18,
   "metadata": {},
   "outputs": [
    {
     "name": "stdout",
     "output_type": "stream",
     "text": [
      "\u001b[1;32;48m                                  *\u001b[0m\n",
      "\u001b[1;32;48m                                 ***\u001b[0m\n",
      "\u001b[1;32;48m                                *****\u001b[0m\n",
      "\u001b[1;32;48m                               *******\u001b[0m\n",
      "\u001b[1;32;48m                              *********\u001b[0m\n",
      "\u001b[1;32;48m                             ***********\u001b[0m\n",
      "\u001b[1;32;48m                            *************\u001b[0m\n",
      "\u001b[1;32;48m                           ***************\u001b[0m\n",
      "\u001b[1;32;48m                          *****************\u001b[0m\n",
      "\u001b[1;32;48m                         *******************\u001b[0m\n",
      "\u001b[1;32;48m                        *********************\u001b[0m\n",
      "\u001b[1;32;48m                       ***********************\u001b[0m\n",
      "\u001b[1;32;48m                      *************************\u001b[0m\n",
      "\u001b[1;32;48m                     ***************************\u001b[0m\n",
      "\u001b[1;32;48m                    *****************************\u001b[0m\n",
      "\u001b[1;32;48m                   *******************************\u001b[0m\n",
      "\u001b[1;32;48m                  *********************************\u001b[0m\n",
      "                                  ||\n",
      "                                  ||\n",
      "                                  ||\n",
      "                                \\====/\n"
     ]
    }
   ],
   "source": [
    "b = 34\n",
    "c = 0\n",
    "while b > 0 and c < 33 :\n",
    "        print('\\33[1;32;48m'+' '*b+'*'+'*'*c+'\\33[0m')\n",
    "        b -= 1\n",
    "        c += 2\n",
    "for r in range(3):\n",
    "    print(' '*33,'||')\n",
    "print(' '*32, end = '\\====/')\n",
    "print('')"
   ]
  },
  {
   "cell_type": "markdown",
   "metadata": {},
   "source": [
    "### How to draw christmas tree using Python?\n",
    "\n",
    "This is very simplest code."
   ]
  },
  {
   "cell_type": "raw",
   "metadata": {},
   "source": [
    "First Draw tree"
   ]
  },
  {
   "cell_type": "code",
   "execution_count": 39,
   "metadata": {},
   "outputs": [
    {
     "name": "stdout",
     "output_type": "stream",
     "text": [
      "           *           \n",
      "          ***          \n",
      "         *****         \n",
      "        *******        \n",
      "       *********       \n",
      "      ***********      \n"
     ]
    }
   ],
   "source": [
    "for tree in range(1,13,2):\n",
    "    print(('*'*tree).center(23))\n"
   ]
  },
  {
   "cell_type": "raw",
   "metadata": {},
   "source": [
    "Second Draw leg"
   ]
  },
  {
   "cell_type": "code",
   "execution_count": 42,
   "metadata": {},
   "outputs": [
    {
     "name": "stdout",
     "output_type": "stream",
     "text": [
      "           ||          \n",
      "           ||          \n"
     ]
    }
   ],
   "source": [
    "for leg in range(2):\n",
    "    print('||'.center(23))"
   ]
  },
  {
   "cell_type": "raw",
   "metadata": {},
   "source": [
    "Third Draw stand"
   ]
  },
  {
   "cell_type": "code",
   "execution_count": 43,
   "metadata": {},
   "outputs": [
    {
     "name": "stdout",
     "output_type": "stream",
     "text": [
      "         \\====/        \n"
     ]
    }
   ],
   "source": [
    "print('\\====/'.center(23))"
   ]
  },
  {
   "cell_type": "markdown",
   "metadata": {},
   "source": [
    "### Draw vertical line pattern"
   ]
  },
  {
   "cell_type": "code",
   "execution_count": 23,
   "metadata": {},
   "outputs": [
    {
     "name": "stdout",
     "output_type": "stream",
     "text": [
      "         *          \n",
      "         *                   *                   *          \n",
      "         *                   *                   *                   *                   *          \n",
      "         *                   *                   *                   *                   *                   *                   *          \n",
      "         *                   *                   *                   *                   *                   *                   *                   *                   *          \n",
      "         *                   *                   *                   *                   *                   *                   *                   *                   *                   *                   *          \n",
      "         *                   *                   *                   *                   *                   *                   *                   *                   *                   *                   *                   *                   *          \n",
      "         *                   *                   *                   *                   *                   *                   *                   *                   *                   *                   *                   *                   *                   *                   *          \n",
      "         *                   *                   *                   *                   *                   *                   *                   *                   *                   *                   *                   *                   *                   *                   *                   *                   *          \n",
      "         *                   *                   *                   *                   *                   *                   *                   *                   *                   *                   *                   *                   *                   *                   *                   *                   *                   *                   *          \n"
     ]
    }
   ],
   "source": [
    "for i in range(1,20,2):\n",
    "    print(i*'*'.center(20))"
   ]
  },
  {
   "cell_type": "code",
   "execution_count": 16,
   "metadata": {},
   "outputs": [
    {
     "data": {
      "text/plain": [
       "[{'roll_no': ['123445', '1212'], 'school_id': 1},\n",
       " {'roll_no': ['HA-4848231'], 'school_id': 2},\n",
       " {'roll_no': ['473427'], 'school_id': 2},\n",
       " {'roll_no': ['092112'], 'school_id': 5}]"
      ]
     },
     "execution_count": 16,
     "metadata": {},
     "output_type": "execute_result"
    }
   ],
   "source": [
    "Input1 = [{'roll_no': ['123445', '1212'], 'school_id': 1}, \n",
    "          {'roll_no': ['HA-4848231'], 'school_id': 2}] \n",
    "  \n",
    "Input2 = [{'roll_no': ['473427'], 'school_id': 2}, \n",
    "          {'roll_no': ['092112'], 'school_id': 5}] \n",
    "Input1+Input2"
   ]
  },
  {
   "cell_type": "markdown",
   "metadata": {},
   "source": [
    "### How to Simulate Linux tac command using python?"
   ]
  },
  {
   "cell_type": "code",
   "execution_count": 1,
   "metadata": {},
   "outputs": [
    {
     "name": "stdout",
     "output_type": "stream",
     "text": [
      "daemon x 1 1 daemon /usr/sbin /usr/sbin/nologin\r\n",
      "bin x 2 2 bin /bin /usr/sbin/nologin \r\n",
      "sys x 3 3 sys /dev /usr/sbin/nologin \r\n",
      "sync x 4 65534 sync /bin /bin/sync \r\n"
     ]
    }
   ],
   "source": [
    "!cat /home/mana/Work/user.txt"
   ]
  },
  {
   "cell_type": "code",
   "execution_count": 2,
   "metadata": {},
   "outputs": [
    {
     "name": "stdout",
     "output_type": "stream",
     "text": [
      "sync x 4 65534 sync /bin /bin/sync \r\n",
      "sys x 3 3 sys /dev /usr/sbin/nologin \r\n",
      "bin x 2 2 bin /bin /usr/sbin/nologin \r\n",
      "daemon x 1 1 daemon /usr/sbin /usr/sbin/nologin\r\n"
     ]
    }
   ],
   "source": [
    "!tac /home/mana/Work/user.txt"
   ]
  },
  {
   "cell_type": "code",
   "execution_count": 7,
   "metadata": {},
   "outputs": [
    {
     "name": "stdout",
     "output_type": "stream",
     "text": [
      "sync x 4 65534 sync /bin /bin/sync \n",
      "sys x 3 3 sys /dev /usr/sbin/nologin \n",
      "bin x 2 2 bin /bin /usr/sbin/nologin \n",
      "daemon x 1 1 daemon /usr/sbin /usr/sbin/nologin\n"
     ]
    }
   ],
   "source": [
    "%%python3\n",
    "\n",
    "from pathlib import Path\n",
    "\n",
    "lines = Path('/home/mana/Work/user.txt').read_text().splitlines()[::-1]\n",
    "print(*lines, sep = '\\n')"
   ]
  },
  {
   "cell_type": "code",
   "execution_count": null,
   "metadata": {},
   "outputs": [],
   "source": []
  },
  {
   "cell_type": "markdown",
   "metadata": {},
   "source": [
    "### How to compare two lines? If any word is difference then it should be focuse color."
   ]
  },
  {
   "cell_type": "code",
   "execution_count": 12,
   "metadata": {},
   "outputs": [],
   "source": [
    "from difflib import HtmlDiff\n",
    "\n",
    "line1 = ['Chennai is very hot.']\n",
    "line2 = ['Chennai is very sweet.']\n",
    "print(HtmlDiff().make_file(line1,line2), file = open('/home/mana/Work/diff.html','w'))"
   ]
  },
  {
   "cell_type": "markdown",
   "metadata": {},
   "source": [
    "### How to compare two files?"
   ]
  },
  {
   "cell_type": "code",
   "execution_count": 9,
   "metadata": {},
   "outputs": [],
   "source": [
    "from difflib import HtmlDiff\n",
    "from pathlib import Path\n",
    "\n",
    "f1 = Path('/home/mana/Work/file1.txt').read_text().splitlines()\n",
    "f2 = Path('/home/mana/Work/file2.txt').read_text().splitlines()\n",
    "print(HtmlDiff().make_file(f1,f2), file = open('/home/mana/Work/diff.html','w'))"
   ]
  },
  {
   "cell_type": "markdown",
   "metadata": {},
   "source": [
    "### Cowsay print in Python and Bash"
   ]
  },
  {
   "cell_type": "code",
   "execution_count": 55,
   "metadata": {},
   "outputs": [
    {
     "name": "stdout",
     "output_type": "stream",
     "text": [
      "^__^\n",
      "(oo)\\________\n",
      "(__)\\        )\\/\\\n",
      "     ||----w |\n",
      "     ||     ||\n"
     ]
    }
   ],
   "source": [
    "print('^__^')\n",
    "print('(oo)\\\\________')\n",
    "print('(__)\\\\        )\\\\/\\\\')\n",
    "print(' '*5+'||----w |')\n",
    "print(' '*5+'||     ||')"
   ]
  },
  {
   "cell_type": "code",
   "execution_count": 74,
   "metadata": {},
   "outputs": [
    {
     "name": "stdout",
     "output_type": "stream",
     "text": [
      " _____\n",
      "< foo >\n",
      " -----\n",
      "        \\   ^__^\n",
      "         \\  (oo)\\_______\n",
      "            (__)\\       )\\/\\\n",
      "                ||----w |\n",
      "                ||     ||\n"
     ]
    }
   ],
   "source": [
    "%%bash\n",
    "\n",
    "cowsay foo"
   ]
  },
  {
   "cell_type": "markdown",
   "metadata": {},
   "source": [
    "### How to draw COW in python?"
   ]
  },
  {
   "cell_type": "code",
   "execution_count": 73,
   "metadata": {},
   "outputs": [
    {
     "name": "stdout",
     "output_type": "stream",
     "text": [
      "^__^\n",
      "(oo)\\________\n",
      "(__)\\        )\\/\\\n",
      "     ||----w |\n",
      "     ||     ||\n"
     ]
    }
   ],
   "source": [
    "print('^__^')\n",
    "print('(oo)\\\\'+'_'*8)\n",
    "print('(__)\\\\'+' '*8+')\\\\/\\\\')\n",
    "print(' '*5+'||----w |')\n",
    "print(' '*5+'||     ||')"
   ]
  },
  {
   "cell_type": "markdown",
   "metadata": {},
   "source": [
    "### Compare 2 columns and highlight same text."
   ]
  },
  {
   "cell_type": "code",
   "execution_count": 116,
   "metadata": {},
   "outputs": [
    {
     "name": "stdout",
     "output_type": "stream",
     "text": [
      "My name is Rishi, name is\r\n"
     ]
    }
   ],
   "source": [
    "!cat /home/mana/Work/risi.csv"
   ]
  },
  {
   "cell_type": "code",
   "execution_count": 114,
   "metadata": {},
   "outputs": [],
   "source": [
    "from  pathlib import Path\n",
    "\n",
    "f1 = Path(r'/home/mana/Work/risi.csv').read_text().splitlines()\n",
    "for i in f1:\n",
    "    s = i.split(',')\n",
    "    if len(s) == 2:\n",
    "        com = set(s[0].split()) & set(s[1].split())\n",
    "        print(s[0].replace(' '.join(com),'<span style=\"color: red\">{}</span>'\n",
    "                           .format(' '.join(com))), file = open('/home/mana/Work/diff.html','w'))\n",
    "    else:\n",
    "        pass\n",
    "    "
   ]
  },
  {
   "cell_type": "code",
   "execution_count": 113,
   "metadata": {},
   "outputs": [],
   "source": [
    "from  pathlib import Path\n",
    "\n",
    "f1 = Path(r'/home/mana/Work/risi.csv').read_text().splitlines()\n",
    "clt = []\n",
    "for i in f1:\n",
    "    s = i.split(',')\n",
    "    if len(s) == 2:\n",
    "        com = set(s[0].split()) & set(s[1].split())\n",
    "        clt += [s[0].replace(' '.join(com),'<span style=\"color: red\">{}</span>'.format(' '.join(com)))]\n",
    "    else:\n",
    "        pass\n",
    "#print(*clt, sep = '\\n', file = open('/home/mana/Work/diff.html','w'))\n",
    "print('<HTML><body><p><br>{}</p></HTML></body>'.format(*clt), sep = '\\n', file = open('/home/mana/Work/diff.html','w'))"
   ]
  },
  {
   "cell_type": "markdown",
   "metadata": {},
   "source": [
    "### Merging two list of dictionaries"
   ]
  },
  {
   "cell_type": "code",
   "execution_count": 50,
   "metadata": {},
   "outputs": [
    {
     "name": "stdout",
     "output_type": "stream",
     "text": [
      "[{'roll_no': ['123445', '1212'], 'school_id': 1}, {'roll_no': ['HA-4848231', '473427'], 'school_id': 2}, {'roll_no': ['092112'], 'school_id': 5}]\n"
     ]
    }
   ],
   "source": [
    "from collections import defaultdict \n",
    "\n",
    "Input1 = [{'roll_no': ['123445', '1212'], 'school_id': 1}, \n",
    "\t\t{'roll_no': ['HA-4848231'], 'school_id': 2}] \n",
    "\n",
    "Input2 = [{'roll_no': ['473427'], 'school_id': 2}, \n",
    "\t\t{'roll_no': ['092112'], 'school_id': 5}] \n",
    "\n",
    "\n",
    "temp = defaultdict(list) \n",
    "\n",
    "for elem in Input1 + Input2: \n",
    "    temp[elem['school_id']].extend(elem['roll_no']) \n",
    "\n",
    "Output = [{\"roll_no\":y, \"school_id\":x} for x, y in temp.items()] \n",
    "\n",
    "print(Output) "
   ]
  },
  {
   "cell_type": "code",
   "execution_count": 72,
   "metadata": {},
   "outputs": [
    {
     "name": "stdout",
     "output_type": "stream",
     "text": [
      "Manavalan.micheal Joe.micheal\n"
     ]
    }
   ],
   "source": [
    "%%bash\n",
    "\n",
    "echo {Manavalan,Joe}.micheal"
   ]
  },
  {
   "cell_type": "code",
   "execution_count": 115,
   "metadata": {},
   "outputs": [
    {
     "name": "stdout",
     "output_type": "stream",
     "text": [
      "User 'mana' exists.\n",
      "User 'arul' not exists.\n"
     ]
    }
   ],
   "source": [
    "# This program is to check user exists or not in Linux System.\n",
    "import pwd\n",
    "\n",
    "def user_chk(user):\n",
    "    try:\n",
    "        pwd.getpwnam(user)[0] == user\n",
    "    except KeyError:\n",
    "        print('User {!r} not exists.'.format(user))\n",
    "    else:\n",
    "        print('User {!r} exists.'.format(user))\n",
    "        \n",
    "\n",
    "user_chk('mana')\n",
    "user_chk('arul')"
   ]
  },
  {
   "cell_type": "markdown",
   "metadata": {},
   "source": [
    "### How to search a file recursively?"
   ]
  },
  {
   "cell_type": "raw",
   "metadata": {},
   "source": [
    "Python3"
   ]
  },
  {
   "cell_type": "code",
   "execution_count": 122,
   "metadata": {},
   "outputs": [
    {
     "name": "stdout",
     "output_type": "stream",
     "text": [
      "Enter File Name: SYslog\n",
      "/var/log/syslog\n",
      "/var/log/installer/syslog\n"
     ]
    }
   ],
   "source": [
    "from pathlib import Path as Pa\n",
    "\n",
    "f = Pa(input('Enter File Name: '))\n",
    "d = Pa('/var')\n",
    "\n",
    "for i in d.rglob('*'):\n",
    "    if i.name.lower() == f.name.lower():\n",
    "        if i.is_file():\n",
    "            print(i)"
   ]
  },
  {
   "cell_type": "markdown",
   "metadata": {},
   "source": [
    "### Count occurrence of a letter in a word/name entered by a user"
   ]
  },
  {
   "cell_type": "code",
   "execution_count": 121,
   "metadata": {},
   "outputs": [
    {
     "name": "stdout",
     "output_type": "stream",
     "text": [
      "Enter Name: Manavalan\n"
     ]
    },
    {
     "data": {
      "text/plain": [
       "Counter({'M': 1, 'a': 4, 'n': 2, 'v': 1, 'l': 1})"
      ]
     },
     "execution_count": 121,
     "metadata": {},
     "output_type": "execute_result"
    }
   ],
   "source": [
    "from collections import Counter\n",
    "\n",
    "inp = input('Enter Name: ')\n",
    "Counter(inp)"
   ]
  },
  {
   "cell_type": "markdown",
   "metadata": {},
   "source": [
    "### Check root user or not"
   ]
  },
  {
   "cell_type": "code",
   "execution_count": 15,
   "metadata": {},
   "outputs": [
    {
     "name": "stdout",
     "output_type": "stream",
     "text": [
      "User mana Not Root User.\n"
     ]
    }
   ],
   "source": [
    "%%bash\n",
    "\n",
    "\n",
    "if (( $UID == 0 )); then\n",
    "echo \"Root User.\"\n",
    "else\n",
    "echo \"User $USER Not Root User.\"\n",
    "fi"
   ]
  },
  {
   "cell_type": "code",
   "execution_count": 16,
   "metadata": {},
   "outputs": [
    {
     "name": "stdout",
     "output_type": "stream",
     "text": [
      "User mana Not Root User.\n"
     ]
    }
   ],
   "source": [
    "%%python3\n",
    "\n",
    "import os\n",
    "import getpass\n",
    "\n",
    "if os.getuid() == 0:\n",
    "    print('Root User.')\n",
    "else:\n",
    "    print('User {} Not Root User.'.format(getpass.getuser()))"
   ]
  },
  {
   "cell_type": "markdown",
   "metadata": {},
   "source": [
    "### Findout empty line"
   ]
  },
  {
   "cell_type": "code",
   "execution_count": 50,
   "metadata": {},
   "outputs": [
    {
     "data": {
      "text/plain": [
       "{'The line 3': 'Empty line.', 'The line 5': 'Empty line.'}"
      ]
     },
     "execution_count": 50,
     "metadata": {},
     "output_type": "execute_result"
    }
   ],
   "source": [
    "lines = '''Hi\n",
    "This is line one\n",
    "\n",
    "This line two\n",
    "\n",
    "This is line three'''\n",
    "{'The line '+str(i):'Empty line.' for i,j in enumerate(lines.splitlines(),1) if not j}"
   ]
  },
  {
   "cell_type": "code",
   "execution_count": 71,
   "metadata": {},
   "outputs": [
    {
     "data": {
      "text/plain": [
       "['\\n\\n', '\\n\\n']"
      ]
     },
     "execution_count": 71,
     "metadata": {},
     "output_type": "execute_result"
    }
   ],
   "source": [
    "import re\n",
    "\n",
    "lines = '''Hi\n",
    "This is line one\n",
    "\n",
    "This line two\n",
    "\n",
    "This is line three'''\n",
    "re.findall(r'\\n\\s*\\n',lines)"
   ]
  },
  {
   "cell_type": "markdown",
   "metadata": {},
   "source": [
    "### Findout new line"
   ]
  },
  {
   "cell_type": "code",
   "execution_count": 67,
   "metadata": {},
   "outputs": [
    {
     "data": {
      "text/plain": [
       "['\\n', '\\n', '\\n', '\\n', '\\n']"
      ]
     },
     "execution_count": 67,
     "metadata": {},
     "output_type": "execute_result"
    }
   ],
   "source": [
    "import re\n",
    "\n",
    "lines = '''Hi\n",
    "This is line one\n",
    "\n",
    "This line two\n",
    "\n",
    "This is line three'''\n",
    "\n",
    "[i for i in lines if re.match(r'^$',i)]"
   ]
  },
  {
   "cell_type": "markdown",
   "metadata": {},
   "source": [
    "### split text contains spaces but keeps words inside quotations as one unit"
   ]
  },
  {
   "cell_type": "code",
   "execution_count": 30,
   "metadata": {},
   "outputs": [
    {
     "data": {
      "text/plain": [
       "['cmd', '-a', '-b', '-c', '\"file with spaces.mp4\"', '-e', '-f']"
      ]
     },
     "execution_count": 30,
     "metadata": {},
     "output_type": "execute_result"
    }
   ],
   "source": [
    "import re\n",
    "\n",
    "s = 'cmd -a -b -c \"file with spaces.mp4\" -e -f'\n",
    "re.findall('\"[^\"]*\"|\\S+', s)"
   ]
  },
  {
   "cell_type": "markdown",
   "metadata": {},
   "source": [
    "### Counts upper and lower cases in a sentence"
   ]
  },
  {
   "cell_type": "code",
   "execution_count": 42,
   "metadata": {},
   "outputs": [
    {
     "data": {
      "text/plain": [
       "'upper is 2, and lower is 3'"
      ]
     },
     "execution_count": 42,
     "metadata": {},
     "output_type": "execute_result"
    }
   ],
   "source": [
    "sentence = 'Linux is good Operating system.'\n",
    "\n",
    "def up_low(*args):\n",
    "    lower = [i for i in list(args) if i.islower()]\n",
    "    return  f'upper is {len(args)-len(lower)}, and lower is {len(lower)}'\n",
    "up_low(*sentence.split())"
   ]
  },
  {
   "cell_type": "markdown",
   "metadata": {},
   "source": [
    "### Count upper and lower characters in a sentence"
   ]
  },
  {
   "cell_type": "code",
   "execution_count": 71,
   "metadata": {},
   "outputs": [
    {
     "data": {
      "text/plain": [
       "'Upper cases number is 2, and Lower cases number is 24'"
      ]
     },
     "execution_count": 71,
     "metadata": {},
     "output_type": "execute_result"
    }
   ],
   "source": [
    "sentence = 'Linux is good Operating system.'\n",
    "low = []  \n",
    "up = []\n",
    "\n",
    "def up_low(sentence):\n",
    "    for letter in sentence: \n",
    "        if letter.islower():      \n",
    "            low.append(letter)\n",
    "        elif letter.isupper():\n",
    "            up.append(letter)\n",
    "    return f'Upper cases number is {len(up)}, and Lower cases number is {len(low)}'\n",
    "\n",
    "up_low(sentence)"
   ]
  },
  {
   "cell_type": "markdown",
   "metadata": {},
   "source": [
    "### Count upper and lower Words in a sentence"
   ]
  },
  {
   "cell_type": "code",
   "execution_count": 72,
   "metadata": {},
   "outputs": [
    {
     "data": {
      "text/plain": [
       "'Upper cases number is 2, and Lower cases number is 3'"
      ]
     },
     "execution_count": 72,
     "metadata": {},
     "output_type": "execute_result"
    }
   ],
   "source": [
    "sentence = 'Linux is good Operating system.'\n",
    "low = []  \n",
    "up = []\n",
    "\n",
    "def up_low(sentence):\n",
    "    for letter in sentence.split(): \n",
    "        if letter.islower():      \n",
    "            low.append(letter)\n",
    "        else:\n",
    "            up.append(letter)\n",
    "    return f'Upper cases number is {len(up)}, and Lower cases number is {len(low)}'\n",
    "\n",
    "up_low(sentence)"
   ]
  },
  {
   "cell_type": "markdown",
   "metadata": {},
   "source": [
    "### How to compare two floating point numbers in Bash?"
   ]
  },
  {
   "cell_type": "code",
   "execution_count": 204,
   "metadata": {},
   "outputs": [
    {
     "name": "stdout",
     "output_type": "stream",
     "text": [
      "yes\n"
     ]
    }
   ],
   "source": [
    "%%bash\n",
    "\n",
    "num1=6.2\n",
    "num2=4.5\n",
    "\n",
    "\n",
    "if (( $(awk -v n1=\"$num1\" -v n2=\"$num2\" 'BEGIN {print (n1 >= n2)}') ))\n",
    "then\n",
    "    echo \"yes\"\n",
    "else \n",
    "    echo \"no\"\n",
    "fi\n"
   ]
  },
  {
   "cell_type": "markdown",
   "metadata": {},
   "source": [
    "### Server Health"
   ]
  },
  {
   "cell_type": "code",
   "execution_count": 113,
   "metadata": {},
   "outputs": [
    {
     "name": "stdout",
     "output_type": "stream",
     "text": [
      "Server running smooth.\n"
     ]
    }
   ],
   "source": [
    "%%python3\n",
    "\n",
    "import os\n",
    "\n",
    "if os.getloadavg()[0] > os.cpu_count():\n",
    "    print('Server going critical stage.')\n",
    "else:\n",
    "    print('Server running smooth.')"
   ]
  },
  {
   "cell_type": "code",
   "execution_count": 203,
   "metadata": {},
   "outputs": [
    {
     "name": "stdout",
     "output_type": "stream",
     "text": [
      "Server running smooth.\n"
     ]
    }
   ],
   "source": [
    "%%bash\n",
    "\n",
    "cpu_load=$(uptime | awk -F \"load average:\" '{print $2}' | awk -F \",\" '{print $1}')\n",
    "cpu_count=$(awk '/processor/{p++} END {print p}' /proc/cpuinfo)\n",
    "\n",
    "if (( $(awk -v n1=\"$cpu_load\" -v n2=\"$cpu_count\" 'BEGIN {print (n1 >= n2)}') ))\n",
    "then\n",
    "    echo \"Server going critical stage.\"\n",
    "else \n",
    "    echo \"Server running smooth.\"\n",
    "fi\n"
   ]
  },
  {
   "cell_type": "markdown",
   "metadata": {},
   "source": [
    "### top"
   ]
  },
  {
   "cell_type": "code",
   "execution_count": 149,
   "metadata": {},
   "outputs": [
    {
     "name": "stdout",
     "output_type": "stream",
     "text": [
      "top - 12:53:55 up 1 day,  8:55,  1 user,  load average: 0.39, 0.40, 0.32\n",
      "Tasks: 226 total,   3 running, 169 sleeping,   0 stopped,   0 zombie\n",
      "%Cpu(s): 11.0 us,  2.5 sy,  0.1 ni, 86.2 id,  0.2 wa,  0.0 hi,  0.0 si,  0.0 st\n",
      "KiB Mem :  4001604 total,   374184 free,  2372140 used,  1255280 buff/cache\n",
      "KiB Swap:  1509720 total,  1248088 free,   261632 used.   898688 avail Mem \n",
      "\n",
      "  PID USER      PR  NI    VIRT    RES    SHR S  %CPU %MEM     TIME+ COMMAND\n",
      "10473 mana      20   0  860508 191856  60288 R  88.2  4.8  10:29.36 vivaldi-bin\n",
      "  867 root      20   0  584804  52112  38044 S   5.9  1.3  44:08.23 Xorg\n",
      " 1026 mana      20   0  824224  38844  21568 S   5.9  1.0   0:05.48 mate-terminal\n",
      " 1155 mana      20   0  620940  24704  12516 S   5.9  0.6   0:16.59 ibus-ui-gtk3\n",
      " 5301 mana      20   0 1429156 281604  89736 S   5.9  7.0  22:42.09 vivaldi-bin\n",
      " 5342 mana      20   0 1525036 172052  45720 R   5.9  4.3  96:08.56 vivaldi-bin\n",
      " 7074 mana      20   0   47964   4112   3448 S   5.9  0.1   0:00.66 top\n",
      "    1 root      20   0  159772   6380   4596 S   0.0  0.2   0:04.28 systemd\n",
      "    2 root      20   0       0      0      0 S   0.0  0.0   0:00.03 kthreadd\n",
      "    3 root       0 -20       0      0      0 I   0.0  0.0   0:00.00 rcu_gp\n",
      "    4 root       0 -20       0      0      0 I   0.0  0.0   0:00.00 rcu_par_gp\n",
      "    8 root       0 -20       0      0      0 I   0.0  0.0   0:00.00 mm_percpu_wq\n",
      "    9 root      20   0       0      0      0 S   0.0  0.0   0:05.05 ksoftirqd/0\n",
      "   10 root      20   0       0      0      0 I   0.0  0.0   1:09.06 rcu_sched\n",
      "   11 root      rt   0       0      0      0 S   0.0  0.0   0:01.22 migration/0\n",
      "   12 root     -51   0       0      0      0 S   0.0  0.0   0:00.00 idle_inject/0\n",
      "   14 root      20   0       0      0      0 S   0.0  0.0   0:00.00 cpuhp/0\n",
      "   15 root      20   0       0      0      0 S   0.0  0.0   0:00.00 cpuhp/1\n",
      "   16 root     -51   0       0      0      0 S   0.0  0.0   0:00.00 idle_inject/1\n",
      "   17 root      rt   0       0      0      0 S   0.0  0.0   0:01.20 migration/1\n",
      "   18 root      20   0       0      0      0 S   0.0  0.0   0:03.69 ksoftirqd/1\n",
      "   21 root      20   0       0      0      0 S   0.0  0.0   0:00.00 kdevtmpfs\n",
      "   22 root       0 -20       0      0      0 I   0.0  0.0   0:00.00 netns\n",
      "   23 root      20   0       0      0      0 S   0.0  0.0   0:00.00 rcu_tasks_kthre\n",
      "   24 root      20   0       0      0      0 S   0.0  0.0   0:00.00 kauditd\n",
      "   25 root      20   0       0      0      0 S   0.0  0.0   0:00.09 khungtaskd\n",
      "   26 root      20   0       0      0      0 S   0.0  0.0   0:00.00 oom_reaper\n",
      "   27 root       0 -20       0      0      0 I   0.0  0.0   0:00.00 writeback\n",
      "   28 root      20   0       0      0      0 S   0.0  0.0   0:00.34 kcompactd0\n",
      "   29 root      25   5       0      0      0 S   0.0  0.0   0:00.00 ksmd\n",
      "   30 root      39  19       0      0      0 S   0.0  0.0   0:00.21 khugepaged\n",
      "   31 root       0 -20       0      0      0 I   0.0  0.0   0:00.00 crypto\n",
      "   32 root       0 -20       0      0      0 I   0.0  0.0   0:00.00 kintegrityd\n",
      "   33 root       0 -20       0      0      0 I   0.0  0.0   0:00.00 kblockd\n",
      "   34 root       0 -20       0      0      0 I   0.0  0.0   0:00.00 tpm_dev_wq\n",
      "   35 root       0 -20       0      0      0 I   0.0  0.0   0:00.00 ata_sff\n",
      "   36 root       0 -20       0      0      0 I   0.0  0.0   0:00.00 md\n",
      "   37 root       0 -20       0      0      0 I   0.0  0.0   0:00.00 edac-poller\n",
      "   38 root       0 -20       0      0      0 I   0.0  0.0   0:00.00 devfreq_wq\n",
      "   39 root      rt   0       0      0      0 S   0.0  0.0   0:00.00 watchdogd\n",
      "   42 root      20   0       0      0      0 S   0.0  0.0   0:12.32 kswapd0\n",
      "   43 root       0 -20       0      0      0 I   0.0  0.0   0:00.00 kworker/u9:0\n",
      "   44 root      20   0       0      0      0 S   0.0  0.0   0:00.00 ecryptfs-kthrea\n",
      "  133 root       0 -20       0      0      0 I   0.0  0.0   0:00.00 kthrotld\n",
      "  134 root     -51   0       0      0      0 S   0.0  0.0   0:00.00 irq/24-pciehp\n",
      "  135 root       0 -20       0      0      0 I   0.0  0.0   0:00.00 acpi_thermal_pm\n",
      "  136 root      20   0       0      0      0 S   0.0  0.0   0:00.00 scsi_eh_0\n",
      "  137 root       0 -20       0      0      0 I   0.0  0.0   0:00.00 scsi_tmf_0\n",
      "  138 root      20   0       0      0      0 S   0.0  0.0   0:00.01 scsi_eh_1\n",
      "  139 root       0 -20       0      0      0 I   0.0  0.0   0:00.00 scsi_tmf_1\n",
      "  141 root      20   0       0      0      0 S   0.0  0.0   0:00.04 scsi_eh_2\n",
      "  142 root       0 -20       0      0      0 I   0.0  0.0   0:00.00 scsi_tmf_2\n",
      "  143 root      20   0       0      0      0 S   0.0  0.0   0:00.01 scsi_eh_3\n",
      "  144 root       0 -20       0      0      0 I   0.0  0.0   0:00.00 scsi_tmf_3\n",
      "  151 root       0 -20       0      0      0 I   0.0  0.0   0:00.00 ipv6_addrconf\n",
      "  163 root       0 -20       0      0      0 I   0.0  0.0   0:00.00 kstrp\n",
      "  182 root       0 -20       0      0      0 I   0.0  0.0   0:00.00 charger_manager\n",
      "  238 root       0 -20       0      0      0 I   0.0  0.0   0:00.00 xfsalloc\n",
      "  240 root       0 -20       0      0      0 I   0.0  0.0   0:00.00 xfs_mru_cache\n",
      "  245 root       0 -20       0      0      0 I   0.0  0.0   0:00.00 xfs-buf/sda5\n",
      "  246 root       0 -20       0      0      0 I   0.0  0.0   0:00.00 xfs-data/sda5\n",
      "  247 root       0 -20       0      0      0 I   0.0  0.0   0:00.00 xfs-conv/sda5\n",
      "  248 root       0 -20       0      0      0 I   0.0  0.0   0:00.00 xfs-cil/sda5\n",
      "  249 root       0 -20       0      0      0 I   0.0  0.0   0:00.00 xfs-reclaim/sda\n",
      "  250 root       0 -20       0      0      0 I   0.0  0.0   0:00.00 xfs-log/sda5\n",
      "  251 root       0 -20       0      0      0 I   0.0  0.0   0:00.00 xfs-eofblocks/s\n",
      "  252 root      20   0       0      0      0 S   0.0  0.0   0:26.88 xfsaild/sda5\n",
      "  308 root      19  -1  294840  48932  47588 S   0.0  1.2   0:03.20 systemd-journal\n",
      "  318 root      20   0   47456   4132   2672 S   0.0  0.1   0:02.36 systemd-udevd\n",
      "  321 root       0 -20       0      0      0 S   0.0  0.0   0:00.00 loop0\n",
      "  322 root       0 -20       0      0      0 S   0.0  0.0   0:00.06 loop1\n",
      "  331 root       0 -20       0      0      0 S   0.0  0.0   0:00.02 loop2\n",
      "  333 root       0 -20       0      0      0 S   0.0  0.0   0:00.00 loop3\n",
      "  493 root      -2   0       0      0      0 S   0.0  0.0   0:21.02 i915/signal:0\n",
      "  494 root      -2   0       0      0      0 S   0.0  0.0   0:00.00 i915/signal:2\n",
      "  496 systemd+  20   0  146108   1748   1512 S   0.0  0.0   0:00.17 systemd-timesyn\n",
      "  497 systemd+  20   0   70972   4380   3892 S   0.0  0.1   0:06.10 systemd-resolve\n",
      "  508 message+  20   0   51576   4784   3112 S   0.0  0.1   0:04.61 dbus-daemon\n",
      "  575 root      20   0 1155880  15072   7264 S   0.0  0.4   0:06.26 snapd\n",
      "  576 root      20   0  174292  10344   8332 S   0.0  0.3   0:00.10 networkd-dispat\n",
      "  577 root      20   0   45224   2960   2668 S   0.0  0.1   0:00.26 wpa_supplicant\n",
      "  580 root      20   0    4548    724    700 S   0.0  0.0   0:00.91 acpid\n",
      "  581 root      20   0  499292  10312   8412 S   0.0  0.3   0:23.76 NetworkManager\n",
      "  586 root      20   0  434320   6504   5288 S   0.0  0.2   0:00.06 ModemManager\n",
      "  587 syslog    20   0  263032   3268   2772 S   0.0  0.1   0:00.54 rsyslogd\n",
      "  589 root      20   0   70684   4196   3836 S   0.0  0.1   0:00.38 systemd-logind\n",
      "  591 root      20   0   35076   2756   2652 S   0.0  0.1   0:00.16 cron\n",
      "  592 root      20   0  305188   6688   6124 S   0.0  0.2   0:01.28 accounts-daemon\n",
      "  593 root      20   0  517616   7832   6132 S   0.0  0.2   0:13.07 udisksd\n",
      "  596 root      20   0  110408   1796   1696 S   0.0  0.0   0:03.25 irqbalance\n",
      "  597 avahi     20   0   47252   2824   2688 S   0.0  0.1   0:01.07 avahi-daemon\n",
      "  623 avahi     20   0   47072     44      0 S   0.0  0.0   0:00.00 avahi-daemon\n",
      "  673 root      20   0  318368   9000   6340 S   0.0  0.2   0:00.50 polkitd\n",
      "  751 root      20   0  191000  11900   8948 S   0.0  0.3   0:00.08 unattended-upgr\n",
      "  753 root      20   0  907876  14084    724 S   0.0  0.4   0:29.83 containerd\n",
      "  758 root      20   0  308844   5616   5312 S   0.0  0.1   0:00.02 lightdm\n",
      "  760 root      20   0   72292   2156   1976 S   0.0  0.1   0:00.01 sshd\n",
      "  765 root      20   0   19936   1540   1476 S   0.0  0.0   0:00.00 agetty\n",
      "  896 root      20   0   25988   3832   2560 S   0.0  0.1   0:00.01 dhclient\n",
      " 1044 mana      20   0   26548   5064   3292 S   0.0  0.1   0:00.15 bash\n",
      " 1063 root      20   0  248472   4976   4976 S   0.0  0.1   0:00.00 lightdm\n",
      " 1068 mana      20   0   76968   4892   4376 S   0.0  0.1   0:00.07 systemd\n",
      " 1069 mana      20   0  113920    628      0 S   0.0  0.0   0:00.00 (sd-pam)\n",
      " 1092 mana      20   0  722268   8844   7292 S   0.0  0.2   0:00.94 gnome-session-b\n",
      " 1135 mana      20   0  376292   8968   5256 S   0.0  0.2   0:34.76 ibus-daemon\n",
      " 1143 mana      20   0   51588   5120   3232 S   0.0  0.1   0:09.32 dbus-daemon\n",
      " 1146 mana      20   0  362432   5712   5144 S   0.0  0.1   0:06.65 gvfsd\n",
      " 1152 mana      20   0  432020   4772   4772 S   0.0  0.1   0:00.01 gvfsd-fuse\n",
      " 1154 mana      20   0  293332   4648   4648 S   0.0  0.1   0:00.00 ibus-dconf\n",
      " 1157 mana      20   0  497164  19468   9244 S   0.0  0.5   0:01.27 ibus-x11\n",
      " 1159 mana      20   0  291248   4900   4752 S   0.0  0.1   0:00.20 ibus-portal\n",
      " 1218 mana      20   0   11300     40      0 S   0.0  0.0   0:00.21 ssh-agent\n",
      " 1224 mana      20   0  367840   5776   5408 S   0.0  0.1   0:00.01 at-spi-bus-laun\n",
      " 1229 mana      20   0   50052   3432   3084 S   0.0  0.1   0:01.11 dbus-daemon\n",
      " 1234 mana      20   0  220740   5696   5364 S   0.0  0.1   0:06.89 at-spi2-registr\n",
      " 1246 mana      20   0  529124  47208  22204 S   0.0  1.2   0:03.92 gnome-screensav\n",
      " 1252 mana      20   0  217580   5700   5340 S   0.0  0.1   0:06.26 ibus-engine-sim\n",
      " 1256 mana      20   0  432980   6196   4808 S   0.0  0.2   0:00.38 gnome-keyring-d\n",
      " 1265 mana      20   0  522016  18132   8220 S   0.0  0.5   0:01.50 gsd-keyboard\n",
      " 1266 mana      20   0  881996  18576   8012 S   0.0  0.5   0:01.85 gsd-media-keys\n",
      " 1267 mana      20   0  293356   5404   5096 S   0.0  0.1   0:00.20 gsd-mouse\n",
      " 1268 mana      20   0  532700  20436   9788 S   0.0  0.5   0:01.73 gsd-power\n",
      " 1270 mana      20   0  345964   7664   7196 S   0.0  0.2   0:00.21 gsd-print-notif\n",
      " 1272 mana      20   0  272384   5140   4832 S   0.0  0.1   0:00.19 gsd-screensaver\n",
      " 1273 mana      20   0  389420   4616   4380 S   0.0  0.1   0:00.20 gsd-smartcard\n",
      " 1277 mana      20   0  339800   5684   5404 S   0.0  0.1   0:00.20 gsd-sound\n",
      " 1280 mana      20   0  468028   6484   5652 S   0.0  0.2   0:03.68 gsd-sharing\n",
      " 1285 mana      20   0  419996   5088   4768 S   0.0  0.1   0:00.20 gsd-rfkill\n",
      " 1293 mana      20   0  445984  18576   8100 S   0.0  0.5   0:01.48 gsd-wacom\n",
      " 1297 mana      20   0  508932  18924   8048 S   0.0  0.5   0:01.63 gsd-xsettings\n",
      " 1306 mana      20   0  293348   5392   5028 S   0.0  0.1   0:00.21 gsd-a11y-settin\n",
      " 1308 mana      20   0  361096  18188   7812 S   0.0  0.5   0:01.49 gsd-clipboard\n",
      " 1313 mana      20   0  609864  20016   9800 S   0.0  0.5   0:18.88 gsd-color\n",
      " 1316 mana      20   0  473288   7100   6800 S   0.0  0.2   0:00.22 gsd-datetime\n",
      " 1318 mana      20   0  986088   7740   5912 S   0.0  0.2   0:01.68 gsd-housekeepin\n",
      " 1319 mana       9 -11 1765528  10084   7536 S   0.0  0.3  10:36.85 pulseaudio\n",
      " 1326 root      20   0  319052   7344   6724 S   0.0  0.2   0:00.18 upowerd\n",
      " 1373 rtkit     21   1  183500   2524   2424 S   0.0  0.1   0:00.56 rtkit-daemon\n",
      " 1374 mana      20   0  505408   8484   7956 S   0.0  0.2   0:00.02 gsd-printer\n",
      " 1398 root      20   0       0      0      0 I   0.0  0.0   0:00.22 kworker/u8:1-ev\n",
      " 1412 colord    20   0  336196   9852   7384 S   0.0  0.2   0:00.12 colord\n",
      " 1465 mana      20   0 1288436  46828  21900 S   0.0  1.2  21:00.66 budgie-wm\n",
      " 1477 mana      20   0 1784312  77052  26808 S   0.0  1.9   1:07.87 budgie-panel\n",
      " 1492 mana      20   0  188416   5384   4436 S   0.0  0.1   0:01.03 dconf-service\n",
      " 1500 mana      20   0  464280   6708   5676 S   0.0  0.2   0:00.74 gvfs-udisks2-vo\n",
      " 1505 mana      20   0  272520   5476   5076 S   0.0  0.1   0:00.02 gvfs-mtp-volume\n",
      " 1509 mana      20   0  285440   5712   5412 S   0.0  0.1   0:00.03 gvfs-gphoto2-vo\n",
      " 1513 mana      20   0  270696   5044   4776 S   0.0  0.1   0:00.02 gvfs-goa-volume\n",
      " 1517 mana      20   0  778400   7660   7440 S   0.0  0.2   0:00.06 goa-daemon\n",
      " 1519 mana      20   0  533252  29644  12724 S   0.0  0.7   0:12.95 budgie-daemon\n",
      " 1520 mana      20   0  512876  18464   8472 S   0.0  0.5   0:01.83 budgie-polkit-d\n",
      " 1534 mana      20   0  389936   5420   5420 S   0.0  0.1   0:00.10 goa-identity-se\n",
      " 1539 mana      20   0  375464   6652   6328 S   0.0  0.2   0:00.02 gvfs-afc-volume\n",
      " 1552 mana      20   0  271932   5424   4880 S   0.0  0.1   0:00.04 gsd-disk-utilit\n",
      " 1553 mana      20   0  465148   6904   6420 S   0.0  0.2   0:00.10 indicator-appli\n",
      " 1558 mana      20   0  684044  43660  21464 S   0.0  1.1   1:07.92 plank\n",
      " 1563 mana      20   0 1131420  30784  12044 S   0.0  0.8   0:03.00 tilda\n",
      " 1565 mana      20   0  929100   9584   7780 S   0.0  0.2  18:45.48 conky\n",
      " 1570 mana      20   0  565844  23048  13564 S   0.0  0.6   0:05.29 nm-applet\n",
      " 1573 mana      20   0  402644  27376  11456 S   0.0  0.7   0:03.99 caffeine\n",
      " 1582 root      20   0  904804  31472   2980 S   0.0  0.8   0:25.43 dockerd\n",
      " 1596 whoopsie  20   0  466672   8252   7360 S   0.0  0.2   0:00.03 whoopsie\n",
      " 1599 root      20   0  269096   7136   5996 S   0.0  0.2   0:01.60 nmbd\n",
      " 1600 kernoops  20   0   56936   1980   1876 S   0.0  0.0   0:01.68 kerneloops\n",
      " 1603 kernoops  20   0   56936   2112   1876 S   0.0  0.1   0:01.69 kerneloops\n",
      " 1632 root      20   0  360364   8952   7332 S   0.0  0.2   0:00.24 smbd\n",
      " 1660 root      20   0  348780   2912   1484 S   0.0  0.1   0:00.06 smbd-notifyd\n",
      " 1661 root      20   0  348772   1888    464 S   0.0  0.0   0:00.06 cleanupd\n",
      " 1662 root      20   0  360364   5144   3524 S   0.0  0.1   0:00.19 lpqd\n",
      " 1703 root      20   0    4504    632    632 S   0.0  0.0   0:00.00 none\n",
      " 1764 mana      20   0  439804   7828   5140 S   0.0  0.2   0:15.97 gvfsd-trash\n",
      " 1767 mana      20   0  727184 125320  89964 S   0.0  3.1   0:03.47 vivaldi-bin\n",
      " 1894 mana      20   0  458840  27692  11020 S   0.0  0.7   0:18.56 bamfdaemon\n",
      " 2034 mana      20   0   26416   3900   2216 S   0.0  0.1   0:00.03 bash\n",
      " 2045 mana      20   0  381032   7072   5776 S   0.0  0.2   0:00.13 gvfsd-network\n",
      " 2049 mana      20   0  761336 146700  90516 S   0.0  3.7   0:09.25 vivaldi-bin\n",
      " 2112 mana      20   0  377940   6464   5544 S   0.0  0.2   0:00.04 gvfsd-dnssd\n",
      " 2451 root      20   0  527740  19384   8412 S   0.0  0.5   0:13.27 packagekitd\n",
      " 2699 root       0 -20       0      0      0 I   0.0  0.0   0:06.36 kworker/1:1H-ev\n",
      " 2702 mana      20   0 1351076 156392  14340 S   0.0  3.9   0:09.66 gnome-software\n",
      " 2704 mana      20   0  683000  22328   9704 S   0.0  0.6   0:02.65 update-notifier\n",
      " 2751 root      20   0  561672  17884   8728 S   0.0  0.4   0:02.47 fwupd\n",
      " 3679 root      20   0       0      0      0 I   0.0  0.0   0:00.02 kworker/0:0-eve\n",
      " 4183 root      20   0       0      0      0 I   0.0  0.0   0:00.02 kworker/1:0-xfs\n",
      " 4311 mana      20   0  201328   5724   4944 S   0.0  0.1   0:00.10 gvfsd-metadata\n",
      " 4448 root       0 -20       0      0      0 I   0.0  0.0   0:00.80 kworker/0:1H-kb\n",
      " 4523 mana      20   0 1497724 118604  31276 S   0.0  3.0   1:09.62 nautilus\n",
      " 5274 root      20   0       0      0      0 I   0.0  0.0   0:00.12 kworker/u8:0-i9\n",
      " 5307 mana      20   0   28588   1120    856 S   0.0  0.0   0:00.00 cat\n",
      " 5308 mana      20   0   28588   1120    860 S   0.0  0.0   0:00.03 cat\n",
      " 5312 mana      20   0  423064  20404  11012 S   0.0  0.5   0:00.03 vivaldi-bin\n",
      " 5316 mana      20   0  423064  12492   3092 S   0.0  0.3   0:02.09 vivaldi-bin\n",
      " 5347 mana      20   0  631524  90268  29188 S   0.0  2.3   7:45.72 vivaldi-bin\n",
      " 5414 mana      20   0 1233868 515528 275160 S   0.0 12.9  45:10.41 vivaldi-bin\n",
      " 5437 mana      20   0 10.719g 100036  51172 S   0.0  2.5   1:51.52 vivaldi-bin\n",
      " 5460 mana      20   0  690260  52192  32080 S   0.0  1.3   0:03.00 vivaldi-bin\n",
      " 5467 mana      20   0  713824  74016  43632 S   0.0  1.8   0:10.05 vivaldi-bin\n",
      " 5473 mana      20   0  718224  96244  56700 S   0.0  2.4   0:25.64 vivaldi-bin\n",
      " 5629 root      20   0       0      0      0 I   0.0  0.0   0:00.04 kworker/1:2-xfs\n",
      " 5918 root      20   0       0      0      0 I   0.0  0.0   0:00.10 kworker/0:2-eve\n",
      " 6467 mana      20   0  651856  51196  38148 S   0.0  1.3   0:00.03 vivaldi-bin\n",
      " 6958 root       0 -20       0      0      0 I   0.0  0.0   0:00.00 xfs-buf/sda2\n",
      " 6959 root       0 -20       0      0      0 I   0.0  0.0   0:00.00 xfs-data/sda2\n",
      " 6960 root       0 -20       0      0      0 I   0.0  0.0   0:00.00 xfs-conv/sda2\n",
      " 6961 root       0 -20       0      0      0 I   0.0  0.0   0:00.00 xfs-cil/sda2\n",
      " 6962 root       0 -20       0      0      0 I   0.0  0.0   0:00.00 xfs-reclaim/sda\n",
      " 6963 root       0 -20       0      0      0 I   0.0  0.0   0:00.00 xfs-log/sda2\n",
      " 6964 root       0 -20       0      0      0 I   0.0  0.0   0:00.00 xfs-eofblocks/s\n",
      " 6965 root      20   0       0      0      0 S   0.0  0.0   0:00.02 xfsaild/sda2\n",
      " 7021 root      20   0       0      0      0 I   0.0  0.0   0:00.07 kworker/1:1-eve\n",
      " 7239 root      20   0       0      0      0 I   0.0  0.0   0:00.04 kworker/u8:2-ev\n",
      " 7319 root      20   0       0      0      0 I   0.0  0.0   0:00.05 kworker/0:1-eve\n",
      " 7893 mana      20   0    4624    860    792 S   0.0  0.0   0:00.00 sh\n",
      " 7897 mana      20   0   11260    752    692 S   0.0  0.0   0:00.00 iostat\n",
      " 7898 mana      20   0    8352   1116   1032 S   0.0  0.0   0:00.00 awk\n",
      " 7899 mana      20   0    8352   1264   1184 S   0.0  0.0   0:00.00 awk\n",
      " 7900 mana      20   0   47832   3976   3380 R   0.0  0.1   0:00.01 top\n",
      "10427 mana      20   0  951452  60360  11628 S   0.0  1.5   0:32.61 jupyter-noteboo\n",
      "10602 mana      20   0  766472  80372   9412 S   0.0  2.0   0:05.37 python3\n",
      "15808 root       0 -20       0      0      0 I   0.0  0.0   0:00.00 kworker/0:2H-kb\n",
      "17702 mana      20   0 1163816 397116 105256 S   0.0  9.9   1:35.31 vivaldi-bin\n",
      "27165 mana      20   0  808204 150676  80120 S   0.0  3.8   0:13.76 vivaldi-bin\n",
      "28690 root      20   0  104332   6992   5956 S   0.0  0.2   0:00.04 cupsd\n",
      "28691 root      20   0  303652   8628   7308 S   0.0  0.2   0:00.02 cups-browsed\n",
      "31195 root       0 -20       0      0      0 I   0.0  0.0   0:00.34 kworker/1:2H-ev\n",
      "31864 root      20   0       0      0      0 I   0.0  0.0   0:00.19 kworker/u8:3-ev\n"
     ]
    }
   ],
   "source": [
    "from subprocess import check_output\n",
    "\n",
    "cmd = 'top -bn1'\n",
    "out = check_output(cmd.split()).decode().splitlines()\n",
    "print(*out,sep='\\n')"
   ]
  },
  {
   "cell_type": "code",
   "execution_count": 150,
   "metadata": {},
   "outputs": [
    {
     "name": "stdout",
     "output_type": "stream",
     "text": [
      "top - 13:09:11 up 1 day,  9:10,  1 user,  load average: 0.32, 0.65, 0.61\n",
      "Tasks: 227 total,   1 running, 172 sleeping,   0 stopped,   0 zombie\n",
      "%Cpu(s): 19.1 us,  5.5 sy,  0.0 ni, 75.2 id,  0.2 wa,  0.0 hi,  0.0 si,  0.0 st\n",
      "KiB Mem :  4001604 total,   601060 free,  2324220 used,  1076324 buff/cache\n",
      "KiB Swap:  1509720 total,  1221976 free,   287744 used.   973616 avail Mem \n",
      "\n",
      "  PID USER      PR  NI    VIRT    RES    SHR S  %CPU %MEM     TIME+ COMMAND\n",
      "10473 mana      20   0  852560 185320  55904 S  16.3  4.6  10:39.09 vivaldi-bin\n",
      " 5342 mana      20   0 1515116 164372  42024 S  10.3  4.1  97:14.09 vivaldi-bin\n",
      " 5301 mana      20   0 1434048 279984  87200 S   6.0  7.0  22:59.32 vivaldi-bin\n",
      "  867 root      20   0  586632  51940  37872 S   5.3  1.3  44:33.20 Xorg\n",
      " 1465 mana      20   0 1288420  46300  21832 S   3.3  1.2  21:12.34 budgie-wm\n",
      " 5414 mana      20   0 1243404 523044 276460 S   3.3 13.1  46:06.49 vivaldi-bin\n",
      "12093 mana      20   0  657996  77996  62596 S   1.3  1.9   0:00.04 vivaldi-bin\n",
      "17702 mana      20   0 1211388 444064 127324 S   1.3 11.1   1:54.53 vivaldi-bin\n",
      " 1565 mana      20   0  929100   9244   7748 S   1.0  0.2  18:54.45 conky\n",
      "  252 root      20   0       0      0      0 S   0.3  0.0   0:27.12 xfsaild/sda5\n",
      " 1477 mana      20   0 1784312  75692  26808 S   0.3  1.9   1:08.26 budgie-panel\n",
      " 1570 mana      20   0  565844  22684  13560 S   0.3  0.6   0:05.33 nm-applet\n",
      " 5347 mana      20   0  631396  89680  28732 S   0.3  2.2   7:49.37 vivaldi-bin\n",
      " 5437 mana      20   0 10.719g 101016  51172 S   0.3  2.5   1:52.52 vivaldi-bin\n",
      " 5467 mana      20   0  713824  76428  43632 S   0.3  1.9   0:10.24 vivaldi-bin\n",
      " 7074 mana      20   0   47964   4112   3448 S   0.3  0.1   0:03.82 top\n",
      " 7239 root      20   0       0      0      0 I   0.3  0.0   0:00.32 kworker/u8:2-ev\n",
      " 9348 root      20   0       0      0      0 D   0.3  0.0   0:00.31 kworker/u8:3+ev\n",
      " 9635 root       0 -20       0      0      0 I   0.3  0.0   0:00.24 kworker/1:0H-ev\n",
      "10427 mana      20   0  950728  59632  11624 S   0.3  1.5   0:33.00 jupyter-noteboo\n",
      "12084 mana      20   0   47832   4096   3500 R   0.3  0.1   0:00.03 top\n",
      "    1 root      20   0  159772   6320   4536 S   0.0  0.2   0:04.30 systemd\n",
      "    2 root      20   0       0      0      0 S   0.0  0.0   0:00.03 kthreadd\n",
      "    3 root       0 -20       0      0      0 I   0.0  0.0   0:00.00 rcu_gp\n",
      "    4 root       0 -20       0      0      0 I   0.0  0.0   0:00.00 rcu_par_gp\n",
      "    8 root       0 -20       0      0      0 I   0.0  0.0   0:00.00 mm_percpu_wq\n",
      "    9 root      20   0       0      0      0 S   0.0  0.0   0:05.11 ksoftirqd/0\n",
      "   10 root      20   0       0      0      0 I   0.0  0.0   1:09.67 rcu_sched\n",
      "   11 root      rt   0       0      0      0 S   0.0  0.0   0:01.23 migration/0\n",
      "   12 root     -51   0       0      0      0 S   0.0  0.0   0:00.00 idle_inject/0\n",
      "   14 root      20   0       0      0      0 S   0.0  0.0   0:00.00 cpuhp/0\n",
      "   15 root      20   0       0      0      0 S   0.0  0.0   0:00.00 cpuhp/1\n",
      "   16 root     -51   0       0      0      0 S   0.0  0.0   0:00.00 idle_inject/1\n",
      "   17 root      rt   0       0      0      0 S   0.0  0.0   0:01.21 migration/1\n",
      "   18 root      20   0       0      0      0 S   0.0  0.0   0:03.74 ksoftirqd/1\n",
      "   21 root      20   0       0      0      0 S   0.0  0.0   0:00.00 kdevtmpfs\n",
      "   22 root       0 -20       0      0      0 I   0.0  0.0   0:00.00 netns\n",
      "   23 root      20   0       0      0      0 S   0.0  0.0   0:00.00 rcu_tasks_kthre\n",
      "   24 root      20   0       0      0      0 S   0.0  0.0   0:00.00 kauditd\n",
      "   25 root      20   0       0      0      0 S   0.0  0.0   0:00.09 khungtaskd\n",
      "   26 root      20   0       0      0      0 S   0.0  0.0   0:00.00 oom_reaper\n",
      "   27 root       0 -20       0      0      0 I   0.0  0.0   0:00.00 writeback\n",
      "   28 root      20   0       0      0      0 S   0.0  0.0   0:00.34 kcompactd0\n",
      "   29 root      25   5       0      0      0 S   0.0  0.0   0:00.00 ksmd\n",
      "   30 root      39  19       0      0      0 S   0.0  0.0   0:00.21 khugepaged\n",
      "   31 root       0 -20       0      0      0 I   0.0  0.0   0:00.00 crypto\n",
      "   32 root       0 -20       0      0      0 I   0.0  0.0   0:00.00 kintegrityd\n",
      "   33 root       0 -20       0      0      0 I   0.0  0.0   0:00.00 kblockd\n",
      "   34 root       0 -20       0      0      0 I   0.0  0.0   0:00.00 tpm_dev_wq\n",
      "   35 root       0 -20       0      0      0 I   0.0  0.0   0:00.00 ata_sff\n",
      "   36 root       0 -20       0      0      0 I   0.0  0.0   0:00.00 md\n",
      "   37 root       0 -20       0      0      0 I   0.0  0.0   0:00.00 edac-poller\n",
      "   38 root       0 -20       0      0      0 I   0.0  0.0   0:00.00 devfreq_wq\n",
      "   39 root      rt   0       0      0      0 S   0.0  0.0   0:00.00 watchdogd\n",
      "   42 root      20   0       0      0      0 S   0.0  0.0   0:12.70 kswapd0\n",
      "   43 root       0 -20       0      0      0 I   0.0  0.0   0:00.00 kworker/u9:0\n",
      "   44 root      20   0       0      0      0 S   0.0  0.0   0:00.00 ecryptfs-kthrea\n",
      "  133 root       0 -20       0      0      0 I   0.0  0.0   0:00.00 kthrotld\n",
      "  134 root     -51   0       0      0      0 S   0.0  0.0   0:00.00 irq/24-pciehp\n",
      "  135 root       0 -20       0      0      0 I   0.0  0.0   0:00.00 acpi_thermal_pm\n",
      "  136 root      20   0       0      0      0 S   0.0  0.0   0:00.00 scsi_eh_0\n",
      "  137 root       0 -20       0      0      0 I   0.0  0.0   0:00.00 scsi_tmf_0\n",
      "  138 root      20   0       0      0      0 S   0.0  0.0   0:00.01 scsi_eh_1\n",
      "  139 root       0 -20       0      0      0 I   0.0  0.0   0:00.00 scsi_tmf_1\n",
      "  141 root      20   0       0      0      0 S   0.0  0.0   0:00.04 scsi_eh_2\n",
      "  142 root       0 -20       0      0      0 I   0.0  0.0   0:00.00 scsi_tmf_2\n",
      "  143 root      20   0       0      0      0 S   0.0  0.0   0:00.01 scsi_eh_3\n",
      "  144 root       0 -20       0      0      0 I   0.0  0.0   0:00.00 scsi_tmf_3\n",
      "  151 root       0 -20       0      0      0 I   0.0  0.0   0:00.00 ipv6_addrconf\n",
      "  163 root       0 -20       0      0      0 I   0.0  0.0   0:00.00 kstrp\n",
      "  182 root       0 -20       0      0      0 I   0.0  0.0   0:00.00 charger_manager\n",
      "  238 root       0 -20       0      0      0 I   0.0  0.0   0:00.00 xfsalloc\n",
      "  240 root       0 -20       0      0      0 I   0.0  0.0   0:00.00 xfs_mru_cache\n",
      "  245 root       0 -20       0      0      0 I   0.0  0.0   0:00.00 xfs-buf/sda5\n",
      "  246 root       0 -20       0      0      0 I   0.0  0.0   0:00.00 xfs-data/sda5\n",
      "  247 root       0 -20       0      0      0 I   0.0  0.0   0:00.00 xfs-conv/sda5\n",
      "  248 root       0 -20       0      0      0 I   0.0  0.0   0:00.00 xfs-cil/sda5\n",
      "  249 root       0 -20       0      0      0 I   0.0  0.0   0:00.00 xfs-reclaim/sda\n",
      "  250 root       0 -20       0      0      0 I   0.0  0.0   0:00.00 xfs-log/sda5\n",
      "  251 root       0 -20       0      0      0 I   0.0  0.0   0:00.00 xfs-eofblocks/s\n",
      "  308 root      19  -1  294840  44896  43540 S   0.0  1.1   0:03.23 systemd-journal\n",
      "  318 root      20   0   47456   3936   2672 S   0.0  0.1   0:02.39 systemd-udevd\n",
      "  321 root       0 -20       0      0      0 S   0.0  0.0   0:00.00 loop0\n",
      "  322 root       0 -20       0      0      0 S   0.0  0.0   0:00.06 loop1\n",
      "  331 root       0 -20       0      0      0 S   0.0  0.0   0:00.02 loop2\n",
      "  333 root       0 -20       0      0      0 S   0.0  0.0   0:00.00 loop3\n",
      "  493 root      -2   0       0      0      0 S   0.0  0.0   0:21.20 i915/signal:0\n",
      "  494 root      -2   0       0      0      0 S   0.0  0.0   0:00.00 i915/signal:2\n",
      "  496 systemd+  20   0  146108   1740   1512 S   0.0  0.0   0:00.17 systemd-timesyn\n",
      "  497 systemd+  20   0   70972   4380   3892 S   0.0  0.1   0:06.16 systemd-resolve\n",
      "  508 message+  20   0   51576   4740   3080 S   0.0  0.1   0:04.65 dbus-daemon\n",
      "  575 root      20   0 1155880  16828   5960 S   0.0  0.4   0:06.30 snapd\n",
      "  576 root      20   0  174292  10184   8328 S   0.0  0.3   0:00.10 networkd-dispat\n",
      "  577 root      20   0   45224   2856   2572 S   0.0  0.1   0:00.26 wpa_supplicant\n",
      "  580 root      20   0    4548    724    700 S   0.0  0.0   0:00.92 acpid\n",
      "  581 root      20   0  499292  10248   8348 S   0.0  0.3   0:23.96 NetworkManager\n",
      "  586 root      20   0  434320   6424   5272 S   0.0  0.2   0:00.06 ModemManager\n",
      "  587 syslog    20   0  263032   3240   2772 S   0.0  0.1   0:00.55 rsyslogd\n",
      "  589 root      20   0   70684   4188   3836 S   0.0  0.1   0:00.39 systemd-logind\n",
      "  591 root      20   0   35076   2756   2652 S   0.0  0.1   0:00.16 cron\n",
      "  592 root      20   0  305188   6644   6124 S   0.0  0.2   0:01.29 accounts-daemon\n",
      "  593 root      20   0  517616   7792   6132 S   0.0  0.2   0:13.15 udisksd\n",
      "  596 root      20   0  110408   1796   1696 S   0.0  0.0   0:03.28 irqbalance\n",
      "  597 avahi     20   0   47252   2808   2688 S   0.0  0.1   0:01.09 avahi-daemon\n",
      "  623 avahi     20   0   47072     40      0 S   0.0  0.0   0:00.00 avahi-daemon\n",
      "  673 root      20   0  318368   9000   6340 S   0.0  0.2   0:00.51 polkitd\n",
      "  751 root      20   0  191000  11612   8944 S   0.0  0.3   0:00.08 unattended-upgr\n",
      "  753 root      20   0  907876  12768    596 S   0.0  0.3   0:30.07 containerd\n",
      "  758 root      20   0  308844   5616   5312 S   0.0  0.1   0:00.02 lightdm\n",
      "  760 root      20   0   72292   2156   1976 S   0.0  0.1   0:00.01 sshd\n",
      "  765 root      20   0   19936   1540   1476 S   0.0  0.0   0:00.00 agetty\n",
      "  896 root      20   0   25988   3832   2560 S   0.0  0.1   0:00.01 dhclient\n",
      " 1026 mana      20   0  824224  38844  21568 S   0.0  1.0   0:06.02 mate-terminal\n",
      " 1044 mana      20   0   26548   5064   3292 S   0.0  0.1   0:00.15 bash\n",
      " 1063 root      20   0  248472   4976   4976 S   0.0  0.1   0:00.00 lightdm\n",
      " 1068 mana      20   0   76968   4884   4376 S   0.0  0.1   0:00.07 systemd\n",
      " 1069 mana      20   0  113920    628      0 S   0.0  0.0   0:00.00 (sd-pam)\n",
      " 1092 mana      20   0  722268   8844   7292 S   0.0  0.2   0:00.97 gnome-session-b\n",
      " 1135 mana      20   0  376292   8964   5256 S   0.0  0.2   0:35.51 ibus-daemon\n",
      " 1143 mana      20   0   51588   5092   3204 S   0.0  0.1   0:09.41 dbus-daemon\n",
      " 1146 mana      20   0  362432   5680   5132 S   0.0  0.1   0:06.70 gvfsd\n",
      " 1152 mana      20   0  432020   4772   4772 S   0.0  0.1   0:00.01 gvfsd-fuse\n",
      " 1154 mana      20   0  293332   4648   4648 S   0.0  0.1   0:00.00 ibus-dconf\n",
      " 1155 mana      20   0  621452  24704  12516 S   0.0  0.6   0:17.00 ibus-ui-gtk3\n",
      " 1157 mana      20   0  497164  19468   9244 S   0.0  0.5   0:01.27 ibus-x11\n",
      " 1159 mana      20   0  291248   4900   4752 S   0.0  0.1   0:00.20 ibus-portal\n",
      " 1218 mana      20   0   11300     40      0 S   0.0  0.0   0:00.21 ssh-agent\n",
      " 1224 mana      20   0  367840   5776   5408 S   0.0  0.1   0:00.01 at-spi-bus-laun\n",
      " 1229 mana      20   0   50052   3404   3056 S   0.0  0.1   0:01.12 dbus-daemon\n",
      " 1234 mana      20   0  220740   5696   5364 S   0.0  0.1   0:06.99 at-spi2-registr\n",
      " 1246 mana      20   0  529124  47208  22204 S   0.0  1.2   0:03.94 gnome-screensav\n",
      " 1252 mana      20   0  217580   5700   5340 S   0.0  0.1   0:06.37 ibus-engine-sim\n",
      " 1256 mana      20   0  432980   6196   4808 S   0.0  0.2   0:00.38 gnome-keyring-d\n",
      " 1265 mana      20   0  522016  18132   8220 S   0.0  0.5   0:01.51 gsd-keyboard\n",
      " 1266 mana      20   0  881996  18576   8012 S   0.0  0.5   0:01.87 gsd-media-keys\n",
      " 1267 mana      20   0  293356   5404   5096 S   0.0  0.1   0:00.20 gsd-mouse\n",
      " 1268 mana      20   0  532700  20436   9788 S   0.0  0.5   0:01.74 gsd-power\n",
      " 1270 mana      20   0  345964   7664   7196 S   0.0  0.2   0:00.21 gsd-print-notif\n",
      " 1272 mana      20   0  272384   5140   4832 S   0.0  0.1   0:00.19 gsd-screensaver\n",
      " 1273 mana      20   0  389420   4616   4380 S   0.0  0.1   0:00.20 gsd-smartcard\n",
      " 1277 mana      20   0  339800   5684   5404 S   0.0  0.1   0:00.20 gsd-sound\n",
      " 1280 mana      20   0  468028   6480   5648 S   0.0  0.2   0:03.72 gsd-sharing\n",
      " 1285 mana      20   0  419996   5088   4768 S   0.0  0.1   0:00.21 gsd-rfkill\n",
      " 1293 mana      20   0  445984  18576   8100 S   0.0  0.5   0:01.49 gsd-wacom\n",
      " 1297 mana      20   0  508932  18924   8048 S   0.0  0.5   0:01.64 gsd-xsettings\n",
      " 1306 mana      20   0  293348   5392   5028 S   0.0  0.1   0:00.21 gsd-a11y-settin\n",
      " 1308 mana      20   0  361096  18188   7812 S   0.0  0.5   0:01.49 gsd-clipboard\n",
      " 1313 mana      20   0  609864  20012   9800 S   0.0  0.5   0:19.10 gsd-color\n",
      " 1316 mana      20   0  473288   7100   6800 S   0.0  0.2   0:00.22 gsd-datetime\n",
      " 1318 mana      20   0  986088   7732   5912 S   0.0  0.2   0:01.70 gsd-housekeepin\n",
      " 1319 mana       9 -11 2027672  10112   7564 S   0.0  0.3  10:43.47 pulseaudio\n",
      " 1326 root      20   0  319052   7332   6724 S   0.0  0.2   0:00.18 upowerd\n",
      " 1373 rtkit     21   1  183500   2524   2424 S   0.0  0.1   0:00.56 rtkit-daemon\n",
      " 1374 mana      20   0  505408   8484   7956 S   0.0  0.2   0:00.02 gsd-printer\n",
      " 1398 root      20   0       0      0      0 I   0.0  0.0   0:00.57 kworker/u8:1-ev\n",
      " 1412 colord    20   0  336196   9596   7384 S   0.0  0.2   0:00.12 colord\n",
      " 1492 mana      20   0  188416   5384   4436 S   0.0  0.1   0:01.03 dconf-service\n",
      " 1500 mana      20   0  464280   6704   5676 S   0.0  0.2   0:00.74 gvfs-udisks2-vo\n",
      " 1505 mana      20   0  272520   5476   5076 S   0.0  0.1   0:00.02 gvfs-mtp-volume\n",
      " 1509 mana      20   0  285440   5712   5412 S   0.0  0.1   0:00.03 gvfs-gphoto2-vo\n",
      " 1513 mana      20   0  270696   5044   4776 S   0.0  0.1   0:00.02 gvfs-goa-volume\n",
      " 1517 mana      20   0  778400   7660   7440 S   0.0  0.2   0:00.06 goa-daemon\n",
      " 1519 mana      20   0  533252  29592  12724 S   0.0  0.7   0:13.08 budgie-daemon\n",
      " 1520 mana      20   0  512876  18464   8472 S   0.0  0.5   0:01.83 budgie-polkit-d\n",
      " 1534 mana      20   0  389936   5420   5420 S   0.0  0.1   0:00.10 goa-identity-se\n",
      " 1539 mana      20   0  375464   6652   6328 S   0.0  0.2   0:00.02 gvfs-afc-volume\n",
      " 1552 mana      20   0  271932   5424   4880 S   0.0  0.1   0:00.04 gsd-disk-utilit\n",
      " 1553 mana      20   0  465148   6904   6420 S   0.0  0.2   0:00.10 indicator-appli\n",
      " 1558 mana      20   0  684044  41024  21464 S   0.0  1.0   1:08.30 plank\n",
      " 1563 mana      20   0 1131420  28504  12044 S   0.0  0.7   0:03.02 tilda\n",
      " 1573 mana      20   0  402644  23052  11456 S   0.0  0.6   0:04.01 caffeine\n",
      " 1582 root      20   0  904804  29528   2980 S   0.0  0.7   0:25.62 dockerd\n",
      " 1596 whoopsie  20   0  466672   8172   7360 S   0.0  0.2   0:00.03 whoopsie\n",
      " 1599 root      20   0  269096   7052   5992 S   0.0  0.2   0:01.61 nmbd\n",
      " 1600 kernoops  20   0   56936   1980   1876 S   0.0  0.0   0:01.70 kerneloops\n",
      " 1603 kernoops  20   0   56936   2104   1876 S   0.0  0.1   0:01.70 kerneloops\n",
      " 1632 root      20   0  360364   8792   7316 S   0.0  0.2   0:00.24 smbd\n",
      " 1660 root      20   0  348780   2764   1484 S   0.0  0.1   0:00.06 smbd-notifyd\n",
      " 1661 root      20   0  348772   1740    464 S   0.0  0.0   0:00.06 cleanupd\n",
      " 1662 root      20   0  360364   4936   3460 S   0.0  0.1   0:00.19 lpqd\n",
      " 1703 root      20   0    4504    632    632 S   0.0  0.0   0:00.00 none\n",
      " 1764 mana      20   0  439804   7708   5140 S   0.0  0.2   0:15.97 gvfsd-trash\n",
      " 1894 mana      20   0  458840  24580  11020 S   0.0  0.6   0:18.73 bamfdaemon\n",
      " 2034 mana      20   0   26416   2716   2216 S   0.0  0.1   0:00.03 bash\n",
      " 2045 mana      20   0  381032   6504   5772 S   0.0  0.2   0:00.13 gvfsd-network\n",
      " 2112 mana      20   0  377940   5544   5544 S   0.0  0.1   0:00.04 gvfsd-dnssd\n",
      " 2451 root      20   0  527740  19068   8392 S   0.0  0.5   0:13.27 packagekitd\n",
      " 2699 root       0 -20       0      0      0 I   0.0  0.0   0:06.36 kworker/1:1H-ev\n",
      " 2702 mana      20   0 1351076 156392  14340 S   0.0  3.9   0:09.69 gnome-software\n",
      " 2704 mana      20   0  683000  22328   9704 S   0.0  0.6   0:02.66 update-notifier\n",
      " 2751 root      20   0  561672  17868   8712 S   0.0  0.4   0:02.49 fwupd\n",
      " 3679 root      20   0       0      0      0 I   0.0  0.0   0:00.28 kworker/0:0-eve\n",
      " 4311 mana      20   0  201328   5724   4944 S   0.0  0.1   0:00.10 gvfsd-metadata\n",
      " 4448 root       0 -20       0      0      0 I   0.0  0.0   0:01.15 kworker/0:1H-kb\n",
      " 4523 mana      20   0 1497724 118604  31276 S   0.0  3.0   1:09.91 nautilus\n",
      " 5307 mana      20   0   28588   1120    856 S   0.0  0.0   0:00.00 cat\n",
      " 5308 mana      20   0   28588   1120    860 S   0.0  0.0   0:00.03 cat\n",
      " 5312 mana      20   0  423064  20404  11012 S   0.0  0.5   0:00.03 vivaldi-bin\n",
      " 5316 mana      20   0  423064  12492   3092 S   0.0  0.3   0:02.11 vivaldi-bin\n",
      " 5460 mana      20   0  690260  53928  32080 S   0.0  1.3   0:03.05 vivaldi-bin\n",
      " 5473 mana      20   0  718224  96408  56700 S   0.0  2.4   0:25.82 vivaldi-bin\n",
      " 6958 root       0 -20       0      0      0 I   0.0  0.0   0:00.00 xfs-buf/sda2\n",
      " 6959 root       0 -20       0      0      0 I   0.0  0.0   0:00.00 xfs-data/sda2\n",
      " 6960 root       0 -20       0      0      0 I   0.0  0.0   0:00.00 xfs-conv/sda2\n",
      " 6961 root       0 -20       0      0      0 I   0.0  0.0   0:00.00 xfs-cil/sda2\n",
      " 6962 root       0 -20       0      0      0 I   0.0  0.0   0:00.00 xfs-reclaim/sda\n",
      " 6963 root       0 -20       0      0      0 I   0.0  0.0   0:00.00 xfs-log/sda2\n",
      " 6964 root       0 -20       0      0      0 I   0.0  0.0   0:00.00 xfs-eofblocks/s\n",
      " 6965 root      20   0       0      0      0 S   0.0  0.0   0:00.02 xfsaild/sda2\n",
      " 8389 mana      20   0  759136  53116  43032 S   0.0  1.3   0:02.29 vivaldi-bin\n",
      " 8451 root      20   0       0      0      0 I   0.0  0.0   0:00.09 kworker/1:0-eve\n",
      " 9847 root      20   0       0      0      0 I   0.0  0.0   0:00.20 kworker/1:2-eve\n",
      "10000 root      20   0       0      0      0 I   0.0  0.0   0:00.04 kworker/0:2-eve\n",
      "10602 mana      20   0  766472  80372   9412 S   0.0  2.0   0:05.44 python3\n",
      "10894 mana      20   0  661076  51732  38536 S   0.0  1.3   0:00.03 vivaldi-bin\n",
      "10904 root      20   0       0      0      0 I   0.0  0.0   0:00.11 kworker/u8:0-ev\n",
      "11003 root       0 -20       0      0      0 I   0.0  0.0   0:00.06 kworker/0:0H-ev\n",
      "11409 root      20   0       0      0      0 I   0.0  0.0   0:00.00 kworker/1:1-xfs\n",
      "11580 root      20   0       0      0      0 I   0.0  0.0   0:00.00 kworker/0:1-eve\n",
      "12107 mana      20   0    4624    804    740 S   0.0  0.0   0:00.00 sh\n",
      "12108 mana      20   0   11260    848    784 S   0.0  0.0   0:00.00 iostat\n",
      "12109 mana      20   0    8352   1116   1032 S   0.0  0.0   0:00.00 awk\n",
      "12110 mana      20   0    8352   1196   1112 S   0.0  0.0   0:00.00 awk\n",
      "15808 root       0 -20       0      0      0 I   0.0  0.0   0:00.00 kworker/0:2H-kb\n",
      "27165 mana      20   0  808204 150936  80120 S   0.0  3.8   0:14.42 vivaldi-bin\n",
      "28690 root      20   0  104332   6924   5956 S   0.0  0.2   0:00.04 cupsd\n",
      "28691 root      20   0  303652   8556   7308 S   0.0  0.2   0:00.02 cups-browsed\n"
     ]
    }
   ],
   "source": [
    "from subprocess import check_output\n",
    "\n",
    "cmd = 'top -bn2'\n",
    "out = check_output(cmd.split()).decode().splitlines()\n",
    "line = [i for i,j in enumerate(out) if 'top -' in j]\n",
    "print(*out[line[1]::], sep = '\\n')\n"
   ]
  },
  {
   "cell_type": "code",
   "execution_count": 156,
   "metadata": {},
   "outputs": [
    {
     "name": "stdout",
     "output_type": "stream",
     "text": [
      "{1, 2, 3, 4, 5, 8}\n"
     ]
    }
   ],
   "source": [
    "lst = [1, 2, 2, 3, 4, 2, 3, 5, 1, 3, 8, 3]\n",
    "print({*lst})"
   ]
  },
  {
   "cell_type": "markdown",
   "metadata": {},
   "source": [
    "### How to remove duplicate items in list?"
   ]
  },
  {
   "cell_type": "code",
   "execution_count": 190,
   "metadata": {},
   "outputs": [
    {
     "data": {
      "text/plain": [
       "[1, 2, 3, 4, 5, 8]"
      ]
     },
     "execution_count": 190,
     "metadata": {},
     "output_type": "execute_result"
    }
   ],
   "source": [
    "### Method:1 ###\n",
    "lst = [1, 2, 2, 3, 4, 2, 3, 5, 1, 3, 8, 3]\n",
    "list(set(lst))"
   ]
  },
  {
   "cell_type": "code",
   "execution_count": 191,
   "metadata": {},
   "outputs": [
    {
     "data": {
      "text/plain": [
       "[1, 2, 3, 4, 5, 8]"
      ]
     },
     "execution_count": 191,
     "metadata": {},
     "output_type": "execute_result"
    }
   ],
   "source": [
    "### Method:2 ###\n",
    "lst = [1, 2, 2, 3, 4, 2, 3, 5, 1, 3, 8, 3]\n",
    "list({i for i in lst})"
   ]
  },
  {
   "cell_type": "code",
   "execution_count": 192,
   "metadata": {},
   "outputs": [
    {
     "data": {
      "text/plain": [
       "[1, 2, 3, 4, 5, 8]"
      ]
     },
     "execution_count": 192,
     "metadata": {},
     "output_type": "execute_result"
    }
   ],
   "source": [
    "### Method:3 ###\n",
    "lst = [1, 2, 2, 3, 4, 2, 3, 5, 1, 3, 8, 3]\n",
    "list({*lst})"
   ]
  },
  {
   "cell_type": "code",
   "execution_count": 194,
   "metadata": {},
   "outputs": [
    {
     "data": {
      "text/plain": [
       "array([1, 2, 3, 4, 5, 8])"
      ]
     },
     "execution_count": 194,
     "metadata": {},
     "output_type": "execute_result"
    }
   ],
   "source": [
    "import numpy as np\n",
    "\n",
    "lst = [1, 2, 2, 3, 4, 2, 3, 5, 1, 3, 8, 3]\n",
    "lst = np.array(lst)\n",
    "np.unique(lst)"
   ]
  },
  {
   "cell_type": "code",
   "execution_count": null,
   "metadata": {},
   "outputs": [],
   "source": []
  }
 ],
 "metadata": {
  "kernelspec": {
   "display_name": "Python 3",
   "language": "python",
   "name": "python3"
  },
  "language_info": {
   "codemirror_mode": {
    "name": "ipython",
    "version": 3
   },
   "file_extension": ".py",
   "mimetype": "text/x-python",
   "name": "python",
   "nbconvert_exporter": "python",
   "pygments_lexer": "ipython3",
   "version": "3.6.9"
  }
 },
 "nbformat": 4,
 "nbformat_minor": 2
}
