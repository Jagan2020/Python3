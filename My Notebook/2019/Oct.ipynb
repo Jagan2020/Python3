{
 "cells": [
  {
   "cell_type": "markdown",
   "metadata": {},
   "source": [
    "### if/else ternary"
   ]
  },
  {
   "cell_type": "code",
   "execution_count": 2,
   "metadata": {},
   "outputs": [
    {
     "data": {
      "text/plain": [
       "'chitra'"
      ]
     },
     "execution_count": 2,
     "metadata": {},
     "output_type": "execute_result"
    }
   ],
   "source": [
    "name = 'chitra'\n",
    "student_name = name if name == 'chitra' else 'manavalan'\n",
    "student_name "
   ]
  },
  {
   "cell_type": "markdown",
   "metadata": {},
   "source": [
    "### How to use if/else in Python Dictionary Comprehension?"
   ]
  },
  {
   "cell_type": "code",
   "execution_count": 9,
   "metadata": {},
   "outputs": [
    {
     "data": {
      "text/plain": [
       "{20: 'Fail', 50: 'Pass'}"
      ]
     },
     "execution_count": 9,
     "metadata": {},
     "output_type": "execute_result"
    }
   ],
   "source": [
    "mark = [50, 20]\n",
    "\n",
    "{i:'Pass' if 35 < i else 'Fail' for i in mark}"
   ]
  },
  {
   "cell_type": "markdown",
   "metadata": {},
   "source": [
    "### How to count cpu in Python?"
   ]
  },
  {
   "cell_type": "code",
   "execution_count": 6,
   "metadata": {},
   "outputs": [
    {
     "name": "stdout",
     "output_type": "stream",
     "text": [
      "processor\t: 0\r\n",
      "processor\t: 1\r\n"
     ]
    }
   ],
   "source": [
    "cat /proc/cpuinfo | grep proc"
   ]
  },
  {
   "cell_type": "code",
   "execution_count": 4,
   "metadata": {},
   "outputs": [
    {
     "data": {
      "text/plain": [
       "2"
      ]
     },
     "execution_count": 4,
     "metadata": {},
     "output_type": "execute_result"
    }
   ],
   "source": [
    "import os\n",
    "\n",
    "os.cpu_count()"
   ]
  },
  {
   "cell_type": "markdown",
   "metadata": {},
   "source": [
    "### How to list Python Module Method  using Linux Command?"
   ]
  },
  {
   "cell_type": "code",
   "execution_count": 10,
   "metadata": {},
   "outputs": [
    {
     "name": "stdout",
     "output_type": "stream",
     "text": [
      "class Random(_random.Random)\n",
      "     seed(self, a=None, version=2)\n",
      "     getstate(self)\n",
      "     setstate(self, state)\n",
      "     randrange(self, start, stop=None, step=1, _int=int)\n",
      "     randint(self, a, b)\n",
      "     choice(self, seq)\n",
      "     shuffle(self, x, random=None)\n",
      "     sample(self, population, k)\n",
      "     choices(self, population, weights=None, *, cum_weights=None, k=1)\n",
      "     uniform(self, a, b)\n",
      "     triangular(self, low=0.0, high=1.0, mode=None)\n",
      "     normalvariate(self, mu, sigma)\n",
      "     lognormvariate(self, mu, sigma)\n",
      "     expovariate(self, lambd)\n",
      "     vonmisesvariate(self, mu, kappa)\n",
      "     gammavariate(self, alpha, beta)\n",
      "     gauss(self, mu, sigma)\n",
      "     betavariate(self, alpha, beta)\n",
      "     paretovariate(self, alpha)\n",
      "     weibullvariate(self, alpha, beta)\n",
      "class SystemRandom(Random)\n",
      "     random(self)\n",
      "     getrandbits(self, k)\n",
      "     seed(self, *args, **kwds)\n"
     ]
    }
   ],
   "source": [
    "%%bash\n",
    "\n",
    "grep -rP \"^def [a-zA-Z].*|class.*:$|^\\s{1,}def [a-zA-Z].*\" \n",
    "/usr/lib/python3.6/random.py | sed -r 's/def|://g'"
   ]
  },
  {
   "cell_type": "markdown",
   "metadata": {},
   "source": [
    "### How to collect all list method manual?\n"
   ]
  },
  {
   "cell_type": "code",
   "execution_count": 11,
   "metadata": {},
   "outputs": [
    {
     "name": "stdout",
     "output_type": "stream",
     "text": [
      "L.append(object) -> None -- append object to end\n",
      "**************************************************\n",
      "L.clear() -> None -- remove all items from L\n",
      "**************************************************\n",
      "L.copy() -> list -- a shallow copy of L\n",
      "**************************************************\n",
      "L.count(value) -> integer -- return number of occurrences of value\n",
      "**************************************************\n",
      "L.extend(iterable) -> None -- extend list by appending elements from the iterable\n",
      "**************************************************\n",
      "L.index(value, [start, [stop]]) -> integer -- return first index of value.\n",
      "Raises ValueError if the value is not present.\n",
      "**************************************************\n",
      "L.insert(index, object) -- insert object before index\n",
      "**************************************************\n",
      "L.pop([index]) -> item -- remove and return item at index (default last).\n",
      "Raises IndexError if list is empty or index is out of range.\n",
      "**************************************************\n",
      "L.remove(value) -> None -- remove first occurrence of value.\n",
      "Raises ValueError if the value is not present.\n",
      "**************************************************\n",
      "L.reverse() -- reverse *IN PLACE*\n",
      "**************************************************\n",
      "L.sort(key=None, reverse=False) -> None -- stable sort *IN PLACE*\n",
      "**************************************************\n"
     ]
    }
   ],
   "source": [
    "for i in dir(list)[-11:]:\n",
    "    print((eval('list.'+i)).__doc__)\n",
    "    print('*'*50)\n"
   ]
  },
  {
   "cell_type": "markdown",
   "metadata": {},
   "source": [
    "### How to delete particular line in file?"
   ]
  },
  {
   "cell_type": "code",
   "execution_count": 14,
   "metadata": {},
   "outputs": [
    {
     "name": "stdout",
     "output_type": "stream",
     "text": [
      "     1\tApples and pears.\r\n",
      "     2\tCitrus – oranges, grapefruits, mandarins and limes.\r\n",
      "     3\tStone fruit – nectarines, apricots, peaches and plums.\r\n",
      "     4\tTropical and exotic – bananas and mangoes.\r\n",
      "     5\tBerries – strawberries, raspberries, blueberries, kiwifruit and passionfruit.\r\n"
     ]
    }
   ],
   "source": [
    "!cat -n /home/mana/Work/fruits.txt"
   ]
  },
  {
   "cell_type": "markdown",
   "metadata": {},
   "source": [
    "### Linux"
   ]
  },
  {
   "cell_type": "code",
   "execution_count": 16,
   "metadata": {},
   "outputs": [
    {
     "name": "stdout",
     "output_type": "stream",
     "text": [
      "Apples and pears.\r\n",
      "Citrus – oranges, grapefruits, mandarins and limes.\r\n",
      "Tropical and exotic – bananas and mangoes.\r\n",
      "Berries – strawberries, raspberries, blueberries, kiwifruit and passionfruit.\r\n"
     ]
    }
   ],
   "source": [
    "!sed '3d' /home/mana/Work/fruits.txt"
   ]
  },
  {
   "cell_type": "markdown",
   "metadata": {},
   "source": [
    "### Python"
   ]
  },
  {
   "cell_type": "code",
   "execution_count": 26,
   "metadata": {},
   "outputs": [
    {
     "data": {
      "text/plain": [
       "['Apples and pears.',\n",
       " 'Citrus – oranges, grapefruits, mandarins and limes.',\n",
       " 'Tropical and exotic – bananas and mangoes.',\n",
       " 'Berries – strawberries, raspberries, blueberries, kiwifruit and passionfruit.']"
      ]
     },
     "execution_count": 26,
     "metadata": {},
     "output_type": "execute_result"
    }
   ],
   "source": [
    "from pathlib import Path\n",
    "\n",
    "P = Path('/home/mana/Work/fruits.txt').read_text().splitlines()\n",
    "f=[i for i in P]\n",
    "f[0:2]+f[-2:]"
   ]
  },
  {
   "cell_type": "markdown",
   "metadata": {},
   "source": [
    "### How to search word?"
   ]
  },
  {
   "cell_type": "code",
   "execution_count": 69,
   "metadata": {},
   "outputs": [
    {
     "name": "stdout",
     "output_type": "stream",
     "text": [
      "Apples and pears.\r\n",
      "Citrus – oranges, grapefruits, mandarins and limes.\r\n",
      "Stone fruit – nectarines, apricots, peaches and plums.\r\n",
      "Tropical and exotic – bananas and mangoes.\r\n",
      "Berries – strawberries, raspberries, blueberries, kiwifruit and passionfruit.\r\n"
     ]
    }
   ],
   "source": [
    "!cat /home/mana/Work/fruits.txt"
   ]
  },
  {
   "cell_type": "code",
   "execution_count": 71,
   "metadata": {},
   "outputs": [
    {
     "name": "stdout",
     "output_type": "stream",
     "text": [
      "Apples\n"
     ]
    }
   ],
   "source": [
    "P = Path('/home/mana/Work/fruits.txt').read_text().split() \n",
    "\n",
    "for i in P :\n",
    "    if 'Apples' == 'Apples':\n",
    "        print(i)\n",
    "        break"
   ]
  },
  {
   "cell_type": "code",
   "execution_count": 80,
   "metadata": {},
   "outputs": [
    {
     "data": {
      "text/plain": [
       "True"
      ]
     },
     "execution_count": 80,
     "metadata": {},
     "output_type": "execute_result"
    }
   ],
   "source": [
    "'Apples' in Path('/home/mana/Work/fruits.txt').read_text().split()\n"
   ]
  },
  {
   "cell_type": "markdown",
   "metadata": {},
   "source": [
    "#### Linux"
   ]
  },
  {
   "cell_type": "code",
   "execution_count": 82,
   "metadata": {},
   "outputs": [
    {
     "name": "stdout",
     "output_type": "stream",
     "text": [
      "Apples and pears.\r\n"
     ]
    }
   ],
   "source": [
    "!grep 'Apples' /home/mana/Work/fruits.txt"
   ]
  },
  {
   "cell_type": "code",
   "execution_count": 92,
   "metadata": {},
   "outputs": [
    {
     "name": "stdout",
     "output_type": "stream",
     "text": [
      "Apples\r\n"
     ]
    }
   ],
   "source": [
    "!awk '/Apples/{print $1}'  /home/mana/Work/fruits.txt"
   ]
  },
  {
   "cell_type": "markdown",
   "metadata": {},
   "source": [
    "### How to skip the numbers divisible by 3 or 5?"
   ]
  },
  {
   "cell_type": "code",
   "execution_count": 35,
   "metadata": {},
   "outputs": [
    {
     "data": {
      "text/plain": [
       "[1,\n",
       " 2,\n",
       " 4,\n",
       " 7,\n",
       " 8,\n",
       " 11,\n",
       " 13,\n",
       " 14,\n",
       " 16,\n",
       " 17,\n",
       " 19,\n",
       " 22,\n",
       " 23,\n",
       " 26,\n",
       " 28,\n",
       " 29,\n",
       " 31,\n",
       " 32,\n",
       " 34,\n",
       " 37,\n",
       " 38,\n",
       " 41,\n",
       " 43,\n",
       " 44,\n",
       " 46,\n",
       " 47,\n",
       " 49,\n",
       " 52,\n",
       " 53,\n",
       " 56,\n",
       " 58,\n",
       " 59,\n",
       " 61,\n",
       " 62,\n",
       " 64,\n",
       " 67,\n",
       " 68,\n",
       " 71,\n",
       " 73,\n",
       " 74,\n",
       " 76,\n",
       " 77,\n",
       " 79,\n",
       " 82,\n",
       " 83,\n",
       " 86,\n",
       " 88,\n",
       " 89,\n",
       " 91,\n",
       " 92,\n",
       " 94,\n",
       " 97,\n",
       " 98]"
      ]
     },
     "execution_count": 35,
     "metadata": {},
     "output_type": "execute_result"
    }
   ],
   "source": [
    "[i for i in (range(1,100)) \n",
    " if i % 3 != 0 and i % 5 != 0]"
   ]
  },
  {
   "cell_type": "markdown",
   "metadata": {},
   "source": [
    "### How list directory?"
   ]
  },
  {
   "cell_type": "code",
   "execution_count": 48,
   "metadata": {},
   "outputs": [
    {
     "name": "stdout",
     "output_type": "stream",
     "text": [
      "fruits.txt\n",
      "jean-pierre-brungs-3XoiSqiX5ms-unsplash.jpg\n",
      "jesse-sewell-q75_AMCgsZU-unsplash.jpg\n",
      "nasa--hI5dX2ObAs-unsplash.jpg\n"
     ]
    }
   ],
   "source": [
    "%%bash\n",
    "\n",
    "ls -1 /home/mana/Work"
   ]
  },
  {
   "cell_type": "markdown",
   "metadata": {},
   "source": [
    "#### Python"
   ]
  },
  {
   "cell_type": "code",
   "execution_count": 50,
   "metadata": {},
   "outputs": [
    {
     "data": {
      "text/plain": [
       "['fruits.txt',\n",
       " 'jean-pierre-brungs-3XoiSqiX5ms-unsplash.jpg',\n",
       " 'jesse-sewell-q75_AMCgsZU-unsplash.jpg',\n",
       " 'nasa--hI5dX2ObAs-unsplash.jpg']"
      ]
     },
     "execution_count": 50,
     "metadata": {},
     "output_type": "execute_result"
    }
   ],
   "source": [
    "#Method:1\n",
    "from os import listdir\n",
    "\n",
    "listdir('/home/mana/Work')"
   ]
  },
  {
   "cell_type": "code",
   "execution_count": 47,
   "metadata": {},
   "outputs": [
    {
     "data": {
      "text/plain": [
       "['fruits.txt',\n",
       " 'jean-pierre-brungs-3XoiSqiX5ms-unsplash.jpg',\n",
       " 'jesse-sewell-q75_AMCgsZU-unsplash.jpg',\n",
       " 'nasa--hI5dX2ObAs-unsplash.jpg']"
      ]
     },
     "execution_count": 47,
     "metadata": {},
     "output_type": "execute_result"
    }
   ],
   "source": [
    "#Method:2\n",
    "\n",
    "from pathlib import Path\n",
    "\n",
    "[i.name for i in Path('/home/mana/Work').iterdir()]"
   ]
  },
  {
   "cell_type": "markdown",
   "metadata": {},
   "source": [
    "### How to manipulate Array in Bash and Python?"
   ]
  },
  {
   "cell_type": "code",
   "execution_count": 5,
   "metadata": {},
   "outputs": [
    {
     "name": "stdout",
     "output_type": "stream",
     "text": [
      "Tuesday Wensday Thursday Friday Saturday Sunday\n",
      "Wensday Thursday Friday Saturday Sunday\n",
      "Wensday Thursday Friday\n",
      "Sunday\n",
      "Friday Saturday Sunday\n"
     ]
    }
   ],
   "source": [
    "%%bash\n",
    "\n",
    "arry=('Monday' 'Tuesday' 'Wensday' 'Thursday' 'Friday' 'Saturday' 'Sunday')\n",
    "echo ${arry[@]:1}\n",
    "echo ${arry[@]:2}\n",
    "echo ${arry[@]:2:3}\n",
    "echo ${arry[@]: -1}\n",
    "echo ${arry[@]: -3}"
   ]
  },
  {
   "cell_type": "code",
   "execution_count": 14,
   "metadata": {},
   "outputs": [
    {
     "name": "stdout",
     "output_type": "stream",
     "text": [
      "['Tuesday', 'Wensday', 'Thursday', 'Friday', 'Saturday', 'Sunday']\n",
      "['Wensday', 'Thursday', 'Friday', 'Saturday', 'Sunday']\n",
      "['Wensday', 'Thursday', 'Friday']\n",
      "Sunday\n",
      "['Friday', 'Saturday', 'Sunday']\n"
     ]
    }
   ],
   "source": [
    "%%python3\n",
    "\n",
    "arry=['Monday', 'Tuesday', 'Wensday', 'Thursday', 'Friday', 'Saturday', 'Sunday']\n",
    "print(arry[1:])\n",
    "print(arry[2:])\n",
    "print(arry[2:5])\n",
    "print(arry[-1])\n",
    "print(arry[-3:])"
   ]
  },
  {
   "cell_type": "code",
   "execution_count": 33,
   "metadata": {},
   "outputs": [
    {
     "name": "stdout",
     "output_type": "stream",
     "text": [
      "o\n",
      "n\n",
      "k\n",
      "e\n"
     ]
    }
   ],
   "source": [
    "str1, str2= \"Donkey\", \"Yeknod\"\n",
    "for i in str1:\n",
    "    for j in str2:\n",
    "        if i == j:\n",
    "            print(i)"
   ]
  },
  {
   "cell_type": "code",
   "execution_count": 34,
   "metadata": {},
   "outputs": [
    {
     "name": "stdout",
     "output_type": "stream",
     "text": [
      " CODE   Country                                    Currency\n",
      "************************************************************\n",
      "  US    United States                                USD  \n",
      "  CA    Canada                                       CAD  \n",
      "  GB    United Kingdom                               GBP  \n",
      "  AR    Argentina                                    ARS  \n",
      "  AU    Australia                                    AUD  \n",
      "  AT    Austria                                      EUR  \n",
      "  BE    Belgium                                      EUR  \n",
      "  BR    Brazil                                       BRL  \n",
      "  CL    Chile                                        CLP  \n",
      "  CN    China                                        CNY  \n",
      "  CO    Colombia                                     COP  \n",
      "  HR    Croatia                                      USD  \n",
      "  DK    Denmark                                      DKK  \n",
      "  DO    Dominican Republic                           USD  \n",
      "  EG    Egypt                                        EGP  \n",
      "  FI    Finland                                      EUR  \n",
      "  FR    France                                       EUR  \n",
      "  DE    Germany                                      EUR  \n",
      "  GR    Greece                                       EUR  \n",
      "  HK    Hong Kong                                    HKD  \n",
      "  IN    India                                        INR  \n",
      "  ID    Indonesia                                    IDR  \n",
      "  IE    Ireland                                      EUR  \n",
      "  IL    Israel                                       ILS  \n",
      "  IT    Italy                                        EUR  \n",
      "  JP    Japan                                        JPY  \n",
      "  JO    Jordan                                       USD  \n",
      "  KW    Kuwait                                       USD  \n",
      "  LB    Lebanon                                      USD  \n",
      "  MY    Malaysia                                     MYR  \n",
      "  MX    Mexico                                       MXN  \n",
      "  NL    Netherlands                                  EUR  \n",
      "  NZ    New Zealand                                  NZD  \n",
      "  NG    Nigeria                                      NGN  \n",
      "  NO    Norway                                       NOK  \n",
      "  PK    Pakistan                                     PKR  \n",
      "  PA    Panama                                       USD  \n",
      "  PE    Peru                                         PEN  \n",
      "  PH    Philippines                                  PHP  \n",
      "  PL    Poland                                       PLN  \n",
      "  RU    Russia                                       RUB  \n",
      "  SA    Saudi Arabia                                 SAR  \n",
      "  RS    Serbia                                       USD  \n",
      "  SG    Singapore                                    SGD  \n",
      "  ZA    South Africa                                 ZAR  \n",
      "  KR    South Korea                                  KRW  \n",
      "  ES    Spain                                        EUR  \n",
      "  SE    Sweden                                       SEK  \n",
      "  CH    Switzerland                                  CHF  \n",
      "  TW    Taiwan                                       TWD  \n",
      "  TH    Thailand                                     THB  \n",
      "  TR    Turkey                                       TRY  \n",
      "  AE    United Arab Emirates                         AED  \n",
      "  VE    Venezuela                                    VEF  \n",
      "  PT    Portugal                                     EUR  \n",
      "  LU    Luxembourg                                   EUR  \n",
      "  BG    Bulgaria                                     USD  \n",
      "  CZ    Czech Republic                               CZK  \n",
      "  SI    Slovenia                                     EUR  \n",
      "  IS    Iceland                                      ISK  \n",
      "  SK    Slovakia                                     EUR  \n",
      "  LT    Lithuania                                    USD  \n",
      "  TT    Trinidad and Tobago                          USD  \n",
      "  BD    Bangladesh                                   BDT  \n",
      "  LK    Sri Lanka                                    USD  \n",
      "  KE    Kenya                                        KES  \n",
      "  HU    Hungary                                      HUF  \n",
      "  MA    Morocco                                      USD  \n",
      "  CY    Cyprus                                       EUR  \n",
      "  JM    Jamaica                                      USD  \n",
      "  EC    Ecuador                                      USD  \n",
      "  RO    Romania                                      RON  \n",
      "  BO    Bolivia                                      BOB  \n",
      "  GT    Guatemala                                    GTQ  \n",
      "  CR    Costa Rica                                   CRC  \n",
      "  QA    Qatar                                        QAR  \n",
      "  SV    El Salvador                                  USD  \n",
      "  HN    Honduras                                     HNL  \n",
      "  NI    Nicaragua                                    NIO  \n",
      "  PY    Paraguay                                     PYG  \n",
      "  UY    Uruguay                                      UYU  \n",
      "  PR    Puerto Rico                                  USD  \n",
      "  BA    Bosnia and Herzegovina                       USD  \n",
      "  PS    Palestine                                    USD  \n",
      "  TN    Tunisia                                      USD  \n",
      "  BH    Bahrain                                      USD  \n",
      "  VN    Vietnam                                      VND  \n",
      "  GH    Ghana                                        USD  \n",
      "  MU    Mauritius                                    USD  \n",
      "  UA    Ukraine                                      USD  \n",
      "  MT    Malta                                        EUR  \n",
      "  BS    The Bahamas                                  USD  \n",
      "  MV    Maldives                                     USD  \n",
      "  OM    Oman                                         USD  \n",
      "  MK    Macedonia                                    USD  \n",
      "  LV    Latvia                                       USD  \n",
      "  EE    Estonia                                      EUR  \n",
      "  IQ    Iraq                                         USD  \n",
      "  DZ    Algeria                                      DZD  \n",
      "  AL    Albania                                      USD  \n",
      "  NP    Nepal                                        USD  \n",
      "  MO    Macau                                        MOP  \n",
      "  ME    Montenegro                                   USD  \n",
      "  SN    Senegal                                      USD  \n",
      "  GE    Georgia                                      USD  \n",
      "  BN    Brunei                                       USD  \n",
      "  UG    Uganda                                       USD  \n",
      "  GP    Guadeloupe                                   USD  \n",
      "  BB    Barbados                                     USD  \n",
      "  AZ    Azerbaijan                                   USD  \n",
      "  TZ    Tanzania                                     USD  \n",
      "  LY    Libya                                        USD  \n",
      "  MQ    Martinique                                   USD  \n",
      "  CM    Cameroon                                     USD  \n",
      "  BW    Botswana                                     USD  \n",
      "  ET    Ethiopia                                     USD  \n",
      "  KZ    Kazakhstan                                   USD  \n",
      "  NA    Namibia                                      ZAR  \n",
      "  MG    Madagascar                                   USD  \n",
      "  NC    New Caledonia                                USD  \n",
      "  MD    Moldova                                      USD  \n",
      "  FJ    Fiji                                         USD  \n",
      "  BY    Belarus                                      USD  \n",
      "  JE    Jersey                                       USD  \n",
      "  GU    Guam                                         USD  \n",
      "  YE    Yemen                                        USD  \n",
      "  ZM    Zambia                                       USD  \n",
      "  IM    Isle Of Man                                  USD  \n",
      "  HT    Haiti                                        USD  \n",
      "  KH    Cambodia                                     USD  \n",
      "  AW    Aruba                                        USD  \n",
      "  PF    French Polynesia                             USD  \n",
      "  AF    Afghanistan                                  USD  \n",
      "  BM    Bermuda                                      USD  \n",
      "  GY    Guyana                                       USD  \n",
      "  AM    Armenia                                      USD  \n",
      "  MW    Malawi                                       USD  \n",
      "  AG    Antigua                                      USD  \n",
      "  RW    Rwanda                                       USD  \n",
      "  GG    Guernsey                                     USD  \n",
      "  GM    The Gambia                                   USD  \n",
      "  FO    Faroe Islands                                USD  \n",
      "  LC    St. Lucia                                    USD  \n",
      "  KY    Cayman Islands                               USD  \n",
      "  BJ    Benin                                        USD  \n",
      "  AD    Andorra                                      USD  \n",
      "  GD    Grenada                                      USD  \n",
      "  VI    US Virgin Islands                            USD  \n",
      "  BZ    Belize                                       USD  \n",
      "  VC    Saint Vincent and the Grenadines             USD  \n",
      "  MN    Mongolia                                     USD  \n",
      "  MZ    Mozambique                                   USD  \n",
      "  ML    Mali                                         USD  \n",
      "  AO    Angola                                       USD  \n",
      "  GF    French Guiana                                USD  \n",
      "  UZ    Uzbekistan                                   USD  \n",
      "  DJ    Djibouti                                     USD  \n",
      "  BF    Burkina Faso                                 USD  \n",
      "  MC    Monaco                                       EUR  \n",
      "  TG    Togo                                         USD  \n",
      "  GL    Greenland                                    USD  \n",
      "  GA    Gabon                                        USD  \n",
      "  GI    Gibraltar                                    USD  \n",
      "  CD    Democratic Republic of the Congo             USD  \n",
      "  KG    Kyrgyzstan                                   USD  \n",
      "  PG    Papua New Guinea                             USD  \n",
      "  BT    Bhutan                                       USD  \n",
      "  KN    Saint Kitts and Nevis                        USD  \n",
      "  SZ    Swaziland                                    ZAR  \n",
      "  LS    Lesotho                                      ZAR  \n",
      "  LA    Laos                                         USD  \n",
      "  LI    Liechtenstein                                USD  \n",
      "  MP    Northern Mariana Islands                     USD  \n",
      "  SR    Suriname                                     USD  \n",
      "  SC    Seychelles                                   USD  \n",
      "  VG    British Virgin Islands                       USD  \n",
      "  TC    Turks and Caicos Islands                     USD  \n",
      "  DM    Dominica                                     USD  \n",
      "  MR    Mauritania                                   USD  \n",
      "  AX    Aland Islands                                USD  \n",
      "  SM    San Marino                                   USD  \n",
      "  SL    Sierra Leone                                 USD  \n",
      "  NE    Niger                                        USD  \n",
      "  CG    Republic of the Congo                        USD  \n",
      "  AI    Anguilla                                     USD  \n",
      "  YT    Mayotte                                      USD  \n",
      "  CV    Cape Verde                                   USD  \n",
      "  GN    Guinea                                       USD  \n",
      "  TM    Turkmenistan                                 USD  \n",
      "  BI    Burundi                                      USD  \n",
      "  TJ    Tajikistan                                   USD  \n",
      "  VU    Vanuatu                                      USD  \n",
      "  SB    Solomon Islands                              USD  \n",
      "  ER    Eritrea                                      USD  \n",
      "  WS    Samoa                                        USD  \n",
      "  AS    American Samoa                               USD  \n",
      "  FK    Falkland Islands                             USD  \n",
      "  GQ    Equatorial Guinea                            USD  \n",
      "  TO    Tonga                                        USD  \n",
      "  KM    Comoros                                      USD  \n",
      "  PW    Palau                                        USD  \n",
      "  FM    Federated States of Micronesia               USD  \n",
      "  CF    Central African Republic                     USD  \n",
      "  SO    Somalia                                      USD  \n",
      "  MH    Marshall Islands                             USD  \n",
      "  VA    Vatican City                                 USD  \n",
      "  TD    Chad                                         USD  \n",
      "  KI    Kiribati                                     USD  \n",
      "  ST    Sao Tome and Principe                        USD  \n",
      "  TV    Tuvalu                                       USD  \n",
      "  NR    Nauru                                        USD  \n",
      "  RE    Réunion                                      USD  \n",
      "  LR    Liberia                                      USD  \n",
      "  ZW    Zimbabwe                                     USD  \n",
      "  CI    Côte d'Ivoire                                USD  \n",
      "  MM    Myanmar                                      USD  \n",
      "  AN    Netherlands Antilles                         USD  \n",
      "  AQ    Antarctica                                   USD  \n",
      "  BQ    Bonaire, Sint Eustatius and Saba             USD  \n",
      "  BV    Bouvet Island                                USD  \n",
      "  IO    British Indian Ocean Territory               USD  \n",
      "  CX    Christmas Island                             USD  \n",
      "  CC    Cocos (Keeling) Islands                      USD  \n",
      "  CK    Cook Islands                                 USD  \n",
      "  CW    Curaçao                                      USD  \n",
      "  TF    French Southern Territories                  USD  \n",
      "  GW    Guinea-Bissau                                USD  \n",
      "  HM    Heard Island and McDonald Islands            USD  \n",
      "  XK    Kosovo                                       USD  \n",
      "  MS    Montserrat                                   USD  \n",
      "  NU    Niue                                         USD  \n",
      "  NF    Norfolk Island                               USD  \n",
      "  PN    Pitcairn                                     USD  \n",
      "  BL    Saint Barthélemy                             USD  \n",
      "  SH    Saint Helena                                 USD  \n",
      "  MF    Saint Martin                                 USD  \n",
      "  PM    Saint Pierre and Miquelon                    USD  \n",
      "  SX    Sint Maarten                                 USD  \n",
      "  GS    South Georgia and the South Sandwich Islands USD  \n",
      "  SS    South Sudan                                  USD  \n",
      "  SJ    Svalbard and Jan Mayen                       USD  \n",
      "  TL    Timor-Leste                                  USD  \n",
      "  TK    Tokelau                                      USD  \n",
      "  UM    United States Minor Outlying Islands         USD  \n",
      "  WF    Wallis and Futuna                            USD  \n",
      "  EH    Western Sahara                               USD  \n"
     ]
    }
   ],
   "source": [
    "countries = {\"US\":\"United States\",\"CA\":\"Canada\",\"GB\":\"United Kingdom\",\"AR\":\"Argentina\",\"AU\":\"Australia\",\"AT\":\"Austria\",\"BE\":\"Belgium\",\"BR\":\"Brazil\",\"CL\":\"Chile\",\"CN\":\"China\",\"CO\":\"Colombia\",\"HR\":\"Croatia\",\"DK\":\"Denmark\",\"DO\":\"Dominican Republic\",\"EG\":\"Egypt\",\"FI\":\"Finland\",\"FR\":\"France\",\"DE\":\"Germany\",\"GR\":\"Greece\",\"HK\":\"Hong Kong\",\"IN\":\"India\",\"ID\":\"Indonesia\",\"IE\":\"Ireland\",\"IL\":\"Israel\",\"IT\":\"Italy\",\"JP\":\"Japan\",\"JO\":\"Jordan\",\"KW\":\"Kuwait\",\"LB\":\"Lebanon\",\"MY\":\"Malaysia\",\"MX\":\"Mexico\",\"NL\":\"Netherlands\",\"NZ\":\"New Zealand\",\"NG\":\"Nigeria\",\"NO\":\"Norway\",\"PK\":\"Pakistan\",\"PA\":\"Panama\",\"PE\":\"Peru\",\"PH\":\"Philippines\",\"PL\":\"Poland\",\"RU\":\"Russia\",\"SA\":\"Saudi Arabia\",\"RS\":\"Serbia\",\"SG\":\"Singapore\",\"ZA\":\"South Africa\",\"KR\":\"South Korea\",\"ES\":\"Spain\",\"SE\":\"Sweden\",\"CH\":\"Switzerland\",\"TW\":\"Taiwan\",\"TH\":\"Thailand\",\"TR\":\"Turkey\",\"AE\":\"United Arab Emirates\",\"VE\":\"Venezuela\",\"PT\":\"Portugal\",\"LU\":\"Luxembourg\",\"BG\":\"Bulgaria\",\"CZ\":\"Czech Republic\",\"SI\":\"Slovenia\",\"IS\":\"Iceland\",\"SK\":\"Slovakia\",\"LT\":\"Lithuania\",\"TT\":\"Trinidad and Tobago\",\"BD\":\"Bangladesh\",\"LK\":\"Sri Lanka\",\"KE\":\"Kenya\",\"HU\":\"Hungary\",\"MA\":\"Morocco\",\"CY\":\"Cyprus\",\"JM\":\"Jamaica\",\"EC\":\"Ecuador\",\"RO\":\"Romania\",\"BO\":\"Bolivia\",\"GT\":\"Guatemala\",\"CR\":\"Costa Rica\",\"QA\":\"Qatar\",\"SV\":\"El Salvador\",\"HN\":\"Honduras\",\"NI\":\"Nicaragua\",\"PY\":\"Paraguay\",\"UY\":\"Uruguay\",\"PR\":\"Puerto Rico\",\"BA\":\"Bosnia and Herzegovina\",\"PS\":\"Palestine\",\"TN\":\"Tunisia\",\"BH\":\"Bahrain\",\"VN\":\"Vietnam\",\"GH\":\"Ghana\",\"MU\":\"Mauritius\",\"UA\":\"Ukraine\",\"MT\":\"Malta\",\"BS\":\"The Bahamas\",\"MV\":\"Maldives\",\"OM\":\"Oman\",\"MK\":\"Macedonia\",\"LV\":\"Latvia\",\"EE\":\"Estonia\",\"IQ\":\"Iraq\",\"DZ\":\"Algeria\",\"AL\":\"Albania\",\"NP\":\"Nepal\",\"MO\":\"Macau\",\"ME\":\"Montenegro\",\"SN\":\"Senegal\",\"GE\":\"Georgia\",\"BN\":\"Brunei\",\"UG\":\"Uganda\",\"GP\":\"Guadeloupe\",\"BB\":\"Barbados\",\"AZ\":\"Azerbaijan\",\"TZ\":\"Tanzania\",\"LY\":\"Libya\",\"MQ\":\"Martinique\",\"CM\":\"Cameroon\",\"BW\":\"Botswana\",\"ET\":\"Ethiopia\",\"KZ\":\"Kazakhstan\",\"NA\":\"Namibia\",\"MG\":\"Madagascar\",\"NC\":\"New Caledonia\",\"MD\":\"Moldova\",\"FJ\":\"Fiji\",\"BY\":\"Belarus\",\"JE\":\"Jersey\",\"GU\":\"Guam\",\"YE\":\"Yemen\",\"ZM\":\"Zambia\",\"IM\":\"Isle Of Man\",\"HT\":\"Haiti\",\"KH\":\"Cambodia\",\"AW\":\"Aruba\",\"PF\":\"French Polynesia\",\"AF\":\"Afghanistan\",\"BM\":\"Bermuda\",\"GY\":\"Guyana\",\"AM\":\"Armenia\",\"MW\":\"Malawi\",\"AG\":\"Antigua\",\"RW\":\"Rwanda\",\"GG\":\"Guernsey\",\"GM\":\"The Gambia\",\"FO\":\"Faroe Islands\",\"LC\":\"St. Lucia\",\"KY\":\"Cayman Islands\",\"BJ\":\"Benin\",\"AD\":\"Andorra\",\"GD\":\"Grenada\",\"VI\":\"US Virgin Islands\",\"BZ\":\"Belize\",\"VC\":\"Saint Vincent and the Grenadines\",\"MN\":\"Mongolia\",\"MZ\":\"Mozambique\",\"ML\":\"Mali\",\"AO\":\"Angola\",\"GF\":\"French Guiana\",\"UZ\":\"Uzbekistan\",\"DJ\":\"Djibouti\",\"BF\":\"Burkina Faso\",\"MC\":\"Monaco\",\"TG\":\"Togo\",\"GL\":\"Greenland\",\"GA\":\"Gabon\",\"GI\":\"Gibraltar\",\"CD\":\"Democratic Republic of the Congo\",\"KG\":\"Kyrgyzstan\",\"PG\":\"Papua New Guinea\",\"BT\":\"Bhutan\",\"KN\":\"Saint Kitts and Nevis\",\"SZ\":\"Swaziland\",\"LS\":\"Lesotho\",\"LA\":\"Laos\",\"LI\":\"Liechtenstein\",\"MP\":\"Northern Mariana Islands\",\"SR\":\"Suriname\",\"SC\":\"Seychelles\",\"VG\":\"British Virgin Islands\",\"TC\":\"Turks and Caicos Islands\",\"DM\":\"Dominica\",\"MR\":\"Mauritania\",\"AX\":\"Aland Islands\",\"SM\":\"San Marino\",\"SL\":\"Sierra Leone\",\"NE\":\"Niger\",\"CG\":\"Republic of the Congo\",\"AI\":\"Anguilla\",\"YT\":\"Mayotte\",\"CV\":\"Cape Verde\",\"GN\":\"Guinea\",\"TM\":\"Turkmenistan\",\"BI\":\"Burundi\",\"TJ\":\"Tajikistan\",\"VU\":\"Vanuatu\",\"SB\":\"Solomon Islands\",\"ER\":\"Eritrea\",\"WS\":\"Samoa\",\"AS\":\"American Samoa\",\"FK\":\"Falkland Islands\",\"GQ\":\"Equatorial Guinea\",\"TO\":\"Tonga\",\"KM\":\"Comoros\",\"PW\":\"Palau\",\"FM\":\"Federated States of Micronesia\",\"CF\":\"Central African Republic\",\"SO\":\"Somalia\",\"MH\":\"Marshall Islands\",\"VA\":\"Vatican City\",\"TD\":\"Chad\",\"KI\":\"Kiribati\",\"ST\":\"Sao Tome and Principe\",\"TV\":\"Tuvalu\",\"NR\":\"Nauru\",\"RE\":\"R\\u00e9union\",\"LR\":\"Liberia\",\"ZW\":\"Zimbabwe\",\"CI\":\"C\\u00f4te d'Ivoire\",\"MM\":\"Myanmar\",\"AN\":\"Netherlands Antilles\",\"AQ\":\"Antarctica\",\"BQ\":\"Bonaire, Sint Eustatius and Saba\",\"BV\":\"Bouvet Island\",\"IO\":\"British Indian Ocean Territory\",\"CX\":\"Christmas Island\",\"CC\":\"Cocos (Keeling) Islands\",\"CK\":\"Cook Islands\",\"CW\":\"Cura\\u00e7ao\",\"TF\":\"French Southern Territories\",\"GW\":\"Guinea-Bissau\",\"HM\":\"Heard Island and McDonald Islands\",\"XK\":\"Kosovo\",\"MS\":\"Montserrat\",\"NU\":\"Niue\",\"NF\":\"Norfolk Island\",\"PN\":\"Pitcairn\",\"BL\":\"Saint Barth\\u00e9lemy\",\"SH\":\"Saint Helena\",\"MF\":\"Saint Martin\",\"PM\":\"Saint Pierre and Miquelon\",\"SX\":\"Sint Maarten\",\"GS\":\"South Georgia and the South Sandwich Islands\",\"SS\":\"South Sudan\",\"SJ\":\"Svalbard and Jan Mayen\",\"TL\":\"Timor-Leste\",\"TK\":\"Tokelau\",\"UM\":\"United States Minor Outlying Islands\",\"WF\":\"Wallis and Futuna\",\"EH\":\"Western Sahara\"}\n",
    "cur = {\"US\":\"USD\",\"CA\":\"CAD\",\"GB\":\"GBP\",\"AF\":\"USD\",\"AX\":\"USD\",\"AL\":\"USD\",\"DZ\":\"DZD\",\"AS\":\"USD\",\"AD\":\"USD\",\"AO\":\"USD\",\"AI\":\"USD\",\"AQ\":\"USD\",\"AG\":\"USD\",\"AR\":\"ARS\",\"AM\":\"USD\",\"AW\":\"USD\",\"AU\":\"AUD\",\"AT\":\"EUR\",\"AZ\":\"USD\",\"BH\":\"USD\",\"BD\":\"BDT\",\"BB\":\"USD\",\"BY\":\"USD\",\"BE\":\"EUR\",\"BZ\":\"USD\",\"BJ\":\"USD\",\"BM\":\"USD\",\"BT\":\"USD\",\"BO\":\"BOB\",\"BQ\":\"USD\",\"BA\":\"USD\",\"BW\":\"USD\",\"BV\":\"USD\",\"BR\":\"BRL\",\"IO\":\"USD\",\"VG\":\"USD\",\"BN\":\"USD\",\"BG\":\"USD\",\"BF\":\"USD\",\"BI\":\"USD\",\"KH\":\"USD\",\"CM\":\"USD\",\"CV\":\"USD\",\"KY\":\"USD\",\"CI\":\"USD\",\"CF\":\"USD\",\"TD\":\"USD\",\"CL\":\"CLP\",\"CN\":\"CNY\",\"CX\":\"USD\",\"CC\":\"USD\",\"CO\":\"COP\",\"KM\":\"USD\",\"CK\":\"USD\",\"CR\":\"CRC\",\"HR\":\"USD\",\"CU\":\"USD\",\"CW\":\"USD\",\"CY\":\"EUR\",\"CZ\":\"CZK\",\"CD\":\"USD\",\"DK\":\"DKK\",\"DJ\":\"USD\",\"DM\":\"USD\",\"DO\":\"USD\",\"EC\":\"USD\",\"EG\":\"EGP\",\"SV\":\"USD\",\"GQ\":\"USD\",\"ER\":\"USD\",\"EE\":\"EUR\",\"ET\":\"USD\",\"FK\":\"USD\",\"FO\":\"USD\",\"FM\":\"USD\",\"FJ\":\"USD\",\"FI\":\"EUR\",\"FR\":\"EUR\",\"GF\":\"USD\",\"PF\":\"USD\",\"TF\":\"USD\",\"GA\":\"USD\",\"GE\":\"USD\",\"DE\":\"EUR\",\"GH\":\"USD\",\"GI\":\"USD\",\"GR\":\"EUR\",\"GL\":\"USD\",\"GD\":\"USD\",\"GP\":\"USD\",\"GU\":\"USD\",\"GT\":\"GTQ\",\"GG\":\"USD\",\"GN\":\"USD\",\"GW\":\"USD\",\"GY\":\"USD\",\"HT\":\"USD\",\"HM\":\"USD\",\"HN\":\"HNL\",\"HK\":\"HKD\",\"HU\":\"HUF\",\"IS\":\"ISK\",\"IN\":\"INR\",\"ID\":\"IDR\",\"IR\":\"USD\",\"IQ\":\"USD\",\"IE\":\"EUR\",\"IM\":\"USD\",\"IL\":\"ILS\",\"IT\":\"EUR\",\"JM\":\"USD\",\"JP\":\"JPY\",\"JE\":\"USD\",\"JO\":\"USD\",\"KZ\":\"USD\",\"KE\":\"KES\",\"KI\":\"USD\",\"XK\":\"USD\",\"KW\":\"USD\",\"KG\":\"USD\",\"LA\":\"USD\",\"LV\":\"USD\",\"LB\":\"USD\",\"LS\":\"ZAR\",\"LR\":\"USD\",\"LY\":\"USD\",\"LI\":\"USD\",\"LT\":\"USD\",\"LU\":\"EUR\",\"MO\":\"MOP\",\"MK\":\"USD\",\"MG\":\"USD\",\"MW\":\"USD\",\"MY\":\"MYR\",\"MV\":\"USD\",\"ML\":\"USD\",\"MT\":\"EUR\",\"MH\":\"USD\",\"MQ\":\"USD\",\"MR\":\"USD\",\"MU\":\"USD\",\"YT\":\"USD\",\"MX\":\"MXN\",\"MD\":\"USD\",\"MC\":\"EUR\",\"MN\":\"USD\",\"ME\":\"USD\",\"MS\":\"USD\",\"MA\":\"USD\",\"MZ\":\"USD\",\"MM\":\"USD\",\"NA\":\"ZAR\",\"NR\":\"USD\",\"NP\":\"USD\",\"NL\":\"EUR\",\"AN\":\"USD\",\"NC\":\"USD\",\"NZ\":\"NZD\",\"NI\":\"NIO\",\"NE\":\"USD\",\"NG\":\"NGN\",\"NU\":\"USD\",\"NF\":\"USD\",\"KP\":\"USD\",\"MP\":\"USD\",\"NO\":\"NOK\",\"OM\":\"USD\",\"PK\":\"PKR\",\"PW\":\"USD\",\"PS\":\"USD\",\"PA\":\"USD\",\"PG\":\"USD\",\"PY\":\"PYG\",\"PE\":\"PEN\",\"PH\":\"PHP\",\"PN\":\"USD\",\"PL\":\"PLN\",\"PT\":\"EUR\",\"PR\":\"USD\",\"QA\":\"QAR\",\"RE\":\"USD\",\"CG\":\"USD\",\"RO\":\"RON\",\"RU\":\"RUB\",\"RW\":\"USD\",\"BL\":\"USD\",\"SH\":\"USD\",\"KN\":\"USD\",\"MF\":\"USD\",\"PM\":\"USD\",\"VC\":\"USD\",\"WS\":\"USD\",\"SM\":\"USD\",\"ST\":\"USD\",\"SA\":\"SAR\",\"SN\":\"USD\",\"RS\":\"USD\",\"SC\":\"USD\",\"SL\":\"USD\",\"SG\":\"SGD\",\"SX\":\"USD\",\"SK\":\"EUR\",\"SI\":\"EUR\",\"SB\":\"USD\",\"SO\":\"USD\",\"ZA\":\"ZAR\",\"GS\":\"USD\",\"KR\":\"KRW\",\"SS\":\"USD\",\"ES\":\"EUR\",\"LK\":\"USD\",\"LC\":\"USD\",\"SD\":\"USD\",\"SR\":\"USD\",\"SJ\":\"USD\",\"SZ\":\"ZAR\",\"SE\":\"SEK\",\"CH\":\"CHF\",\"SY\":\"USD\",\"TW\":\"TWD\",\"TJ\":\"USD\",\"TZ\":\"USD\",\"TH\":\"THB\",\"BS\":\"USD\",\"GM\":\"USD\",\"TL\":\"USD\",\"TG\":\"USD\",\"TK\":\"USD\",\"TO\":\"USD\",\"TT\":\"USD\",\"TN\":\"USD\",\"TR\":\"TRY\",\"TM\":\"USD\",\"TC\":\"USD\",\"TV\":\"USD\",\"UG\":\"USD\",\"UA\":\"USD\",\"AE\":\"AED\",\"UM\":\"USD\",\"UY\":\"UYU\",\"VI\":\"USD\",\"UZ\":\"USD\",\"VU\":\"USD\",\"VA\":\"USD\",\"VE\":\"VEF\",\"VN\":\"VND\",\"WF\":\"USD\",\"EH\":\"USD\",\"YE\":\"USD\",\"ZM\":\"USD\",\"ZW\":\"USD\"}\n",
    "coutries_currency = {}\n",
    "for i,j in countries.items():\n",
    "    for k,l in cur.items():\n",
    "        if i == k:\n",
    "            coutries_currency[i] = [ j,l ]\n",
    "print('{:^6} {:>8} {:>43}'.format('CODE','Country','Currency'))\n",
    "print('*'*60)\n",
    "for x,y in coutries_currency.items():\n",
    "    print('{:^7} {:44} {:4} '.format(x,y[0],y[1]))"
   ]
  },
  {
   "cell_type": "code",
   "execution_count": 35,
   "metadata": {},
   "outputs": [
    {
     "name": "stdout",
     "output_type": "stream",
     "text": [
      "Top 10 Memory Consumer:\n",
      "******************************\n",
      "PID     COMMAND            USAGE%\n",
      "---------------------------------\n",
      "32304   vivaldi-bin        2.5\n",
      "32501   vivaldi-bin        2.6\n",
      "15882   vivaldi-bin        2.7\n",
      "15829   vivaldi-bin        3.1\n",
      "17300   vivaldi-bin        3.8\n",
      "15808   vivaldi-bin        5.0\n",
      "15713   vivaldi-bin        5.9\n",
      "15681   vivaldi-bin        6.7\n",
      "28788   vivaldi-bin        7.2\n",
      "31396   vivaldi-bin        8.8\n",
      "15794   vivaldi-bin        8.9\n"
     ]
    }
   ],
   "source": [
    "from subprocess import check_output as cmd\n",
    "command = 'ps -A --sort pmem -o pid,comm,pmem'\n",
    "out = cmd(command.split()).decode().splitlines()\n",
    "mem_usage = [i.split() for i in out[2:]][-11:]\n",
    "print('Top 10 Memory Consumer:')\n",
    "print('*'*30)\n",
    "print('{:7} {:18} {}'.format('PID','COMMAND','USAGE%'))\n",
    "print('-'*33)\n",
    "for j in mem_usage:\n",
    "    print('{:7} {:18} {}'.format(*j))\n"
   ]
  },
  {
   "cell_type": "code",
   "execution_count": 59,
   "metadata": {},
   "outputs": [
    {
     "name": "stdout",
     "output_type": "stream",
     "text": [
      "1 2 3 4 "
     ]
    }
   ],
   "source": [
    "for i in range(1,5):\n",
    "    print(i,end=' ')"
   ]
  },
  {
   "cell_type": "code",
   "execution_count": 3,
   "metadata": {},
   "outputs": [
    {
     "data": {
      "text/plain": [
       "'x'"
      ]
     },
     "execution_count": 3,
     "metadata": {},
     "output_type": "execute_result"
    }
   ],
   "source": [
    "a = 'x' or 'y'\n",
    "a"
   ]
  },
  {
   "cell_type": "markdown",
   "metadata": {},
   "source": [
    "#### Check 2 variables"
   ]
  },
  {
   "cell_type": "code",
   "execution_count": 6,
   "metadata": {},
   "outputs": [
    {
     "data": {
      "text/plain": [
       "'Manavalan'"
      ]
     },
     "execution_count": 6,
     "metadata": {},
     "output_type": "execute_result"
    }
   ],
   "source": [
    "firstname = 'Manavalan'\n",
    "lastname = 'Micheal'\n",
    "Name = firstname or lastname\n",
    "Name"
   ]
  },
  {
   "cell_type": "code",
   "execution_count": 8,
   "metadata": {},
   "outputs": [
    {
     "data": {
      "text/plain": [
       "'Manavalan'"
      ]
     },
     "execution_count": 8,
     "metadata": {},
     "output_type": "execute_result"
    }
   ],
   "source": [
    "firstname = 'Manavalan'\n",
    "lastname = ''\n",
    "Name = firstname or lastname\n",
    "Name"
   ]
  },
  {
   "cell_type": "code",
   "execution_count": 7,
   "metadata": {},
   "outputs": [
    {
     "data": {
      "text/plain": [
       "'Micheal'"
      ]
     },
     "execution_count": 7,
     "metadata": {},
     "output_type": "execute_result"
    }
   ],
   "source": [
    "firstname = ''\n",
    "lastname = 'Micheal'\n",
    "Name = firstname or lastname\n",
    "Name"
   ]
  },
  {
   "cell_type": "code",
   "execution_count": 7,
   "metadata": {},
   "outputs": [
    {
     "name": "stdout",
     "output_type": "stream",
     "text": [
      "Netwok-card            Download            Upload\n",
      "enxfcde56ff0106:       949.4M                2.1G\n",
      "ens32:                    0B                  0B\n"
     ]
    }
   ],
   "source": [
    "import bisect\n",
    "import re\n",
    "\n",
    "size = [1, 2**10, 2**20, 2**30] ## GiB\n",
    "unit = ['B', 'K', 'M', 'G']\n",
    "\n",
    "def con(byts):\n",
    "    if byts != 0:\n",
    "        index = bisect.bisect(size, byts) -1\n",
    "        return \"{:.1f}{}\".format(byts/size[index], unit[index])\n",
    "    else: \n",
    "        return '0B'\n",
    "\n",
    "print('{} {:^30} {}'.format('Netwok-card','Download','Upload'))\n",
    "with open('/proc/net/dev') as nop:\n",
    "    for i in nop.readlines():\n",
    "        if re.search(r'eth|wlan|enx|ens',i):\n",
    "            j = i.split()[0:10]            \n",
    "            print(\"{:<15} {:>12} {:>19}\".\n",
    "                  format(j[0],con(int(j[1])),con(int(j[-1]))))"
   ]
  },
  {
   "cell_type": "markdown",
   "metadata": {},
   "source": [
    "### Compare Versions"
   ]
  },
  {
   "cell_type": "code",
   "execution_count": 11,
   "metadata": {},
   "outputs": [
    {
     "name": "stdout",
     "output_type": "stream",
     "text": [
      "sys.version_info(major=3, minor=6, micro=8, releaselevel='final', serial=0)\n",
      "(3, 6, 7) (3, 6, 4)\n"
     ]
    },
    {
     "data": {
      "text/plain": [
       "True"
      ]
     },
     "execution_count": 11,
     "metadata": {},
     "output_type": "execute_result"
    }
   ],
   "source": [
    "(3, 6, 5) > (3, 6, 4)\n",
    "\n",
    "#Compare current python version:\n",
    "import sys\n",
    "print(sys.version_info)\n",
    "sys.version_info > (3, 6, 4)\n",
    "\n",
    "version1 = '3.6.7'\n",
    "version2 = '3.6.4'\n",
    "v1 = tuple([int(i) for i in version1.split('.')])\n",
    "v2 = tuple([int(i) for i in version2.split('.')])\n",
    "print(v1,v2)\n",
    "v1 > v2"
   ]
  },
  {
   "cell_type": "markdown",
   "metadata": {},
   "source": [
    "### How to fetch rpm Package version number?"
   ]
  },
  {
   "cell_type": "code",
   "execution_count": 318,
   "metadata": {},
   "outputs": [
    {
     "name": "stdout",
     "output_type": "stream",
     "text": [
      "Package Name:  GeoIP-1.5.0-14.el7.x86_64.rpm\n",
      "Fetch version Number:  ['1', '5', '0', '14']\n"
     ]
    }
   ],
   "source": [
    "from pathlib import Path\n",
    "import re\n",
    "\n",
    "pack = 'GeoIP-1.5.0-14.el7.x86_64.rpm'\n",
    "compose = re.compile(r'\\d{1,}')\n",
    "print('Package Name: ',pack)\n",
    "print('Fetch version Number: ',compose.findall(pack)[:-3])"
   ]
  },
  {
   "cell_type": "code",
   "execution_count": 319,
   "metadata": {},
   "outputs": [
    {
     "data": {
      "text/plain": [
       "[('389-ds-base-1.3.9.1-10.el7.x86_64.rpm', ['389', '1', '3', '9', '1', '10']),\n",
       " ('GeoIP-1.5.0-15.el7.x86_64.rpm', ['1', '5', '0', '15']),\n",
       " ('389-ds-base-devel-1.3.9.1-10.el7.x86_64.rpm',\n",
       "  ['389', '1', '3', '9', '1', '10']),\n",
       " ('Cython-0.19-4.el7.x86_64.rpm', ['0', '19', '4']),\n",
       " ('Cython-0.19-5.el7.x86_64.rpm', ['0', '19', '5']),\n",
       " ('GeoIP-1.5.0-14.el7.x86_64.rpm', ['1', '5', '0', '14'])]"
      ]
     },
     "execution_count": 319,
     "metadata": {},
     "output_type": "execute_result"
    }
   ],
   "source": [
    "from pathlib import Path\n",
    "import re\n",
    "\n",
    "p = Path('/home/mana/Repo')\n",
    "clt = [x.name for x in p.iterdir()]\n",
    "\n",
    "[(x.name,re.findall(r'\\d{1,}',x.name)[:-3]) for x in p.iterdir()]"
   ]
  },
  {
   "cell_type": "markdown",
   "metadata": {},
   "source": [
    "### List of all latest Package version in Server"
   ]
  },
  {
   "cell_type": "code",
   "execution_count": 303,
   "metadata": {},
   "outputs": [
    {
     "name": "stdout",
     "output_type": "stream",
     "text": [
      "List of All Packages in Server\n",
      "****************************************\n",
      "389-ds-base-1.3.9.1-10.el7.x86_64.rpm\n",
      "GeoIP-1.5.0-15.el7.x86_64.rpm\n",
      "389-ds-base-devel-1.3.9.1-10.el7.x86_64.rpm\n",
      "Cython-0.19-4.el7.x86_64.rpm\n",
      "Cython-0.19-5.el7.x86_64.rpm\n",
      "GeoIP-1.5.0-14.el7.x86_64.rpm\n",
      "\n",
      "List of Latest ackages in Server\n",
      "****************************************\n",
      "389-ds-base-1.3.9.1-10.el7.x86_64.rpm\n",
      "389-ds-base-devel-1.3.9.1-10.el7.x86_64.rpm\n",
      "Cython-0.19-5.el7.x86_64.rpm\n",
      "GeoIP-1.5.0-15.el7.x86_64.rpm\n"
     ]
    }
   ],
   "source": [
    "from difflib import get_close_matches\n",
    "from pathlib import Path\n",
    "import re\n",
    "\n",
    "print('List of All Packages in Server')\n",
    "print('*'*40)\n",
    "p = Path('/home/mana/Repo')\n",
    "for x in p.iterdir():\n",
    "    print(x.name)\n",
    "print()\n",
    "p = Path('/home/mana/Repo/')\n",
    "clt = [x.name for x in p.iterdir()]\n",
    "rmel7 = [r.replace('.el7.x86_64.rpm','') for r in clt]\n",
    "\n",
    "lat = []\n",
    "for g in rmel7:\n",
    "    if len(get_close_matches(g,clt)) == 2:\n",
    "        z = [(t,''.join(re.findall(r'\\d{1,}',t)[:-3])) \n",
    "             for t in get_close_matches(g,clt)]\n",
    "        latest = max(z,key = lambda x: x[1])[0]\n",
    "        lat.append(latest)\n",
    "print('List of Latest ackages in Server')\n",
    "print('*'*40)\n",
    "print(*sorted(set(lat)),sep = '\\n')"
   ]
  },
  {
   "cell_type": "code",
   "execution_count": 307,
   "metadata": {},
   "outputs": [
    {
     "name": "stdout",
     "output_type": "stream",
     "text": [
      "Latest Version: 389-ds-base-1.3.9.1-10.el7.x86_64.rpm\n",
      "Latest Version: GeoIP-1.5.0-15.el7.x86_64.rpm\n",
      "Latest Version: 389-ds-base-devel-1.3.9.1-10.el7.x86_64.rpm\n",
      "Latest Version: Cython-0.19-4.el7.x86_64.rpm\n"
     ]
    }
   ],
   "source": [
    "from pathlib import Path\n",
    "import re\n",
    "\n",
    "clt_pack = {}\n",
    "p = Path('/home/mana/Repo')\n",
    "same_package = [(i, re.split(r'\\d{1,}(?:-|\\.)\\d{1,}',str(i),1)[0]) for i in p.iterdir()]\n",
    "compose = re.compile(r'\\d{1,}(?:-|\\.)\\d{1,}|\\d{1,}(?:-|\\.)\\d{1,}.*\\d{1,}(?:-|\\.)\\d{1,}')\n",
    "\n",
    "def chk_version(*x):    \n",
    "    temp = [(y,''.join(compose.findall(str(y))).lstrip('0.')) for y in x]\n",
    "    ver = {a:int(re.sub(r'-|\\.','',b)) for a,b in temp}\n",
    "    latest = max(ver.items(),key = lambda x: x[1])[0].name\n",
    "    print('Latest Version:',latest)\n",
    "    \n",
    "for j,k in same_package:\n",
    "    clt_pack.setdefault(k,[]).append(j)\n",
    "    \n",
    "for vkey in clt_pack.keys():\n",
    "    chk_version(*clt_pack[vkey])"
   ]
  },
  {
   "cell_type": "markdown",
   "metadata": {},
   "source": [
    "### How to find vowels in word?"
   ]
  },
  {
   "cell_type": "code",
   "execution_count": 320,
   "metadata": {},
   "outputs": [
    {
     "data": {
      "text/plain": [
       "['a', 'e']"
      ]
     },
     "execution_count": 320,
     "metadata": {},
     "output_type": "execute_result"
    }
   ],
   "source": [
    "st = 'base'\n",
    "[i for i in st if i in 'aeiou']"
   ]
  },
  {
   "cell_type": "code",
   "execution_count": 323,
   "metadata": {},
   "outputs": [
    {
     "data": {
      "text/plain": [
       "{'a', 'e'}"
      ]
     },
     "execution_count": 323,
     "metadata": {},
     "output_type": "execute_result"
    }
   ],
   "source": [
    "st = 'base'\n",
    "set(st) & set('aeiou')"
   ]
  },
  {
   "cell_type": "markdown",
   "metadata": {},
   "source": [
    "### How to read file?\n"
   ]
  },
  {
   "cell_type": "code",
   "execution_count": 324,
   "metadata": {},
   "outputs": [
    {
     "name": "stdout",
     "output_type": "stream",
     "text": [
      "127.0.0.1\tlocalhost\n",
      "127.0.1.1\tjoe\n",
      "\n",
      "# The following lines are desirable for IPv6 capable hosts\n",
      "::1     ip6-localhost ip6-loopback\n",
      "fe00::0 ip6-localnet\n",
      "ff00::0 ip6-mcastprefix\n",
      "ff02::1 ip6-allnodes\n",
      "ff02::2 ip6-allrouters\n",
      "\n"
     ]
    }
   ],
   "source": [
    "from pathlib import Path\n",
    "\n",
    "print(Path('/etc/hosts').read_text())"
   ]
  },
  {
   "cell_type": "code",
   "execution_count": 326,
   "metadata": {},
   "outputs": [
    {
     "name": "stdout",
     "output_type": "stream",
     "text": [
      "127.0.0.1\tlocalhost\n",
      "127.0.1.1\tjoe\n",
      "\n",
      "# The following lines are desirable for IPv6 capable hosts\n",
      "::1     ip6-localhost ip6-loopback\n",
      "fe00::0 ip6-localnet\n",
      "ff00::0 ip6-mcastprefix\n",
      "ff02::1 ip6-allnodes\n",
      "ff02::2 ip6-allrouters\n",
      "\n"
     ]
    }
   ],
   "source": [
    "print(open('/etc/hosts').read())"
   ]
  },
  {
   "cell_type": "markdown",
   "metadata": {},
   "source": [
    "### How to filter more 5 letters?"
   ]
  },
  {
   "cell_type": "code",
   "execution_count": 331,
   "metadata": {},
   "outputs": [
    {
     "data": {
      "text/plain": [
       "['asmmm', 'zyzzz', 'tthio', 'dafme', 'stuff', 'until']"
      ]
     },
     "execution_count": 331,
     "metadata": {},
     "output_type": "execute_result"
    }
   ],
   "source": [
    "lst=[\"ab\", \"xqy\",\"hwot\", \"76kf\", \"vb\", \"asmmm\",\n",
    "\"zyzzz\", \"tthio\",\"kh\", \"10c\", \"dafme\",\n",
    "\"more\", \"stuff\", \"here\" , \"until\", \"the\", \"end\"]\n",
    "\n",
    "[x for x in lst if len(x)>=5]"
   ]
  },
  {
   "cell_type": "markdown",
   "metadata": {},
   "source": [
    "### How to code do while loop?"
   ]
  },
  {
   "cell_type": "code",
   "execution_count": 14,
   "metadata": {},
   "outputs": [
    {
     "name": "stdout",
     "output_type": "stream",
     "text": [
      "0\n",
      "1\n",
      "2\n",
      "3\n",
      "4\n",
      "5\n"
     ]
    }
   ],
   "source": [
    "%%python3\n",
    "\n",
    "n1=0\n",
    "n2=5\n",
    "while n1 <= n2:\n",
    "    print(n1)\n",
    "    n1 += 1"
   ]
  },
  {
   "cell_type": "code",
   "execution_count": 13,
   "metadata": {},
   "outputs": [
    {
     "name": "stdout",
     "output_type": "stream",
     "text": [
      "0\n",
      "1\n",
      "2\n",
      "3\n",
      "4\n",
      "5\n"
     ]
    }
   ],
   "source": [
    "%%bash\n",
    "\n",
    "n1=0\n",
    "n2=5\n",
    "while((n1 <= n2))\n",
    "do\n",
    "echo $n1\n",
    "n1=$((n1+1))\n",
    "done"
   ]
  },
  {
   "cell_type": "code",
   "execution_count": 8,
   "metadata": {},
   "outputs": [
    {
     "name": "stdout",
     "output_type": "stream",
     "text": [
      "5\n",
      "4\n",
      "3\n",
      "2\n",
      "1\n",
      "0\n"
     ]
    }
   ],
   "source": [
    "n1=0\n",
    "n2=5\n",
    "while n2 >= n1:\n",
    "    print(n2)\n",
    "    n2 -= 1"
   ]
  },
  {
   "cell_type": "markdown",
   "metadata": {},
   "source": [
    "### How to list get_close_matches?"
   ]
  },
  {
   "cell_type": "code",
   "execution_count": 18,
   "metadata": {},
   "outputs": [
    {
     "name": "stdout",
     "output_type": "stream",
     "text": [
      "['GeoIP-1.5.0-15.el7.x86_64.rpm', 'GeoIP-1.5.0-14.el7.x86_64.rpm']\n"
     ]
    }
   ],
   "source": [
    "from difflib import get_close_matches\n",
    "\n",
    "strs = ['389-ds-base-1.3.9.1-10.el7.x86_64.rpm',\n",
    " 'GeoIP-1.5.0-15.el7.x86_64.rpm',\n",
    " '389-ds-base-devel-1.3.9.1-10.el7.x86_64.rpm',\n",
    " 'Cython-0.19-4.el7.x86_64.rpm',\n",
    " 'Cython-0.19-5.el7.x86_64.rpm',\n",
    " 'GeoIP-1.5.0-14.el7.x86_64.rpm']\n",
    "\n",
    "print(get_close_matches('GeoIP',strs,n=2,cutoff=0.2))"
   ]
  },
  {
   "cell_type": "markdown",
   "metadata": {},
   "source": [
    "### SequenceMatcher"
   ]
  },
  {
   "cell_type": "code",
   "execution_count": 51,
   "metadata": {},
   "outputs": [
    {
     "name": "stdout",
     "output_type": "stream",
     "text": [
      "extension\n",
      "\n"
     ]
    }
   ],
   "source": [
    "from difflib import SequenceMatcher\n",
    "w1 = 'lease extension'\n",
    "w2 = 'extension lease'\n",
    "word_match = SequenceMatcher(None,w1,w2).get_matching_blocks()\n",
    "\n",
    "for wm in word_match:\n",
    "    print(w1[wm.a:])"
   ]
  },
  {
   "cell_type": "markdown",
   "metadata": {},
   "source": [
    "### How many hard disk attached on system?"
   ]
  },
  {
   "cell_type": "code",
   "execution_count": 70,
   "metadata": {},
   "outputs": [
    {
     "name": "stdout",
     "output_type": "stream",
     "text": [
      "Number of Disk: 1\n"
     ]
    }
   ],
   "source": [
    "from pathlib import Path\n",
    "import re\n",
    "\n",
    "P = Path('/proc/partitions').read_text().splitlines()\n",
    "disk = [i.split()[-1] for i in P if re.search(r'sd.$',i)]\n",
    "print('Number of Disk:',len(disk))"
   ]
  },
  {
   "cell_type": "markdown",
   "metadata": {},
   "source": [
    "### List of All Packages in Server"
   ]
  },
  {
   "cell_type": "code",
   "execution_count": 283,
   "metadata": {},
   "outputs": [
    {
     "name": "stdout",
     "output_type": "stream",
     "text": [
      "List of All Packages in Server\n",
      "****************************************\n",
      "389-ds-base-1.3.9.1-10.el7.x86_64.rpm\n",
      "GeoIP-1.5.0-15.el7.x86_64.rpm\n",
      "389-ds-base-devel-1.3.9.1-10.el7.x86_64.rpm\n",
      "Cython-0.19-4.el7.x86_64.rpm\n",
      "Cython-0.19-5.el7.x86_64.rpm\n",
      "GeoIP-1.5.0-14.el7.x86_64.rpm\n"
     ]
    }
   ],
   "source": [
    "print('List of All Packages in Server')\n",
    "print('*'*40)\n",
    "p = Path('/home/mana/Repo')\n",
    "for x in p.iterdir():\n",
    "    print(x.name)"
   ]
  },
  {
   "cell_type": "markdown",
   "metadata": {},
   "source": [
    "### How to separate Package name and Version?"
   ]
  },
  {
   "cell_type": "code",
   "execution_count": 284,
   "metadata": {},
   "outputs": [
    {
     "name": "stdout",
     "output_type": "stream",
     "text": [
      "Package-Name                          Version\n",
      "***********************************************\n",
      "389-ds-base                          1.3.9.1-10\n",
      "389-ds-base-devel                    1.3.9.1-10\n",
      "Cython                                   0.19-4\n",
      "Cython                                   0.19-5\n",
      "GeoIP                                  1.5.0-14\n",
      "GeoIP                                  1.5.0-15\n"
     ]
    }
   ],
   "source": [
    "from pathlib import Path\n",
    "import re\n",
    "\n",
    "p = Path('/home/mana/Repo/')\n",
    "clt = [x.name for x in p.iterdir()]\n",
    "rmel7 = [r.replace('.el7.x86_64.rpm','') for r in clt]\n",
    "\n",
    "pack = []\n",
    "for st in rmel7:\n",
    "    if re.match(r'^[a-zA-Z]',st):\n",
    "        p1 = re.search(r'^\\w+|^\\d{1,}',st).group()\n",
    "        v1 = re.search(r'\\d{1,}.*',st).group()\n",
    "        pack += [(p1,v1)]\n",
    "    else: \n",
    "        p2 = re.search(r'^(\\d{1,}|-\\w+).*[a-z]',st).group()\n",
    "        rh = re.search(r'-\\d{1,}.*',st).group()\n",
    "        v2 = re.sub(r'^-','',rh)\n",
    "        pack += [(p2,v2)]\n",
    "print('{:17}{:>28}'.format('Package-Name','Version')) \n",
    "print('*'*47)\n",
    "for a,b in sorted(pack):\n",
    "    print('{:17}{:>30}'.format(a,b))"
   ]
  },
  {
   "cell_type": "markdown",
   "metadata": {},
   "source": [
    "### True or False"
   ]
  },
  {
   "cell_type": "code",
   "execution_count": 1,
   "metadata": {},
   "outputs": [
    {
     "data": {
      "text/plain": [
       "True"
      ]
     },
     "execution_count": 1,
     "metadata": {},
     "output_type": "execute_result"
    }
   ],
   "source": [
    "t = 1 \n",
    "f = 0\n",
    "\n",
    "bool(t)"
   ]
  },
  {
   "cell_type": "code",
   "execution_count": 2,
   "metadata": {},
   "outputs": [
    {
     "data": {
      "text/plain": [
       "False"
      ]
     },
     "execution_count": 2,
     "metadata": {},
     "output_type": "execute_result"
    }
   ],
   "source": [
    "t = 1 \n",
    "f = 0\n",
    "bool(f)"
   ]
  },
  {
   "cell_type": "code",
   "execution_count": 3,
   "metadata": {},
   "outputs": [
    {
     "data": {
      "text/plain": [
       "False"
      ]
     },
     "execution_count": 3,
     "metadata": {},
     "output_type": "execute_result"
    }
   ],
   "source": [
    "t = 'Micheal' \n",
    "f = None\n",
    "bool(f)"
   ]
  },
  {
   "cell_type": "code",
   "execution_count": 4,
   "metadata": {},
   "outputs": [
    {
     "data": {
      "text/plain": [
       "True"
      ]
     },
     "execution_count": 4,
     "metadata": {},
     "output_type": "execute_result"
    }
   ],
   "source": [
    "t = 'Micheal' \n",
    "f = None\n",
    "bool(t)"
   ]
  },
  {
   "cell_type": "code",
   "execution_count": 1,
   "metadata": {},
   "outputs": [
    {
     "data": {
      "text/plain": [
       "False"
      ]
     },
     "execution_count": 1,
     "metadata": {},
     "output_type": "execute_result"
    }
   ],
   "source": [
    "t = '5'\n",
    "f = ''\n",
    "bool(f)"
   ]
  },
  {
   "cell_type": "markdown",
   "metadata": {},
   "source": [
    "### How to make dictionary from two list?"
   ]
  },
  {
   "cell_type": "code",
   "execution_count": 7,
   "metadata": {},
   "outputs": [
    {
     "data": {
      "text/plain": [
       "{'Ram': 34, 'Rex': 25, 'Rani': 27, 'Micheal': 31}"
      ]
     },
     "execution_count": 7,
     "metadata": {},
     "output_type": "execute_result"
    }
   ],
   "source": [
    "name = ['Ram','Rex','Rani','Micheal']\n",
    "age = [34, 25, 27, 31]\n",
    "dict(zip(name,age))"
   ]
  },
  {
   "cell_type": "code",
   "execution_count": 47,
   "metadata": {},
   "outputs": [
    {
     "name": "stdout",
     "output_type": "stream",
     "text": [
      "Ram 34\n",
      "Rex 25\n",
      "Rani 27\n",
      "Micheal 31\n"
     ]
    }
   ],
   "source": [
    "name = ['Ram','Rex','Rani','Micheal']\n",
    "age = [34, 25, 27, 31]\n",
    "\n",
    "for x,y in zip(name,age):\n",
    "    print(x,y)"
   ]
  },
  {
   "cell_type": "code",
   "execution_count": 9,
   "metadata": {},
   "outputs": [
    {
     "name": "stdout",
     "output_type": "stream",
     "text": [
      "Ram 34\n",
      "Rex 25\n",
      "Rani 27\n",
      "Micheal 31\n"
     ]
    }
   ],
   "source": [
    "name = ['Ram','Rex','Rani','Micheal']\n",
    "age = [34, 25, 27, 31]\n",
    "combine = dict(zip(name,age))\n",
    "\n",
    "for x,y in combine.items():\n",
    "    print(x,y)"
   ]
  },
  {
   "cell_type": "markdown",
   "metadata": {},
   "source": [
    "### null command"
   ]
  },
  {
   "cell_type": "code",
   "execution_count": 8,
   "metadata": {},
   "outputs": [
    {
     "name": "stdout",
     "output_type": "stream",
     "text": [
      "Micheal\n"
     ]
    }
   ],
   "source": [
    "%%bash\n",
    "\n",
    "echo 'Micheal'"
   ]
  },
  {
   "cell_type": "code",
   "execution_count": 9,
   "metadata": {},
   "outputs": [],
   "source": [
    "%%bash\n",
    "\n",
    ": echo 'Micheal'"
   ]
  },
  {
   "cell_type": "code",
   "execution_count": 16,
   "metadata": {},
   "outputs": [
    {
     "name": "stdout",
     "output_type": "stream",
     "text": [
      "Miheal\n"
     ]
    }
   ],
   "source": [
    "%%python3\n",
    "\n",
    "if 'i': print('Miheal')"
   ]
  },
  {
   "cell_type": "code",
   "execution_count": 15,
   "metadata": {},
   "outputs": [],
   "source": [
    "%%python3\n",
    "\n",
    "if 'i': pass"
   ]
  },
  {
   "cell_type": "markdown",
   "metadata": {},
   "source": [
    "### How to combine two lists?"
   ]
  },
  {
   "cell_type": "code",
   "execution_count": 56,
   "metadata": {},
   "outputs": [
    {
     "name": "stdout",
     "output_type": "stream",
     "text": [
      "A a\n",
      "B b\n",
      "C c\n"
     ]
    }
   ],
   "source": [
    "import string\n",
    "\n",
    "upper = string.ascii_uppercase[0:3]\n",
    "lower = string.ascii_lowercase[0:3]\n",
    "\n",
    "for u,l in zip(upper,lower):\n",
    "    print(u,l)"
   ]
  },
  {
   "cell_type": "code",
   "execution_count": 55,
   "metadata": {},
   "outputs": [
    {
     "name": "stdout",
     "output_type": "stream",
     "text": [
      "A B C\n",
      "a b c\n"
     ]
    }
   ],
   "source": [
    "%%bash\n",
    "\n",
    "echo {A..C}\n",
    "echo {a..c}"
   ]
  },
  {
   "cell_type": "markdown",
   "metadata": {},
   "source": [
    "### Truth Table"
   ]
  },
  {
   "cell_type": "markdown",
   "metadata": {},
   "source": [
    "#### OR"
   ]
  },
  {
   "cell_type": "code",
   "execution_count": 78,
   "metadata": {},
   "outputs": [
    {
     "name": "stdout",
     "output_type": "stream",
     "text": [
      "1 X 1  =  True\n",
      "1 X 0  =  True\n",
      "0 X 1  =  True\n",
      "0 X 0  =  False\n"
     ]
    }
   ],
   "source": [
    "%%python3\n",
    "\n",
    "table = [(1,1),(1,0),(0,1),(0,0)]\n",
    "\n",
    "for x,y in table:\n",
    "    print(x,'X',y,' = ', bool(x or y))"
   ]
  },
  {
   "cell_type": "code",
   "execution_count": 79,
   "metadata": {},
   "outputs": [
    {
     "name": "stdout",
     "output_type": "stream",
     "text": [
      "1x1 = True\n",
      "1x0 = True\n",
      "0x1 = True\n",
      "0x0 = False\n"
     ]
    }
   ],
   "source": [
    "%%bash\n",
    "\n",
    "for i in {1..0}x{1..0} \n",
    "do \n",
    "if [[ $i =~ 1 ]]\n",
    "then\n",
    "echo $i = True\n",
    "else\n",
    "echo $i = False\n",
    "fi\n",
    "done"
   ]
  },
  {
   "cell_type": "markdown",
   "metadata": {},
   "source": [
    "#### AND"
   ]
  },
  {
   "cell_type": "code",
   "execution_count": 68,
   "metadata": {},
   "outputs": [
    {
     "name": "stdout",
     "output_type": "stream",
     "text": [
      "1 X 1  =  True\n",
      "1 X 0  =  False\n",
      "0 X 1  =  False\n",
      "0 X 0  =  False\n"
     ]
    }
   ],
   "source": [
    "%%python3\n",
    "\n",
    "table = [(1,1),(1,0),(0,1),(0,0)]\n",
    "\n",
    "for x,y in table:\n",
    "    print(x,'X',y,' = ', bool(x and y))"
   ]
  },
  {
   "cell_type": "code",
   "execution_count": 71,
   "metadata": {},
   "outputs": [
    {
     "name": "stdout",
     "output_type": "stream",
     "text": [
      "1x1 = True\n",
      "1x0 = False\n",
      "0x1 = False\n",
      "0x0 = False\n"
     ]
    }
   ],
   "source": [
    "%%bash\n",
    "\n",
    "for i in {1..0}x{1..0}\n",
    "do\n",
    "if [[ $i =~ 1.1 ]]\n",
    "then\n",
    "echo $i = True\n",
    "else\n",
    "echo $i = False\n",
    "fi\n",
    "done"
   ]
  },
  {
   "cell_type": "markdown",
   "metadata": {},
   "source": [
    "### How to reshape array in numpy?"
   ]
  },
  {
   "cell_type": "code",
   "execution_count": 76,
   "metadata": {},
   "outputs": [
    {
     "name": "stdout",
     "output_type": "stream",
     "text": [
      "9\n"
     ]
    },
    {
     "data": {
      "text/plain": [
       "array([[0, 1, 2],\n",
       "       [3, 4, 5],\n",
       "       [6, 7, 8]])"
      ]
     },
     "execution_count": 76,
     "metadata": {},
     "output_type": "execute_result"
    }
   ],
   "source": [
    "from pathlib import Path\n",
    "import numpy as np\n",
    "\n",
    "P = Path('/etc/hosts').read_text().splitlines()\n",
    "print(len(P))\n",
    "np.arange(len(P)).reshape(3,3)"
   ]
  },
  {
   "cell_type": "markdown",
   "metadata": {},
   "source": [
    "### How to Count Characters in file?"
   ]
  },
  {
   "cell_type": "code",
   "execution_count": 84,
   "metadata": {},
   "outputs": [
    {
     "name": "stdout",
     "output_type": "stream",
     "text": [
      "Apples and pears.\r\n",
      "Citrus – oranges, grapefruits, mandarins and limes.\r\n",
      "\r\n"
     ]
    }
   ],
   "source": [
    "!cat '/home/mana/Work/fruit1.txt'"
   ]
  },
  {
   "cell_type": "code",
   "execution_count": 93,
   "metadata": {},
   "outputs": [
    {
     "name": "stdout",
     "output_type": "stream",
     "text": [
      "71\n"
     ]
    }
   ],
   "source": [
    "%%python3\n",
    "\n",
    "from pathlib import Path\n",
    "\n",
    "P = Path('/home/mana/Work/fruit1.txt').read_text()\n",
    "print(len(list(P)))"
   ]
  },
  {
   "cell_type": "code",
   "execution_count": 90,
   "metadata": {},
   "outputs": [
    {
     "name": "stdout",
     "output_type": "stream",
     "text": [
      "71\r\n"
     ]
    }
   ],
   "source": [
    "%%bash\n",
    "\n",
    "cat '/home/mana/Work/fruit1.txt' | wc -m"
   ]
  },
  {
   "cell_type": "markdown",
   "metadata": {},
   "source": [
    "### Guess Your favorite color\n",
    "\n",
    "Actually i written this program for small Childrens to Memrise colors name. \n",
    "\n",
    "Actually, This is magic program small Childrens to memrise color name.\n",
    "\n",
    "Then they will slowly practise PYTHON program."
   ]
  },
  {
   "cell_type": "code",
   "execution_count": 9,
   "metadata": {},
   "outputs": [
    {
     "data": {
      "text/plain": [
       "'Blue'"
      ]
     },
     "execution_count": 9,
     "metadata": {},
     "output_type": "execute_result"
    }
   ],
   "source": [
    "from random import randint\n",
    "\n",
    "color = ['Red', 'Rose', 'Black', 'Blue', 'Cyan', 'Gold', 'yellow']\n",
    "color[randint(0,len(color) -1)]\n"
   ]
  },
  {
   "cell_type": "markdown",
   "metadata": {},
   "source": [
    "### How many process running in Linux server?"
   ]
  },
  {
   "cell_type": "code",
   "execution_count": 33,
   "metadata": {},
   "outputs": [
    {
     "data": {
      "text/plain": [
       "231"
      ]
     },
     "execution_count": 33,
     "metadata": {},
     "output_type": "execute_result"
    }
   ],
   "source": [
    "from pathlib import Path\n",
    "\n",
    "P = Path('/proc').glob('[0-9]*')\n",
    "len(list(P))"
   ]
  },
  {
   "cell_type": "markdown",
   "metadata": {},
   "source": [
    "### How to check particular process running or not?"
   ]
  },
  {
   "cell_type": "code",
   "execution_count": 2,
   "metadata": {},
   "outputs": [
    {
     "name": "stdout",
     "output_type": "stream",
     "text": [
      "Enter Process Name:nautilus\n",
      "'nautilus' Process running\n"
     ]
    }
   ],
   "source": [
    "from pathlib import Path\n",
    "\n",
    "p = Path('/proc')\n",
    "\n",
    "def pro(name):\n",
    "    pid = [i for i in p.iterdir() \n",
    "           if str(i.name).isdigit() and i.is_dir()]\n",
    "    stat = [j.joinpath('status').read_text().split()[1]\n",
    "            for j in pid]\n",
    "    if name in stat:\n",
    "        print(repr(name), 'Process running')\n",
    "    else:\n",
    "         print(repr(name), 'Process not running')\n",
    "\n",
    "inp = input('Enter Process Name:')\n",
    "pro(inp)"
   ]
  },
  {
   "cell_type": "markdown",
   "metadata": {},
   "source": [
    "### How to collect process name, pid in Linux system?"
   ]
  },
  {
   "cell_type": "code",
   "execution_count": null,
   "metadata": {},
   "outputs": [],
   "source": [
    "%%bash\n",
    "\n",
    "ps -A | awk '{print $1,$NF}'"
   ]
  },
  {
   "cell_type": "code",
   "execution_count": 78,
   "metadata": {},
   "outputs": [
    {
     "name": "stdout",
     "output_type": "stream",
     "text": [
      "1 \tsystemd\n",
      "2 \tkthreadd\n",
      "3 \trcu_gp\n",
      "4 \trcu_par_gp\n",
      "6 \tkworker/0:0H-kblockd\n",
      "8 \tmm_percpu_wq\n",
      "9 \tksoftirqd/0\n",
      "10 \trcu_sched\n",
      "11 \tmigration/0\n",
      "12 \tidle_inject/0\n",
      "14 \tcpuhp/0\n",
      "15 \tcpuhp/1\n",
      "16 \tidle_inject/1\n",
      "17 \tmigration/1\n",
      "18 \tksoftirqd/1\n",
      "20 \tkworker/1:0H-kblockd\n",
      "21 \tkdevtmpfs\n",
      "22 \tnetns\n",
      "23 \trcu_tasks_kthre\n",
      "24 \tkauditd\n",
      "26 \tkhungtaskd\n",
      "27 \toom_reaper\n",
      "28 \twriteback\n",
      "29 \tkcompactd0\n",
      "30 \tksmd\n",
      "31 \tkhugepaged\n",
      "32 \tcrypto\n",
      "33 \tkintegrityd\n",
      "34 \tkblockd\n",
      "35 \ttpm_dev_wq\n",
      "36 \tata_sff\n",
      "37 \tmd\n",
      "38 \tedac-poller\n",
      "39 \tdevfreq_wq\n",
      "40 \twatchdogd\n",
      "42 \tkswapd0\n",
      "43 \tkworker/u9:0\n",
      "44 \tecryptfs-kthrea\n",
      "133 \tkthrotld\n",
      "134 \tirq/24-pciehp\n",
      "135 \tacpi_thermal_pm\n",
      "136 \tscsi_eh_0\n",
      "137 \tscsi_tmf_0\n",
      "138 \tscsi_eh_1\n",
      "139 \tscsi_tmf_1\n",
      "141 \tscsi_eh_2\n",
      "142 \tscsi_tmf_2\n",
      "143 \tscsi_eh_3\n",
      "144 \tscsi_tmf_3\n",
      "148 \tipv6_addrconf\n",
      "159 \tkstrp\n",
      "179 \tcharger_manager\n",
      "181 \tkworker/1:1H-kblockd\n",
      "252 \txfsalloc\n",
      "253 \txfs_mru_cache\n",
      "260 \txfs-buf/sda5\n",
      "261 \txfs-data/sda5\n",
      "262 \txfs-conv/sda5\n",
      "263 \txfs-cil/sda5\n",
      "264 \txfs-reclaim/sda\n",
      "265 \txfs-log/sda5\n",
      "266 \txfs-eofblocks/s\n",
      "267 \txfsaild/sda5\n",
      "308 \tsystemd-journal\n",
      "326 \tsystemd-udevd\n",
      "335 \tloop0\n",
      "336 \tloop1\n",
      "338 \tloop2\n",
      "341 \tloop3\n",
      "450 \tsystemd-resolve\n",
      "453 \tsystemd-timesyn\n",
      "456 \tdbus-daemon\n",
      "511 \tNetworkManager\n",
      "512 \twpa_supplicant\n",
      "513 \tacpid\n",
      "516 \tavahi-daemon\n",
      "521 \trsyslogd\n",
      "524 \tcron\n",
      "528 \tirqbalance\n",
      "531 \tudisksd\n",
      "532 \tnetworkd-dispat\n",
      "533 \tsnapd\n",
      "534 \tcupsd\n",
      "535 \taccounts-daemon\n",
      "536 \tsystemd-logind\n",
      "539 \tavahi-daemon\n",
      "557 \tModemManager\n",
      "579 \tcups-browsed\n",
      "580 \ti915/signal:0\n",
      "581 \ti915/signal:2\n",
      "626 \tpolkitd\n",
      "723 \tunattended-upgr\n",
      "743 \tlightdm\n",
      "857 \tXorg\n",
      "862 \tagetty\n",
      "884 \tlightdm\n",
      "888 \tsystemd\n",
      "889 \t(sd-pam)\n",
      "900 \tgnome-session-b\n",
      "943 \tibus-daemon\n",
      "949 \tdbus-daemon\n",
      "952 \tgvfsd\n",
      "959 \tgvfsd-fuse\n",
      "962 \tibus-dconf\n",
      "963 \tibus-ui-gtk3\n",
      "965 \tibus-x11\n",
      "967 \tibus-portal\n",
      "1023 \tssh-agent\n",
      "1029 \tat-spi-bus-laun\n",
      "1034 \tdbus-daemon\n",
      "1036 \tat-spi2-registr\n",
      "1050 \tgnome-screensav\n",
      "1055 \tibus-engine-sim\n",
      "1060 \tgnome-keyring-d\n",
      "1068 \tgsd-keyboard\n",
      "1069 \tgsd-media-keys\n",
      "1070 \tgsd-mouse\n",
      "1071 \tgsd-power\n",
      "1072 \tgsd-print-notif\n",
      "1074 \tgsd-screensaver\n",
      "1075 \tgsd-smartcard\n",
      "1080 \tgsd-sound\n",
      "1081 \tgsd-sharing\n",
      "1086 \tgsd-rfkill\n",
      "1100 \tgsd-wacom\n",
      "1101 \tgsd-xsettings\n",
      "1104 \tgsd-a11y-settin\n",
      "1107 \tgsd-clipboard\n",
      "1113 \tgsd-color\n",
      "1116 \tgsd-datetime\n",
      "1117 \tgsd-housekeepin\n",
      "1118 \tupowerd\n",
      "1147 \tgsd-printer\n",
      "1170 \tpulseaudio\n",
      "1172 \trtkit-daemon\n",
      "1195 \tcolord\n",
      "1205 \tbudgie-wm\n",
      "1217 \tbudgie-panel\n",
      "1226 \tdconf-service\n",
      "1234 \tgvfs-udisks2-vo\n",
      "1238 \tbshowtime_panel\n",
      "1240 \tgvfs-mtp-volume\n",
      "1244 \tgvfs-gphoto2-vo\n",
      "1248 \tgvfs-goa-volume\n",
      "1252 \tgoa-daemon\n",
      "1254 \tShowTime\n",
      "1261 \tgoa-identity-se\n",
      "1267 \tgvfs-afc-volume\n",
      "1278 \twhoopsie\n",
      "1288 \tkerneloops\n",
      "1290 \tkerneloops\n",
      "1317 \tbudgie-daemon\n",
      "1319 \tbudgie-polkit-d\n",
      "1330 \tgsd-disk-utilit\n",
      "1331 \tindicator-appli\n",
      "1336 \tplank\n",
      "1337 \ttilda\n",
      "1338 \tnm-applet\n",
      "1346 \tcaffeine\n",
      "1381 \tbamfdaemon\n",
      "1388 \tgvfsd-trash\n",
      "1405 \tbash\n",
      "1435 \tgvfsd-network\n",
      "1456 \tgvfsd-dnssd\n",
      "1627 \tvivaldi-bin\n",
      "1636 \tcat\n",
      "1637 \tcat\n",
      "1640 \tvivaldi-bin\n",
      "1642 \tvivaldi-bin\n",
      "1665 \tvivaldi-bin\n",
      "1669 \tvivaldi-bin\n",
      "1801 \tvivaldi-bin\n",
      "1834 \tvivaldi-bin\n",
      "1881 \tvivaldi-bin\n",
      "1887 \tvivaldi-bin\n",
      "1895 \tvivaldi-bin\n",
      "1903 \tvivaldi-bin\n",
      "2017 \tgnome-software\n",
      "2019 \tupdate-notifier\n",
      "2046 \tfwupd\n",
      "2047 \tpackagekitd\n",
      "2066 \tmate-terminal\n",
      "2087 \tbash\n",
      "2188 \tsmbd\n",
      "2190 \tsmbd-notifyd\n",
      "2191 \tcleanupd\n",
      "2202 \tlpqd\n",
      "2394 \tdhclient\n",
      "2566 \tvivaldi-bin\n",
      "2900 \tnautilus\n",
      "2944 \tvivaldi-bin\n",
      "3431 \tkworker/0:1H-kblockd\n",
      "4213 \tjupyter-noteboo\n",
      "4387 \tvivaldi-bin\n",
      "4414 \tvivaldi-bin\n",
      "4452 \tpython3\n",
      "6100 \tkworker/u8:1-i915\n",
      "6195 \tkworker/u8:3-events_unbound\n",
      "7246 \tkworker/u8:0-i915\n",
      "7452 \tkworker/0:0-events\n",
      "7606 \tgedit\n",
      "7685 \tvivaldi-bin\n",
      "7712 \tkworker/1:1-xfs-cil/sda5\n",
      "7850 \tkworker/1:0-xfs-cil/sda5\n",
      "7952 \tkworker/0:2-xfs-data/sda5\n",
      "7972 \tvivaldi-bin\n",
      "8036 \tkworker/1:2-xfs-cil/sda5\n",
      "8146 \tpython3\n"
     ]
    }
   ],
   "source": [
    "%%python3\n",
    "\n",
    "from pathlib import Path\n",
    "\n",
    "clt_dir = Path('/proc').glob('[0-9]*/status')\n",
    "clt_id = [(r_st.parent.name,r_st.read_text().splitlines()[0]) \n",
    "          for r_st in clt_dir ]\n",
    "for pid,pname in clt_id :\n",
    "    print('{} {}'.format(pid,pname).replace('Name:',''))"
   ]
  },
  {
   "cell_type": "markdown",
   "metadata": {},
   "source": [
    "### parent name"
   ]
  },
  {
   "cell_type": "code",
   "execution_count": 82,
   "metadata": {},
   "outputs": [
    {
     "data": {
      "text/plain": [
       "'c'"
      ]
     },
     "execution_count": 82,
     "metadata": {},
     "output_type": "execute_result"
    }
   ],
   "source": [
    "from pathlib import Path\n",
    "\n",
    "p = Path('/a/b/c/d')\n",
    "p.parent.name\n"
   ]
  },
  {
   "cell_type": "markdown",
   "metadata": {},
   "source": [
    "### How to fetch file name from filepath?"
   ]
  },
  {
   "cell_type": "code",
   "execution_count": 84,
   "metadata": {},
   "outputs": [
    {
     "name": "stdout",
     "output_type": "stream",
     "text": [
      "/home/mana/Work/fruit1.txt\r\n"
     ]
    }
   ],
   "source": [
    "!ls /home/mana/Work/fruit1.txt"
   ]
  },
  {
   "cell_type": "code",
   "execution_count": 88,
   "metadata": {},
   "outputs": [
    {
     "name": "stdout",
     "output_type": "stream",
     "text": [
      "fruit1.txt\n"
     ]
    }
   ],
   "source": [
    "%%bash\n",
    "\n",
    "fle='/home/mana/Work/fruit1.txt'\n",
    "basename $fle"
   ]
  },
  {
   "cell_type": "code",
   "execution_count": 91,
   "metadata": {},
   "outputs": [
    {
     "name": "stdout",
     "output_type": "stream",
     "text": [
      "fruit1.txt\n"
     ]
    }
   ],
   "source": [
    "%%python3\n",
    "\n",
    "from pathlib import Path\n",
    "\n",
    "P = Path('/home/mana/Work/fruit1.txt')\n",
    "print(P.name)"
   ]
  },
  {
   "cell_type": "code",
   "execution_count": 94,
   "metadata": {},
   "outputs": [
    {
     "data": {
      "text/plain": [
       "3"
      ]
     },
     "execution_count": 94,
     "metadata": {},
     "output_type": "execute_result"
    }
   ],
   "source": [
    "10//3"
   ]
  },
  {
   "cell_type": "markdown",
   "metadata": {},
   "source": [
    "### How to convert file /etc/passwd to csv file?"
   ]
  },
  {
   "cell_type": "code",
   "execution_count": 106,
   "metadata": {},
   "outputs": [],
   "source": [
    "from pathlib import Path\n",
    "\n",
    "P = Path('/etc/passwd').read_text().splitlines()\n",
    "comma = [i.replace(':',',') for i in P]\n",
    "print(*comma,sep='\\n',file = open('/home/mana/Work/user.csv','w'))"
   ]
  },
  {
   "cell_type": "markdown",
   "metadata": {},
   "source": [
    "### How to manipulate columns in csv file using pathlib module?\n",
    "Here, I fetch 5 column only."
   ]
  },
  {
   "cell_type": "code",
   "execution_count": 108,
   "metadata": {},
   "outputs": [
    {
     "name": "stdout",
     "output_type": "stream",
     "text": [
      "daemon,x,1,1,daemon,/usr/sbin,/usr/sbin/nologin\r\n",
      "bin,x,2,2,bin,/bin,/usr/sbin/nologin\r\n",
      "sys,x,3,3,sys,/dev,/usr/sbin/nologin\r\n",
      "sync,x,4,65534,sync,/bin,/bin/sync\r\n"
     ]
    }
   ],
   "source": [
    "!cat '/home/mana/Work/user.csv'"
   ]
  },
  {
   "cell_type": "code",
   "execution_count": 112,
   "metadata": {},
   "outputs": [
    {
     "data": {
      "text/plain": [
       "['daemon', 'bin', 'sys', 'sync']"
      ]
     },
     "execution_count": 112,
     "metadata": {},
     "output_type": "execute_result"
    }
   ],
   "source": [
    "from pathlib import Path\n",
    "\n",
    "P = Path('/home/mana/Work/user.csv').read_text().splitlines()\n",
    "[x.split(',')[4] for x in P]"
   ]
  },
  {
   "cell_type": "code",
   "execution_count": null,
   "metadata": {},
   "outputs": [],
   "source": []
  }
 ],
 "metadata": {
  "kernelspec": {
   "display_name": "Python 3",
   "language": "python",
   "name": "python3"
  },
  "language_info": {
   "codemirror_mode": {
    "name": "ipython",
    "version": 3
   },
   "file_extension": ".py",
   "mimetype": "text/x-python",
   "name": "python",
   "nbconvert_exporter": "python",
   "pygments_lexer": "ipython3",
   "version": "3.6.8"
  }
 },
 "nbformat": 4,
 "nbformat_minor": 2
}
