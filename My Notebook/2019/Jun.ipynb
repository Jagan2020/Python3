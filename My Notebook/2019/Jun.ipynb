{
 "cells": [
  {
   "cell_type": "markdown",
   "metadata": {},
   "source": [
    "### How to Count Files by Extension?"
   ]
  },
  {
   "cell_type": "code",
   "execution_count": 12,
   "metadata": {},
   "outputs": [
    {
     "data": {
      "text/plain": [
       "Counter({'.py': 3,\n",
       "         '.txt': 10,\n",
       "         '.csv': 5,\n",
       "         '.sh': 1,\n",
       "         '.pdf': 4,\n",
       "         '.xls': 1,\n",
       "         '.csz': 1,\n",
       "         '': 2})"
      ]
     },
     "execution_count": 12,
     "metadata": {},
     "output_type": "execute_result"
    }
   ],
   "source": [
    "from collections import Counter\n",
    "from pathlib import Path\n",
    "\n",
    "P = Path('/home/mana/Work').glob('*')\n",
    "ext = [i.suffix for i in P if i.is_file()]\n",
    "Counter(ext)"
   ]
  },
  {
   "cell_type": "code",
   "execution_count": 11,
   "metadata": {},
   "outputs": [
    {
     "data": {
      "text/plain": [
       "Counter({'.py': 3,\n",
       "         '.txt': 10,\n",
       "         '.csv': 5,\n",
       "         '.sh': 1,\n",
       "         '.pdf': 4,\n",
       "         '.xls': 1,\n",
       "         '.csz': 1,\n",
       "         '': 2})"
      ]
     },
     "execution_count": 11,
     "metadata": {},
     "output_type": "execute_result"
    }
   ],
   "source": [
    "from pathlib import Path\n",
    "from collections import Counter\n",
    "\n",
    "P = Path('/home/mana/Work').glob('*')\n",
    "ext = {i.name: i.suffix for i in P if i.is_file()}\n",
    "Counter(ext.values())"
   ]
  },
  {
   "cell_type": "markdown",
   "metadata": {},
   "source": [
    "### How to Count Files by Extension using os module?"
   ]
  },
  {
   "cell_type": "code",
   "execution_count": 15,
   "metadata": {},
   "outputs": [
    {
     "data": {
      "text/plain": [
       "Counter({'py': 3, 'txt': 10, 'csv': 5, 'sh': 1, 'pdf': 4, 'xls': 1, 'csz': 1})"
      ]
     },
     "execution_count": 15,
     "metadata": {},
     "output_type": "execute_result"
    }
   ],
   "source": [
    "from collections import Counter\n",
    "import os\n",
    "\n",
    "Counter([i.split('.')[1] for i in os.listdir('/home/mana/Work') if '.' in i])"
   ]
  },
  {
   "cell_type": "markdown",
   "metadata": {},
   "source": [
    "### How do I calculate the hash sha256 checksum of a download file in Python?"
   ]
  },
  {
   "cell_type": "code",
   "execution_count": 21,
   "metadata": {},
   "outputs": [
    {
     "name": "stdout",
     "output_type": "stream",
     "text": [
      "File download Correctly.\n"
     ]
    }
   ],
   "source": [
    "from hashlib import sha256\n",
    "\n",
    "org_dig = '9f4d3e9fcbfd94b4570597cd393c7d075ac5b835bfc72eb2c0fe57ef40f7f64f'\n",
    "dig = sha256(open('/home/mana/Downloads/ubuntu-mate-18.04.2-desktop-amd64.iso','rb')\n",
    "             .read()).hexdigest()\n",
    "\n",
    "if org_dig == dig:\n",
    "    print('File download Correctly.')\n",
    "else:\n",
    "    print('May be file corrupted while downloding.')\n"
   ]
  },
  {
   "cell_type": "code",
   "execution_count": 60,
   "metadata": {},
   "outputs": [
    {
     "name": "stdout",
     "output_type": "stream",
     "text": [
      "30 jan\n",
      "40 febuary\n",
      "50 march\n",
      "60 april\n",
      "70 may\n",
      "80 june\n",
      "90 july\n",
      "100 august\n",
      "120 september\n",
      "130 october\n",
      "140 november\n",
      "150 december\n"
     ]
    }
   ],
   "source": [
    "x = [[30],[40],[50],[60],[70],[80],[90],[100],\n",
    "     [120],[130],[140],[150]] \n",
    "y = ['jan','febuary','march','april','may','june',\n",
    "     'july','august','september','october','november','december']\n",
    "\n",
    "for i,j in list(zip(x,y)):\n",
    "    print(*i,j)"
   ]
  },
  {
   "cell_type": "markdown",
   "metadata": {},
   "source": [
    "### How to draw diomand pattern?"
   ]
  },
  {
   "cell_type": "code",
   "execution_count": 183,
   "metadata": {},
   "outputs": [
    {
     "name": "stdout",
     "output_type": "stream",
     "text": [
      "     *\n",
      "    ***\n",
      "   *****\n",
      "  *******\n",
      " *********\n",
      "***********\n",
      " *********\n",
      "  *******\n",
      "   *****\n",
      "    ***\n",
      "     *\n"
     ]
    }
   ],
   "source": [
    "for i in range(-5,6):\n",
    "    print(abs(i)*' '+'*'*abs(abs(i)-6)+'*'*abs(abs(i)-5))\n",
    "\n"
   ]
  },
  {
   "cell_type": "code",
   "execution_count": 195,
   "metadata": {},
   "outputs": [
    {
     "name": "stdout",
     "output_type": "stream",
     "text": [
      "     *\n",
      "    *\n",
      "   *\n",
      "  *\n",
      " *\n",
      "*\n",
      " *\n",
      "  *\n",
      "   *\n",
      "    *\n",
      "     *\n"
     ]
    }
   ],
   "source": [
    "for i in range(-5,6):\n",
    "    print(abs(i)*' '+'*')\n",
    "\n"
   ]
  },
  {
   "cell_type": "code",
   "execution_count": 143,
   "metadata": {},
   "outputs": [
    {
     "name": "stdout",
     "output_type": "stream",
     "text": [
      "          *\n",
      "         ***\n",
      "        *****\n",
      "       *******\n",
      "        *****\n",
      "         ***\n",
      "          *\n"
     ]
    }
   ],
   "source": [
    "lst1 = [(10,1),(9,3),(8,5),(7,7)]\n",
    "lst2 = lst1[-2::-1]\n",
    "for i,j in lst1+lst2:\n",
    "    print(' '*i+'*'*j)\n"
   ]
  },
  {
   "cell_type": "code",
   "execution_count": 102,
   "metadata": {},
   "outputs": [
    {
     "name": "stdout",
     "output_type": "stream",
     "text": [
      "          *\n",
      "         ***\n",
      "        *****\n",
      "       *******\n",
      "        *****\n",
      "         ***\n",
      "          *\n"
     ]
    }
   ],
   "source": [
    "a = [i for i in range(7,11)]\n",
    "b = [j for j in range(1,8,2)]\n",
    "lst = list(zip(a[::-1],b))\n",
    "for i,j in lst:\n",
    "    print(' '*i+'*'*j)\n",
    "for i,j in lst[-2::-1]:\n",
    "    print(' '*i+'*'*j)"
   ]
  },
  {
   "cell_type": "code",
   "execution_count": 82,
   "metadata": {},
   "outputs": [
    {
     "name": "stdout",
     "output_type": "stream",
     "text": [
      "          *\n",
      "         ***\n",
      "        *****\n",
      "       *******\n",
      "        *****\n",
      "         ***\n",
      "          *\n"
     ]
    }
   ],
   "source": [
    "lst = [(10,1),(9,3),(8,5),(7,7)]\n",
    "for i,j in lst:\n",
    "    print(' '*i+'*'*j)\n",
    "for i,j in lst[-2::-1]:\n",
    "    print(' '*i+'*'*j)"
   ]
  },
  {
   "cell_type": "markdown",
   "metadata": {},
   "source": [
    "### Convert Word Number to Integer"
   ]
  },
  {
   "cell_type": "code",
   "execution_count": 92,
   "metadata": {},
   "outputs": [
    {
     "name": "stdout",
     "output_type": "stream",
     "text": [
      "1\n",
      "100\n",
      "70\n",
      "9\n",
      "[1, 100, 70, 9]\n"
     ]
    }
   ],
   "source": [
    "unitsn = [0,1,2,3,4,5,6,7,8,9,10,11,12,13,14,15,16,17,18,19]\n",
    "tensn = ['','', 20, 30, 40, 50, 60, 70, 80, 90, 100]\n",
    "scalesn = [100,1000,1000000,1000000000,1000000000000]\n",
    "units = [\"zero\", \"one\", \"two\", \"three\", \"four\", \"five\", \"six\", \"seven\", \"eight\",\n",
    "        \"nine\", \"ten\", \"eleven\", \"twelve\", \"thirteen\", \"fourteen\", \"fifteen\",\n",
    "        \"sixteen\", \"seventeen\", \"eighteen\", \"nineteen\"]\n",
    "tens = [\"\", \"\", \"twenty\", \"thirty\", \"forty\", \"fifty\", \"sixty\", \"seventy\", \"eighty\", \"ninety\"]\n",
    "scales = [\"hundred\", \"thousand\", \"million\", \"billion\", \"trillion\"]\n",
    "total = []\n",
    "\n",
    "for i in \"one hundred seventy nine\".split():\n",
    "    if i in units:\n",
    "        print(unitsn[units.index(i)])\n",
    "        total += [unitsn[units.index(i)]]\n",
    "    if i in tens:\n",
    "        print(tensn[tens.index(i)])\n",
    "        total += [tensn[tens.index(i)]]\n",
    "    if i in scales:\n",
    "        print(scalesn[scales.index(i)])\n",
    "        total += [scalesn[scales.index(i)]]\n",
    "\n",
    "print(total)\n"
   ]
  },
  {
   "cell_type": "markdown",
   "metadata": {},
   "source": [
    "### How to do Arithmetic between word number and integer?\n",
    "Here i did mutiply 4and two"
   ]
  },
  {
   "cell_type": "code",
   "execution_count": 72,
   "metadata": {},
   "outputs": [
    {
     "data": {
      "text/plain": [
       "8"
      ]
     },
     "execution_count": 72,
     "metadata": {},
     "output_type": "execute_result"
    }
   ],
   "source": [
    "unitsn = [0,1,2,3,4,5,6,7,8,9,10,11,12,13,14,15,16,17,18,19]\n",
    "units = [\"zero\", \"one\", \"two\", \"three\", \"four\", \"five\", \"six\", \"seven\", \"eight\",\n",
    "        \"nine\", \"ten\", \"eleven\", \"twelve\", \"thirteen\", \"fourteen\", \"fifteen\",\n",
    "        \"sixteen\", \"seventeen\", \"eighteen\", \"nineteen\"]\n",
    "\n",
    "def mul(a,b):\n",
    "    return a*units1[units.index(b)]\n",
    "\n",
    "mul(4, 'two')"
   ]
  },
  {
   "cell_type": "markdown",
   "metadata": {},
   "source": [
    "### How to merge two files?"
   ]
  },
  {
   "cell_type": "code",
   "execution_count": 94,
   "metadata": {},
   "outputs": [
    {
     "name": "stdout",
     "output_type": "stream",
     "text": [
      "one\r\n"
     ]
    }
   ],
   "source": [
    "!cat /home/mana/Work/test1.txt"
   ]
  },
  {
   "cell_type": "code",
   "execution_count": 95,
   "metadata": {},
   "outputs": [
    {
     "name": "stdout",
     "output_type": "stream",
     "text": [
      "two\r\n"
     ]
    }
   ],
   "source": [
    "!cat /home/mana/Work/test2.txt"
   ]
  },
  {
   "cell_type": "code",
   "execution_count": 139,
   "metadata": {},
   "outputs": [],
   "source": [
    "from pathlib import Path\n",
    "\n",
    "P = Path('/home/mana/Work/')\n",
    "r = (P/'test1.txt').read_text() + (P/'test2.txt').read_text()\n",
    "print(r, file=open('/home/mana/Work/result.txt', 'w'))"
   ]
  },
  {
   "cell_type": "code",
   "execution_count": 140,
   "metadata": {},
   "outputs": [
    {
     "name": "stdout",
     "output_type": "stream",
     "text": [
      "one\r\n",
      "two\r\n",
      "\r\n"
     ]
    }
   ],
   "source": [
    "!cat /home/mana/Work/result.txt"
   ]
  },
  {
   "cell_type": "markdown",
   "metadata": {},
   "source": [
    "### How to get this output?"
   ]
  },
  {
   "cell_type": "raw",
   "metadata": {},
   "source": [
    "l=[1,2,3,4,5]\n",
    "output:[(1,5),(2,4),3]"
   ]
  },
  {
   "cell_type": "code",
   "execution_count": 182,
   "metadata": {},
   "outputs": [
    {
     "data": {
      "text/plain": [
       "[(1, 5), (2, 4), 3]"
      ]
     },
     "execution_count": 182,
     "metadata": {},
     "output_type": "execute_result"
    }
   ],
   "source": [
    "l=[1,2,3,4,5]\n",
    "m = list(zip(l,l[::-1]))[:3]\n",
    "m[:2]+list(m[2])[:-1]\n"
   ]
  },
  {
   "cell_type": "markdown",
   "metadata": {},
   "source": [
    "### how to read a file by line and save that data into a list?"
   ]
  },
  {
   "cell_type": "code",
   "execution_count": 2,
   "metadata": {},
   "outputs": [
    {
     "name": "stdout",
     "output_type": "stream",
     "text": [
      "one\r\n",
      "two\r\n",
      "\r\n"
     ]
    }
   ],
   "source": [
    "!cat /home/mana/Work/result.txt"
   ]
  },
  {
   "cell_type": "code",
   "execution_count": 3,
   "metadata": {},
   "outputs": [
    {
     "data": {
      "text/plain": [
       "['one', 'two', '']"
      ]
     },
     "execution_count": 3,
     "metadata": {},
     "output_type": "execute_result"
    }
   ],
   "source": [
    "from pathlib import Path\n",
    "\n",
    "Path('/home/mana/Work/result.txt').read_text().splitlines()\n",
    "\n"
   ]
  },
  {
   "cell_type": "markdown",
   "metadata": {},
   "source": [
    "### Chrismas Tree"
   ]
  },
  {
   "cell_type": "code",
   "execution_count": 4,
   "metadata": {},
   "outputs": [
    {
     "name": "stdout",
     "output_type": "stream",
     "text": [
      "\u001b[1;32;48m                                  *\u001b[0m\n",
      "\u001b[1;32;48m                                 ***\u001b[0m\n",
      "\u001b[1;32;48m                                *****\u001b[0m\n",
      "\u001b[1;32;48m                               *******\u001b[0m\n",
      "\u001b[1;32;48m                              *********\u001b[0m\n",
      "\u001b[1;32;48m                             ***********\u001b[0m\n",
      "\u001b[1;32;48m                            *************\u001b[0m\n",
      "\u001b[1;32;48m                           ***************\u001b[0m\n",
      "\u001b[1;32;48m                          *****************\u001b[0m\n",
      "\u001b[1;32;48m                         *******************\u001b[0m\n",
      "\u001b[1;32;48m                        *********************\u001b[0m\n",
      "\u001b[1;32;48m                       ***********************\u001b[0m\n",
      "\u001b[1;32;48m                      *************************\u001b[0m\n",
      "\u001b[1;32;48m                     ***************************\u001b[0m\n",
      "\u001b[1;32;48m                    *****************************\u001b[0m\n",
      "\u001b[1;32;48m                   *******************************\u001b[0m\n",
      "\u001b[1;32;48m                  *********************************\u001b[0m\n",
      "                                  ||\n",
      "                                  ||\n",
      "                                  ||\n",
      "                                \\====/\n"
     ]
    }
   ],
   "source": [
    "b = 34\n",
    "c = 0\n",
    "while b > 0 and c < 33 :\n",
    "        print('\\33[1;32;48m'+' '*b+'*'+'*'*c+'\\33[0m')\n",
    "        b -= 1\n",
    "        c += 2\n",
    "for r in range(3):\n",
    "    print(' '*33,'||')\n",
    "print(' '*32, end = '\\====/')\n",
    "print('')"
   ]
  },
  {
   "cell_type": "markdown",
   "metadata": {},
   "source": [
    "### How to find to lentgh of string without len function?"
   ]
  },
  {
   "cell_type": "code",
   "execution_count": 24,
   "metadata": {},
   "outputs": [
    {
     "name": "stdout",
     "output_type": "stream",
     "text": [
      "4\n"
     ]
    }
   ],
   "source": [
    "for i in enumerate('Vivek'):\n",
    "    pass\n",
    "else:\n",
    "    print(i[0])"
   ]
  },
  {
   "cell_type": "markdown",
   "metadata": {},
   "source": [
    "### How to find index of 'v' in string 'Xavier' without index method?"
   ]
  },
  {
   "cell_type": "code",
   "execution_count": 30,
   "metadata": {},
   "outputs": [
    {
     "name": "stdout",
     "output_type": "stream",
     "text": [
      "3\n"
     ]
    }
   ],
   "source": [
    "for i in enumerate('Xavier',1):\n",
    "    if 'v' in i:\n",
    "        print(i[0])\n",
    "    "
   ]
  },
  {
   "cell_type": "code",
   "execution_count": 33,
   "metadata": {},
   "outputs": [
    {
     "data": {
      "text/plain": [
       "[3]"
      ]
     },
     "execution_count": 33,
     "metadata": {},
     "output_type": "execute_result"
    }
   ],
   "source": [
    "[i[0] for i in enumerate('Xavier', 1) if 'v' in i]"
   ]
  },
  {
   "cell_type": "code",
   "execution_count": null,
   "metadata": {},
   "outputs": [],
   "source": []
  }
 ],
 "metadata": {
  "kernelspec": {
   "display_name": "Python 3",
   "language": "python",
   "name": "python3"
  },
  "language_info": {
   "codemirror_mode": {
    "name": "ipython",
    "version": 3
   },
   "file_extension": ".py",
   "mimetype": "text/x-python",
   "name": "python",
   "nbconvert_exporter": "python",
   "pygments_lexer": "ipython3",
   "version": "3.6.7"
  }
 },
 "nbformat": 4,
 "nbformat_minor": 2
}
