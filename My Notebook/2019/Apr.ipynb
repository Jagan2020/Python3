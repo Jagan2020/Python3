{
 "cells": [
  {
   "cell_type": "markdown",
   "metadata": {},
   "source": [
    "### How to use if and else in list comprehension?"
   ]
  },
  {
   "cell_type": "code",
   "execution_count": 12,
   "metadata": {},
   "outputs": [
    {
     "name": "stdout",
     "output_type": "stream",
     "text": [
      "3 4 5\n"
     ]
    },
    {
     "data": {
      "text/plain": [
       "[64, 125]"
      ]
     },
     "execution_count": 12,
     "metadata": {},
     "output_type": "execute_result"
    }
   ],
   "source": [
    "def to_power(num, *args):\n",
    "    print(num, *args)\n",
    "    t = [\"Hey you din't pass args\" if not args else n**num for n in args]\n",
    "    return t\n",
    "\n",
    "lst = [3,4,5]\n",
    "to_power(*lst)"
   ]
  },
  {
   "cell_type": "markdown",
   "metadata": {},
   "source": [
    "### How to find Euler constant?"
   ]
  },
  {
   "cell_type": "code",
   "execution_count": 28,
   "metadata": {},
   "outputs": [
    {
     "data": {
      "text/plain": [
       "2.718281828459045"
      ]
     },
     "execution_count": 28,
     "metadata": {},
     "output_type": "execute_result"
    }
   ],
   "source": [
    "from math import e\n",
    "\n",
    "e"
   ]
  },
  {
   "cell_type": "code",
   "execution_count": 7,
   "metadata": {},
   "outputs": [
    {
     "data": {
      "text/plain": [
       "3.141592653589793"
      ]
     },
     "execution_count": 7,
     "metadata": {},
     "output_type": "execute_result"
    }
   ],
   "source": [
    "from math import pi\n",
    "\n",
    "pi"
   ]
  },
  {
   "cell_type": "markdown",
   "metadata": {},
   "source": [
    "### How to fetch firstname and lastname?"
   ]
  },
  {
   "cell_type": "code",
   "execution_count": 4,
   "metadata": {},
   "outputs": [
    {
     "name": "stdout",
     "output_type": "stream",
     "text": [
      "Manavalan\n",
      "Michale\n"
     ]
    }
   ],
   "source": [
    "name = 'Manavalan Michale'\n",
    "firstname, lastname = name.split()\n",
    "print(firstname)\n",
    "print(lastname)"
   ]
  },
  {
   "cell_type": "code",
   "execution_count": 6,
   "metadata": {},
   "outputs": [
    {
     "data": {
      "text/plain": [
       "'Kalyan Ravi'"
      ]
     },
     "execution_count": 6,
     "metadata": {},
     "output_type": "execute_result"
    }
   ],
   "source": [
    "firstname = 'Kalyan'\n",
    "lastname = ' Ravi'\n",
    "\n",
    "name = firstname + lastname\n",
    "name"
   ]
  },
  {
   "cell_type": "markdown",
   "metadata": {},
   "source": [
    "### How can I detection end of text file ?"
   ]
  },
  {
   "cell_type": "code",
   "execution_count": 24,
   "metadata": {},
   "outputs": [
    {
     "name": "stdout",
     "output_type": "stream",
     "text": [
      "     1\tone\r\n",
      "     2\ttwo\r\n",
      "     3\tthree\r\n"
     ]
    }
   ],
   "source": [
    "!cat -n  /home/mana/Work/fruits.txt"
   ]
  },
  {
   "cell_type": "code",
   "execution_count": 23,
   "metadata": {},
   "outputs": [
    {
     "data": {
      "text/plain": [
       "'three'"
      ]
     },
     "execution_count": 23,
     "metadata": {},
     "output_type": "execute_result"
    }
   ],
   "source": [
    "from pathlib import Path\n",
    "\n",
    "p = Path('/home/mana/Work/fruits.txt').read_text().splitlines()\n",
    "p[-1]"
   ]
  },
  {
   "cell_type": "markdown",
   "metadata": {},
   "source": [
    "### How to pass arguments in Lambda function?"
   ]
  },
  {
   "cell_type": "code",
   "execution_count": 31,
   "metadata": {},
   "outputs": [
    {
     "data": {
      "text/plain": [
       "10"
      ]
     },
     "execution_count": 31,
     "metadata": {},
     "output_type": "execute_result"
    }
   ],
   "source": [
    "add = lambda x, y: x+y\n",
    "add(5, 5)"
   ]
  },
  {
   "cell_type": "markdown",
   "metadata": {},
   "source": [
    "### Return unique numbers"
   ]
  },
  {
   "cell_type": "code",
   "execution_count": 26,
   "metadata": {},
   "outputs": [
    {
     "data": {
      "text/plain": [
       "[1, 2, 3, 5, 7]"
      ]
     },
     "execution_count": 26,
     "metadata": {},
     "output_type": "execute_result"
    }
   ],
   "source": [
    "l = [1,2,1,3,3,7,5,5]\n",
    "\n",
    "def unique_list(l):\n",
    "    return list(set(l))\n",
    "    \n",
    "unique_list(l)"
   ]
  },
  {
   "cell_type": "code",
   "execution_count": 36,
   "metadata": {},
   "outputs": [
    {
     "data": {
      "text/plain": [
       "[1, 2, 3, 7, 55, 56, 66, 89, 178]"
      ]
     },
     "execution_count": 36,
     "metadata": {},
     "output_type": "execute_result"
    }
   ],
   "source": [
    "l = [1,2,1,3,3,7,56,56,55,89,55,66,178]\n",
    "\n",
    "def unique_list(l):\n",
    "    return sorted(set(l))\n",
    "    \n",
    "unique_list(l)"
   ]
  },
  {
   "cell_type": "markdown",
   "metadata": {},
   "source": [
    "### Return maximum number"
   ]
  },
  {
   "cell_type": "code",
   "execution_count": 152,
   "metadata": {},
   "outputs": [
    {
     "data": {
      "text/plain": [
       "7"
      ]
     },
     "execution_count": 152,
     "metadata": {},
     "output_type": "execute_result"
    }
   ],
   "source": [
    "l = [1,2,1,3,3,7,1]\n",
    "\n",
    "def maximun(l):\n",
    "    return max(set(l))\n",
    "    \n",
    "maximun(l)"
   ]
  },
  {
   "cell_type": "markdown",
   "metadata": {},
   "source": [
    "### If put input two same number then it will ask to re-enter the number again?"
   ]
  },
  {
   "cell_type": "code",
   "execution_count": 150,
   "metadata": {},
   "outputs": [
    {
     "name": "stdout",
     "output_type": "stream",
     "text": [
      "insert: 1\n",
      "insert: 1\n",
      "insert: 1\n",
      "1\n",
      "insert: 2\n",
      "insert: 1\n",
      "insert: 1\n",
      "2\n",
      "insert: 3\n",
      "insert: 1\n",
      "insert: 1\n",
      "2\n",
      "insert: 4\n",
      "insert: 2\n",
      "insert: 1\n",
      "3\n"
     ]
    }
   ],
   "source": [
    "inp = len(set([input('insert: ') for _ in range(3)]))          \n",
    "def chk(x):\n",
    "    print(x)\n",
    "    while x != 3:\n",
    "        x = len(set([input('insert: ') for _ in range(3)]))\n",
    "        print(x)\n",
    "chk(inp)"
   ]
  },
  {
   "cell_type": "markdown",
   "metadata": {},
   "source": [
    "### How to save the position number of a list by their size to another list ?"
   ]
  },
  {
   "cell_type": "code",
   "execution_count": 78,
   "metadata": {},
   "outputs": [
    {
     "data": {
      "text/plain": [
       "[2, 3, 1, 4]"
      ]
     },
     "execution_count": 78,
     "metadata": {},
     "output_type": "execute_result"
    }
   ],
   "source": [
    "lst = [122,22,33,1234]\n",
    "o = [chr(i) for i in lst]\n",
    "[lst.index(ord(j))+1 for  j in sorted(o)]\n"
   ]
  },
  {
   "cell_type": "raw",
   "metadata": {},
   "source": [
    "[2,4,3,1]"
   ]
  },
  {
   "cell_type": "markdown",
   "metadata": {},
   "source": [
    "### How to reassgin variable?"
   ]
  },
  {
   "cell_type": "raw",
   "metadata": {},
   "source": [
    "Here a and b reassign to getting_points and total_points."
   ]
  },
  {
   "cell_type": "code",
   "execution_count": 104,
   "metadata": {},
   "outputs": [
    {
     "name": "stdout",
     "output_type": "stream",
     "text": [
      "76%\n"
     ]
    }
   ],
   "source": [
    "a = getting_points = 912\n",
    "b = total_points = 1200\n",
    "print('{:.0%}'.format(a/b))"
   ]
  },
  {
   "cell_type": "markdown",
   "metadata": {},
   "source": [
    "### Saturinan Month"
   ]
  },
  {
   "cell_type": "code",
   "execution_count": 189,
   "metadata": {},
   "outputs": [
    {
     "name": "stdout",
     "output_type": "stream",
     "text": [
      "  Mi   Rh   Ph   Ja   Ca   Ki   At   Ym\n",
      "   1    2    3    4    5    6    7    8\n",
      "  13   14   15   16   17   18   19   20\n",
      "  25   26   27   28   29   30   31   32\n",
      "  37   38   39   40   41   42   43   44\n"
     ]
    }
   ],
   "source": [
    "lst = range(1,9)\n",
    "\n",
    "print('{:>4} {:>4} {:>4} {:>4} {:>4} {:>4} {:>4} {:>4}'.format('Mi','Rh','Ph','Ja','Ca','Ki','At','Ym'))\n",
    "for i,j,k,l,m,n,o,p in zip(*[iter(lst)] *8):\n",
    "    print('{:4} {:4} {:4} {:4} {:4} {:4} {:4} {:4}'.format(i, j, k,l,m,n,o,p))\n",
    "lst = range(13,21)\n",
    "for i,j,k,l,m,n,o,p in zip(*[iter(lst)] *8):\n",
    "    print('{:4} {:4} {:4} {:4} {:4} {:4} {:4} {:4}'.format(i, j, k,l,m,n,o,p))\n",
    "lst = range(25,33)\n",
    "for i,j,k,l,m,n,o,p in zip(*[iter(lst)] *8):\n",
    "    print('{:4} {:4} {:4} {:4} {:4} {:4} {:4} {:4}'.format(i, j, k,l,m,n,o,p))\n",
    "lst = range(37,45)\n",
    "for i,j,k,l,m,n,o,p in zip(*[iter(lst)] *8):\n",
    "    print('{:4} {:4} {:4} {:4} {:4} {:4} {:4} {:4}'.format(i, j, k,l,m,n,o,p))\n"
   ]
  },
  {
   "cell_type": "code",
   "execution_count": 16,
   "metadata": {},
   "outputs": [
    {
     "name": "stdout",
     "output_type": "stream",
     "text": [
      "  Mi   Rh   Ph   Ja   Ca   Ki   At   Ym\n",
      "   1    2    3    4    5    6    7    8\n",
      "  13   14   15   16   17   18   19   20\n",
      "  25   26   27   28   29   30   31   32\n",
      "  37   38   39   40   41   42   43   44\n"
     ]
    }
   ],
   "source": [
    "lst = [[1,9],[13,21],[25,33],[37,45]]\n",
    "print('{:>4} {:>4} {:>4} {:>4} {:>4} {:>4} {:>4} {:>4}'\n",
    "      .format('Mi','Rh','Ph','Ja','Ca','Ki','At','Ym'))\n",
    "for x in lst:\n",
    "    for i,j,k,l,m,n,o,p in zip(*[iter(range(*x))] *8):\n",
    "        print('{:4} {:4} {:4} {:4} {:4} {:4} {:4} {:4}'.\n",
    "              format(i, j, k,l,m,n,o,p))"
   ]
  },
  {
   "cell_type": "markdown",
   "metadata": {},
   "source": [
    "### How to get range arguments from list?"
   ]
  },
  {
   "cell_type": "code",
   "execution_count": 18,
   "metadata": {},
   "outputs": [
    {
     "name": "stdout",
     "output_type": "stream",
     "text": [
      "1\n",
      "2\n",
      "3\n",
      "4\n",
      "5\n",
      "6\n",
      "7\n",
      "8\n"
     ]
    }
   ],
   "source": [
    "lst = [1,9]\n",
    "\n",
    "for i in range(*lst):\n",
    "    print(i)"
   ]
  },
  {
   "cell_type": "markdown",
   "metadata": {},
   "source": [
    "### How to format phone number?"
   ]
  },
  {
   "cell_type": "code",
   "execution_count": 60,
   "metadata": {},
   "outputs": [
    {
     "name": "stdout",
     "output_type": "stream",
     "text": [
      "PHONE NUMBER: 55842128269\n"
     ]
    },
    {
     "data": {
      "text/plain": [
       "'+91 55842 28269'"
      ]
     },
     "execution_count": 60,
     "metadata": {},
     "output_type": "execute_result"
    }
   ],
   "source": [
    "import random \n",
    "ph = ''.join([str(random.randint(1,9)) for _ in range(11)])\n",
    "print('PHONE NUMBER:',ph)\n",
    "'+91 {} {}'.format(ph[0:5],ph[6:])"
   ]
  },
  {
   "cell_type": "code",
   "execution_count": 61,
   "metadata": {},
   "outputs": [
    {
     "name": "stdout",
     "output_type": "stream",
     "text": [
      "PHONE NUMBER: 83772423101\n"
     ]
    },
    {
     "data": {
      "text/plain": [
       "'+91 83772 23101'"
      ]
     },
     "execution_count": 61,
     "metadata": {},
     "output_type": "execute_result"
    }
   ],
   "source": [
    "import numpy as np\n",
    "\n",
    "ph = ''.join([str(i) for i in np.random.randint(10, size=11)])\n",
    "print('PHONE NUMBER:',ph)\n",
    "'+91 {} {}'.format(ph[0:5],ph[6:])"
   ]
  },
  {
   "cell_type": "markdown",
   "metadata": {},
   "source": [
    "### Write the data of a csv file into a text file"
   ]
  },
  {
   "cell_type": "code",
   "execution_count": 40,
   "metadata": {},
   "outputs": [
    {
     "name": "stdout",
     "output_type": "stream",
     "text": [
      "no, name, city\r\n",
      "1, Ma, tu\r\n",
      "2, Hs, mt\r\n"
     ]
    }
   ],
   "source": [
    "!cat /home/mana/Work/sample.csv"
   ]
  },
  {
   "cell_type": "code",
   "execution_count": 3,
   "metadata": {
    "slideshow": {
     "slide_type": "slide"
    }
   },
   "outputs": [],
   "source": [
    "from pathlib import Path\n",
    "\n",
    "p = Path('/home/mana/Work/sample.csv').read_text().replace(',','')\n",
    "print(p, file=open('/home/mana/Work/sample.txt','w'))"
   ]
  },
  {
   "cell_type": "code",
   "execution_count": 51,
   "metadata": {},
   "outputs": [
    {
     "name": "stdout",
     "output_type": "stream",
     "text": [
      "no name city\r\n",
      "1 Ma tu\r\n",
      "2 Hs mt\r\n",
      "\r\n"
     ]
    }
   ],
   "source": [
    "!cat /home/mana/Work/sample.txt"
   ]
  },
  {
   "cell_type": "markdown",
   "metadata": {},
   "source": [
    "### How to convert csv from text?"
   ]
  },
  {
   "cell_type": "code",
   "execution_count": 5,
   "metadata": {},
   "outputs": [
    {
     "name": "stdout",
     "output_type": "stream",
     "text": [
      "100,Chennai,Manavalan,Micheal\n"
     ]
    }
   ],
   "source": [
    "line = '100 Chennai Manavalan Micheal'\n",
    "print(*line.split(), sep =',')"
   ]
  },
  {
   "cell_type": "raw",
   "metadata": {},
   "source": [
    "If you want write csv file, use this code."
   ]
  },
  {
   "cell_type": "code",
   "execution_count": 35,
   "metadata": {},
   "outputs": [],
   "source": [
    "line = '100 Chennai Manavalan Micheal'\n",
    "print(*line.split(), sep =',', file=open('/home/mana/Work/add.csv','w'))"
   ]
  },
  {
   "cell_type": "code",
   "execution_count": 136,
   "metadata": {},
   "outputs": [
    {
     "name": "stdout",
     "output_type": "stream",
     "text": [
      "100,Chennai,Manavalan,Micheal\r\n"
     ]
    }
   ],
   "source": [
    "!cat /home/mana/Work/add.csv"
   ]
  },
  {
   "cell_type": "raw",
   "metadata": {},
   "source": [
    "- takes one integer from user an input (X)\n",
    "- calculates the reminder of X when it is divided by 9\n",
    "- if the reminder is greater than 1 then output x^2\n",
    "- if the reminder is smaller than or equal to 1 then output 2^x on monitor"
   ]
  },
  {
   "cell_type": "code",
   "execution_count": 52,
   "metadata": {},
   "outputs": [
    {
     "data": {
      "text/plain": [
       "{0: 0, 1: 1, 2: 2, 3: 3, 4: 4, 5: 5, 6: 6, 7: 7, 8: 8, 9: 0, 10: 1, 11: 2}"
      ]
     },
     "execution_count": 52,
     "metadata": {},
     "output_type": "execute_result"
    }
   ],
   "source": [
    "{i:i%9 for i in range(12)}\n"
   ]
  },
  {
   "cell_type": "code",
   "execution_count": 1,
   "metadata": {},
   "outputs": [
    {
     "name": "stdout",
     "output_type": "stream",
     "text": [
      "Insert:4\n"
     ]
    },
    {
     "data": {
      "text/plain": [
       "16"
      ]
     },
     "execution_count": 1,
     "metadata": {},
     "output_type": "execute_result"
    }
   ],
   "source": [
    "(lambda x: x%9 > 1 and x**2 or 2**x)(int(input('Insert:')))"
   ]
  },
  {
   "cell_type": "code",
   "execution_count": 2,
   "metadata": {},
   "outputs": [
    {
     "name": "stdout",
     "output_type": "stream",
     "text": [
      "Insert:9\n"
     ]
    },
    {
     "data": {
      "text/plain": [
       "512"
      ]
     },
     "execution_count": 2,
     "metadata": {},
     "output_type": "execute_result"
    }
   ],
   "source": [
    "(lambda x: x%9 > 1 and x**2 or 2**x)(int(input('Insert:')))"
   ]
  },
  {
   "cell_type": "code",
   "execution_count": 27,
   "metadata": {},
   "outputs": [
    {
     "name": "stdout",
     "output_type": "stream",
     "text": [
      "Insert:5\n",
      "25\n"
     ]
    }
   ],
   "source": [
    "integer = (int(input('Insert:')))\n",
    "if integer%9 > 1:\n",
    "    print(integer**2)\n",
    "else:\n",
    "    print(2**integer)\n",
    "    "
   ]
  },
  {
   "cell_type": "markdown",
   "metadata": {},
   "source": [
    "### What is remainder of 1 to 10. if diveded by 3\n",
    "This is one of kids program to improve their maths"
   ]
  },
  {
   "cell_type": "code",
   "execution_count": 37,
   "metadata": {},
   "outputs": [
    {
     "data": {
      "text/plain": [
       "{0: 0, 1: 1, 2: 2, 3: 0, 4: 1, 5: 2, 6: 0, 7: 1, 8: 2, 9: 0, 10: 1}"
      ]
     },
     "execution_count": 37,
     "metadata": {},
     "output_type": "execute_result"
    }
   ],
   "source": [
    "{i:i%3 for i in range(11)}"
   ]
  },
  {
   "cell_type": "raw",
   "metadata": {},
   "source": [
    "A new fighting game has become popular. There are N number of villains with each having some strength. \n",
    "There are N players in the game with each having some energy. The energy is used to kill the villains. \n",
    "The villain can be killed only if the energy of the player is greater than the strength of the villain. "
   ]
  },
  {
   "cell_type": "code",
   "execution_count": 135,
   "metadata": {},
   "outputs": [
    {
     "name": "stdout",
     "output_type": "stream",
     "text": [
      "Villan strength: 13\n",
      "Player strength: 6\n",
      "Villan strength: 12\n",
      "Player strength: 6\n",
      "Villan strength: 12\n",
      "Player strength: 7\n",
      "Villan strength: 15\n",
      "Player strength: 10\n",
      "Villan strength: 14\n",
      "Player strength: 10\n",
      "Villan strength: 14\n",
      "Player strength: 11\n",
      "WIN\n"
     ]
    }
   ],
   "source": [
    "villan = 10\n",
    "player = 6\n",
    "villan_strength = 3\n",
    "player_enegry = 2\n",
    "\n",
    "while player < villan : \n",
    "    if player > 3:\n",
    "        villan += villan_strength\n",
    "        print('Villan strength:',villan)\n",
    "        print('Player strength:',player)\n",
    "    villan -= 1\n",
    "    print('Villan strength:',villan)\n",
    "    print('Player strength:',player)\n",
    "    player += 1\n",
    "    print('Villan strength:',villan)\n",
    "    print('Player strength:',player)\n",
    "    player += villan_strength\n",
    "    if player == 11:\n",
    "        player += player_enegry**player_enegry\n",
    "        print('Villan strength:',villan)\n",
    "        print('Player strength:',player) \n",
    "else:\n",
    "    if player+1 == 15:\n",
    "        print('WIN')\n"
   ]
  },
  {
   "cell_type": "markdown",
   "metadata": {},
   "source": [
    "### How to search a paragraph if you know the first word of it? "
   ]
  },
  {
   "cell_type": "code",
   "execution_count": 138,
   "metadata": {},
   "outputs": [
    {
     "name": "stdout",
     "output_type": "stream",
     "text": [
      "Distributions include the Linux kernel and supporting system software and libraries, many of which are provided by the GNU Project. Many Linux distributions use the word \"Linux\" in their name, but the Free Software Foundation uses the name GNU/Linux to emphasize the importance of GNU software, causing some controversy.[15][16]\r\n",
      "\r\n",
      "Popular Linux distributions[17][18][19] include Debian, Fedora, and Ubuntu. Commercial distributions include Red Hat Enterprise Linux and SUSE Linux Enterprise Server. \r\n",
      "Desktop Linux distributions include a windowing system such as X11 or Wayland, and a desktop environment such as GNOME or KDE Plasma. \r\n",
      "Distributions intended for servers may omit graphics altogether, and include a solution stack such as LAMP. Because Linux is freely redistributable, anyone may create a distribution for any purpose.\r\n"
     ]
    }
   ],
   "source": [
    "!cat /home/mana/Work/para.txt"
   ]
  },
  {
   "cell_type": "code",
   "execution_count": 1,
   "metadata": {},
   "outputs": [
    {
     "name": "stdout",
     "output_type": "stream",
     "text": [
      "Enter Text: Desktop\n"
     ]
    },
    {
     "data": {
      "text/plain": [
       "['Desktop Linux distributions include a windowing system such as X11 or Wayland, and a desktop environment such as GNOME or KDE Plasma. ']"
      ]
     },
     "execution_count": 1,
     "metadata": {},
     "output_type": "execute_result"
    }
   ],
   "source": [
    "from pathlib import Path\n",
    "\n",
    "inp = input('Enter Text: ').swapcase()\n",
    "p = Path('/home/mana/Work/para.txt').read_text().splitlines()\n",
    "[i for i in p if i.swapcase().startswith(inp)]"
   ]
  },
  {
   "cell_type": "markdown",
   "metadata": {},
   "source": [
    "### How to fetch particular item in list in dictionary?"
   ]
  },
  {
   "cell_type": "code",
   "execution_count": 7,
   "metadata": {},
   "outputs": [
    {
     "name": "stdout",
     "output_type": "stream",
     "text": [
      "manavalan \n"
     ]
    }
   ],
   "source": [
    "lst =[{\"no\":2,\"name\":\"manavalan \",\"email\":\"xxxx@gmail.com\"}]\n",
    "for i in lst:\n",
    "    print(i['name'])"
   ]
  },
  {
   "cell_type": "markdown",
   "metadata": {},
   "source": [
    "### Which one largest number?"
   ]
  },
  {
   "cell_type": "code",
   "execution_count": 23,
   "metadata": {},
   "outputs": [
    {
     "data": {
      "text/plain": [
       "7"
      ]
     },
     "execution_count": 23,
     "metadata": {},
     "output_type": "execute_result"
    }
   ],
   "source": [
    "n1 = 4 \n",
    "n2 = 7\n",
    "n3 = 1\n",
    "max(n1,n2,n3)"
   ]
  },
  {
   "cell_type": "code",
   "execution_count": 1,
   "metadata": {},
   "outputs": [
    {
     "data": {
      "text/plain": [
       "[1, 3, 6, 9]"
      ]
     },
     "execution_count": 1,
     "metadata": {},
     "output_type": "execute_result"
    }
   ],
   "source": [
    "num = [6, 9, 3, 1]\n",
    "num.sort()\n",
    "num"
   ]
  },
  {
   "cell_type": "code",
   "execution_count": 3,
   "metadata": {},
   "outputs": [
    {
     "ename": "TypeError",
     "evalue": "'<' not supported between instances of 'str' and 'int'",
     "output_type": "error",
     "traceback": [
      "\u001b[0;31m---------------------------------------------------------------------------\u001b[0m",
      "\u001b[0;31mTypeError\u001b[0m                                 Traceback (most recent call last)",
      "\u001b[0;32m<ipython-input-3-56b021f7fe3c>\u001b[0m in \u001b[0;36m<module>\u001b[0;34m\u001b[0m\n\u001b[1;32m      1\u001b[0m \u001b[0mstr_num\u001b[0m \u001b[0;34m=\u001b[0m \u001b[0;34m[\u001b[0m\u001b[0;36m5\u001b[0m\u001b[0;34m,\u001b[0m \u001b[0;34m\"1\"\u001b[0m\u001b[0;34m,\u001b[0m \u001b[0;36m100\u001b[0m\u001b[0;34m,\u001b[0m \u001b[0;34m\"34\"\u001b[0m\u001b[0;34m]\u001b[0m\u001b[0;34m\u001b[0m\u001b[0;34m\u001b[0m\u001b[0m\n\u001b[0;32m----> 2\u001b[0;31m \u001b[0mstr_num\u001b[0m\u001b[0;34m.\u001b[0m\u001b[0msort\u001b[0m\u001b[0;34m(\u001b[0m\u001b[0;34m)\u001b[0m\u001b[0;34m\u001b[0m\u001b[0;34m\u001b[0m\u001b[0m\n\u001b[0m",
      "\u001b[0;31mTypeError\u001b[0m: '<' not supported between instances of 'str' and 'int'"
     ]
    }
   ],
   "source": [
    "str_num = [5, \"1\", 100, \"34\"]\n",
    "str_num.sort()"
   ]
  },
  {
   "cell_type": "markdown",
   "metadata": {},
   "source": [
    "### How to sorted mixed data type?\n",
    "Normally, if you sorted mixed data type, you will get error like this\n",
    "\n",
    "TypeError: '<' not supported between instances of 'str' and 'int'\n",
    "\n",
    "But this method you can sorted mixed data types."
   ]
  },
  {
   "cell_type": "code",
   "execution_count": 26,
   "metadata": {},
   "outputs": [
    {
     "data": {
      "text/plain": [
       "[2.3, 5, 100, '1', '34']"
      ]
     },
     "execution_count": 26,
     "metadata": {},
     "output_type": "execute_result"
    }
   ],
   "source": [
    "str_num = [5, \"1\", 100, 2.3, \"34\"]\n",
    "s1 = [i for i in str_num if isinstance(i,int) or isinstance(i,float)]\n",
    "s2 = [j for j in str_num if isinstance(j,str)]\n",
    "str_num = sorted(s1) + sorted(s2)\n",
    "str_num"
   ]
  },
  {
   "cell_type": "markdown",
   "metadata": {},
   "source": [
    "### How to merge two array?"
   ]
  },
  {
   "cell_type": "markdown",
   "metadata": {},
   "source": [
    "### How to craete order numbers one dimensional array?"
   ]
  },
  {
   "cell_type": "code",
   "execution_count": 28,
   "metadata": {},
   "outputs": [
    {
     "data": {
      "text/plain": [
       "[0, 1, 2, 3, 4, 5, 6, 7, 8]"
      ]
     },
     "execution_count": 28,
     "metadata": {},
     "output_type": "execute_result"
    }
   ],
   "source": [
    "array = [_ for _ in range(9)]\n",
    "array"
   ]
  },
  {
   "cell_type": "markdown",
   "metadata": {},
   "source": [
    "### How to craete sequences numbers one dimensional array using numpy?"
   ]
  },
  {
   "cell_type": "code",
   "execution_count": 30,
   "metadata": {},
   "outputs": [
    {
     "data": {
      "text/plain": [
       "array([0, 1, 2, 3, 4, 5, 6, 7, 8, 9])"
      ]
     },
     "execution_count": 30,
     "metadata": {},
     "output_type": "execute_result"
    }
   ],
   "source": [
    "import numpy as np\n",
    "\n",
    "a = np.arange(10)\n",
    "a"
   ]
  },
  {
   "cell_type": "markdown",
   "metadata": {},
   "source": [
    "### Convert int to str"
   ]
  },
  {
   "cell_type": "code",
   "execution_count": 5,
   "metadata": {},
   "outputs": [
    {
     "name": "stdout",
     "output_type": "stream",
     "text": [
      "1 6 11 16 21 26 31 36 41 46\n"
     ]
    }
   ],
   "source": [
    "print(*map(str,range(1,50,5)))"
   ]
  },
  {
   "cell_type": "markdown",
   "metadata": {},
   "source": [
    "### How to pass arguments to map  of list of list?"
   ]
  },
  {
   "cell_type": "code",
   "execution_count": 7,
   "metadata": {},
   "outputs": [
    {
     "data": {
      "text/plain": [
       "60758"
      ]
     },
     "execution_count": 7,
     "metadata": {},
     "output_type": "execute_result"
    }
   ],
   "source": [
    "list_of_lists = [[1,5534,123,67,8673,243] , [56,2,123,7,3],\n",
    "                 [546,24,5,7,86,45234,24 ]]\n",
    "sums = map(sum, list_of_lists)\n",
    "sum_of_sums = sum(sums)\n",
    "sum_of_sums"
   ]
  },
  {
   "cell_type": "markdown",
   "metadata": {},
   "source": [
    "### How to sum list of list?"
   ]
  },
  {
   "cell_type": "code",
   "execution_count": 9,
   "metadata": {},
   "outputs": [
    {
     "data": {
      "text/plain": [
       "60758"
      ]
     },
     "execution_count": 9,
     "metadata": {},
     "output_type": "execute_result"
    }
   ],
   "source": [
    "list_of_list = [[1,5534,123,67,8673,243] , [56,2,123,7,3],\n",
    "                 [546,24,5,7,86,45234,24 ]]\n",
    "sum([sum(i) for i in list_of_list])"
   ]
  },
  {
   "cell_type": "raw",
   "metadata": {},
   "source": [
    "Data\n",
    "Data1\n",
    "0\n",
    "Con1\n",
    "Reg1\n",
    "Attributes1\n",
    "Ex1\n",
    "1\n",
    "Con1\n",
    "Lang1\n",
    "Attributes\n",
    "Ex1\n",
    "\n",
    "In these type of file while I read the data from Con1 I should get both the columns Reg1 and Lang1. As Lang1 is not available in entity 0 then Null is okay. But in the final output I am unable to get Reg1 and Lang1 as separate columns. Please help me how can I achieve it as separate columns in the output file"
   ]
  },
  {
   "cell_type": "code",
   "execution_count": 23,
   "metadata": {},
   "outputs": [],
   "source": [
    "d1 = '0 Con1 Reg1'\n",
    "d2 = '1 Con1 Lang1'\n",
    "\n",
    "for i in d1,d2:\n",
    "    print(*i.split(), sep = ',', file = open('/home/mana/Work/avi.csv','a+'))"
   ]
  },
  {
   "cell_type": "code",
   "execution_count": 24,
   "metadata": {},
   "outputs": [
    {
     "name": "stdout",
     "output_type": "stream",
     "text": [
      "0,Con1,Reg1\r\n",
      "1,Con1,Lang1\r\n"
     ]
    }
   ],
   "source": [
    "!cat /home/mana/Work/avi.csv"
   ]
  },
  {
   "cell_type": "markdown",
   "metadata": {},
   "source": [
    "### How to access  each in element multidiemensional array?\n",
    "Generally, if we access each element multidiemensional array, we should use multiple loop to access \n",
    "\n",
    "each element.  \n",
    "\n",
    "if multidiemensional array is too large. it is not possible. But we can access each element \n",
    "\n",
    "using numpy. if multidiemensional array too large.\n"
   ]
  },
  {
   "cell_type": "code",
   "execution_count": 27,
   "metadata": {},
   "outputs": [
    {
     "data": {
      "text/plain": [
       "array([[ 0,  1,  2],\n",
       "       [ 3,  4,  5],\n",
       "       [ 6,  7,  8],\n",
       "       [ 9, 10, 11],\n",
       "       [12, 13, 14]])"
      ]
     },
     "execution_count": 27,
     "metadata": {},
     "output_type": "execute_result"
    }
   ],
   "source": [
    "import numpy as np\n",
    "\n",
    "arry = np.arange(15).reshape(5,3)\n",
    "arry"
   ]
  },
  {
   "cell_type": "code",
   "execution_count": 28,
   "metadata": {},
   "outputs": [
    {
     "name": "stdout",
     "output_type": "stream",
     "text": [
      "0\n",
      "1\n",
      "2\n",
      "3\n",
      "4\n",
      "5\n",
      "6\n",
      "7\n",
      "8\n",
      "9\n",
      "10\n",
      "11\n",
      "12\n",
      "13\n",
      "14\n"
     ]
    }
   ],
   "source": [
    "import numpy as np\n",
    "\n",
    "arry = np.arange(15).reshape(5,3)\n",
    "for i in range(np.size(arry,0)):\n",
    "    for j in arry[i]:\n",
    "        print(j)\n",
    "    "
   ]
  },
  {
   "cell_type": "markdown",
   "metadata": {},
   "source": [
    "### Unit converter: Miles and Kilometers"
   ]
  },
  {
   "cell_type": "code",
   "execution_count": 31,
   "metadata": {},
   "outputs": [
    {
     "name": "stdout",
     "output_type": "stream",
     "text": [
      "1. Kilometers to Miles\n",
      "2. Miles to Kilometers\n",
      "Which conversion would you like to do?: 1\n",
      "Enter distance in kilometers: 100\n",
      "Distance in miles: 62\n"
     ]
    }
   ],
   "source": [
    "'''\n",
    "Unit converter: Miles and Kilometers\n",
    "'''\n",
    "print('1. Kilometers to Miles')\n",
    "print('2. Miles to Kilometers')\n",
    "\n",
    "def km_miles():\n",
    "    km = float(input('Enter distance in kilometers: '))\n",
    "    miles = km / 1.609\n",
    "    print('Distance in miles: {0:.0f}'.format(miles))\n",
    "def miles_km():\n",
    "    miles = float(input('Enter distance in miles: '))\n",
    "    km = miles * 1.609\n",
    "    print('Distance in kilometers: {0:.f}'.format(km))\n",
    "\n",
    "if __name__ == '__main__':\n",
    "    choice = input('Which conversion would you like to do?: ') \n",
    "    \n",
    "if choice == '1':\n",
    "    km_miles()\n",
    "\n",
    "if choice == '2':\n",
    "    miles_km()"
   ]
  },
  {
   "cell_type": "markdown",
   "metadata": {},
   "source": [
    "### How to check condition as well store variable?"
   ]
  },
  {
   "cell_type": "code",
   "execution_count": 15,
   "metadata": {},
   "outputs": [
    {
     "name": "stdout",
     "output_type": "stream",
     "text": [
      "Please enter your city: Madurai\n",
      "Please enter your age: 23\n"
     ]
    },
    {
     "data": {
      "text/plain": [
       "True"
      ]
     },
     "execution_count": 15,
     "metadata": {},
     "output_type": "execute_result"
    }
   ],
   "source": [
    "city = input(\"Please enter your city: \")\n",
    "age = int(input(\"Please enter your age: \"))\n",
    "city1 = 'Chennai'\n",
    "city2 = 'Madurai'\n",
    "min_age = 21\n",
    "\n",
    "its_okay = city == city1 or city2 and age >= min_age\n",
    "its_okay"
   ]
  },
  {
   "cell_type": "markdown",
   "metadata": {},
   "source": [
    "### How to create xml tag from text?"
   ]
  },
  {
   "cell_type": "raw",
   "metadata": {},
   "source": [
    "input : address/name/fname \n",
    "output: <address><name><fname> </fname></name></address>"
   ]
  },
  {
   "cell_type": "code",
   "execution_count": 268,
   "metadata": {},
   "outputs": [
    {
     "name": "stdout",
     "output_type": "stream",
     "text": [
      "<address><name><fname> </fname></name></address>\n"
     ]
    }
   ],
   "source": [
    "inp = 'address/name/fname'\n",
    "\n",
    "for i in [inp.split('/')]:\n",
    "    print('<{0}><{1}><{2}> </{2}></{1}></{0}>'.format(i[0],i[1],i[2]))"
   ]
  },
  {
   "cell_type": "markdown",
   "metadata": {},
   "source": [
    "### How to generate random character?"
   ]
  },
  {
   "cell_type": "code",
   "execution_count": 2,
   "metadata": {},
   "outputs": [
    {
     "name": "stdout",
     "output_type": "stream",
     "text": [
      "BH4VH7R0KKLWUP3LOHQ2GQVL\n"
     ]
    }
   ],
   "source": [
    "import random\n",
    "\n",
    "l=[x for x in range(0,10)]\n",
    "f=[chr(y) for y in range(65,90)]\n",
    "c=l+f\n",
    "v = [random.choices(c,k=2) for t in range(12)]\n",
    "print(*sum(v,[]),sep='')"
   ]
  },
  {
   "cell_type": "markdown",
   "metadata": {},
   "source": [
    "### How to generate random alpha numeric character?"
   ]
  },
  {
   "cell_type": "code",
   "execution_count": 32,
   "metadata": {},
   "outputs": [
    {
     "name": "stdout",
     "output_type": "stream",
     "text": [
      "rfxltQB2GKW1\n"
     ]
    }
   ],
   "source": [
    "from string import ascii_uppercase,ascii_lowercase,digits\n",
    "\n",
    "print(*random.choices(ascii_uppercase+ascii_lowercase+digits,k=12), sep = '')\n"
   ]
  },
  {
   "cell_type": "markdown",
   "metadata": {},
   "source": [
    "### How to generate password?"
   ]
  },
  {
   "cell_type": "code",
   "execution_count": 43,
   "metadata": {},
   "outputs": [
    {
     "name": "stdout",
     "output_type": "stream",
     "text": [
      "1qIPZ&8e\n"
     ]
    }
   ],
   "source": [
    "from string import ascii_uppercase,ascii_lowercase,digits,punctuation\n",
    "\n",
    "print(*random.choices(ascii_uppercase+ascii_lowercase+digits+punctuation,k=8), sep = '')\n"
   ]
  },
  {
   "cell_type": "code",
   "execution_count": 46,
   "metadata": {},
   "outputs": [
    {
     "name": "stdout",
     "output_type": "stream",
     "text": [
      "S7LDI5SIR8W1\n"
     ]
    }
   ],
   "source": [
    "from string import ascii_uppercase,digits\n",
    "import random\n",
    "\n",
    "print(*random.choices(ascii_uppercase+digits,k=12), sep = '')\n"
   ]
  },
  {
   "cell_type": "markdown",
   "metadata": {},
   "source": [
    "### How to read a file line by line store it into an array?"
   ]
  },
  {
   "cell_type": "code",
   "execution_count": 50,
   "metadata": {},
   "outputs": [
    {
     "name": "stdout",
     "output_type": "stream",
     "text": [
      "one\r\n",
      "two\r\n",
      "three\r\n"
     ]
    }
   ],
   "source": [
    "!cat /home/mana/Work/fruits.txt"
   ]
  },
  {
   "cell_type": "code",
   "execution_count": 2,
   "metadata": {},
   "outputs": [
    {
     "data": {
      "text/plain": [
       "['one', 'two', 'three']"
      ]
     },
     "execution_count": 2,
     "metadata": {},
     "output_type": "execute_result"
    }
   ],
   "source": [
    "from pathlib import Path\n",
    "\n",
    "Path('/home/mana/Work/fruits.txt').read_text().splitlines()"
   ]
  },
  {
   "cell_type": "code",
   "execution_count": 67,
   "metadata": {},
   "outputs": [
    {
     "data": {
      "text/plain": [
       "['one\\n', 'two\\n', 'three\\n']"
      ]
     },
     "execution_count": 67,
     "metadata": {},
     "output_type": "execute_result"
    }
   ],
   "source": [
    "with open('/home/mana/Work/fruits.txt') as f:\n",
    "    r = f.readlines()\n",
    "    \n",
    "r"
   ]
  },
  {
   "cell_type": "markdown",
   "metadata": {},
   "source": [
    "### Generate password using string module"
   ]
  },
  {
   "cell_type": "code",
   "execution_count": 153,
   "metadata": {},
   "outputs": [
    {
     "name": "stdout",
     "output_type": "stream",
     "text": [
      "x+r-Q+rr\n"
     ]
    }
   ],
   "source": [
    "from string import ascii_letters,digits\n",
    "import random\n",
    "\n",
    "c = ascii_letters+digits+'#$%&\\()*+-@*?:'\n",
    "print(*random.choices(c,k=8), sep = '')"
   ]
  },
  {
   "cell_type": "markdown",
   "metadata": {},
   "source": [
    "### How to check two symbol repated occurance continously in text?"
   ]
  },
  {
   "cell_type": "code",
   "execution_count": 154,
   "metadata": {},
   "outputs": [
    {
     "data": {
      "text/plain": [
       "['J)bLO**4']"
      ]
     },
     "execution_count": 154,
     "metadata": {},
     "output_type": "execute_result"
    }
   ],
   "source": [
    "import re\n",
    "\n",
    "lst = ['J)bLO**4', 'HHH#6GoI', 'x+r-Q+rr']\n",
    "[i for i in lst if re.search(r'\\W\\W',i)]"
   ]
  },
  {
   "cell_type": "markdown",
   "metadata": {},
   "source": [
    "### How to generate secure password?"
   ]
  },
  {
   "cell_type": "code",
   "execution_count": 262,
   "metadata": {},
   "outputs": [
    {
     "name": "stdout",
     "output_type": "stream",
     "text": [
      "o?sI*pj9\n"
     ]
    }
   ],
   "source": [
    "from string import ascii_letters,digits\n",
    "from random import choices\n",
    "import re\n",
    "\n",
    "def gnerate_password():\n",
    "    global passwd\n",
    "    global match\n",
    "    c = ascii_letters+digits+'#$%&\\()*+-@*?:'\n",
    "    passwd = ''.join(choices(c,k=8))\n",
    "    rgx = ['\\W', '[a-z]', '[A-Z]', '\\d']\n",
    "    match = list(filter(lambda x: re.search(r''+x+'',passwd), rgx))\n",
    "\n",
    "gnerate_password() \n",
    "\n",
    "while True:\n",
    "    if len(match) == 4:\n",
    "        print(passwd)\n",
    "        break\n",
    "    else:\n",
    "        gnerate_password() \n"
   ]
  },
  {
   "cell_type": "markdown",
   "metadata": {},
   "source": [
    "### How much data download and upload since booting?"
   ]
  },
  {
   "cell_type": "code",
   "execution_count": 11,
   "metadata": {},
   "outputs": [
    {
     "name": "stdout",
     "output_type": "stream",
     "text": [
      "Netwok-card            Download            Upload\n",
      "**************************************************\n",
      "enxfcde56ff0106:        15.9M                5.9M\n",
      "ens32:                    0B                  0B\n"
     ]
    }
   ],
   "source": [
    "from pathlib import Path\n",
    "import bisect\n",
    "import re\n",
    "\n",
    "size = [1, 2**10, 2**20, 2**30] ## GiB\n",
    "unit = ['B', 'K', 'M', 'G']\n",
    "\n",
    "def con(byts):\n",
    "    if byts != 0:\n",
    "        index = bisect.bisect(size, byts) -1\n",
    "        return \"{:.1f}{}\".format(byts/size[index], unit[index])\n",
    "    else: \n",
    "        return '0B'\n",
    "    \n",
    "print('{} {:^30} {}'.format('Netwok-card','Download','Upload'))\n",
    "print('*'*50)\n",
    "p = Path('/proc/net/dev').read_text().splitlines()\n",
    "net = {i.split()[0]: [i.split()[1], i.split()[9]] for i in p\n",
    "       if re.search(r'eth|wlan|enx|ens',i)}\n",
    "\n",
    "for j in net:\n",
    "    down,up = net[j]\n",
    "    print('{:<15} {:>12} {:>19}'.format(j,con(int(down)), con(int(up))))\n"
   ]
  },
  {
   "cell_type": "code",
   "execution_count": 10,
   "metadata": {},
   "outputs": [
    {
     "name": "stdout",
     "output_type": "stream",
     "text": [
      " 20:16:15 up 1 day, 21:20,  1 user,  load average: 0.42, 0.45, 0.45\r\n"
     ]
    }
   ],
   "source": [
    "!uptime"
   ]
  },
  {
   "cell_type": "code",
   "execution_count": 8,
   "metadata": {},
   "outputs": [
    {
     "name": "stdout",
     "output_type": "stream",
     "text": [
      "Netwok-card            Download            Upload\n",
      "enxfcde56ff0106:       865.1K              703.8K\n",
      "ens32:                    0B                  0B\n"
     ]
    }
   ],
   "source": [
    "import bisect\n",
    "import re\n",
    "\n",
    "size = [1, 2**10, 2**20, 2**30] ## GiB\n",
    "unit = ['B', 'K', 'M', 'G']\n",
    "\n",
    "def con(byts):\n",
    "    if byts != 0:\n",
    "        index = bisect.bisect(size, byts) -1\n",
    "        return \"{:.1f}{}\".format(byts/size[index], unit[index])\n",
    "    else: \n",
    "        return '0B'\n",
    "\n",
    "print('{} {:^30} {}'.format('Netwok-card','Download','Upload'))\n",
    "with open('/proc/net/dev') as nop:\n",
    "    for i in nop.readlines():\n",
    "        if re.search(r'eth|wlan|enx|ens',i):\n",
    "            j = i.split()[0:10]            \n",
    "            print(\"{:<15} {:>12} {:>19}\".\n",
    "                  format(j[0],con(int(j[1])),con(int(j[-1]))))"
   ]
  },
  {
   "cell_type": "markdown",
   "metadata": {},
   "source": [
    "### How to manipulate  **kwargs?"
   ]
  },
  {
   "cell_type": "code",
   "execution_count": 397,
   "metadata": {},
   "outputs": [
    {
     "name": "stdout",
     "output_type": "stream",
     "text": [
      "key: Name\n",
      "Value: Manavalan\n",
      "key: city\n",
      "Value: Chennai\n"
     ]
    }
   ],
   "source": [
    "my_dict = {'Name': 'Manavalan', 'city': 'Chennai'}\n",
    "\n",
    "def fn(**kwargs):\n",
    "    for i in kwargs:\n",
    "        print('key:',i)\n",
    "        print('Value:',kwargs[i])\n",
    "    \n",
    "      \n",
    "fn(**my_dict)"
   ]
  },
  {
   "cell_type": "code",
   "execution_count": 398,
   "metadata": {},
   "outputs": [
    {
     "name": "stdout",
     "output_type": "stream",
     "text": [
      "key: Name\n",
      "Value: Manavalan\n",
      "key: city\n",
      "Value: Chennai\n"
     ]
    }
   ],
   "source": [
    "def fn(**kwargs):\n",
    "    for i in kwargs:\n",
    "        print('key:',i)\n",
    "        print('Value:',kwargs[i])\n",
    "    \n",
    "      \n",
    "fn(Name = 'Manavalan', city = 'Chennai')"
   ]
  },
  {
   "cell_type": "markdown",
   "metadata": {},
   "source": [
    "### How to collect system infromation using python?"
   ]
  },
  {
   "cell_type": "code",
   "execution_count": 1,
   "metadata": {},
   "outputs": [
    {
     "name": "stdout",
     "output_type": "stream",
     "text": [
      "OS: Ubuntu 18.04 bionic\n",
      "CPU \t: Intel(R) Core(TM)2 Duo CPU     E8400  @ 3.00GHz\n",
      "Memory Size: 4 GB\n",
      "Hard Disk: 120 GB\n"
     ]
    }
   ],
   "source": [
    "from pathlib import Path\n",
    "import platform\n",
    "\n",
    "print('OS:',*platform.dist())\n",
    "q = Path('/proc/cpuinfo').read_text().splitlines()\n",
    "cpu = [j for j in q if j.startswith('model name')]\n",
    "print('CPU',cpu[0].replace('model name',''))\n",
    "r = Path('/proc/meminfo').read_text().splitlines()\n",
    "mem = [k for k in r if k.startswith('MemTotal')]\n",
    "print('Memory Size:',round(int(mem[0].split()[1])/1024/1024), 'GB')\n",
    "s = Path('/sys/block/sda/size').read_text().splitlines()\n",
    "print('Hard Disk:',round(int(s[0])*512/1000/1000/1000), 'GB')"
   ]
  },
  {
   "cell_type": "markdown",
   "metadata": {},
   "source": [
    "### How to find Disk Model and Serial number?"
   ]
  },
  {
   "cell_type": "code",
   "execution_count": 14,
   "metadata": {},
   "outputs": [
    {
     "name": "stdout",
     "output_type": "stream",
     "text": [
      "ata-KINGSTON\n",
      "SA400S37120G\n"
     ]
    }
   ],
   "source": [
    "import os\n",
    "import re\n",
    "\n",
    "f = os.listdir('/dev/disk/by-id')\n",
    "disk = [i.split('_')[0:2] for i in f if i.startswith('ata')]\n",
    "model, model_nimber = disk[0]\n",
    "print(model, model_nimber, sep ='\\n')"
   ]
  },
  {
   "cell_type": "markdown",
   "metadata": {},
   "source": [
    "### List size of files"
   ]
  },
  {
   "cell_type": "code",
   "execution_count": 5,
   "metadata": {},
   "outputs": [
    {
     "name": "stdout",
     "output_type": "stream",
     "text": [
      "24.8M    Learning_Python_5th_Edition_Mark.pdf\n",
      "16.6M    Automate-the-boring-stuff-with-python-2015.pdf\n",
      "14.2M    The Python 3 Standard Library by Example.pdf\n",
      "7.8M     Python-Docs-Library.pdf\n",
      "5.4M     Python Crash Course.pdf\n",
      "5.3M     Python Notes For Professionals.pdf\n",
      "5.2M     Pro Python System Administration (2nd ed.) [Sileika 2014-11-27].pdf\n",
      "4.8M     How-to-code-in-python-Digital Ocean.pdf\n",
      "4.2M     Problem Solving with Algorithms and DataStructures.pdf\n",
      "3.7M     Starting Out with Python (2nd ed.) [Gaddis 2011-03-18].pdf\n",
      "3.4M     Python for Unix and Linux System Administration.pdf\n",
      "2.9M     Python3-Tutorial Point.pdf\n",
      "2.8M     Python standard library by example.pdf\n",
      "2.6M     Python Useful Modules.pdf\n",
      "2.4M     Python Essential Reference, Fourth Edition (2009)-Library.pdf\n",
      "2.3M     Programiz Python tutorial.pdf\n",
      "2.0M     Python System Programming Book.pdf\n",
      "996.8K   Parsing Tools and Libraries.pdf\n",
      "729.2K   Python 3 Quick Guide.pdf\n",
      "707.3K   pysheeet.pdf\n",
      "559.4K   Python-Docs-Tutorial.pdf\n",
      "480.7K   python-guide.pdf\n",
      "434.1K   Learn Python3 in 30 Minutes.pdf\n"
     ]
    }
   ],
   "source": [
    "import os\n",
    "from os.path import getsize as gts\n",
    "import bisect\n",
    "\n",
    "#size = [1, 1e+3, 1e+6, 1e+9]\n",
    "size = [1, 2**10, 2**20, 2**30]\n",
    "unit = ['B', 'K', 'M', 'G']\n",
    "path = '/home/mana/Study Python'\n",
    "files = [(i, gts(os.path.join(path,i))) \n",
    "         for i in os.listdir(path)]\n",
    "fsort = sorted(files, key = lambda x: x[1], reverse = True)\n",
    "\n",
    "def convert(byts):\n",
    "    if byts != 0:\n",
    "        index = bisect.bisect(size, byts) -1\n",
    "        return \"{:.1f}{}\".format(byts/size[index], unit[index])\n",
    "    else: \n",
    "        return '0B'\n",
    "\n",
    "for j,k in fsort :\n",
    "    print('{:8} {}'.format(convert(k),j))"
   ]
  },
  {
   "cell_type": "markdown",
   "metadata": {},
   "source": [
    "### uptime"
   ]
  },
  {
   "cell_type": "code",
   "execution_count": 9,
   "metadata": {},
   "outputs": [
    {
     "name": "stdout",
     "output_type": "stream",
     "text": [
      " 12:33:14 up 1 day,  3:51,  1 user,  load average: 0.52, 0.32, 0.15\n"
     ]
    }
   ],
   "source": [
    "%%bash\n",
    "\n",
    "uptime"
   ]
  },
  {
   "cell_type": "code",
   "execution_count": 7,
   "metadata": {},
   "outputs": [
    {
     "name": "stdout",
     "output_type": "stream",
     "text": [
      "1 day, 3:51\n"
     ]
    }
   ],
   "source": [
    "%%python3\n",
    "from pathlib import Path as Pa\n",
    "from datetime import timedelta\n",
    "\n",
    "u = Pa('/proc/uptime').read_text().split()[0]\n",
    "t = timedelta(seconds = float(u))\n",
    "print(str(t).rpartition(':')[0])\n"
   ]
  },
  {
   "cell_type": "markdown",
   "metadata": {},
   "source": [
    "### How to list all files?"
   ]
  },
  {
   "cell_type": "code",
   "execution_count": 13,
   "metadata": {},
   "outputs": [
    {
     "name": "stdout",
     "output_type": "stream",
     "text": [
      "add.csv\r\n",
      "avi.csv\r\n",
      "fruits.txt\r\n",
      "para.txt\r\n",
      "sample.csv\r\n",
      "sample.txt\r\n"
     ]
    }
   ],
   "source": [
    "!ls -1 /home/mana/Work"
   ]
  },
  {
   "cell_type": "code",
   "execution_count": 11,
   "metadata": {},
   "outputs": [
    {
     "name": "stdout",
     "output_type": "stream",
     "text": [
      "add.csv\n",
      "sample.txt\n",
      "sample.csv\n",
      "fruits.txt\n",
      "para.txt\n",
      "avi.csv\n"
     ]
    }
   ],
   "source": [
    "import os\n",
    "\n",
    "print(*os.listdir('/home/mana/Work'), sep ='\\n')"
   ]
  },
  {
   "cell_type": "markdown",
   "metadata": {},
   "source": [
    "### Disk Usage"
   ]
  },
  {
   "cell_type": "code",
   "execution_count": 14,
   "metadata": {},
   "outputs": [
    {
     "name": "stdout",
     "output_type": "stream",
     "text": [
      "Filesystem             Size      Used      Avail      Mounted-on\n",
      "****************************************************************\n",
      "/dev/sda1              110G       13G       96G       /                   \n"
     ]
    }
   ],
   "source": [
    "from pathlib import Path\n",
    "from os import statvfs as svfs\n",
    "import re\n",
    "import bisect\n",
    "\n",
    "#size = [1, 1e+3, 1e+6, 1e+9]      ## GB\n",
    "size = [1, 2**10, 2**20, 2**30]  ## GiB\n",
    "unit = ['B', 'K', 'M', 'G']\n",
    "mline = Path('/proc/mounts').read_text().splitlines()\n",
    "mdev = [lp.split()[:2] for lp in mline \n",
    "        if re.match(r'^/dev/sd[a-z][1-9]', lp)]\n",
    "clt = [(fsl,svfs(mpl)[0]*svfs(mpl)[2],svfs(mpl)[0]*svfs(mpl)[3],mpl)\n",
    "       for fsl, mpl in mdev]\n",
    "\n",
    "def con(byts):\n",
    "    index = bisect.bisect(size, byts)-1\n",
    "    return \"{:.0f}{}\".format(byts/size[index], unit[index])\n",
    "\n",
    "print('{:20} {:^9} {:^9} {:^9} {:>13}'.\n",
    "      format('Filesystem','Size','Used','Avail','Mounted-on'))\n",
    "print('*'*64)\n",
    "for fs in clt:\n",
    "     print('{:20} {:^9} {:^9} {:^9}    {:20}'.\n",
    "           format(fs[0],con(fs[1]),con(fs[1]-fs[2]),con(fs[2]),fs[3]))   \n"
   ]
  },
  {
   "cell_type": "markdown",
   "metadata": {},
   "source": [
    "### How to convert decimal to binary?"
   ]
  },
  {
   "cell_type": "code",
   "execution_count": 16,
   "metadata": {},
   "outputs": [
    {
     "name": "stdout",
     "output_type": "stream",
     "text": [
      "Enter Decimal Number:10\n",
      "1010\n"
     ]
    }
   ],
   "source": [
    "inp = int(input('Enter Decimal Number:'))\n",
    "print('{:b}'.format(inp))\n"
   ]
  },
  {
   "cell_type": "code",
   "execution_count": 42,
   "metadata": {},
   "outputs": [
    {
     "name": "stdout",
     "output_type": "stream",
     "text": [
      "              total        used        free      shared  buff/cache   available\r\n",
      "Mem:           3.9G        1.1G        1.5G        432M        1.3G        2.0G\r\n",
      "Swap:          2.0G          0B        2.0G\r\n"
     ]
    }
   ],
   "source": [
    "!free -h"
   ]
  },
  {
   "cell_type": "code",
   "execution_count": 41,
   "metadata": {},
   "outputs": [
    {
     "name": "stdout",
     "output_type": "stream",
     "text": [
      "Total-Mem       Mem-Used           Mem-Free\n",
      "    4G             2G                 2G        \n"
     ]
    }
   ],
   "source": [
    "from pathlib import Path\n",
    "import bisect\n",
    "\n",
    "#size = [1, 1e+3, 1e+6]\n",
    "size = [1, 2**10, 2**20, 2**30] ## GiB\n",
    "unit = ['K', 'M', 'G']\n",
    "\n",
    "memt, memf = Path('/proc/meminfo').read_text().splitlines()[0:3:2]\n",
    "mt,mf = int(memt.split()[1]), int(memf.split()[1])\n",
    "mu = mt - mf\n",
    "\n",
    "def convert(kb):\n",
    "    index = bisect.bisect(size, kb) -1\n",
    "    return \"{:.0f}{}\".format(kb/size[index],unit[index])\n",
    "\n",
    "print('{:15} {:18} {}'.format('Total-Mem', 'Mem-Used', 'Mem-Free'))\n",
    "print('{:^10} {:^18} {:^18}'.format(convert(mt), convert(mu), convert(mf)))\n"
   ]
  },
  {
   "cell_type": "markdown",
   "metadata": {},
   "source": [
    "### How to make substitute ?"
   ]
  },
  {
   "cell_type": "code",
   "execution_count": 2,
   "metadata": {},
   "outputs": [
    {
     "name": "stdout",
     "output_type": "stream",
     "text": [
      "apple\r\n",
      "mango\r\n",
      "\r\n"
     ]
    }
   ],
   "source": [
    "!cat /home/mana/Work/sample.txt"
   ]
  },
  {
   "cell_type": "code",
   "execution_count": 3,
   "metadata": {},
   "outputs": [
    {
     "name": "stdout",
     "output_type": "stream",
     "text": [
      "anotherapple\n",
      "mango\n",
      "\n"
     ]
    }
   ],
   "source": [
    "%%bash\n",
    "\n",
    "sed -i 's/apple/anotherapple/g' /home/mana/Work/sample.txt"
   ]
  },
  {
   "cell_type": "code",
   "execution_count": 10,
   "metadata": {},
   "outputs": [
    {
     "name": "stdout",
     "output_type": "stream",
     "text": [
      "['anotherapple', 'mango']\n"
     ]
    }
   ],
   "source": [
    "%%python3\n",
    "\n",
    "from pathlib import Path\n",
    "from re import sub\n",
    "\n",
    "p = Path('/home/mana/Work/sample.txt').read_text().split()\n",
    "resub = [sub(r'apple','anotherapple',i) for i in p]\n",
    "print(resub)"
   ]
  },
  {
   "cell_type": "markdown",
   "metadata": {},
   "source": [
    "### Check server health"
   ]
  },
  {
   "cell_type": "code",
   "execution_count": 2,
   "metadata": {},
   "outputs": [
    {
     "name": "stdout",
     "output_type": "stream",
     "text": [
      "Server running smooth.\n"
     ]
    }
   ],
   "source": [
    "import os\n",
    "\n",
    "if os.getloadavg()[0] > os.cpu_count():\n",
    "    print('Server going critical stage.')\n",
    "else:\n",
    "    print('Server running smooth.')\n"
   ]
  },
  {
   "cell_type": "markdown",
   "metadata": {},
   "source": [
    "### How to count that how many dot charcater used in text string?"
   ]
  },
  {
   "cell_type": "code",
   "execution_count": 21,
   "metadata": {},
   "outputs": [
    {
     "data": {
      "text/plain": [
       "5"
      ]
     },
     "execution_count": 21,
     "metadata": {},
     "output_type": "execute_result"
    }
   ],
   "source": [
    "import re\n",
    "\n",
    "text = 'Hello.....?'\n",
    "dot = [i for i in text if re.match('\\.',i) ]\n",
    "len(dot)"
   ]
  },
  {
   "cell_type": "markdown",
   "metadata": {},
   "source": [
    "### How to find that how days before file modified?"
   ]
  },
  {
   "cell_type": "code",
   "execution_count": 31,
   "metadata": {},
   "outputs": [
    {
     "name": "stdout",
     "output_type": "stream",
     "text": [
      "-rw-rw-r-- 1 mana mana 30 May  4 20:45 /home/mana/Work/add.csv\r\n"
     ]
    }
   ],
   "source": [
    "!ls -l /home/mana/Work/add.csv"
   ]
  },
  {
   "cell_type": "code",
   "execution_count": 30,
   "metadata": {},
   "outputs": [
    {
     "name": "stdout",
     "output_type": "stream",
     "text": [
      "add.csv --> 13 days before.\n"
     ]
    }
   ],
   "source": [
    "from datetime import date\n",
    "from pathlib import Path\n",
    "\n",
    "p = Path('/home/mana/Work/add.csv')\n",
    "f = [(p,date.today()- date.fromtimestamp(p.stat()[-2]))]\n",
    "\n",
    "for x,y in f:\n",
    "    print('{} --> {} days before.'.format(x.name,y.days))"
   ]
  },
  {
   "cell_type": "markdown",
   "metadata": {},
   "source": [
    "### Count line start \"warning\" word in a file."
   ]
  },
  {
   "cell_type": "code",
   "execution_count": 42,
   "metadata": {},
   "outputs": [
    {
     "name": "stdout",
     "output_type": "stream",
     "text": [
      "WARNING: systemd-networkd is not running, output will be incomplete.\r\n",
      "May 17 00:42:03 joe mate-session[971]: WARNING: Unable to find provider.\r\n",
      "May 17 00:42:15 joe kernel: [   23.494527] random: 7 urandom warning(s) .\r\n",
      "WARNING Failed to open.\r\n"
     ]
    }
   ],
   "source": [
    "!cat /home/mana/Work/warn.txt"
   ]
  },
  {
   "cell_type": "code",
   "execution_count": 46,
   "metadata": {},
   "outputs": [
    {
     "data": {
      "text/plain": [
       "2"
      ]
     },
     "execution_count": 46,
     "metadata": {},
     "output_type": "execute_result"
    }
   ],
   "source": [
    "from pathlib import Path\n",
    "\n",
    "p = Path('/home/mana/Work/warn.txt').read_text().splitlines()\n",
    "len([i for i in p if i.casefold().startswith('warning') ])"
   ]
  },
  {
   "cell_type": "markdown",
   "metadata": {},
   "source": [
    "### How to print file contents in Upper case?"
   ]
  },
  {
   "cell_type": "code",
   "execution_count": 39,
   "metadata": {},
   "outputs": [
    {
     "name": "stdout",
     "output_type": "stream",
     "text": [
      "WARNING: systemd-networkd is not running, output will be incomplete.\r\n",
      "May 17 00:42:03 joe mate-session[971]: WARNING: Unable to find provider.\r\n",
      "May 17 00:42:15 joe kernel: [   23.494527] random: 7 urandom warning(s) .\r\n",
      "WARNING Failed to open.\r\n"
     ]
    }
   ],
   "source": [
    "!cat /home/mana/Work/warn.txt"
   ]
  },
  {
   "cell_type": "code",
   "execution_count": 41,
   "metadata": {},
   "outputs": [
    {
     "name": "stdout",
     "output_type": "stream",
     "text": [
      "WARNING: SYSTEMD-NETWORKD IS NOT RUNNING, OUTPUT WILL BE INCOMPLETE.\n",
      "MAY 17 00:42:03 JOE MATE-SESSION[971]: WARNING: UNABLE TO FIND PROVIDER.\n",
      "MAY 17 00:42:15 JOE KERNEL: [   23.494527] RANDOM: 7 URANDOM WARNING(S) .\n",
      "WARNING FAILED TO OPEN.\n"
     ]
    }
   ],
   "source": [
    "from pathlib import Path\n",
    "\n",
    "p = Path('/home/mana/Work/warn.txt').read_text().splitlines()\n",
    "cont = [i.upper() for i in p]\n",
    "print(*cont, sep = '\\n')"
   ]
  },
  {
   "cell_type": "markdown",
   "metadata": {},
   "source": [
    "### How to write Bash script in Jupyter Editor?"
   ]
  },
  {
   "cell_type": "markdown",
   "metadata": {},
   "source": [
    "##### How to find set of website up or down?"
   ]
  },
  {
   "cell_type": "code",
   "execution_count": 44,
   "metadata": {},
   "outputs": [
    {
     "name": "stdout",
     "output_type": "stream",
     "text": [
      "google.com\r\n",
      "facebook.com\r\n",
      "twitter.com\r\n",
      "tamilrockers.ca\r\n"
     ]
    }
   ],
   "source": [
    "!cat /home/mana/Work/host.txt"
   ]
  },
  {
   "cell_type": "code",
   "execution_count": 46,
   "metadata": {},
   "outputs": [
    {
     "name": "stdout",
     "output_type": "stream",
     "text": [
      "google.com-->host Up\n",
      "facebook.com-->host Up\n",
      "twitter.com-->host Up\n",
      "tamilrockers.ca-->host down\n"
     ]
    }
   ],
   "source": [
    "%%bash\n",
    "\n",
    "while read name\n",
    "do \n",
    "echo -n \"$name-->\"\n",
    "(curl -Is $name | grep -i \"location\" &> /dev/null) && echo \"host Up\" \\\n",
    "|| echo \"host down\" \n",
    "done < /home/mana/Work/host.txt\n",
    "\n"
   ]
  },
  {
   "cell_type": "markdown",
   "metadata": {},
   "source": [
    "### How to print index?"
   ]
  },
  {
   "cell_type": "markdown",
   "metadata": {},
   "source": [
    "### Forward Index"
   ]
  },
  {
   "cell_type": "code",
   "execution_count": 40,
   "metadata": {},
   "outputs": [
    {
     "name": "stdout",
     "output_type": "stream",
     "text": [
      "P | y | t | h | o | n | \n",
      "\n",
      "0 | 1 | 2 | 3 | 4 | 5 | "
     ]
    }
   ],
   "source": [
    "st = 'Python'\n",
    "for x in (st):\n",
    "    print(x, end = ' | ')\n",
    "print('\\n')\n",
    "for y,z in enumerate(st):\n",
    "    print(y, end = ' | ')"
   ]
  },
  {
   "cell_type": "markdown",
   "metadata": {},
   "source": [
    "### Reverse Index"
   ]
  },
  {
   "cell_type": "code",
   "execution_count": 44,
   "metadata": {},
   "outputs": [
    {
     "name": "stdout",
     "output_type": "stream",
     "text": [
      "P  | y  | t  | h  | o  | n  | \n",
      "\n",
      "-6 | -5 | -4 | -3 | -2 | -1 | "
     ]
    }
   ],
   "source": [
    "st = 'Python'\n",
    "for x in (st):\n",
    "    print(x, end = '  | ')\n",
    "print('\\n')\n",
    "for y,z in enumerate(st,-len(st)):\n",
    "    print(y, end = ' | ')"
   ]
  },
  {
   "cell_type": "markdown",
   "metadata": {},
   "source": [
    "### How to generate 5 random numbers?"
   ]
  },
  {
   "cell_type": "code",
   "execution_count": 60,
   "metadata": {},
   "outputs": [
    {
     "name": "stdout",
     "output_type": "stream",
     "text": [
      "51633451\n",
      "00978208\n",
      "48340586\n",
      "25191478\n",
      "40092165\n"
     ]
    }
   ],
   "source": [
    "from random import choices \n",
    "from string import digits\n",
    "\n",
    "print(*[''.join(choices(digits, k=8)) for _ in range(5)], sep = '\\n')"
   ]
  },
  {
   "cell_type": "markdown",
   "metadata": {},
   "source": [
    "### How to Know if You’re Using SSD Drive or HDD Drive?"
   ]
  },
  {
   "cell_type": "code",
   "execution_count": 109,
   "metadata": {},
   "outputs": [
    {
     "name": "stdout",
     "output_type": "stream",
     "text": [
      "0\r\n"
     ]
    }
   ],
   "source": [
    "!cat /sys/block/sda/queue/rotational"
   ]
  },
  {
   "cell_type": "code",
   "execution_count": 116,
   "metadata": {},
   "outputs": [
    {
     "name": "stdout",
     "output_type": "stream",
     "text": [
      "You are using SSD Drive.\n"
     ]
    }
   ],
   "source": [
    "%%bash\n",
    "\n",
    "rot=$(< /sys/block/sda/queue/rotational)\n",
    "if ((1 == $rot))\n",
    "then\n",
    "echo \"You are using HDD Drive.\"\n",
    "else\n",
    "echo \"You are using SSD Drive.\"\n",
    "fi"
   ]
  },
  {
   "cell_type": "code",
   "execution_count": 139,
   "metadata": {},
   "outputs": [
    {
     "name": "stdout",
     "output_type": "stream",
     "text": [
      "You are using SSD Drive.\n"
     ]
    }
   ],
   "source": [
    "%%python3\n",
    "\n",
    "from pathlib import Path\n",
    "\n",
    "rot = int(Path('/sys/block/sda/queue/rotational').read_text())\n",
    "if 1 == rot:\n",
    "    print(\"You are using HDD Drive.\")\n",
    "else:\n",
    "    print(\"You are using SSD Drive.\")"
   ]
  },
  {
   "cell_type": "markdown",
   "metadata": {},
   "source": [
    "### Why didn't use windows notepad to write python program?\n",
    "Actually python interrupter taken as apostrophes when you double use quotes."
   ]
  },
  {
   "cell_type": "code",
   "execution_count": 140,
   "metadata": {},
   "outputs": [
    {
     "ename": "SyntaxError",
     "evalue": "invalid character in identifier (<ipython-input-140-28f786e34189>, line 1)",
     "output_type": "error",
     "traceback": [
      "\u001b[0;36m  File \u001b[0;32m\"<ipython-input-140-28f786e34189>\"\u001b[0;36m, line \u001b[0;32m1\u001b[0m\n\u001b[0;31m    print(“hello”)\u001b[0m\n\u001b[0m                ^\u001b[0m\n\u001b[0;31mSyntaxError\u001b[0m\u001b[0;31m:\u001b[0m invalid character in identifier\n"
     ]
    }
   ],
   "source": [
    "print(“hello”)"
   ]
  },
  {
   "cell_type": "code",
   "execution_count": 147,
   "metadata": {},
   "outputs": [
    {
     "data": {
      "text/plain": [
       "'0x201c'"
      ]
     },
     "execution_count": 147,
     "metadata": {},
     "output_type": "execute_result"
    }
   ],
   "source": [
    "hex(ord('“'))"
   ]
  },
  {
   "cell_type": "code",
   "execution_count": 142,
   "metadata": {},
   "outputs": [
    {
     "data": {
      "text/plain": [
       "'0x201d'"
      ]
     },
     "execution_count": 142,
     "metadata": {},
     "output_type": "execute_result"
    }
   ],
   "source": [
    "hex(ord('”'))"
   ]
  },
  {
   "cell_type": "code",
   "execution_count": 144,
   "metadata": {},
   "outputs": [
    {
     "data": {
      "text/plain": [
       "'0x22'"
      ]
     },
     "execution_count": 144,
     "metadata": {},
     "output_type": "execute_result"
    }
   ],
   "source": [
    "hex(ord('\"'))"
   ]
  },
  {
   "cell_type": "code",
   "execution_count": 145,
   "metadata": {},
   "outputs": [
    {
     "name": "stdout",
     "output_type": "stream",
     "text": [
      "Hello\n"
     ]
    }
   ],
   "source": [
    "print(\"Hello\")"
   ]
  },
  {
   "cell_type": "markdown",
   "metadata": {},
   "source": [
    "### How to check which string match this regex pattern \"\\s+=\""
   ]
  },
  {
   "cell_type": "code",
   "execution_count": 176,
   "metadata": {},
   "outputs": [
    {
     "data": {
      "text/plain": [
       "['Xavier Rex =  Manavalan']"
      ]
     },
     "execution_count": 176,
     "metadata": {},
     "output_type": "execute_result"
    }
   ],
   "source": [
    "import re\n",
    "\n",
    "comp = re.compile(r'\\s+=')\n",
    "lst = ['Manavalan', 'Manavalan Micheal','Xavier Rex =  Manavalan']\n",
    "[i for i in lst if comp.search(i)]"
   ]
  },
  {
   "cell_type": "markdown",
   "metadata": {},
   "source": [
    "### How fetch date columns in \"ls -l\" command output?"
   ]
  },
  {
   "cell_type": "code",
   "execution_count": 235,
   "metadata": {},
   "outputs": [
    {
     "name": "stdout",
     "output_type": "stream",
     "text": [
      "  \n",
      "May 19 02:51\n",
      "May 4 18:02\n",
      "May 5 20:41\n",
      "May 16 09:51\n",
      "May 17 03:45\n",
      "May 2 20:48\n",
      "May 17 03:45\n",
      "May 17 03:45\n",
      "May 8 17:24\n"
     ]
    }
   ],
   "source": [
    "%%bash\n",
    "\n",
    "awk '{print $6,$7,$8}' <(ls -l)"
   ]
  },
  {
   "cell_type": "code",
   "execution_count": 237,
   "metadata": {},
   "outputs": [
    {
     "name": "stdout",
     "output_type": "stream",
     "text": [
      "May 19 02:51\n",
      "May 4 18:02\n",
      "May 5 20:41\n",
      "May 16 09:51\n",
      "May 17 03:45\n",
      "May 2 20:48\n",
      "May 17 03:45\n",
      "May 17 03:45\n",
      "May 8 17:24\n"
     ]
    }
   ],
   "source": [
    "%%python3\n",
    "\n",
    "from subprocess import check_output\n",
    "st = \"ls -l\".split()\n",
    "d = (i.split()[-4:-1] for i in  check_output(st).decode().splitlines()[1:])\n",
    "for x in d:\n",
    "    print(*x)"
   ]
  },
  {
   "cell_type": "markdown",
   "metadata": {},
   "source": [
    "### How to search file recursively?"
   ]
  },
  {
   "cell_type": "code",
   "execution_count": 1,
   "metadata": {},
   "outputs": [
    {
     "name": "stdout",
     "output_type": "stream",
     "text": [
      "Enter File Name: syslog\n",
      "/var/log/syslog\n",
      "/var/log/installer/syslog\n"
     ]
    }
   ],
   "source": [
    "from pathlib import Path as Pa\n",
    "\n",
    "f = Pa(input('Enter File Name: '))\n",
    "d = Pa('/var')\n",
    "\n",
    "for i in d.rglob('*'):\n",
    "    if i.name.lower() == f.name.lower():\n",
    "        if i.is_file():\n",
    "            print(i)"
   ]
  },
  {
   "cell_type": "markdown",
   "metadata": {},
   "source": [
    "### Get User Name"
   ]
  },
  {
   "cell_type": "code",
   "execution_count": 6,
   "metadata": {},
   "outputs": [
    {
     "name": "stdout",
     "output_type": "stream",
     "text": [
      "mana\n"
     ]
    }
   ],
   "source": [
    "import getpass\n",
    "\n",
    "print(getpass.getuser())\n"
   ]
  },
  {
   "cell_type": "markdown",
   "metadata": {},
   "source": [
    "### How to compare words?"
   ]
  },
  {
   "cell_type": "code",
   "execution_count": 10,
   "metadata": {},
   "outputs": [
    {
     "name": "stdout",
     "output_type": "stream",
     "text": [
      "These characters {'m', 'c', 'v'} has been changed in city2.\n"
     ]
    }
   ],
   "source": [
    "city1 = \"Chennai\"\n",
    "city2 = \"chennvami\"\n",
    "v = set(city2) - set(city1)\n",
    "print('These characters',v, 'has been changed in city2.')\n"
   ]
  },
  {
   "cell_type": "raw",
   "metadata": {},
   "source": [
    "This is program wirrten for kids.\n",
    "\n",
    "I have 3 different color balls in Box. \n",
    "one ball is red.\n",
    "another one ball is blue.\n",
    "another one ball is green.\n",
    "\n",
    "How to select green ball?"
   ]
  },
  {
   "cell_type": "code",
   "execution_count": 18,
   "metadata": {},
   "outputs": [
    {
     "name": "stdout",
     "output_type": "stream",
     "text": [
      "Green ball\n"
     ]
    }
   ],
   "source": [
    "box = ['Red ball', 'Green ball', 'Blue ball']\n",
    "\n",
    "for ball in box:\n",
    "    if ball == 'Green ball':\n",
    "        print(ball)"
   ]
  },
  {
   "cell_type": "code",
   "execution_count": 20,
   "metadata": {},
   "outputs": [
    {
     "data": {
      "text/plain": [
       "['Green ball']"
      ]
     },
     "execution_count": 20,
     "metadata": {},
     "output_type": "execute_result"
    }
   ],
   "source": [
    "box = ['Red ball', 'Green ball', 'Blue ball']\n",
    "\n",
    "[ball for ball in box if ball == 'Green ball']"
   ]
  },
  {
   "cell_type": "markdown",
   "metadata": {},
   "source": [
    "### How to print 5 and 10 series numbers?"
   ]
  },
  {
   "cell_type": "code",
   "execution_count": 6,
   "metadata": {},
   "outputs": [
    {
     "name": "stdout",
     "output_type": "stream",
     "text": [
      "type your number: 100\n",
      "0 5 10 15 20 25 30 35 40 45 50 55 60 65 70 75 80 85 90 95 100\n"
     ]
    }
   ],
   "source": [
    "x = int(input('type your number: ' ))\n",
    "print(*(num for num in range(x+1) if num%5==0))"
   ]
  },
  {
   "cell_type": "code",
   "execution_count": 6,
   "metadata": {},
   "outputs": [
    {
     "data": {
      "text/plain": [
       "'1.000000e+27'"
      ]
     },
     "execution_count": 6,
     "metadata": {},
     "output_type": "execute_result"
    }
   ],
   "source": [
    "'{:e}'.format(1000000000000000000000000000)"
   ]
  },
  {
   "cell_type": "code",
   "execution_count": 7,
   "metadata": {},
   "outputs": [
    {
     "data": {
      "text/plain": [
       "5e+27"
      ]
     },
     "execution_count": 7,
     "metadata": {},
     "output_type": "execute_result"
    }
   ],
   "source": [
    "1.000000e+27*5"
   ]
  },
  {
   "cell_type": "markdown",
   "metadata": {},
   "source": [
    "### How to find last reboot using python?\n",
    "\n",
    "Here i use very very simple logic. Substract current time to uptime."
   ]
  },
  {
   "cell_type": "code",
   "execution_count": 8,
   "metadata": {},
   "outputs": [
    {
     "name": "stdout",
     "output_type": "stream",
     "text": [
      "Tue May 21 18:05:49 2019\n"
     ]
    }
   ],
   "source": [
    "from datetime import datetime,timedelta\n",
    "from pathlib import Path\n",
    "\n",
    "u = Path('/proc/uptime').read_text().split()[0]\n",
    "boot = datetime.now() - timedelta(seconds = float(u))\n",
    "print(boot.strftime('%c'))"
   ]
  },
  {
   "cell_type": "markdown",
   "metadata": {},
   "source": [
    "### How to captlize all string in list?"
   ]
  },
  {
   "cell_type": "code",
   "execution_count": 1,
   "metadata": {},
   "outputs": [
    {
     "data": {
      "text/plain": [
       "['Montag', 'Dienstag', 'Mittwoch', 'Donnerstag']"
      ]
     },
     "execution_count": 1,
     "metadata": {},
     "output_type": "execute_result"
    }
   ],
   "source": [
    "t=[\"montag\",\"dienstag\",\"mittwoch\",\"donnerstag\"]\n",
    "[i.title() for i in t]"
   ]
  },
  {
   "cell_type": "code",
   "execution_count": 6,
   "metadata": {},
   "outputs": [
    {
     "data": {
      "text/plain": [
       "['Montag', 'Dienstag', 'Mittwoch', 'Donnerstag']"
      ]
     },
     "execution_count": 6,
     "metadata": {},
     "output_type": "execute_result"
    }
   ],
   "source": [
    "t=[\"montag\",\"dienstag\",\"mittwoch\",\"donnerstag\"]\n",
    "[i.capitalize() for i in t]"
   ]
  },
  {
   "cell_type": "code",
   "execution_count": 3,
   "metadata": {},
   "outputs": [
    {
     "data": {
      "text/plain": [
       "['Montag', 'Dienstag', 'Mittwoch', 'Donnerstag']"
      ]
     },
     "execution_count": 3,
     "metadata": {},
     "output_type": "execute_result"
    }
   ],
   "source": [
    "t=[\"montag\",\"dienstag\",\"mittwoch\",\"donnerstag\"]\n",
    "new = []\n",
    "for i in t:\n",
    "    new += [i.title()]\n",
    "\n",
    "new"
   ]
  },
  {
   "cell_type": "markdown",
   "metadata": {},
   "source": [
    "### How to create bulk files?"
   ]
  },
  {
   "cell_type": "code",
   "execution_count": 8,
   "metadata": {},
   "outputs": [],
   "source": [
    "from pathlib import Path\n",
    "\n",
    "p = '/home/mana/Work/'\n",
    "for i in range(1,6):\n",
    "    Path(p+'test'+str(i)+'.txt').touch()\n"
   ]
  },
  {
   "cell_type": "code",
   "execution_count": 10,
   "metadata": {},
   "outputs": [
    {
     "name": "stdout",
     "output_type": "stream",
     "text": [
      "/home/mana/Work/test1.txt\r\n",
      "/home/mana/Work/test2.txt\r\n",
      "/home/mana/Work/test3.txt\r\n",
      "/home/mana/Work/test4.txt\r\n",
      "/home/mana/Work/test5.txt\r\n"
     ]
    }
   ],
   "source": [
    "!ls -1 /home/mana/Work/tes*"
   ]
  },
  {
   "cell_type": "markdown",
   "metadata": {},
   "source": [
    "### How to print time without date?"
   ]
  },
  {
   "cell_type": "code",
   "execution_count": 17,
   "metadata": {},
   "outputs": [
    {
     "name": "stdout",
     "output_type": "stream",
     "text": [
      "20:08:04\n"
     ]
    }
   ],
   "source": [
    "%%bash\n",
    "\n",
    "date +'%T'"
   ]
  },
  {
   "cell_type": "code",
   "execution_count": 18,
   "metadata": {},
   "outputs": [
    {
     "name": "stdout",
     "output_type": "stream",
     "text": [
      "20:08:11\n"
     ]
    }
   ],
   "source": [
    "%%python3\n",
    "\n",
    "from datetime import datetime\n",
    "\n",
    "print(datetime.now().strftime(\"%T\"))"
   ]
  },
  {
   "cell_type": "markdown",
   "metadata": {},
   "source": [
    "### Font rendering"
   ]
  },
  {
   "cell_type": "code",
   "execution_count": 1,
   "metadata": {},
   "outputs": [
    {
     "name": "stdout",
     "output_type": "stream",
     "text": [
      "க + ே → கே\n"
     ]
    }
   ],
   "source": [
    "%%bash\n",
    "\n",
    "echo \"க + ே → கே\""
   ]
  },
  {
   "cell_type": "markdown",
   "metadata": {},
   "source": [
    "### How to Create table format?"
   ]
  },
  {
   "cell_type": "code",
   "execution_count": 10,
   "metadata": {},
   "outputs": [
    {
     "name": "stdout",
     "output_type": "stream",
     "text": [
      "   1    2    3\n",
      "   4    5    6\n",
      "   7    8    9\n"
     ]
    }
   ],
   "source": [
    "lst = [1, 2, 3, 4, 5, 6, 7, 8, 9]\n",
    "\n",
    "for i,j,k in zip(*[iter(lst)] *3):\n",
    "    print('{:4} {:4} {:4}'.format(i, j, k))"
   ]
  },
  {
   "cell_type": "markdown",
   "metadata": {},
   "source": [
    "### How to list files in table format?"
   ]
  },
  {
   "cell_type": "code",
   "execution_count": 14,
   "metadata": {},
   "outputs": [
    {
     "name": "stdout",
     "output_type": "stream",
     "text": [
      "add.csv      avi.csv           fruits.txt\n",
      "hello.py     host.txt          para.txt\n",
      "Physical     sample.csv        sample.txt\n",
      "sayhello.py  server_health.sh  Swap\n",
      "test1.txt    test2.txt         test3.txt\n",
      "test4.txt    test5.txt         warn.txt\n"
     ]
    }
   ],
   "source": [
    "%%bash\n",
    "\n",
    "ls -1 /home/mana/Work | xargs -n3 | column -t"
   ]
  },
  {
   "cell_type": "code",
   "execution_count": 34,
   "metadata": {},
   "outputs": [
    {
     "name": "stdout",
     "output_type": "stream",
     "text": [
      "hello.py       warn.txt       add.csv\n",
      "test3.txt      sample.txt     host.txt\n",
      "test1.txt      sample.csv     server_health.sh\n",
      "sayhello.py    fruits.txt     para.txt\n",
      "test4.txt      Swap           avi.csv\n",
      "Physical       test2.txt      test5.txt\n"
     ]
    }
   ],
   "source": [
    "%%python3\n",
    "\n",
    "import os\n",
    "\n",
    "for i,j,k in zip(*[iter(os.listdir('/home/mana/Work'))] *3):\n",
    "    print('{:14} {:14} {:4}'.format(i, j, k))"
   ]
  },
  {
   "cell_type": "markdown",
   "metadata": {},
   "source": [
    "### How to use else statement in try...except block?"
   ]
  },
  {
   "cell_type": "code",
   "execution_count": 39,
   "metadata": {},
   "outputs": [
    {
     "name": "stdout",
     "output_type": "stream",
     "text": [
      "Please enter any string value\n",
      "enter the side of a square:Manavalan\n",
      "The Value is: Manavalan\n"
     ]
    }
   ],
   "source": [
    "try:\n",
    "    print(\"Please enter any string value\")\n",
    "    \n",
    "except:\n",
    "    pass\n",
    "else:\n",
    "    sidesq=input(\"enter the side of a square:\")\n",
    "    print(\"The Value is:\",sidesq)"
   ]
  },
  {
   "cell_type": "markdown",
   "metadata": {},
   "source": [
    "### How to list module methods using __dict__ magic method?"
   ]
  },
  {
   "cell_type": "code",
   "execution_count": 13,
   "metadata": {},
   "outputs": [
    {
     "data": {
      "text/plain": [
       "{'__name__': 'pwd',\n",
       " '__doc__': \"This module provides access to the Unix password database.\\nIt is available on all Unix versions.\\n\\nPassword database entries are reported as 7-tuples containing the following\\nitems from the password database (see `<pwd.h>'), in order:\\npw_name, pw_passwd, pw_uid, pw_gid, pw_gecos, pw_dir, pw_shell.\\nThe uid and gid items are integers, all others are strings. An\\nexception is raised if the entry asked for cannot be found.\",\n",
       " '__package__': '',\n",
       " '__loader__': _frozen_importlib.BuiltinImporter,\n",
       " '__spec__': ModuleSpec(name='pwd', loader=<class '_frozen_importlib.BuiltinImporter'>, origin='built-in'),\n",
       " 'getpwuid': <function pwd.getpwuid(uidobj, /)>,\n",
       " 'getpwnam': <function pwd.getpwnam(arg, /)>,\n",
       " 'getpwall': <function pwd.getpwall()>,\n",
       " 'struct_passwd': pwd.struct_passwd}"
      ]
     },
     "execution_count": 13,
     "metadata": {},
     "output_type": "execute_result"
    }
   ],
   "source": [
    "import pwd\n",
    "\n",
    "\n",
    "pwd.__dict__"
   ]
  },
  {
   "cell_type": "code",
   "execution_count": 12,
   "metadata": {},
   "outputs": [
    {
     "name": "stdout",
     "output_type": "stream",
     "text": [
      "These are Variables of pwdmodule:\n",
      "*************************************\n",
      "\n",
      "These are Classes and Methods of pwdmodule:\n",
      "***********************************************\n",
      "getpwall\n",
      "getpwnam\n",
      "getpwuid\n",
      "struct_passwd\n"
     ]
    }
   ],
   "source": [
    "import pwd\n",
    "\n",
    "d = [i for i in dir(pwd) \n",
    "     if not i.startswith('_')]\n",
    "print('These are Variables of pwdmodule:')\n",
    "print('*'*37)\n",
    "for x in d:\n",
    "    if not callable(getattr(pwd, x)):\n",
    "        print(x)\n",
    "else:\n",
    "    print()\n",
    "\n",
    "print('These are Classes and Methods of pwdmodule:')\n",
    "print('*'*47)\n",
    "for x in d:\n",
    "    if callable(getattr(pwd, x)):\n",
    "        print(x)\n"
   ]
  },
  {
   "cell_type": "markdown",
   "metadata": {},
   "source": [
    "### Calculate Directory and Subdirectory size"
   ]
  },
  {
   "cell_type": "code",
   "execution_count": 19,
   "metadata": {},
   "outputs": [
    {
     "name": "stdout",
     "output_type": "stream",
     "text": [
      "26M\t/home/mana/Work/my-zone\n",
      "41M\t/home/mana/Work\n"
     ]
    }
   ],
   "source": [
    "%%bash\n",
    "du -h /home/mana/Work"
   ]
  },
  {
   "cell_type": "code",
   "execution_count": 27,
   "metadata": {},
   "outputs": [
    {
     "name": "stdout",
     "output_type": "stream",
     "text": [
      "26M       Work/my-zone\n",
      "42M       mana/Work\n"
     ]
    }
   ],
   "source": [
    "%%python3\n",
    "from pathlib import Path\n",
    "from os.path import getsize as gts\n",
    "import bisect\n",
    "\n",
    "size = [1, 1e+3, 1e+6, 1e+9]\n",
    "unit = ['B', 'K', 'M', 'G']\n",
    "file_dict = {}\n",
    "path = Path('/home/mana/Work')\n",
    "clt_files = [fr for fr in path.rglob('*')]\n",
    "for rf in clt_files:\n",
    "    if not rf.is_dir():\n",
    "        file_dict[rf.parent] = file_dict.get(rf.parent, 0)+gts(str(rf))\n",
    "def convert(byts):\n",
    "    byts = int(byts)\n",
    "    index = bisect.bisect(size, byts)-1\n",
    "    return \"{:.0f}{}\".format(byts//size[index], unit[index])\n",
    "##Subdirectory Size\n",
    "for dname, fsize in file_dict.items():\n",
    "    if fsize != 0 and str(path) != str(dname):\n",
    "        print('{:10}{}'.format(convert(fsize),str(dname.parents[0].name+'/'+dname.name)))\n",
    "##Directory Size\n",
    "dsize = sum(file_dict.values())\n",
    "for dname, fsize in file_dict.items():\n",
    "    if fsize != 0 and str(path) == str(dname):\n",
    "        print('{:10}{}'.format(convert(dsize),str(dname.parents[0].name+'/'+dname.name)))\n"
   ]
  },
  {
   "cell_type": "markdown",
   "metadata": {},
   "source": [
    "### How to draw this pattern \"0 1 0 1 0 1 0 1 0\"?"
   ]
  },
  {
   "cell_type": "code",
   "execution_count": 10,
   "metadata": {},
   "outputs": [
    {
     "name": "stdout",
     "output_type": "stream",
     "text": [
      "0 1 0 1 0 1 0 1 0 "
     ]
    }
   ],
   "source": [
    "%%bash\n",
    "\n",
    "for i in {2..10}\n",
    "do\n",
    "echo -en \"$(($i%2)) \"\n",
    "done"
   ]
  },
  {
   "cell_type": "code",
   "execution_count": 4,
   "metadata": {},
   "outputs": [
    {
     "name": "stdout",
     "output_type": "stream",
     "text": [
      "0 1 0 1 0 1 0 1 0\n"
     ]
    }
   ],
   "source": [
    "%%python3\n",
    "\n",
    "print(*[i%2 for i in range(2,11)])"
   ]
  },
  {
   "cell_type": "markdown",
   "metadata": {},
   "source": [
    "### How to craete multi dimensional array?"
   ]
  },
  {
   "cell_type": "code",
   "execution_count": 5,
   "metadata": {},
   "outputs": [
    {
     "data": {
      "text/plain": [
       "[[4, 3, 9, 5, 8], [8, 9, 5, 0, 8], [4, 4, 2, 8, 3]]"
      ]
     },
     "execution_count": 5,
     "metadata": {},
     "output_type": "execute_result"
    }
   ],
   "source": [
    "from random import choices\n",
    "\n",
    "r = [*range(10)]\n",
    "muarry = [choices(r,k=5) for i in range(3)]\n",
    "muarry"
   ]
  },
  {
   "cell_type": "code",
   "execution_count": 6,
   "metadata": {},
   "outputs": [
    {
     "data": {
      "text/plain": [
       "array([[ 0,  1,  2,  3,  4],\n",
       "       [ 5,  6,  7,  8,  9],\n",
       "       [10, 11, 12, 13, 14]])"
      ]
     },
     "execution_count": 6,
     "metadata": {},
     "output_type": "execute_result"
    }
   ],
   "source": [
    "import numpy as np\n",
    "\n",
    "np.arange(15).reshape(3,5)"
   ]
  },
  {
   "cell_type": "markdown",
   "metadata": {},
   "source": [
    "### How to find which one latest kernel in server?"
   ]
  },
  {
   "cell_type": "code",
   "execution_count": 15,
   "metadata": {},
   "outputs": [
    {
     "name": "stdout",
     "output_type": "stream",
     "text": [
      "/boot/vmlinuz-4.15.0-48-generic\r\n",
      "/boot/vmlinuz-4.15.0-50-generic\r\n"
     ]
    }
   ],
   "source": [
    "!ls -1 /boot/vm*"
   ]
  },
  {
   "cell_type": "code",
   "execution_count": 28,
   "metadata": {},
   "outputs": [
    {
     "name": "stdout",
     "output_type": "stream",
     "text": [
      "/boot/vmlinuz-4.15.0-50-generic\n"
     ]
    }
   ],
   "source": [
    "from pathlib import Path as P\n",
    "\n",
    "print(max(P('/boot').glob('vm*')))"
   ]
  },
  {
   "cell_type": "markdown",
   "metadata": {},
   "source": [
    "### How to fetch kernel version number?"
   ]
  },
  {
   "cell_type": "code",
   "execution_count": 11,
   "metadata": {},
   "outputs": [
    {
     "name": "stdout",
     "output_type": "stream",
     "text": [
      "/boot/vmlinuz-4.15.0-48-generic\r\n",
      "/boot/vmlinuz-4.15.0-50-generic\r\n"
     ]
    }
   ],
   "source": [
    "!ls -1 /boot/vm*"
   ]
  },
  {
   "cell_type": "code",
   "execution_count": 8,
   "metadata": {},
   "outputs": [
    {
     "name": "stdout",
     "output_type": "stream",
     "text": [
      "4.15.0-48-generic\n",
      "4.15.0-50-generic\n"
     ]
    }
   ],
   "source": [
    "%%bash\n",
    "\n",
    "ls -1 /boot/vm* | grep -Po \"\\d.{1,}\""
   ]
  },
  {
   "cell_type": "code",
   "execution_count": 15,
   "metadata": {},
   "outputs": [
    {
     "name": "stdout",
     "output_type": "stream",
     "text": [
      "4.15.0-50-generic\n",
      "4.15.0-48-generic\n"
     ]
    }
   ],
   "source": [
    "%%python3\n",
    "\n",
    "from pathlib import Path as P\n",
    "import re\n",
    "\n",
    "kernel = P('/boot').glob('vm*')\n",
    "print(*[re.search(r'\\d.{1,}',str(i)).group() for i in kernel],sep='\\n')"
   ]
  },
  {
   "cell_type": "code",
   "execution_count": 43,
   "metadata": {},
   "outputs": [
    {
     "data": {
      "text/plain": [
       "'4.15.0-50-generic'"
      ]
     },
     "execution_count": 43,
     "metadata": {},
     "output_type": "execute_result"
    }
   ],
   "source": [
    "# Method:1\n",
    "import re\n",
    "\n",
    "kernel = 'vmlinuz-4.15.0-50-generic'\n",
    "re.search(r'\\d.{1,}',kernel).group()"
   ]
  },
  {
   "cell_type": "code",
   "execution_count": 40,
   "metadata": {},
   "outputs": [
    {
     "data": {
      "text/plain": [
       "'4.15.0-50-generic'"
      ]
     },
     "execution_count": 40,
     "metadata": {},
     "output_type": "execute_result"
    }
   ],
   "source": [
    "#Method:2\n",
    "kernel = 'vmlinuz-4.15.0-50-generic'\n",
    "kernel.strip('vmvmlinuz-!')"
   ]
  },
  {
   "cell_type": "code",
   "execution_count": 16,
   "metadata": {},
   "outputs": [
    {
     "data": {
      "text/plain": [
       "'4.15.0-50'"
      ]
     },
     "execution_count": 16,
     "metadata": {},
     "output_type": "execute_result"
    }
   ],
   "source": [
    "kernel = 'vmlinuz-4.15.0-50-generic'\n",
    "kernel.strip('vmvmlinuz-!').strip('-generic!')"
   ]
  },
  {
   "cell_type": "code",
   "execution_count": 17,
   "metadata": {},
   "outputs": [
    {
     "name": "stdout",
     "output_type": "stream",
     "text": [
      "b is greater than a\n"
     ]
    }
   ],
   "source": [
    "a = 23\n",
    "b = 32\n",
    "\n",
    "if a > b:\n",
    "    print('a is greater than b')\n",
    "else:\n",
    "    print('b is greater than a')"
   ]
  },
  {
   "cell_type": "code",
   "execution_count": 18,
   "metadata": {},
   "outputs": [
    {
     "data": {
      "text/plain": [
       "['Dialect',\n",
       " 'DictReader',\n",
       " 'DictWriter',\n",
       " 'Error',\n",
       " 'OrderedDict',\n",
       " 'QUOTE_ALL',\n",
       " 'QUOTE_MINIMAL',\n",
       " 'QUOTE_NONE',\n",
       " 'QUOTE_NONNUMERIC',\n",
       " 'Sniffer',\n",
       " 'StringIO',\n",
       " '_Dialect',\n",
       " '__all__',\n",
       " '__builtins__',\n",
       " '__cached__',\n",
       " '__doc__',\n",
       " '__file__',\n",
       " '__loader__',\n",
       " '__name__',\n",
       " '__package__',\n",
       " '__spec__',\n",
       " '__version__',\n",
       " 'excel',\n",
       " 'excel_tab',\n",
       " 'field_size_limit',\n",
       " 'get_dialect',\n",
       " 'list_dialects',\n",
       " 're',\n",
       " 'reader',\n",
       " 'register_dialect',\n",
       " 'unix_dialect',\n",
       " 'unregister_dialect',\n",
       " 'writer']"
      ]
     },
     "execution_count": 18,
     "metadata": {},
     "output_type": "execute_result"
    }
   ],
   "source": [
    "import csv\n",
    "\n",
    "dir(csv)"
   ]
  },
  {
   "cell_type": "markdown",
   "metadata": {},
   "source": [
    "### How to import csv file and manipulate using pathlib module?"
   ]
  },
  {
   "cell_type": "code",
   "execution_count": 36,
   "metadata": {},
   "outputs": [
    {
     "data": {
      "text/plain": [
       "[['0', 'Con1', 'Reg1'], ['1', 'Con1', 'Lang1']]"
      ]
     },
     "execution_count": 36,
     "metadata": {},
     "output_type": "execute_result"
    }
   ],
   "source": [
    "from pathlib import Path\n",
    "import csv\n",
    "\n",
    "p = Path('/home/mana/Work/avi.csv').read_text().splitlines()\n",
    "[i for i in csv.reader(p)]"
   ]
  },
  {
   "cell_type": "code",
   "execution_count": 37,
   "metadata": {},
   "outputs": [
    {
     "data": {
      "text/plain": [
       "[['1', 'Con1', 'Lang1']]"
      ]
     },
     "execution_count": 37,
     "metadata": {},
     "output_type": "execute_result"
    }
   ],
   "source": [
    "from pathlib import Path\n",
    "import csv\n",
    "\n",
    "p = Path('/home/mana/Work/avi.csv').read_text().splitlines()\n",
    "[i for i in csv.reader(p) if '1' in i]"
   ]
  },
  {
   "cell_type": "code",
   "execution_count": 38,
   "metadata": {},
   "outputs": [
    {
     "data": {
      "text/plain": [
       "['Lang1']"
      ]
     },
     "execution_count": 38,
     "metadata": {},
     "output_type": "execute_result"
    }
   ],
   "source": [
    "from pathlib import Path\n",
    "import csv\n",
    "\n",
    "p = Path('/home/mana/Work/avi.csv').read_text().splitlines()\n",
    "[i[2] for i in csv.reader(p) if '1' in i]"
   ]
  },
  {
   "cell_type": "code",
   "execution_count": 35,
   "metadata": {},
   "outputs": [
    {
     "name": "stdout",
     "output_type": "stream",
     "text": [
      "['1', 'Con1', 'Lang1']\n"
     ]
    }
   ],
   "source": [
    "from pathlib import Path\n",
    "import csv\n",
    "\n",
    "p = Path('/home/mana/Work/avi.csv').read_text().splitlines()\n",
    "for i in csv.reader(p):\n",
    "    if '1' in i:\n",
    "        print(i)"
   ]
  },
  {
   "cell_type": "markdown",
   "metadata": {},
   "source": [
    "### Python 3.6.7 dictionary preserve order"
   ]
  },
  {
   "cell_type": "code",
   "execution_count": 68,
   "metadata": {},
   "outputs": [
    {
     "data": {
      "text/plain": [
       "'3.6.7 (default, Oct 22 2018, 11:32:17) \\n[GCC 8.2.0]'"
      ]
     },
     "execution_count": 68,
     "metadata": {},
     "output_type": "execute_result"
    }
   ],
   "source": [
    "import sys\n",
    "sys.version"
   ]
  },
  {
   "cell_type": "code",
   "execution_count": 54,
   "metadata": {},
   "outputs": [
    {
     "data": {
      "text/plain": [
       "{65: 'A', 66: 'B', 67: 'C', 68: 'D', 69: 'E', 70: 'F'}"
      ]
     },
     "execution_count": 54,
     "metadata": {},
     "output_type": "execute_result"
    }
   ],
   "source": [
    "num = {x:chr(x) for x in range(65,71)}"
   ]
  },
  {
   "cell_type": "code",
   "execution_count": 57,
   "metadata": {},
   "outputs": [
    {
     "data": {
      "text/plain": [
       "[65, 66, 67, 68, 69, 70]"
      ]
     },
     "execution_count": 57,
     "metadata": {},
     "output_type": "execute_result"
    }
   ],
   "source": [
    "num = {x:chr(x) for x in range(65,71)}\n",
    "[i for i in num] "
   ]
  },
  {
   "cell_type": "code",
   "execution_count": 62,
   "metadata": {},
   "outputs": [
    {
     "name": "stdout",
     "output_type": "stream",
     "text": [
      "(65, 'A') (66, 'B') (67, 'C') (68, 'D') (69, 'E') (70, 'F')\n"
     ]
    }
   ],
   "source": [
    "num = {x:chr(x) for x in range(65,71)}\n",
    "print(*num.items())"
   ]
  },
  {
   "cell_type": "code",
   "execution_count": 67,
   "metadata": {},
   "outputs": [
    {
     "data": {
      "text/plain": [
       "{'A': 65, 'B': 66, 'C': 67, 'D': 68, 'E': 69, 'F': 70}"
      ]
     },
     "execution_count": 67,
     "metadata": {},
     "output_type": "execute_result"
    }
   ],
   "source": [
    "{chr(x):x for x in range(65,71)}"
   ]
  },
  {
   "cell_type": "code",
   "execution_count": 59,
   "metadata": {},
   "outputs": [
    {
     "data": {
      "text/plain": [
       "['A', 'B', 'C', 'D', 'E', 'F']"
      ]
     },
     "execution_count": 59,
     "metadata": {},
     "output_type": "execute_result"
    }
   ],
   "source": [
    "alpha = {chr(x):x for x in range(65,71)}\n",
    "[i for i in alpha] "
   ]
  },
  {
   "cell_type": "code",
   "execution_count": 65,
   "metadata": {},
   "outputs": [
    {
     "name": "stdout",
     "output_type": "stream",
     "text": [
      "A B C D E F\n"
     ]
    }
   ],
   "source": [
    "alpha = {chr(x):x for x in range(65,71)}\n",
    "print(*alpha)"
   ]
  },
  {
   "cell_type": "markdown",
   "metadata": {},
   "source": [
    "### How to list methods of module using Linux command?"
   ]
  },
  {
   "cell_type": "code",
   "execution_count": 73,
   "metadata": {},
   "outputs": [
    {
     "name": "stdout",
     "output_type": "stream",
     "text": [
      "class Random(_random.Random)\n",
      "     seed(self, a=None, version=2)\n",
      "     getstate(self)\n",
      "     setstate(self, state)\n",
      "     randrange(self, start, stop=None, step=1, _int=int)\n",
      "     randint(self, a, b)\n",
      "     choice(self, seq)\n",
      "     shuffle(self, x, random=None)\n",
      "     sample(self, population, k)\n",
      "     choices(self, population, weights=None, *, cum_weights=None, k=1)\n",
      "     uniform(self, a, b)\n",
      "     triangular(self, low=0.0, high=1.0, mode=None)\n",
      "     normalvariate(self, mu, sigma)\n",
      "     lognormvariate(self, mu, sigma)\n",
      "     expovariate(self, lambd)\n",
      "     vonmisesvariate(self, mu, kappa)\n",
      "     gammavariate(self, alpha, beta)\n",
      "     gauss(self, mu, sigma)\n",
      "     betavariate(self, alpha, beta)\n",
      "     paretovariate(self, alpha)\n",
      "     weibullvariate(self, alpha, beta)\n",
      "class SystemRandom(Random)\n",
      "     random(self)\n",
      "     getrandbits(self, k)\n",
      "     seed(self, *args, **kwds)\n"
     ]
    }
   ],
   "source": [
    "%%bash\n",
    "\n",
    "grep -rP \"^def [a-zA-Z].*|class.*:$|^\\s{1,}def [a-zA-Z].*\" \\\n",
    "/usr/lib/python3.6/random.py | sed -r 's/def|://g'"
   ]
  },
  {
   "cell_type": "markdown",
   "metadata": {},
   "source": [
    "### How to list methods of module using python module source file?"
   ]
  },
  {
   "cell_type": "code",
   "execution_count": 110,
   "metadata": {},
   "outputs": [
    {
     "name": "stdout",
     "output_type": "stream",
     "text": [
      "class Random(_random.Random)\n",
      "     seed(self, a=None, version=2)\n",
      "     getstate(self)\n",
      "     setstate(self, state)\n",
      "     randrange(self, start, stop=None, step=1, _int=int)\n",
      "     randint(self, a, b)\n",
      "     choice(self, seq)\n",
      "     shuffle(self, x, random=None)\n",
      "     sample(self, population, k)\n",
      "     choices(self, population, weights=None, *, cum_weights=None, k=1)\n",
      "     uniform(self, a, b)\n",
      "     triangular(self, low=0.0, high=1.0, mode=None)\n",
      "     normalvariate(self, mu, sigma)\n",
      "     lognormvariate(self, mu, sigma)\n",
      "     expovariate(self, lambd)\n",
      "     vonmisesvariate(self, mu, kappa)\n",
      "     gammavariate(self, alpha, beta)\n",
      "     gauss(self, mu, sigma)\n",
      "     betavariate(self, alpha, beta)\n",
      "     paretovariate(self, alpha)\n",
      "     weibullvariate(self, alpha, beta)\n",
      "class SystemRandom(Random)\n",
      "     random(self)\n",
      "     getrandbits(self, k)\n",
      "     seed(self, *args, **kwds)\n"
     ]
    }
   ],
   "source": [
    "from pathlib import Path\n",
    "import random\n",
    "import re\n",
    "\n",
    "m = random\n",
    "r = str(m).rsplit('from')[-1]\n",
    "f = re.sub(r\">|\\'| \",\"\",r)\n",
    "p= Path(f).read_text().splitlines()\n",
    "fn = [i for i in p \n",
    " if re.search(r\"^def [a-zA-Z].*|class.*:$|^\\s{1,}def [a-zA-Z].*\",i)]\n",
    "for x in fn:\n",
    "    print(re.sub(r'def|:','',x))\n",
    "    "
   ]
  },
  {
   "cell_type": "markdown",
   "metadata": {},
   "source": [
    "### How to use modulo(remainder) operator in Bash and Python?"
   ]
  },
  {
   "cell_type": "code",
   "execution_count": 1,
   "metadata": {},
   "outputs": [
    {
     "name": "stdout",
     "output_type": "stream",
     "text": [
      "2\n"
     ]
    }
   ],
   "source": [
    "%%bash\n",
    "\n",
    "echo $((8%3))"
   ]
  },
  {
   "cell_type": "code",
   "execution_count": 15,
   "metadata": {},
   "outputs": [
    {
     "name": "stdout",
     "output_type": "stream",
     "text": [
      "2\n"
     ]
    }
   ],
   "source": [
    "%%bash\n",
    "\n",
    "awk 'BEGIN {print 8%3}'"
   ]
  },
  {
   "cell_type": "code",
   "execution_count": 4,
   "metadata": {},
   "outputs": [
    {
     "name": "stdout",
     "output_type": "stream",
     "text": [
      "2\n"
     ]
    }
   ],
   "source": [
    "%%python3\n",
    "\n",
    "print(8%3)"
   ]
  },
  {
   "cell_type": "markdown",
   "metadata": {},
   "source": [
    "### Linux Error Table"
   ]
  },
  {
   "cell_type": "code",
   "execution_count": 16,
   "metadata": {},
   "outputs": [
    {
     "name": "stdout",
     "output_type": "stream",
     "text": [
      "0 WITH Linux-syscall-note \n",
      "1. Operation not permitted \n",
      "2. No such file or directory \n",
      "3. No such process \n",
      "4. Interrupted system call \n",
      "5. I/O error \n",
      "6. No such device or address \n",
      "7. Argument list too long \n",
      "8. Exec format error \n",
      "9. Bad file number \n",
      "10. No child processes \n",
      "11. Try again \n",
      "12. Out of memory \n",
      "13. Permission denied \n",
      "14. Bad address \n",
      "15. Block device required \n",
      "16. Device or resource busy \n",
      "17. File exists \n",
      "18. Cross-device link \n",
      "19. No such device \n",
      "20. Not a directory \n",
      "21. Is a directory \n",
      "22. Invalid argument \n",
      "23. File table overflow \n",
      "24. Too many open files \n",
      "25. Not a typewriter \n",
      "26. Text file busy \n",
      "27. File too large \n",
      "28. No space left on device \n",
      "29. Illegal seek \n",
      "30. Read-only file system \n",
      "31. Too many links \n",
      "32. Broken pipe \n",
      "33. Math argument out of domain of func \n",
      "34. Math result not representable \n",
      "0 WITH Linux-syscall-note \n",
      "35. Resource deadlock would occur \n",
      "36. File name too long \n",
      "37. No record locks available \n",
      "38. Invalid system call number \n",
      "39. Directory not empty \n",
      "40. Too many symbolic links encountered \n",
      "42. No message of desired type \n",
      "43. Identifier removed \n",
      "44. Channel number out of range \n",
      "45. Level 2 not synchronized \n",
      "46. Level 3 halted \n",
      "47. Level 3 reset \n",
      "48. Link number out of range \n",
      "49. Protocol driver not attached \n",
      "50. No CSI structure available \n",
      "51. Level 2 halted \n",
      "52. Invalid exchange \n",
      "53. Invalid request descriptor \n",
      "54. Exchange full \n",
      "55. No anode \n",
      "56. Invalid request code \n",
      "57. Invalid slot \n",
      "59. Bad font file format \n",
      "60. Device not a stream \n",
      "61. No data available \n",
      "62. Timer expired \n",
      "63. Out of streams resources \n",
      "64. Machine is not on the network \n",
      "65. Package not installed \n",
      "66. Object is remote \n",
      "67. Link has been severed \n",
      "68. Advertise error \n",
      "69. Srmount error \n",
      "70. Communication error on send \n",
      "71. Protocol error \n",
      "72. Multihop attempted \n",
      "73. RFS specific error \n",
      "74. Not a data message \n",
      "75. Value too large for defined data type \n",
      "76. Name not unique on network \n",
      "77. File descriptor in bad state \n",
      "78. Remote address changed \n",
      "79. Can not access a needed shared library \n",
      "80. Accessing a corrupted shared library \n",
      "81. .lib section in a.out corrupted \n",
      "82. Attempting to link in too many shared libraries \n",
      "83. Cannot exec a shared library directly \n",
      "84. Illegal byte sequence \n",
      "85. Interrupted system call should be restarted \n",
      "86. Streams pipe error \n",
      "87. Too many users \n",
      "88. Socket operation on non-socket \n",
      "89. Destination address required \n",
      "90. Message too long \n",
      "91. Protocol wrong type for socket \n",
      "92. Protocol not available \n",
      "93. Protocol not supported \n",
      "94. Socket type not supported \n",
      "95. Operation not supported on transport endpoint \n",
      "96. Protocol family not supported \n",
      "97. Address family not supported by protocol \n",
      "98. Address already in use \n",
      "99. Cannot assign requested address \n",
      "100. Network is down \n",
      "101. Network is unreachable \n",
      "102. Network dropped connection because of reset \n",
      "103. Software caused connection abort \n",
      "104. Connection reset by peer \n",
      "105. No buffer space available \n",
      "106. Transport endpoint is already connected \n",
      "107. Transport endpoint is not connected \n",
      "108. Cannot send after transport endpoint shutdown \n",
      "109. Too many references: cannot splice \n",
      "110. Connection timed out \n",
      "111. Connection refused \n",
      "112. Host is down \n",
      "113. No route to host \n",
      "114. Operation already in progress \n",
      "115. Operation now in progress \n",
      "116. Stale file handle \n",
      "117. Structure needs cleaning \n",
      "118. Not a XENIX named type file \n",
      "119. No XENIX semaphores available \n",
      "120. Is a named type file \n",
      "121. Remote I/O error \n",
      "122. Quota exceeded \n",
      "123. No medium found \n",
      "124. Wrong medium type \n",
      "125. Operation Canceled \n",
      "126. Required key not available \n",
      "127. Key has expired \n",
      "128. Key has been revoked \n",
      "129. Key was rejected by service \n",
      "130. Owner died \n",
      "131. State not recoverable \n",
      "132. Operation not possible due to RF-kill \n",
      "133. Memory page has hardware error \n"
     ]
    }
   ],
   "source": [
    "from pathlib import Path\n",
    "import re\n",
    "\n",
    "p = Path('/usr/include/asm-generic/')\n",
    "p1 = p /'errno-base.h'\n",
    "p2 = p /'errno.h'\n",
    "\n",
    "for j in [p1,p2]:\n",
    "    for i in j.read_text().splitlines():\n",
    "        c = re.search(r'[0-9]{1,3}\\s.*$',i)\n",
    "        if c:\n",
    "            r = c.group()\n",
    "            s = re.sub(r'\\/\\*|\\*\\/','',r)\n",
    "            print(re.sub(r'\\s\\s{1,}','. ',s))\n"
   ]
  },
  {
   "cell_type": "markdown",
   "metadata": {},
   "source": [
    "### Bash  equivalent of python range function\n",
    "Bash  equivalent --> {n..n}"
   ]
  },
  {
   "cell_type": "code",
   "execution_count": 55,
   "metadata": {},
   "outputs": [
    {
     "name": "stdout",
     "output_type": "stream",
     "text": [
      "1 2 3 4 5 6 7 8 9 10 "
     ]
    }
   ],
   "source": [
    "%%python3\n",
    "\n",
    "for i in range(1,11):\n",
    "    print(i, end = ' ')"
   ]
  },
  {
   "cell_type": "code",
   "execution_count": 56,
   "metadata": {},
   "outputs": [
    {
     "name": "stdout",
     "output_type": "stream",
     "text": [
      "1 2 3 4 5 6 7 8 9 10 "
     ]
    }
   ],
   "source": [
    "%%bash\n",
    "\n",
    "for i in {1..10}\n",
    "do\n",
    "echo -en \"$i \"\n",
    "done"
   ]
  },
  {
   "cell_type": "markdown",
   "metadata": {},
   "source": [
    "### How to split parent directory and file?"
   ]
  },
  {
   "cell_type": "code",
   "execution_count": 79,
   "metadata": {},
   "outputs": [],
   "source": [
    "from pathlib import Path\n",
    "\n",
    "p = Path('/usr/share/backgrounds/cosmos/cloud.jpg')"
   ]
  },
  {
   "cell_type": "code",
   "execution_count": 75,
   "metadata": {},
   "outputs": [
    {
     "data": {
      "text/plain": [
       "PosixPath('/usr/share/backgrounds/cosmos')"
      ]
     },
     "execution_count": 75,
     "metadata": {},
     "output_type": "execute_result"
    }
   ],
   "source": [
    "p.parent "
   ]
  },
  {
   "cell_type": "code",
   "execution_count": 76,
   "metadata": {},
   "outputs": [
    {
     "data": {
      "text/plain": [
       "'cloud.jpg'"
      ]
     },
     "execution_count": 76,
     "metadata": {},
     "output_type": "execute_result"
    }
   ],
   "source": [
    "p.name "
   ]
  },
  {
   "cell_type": "code",
   "execution_count": 77,
   "metadata": {},
   "outputs": [
    {
     "data": {
      "text/plain": [
       "'cloud.jpg'"
      ]
     },
     "execution_count": 77,
     "metadata": {},
     "output_type": "execute_result"
    }
   ],
   "source": [
    "import os.path\n",
    "\n",
    "os.path.split('/usr/share/backgrounds/cosmos/cloud.jpg')[1]"
   ]
  },
  {
   "cell_type": "code",
   "execution_count": 78,
   "metadata": {},
   "outputs": [
    {
     "data": {
      "text/plain": [
       "'/usr/share/backgrounds/cosmos'"
      ]
     },
     "execution_count": 78,
     "metadata": {},
     "output_type": "execute_result"
    }
   ],
   "source": [
    "import os.path\n",
    "\n",
    "os.path.split('/usr/share/backgrounds/cosmos/cloud.jpg')[0]"
   ]
  },
  {
   "cell_type": "markdown",
   "metadata": {},
   "source": [
    "### How to find longest line in file?"
   ]
  },
  {
   "cell_type": "code",
   "execution_count": 96,
   "metadata": {},
   "outputs": [
    {
     "name": "stdout",
     "output_type": "stream",
     "text": [
      "Apples and pears.\r\n",
      "Citrus – oranges, grapefruits, mandarins and limes.\r\n",
      "Stone fruit – nectarines, apricots, peaches and plums.\r\n",
      "Tropical and exotic – bananas and mangoes.\r\n",
      "Berries – strawberries, raspberries, blueberries, kiwifruit and passionfruit.\r\n",
      "Melons – watermelons, rockmelons and honeydew melons.\r\n",
      "\r\n"
     ]
    }
   ],
   "source": [
    "!cat /home/mana/Work/fruits.txt"
   ]
  },
  {
   "cell_type": "code",
   "execution_count": 91,
   "metadata": {},
   "outputs": [
    {
     "data": {
      "text/plain": [
       "'Berries – strawberries, raspberries, blueberries, kiwifruit and passionfruit.'"
      ]
     },
     "execution_count": 91,
     "metadata": {},
     "output_type": "execute_result"
    }
   ],
   "source": [
    "from pathlib import Path as P\n",
    "\n",
    "max(P('/home/mana/Work/fruits.txt').read_text().splitlines(),key=len)"
   ]
  },
  {
   "cell_type": "code",
   "execution_count": 89,
   "metadata": {},
   "outputs": [
    {
     "data": {
      "text/plain": [
       "'Berries – strawberries, raspberries, blueberries, kiwifruit and passionfruit.\\n'"
      ]
     },
     "execution_count": 89,
     "metadata": {},
     "output_type": "execute_result"
    }
   ],
   "source": [
    "max(open('/home/mana/Work/fruits.txt'), key=len)   ## This is not safest method"
   ]
  },
  {
   "cell_type": "markdown",
   "metadata": {},
   "source": [
    "### How to find that how many duplicate items repeated in list?"
   ]
  },
  {
   "cell_type": "code",
   "execution_count": 131,
   "metadata": {},
   "outputs": [
    {
     "data": {
      "text/plain": [
       "{'Siva': 3, 'Mana': 2, 'Robert': 2}"
      ]
     },
     "execution_count": 131,
     "metadata": {},
     "output_type": "execute_result"
    }
   ],
   "source": [
    "lst = ['Siva','Mana','Robert','Siva','Mana','Robert','Siva']\n",
    "{item: lst.count(item) for item in lst}"
   ]
  },
  {
   "cell_type": "code",
   "execution_count": 132,
   "metadata": {},
   "outputs": [
    {
     "data": {
      "text/plain": [
       "Counter({'Siva': 3, 'Mana': 2, 'Robert': 2})"
      ]
     },
     "execution_count": 132,
     "metadata": {},
     "output_type": "execute_result"
    }
   ],
   "source": [
    "from collections import Counter\n",
    "\n",
    "lst = ['Siva','Mana','Robert','Siva','Mana','Robert','Siva']\n",
    "Counter(lst)"
   ]
  },
  {
   "cell_type": "markdown",
   "metadata": {},
   "source": [
    "### How to convert passwd file to passwd.csv file?"
   ]
  },
  {
   "cell_type": "code",
   "execution_count": 139,
   "metadata": {},
   "outputs": [],
   "source": [
    "from pathlib import Path\n",
    "\n",
    "P = Path('/etc/passwd').read_text().splitlines()\n",
    "comma = [i.replace(':',',') for i in P]\n",
    "print(*comma, sep = '\\n', file=open('/home/mana/Work/passwd.csv','w'))\n"
   ]
  },
  {
   "cell_type": "markdown",
   "metadata": {},
   "source": [
    "### How to create random number in different way?"
   ]
  },
  {
   "cell_type": "code",
   "execution_count": 26,
   "metadata": {},
   "outputs": [
    {
     "name": "stdout",
     "output_type": "stream",
     "text": [
      "put a number between 0 and 1: 5\n",
      "19.5 20.5 21.5 22.5 23.5 24.5 25.5 26.5 27.5 28.5 "
     ]
    }
   ],
   "source": [
    "x= eval(input(\"put a number between 0 and 1: \"))\n",
    "x = 3.9 * x \n",
    "for i in range(10):\n",
    "    print(x, end = ' ')\n",
    "    x += 1"
   ]
  },
  {
   "cell_type": "code",
   "execution_count": 27,
   "metadata": {},
   "outputs": [
    {
     "data": {
      "text/plain": [
       "array([0.    , 0.4875, 0.975 , 1.4625, 1.95  , 2.4375, 2.925 , 3.4125,\n",
       "       3.9   ])"
      ]
     },
     "execution_count": 27,
     "metadata": {},
     "output_type": "execute_result"
    }
   ],
   "source": [
    "import numpy as np\n",
    "\n",
    "n = np.linspace(0,1,9)\n",
    "3.9 * n "
   ]
  },
  {
   "cell_type": "code",
   "execution_count": 24,
   "metadata": {},
   "outputs": [
    {
     "data": {
      "text/plain": [
       "array([0, 8, 4, 3, 8, 9, 8, 6, 3, 7])"
      ]
     },
     "execution_count": 24,
     "metadata": {},
     "output_type": "execute_result"
    }
   ],
   "source": [
    "import numpy as np\n",
    "\n",
    "np.random.randint(10, size=10)"
   ]
  },
  {
   "cell_type": "code",
   "execution_count": 18,
   "metadata": {},
   "outputs": [
    {
     "name": "stdout",
     "output_type": "stream",
     "text": [
      "7 3 5 8 5 7 4 9 8 5\n"
     ]
    }
   ],
   "source": [
    "from random import choices\n",
    "\n",
    "print(*choices([*range(10)], k=10))"
   ]
  },
  {
   "cell_type": "markdown",
   "metadata": {},
   "source": [
    "### How to check Red colour exists or not in Colour Box?"
   ]
  },
  {
   "cell_type": "markdown",
   "metadata": {},
   "source": [
    "#### This is another one kids program."
   ]
  },
  {
   "cell_type": "code",
   "execution_count": 38,
   "metadata": {},
   "outputs": [
    {
     "data": {
      "text/plain": [
       "True"
      ]
     },
     "execution_count": 38,
     "metadata": {},
     "output_type": "execute_result"
    }
   ],
   "source": [
    "color_box = ['Black', 'White', 'Gray', \n",
    "             'Red', 'Orange', 'Yellow', \n",
    "             'Green', 'Pink', 'Brown']\n",
    " \n",
    "'Red' in color_box"
   ]
  },
  {
   "cell_type": "raw",
   "metadata": {},
   "source": [
    " i want purple color to color box"
   ]
  },
  {
   "cell_type": "code",
   "execution_count": 47,
   "metadata": {},
   "outputs": [],
   "source": [
    "color_box = ['Black', 'White', 'Gray', \n",
    "             'Red', 'Orange', 'Yellow', \n",
    "             'Green', 'Pink', 'Brown']\n",
    "\n",
    "color_box.insert(-1,'Purple')"
   ]
  },
  {
   "cell_type": "code",
   "execution_count": 49,
   "metadata": {},
   "outputs": [],
   "source": [
    "color_box[-2] = 'Purple'"
   ]
  },
  {
   "cell_type": "code",
   "execution_count": 50,
   "metadata": {},
   "outputs": [
    {
     "data": {
      "text/plain": [
       "['Black',\n",
       " 'White',\n",
       " 'Gray',\n",
       " 'Red',\n",
       " 'Orange',\n",
       " 'Yellow',\n",
       " 'Green',\n",
       " 'Pink',\n",
       " 'Purple',\n",
       " 'Brown']"
      ]
     },
     "execution_count": 50,
     "metadata": {},
     "output_type": "execute_result"
    }
   ],
   "source": [
    "color_box"
   ]
  },
  {
   "cell_type": "code",
   "execution_count": 51,
   "metadata": {},
   "outputs": [
    {
     "name": "stdout",
     "output_type": "stream",
     "text": [
      "['P', 't', 'h', 'o', 'n']\n"
     ]
    }
   ],
   "source": [
    "list1 = ['P', 'y', 't', 'h', 'o', 'n']\n",
    "list1.pop(1)\n",
    "print(list1)"
   ]
  },
  {
   "cell_type": "code",
   "execution_count": 52,
   "metadata": {},
   "outputs": [
    {
     "name": "stdout",
     "output_type": "stream",
     "text": [
      "['P', 'y', 't', 'h', 'o']\n"
     ]
    }
   ],
   "source": [
    "list1 = ['P', 'y', 't', 'h', 'o', 'n']\n",
    "list1.pop()\n",
    "print(list1)"
   ]
  },
  {
   "cell_type": "code",
   "execution_count": 54,
   "metadata": {},
   "outputs": [
    {
     "name": "stdout",
     "output_type": "stream",
     "text": [
      "/dev/sda1       110G   14G   91G  13% /\r\n"
     ]
    }
   ],
   "source": [
    "!df -h | grep \"/dev/sda1\""
   ]
  },
  {
   "cell_type": "markdown",
   "metadata": {},
   "source": [
    "### Read and Write csv file"
   ]
  },
  {
   "cell_type": "code",
   "execution_count": 3,
   "metadata": {},
   "outputs": [
    {
     "name": "stdout",
     "output_type": "stream",
     "text": [
      "100,Chennai,Manavalan,Micheal,04478907690\r\n",
      "905,Chennai,Ram,Sivan,00478997690\r\n"
     ]
    }
   ],
   "source": [
    "!cat /home/mana/Work/add.csv"
   ]
  },
  {
   "cell_type": "code",
   "execution_count": 7,
   "metadata": {},
   "outputs": [],
   "source": [
    "from pathlib import Path\n",
    "\n",
    "p = Path('/home/mana/Work/add.csv').read_text().splitlines()\n",
    "print(*p, sep = '\\n', file=open('/home/mana/Work/new.csv', 'w'))"
   ]
  },
  {
   "cell_type": "code",
   "execution_count": 8,
   "metadata": {},
   "outputs": [
    {
     "name": "stdout",
     "output_type": "stream",
     "text": [
      "100,Chennai,Manavalan,Micheal,04478907690\r\n",
      "905,Chennai,Ram,Sivan,00478997690\r\n"
     ]
    }
   ],
   "source": [
    "!cat /home/mana/Work/new.csv"
   ]
  },
  {
   "cell_type": "markdown",
   "metadata": {},
   "source": [
    "### How to get this output?"
   ]
  },
  {
   "cell_type": "raw",
   "metadata": {},
   "source": [
    "M\n",
    "Ma\n",
    "Man\n",
    "Mana\n",
    "Manav\n",
    "Manava\n",
    "Manaval\n",
    "Manavala\n",
    "Manavalan"
   ]
  },
  {
   "cell_type": "code",
   "execution_count": 11,
   "metadata": {},
   "outputs": [
    {
     "name": "stdout",
     "output_type": "stream",
     "text": [
      "M\n",
      "Ma\n",
      "Man\n",
      "Mana\n",
      "Manav\n",
      "Manava\n",
      "Manaval\n",
      "Manavala\n",
      "Manavalan\n"
     ]
    }
   ],
   "source": [
    "name = 'Manavalan'\n",
    "temp = ''\n",
    "for i in name:\n",
    "    temp += i\n",
    "    print(temp)"
   ]
  },
  {
   "cell_type": "code",
   "execution_count": 14,
   "metadata": {},
   "outputs": [
    {
     "name": "stdout",
     "output_type": "stream",
     "text": [
      "M\n",
      "Ma\n",
      "Man\n",
      "Mana\n",
      "Manav\n",
      "Manava\n",
      "Manaval\n",
      "Manavala\n",
      "Manavalan\n"
     ]
    }
   ],
   "source": [
    "for _ in range(1, len('Manavalan')+1):\n",
    "    print('Manavalan'[:_])"
   ]
  },
  {
   "cell_type": "markdown",
   "metadata": {},
   "source": [
    "### How to direct apply index in string?"
   ]
  },
  {
   "cell_type": "code",
   "execution_count": 15,
   "metadata": {},
   "outputs": [
    {
     "data": {
      "text/plain": [
       "'Ma'"
      ]
     },
     "execution_count": 15,
     "metadata": {},
     "output_type": "execute_result"
    }
   ],
   "source": [
    "'Manavalan'[:2]"
   ]
  },
  {
   "cell_type": "code",
   "execution_count": null,
   "metadata": {},
   "outputs": [],
   "source": []
  }
 ],
 "metadata": {
  "kernelspec": {
   "display_name": "Python 3",
   "language": "python",
   "name": "python3"
  },
  "language_info": {
   "codemirror_mode": {
    "name": "ipython",
    "version": 3
   },
   "file_extension": ".py",
   "mimetype": "text/x-python",
   "name": "python",
   "nbconvert_exporter": "python",
   "pygments_lexer": "ipython3",
   "version": "3.6.7"
  }
 },
 "nbformat": 4,
 "nbformat_minor": 2
}
