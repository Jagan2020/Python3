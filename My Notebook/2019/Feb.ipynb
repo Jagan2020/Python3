{
 "cells": [
  {
   "cell_type": "markdown",
   "metadata": {},
   "source": [
    "### How to check file exists or not?"
   ]
  },
  {
   "cell_type": "code",
   "execution_count": 69,
   "metadata": {
    "scrolled": true
   },
   "outputs": [
    {
     "name": "stdout",
     "output_type": "stream",
     "text": [
      "File does not exists\n"
     ]
    }
   ],
   "source": [
    "%%bash\n",
    "\n",
    "if [ -f /var/log/message ]\n",
    "then\n",
    "echo \"File exists\"\n",
    "else\n",
    "echo \"File does not exists\"\n",
    "fi"
   ]
  },
  {
   "cell_type": "code",
   "execution_count": 70,
   "metadata": {
    "scrolled": true
   },
   "outputs": [
    {
     "name": "stdout",
     "output_type": "stream",
     "text": [
      "File exists\n"
     ]
    }
   ],
   "source": [
    "%%python3\n",
    "\n",
    "import os\n",
    "\n",
    "if os.path.exists('/var/log/syslog'):\n",
    "    print(\"File exists\")\n",
    "else:\n",
    "    print(\"File does not exists\")    "
   ]
  },
  {
   "cell_type": "markdown",
   "metadata": {},
   "source": [
    "### How To find Orphan Process?"
   ]
  },
  {
   "cell_type": "code",
   "execution_count": null,
   "metadata": {
    "scrolled": true
   },
   "outputs": [],
   "source": [
    "!ps -elf | awk -v usr=\"$USER\" 'NR==1;($5 == 1 && $3==usr)'"
   ]
  },
  {
   "cell_type": "markdown",
   "metadata": {},
   "source": [
    "### How to unpack generator?"
   ]
  },
  {
   "cell_type": "code",
   "execution_count": 79,
   "metadata": {
    "scrolled": true
   },
   "outputs": [
    {
     "name": "stdout",
     "output_type": "stream",
     "text": [
      "<class 'generator'>\n"
     ]
    },
    {
     "data": {
      "text/plain": [
       "[0, 1, 2, 3, 4, 5, 6, 7, 8, 9]"
      ]
     },
     "execution_count": 79,
     "metadata": {},
     "output_type": "execute_result"
    }
   ],
   "source": [
    "g = (_ for _ in range(10))\n",
    "\n",
    "print(type(g))\n",
    "\n",
    "[*g] ## Now unpack generator"
   ]
  },
  {
   "cell_type": "markdown",
   "metadata": {},
   "source": [
    "### Get range of dates between specified start and end date"
   ]
  },
  {
   "cell_type": "code",
   "execution_count": 156,
   "metadata": {
    "scrolled": true
   },
   "outputs": [
    {
     "data": {
      "text/plain": [
       "['05-12-2018',\n",
       " '06-12-2018',\n",
       " '07-12-2018',\n",
       " '08-12-2018',\n",
       " '09-12-2018',\n",
       " '10-12-2018',\n",
       " '11-12-2018',\n",
       " '12-12-2018',\n",
       " '13-12-2018',\n",
       " '14-12-2018']"
      ]
     },
     "execution_count": 156,
     "metadata": {},
     "output_type": "execute_result"
    }
   ],
   "source": [
    "from datetime import datetime,timedelta\n",
    "\n",
    "start = '2018-12-5'\n",
    "end = '2018-12-15'\n",
    "sf = datetime.strptime(start, \"%Y-%m-%d\")\n",
    "ef = datetime.strptime(end, \"%Y-%m-%d\")\n",
    "\n",
    "[(sf + timedelta(days=i)).strftime(\"%d-%m-%Y\")\n",
    " for i in range(0,(ef-sf).days)]"
   ]
  },
  {
   "cell_type": "markdown",
   "metadata": {},
   "source": [
    "### Collect last 10 dates into array"
   ]
  },
  {
   "cell_type": "code",
   "execution_count": 144,
   "metadata": {
    "scrolled": true
   },
   "outputs": [
    {
     "data": {
      "text/plain": [
       "['01-02-2019',\n",
       " '31-01-2019',\n",
       " '30-01-2019',\n",
       " '29-01-2019',\n",
       " '28-01-2019',\n",
       " '27-01-2019',\n",
       " '26-01-2019',\n",
       " '25-01-2019',\n",
       " '24-01-2019',\n",
       " '23-01-2019']"
      ]
     },
     "execution_count": 144,
     "metadata": {},
     "output_type": "execute_result"
    }
   ],
   "source": [
    "from datetime import date,timedelta\n",
    "\n",
    "today = date.today()\n",
    "dates = [(today - timedelta(days=i)).strftime(\"%d-%m-%Y\")\n",
    "         for i in range(10)]\n",
    "dates"
   ]
  },
  {
   "cell_type": "markdown",
   "metadata": {},
   "source": [
    "### Get range of times between specified start and end time"
   ]
  },
  {
   "cell_type": "markdown",
   "metadata": {},
   "source": [
    "#### Seconds"
   ]
  },
  {
   "cell_type": "code",
   "execution_count": 164,
   "metadata": {
    "scrolled": true
   },
   "outputs": [
    {
     "data": {
      "text/plain": [
       "['18:57:19',\n",
       " '18:57:20',\n",
       " '18:57:21',\n",
       " '18:57:22',\n",
       " '18:57:23',\n",
       " '18:57:24',\n",
       " '18:57:25',\n",
       " '18:57:26',\n",
       " '18:57:27',\n",
       " '18:57:28']"
      ]
     },
     "execution_count": 164,
     "metadata": {},
     "output_type": "execute_result"
    }
   ],
   "source": [
    "from datetime import datetime,timedelta\n",
    "\n",
    "now = datetime.now()\n",
    "\n",
    "def diff(sec):\n",
    "    s = [(now - timedelta(seconds=x)).strftime(\"%T\") for x in range(sec)]\n",
    "    return s[::-1]\n",
    "\n",
    "diff(10)"
   ]
  },
  {
   "cell_type": "markdown",
   "metadata": {},
   "source": [
    "#### Mintues"
   ]
  },
  {
   "cell_type": "code",
   "execution_count": 167,
   "metadata": {
    "scrolled": true
   },
   "outputs": [
    {
     "data": {
      "text/plain": [
       "['18:51',\n",
       " '18:52',\n",
       " '18:53',\n",
       " '18:54',\n",
       " '18:55',\n",
       " '18:56',\n",
       " '18:57',\n",
       " '18:58',\n",
       " '18:59',\n",
       " '19:00']"
      ]
     },
     "execution_count": 167,
     "metadata": {},
     "output_type": "execute_result"
    }
   ],
   "source": [
    "from datetime import datetime,timedelta\n",
    "\n",
    "now = datetime.now()\n",
    "\n",
    "def diff(min):\n",
    "    s = [(now - timedelta(minutes=x)).strftime(\"%H:%M\") for x in range(min)]\n",
    "    return s[::-1]\n",
    "\n",
    "diff(10)"
   ]
  },
  {
   "cell_type": "markdown",
   "metadata": {},
   "source": [
    "### How to view last 10 minutes log?"
   ]
  },
  {
   "cell_type": "code",
   "execution_count": 234,
   "metadata": {
    "scrolled": true
   },
   "outputs": [
    {
     "name": "stdout",
     "output_type": "stream",
     "text": [
      "Feb  1 20:26:29 joe kernel: [26674.896142] CPU0: Core temperature above threshold, cpu clock throttled (total events = 183655)\n",
      "Feb  1 20:26:29 joe kernel: [26674.896152] CPU1: Core temperature above threshold, cpu clock throttled (total events = 183603)\n",
      "Feb  1 20:26:29 joe kernel: [26674.897978] CPU1: Core temperature/speed normal\n",
      "Feb  1 20:26:29 joe kernel: [26674.897980] CPU0: Core temperature/speed normal\n",
      "Feb  1 20:31:36 joe kernel: [26982.152094] CPU0: Core temperature above threshold, cpu clock throttled (total events = 184569)\n",
      "Feb  1 20:31:36 joe kernel: [26982.152101] CPU1: Core temperature above threshold, cpu clock throttled (total events = 184516)\n",
      "Feb  1 20:31:36 joe kernel: [26982.153785] CPU1: Core temperature/speed normal\n",
      "Feb  1 20:31:36 joe kernel: [26982.153788] CPU0: Core temperature/speed normal\n"
     ]
    }
   ],
   "source": [
    "from datetime import datetime,timedelta\n",
    "\n",
    "now = datetime.now()\n",
    "s = [(now - timedelta(minutes=x)).strftime(\"%b%e %H:%M\") \n",
    "     for x in range(10)]\n",
    "\n",
    "with open('/var/log/syslog') as opf:\n",
    "    rd = opf.readlines()\n",
    "        \n",
    "for i in rd:\n",
    "    j = ' '.join(i.split()[:3])\n",
    "    if j.rpartition(':')[0] in s:\n",
    "        print(i.strip())"
   ]
  },
  {
   "cell_type": "markdown",
   "metadata": {},
   "source": [
    "### How to generate logfile date format?"
   ]
  },
  {
   "cell_type": "code",
   "execution_count": 249,
   "metadata": {
    "scrolled": true
   },
   "outputs": [
    {
     "name": "stdout",
     "output_type": "stream",
     "text": [
      "Feb  1 21:27:04\n"
     ]
    }
   ],
   "source": [
    "%%bash\n",
    "\n",
    "date +\"%b %e %H:%M:%S\""
   ]
  },
  {
   "cell_type": "code",
   "execution_count": 250,
   "metadata": {
    "scrolled": true
   },
   "outputs": [
    {
     "name": "stdout",
     "output_type": "stream",
     "text": [
      "Feb  1 21:27:08\n"
     ]
    }
   ],
   "source": [
    "%%python3\n",
    "\n",
    "from datetime import datetime\n",
    "\n",
    "print(datetime.now().strftime(\"%b %e %H:%M:%S\"))"
   ]
  },
  {
   "cell_type": "markdown",
   "metadata": {},
   "source": [
    "### lambda"
   ]
  },
  {
   "cell_type": "code",
   "execution_count": 276,
   "metadata": {
    "scrolled": true
   },
   "outputs": [
    {
     "data": {
      "text/plain": [
       "[['I', 'v', 'i', 'n', ' ', 'S', 't', 'e', 'p', 'h', 'e', 'n']]"
      ]
     },
     "execution_count": 276,
     "metadata": {},
     "output_type": "execute_result"
    }
   ],
   "source": [
    "(lambda x: [x])(list(\"Ivin Stephen\"))"
   ]
  },
  {
   "cell_type": "code",
   "execution_count": 285,
   "metadata": {
    "scrolled": true
   },
   "outputs": [
    {
     "data": {
      "text/plain": [
       "'I'"
      ]
     },
     "execution_count": 285,
     "metadata": {},
     "output_type": "execute_result"
    }
   ],
   "source": [
    "(lambda x: x[0])(list(\"Ivin Stephen\"))"
   ]
  },
  {
   "cell_type": "code",
   "execution_count": 304,
   "metadata": {
    "scrolled": true
   },
   "outputs": [
    {
     "name": "stdout",
     "output_type": "stream",
     "text": [
      "{'I': 73, 'n': 110, 'i': 105, 'v': 118}\n"
     ]
    }
   ],
   "source": [
    "print((lambda x: {i[0]:ord(i[0]) for i in x})(list(\"Ivin\")))"
   ]
  },
  {
   "cell_type": "code",
   "execution_count": 277,
   "metadata": {
    "scrolled": true
   },
   "outputs": [
    {
     "data": {
      "text/plain": [
       "['Ivin Stephen']"
      ]
     },
     "execution_count": 277,
     "metadata": {},
     "output_type": "execute_result"
    }
   ],
   "source": [
    "(lambda x: [x])(\"Ivin Stephen\")"
   ]
  },
  {
   "cell_type": "code",
   "execution_count": 257,
   "metadata": {
    "scrolled": true
   },
   "outputs": [
    {
     "data": {
      "text/plain": [
       "['Ivin', 'Stephen']"
      ]
     },
     "execution_count": 257,
     "metadata": {},
     "output_type": "execute_result"
    }
   ],
   "source": [
    "(lambda x: x.split())(\"Ivin Stephen\")"
   ]
  },
  {
   "cell_type": "code",
   "execution_count": 273,
   "metadata": {
    "scrolled": true
   },
   "outputs": [
    {
     "data": {
      "text/plain": [
       "'Ivin'"
      ]
     },
     "execution_count": 273,
     "metadata": {},
     "output_type": "execute_result"
    }
   ],
   "source": [
    "(lambda x: x.split()[0])(\"Ivin Stephen\")"
   ]
  },
  {
   "cell_type": "code",
   "execution_count": 258,
   "metadata": {
    "scrolled": true
   },
   "outputs": [
    {
     "data": {
      "text/plain": [
       "'IVIN STEPHEN'"
      ]
     },
     "execution_count": 258,
     "metadata": {},
     "output_type": "execute_result"
    }
   ],
   "source": [
    "(lambda x: x.upper())(\"Ivin Stephen\")"
   ]
  },
  {
   "cell_type": "code",
   "execution_count": 259,
   "metadata": {
    "scrolled": true
   },
   "outputs": [
    {
     "data": {
      "text/plain": [
       "'nehpetS nivI'"
      ]
     },
     "execution_count": 259,
     "metadata": {},
     "output_type": "execute_result"
    }
   ],
   "source": [
    "(lambda x: x[::-1])(\"Ivin Stephen\")"
   ]
  },
  {
   "cell_type": "code",
   "execution_count": 260,
   "metadata": {
    "scrolled": true
   },
   "outputs": [
    {
     "data": {
      "text/plain": [
       "12"
      ]
     },
     "execution_count": 260,
     "metadata": {},
     "output_type": "execute_result"
    }
   ],
   "source": [
    "(lambda x: len(x))(\"Ivin Stephen\")"
   ]
  },
  {
   "cell_type": "code",
   "execution_count": 261,
   "metadata": {
    "scrolled": true
   },
   "outputs": [
    {
     "data": {
      "text/plain": [
       "'v'"
      ]
     },
     "execution_count": 261,
     "metadata": {},
     "output_type": "execute_result"
    }
   ],
   "source": [
    "(lambda x: max(x))(\"Ivin Stephen\")"
   ]
  },
  {
   "cell_type": "markdown",
   "metadata": {},
   "source": [
    "### How to pass 2 arguments in lambda?"
   ]
  },
  {
   "cell_type": "code",
   "execution_count": 493,
   "metadata": {
    "scrolled": true
   },
   "outputs": [
    {
     "data": {
      "text/plain": [
       "5"
      ]
     },
     "execution_count": 493,
     "metadata": {},
     "output_type": "execute_result"
    }
   ],
   "source": [
    "(lambda x, y: x+y)(3,2)"
   ]
  },
  {
   "cell_type": "markdown",
   "metadata": {},
   "source": [
    "### How to list unicode charcter?"
   ]
  },
  {
   "cell_type": "code",
   "execution_count": 302,
   "metadata": {
    "scrolled": true
   },
   "outputs": [
    {
     "data": {
      "text/plain": [
       "{'\\t': 9,\n",
       " '\\n': 10,\n",
       " '\\x0b': 11,\n",
       " '\\x0c': 12,\n",
       " '\\r': 13,\n",
       " ' ': 32,\n",
       " '!': 33,\n",
       " '\"': 34,\n",
       " '#': 35,\n",
       " '$': 36,\n",
       " '%': 37,\n",
       " '&': 38,\n",
       " \"'\": 39,\n",
       " '(': 40,\n",
       " ')': 41,\n",
       " '*': 42,\n",
       " '+': 43,\n",
       " ',': 44,\n",
       " '-': 45,\n",
       " '.': 46,\n",
       " '/': 47,\n",
       " '0': 48,\n",
       " '1': 49,\n",
       " '2': 50,\n",
       " '3': 51,\n",
       " '4': 52,\n",
       " '5': 53,\n",
       " '6': 54,\n",
       " '7': 55,\n",
       " '8': 56,\n",
       " '9': 57,\n",
       " ':': 58,\n",
       " ';': 59,\n",
       " '<': 60,\n",
       " '=': 61,\n",
       " '>': 62,\n",
       " '?': 63,\n",
       " '@': 64,\n",
       " 'A': 65,\n",
       " 'B': 66,\n",
       " 'C': 67,\n",
       " 'D': 68,\n",
       " 'E': 69,\n",
       " 'F': 70,\n",
       " 'G': 71,\n",
       " 'H': 72,\n",
       " 'I': 73,\n",
       " 'J': 74,\n",
       " 'K': 75,\n",
       " 'L': 76,\n",
       " 'M': 77,\n",
       " 'N': 78,\n",
       " 'O': 79,\n",
       " 'P': 80,\n",
       " 'Q': 81,\n",
       " 'R': 82,\n",
       " 'S': 83,\n",
       " 'T': 84,\n",
       " 'U': 85,\n",
       " 'V': 86,\n",
       " 'W': 87,\n",
       " 'X': 88,\n",
       " 'Y': 89,\n",
       " 'Z': 90,\n",
       " '[': 91,\n",
       " '\\\\': 92,\n",
       " ']': 93,\n",
       " '^': 94,\n",
       " '_': 95,\n",
       " '`': 96,\n",
       " 'a': 97,\n",
       " 'b': 98,\n",
       " 'c': 99,\n",
       " 'd': 100,\n",
       " 'e': 101,\n",
       " 'f': 102,\n",
       " 'g': 103,\n",
       " 'h': 104,\n",
       " 'i': 105,\n",
       " 'j': 106,\n",
       " 'k': 107,\n",
       " 'l': 108,\n",
       " 'm': 109,\n",
       " 'n': 110,\n",
       " 'o': 111,\n",
       " 'p': 112,\n",
       " 'q': 113,\n",
       " 'r': 114,\n",
       " 's': 115,\n",
       " 't': 116,\n",
       " 'u': 117,\n",
       " 'v': 118,\n",
       " 'w': 119,\n",
       " 'x': 120,\n",
       " 'y': 121,\n",
       " 'z': 122,\n",
       " '{': 123,\n",
       " '|': 124,\n",
       " '}': 125,\n",
       " '~': 126}"
      ]
     },
     "execution_count": 302,
     "metadata": {},
     "output_type": "execute_result"
    }
   ],
   "source": [
    "from string import printable\n",
    "(lambda x: {i[0]:ord(i[0]) for i in x})(list(printable))"
   ]
  },
  {
   "cell_type": "markdown",
   "metadata": {},
   "source": [
    "### map\n",
    "map(function,iterabe)"
   ]
  },
  {
   "cell_type": "code",
   "execution_count": 357,
   "metadata": {
    "scrolled": true
   },
   "outputs": [
    {
     "data": {
      "text/plain": [
       "[5, 4, 7]"
      ]
     },
     "execution_count": 357,
     "metadata": {},
     "output_type": "execute_result"
    }
   ],
   "source": [
    "iterable = ['Linux', 'Unix', 'Windows']\n",
    "\n",
    "def function(s):\n",
    "    return len(s)\n",
    "\n",
    "[*map(function, iterable)]"
   ]
  },
  {
   "cell_type": "code",
   "execution_count": 358,
   "metadata": {
    "scrolled": true
   },
   "outputs": [
    {
     "data": {
      "text/plain": [
       "[5, 4, 7]"
      ]
     },
     "execution_count": 358,
     "metadata": {},
     "output_type": "execute_result"
    }
   ],
   "source": [
    "iterable = ['Linux', 'Unix', 'Windows']\n",
    "\n",
    "[*map(len, iterable)]"
   ]
  },
  {
   "cell_type": "code",
   "execution_count": 359,
   "metadata": {
    "scrolled": true
   },
   "outputs": [
    {
     "data": {
      "text/plain": [
       "[5, 4, 7]"
      ]
     },
     "execution_count": 359,
     "metadata": {},
     "output_type": "execute_result"
    }
   ],
   "source": [
    "iterable = ['Linux', 'Unix', 'Windows']\n",
    "\n",
    "[*map(lambda x: len(x), iterable)]"
   ]
  },
  {
   "cell_type": "markdown",
   "metadata": {},
   "source": [
    "### Memory usage of each processes"
   ]
  },
  {
   "cell_type": "code",
   "execution_count": 485,
   "metadata": {
    "scrolled": false
   },
   "outputs": [
    {
     "name": "stdout",
     "output_type": "stream",
     "text": [
      "  PID   Process          Private-Memory(MiB)  Shared-Memory(MiB)    Meomory-Usage(MiB)\n",
      "**************************************************************************************\n",
      "  2236  vivaldi-bin            346                 11                     357\n",
      "  2198  vivaldi-bin            172                 11                     183\n",
      "  2297  vivaldi-bin            175                  7                     182\n",
      "  3794  vivaldi-bin            100                  6                     106\n",
      "  3992  python3                 58                  2                      60\n",
      "  5429  vivaldi-bin             50                  6                      56\n",
      "  2320  vivaldi-bin             39                  5                      44\n",
      " 30666  vivaldi-bin             32                  5                      37\n",
      "  3721  jupyter-noteboo         33                  2                      35\n",
      " 30943  vivaldi-bin             25                  6                      31\n",
      "  4023  python3                 29                  2                      31\n",
      "  5472  vivaldi-bin             25                  5                      30\n",
      " 30960  vivaldi-bin             23                  6                      29\n",
      " 25671  gedit                   22                  3                      25\n",
      "  2358  vivaldi-bin             21                  4                      25\n",
      "  1837  caja                    21                  3                      24\n",
      "  2350  vivaldi-bin             15                  4                      19\n",
      "  1841  mate-menu               16                  2                      18\n",
      "  1870  plank                   14                  4                      18\n",
      " 30811  vivaldi-bin             12                  5                      17\n",
      " 30971  vivaldi-bin             10                  5                      15\n",
      "  3681  mate-terminal            9                  4                      13\n",
      "  1871  nm-applet               11                  2                      13\n",
      " 30983  vivaldi-bin              8                  4                      12\n",
      "  1816  mate-panel              11                  1                      12\n",
      "  1877  tilda                    9                  3                      12\n",
      "  1869  applet.py                8                  1                       9\n",
      "  2098  bamfdaemon               6                  2                       8\n",
      "  1992  marco                    7                  1                       8\n",
      "  1812  mate-settings-d          5                  1                       6\n",
      "  1859  mate-indicator-          4                  2                       6\n",
      "  2079  gvfs-afc-volume          5                  0                       5\n",
      "  2262  vivaldi-bin              1                  4                       5\n",
      " 31009  vivaldi-bin              3                  2                       5\n",
      "  1887  mate-power-mana          4                  1                       5\n",
      "  1849  pulseaudio               3                  1                       4\n",
      "  1858  clock-applet             3                  1                       4\n",
      "  2063  gvfs-mtp-volume          3                  0                       3\n",
      "  2068  gvfs-gphoto2-vo          3                  0                       3\n",
      "  1795  dconf-service            3                  0                       3\n",
      "  1863  mate-screensave          2                  1                       3\n",
      "  1785  at-spi2-registr          3                  0                       3\n",
      "  2136  indicator-sound          2                  0                       2\n",
      "  6237  bash                     1                  1                       2\n",
      "  3700  bash                     1                  1                       2\n",
      "  1861  notification-ar          2                  0                       2\n",
      "  1867  mate-maximus             2                  0                       2\n",
      "  1868  polkit-mate-aut          1                  1                       2\n",
      "  1776  at-spi-bus-laun          2                  0                       2\n",
      "  1445  mate-session             1                  1                       2\n",
      "  2212  vivaldi-bin              0                  2                       2\n",
      "  2092  gvfsd-trash              1                  0                       1\n",
      "  2122  bash                     1                  0                       1\n",
      "  2134  indicator-appli          1                  0                       1\n",
      "  2149  gvfsd-network            1                  0                       1\n",
      "  1683  dbus-daemon              1                  0                       1\n",
      "  2214  vivaldi-bin              0                  1                       1\n",
      "  6834  gvfsd-http               1                  0                       1\n",
      "  1781  dbus-daemon              0                  1                       1\n",
      " 11031  gvfsd-computer           1                  0                       1\n",
      "  1823  gvfsd                    1                  0                       1\n",
      "  1828  gvfsd-fuse               1                  0                       1\n",
      "  2185  gvfsd-dnssd              1                  0                       1\n",
      "  1436  systemd                  0                  1                       1\n",
      "  1907  gvfsd-metadata           1                  0                       1\n",
      "  2013  gvfs-udisks2-vo          1                  0                       1\n",
      "     2  kthreadd                 0                  0                       0\n",
      "     3  ksoftirqd/0              0                  0                       0\n",
      "     5  kworker/0:0H             0                  0                       0\n",
      "     7  rcu_sched                0                  0                       0\n",
      "     8  rcu_bh                   0                  0                       0\n",
      "     9  migration/0              0                  0                       0\n",
      "    10  watchdog/0               0                  0                       0\n",
      "    11  watchdog/1               0                  0                       0\n",
      "    12  migration/1              0                  0                       0\n",
      "    13  ksoftirqd/1              0                  0                       0\n",
      "    16  kdevtmpfs                0                  0                       0\n",
      "    17  netns                    0                  0                       0\n",
      "    18  perf                     0                  0                       0\n",
      "    19  khungtaskd               0                  0                       0\n",
      "    20  writeback                0                  0                       0\n",
      "    21  ksmd                     0                  0                       0\n",
      "    22  khugepaged               0                  0                       0\n",
      "    23  crypto                   0                  0                       0\n",
      "    24  kintegrityd              0                  0                       0\n",
      "    25  bioset                   0                  0                       0\n",
      "    26  kblockd                  0                  0                       0\n",
      "    27  ata_sff                  0                  0                       0\n",
      "    28  md                       0                  0                       0\n",
      "    29  devfreq_wq               0                  0                       0\n",
      "    33  kswapd0                  0                  0                       0\n",
      "    34  vmstat                   0                  0                       0\n",
      "    35  fsnotify_mark            0                  0                       0\n",
      "    36  ecryptfs-kthrea          0                  0                       0\n",
      "   178  xfs-log/sda1             0                  0                       0\n",
      "  2097  bamfdaemon-dbus          0                  0                       0\n",
      "    52  kthrotld                 0                  0                       0\n",
      "    53  acpi_thermal_pm          0                  0                       0\n",
      "    54  bioset                   0                  0                       0\n",
      "    55  bioset                   0                  0                       0\n",
      "    56  bioset                   0                  0                       0\n",
      "    57  bioset                   0                  0                       0\n",
      "    58  bioset                   0                  0                       0\n",
      "    59  bioset                   0                  0                       0\n",
      "    60  bioset                   0                  0                       0\n",
      "    61  bioset                   0                  0                       0\n",
      "    63  scsi_eh_0                0                  0                       0\n",
      "    64  scsi_tmf_0               0                  0                       0\n",
      "    65  scsi_eh_1                0                  0                       0\n",
      "    66  scsi_tmf_1               0                  0                       0\n",
      "    69  ipv6_addrconf            0                  0                       0\n",
      "    70  bioset                   0                  0                       0\n",
      "    83  deferwq                  0                  0                       0\n",
      "    84  charger_manager          0                  0                       0\n",
      " 28286  kworker/0:1              0                  0                       0\n",
      "   136  bioset                   0                  0                       0\n",
      "   137  bioset                   0                  0                       0\n",
      "  1674  dbus-launch              0                  0                       0\n",
      "   139  bioset                   0                  0                       0\n",
      "   140  bioset                   0                  0                       0\n",
      "   141  bioset                   0                  0                       0\n",
      "   143  bioset                   0                  0                       0\n",
      "   144  bioset                   0                  0                       0\n",
      "  2203  cat                      0                  0                       0\n",
      "  2204  cat                      0                  0                       0\n",
      "  2074  gvfs-goa-volume          0                  0                       0\n",
      "   163  xfsalloc                 0                  0                       0\n",
      "   164  xfs_mru_cache            0                  0                       0\n",
      " 29861  kworker/u8:1             0                  0                       0\n",
      "   173  xfs-buf/sda1             0                  0                       0\n",
      "   174  xfs-data/sda1            0                  0                       0\n",
      "   175  xfs-conv/sda1            0                  0                       0\n",
      "   176  xfs-cil/sda1             0                  0                       0\n",
      "   177  xfs-reclaim/sda          0                  0                       0\n",
      "   179  xfs-eofblocks/s          0                  0                       0\n",
      "   180  xfsaild/sda1             0                  0                       0\n",
      " 11039  jbd2/sda3-8              0                  0                       0\n",
      " 11040  ext4-rsv-conver          0                  0                       0\n",
      "   204  kworker/0:1H             0                  0                       0\n",
      " 24272  kworker/1:0H             0                  0                       0\n",
      "   220  kauditd                  0                  0                       0\n",
      " 29499  kworker/1:0              0                  0                       0\n",
      "   138  bioset                   0                  0                       0\n",
      " 30058  kworker/0:0              0                  0                       0\n",
      " 28595  kworker/1:2H             0                  0                       0\n",
      " 30684  kworker/u8:0             0                  0                       0\n",
      " 30706  kworker/1:1              0                  0                       0\n",
      " 31222  kworker/u8:2             0                  0                       0\n"
     ]
    }
   ],
   "source": [
    "from pathlib import Path\n",
    "import os\n",
    "import re\n",
    "\n",
    "pss = []\n",
    "private_page = []\n",
    "list_mem = []\n",
    "p = [*Path('/proc').glob('[0-9]*')]\n",
    "\n",
    "try:\n",
    "    pname = [(int(i.name),\n",
    "              i.joinpath('status').read_text().splitlines()[0].replace('Name:\\t','')) \n",
    "             for i in p]\n",
    "except (PermissionError,FileNotFoundError):\n",
    "    pass\n",
    "\n",
    "pname_dict = dict(pname)\n",
    "for pid_no in pname_dict:\n",
    "  try:\n",
    "    osmaps = Path('/proc/'+str(pid_no)+'/smaps')    \n",
    "    for text in osmaps.read_text().splitlines():\n",
    "        if re.match(r'^Pss', text):\n",
    "            pss.append(int(text.split()[1]))\n",
    "        if re.match(r'^Private_(Clean|Dirty)',text):\n",
    "            private_page.append(int(text.split()[1]))\n",
    "    Pss = round(sum(pss)/1024)\n",
    "    Private = round(sum(private_page)/1024)\n",
    "    Shared = Pss - Private\n",
    "    Memory_Usage = Private + Shared\n",
    "    pss = []\n",
    "    private_page = []\n",
    "    list_mem += [[pid_no,pname_dict.get(pid_no),Private,Shared,Memory_Usage]]\n",
    "\n",
    "  except (PermissionError,FileNotFoundError):\n",
    "    pass\n",
    "\n",
    "mem = sorted(list_mem,key = lambda x: x[4], reverse = True)\n",
    "print(\"{:>5} {:>9} {:>28} {:>19} {:>21}\".format(\n",
    "    \"PID\",\"Process\",\"Private-Memory(MiB)\",\"Shared-Memory(MiB)\",\"Meomory-Usage(MiB)\"))\n",
    "print('*'*86)\n",
    "for pid,comm,prim,shm,memu in mem:\n",
    "  print(\"{:6d}  {:<15}  {:>9}  {:>17}  {:>22}\".format(pid,comm,prim,shm,memu))"
   ]
  },
  {
   "cell_type": "markdown",
   "metadata": {},
   "source": [
    "### Find memory usage of particular process using Python"
   ]
  },
  {
   "cell_type": "code",
   "execution_count": 482,
   "metadata": {
    "scrolled": true
   },
   "outputs": [
    {
     "name": "stdout",
     "output_type": "stream",
     "text": [
      "Enter Process id: 1837\n",
      "Pss: 24 MiB\n",
      "Private: 21 MiB\n",
      "Shared: 3 MiB\n",
      "Memory_Usage: 24 MiB\n"
     ]
    }
   ],
   "source": [
    "from pathlib import Path\n",
    "import re\n",
    "\n",
    "pss = []\n",
    "private_page = []\n",
    "inp = int(input('Enter Process id: '))\n",
    "osmaps = Path('/proc/'+str(inp)+'/smaps')    \n",
    "for text in osmaps.read_text().splitlines():\n",
    "    if re.match(r'^Pss', text):\n",
    "        pss.append(int(text.split()[1]))\n",
    "    if re.match(r'^Private_(Clean|Dirty)',text):\n",
    "        private_page.append(int(text.split()[1]))\n",
    "\n",
    "Pss = round(sum(pss)/1024)\n",
    "Private = round(sum(private_page)/1024)\n",
    "Shared = Pss - Private\n",
    "Memory_Usage = Private + Shared\n",
    "print('Pss:', Pss,'MiB')\n",
    "print('Private:', Private,'MiB')\n",
    "print('Shared:', Shared,'MiB')\n",
    "print('Memory_Usage:', Memory_Usage,'MiB')"
   ]
  },
  {
   "cell_type": "markdown",
   "metadata": {},
   "source": [
    "### How to find tamil unicode character?"
   ]
  },
  {
   "cell_type": "code",
   "execution_count": 502,
   "metadata": {
    "scrolled": true
   },
   "outputs": [
    {
     "data": {
      "text/plain": [
       "{'அ': '0xb85',\n",
       " 'ஆ': '0xb86',\n",
       " 'இ': '0xb87',\n",
       " 'ஈ': '0xb88',\n",
       " 'உ': '0xb89',\n",
       " 'ஊ': '0xb8a',\n",
       " 'எ': '0xb8e',\n",
       " 'ஏ': '0xb8f',\n",
       " 'ஐ': '0xb90',\n",
       " 'ஒ': '0xb92',\n",
       " 'ஓ': '0xb93',\n",
       " 'ஔ': '0xb94'}"
      ]
     },
     "execution_count": 502,
     "metadata": {},
     "output_type": "execute_result"
    }
   ],
   "source": [
    "tamil = ['அ', 'ஆ', 'இ', 'ஈ', 'உ', 'ஊ', 'எ', 'ஏ', 'ஐ', 'ஒ', 'ஓ', 'ஔ']\n",
    "{x:hex(ord(x)) for x in tamil}"
   ]
  },
  {
   "cell_type": "markdown",
   "metadata": {},
   "source": [
    "### How to exchange word?"
   ]
  },
  {
   "cell_type": "code",
   "execution_count": 1,
   "metadata": {
    "scrolled": true
   },
   "outputs": [
    {
     "name": "stdout",
     "output_type": "stream",
     "text": [
      "micheal manavalan\n"
     ]
    }
   ],
   "source": [
    "%%bash\n",
    "\n",
    "n=(manavalan micheal)\n",
    "echo \"${n[1]} ${n[0]}\""
   ]
  },
  {
   "cell_type": "code",
   "execution_count": 5,
   "metadata": {
    "scrolled": true
   },
   "outputs": [
    {
     "name": "stdout",
     "output_type": "stream",
     "text": [
      "micheal manavalan\n"
     ]
    }
   ],
   "source": [
    "%%python3\n",
    "\n",
    "n = 'manavalan micheal'\n",
    "n = n.split()\n",
    "print(n[1], n[0])"
   ]
  },
  {
   "cell_type": "markdown",
   "metadata": {},
   "source": [
    "### epoc time"
   ]
  },
  {
   "cell_type": "code",
   "execution_count": 11,
   "metadata": {
    "scrolled": true
   },
   "outputs": [
    {
     "name": "stdout",
     "output_type": "stream",
     "text": [
      "This is epoc or Unix Time:\n",
      " 1549184984.0521154\n",
      "Coverted epoc time to current time:\n",
      " Sun Feb  3 14:39:44 2019\n"
     ]
    }
   ],
   "source": [
    "import time\n",
    "\n",
    "print('This is epoc or Unix Time:\\n',time.time())\n",
    "print('Coverted epoc time to current time:\\n',time.ctime(time.time()))"
   ]
  },
  {
   "cell_type": "markdown",
   "metadata": {},
   "source": [
    "### How to use \"or\" and \"if\" in variable assignment?"
   ]
  },
  {
   "cell_type": "code",
   "execution_count": 12,
   "metadata": {
    "scrolled": true
   },
   "outputs": [
    {
     "data": {
      "text/plain": [
       "'Manavalan'"
      ]
     },
     "execution_count": 12,
     "metadata": {},
     "output_type": "execute_result"
    }
   ],
   "source": [
    "firstname = 'Manavalan'\n",
    "lastname = 'Micheal'\n",
    "\n",
    "name = firstname or lastname\n",
    "name"
   ]
  },
  {
   "cell_type": "code",
   "execution_count": 13,
   "metadata": {
    "scrolled": true
   },
   "outputs": [
    {
     "data": {
      "text/plain": [
       "'Micheal'"
      ]
     },
     "execution_count": 13,
     "metadata": {},
     "output_type": "execute_result"
    }
   ],
   "source": [
    "firstname = ''\n",
    "lastname = 'Micheal'\n",
    "\n",
    "name = firstname or lastname\n",
    "name"
   ]
  },
  {
   "cell_type": "code",
   "execution_count": 15,
   "metadata": {
    "scrolled": true
   },
   "outputs": [
    {
     "data": {
      "text/plain": [
       "'Manavalan'"
      ]
     },
     "execution_count": 15,
     "metadata": {},
     "output_type": "execute_result"
    }
   ],
   "source": [
    "firstname = 'Manavalan'\n",
    "lastname = ''\n",
    "\n",
    "name = firstname or lastname\n",
    "name"
   ]
  },
  {
   "cell_type": "code",
   "execution_count": 16,
   "metadata": {
    "scrolled": true
   },
   "outputs": [
    {
     "data": {
      "text/plain": [
       "'Manavalan'"
      ]
     },
     "execution_count": 16,
     "metadata": {},
     "output_type": "execute_result"
    }
   ],
   "source": [
    "firstname = 'Manavalan'\n",
    "lastname = 'Micheal'\n",
    "\n",
    "name = firstname if len(firstname) > 0 else lastname\n",
    "name"
   ]
  },
  {
   "cell_type": "code",
   "execution_count": 17,
   "metadata": {
    "scrolled": true
   },
   "outputs": [
    {
     "data": {
      "text/plain": [
       "'Micheal'"
      ]
     },
     "execution_count": 17,
     "metadata": {},
     "output_type": "execute_result"
    }
   ],
   "source": [
    "firstname = ''\n",
    "lastname = 'Micheal'\n",
    "\n",
    "name = firstname if len(firstname) > 0 else lastname\n",
    "name"
   ]
  },
  {
   "cell_type": "markdown",
   "metadata": {},
   "source": [
    "### Data Backup"
   ]
  },
  {
   "cell_type": "code",
   "execution_count": 18,
   "metadata": {
    "scrolled": true
   },
   "outputs": [
    {
     "name": "stdout",
     "output_type": "stream",
     "text": [
      "Below files are moved.\n"
     ]
    }
   ],
   "source": [
    "#!/usr/bin/python3\n",
    "\n",
    "import os\n",
    "import os.path\n",
    "import glob\n",
    "from datetime import datetime\n",
    "import shutil\n",
    "\n",
    "today = datetime.today()\n",
    "print('Below files are moved.')\n",
    "for i in glob.glob('/home/joe/Temp/*'):\n",
    "    mtime = datetime.fromtimestamp(os.stat(i)[8])\n",
    "    filetime = mtime - today\n",
    "    if filetime.days <= -30:\n",
    "        print('{:<20} older {} days'.format(os.path.basename(i),abs(filetime.days)))\n",
    "        shutil.move(i,'/home/joe/Backup/')\n"
   ]
  },
  {
   "cell_type": "markdown",
   "metadata": {},
   "source": [
    "## Data Backup"
   ]
  },
  {
   "cell_type": "markdown",
   "metadata": {},
   "source": [
    "### How to take backup older files?\n",
    "\n",
    "If you enter days, it will take backup."
   ]
  },
  {
   "cell_type": "code",
   "execution_count": 42,
   "metadata": {
    "scrolled": true
   },
   "outputs": [
    {
     "name": "stdout",
     "output_type": "stream",
     "text": [
      "'/home/mana/Temp/task2/Antiloop.mp3' -> '/home/mana/Backup/Antiloop.mp3'\n",
      "'/home/mana/Temp/task2/assets.svg' -> '/home/mana/Backup/assets.svg'\n",
      "'/home/mana/Temp/task2/render-bits.sh' -> '/home/mana/Backup/render-bits.sh'\n",
      "'/home/mana/Temp/task2/ring.txt' -> '/home/mana/Backup/ring.txt'\n"
     ]
    }
   ],
   "source": [
    "%%bash\n",
    "\n",
    "find /home/mana/Temp/task2 -type f -mtime +10 -print0 | xargs -0 -n1 mv -vt /home/mana/Backup/"
   ]
  },
  {
   "cell_type": "code",
   "execution_count": 43,
   "metadata": {
    "scrolled": true
   },
   "outputs": [
    {
     "name": "stdout",
     "output_type": "stream",
     "text": [
      "Enter how many days before:10\n",
      "Below files are Backup.\n",
      "***********************\n",
      "Antiloop.mp3 older 1437 days.\n",
      "assets.svg older 1031 days.\n",
      "render-bits.sh older 1031 days.\n",
      "ring.txt older 15 days.\n"
     ]
    }
   ],
   "source": [
    "%%python3\n",
    "\n",
    "from datetime import date\n",
    "from pathlib import Path\n",
    "import shutil\n",
    "\n",
    "inp = int(input('Enter how many days before:'))\n",
    "p = Path('/home/mana/Temp/task2') ## This is source destination \n",
    "files = [(i,(date.today() - date.fromtimestamp(i.stat()[-2])).days) \n",
    " for i in p.iterdir()]\n",
    "\n",
    "print('Below files are Backup.')\n",
    "print('*'*23)\n",
    "for x,y in files:\n",
    "    if y >= inp:\n",
    "        print(x.name, 'older',y,'days.')\n",
    "        shutil.move(str(x),'/home/mana/Backup/')  ## This is Backup destination "
   ]
  },
  {
   "cell_type": "markdown",
   "metadata": {},
   "source": [
    "### epoc time of file\n"
   ]
  },
  {
   "cell_type": "raw",
   "metadata": {},
   "source": [
    "This program shows file epoc times such as atime,mtime,ctime.\n",
    "File access, modification, change time keeps in epoc time."
   ]
  },
  {
   "cell_type": "code",
   "execution_count": 69,
   "metadata": {
    "scrolled": true
   },
   "outputs": [
    {
     "name": "stdout",
     "output_type": "stream",
     "text": [
      "Antiloop.mp3, --> (1548596061,1425048812,1549201888)\n",
      "assets.svg, --> (1549201407,1460070594,1549201888)\n",
      "render-bits.sh, --> (1548246571,1460070594,1549201888)\n",
      "ring.txt, --> (1549201862,1547917123,1549201888)\n"
     ]
    }
   ],
   "source": [
    "%%bash\n",
    "\n",
    "cd /home/mana/Backup/\n",
    "stat -c \"%n, --> (%X,%Y,%Z)\" *"
   ]
  },
  {
   "cell_type": "code",
   "execution_count": 66,
   "metadata": {
    "scrolled": true
   },
   "outputs": [
    {
     "name": "stdout",
     "output_type": "stream",
     "text": [
      "Antiloop.mp3 --> (1548596061, 1425048812, 1549201888)\n",
      "assets.svg --> (1549201407, 1460070594, 1549201888)\n",
      "render-bits.sh --> (1548246571, 1460070594, 1549201888)\n",
      "ring.txt --> (1549201862, 1547917123, 1549201888)\n"
     ]
    }
   ],
   "source": [
    "%%python3\n",
    "\n",
    "import os\n",
    "\n",
    "for i in os.scandir('/home/mana/Backup/'):\n",
    "    print(i.name,'-->',i.stat()[-3:])"
   ]
  },
  {
   "cell_type": "markdown",
   "metadata": {},
   "source": [
    "### One of similar functionalties bash and python"
   ]
  },
  {
   "cell_type": "code",
   "execution_count": 78,
   "metadata": {
    "scrolled": true
   },
   "outputs": [
    {
     "name": "stdout",
     "output_type": "stream",
     "text": [
      "Ubuntu Linux\n"
     ]
    }
   ],
   "source": [
    "%%bash\n",
    "\n",
    "flavor=\"Ubuntu\"\n",
    "os=\"Linux\"\n",
    "echo -n \"$flavor\"; echo \" $os\""
   ]
  },
  {
   "cell_type": "code",
   "execution_count": 79,
   "metadata": {
    "scrolled": true
   },
   "outputs": [
    {
     "name": "stdout",
     "output_type": "stream",
     "text": [
      "Ubuntu Linux\n"
     ]
    }
   ],
   "source": [
    "flavor = 'Ubuntu'\n",
    "os = 'Linux'\n",
    "\n",
    "print(flavor, end = ' '); print(os)"
   ]
  },
  {
   "cell_type": "markdown",
   "metadata": {},
   "source": [
    "### How to use Linux command in Python?\n",
    "Use subprocess Module."
   ]
  },
  {
   "cell_type": "code",
   "execution_count": 165,
   "metadata": {
    "scrolled": true
   },
   "outputs": [
    {
     "data": {
      "text/plain": [
       "['              total        used        free      shared  buff/cache   available',\n",
       " 'Mem:           2.9G        1.3G        696M        233M        984M        1.1G',\n",
       " 'Swap:          1.2G        116M        1.1G']"
      ]
     },
     "execution_count": 165,
     "metadata": {},
     "output_type": "execute_result"
    }
   ],
   "source": [
    "from subprocess import check_output\n",
    "\n",
    "command = 'free -h'\n",
    "check_output(command.split()).decode().splitlines()"
   ]
  },
  {
   "cell_type": "markdown",
   "metadata": {},
   "source": [
    "### What is day name of next year today date?"
   ]
  },
  {
   "cell_type": "code",
   "execution_count": 92,
   "metadata": {
    "scrolled": true
   },
   "outputs": [
    {
     "data": {
      "text/plain": [
       "'Monday'"
      ]
     },
     "execution_count": 92,
     "metadata": {},
     "output_type": "execute_result"
    }
   ],
   "source": [
    "from datetime import date, timedelta\n",
    "\n",
    "(date.today() + timedelta(days = 365)).strftime(\"%A\")"
   ]
  },
  {
   "cell_type": "code",
   "execution_count": 100,
   "metadata": {
    "scrolled": true
   },
   "outputs": [
    {
     "data": {
      "text/plain": [
       "'Monday'"
      ]
     },
     "execution_count": 100,
     "metadata": {},
     "output_type": "execute_result"
    }
   ],
   "source": [
    "from datetime import date\n",
    "\n",
    "date.today().replace(year=2020).strftime(\"%A\")"
   ]
  },
  {
   "cell_type": "markdown",
   "metadata": {},
   "source": [
    "### Multiple line comment in Bash and Python"
   ]
  },
  {
   "cell_type": "code",
   "execution_count": 162,
   "metadata": {
    "scrolled": true
   },
   "outputs": [
    {
     "name": "stdout",
     "output_type": "stream",
     "text": [
      "Who are you:\n",
      "This is: mana\n",
      "Tell what os you use:\n",
      "I am using: Linux\n"
     ]
    }
   ],
   "source": [
    "%%bash\n",
    "\n",
    ": '''\n",
    "This is tell your self.\n",
    "whoami\n",
    "'''\n",
    "\n",
    "echo \"Who are you:\"\n",
    "echo \"This is: $(whoami)\"\n",
    "\n",
    "echo \"Tell what os you use:\"\n",
    "echo \"I am using: $(uname)\""
   ]
  },
  {
   "cell_type": "code",
   "execution_count": 161,
   "metadata": {
    "scrolled": true
   },
   "outputs": [
    {
     "name": "stdout",
     "output_type": "stream",
     "text": [
      "Who are you:\n",
      "This is: mana\n",
      "Tell what os you use:\n",
      "I am using:  Linux\n"
     ]
    }
   ],
   "source": [
    "%%python3\n",
    "\n",
    "from getpass import getuser\n",
    "import os\n",
    "\n",
    "'''\n",
    "This is tell your self.\n",
    "whoami\n",
    "'''\n",
    "\n",
    "print('Who are you:')\n",
    "print('This is:', getuser())\n",
    "\n",
    "print(\"Tell what os you use:\")\n",
    "print(\"I am using: \", os.uname()[0])"
   ]
  },
  {
   "cell_type": "code",
   "execution_count": 169,
   "metadata": {
    "scrolled": true
   },
   "outputs": [
    {
     "name": "stdout",
     "output_type": "stream",
     "text": [
      " 04:28:40 up 2 days, 15:26,  5 users,  load average: 1.63, 1.62, 1.41\r\n"
     ]
    }
   ],
   "source": [
    "!uptime"
   ]
  },
  {
   "cell_type": "code",
   "execution_count": 164,
   "metadata": {
    "scrolled": true
   },
   "outputs": [
    {
     "name": "stdout",
     "output_type": "stream",
     "text": [
      " 02:48:34 up 2 days, 13:46,  4 users,  load average: 1.25, 1.13, 1.19\r\n",
      "USER     TTY      FROM             LOGIN@   IDLE   JCPU   PCPU WHAT\r\n",
      "mana     tty7     :0               Fri13    2days  1:16m  3.03s mate-session\r\n",
      "mana     pts/1    :0               Fri13    2days  3:37   3:37  /usr/bin/python\r\n",
      "mana     pts/2    :0               Fri13   14:41m  1:29   1:28  /usr/bin/python\r\n",
      "mana     pts/3    :0               15:27    2:21m  0.16s  0.16s bash\r\n"
     ]
    }
   ],
   "source": [
    "!w"
   ]
  },
  {
   "cell_type": "markdown",
   "metadata": {},
   "source": [
    "### How to exclude specific directories from copying?"
   ]
  },
  {
   "cell_type": "code",
   "execution_count": 259,
   "metadata": {
    "scrolled": true
   },
   "outputs": [
    {
     "name": "stdout",
     "output_type": "stream",
     "text": [
      "total 7964\n",
      "-rwxr-xr-x 1 mana mana 4179875 Feb 27  2015 Antiloop.mp3\n",
      "-rw-rw-r-- 1 mana mana 3366563 Jan 27 19:24 Antiloop.mp4\n",
      "-rw-rw-r-- 1 mana mana  605463 Oct  2  2017 remix.zip\n",
      "drwxrwxr-x 2 mana mana      86 Jan 20 01:27 ring\n",
      "drwxrwxr-x 3 mana mana      34 Jan 28 00:58 task1\n",
      "drwxrwxr-x 3 mana mana     111 Feb  4 13:05 task2\n",
      "drwxrwxr-x 2 mana mana      22 Feb  4 13:59 Theme\n"
     ]
    }
   ],
   "source": [
    "%%bash \n",
    "\n",
    "ls -l ~/Temp"
   ]
  },
  {
   "cell_type": "code",
   "execution_count": null,
   "metadata": {
    "scrolled": true
   },
   "outputs": [],
   "source": [
    "%%bash\n",
    "\n",
    "cd ~/Temp  ## Go to specified dir\n",
    "cp -r !(Theme)  ~/Backup  ## This command exclude Theme dir"
   ]
  },
  {
   "cell_type": "code",
   "execution_count": 260,
   "metadata": {
    "scrolled": true
   },
   "outputs": [],
   "source": [
    "\n",
    "import os\n",
    "import shutil \n",
    "\n",
    "src = '/home/mana/Temp'\n",
    "dst = '/home/mana/Backup/'\n",
    "\n",
    "for i in os.listdir(src):\n",
    "    if i != 'Theme':\n",
    "        jsrc = os.path.join(src, i)\n",
    "        jdst =os.path.join(dst, i)\n",
    "        if os.path.isdir(jsrc):\n",
    "            shutil.copytree(jsrc, jdst)\n",
    "        else:\n",
    "            shutil.copy(jsrc, jdst)"
   ]
  },
  {
   "cell_type": "markdown",
   "metadata": {},
   "source": [
    "### How to get this month calendar?"
   ]
  },
  {
   "cell_type": "code",
   "execution_count": 263,
   "metadata": {
    "scrolled": true
   },
   "outputs": [
    {
     "name": "stdout",
     "output_type": "stream",
     "text": [
      "   February 2019      \n",
      "Su Mo Tu We Th Fr Sa  \n",
      "                1  2  \n",
      " 3 _\b _\b4  5  6  7  8  9  \n",
      "10 11 12 13 14 15 16  \n",
      "17 18 19 20 21 22 23  \n",
      "24 25 26 27 28        \n",
      "                      \n"
     ]
    }
   ],
   "source": [
    "%%bash\n",
    "\n",
    "cal 2 2019 "
   ]
  },
  {
   "cell_type": "code",
   "execution_count": 273,
   "metadata": {
    "scrolled": true
   },
   "outputs": [
    {
     "name": "stdout",
     "output_type": "stream",
     "text": [
      "   February 2019\n",
      "Mo Tu We Th Fr Sa Su\n",
      "             1  2  3\n",
      " 4  5  6  7  8  9 10\n",
      "11 12 13 14 15 16 17\n",
      "18 19 20 21 22 23 24\n",
      "25 26 27 28\n",
      "\n"
     ]
    }
   ],
   "source": [
    "%%python3\n",
    "\n",
    "import calendar\n",
    "\n",
    "print(calendar.month(2019,2))"
   ]
  },
  {
   "cell_type": "markdown",
   "metadata": {},
   "source": [
    "### How to find leap year or not?"
   ]
  },
  {
   "cell_type": "code",
   "execution_count": 418,
   "metadata": {
    "scrolled": true
   },
   "outputs": [
    {
     "name": "stdout",
     "output_type": "stream",
     "text": [
      "No.This year not leap year\n",
      "Yes. This year leap Year.\n"
     ]
    }
   ],
   "source": [
    "%%bash\n",
    "\n",
    "cal 2 2019 | awk 'NR == 3, NR == 7' | grep -Po \"\\d{2}\" | tail -n1 | \\\n",
    "awk '{if ($1 == '29') print \"Yes. This year leap Year.\";\n",
    "else print \"No.This year not leap year\"}' \n",
    "\n",
    "cal 2 2020 | awk 'NR == 3, NR == 7' | grep -Po \"\\d{2}\" | tail -n1 | \\\n",
    "awk '{if ($1 == '29') print \"Yes. This year leap Year.\";\n",
    "else print \"No.This year not leap year\"}' "
   ]
  },
  {
   "cell_type": "code",
   "execution_count": 414,
   "metadata": {
    "scrolled": true
   },
   "outputs": [
    {
     "name": "stdout",
     "output_type": "stream",
     "text": [
      "*************************\n",
      "No. 2019 is not leap year.\n",
      "\n",
      "*************************\n",
      "Yes. 2020 is leap year.\n",
      "\n",
      "*************************\n"
     ]
    }
   ],
   "source": [
    "%%python3\n",
    "\n",
    "import calendar as cal\n",
    "\n",
    "y = [2019, 2020]\n",
    "\n",
    "print('*'*25)\n",
    "for i in y:\n",
    "    if cal.isleap(i):\n",
    "        print('Yes.', repr(i), 'is leap year.\\n')\n",
    "#        print(cal.month(i,2))\n",
    "        print('*'*25)\n",
    "    else:\n",
    "        print('No.', repr(i), 'is not leap year.\\n')\n",
    "#        print(cal.month(i,2))\n",
    "        print('*'*25)"
   ]
  },
  {
   "cell_type": "markdown",
   "metadata": {},
   "source": [
    "### How to take incremental backup Using Python?"
   ]
  },
  {
   "cell_type": "code",
   "execution_count": 216,
   "metadata": {
    "scrolled": true
   },
   "outputs": [
    {
     "name": "stdout",
     "output_type": "stream",
     "text": [
      "[] ['new file'] []\n"
     ]
    }
   ],
   "source": [
    "from pathlib import Path\n",
    "import os\n",
    "import filecmp\n",
    "import shutil\n",
    "\n",
    "source = Path('/home/mana/test1')\n",
    "dest = Path('/home/mana/test2')\n",
    "\n",
    "filecmp.clear_cache()\n",
    "match, umatch, error = filecmp.cmpfiles(str(source), str(dest), \n",
    "                             [i.name for i in source.rglob('*')])\n",
    "print(match, umatch, error)\n",
    "for ef in error:\n",
    "    join = os.path.join(str(source),ef)\n",
    "    if os.access(join, os.R_OK):\n",
    "        print(ef)\n",
    "        shutil.copy(join, str(dest))"
   ]
  },
  {
   "cell_type": "code",
   "execution_count": 367,
   "metadata": {
    "scrolled": true
   },
   "outputs": [
    {
     "name": "stdout",
     "output_type": "stream",
     "text": [
      "University-Name                                                              Region-Postion\n",
      "********************************************************************************************\n",
      " Auburn University                                                                 1   \n",
      " University of North Alabama                                                           \n",
      " University of Arkansas                                                            7   \n",
      " Arkansas State University                                                         8   \n",
      " Southern Arkansas University                                                      2   \n",
      " University of Arkansas at Monticello                                              2   \n",
      " Arkansas Tech University                                                          2   \n",
      " Harding University                                                                5   \n"
     ]
    }
   ],
   "source": [
    "import re\n",
    "\n",
    "l = [('Alabama[edit]\\n', 'Auburn (Auburn University)[1]\\n'),\n",
    " ('Alabama[edit]\\n', 'Florence (University of North Alabama)\\n'),\n",
    " ('Arkansas[edit]\\n', 'Fayetteville (University of Arkansas)[7]\\n'),\n",
    " ('Arkansas[edit]\\n', 'Jonesboro (Arkansas State University)[8]\\n'),\n",
    " ('Arkansas[edit]\\n', 'Magnolia (Southern Arkansas University)[2]\\n'),\n",
    " ('Arkansas[edit]\\n',\n",
    "  'Monticello (University of Arkansas at Monticello)[2]\\n'),\n",
    " ('Arkansas[edit]\\n', 'Russellville (Arkansas Tech University)[2]\\n'),\n",
    " ('Arkansas[edit]\\n', 'Searcy (Harding University)[5]\\n')]\n",
    "\n",
    "s = [' '.join(i[1].split()[1:]) for i in l]\n",
    "print('{} {:>75}'.format('University-Name', 'Region-Postion'))\n",
    "print('*'*92)\n",
    "\n",
    "for i in s:\n",
    "    f = re.sub(r'\\(|\\)|\\[|\\]',' ',str(i))\n",
    "    u = re.search(r'^.*[a-z]\\s',f).group()\n",
    "    n = ''.join(re.findall(r'\\d',i))\n",
    "    print('{:<80}{:^7}'.format(u,n))"
   ]
  },
  {
   "cell_type": "markdown",
   "metadata": {},
   "source": [
    "### List last 60 seconds modified directory"
   ]
  },
  {
   "cell_type": "code",
   "execution_count": 400,
   "metadata": {
    "scrolled": true
   },
   "outputs": [],
   "source": [
    "from datetime import datetime\n",
    "import os\n",
    "\n",
    "now = datetime.now()\n",
    "for i in os.scandir('/home/mana/Temp'):\n",
    "    mtime = i.stat()[-2]\n",
    "    sec = (now - datetime.fromtimestamp(mtime)).seconds\n",
    "    if sec < 60:\n",
    "        print(i.name,'directory modified before', sec, 'seconds.')"
   ]
  },
  {
   "cell_type": "markdown",
   "metadata": {},
   "source": [
    "### How to list attribute of module class?"
   ]
  },
  {
   "cell_type": "code",
   "execution_count": 402,
   "metadata": {
    "scrolled": true
   },
   "outputs": [
    {
     "data": {
      "text/plain": [
       "mappingproxy({'__add__': <slot wrapper '__add__' of 'datetime.date' objects>,\n",
       "              '__doc__': 'date(year, month, day) --> date object',\n",
       "              '__eq__': <slot wrapper '__eq__' of 'datetime.date' objects>,\n",
       "              '__format__': <method '__format__' of 'datetime.date' objects>,\n",
       "              '__ge__': <slot wrapper '__ge__' of 'datetime.date' objects>,\n",
       "              '__getattribute__': <slot wrapper '__getattribute__' of 'datetime.date' objects>,\n",
       "              '__gt__': <slot wrapper '__gt__' of 'datetime.date' objects>,\n",
       "              '__hash__': <slot wrapper '__hash__' of 'datetime.date' objects>,\n",
       "              '__le__': <slot wrapper '__le__' of 'datetime.date' objects>,\n",
       "              '__lt__': <slot wrapper '__lt__' of 'datetime.date' objects>,\n",
       "              '__ne__': <slot wrapper '__ne__' of 'datetime.date' objects>,\n",
       "              '__new__': <function date.__new__(*args, **kwargs)>,\n",
       "              '__radd__': <slot wrapper '__radd__' of 'datetime.date' objects>,\n",
       "              '__reduce__': <method '__reduce__' of 'datetime.date' objects>,\n",
       "              '__repr__': <slot wrapper '__repr__' of 'datetime.date' objects>,\n",
       "              '__rsub__': <slot wrapper '__rsub__' of 'datetime.date' objects>,\n",
       "              '__str__': <slot wrapper '__str__' of 'datetime.date' objects>,\n",
       "              '__sub__': <slot wrapper '__sub__' of 'datetime.date' objects>,\n",
       "              'ctime': <method 'ctime' of 'datetime.date' objects>,\n",
       "              'day': <attribute 'day' of 'datetime.date' objects>,\n",
       "              'fromordinal': <method 'fromordinal' of 'datetime.date' objects>,\n",
       "              'fromtimestamp': <method 'fromtimestamp' of 'datetime.date' objects>,\n",
       "              'isocalendar': <method 'isocalendar' of 'datetime.date' objects>,\n",
       "              'isoformat': <method 'isoformat' of 'datetime.date' objects>,\n",
       "              'isoweekday': <method 'isoweekday' of 'datetime.date' objects>,\n",
       "              'max': datetime.date(9999, 12, 31),\n",
       "              'min': datetime.date(1, 1, 1),\n",
       "              'month': <attribute 'month' of 'datetime.date' objects>,\n",
       "              'replace': <method 'replace' of 'datetime.date' objects>,\n",
       "              'resolution': datetime.timedelta(1),\n",
       "              'strftime': <method 'strftime' of 'datetime.date' objects>,\n",
       "              'timetuple': <method 'timetuple' of 'datetime.date' objects>,\n",
       "              'today': <method 'today' of 'datetime.date' objects>,\n",
       "              'toordinal': <method 'toordinal' of 'datetime.date' objects>,\n",
       "              'weekday': <method 'weekday' of 'datetime.date' objects>,\n",
       "              'year': <attribute 'year' of 'datetime.date' objects>})"
      ]
     },
     "execution_count": 402,
     "metadata": {},
     "output_type": "execute_result"
    }
   ],
   "source": [
    "from datetime import date\n",
    "\n",
    "d = date\n",
    "d.__dict__"
   ]
  },
  {
   "cell_type": "markdown",
   "metadata": {},
   "source": [
    "### How to find number character in string?"
   ]
  },
  {
   "cell_type": "code",
   "execution_count": 420,
   "metadata": {
    "scrolled": true
   },
   "outputs": [
    {
     "name": "stdout",
     "output_type": "stream",
     "text": [
      "4\n"
     ]
    }
   ],
   "source": [
    "%%bash\n",
    "\n",
    "word=\"mana\"\n",
    "echo ${#word}"
   ]
  },
  {
   "cell_type": "code",
   "execution_count": 422,
   "metadata": {
    "scrolled": true
   },
   "outputs": [
    {
     "name": "stdout",
     "output_type": "stream",
     "text": [
      "4\n"
     ]
    }
   ],
   "source": [
    "%%python3\n",
    "\n",
    "word=\"mana\"\n",
    "print(len(word))"
   ]
  },
  {
   "cell_type": "markdown",
   "metadata": {},
   "source": [
    "### How to find that which process use syslog file?"
   ]
  },
  {
   "cell_type": "code",
   "execution_count": 427,
   "metadata": {
    "scrolled": true
   },
   "outputs": [],
   "source": [
    "%%python3\n",
    "\n",
    "sudo fuser -v /var/log/syslog"
   ]
  },
  {
   "cell_type": "raw",
   "metadata": {},
   "source": [
    "OR"
   ]
  },
  {
   "cell_type": "code",
   "execution_count": 443,
   "metadata": {
    "scrolled": true
   },
   "outputs": [
    {
     "name": "stdout",
     "output_type": "stream",
     "text": [
      "rsyslogd\r\n"
     ]
    }
   ],
   "source": [
    "%%python3\n",
    "\n",
    "awk '/rsyslog/ {gsub(\":\",\"\");print $5}' /var/log/syslog"
   ]
  },
  {
   "cell_type": "code",
   "execution_count": 448,
   "metadata": {
    "scrolled": true
   },
   "outputs": [
    {
     "name": "stdout",
     "output_type": "stream",
     "text": [
      "rsyslogd\n"
     ]
    }
   ],
   "source": [
    "%%python3\n",
    "\n",
    "from pathlib import Path\n",
    "\n",
    "print(Path('/var/log/syslog').read_text().splitlines()[0]\\\n",
    ".split()[4].replace(':',''))"
   ]
  },
  {
   "cell_type": "markdown",
   "metadata": {},
   "source": [
    "### How to filter numbers only from sentence?"
   ]
  },
  {
   "cell_type": "code",
   "execution_count": 474,
   "metadata": {
    "scrolled": true
   },
   "outputs": [
    {
     "name": "stdout",
     "output_type": "stream",
     "text": [
      "4\n",
      "12\n"
     ]
    }
   ],
   "source": [
    "%%bash\n",
    "\n",
    "echo '4 Apples 12 Organges'  | grep -Po \"\\d+\""
   ]
  },
  {
   "cell_type": "code",
   "execution_count": 475,
   "metadata": {
    "scrolled": true
   },
   "outputs": [
    {
     "name": "stdout",
     "output_type": "stream",
     "text": [
      "4\n",
      "12\n"
     ]
    }
   ],
   "source": [
    "%%bash\n",
    "\n",
    "echo '4 Apples 12 Organges'  | grep -Po \"\\d{1,}\""
   ]
  },
  {
   "cell_type": "code",
   "execution_count": 479,
   "metadata": {
    "scrolled": true
   },
   "outputs": [
    {
     "name": "stdout",
     "output_type": "stream",
     "text": [
      "['4', '12']\n"
     ]
    }
   ],
   "source": [
    "%%python3\n",
    "\n",
    "import re\n",
    "\n",
    "fruits = '4 Apples 12 Organges '\n",
    "print(re.findall(r'\\d+',fruits))"
   ]
  },
  {
   "cell_type": "code",
   "execution_count": 477,
   "metadata": {
    "scrolled": true
   },
   "outputs": [
    {
     "name": "stdout",
     "output_type": "stream",
     "text": [
      "['4', '12']\n"
     ]
    }
   ],
   "source": [
    "%%python3\n",
    "\n",
    "import re\n",
    "\n",
    "fruits = '4 Apples 12 Organges '\n",
    "print(re.findall(r'\\d{1,}',fruits))"
   ]
  },
  {
   "cell_type": "markdown",
   "metadata": {},
   "source": [
    "### How to merge second line?"
   ]
  },
  {
   "cell_type": "code",
   "execution_count": 480,
   "metadata": {
    "scrolled": true
   },
   "outputs": [
    {
     "name": "stdout",
     "output_type": "stream",
     "text": [
      "4\n",
      "12\n"
     ]
    }
   ],
   "source": [
    "%%bash\n",
    "\n",
    "echo '4 Apples 12 Organges'  | grep -Po \"\\d{1,}\""
   ]
  },
  {
   "cell_type": "raw",
   "metadata": {},
   "source": [
    "Here i merge to single line."
   ]
  },
  {
   "cell_type": "code",
   "execution_count": 483,
   "metadata": {
    "scrolled": true
   },
   "outputs": [
    {
     "name": "stdout",
     "output_type": "stream",
     "text": [
      "4 12\n"
     ]
    }
   ],
   "source": [
    "%%bash\n",
    "\n",
    "echo '4 Apples 12 Organges'  | grep -Po \"\\d{1,}\" | sed 'N;s/\\n/ /'"
   ]
  },
  {
   "cell_type": "code",
   "execution_count": 484,
   "metadata": {
    "scrolled": true
   },
   "outputs": [
    {
     "name": "stdout",
     "output_type": "stream",
     "text": [
      "['4', '12']\n"
     ]
    }
   ],
   "source": [
    "%%python3\n",
    "\n",
    "import re\n",
    "\n",
    "fruits = '4 Apples 12 Organges '\n",
    "print(re.findall(r'\\d{1,}',fruits))"
   ]
  },
  {
   "cell_type": "raw",
   "metadata": {},
   "source": [
    "Here i merge list to single line"
   ]
  },
  {
   "cell_type": "code",
   "execution_count": 485,
   "metadata": {
    "scrolled": true
   },
   "outputs": [
    {
     "name": "stdout",
     "output_type": "stream",
     "text": [
      "4 12\n"
     ]
    }
   ],
   "source": [
    "%%python3\n",
    "\n",
    "import re\n",
    "\n",
    "fruits = '4 Apples 12 Organges '\n",
    "print(*re.findall(r'\\d{1,}',fruits), sep = ' ')"
   ]
  },
  {
   "cell_type": "markdown",
   "metadata": {},
   "source": [
    "### How to generate 8 random character?"
   ]
  },
  {
   "cell_type": "code",
   "execution_count": 8,
   "metadata": {
    "scrolled": true
   },
   "outputs": [
    {
     "name": "stdout",
     "output_type": "stream",
     "text": [
      "zi<I?+\f",
      "Y\n"
     ]
    }
   ],
   "source": [
    "%%python3\n",
    "\n",
    "from string import printable\n",
    "from random import choice\n",
    "\n",
    "print(*[choice(printable) for _ in range(8)], sep ='')\n"
   ]
  },
  {
   "cell_type": "code",
   "execution_count": 580,
   "metadata": {
    "scrolled": true
   },
   "outputs": [
    {
     "name": "stdout",
     "output_type": "stream",
     "text": [
      "xseFrk~4\n"
     ]
    }
   ],
   "source": [
    "%%bash\n",
    "\n",
    "head -c 500 /dev/urandom | tr -dc 'a-zA-Z0-9~!@#$%^&*_-' | fold -w 8  | head -1"
   ]
  },
  {
   "cell_type": "markdown",
   "metadata": {},
   "source": [
    "### How to generate 8 digit random number?"
   ]
  },
  {
   "cell_type": "code",
   "execution_count": 583,
   "metadata": {
    "scrolled": true
   },
   "outputs": [
    {
     "name": "stdout",
     "output_type": "stream",
     "text": [
      "95561376\n"
     ]
    }
   ],
   "source": [
    "%%bash\n",
    "\n",
    "head -c 500 /dev/urandom | tr -dc '0-9' | fold -w 8  | head -1"
   ]
  },
  {
   "cell_type": "code",
   "execution_count": 586,
   "metadata": {
    "scrolled": true
   },
   "outputs": [
    {
     "name": "stdout",
     "output_type": "stream",
     "text": [
      "91693767\n"
     ]
    }
   ],
   "source": [
    "from random import randint,choice\n",
    "\n",
    "n = [randint(1,9) for _ in range(1000)]\n",
    "print(*[choice(n) for _ in range(8)], sep ='')"
   ]
  },
  {
   "cell_type": "markdown",
   "metadata": {},
   "source": [
    "### How to write list items into csv file?"
   ]
  },
  {
   "cell_type": "code",
   "execution_count": 589,
   "metadata": {
    "scrolled": true
   },
   "outputs": [],
   "source": [
    "import csv\n",
    "\n",
    "l = ['MemTotal:        3090824 kB',\n",
    " 'MemFree:          635544 kB',\n",
    " 'MemAvailable:    1185740 kB']\n",
    "\n",
    "with open('/home/mana/mem.csv', 'w+') as opn:\n",
    "    for i in l:\n",
    "        opn.write(','.join(i.split())+'\\n')"
   ]
  },
  {
   "cell_type": "markdown",
   "metadata": {},
   "source": [
    "### How to print month name?"
   ]
  },
  {
   "cell_type": "code",
   "execution_count": 13,
   "metadata": {
    "scrolled": true
   },
   "outputs": [
    {
     "name": "stdout",
     "output_type": "stream",
     "text": [
      "\n",
      "January\n",
      "February\n",
      "March\n",
      "April\n",
      "May\n",
      "June\n",
      "July\n",
      "August\n",
      "September\n",
      "October\n",
      "November\n",
      "December\n"
     ]
    }
   ],
   "source": [
    "import calendar as cal\n",
    "\n",
    "print(*[*cal.month_name], sep = '\\n')"
   ]
  },
  {
   "cell_type": "code",
   "execution_count": 596,
   "metadata": {
    "scrolled": true
   },
   "outputs": [
    {
     "name": "stdout",
     "output_type": "stream",
     "text": [
      "January\n",
      "February\n",
      "March\n",
      "April\n",
      "May\n",
      "June\n",
      "July\n",
      "August\n",
      "September\n",
      "October\n",
      "November\n",
      "December\n"
     ]
    }
   ],
   "source": [
    "%%bash\n",
    "\n",
    "cal 2019 | grep -Po '[A-Za-z]{3,}'"
   ]
  },
  {
   "cell_type": "markdown",
   "metadata": {},
   "source": [
    "### How to rearrange month order? "
   ]
  },
  {
   "cell_type": "code",
   "execution_count": 634,
   "metadata": {
    "scrolled": true
   },
   "outputs": [],
   "source": [
    "mon = ['April',\n",
    " 'August',\n",
    " 'December',\n",
    " 'February',\n",
    " 'January',\n",
    " 'July',\n",
    " 'June',\n",
    " 'March',\n",
    " 'May',\n",
    " 'November',\n",
    " 'October',\n",
    " 'September']"
   ]
  },
  {
   "cell_type": "raw",
   "metadata": {},
   "source": [
    "Sample Answer:"
   ]
  },
  {
   "cell_type": "code",
   "execution_count": 635,
   "metadata": {
    "scrolled": true
   },
   "outputs": [
    {
     "data": {
      "text/plain": [
       "'January'"
      ]
     },
     "execution_count": 635,
     "metadata": {},
     "output_type": "execute_result"
    }
   ],
   "source": [
    "mon[4]"
   ]
  },
  {
   "cell_type": "markdown",
   "metadata": {},
   "source": [
    "### How to find dayname of particular date of year?"
   ]
  },
  {
   "cell_type": "raw",
   "metadata": {},
   "source": [
    "Date: 2018-12-25"
   ]
  },
  {
   "cell_type": "code",
   "execution_count": 637,
   "metadata": {
    "scrolled": true
   },
   "outputs": [
    {
     "data": {
      "text/plain": [
       "'Sunday'"
      ]
     },
     "execution_count": 637,
     "metadata": {},
     "output_type": "execute_result"
    }
   ],
   "source": [
    "import calendar as cal\n",
    "\n",
    "inx = cal.weekday(1977,4,17)\n",
    "cal.day_name[inx]"
   ]
  },
  {
   "cell_type": "markdown",
   "metadata": {},
   "source": [
    "### How to format string and number?"
   ]
  },
  {
   "cell_type": "code",
   "execution_count": 638,
   "metadata": {
    "scrolled": true
   },
   "outputs": [
    {
     "name": "stdout",
     "output_type": "stream",
     "text": [
      "January         31\n",
      "February        28\n",
      "March           31\n",
      "April           30\n",
      "May             31\n",
      "June            30\n",
      "July            31\n",
      "August          31\n",
      "September       30\n",
      "October         31\n",
      "November        30\n",
      "December        31\n"
     ]
    }
   ],
   "source": [
    "import calendar as cal\n",
    "\n",
    "for i in range(1,13):\n",
    "    print('{:<15} {}'.format(cal.month_name[i],cal.monthrange(2019,i)[1]))"
   ]
  },
  {
   "cell_type": "markdown",
   "metadata": {},
   "source": [
    "### How find directory or not?"
   ]
  },
  {
   "cell_type": "code",
   "execution_count": 696,
   "metadata": {
    "scrolled": true
   },
   "outputs": [
    {
     "name": "stdout",
     "output_type": "stream",
     "text": [
      "Yes.This is directory\n"
     ]
    }
   ],
   "source": [
    "%%bash \n",
    "\n",
    "if [ -d /home/mana/Temp/ ]\n",
    "then\n",
    "echo \"Yes.This is directory\"\n",
    "fi"
   ]
  },
  {
   "cell_type": "code",
   "execution_count": 692,
   "metadata": {
    "scrolled": true
   },
   "outputs": [
    {
     "name": "stdout",
     "output_type": "stream",
     "text": [
      "Yes. This is directory\n"
     ]
    }
   ],
   "source": [
    "%%python3\n",
    "\n",
    "import os\n",
    "\n",
    "if os.path.isdir('/home/mana/Temp/'):\n",
    "    print('Yes. This is directory')"
   ]
  },
  {
   "cell_type": "markdown",
   "metadata": {},
   "source": [
    "### How to unpack generator without loop?"
   ]
  },
  {
   "cell_type": "code",
   "execution_count": 698,
   "metadata": {
    "scrolled": true
   },
   "outputs": [
    {
     "name": "stdout",
     "output_type": "stream",
     "text": [
      "<class 'generator'>\n"
     ]
    },
    {
     "data": {
      "text/plain": [
       "[0, 1, 2, 3, 4, 5, 6, 7, 8, 9]"
      ]
     },
     "execution_count": 698,
     "metadata": {},
     "output_type": "execute_result"
    }
   ],
   "source": [
    "g = (i for i in range(10))\n",
    "\n",
    "print(type(g))\n",
    "[*g]"
   ]
  },
  {
   "cell_type": "markdown",
   "metadata": {},
   "source": [
    "### Hello World!!!"
   ]
  },
  {
   "cell_type": "code",
   "execution_count": 701,
   "metadata": {
    "scrolled": true
   },
   "outputs": [
    {
     "name": "stdout",
     "output_type": "stream",
     "text": [
      "Hello World.\n",
      "Hello World\n"
     ]
    }
   ],
   "source": [
    "%%bash\n",
    "\n",
    "echo \"Hello World.\"\n",
    "echo 'Hello World'"
   ]
  },
  {
   "cell_type": "code",
   "execution_count": 700,
   "metadata": {
    "scrolled": true
   },
   "outputs": [
    {
     "name": "stdout",
     "output_type": "stream",
     "text": [
      "Hello World.\n"
     ]
    }
   ],
   "source": [
    "%%python3\n",
    "\n",
    "print(\"Hello World.\")\n",
    "print('Hello World.')"
   ]
  },
  {
   "cell_type": "markdown",
   "metadata": {},
   "source": [
    "### How to print A..Z?"
   ]
  },
  {
   "cell_type": "code",
   "execution_count": 1,
   "metadata": {
    "scrolled": true
   },
   "outputs": [
    {
     "name": "stdout",
     "output_type": "stream",
     "text": [
      "A B C D E F G H I J K L M N O P Q R S T U V W X Y Z\n"
     ]
    }
   ],
   "source": [
    "%%bash\n",
    "\n",
    "echo {A..Z}"
   ]
  },
  {
   "cell_type": "code",
   "execution_count": 11,
   "metadata": {
    "scrolled": true
   },
   "outputs": [
    {
     "data": {
      "text/plain": [
       "'ABCDEFGHIJKLMNOPQRSTUVWXYZ'"
      ]
     },
     "execution_count": 11,
     "metadata": {},
     "output_type": "execute_result"
    }
   ],
   "source": [
    "from string import printable\n",
    "\n",
    "printable[36:62]"
   ]
  },
  {
   "cell_type": "markdown",
   "metadata": {},
   "source": [
    "### How to print a..z?"
   ]
  },
  {
   "cell_type": "code",
   "execution_count": 12,
   "metadata": {
    "scrolled": true
   },
   "outputs": [
    {
     "name": "stdout",
     "output_type": "stream",
     "text": [
      "a b c d e f g h i j k l m n o p q r s t u v w x y z\n"
     ]
    }
   ],
   "source": [
    "%%bash\n",
    "\n",
    "echo {a..z}"
   ]
  },
  {
   "cell_type": "code",
   "execution_count": 17,
   "metadata": {
    "scrolled": true
   },
   "outputs": [
    {
     "data": {
      "text/plain": [
       "'abcdefghijklmnopqrstuvwxyz'"
      ]
     },
     "execution_count": 17,
     "metadata": {},
     "output_type": "execute_result"
    }
   ],
   "source": [
    "from string import printable\n",
    "\n",
    "printable[10:36]"
   ]
  },
  {
   "cell_type": "markdown",
   "metadata": {},
   "source": [
    "### How to print numbers?"
   ]
  },
  {
   "cell_type": "code",
   "execution_count": 22,
   "metadata": {
    "scrolled": true
   },
   "outputs": [
    {
     "name": "stdout",
     "output_type": "stream",
     "text": [
      "0 1 2 3 4 5 6 7 8 9\n"
     ]
    }
   ],
   "source": [
    "%%bash\n",
    "\n",
    "echo {0..9}"
   ]
  },
  {
   "cell_type": "code",
   "execution_count": 21,
   "metadata": {
    "scrolled": true
   },
   "outputs": [
    {
     "name": "stdout",
     "output_type": "stream",
     "text": [
      "0 1 2 3 4 5 6 7 8 9 "
     ]
    }
   ],
   "source": [
    "from string import printable\n",
    "\n",
    "for i in printable[0:10]:\n",
    "    print(i, end = ' ')"
   ]
  },
  {
   "cell_type": "markdown",
   "metadata": {},
   "source": [
    "### How to get reminder in Bash and Python?"
   ]
  },
  {
   "cell_type": "code",
   "execution_count": 23,
   "metadata": {
    "scrolled": true
   },
   "outputs": [
    {
     "name": "stdout",
     "output_type": "stream",
     "text": [
      "1\n"
     ]
    }
   ],
   "source": [
    "%%bash\n",
    "\n",
    "echo $((10%3))"
   ]
  },
  {
   "cell_type": "code",
   "execution_count": 27,
   "metadata": {
    "scrolled": true
   },
   "outputs": [
    {
     "name": "stdout",
     "output_type": "stream",
     "text": [
      "1\n"
     ]
    }
   ],
   "source": [
    "%%python3\n",
    "\n",
    "print(10%3)"
   ]
  },
  {
   "cell_type": "code",
   "execution_count": 28,
   "metadata": {
    "scrolled": true
   },
   "outputs": [
    {
     "name": "stdout",
     "output_type": "stream",
     "text": [
      " 17:42:43 up 1 day, 13:34,  3 users,  load average: 1.18, 0.48, 0.55\r\n"
     ]
    }
   ],
   "source": [
    "!uptime"
   ]
  },
  {
   "cell_type": "markdown",
   "metadata": {},
   "source": [
    "### How to create line number?"
   ]
  },
  {
   "cell_type": "code",
   "execution_count": 4,
   "metadata": {
    "scrolled": true
   },
   "outputs": [
    {
     "name": "stdout",
     "output_type": "stream",
     "text": [
      "     1.Redhat \n",
      "     2.Ubuntu \n",
      "     3.Centos\n"
     ]
    }
   ],
   "source": [
    "%%bash\n",
    "\n",
    "echo -e \"Redhat \\nUbuntu \\nCentos\" | nl -s."
   ]
  },
  {
   "cell_type": "code",
   "execution_count": 17,
   "metadata": {
    "scrolled": true
   },
   "outputs": [
    {
     "name": "stdout",
     "output_type": "stream",
     "text": [
      "1.Redhat\n",
      "2.Ubuntu\n",
      "3.Centos\n"
     ]
    }
   ],
   "source": [
    "%%python3\n",
    "\n",
    "st = \"Redhat \\nUbuntu \\nCentos\"\n",
    "\n",
    "for i,j in enumerate(st.split(),1):\n",
    "    print(str(i)+'.'+j)"
   ]
  },
  {
   "cell_type": "markdown",
   "metadata": {},
   "source": [
    "### How to reverse string ?"
   ]
  },
  {
   "cell_type": "code",
   "execution_count": 40,
   "metadata": {
    "scrolled": true
   },
   "outputs": [
    {
     "name": "stdout",
     "output_type": "stream",
     "text": [
      "nohtyP"
     ]
    }
   ],
   "source": [
    "%%bash\n",
    "\n",
    "echo \"Python\" | grep -o '.' | tac | tr -d '\\n'"
   ]
  },
  {
   "cell_type": "code",
   "execution_count": 42,
   "metadata": {
    "scrolled": true
   },
   "outputs": [
    {
     "name": "stdout",
     "output_type": "stream",
     "text": [
      "nohtyP\n"
     ]
    }
   ],
   "source": [
    "%%python3\n",
    "\n",
    "st = 'Python'\n",
    "print(st[::-1])"
   ]
  },
  {
   "cell_type": "code",
   "execution_count": 28,
   "metadata": {
    "scrolled": true
   },
   "outputs": [
    {
     "name": "stdout",
     "output_type": "stream",
     "text": [
      "nohtyP"
     ]
    }
   ],
   "source": [
    "%%python3\n",
    "\n",
    "st = 'Python'\n",
    "\n",
    "i = len(st) - 1\n",
    "while i >= 0:\n",
    "    print(st[i], end ='')\n",
    "    i -= 1"
   ]
  },
  {
   "cell_type": "code",
   "execution_count": 71,
   "metadata": {
    "scrolled": true
   },
   "outputs": [
    {
     "name": "stdout",
     "output_type": "stream",
     "text": [
      "n o h t y P\n"
     ]
    }
   ],
   "source": [
    "st = 'Python'\n",
    "\n",
    "print(*reversed(st))"
   ]
  },
  {
   "cell_type": "markdown",
   "metadata": {},
   "source": [
    "### Array Slice in Bash and Python"
   ]
  },
  {
   "cell_type": "code",
   "execution_count": 54,
   "metadata": {
    "scrolled": true
   },
   "outputs": [
    {
     "name": "stdout",
     "output_type": "stream",
     "text": [
      "apple mango bannana\n",
      "apple\n",
      "mango bannana\n"
     ]
    }
   ],
   "source": [
    "%%bash\n",
    "\n",
    "f=(apple mango bannana)\n",
    "\n",
    "echo \"${f[@]}\"\n",
    "echo \"${f[@]:0:1}\"\n",
    "echo \"${f[@]:1}\""
   ]
  },
  {
   "cell_type": "code",
   "execution_count": 62,
   "metadata": {
    "scrolled": true
   },
   "outputs": [
    {
     "name": "stdout",
     "output_type": "stream",
     "text": [
      "['apple', 'mango', 'bannana']\n",
      "['apple']\n",
      "['apple', 'mango']\n"
     ]
    }
   ],
   "source": [
    "%%python3\n",
    "\n",
    "f = ['apple', 'mango', 'bannana']\n",
    "\n",
    "print(f[:])\n",
    "print(f[0:1])\n",
    "print(f[0:2])\n"
   ]
  },
  {
   "cell_type": "markdown",
   "metadata": {},
   "source": [
    "### How to list only active parameters of any configuration files in Linux?"
   ]
  },
  {
   "cell_type": "code",
   "execution_count": 63,
   "metadata": {
    "scrolled": true
   },
   "outputs": [
    {
     "name": "stdout",
     "output_type": "stream",
     "text": [
      "Host *\n",
      "    SendEnv LANG LC_*\n",
      "    HashKnownHosts yes\n",
      "    GSSAPIAuthentication yes\n",
      "    GSSAPIDelegateCredentials no\n"
     ]
    }
   ],
   "source": [
    "%%bash\n",
    "\n",
    "grep ^[^#] /etc/ssh/ssh_config"
   ]
  },
  {
   "cell_type": "code",
   "execution_count": 68,
   "metadata": {
    "scrolled": true
   },
   "outputs": [
    {
     "name": "stdout",
     "output_type": "stream",
     "text": [
      "Host *\n",
      "    SendEnv LANG LC_*\n",
      "    HashKnownHosts yes\n",
      "    GSSAPIAuthentication yes\n",
      "    GSSAPIDelegateCredentials no\n"
     ]
    }
   ],
   "source": [
    "%%python3\n",
    "\n",
    "from pathlib import Path\n",
    "import re\n",
    "\n",
    "p = Path('/etc/ssh/ssh_config').read_text().splitlines()\n",
    "par = [i for i in p if re.match(r'^[^#]',i)]\n",
    "print(*par, sep = '\\n' )"
   ]
  },
  {
   "cell_type": "markdown",
   "metadata": {},
   "source": [
    "### Show all files above 10 MB in a directory?"
   ]
  },
  {
   "cell_type": "code",
   "execution_count": 139,
   "metadata": {
    "scrolled": true
   },
   "outputs": [
    {
     "name": "stdout",
     "output_type": "stream",
     "text": [
      "ubuntu-mate-18.04.1-desktop-i386.iso\n"
     ]
    }
   ],
   "source": [
    "%%python3\n",
    "\n",
    "from pathlib import Path\n",
    "\n",
    "\n",
    "p = Path('/home/mana/Downloads').rglob('*')\n",
    "f = [i.name for i in p if i.stat().st_size > 1e+7]\n",
    "print(*f)"
   ]
  },
  {
   "cell_type": "code",
   "execution_count": 137,
   "metadata": {
    "scrolled": true
   },
   "outputs": [
    {
     "name": "stdout",
     "output_type": "stream",
     "text": [
      "ubuntu-mate-18.04.1-desktop-i386.iso"
     ]
    }
   ],
   "source": [
    "%%bash\n",
    "\n",
    "find ~/Downloads -size +10M -printf \"%f\""
   ]
  },
  {
   "cell_type": "markdown",
   "metadata": {},
   "source": [
    "### Change to upper case first word of line"
   ]
  },
  {
   "cell_type": "code",
   "execution_count": 152,
   "metadata": {
    "scrolled": true
   },
   "outputs": [
    {
     "name": "stdout",
     "output_type": "stream",
     "text": [
      "LINUX is good operating system.\n"
     ]
    }
   ],
   "source": [
    "%%python3\n",
    "\n",
    "s = \"linux is good operating system.\"\n",
    "c = s.split()[0].upper()\n",
    "j = [c] + s.split()[1:]\n",
    "print(' '.join(j))\n"
   ]
  },
  {
   "cell_type": "code",
   "execution_count": 151,
   "metadata": {
    "scrolled": true
   },
   "outputs": [
    {
     "name": "stdout",
     "output_type": "stream",
     "text": [
      "LINUX is good operating system.\n"
     ]
    }
   ],
   "source": [
    "%%bash\n",
    "\n",
    "echo \"linux is good operating system.\" | sed -r \"s/(^.\\w+)(.*)/\\U\\1\\L\\2/\""
   ]
  },
  {
   "cell_type": "markdown",
   "metadata": {},
   "source": [
    "### How to find your birthday dayname?"
   ]
  },
  {
   "cell_type": "code",
   "execution_count": 157,
   "metadata": {
    "scrolled": true
   },
   "outputs": [
    {
     "data": {
      "text/plain": [
       "'Friday'"
      ]
     },
     "execution_count": 157,
     "metadata": {},
     "output_type": "execute_result"
    }
   ],
   "source": [
    "import calendar as cal\n",
    "\n",
    "inx = cal.weekday(1987, 4, 17)\n",
    "cal.day_name[inx]"
   ]
  },
  {
   "cell_type": "markdown",
   "metadata": {},
   "source": [
    "### How to remove empty items?"
   ]
  },
  {
   "cell_type": "code",
   "execution_count": 159,
   "metadata": {
    "scrolled": true
   },
   "outputs": [
    {
     "data": {
      "text/plain": [
       "['one', 'two', 'four']"
      ]
     },
     "execution_count": 159,
     "metadata": {},
     "output_type": "execute_result"
    }
   ],
   "source": [
    "#method:1\n",
    "\n",
    "l = ['one', 'two', '', 'four']\n",
    "\n",
    "list(filter(None,l))"
   ]
  },
  {
   "cell_type": "code",
   "execution_count": 164,
   "metadata": {
    "scrolled": true
   },
   "outputs": [
    {
     "data": {
      "text/plain": [
       "['one', 'two', 'four']"
      ]
     },
     "execution_count": 164,
     "metadata": {},
     "output_type": "execute_result"
    }
   ],
   "source": [
    "#method:2\n",
    "\n",
    "l = ['one', 'two', '', 'four']\n",
    "\n",
    "[i for i in l if len(i) > 0]"
   ]
  },
  {
   "cell_type": "markdown",
   "metadata": {},
   "source": [
    "### How to remove empty files in a directory?"
   ]
  },
  {
   "cell_type": "code",
   "execution_count": 167,
   "metadata": {
    "scrolled": true
   },
   "outputs": [
    {
     "data": {
      "text/plain": [
       "[PosixPath('/home/mana/Work/test.txt'),\n",
       " PosixPath('/home/mana/Work/1.txt'),\n",
       " PosixPath('/home/mana/Work/2.txt'),\n",
       " PosixPath('/home/mana/Work/3.txt'),\n",
       " PosixPath('/home/mana/Work/4.txt'),\n",
       " PosixPath('/home/mana/Work/5.txt')]"
      ]
     },
     "execution_count": 167,
     "metadata": {},
     "output_type": "execute_result"
    }
   ],
   "source": [
    "%%python3\n",
    "\n",
    "from pathlib import Path\n",
    "\n",
    "p = Path('/home/mana/Work')\n",
    "[i.unlink() for i in p.iterdir() if i.stat().st_size == 0]"
   ]
  },
  {
   "cell_type": "code",
   "execution_count": 165,
   "metadata": {
    "scrolled": true
   },
   "outputs": [
    {
     "name": "stdout",
     "output_type": "stream",
     "text": [
      "/home/mana/Work/1.txt\n",
      "/home/mana/Work/2.txt\n",
      "/home/mana/Work/3.txt\n",
      "/home/mana/Work/4.txt\n",
      "/home/mana/Work/5.txt\n",
      "/home/mana/Work/test.txt\n"
     ]
    }
   ],
   "source": [
    "%%bash \n",
    "\n",
    "find ~/Work -size  0 -print0 |xargs -0 rm -v"
   ]
  },
  {
   "cell_type": "markdown",
   "metadata": {},
   "source": [
    "### How to skip error?"
   ]
  },
  {
   "cell_type": "code",
   "execution_count": 178,
   "metadata": {
    "scrolled": true
   },
   "outputs": [
    {
     "name": "stdout",
     "output_type": "stream",
     "text": [
      "No such file or directory: /home/mana/Windows\n"
     ]
    }
   ],
   "source": [
    "%%python3\n",
    "\n",
    "import os\n",
    "\n",
    "try:\n",
    "    os.listdir('/home/mana/Windows')\n",
    "    \n",
    "except FileNotFoundError:\n",
    "    print('No such file or directory: /home/mana/Windows')"
   ]
  },
  {
   "cell_type": "code",
   "execution_count": 179,
   "metadata": {
    "scrolled": true
   },
   "outputs": [
    {
     "name": "stdout",
     "output_type": "stream",
     "text": [
      "'No such file or directory: /home/mana/Windows'\r\n"
     ]
    }
   ],
   "source": [
    "!ls -l /home/mana/Windows 2> /dev/null\\\n",
    "|| echo \"'No such file or directory: /home/mana/Windows'\"\n",
    "\n"
   ]
  },
  {
   "cell_type": "markdown",
   "metadata": {},
   "source": [
    "### How to manage  error?"
   ]
  },
  {
   "cell_type": "code",
   "execution_count": 189,
   "metadata": {
    "scrolled": true
   },
   "outputs": [
    {
     "name": "stdout",
     "output_type": "stream",
     "text": [
      "ring\n",
      "remix.zip\n",
      "task1\n",
      "task2\n",
      "Antiloop.mp3\n",
      "Antiloop.mp4\n"
     ]
    }
   ],
   "source": [
    "%%python3\n",
    "\n",
    "import os\n",
    "\n",
    "try:\n",
    "    d = os.listdir('/home/mana/Backup')\n",
    "    print(*d, sep = '\\n')\n",
    "    \n",
    "except FileNotFoundError:\n",
    "    print(\"No such file or directory: /home/mana/Backup\")"
   ]
  },
  {
   "cell_type": "code",
   "execution_count": 193,
   "metadata": {
    "scrolled": true
   },
   "outputs": [
    {
     "name": "stdout",
     "output_type": "stream",
     "text": [
      "Antiloop.mp3\r\n",
      "Antiloop.mp4\r\n",
      "remix.zip\r\n",
      "ring\r\n",
      "task1\r\n",
      "task2\r\n"
     ]
    }
   ],
   "source": [
    "!ls -1 /home/mana/Backup 2> /dev/null\\\n",
    "|| echo \"No such file or directory: /home/mana/Backup\"\n",
    "\n"
   ]
  },
  {
   "cell_type": "markdown",
   "metadata": {},
   "source": [
    "### null in bash and python"
   ]
  },
  {
   "cell_type": "code",
   "execution_count": 197,
   "metadata": {
    "scrolled": true
   },
   "outputs": [],
   "source": [
    "%%bash\n",
    "\n",
    ":"
   ]
  },
  {
   "cell_type": "code",
   "execution_count": 198,
   "metadata": {
    "scrolled": true
   },
   "outputs": [],
   "source": [
    "%%python3\n",
    "\n",
    "pass"
   ]
  },
  {
   "cell_type": "markdown",
   "metadata": {},
   "source": [
    "### How to view all Linux System Errors table?"
   ]
  },
  {
   "cell_type": "code",
   "execution_count": 53,
   "metadata": {
    "scrolled": false
   },
   "outputs": [
    {
     "name": "stdout",
     "output_type": "stream",
     "text": [
      "     1.\t Operation not permitted \n",
      "     2.\t No such file or directory \n",
      "     3.\t No such process \n",
      "     4.\t Interrupted system call \n",
      "     5.\t I/O error \n",
      "     6.\t No such device or address \n",
      "     7.\t Argument list too long \n",
      "     8.\t Exec format error \n",
      "     9.\t Bad file number \n",
      "    10.\t No child processes \n",
      "    11.\t Try again \n",
      "    12.\t Out of memory \n",
      "    13.\t Permission denied \n",
      "    14.\t Bad address \n",
      "    15.\t Block device required \n",
      "    16.\t Device or resource busy \n",
      "    17.\t File exists \n",
      "    18.\t Cross-device link \n",
      "    19.\t No such device \n",
      "    20.\t Not a directory \n",
      "    21.\t Is a directory \n",
      "    22.\t Invalid argument \n",
      "    23.\t File table overflow \n",
      "    24.\t Too many open files \n",
      "    25.\t Not a typewriter \n",
      "    26.\t Text file busy \n",
      "    27.\t File too large \n",
      "    28.\t No space left on device \n",
      "    29.\t Illegal seek \n",
      "    30.\t Read-only file system \n",
      "    31.\t Too many links \n",
      "    32.\t Broken pipe \n",
      "    33.\t Math argument out of domain of func \n",
      "    34.\t Math result not representable \n",
      "    35.\t Resource deadlock would occur \n",
      "    36.\t File name too long \n",
      "    37.\t No record locks available \n",
      "    38.\t Invalid system call number \n",
      "    39.\t Directory not empty \n",
      "    40.\t Too many symbolic links encountered \n",
      "    41.\t No message of desired type \n",
      "    42.\t Identifier removed \n",
      "    43.\t Channel number out of range \n",
      "    44.\t Level  not synchronized \n",
      "    45.\t Level  halted \n",
      "    46.\t Level  reset \n",
      "    47.\t Link number out of range \n",
      "    48.\t Protocol driver not attached \n",
      "    49.\t No CSI structure available \n",
      "    50.\t Level  halted \n",
      "    51.\t Invalid exchange \n",
      "    52.\t Invalid request descriptor \n",
      "    53.\t Exchange full \n",
      "    54.\t No anode \n",
      "    55.\t Invalid request code \n",
      "    56.\t Invalid slot \n",
      "    57.\t Bad font file format \n",
      "    58.\t Device not a stream \n",
      "    59.\t No data available \n",
      "    60.\t Timer expired \n",
      "    61.\t Out of streams resources \n",
      "    62.\t Machine is not on the network \n",
      "    63.\t Package not installed \n",
      "    64.\t Object is remote \n",
      "    65.\t Link has been severed \n",
      "    66.\t Advertise error \n",
      "    67.\t Srmount error \n",
      "    68.\t Communication error on send \n",
      "    69.\t Protocol error \n",
      "    70.\t Multihop attempted \n",
      "    71.\t RFS specific error \n",
      "    72.\t Not a data message \n",
      "    73.\t Value too large for defined data type \n",
      "    74.\t Name not unique on network \n",
      "    75.\t File descriptor in bad state \n",
      "    76.\t Remote address changed \n",
      "    77.\t Can not access a needed shared library \n",
      "    78.\t Accessing a corrupted shared library \n",
      "    79.\t .lib section in a.out corrupted \n",
      "    80.\t Attempting to link in too many shared libraries \n",
      "    81.\t Cannot exec a shared library directly \n",
      "    82.\t Illegal byte sequence \n",
      "    83.\t Interrupted system call should be restarted \n",
      "    84.\t Streams pipe error \n",
      "    85.\t Too many users \n",
      "    86.\t Socket operation on non-socket \n",
      "    87.\t Destination address required \n",
      "    88.\t Message too long \n",
      "    89.\t Protocol wrong type for socket \n",
      "    90.\t Protocol not available \n",
      "    91.\t Protocol not supported \n",
      "    92.\t Socket type not supported \n",
      "    93.\t Operation not supported on transport endpoint \n",
      "    94.\t Protocol family not supported \n",
      "    95.\t Address family not supported by protocol \n",
      "    96.\t Address already in use \n",
      "    97.\t Cannot assign requested address \n",
      "    98.\t Network is down \n",
      "    99.\t Network is unreachable \n",
      "   100.\t Network dropped connection because of reset \n",
      "   101.\t Software caused connection abort \n",
      "   102.\t Connection reset by peer \n",
      "   103.\t No buffer space available \n",
      "   104.\t Transport endpoint is already connected \n",
      "   105.\t Transport endpoint is not connected \n",
      "   106.\t Cannot send after transport endpoint shutdown \n",
      "   107.\t Too many references: cannot splice \n",
      "   108.\t Connection timed out \n",
      "   109.\t Connection refused \n",
      "   110.\t Host is down \n",
      "   111.\t No route to host \n",
      "   112.\t Operation already in progress \n",
      "   113.\t Operation now in progress \n",
      "   114.\t Stale file handle \n",
      "   115.\t Structure needs cleaning \n",
      "   116.\t Not a XENIX named type file \n",
      "   117.\t No XENIX semaphores available \n",
      "   118.\t Is a named type file \n",
      "   119.\t Remote I/O error \n",
      "   120.\t Quota exceeded \n",
      "   121.\t No medium found \n",
      "   122.\t Wrong medium type \n",
      "   123.\t Operation Canceled \n",
      "   124.\t Required key not available \n",
      "   125.\t Key has expired \n",
      "   126.\t Key has been revoked \n",
      "   127.\t Key was rejected by service \n",
      "   128.\t Owner died \n",
      "   129.\t State not recoverable \n",
      "   130.\t Operation not possible due to RF-kill \n",
      "   131.\t Memory page has hardware error \n"
     ]
    }
   ],
   "source": [
    "%%bash\n",
    "\n",
    "cat /usr/include/asm-generic/{errno-base.h,errno.h} \\\n",
    "| egrep -o \"[0-9]{1,3}\\s.*$\" |sed -r 's:[0-9]{1,3}|/\\*|\\*/::g' | nl -s\".\""
   ]
  },
  {
   "cell_type": "code",
   "execution_count": 56,
   "metadata": {
    "scrolled": false
   },
   "outputs": [
    {
     "name": "stdout",
     "output_type": "stream",
     "text": [
      "1. Operation not permitted \n",
      "2. No such file or directory \n",
      "3. No such process \n",
      "4. Interrupted system call \n",
      "5. I/O error \n",
      "6. No such device or address \n",
      "7. Argument list too long \n",
      "8. Exec format error \n",
      "9. Bad file number \n",
      "10. No child processes \n",
      "11. Try again \n",
      "12. Out of memory \n",
      "13. Permission denied \n",
      "14. Bad address \n",
      "15. Block device required \n",
      "16. Device or resource busy \n",
      "17. File exists \n",
      "18. Cross-device link \n",
      "19. No such device \n",
      "20. Not a directory \n",
      "21. Is a directory \n",
      "22. Invalid argument \n",
      "23. File table overflow \n",
      "24. Too many open files \n",
      "25. Not a typewriter \n",
      "26. Text file busy \n",
      "27. File too large \n",
      "28. No space left on device \n",
      "29. Illegal seek \n",
      "30. Read-only file system \n",
      "31. Too many links \n",
      "32. Broken pipe \n",
      "33. Math argument out of domain of func \n",
      "34. Math result not representable \n",
      "35. Resource deadlock would occur \n",
      "36. File name too long \n",
      "37. No record locks available \n",
      "38. Invalid system call number \n",
      "39. Directory not empty \n",
      "40. Too many symbolic links encountered \n",
      "42. No message of desired type \n",
      "43. Identifier removed \n",
      "44. Channel number out of range \n",
      "45. Level 2 not synchronized \n",
      "46. Level 3 halted \n",
      "47. Level 3 reset \n",
      "48. Link number out of range \n",
      "49. Protocol driver not attached \n",
      "50. No CSI structure available \n",
      "51. Level 2 halted \n",
      "52. Invalid exchange \n",
      "53. Invalid request descriptor \n",
      "54. Exchange full \n",
      "55. No anode \n",
      "56. Invalid request code \n",
      "57. Invalid slot \n",
      "59. Bad font file format \n",
      "60. Device not a stream \n",
      "61. No data available \n",
      "62. Timer expired \n",
      "63. Out of streams resources \n",
      "64. Machine is not on the network \n",
      "65. Package not installed \n",
      "66. Object is remote \n",
      "67. Link has been severed \n",
      "68. Advertise error \n",
      "69. Srmount error \n",
      "70. Communication error on send \n",
      "71. Protocol error \n",
      "72. Multihop attempted \n",
      "73. RFS specific error \n",
      "74. Not a data message \n",
      "75. Value too large for defined data type \n",
      "76. Name not unique on network \n",
      "77. File descriptor in bad state \n",
      "78. Remote address changed \n",
      "79. Can not access a needed shared library \n",
      "80. Accessing a corrupted shared library \n",
      "81. .lib section in a.out corrupted \n",
      "82. Attempting to link in too many shared libraries \n",
      "83. Cannot exec a shared library directly \n",
      "84. Illegal byte sequence \n",
      "85. Interrupted system call should be restarted \n",
      "86. Streams pipe error \n",
      "87. Too many users \n",
      "88. Socket operation on non-socket \n",
      "89. Destination address required \n",
      "90. Message too long \n",
      "91. Protocol wrong type for socket \n",
      "92. Protocol not available \n",
      "93. Protocol not supported \n",
      "94. Socket type not supported \n",
      "95. Operation not supported on transport endpoint \n",
      "96. Protocol family not supported \n",
      "97. Address family not supported by protocol \n",
      "98. Address already in use \n",
      "99. Cannot assign requested address \n",
      "100. Network is down \n",
      "101. Network is unreachable \n",
      "102. Network dropped connection because of reset \n",
      "103. Software caused connection abort \n",
      "104. Connection reset by peer \n",
      "105. No buffer space available \n",
      "106. Transport endpoint is already connected \n",
      "107. Transport endpoint is not connected \n",
      "108. Cannot send after transport endpoint shutdown \n",
      "109. Too many references: cannot splice \n",
      "110. Connection timed out \n",
      "111. Connection refused \n",
      "112. Host is down \n",
      "113. No route to host \n",
      "114. Operation already in progress \n",
      "115. Operation now in progress \n",
      "116. Stale file handle \n",
      "117. Structure needs cleaning \n",
      "118. Not a XENIX named type file \n",
      "119. No XENIX semaphores available \n",
      "120. Is a named type file \n",
      "121. Remote I/O error \n",
      "122. Quota exceeded \n",
      "123. No medium found \n",
      "124. Wrong medium type \n",
      "125. Operation Canceled \n",
      "126. Required key not available \n",
      "127. Key has expired \n",
      "128. Key has been revoked \n",
      "129. Key was rejected by service \n",
      "130. Owner died \n",
      "131. State not recoverable \n",
      "132. Operation not possible due to RF-kill \n",
      "133. Memory page has hardware error \n"
     ]
    }
   ],
   "source": [
    "%%python3\n",
    "\n",
    "from pathlib import Path\n",
    "import re\n",
    "\n",
    "p = Path('/usr/include/asm-generic/')\n",
    "p1 = p /'errno-base.h'\n",
    "p2 = p /'errno.h'\n",
    "\n",
    "for j in [p1,p2]:\n",
    "    for i in j.read_text().splitlines():\n",
    "        c = re.search(r'[0-9]{1,3}\\s.*$',i)\n",
    "        if c:\n",
    "            r = c.group()\n",
    "            s = re.sub(r'\\/\\*|\\*\\/','',r)\n",
    "            print(re.sub(r'\\s\\s{1,}','. ',s))"
   ]
  },
  {
   "cell_type": "markdown",
   "metadata": {},
   "source": [
    "### Show pdf files above 10 MB"
   ]
  },
  {
   "cell_type": "markdown",
   "metadata": {},
   "source": [
    "#### Bash"
   ]
  },
  {
   "cell_type": "code",
   "execution_count": 8,
   "metadata": {
    "scrolled": false
   },
   "outputs": [
    {
     "name": "stdout",
     "output_type": "stream",
     "text": [
      "/home/mana/Work/Python/The Python 3 Standard Library by Example.pdf\n",
      "/home/mana/Work/Python/Learning_Python_5th_Edition_Mark.pdf\n",
      "/home/mana/Work/Python/Automate-the-boring-stuff-with-python-2015.pdf\n"
     ]
    }
   ],
   "source": [
    "find /home/mana/Work/Python -type f -size +10M -name \"*.pdf\""
   ]
  },
  {
   "cell_type": "markdown",
   "metadata": {},
   "source": [
    "#### Python"
   ]
  },
  {
   "cell_type": "code",
   "execution_count": 12,
   "metadata": {
    "scrolled": false
   },
   "outputs": [
    {
     "data": {
      "text/plain": [
       "['The Python 3 Standard Library by Example.pdf',\n",
       " 'Learning_Python_5th_Edition_Mark.pdf',\n",
       " 'Automate-the-boring-stuff-with-python-2015.pdf']"
      ]
     },
     "execution_count": 12,
     "metadata": {},
     "output_type": "execute_result"
    }
   ],
   "source": [
    "from pathlib import Path\n",
    "\n",
    "p = Path('/home/mana/Work/Python').rglob('*.pdf')\n",
    "[i.name for i in p if i.stat().st_size > 1e+7]"
   ]
  },
  {
   "cell_type": "markdown",
   "metadata": {},
   "source": [
    "### How to find 5 largest files in directory?"
   ]
  },
  {
   "cell_type": "code",
   "execution_count": 2,
   "metadata": {
    "scrolled": false
   },
   "outputs": [
    {
     "name": "stdout",
     "output_type": "stream",
     "text": [
      "25M\t/home/mana/Work/Python/Learning_Python_5th_Edition_Mark.pdf\n",
      "17M\t/home/mana/Work/Python/Automate-the-boring-stuff-with-python-2015.pdf\n",
      "15M\t/home/mana/Work/Python/The Python 3 Standard Library by Example.pdf\n",
      "7.9M\t/home/mana/Work/Python/Python-Docs-Library.pdf\n",
      "5.4M\t/home/mana/Work/Python/Python Notes For Professionals.pdf\n"
     ]
    }
   ],
   "source": [
    "%%bash\n",
    "\n",
    "find /home/mana/Work/Python -type f -exec du -sh {} + | sort -hr | head -5 "
   ]
  },
  {
   "cell_type": "code",
   "execution_count": 16,
   "metadata": {
    "scrolled": false
   },
   "outputs": [
    {
     "data": {
      "text/plain": [
       "[('Learning_Python_5th_Edition_Mark.pdf', 26015425),\n",
       " ('Automate-the-boring-stuff-with-python-2015.pdf', 17449893),\n",
       " ('The Python 3 Standard Library by Example.pdf', 14867927),\n",
       " ('Python-Docs-Library.pdf', 8192099),\n",
       " ('Python Crash Course.pdf', 5641523),\n",
       " ('Python Notes For Professionals.pdf', 5605028)]"
      ]
     },
     "execution_count": 16,
     "metadata": {},
     "output_type": "execute_result"
    }
   ],
   "source": [
    "from pathlib import Path\n",
    "\n",
    "p = Path('/home/mana/Work/Python')\n",
    "f = [(i.name,i.stat().st_size) for i in p.iterdir()]\n",
    "sorted(f, key = lambda x : x[1], reverse = True)[:6]"
   ]
  },
  {
   "cell_type": "markdown",
   "metadata": {},
   "source": [
    "### How to collect information about vulnerabilities using command prompt?"
   ]
  },
  {
   "cell_type": "code",
   "execution_count": 45,
   "metadata": {
    "scrolled": false
   },
   "outputs": [
    {
     "name": "stdout",
     "output_type": "stream",
     "text": [
      "runc - Malicious container escape - CVE-2019-5736           \n",
      "https://access.redhat.com/security/vulnerabilities/runcescape\n",
      " \n",
      "*********************************************************\n",
      "Kubernetes privilege escalation and access to sensitive information in OpenShift products and services - CVE-2018-1002105           \n",
      "https://access.redhat.com/security/vulnerabilities/3716411\n",
      " \n",
      "*********************************************************\n",
      "Mutagen Astronomy -  Local privilege escalation  - CVE-2018-14634              \n",
      "https://access.redhat.com/security/vulnerabilities/mutagen-astronomy\n",
      " \n",
      "*********************************************************\n",
      "L1TF - L1 Terminal Fault Attack - CVE-2018-3620 &amp; CVE-2018-3646           \n",
      "https://access.redhat.com/security/vulnerabilities/L1TF\n"
     ]
    }
   ],
   "source": [
    "%%bash\n",
    "\n",
    "curl -sL https://access.redhat.com/security/vulnerabilities/ \\\n",
    "| grep -o \"/sec.*td>\" | sed -re 's:>|</a>|</td>::g' \\\n",
    "| sed 's/\\(^.*\\)\"\\(.*\\)/\\2 \\nhttps:\\/\\/access.redhat.com\\1\\n \\\n",
    "*********************************************************/' | head -14\n"
   ]
  },
  {
   "cell_type": "code",
   "execution_count": 19,
   "metadata": {
    "scrolled": false
   },
   "outputs": [
    {
     "name": "stdout",
     "output_type": "stream",
     "text": [
      " 17:48:37 up 16:41,  3 users,  load average: 2.15, 2.05, 1.89\r\n",
      "USER     TTY      FROM             LOGIN@   IDLE   JCPU   PCPU WHAT\r\n",
      "mana     tty7     :0               01:07   16:41m 10:34   0.71s mate-session\r\n",
      "mana     pts/1    :0               01:53   15:54m 35.74s 35.67s /usr/bin/python\r\n",
      "mana     pts/2    :0               03:45    2:41   0.16s  0.16s bash\r\n"
     ]
    }
   ],
   "source": [
    "!w"
   ]
  },
  {
   "cell_type": "code",
   "execution_count": 23,
   "metadata": {
    "scrolled": false
   },
   "outputs": [
    {
     "data": {
      "text/plain": [
       "<difflib.SequenceMatcher at 0xb41cab8c>"
      ]
     },
     "execution_count": 23,
     "metadata": {},
     "output_type": "execute_result"
    }
   ],
   "source": [
    "import difflib\n",
    "\n",
    "st1 = 'Manavalan'\n",
    "st2 = 'Manavlan'\n",
    "\n",
    "difflib.SequenceMatcher(None, st1, st2)"
   ]
  },
  {
   "cell_type": "markdown",
   "metadata": {},
   "source": [
    "### How to check if file symbolic or not?"
   ]
  },
  {
   "cell_type": "code",
   "execution_count": 18,
   "metadata": {
    "scrolled": false
   },
   "outputs": [
    {
     "name": "stdout",
     "output_type": "stream",
     "text": [
      "/etc/localtime file is sysmbolic link.\n"
     ]
    }
   ],
   "source": [
    "%%bash\n",
    "\n",
    "f='/etc/localtime'\n",
    "if [ -L $f ]\n",
    "then\n",
    "echo \"$f file is sysmbolic link.\"\n",
    "else\n",
    "echo \"$f file is not sysmbolic link.\"\n",
    "fi"
   ]
  },
  {
   "cell_type": "code",
   "execution_count": 17,
   "metadata": {
    "scrolled": false
   },
   "outputs": [
    {
     "name": "stdout",
     "output_type": "stream",
     "text": [
      "/etc/localtime file is sysmbolic link.\n"
     ]
    }
   ],
   "source": [
    "%%python3\n",
    "\n",
    "import os\n",
    "\n",
    "f = '/etc/localtime'\n",
    "if os.path.islink(f):\n",
    "    print(f,\"file is sysmbolic link.\")\n",
    "else:\n",
    "    print(f, \"file is not sysmbolic link.\")    "
   ]
  },
  {
   "cell_type": "markdown",
   "metadata": {},
   "source": [
    "### How to find how many characters in line?"
   ]
  },
  {
   "cell_type": "code",
   "execution_count": 24,
   "metadata": {
    "scrolled": false
   },
   "outputs": [
    {
     "name": "stdout",
     "output_type": "stream",
     "text": [
      "21\n"
     ]
    }
   ],
   "source": [
    "%%bash\n",
    "\n",
    "line='Connection timed out.'\n",
    "echo \"$line\" | grep -o \".\" | awk 'END{print NR}'"
   ]
  },
  {
   "cell_type": "code",
   "execution_count": 25,
   "metadata": {
    "scrolled": false
   },
   "outputs": [
    {
     "name": "stdout",
     "output_type": "stream",
     "text": [
      "21\n"
     ]
    }
   ],
   "source": [
    "%%python3\n",
    "\n",
    "line='Connection timed out.'\n",
    "print(len(line))"
   ]
  },
  {
   "cell_type": "markdown",
   "metadata": {},
   "source": [
    "### How to find how many digit in line?"
   ]
  },
  {
   "cell_type": "code",
   "execution_count": 17,
   "metadata": {
    "scrolled": false
   },
   "outputs": [
    {
     "name": "stdout",
     "output_type": "stream",
     "text": [
      "6\n"
     ]
    }
   ],
   "source": [
    "%%bash\n",
    "\n",
    "line='abcABC128743ABCabc'\n",
    "echo \"$line\" | grep -Po \"\\d\" | awk 'END{print NR}'"
   ]
  },
  {
   "cell_type": "code",
   "execution_count": 40,
   "metadata": {
    "scrolled": false
   },
   "outputs": [
    {
     "name": "stdout",
     "output_type": "stream",
     "text": [
      "6\n"
     ]
    }
   ],
   "source": [
    "%%python3\n",
    "\n",
    "#Method: 1\n",
    "line='abcABC128743ABCabc'\n",
    "n = [i for i in line if i.isdigit()]\n",
    "print(len(n))"
   ]
  },
  {
   "cell_type": "code",
   "execution_count": 39,
   "metadata": {
    "scrolled": false
   },
   "outputs": [
    {
     "name": "stdout",
     "output_type": "stream",
     "text": [
      "6\n"
     ]
    }
   ],
   "source": [
    "%%python3\n",
    "\n",
    "#Method: 2\n",
    "import re\n",
    "line='abcABC128743ABCabc'\n",
    "n = re.findall(r'\\d',line)\n",
    "print(len(n))"
   ]
  },
  {
   "cell_type": "markdown",
   "metadata": {},
   "source": [
    "### How to find original file of sysmbolic link?"
   ]
  },
  {
   "cell_type": "code",
   "execution_count": 26,
   "metadata": {
    "scrolled": false
   },
   "outputs": [
    {
     "name": "stdout",
     "output_type": "stream",
     "text": [
      "/usr/share/zoneinfo/Asia/Calcutta\n"
     ]
    }
   ],
   "source": [
    "%%bash \n",
    "\n",
    "readlink -f /etc/localtime"
   ]
  },
  {
   "cell_type": "code",
   "execution_count": 27,
   "metadata": {
    "scrolled": false
   },
   "outputs": [
    {
     "name": "stdout",
     "output_type": "stream",
     "text": [
      "/usr/share/zoneinfo/Asia/Kolkata\n"
     ]
    }
   ],
   "source": [
    "%%python3\n",
    "\n",
    "#Method: 1\n",
    "import os\n",
    "\n",
    "print(os.readlink('/etc/localtime'))"
   ]
  },
  {
   "cell_type": "code",
   "execution_count": 36,
   "metadata": {
    "scrolled": false
   },
   "outputs": [
    {
     "name": "stdout",
     "output_type": "stream",
     "text": [
      "/usr/share/zoneinfo/Asia/Calcutta\n"
     ]
    }
   ],
   "source": [
    "%%python3\n",
    "\n",
    "#Method: 2\n",
    "import os\n",
    "\n",
    "print(os.path.realpath('/etc/localtime'))"
   ]
  },
  {
   "cell_type": "code",
   "execution_count": 37,
   "metadata": {
    "scrolled": false
   },
   "outputs": [
    {
     "name": "stdout",
     "output_type": "stream",
     "text": [
      "/usr/share/zoneinfo/Asia/Calcutta\n"
     ]
    }
   ],
   "source": [
    "%%python3\n",
    "\n",
    "#Method: 3\n",
    "from pathlib import Path\n",
    "\n",
    "print(Path('/etc/localtime').resolve())"
   ]
  },
  {
   "cell_type": "markdown",
   "metadata": {},
   "source": [
    "### How to check if FILE1 is older than FILE2?"
   ]
  },
  {
   "cell_type": "code",
   "execution_count": 35,
   "metadata": {
    "scrolled": false
   },
   "outputs": [
    {
     "name": "stdout",
     "output_type": "stream",
     "text": [
      "total 0\r\n",
      "-rw-rw-r-- 1 mana mana 0 Feb 20 07:18 FILE1.txt\r\n",
      "-rw-rw-r-- 1 mana mana 0 Feb 20 07:19 FILE2.txt\r\n"
     ]
    }
   ],
   "source": [
    "!ls -l ~/Work"
   ]
  },
  {
   "cell_type": "code",
   "execution_count": 30,
   "metadata": {
    "scrolled": false
   },
   "outputs": [
    {
     "name": "stdout",
     "output_type": "stream",
     "text": [
      "FILE1.txt older than FILE2.txt\n"
     ]
    }
   ],
   "source": [
    "%%bash\n",
    "\n",
    "cd ~/Work\n",
    "if [ FILE1.txt -ot FILE2.txt ] \n",
    "then\n",
    "echo \"FILE1.txt older than FILE2.txt\"\n",
    "else\n",
    "echo \"FILE1.txt not older than FILE2.txt\"\n",
    "fi"
   ]
  },
  {
   "cell_type": "code",
   "execution_count": 34,
   "metadata": {
    "scrolled": false
   },
   "outputs": [
    {
     "name": "stdout",
     "output_type": "stream",
     "text": [
      "FILE1.txt older than FILE2.txt\n"
     ]
    }
   ],
   "source": [
    "%%python3\n",
    "\n",
    "from os.path import getmtime\n",
    "\n",
    "f1 = '/home/mana/Work/FILE1.txt'\n",
    "f2 = '/home/mana/Work/FILE2.txt'\n",
    "\n",
    "if getmtime(f2) > getmtime(f1):\n",
    "    print(\"FILE1.txt older than FILE2.txt\")\n",
    "else:\n",
    "    print(\"FILE1.txt not older than FILE2.txt\")"
   ]
  },
  {
   "cell_type": "markdown",
   "metadata": {},
   "source": [
    "### How to Exit?"
   ]
  },
  {
   "cell_type": "code",
   "execution_count": 37,
   "metadata": {
    "scrolled": false
   },
   "outputs": [
    {
     "name": "stdout",
     "output_type": "stream",
     "text": [
      "Hi!!!\n"
     ]
    }
   ],
   "source": [
    "%%bash\n",
    "\n",
    "echo \"Hi!!!\"\n",
    "exit            ## Here exit from script.\n",
    "echo \"Hello\""
   ]
  },
  {
   "cell_type": "code",
   "execution_count": 38,
   "metadata": {
    "scrolled": false
   },
   "outputs": [
    {
     "name": "stdout",
     "output_type": "stream",
     "text": [
      "Hi!!!\n"
     ]
    }
   ],
   "source": [
    "%%python3\n",
    "\n",
    "import sys\n",
    "\n",
    "print(\"Hi!!!\")\n",
    "sys.exit()      ## Here exit from script.\n",
    "print(\"Hello\")"
   ]
  },
  {
   "cell_type": "markdown",
   "metadata": {},
   "source": [
    "### sleep"
   ]
  },
  {
   "cell_type": "code",
   "execution_count": 89,
   "metadata": {
    "scrolled": false
   },
   "outputs": [
    {
     "name": "stdout",
     "output_type": "stream",
     "text": [
      "Good Night All\n",
      "Hello\n"
     ]
    }
   ],
   "source": [
    "%%bash\n",
    "\n",
    "echo \"Good Night All\"\n",
    "sleep 10\n",
    "echo \"Hello\""
   ]
  },
  {
   "cell_type": "code",
   "execution_count": 88,
   "metadata": {
    "scrolled": false
   },
   "outputs": [
    {
     "name": "stdout",
     "output_type": "stream",
     "text": [
      "Good Night All\n",
      "Hello\n"
     ]
    }
   ],
   "source": [
    "%%python3\n",
    "\n",
    "from time import sleep\n",
    "\n",
    "print('Good Night All')\n",
    "sleep(10)\n",
    "print('Hello')"
   ]
  },
  {
   "cell_type": "markdown",
   "metadata": {},
   "source": [
    "### How to Case-Insensitive Comparisons?"
   ]
  },
  {
   "cell_type": "code",
   "execution_count": 43,
   "metadata": {
    "scrolled": false
   },
   "outputs": [
    {
     "name": "stdout",
     "output_type": "stream",
     "text": [
      "Siva\n"
     ]
    }
   ],
   "source": [
    "name = ['Manavalan', 'Siva']\n",
    "\n",
    "for i in name:\n",
    "    if i.lower() == 'siva':\n",
    "        print(i)"
   ]
  },
  {
   "cell_type": "markdown",
   "metadata": {},
   "source": [
    "### How to overwrite the previous print to stdout?"
   ]
  },
  {
   "cell_type": "code",
   "execution_count": 24,
   "metadata": {
    "scrolled": false
   },
   "outputs": [
    {
     "name": "stdout",
     "output_type": "stream",
     "text": [
      "1\r",
      "2\r",
      "3\r",
      "4\r",
      "5\r",
      "6\r",
      "7\r",
      "8\r",
      "9\r"
     ]
    }
   ],
   "source": [
    "%%bash\n",
    "\n",
    "for i in {1..9}\n",
    "do\n",
    "echo -en \"$i\\r\"\n",
    "done"
   ]
  },
  {
   "cell_type": "code",
   "execution_count": 25,
   "metadata": {
    "scrolled": false
   },
   "outputs": [
    {
     "name": "stdout",
     "output_type": "stream",
     "text": [
      "1\r",
      "2\r",
      "3\r",
      "4\r",
      "5\r",
      "6\r",
      "7\r",
      "8\r",
      "9\r"
     ]
    }
   ],
   "source": [
    "%%python3\n",
    "\n",
    "for i in range(1,10):\n",
    "    print(i, end = '\\r')"
   ]
  },
  {
   "cell_type": "markdown",
   "metadata": {},
   "source": [
    "### How to filter string items only in list?"
   ]
  },
  {
   "cell_type": "code",
   "execution_count": 62,
   "metadata": {
    "scrolled": false
   },
   "outputs": [
    {
     "data": {
      "text/plain": [
       "['Manavalan', 'Siva']"
      ]
     },
     "execution_count": 62,
     "metadata": {},
     "output_type": "execute_result"
    }
   ],
   "source": [
    "name = ['Manavalan', 'Siva', 13]\n",
    "\n",
    "list((filter(lambda x: isinstance(x,str), name)))"
   ]
  },
  {
   "cell_type": "markdown",
   "metadata": {},
   "source": [
    "### How to check all items in list have string or not?"
   ]
  },
  {
   "cell_type": "code",
   "execution_count": 70,
   "metadata": {
    "scrolled": false
   },
   "outputs": [
    {
     "data": {
      "text/plain": [
       "False"
      ]
     },
     "execution_count": 70,
     "metadata": {},
     "output_type": "execute_result"
    }
   ],
   "source": [
    "name = ['Manavalan', 'Siva', 13]\n",
    "\n",
    "all((map(lambda x: isinstance(x,str), name)))"
   ]
  },
  {
   "cell_type": "code",
   "execution_count": 72,
   "metadata": {
    "scrolled": false
   },
   "outputs": [
    {
     "data": {
      "text/plain": [
       "True"
      ]
     },
     "execution_count": 72,
     "metadata": {},
     "output_type": "execute_result"
    }
   ],
   "source": [
    "name = ['Manavalan', 'Siva', 'Revathy']\n",
    "\n",
    "all((map(lambda x: isinstance(x,str), name)))"
   ]
  },
  {
   "cell_type": "markdown",
   "metadata": {},
   "source": [
    "### What is meaning of . and ..?"
   ]
  },
  {
   "cell_type": "raw",
   "metadata": {},
   "source": [
    ". means current directory\n",
    ".. means parent(previous) directory"
   ]
  },
  {
   "cell_type": "code",
   "execution_count": 86,
   "metadata": {
    "scrolled": false
   },
   "outputs": [
    {
     "name": "stdout",
     "output_type": "stream",
     "text": [
      "/home/mana/Code/Feb\n",
      "/home/mana/Code/Feb\n",
      "/home/mana/Code\n"
     ]
    }
   ],
   "source": [
    "%%bash\n",
    "\n",
    "pwd\n",
    "\n",
    "cd .     # This is jump only current directoty itself\n",
    "\n",
    "pwd\n",
    "\n",
    "cd ..    # This is jump only previous directoty.\n",
    "\n",
    "pwd\n"
   ]
  },
  {
   "cell_type": "markdown",
   "metadata": {},
   "source": [
    "### History"
   ]
  },
  {
   "cell_type": "code",
   "execution_count": null,
   "metadata": {
    "scrolled": false
   },
   "outputs": [],
   "source": [
    "from pathlib import Path\n",
    "\n",
    "p = Path('/home/mana/.bash')"
   ]
  },
  {
   "cell_type": "markdown",
   "metadata": {},
   "source": [
    "### head command"
   ]
  },
  {
   "cell_type": "code",
   "execution_count": 90,
   "metadata": {
    "scrolled": false
   },
   "outputs": [
    {
     "name": "stdout",
     "output_type": "stream",
     "text": [
      "root:x:0:0:root:/root:/bin/bash\n",
      "daemon:x:1:1:daemon:/usr/sbin:/usr/sbin/nologin\n",
      "bin:x:2:2:bin:/bin:/usr/sbin/nologin\n",
      "sys:x:3:3:sys:/dev:/usr/sbin/nologin\n",
      "sync:x:4:65534:sync:/bin:/bin/sync\n",
      "games:x:5:60:games:/usr/games:/usr/sbin/nologin\n",
      "man:x:6:12:man:/var/cache/man:/usr/sbin/nologin\n",
      "lp:x:7:7:lp:/var/spool/lpd:/usr/sbin/nologin\n",
      "mail:x:8:8:mail:/var/mail:/usr/sbin/nologin\n",
      "news:x:9:9:news:/var/spool/news:/usr/sbin/nologin\n"
     ]
    }
   ],
   "source": [
    "%%bash\n",
    "\n",
    "head -10 /etc/passwd"
   ]
  },
  {
   "cell_type": "code",
   "execution_count": 97,
   "metadata": {
    "scrolled": false
   },
   "outputs": [
    {
     "name": "stdout",
     "output_type": "stream",
     "text": [
      "Enter file Name:/etc/passwd\n",
      "Enter number of lines Read:10\n",
      "root:x:0:0:root:/root:/bin/bash\n",
      "daemon:x:1:1:daemon:/usr/sbin:/usr/sbin/nologin\n",
      "bin:x:2:2:bin:/bin:/usr/sbin/nologin\n",
      "sys:x:3:3:sys:/dev:/usr/sbin/nologin\n",
      "sync:x:4:65534:sync:/bin:/bin/sync\n",
      "games:x:5:60:games:/usr/games:/usr/sbin/nologin\n",
      "man:x:6:12:man:/var/cache/man:/usr/sbin/nologin\n",
      "lp:x:7:7:lp:/var/spool/lpd:/usr/sbin/nologin\n",
      "mail:x:8:8:mail:/var/mail:/usr/sbin/nologin\n",
      "news:x:9:9:news:/var/spool/news:/usr/sbin/nologin\n"
     ]
    }
   ],
   "source": [
    "%%python3\n",
    "\n",
    "from pathlib import Path\n",
    "\n",
    "file = input('Enter file Name:')\n",
    "lines = int(input('Enter number of lines Read:'))\n",
    "p = Path(file).read_text().splitlines()\n",
    "print(*p[0:lines], sep = '\\n')"
   ]
  },
  {
   "cell_type": "markdown",
   "metadata": {},
   "source": [
    "### How to substitute name ?"
   ]
  },
  {
   "cell_type": "code",
   "execution_count": 98,
   "metadata": {
    "scrolled": false
   },
   "outputs": [
    {
     "data": {
      "text/plain": [
       "'Usha'"
      ]
     },
     "execution_count": 98,
     "metadata": {},
     "output_type": "execute_result"
    }
   ],
   "source": [
    "name = 'Nimisha'\n",
    "\n",
    "name.replace('Nimi','U')"
   ]
  },
  {
   "cell_type": "markdown",
   "metadata": {},
   "source": [
    "### infinte loop\n",
    "\n",
    "This program run as didgital clock using infinte loop."
   ]
  },
  {
   "cell_type": "code",
   "execution_count": null,
   "metadata": {
    "scrolled": false
   },
   "outputs": [],
   "source": [
    "%%bash\n",
    "\n",
    "while true\n",
    "do\n",
    "echo \"$(date +%T)\"\n",
    "sleep 1\n",
    "done"
   ]
  },
  {
   "cell_type": "code",
   "execution_count": null,
   "metadata": {
    "scrolled": false
   },
   "outputs": [],
   "source": [
    "%%python3\n",
    "\n",
    "from datetime import datetime\n",
    "from time import sleep\n",
    "\n",
    "while True:\n",
    "    print(datetime.now().strftime(\"%T\"))\n",
    "    sleep(1)"
   ]
  },
  {
   "cell_type": "markdown",
   "metadata": {},
   "source": [
    "### How to find directory size?"
   ]
  },
  {
   "cell_type": "code",
   "execution_count": 58,
   "metadata": {
    "scrolled": false
   },
   "outputs": [
    {
     "name": "stdout",
     "output_type": "stream",
     "text": [
      "2.5G\t/home/mana/Downloads\n"
     ]
    }
   ],
   "source": [
    "%%bash\n",
    "\n",
    "du -sh ~/Downloads"
   ]
  },
  {
   "cell_type": "code",
   "execution_count": 61,
   "metadata": {
    "scrolled": false
   },
   "outputs": [
    {
     "data": {
      "text/plain": [
       "'2.6G  /home/mana/Downloads'"
      ]
     },
     "execution_count": 61,
     "metadata": {},
     "output_type": "execute_result"
    }
   ],
   "source": [
    "from pathlib import Path\n",
    "import bisect\n",
    "\n",
    "size = [1, 1e+3, 1e+6, 1e+9]\n",
    "unit = ['B', 'K', 'M', 'G']\n",
    "\n",
    "p = Path('/home/mana/Downloads').rglob('*')\n",
    "s = [i.stat().st_size for i in p]\n",
    "\n",
    "def f_size(byte):\n",
    "    index = bisect.bisect(size, byte) - 1\n",
    "    return \"{:.1f}{}  {}\".format(byte/size[index], unit[index], \n",
    "                                 '/home/mana/Downloads')\n",
    "\n",
    "f_size(sum(s))"
   ]
  },
  {
   "cell_type": "markdown",
   "metadata": {},
   "source": [
    "### How to find runlevel?"
   ]
  },
  {
   "cell_type": "code",
   "execution_count": 138,
   "metadata": {
    "scrolled": false
   },
   "outputs": [
    {
     "name": "stdout",
     "output_type": "stream",
     "text": [
      "5 run-level\n"
     ]
    }
   ],
   "source": [
    "%%bash\n",
    "\n",
    "who -r | awk '{print $2,$1}'"
   ]
  },
  {
   "cell_type": "code",
   "execution_count": 139,
   "metadata": {
    "scrolled": false
   },
   "outputs": [
    {
     "name": "stdout",
     "output_type": "stream",
     "text": [
      "5\u0000\u0000\u0000 \u0000\u0000\u0000\u0000\u0000\u0000\u0000\u0000\u0000\u0000\u0000\u0000\u0000\u0000\u0000\u0000\u0000\u0000\u0000\u0000\u0000\u0000\u0000\u0000\u0000\u0000\u0000\u0000\u0000\u0000\u0000  \u0000\u0000runlevel\n"
     ]
    }
   ],
   "source": [
    "%%python3\n",
    "\n",
    "import re\n",
    "\n",
    "with open('/var/run/utmp',errors='ignore') as f:\n",
    "    r = f.read().split()\n",
    "    for i in r:\n",
    "        m = re.search(r'[3-5].*runlevel',i)\n",
    "        if m:\n",
    "            print(str(m.group()).replace('~',' '))      "
   ]
  },
  {
   "cell_type": "markdown",
   "metadata": {},
   "source": [
    "### Current directory"
   ]
  },
  {
   "cell_type": "code",
   "execution_count": 1,
   "metadata": {
    "scrolled": false
   },
   "outputs": [
    {
     "name": "stdout",
     "output_type": "stream",
     "text": [
      "/home/mana/Code/Feb\r\n"
     ]
    }
   ],
   "source": [
    "!pwd"
   ]
  },
  {
   "cell_type": "code",
   "execution_count": 2,
   "metadata": {
    "scrolled": false
   },
   "outputs": [
    {
     "data": {
      "text/plain": [
       "'/home/mana/Code/Feb'"
      ]
     },
     "execution_count": 2,
     "metadata": {},
     "output_type": "execute_result"
    }
   ],
   "source": [
    "# Method : 1\n",
    "import os \n",
    "\n",
    "os.getcwd()"
   ]
  },
  {
   "cell_type": "code",
   "execution_count": 3,
   "metadata": {
    "scrolled": false
   },
   "outputs": [
    {
     "data": {
      "text/plain": [
       "PosixPath('/home/mana/Code/Feb')"
      ]
     },
     "execution_count": 3,
     "metadata": {},
     "output_type": "execute_result"
    }
   ],
   "source": [
    "#Method: 2\n",
    "\n",
    "import pathlib\n",
    "\n",
    "pathlib.Path.cwd()"
   ]
  },
  {
   "cell_type": "markdown",
   "metadata": {},
   "source": [
    "### How to find that how many nic cards attached in  Linux server?"
   ]
  },
  {
   "cell_type": "code",
   "execution_count": 15,
   "metadata": {
    "scrolled": false
   },
   "outputs": [
    {
     "name": "stdout",
     "output_type": "stream",
     "text": [
      "lo:\r\n",
      "enp2s0:\r\n"
     ]
    }
   ],
   "source": [
    "! ip a | grep -Po \"^\\d:.*:\" | awk '{print $2}'"
   ]
  },
  {
   "cell_type": "code",
   "execution_count": 16,
   "metadata": {
    "scrolled": false
   },
   "outputs": [
    {
     "name": "stdout",
     "output_type": "stream",
     "text": [
      "enp2s0\n",
      "lo\n"
     ]
    }
   ],
   "source": [
    "%%python3\n",
    "\n",
    "import os\n",
    "\n",
    "print(*os.listdir('/sys/class/net'), sep = '\\n')"
   ]
  },
  {
   "cell_type": "markdown",
   "metadata": {},
   "source": [
    "### How to find that which linux command mostly used?"
   ]
  },
  {
   "cell_type": "code",
   "execution_count": 61,
   "metadata": {
    "scrolled": false
   },
   "outputs": [
    {
     "name": "stdout",
     "output_type": "stream",
     "text": [
      "command       Number-of-time-used\n",
      "*********************************\n",
      "mpv                144\n",
      "cat                 60\n",
      "sudo                59\n",
      "cd                  58\n",
      "echo                51\n",
      "l                   44\n",
      "ps                  33\n",
      "top                 32\n",
      "cal                 31\n",
      "ls                  28\n"
     ]
    }
   ],
   "source": [
    "from collections import Counter\n",
    "from pathlib import Path\n",
    "\n",
    "p = Path('/home/mana/.bash_history').read_text().splitlines()\n",
    "cmd = [i.split()[0] for i in p]\n",
    "used = sorted(Counter(cmd).items(), key=lambda x: x[1], reverse = True)[0:10]\n",
    "print('{}       {}'.format('command', 'Number-of-time-used'))\n",
    "print('*'*33)\n",
    "for x in used:\n",
    "    print('{:<5}       {:>10}'.format(x[0],x[1]))"
   ]
  },
  {
   "cell_type": "markdown",
   "metadata": {
    "scrolled": true
   },
   "source": [
    "### Check server health"
   ]
  },
  {
   "cell_type": "code",
   "execution_count": 11,
   "metadata": {
    "scrolled": false
   },
   "outputs": [
    {
     "name": "stdout",
     "output_type": "stream",
     "text": [
      "Server running smooth.\n"
     ]
    }
   ],
   "source": [
    "import os\n",
    "\n",
    "if os.getloadavg()[0] > os.cpu_count():\n",
    "    print('Server going critical stage.')\n",
    "else:\n",
    "    print('Server running smooth.')"
   ]
  },
  {
   "cell_type": "markdown",
   "metadata": {},
   "source": [
    "### How to find that how many process waiting for I/O?"
   ]
  },
  {
   "cell_type": "code",
   "execution_count": 12,
   "metadata": {
    "scrolled": false
   },
   "outputs": [
    {
     "name": "stdout",
     "output_type": "stream",
     "text": [
      "0\n"
     ]
    }
   ],
   "source": [
    "%%bash\n",
    "\n",
    "vmstat 1 2 | awk 'NR == 4 {print $2}'"
   ]
  },
  {
   "cell_type": "code",
   "execution_count": 20,
   "metadata": {
    "scrolled": false
   },
   "outputs": [
    {
     "name": "stdout",
     "output_type": "stream",
     "text": [
      "0\n"
     ]
    }
   ],
   "source": [
    "from pathlib import Path\n",
    "import re\n",
    "\n",
    "p = Path('/proc/stat').read_text().splitlines()\n",
    "block = [i.split() for i in p if re.match(r'procs_blocked',i)]\n",
    "print(block[0][1])"
   ]
  },
  {
   "cell_type": "markdown",
   "metadata": {},
   "source": [
    "### How to fetch command options only?"
   ]
  },
  {
   "cell_type": "code",
   "execution_count": 21,
   "metadata": {
    "scrolled": false
   },
   "outputs": [
    {
     "name": "stdout",
     "output_type": "stream",
     "text": [
      " -a, --all                  do not ignore entries starting with .\n",
      " -A, --almost-all           do not list implied . and ..\n",
      "      --author               with -l, print the author of each file\n",
      " -b, --escape               print C-style escapes for nongraphic characters\n",
      "      --block-size=SIZE      scale sizes by SIZE before printing them; e.g.,\n",
      " -B, --ignore-backups       do not list implied entries ending with ~\n",
      "      --color[=WHEN]         colorize the output; WHEN can be 'always' (default\n",
      " -d, --directory            list directories themselves, not their contents\n",
      " -D, --dired                generate output designed for Emacs' dired mode\n",
      " -F, --classify             append indicator (one of */=>@|) to entries\n",
      "      --file-type            likewise, except do not append '*'\n",
      "      --format=WORD          across -x, commas -m, horizontal -x, long -l,\n",
      " -1, verbose -l, vertical -C\n",
      "      --full-time            like -l --time-style=full-iso\n",
      " -l, but do not list owner\n",
      "      --group-directories-first\n",
      " -G, --no-group             in a long listing, don't print group names\n",
      " -h, --human-readable       with -l and/or -s, print human readable sizes\n",
      "      --si                   likewise, but use powers of 1000 not 1024\n",
      " -H, --dereference-command-line\n",
      "      --dereference-command-line-symlink-to-dir\n",
      "      --hide=PATTERN         do not list implied entries matching shell PATTERN\n",
      "      --indicator-style=WORD  append indicator with style WORD to entry names:\n",
      " -i, --inode                print the index number of each file\n",
      " -I, --ignore=PATTERN       do not list implied entries matching shell PATTERN\n",
      " -k, --kibibytes            default to 1024-byte blocks for disk usage\n",
      " -L, --dereference          when showing file information for a symbolic\n",
      " -n, --numeric-uid-gid      like -l, but list numeric user and group IDs\n",
      " -N, --literal              print raw entry names (don't treat e.g. control\n",
      " -l, but do not list group information\n",
      " -p, --indicator-style=slash\n",
      " -q, --hide-control-chars   print ? instead of nongraphic characters\n",
      "      --show-control-chars   show nongraphic characters as-is (the default,\n",
      " -Q, --quote-name           enclose entry names in double quotes\n",
      "      --quoting-style=WORD   use quoting style WORD for entry names:\n",
      " -r, --reverse              reverse order while sorting\n",
      " -R, --recursive            list subdirectories recursively\n",
      " -s, --size                 print the allocated size of each file, in blocks\n",
      "      --sort=WORD            sort by WORD instead of name: none (-U), size (-S),\n",
      "      --time=WORD            with -l, show time as WORD instead of default\n",
      "      --time-style=STYLE     with -l, show times using style STYLE:\n",
      " -T, --tabsize=COLS         assume tab stops at each COLS instead of 8\n",
      " -w, --width=COLS           set output width to COLS.  0 means no limit\n",
      " -Z, --context              print any security context of each file\n",
      "      --help     display this help and exit\n",
      "      --version  output version information and exit\n"
     ]
    }
   ],
   "source": [
    "%%bash\n",
    "\n",
    "ls --help | grep -Po \"\\s-\\w,.*|\\s{4,}--.*\""
   ]
  },
  {
   "cell_type": "code",
   "execution_count": 23,
   "metadata": {
    "scrolled": false
   },
   "outputs": [
    {
     "name": "stdout",
     "output_type": "stream",
     "text": [
      "      --backup[=CONTROL]       make a backup of each existing destination file\n",
      " -f, --force                  do not prompt before overwriting\n",
      " -i, --interactive            prompt before overwrite\n",
      " -n, --no-clobber             do not overwrite an existing file\n",
      " -i, -f, -n, only the final one takes effect.\n",
      "      --strip-trailing-slashes  remove any trailing slashes from each SOURCE\n",
      " -S, --suffix=SUFFIX          override the usual backup suffix\n",
      " -t, --target-directory=DIRECTORY  move all SOURCE arguments into DIRECTORY\n",
      " -T, --no-target-directory    treat DEST as a normal file\n",
      " -u, --update                 move only when the SOURCE file is newer\n",
      " -v, --verbose                explain what is being done\n",
      " -Z, --context                set SELinux security context of destination\n",
      "      --help     display this help and exit\n",
      "      --version  output version information and exit\n"
     ]
    }
   ],
   "source": [
    "%%bash\n",
    "\n",
    "mv --help | grep -Po \"\\s-\\w,.*|\\s{4,}--.*\""
   ]
  },
  {
   "cell_type": "code",
   "execution_count": 22,
   "metadata": {
    "scrolled": false
   },
   "outputs": [
    {
     "name": "stdout",
     "output_type": "stream",
     "text": [
      " -a, --archive                same as -dR --preserve=all\n",
      "      --attributes-only        don't copy the file data, just the attributes\n",
      "      --backup[=CONTROL]       make a backup of each existing destination file\n",
      "      --copy-contents          copy contents of special files when recursive\n",
      " -f, --force                  if an existing destination file cannot be\n",
      " -i, --interactive            prompt before overwrite (overrides a previous -n\n",
      " -l, --link                   hard link files instead of copying\n",
      " -L, --dereference            always follow symbolic links in SOURCE\n",
      " -n, --no-clobber             do not overwrite an existing file (overrides\n",
      " -P, --no-dereference         never follow symbolic links in SOURCE\n",
      "      --preserve[=ATTR_LIST]   preserve the specified attributes (default:\n",
      "      --no-preserve=ATTR_LIST  don't preserve the specified attributes\n",
      "      --parents                use full source file name under DIRECTORY\n",
      " -R, -r, --recursive          copy directories recursively\n",
      "      --reflink[=WHEN]         control clone/CoW copies. See below\n",
      "      --remove-destination     remove each existing destination file before\n",
      "      --sparse=WHEN            control creation of sparse files. See below\n",
      "      --strip-trailing-slashes  remove any trailing slashes from each SOURCE\n",
      " -s, --symbolic-link          make symbolic links instead of copying\n",
      " -S, --suffix=SUFFIX          override the usual backup suffix\n",
      " -t, --target-directory=DIRECTORY  copy all SOURCE arguments into DIRECTORY\n",
      " -T, --no-target-directory    treat DEST as a normal file\n",
      " -u, --update                 copy only when the SOURCE file is newer\n",
      " -v, --verbose                explain what is being done\n",
      " -x, --one-file-system        stay on this file system\n",
      "      --context[=CTX]          like -Z, or if CTX is specified then set the\n",
      "      --help     display this help and exit\n",
      "      --version  output version information and exit\n"
     ]
    }
   ],
   "source": [
    "%%bash\n",
    "\n",
    "cp --help | grep -Po \"\\s-\\w,.*|\\s{4,}--.*\""
   ]
  },
  {
   "cell_type": "markdown",
   "metadata": {},
   "source": [
    "### Bash Tutorial"
   ]
  },
  {
   "cell_type": "code",
   "execution_count": null,
   "metadata": {
    "scrolled": true
   },
   "outputs": [],
   "source": [
    "%%bash\n",
    "\n",
    " info $0 | grep ''"
   ]
  },
  {
   "cell_type": "code",
   "execution_count": 40,
   "metadata": {
    "scrolled": false
   },
   "outputs": [
    {
     "name": "stdout",
     "output_type": "stream",
     "text": [
      "PING(8)                System Manager's Manual: iputils                PING(8)\n",
      "\n",
      "NAME\n",
      "       ping, ping6 - send ICMP ECHO_REQUEST to network hosts\n",
      "\n",
      "SYNOPSIS\n",
      "       ping  [-aAbBdDfhLnOqrRUvV]  [-c count] [-F flowlabel] [-i interval] [-I\n",
      "       interface] [-l  preload]  [-m  mark]  [-M  pmtudisc_option]  [-N  node‐\n",
      "       info_option] [-w deadline] [-W timeout] [-p pattern] [-Q tos] [-s pack‐\n",
      "       etsize] [-S sndbuf] [-t ttl] [-T timestamp option] [hop  ...]  destina‐\n",
      "       tion\n",
      "\n",
      "DESCRIPTION\n",
      "       ping uses the ICMP protocol's mandatory ECHO_REQUEST datagram to elicit\n",
      "       an ICMP ECHO_RESPONSE from a host or gateway.   ECHO_REQUEST  datagrams\n",
      "       (``pings'')  have  an  IP and ICMP header, followed by a struct timeval\n",
      "       and then an arbitrary number of ``pad'' bytes  used  to  fill  out  the\n",
      "       packet.\n",
      "\n",
      "       ping6  is  IPv6  version  of  ping,  and can also send Node Information\n",
      "       Queries (RFC4620).  Intermediate hops may not be allowed, because  IPv6\n",
      "       source routing was deprecated (RFC5095).\n",
      "\n",
      "OPTIONS\n",
      "       -a     Audible ping.\n",
      "\n",
      "       -A     Adaptive  ping.  Interpacket interval adapts to round-trip time,\n",
      "              so that effectively not more than one (or more,  if  preload  is\n",
      "              set)  unanswered probe is present in the network. Minimal inter‐\n",
      "              val is 200msec for not super-user.  On  networks  with  low  rtt\n",
      "              this mode is essentially equivalent to flood mode.\n",
      "\n",
      "       -b     Allow pinging a broadcast address.\n",
      "\n",
      "       -B     Do  not  allow  ping  to  change  source address of probes.  The\n",
      "              address is bound to one selected when ping starts.\n",
      "\n",
      "       -c count\n",
      "              Stop after sending count  ECHO_REQUEST  packets.  With  deadline\n",
      "              option, ping waits for count ECHO_REPLY packets, until the time‐\n",
      "              out expires.\n",
      "\n",
      "       -d     Set the SO_DEBUG option on the socket being used.   Essentially,\n",
      "              this socket option is not used by Linux kernel.\n",
      "\n",
      "       -D     Print  timestamp  (unix  time + microseconds as in gettimeofday)\n",
      "              before each line.\n",
      "\n",
      "       -f     Flood ping. For  every  ECHO_REQUEST  sent  a  period  ``.''  is\n",
      "              printed,  while  for  ever  ECHO_REPLY  received  a backspace is\n",
      "              printed.  This provides a rapid display of how many packets  are\n",
      "              being  dropped.   If  interval is not given, it sets interval to\n",
      "              zero and outputs packets as fast as they come back or  one  hun‐\n",
      "              dred  times  per second, whichever is more.  Only the super-user\n",
      "              may use this option with zero interval.\n",
      "\n",
      "       -F flow label\n",
      "              ping6 only.  Allocate and set 20 bit flow label (in hex) on echo\n",
      "              request packets.  If value is zero, kernel allocates random flow\n",
      "              label.\n",
      "\n",
      "       -h     Show help.\n",
      "\n",
      "       -i interval\n",
      "              Wait interval seconds between sending each packet.  The  default\n",
      "              is  to  wait for one second between each packet normally, or not\n",
      "              to wait in flood mode. Only super-user may set interval to  val‐\n",
      "              ues less 0.2 seconds.\n",
      "\n",
      "       -I interface\n",
      "              interface is either an address, or an interface name.  If inter‐\n",
      "              face is an address, it sets source address to  specified  inter‐\n",
      "              face address.  If interface in an interface name, it sets source\n",
      "              interface to specified interface.  For ping6, when doing ping to\n",
      "              a link-local scope address, link specification (by the '%'-nota‐\n",
      "              tion in destination, or by this option) is required.\n",
      "\n",
      "       -l preload\n",
      "              If preload is specified, ping sends that many packets not  wait‐\n",
      "              ing for reply.  Only the super-user may select preload more than\n",
      "              3.\n",
      "\n",
      "       -L     Suppress loopback of multicast packets.  This flag only  applies\n",
      "              if the ping destination is a multicast address.\n",
      "\n",
      "       -m mark\n",
      "              use  mark to tag the packets going out. This is useful for vari‐\n",
      "              ety of reasons within the kernel such as using policy routing to\n",
      "              select specific outbound processing.\n",
      "\n",
      "       -M pmtudisc_opt\n",
      "              Select  Path  MTU  Discovery  strategy.   pmtudisc_option may be\n",
      "              either do (prohibit fragmentation, even  local  one),  want  (do\n",
      "              PMTU  discovery, fragment locally when packet size is large), or\n",
      "              dont (do not set DF flag).\n",
      "\n",
      "       -N nodeinfo_option\n",
      "              ping6 only.  Send ICMPv6  Node  Information  Queries  (RFC4620),\n",
      "              instead of Echo Request.\n",
      "\n",
      "              help   Show help for NI support.\n",
      "\n",
      "              name   Queries for Node Names.\n",
      "\n",
      "              ipv6   Queries  for  IPv6 Addresses. There are several IPv6 spe‐\n",
      "                     cific flags.\n",
      "\n",
      "                     ipv6-global\n",
      "                            Request IPv6 global-scope addresses.\n",
      "\n",
      "                     ipv6-sitelocal\n",
      "                            Request IPv6 site-local addresses.\n",
      "\n",
      "                     ipv6-linklocal\n",
      "                            Request IPv6 link-local addresses.\n",
      "\n",
      "                     ipv6-all\n",
      "                            Request IPv6 addresses on other interfaces.\n",
      "\n",
      "              ipv4   Queries for IPv4 Addresses.  There is one  IPv4  specific\n",
      "                     flag.\n",
      "\n",
      "                     ipv4-all\n",
      "                            Request IPv4 addresses on other interfaces.\n",
      "\n",
      "              subject-ipv6=ipv6addr\n",
      "                     IPv6 subject address.\n",
      "\n",
      "              subject-ipv4=ipv4addr\n",
      "                     IPv4 subject address.\n",
      "\n",
      "              subject-name=nodename\n",
      "                     Subject  name.   If it contains more than one dot, fully-\n",
      "                     qualified domain name is assumed.\n",
      "\n",
      "              subject-fqdn=nodename\n",
      "                     Subject name.   Fully-qualified  domain  name  is  always\n",
      "                     assumed.\n",
      "\n",
      "       -n     Numeric output only.  No attempt will be made to lookup symbolic\n",
      "              names for host addresses.\n",
      "\n",
      "       -O     Report outstanding ICMP ECHO reply before sending  next  packet.\n",
      "              This is useful together with the timestamp -D to log output to a\n",
      "              diagnostic file and search for missing answers.\n",
      "\n",
      "       -p pattern\n",
      "              You may specify up to 16 ``pad'' bytes to fill  out  the  packet\n",
      "              you send.  This is useful for diagnosing data-dependent problems\n",
      "              in a network.  For example, -p ff will cause the sent packet  to\n",
      "              be filled with all ones.\n",
      "\n",
      "       -q     Quiet  output.  Nothing is displayed except the summary lines at\n",
      "              startup time and when finished.\n",
      "\n",
      "       -Q tos Set Quality of Service -related bits in ICMP datagrams.  tos can\n",
      "              be decimal (ping only) or hex number.\n",
      "\n",
      "              In RFC2474, these fields are interpreted as 8-bit Differentiated\n",
      "              Services (DS), consisting of: bits 0-1 (2 lowest bits) of  sepa‐\n",
      "              rate  data, and bits 2-7 (highest 6 bits) of Differentiated Ser‐\n",
      "              vices Codepoint (DSCP).  In RFC2481 and RFC3168,  bits  0-1  are\n",
      "              used for ECN.\n",
      "\n",
      "              Historically  (RFC1349, obsoleted by RFC2474), these were inter‐\n",
      "              preted as: bit 0 (lowest  bit)  for  reserved  (currently  being\n",
      "              redefined  as  congestion  control), 1-4 for Type of Service and\n",
      "              bits 5-7 (highest bits) for Precedence.\n",
      "\n",
      "       -r     Bypass the normal routing tables and send directly to a host  on\n",
      "              an  attached  interface.   If  the  host  is  not on a directly-\n",
      "              attached network, an error is returned.  This option can be used\n",
      "              to  ping  a  local  host  through an interface that has no route\n",
      "              through it provided the option -I is also used.\n",
      "\n",
      "       -R     ping only.  Record route.  Includes the RECORD_ROUTE  option  in\n",
      "              the  ECHO_REQUEST  packet  and  displays  the  route  buffer  on\n",
      "              returned packets.  Note that the IP header is only large  enough\n",
      "              for nine such routes.  Many hosts ignore or discard this option.\n",
      "\n",
      "       -s packetsize\n",
      "              Specifies  the  number of data bytes to be sent.  The default is\n",
      "              56, which translates into 64 ICMP data bytes when combined  with\n",
      "              the 8 bytes of ICMP header data.\n",
      "\n",
      "       -S sndbuf\n",
      "              Set  socket  sndbuf.  If not specified, it is selected to buffer\n",
      "              not more than one packet.\n",
      "\n",
      "       -t ttl ping only.  Set the IP Time to Live.\n",
      "\n",
      "       -T timestamp option\n",
      "              Set special IP  timestamp  options.   timestamp  option  may  be\n",
      "              either  tsonly  (only  timestamps),  tsandaddr  (timestamps  and\n",
      "              addresses) or tsprespec host1 [host2 [host3 [host4]]] (timestamp\n",
      "              prespecified hops).\n",
      "\n",
      "       -U     Print  full  user-to-user  latency (the old behaviour). Normally\n",
      "              ping prints network round trip time, which can be different f.e.\n",
      "              due to DNS failures.\n",
      "\n",
      "       -v     Verbose output.\n",
      "\n",
      "       -V     Show version and exit.\n",
      "\n",
      "       -w deadline\n",
      "              Specify  a  timeout, in seconds, before ping exits regardless of\n",
      "              how many packets have been sent or received. In this  case  ping\n",
      "              does  not  stop after count packet are sent, it waits either for\n",
      "              deadline expire or until count probes are answered or  for  some\n",
      "              error notification from network.\n",
      "\n",
      "       -W timeout\n",
      "              Time to wait for a response, in seconds. The option affects only\n",
      "              timeout in absence of any responses, otherwise  ping  waits  for\n",
      "              two RTTs.\n",
      "\n",
      "       When  using  ping  for  fault  isolation, it should first be run on the\n",
      "       local host, to verify that the local network interface is up  and  run‐\n",
      "       ning.  Then,  hosts  and  gateways  further  and further away should be\n",
      "       ``pinged''. Round-trip times and packet loss statistics  are  computed.\n",
      "       If  duplicate packets are received, they are not included in the packet\n",
      "       loss calculation, although the round trip time of these packets is used\n",
      "       in  calculating  the  minimum/average/maximum  round-trip time numbers.\n",
      "       When the specified number of packets have been sent (and  received)  or\n",
      "       if  the  program  is  terminated with a SIGINT, a brief summary is dis‐\n",
      "       played. Shorter current statistics can be obtained without  termination\n",
      "       of process with signal SIGQUIT.\n",
      "\n",
      "       If  ping  does  not  receive any reply packets at all it will exit with\n",
      "       code 1. If a packet count and deadline are both  specified,  and  fewer\n",
      "       than  count  packets are received by the time the deadline has arrived,\n",
      "       it will also exit with code 1.  On other error it exits  with  code  2.\n",
      "       Otherwise  it exits with code 0. This makes it possible to use the exit\n",
      "       code to see if a host is alive or not.\n",
      "\n",
      "       This program is intended for use in network  testing,  measurement  and\n",
      "       management.   Because  of  the load it can impose on the network, it is\n",
      "       unwise to use ping during normal operations or from automated scripts.\n",
      "\n",
      "ICMP PACKET DETAILS\n",
      "       An IP header without options is 20 bytes.  An ICMP ECHO_REQUEST  packet\n",
      "       contains  an  additional  8  bytes  worth of ICMP header followed by an\n",
      "       arbitrary amount of data.  When a packetsize is given,  this  indicated\n",
      "       the  size  of  this  extra  piece of data (the default is 56). Thus the\n",
      "       amount of data received inside of an IP packet of type ICMP  ECHO_REPLY\n",
      "       will  always  be  8  bytes more than the requested data space (the ICMP\n",
      "       header).\n",
      "\n",
      "       If the data space is at least of size of struct timeval ping  uses  the\n",
      "       beginning  bytes  of this space to include a timestamp which it uses in\n",
      "       the computation of round trip times.  If the data space is shorter,  no\n",
      "       round trip times are given.\n",
      "\n",
      "DUPLICATE AND DAMAGED PACKETS\n",
      "       ping  will  report  duplicate  and  damaged packets.  Duplicate packets\n",
      "       should never occur, and seem to be caused by  inappropriate  link-level\n",
      "       retransmissions.   Duplicates  may  occur  in  many  situations and are\n",
      "       rarely (if ever) a good sign, although the presence of  low  levels  of\n",
      "       duplicates may not always be cause for alarm.\n",
      "\n",
      "       Damaged  packets  are obviously serious cause for alarm and often indi‐\n",
      "       cate broken hardware somewhere in the ping packet's path (in  the  net‐\n",
      "       work or in the hosts).\n",
      "\n",
      "TRYING DIFFERENT DATA PATTERNS\n",
      "       The (inter)network layer should never treat packets differently depend‐\n",
      "       ing on the data contained in the data  portion.   Unfortunately,  data-\n",
      "       dependent  problems  have  been known to sneak into networks and remain\n",
      "       undetected for long periods of time.  In many cases the particular pat‐\n",
      "       tern  that will have problems is something that doesn't have sufficient\n",
      "       ``transitions'', such as all ones or all zeros, or a pattern  right  at\n",
      "       the  edge,  such  as  almost all zeros.  It isn't necessarily enough to\n",
      "       specify a data pattern of all zeros (for example) on the  command  line\n",
      "       because  the pattern that is of interest is at the data link level, and\n",
      "       the relationship between what you type and what the controllers  trans‐\n",
      "       mit can be complicated.\n",
      "\n",
      "       This  means that if you have a data-dependent problem you will probably\n",
      "       have to do a lot of testing to find it.  If you are lucky, you may man‐\n",
      "       age  to  find  a  file that either can't be sent across your network or\n",
      "       that takes much longer to transfer than  other  similar  length  files.\n",
      "       You  can then examine this file for repeated patterns that you can test\n",
      "       using the -p option of ping.\n",
      "\n",
      "TTL DETAILS\n",
      "       The TTL value of an IP packet  represents  the  maximum  number  of  IP\n",
      "       routers  that  the  packet can go through before being thrown away.  In\n",
      "       current practice you can expect each router in the Internet  to  decre‐\n",
      "       ment the TTL field by exactly one.\n",
      "\n",
      "       The  TCP/IP  specification  states  that  the TTL field for TCP packets\n",
      "       should be set to 60, but many systems use smaller values (4.3 BSD  uses\n",
      "       30, 4.2 used 15).\n",
      "\n",
      "       The  maximum possible value of this field is 255, and most Unix systems\n",
      "       set the TTL field of ICMP ECHO_REQUEST packets to 255.  This is why you\n",
      "       will  find  you  can  ``ping'' some hosts, but not reach them with tel‐\n",
      "       net(1) or ftp(1).\n",
      "\n",
      "       In normal operation ping prints  the  TTL  value  from  the  packet  it\n",
      "       receives.   When  a remote system receives a ping packet, it can do one\n",
      "       of three things with the TTL field in its response:\n",
      "\n",
      "       · Not change it; this is what Berkeley  Unix  systems  did  before  the\n",
      "         4.3BSD  Tahoe  release.  In  this  case the TTL value in the received\n",
      "         packet will be 255 minus the number  of  routers  in  the  round-trip\n",
      "         path.\n",
      "\n",
      "       · Set  it  to  255;  this is what current Berkeley Unix systems do.  In\n",
      "         this case the TTL value in the received packet will be 255 minus  the\n",
      "         number  of  routers in the path from the remote system to the pinging\n",
      "         host.\n",
      "\n",
      "       · Set it to some other value. Some machines use the same value for ICMP\n",
      "         packets  that  they use for TCP packets, for example either 30 or 60.\n",
      "         Others may use completely wild values.\n",
      "\n",
      "BUGS\n",
      "       · Many Hosts and Gateways ignore the RECORD_ROUTE option.\n",
      "\n",
      "       · The  maximum  IP  header  length  is  too  small  for  options   like\n",
      "         RECORD_ROUTE to be completely useful.  There's not much that that can\n",
      "         be done about this, however.\n",
      "\n",
      "       · Flood pinging is not recommended in general, and  flood  pinging  the\n",
      "         broadcast  address  should  only be done under very controlled condi‐\n",
      "         tions.\n",
      "\n",
      "SEE ALSO\n",
      "       netstat(1), ifconfig(8).\n",
      "\n",
      "HISTORY\n",
      "       The ping command appeared in 4.3BSD.\n",
      "\n",
      "       The version described here is its descendant specific to Linux.\n",
      "\n",
      "SECURITY\n",
      "       ping requires CAP_NET_RAW capability to be executed. It may be used  as\n",
      "       set-uid root.\n",
      "\n",
      "AVAILABILITY\n",
      "       ping  is part of iputils package and the latest versions are  available\n",
      "       in   source    form    at    http://www.skbuff.net/iputils/iputils-cur‐\n",
      "       rent.tar.bz2.\n",
      "\n",
      "iputils-121221                    07 May 2014                          PING(8)\n"
     ]
    },
    {
     "name": "stderr",
     "output_type": "stream",
     "text": [
      "Usage: ping [-aAbBdDfhLnOqrRUvV] [-c count] [-i interval] [-I interface]\n",
      "            [-m mark] [-M pmtudisc_option] [-l preload] [-p pattern] [-Q tos]\n",
      "            [-s packetsize] [-S sndbuf] [-t ttl] [-T timestamp_option]\n",
      "            [-w deadline] [-W timeout] [hop1 ...] destination\n",
      "info: No menu item 'ping' in node '(dir)Top'.\n"
     ]
    }
   ],
   "source": [
    "%%bash\n",
    "\n",
    "ping <<< \"--help \" || info $_ \n"
   ]
  },
  {
   "cell_type": "markdown",
   "metadata": {},
   "source": [
    "### Check your system information"
   ]
  },
  {
   "cell_type": "code",
   "execution_count": 46,
   "metadata": {
    "scrolled": true
   },
   "outputs": [
    {
     "name": "stderr",
     "output_type": "stream",
     "text": [
      "bash: line 3: syntax error near unexpected token `;'\n",
      "bash: line 3: `;sudo parted -l | awk '/^Di.*GB$/{print toupper($1)\":\",$3}''; grep -i pre /etc/os* ) | sed -e'\n"
     ]
    },
    {
     "ename": "CalledProcessError",
     "evalue": "Command 'b'\\n( grep m.*me /proc/cpuinfo -m1 ; sudo -S lshw -C memory <<< 123 | sed -n \\'N;/motherboard/{n;p}\\'\\n;sudo parted -l | awk \\'/^Di.*GB$/{print toupper($1)\":\",$3}\\'\\'; grep -i pre /etc/os* ) | sed -e\\n\"s/m.*:/CPU:/;s/^\\\\s*c.*y/RAM/;s/P.*=/OS: /;s/\\\\\"//g;1 i System Information\"| sed \\'1 i \\\\\\\\\\' | sed \"2 a $(\\nprintf \\'=%.0s\\' {1..18})\";echo \"Desktop: $DESKTOP_SESSION\" | tr [a-z] [A-Z]\\n'' returned non-zero exit status 2",
     "output_type": "error",
     "traceback": [
      "\u001b[0;31m---------------------------------------------------------------------------\u001b[0m",
      "\u001b[0;31mCalledProcessError\u001b[0m                        Traceback (most recent call last)",
      "\u001b[0;32m<ipython-input-46-89f0d03be673>\u001b[0m in \u001b[0;36m<module>\u001b[0;34m\u001b[0m\n\u001b[0;32m----> 1\u001b[0;31m \u001b[0mget_ipython\u001b[0m\u001b[0;34m(\u001b[0m\u001b[0;34m)\u001b[0m\u001b[0;34m.\u001b[0m\u001b[0mrun_cell_magic\u001b[0m\u001b[0;34m(\u001b[0m\u001b[0;34m'bash'\u001b[0m\u001b[0;34m,\u001b[0m \u001b[0;34m''\u001b[0m\u001b[0;34m,\u001b[0m \u001b[0;34m'\\n( grep m.*me /proc/cpuinfo -m1 ; sudo -S lshw -C memory <<< 123 | sed -n \\'N;/motherboard/{n;p}\\'\\n;sudo parted -l | awk \\'/^Di.*GB$/{print toupper($1)\":\",$3}\\'\\'; grep -i pre /etc/os* ) | sed -e\\n\"s/m.*:/CPU:/;s/^\\\\s*c.*y/RAM/;s/P.*=/OS: /;s/\\\\\"//g;1 i System Information\"| sed \\'1 i \\\\\\\\\\' | sed \"2 a $(\\nprintf \\'=%.0s\\' {1..18})\";echo \"Desktop: $DESKTOP_SESSION\" | tr [a-z] [A-Z]\\n'\u001b[0m\u001b[0;34m)\u001b[0m\u001b[0;34m\u001b[0m\u001b[0m\n\u001b[0m",
      "\u001b[0;32m/usr/local/lib/python3.5/dist-packages/IPython/core/interactiveshell.py\u001b[0m in \u001b[0;36mrun_cell_magic\u001b[0;34m(self, magic_name, line, cell)\u001b[0m\n\u001b[1;32m   2321\u001b[0m             \u001b[0mmagic_arg_s\u001b[0m \u001b[0;34m=\u001b[0m \u001b[0mself\u001b[0m\u001b[0;34m.\u001b[0m\u001b[0mvar_expand\u001b[0m\u001b[0;34m(\u001b[0m\u001b[0mline\u001b[0m\u001b[0;34m,\u001b[0m \u001b[0mstack_depth\u001b[0m\u001b[0;34m)\u001b[0m\u001b[0;34m\u001b[0m\u001b[0m\n\u001b[1;32m   2322\u001b[0m             \u001b[0;32mwith\u001b[0m \u001b[0mself\u001b[0m\u001b[0;34m.\u001b[0m\u001b[0mbuiltin_trap\u001b[0m\u001b[0;34m:\u001b[0m\u001b[0;34m\u001b[0m\u001b[0m\n\u001b[0;32m-> 2323\u001b[0;31m                 \u001b[0mresult\u001b[0m \u001b[0;34m=\u001b[0m \u001b[0mfn\u001b[0m\u001b[0;34m(\u001b[0m\u001b[0mmagic_arg_s\u001b[0m\u001b[0;34m,\u001b[0m \u001b[0mcell\u001b[0m\u001b[0;34m)\u001b[0m\u001b[0;34m\u001b[0m\u001b[0m\n\u001b[0m\u001b[1;32m   2324\u001b[0m             \u001b[0;32mreturn\u001b[0m \u001b[0mresult\u001b[0m\u001b[0;34m\u001b[0m\u001b[0m\n\u001b[1;32m   2325\u001b[0m \u001b[0;34m\u001b[0m\u001b[0m\n",
      "\u001b[0;32m/usr/local/lib/python3.5/dist-packages/IPython/core/magics/script.py\u001b[0m in \u001b[0;36mnamed_script_magic\u001b[0;34m(line, cell)\u001b[0m\n\u001b[1;32m    140\u001b[0m             \u001b[0;32melse\u001b[0m\u001b[0;34m:\u001b[0m\u001b[0;34m\u001b[0m\u001b[0m\n\u001b[1;32m    141\u001b[0m                 \u001b[0mline\u001b[0m \u001b[0;34m=\u001b[0m \u001b[0mscript\u001b[0m\u001b[0;34m\u001b[0m\u001b[0m\n\u001b[0;32m--> 142\u001b[0;31m             \u001b[0;32mreturn\u001b[0m \u001b[0mself\u001b[0m\u001b[0;34m.\u001b[0m\u001b[0mshebang\u001b[0m\u001b[0;34m(\u001b[0m\u001b[0mline\u001b[0m\u001b[0;34m,\u001b[0m \u001b[0mcell\u001b[0m\u001b[0;34m)\u001b[0m\u001b[0;34m\u001b[0m\u001b[0m\n\u001b[0m\u001b[1;32m    143\u001b[0m \u001b[0;34m\u001b[0m\u001b[0m\n\u001b[1;32m    144\u001b[0m         \u001b[0;31m# write a basic docstring:\u001b[0m\u001b[0;34m\u001b[0m\u001b[0;34m\u001b[0m\u001b[0m\n",
      "\u001b[0;32m<decorator-gen-109>\u001b[0m in \u001b[0;36mshebang\u001b[0;34m(self, line, cell)\u001b[0m\n",
      "\u001b[0;32m/usr/local/lib/python3.5/dist-packages/IPython/core/magic.py\u001b[0m in \u001b[0;36m<lambda>\u001b[0;34m(f, *a, **k)\u001b[0m\n\u001b[1;32m    185\u001b[0m     \u001b[0;31m# but it's overkill for just that one bit of state.\u001b[0m\u001b[0;34m\u001b[0m\u001b[0;34m\u001b[0m\u001b[0m\n\u001b[1;32m    186\u001b[0m     \u001b[0;32mdef\u001b[0m \u001b[0mmagic_deco\u001b[0m\u001b[0;34m(\u001b[0m\u001b[0marg\u001b[0m\u001b[0;34m)\u001b[0m\u001b[0;34m:\u001b[0m\u001b[0;34m\u001b[0m\u001b[0m\n\u001b[0;32m--> 187\u001b[0;31m         \u001b[0mcall\u001b[0m \u001b[0;34m=\u001b[0m \u001b[0;32mlambda\u001b[0m \u001b[0mf\u001b[0m\u001b[0;34m,\u001b[0m \u001b[0;34m*\u001b[0m\u001b[0ma\u001b[0m\u001b[0;34m,\u001b[0m \u001b[0;34m**\u001b[0m\u001b[0mk\u001b[0m\u001b[0;34m:\u001b[0m \u001b[0mf\u001b[0m\u001b[0;34m(\u001b[0m\u001b[0;34m*\u001b[0m\u001b[0ma\u001b[0m\u001b[0;34m,\u001b[0m \u001b[0;34m**\u001b[0m\u001b[0mk\u001b[0m\u001b[0;34m)\u001b[0m\u001b[0;34m\u001b[0m\u001b[0m\n\u001b[0m\u001b[1;32m    188\u001b[0m \u001b[0;34m\u001b[0m\u001b[0m\n\u001b[1;32m    189\u001b[0m         \u001b[0;32mif\u001b[0m \u001b[0mcallable\u001b[0m\u001b[0;34m(\u001b[0m\u001b[0marg\u001b[0m\u001b[0;34m)\u001b[0m\u001b[0;34m:\u001b[0m\u001b[0;34m\u001b[0m\u001b[0m\n",
      "\u001b[0;32m/usr/local/lib/python3.5/dist-packages/IPython/core/magics/script.py\u001b[0m in \u001b[0;36mshebang\u001b[0;34m(self, line, cell)\u001b[0m\n\u001b[1;32m    243\u001b[0m             \u001b[0msys\u001b[0m\u001b[0;34m.\u001b[0m\u001b[0mstderr\u001b[0m\u001b[0;34m.\u001b[0m\u001b[0mflush\u001b[0m\u001b[0;34m(\u001b[0m\u001b[0;34m)\u001b[0m\u001b[0;34m\u001b[0m\u001b[0m\n\u001b[1;32m    244\u001b[0m         \u001b[0;32mif\u001b[0m \u001b[0margs\u001b[0m\u001b[0;34m.\u001b[0m\u001b[0mraise_error\u001b[0m \u001b[0;32mand\u001b[0m \u001b[0mp\u001b[0m\u001b[0;34m.\u001b[0m\u001b[0mreturncode\u001b[0m\u001b[0;34m!=\u001b[0m\u001b[0;36m0\u001b[0m\u001b[0;34m:\u001b[0m\u001b[0;34m\u001b[0m\u001b[0m\n\u001b[0;32m--> 245\u001b[0;31m             \u001b[0;32mraise\u001b[0m \u001b[0mCalledProcessError\u001b[0m\u001b[0;34m(\u001b[0m\u001b[0mp\u001b[0m\u001b[0;34m.\u001b[0m\u001b[0mreturncode\u001b[0m\u001b[0;34m,\u001b[0m \u001b[0mcell\u001b[0m\u001b[0;34m,\u001b[0m \u001b[0moutput\u001b[0m\u001b[0;34m=\u001b[0m\u001b[0mout\u001b[0m\u001b[0;34m,\u001b[0m \u001b[0mstderr\u001b[0m\u001b[0;34m=\u001b[0m\u001b[0merr\u001b[0m\u001b[0;34m)\u001b[0m\u001b[0;34m\u001b[0m\u001b[0m\n\u001b[0m\u001b[1;32m    246\u001b[0m \u001b[0;34m\u001b[0m\u001b[0m\n\u001b[1;32m    247\u001b[0m     \u001b[0;32mdef\u001b[0m \u001b[0m_run_script\u001b[0m\u001b[0;34m(\u001b[0m\u001b[0mself\u001b[0m\u001b[0;34m,\u001b[0m \u001b[0mp\u001b[0m\u001b[0;34m,\u001b[0m \u001b[0mcell\u001b[0m\u001b[0;34m,\u001b[0m \u001b[0mto_close\u001b[0m\u001b[0;34m)\u001b[0m\u001b[0;34m:\u001b[0m\u001b[0;34m\u001b[0m\u001b[0m\n",
      "\u001b[0;31mCalledProcessError\u001b[0m: Command 'b'\\n( grep m.*me /proc/cpuinfo -m1 ; sudo -S lshw -C memory <<< 123 | sed -n \\'N;/motherboard/{n;p}\\'\\n;sudo parted -l | awk \\'/^Di.*GB$/{print toupper($1)\":\",$3}\\'\\'; grep -i pre /etc/os* ) | sed -e\\n\"s/m.*:/CPU:/;s/^\\\\s*c.*y/RAM/;s/P.*=/OS: /;s/\\\\\"//g;1 i System Information\"| sed \\'1 i \\\\\\\\\\' | sed \"2 a $(\\nprintf \\'=%.0s\\' {1..18})\";echo \"Desktop: $DESKTOP_SESSION\" | tr [a-z] [A-Z]\\n'' returned non-zero exit status 2"
     ]
    }
   ],
   "source": [
    "%%bash\n",
    "\n",
    "( grep m.*me /proc/cpuinfo -m1 ; sudo -S lshw -C memory <<< 123 | sed -n 'N;/motherboard/{n;p}'\n",
    ";sudo parted -l | awk '/^Di.*GB$/{print toupper($1)\":\",$3}''; grep -i pre /etc/os* ) | sed -e\n",
    "\"s/m.*:/CPU:/;s/^\\s*c.*y/RAM/;s/P.*=/OS: /;s/\\\"//g;1 i System Information\"| sed '1 i \\\\' | sed \"2 a $(\n",
    "printf '=%.0s' {1..18})\";echo \"Desktop: $DESKTOP_SESSION\" | tr [a-z] [A-Z]"
   ]
  },
  {
   "cell_type": "code",
   "execution_count": 50,
   "metadata": {},
   "outputs": [
    {
     "name": "stdout",
     "output_type": "stream",
     "text": [
      "model name\t: Intel(R) Pentium(R) 4 CPU 3.06GHz\n",
      "  *-firmware\n",
      "       description: BIOS\n",
      "       vendor: Phoenix Technologies, LTD\n",
      "       physical id: 0\n",
      "       version: 6.00 PG\n",
      "       date: 03/09/2015\n",
      "       size: 128KiB\n",
      "       capacity: 960KiB\n",
      "       capabilities: isa pci pnp apm upgrade shadowing cdboot bootselect socketedrom edd int13floppy360 int13floppy1200 int13floppy720 int13floppy2880 int5printscreen int9keyboard int14serial int17printer int10video acpi usb ls120boot zipboot biosbootspecification\n",
      "  *-cache\n",
      "       description: L1 cache\n",
      "       physical id: 8\n",
      "       slot: Internal Cache\n",
      "       size: 32KiB\n",
      "       capacity: 32KiB\n",
      "       capabilities: synchronous internal write-back\n",
      "       configuration: level=1\n",
      "  *-memory\n",
      "       description: System Memory\n",
      "       physical id: 19\n",
      "       slot: System board or motherboard\n",
      "       size: 3018MiB\n",
      "     *-bank:0\n",
      "          description: DIMM Synchronous 800 MHz (1.2 ns)\n",
      "          physical id: 0\n",
      "          slot: A0\n",
      "          size: 512MiB\n",
      "          width: 64 bits\n",
      "          clock: 800MHz (1.2ns)\n",
      "     *-bank:1\n",
      "          description: DIMM Synchronous 800 MHz (1.2 ns)\n",
      "          physical id: 1\n",
      "          slot: A1\n",
      "          size: 1GiB\n",
      "          width: 64 bits\n",
      "          clock: 800MHz (1.2ns)\n"
     ]
    },
    {
     "name": "stderr",
     "output_type": "stream",
     "text": [
      "[sudo] password for mana: "
     ]
    }
   ],
   "source": [
    "%%bash\n",
    "\n",
    "grep m.*me /proc/cpuinfo -m1 ; sudo -S lshw -C memory <<< 123 "
   ]
  },
  {
   "cell_type": "markdown",
   "metadata": {},
   "source": [
    "### How to print same line?"
   ]
  },
  {
   "cell_type": "code",
   "execution_count": 6,
   "metadata": {},
   "outputs": [
    {
     "name": "stdout",
     "output_type": "stream",
     "text": [
      "a\n",
      "b\n",
      "c\n"
     ]
    }
   ],
   "source": [
    "%%bash\n",
    "\n",
    "cat ~/Work/k.txt"
   ]
  },
  {
   "cell_type": "code",
   "execution_count": 7,
   "metadata": {},
   "outputs": [
    {
     "name": "stdout",
     "output_type": "stream",
     "text": [
      "abc"
     ]
    }
   ],
   "source": [
    "%%bash\n",
    "\n",
    "cat ~/Work/k.txt | tr -d \"\\n\""
   ]
  },
  {
   "cell_type": "code",
   "execution_count": 11,
   "metadata": {},
   "outputs": [
    {
     "name": "stdout",
     "output_type": "stream",
     "text": [
      "abc"
     ]
    }
   ],
   "source": [
    "%%bash\n",
    "\n",
    "for i in $(< ~/Work/k.txt)\n",
    "do\n",
    "echo -en \"$i\"\n",
    "done"
   ]
  },
  {
   "cell_type": "code",
   "execution_count": 18,
   "metadata": {},
   "outputs": [
    {
     "name": "stdout",
     "output_type": "stream",
     "text": [
      "a b c "
     ]
    }
   ],
   "source": [
    "%%python3\n",
    "\n",
    "for i in open('/home/mana/Work/k.txt'):\n",
    "    print(i.strip(), end = ' ')"
   ]
  },
  {
   "cell_type": "code",
   "execution_count": null,
   "metadata": {},
   "outputs": [],
   "source": []
  }
 ],
 "metadata": {
  "kernelspec": {
   "display_name": "Python 3",
   "language": "python",
   "name": "python3"
  },
  "language_info": {
   "codemirror_mode": {
    "name": "ipython",
    "version": 3
   },
   "file_extension": ".py",
   "mimetype": "text/x-python",
   "name": "python",
   "nbconvert_exporter": "python",
   "pygments_lexer": "ipython3",
   "version": "3.5.2"
  },
  "widgets": {
   "application/vnd.jupyter.widget-state+json": {
    "state": {},
    "version_major": 2,
    "version_minor": 0
   }
  }
 },
 "nbformat": 4,
 "nbformat_minor": 2
}
