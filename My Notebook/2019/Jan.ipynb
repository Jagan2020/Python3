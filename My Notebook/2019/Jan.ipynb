{
 "cells": [
  {
   "cell_type": "markdown",
   "metadata": {},
   "source": [
    "### Collect cpu count"
   ]
  },
  {
   "cell_type": "code",
   "execution_count": 1,
   "metadata": {},
   "outputs": [
    {
     "name": "stdout",
     "output_type": "stream",
     "text": [
      "2\n"
     ]
    }
   ],
   "source": [
    "%%bash\n",
    "\n",
    "grep \"^mo.*name\" /proc/cpuinfo | wc -l"
   ]
  },
  {
   "cell_type": "code",
   "execution_count": 2,
   "metadata": {},
   "outputs": [
    {
     "name": "stdout",
     "output_type": "stream",
     "text": [
      "2\n"
     ]
    }
   ],
   "source": [
    "%%python3\n",
    "\n",
    "import os\n",
    "print(os.cpu_count())"
   ]
  },
  {
   "cell_type": "markdown",
   "metadata": {},
   "source": [
    "### How to collect all environment variables?"
   ]
  },
  {
   "cell_type": "code",
   "execution_count": null,
   "metadata": {},
   "outputs": [],
   "source": [
    "%%bash\n",
    "\n",
    "set"
   ]
  },
  {
   "cell_type": "code",
   "execution_count": null,
   "metadata": {},
   "outputs": [],
   "source": [
    "%%python3\n",
    "\n",
    "import os\n",
    "\n",
    "os.environ.keys()"
   ]
  },
  {
   "cell_type": "markdown",
   "metadata": {},
   "source": [
    "### os.error"
   ]
  },
  {
   "cell_type": "code",
   "execution_count": null,
   "metadata": {},
   "outputs": [],
   "source": [
    "import os\n",
    "\n",
    "try:\n",
    "    # If the file does not exist or we dont have,\n",
    "    # then it would throw an IOError\n",
    "    filename = 'JournalDevsas.txt'\n",
    "    jdFile = open(filename, 'r')\n",
    "    text = jdFile.read()\n",
    "    jdFile.close()\n",
    "\n",
    "# Control jumps here if of the above statement throws IOError.\n",
    "except IOError:\n",
    "    # Below statement logs <class 'OSError'>\n",
    "    print(os.error)"
   ]
  },
  {
   "cell_type": "markdown",
   "metadata": {},
   "source": [
    "#### Bash"
   ]
  },
  {
   "cell_type": "code",
   "execution_count": 169,
   "metadata": {},
   "outputs": [
    {
     "name": "stdout",
     "output_type": "stream",
     "text": [
      "/home/mana/Temp/Theme/Pop-Remix.zip\n"
     ]
    }
   ],
   "source": [
    "%%bash\n",
    "\n",
    "find /home/mana -type f -name \"Pop-Remix.zip\""
   ]
  },
  {
   "cell_type": "markdown",
   "metadata": {},
   "source": [
    "### How to search file recursively?"
   ]
  },
  {
   "cell_type": "markdown",
   "metadata": {},
   "source": [
    "#### Python3"
   ]
  },
  {
   "cell_type": "code",
   "execution_count": 170,
   "metadata": {},
   "outputs": [
    {
     "name": "stdout",
     "output_type": "stream",
     "text": [
      "Enter File Name: Pop-Remix.zip\n",
      "/home/mana/Temp/Theme/Pop-Remix.zip\n"
     ]
    }
   ],
   "source": [
    "from pathlib import Path as Pa\n",
    "\n",
    "f = Pa(input('Enter File Name: '))\n",
    "d = Pa('/home/mana/')\n",
    "\n",
    "for i in d.rglob('*'):\n",
    "    if i.name.lower() == f.name.lower():\n",
    "        if i.is_file():\n",
    "            print(i)"
   ]
  },
  {
   "cell_type": "code",
   "execution_count": 171,
   "metadata": {},
   "outputs": [
    {
     "name": "stdout",
     "output_type": "stream",
     "text": [
      "Enter File Name: sYslog\n",
      "/var/log/syslog\n",
      "/var/log/installer/syslog\n"
     ]
    }
   ],
   "source": [
    "from pathlib import Path as Pa\n",
    "\n",
    "f = Pa(input('Enter File Name: '))\n",
    "d = Pa('/var')\n",
    "\n",
    "for i in d.rglob('*'):\n",
    "    if i.name.lower() == f.name.lower():\n",
    "        if i.is_file():\n",
    "            print(i)"
   ]
  },
  {
   "cell_type": "markdown",
   "metadata": {},
   "source": [
    "### How to search directory recursively?"
   ]
  },
  {
   "cell_type": "markdown",
   "metadata": {},
   "source": [
    "#### Bash"
   ]
  },
  {
   "cell_type": "code",
   "execution_count": 252,
   "metadata": {},
   "outputs": [
    {
     "name": "stdout",
     "output_type": "stream",
     "text": [
      "/home/mana/Temp/Theme\n"
     ]
    }
   ],
   "source": [
    "%%bash\n",
    "\n",
    "find /home/mana -type d -name \"Theme\""
   ]
  },
  {
   "cell_type": "markdown",
   "metadata": {},
   "source": [
    "#### Python3"
   ]
  },
  {
   "cell_type": "code",
   "execution_count": 251,
   "metadata": {},
   "outputs": [
    {
     "name": "stdout",
     "output_type": "stream",
     "text": [
      "Enter folder Name: theme\n",
      "/home/mana/Temp/Theme\n"
     ]
    }
   ],
   "source": [
    "from pathlib import Path as Pa\n",
    "\n",
    "f = Pa(input('Enter folder Name: '))\n",
    "d = Pa('/home/mana/')\n",
    "\n",
    "for i in d.rglob('*'):\n",
    "    if i.name.lower() == f.name.lower():\n",
    "        if i.is_dir():\n",
    "            print(i)"
   ]
  },
  {
   "cell_type": "markdown",
   "metadata": {
    "slideshow": {
     "slide_type": "notes"
    }
   },
   "source": [
    "### How to collect load average every 10 mintues?\n",
    "This program collect and stroe in load.log file."
   ]
  },
  {
   "cell_type": "code",
   "execution_count": 299,
   "metadata": {
    "slideshow": {
     "slide_type": "fragment"
    }
   },
   "outputs": [],
   "source": [
    "from datetime import datetime as da\n",
    "import os\n",
    "import re\n",
    "\n",
    "tme = format(da.now()).split('.')[0]\n",
    "file = os.path.join(os.environ['HOME'], 'load.log')\n",
    "load = os.getloadavg()\n",
    "cl = re.sub(r'\\(|\\)','',str(load))\n",
    "ldt = tme + '\\t-->\\t' + cl + '\\n'\n",
    "\n",
    "with open(file, 'a+') as fl:\n",
    "    fl.write(ldt)"
   ]
  },
  {
   "cell_type": "markdown",
   "metadata": {},
   "source": [
    "### How to search same file recursively with multiple extension?"
   ]
  },
  {
   "cell_type": "code",
   "execution_count": 190,
   "metadata": {},
   "outputs": [
    {
     "name": "stdout",
     "output_type": "stream",
     "text": [
      "Where to search?\n",
      "Enter Folder Name: /var\n",
      "Enter File Name: SySlog\n",
      "/var/lib/systemd/deb-systemd-helper-enabled/syslog.service\n",
      "/var/log/syslog.1\n",
      "/var/log/syslog\n",
      "/var/log/installer/syslog\n"
     ]
    }
   ],
   "source": [
    "from pathlib import Path as Pa\n",
    "\n",
    "print('Where to search?')\n",
    "d = Pa(input('Enter Folder Name: '))\n",
    "f = Pa(input('Enter File Name: '))\n",
    "\n",
    "for i in d.rglob('*'):\n",
    "    if i.stem.lower() == f.stem.lower():\n",
    "        if i.is_file():\n",
    "            print(i)"
   ]
  },
  {
   "cell_type": "markdown",
   "metadata": {},
   "source": [
    "### How to get maximum key-value pair from a dictionary?"
   ]
  },
  {
   "cell_type": "code",
   "execution_count": 250,
   "metadata": {},
   "outputs": [
    {
     "data": {
      "text/plain": [
       "('b', 24)"
      ]
     },
     "execution_count": 250,
     "metadata": {},
     "output_type": "execute_result"
    }
   ],
   "source": [
    "import operator\n",
    "d = {'a': 7, 'b': 24, 'c': 11}\n",
    "max(d.items(), key=operator.itemgetter(1))\n"
   ]
  },
  {
   "cell_type": "code",
   "execution_count": 207,
   "metadata": {},
   "outputs": [
    {
     "data": {
      "text/plain": [
       "('b', 24)"
      ]
     },
     "execution_count": 207,
     "metadata": {},
     "output_type": "execute_result"
    }
   ],
   "source": [
    "d = {'a': 7, 'b': 24, 'c': 11}\n",
    "max(d.items(), key = lambda x: x[1])"
   ]
  },
  {
   "cell_type": "markdown",
   "metadata": {},
   "source": [
    "### How to Create file as Linux style in python?\n",
    "It will create file to path /home/mana"
   ]
  },
  {
   "cell_type": "code",
   "execution_count": 210,
   "metadata": {},
   "outputs": [],
   "source": [
    "from pathlib import Path as Pa\n",
    "\n",
    "p = Pa('/home/mana/new.txt')\n",
    "p.touch()"
   ]
  },
  {
   "cell_type": "markdown",
   "metadata": {},
   "source": [
    "### How to remove pattern occupied multiple lines?"
   ]
  },
  {
   "cell_type": "code",
   "execution_count": 258,
   "metadata": {},
   "outputs": [
    {
     "name": "stdout",
     "output_type": "stream",
     "text": [
      " '>4B.S.2_139542   \n",
      "ATGCATGTCTAAGTATAAACTGCTTATACTGTGAAACTGCGAATGGCTCAT\n",
      "TAAATCAGTTATAGTTTATTTGGTGGTACCTTACTACTCGGATAACCGTAG\n",
      "TAATTCTAGAGCTAATACGTGCGCAC \n"
     ]
    }
   ],
   "source": [
    "import re\n",
    "\n",
    "st = ''' '>4B.S.2_139542 IP4J2GB01BEH83 orig_bc=TAATTGTC \n",
    "new_bc=TAATTGTC bc_diffs=0 \n",
    "ATGCATGTCTAAGTATAAACTGCTTATACTGTGAAACTGCGAATGGCTCAT\n",
    "TAAATCAGTTATAGTTTATTTGGTGGTACCTTACTACTCGGATAACCGTAG\n",
    "TAATTCTAGAGCTAATACGTGCGCAC '''\n",
    "\n",
    "print(re.sub(r'IP.*\\n.*=0',' ',st))"
   ]
  },
  {
   "cell_type": "markdown",
   "metadata": {},
   "source": [
    "### How to list normal user?"
   ]
  },
  {
   "cell_type": "code",
   "execution_count": 287,
   "metadata": {},
   "outputs": [
    {
     "name": "stdout",
     "output_type": "stream",
     "text": [
      "UID Range: ['1000', '60000']\n",
      "mana 1000\n"
     ]
    }
   ],
   "source": [
    "%%python3\n",
    "\n",
    "from pathlib import Path as Pa\n",
    "import pwd\n",
    "import re\n",
    "\n",
    "\n",
    "p = Pa('/etc/login.defs').read_text()\n",
    "uid = [u.split()[-1] \n",
    "       for u in p.splitlines() \n",
    "       if re.match(r'UID_MIN|UID_MAX',u)]\n",
    "usr = [(i[0],i[2]) for i in pwd.getpwall()]\n",
    "\n",
    "print('UID Range:',uid)\n",
    "for x in usr:\n",
    "    if int(uid[0]) <= x[1] <= int(uid[1]):\n",
    "        print(*x)"
   ]
  },
  {
   "cell_type": "markdown",
   "metadata": {},
   "source": [
    "### How to collect module's methods and variables?"
   ]
  },
  {
   "cell_type": "code",
   "execution_count": 320,
   "metadata": {},
   "outputs": [
    {
     "name": "stdout",
     "output_type": "stream",
     "text": [
      "These are Variables of date module:\n",
      "***********************************\n",
      "day\n",
      "max\n",
      "min\n",
      "month\n",
      "resolution\n",
      "year\n",
      "\n",
      "These are Methods of date module:\n",
      "***********************************\n",
      "ctime\n",
      "fromordinal\n",
      "fromtimestamp\n",
      "isocalendar\n",
      "isoformat\n",
      "isoweekday\n",
      "replace\n",
      "strftime\n",
      "timetuple\n",
      "today\n",
      "toordinal\n",
      "weekday\n"
     ]
    }
   ],
   "source": [
    "from datetime import date\n",
    "\n",
    "d = [i for i in dir(date) \n",
    "     if not i.startswith('_')]\n",
    "\n",
    "print('These are Variables of date module:')\n",
    "print('*'*35)\n",
    "for x in d:\n",
    "    if not callable(getattr(date, x)):\n",
    "        print(x)\n",
    "else:\n",
    "    print()\n",
    "\n",
    "print('These are Methods of date module:')\n",
    "print('*'*35)\n",
    "for x in d:\n",
    "    if callable(getattr(date, x)):\n",
    "        print(x)"
   ]
  },
  {
   "cell_type": "markdown",
   "metadata": {},
   "source": [
    "#### How to calculate percentage?\n",
    "scored point/total point"
   ]
  },
  {
   "cell_type": "code",
   "execution_count": 323,
   "metadata": {},
   "outputs": [
    {
     "name": "stdout",
     "output_type": "stream",
     "text": [
      "76.0%\n"
     ]
    }
   ],
   "source": [
    "print('{:.1%}'.format(912/1200))"
   ]
  },
  {
   "cell_type": "markdown",
   "metadata": {},
   "source": [
    "### Sorted integer"
   ]
  },
  {
   "cell_type": "code",
   "execution_count": 371,
   "metadata": {},
   "outputs": [
    {
     "name": "stdout",
     "output_type": "stream",
     "text": [
      "353891309342\n",
      "0 1 2 3 3 3 3 4 5 8 9 9\n",
      "CPU times: user 16 ms, sys: 4 ms, total: 20 ms\n",
      "Wall time: 16.5 s\n"
     ]
    }
   ],
   "source": [
    "%%time\n",
    "\n",
    "nums = list(map(int, list(input())))\n",
    "numbers = []\n",
    "finished_sorting = False\n",
    "while not finished_sorting:\n",
    "    min_value_of_nums = min(nums)\n",
    "    indeks_of_min_value = nums.index(min_value_of_nums)\n",
    "    numbers.appe%%nd(min_value_of_nums)\n",
    "    nums.pop(indeks_of_min_value)\n",
    "    if len(nums) == 0:\n",
    "        del nums\n",
    "        finished_sorting = True\n",
    "\n",
    "\n",
    "print(*numbers)"
   ]
  },
  {
   "cell_type": "markdown",
   "metadata": {},
   "source": [
    "### How to sorted integer number?"
   ]
  },
  {
   "cell_type": "code",
   "execution_count": 372,
   "metadata": {},
   "outputs": [
    {
     "name": "stdout",
     "output_type": "stream",
     "text": [
      "353891309342\n",
      "0 1 2 3 3 3 3 4 5 8 9 9\n"
     ]
    }
   ],
   "source": [
    "print(*sorted(list(map(int, list(input())))))"
   ]
  },
  {
   "cell_type": "code",
   "execution_count": 388,
   "metadata": {},
   "outputs": [
    {
     "name": "stdout",
     "output_type": "stream",
     "text": [
      "manavalan\n",
      "a a a a l m n n v\n"
     ]
    }
   ],
   "source": [
    "print(*sorted(list(map(str, list(input())))))"
   ]
  },
  {
   "cell_type": "markdown",
   "metadata": {},
   "source": [
    "### Which is best one sort or sorted?\n",
    "Best for one sorted."
   ]
  },
  {
   "cell_type": "code",
   "execution_count": 386,
   "metadata": {},
   "outputs": [
    {
     "name": "stdout",
     "output_type": "stream",
     "text": [
      "6173321897109345\n",
      "0 1 1 1 2 3 3 3 4 5 6 7 7 8 9 9\n",
      "CPU times: user 12 ms, sys: 4 ms, total: 16 ms\n",
      "Wall time: 4.8 s\n"
     ]
    }
   ],
   "source": [
    "%%time\n",
    "\n",
    "l = list(map(int, list(input())))\n",
    "l.sort()\n",
    "print(*l)"
   ]
  },
  {
   "cell_type": "code",
   "execution_count": 387,
   "metadata": {},
   "outputs": [
    {
     "name": "stdout",
     "output_type": "stream",
     "text": [
      "6173321897109345\n",
      "6 1 7 3 3 2 1 8 9 7 1 0 9 3 4 5\n",
      "CPU times: user 20 ms, sys: 0 ns, total: 20 ms\n",
      "Wall time: 2.09 s\n"
     ]
    }
   ],
   "source": [
    "%%time\n",
    "\n",
    "l = list(map(int, list(input())))\n",
    "sorted(l)\n",
    "print(*l)"
   ]
  },
  {
   "cell_type": "markdown",
   "metadata": {},
   "source": [
    "### How to use grouping regex in python and bash?"
   ]
  },
  {
   "cell_type": "code",
   "execution_count": 7,
   "metadata": {},
   "outputs": [
    {
     "name": "stdout",
     "output_type": "stream",
     "text": [
      "cat\n",
      "rat\n"
     ]
    }
   ],
   "source": [
    "%%bash\n",
    "\n",
    "echo \"cat see a rat\" | egrep -o \"(c|r)at\""
   ]
  },
  {
   "cell_type": "code",
   "execution_count": 14,
   "metadata": {},
   "outputs": [
    {
     "name": "stdout",
     "output_type": "stream",
     "text": [
      "['cat', 'rat']\n"
     ]
    }
   ],
   "source": [
    "%%python3\n",
    "\n",
    "import re\n",
    "\n",
    "st = \"cat see a rat\"\n",
    "\n",
    "r = re.findall(r'(?:c|r)at', st)\n",
    "print(r)"
   ]
  },
  {
   "cell_type": "markdown",
   "metadata": {},
   "source": [
    "### How to convert datetime format from string?"
   ]
  },
  {
   "cell_type": "code",
   "execution_count": 18,
   "metadata": {},
   "outputs": [
    {
     "data": {
      "text/plain": [
       "'12-01-2019'"
      ]
     },
     "execution_count": 18,
     "metadata": {},
     "output_type": "execute_result"
    }
   ],
   "source": [
    "from datetime import datetime\n",
    "\n",
    "stringd = '12 Jan 2019'\n",
    "datetime.strptime(stringd, \"%d %b %Y\").strftime(\"%d-%m-%Y\")"
   ]
  },
  {
   "cell_type": "markdown",
   "metadata": {},
   "source": [
    "### How to get today day name?### "
   ]
  },
  {
   "cell_type": "code",
   "execution_count": 24,
   "metadata": {},
   "outputs": [
    {
     "name": "stdout",
     "output_type": "stream",
     "text": [
      "Tuesday\n"
     ]
    }
   ],
   "source": [
    "%%bash\n",
    "\n",
    "date +\"%A\""
   ]
  },
  {
   "cell_type": "code",
   "execution_count": 26,
   "metadata": {},
   "outputs": [
    {
     "name": "stdout",
     "output_type": "stream",
     "text": [
      "Tuesday\n"
     ]
    }
   ],
   "source": [
    "%%python3\n",
    "\n",
    "from datetime import datetime\n",
    "\n",
    "print(datetime.now().strftime('%A'))"
   ]
  },
  {
   "cell_type": "markdown",
   "metadata": {},
   "source": [
    "### How to delete files older than 7 days?"
   ]
  },
  {
   "cell_type": "code",
   "execution_count": null,
   "metadata": {},
   "outputs": [],
   "source": [
    "%%bash\n",
    "\n",
    "find /home/mana/Temp/task -type f -mtime +7 -print0 | xargs -0 -n1 rm"
   ]
  },
  {
   "cell_type": "code",
   "execution_count": 91,
   "metadata": {},
   "outputs": [
    {
     "name": "stdout",
     "output_type": "stream",
     "text": [
      "/home/mana/Temp/task/Best Theme.txt\n",
      "Above files are deleted.\n"
     ]
    }
   ],
   "source": [
    "%%python3\n",
    "\n",
    "from pathlib import Path\n",
    "from datetime import date\n",
    "\n",
    "today = date.today()\n",
    "p = Path('/home/mana/Temp/task')\n",
    "fm = [(i, today - date.fromtimestamp(i.stat()[-2]))\n",
    "      for i in p.iterdir()]\n",
    "\n",
    "for x,y in fm:\n",
    "    if y.days > 7:\n",
    "        print(x)\n",
    "        x.unlink() \n",
    "else:\n",
    "    print('Above files are deleted.')"
   ]
  },
  {
   "cell_type": "markdown",
   "metadata": {},
   "source": [
    "### How to get list attributes with docstring?"
   ]
  },
  {
   "cell_type": "code",
   "execution_count": 92,
   "metadata": {},
   "outputs": [
    {
     "name": "stdout",
     "output_type": "stream",
     "text": [
      "S.capitalize() -> str\n",
      "\n",
      "Return a capitalized version of S, i.e. make the first character\n",
      "have upper case and the rest lower case.\n",
      "**********************************************************************\n",
      "S.casefold() -> str\n",
      "\n",
      "Return a version of S suitable for caseless comparisons.\n",
      "**********************************************************************\n",
      "S.center(width[, fillchar]) -> str\n",
      "\n",
      "Return S centered in a string of length width. Padding is\n",
      "done using the specified fill character (default is a space)\n",
      "**********************************************************************\n",
      "S.count(sub[, start[, end]]) -> int\n",
      "\n",
      "Return the number of non-overlapping occurrences of substring sub in\n",
      "string S[start:end].  Optional arguments start and end are\n",
      "interpreted as in slice notation.\n",
      "**********************************************************************\n",
      "S.encode(encoding='utf-8', errors='strict') -> bytes\n",
      "\n",
      "Encode S using the codec registered for encoding. Default encoding\n",
      "is 'utf-8'. errors may be given to set a different error\n",
      "handling scheme. Default is 'strict' meaning that encoding errors raise\n",
      "a UnicodeEncodeError. Other possible values are 'ignore', 'replace' and\n",
      "'xmlcharrefreplace' as well as any other name registered with\n",
      "codecs.register_error that can handle UnicodeEncodeErrors.\n",
      "**********************************************************************\n",
      "S.endswith(suffix[, start[, end]]) -> bool\n",
      "\n",
      "Return True if S ends with the specified suffix, False otherwise.\n",
      "With optional start, test S beginning at that position.\n",
      "With optional end, stop comparing S at that position.\n",
      "suffix can also be a tuple of strings to try.\n",
      "**********************************************************************\n",
      "S.expandtabs(tabsize=8) -> str\n",
      "\n",
      "Return a copy of S where all tab characters are expanded using spaces.\n",
      "If tabsize is not given, a tab size of 8 characters is assumed.\n",
      "**********************************************************************\n",
      "S.find(sub[, start[, end]]) -> int\n",
      "\n",
      "Return the lowest index in S where substring sub is found,\n",
      "such that sub is contained within S[start:end].  Optional\n",
      "arguments start and end are interpreted as in slice notation.\n",
      "\n",
      "Return -1 on failure.\n",
      "**********************************************************************\n",
      "S.format(*args, **kwargs) -> str\n",
      "\n",
      "Return a formatted version of S, using substitutions from args and kwargs.\n",
      "The substitutions are identified by braces ('{' and '}').\n",
      "**********************************************************************\n",
      "S.format_map(mapping) -> str\n",
      "\n",
      "Return a formatted version of S, using substitutions from mapping.\n",
      "The substitutions are identified by braces ('{' and '}').\n",
      "**********************************************************************\n",
      "S.index(sub[, start[, end]]) -> int\n",
      "\n",
      "Like S.find() but raise ValueError when the substring is not found.\n",
      "**********************************************************************\n",
      "S.isalnum() -> bool\n",
      "\n",
      "Return True if all characters in S are alphanumeric\n",
      "and there is at least one character in S, False otherwise.\n",
      "**********************************************************************\n",
      "S.isalpha() -> bool\n",
      "\n",
      "Return True if all characters in S are alphabetic\n",
      "and there is at least one character in S, False otherwise.\n",
      "**********************************************************************\n",
      "S.isdecimal() -> bool\n",
      "\n",
      "Return True if there are only decimal characters in S,\n",
      "False otherwise.\n",
      "**********************************************************************\n",
      "S.isdigit() -> bool\n",
      "\n",
      "Return True if all characters in S are digits\n",
      "and there is at least one character in S, False otherwise.\n",
      "**********************************************************************\n",
      "S.isidentifier() -> bool\n",
      "\n",
      "Return True if S is a valid identifier according\n",
      "to the language definition.\n",
      "\n",
      "Use keyword.iskeyword() to test for reserved identifiers\n",
      "such as \"def\" and \"class\".\n",
      "\n",
      "**********************************************************************\n",
      "S.islower() -> bool\n",
      "\n",
      "Return True if all cased characters in S are lowercase and there is\n",
      "at least one cased character in S, False otherwise.\n",
      "**********************************************************************\n",
      "S.isnumeric() -> bool\n",
      "\n",
      "Return True if there are only numeric characters in S,\n",
      "False otherwise.\n",
      "**********************************************************************\n",
      "S.isprintable() -> bool\n",
      "\n",
      "Return True if all characters in S are considered\n",
      "printable in repr() or S is empty, False otherwise.\n",
      "**********************************************************************\n",
      "S.isspace() -> bool\n",
      "\n",
      "Return True if all characters in S are whitespace\n",
      "and there is at least one character in S, False otherwise.\n",
      "**********************************************************************\n",
      "S.istitle() -> bool\n",
      "\n",
      "Return True if S is a titlecased string and there is at least one\n",
      "character in S, i.e. upper- and titlecase characters may only\n",
      "follow uncased characters and lowercase characters only cased ones.\n",
      "Return False otherwise.\n",
      "**********************************************************************\n",
      "S.isupper() -> bool\n",
      "\n",
      "Return True if all cased characters in S are uppercase and there is\n",
      "at least one cased character in S, False otherwise.\n",
      "**********************************************************************\n",
      "S.join(iterable) -> str\n",
      "\n",
      "Return a string which is the concatenation of the strings in the\n",
      "iterable.  The separator between elements is S.\n",
      "**********************************************************************\n",
      "S.ljust(width[, fillchar]) -> str\n",
      "\n",
      "Return S left-justified in a Unicode string of length width. Padding is\n",
      "done using the specified fill character (default is a space).\n",
      "**********************************************************************\n",
      "S.lower() -> str\n",
      "\n",
      "Return a copy of the string S converted to lowercase.\n",
      "**********************************************************************\n",
      "S.lstrip([chars]) -> str\n",
      "\n",
      "Return a copy of the string S with leading whitespace removed.\n",
      "If chars is given and not None, remove characters in chars instead.\n",
      "**********************************************************************\n",
      "Return a translation table usable for str.translate().\n",
      "\n",
      "If there is only one argument, it must be a dictionary mapping Unicode\n",
      "ordinals (integers) or characters to Unicode ordinals, strings or None.\n",
      "Character keys will be then converted to ordinals.\n",
      "If there are two arguments, they must be strings of equal length, and\n",
      "in the resulting dictionary, each character in x will be mapped to the\n",
      "character at the same position in y. If there is a third argument, it\n",
      "must be a string, whose characters will be mapped to None in the result.\n",
      "**********************************************************************\n",
      "S.partition(sep) -> (head, sep, tail)\n",
      "\n",
      "Search for the separator sep in S, and return the part before it,\n",
      "the separator itself, and the part after it.  If the separator is not\n",
      "found, return S and two empty strings.\n",
      "**********************************************************************\n",
      "S.replace(old, new[, count]) -> str\n",
      "\n",
      "Return a copy of S with all occurrences of substring\n",
      "old replaced by new.  If the optional argument count is\n",
      "given, only the first count occurrences are replaced.\n",
      "**********************************************************************\n",
      "S.rfind(sub[, start[, end]]) -> int\n",
      "\n",
      "Return the highest index in S where substring sub is found,\n",
      "such that sub is contained within S[start:end].  Optional\n",
      "arguments start and end are interpreted as in slice notation.\n",
      "\n",
      "Return -1 on failure.\n",
      "**********************************************************************\n",
      "S.rindex(sub[, start[, end]]) -> int\n",
      "\n",
      "Like S.rfind() but raise ValueError when the substring is not found.\n",
      "**********************************************************************\n",
      "S.rjust(width[, fillchar]) -> str\n",
      "\n",
      "Return S right-justified in a string of length width. Padding is\n",
      "done using the specified fill character (default is a space).\n",
      "**********************************************************************\n",
      "S.rpartition(sep) -> (head, sep, tail)\n",
      "\n",
      "Search for the separator sep in S, starting at the end of S, and return\n",
      "the part before it, the separator itself, and the part after it.  If the\n",
      "separator is not found, return two empty strings and S.\n",
      "**********************************************************************\n",
      "S.rsplit(sep=None, maxsplit=-1) -> list of strings\n",
      "\n",
      "Return a list of the words in S, using sep as the\n",
      "delimiter string, starting at the end of the string and\n",
      "working to the front.  If maxsplit is given, at most maxsplit\n",
      "splits are done. If sep is not specified, any whitespace string\n",
      "is a separator.\n",
      "**********************************************************************\n",
      "S.rstrip([chars]) -> str\n",
      "\n",
      "Return a copy of the string S with trailing whitespace removed.\n",
      "If chars is given and not None, remove characters in chars instead.\n",
      "**********************************************************************\n",
      "S.split(sep=None, maxsplit=-1) -> list of strings\n",
      "\n",
      "Return a list of the words in S, using sep as the\n",
      "delimiter string.  If maxsplit is given, at most maxsplit\n",
      "splits are done. If sep is not specified or is None, any\n",
      "whitespace string is a separator and empty strings are\n",
      "removed from the result.\n",
      "**********************************************************************\n",
      "S.splitlines([keepends]) -> list of strings\n",
      "\n",
      "Return a list of the lines in S, breaking at line boundaries.\n",
      "Line breaks are not included in the resulting list unless keepends\n",
      "is given and true.\n",
      "**********************************************************************\n",
      "S.startswith(prefix[, start[, end]]) -> bool\n",
      "\n",
      "Return True if S starts with the specified prefix, False otherwise.\n",
      "With optional start, test S beginning at that position.\n",
      "With optional end, stop comparing S at that position.\n",
      "prefix can also be a tuple of strings to try.\n",
      "**********************************************************************\n",
      "S.strip([chars]) -> str\n",
      "\n",
      "Return a copy of the string S with leading and trailing\n",
      "whitespace removed.\n",
      "If chars is given and not None, remove characters in chars instead.\n",
      "**********************************************************************\n",
      "S.swapcase() -> str\n",
      "\n",
      "Return a copy of S with uppercase characters converted to lowercase\n",
      "and vice versa.\n",
      "**********************************************************************\n",
      "S.title() -> str\n",
      "\n",
      "Return a titlecased version of S, i.e. words start with title case\n",
      "characters, all remaining cased characters have lower case.\n",
      "**********************************************************************\n",
      "S.translate(table) -> str\n",
      "\n",
      "Return a copy of the string S in which each character has been mapped\n",
      "through the given translation table. The table must implement\n",
      "lookup/indexing via __getitem__, for instance a dictionary or list,\n",
      "mapping Unicode ordinals to Unicode ordinals, strings, or None. If\n",
      "this operation raises LookupError, the character is left untouched.\n",
      "Characters mapped to None are deleted.\n",
      "**********************************************************************\n",
      "S.upper() -> str\n",
      "\n",
      "Return a copy of S converted to uppercase.\n",
      "**********************************************************************\n",
      "S.zfill(width) -> str\n",
      "\n",
      "Pad a numeric string S with zeros on the left, to fill a field\n",
      "of the specified width. The string S is never truncated.\n",
      "**********************************************************************\n",
      "L.append(object) -> None -- append object to end\n",
      "**********************************************************************\n",
      "L.clear() -> None -- remove all items from L\n",
      "**********************************************************************\n",
      "L.copy() -> list -- a shallow copy of L\n",
      "**********************************************************************\n",
      "L.count(value) -> integer -- return number of occurrences of value\n",
      "**********************************************************************\n",
      "L.extend(iterable) -> None -- extend list by appending elements from the iterable\n",
      "**********************************************************************\n",
      "L.index(value, [start, [stop]]) -> integer -- return first index of value.\n",
      "Raises ValueError if the value is not present.\n",
      "**********************************************************************\n",
      "L.insert(index, object) -- insert object before index\n",
      "**********************************************************************\n",
      "L.pop([index]) -> item -- remove and return item at index (default last).\n",
      "Raises IndexError if list is empty or index is out of range.\n",
      "**********************************************************************\n",
      "L.remove(value) -> None -- remove first occurrence of value.\n",
      "Raises ValueError if the value is not present.\n",
      "**********************************************************************\n",
      "L.reverse() -- reverse *IN PLACE*\n",
      "**********************************************************************\n",
      "L.sort(key=None, reverse=False) -> None -- stable sort *IN PLACE*\n",
      "**********************************************************************\n",
      "L.append(object) -> None -- append object to end\n",
      "**********************************************************************\n",
      "L.clear() -> None -- remove all items from L\n",
      "**********************************************************************\n",
      "L.copy() -> list -- a shallow copy of L\n",
      "**********************************************************************\n",
      "L.count(value) -> integer -- return number of occurrences of value\n",
      "**********************************************************************\n",
      "L.extend(iterable) -> None -- extend list by appending elements from the iterable\n",
      "**********************************************************************\n",
      "L.index(value, [start, [stop]]) -> integer -- return first index of value.\n",
      "Raises ValueError if the value is not present.\n",
      "**********************************************************************\n",
      "L.insert(index, object) -- insert object before index\n",
      "**********************************************************************\n",
      "L.pop([index]) -> item -- remove and return item at index (default last).\n",
      "Raises IndexError if list is empty or index is out of range.\n",
      "**********************************************************************\n",
      "L.remove(value) -> None -- remove first occurrence of value.\n",
      "Raises ValueError if the value is not present.\n",
      "**********************************************************************\n",
      "L.reverse() -- reverse *IN PLACE*\n",
      "**********************************************************************\n",
      "L.sort(key=None, reverse=False) -> None -- stable sort *IN PLACE*\n",
      "**********************************************************************\n",
      "D.clear() -> None.  Remove all items from D.\n",
      "**********************************************************************\n",
      "D.copy() -> a shallow copy of D\n",
      "**********************************************************************\n",
      "Returns a new dict with keys from iterable and values equal to value.\n",
      "**********************************************************************\n",
      "D.get(k[,d]) -> D[k] if k in D, else d.  d defaults to None.\n",
      "**********************************************************************\n",
      "D.items() -> a set-like object providing a view on D's items\n",
      "**********************************************************************\n",
      "D.keys() -> a set-like object providing a view on D's keys\n",
      "**********************************************************************\n",
      "D.pop(k[,d]) -> v, remove specified key and return the corresponding value.\n",
      "If key is not found, d is returned if given, otherwise KeyError is raised\n",
      "**********************************************************************\n",
      "D.popitem() -> (k, v), remove and return some (key, value) pair as a\n",
      "2-tuple; but raise KeyError if D is empty.\n",
      "**********************************************************************\n",
      "D.setdefault(k[,d]) -> D.get(k,d), also set D[k]=d if k not in D\n",
      "**********************************************************************\n",
      "D.update([E, ]**F) -> None.  Update D from dict/iterable E and F.\n",
      "If E is present and has a .keys() method, then does:  for k in E: D[k] = E[k]\n",
      "If E is present and lacks a .keys() method, then does:  for k, v in E: D[k] = v\n",
      "In either case, this is followed by: for k in F:  D[k] = F[k]\n",
      "**********************************************************************\n",
      "D.values() -> an object providing a view on D's values\n",
      "**********************************************************************\n"
     ]
    }
   ],
   "source": [
    "import re\n",
    "\n",
    "# string\n",
    "for i in dir(''):\n",
    "    if re.match(r'^[a-z]',i):\n",
    "        print(getattr('',i).__doc__)\n",
    "        print('*'*70)\n",
    "# list\n",
    "for i in dir([]):\n",
    "    if re.match(r'^[a-z]',i):\n",
    "        print(getattr([],i).__doc__)\n",
    "        print('*'*70)\n",
    "\n",
    "# tuple\n",
    "for i in dir([]):\n",
    "    if re.match(r'^[a-z]',i):\n",
    "        print(getattr([],i).__doc__)\n",
    "        print('*'*70)\n",
    "\n",
    "# dictionary\n",
    "for i in dir({}):\n",
    "    if re.match(r'^[a-z]',i):\n",
    "        print(getattr({},i).__doc__)\n",
    "        print('*'*70)"
   ]
  },
  {
   "cell_type": "markdown",
   "metadata": {},
   "source": [
    "###  How to list Exception with docstring?\n"
   ]
  },
  {
   "cell_type": "code",
   "execution_count": 93,
   "metadata": {},
   "outputs": [
    {
     "name": "stdout",
     "output_type": "stream",
     "text": [
      "ArithmeticError --> Base class for arithmetic errors.\n",
      "********************************************************************************\n",
      "AssertionError --> Assertion failed.\n",
      "********************************************************************************\n",
      "AttributeError --> Attribute not found.\n",
      "********************************************************************************\n",
      "BaseException --> Common base class for all exceptions\n",
      "********************************************************************************\n",
      "BlockingIOError --> I/O operation would block.\n",
      "********************************************************************************\n",
      "BrokenPipeError --> Broken pipe.\n",
      "********************************************************************************\n",
      "BufferError --> Buffer error.\n",
      "********************************************************************************\n",
      "BytesWarning --> Base class for warnings about bytes and buffer related problems, mostly\n",
      "related to conversion from str or comparing to str.\n",
      "********************************************************************************\n",
      "ChildProcessError --> Child process error.\n",
      "********************************************************************************\n",
      "ConnectionAbortedError --> Connection aborted.\n",
      "********************************************************************************\n",
      "ConnectionError --> Connection error.\n",
      "********************************************************************************\n",
      "ConnectionRefusedError --> Connection refused.\n",
      "********************************************************************************\n",
      "ConnectionResetError --> Connection reset.\n",
      "********************************************************************************\n",
      "DeprecationWarning --> Base class for warnings about deprecated features.\n",
      "********************************************************************************\n",
      "EOFError --> Read beyond end of file.\n",
      "********************************************************************************\n",
      "Ellipsis --> None\n",
      "********************************************************************************\n",
      "EnvironmentError --> Base class for I/O related errors.\n",
      "********************************************************************************\n",
      "Exception --> Common base class for all non-exit exceptions.\n",
      "********************************************************************************\n",
      "FileExistsError --> File already exists.\n",
      "********************************************************************************\n",
      "FileNotFoundError --> File not found.\n",
      "********************************************************************************\n",
      "FloatingPointError --> Floating point operation failed.\n",
      "********************************************************************************\n",
      "FutureWarning --> Base class for warnings about constructs that will change semantically\n",
      "in the future.\n",
      "********************************************************************************\n",
      "GeneratorExit --> Request that a generator exit.\n",
      "********************************************************************************\n",
      "IOError --> Base class for I/O related errors.\n",
      "********************************************************************************\n",
      "ImportError --> Import can't find module, or can't find name in module.\n",
      "********************************************************************************\n",
      "ImportWarning --> Base class for warnings about probable mistakes in module imports\n",
      "********************************************************************************\n",
      "IndentationError --> Improper indentation.\n",
      "********************************************************************************\n",
      "IndexError --> Sequence index out of range.\n",
      "********************************************************************************\n",
      "InterruptedError --> Interrupted by signal.\n",
      "********************************************************************************\n",
      "IsADirectoryError --> Operation doesn't work on directories.\n",
      "********************************************************************************\n",
      "KeyError --> Mapping key not found.\n",
      "********************************************************************************\n",
      "KeyboardInterrupt --> Program interrupted by user.\n",
      "********************************************************************************\n",
      "LookupError --> Base class for lookup errors.\n",
      "********************************************************************************\n",
      "MemoryError --> Out of memory.\n",
      "********************************************************************************\n",
      "NameError --> Name not found globally.\n",
      "********************************************************************************\n",
      "NotADirectoryError --> Operation only works on directories.\n",
      "********************************************************************************\n",
      "NotImplemented --> None\n",
      "********************************************************************************\n",
      "NotImplementedError --> Method or function hasn't been implemented yet.\n",
      "********************************************************************************\n",
      "OSError --> Base class for I/O related errors.\n",
      "********************************************************************************\n",
      "OverflowError --> Result too large to be represented.\n",
      "********************************************************************************\n",
      "PendingDeprecationWarning --> Base class for warnings about features which will be deprecated\n",
      "in the future.\n",
      "********************************************************************************\n",
      "PermissionError --> Not enough permissions.\n",
      "********************************************************************************\n",
      "ProcessLookupError --> Process not found.\n",
      "********************************************************************************\n",
      "RecursionError --> Recursion limit exceeded.\n",
      "********************************************************************************\n",
      "ReferenceError --> Weak ref proxy used after referent went away.\n",
      "********************************************************************************\n",
      "ResourceWarning --> Base class for warnings about resource usage.\n",
      "********************************************************************************\n",
      "RuntimeError --> Unspecified run-time error.\n",
      "********************************************************************************\n",
      "RuntimeWarning --> Base class for warnings about dubious runtime behavior.\n",
      "********************************************************************************\n",
      "StopAsyncIteration --> Signal the end from iterator.__anext__().\n",
      "********************************************************************************\n",
      "StopIteration --> Signal the end from iterator.__next__().\n",
      "********************************************************************************\n",
      "SyntaxError --> Invalid syntax.\n",
      "********************************************************************************\n",
      "SyntaxWarning --> Base class for warnings about dubious syntax.\n",
      "********************************************************************************\n",
      "SystemError --> Internal error in the Python interpreter.\n",
      "\n",
      "Please report this to the Python maintainer, along with the traceback,\n",
      "the Python version, and the hardware/OS platform and version.\n",
      "********************************************************************************\n",
      "SystemExit --> Request to exit from the interpreter.\n",
      "********************************************************************************\n",
      "TabError --> Improper mixture of spaces and tabs.\n",
      "********************************************************************************\n",
      "TimeoutError --> Timeout expired.\n",
      "********************************************************************************\n",
      "TypeError --> Inappropriate argument type.\n",
      "********************************************************************************\n",
      "UnboundLocalError --> Local name referenced but not bound to a value.\n",
      "********************************************************************************\n",
      "UnicodeDecodeError --> Unicode decoding error.\n",
      "********************************************************************************\n",
      "UnicodeEncodeError --> Unicode encoding error.\n",
      "********************************************************************************\n",
      "UnicodeError --> Unicode related error.\n",
      "********************************************************************************\n",
      "UnicodeTranslateError --> Unicode translation error.\n",
      "********************************************************************************\n",
      "UnicodeWarning --> Base class for warnings about Unicode related problems, mostly\n",
      "related to conversion problems.\n",
      "********************************************************************************\n",
      "UserWarning --> Base class for warnings generated by user code.\n",
      "********************************************************************************\n",
      "ValueError --> Inappropriate argument value (of correct type).\n",
      "********************************************************************************\n",
      "Warning --> Base class for warning categories.\n",
      "********************************************************************************\n",
      "ZeroDivisionError --> Second argument to a division or modulo operation was zero.\n",
      "********************************************************************************\n"
     ]
    }
   ],
   "source": [
    "import builtins\n",
    "import re\n",
    "\n",
    "for i in dir(builtins):\n",
    "    if re.match(r'^[A-Z]',i):\n",
    "        if not re.match(r'^(None|False|True)', i):\n",
    "            print(i,'-->',getattr(builtins,i).__doc__)\n",
    "            print('*'*80)"
   ]
  },
  {
   "cell_type": "markdown",
   "metadata": {},
   "source": [
    "###  How to list Builtin functions with docstring?"
   ]
  },
  {
   "cell_type": "code",
   "execution_count": 140,
   "metadata": {},
   "outputs": [
    {
     "name": "stdout",
     "output_type": "stream",
     "text": [
      "abs:\n",
      "----\n",
      "Return the absolute value of the argument.\n",
      "**********************************************************************\n",
      "all:\n",
      "----\n",
      "Return True if bool(x) is True for all values x in the iterable.\n",
      "\n",
      "If the iterable is empty, return True.\n",
      "**********************************************************************\n",
      "any:\n",
      "----\n",
      "Return True if bool(x) is True for any x in the iterable.\n",
      "\n",
      "If the iterable is empty, return False.\n",
      "**********************************************************************\n",
      "ascii:\n",
      "------\n",
      "Return an ASCII-only representation of an object.\n",
      "\n",
      "As repr(), return a string containing a printable representation of an\n",
      "object, but escape the non-ASCII characters in the string returned by\n",
      "repr() using \\\\x, \\\\u or \\\\U escapes. This generates a string similar\n",
      "to that returned by repr() in Python 2.\n",
      "**********************************************************************\n",
      "bin:\n",
      "----\n",
      "Return the binary representation of an integer.\n",
      "\n",
      "   >>> bin(2796202)\n",
      "   '0b1010101010101010101010'\n",
      "**********************************************************************\n",
      "bool:\n",
      "-----\n",
      "bool(x) -> bool\n",
      "\n",
      "Returns True when the argument x is true, False otherwise.\n",
      "The builtins True and False are the only two instances of the class bool.\n",
      "The class bool is a subclass of the class int, and cannot be subclassed.\n",
      "**********************************************************************\n",
      "bytearray:\n",
      "----------\n",
      "bytearray(iterable_of_ints) -> bytearray\n",
      "bytearray(string, encoding[, errors]) -> bytearray\n",
      "bytearray(bytes_or_buffer) -> mutable copy of bytes_or_buffer\n",
      "bytearray(int) -> bytes array of size given by the parameter initialized with null bytes\n",
      "bytearray() -> empty bytes array\n",
      "\n",
      "Construct a mutable bytearray object from:\n",
      "  - an iterable yielding integers in range(256)\n",
      "  - a text string encoded using the specified encoding\n",
      "  - a bytes or a buffer object\n",
      "  - any object implementing the buffer API.\n",
      "  - an integer\n",
      "**********************************************************************\n",
      "bytes:\n",
      "------\n",
      "bytes(iterable_of_ints) -> bytes\n",
      "bytes(string, encoding[, errors]) -> bytes\n",
      "bytes(bytes_or_buffer) -> immutable copy of bytes_or_buffer\n",
      "bytes(int) -> bytes object of size given by the parameter initialized with null bytes\n",
      "bytes() -> empty bytes object\n",
      "\n",
      "Construct an immutable array of bytes from:\n",
      "  - an iterable yielding integers in range(256)\n",
      "  - a text string encoded using the specified encoding\n",
      "  - any object implementing the buffer API.\n",
      "  - an integer\n",
      "**********************************************************************\n",
      "callable:\n",
      "---------\n",
      "Return whether the object is callable (i.e., some kind of function).\n",
      "\n",
      "Note that classes are callable, as are instances of classes with a\n",
      "__call__() method.\n",
      "**********************************************************************\n",
      "chr:\n",
      "----\n",
      "Return a Unicode string of one character with ordinal i; 0 <= i <= 0x10ffff.\n",
      "**********************************************************************\n",
      "classmethod:\n",
      "------------\n",
      "classmethod(function) -> method\n",
      "\n",
      "Convert a function to be a class method.\n",
      "\n",
      "A class method receives the class as implicit first argument,\n",
      "just like an instance method receives the instance.\n",
      "To declare a class method, use this idiom:\n",
      "\n",
      "  class C:\n",
      "      def f(cls, arg1, arg2, ...): ...\n",
      "      f = classmethod(f)\n",
      "\n",
      "It can be called either on the class (e.g. C.f()) or on an instance\n",
      "(e.g. C().f()).  The instance is ignored except for its class.\n",
      "If a class method is called for a derived class, the derived class\n",
      "object is passed as the implied first argument.\n",
      "\n",
      "Class methods are different than C++ or Java static methods.\n",
      "If you want those, see the staticmethod builtin.\n",
      "**********************************************************************\n",
      "compile:\n",
      "--------\n",
      "Compile source into a code object that can be executed by exec() or eval().\n",
      "\n",
      "The source code may represent a Python module, statement or expression.\n",
      "The filename will be used for run-time error messages.\n",
      "The mode must be 'exec' to compile a module, 'single' to compile a\n",
      "single (interactive) statement, or 'eval' to compile an expression.\n",
      "The flags argument, if present, controls which future statements influence\n",
      "the compilation of the code.\n",
      "The dont_inherit argument, if true, stops the compilation inheriting\n",
      "the effects of any future statements in effect in the code calling\n",
      "compile; if absent or false these statements do influence the compilation,\n",
      "in addition to any features explicitly specified.\n",
      "**********************************************************************\n",
      "complex:\n",
      "--------\n",
      "complex(real[, imag]) -> complex number\n",
      "\n",
      "Create a complex number from a real part and an optional imaginary part.\n",
      "This is equivalent to (real + imag*1j) where imag defaults to 0.\n",
      "**********************************************************************\n",
      "copyright:\n",
      "----------\n",
      "interactive prompt objects for printing the license text, a list of\n",
      "    contributors and the copyright notice.\n",
      "**********************************************************************\n",
      "credits:\n",
      "--------\n",
      "interactive prompt objects for printing the license text, a list of\n",
      "    contributors and the copyright notice.\n",
      "**********************************************************************\n",
      "delattr:\n",
      "--------\n",
      "Deletes the named attribute from the given object.\n",
      "\n",
      "delattr(x, 'y') is equivalent to ``del x.y''\n",
      "**********************************************************************\n",
      "dict:\n",
      "-----\n",
      "dict() -> new empty dictionary\n",
      "dict(mapping) -> new dictionary initialized from a mapping object's\n",
      "    (key, value) pairs\n",
      "dict(iterable) -> new dictionary initialized as if via:\n",
      "    d = {}\n",
      "    for k, v in iterable:\n",
      "        d[k] = v\n",
      "dict(**kwargs) -> new dictionary initialized with the name=value pairs\n",
      "    in the keyword argument list.  For example:  dict(one=1, two=2)\n",
      "**********************************************************************\n",
      "dir:\n",
      "----\n",
      "dir([object]) -> list of strings\n",
      "\n",
      "If called without an argument, return the names in the current scope.\n",
      "Else, return an alphabetized list of names comprising (some of) the attributes\n",
      "of the given object, and of attributes reachable from it.\n",
      "If the object supplies a method named __dir__, it will be used; otherwise\n",
      "the default dir() logic is used and returns:\n",
      "  for a module object: the module's attributes.\n",
      "  for a class object:  its attributes, and recursively the attributes\n",
      "    of its bases.\n",
      "  for any other object: its attributes, its class's attributes, and\n",
      "    recursively the attributes of its class's base classes.\n",
      "**********************************************************************\n",
      "display:\n",
      "--------\n",
      "Display a Python object in all frontends.\n",
      "\n",
      "    By default all representations will be computed and sent to the frontends.\n",
      "    Frontends can decide which representation is used and how.\n",
      "\n",
      "    In terminal IPython this will be similar to using :func:`print`, for use in richer\n",
      "    frontends see Jupyter notebook examples with rich display logic.\n",
      "\n",
      "    Parameters\n",
      "    ----------\n",
      "    objs : tuple of objects\n",
      "        The Python objects to display.\n",
      "    raw : bool, optional\n",
      "        Are the objects to be displayed already mimetype-keyed dicts of raw display data,\n",
      "        or Python objects that need to be formatted before display? [default: False]\n",
      "    include : list, tuple or set, optional\n",
      "        A list of format type strings (MIME types) to include in the\n",
      "        format data dict. If this is set *only* the format types included\n",
      "        in this list will be computed.\n",
      "    exclude : list, tuple or set, optional\n",
      "        A list of format type strings (MIME types) to exclude in the format\n",
      "        data dict. If this is set all format types will be computed,\n",
      "        except for those included in this argument.\n",
      "    metadata : dict, optional\n",
      "        A dictionary of metadata to associate with the output.\n",
      "        mime-type keys in this dictionary will be associated with the individual\n",
      "        representation formats, if they exist.\n",
      "    transient : dict, optional\n",
      "        A dictionary of transient data to associate with the output.\n",
      "        Data in this dict should not be persisted to files (e.g. notebooks).\n",
      "    display_id : str, bool optional\n",
      "        Set an id for the display.\n",
      "        This id can be used for updating this display area later via update_display.\n",
      "        If given as `True`, generate a new `display_id`\n",
      "    kwargs: additional keyword-args, optional\n",
      "        Additional keyword-arguments are passed through to the display publisher.\n",
      "\n",
      "    Returns\n",
      "    -------\n",
      "\n",
      "    handle: DisplayHandle\n",
      "        Returns a handle on updatable displays for use with :func:`update_display`,\n",
      "        if `display_id` is given. Returns :any:`None` if no `display_id` is given\n",
      "        (default).\n",
      "\n",
      "    Examples\n",
      "    --------\n",
      "\n",
      "    >>> class Json(object):\n",
      "    ...     def __init__(self, json):\n",
      "    ...         self.json = json\n",
      "    ...     def _repr_pretty_(self, pp, cycle):\n",
      "    ...         import json\n",
      "    ...         pp.text(json.dumps(self.json, indent=2))\n",
      "    ...     def __repr__(self):\n",
      "    ...         return str(self.json)\n",
      "    ...\n",
      "\n",
      "    >>> d = Json({1:2, 3: {4:5}})\n",
      "\n",
      "    >>> print(d)\n",
      "    {1: 2, 3: {4: 5}}\n",
      "\n",
      "    >>> display(d)\n",
      "    {\n",
      "      \"1\": 2,\n",
      "      \"3\": {\n",
      "        \"4\": 5\n",
      "      }\n",
      "    }\n",
      "\n",
      "    >>> def int_formatter(integer, pp, cycle):\n",
      "    ...     pp.text('I'*integer)\n",
      "\n",
      "    >>> plain = get_ipython().display_formatter.formatters['text/plain']\n",
      "    >>> plain.for_type(int, int_formatter)\n",
      "    <function _repr_pprint at 0x...>\n",
      "    >>> display(7-5)\n",
      "    II\n",
      "\n",
      "    >>> del plain.type_printers[int]\n",
      "    >>> display(7-5)\n",
      "    2\n",
      "\n",
      "    See Also\n",
      "    --------\n",
      "\n",
      "    :func:`update_display`\n",
      "\n",
      "    Notes\n",
      "    -----\n",
      "\n",
      "    In Python, objects can declare their textual representation using the\n",
      "    `__repr__` method. IPython expands on this idea and allows objects to declare\n",
      "    other, rich representations including:\n",
      "\n",
      "      - HTML\n",
      "      - JSON\n",
      "      - PNG\n",
      "      - JPEG\n",
      "      - SVG\n",
      "      - LaTeX\n",
      "\n",
      "    A single object can declare some or all of these representations; all are\n",
      "    handled by IPython's display system.\n",
      "\n",
      "    The main idea of the first approach is that you have to implement special\n",
      "    display methods when you define your class, one for each representation you\n",
      "    want to use. Here is a list of the names of the special methods and the\n",
      "    values they must return:\n",
      "\n",
      "      - `_repr_html_`: return raw HTML as a string, or a tuple (see below).\n",
      "      - `_repr_json_`: return a JSONable dict, or a tuple (see below).\n",
      "      - `_repr_jpeg_`: return raw JPEG data, or a tuple (see below).\n",
      "      - `_repr_png_`: return raw PNG data, or a tuple (see below).\n",
      "      - `_repr_svg_`: return raw SVG data as a string, or a tuple (see below).\n",
      "      - `_repr_latex_`: return LaTeX commands in a string surrounded by \"$\",\n",
      "                        or a tuple (see below).\n",
      "      - `_repr_mimebundle_`: return a full mimebundle containing the mapping\n",
      "                             from all mimetypes to data.\n",
      "                             Use this for any mime-type not listed above.\n",
      "\n",
      "    The above functions may also return the object's metadata alonside the\n",
      "    data.  If the metadata is available, the functions will return a tuple\n",
      "    containing the data and metadata, in that order.  If there is no metadata\n",
      "    available, then the functions will return the data only.\n",
      "\n",
      "    When you are directly writing your own classes, you can adapt them for\n",
      "    display in IPython by following the above approach. But in practice, you\n",
      "    often need to work with existing classes that you can't easily modify.\n",
      "\n",
      "    You can refer to the documentation on integrating with the display system in\n",
      "    order to register custom formatters for already existing types\n",
      "    (:ref:`integrating_rich_display`).\n",
      "\n",
      "    .. versionadded:: 5.4 display available without import\n",
      "    .. versionadded:: 6.1 display available without import\n",
      "\n",
      "    Since IPython 5.4 and 6.1 :func:`display` is automatically made available to\n",
      "    the user without import. If you are using display in a document that might\n",
      "    be used in a pure python context or with older version of IPython, use the\n",
      "    following import at the top of your file::\n",
      "\n",
      "        from IPython.display import display\n",
      "\n",
      "    \n",
      "**********************************************************************\n",
      "divmod:\n",
      "-------\n",
      "Return the tuple (x//y, x%y).  Invariant: div*y + mod == x.\n",
      "**********************************************************************\n",
      "enumerate:\n",
      "----------\n",
      "enumerate(iterable[, start]) -> iterator for index, value of iterable\n",
      "\n",
      "Return an enumerate object.  iterable must be another object that supports\n",
      "iteration.  The enumerate object yields pairs containing a count (from\n",
      "start, which defaults to zero) and a value yielded by the iterable argument.\n",
      "enumerate is useful for obtaining an indexed list:\n",
      "    (0, seq[0]), (1, seq[1]), (2, seq[2]), ...\n",
      "**********************************************************************\n",
      "eval:\n",
      "-----\n",
      "Evaluate the given source in the context of globals and locals.\n",
      "\n",
      "The source may be a string representing a Python expression\n",
      "or a code object as returned by compile().\n",
      "The globals must be a dictionary and locals can be any mapping,\n",
      "defaulting to the current globals and locals.\n",
      "If only globals is given, locals defaults to it.\n",
      "**********************************************************************\n",
      "exec:\n",
      "-----\n",
      "Execute the given source in the context of globals and locals.\n",
      "\n",
      "The source may be a string representing one or more Python statements\n",
      "or a code object as returned by compile().\n",
      "The globals must be a dictionary and locals can be any mapping,\n",
      "defaulting to the current globals and locals.\n",
      "If only globals is given, locals defaults to it.\n",
      "**********************************************************************\n",
      "filter:\n",
      "-------\n",
      "filter(function or None, iterable) --> filter object\n",
      "\n",
      "Return an iterator yielding those items of iterable for which function(item)\n",
      "is true. If function is None, return the items that are true.\n",
      "**********************************************************************\n",
      "float:\n",
      "------\n",
      "float(x) -> floating point number\n",
      "\n",
      "Convert a string or number to a floating point number, if possible.\n",
      "**********************************************************************\n",
      "format:\n",
      "-------\n",
      "Return value.__format__(format_spec)\n",
      "\n",
      "format_spec defaults to the empty string\n",
      "**********************************************************************\n",
      "frozenset:\n",
      "----------\n",
      "frozenset() -> empty frozenset object\n",
      "frozenset(iterable) -> frozenset object\n",
      "\n",
      "Build an immutable unordered collection of unique elements.\n",
      "**********************************************************************\n",
      "get_ipython:\n",
      "------------\n",
      "Return the currently running IPython instance.\n",
      "**********************************************************************\n",
      "getattr:\n",
      "--------\n",
      "getattr(object, name[, default]) -> value\n",
      "\n",
      "Get a named attribute from an object; getattr(x, 'y') is equivalent to x.y.\n",
      "When a default argument is given, it is returned when the attribute doesn't\n",
      "exist; without it, an exception is raised in that case.\n",
      "**********************************************************************\n",
      "globals:\n",
      "--------\n",
      "Return the dictionary containing the current scope's global variables.\n",
      "\n",
      "NOTE: Updates to this dictionary *will* affect name lookups in the current\n",
      "global scope and vice-versa.\n",
      "**********************************************************************\n",
      "hasattr:\n",
      "--------\n",
      "Return whether the object has an attribute with the given name.\n",
      "\n",
      "This is done by calling getattr(obj, name) and catching AttributeError.\n",
      "**********************************************************************\n",
      "hash:\n",
      "-----\n",
      "Return the hash value for the given object.\n",
      "\n",
      "Two objects that compare equal must also have the same hash value, but the\n",
      "reverse is not necessarily true.\n",
      "**********************************************************************\n",
      "help:\n",
      "-----\n",
      "Define the builtin 'help'.\n",
      "\n",
      "    This is a wrapper around pydoc.help that provides a helpful message\n",
      "    when 'help' is typed at the Python interactive prompt.\n",
      "\n",
      "    Calling help() at the Python prompt starts an interactive help session.\n",
      "    Calling help(thing) prints help for the python object 'thing'.\n",
      "    \n",
      "**********************************************************************\n",
      "hex:\n",
      "----\n",
      "Return the hexadecimal representation of an integer.\n",
      "\n",
      "   >>> hex(12648430)\n",
      "   '0xc0ffee'\n",
      "**********************************************************************\n",
      "id:\n",
      "---\n",
      "Return the identity of an object.\n",
      "\n",
      "This is guaranteed to be unique among simultaneously existing objects.\n",
      "(CPython uses the object's memory address.)\n",
      "**********************************************************************\n",
      "input:\n",
      "------\n",
      "Forward raw_input to frontends\n",
      "\n",
      "        Raises\n",
      "        ------\n",
      "        StdinNotImplentedError if active frontend doesn't support stdin.\n",
      "        \n",
      "**********************************************************************\n",
      "int:\n",
      "----\n",
      "int(x=0) -> integer\n",
      "int(x, base=10) -> integer\n",
      "\n",
      "Convert a number or string to an integer, or return 0 if no arguments\n",
      "are given.  If x is a number, return x.__int__().  For floating point\n",
      "numbers, this truncates towards zero.\n",
      "\n",
      "If x is not a number or if base is given, then x must be a string,\n",
      "bytes, or bytearray instance representing an integer literal in the\n",
      "given base.  The literal can be preceded by '+' or '-' and be surrounded\n",
      "by whitespace.  The base defaults to 10.  Valid bases are 0 and 2-36.\n",
      "Base 0 means to interpret the base from the string as an integer literal.\n",
      ">>> int('0b100', base=0)\n",
      "4\n",
      "**********************************************************************\n",
      "isinstance:\n",
      "-----------\n",
      "Return whether an object is an instance of a class or of a subclass thereof.\n",
      "\n",
      "A tuple, as in ``isinstance(x, (A, B, ...))``, may be given as the target to\n",
      "check against. This is equivalent to ``isinstance(x, A) or isinstance(x, B)\n",
      "or ...`` etc.\n",
      "**********************************************************************\n",
      "issubclass:\n",
      "-----------\n",
      "Return whether 'cls' is a derived from another class or is the same class.\n",
      "\n",
      "A tuple, as in ``issubclass(x, (A, B, ...))``, may be given as the target to\n",
      "check against. This is equivalent to ``issubclass(x, A) or issubclass(x, B)\n",
      "or ...`` etc.\n",
      "**********************************************************************\n",
      "iter:\n",
      "-----\n",
      "iter(iterable) -> iterator\n",
      "iter(callable, sentinel) -> iterator\n",
      "\n",
      "Get an iterator from an object.  In the first form, the argument must\n",
      "supply its own iterator, or be a sequence.\n",
      "In the second form, the callable is called until it returns the sentinel.\n",
      "**********************************************************************\n",
      "len:\n",
      "----\n",
      "Return the number of items in a container.\n",
      "**********************************************************************\n",
      "license:\n",
      "--------\n",
      "interactive prompt objects for printing the license text, a list of\n",
      "    contributors and the copyright notice.\n",
      "**********************************************************************\n",
      "list:\n",
      "-----\n",
      "list() -> new empty list\n",
      "list(iterable) -> new list initialized from iterable's items\n",
      "**********************************************************************\n",
      "locals:\n",
      "-------\n",
      "Return a dictionary containing the current scope's local variables.\n",
      "\n",
      "NOTE: Whether or not updates to this dictionary will affect name lookups in\n",
      "the local scope and vice-versa is *implementation dependent* and not\n",
      "covered by any backwards compatibility guarantees.\n",
      "**********************************************************************\n",
      "map:\n",
      "----\n",
      "map(func, *iterables) --> map object\n",
      "\n",
      "Make an iterator that computes the function using arguments from\n",
      "each of the iterables.  Stops when the shortest iterable is exhausted.\n",
      "**********************************************************************\n",
      "max:\n",
      "----\n",
      "max(iterable, *[, default=obj, key=func]) -> value\n",
      "max(arg1, arg2, *args, *[, key=func]) -> value\n",
      "\n",
      "With a single iterable argument, return its biggest item. The\n",
      "default keyword-only argument specifies an object to return if\n",
      "the provided iterable is empty.\n",
      "With two or more arguments, return the largest argument.\n",
      "**********************************************************************\n",
      "memoryview:\n",
      "-----------\n",
      "Create a new memoryview object which references the given object.\n",
      "**********************************************************************\n",
      "min:\n",
      "----\n",
      "min(iterable, *[, default=obj, key=func]) -> value\n",
      "min(arg1, arg2, *args, *[, key=func]) -> value\n",
      "\n",
      "With a single iterable argument, return its smallest item. The\n",
      "default keyword-only argument specifies an object to return if\n",
      "the provided iterable is empty.\n",
      "With two or more arguments, return the smallest argument.\n",
      "**********************************************************************\n",
      "next:\n",
      "-----\n",
      "next(iterator[, default])\n",
      "\n",
      "Return the next item from the iterator. If default is given and the iterator\n",
      "is exhausted, it is returned instead of raising StopIteration.\n",
      "**********************************************************************\n",
      "object:\n",
      "-------\n",
      "The most base type\n",
      "**********************************************************************\n",
      "oct:\n",
      "----\n",
      "Return the octal representation of an integer.\n",
      "\n",
      "   >>> oct(342391)\n",
      "   '0o1234567'\n",
      "**********************************************************************\n",
      "open:\n",
      "-----\n",
      "Open file and return a stream.  Raise IOError upon failure.\n",
      "\n",
      "file is either a text or byte string giving the name (and the path\n",
      "if the file isn't in the current working directory) of the file to\n",
      "be opened or an integer file descriptor of the file to be\n",
      "wrapped. (If a file descriptor is given, it is closed when the\n",
      "returned I/O object is closed, unless closefd is set to False.)\n",
      "\n",
      "mode is an optional string that specifies the mode in which the file\n",
      "is opened. It defaults to 'r' which means open for reading in text\n",
      "mode.  Other common values are 'w' for writing (truncating the file if\n",
      "it already exists), 'x' for creating and writing to a new file, and\n",
      "'a' for appending (which on some Unix systems, means that all writes\n",
      "append to the end of the file regardless of the current seek position).\n",
      "In text mode, if encoding is not specified the encoding used is platform\n",
      "dependent: locale.getpreferredencoding(False) is called to get the\n",
      "current locale encoding. (For reading and writing raw bytes use binary\n",
      "mode and leave encoding unspecified.) The available modes are:\n",
      "\n",
      "========= ===============================================================\n",
      "Character Meaning\n",
      "--------- ---------------------------------------------------------------\n",
      "'r'       open for reading (default)\n",
      "'w'       open for writing, truncating the file first\n",
      "'x'       create a new file and open it for writing\n",
      "'a'       open for writing, appending to the end of the file if it exists\n",
      "'b'       binary mode\n",
      "'t'       text mode (default)\n",
      "'+'       open a disk file for updating (reading and writing)\n",
      "'U'       universal newline mode (deprecated)\n",
      "========= ===============================================================\n",
      "\n",
      "The default mode is 'rt' (open for reading text). For binary random\n",
      "access, the mode 'w+b' opens and truncates the file to 0 bytes, while\n",
      "'r+b' opens the file without truncation. The 'x' mode implies 'w' and\n",
      "raises an `FileExistsError` if the file already exists.\n",
      "\n",
      "Python distinguishes between files opened in binary and text modes,\n",
      "even when the underlying operating system doesn't. Files opened in\n",
      "binary mode (appending 'b' to the mode argument) return contents as\n",
      "bytes objects without any decoding. In text mode (the default, or when\n",
      "'t' is appended to the mode argument), the contents of the file are\n",
      "returned as strings, the bytes having been first decoded using a\n",
      "platform-dependent encoding or using the specified encoding if given.\n",
      "\n",
      "'U' mode is deprecated and will raise an exception in future versions\n",
      "of Python.  It has no effect in Python 3.  Use newline to control\n",
      "universal newlines mode.\n",
      "\n",
      "buffering is an optional integer used to set the buffering policy.\n",
      "Pass 0 to switch buffering off (only allowed in binary mode), 1 to select\n",
      "line buffering (only usable in text mode), and an integer > 1 to indicate\n",
      "the size of a fixed-size chunk buffer.  When no buffering argument is\n",
      "given, the default buffering policy works as follows:\n",
      "\n",
      "* Binary files are buffered in fixed-size chunks; the size of the buffer\n",
      "  is chosen using a heuristic trying to determine the underlying device's\n",
      "  \"block size\" and falling back on `io.DEFAULT_BUFFER_SIZE`.\n",
      "  On many systems, the buffer will typically be 4096 or 8192 bytes long.\n",
      "\n",
      "* \"Interactive\" text files (files for which isatty() returns True)\n",
      "  use line buffering.  Other text files use the policy described above\n",
      "  for binary files.\n",
      "\n",
      "encoding is the name of the encoding used to decode or encode the\n",
      "file. This should only be used in text mode. The default encoding is\n",
      "platform dependent, but any encoding supported by Python can be\n",
      "passed.  See the codecs module for the list of supported encodings.\n",
      "\n",
      "errors is an optional string that specifies how encoding errors are to\n",
      "be handled---this argument should not be used in binary mode. Pass\n",
      "'strict' to raise a ValueError exception if there is an encoding error\n",
      "(the default of None has the same effect), or pass 'ignore' to ignore\n",
      "errors. (Note that ignoring encoding errors can lead to data loss.)\n",
      "See the documentation for codecs.register or run 'help(codecs.Codec)'\n",
      "for a list of the permitted encoding error strings.\n",
      "\n",
      "newline controls how universal newlines works (it only applies to text\n",
      "mode). It can be None, '', '\\n', '\\r', and '\\r\\n'.  It works as\n",
      "follows:\n",
      "\n",
      "* On input, if newline is None, universal newlines mode is\n",
      "  enabled. Lines in the input can end in '\\n', '\\r', or '\\r\\n', and\n",
      "  these are translated into '\\n' before being returned to the\n",
      "  caller. If it is '', universal newline mode is enabled, but line\n",
      "  endings are returned to the caller untranslated. If it has any of\n",
      "  the other legal values, input lines are only terminated by the given\n",
      "  string, and the line ending is returned to the caller untranslated.\n",
      "\n",
      "* On output, if newline is None, any '\\n' characters written are\n",
      "  translated to the system default line separator, os.linesep. If\n",
      "  newline is '' or '\\n', no translation takes place. If newline is any\n",
      "  of the other legal values, any '\\n' characters written are translated\n",
      "  to the given string.\n",
      "\n",
      "If closefd is False, the underlying file descriptor will be kept open\n",
      "when the file is closed. This does not work when a file name is given\n",
      "and must be True in that case.\n",
      "\n",
      "A custom opener can be used by passing a callable as *opener*. The\n",
      "underlying file descriptor for the file object is then obtained by\n",
      "calling *opener* with (*file*, *flags*). *opener* must return an open\n",
      "file descriptor (passing os.open as *opener* results in functionality\n",
      "similar to passing None).\n",
      "\n",
      "open() returns a file object whose type depends on the mode, and\n",
      "through which the standard file operations such as reading and writing\n",
      "are performed. When open() is used to open a file in a text mode ('w',\n",
      "'r', 'wt', 'rt', etc.), it returns a TextIOWrapper. When used to open\n",
      "a file in a binary mode, the returned class varies: in read binary\n",
      "mode, it returns a BufferedReader; in write binary and append binary\n",
      "modes, it returns a BufferedWriter, and in read/write mode, it returns\n",
      "a BufferedRandom.\n",
      "\n",
      "It is also possible to use a string or bytearray as a file for both\n",
      "reading and writing. For strings StringIO can be used like a file\n",
      "opened in a text mode, and for bytes a BytesIO can be used like a file\n",
      "opened in a binary mode.\n",
      "**********************************************************************\n",
      "ord:\n",
      "----\n",
      "Return the Unicode code point for a one-character string.\n",
      "**********************************************************************\n",
      "pow:\n",
      "----\n",
      "Equivalent to x**y (with two arguments) or x**y % z (with three arguments)\n",
      "\n",
      "Some types, such as ints, are able to use a more efficient algorithm when\n",
      "invoked using the three argument form.\n",
      "**********************************************************************\n",
      "print:\n",
      "------\n",
      "print(value, ..., sep=' ', end='\\n', file=sys.stdout, flush=False)\n",
      "\n",
      "Prints the values to a stream, or to sys.stdout by default.\n",
      "Optional keyword arguments:\n",
      "file:  a file-like object (stream); defaults to the current sys.stdout.\n",
      "sep:   string inserted between values, default a space.\n",
      "end:   string appended after the last value, default a newline.\n",
      "flush: whether to forcibly flush the stream.\n",
      "**********************************************************************\n",
      "property:\n",
      "---------\n",
      "property(fget=None, fset=None, fdel=None, doc=None) -> property attribute\n",
      "\n",
      "fget is a function to be used for getting an attribute value, and likewise\n",
      "fset is a function for setting, and fdel a function for del'ing, an\n",
      "attribute.  Typical use is to define a managed attribute x:\n",
      "\n",
      "class C(object):\n",
      "    def getx(self): return self._x\n",
      "    def setx(self, value): self._x = value\n",
      "    def delx(self): del self._x\n",
      "    x = property(getx, setx, delx, \"I'm the 'x' property.\")\n",
      "\n",
      "Decorators make defining new properties or modifying existing ones easy:\n",
      "\n",
      "class C(object):\n",
      "    @property\n",
      "    def x(self):\n",
      "        \"I am the 'x' property.\"\n",
      "        return self._x\n",
      "    @x.setter\n",
      "    def x(self, value):\n",
      "        self._x = value\n",
      "    @x.deleter\n",
      "    def x(self):\n",
      "        del self._x\n",
      "\n",
      "**********************************************************************\n",
      "range:\n",
      "------\n",
      "range(stop) -> range object\n",
      "range(start, stop[, step]) -> range object\n",
      "\n",
      "Return an object that produces a sequence of integers from start (inclusive)\n",
      "to stop (exclusive) by step.  range(i, j) produces i, i+1, i+2, ..., j-1.\n",
      "start defaults to 0, and stop is omitted!  range(4) produces 0, 1, 2, 3.\n",
      "These are exactly the valid indices for a list of 4 elements.\n",
      "When step is given, it specifies the increment (or decrement).\n",
      "**********************************************************************\n",
      "repr:\n",
      "-----\n",
      "Return the canonical string representation of the object.\n",
      "\n",
      "For many object types, including most builtins, eval(repr(obj)) == obj.\n",
      "**********************************************************************\n",
      "reversed:\n",
      "---------\n",
      "reversed(sequence) -> reverse iterator over values of the sequence\n",
      "\n",
      "Return a reverse iterator\n",
      "**********************************************************************\n",
      "round:\n",
      "------\n",
      "round(number[, ndigits]) -> number\n",
      "\n",
      "Round a number to a given precision in decimal digits (default 0 digits).\n",
      "This returns an int when called with one argument, otherwise the\n",
      "same type as the number. ndigits may be negative.\n",
      "**********************************************************************\n",
      "set:\n",
      "----\n",
      "set() -> new empty set object\n",
      "set(iterable) -> new set object\n",
      "\n",
      "Build an unordered collection of unique elements.\n",
      "**********************************************************************\n",
      "setattr:\n",
      "--------\n",
      "Sets the named attribute on the given object to the specified value.\n",
      "\n",
      "setattr(x, 'y', v) is equivalent to ``x.y = v''\n",
      "**********************************************************************\n",
      "slice:\n",
      "------\n",
      "slice(stop)\n",
      "slice(start, stop[, step])\n",
      "\n",
      "Create a slice object.  This is used for extended slicing (e.g. a[0:10:2]).\n",
      "**********************************************************************\n",
      "sorted:\n",
      "-------\n",
      "Return a new list containing all items from the iterable in ascending order.\n",
      "\n",
      "A custom key function can be supplied to customise the sort order, and the\n",
      "reverse flag can be set to request the result in descending order.\n",
      "**********************************************************************\n",
      "staticmethod:\n",
      "-------------\n",
      "staticmethod(function) -> method\n",
      "\n",
      "Convert a function to be a static method.\n",
      "\n",
      "A static method does not receive an implicit first argument.\n",
      "To declare a static method, use this idiom:\n",
      "\n",
      "     class C:\n",
      "     def f(arg1, arg2, ...): ...\n",
      "     f = staticmethod(f)\n",
      "\n",
      "It can be called either on the class (e.g. C.f()) or on an instance\n",
      "(e.g. C().f()).  The instance is ignored except for its class.\n",
      "\n",
      "Static methods in Python are similar to those found in Java or C++.\n",
      "For a more advanced concept, see the classmethod builtin.\n",
      "**********************************************************************\n",
      "str:\n",
      "----\n",
      "str(object='') -> str\n",
      "str(bytes_or_buffer[, encoding[, errors]]) -> str\n",
      "\n",
      "Create a new string object from the given object. If encoding or\n",
      "errors is specified, then the object must expose a data buffer\n",
      "that will be decoded using the given encoding and error handler.\n",
      "Otherwise, returns the result of object.__str__() (if defined)\n",
      "or repr(object).\n",
      "encoding defaults to sys.getdefaultencoding().\n",
      "errors defaults to 'strict'.\n",
      "**********************************************************************\n",
      "sum:\n",
      "----\n",
      "Return the sum of a 'start' value (default: 0) plus an iterable of numbers\n",
      "\n",
      "When the iterable is empty, return the start value.\n",
      "This function is intended specifically for use with numeric values and may\n",
      "reject non-numeric types.\n",
      "**********************************************************************\n",
      "super:\n",
      "------\n",
      "super() -> same as super(__class__, <first argument>)\n",
      "super(type) -> unbound super object\n",
      "super(type, obj) -> bound super object; requires isinstance(obj, type)\n",
      "super(type, type2) -> bound super object; requires issubclass(type2, type)\n",
      "Typical use to call a cooperative superclass method:\n",
      "class C(B):\n",
      "    def meth(self, arg):\n",
      "        super().meth(arg)\n",
      "This works for class methods too:\n",
      "class C(B):\n",
      "    @classmethod\n",
      "    def cmeth(cls, arg):\n",
      "        super().cmeth(arg)\n",
      "\n",
      "**********************************************************************\n",
      "tuple:\n",
      "------\n",
      "tuple() -> empty tuple\n",
      "tuple(iterable) -> tuple initialized from iterable's items\n",
      "\n",
      "If the argument is a tuple, the return value is the same object.\n",
      "**********************************************************************\n",
      "type:\n",
      "-----\n",
      "type(object_or_name, bases, dict)\n",
      "type(object) -> the object's type\n",
      "type(name, bases, dict) -> a new type\n",
      "**********************************************************************\n",
      "vars:\n",
      "-----\n",
      "vars([object]) -> dictionary\n",
      "\n",
      "Without arguments, equivalent to locals().\n",
      "With an argument, equivalent to object.__dict__.\n",
      "**********************************************************************\n",
      "zip:\n",
      "----\n",
      "zip(iter1 [,iter2 [...]]) --> zip object\n",
      "\n",
      "Return a zip object whose .__next__() method returns a tuple where\n",
      "the i-th element comes from the i-th iterable argument.  The .__next__()\n",
      "method continues until the shortest iterable in the argument sequence\n",
      "is exhausted and then it raises StopIteration.\n",
      "**********************************************************************\n"
     ]
    }
   ],
   "source": [
    "import builtins\n",
    "import re\n",
    "\n",
    "for i in dir(builtins):\n",
    "    if re.match(r'^[a-z]',i):\n",
    "        print(i+':')\n",
    "        print('-'*len(i)+'-')\n",
    "        print(getattr(builtins,i).__doc__)\n",
    "        print('*'*70)\n"
   ]
  },
  {
   "cell_type": "code",
   "execution_count": 97,
   "metadata": {
    "scrolled": false
   },
   "outputs": [
    {
     "name": "stdout",
     "output_type": "stream",
     "text": [
      "Help on class str in module builtins:\n",
      "\n",
      "class str(object)\n",
      " |  str(object='') -> str\n",
      " |  str(bytes_or_buffer[, encoding[, errors]]) -> str\n",
      " |  \n",
      " |  Create a new string object from the given object. If encoding or\n",
      " |  errors is specified, then the object must expose a data buffer\n",
      " |  that will be decoded using the given encoding and error handler.\n",
      " |  Otherwise, returns the result of object.__str__() (if defined)\n",
      " |  or repr(object).\n",
      " |  encoding defaults to sys.getdefaultencoding().\n",
      " |  errors defaults to 'strict'.\n",
      " |  \n",
      " |  Methods defined here:\n",
      " |  \n",
      " |  __add__(self, value, /)\n",
      " |      Return self+value.\n",
      " |  \n",
      " |  __contains__(self, key, /)\n",
      " |      Return key in self.\n",
      " |  \n",
      " |  __eq__(self, value, /)\n",
      " |      Return self==value.\n",
      " |  \n",
      " |  __format__(...)\n",
      " |      S.__format__(format_spec) -> str\n",
      " |      \n",
      " |      Return a formatted version of S as described by format_spec.\n",
      " |  \n",
      " |  __ge__(self, value, /)\n",
      " |      Return self>=value.\n",
      " |  \n",
      " |  __getattribute__(self, name, /)\n",
      " |      Return getattr(self, name).\n",
      " |  \n",
      " |  __getitem__(self, key, /)\n",
      " |      Return self[key].\n",
      " |  \n",
      " |  __getnewargs__(...)\n",
      " |  \n",
      " |  __gt__(self, value, /)\n",
      " |      Return self>value.\n",
      " |  \n",
      " |  __hash__(self, /)\n",
      " |      Return hash(self).\n",
      " |  \n",
      " |  __iter__(self, /)\n",
      " |      Implement iter(self).\n",
      " |  \n",
      " |  __le__(self, value, /)\n",
      " |      Return self<=value.\n",
      " |  \n",
      " |  __len__(self, /)\n",
      " |      Return len(self).\n",
      " |  \n",
      " |  __lt__(self, value, /)\n",
      " |      Return self<value.\n",
      " |  \n",
      " |  __mod__(self, value, /)\n",
      " |      Return self%value.\n",
      " |  \n",
      " |  __mul__(self, value, /)\n",
      " |      Return self*value.n\n",
      " |  \n",
      " |  __ne__(self, value, /)\n",
      " |      Return self!=value.\n",
      " |  \n",
      " |  __new__(*args, **kwargs) from builtins.type\n",
      " |      Create and return a new object.  See help(type) for accurate signature.\n",
      " |  \n",
      " |  __repr__(self, /)\n",
      " |      Return repr(self).\n",
      " |  \n",
      " |  __rmod__(self, value, /)\n",
      " |      Return value%self.\n",
      " |  \n",
      " |  __rmul__(self, value, /)\n",
      " |      Return self*value.\n",
      " |  \n",
      " |  __sizeof__(...)\n",
      " |      S.__sizeof__() -> size of S in memory, in bytes\n",
      " |  \n",
      " |  __str__(self, /)\n",
      " |      Return str(self).\n",
      " |  \n",
      " |  capitalize(...)\n",
      " |      S.capitalize() -> str\n",
      " |      \n",
      " |      Return a capitalized version of S, i.e. make the first character\n",
      " |      have upper case and the rest lower case.\n",
      " |  \n",
      " |  casefold(...)\n",
      " |      S.casefold() -> str\n",
      " |      \n",
      " |      Return a version of S suitable for caseless comparisons.\n",
      " |  \n",
      " |  center(...)\n",
      " |      S.center(width[, fillchar]) -> str\n",
      " |      \n",
      " |      Return S centered in a string of length width. Padding is\n",
      " |      done using the specified fill character (default is a space)\n",
      " |  \n",
      " |  count(...)\n",
      " |      S.count(sub[, start[, end]]) -> int\n",
      " |      \n",
      " |      Return the number of non-overlapping occurrences of substring sub in\n",
      " |      string S[start:end].  Optional arguments start and end are\n",
      " |      interpreted as in slice notation.\n",
      " |  \n",
      " |  encode(...)\n",
      " |      S.encode(encoding='utf-8', errors='strict') -> bytes\n",
      " |      \n",
      " |      Encode S using the codec registered for encoding. Default encoding\n",
      " |      is 'utf-8'. errors may be given to set a different error\n",
      " |      handling scheme. Default is 'strict' meaning that encoding errors raise\n",
      " |      a UnicodeEncodeError. Other possible values are 'ignore', 'replace' and\n",
      " |      'xmlcharrefreplace' as well as any other name registered with\n",
      " |      codecs.register_error that can handle UnicodeEncodeErrors.\n",
      " |  \n",
      " |  endswith(...)\n",
      " |      S.endswith(suffix[, start[, end]]) -> bool\n",
      " |      \n",
      " |      Return True if S ends with the specified suffix, False otherwise.\n",
      " |      With optional start, test S beginning at that position.\n",
      " |      With optional end, stop comparing S at that position.\n",
      " |      suffix can also be a tuple of strings to try.\n",
      " |  \n",
      " |  expandtabs(...)\n",
      " |      S.expandtabs(tabsize=8) -> str\n",
      " |      \n",
      " |      Return a copy of S where all tab characters are expanded using spaces.\n",
      " |      If tabsize is not given, a tab size of 8 characters is assumed.\n",
      " |  \n",
      " |  find(...)\n",
      " |      S.find(sub[, start[, end]]) -> int\n",
      " |      \n",
      " |      Return the lowest index in S where substring sub is found,\n",
      " |      such that sub is contained within S[start:end].  Optional\n",
      " |      arguments start and end are interpreted as in slice notation.\n",
      " |      \n",
      " |      Return -1 on failure.\n",
      " |  \n",
      " |  format(...)\n",
      " |      S.format(*args, **kwargs) -> str\n",
      " |      \n",
      " |      Return a formatted version of S, using substitutions from args and kwargs.\n",
      " |      The substitutions are identified by braces ('{' and '}').\n",
      " |  \n",
      " |  format_map(...)\n",
      " |      S.format_map(mapping) -> str\n",
      " |      \n",
      " |      Return a formatted version of S, using substitutions from mapping.\n",
      " |      The substitutions are identified by braces ('{' and '}').\n",
      " |  \n",
      " |  index(...)\n",
      " |      S.index(sub[, start[, end]]) -> int\n",
      " |      \n",
      " |      Like S.find() but raise ValueError when the substring is not found.\n",
      " |  \n",
      " |  isalnum(...)\n",
      " |      S.isalnum() -> bool\n",
      " |      \n",
      " |      Return True if all characters in S are alphanumeric\n",
      " |      and there is at least one character in S, False otherwise.\n",
      " |  \n",
      " |  isalpha(...)\n",
      " |      S.isalpha() -> bool\n",
      " |      \n",
      " |      Return True if all characters in S are alphabetic\n",
      " |      and there is at least one character in S, False otherwise.\n",
      " |  \n",
      " |  isdecimal(...)\n",
      " |      S.isdecimal() -> bool\n",
      " |      \n",
      " |      Return True if there are only decimal characters in S,\n",
      " |      False otherwise.\n",
      " |  \n",
      " |  isdigit(...)\n",
      " |      S.isdigit() -> bool\n",
      " |      \n",
      " |      Return True if all characters in S are digits\n",
      " |      and there is at least one character in S, False otherwise.\n",
      " |  \n",
      " |  isidentifier(...)\n",
      " |      S.isidentifier() -> bool\n",
      " |      \n",
      " |      Return True if S is a valid identifier according\n",
      " |      to the language definition.\n",
      " |      \n",
      " |      Use keyword.iskeyword() to test for reserved identifiers\n",
      " |      such as \"def\" and \"class\".\n",
      " |  \n",
      " |  islower(...)\n",
      " |      S.islower() -> bool\n",
      " |      \n",
      " |      Return True if all cased characters in S are lowercase and there is\n",
      " |      at least one cased character in S, False otherwise.\n",
      " |  \n",
      " |  isnumeric(...)\n",
      " |      S.isnumeric() -> bool\n",
      " |      \n",
      " |      Return True if there are only numeric characters in S,\n",
      " |      False otherwise.\n",
      " |  \n",
      " |  isprintable(...)\n",
      " |      S.isprintable() -> bool\n",
      " |      \n",
      " |      Return True if all characters in S are considered\n",
      " |      printable in repr() or S is empty, False otherwise.\n",
      " |  \n",
      " |  isspace(...)\n",
      " |      S.isspace() -> bool\n",
      " |      \n",
      " |      Return True if all characters in S are whitespace\n",
      " |      and there is at least one character in S, False otherwise.\n",
      " |  \n",
      " |  istitle(...)\n",
      " |      S.istitle() -> bool\n",
      " |      \n",
      " |      Return True if S is a titlecased string and there is at least one\n",
      " |      character in S, i.e. upper- and titlecase characters may only\n",
      " |      follow uncased characters and lowercase characters only cased ones.\n",
      " |      Return False otherwise.\n",
      " |  \n",
      " |  isupper(...)\n",
      " |      S.isupper() -> bool\n",
      " |      \n",
      " |      Return True if all cased characters in S are uppercase and there is\n",
      " |      at least one cased character in S, False otherwise.\n",
      " |  \n",
      " |  join(...)\n",
      " |      S.join(iterable) -> str\n",
      " |      \n",
      " |      Return a string which is the concatenation of the strings in the\n",
      " |      iterable.  The separator between elements is S.\n",
      " |  \n",
      " |  ljust(...)\n",
      " |      S.ljust(width[, fillchar]) -> str\n",
      " |      \n",
      " |      Return S left-justified in a Unicode string of length width. Padding is\n",
      " |      done using the specified fill character (default is a space).\n",
      " |  \n",
      " |  lower(...)\n",
      " |      S.lower() -> str\n",
      " |      \n",
      " |      Return a copy of the string S converted to lowercase.\n",
      " |  \n",
      " |  lstrip(...)\n",
      " |      S.lstrip([chars]) -> str\n",
      " |      \n",
      " |      Return a copy of the string S with leading whitespace removed.\n",
      " |      If chars is given and not None, remove characters in chars instead.\n",
      " |  \n",
      " |  partition(...)\n",
      " |      S.partition(sep) -> (head, sep, tail)\n",
      " |      \n",
      " |      Search for the separator sep in S, and return the part before it,\n",
      " |      the separator itself, and the part after it.  If the separator is not\n",
      " |      found, return S and two empty strings.\n",
      " |  \n",
      " |  replace(...)\n",
      " |      S.replace(old, new[, count]) -> str\n",
      " |      \n",
      " |      Return a copy of S with all occurrences of substring\n",
      " |      old replaced by new.  If the optional argument count is\n",
      " |      given, only the first count occurrences are replaced.\n",
      " |  \n",
      " |  rfind(...)\n",
      " |      S.rfind(sub[, start[, end]]) -> int\n",
      " |      \n",
      " |      Return the highest index in S where substring sub is found,\n",
      " |      such that sub is contained within S[start:end].  Optional\n",
      " |      arguments start and end are interpreted as in slice notation.\n",
      " |      \n",
      " |      Return -1 on failure.\n",
      " |  \n",
      " |  rindex(...)\n",
      " |      S.rindex(sub[, start[, end]]) -> int\n",
      " |      \n",
      " |      Like S.rfind() but raise ValueError when the substring is not found.\n",
      " |  \n",
      " |  rjust(...)\n",
      " |      S.rjust(width[, fillchar]) -> str\n",
      " |      \n",
      " |      Return S right-justified in a string of length width. Padding is\n",
      " |      done using the specified fill character (default is a space).\n",
      " |  \n",
      " |  rpartition(...)\n",
      " |      S.rpartition(sep) -> (head, sep, tail)\n",
      " |      \n",
      " |      Search for the separator sep in S, starting at the end of S, and return\n",
      " |      the part before it, the separator itself, and the part after it.  If the\n",
      " |      separator is not found, return two empty strings and S.\n",
      " |  \n",
      " |  rsplit(...)\n",
      " |      S.rsplit(sep=None, maxsplit=-1) -> list of strings\n",
      " |      \n",
      " |      Return a list of the words in S, using sep as the\n",
      " |      delimiter string, starting at the end of the string and\n",
      " |      working to the front.  If maxsplit is given, at most maxsplit\n",
      " |      splits are done. If sep is not specified, any whitespace string\n",
      " |      is a separator.\n",
      " |  \n",
      " |  rstrip(...)\n",
      " |      S.rstrip([chars]) -> str\n",
      " |      \n",
      " |      Return a copy of the string S with trailing whitespace removed.\n",
      " |      If chars is given and not None, remove characters in chars instead.\n",
      " |  \n",
      " |  split(...)\n",
      " |      S.split(sep=None, maxsplit=-1) -> list of strings\n",
      " |      \n",
      " |      Return a list of the words in S, using sep as the\n",
      " |      delimiter string.  If maxsplit is given, at most maxsplit\n",
      " |      splits are done. If sep is not specified or is None, any\n",
      " |      whitespace string is a separator and empty strings are\n",
      " |      removed from the result.\n",
      " |  \n",
      " |  splitlines(...)\n",
      " |      S.splitlines([keepends]) -> list of strings\n",
      " |      \n",
      " |      Return a list of the lines in S, breaking at line boundaries.\n",
      " |      Line breaks are not included in the resulting list unless keepends\n",
      " |      is given and true.\n",
      " |  \n",
      " |  startswith(...)\n",
      " |      S.startswith(prefix[, start[, end]]) -> bool\n",
      " |      \n",
      " |      Return True if S starts with the specified prefix, False otherwise.\n",
      " |      With optional start, test S beginning at that position.\n",
      " |      With optional end, stop comparing S at that position.\n",
      " |      prefix can also be a tuple of strings to try.\n",
      " |  \n",
      " |  strip(...)\n",
      " |      S.strip([chars]) -> str\n",
      " |      \n",
      " |      Return a copy of the string S with leading and trailing\n",
      " |      whitespace removed.\n",
      " |      If chars is given and not None, remove characters in chars instead.\n",
      " |  \n",
      " |  swapcase(...)\n",
      " |      S.swapcase() -> str\n",
      " |      \n",
      " |      Return a copy of S with uppercase characters converted to lowercase\n",
      " |      and vice versa.\n",
      " |  \n",
      " |  title(...)\n",
      " |      S.title() -> str\n",
      " |      \n",
      " |      Return a titlecased version of S, i.e. words start with title case\n",
      " |      characters, all remaining cased characters have lower case.\n",
      " |  \n",
      " |  translate(...)\n",
      " |      S.translate(table) -> str\n",
      " |      \n",
      " |      Return a copy of the string S in which each character has been mapped\n",
      " |      through the given translation table. The table must implement\n",
      " |      lookup/indexing via __getitem__, for instance a dictionary or list,\n",
      " |      mapping Unicode ordinals to Unicode ordinals, strings, or None. If\n",
      " |      this operation raises LookupError, the character is left untouched.\n",
      " |      Characters mapped to None are deleted.\n",
      " |  \n",
      " |  upper(...)\n",
      " |      S.upper() -> str\n",
      " |      \n",
      " |      Return a copy of S converted to uppercase.\n",
      " |  \n",
      " |  zfill(...)\n",
      " |      S.zfill(width) -> str\n",
      " |      \n",
      " |      Pad a numeric string S with zeros on the left, to fill a field\n",
      " |      of the specified width. The string S is never truncated.\n",
      " |  \n",
      " |  ----------------------------------------------------------------------\n",
      " |  Static methods defined here:\n",
      " |  \n",
      " |  maketrans(x, y=None, z=None, /)\n",
      " |      Return a translation table usable for str.translate().\n",
      " |      \n",
      " |      If there is only one argument, it must be a dictionary mapping Unicode\n",
      " |      ordinals (integers) or characters to Unicode ordinals, strings or None.\n",
      " |      Character keys will be then converted to ordinals.\n",
      " |      If there are two arguments, they must be strings of equal length, and\n",
      " |      in the resulting dictionary, each character in x will be mapped to the\n",
      " |      character at the same position in y. If there is a third argument, it\n",
      " |      must be a string, whose characters will be mapped to None in the result.\n",
      "\n"
     ]
    }
   ],
   "source": [
    "help(str)"
   ]
  },
  {
   "cell_type": "markdown",
   "metadata": {},
   "source": [
    "### How to open and read contents of a file in python?"
   ]
  },
  {
   "cell_type": "code",
   "execution_count": 141,
   "metadata": {},
   "outputs": [
    {
     "name": "stdout",
     "output_type": "stream",
     "text": [
      "Enter file name:/etc/hosts\n"
     ]
    },
    {
     "data": {
      "text/plain": [
       "['127.0.0.1 localhost',\n",
       " '127.0.1.1 joe',\n",
       " '',\n",
       " '# The following lines are desirable for IPv6 capable hosts',\n",
       " '::1 ip6-localhost ip6-loopback',\n",
       " 'fe00::0 ip6-localnet',\n",
       " 'ff00::0 ip6-mcastprefix',\n",
       " 'ff02::1 ip6-allnodes',\n",
       " 'ff02::2 ip6-allrouters']"
      ]
     },
     "execution_count": 141,
     "metadata": {},
     "output_type": "execute_result"
    }
   ],
   "source": [
    "from pathlib import Path\n",
    "\n",
    "def file_read(file):\n",
    "    p = Path(file)\n",
    "    return p.read_text().splitlines()\n",
    "    \n",
    "inp = input('Enter file name:')\n",
    "file_read(inp)"
   ]
  },
  {
   "cell_type": "markdown",
   "metadata": {},
   "source": [
    "### How python compare the string?\n",
    "Python interpreter call str.__gt__ method when compare greater than operator."
   ]
  },
  {
   "cell_type": "code",
   "execution_count": 16,
   "metadata": {},
   "outputs": [
    {
     "data": {
      "text/plain": [
       "False"
      ]
     },
     "execution_count": 16,
     "metadata": {},
     "output_type": "execute_result"
    }
   ],
   "source": [
    "'man' > 'mana'"
   ]
  },
  {
   "cell_type": "code",
   "execution_count": 18,
   "metadata": {},
   "outputs": [
    {
     "data": {
      "text/plain": [
       "True"
      ]
     },
     "execution_count": 18,
     "metadata": {},
     "output_type": "execute_result"
    }
   ],
   "source": [
    "'mana' > 'man'"
   ]
  },
  {
   "cell_type": "code",
   "execution_count": 21,
   "metadata": {},
   "outputs": [
    {
     "name": "stdout",
     "output_type": "stream",
     "text": [
      "__gt__\n"
     ]
    }
   ],
   "source": [
    "for i in dir(str):\n",
    "    if i.startswith('__gt__'):\n",
    "        print(i)"
   ]
  },
  {
   "cell_type": "markdown",
   "metadata": {},
   "source": [
    "### How to calculate total RAM size ?"
   ]
  },
  {
   "cell_type": "code",
   "execution_count": 60,
   "metadata": {},
   "outputs": [
    {
     "name": "stdout",
     "output_type": "stream",
     "text": [
      "3G\n"
     ]
    }
   ],
   "source": [
    "%%bash\n",
    "\n",
    "awk '/MemTotal:/{printf \"%.0fG\\n\", $2/1024/1024}' /proc/meminfo"
   ]
  },
  {
   "cell_type": "code",
   "execution_count": 13,
   "metadata": {},
   "outputs": [
    {
     "name": "stdout",
     "output_type": "stream",
     "text": [
      "Total RAM Size: 3G\n"
     ]
    }
   ],
   "source": [
    "%%python3\n",
    "\n",
    "from pathlib import Path\n",
    "import bisect\n",
    "\n",
    "size = [1, 1e+3, 1e+6, 1e+9]\n",
    "unit = ['K','M', 'G']\n",
    "\n",
    "def convert(byts):\n",
    "        index = bisect.bisect(size, byts) - 1\n",
    "        return  str(round(byts/size[index]))+ unit[index]\n",
    "    \n",
    "mem = Path('/proc/meminfo').read_text().splitlines()\n",
    "rk = [i.split()[1] for i in mem if i.startswith('MemTotal')]\n",
    "print('Total RAM Size:',convert((int(*rk))))"
   ]
  },
  {
   "cell_type": "markdown",
   "metadata": {},
   "source": [
    "### How to find that date of 78 day back?"
   ]
  },
  {
   "cell_type": "code",
   "execution_count": 70,
   "metadata": {},
   "outputs": [
    {
     "data": {
      "text/plain": [
       "'07-11-2018'"
      ]
     },
     "execution_count": 70,
     "metadata": {},
     "output_type": "execute_result"
    }
   ],
   "source": [
    "from datetime import date, timedelta\n",
    "\n",
    "d = date.today() - timedelta(days = 78)\n",
    "d.strftime(\"%d-%m-%Y\")"
   ]
  },
  {
   "cell_type": "markdown",
   "metadata": {},
   "source": [
    "### How to find node name?"
   ]
  },
  {
   "cell_type": "code",
   "execution_count": 91,
   "metadata": {},
   "outputs": [
    {
     "name": "stdout",
     "output_type": "stream",
     "text": [
      "joe\n"
     ]
    }
   ],
   "source": [
    "%%bash\n",
    "\n",
    "hostname"
   ]
  },
  {
   "cell_type": "code",
   "execution_count": 93,
   "metadata": {},
   "outputs": [
    {
     "name": "stdout",
     "output_type": "stream",
     "text": [
      "joe\n"
     ]
    }
   ],
   "source": [
    "%%python3\n",
    "\n",
    "import platform\n",
    "\n",
    "print(platform.node())"
   ]
  },
  {
   "cell_type": "markdown",
   "metadata": {},
   "source": [
    "### How  do arithmetic calculation in bash and python?"
   ]
  },
  {
   "cell_type": "code",
   "execution_count": 6,
   "metadata": {},
   "outputs": [
    {
     "name": "stdout",
     "output_type": "stream",
     "text": [
      "9\n",
      "1\n",
      "20\n",
      "1.25\n"
     ]
    }
   ],
   "source": [
    "%%bash\n",
    "\n",
    "# Addtion\n",
    "awk 'BEGIN { print 5+4}'\n",
    "\n",
    "# Substraction\n",
    "awk 'BEGIN { print 5-4}'\n",
    "\n",
    "# Multification\n",
    "awk 'BEGIN { print 5*4}'\n",
    "\n",
    "# Division\n",
    "awk 'BEGIN { print 5/4}'"
   ]
  },
  {
   "cell_type": "code",
   "execution_count": 12,
   "metadata": {},
   "outputs": [
    {
     "name": "stdout",
     "output_type": "stream",
     "text": [
      "9\n",
      "1\n",
      "20\n",
      "1.25\n"
     ]
    }
   ],
   "source": [
    "%%python3\n",
    "\n",
    "# Addtion\n",
    "print(5 + 4)\n",
    "\n",
    "# Substraction\n",
    "print(5 - 4)\n",
    "\n",
    "# Multification\n",
    "print(5 *4)\n",
    "\n",
    "# Division\n",
    "print(5/4)"
   ]
  },
  {
   "cell_type": "markdown",
   "metadata": {},
   "source": [
    "### Memory usage"
   ]
  },
  {
   "cell_type": "code",
   "execution_count": 109,
   "metadata": {},
   "outputs": [
    {
     "name": "stdout",
     "output_type": "stream",
     "text": [
      "RAM Usage:\n",
      "**********\n",
      "Total MEMORY Size: 3G\n",
      "MEMORY used:       2G\n",
      "MEMORY Free:       2G\n",
      "\n",
      "SWAP Usage:\n",
      "***********\n",
      "Total Swap:        1G\n",
      "Swap Used:         0B\n"
     ]
    }
   ],
   "source": [
    "from pathlib import Path\n",
    "import bisect\n",
    "import re\n",
    "\n",
    "size = [1, 1e+3, 1e+6, 1e+9]\n",
    "unit = ['K','M', 'G']\n",
    "\n",
    "def con(byts):\n",
    "    byts = int(byts)\n",
    "    if byts != 0:\n",
    "        index = bisect.bisect(size, byts) - 1\n",
    "        return  str(round(byts/size[index]))+ unit[index]\n",
    "    else: \n",
    "        return '0B'  \n",
    "    \n",
    "mem = Path('/proc/meminfo').read_text().splitlines()\n",
    "ram = [i.split()[1] for i in mem \n",
    "       if re.match(r'MemTotal|MemAvailable',i)]\n",
    "tram, aram = ram[0], ram[1]\n",
    "ramu = int(tram) - int(aram)\n",
    "\n",
    "sf = Path('/proc/swaps').read_text().splitlines()\n",
    "swp = [s.split()[-3:-1] for s in sf \n",
    "       if s.startswith('/dev/sd') ]\n",
    "tswp, swpu = swp[0][0], swp[0][1]\n",
    "\n",
    "print('RAM Usage:')\n",
    "print('*'*10)\n",
    "print('Total MEMORY Size: {}'.format(con(tram)))\n",
    "print('MEMORY used: {:>8}'.format(con(ramu)))\n",
    "print('MEMORY Free: {:>8}'.format(con(aram)))\n",
    "print('')\n",
    "print('SWAP Usage:')\n",
    "print('*'*11)\n",
    "print('Total Swap: {:>9}'.format(con(tswp)))\n",
    "print('Swap Used: {:>10}'.format(con(swpu)))"
   ]
  },
  {
   "cell_type": "markdown",
   "metadata": {},
   "source": [
    "### How to get username and user id?"
   ]
  },
  {
   "cell_type": "code",
   "execution_count": 99,
   "metadata": {},
   "outputs": [
    {
     "name": "stdout",
     "output_type": "stream",
     "text": [
      "mana: 1000\n"
     ]
    }
   ],
   "source": [
    "%%bash\n",
    "\n",
    "echo \"$USER: $UID\""
   ]
  },
  {
   "cell_type": "code",
   "execution_count": 110,
   "metadata": {},
   "outputs": [
    {
     "name": "stdout",
     "output_type": "stream",
     "text": [
      "mana: 1000\n"
     ]
    }
   ],
   "source": [
    "import os\n",
    "\n",
    "print(os.environ['USER'], end = \": \")\n",
    "print(os.getuid())"
   ]
  },
  {
   "cell_type": "markdown",
   "metadata": {},
   "source": [
    "### How to sperate number items from list?"
   ]
  },
  {
   "cell_type": "code",
   "execution_count": 134,
   "metadata": {},
   "outputs": [
    {
     "data": {
      "text/plain": [
       "[97, 45, 77]"
      ]
     },
     "execution_count": 134,
     "metadata": {},
     "output_type": "execute_result"
    }
   ],
   "source": [
    "l = ['Chennai', 97, 'Madurai', 45, 'Banglore', 77]\n",
    "\n",
    "[i for i in l if isinstance(i, int)]"
   ]
  },
  {
   "cell_type": "markdown",
   "metadata": {},
   "source": [
    "### How to compare 2 file contents same or not?"
   ]
  },
  {
   "cell_type": "code",
   "execution_count": 35,
   "metadata": {},
   "outputs": [
    {
     "name": "stdout",
     "output_type": "stream",
     "text": [
      "Both files are same.\n"
     ]
    }
   ],
   "source": [
    "%%python3\n",
    "\n",
    "import filecmp\n",
    "\n",
    "filecmp.clear_cache()\n",
    "f1 = '/home/mana/Temp/task1/btheme.txt'\n",
    "f2 = '/home/mana/Temp/task2/theme.txt'\n",
    "if filecmp.cmp(f1, f2):\n",
    "    print('Both files are same.')\n",
    "else:\n",
    "    print('Both files are not same.')"
   ]
  },
  {
   "cell_type": "code",
   "execution_count": 143,
   "metadata": {},
   "outputs": [
    {
     "data": {
      "text/plain": [
       "True"
      ]
     },
     "execution_count": 143,
     "metadata": {},
     "output_type": "execute_result"
    }
   ],
   "source": [
    "f1 = '/home/mana/Temp/task1/btheme.txt'\n",
    "f2 = '/home/mana/Temp/task2/theme.txt'\n",
    "\n",
    "open(f1).read() == open(f2).read()"
   ]
  },
  {
   "cell_type": "markdown",
   "metadata": {},
   "source": [
    "### Spliting and Joining"
   ]
  },
  {
   "cell_type": "code",
   "execution_count": 26,
   "metadata": {},
   "outputs": [
    {
     "data": {
      "text/plain": [
       "['Linux', 'Operating', 'System.']"
      ]
     },
     "execution_count": 26,
     "metadata": {},
     "output_type": "execute_result"
    }
   ],
   "source": [
    "## Split\n",
    "\n",
    "s = 'Linux Operating System.'\n",
    "s.split()"
   ]
  },
  {
   "cell_type": "code",
   "execution_count": 27,
   "metadata": {},
   "outputs": [
    {
     "data": {
      "text/plain": [
       "'Linux Operating System.'"
      ]
     },
     "execution_count": 27,
     "metadata": {},
     "output_type": "execute_result"
    }
   ],
   "source": [
    "## Join\n",
    "\n",
    "l = ['Linux', 'Operating', 'System.']\n",
    "' '.join(l)"
   ]
  },
  {
   "cell_type": "markdown",
   "metadata": {},
   "source": [
    "### How to find vowel words?"
   ]
  },
  {
   "cell_type": "code",
   "execution_count": 37,
   "metadata": {},
   "outputs": [
    {
     "data": {
      "text/plain": [
       "['Operating']"
      ]
     },
     "execution_count": 37,
     "metadata": {},
     "output_type": "execute_result"
    }
   ],
   "source": [
    "import re\n",
    "\n",
    "l = ['Linux', 'Operating', 'System.']\n",
    "[i for i in l if re.match(r'^(a|e|i|o|u)', i, re.I)]"
   ]
  },
  {
   "cell_type": "markdown",
   "metadata": {},
   "source": [
    "### if...elif in Bash and Python"
   ]
  },
  {
   "cell_type": "code",
   "execution_count": 44,
   "metadata": {},
   "outputs": [
    {
     "name": "stdout",
     "output_type": "stream",
     "text": [
      "15 greater than 13\n"
     ]
    }
   ],
   "source": [
    "%%bash\n",
    "\n",
    "n=13\n",
    "\n",
    "if (( 5 > $n ))\n",
    "then\n",
    "echo \"5 greater than $n\"\n",
    "elif (( 10 > $n ))\n",
    "then\n",
    "echo \"10 greater than $n\"\n",
    "elif (( 15 > $n ))\n",
    "then\n",
    "echo \"15 greater than $n\"\n",
    "fi"
   ]
  },
  {
   "cell_type": "code",
   "execution_count": 45,
   "metadata": {},
   "outputs": [
    {
     "name": "stdout",
     "output_type": "stream",
     "text": [
      "15 greater than 13\n"
     ]
    }
   ],
   "source": [
    "%%python3\n",
    "\n",
    "n = 13\n",
    "\n",
    "if 5 > n:\n",
    "    print(\"5 greater than\",n)\n",
    "elif 10 > n:\n",
    "    print(\"10 greater than\",n)\n",
    "elif 15 > n:\n",
    "    print(\"15 greater than\",n)"
   ]
  },
  {
   "cell_type": "markdown",
   "metadata": {},
   "source": [
    "### list a directory"
   ]
  },
  {
   "cell_type": "code",
   "execution_count": 49,
   "metadata": {},
   "outputs": [
    {
     "name": "stdout",
     "output_type": "stream",
     "text": [
      "assets.svg\n",
      "render-bits.sh\n",
      "theme.txt\n"
     ]
    }
   ],
   "source": [
    "%%bash\n",
    "\n",
    "ls /home/mana/Temp/task2"
   ]
  },
  {
   "cell_type": "code",
   "execution_count": 58,
   "metadata": {},
   "outputs": [
    {
     "name": "stdout",
     "output_type": "stream",
     "text": [
      "['assets.svg', 'render-bits.sh', 'theme.txt']\n",
      "['assets.svg', 'render-bits.sh', 'theme.txt']\n",
      "['assets.svg', 'render-bits.sh', 'theme.txt']\n"
     ]
    }
   ],
   "source": [
    "%%python3\n",
    "\n",
    "# Method: 1\n",
    "import os\n",
    "\n",
    "p = '/home/mana/Temp/task2'\n",
    "print(os.listdir(p))\n",
    "\n",
    "# Method: 2\n",
    "import os\n",
    "\n",
    "l = [i.name for i in os.scandir(p)]\n",
    "print(l)\n",
    "\n",
    "# Method: 3\n",
    "from pathlib import Path\n",
    "\n",
    "p = Path(p)\n",
    "f = [j.name for j in p.iterdir() ]\n",
    "print(f)"
   ]
  },
  {
   "cell_type": "markdown",
   "metadata": {},
   "source": [
    "### Calculate Expiry Date"
   ]
  },
  {
   "cell_type": "code",
   "execution_count": 59,
   "metadata": {},
   "outputs": [
    {
     "name": "stdout",
     "output_type": "stream",
     "text": [
      "Expire 175 days\n"
     ]
    }
   ],
   "source": [
    "from datetime import datetime\n",
    "\n",
    "start_date = '22-07-2019'\n",
    "today = datetime.today()\n",
    "con_date = datetime.strptime(start_date,'%d-%m-%Y')\n",
    "date_diff = con_date - today\n",
    "# Calculate expiry date\n",
    "print('Expire {0} days'.format(date_diff.days))\n"
   ]
  },
  {
   "cell_type": "markdown",
   "metadata": {},
   "source": [
    "### How to compare two words?"
   ]
  },
  {
   "cell_type": "code",
   "execution_count": 72,
   "metadata": {},
   "outputs": [
    {
     "name": "stdout",
     "output_type": "stream",
     "text": [
      "These characters {'c', 'v', 'm'} has been changed in city2.\n"
     ]
    }
   ],
   "source": [
    "city1 = \"Chennai\"\n",
    "city2 = \"chennvami\"\n",
    "v = set(list(city2)) - set(list(city1))\n",
    "print('These characters',v, 'has been changed in city2.')"
   ]
  },
  {
   "cell_type": "markdown",
   "metadata": {},
   "source": [
    "### How to list 2 directory at a same time?"
   ]
  },
  {
   "cell_type": "code",
   "execution_count": 76,
   "metadata": {},
   "outputs": [
    {
     "name": "stdout",
     "output_type": "stream",
     "text": [
      "/home/mana/Temp/task1:\n",
      "btheme.txt\n",
      "\n",
      "/home/mana/Temp/task2:\n",
      "assets.svg\n",
      "render-bits.sh\n",
      "theme.txt\n"
     ]
    }
   ],
   "source": [
    "%%bash\n",
    "\n",
    "ls ~/Temp/{task1,task2}"
   ]
  },
  {
   "cell_type": "code",
   "execution_count": 78,
   "metadata": {},
   "outputs": [
    {
     "name": "stdout",
     "output_type": "stream",
     "text": [
      "diff /home/mana/Temp/task1 /home/mana/Temp/task2\n",
      "Only in /home/mana/Temp/task1 : ['btheme.txt']\n",
      "Only in /home/mana/Temp/task2 : ['assets.svg', 'render-bits.sh', 'theme.txt']\n"
     ]
    }
   ],
   "source": [
    "%%python3\n",
    "\n",
    "import filecmp\n",
    "\n",
    "filecmp.clear_cache()\n",
    "d1 = '/home/mana/Temp/task1'\n",
    "d2 = '/home/mana/Temp/task2'\n",
    "x = filecmp.dircmp(d1, d2)\n",
    "x.report()"
   ]
  },
  {
   "cell_type": "markdown",
   "metadata": {},
   "source": [
    "### How to find duplicate files between 2 directories?\n",
    "This is program also check identical contents."
   ]
  },
  {
   "cell_type": "code",
   "execution_count": 97,
   "metadata": {},
   "outputs": [
    {
     "name": "stdout",
     "output_type": "stream",
     "text": [
      "These files are same file name:\n",
      "theme.txt,rust,Antiloop.mp3\n",
      "\n",
      "These files are same contents:\n",
      "theme.txt,Antiloop.mp3\n"
     ]
    }
   ],
   "source": [
    "import filecmp\n",
    "\n",
    "filecmp.clear_cache()\n",
    "d1 = '/home/mana/Temp/task1'\n",
    "d2 = '/home/mana/Temp/task2'\n",
    "x = filecmp.dircmp(d1, d2)\n",
    "print('These files are same file name:')\n",
    "print(*x.common, sep = ',')\n",
    "print('')\n",
    "print('These files are same contents:')\n",
    "print(*x.same_files, sep = ',')"
   ]
  },
  {
   "cell_type": "markdown",
   "metadata": {},
   "source": [
    "### How to print list items in same line with comma?"
   ]
  },
  {
   "cell_type": "code",
   "execution_count": 1,
   "metadata": {},
   "outputs": [
    {
     "name": "stdout",
     "output_type": "stream",
     "text": [
      "Rice, Milk, Fruit, Vegetable\n"
     ]
    }
   ],
   "source": [
    "l = ['Rice', 'Milk', 'Fruit', 'Vegetable']\n",
    "\n",
    "print(*l, sep = ', ')"
   ]
  },
  {
   "cell_type": "markdown",
   "metadata": {},
   "source": [
    "### dict and set"
   ]
  },
  {
   "cell_type": "code",
   "execution_count": 162,
   "metadata": {},
   "outputs": [
    {
     "data": {
      "text/plain": [
       "{'bacon', 'eggs', 'juice', 'spam'}"
      ]
     },
     "execution_count": 162,
     "metadata": {},
     "output_type": "execute_result"
    }
   ],
   "source": [
    "dishes = {'eggs': 2, 'sausage': 1, 'bacon': 1, 'spam': 500}\n",
    "keys = dishes.keys()\n",
    "values = dishes.values()\n",
    "\n",
    "keys & {'eggs', 'bacon', 'salad'}\n",
    "\n",
    "keys ^ {'sausage', 'juice'}"
   ]
  },
  {
   "cell_type": "markdown",
   "metadata": {},
   "source": [
    "### How to convert dictionary to tuple?"
   ]
  },
  {
   "cell_type": "code",
   "execution_count": 196,
   "metadata": {},
   "outputs": [
    {
     "data": {
      "text/plain": [
       "(('sausage', 1), ('spam', 500), ('bacon', 1), ('eggs', 2))"
      ]
     },
     "execution_count": 196,
     "metadata": {},
     "output_type": "execute_result"
    }
   ],
   "source": [
    "d = {'eggs': 2, 'sausage': 1, 'bacon': 1, 'spam': 500}\n",
    "\n",
    "tuple(d.items())"
   ]
  },
  {
   "cell_type": "markdown",
   "metadata": {},
   "source": [
    "### How to compare 2 list?"
   ]
  },
  {
   "cell_type": "code",
   "execution_count": 204,
   "metadata": {},
   "outputs": [
    {
     "data": {
      "text/plain": [
       "['Rice', 'Vegetable']"
      ]
     },
     "execution_count": 204,
     "metadata": {},
     "output_type": "execute_result"
    }
   ],
   "source": [
    "l1 = ['Rice', 'Milk', 'Fruit', 'Vegetable']\n",
    "l2 = ['Rice', 'Vegetable', 'Butter']\n",
    "\n",
    "[i for i in l2 if i in l1 ]"
   ]
  },
  {
   "cell_type": "code",
   "execution_count": 205,
   "metadata": {},
   "outputs": [
    {
     "data": {
      "text/plain": [
       "['Butter']"
      ]
     },
     "execution_count": 205,
     "metadata": {},
     "output_type": "execute_result"
    }
   ],
   "source": [
    "l1 = ['Rice', 'Milk', 'Fruit', 'Vegetable']\n",
    "l2 = ['Rice', 'Vegetable', 'Butter']\n",
    "\n",
    "[i for i in l2 if i not in l1 ]"
   ]
  },
  {
   "cell_type": "markdown",
   "metadata": {},
   "source": [
    "### How to compare 2 list using set?"
   ]
  },
  {
   "cell_type": "code",
   "execution_count": 328,
   "metadata": {},
   "outputs": [
    {
     "data": {
      "text/plain": [
       "{'Rice', 'Vegetable'}"
      ]
     },
     "execution_count": 328,
     "metadata": {},
     "output_type": "execute_result"
    }
   ],
   "source": [
    "l1 = ['Rice', 'Milk', 'Fruit', 'Vegetable']\n",
    "l2 = ['Rice', 'Vegetable', 'Butter']\n",
    "\n",
    "set(l1) & set(l2)"
   ]
  },
  {
   "cell_type": "code",
   "execution_count": 330,
   "metadata": {},
   "outputs": [
    {
     "data": {
      "text/plain": [
       "{'Butter'}"
      ]
     },
     "execution_count": 330,
     "metadata": {},
     "output_type": "execute_result"
    }
   ],
   "source": [
    "l1 = ['Rice', 'Milk', 'Fruit', 'Vegetable']\n",
    "l2 = ['Rice', 'Vegetable', 'Butter']\n",
    "\n",
    "set(l2) - set(l1)"
   ]
  },
  {
   "cell_type": "markdown",
   "metadata": {},
   "source": [
    "### How to find postive number?"
   ]
  },
  {
   "cell_type": "code",
   "execution_count": 216,
   "metadata": {},
   "outputs": [
    {
     "name": "stdout",
     "output_type": "stream",
     "text": [
      "5--> This is postive number.\n",
      "-5--> This is not postive number.\n"
     ]
    }
   ],
   "source": [
    "def pos(n):\n",
    "    if n >= 0:\n",
    "        return str(n) + '--> This is postive number.'\n",
    "    else:\n",
    "         return str(n) + '--> This is not postive number.'\n",
    "print(pos(5))\n",
    "print(pos(-5))"
   ]
  },
  {
   "cell_type": "markdown",
   "metadata": {},
   "source": [
    "### Server uptime"
   ]
  },
  {
   "cell_type": "code",
   "execution_count": 321,
   "metadata": {},
   "outputs": [
    {
     "name": "stdout",
     "output_type": "stream",
     "text": [
      "1 day, 2:35\n"
     ]
    }
   ],
   "source": [
    "%%bash\n",
    "\n",
    "uptime | awk '{if ($4 == \"day,\") print $3,$4,$5;else print $3}' | sed 's/,$//'"
   ]
  },
  {
   "cell_type": "code",
   "execution_count": 322,
   "metadata": {},
   "outputs": [
    {
     "name": "stdout",
     "output_type": "stream",
     "text": [
      "1 day, 2:35\n"
     ]
    }
   ],
   "source": [
    "%%python3\n",
    "\n",
    "from pathlib import Path as Pa\n",
    "from datetime import timedelta\n",
    "\n",
    "u = Pa('/proc/uptime').read_text().split()[0]\n",
    "t = timedelta(seconds = float(u))\n",
    "print(str(t).rpartition(':')[0])"
   ]
  },
  {
   "cell_type": "markdown",
   "metadata": {},
   "source": [
    "### How to set environment variable in Bash and Python?"
   ]
  },
  {
   "cell_type": "code",
   "execution_count": 332,
   "metadata": {},
   "outputs": [
    {
     "name": "stdout",
     "output_type": "stream",
     "text": [
      "Manavalan\n"
     ]
    }
   ],
   "source": [
    "%%bash\n",
    "\n",
    "export NAME='Manavalan'\n",
    "\n",
    "echo $NAME"
   ]
  },
  {
   "cell_type": "code",
   "execution_count": 333,
   "metadata": {},
   "outputs": [
    {
     "name": "stdout",
     "output_type": "stream",
     "text": [
      "Manavalan\n"
     ]
    }
   ],
   "source": [
    "%%python3\n",
    "\n",
    "import os\n",
    "\n",
    "os.environ['NAME'] = 'Manavalan'\n",
    "print(os.environ['NAME'])"
   ]
  },
  {
   "cell_type": "markdown",
   "metadata": {},
   "source": [
    "### How to check particular process running or not?"
   ]
  },
  {
   "cell_type": "code",
   "execution_count": 19,
   "metadata": {},
   "outputs": [
    {
     "name": "stdout",
     "output_type": "stream",
     "text": [
      " 1427 ?        00:00:06 caja\n"
     ]
    }
   ],
   "source": [
    "%%bash\n",
    "\n",
    "ps -A | grep \"caja\""
   ]
  },
  {
   "cell_type": "code",
   "execution_count": 21,
   "metadata": {},
   "outputs": [
    {
     "name": "stdout",
     "output_type": "stream",
     "text": [
      "Enter Process Name:gedit\n",
      "'gedit' Process not running\n"
     ]
    }
   ],
   "source": [
    "from pathlib import Path\n",
    "\n",
    "p = Path('/proc')\n",
    "\n",
    "def pro(name):\n",
    "    pid = [i for i in p.iterdir() \n",
    "           if str(i.name).isdigit() and i.is_dir()]\n",
    "    stat = [j.joinpath('status').read_text().split()[1]\n",
    "            for j in pid]\n",
    "    if name in stat:\n",
    "        print(repr(name), 'Process running')\n",
    "    else:\n",
    "         print(repr(name), 'Process not running')\n",
    "        \n",
    "\n",
    "inp = input('Enter Process Name:')\n",
    "pro(inp)"
   ]
  },
  {
   "cell_type": "markdown",
   "metadata": {},
   "source": [
    "### Which string has largest length in list?"
   ]
  },
  {
   "cell_type": "markdown",
   "metadata": {},
   "source": [
    "#### Using max"
   ]
  },
  {
   "cell_type": "code",
   "execution_count": 64,
   "metadata": {},
   "outputs": [
    {
     "data": {
      "text/plain": [
       "'Vegetable'"
      ]
     },
     "execution_count": 64,
     "metadata": {},
     "output_type": "execute_result"
    }
   ],
   "source": [
    "l1 = ['Rice', 'Milk', 'Vegetable', 'Fruit']\n",
    "\n",
    "#max(l1, key = lambda x :len(x))\n",
    "#sorted(l1, key=len)[-1]\n",
    "max(l1, key = len)"
   ]
  },
  {
   "cell_type": "markdown",
   "metadata": {},
   "source": [
    "#### Using heapq"
   ]
  },
  {
   "cell_type": "code",
   "execution_count": 58,
   "metadata": {},
   "outputs": [
    {
     "data": {
      "text/plain": [
       "['Vegetable']"
      ]
     },
     "execution_count": 58,
     "metadata": {},
     "output_type": "execute_result"
    }
   ],
   "source": [
    "import heapq\n",
    "\n",
    "l1 = ['Rice', 'Milk', 'Vegetable', 'Fruit']\n",
    "\n",
    "heapq.nlargest(1, l1)"
   ]
  },
  {
   "cell_type": "markdown",
   "metadata": {},
   "source": [
    "#### Using sorted"
   ]
  },
  {
   "cell_type": "code",
   "execution_count": 62,
   "metadata": {},
   "outputs": [
    {
     "data": {
      "text/plain": [
       "'Vegetable'"
      ]
     },
     "execution_count": 62,
     "metadata": {},
     "output_type": "execute_result"
    }
   ],
   "source": [
    "l1 = ['Rice', 'Milk', 'Vegetable', 'Fruit']\n",
    "\n",
    "sorted(l1, key = lambda x :len(x))[-1]\n",
    "sorted(l1, key=len)[-1]"
   ]
  },
  {
   "cell_type": "markdown",
   "metadata": {},
   "source": [
    "### Which string has largest length in list?"
   ]
  },
  {
   "cell_type": "code",
   "execution_count": 72,
   "metadata": {},
   "outputs": [
    {
     "data": {
      "text/plain": [
       "'Vegetable'"
      ]
     },
     "execution_count": 72,
     "metadata": {},
     "output_type": "execute_result"
    }
   ],
   "source": [
    "l1 = ['Rice', 'Milk', 'Vegetable', 'Fruit']\n",
    "\n",
    "max(l1)"
   ]
  },
  {
   "cell_type": "code",
   "execution_count": 73,
   "metadata": {},
   "outputs": [
    {
     "data": {
      "text/plain": [
       "'Vegetable'"
      ]
     },
     "execution_count": 73,
     "metadata": {},
     "output_type": "execute_result"
    }
   ],
   "source": [
    "l1 = ['Rice', 'Milk', 'Vegetable', 'Fruit']\n",
    "sorted(l1)[-1]"
   ]
  },
  {
   "cell_type": "code",
   "execution_count": 74,
   "metadata": {},
   "outputs": [
    {
     "data": {
      "text/plain": [
       "['Vegetable']"
      ]
     },
     "execution_count": 74,
     "metadata": {},
     "output_type": "execute_result"
    }
   ],
   "source": [
    "import heapq\n",
    "\n",
    "l1 = ['Rice', 'Milk', 'Vegetable', 'Fruit']\n",
    "\n",
    "heapq.nlargest(1, l1)"
   ]
  },
  {
   "cell_type": "markdown",
   "metadata": {},
   "source": [
    "### How to list directories only?"
   ]
  },
  {
   "cell_type": "code",
   "execution_count": 37,
   "metadata": {},
   "outputs": [
    {
     "name": "stdout",
     "output_type": "stream",
     "text": [
      "/home/mana/Temp/ring/\n",
      "/home/mana/Temp/task1/\n",
      "/home/mana/Temp/task2/\n",
      "/home/mana/Temp/Theme/\n"
     ]
    }
   ],
   "source": [
    "%%bash\n",
    "\n",
    "ls -1d /home/mana/Temp/*/"
   ]
  },
  {
   "cell_type": "code",
   "execution_count": 41,
   "metadata": {},
   "outputs": [
    {
     "name": "stdout",
     "output_type": "stream",
     "text": [
      "/home/mana/Temp/Theme\n",
      "/home/mana/Temp/ring\n",
      "/home/mana/Temp/task1\n",
      "/home/mana/Temp/task2\n"
     ]
    }
   ],
   "source": [
    "%%python3\n",
    "\n",
    "from pathlib import Path\n",
    "\n",
    "d = Path('/home/mana/Temp')\n",
    "\n",
    "ds = [i for i in d.iterdir() if i.is_dir()]\n",
    "print(*ds, sep = '\\n')"
   ]
  },
  {
   "cell_type": "markdown",
   "metadata": {},
   "source": [
    "### How to print list in various format?"
   ]
  },
  {
   "cell_type": "code",
   "execution_count": 45,
   "metadata": {},
   "outputs": [
    {
     "name": "stdout",
     "output_type": "stream",
     "text": [
      "Help on built-in function print in module builtins:\r\n",
      "\r\n",
      "p\bpr\bri\bin\bnt\bt(...)\r\n",
      "    print(value, ..., sep=' ', end='\\n', file=sys.stdout, flush=False)\r\n",
      "    \r\n",
      "    Prints the values to a stream, or to sys.stdout by default.\r\n",
      "    Optional keyword arguments:\r\n",
      "    file:  a file-like object (stream); defaults to the current sys.stdout.\r\n",
      "    sep:   string inserted between values, default a space.\r\n",
      "    end:   string appended after the last value, default a newline.\r\n",
      "    flush: whether to forcibly flush the stream.\r\n",
      "\r\n"
     ]
    }
   ],
   "source": [
    "!pydoc3 print"
   ]
  },
  {
   "cell_type": "markdown",
   "metadata": {},
   "source": [
    "### How to print list line by line?"
   ]
  },
  {
   "cell_type": "code",
   "execution_count": 42,
   "metadata": {},
   "outputs": [
    {
     "name": "stdout",
     "output_type": "stream",
     "text": [
      "Rice\n",
      "Milk\n",
      "Vegetable\n",
      "Fruit\n"
     ]
    }
   ],
   "source": [
    "l = ['Rice', 'Milk', 'Vegetable', 'Fruit']\n",
    "\n",
    "print(*l, sep = '\\n')"
   ]
  },
  {
   "cell_type": "markdown",
   "metadata": {},
   "source": [
    "### How to print list in one line with comma?"
   ]
  },
  {
   "cell_type": "code",
   "execution_count": 44,
   "metadata": {},
   "outputs": [
    {
     "name": "stdout",
     "output_type": "stream",
     "text": [
      "Rice, Milk, Vegetable, Fruit\n"
     ]
    }
   ],
   "source": [
    "l = ['Rice', 'Milk', 'Vegetable', 'Fruit']\n",
    "\n",
    "print(*l, sep = ', ')"
   ]
  },
  {
   "cell_type": "markdown",
   "metadata": {},
   "source": [
    "### How to check timezone in Bash and Python?"
   ]
  },
  {
   "cell_type": "code",
   "execution_count": 56,
   "metadata": {},
   "outputs": [
    {
     "name": "stdout",
     "output_type": "stream",
     "text": [
      "IST\n"
     ]
    }
   ],
   "source": [
    "%%bash\n",
    "\n",
    "date +\"%Z\""
   ]
  },
  {
   "cell_type": "code",
   "execution_count": 59,
   "metadata": {},
   "outputs": [
    {
     "name": "stdout",
     "output_type": "stream",
     "text": [
      "IST\n"
     ]
    }
   ],
   "source": [
    "%%python3\n",
    "\n",
    "import time\n",
    "\n",
    "print(time.tzname[0])"
   ]
  },
  {
   "cell_type": "code",
   "execution_count": null,
   "metadata": {},
   "outputs": [],
   "source": []
  },
  {
   "cell_type": "code",
   "execution_count": null,
   "metadata": {},
   "outputs": [],
   "source": []
  }
 ],
 "metadata": {
  "kernelspec": {
   "display_name": "Python 3",
   "language": "python",
   "name": "python3"
  },
  "language_info": {
   "codemirror_mode": {
    "name": "ipython",
    "version": 3
   },
   "file_extension": ".py",
   "mimetype": "text/x-python",
   "name": "python",
   "nbconvert_exporter": "python",
   "pygments_lexer": "ipython3",
   "version": "3.5.2"
  }
 },
 "nbformat": 4,
 "nbformat_minor": 2
}
