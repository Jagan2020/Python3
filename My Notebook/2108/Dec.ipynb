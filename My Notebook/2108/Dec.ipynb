{
 "cells": [
  {
   "cell_type": "code",
   "execution_count": null,
   "metadata": {},
   "outputs": [],
   "source": []
  },
  {
   "cell_type": "markdown",
   "metadata": {},
   "source": [
    "### center"
   ]
  },
  {
   "cell_type": "code",
   "execution_count": 5,
   "metadata": {},
   "outputs": [
    {
     "data": {
      "text/plain": [
       "'     Manavalan      '"
      ]
     },
     "execution_count": 5,
     "metadata": {},
     "output_type": "execute_result"
    }
   ],
   "source": [
    "st = 'Manavalan'\n",
    "st.center(20)"
   ]
  },
  {
   "cell_type": "markdown",
   "metadata": {},
   "source": [
    "### ljust"
   ]
  },
  {
   "cell_type": "code",
   "execution_count": 7,
   "metadata": {},
   "outputs": [
    {
     "data": {
      "text/plain": [
       "'Manavalan           '"
      ]
     },
     "execution_count": 7,
     "metadata": {},
     "output_type": "execute_result"
    }
   ],
   "source": [
    "st = 'Manavalan'\n",
    "st.ljust(20)"
   ]
  },
  {
   "cell_type": "markdown",
   "metadata": {},
   "source": [
    "### rjust"
   ]
  },
  {
   "cell_type": "code",
   "execution_count": 3,
   "metadata": {},
   "outputs": [
    {
     "data": {
      "text/plain": [
       "'           Manavalan'"
      ]
     },
     "execution_count": 3,
     "metadata": {},
     "output_type": "execute_result"
    }
   ],
   "source": [
    "st = 'Manavalan'\n",
    "st.rjust(20)"
   ]
  },
  {
   "cell_type": "markdown",
   "metadata": {},
   "source": [
    "### How to write filesystem alert script in python?"
   ]
  },
  {
   "cell_type": "code",
   "execution_count": 32,
   "metadata": {},
   "outputs": [
    {
     "name": "stdout",
     "output_type": "stream",
     "text": [
      "Filesystem            Used     \n",
      "**************************\n",
      "/                      66%\n",
      "DATA                   53%\n",
      "MULTIMEDIA             59%\n"
     ]
    }
   ],
   "source": [
    "from subprocess import check_output as cmd\n",
    "from pathlib import Path\n",
    "\n",
    "output = [i for i in cmd(['df', '-h']).decode().splitlines()]\n",
    "dev = [i.split()[-2:] for i in output if i.startswith('/dev/sd')]\n",
    "result = [i for i in dev  if int(i[0].strip('%')) > 50] \n",
    "final = [(Path(k).parts[-1],j) for j,k in result]\n",
    "print('{:15}  {:^14}'.format('Filesystem','Used'))\n",
    "print('*'*26)\n",
    "for x,y in final:\n",
    "  print('{:21}  {}'.format(x,y))"
   ]
  },
  {
   "cell_type": "markdown",
   "metadata": {},
   "source": [
    "### How to sorted strings based on string length?"
   ]
  },
  {
   "cell_type": "code",
   "execution_count": 147,
   "metadata": {},
   "outputs": [
    {
     "data": {
      "text/plain": [
       "['Delhi', 'Kovai', 'Mumbai', 'Chennai', 'Banglore']"
      ]
     },
     "execution_count": 147,
     "metadata": {},
     "output_type": "execute_result"
    }
   ],
   "source": [
    "city = ['Mumbai', 'Delhi', 'Chennai', 'Kovai', 'Banglore']\n",
    "\n",
    "sorted(city, key=lambda x: len(x))"
   ]
  },
  {
   "cell_type": "markdown",
   "metadata": {},
   "source": [
    "### How to print list items single line?"
   ]
  },
  {
   "cell_type": "code",
   "execution_count": 145,
   "metadata": {},
   "outputs": [
    {
     "name": "stdout",
     "output_type": "stream",
     "text": [
      "This is  Mumbai Delhi Chennai Banglore\n"
     ]
    }
   ],
   "source": [
    "city = ['Mumbai', 'Delhi', 'Chennai', 'Banglore']\n",
    "\n",
    "print('This is ',*(city))"
   ]
  },
  {
   "cell_type": "markdown",
   "metadata": {},
   "source": [
    "### How to list above 50%?"
   ]
  },
  {
   "cell_type": "code",
   "execution_count": 71,
   "metadata": {},
   "outputs": [
    {
     "data": {
      "text/plain": [
       "['89%', '64%', '65%', '52%']"
      ]
     },
     "execution_count": 71,
     "metadata": {},
     "output_type": "execute_result"
    }
   ],
   "source": [
    "lst = ['89%', '34%', '12%', '64%', '24%', '65%', '52%']\n",
    "\n",
    "[x for x in lst if int(x.strip('%')) >= 50]"
   ]
  },
  {
   "cell_type": "markdown",
   "metadata": {},
   "source": [
    "### How to run linux command and catch the output in python?"
   ]
  },
  {
   "cell_type": "code",
   "execution_count": null,
   "metadata": {},
   "outputs": [],
   "source": [
    "from subprocess import check_output as cmd\n",
    "command = 'ps -A --sort pmem -o pid,comm,pmem'\n",
    "out = cmd(command.split()).decode().splitlines()\n",
    "out"
   ]
  },
  {
   "cell_type": "markdown",
   "metadata": {},
   "source": [
    "### Top 10 memory usage process"
   ]
  },
  {
   "cell_type": "code",
   "execution_count": 1,
   "metadata": {},
   "outputs": [
    {
     "name": "stdout",
     "output_type": "stream",
     "text": [
      "Top 10 Memory Consumer:\n",
      "******************************\n",
      "PID     COMMAND            USAGE%\n",
      "---------------------------------\n",
      "2177    vivaldi-bin        2.5\n",
      "3319    vivaldi-bin        2.6\n",
      "2135    vivaldi-bin        3.0\n",
      "11423   mpv                3.1\n",
      "3224    vivaldi-bin        3.3\n",
      "26970   mpv                3.4\n",
      "2026    vivaldi-bin        3.5\n",
      "2093    vivaldi-bin        5.4\n",
      "3161    vivaldi-bin        5.9\n",
      "1938    vivaldi-bin        6.8\n",
      "2095    vivaldi-bin        10.0\n"
     ]
    }
   ],
   "source": [
    "from subprocess import check_output as cmd\n",
    "command = 'ps -A --sort pmem -o pid,comm,pmem'\n",
    "out = cmd(command.split()).decode().splitlines()\n",
    "mem_usage = [i.split() for i in out[2:]][-11:]\n",
    "print('Top 10 Memory Consumer:')\n",
    "print('*'*30)\n",
    "print('{:7} {:18} {}'.format('PID','COMMAND','USAGE%'))\n",
    "print('-'*33)\n",
    "for j in mem_usage:\n",
    "    print('{:7} {:18} {}'.format(*j))"
   ]
  },
  {
   "cell_type": "markdown",
   "metadata": {},
   "source": [
    "### When linux server booted?"
   ]
  },
  {
   "cell_type": "code",
   "execution_count": null,
   "metadata": {},
   "outputs": [],
   "source": [
    "from subprocess import check_output as cmd\n",
    "\n",
    "out = cmd(['who']).decode().split()[-3:-1]\n",
    "print('Server Booted at:',*out)"
   ]
  },
  {
   "cell_type": "markdown",
   "metadata": {},
   "source": [
    "### Uptime"
   ]
  },
  {
   "cell_type": "code",
   "execution_count": null,
   "metadata": {},
   "outputs": [],
   "source": [
    "from subprocess import check_output as cmd\n",
    "\n",
    "out = cmd(['uptime']).decode().strip(',').split()\n",
    "out[2].replace(',','')"
   ]
  },
  {
   "cell_type": "markdown",
   "metadata": {},
   "source": [
    "### How to compare value between range?"
   ]
  },
  {
   "cell_type": "code",
   "execution_count": null,
   "metadata": {},
   "outputs": [],
   "source": [
    "x = 18\n",
    "5 < x > 10"
   ]
  },
  {
   "cell_type": "code",
   "execution_count": null,
   "metadata": {},
   "outputs": [],
   "source": [
    "x = 'C'\n",
    "'B' < x < 'F'"
   ]
  },
  {
   "cell_type": "code",
   "execution_count": null,
   "metadata": {},
   "outputs": [],
   "source": [
    "x = 18\n",
    "5 < x and x > 10"
   ]
  },
  {
   "cell_type": "markdown",
   "metadata": {},
   "source": [
    "### How to evaluate valid identifier?"
   ]
  },
  {
   "cell_type": "code",
   "execution_count": null,
   "metadata": {},
   "outputs": [],
   "source": [
    "print('1num'.isidentifier())\n",
    "print('num'.isidentifier())\n",
    "print('@num'.isidentifier())\n",
    "print('my_num'.isidentifier())\n",
    "print('my-num'.isidentifier())\n",
    "print('my_1_um'.isidentifier())\n",
    "print('MyNum'.isidentifier())   # Not recommend by PEP8 to be use in var."
   ]
  },
  {
   "cell_type": "code",
   "execution_count": null,
   "metadata": {},
   "outputs": [],
   "source": []
  },
  {
   "cell_type": "markdown",
   "metadata": {},
   "source": [
    "### How to print string reversely?"
   ]
  },
  {
   "cell_type": "markdown",
   "metadata": {},
   "source": [
    "#### Using slice and stride"
   ]
  },
  {
   "cell_type": "code",
   "execution_count": null,
   "metadata": {},
   "outputs": [],
   "source": [
    "st = 'Python'\n",
    "st[::-1]"
   ]
  },
  {
   "cell_type": "markdown",
   "metadata": {},
   "source": [
    "#### Using range"
   ]
  },
  {
   "cell_type": "code",
   "execution_count": null,
   "metadata": {},
   "outputs": [],
   "source": [
    "st = \"python\"\n",
    "''.join([ st[i] for i in range(len(st)-1,-1,-1)])"
   ]
  },
  {
   "cell_type": "markdown",
   "metadata": {},
   "source": [
    "#### Using while loop"
   ]
  },
  {
   "cell_type": "code",
   "execution_count": null,
   "metadata": {},
   "outputs": [],
   "source": [
    "st = 'Python'\n",
    "i = len(st)-1 \n",
    "while i >= 0:\n",
    "    print(st[i], end = '')\n",
    "    i -= 1  "
   ]
  },
  {
   "cell_type": "markdown",
   "metadata": {},
   "source": [
    "### How to capitalize each word in string? "
   ]
  },
  {
   "cell_type": "markdown",
   "metadata": {},
   "source": [
    "#### Using str title method"
   ]
  },
  {
   "cell_type": "code",
   "execution_count": null,
   "metadata": {},
   "outputs": [],
   "source": [
    "st = 'world is beautiful.'\n",
    "st.title()"
   ]
  },
  {
   "cell_type": "markdown",
   "metadata": {},
   "source": [
    "#### Using string capwords method"
   ]
  },
  {
   "cell_type": "code",
   "execution_count": null,
   "metadata": {},
   "outputs": [],
   "source": [
    "from string import capwords\n",
    "\n",
    "st = 'world is beautiful.'\n",
    "capwords(st)"
   ]
  },
  {
   "cell_type": "markdown",
   "metadata": {},
   "source": [
    "#### Using capitalize method"
   ]
  },
  {
   "cell_type": "code",
   "execution_count": null,
   "metadata": {},
   "outputs": [],
   "source": [
    "st = 'world is beautiful.'\n",
    "' '.join([ i.capitalize() for i in st.split()])"
   ]
  },
  {
   "cell_type": "markdown",
   "metadata": {},
   "source": [
    "### How to find  biggest file in a directory?"
   ]
  },
  {
   "cell_type": "markdown",
   "metadata": {},
   "source": [
    "#### Using tuple"
   ]
  },
  {
   "cell_type": "code",
   "execution_count": null,
   "metadata": {},
   "outputs": [],
   "source": [
    "from os.path import basename,getsize\n",
    "from glob import glob\n",
    "\n",
    "d = '/home/mana/Must Study/Python/*'\n",
    "files = [(basename(i), getsize(i)) for i in glob(d)]\n",
    "final = sorted(files, key = lambda x: x[1])[-1]\n",
    "print('{} - {:.0f} MB'.format(final[0],final[1]/1048576))"
   ]
  },
  {
   "cell_type": "markdown",
   "metadata": {},
   "source": [
    "#### Using dictionary"
   ]
  },
  {
   "cell_type": "code",
   "execution_count": null,
   "metadata": {},
   "outputs": [],
   "source": [
    "from os.path import basename,getsize\n",
    "from glob import glob\n",
    "\n",
    "d = '/home/mana/Must Study/Python/*'\n",
    "files = {basename(i): getsize(i) for i in glob(d)}\n",
    "final = sorted(files.items(), key = lambda x: x[1])[-1]\n",
    "print('{} - {:.0f} MB'.format(final[0],final[1]/1048576))"
   ]
  },
  {
   "cell_type": "markdown",
   "metadata": {},
   "source": [
    "### How to remove symbol from string?"
   ]
  },
  {
   "cell_type": "code",
   "execution_count": null,
   "metadata": {},
   "outputs": [],
   "source": [
    "from string import printable as ple\n",
    "\n",
    "st = 'mana@yu$rgt'\n",
    "''.join([i for i in st if i not in ple[-38:-6]])"
   ]
  },
  {
   "cell_type": "code",
   "execution_count": null,
   "metadata": {},
   "outputs": [],
   "source": [
    "import re\n",
    "\n",
    "st = 'mana@yu$rgt'\n",
    "''.join(re.findall(r'\\w', st))"
   ]
  },
  {
   "cell_type": "markdown",
   "metadata": {},
   "source": [
    "### How to split the string?"
   ]
  },
  {
   "cell_type": "code",
   "execution_count": null,
   "metadata": {},
   "outputs": [],
   "source": [
    "st = 'This is a Python'\n",
    "st.split()"
   ]
  },
  {
   "cell_type": "markdown",
   "metadata": {},
   "source": [
    "### Hoe to split each 2 word in string?"
   ]
  },
  {
   "cell_type": "code",
   "execution_count": null,
   "metadata": {},
   "outputs": [],
   "source": [
    "import re\n",
    "\n",
    "st = 'This is a Python'\n",
    "re.findall(r'\\w+ \\w+',st)  "
   ]
  },
  {
   "cell_type": "code",
   "execution_count": null,
   "metadata": {},
   "outputs": [],
   "source": [
    "st = 'This is a Python'\n",
    "[' '.join(st.split()[i:2+i]) for i in range(0,len(st.split()),2)]"
   ]
  },
  {
   "cell_type": "markdown",
   "metadata": {},
   "source": [
    "### Nested list comprehension"
   ]
  },
  {
   "cell_type": "code",
   "execution_count": null,
   "metadata": {},
   "outputs": [],
   "source": [
    "matrix = [[1, 2, 3, 4],[5, 6, 7, 8],[9, 10, 11, 12]]\n",
    "\n",
    "[[row[i] for row in matrix] for i in range(len(m)+1)]"
   ]
  },
  {
   "cell_type": "markdown",
   "metadata": {},
   "source": [
    "### What is Attribute in class?\n",
    "Variable and Method of class technically called Attribute."
   ]
  },
  {
   "cell_type": "code",
   "execution_count": null,
   "metadata": {},
   "outputs": [],
   "source": [
    "class Parent:\n",
    "    name = 'Siva'  # Variable \n",
    "    \n",
    "    def get_name(self):  # Method\n",
    "        return name\n",
    "    \n",
    "obj = Parent()\n",
    "dir(obj)[-2:]  # This statement list Attributes."
   ]
  },
  {
   "cell_type": "markdown",
   "metadata": {},
   "source": [
    "### How to raise error manually?\n",
    "Here, It accept integer number only otherwise it raise error."
   ]
  },
  {
   "cell_type": "code",
   "execution_count": null,
   "metadata": {},
   "outputs": [],
   "source": [
    "def enter_num(num):\n",
    "    if isinstance(num, int):\n",
    "        print(num)\n",
    "    else:\n",
    "        raise ValueError('Enter integer number.')\n",
    "       \n",
    "enter_num(10)   # It accpects.\n",
    "enter_num(10.5) # This is raise error.Because this is float."
   ]
  },
  {
   "cell_type": "markdown",
   "metadata": {},
   "source": [
    "### How to print  string with quotes ?"
   ]
  },
  {
   "cell_type": "code",
   "execution_count": null,
   "metadata": {},
   "outputs": [],
   "source": [
    "print('I have {!r} Books'.format('3'))  # r means raw string."
   ]
  },
  {
   "cell_type": "markdown",
   "metadata": {},
   "source": [
    "### Which built-in-method attribute used below statements?\n",
    "Below statements used to __gt__ and __le__  built-in-method attribute."
   ]
  },
  {
   "cell_type": "code",
   "execution_count": null,
   "metadata": {},
   "outputs": [],
   "source": [
    "[5, 6, 4] > [5, 6, 1]  # This is used to __gt__ built-in-method atribute."
   ]
  },
  {
   "cell_type": "code",
   "execution_count": null,
   "metadata": {},
   "outputs": [],
   "source": [
    "[5, 6, 8] < [5, 6, 7]   # This is used to __le__ built-in-method atribute."
   ]
  },
  {
   "cell_type": "code",
   "execution_count": null,
   "metadata": {},
   "outputs": [],
   "source": [
    "[i for i in dir([5, 6, 8]) if i.startswith('__gt') or i.endswith('le__')]"
   ]
  },
  {
   "cell_type": "markdown",
   "metadata": {},
   "source": [
    "### How to check what are built-in attribute available in one object?"
   ]
  },
  {
   "cell_type": "code",
   "execution_count": null,
   "metadata": {},
   "outputs": [],
   "source": [
    "[ i for i in dir(list) if i.endswith('__')]"
   ]
  },
  {
   "cell_type": "markdown",
   "metadata": {},
   "source": [
    "### How to check len built-in-method available in int?"
   ]
  },
  {
   "cell_type": "code",
   "execution_count": null,
   "metadata": {},
   "outputs": [],
   "source": [
    "'__len__' in dir(int)"
   ]
  },
  {
   "cell_type": "markdown",
   "metadata": {},
   "source": [
    "### How to check len built-in-method available in str?"
   ]
  },
  {
   "cell_type": "code",
   "execution_count": null,
   "metadata": {},
   "outputs": [],
   "source": [
    "'__len__' in dir(str)"
   ]
  },
  {
   "cell_type": "markdown",
   "metadata": {},
   "source": [
    "### How to check len built-in-method available in list?"
   ]
  },
  {
   "cell_type": "code",
   "execution_count": null,
   "metadata": {},
   "outputs": [],
   "source": [
    "'__len__' in dir(list)"
   ]
  },
  {
   "cell_type": "markdown",
   "metadata": {},
   "source": [
    "###  How to check what are attributes available in one object?\n",
    "Note: Here I taken file object."
   ]
  },
  {
   "cell_type": "code",
   "execution_count": null,
   "metadata": {},
   "outputs": [],
   "source": [
    "opn = open('file1.txt')\n",
    "\n",
    "for i,j,k,l in zip(*[iter(dir(opn))] *4):\n",
    "    print('{:20} {:20} {:20} {:20}'.format(i,j,k,l))"
   ]
  },
  {
   "cell_type": "markdown",
   "metadata": {},
   "source": [
    "### How to use Carriage Return?"
   ]
  },
  {
   "cell_type": "code",
   "execution_count": null,
   "metadata": {},
   "outputs": [],
   "source": [
    "from time import sleep\n",
    "\n",
    "for i in range(10):\n",
    "    print(i, end = '\\r')\n",
    "    sleep(1)"
   ]
  },
  {
   "cell_type": "markdown",
   "metadata": {},
   "source": [
    "### How to emulate built-in-type method?"
   ]
  },
  {
   "cell_type": "code",
   "execution_count": null,
   "metadata": {},
   "outputs": [],
   "source": [
    "class MyLen:\n",
    "    def __len__(self):\n",
    "        return 10\n",
    "    \n",
    "obj = MyLen()\n",
    "len(obj)"
   ]
  },
  {
   "cell_type": "markdown",
   "metadata": {},
   "source": [
    "### How to find installed Package Version in Ubuntu?"
   ]
  },
  {
   "cell_type": "code",
   "execution_count": null,
   "metadata": {},
   "outputs": [],
   "source": [
    "from subprocess import check_output as cmd\n",
    "import re\n",
    "\n",
    "def package_version(pkg_name):\n",
    "    out_list = [i for i in cmd(['dpkg', '-s', pkg_name]).decode().splitlines()]\n",
    "    ver = [j for j in out_list if j.startswith('Version:')]\n",
    "    print(pkg_name.title(),'Version:',re.search(r'(\\d|.\\d){1,}',ver[0]).group())\n",
    "\n",
    "package_version('firefox')"
   ]
  },
  {
   "cell_type": "markdown",
   "metadata": {},
   "source": [
    "### How to modify private data using Property Decorator?"
   ]
  },
  {
   "cell_type": "code",
   "execution_count": null,
   "metadata": {},
   "outputs": [],
   "source": [
    "class MyClass:\n",
    "    def __init__(self):\n",
    "        self.__data = 5\n",
    "        \n",
    "    @property\n",
    "    def get_data(self):\n",
    "        return self.__data\n",
    "    \n",
    "    @get_data.setter\n",
    "    def set_data(self, x): # Setter method\n",
    "        self.__data = x\n",
    "        \n",
    "obj = MyClass()\n",
    "print(obj.get_data) # return old value\n",
    "obj.set_data = 10 # Now, data modified using Property\n",
    "print(obj.get_data) # return new vlaue"
   ]
  },
  {
   "cell_type": "markdown",
   "metadata": {},
   "source": [
    "### How to modify private data using setter method?"
   ]
  },
  {
   "cell_type": "code",
   "execution_count": null,
   "metadata": {},
   "outputs": [],
   "source": [
    "class MyClass:\n",
    "    def __init__(self):\n",
    "        self.__data = 5\n",
    "        \n",
    "    def get_data(self):\n",
    "        return self.__data\n",
    "        \n",
    "obj = MyClass()\n",
    "obj.__data = 10 # data modified t0 10\n",
    "obj.get_data() # But get old value"
   ]
  },
  {
   "cell_type": "code",
   "execution_count": null,
   "metadata": {},
   "outputs": [],
   "source": [
    "class MyClass:\n",
    "    def __init__(self):\n",
    "        self.__data = 5\n",
    "        \n",
    "    def get_data(self):\n",
    "        return self.__data\n",
    "    \n",
    "    def set_data(self, x): # Setter method\n",
    "        self.__data = x\n",
    "        \n",
    "obj = MyClass()\n",
    "obj.__data = 10\n",
    "print(obj.get_data()) # return old value\n",
    "obj.set_data(10) # Now, data modified using setter method\n",
    "obj.get_data() # return new vlaue"
   ]
  },
  {
   "cell_type": "markdown",
   "metadata": {},
   "source": [
    "### How to separate 5 words in line?"
   ]
  },
  {
   "cell_type": "code",
   "execution_count": null,
   "metadata": {},
   "outputs": [],
   "source": [
    "import re\n",
    "\n",
    "lines = '''The Sangam literature of the Tamil language reveals that, \n",
    "            between 200 BCE and 200 CE, the southern peninsula was being ruled by \n",
    "            the Cheras, the Cholas, and the Pandyas, dynasties that traded \n",
    "            extensively with the Roman Empire and with West and South-East Asia.\n",
    "        '''\n",
    "[lines.split()[i:5+i] for i in range(0,len(lines.split()),5)]"
   ]
  },
  {
   "cell_type": "markdown",
   "metadata": {},
   "source": [
    "### How to format each line contain 5 words?"
   ]
  },
  {
   "cell_type": "code",
   "execution_count": null,
   "metadata": {},
   "outputs": [],
   "source": [
    "import re\n",
    "\n",
    "lines = '''The Sangam literature of the Tamil language reveals that, \n",
    "            between 200 BCE and 200 CE, the southern peninsula was being ruled by \n",
    "            the Cheras, the Cholas, and the Pandyas, dynasties that traded \n",
    "            extensively with the Roman Empire and with West and South-East Asia.\n",
    "        '''\n",
    "fmt = [' '.join(lines.split()[i:5+i]) for i in range(0,len(lines.split()),5)]\n",
    "for j in fmt:\n",
    "    print(j)"
   ]
  },
  {
   "cell_type": "markdown",
   "metadata": {},
   "source": [
    "### How to access private variable?"
   ]
  },
  {
   "cell_type": "code",
   "execution_count": null,
   "metadata": {},
   "outputs": [],
   "source": [
    "class MyClass:\n",
    "    def __init__(self):\n",
    "        self.__data = 5\n",
    "        \n",
    "obj = MyClass()\n",
    "obj.__data # We could not access private variable directly."
   ]
  },
  {
   "cell_type": "code",
   "execution_count": null,
   "metadata": {},
   "outputs": [],
   "source": [
    "class MyClass:\n",
    "    def __init__(self):\n",
    "        self.__data = 5\n",
    "    def get(self):\n",
    "        return self.__data\n",
    "        \n",
    "obj = MyClass()\n",
    "obj.get() # We can access private variable using class method"
   ]
  },
  {
   "cell_type": "markdown",
   "metadata": {},
   "source": [
    "### Compare Versions"
   ]
  },
  {
   "cell_type": "code",
   "execution_count": null,
   "metadata": {},
   "outputs": [],
   "source": [
    "# Example: 1\n",
    "(3, 6, 5) > (3, 6, 4)"
   ]
  },
  {
   "cell_type": "code",
   "execution_count": null,
   "metadata": {},
   "outputs": [],
   "source": [
    "# Example: 2\n",
    "(3, 6, 5) < (3, 6, 4)"
   ]
  },
  {
   "cell_type": "markdown",
   "metadata": {},
   "source": [
    "### Compare current python version"
   ]
  },
  {
   "cell_type": "code",
   "execution_count": null,
   "metadata": {},
   "outputs": [],
   "source": [
    "import sys\n",
    "print(sys.version_info)\n",
    "sys.version_info > (3, 6, 4)"
   ]
  },
  {
   "cell_type": "markdown",
   "metadata": {},
   "source": [
    "### Compare Package Versions"
   ]
  },
  {
   "cell_type": "code",
   "execution_count": null,
   "metadata": {},
   "outputs": [],
   "source": [
    "version1 = '3.6.7'\n",
    "version2 = '3.6.4'\n",
    "v1 = tuple([int(i) for i in version1.split('.')])\n",
    "v2 = tuple([int(i) for i in version2.split('.')])\n",
    "print(v1,v2)\n",
    "v1 > v2"
   ]
  },
  {
   "cell_type": "markdown",
   "metadata": {},
   "source": [
    "### How many bytes in each MB?"
   ]
  },
  {
   "cell_type": "code",
   "execution_count": null,
   "metadata": {},
   "outputs": [],
   "source": [
    "lmb = [ (i,i*(1024*1024)) for i in range(1,21)]\n",
    "print('{:^5} {:>7}'.format('MB','Bytes'))\n",
    "print('*'*15)\n",
    "for j,k in lmb:\n",
    "    print('{:^5} {:>8}'.format(j,k))"
   ]
  },
  {
   "cell_type": "markdown",
   "metadata": {},
   "source": [
    "### How to calculate bytes from MB?"
   ]
  },
  {
   "cell_type": "code",
   "execution_count": null,
   "metadata": {},
   "outputs": [],
   "source": [
    "def byte(mb):\n",
    "    return str(mb*(1024*1024)) + ' Bytes'\n",
    "\n",
    "byte(20)"
   ]
  },
  {
   "cell_type": "markdown",
   "metadata": {},
   "source": [
    "### How many bytes in 10MB?"
   ]
  },
  {
   "cell_type": "code",
   "execution_count": null,
   "metadata": {},
   "outputs": [],
   "source": [
    "10*(1024*1024)"
   ]
  },
  {
   "cell_type": "markdown",
   "metadata": {},
   "source": [
    "### list above 10 MB files"
   ]
  },
  {
   "cell_type": "code",
   "execution_count": null,
   "metadata": {},
   "outputs": [],
   "source": [
    "# Method: 1\n",
    "from os.path import getsize,basename\n",
    "import glob\n",
    "\n",
    "folder = '/home/mana/Must Study/Python/*'\n",
    "for i in glob.glob(folder):\n",
    "    if getsize(i) > 10485760:\n",
    "        print('{} - {:.0f} MB'.format(basename(i),getsize(i)/1024/1024))    "
   ]
  },
  {
   "cell_type": "code",
   "execution_count": null,
   "metadata": {},
   "outputs": [],
   "source": [
    "# Method: 2\n",
    "from os.path import getsize,basename\n",
    "import glob\n",
    "\n",
    "folder = '/home/mana/Must Study/Python/*'\n",
    "file = filter(lambda i: getsize(i) > 10485760, glob.glob(folder)) \n",
    "for j in file:\n",
    "    print('{} - {:.0f} MB'.format(basename(j),getsize(j)/1024/1024))\n"
   ]
  },
  {
   "cell_type": "markdown",
   "metadata": {},
   "source": [
    "### list filesize of files"
   ]
  },
  {
   "cell_type": "code",
   "execution_count": null,
   "metadata": {},
   "outputs": [],
   "source": [
    "from os.path import getsize,basename\n",
    "import glob\n",
    "\n",
    "folder = '/home/mana/Must Study/Python/*'\n",
    "for i in glob.glob(folder):\n",
    "    print(basename(i)+' - '+str(round(getsize(i)/1024/1024))+'MB')"
   ]
  },
  {
   "cell_type": "markdown",
   "metadata": {},
   "source": [
    "### Print 1 to 10 using different method"
   ]
  },
  {
   "cell_type": "code",
   "execution_count": null,
   "metadata": {},
   "outputs": [],
   "source": [
    "print(*range(1,11))"
   ]
  },
  {
   "cell_type": "code",
   "execution_count": null,
   "metadata": {},
   "outputs": [],
   "source": [
    "(lambda *x: x)(*range(1,11))"
   ]
  },
  {
   "cell_type": "code",
   "execution_count": null,
   "metadata": {},
   "outputs": [],
   "source": [
    "[*range(1,11)]"
   ]
  },
  {
   "cell_type": "code",
   "execution_count": null,
   "metadata": {},
   "outputs": [],
   "source": [
    "list(range(1,11))"
   ]
  },
  {
   "cell_type": "markdown",
   "metadata": {},
   "source": [
    "### What is output of this code?"
   ]
  },
  {
   "cell_type": "code",
   "execution_count": null,
   "metadata": {},
   "outputs": [],
   "source": [
    "for i in '1','2','3':\n",
    "    i += i\n",
    "print(i)"
   ]
  },
  {
   "cell_type": "markdown",
   "metadata": {},
   "source": [
    "### How to convert tuple from dictionary?"
   ]
  },
  {
   "cell_type": "code",
   "execution_count": null,
   "metadata": {},
   "outputs": [],
   "source": [
    "from collections import Counter\n",
    "\n",
    "lines = 'Linux  is free and open-source operating systems'\n",
    "d = Counter(lines.split()) \n",
    "print(' This is Dictionary:\\n',d)\n",
    "list((lambda x: x)(d.items()))"
   ]
  },
  {
   "cell_type": "markdown",
   "metadata": {},
   "source": [
    "### Convert tuple using list comprehension"
   ]
  },
  {
   "cell_type": "code",
   "execution_count": null,
   "metadata": {},
   "outputs": [],
   "source": [
    "from collections import Counter\n",
    "\n",
    "lines = 'Linux  is free and open-source operating systems'\n",
    "lst = [i for i in Counter(lines.split()).items()]\n",
    "lst"
   ]
  },
  {
   "cell_type": "markdown",
   "metadata": {},
   "source": [
    "### Count most frequent word."
   ]
  },
  {
   "cell_type": "code",
   "execution_count": null,
   "metadata": {},
   "outputs": [],
   "source": [
    "from collections import Counter\n",
    "\n",
    "lines = 'Linux  is free and open-source operating systems'\n",
    "Counter(lines.split())"
   ]
  },
  {
   "cell_type": "markdown",
   "metadata": {},
   "source": [
    "### Join tuples and converted single tuple"
   ]
  },
  {
   "cell_type": "code",
   "execution_count": null,
   "metadata": {},
   "outputs": [],
   "source": [
    "tu = (('a','b'), ('c', 'd', 'e'), ('f','g'))\n",
    "\n",
    "sum(tu, ())"
   ]
  },
  {
   "cell_type": "markdown",
   "metadata": {},
   "source": [
    "### How to check recursively  one directory exists or not?\n",
    "Here, I check \"test\" directory."
   ]
  },
  {
   "cell_type": "code",
   "execution_count": null,
   "metadata": {},
   "outputs": [],
   "source": [
    "import os\n",
    "\n",
    "def chk_dir(path, search_dir):\n",
    "    f = os.walk(path)\n",
    "    if [search_dir] in sum([*f], ()):\n",
    "        print(repr(search_dir), 'directory exists.')\n",
    "    else:\n",
    "        print(repr(search_dir), 'directory does not exists.')\n",
    "        \n",
    "chk_dir('/home/mana/Public','test')"
   ]
  },
  {
   "cell_type": "code",
   "execution_count": null,
   "metadata": {},
   "outputs": [],
   "source": [
    "import os\n",
    "\n",
    "f = os.walk('/home/mana/Public')\n",
    "if ['test'] in sum([*f], ()):\n",
    "    print('\"Test\" directory exists.')"
   ]
  },
  {
   "cell_type": "markdown",
   "metadata": {},
   "source": [
    "### Property Decorator"
   ]
  },
  {
   "cell_type": "code",
   "execution_count": null,
   "metadata": {},
   "outputs": [],
   "source": [
    "class Student:\n",
    "    def __init__(self,name,marks):\n",
    "        self.name = name\n",
    "        self.marks = marks\n",
    "        \n",
    "    @property    \n",
    "    def gotmarks(self):\n",
    "        gotmarks = self.name + ' obtained ' + self.marks + ' marks'\n",
    "        return gotmarks\n",
    "    \n",
    "    @gotmarks.setter\n",
    "    def gotmarks(self, sentence):\n",
    "        name, marks = sentence.split()\n",
    "        self.name = name\n",
    "        self.marks = marks\n",
    "        \n",
    "st = Student('Manavalan', '90')\n",
    "print(st.name)\n",
    "print(st.gotmarks)\n",
    "print()\n",
    "st.name = 'Micheal'\n",
    "print(st.name)\n",
    "print(st.gotmarks)\n",
    "print()\n",
    "st.gotmarks = 'Xavier 90'\n",
    "print(st.name)\n",
    "print(st.gotmarks)"
   ]
  },
  {
   "cell_type": "code",
   "execution_count": null,
   "metadata": {},
   "outputs": [],
   "source": [
    "class Student:\n",
    "    def __init__(self,name,marks):\n",
    "        self.name = name\n",
    "        self.marks = marks\n",
    "    \n",
    "    def gotmarks(self):\n",
    "        gotmarks = self.name + ' obtained ' + self.marks + ' marks'\n",
    "        return gotmarks\n",
    "\n",
    "st = Student('Manavalan', '90')\n",
    "st.name = 'Micheal'\n",
    "print(st.name)\n",
    "print(st.gotmarks())"
   ]
  },
  {
   "cell_type": "code",
   "execution_count": null,
   "metadata": {},
   "outputs": [],
   "source": [
    "class Student:\n",
    "    def __init__(self,name,marks):\n",
    "        self.name = name\n",
    "        self.marks = marks\n",
    "        self.gotmarks = self.name + ' obtained ' + self.marks + ' marks'\n",
    "\n",
    "st = Student('Manavalan', '90')\n",
    "st.name = 'Micheal'\n",
    "print(st.name)\n",
    "print(st.gotmarks)"
   ]
  },
  {
   "cell_type": "code",
   "execution_count": null,
   "metadata": {},
   "outputs": [],
   "source": [
    "class Student:\n",
    "    def __init__(self,name,marks):\n",
    "        self.name = name\n",
    "        self.marks = marks\n",
    "        self.gotmarks = self.name + ' obtained ' + self.marks + ' marks'\n",
    "\n",
    "st = Student('Manavalan', '90')\n",
    "print(st.name)\n",
    "print(st.marks)\n",
    "print(st.gotmarks)"
   ]
  },
  {
   "cell_type": "markdown",
   "metadata": {},
   "source": [
    "### How to find that most frequent word in Paragraph?"
   ]
  },
  {
   "cell_type": "code",
   "execution_count": null,
   "metadata": {},
   "outputs": [],
   "source": [
    "# Method: 1\n",
    "lines = ''' Linux  is a family of free and open-source software operating systems \n",
    "            built around the Linux kernel. Typically, Linux is packaged in a form \n",
    "            known as a Linux distribution for both desktop and server use. \n",
    "            '''\n",
    "max(set(lines.split()), key = lines.split().count)"
   ]
  },
  {
   "cell_type": "code",
   "execution_count": null,
   "metadata": {},
   "outputs": [],
   "source": [
    "# Method: 2\n",
    "from collections import Counter\n",
    "\n",
    "lines = ''' Linux  is a family of free and open-source software operating systems \n",
    "            built around the Linux kernel. Typically, Linux is packaged in a form \n",
    "            known as a Linux distribution for both desktop and server use. \n",
    "        '''\n",
    "sorted(Counter(lines.split()).items(), key = lambda x: x[1])[-1][0]"
   ]
  },
  {
   "cell_type": "markdown",
   "metadata": {},
   "source": [
    "### Check most frequent element in a list"
   ]
  },
  {
   "cell_type": "code",
   "execution_count": null,
   "metadata": {},
   "outputs": [],
   "source": [
    "num = [92, 100, 209,92, 53, 784, 90, 87, 92, 92,90, 87, 90]\n",
    "print(max(set(num), key = num.count))"
   ]
  },
  {
   "cell_type": "markdown",
   "metadata": {},
   "source": [
    "### Decorator with arguments"
   ]
  },
  {
   "cell_type": "code",
   "execution_count": null,
   "metadata": {},
   "outputs": [],
   "source": [
    "def create_decorator(number):\n",
    "    print('Now we create number decorator.')\n",
    "    c = 2 + 3\n",
    "    number(c)\n",
    "    \n",
    "@create_decorator\n",
    "def number_addition(c):\n",
    "    print('Addition of 2 + 3:', c)"
   ]
  },
  {
   "cell_type": "markdown",
   "metadata": {},
   "source": [
    "### Function Decorator"
   ]
  },
  {
   "cell_type": "code",
   "execution_count": null,
   "metadata": {},
   "outputs": [],
   "source": [
    "def create_decorate(flower):\n",
    "    print('Now we create flower decorator.')\n",
    "    flower()\n",
    "    print('Finally we created flower decorator.')\n",
    "\n",
    "@create_decorate\n",
    "def create_flower():\n",
    "    print('This is ROSE.')\n",
    "print()   \n",
    "@create_decorate\n",
    "def create_flower():\n",
    "    print('This is Jasmine.')"
   ]
  },
  {
   "cell_type": "markdown",
   "metadata": {},
   "source": [
    "### Namedtuple"
   ]
  },
  {
   "cell_type": "code",
   "execution_count": null,
   "metadata": {},
   "outputs": [],
   "source": [
    "from collections import namedtuple\n",
    "\n",
    "student = namedtuple('student', 'name city')\n",
    "student1 = student('Manavalan', 'Chennai')\n",
    "print(student1)\n",
    "print(student1.name)\n",
    "print(student1.city)"
   ]
  },
  {
   "cell_type": "markdown",
   "metadata": {},
   "source": [
    "### How to join tuple elemetns without join method?"
   ]
  },
  {
   "cell_type": "code",
   "execution_count": null,
   "metadata": {},
   "outputs": [],
   "source": [
    "import platform as plt\n",
    "\n",
    "# Before Joining\n",
    "print(plt.dist())\n",
    "print()\n",
    "\n",
    "# After joining using *unpack\n",
    "print(*(plt.dist()))"
   ]
  },
  {
   "cell_type": "markdown",
   "metadata": {},
   "source": [
    "### What are default magic methods available in one class?"
   ]
  },
  {
   "cell_type": "code",
   "execution_count": null,
   "metadata": {},
   "outputs": [],
   "source": [
    "class Test:\n",
    "    pass\n",
    "\n",
    "t = Test()\n",
    "dir(t)"
   ]
  },
  {
   "cell_type": "markdown",
   "metadata": {},
   "source": [
    "### How object reference class variable?\n"
   ]
  },
  {
   "cell_type": "code",
   "execution_count": null,
   "metadata": {},
   "outputs": [],
   "source": [
    "# Here, Object reference value this format --> t.__dict__['name']\n",
    "\n",
    "class Test:\n",
    "    def __init__(self, name):\n",
    "        self.name = name\n",
    "    def printx(self):\n",
    "        pass\n",
    "\n",
    "t = Test('Orange')\n",
    "t.__dict__"
   ]
  },
  {
   "cell_type": "markdown",
   "metadata": {},
   "source": [
    "### Override constructor variable"
   ]
  },
  {
   "cell_type": "code",
   "execution_count": null,
   "metadata": {},
   "outputs": [],
   "source": [
    "class Test:\n",
    "    def __init__(self, name):\n",
    "        self.name = name\n",
    "    def printx(self):\n",
    "        pass\n",
    "\n",
    "t = Test('Orange')\n",
    "print(t.name)\n",
    "\n",
    "# Override constructor variable\n",
    "t.name = 'Apple'\n",
    "print(t.name)"
   ]
  },
  {
   "cell_type": "markdown",
   "metadata": {},
   "source": [
    "### Class constructor with arguments"
   ]
  },
  {
   "cell_type": "code",
   "execution_count": null,
   "metadata": {},
   "outputs": [],
   "source": [
    "class Test:\n",
    "    def __init__(self, name):\n",
    "        self.name = name\n",
    "\n",
    "t = Test('Tamil')\n",
    "t.name"
   ]
  },
  {
   "cell_type": "markdown",
   "metadata": {},
   "source": [
    "### Class constructor with keyword arguments"
   ]
  },
  {
   "cell_type": "code",
   "execution_count": null,
   "metadata": {},
   "outputs": [],
   "source": [
    "class Celsius:\n",
    "    def __init__(self, temperature = 0):\n",
    "        self.temperature = temperature\n",
    "\n",
    "    def to_fahrenheit(self):\n",
    "        return (self.temperature * 1.8) + 32\n",
    "\n",
    "cel = Celsius()\n",
    "cel.temperature = 36\n",
    "cel.to_fahrenheit()"
   ]
  },
  {
   "cell_type": "markdown",
   "metadata": {},
   "source": [
    "### How to change class variable value"
   ]
  },
  {
   "cell_type": "code",
   "execution_count": null,
   "metadata": {},
   "outputs": [],
   "source": [
    "class MyClass:\n",
    "    def __init__(self):\n",
    "        self.name = 'Manavalan'\n",
    "    def printx(self):\n",
    "        print(self.name)\n",
    "\n",
    "change = MyClass()\n",
    "print(change.name)\n",
    "change.name = 'Xavier'\n",
    "print(change.name)"
   ]
  },
  {
   "cell_type": "markdown",
   "metadata": {},
   "source": [
    "### How to change class variable value using setattr method?"
   ]
  },
  {
   "cell_type": "code",
   "execution_count": null,
   "metadata": {},
   "outputs": [],
   "source": [
    "class MyClass:\n",
    "    def __init__(self):\n",
    "        self.name = 'Manavalan'\n",
    "    def printx(self):\n",
    "        print(self.name)\n",
    "\n",
    "change = MyClass()\n",
    "print(change.name)\n",
    "\n",
    "# Print after set name variable value\n",
    "setattr(change, 'name', 'Xavier')\n",
    "print(change.name)"
   ]
  },
  {
   "cell_type": "markdown",
   "metadata": {},
   "source": [
    "### issubclass"
   ]
  },
  {
   "cell_type": "code",
   "execution_count": null,
   "metadata": {},
   "outputs": [],
   "source": [
    "class cal(object):\n",
    "    pass\n",
    "\n",
    "class CalAdd(cal):\n",
    "    pass\n",
    "issubclass(CalAdd, cal)"
   ]
  },
  {
   "cell_type": "markdown",
   "metadata": {},
   "source": [
    "### has/get/set attributes"
   ]
  },
  {
   "cell_type": "code",
   "execution_count": null,
   "metadata": {},
   "outputs": [],
   "source": [
    "class calc:\n",
    "    def __init__(self):\n",
    "        self.name = 'Mana'\n",
    "    def printx(self):\n",
    "        print(self.name)\n",
    "\n",
    "cal = calc()\n",
    "hasattr(cal, 'name')\n",
    "hasattr(cal, 'printx')\n",
    "getattr(cal, 'name')\n",
    "getattr(cal, 'printx')\n",
    "setattr(cal, 'name', 'xavier')\n",
    "cal.name"
   ]
  },
  {
   "cell_type": "markdown",
   "metadata": {},
   "source": [
    "### How to get sort list items using sort method?\n",
    "Normally list sort method return None. So after sort then call list name."
   ]
  },
  {
   "cell_type": "code",
   "execution_count": null,
   "metadata": {},
   "outputs": [],
   "source": [
    "fruits = ['orange', 'pear', 'kiwi', 'apple', 'banana']\n",
    "fruits.sort()\n",
    "fruits"
   ]
  },
  {
   "cell_type": "markdown",
   "metadata": {},
   "source": [
    "### Get Free memory of Linux Server"
   ]
  },
  {
   "cell_type": "code",
   "execution_count": null,
   "metadata": {},
   "outputs": [],
   "source": [
    "from subprocess import check_output as cmd\n",
    "\n",
    "print('Free memory:',cmd(['free', '-h']).decode().split('\\n')[1][-5:])"
   ]
  },
  {
   "cell_type": "markdown",
   "metadata": {},
   "source": [
    "### How to decorate Linux command output in python?"
   ]
  },
  {
   "cell_type": "code",
   "execution_count": null,
   "metadata": {},
   "outputs": [],
   "source": [
    "from subprocess import check_output as cmd\n",
    "\n",
    "print('*'*80)\n",
    "print('{:^87}'.format('\\33[1;35;48mOUTPUT \\33[0m'))\n",
    "print('*'*80)\n",
    "for i in cmd(['free', '-h']).decode().split('\\n'):\n",
    "    print(i)\n",
    "\n"
   ]
  },
  {
   "cell_type": "code",
   "execution_count": null,
   "metadata": {},
   "outputs": [],
   "source": [
    "from subprocess import check_output as cmd\n",
    "\n",
    "for i in cmd(['free', '-h']).decode().split('\\n'):\n",
    "    print(i)\n"
   ]
  },
  {
   "cell_type": "markdown",
   "metadata": {},
   "source": [
    "### How to use for loop within lambda?"
   ]
  },
  {
   "cell_type": "code",
   "execution_count": null,
   "metadata": {},
   "outputs": [],
   "source": [
    "x = [1, 2, 3]\n",
    "(lambda i: [x[j] for j in range(i)])(len(x))"
   ]
  },
  {
   "cell_type": "markdown",
   "metadata": {},
   "source": [
    "### How to print 77 using lambda?"
   ]
  },
  {
   "cell_type": "code",
   "execution_count": null,
   "metadata": {},
   "outputs": [],
   "source": [
    "x = [1, 2, 3,5,77,63,256,7,9990]\n",
    "(lambda *i: i[4])(*x)"
   ]
  },
  {
   "cell_type": "markdown",
   "metadata": {},
   "source": [
    "### Create Hash value or Digest"
   ]
  },
  {
   "cell_type": "code",
   "execution_count": null,
   "metadata": {},
   "outputs": [],
   "source": [
    "hash('Manavalan')"
   ]
  },
  {
   "cell_type": "markdown",
   "metadata": {},
   "source": [
    "### Get Instance Type"
   ]
  },
  {
   "cell_type": "code",
   "execution_count": null,
   "metadata": {},
   "outputs": [],
   "source": [
    "city = 'Chennai'\n",
    "isinstance(city, str)"
   ]
  },
  {
   "cell_type": "markdown",
   "metadata": {},
   "source": [
    "### How to list all list methods?"
   ]
  },
  {
   "cell_type": "code",
   "execution_count": null,
   "metadata": {},
   "outputs": [],
   "source": [
    "dir(list)[35:]"
   ]
  },
  {
   "cell_type": "markdown",
   "metadata": {},
   "source": [
    "### How to list class attributes?"
   ]
  },
  {
   "cell_type": "code",
   "execution_count": null,
   "metadata": {},
   "outputs": [],
   "source": [
    "# Here i list string class attributes\n",
    "\n",
    "dir(str)"
   ]
  },
  {
   "cell_type": "markdown",
   "metadata": {},
   "source": [
    "### lambda with list comprehension"
   ]
  },
  {
   "cell_type": "code",
   "execution_count": null,
   "metadata": {},
   "outputs": [],
   "source": [
    "(lambda x: [chr(i)*x for i in range(65,70)])(3)"
   ]
  },
  {
   "cell_type": "markdown",
   "metadata": {},
   "source": [
    "### Lambda"
   ]
  },
  {
   "cell_type": "code",
   "execution_count": null,
   "metadata": {},
   "outputs": [],
   "source": [
    "# Example: 1\n",
    "    \n",
    "lam = lambda x: len(x)\n",
    "lam('Manavalan')"
   ]
  },
  {
   "cell_type": "code",
   "execution_count": null,
   "metadata": {},
   "outputs": [],
   "source": [
    "# Example: 2\n",
    "\n",
    "(lambda x: len(x))('Chennai') "
   ]
  },
  {
   "cell_type": "code",
   "execution_count": null,
   "metadata": {},
   "outputs": [],
   "source": [
    "# EExample: 3 --> lambda with list comprehension\n",
    "\n",
    "(lambda x: [chr(i)*x for i in range(65,70)])(3)"
   ]
  },
  {
   "cell_type": "markdown",
   "metadata": {},
   "source": [
    "### How to fetch 3 digit value only?"
   ]
  },
  {
   "cell_type": "code",
   "execution_count": null,
   "metadata": {},
   "outputs": [],
   "source": [
    "num = [5, 657, 12, 4789, 782, 344, 24, 2]\n",
    "\n",
    "[x for x in num if len(str(x)) == 3]"
   ]
  },
  {
   "cell_type": "markdown",
   "metadata": {},
   "source": [
    "### 10th Mark Percentage"
   ]
  },
  {
   "cell_type": "code",
   "execution_count": null,
   "metadata": {},
   "outputs": [],
   "source": [
    "mymarks, totalmarks = 401, 500\n",
    "print('{:.0%}'.format(mymarks/totalmarks))"
   ]
  },
  {
   "cell_type": "markdown",
   "metadata": {},
   "source": [
    "### 12th Mark Percentage"
   ]
  },
  {
   "cell_type": "code",
   "execution_count": null,
   "metadata": {},
   "outputs": [],
   "source": [
    "mymarks, totalmarks = 912, 1200\n",
    "print('{:.0%}'.format(mymarks/totalmarks))"
   ]
  },
  {
   "cell_type": "code",
   "execution_count": null,
   "metadata": {},
   "outputs": [],
   "source": [
    "import sys\n",
    "\n",
    "sys.version"
   ]
  },
  {
   "cell_type": "code",
   "execution_count": null,
   "metadata": {},
   "outputs": [],
   "source": []
  },
  {
   "cell_type": "markdown",
   "metadata": {},
   "source": [
    "### Check Version"
   ]
  },
  {
   "cell_type": "code",
   "execution_count": null,
   "metadata": {},
   "outputs": [],
   "source": [
    "import sys\n",
    "\n",
    "sys.version"
   ]
  },
  {
   "cell_type": "markdown",
   "metadata": {},
   "source": [
    "### How to convert list from generator?"
   ]
  },
  {
   "cell_type": "code",
   "execution_count": null,
   "metadata": {},
   "outputs": [],
   "source": [
    "from pathlib import Path\n",
    "\n",
    "d = '/etc'\n",
    "file_search = Path(d).glob('**/passwd')\n",
    "print(file_search)  # This is generator\n",
    "list(file_search)  # Convert list"
   ]
  },
  {
   "cell_type": "markdown",
   "metadata": {},
   "source": [
    "### list all symlinks in /etc directory "
   ]
  },
  {
   "cell_type": "code",
   "execution_count": null,
   "metadata": {},
   "outputs": [],
   "source": [
    "from pathlib import Path\n",
    "\n",
    "d = Path('/etc')\n",
    "[i for i in d.rglob('*') if i.is_symlink()]\n"
   ]
  },
  {
   "cell_type": "markdown",
   "metadata": {},
   "source": [
    "### How to remove \\n when reading file?\n",
    "Use splitlines instead of readlines."
   ]
  },
  {
   "cell_type": "code",
   "execution_count": 6,
   "metadata": {},
   "outputs": [
    {
     "data": {
      "text/plain": [
       "['one', 'two', 'three']"
      ]
     },
     "execution_count": 6,
     "metadata": {},
     "output_type": "execute_result"
    }
   ],
   "source": [
    "with open('/home/mana/Work/number.txt') as f:\n",
    "    rd = f.read().splitlines()\n",
    "    \n",
    "rd"
   ]
  },
  {
   "cell_type": "markdown",
   "metadata": {},
   "source": [
    "### Create files similar like touch"
   ]
  },
  {
   "cell_type": "code",
   "execution_count": null,
   "metadata": {},
   "outputs": [],
   "source": [
    "import os\n",
    "\n",
    "os.chdir('/home/mana/Templates')\n",
    "for i in range(1,5):\n",
    "    open('file'+str(i)+'.txt', 'w')"
   ]
  },
  {
   "cell_type": "markdown",
   "metadata": {},
   "source": [
    "### How to change html files to php?"
   ]
  },
  {
   "cell_type": "code",
   "execution_count": null,
   "metadata": {},
   "outputs": [],
   "source": [
    "from pathlib import Path\n",
    "\n",
    "p = Path('/home/mana/Templates')\n",
    "for i in p.iterdir():\n",
    "    if i.suffix == '.html':\n",
    "        i.rename(i.with_suffix('.php'))"
   ]
  },
  {
   "cell_type": "markdown",
   "metadata": {},
   "source": [
    "### How to read file without open?"
   ]
  },
  {
   "cell_type": "code",
   "execution_count": null,
   "metadata": {
    "scrolled": true
   },
   "outputs": [],
   "source": [
    "from pathlib import Path\n",
    "\n",
    "p = Path('/home/mana/Work Area/python-features.txt')\n",
    "contents = p.read_text().splitlines()\n",
    "contents"
   ]
  },
  {
   "cell_type": "markdown",
   "metadata": {},
   "source": [
    "### How to remove the last digit from an integer?"
   ]
  },
  {
   "cell_type": "code",
   "execution_count": null,
   "metadata": {},
   "outputs": [],
   "source": [
    "import re\n",
    "\n",
    "my_integer,  my_string_integer = 4443, str(my_integer)\n",
    "re.search(r'\\d{'+str(len(my_string_integer)-1)+'}', my_string_integer).group()"
   ]
  },
  {
   "cell_type": "markdown",
   "metadata": {},
   "source": [
    "### How to find biggest file in directory?"
   ]
  },
  {
   "cell_type": "code",
   "execution_count": null,
   "metadata": {},
   "outputs": [],
   "source": [
    "from pathlib import Path\n",
    "\n",
    "p = Path('/home/mana/Must Study/Python')\n",
    "print(sorted(p.rglob('*'), key=lambda x: x.stat().st_size)[-1])"
   ]
  },
  {
   "cell_type": "markdown",
   "metadata": {},
   "source": [
    "### Print all Non-Printable Characters List"
   ]
  },
  {
   "cell_type": "code",
   "execution_count": null,
   "metadata": {},
   "outputs": [],
   "source": [
    "count = 0\n",
    "for codepoint in range(2 ** 16):\n",
    "    ch = chr(codepoint)\n",
    "    if not ch.isprintable():\n",
    "        print(u'{:04x}'.format(codepoint))\n",
    "        count = count + 1\n",
    "print(f'Total Number of Non-Printable Unicode Characters = {count}')\n"
   ]
  },
  {
   "cell_type": "markdown",
   "metadata": {},
   "source": [
    "### How to convert hexadecimal from integer?"
   ]
  },
  {
   "cell_type": "code",
   "execution_count": null,
   "metadata": {},
   "outputs": [],
   "source": [
    "print('{:X}'.format(90))"
   ]
  },
  {
   "cell_type": "markdown",
   "metadata": {},
   "source": [
    "### How to convert octadecimal from integer?"
   ]
  },
  {
   "cell_type": "code",
   "execution_count": null,
   "metadata": {},
   "outputs": [],
   "source": [
    "print('{:o}'.format(90))"
   ]
  },
  {
   "cell_type": "markdown",
   "metadata": {},
   "source": [
    "### How to convert binary from integer?"
   ]
  },
  {
   "cell_type": "code",
   "execution_count": null,
   "metadata": {},
   "outputs": [],
   "source": [
    "print('{:b}'.format(90))"
   ]
  },
  {
   "cell_type": "markdown",
   "metadata": {},
   "source": [
    "### How to padded with zero?"
   ]
  },
  {
   "cell_type": "code",
   "execution_count": null,
   "metadata": {},
   "outputs": [],
   "source": [
    "print('{:04X}'.format(90))"
   ]
  },
  {
   "cell_type": "markdown",
   "metadata": {},
   "source": [
    "### How to create bulk files?"
   ]
  },
  {
   "cell_type": "code",
   "execution_count": null,
   "metadata": {},
   "outputs": [],
   "source": [
    "from pathlib import Path\n",
    "\n",
    "p = '/home/mana/Work Area/'\n",
    "for i in range(1,6):\n",
    "    Path(p+'test'+str(i)+'.txt').touch()"
   ]
  },
  {
   "cell_type": "markdown",
   "metadata": {},
   "source": [
    "### How to build the path?"
   ]
  },
  {
   "cell_type": "code",
   "execution_count": null,
   "metadata": {},
   "outputs": [],
   "source": [
    "from pathlib import Path\n",
    "\n",
    "p = Path('/')\n",
    "paths = ['usr', 'local']\n",
    "p.joinpath(*paths)"
   ]
  },
  {
   "cell_type": "markdown",
   "metadata": {},
   "source": [
    "### How to build home paths?"
   ]
  },
  {
   "cell_type": "code",
   "execution_count": null,
   "metadata": {},
   "outputs": [],
   "source": [
    "from pathlib import Path\n",
    "\n",
    "p = Path.home()\n",
    "paths = ['Desktop', 'Documents', 'Downloads', 'Music',\n",
    "         'Pictures', 'Public',  'Templates',  'Videos']\n",
    "for i in paths:\n",
    "    print(p.joinpath(i))"
   ]
  },
  {
   "cell_type": "markdown",
   "metadata": {},
   "source": [
    "### How to break a loop?\n",
    "Break statement immediately break a loop."
   ]
  },
  {
   "cell_type": "code",
   "execution_count": null,
   "metadata": {},
   "outputs": [],
   "source": [
    "signal = ['Orange', 'Blue', 'Green', 'Yellow', 'Red', 'Green']\n",
    "\n",
    "for color in signal:   \n",
    "    if color == 'Red':\n",
    "        break\n",
    "    print(color)"
   ]
  },
  {
   "cell_type": "markdown",
   "metadata": {},
   "source": [
    "### How to continue the loop without break?\n",
    "Contiune statement just skip current iteration. But Contiune."
   ]
  },
  {
   "cell_type": "code",
   "execution_count": null,
   "metadata": {},
   "outputs": [],
   "source": [
    "signal = ['Orange', 'Blue', 'Green', 'Yellow', 'Red', 'Green']\n",
    "\n",
    "for color in signal:   \n",
    "    if color == 'Red':\n",
    "        continue\n",
    "    print(color)"
   ]
  },
  {
   "cell_type": "markdown",
   "metadata": {},
   "source": [
    "### Print list items in single line."
   ]
  },
  {
   "cell_type": "code",
   "execution_count": null,
   "metadata": {},
   "outputs": [],
   "source": [
    "lst = ['Chennai', 'Madurai']\n",
    "print('Cities:',*lst)"
   ]
  },
  {
   "cell_type": "markdown",
   "metadata": {},
   "source": [
    "### How to Create table format?"
   ]
  },
  {
   "cell_type": "code",
   "execution_count": null,
   "metadata": {},
   "outputs": [],
   "source": [
    "tfmt = '{:15s}' + ('  {:>8}' * 4)\n",
    "print(tfmt.format('Name','City','Skill','Gender', 'Address'))"
   ]
  },
  {
   "cell_type": "code",
   "execution_count": null,
   "metadata": {},
   "outputs": [],
   "source": [
    "hfmt = '{:18s}' + ('  {:>5}' * 6)\n",
    "print(hfmt.format('Name', 'File', 'Dir', 'Link', 'FIFO', 'Block', 'Character'))"
   ]
  },
  {
   "cell_type": "markdown",
   "metadata": {},
   "source": [
    "### How to get current epoch time?"
   ]
  },
  {
   "cell_type": "code",
   "execution_count": null,
   "metadata": {},
   "outputs": [],
   "source": [
    "import time; time.time()"
   ]
  },
  {
   "cell_type": "markdown",
   "metadata": {},
   "source": [
    "### How to convert current time from epoc time?"
   ]
  },
  {
   "cell_type": "code",
   "execution_count": null,
   "metadata": {},
   "outputs": [],
   "source": [
    "import time; time.ctime(1545073708.3903012)"
   ]
  },
  {
   "cell_type": "markdown",
   "metadata": {},
   "source": [
    "### How to find file creation time?"
   ]
  },
  {
   "cell_type": "code",
   "execution_count": null,
   "metadata": {},
   "outputs": [],
   "source": [
    "import os\n",
    "import time\n",
    "\n",
    "create = os.stat('/home/mana/Work/file1.txt').st_ctime\n",
    "time.ctime(create)"
   ]
  },
  {
   "cell_type": "markdown",
   "metadata": {},
   "source": [
    "### How to find file permission?"
   ]
  },
  {
   "cell_type": "code",
   "execution_count": null,
   "metadata": {},
   "outputs": [],
   "source": [
    "from pathlib import Path\n",
    "import stat\n",
    "\n",
    "p = Path('/home/mana/Work/file1.txt').stat().st_mode\n",
    "format(stat.S_IMODE(p), 'o')"
   ]
  },
  {
   "cell_type": "code",
   "execution_count": null,
   "metadata": {},
   "outputs": [],
   "source": [
    "from pathlib import Path\n",
    "import stat\n",
    "\n",
    "p = Path('/home/mana/Work/file1.txt').stat().st_mode\n",
    "print(p)\n",
    "print(stat.S_IMODE(p))"
   ]
  },
  {
   "cell_type": "code",
   "execution_count": null,
   "metadata": {},
   "outputs": [],
   "source": [
    "print(format(33204, 'o'))\n",
    "print(format(436, 'o'))"
   ]
  },
  {
   "cell_type": "markdown",
   "metadata": {},
   "source": [
    "### Uptime"
   ]
  },
  {
   "cell_type": "code",
   "execution_count": null,
   "metadata": {},
   "outputs": [],
   "source": [
    "from pathlib import Path\n",
    "from datetime import timedelta\n",
    "\n",
    "sec = Path('/proc/uptime').read_text().split('.')[0]\n",
    "print(timedelta(seconds = int(sec)))"
   ]
  },
  {
   "cell_type": "markdown",
   "metadata": {},
   "source": [
    "### Convert Hexadecimal from integer"
   ]
  },
  {
   "cell_type": "code",
   "execution_count": null,
   "metadata": {},
   "outputs": [],
   "source": [
    "format(90, 'X')"
   ]
  },
  {
   "cell_type": "markdown",
   "metadata": {},
   "source": [
    "### Convert Octadecimal from integer"
   ]
  },
  {
   "cell_type": "code",
   "execution_count": null,
   "metadata": {},
   "outputs": [],
   "source": [
    "format(90, 'o')"
   ]
  },
  {
   "cell_type": "markdown",
   "metadata": {},
   "source": [
    "### Convert Binary from integer"
   ]
  },
  {
   "cell_type": "code",
   "execution_count": null,
   "metadata": {},
   "outputs": [],
   "source": [
    "format(90, 'b')"
   ]
  },
  {
   "cell_type": "markdown",
   "metadata": {},
   "source": [
    "### How to get file information ?"
   ]
  },
  {
   "cell_type": "code",
   "execution_count": null,
   "metadata": {},
   "outputs": [],
   "source": [
    "from time import ctime\n",
    "from pathlib import Path\n",
    "from stat import S_IMODE\n",
    "\n",
    "p = Path('/home/mana/Work/The GNU C Tutorial.pdf').stat()\n",
    "print('Owner:',p.st_uid)\n",
    "print('Permission:',format(S_IMODE(p.st_mode),'o'))\n",
    "print('Size: {:.1f} MB'.format(p.st_size/1024/1024))\n",
    "print('File Created:',ctime(p.st_ctime))\n",
    "print('Last Modified:',ctime(p.st_mtime))\n",
    "print('Last Accessed:',ctime(p.st_atime))"
   ]
  },
  {
   "cell_type": "markdown",
   "metadata": {},
   "source": [
    "### How to find uuid of each disk partition?"
   ]
  },
  {
   "cell_type": "code",
   "execution_count": null,
   "metadata": {},
   "outputs": [],
   "source": [
    "from pathlib import Path\n",
    "\n",
    "p1 = Path('/dev/disk/by-uuid')\n",
    "uid = [(i.resolve(),i.parts[-1]) for i in p1.iterdir()]\n",
    "print('{} {:>13}'.format('Device-Name','UUID'))\n",
    "print('*'*26)\n",
    "for j,k in sorted(uid):\n",
    "    print('{:20} {}'.format(str(j),k))"
   ]
  },
  {
   "cell_type": "markdown",
   "metadata": {},
   "source": [
    "### How many \"cat\" and \"rat\" word repated? How many \"at\" word repeated?"
   ]
  },
  {
   "cell_type": "markdown",
   "metadata": {},
   "source": [
    "#### Fetch"
   ]
  },
  {
   "cell_type": "code",
   "execution_count": null,
   "metadata": {},
   "outputs": [],
   "source": [
    "st = '''cat beaten rat by bat. But rat esacped becuase rat was running. So \n",
    "                cat was wiating '''\n",
    "\n",
    "lst = re.findall(r'(?:c|r)at|at',st)"
   ]
  },
  {
   "cell_type": "markdown",
   "metadata": {},
   "source": [
    "#### Counting"
   ]
  },
  {
   "cell_type": "code",
   "execution_count": null,
   "metadata": {},
   "outputs": [],
   "source": [
    "from collections import Counter\n",
    "\n",
    "lst = re.findall(r'(?:c|r)at|at',st)\n",
    "Counter(lst)"
   ]
  },
  {
   "cell_type": "markdown",
   "metadata": {},
   "source": [
    "## Bitwise Operator"
   ]
  },
  {
   "cell_type": "code",
   "execution_count": null,
   "metadata": {},
   "outputs": [],
   "source": [
    "True/2"
   ]
  },
  {
   "cell_type": "code",
   "execution_count": null,
   "metadata": {},
   "outputs": [],
   "source": [
    "False/2"
   ]
  },
  {
   "cell_type": "markdown",
   "metadata": {},
   "source": [
    "### &(and) Operator"
   ]
  },
  {
   "cell_type": "code",
   "execution_count": null,
   "metadata": {},
   "outputs": [],
   "source": [
    "4 & 8"
   ]
  },
  {
   "cell_type": "markdown",
   "metadata": {},
   "source": [
    "### |(OR) Operator"
   ]
  },
  {
   "cell_type": "code",
   "execution_count": null,
   "metadata": {},
   "outputs": [],
   "source": [
    "4 | 8"
   ]
  },
  {
   "cell_type": "markdown",
   "metadata": {},
   "source": [
    "### ^(XOR) Operator"
   ]
  },
  {
   "cell_type": "code",
   "execution_count": null,
   "metadata": {},
   "outputs": [],
   "source": [
    "4 ^ 8"
   ]
  },
  {
   "cell_type": "code",
   "execution_count": null,
   "metadata": {},
   "outputs": [],
   "source": [
    "False^True"
   ]
  },
  {
   "cell_type": "code",
   "execution_count": null,
   "metadata": {},
   "outputs": [],
   "source": [
    "True^True"
   ]
  },
  {
   "cell_type": "code",
   "execution_count": null,
   "metadata": {},
   "outputs": [],
   "source": [
    "1^True"
   ]
  },
  {
   "cell_type": "markdown",
   "metadata": {},
   "source": [
    "### How to find when was linux system installed?"
   ]
  },
  {
   "cell_type": "code",
   "execution_count": null,
   "metadata": {},
   "outputs": [],
   "source": [
    "from pathlib import Path\n",
    "from time import ctime\n",
    "\n",
    "p = Path('/boot').stat()[-1]\n",
    "ctime(p)"
   ]
  },
  {
   "cell_type": "markdown",
   "metadata": {},
   "source": [
    "### How do I know if my Linux is 32 bit or 64 bit?"
   ]
  },
  {
   "cell_type": "code",
   "execution_count": null,
   "metadata": {},
   "outputs": [],
   "source": [
    "import os\n",
    "\n",
    "if os.uname()[-1] == 'x86_64':\n",
    "    print('This System powered by 64 Bit.')\n",
    "else:\n",
    "    print('This System powered by 32 Bit.')"
   ]
  },
  {
   "cell_type": "markdown",
   "metadata": {},
   "source": [
    "### How to get filename from path?"
   ]
  },
  {
   "cell_type": "code",
   "execution_count": null,
   "metadata": {},
   "outputs": [],
   "source": [
    "import os.path\n",
    "\n",
    "os.path.basename('/home/mana/Work/test.sh')"
   ]
  },
  {
   "cell_type": "code",
   "execution_count": null,
   "metadata": {},
   "outputs": [],
   "source": [
    "import os.path\n",
    "\n",
    "os.path.split('/home/mana/Work/test.sh')[1]"
   ]
  },
  {
   "cell_type": "code",
   "execution_count": null,
   "metadata": {},
   "outputs": [],
   "source": [
    "path = '/home/mana/Work/test.sh'.split('/')\n",
    "path[-1]"
   ]
  },
  {
   "cell_type": "code",
   "execution_count": null,
   "metadata": {},
   "outputs": [],
   "source": [
    "from pathlib import Path\n",
    "\n",
    "Path('/home/mana/Work/test.sh').name"
   ]
  },
  {
   "cell_type": "code",
   "execution_count": null,
   "metadata": {},
   "outputs": [],
   "source": []
  },
  {
   "cell_type": "markdown",
   "metadata": {},
   "source": [
    "### How to count Number of files in Directory?\n"
   ]
  },
  {
   "cell_type": "code",
   "execution_count": null,
   "metadata": {},
   "outputs": [],
   "source": [
    "from pathlib import Path\n",
    "\n",
    "p = Path('/home/mana/Must Study/Python')\n",
    "l = [i for i in p.iterdir() if i.is_file()]\n",
    "len(l)\n"
   ]
  },
  {
   "cell_type": "markdown",
   "metadata": {},
   "source": [
    "### Increment silent in Python"
   ]
  },
  {
   "cell_type": "code",
   "execution_count": null,
   "metadata": {},
   "outputs": [],
   "source": [
    "[++i for i in range(1,5)]"
   ]
  },
  {
   "cell_type": "code",
   "execution_count": null,
   "metadata": {},
   "outputs": [],
   "source": [
    "[i for i in range(1,5)]"
   ]
  },
  {
   "cell_type": "markdown",
   "metadata": {},
   "source": [
    "### How to join all items?"
   ]
  },
  {
   "cell_type": "code",
   "execution_count": null,
   "metadata": {},
   "outputs": [],
   "source": [
    "l = ['Chennai', 'Maduari', 'Trichy']\n",
    "print(*l)"
   ]
  },
  {
   "cell_type": "markdown",
   "metadata": {},
   "source": [
    "### How to use repr with page alignment in format?"
   ]
  },
  {
   "cell_type": "code",
   "execution_count": null,
   "metadata": {},
   "outputs": [],
   "source": [
    "print('{!r:>15} {}'.format('Manavalan', 25))"
   ]
  },
  {
   "cell_type": "markdown",
   "metadata": {},
   "source": [
    "### join"
   ]
  },
  {
   "cell_type": "code",
   "execution_count": null,
   "metadata": {},
   "outputs": [],
   "source": [
    "import os.path\n",
    "\n",
    "p = ('usr', 'share', 'local')\n",
    "print(os.path.join(*p))"
   ]
  },
  {
   "cell_type": "code",
   "execution_count": null,
   "metadata": {},
   "outputs": [],
   "source": [
    "import os.path\n",
    "\n",
    "p = ('/', 'usr', 'share', 'local')\n",
    "print(os.path.join(*p))"
   ]
  },
  {
   "cell_type": "markdown",
   "metadata": {},
   "source": [
    "### normpath"
   ]
  },
  {
   "cell_type": "code",
   "execution_count": null,
   "metadata": {},
   "outputs": [],
   "source": [
    "import os.path\n",
    "\n",
    "p = ('/usr/./share/local')\n",
    "print(os.path.normpath(p))"
   ]
  },
  {
   "cell_type": "code",
   "execution_count": null,
   "metadata": {},
   "outputs": [],
   "source": [
    "import os.path\n",
    "\n",
    "p = ('/usr/../share/local')\n",
    "print(os.path.normpath(p))"
   ]
  },
  {
   "cell_type": "code",
   "execution_count": null,
   "metadata": {},
   "outputs": [],
   "source": [
    "import os.path\n",
    "\n",
    "p = ('/usr//share/local')\n",
    "print(os.path.normpath(p))"
   ]
  },
  {
   "cell_type": "markdown",
   "metadata": {},
   "source": [
    "### How to fetch file extension?"
   ]
  },
  {
   "cell_type": "markdown",
   "metadata": {},
   "source": [
    "#### Using pathlib"
   ]
  },
  {
   "cell_type": "code",
   "execution_count": null,
   "metadata": {},
   "outputs": [],
   "source": [
    "from pathlib import Path\n",
    "\n",
    "p = Path('my/library/setup.py')\n",
    "p.suffix"
   ]
  },
  {
   "cell_type": "markdown",
   "metadata": {},
   "source": [
    "#### using os.path"
   ]
  },
  {
   "cell_type": "code",
   "execution_count": null,
   "metadata": {},
   "outputs": [],
   "source": [
    "import os.path\n",
    "\n",
    "p = '/home/mana/setup.py'\n",
    "os.path.splitext(p)[1]"
   ]
  },
  {
   "cell_type": "markdown",
   "metadata": {},
   "source": [
    "### How to fetch file name without file extension?"
   ]
  },
  {
   "cell_type": "code",
   "execution_count": null,
   "metadata": {},
   "outputs": [],
   "source": [
    "## Using pathlib\n",
    "from pathlib import Path\n",
    "\n",
    "p = Path('/home/mana/setup.py')\n",
    "p.stem"
   ]
  },
  {
   "cell_type": "code",
   "execution_count": null,
   "metadata": {},
   "outputs": [],
   "source": [
    "## Using os.path\n",
    "import os.path\n",
    "\n",
    "p = '/home/mana/setup.py'\n",
    "fp = os.path.splitext(p)[0]\n",
    "os.path.split(fp)[1]"
   ]
  },
  {
   "cell_type": "markdown",
   "metadata": {},
   "source": [
    "### Convert date,hour,minute from seconds"
   ]
  },
  {
   "cell_type": "code",
   "execution_count": null,
   "metadata": {},
   "outputs": [],
   "source": [
    "from datetime import timedelta\n",
    "\n",
    "print('1 Second:',timedelta(seconds = 1))\n",
    "print('1 Mintue:',timedelta(seconds = 60))\n",
    "print('2 Mintues:',timedelta(seconds = 2*60))\n",
    "print('5 Mintues:',timedelta(seconds = 5*60))\n",
    "print('1 Hour:',timedelta(seconds = 60*60))\n",
    "print('1 Day:',timedelta(seconds = 24*3600))"
   ]
  },
  {
   "cell_type": "markdown",
   "metadata": {},
   "source": [
    "### How to find Zombie process using Python?"
   ]
  },
  {
   "cell_type": "code",
   "execution_count": null,
   "metadata": {},
   "outputs": [],
   "source": [
    "from subprocess import check_output as chk\n",
    "\n",
    "cmd = 'ps -A -o pid,comm,state'.split()\n",
    "[i for i in chk(cmd).decode().splitlines() if i.split()[-1] == 'Z']"
   ]
  },
  {
   "cell_type": "markdown",
   "metadata": {},
   "source": [
    "### This code for latest Python Version"
   ]
  },
  {
   "cell_type": "code",
   "execution_count": null,
   "metadata": {},
   "outputs": [],
   "source": [
    "from subprocess import run,PIPE\n",
    "\n",
    "cmd = 'ps -A -o pid,comm,state'.split()\n",
    "out = run(cmd, stdout=PIPE).stdout\n",
    "[i for i in out.decode().splitlines() if i.split()[-1] == 'Z']"
   ]
  },
  {
   "cell_type": "markdown",
   "metadata": {},
   "source": [
    "### How to get output from run?"
   ]
  },
  {
   "cell_type": "code",
   "execution_count": null,
   "metadata": {},
   "outputs": [],
   "source": [
    "from subprocess import run,PIPE\n",
    "\n",
    "cmd = 'whoami'.split()\n",
    "out = run(cmd, stdout=PIPE).stdout\n",
    "out"
   ]
  },
  {
   "cell_type": "markdown",
   "metadata": {},
   "source": [
    "### List all Python keywords"
   ]
  },
  {
   "cell_type": "code",
   "execution_count": null,
   "metadata": {},
   "outputs": [],
   "source": [
    "import keyword\n",
    "\n",
    "key = [i for i in keyword.kwlist]\n",
    "\n",
    "print('*'*30)\n",
    "color = 'Keywords'.center(30)\n",
    "print('\\33[1;39;48m'+  color +'\\33[0m')\n",
    "print('*'*30)\n",
    "\n",
    "for a,b,c in zip(*[iter(key)] *3):\n",
    "    print('{:10} {:10} {}'.format(a,b,c))"
   ]
  },
  {
   "cell_type": "markdown",
   "metadata": {},
   "source": [
    "### How to get user uid,gid?"
   ]
  },
  {
   "cell_type": "code",
   "execution_count": null,
   "metadata": {},
   "outputs": [],
   "source": [
    "import pwd\n",
    "\n",
    "uid, gid = pwd.getpwnam('mana')[2],  pwd.getpwnam('mana')[3]\n",
    "print(uid,gid)"
   ]
  },
  {
   "cell_type": "markdown",
   "metadata": {},
   "source": [
    "### How to check user exists or not  in Linux System?"
   ]
  },
  {
   "cell_type": "code",
   "execution_count": 1,
   "metadata": {},
   "outputs": [
    {
     "name": "stdout",
     "output_type": "stream",
     "text": [
      "User 'mana' exists.\n",
      "User 'arul' not exists.\n"
     ]
    }
   ],
   "source": [
    "import pwd\n",
    "\n",
    "def user_chk(user):\n",
    "    try:\n",
    "        pwd.getpwnam(user)[0] == user\n",
    "        print('User {!r} exists.'.format(user))\n",
    "    except KeyError:\n",
    "        print('User {!r} not exists.'.format(user))\n",
    "\n",
    "user_chk('mana')\n",
    "user_chk('arul')"
   ]
  },
  {
   "cell_type": "markdown",
   "metadata": {},
   "source": [
    "### How to collect all list method documents?"
   ]
  },
  {
   "cell_type": "code",
   "execution_count": 1,
   "metadata": {},
   "outputs": [
    {
     "name": "stdout",
     "output_type": "stream",
     "text": [
      "L.append(object) -> None -- append object to end\n",
      "**************************************************\n",
      "L.clear() -> None -- remove all items from L\n",
      "**************************************************\n",
      "L.copy() -> list -- a shallow copy of L\n",
      "**************************************************\n",
      "L.count(value) -> integer -- return number of occurrences of value\n",
      "**************************************************\n",
      "L.extend(iterable) -> None -- extend list by appending elements from the iterable\n",
      "**************************************************\n",
      "L.index(value, [start, [stop]]) -> integer -- return first index of value.\n",
      "Raises ValueError if the value is not present.\n",
      "**************************************************\n",
      "L.insert(index, object) -- insert object before index\n",
      "**************************************************\n",
      "L.pop([index]) -> item -- remove and return item at index (default last).\n",
      "Raises IndexError if list is empty or index is out of range.\n",
      "**************************************************\n",
      "L.remove(value) -> None -- remove first occurrence of value.\n",
      "Raises ValueError if the value is not present.\n",
      "**************************************************\n",
      "L.reverse() -- reverse *IN PLACE*\n",
      "**************************************************\n",
      "L.sort(key=None, reverse=False) -> None -- stable sort *IN PLACE*\n",
      "**************************************************\n"
     ]
    }
   ],
   "source": [
    "for i in dir(list)[-11:]:\n",
    "    print((eval('list.'+i)).__doc__)\n",
    "    print('*'*50)\n",
    "    "
   ]
  },
  {
   "cell_type": "markdown",
   "metadata": {},
   "source": [
    "### try...except...else\n",
    "if except does not occur, else will occur."
   ]
  },
  {
   "cell_type": "code",
   "execution_count": 2,
   "metadata": {},
   "outputs": [
    {
     "name": "stdout",
     "output_type": "stream",
     "text": [
      "User 'mana' exists.\n",
      "User 'arul' not exists.\n"
     ]
    }
   ],
   "source": [
    "# This program is to check user exists or not in Linux System.\n",
    "import pwd\n",
    "\n",
    "def user_chk(user):\n",
    "    try:\n",
    "        pwd.getpwnam(user)[0] == user\n",
    "    except KeyError:\n",
    "        print('User {!r} not exists.'.format(user))\n",
    "    else:\n",
    "        print('User {!r} exists.'.format(user))\n",
    "        \n",
    "\n",
    "user_chk('mana')\n",
    "user_chk('arul')"
   ]
  },
  {
   "cell_type": "markdown",
   "metadata": {},
   "source": [
    "### How to run linux command and catch output?"
   ]
  },
  {
   "cell_type": "code",
   "execution_count": 3,
   "metadata": {},
   "outputs": [
    {
     "data": {
      "text/plain": [
       "'mana     tty7         2018-12-24 07:33 (:0)\\n'"
      ]
     },
     "execution_count": 3,
     "metadata": {},
     "output_type": "execute_result"
    }
   ],
   "source": [
    "from subprocess import run,PIPE\n",
    "\n",
    "cmd = 'who'.split()\n",
    "run(cmd, stdout = PIPE).stdout.decode()"
   ]
  },
  {
   "cell_type": "code",
   "execution_count": 5,
   "metadata": {},
   "outputs": [
    {
     "data": {
      "text/plain": [
       "'mana     tty7         2018-12-24 07:33 (:0)\\n'"
      ]
     },
     "execution_count": 5,
     "metadata": {},
     "output_type": "execute_result"
    }
   ],
   "source": [
    "from subprocess import check_output as outp\n",
    "\n",
    "cmd = 'who'.split()\n",
    "outp(cmd).decode()"
   ]
  },
  {
   "cell_type": "code",
   "execution_count": null,
   "metadata": {},
   "outputs": [],
   "source": []
  },
  {
   "cell_type": "markdown",
   "metadata": {},
   "source": [
    "### How to collect all list method documents?"
   ]
  },
  {
   "cell_type": "code",
   "execution_count": 1,
   "metadata": {},
   "outputs": [
    {
     "name": "stdout",
     "output_type": "stream",
     "text": [
      "L.append(object) -> None -- append object to end\n",
      "L.clear() -> None -- remove all items from L\n",
      "L.copy() -> list -- a shallow copy of L\n",
      "L.count(value) -> integer -- return number of occurrences of value\n",
      "L.extend(iterable) -> None -- extend list by appending elements from the iterable\n",
      "L.index(value, [start, [stop]]) -> integer -- return first index of value.\n",
      "Raises ValueError if the value is not present.\n",
      "L.insert(index, object) -- insert object before index\n",
      "L.pop([index]) -> item -- remove and return item at index (default last).\n",
      "Raises IndexError if list is empty or index is out of range.\n",
      "L.remove(value) -> None -- remove first occurrence of value.\n",
      "Raises ValueError if the value is not present.\n",
      "L.reverse() -- reverse *IN PLACE*\n",
      "L.sort(key=None, reverse=False) -> None -- stable sort *IN PLACE*\n"
     ]
    }
   ],
   "source": [
    "for i in dir(list)[-11:]:\n",
    "    print(getattr(list,i).__doc__)"
   ]
  },
  {
   "cell_type": "markdown",
   "metadata": {},
   "source": [
    "### How to find MAC address of network device?"
   ]
  },
  {
   "cell_type": "code",
   "execution_count": null,
   "metadata": {},
   "outputs": [],
   "source": [
    "from pathlib import Path\n",
    "\n",
    "d = Path('/sys/class/net')\n",
    "addr = [i for i in d.rglob('*/*') if str(i).endswith('address')]\n",
    "lst = [(j.parent.stem,j.read_text().strip()) for j in addr]\n",
    "print('{} {:>25}'.format('Device-Name', 'MAC-Address'))\n",
    "print('*'*41)\n",
    "\n",
    "for x,y in lst:\n",
    "    if not x == 'lo':\n",
    "        print('{:15} {:>25}'.format(x,y))"
   ]
  },
  {
   "cell_type": "markdown",
   "metadata": {},
   "source": [
    "### Append multiple values for one key in a dictionary "
   ]
  },
  {
   "cell_type": "code",
   "execution_count": null,
   "metadata": {},
   "outputs": [],
   "source": [
    "from collections import defaultdict\n",
    "\n",
    "data = [('wlp2s0', 'up'), ('wlp2s0', '1')]\n",
    "d = defaultdict(list)\n",
    "for x,y in data:\n",
    "    d[x].append(y)\n",
    "d"
   ]
  },
  {
   "cell_type": "code",
   "execution_count": null,
   "metadata": {},
   "outputs": [],
   "source": [
    "data = [('wlp2s0', 'up'), ('wlp2s0', '1')]\n",
    "di ={}\n",
    "for dev,state in data:  \n",
    "    di.setdefault(dev, []).append(state)\n",
    "di"
   ]
  },
  {
   "cell_type": "markdown",
   "metadata": {},
   "source": [
    "### How to check network status and cable connected or not?"
   ]
  },
  {
   "cell_type": "code",
   "execution_count": null,
   "metadata": {},
   "outputs": [],
   "source": [
    "from pathlib import Path\n",
    "import re\n",
    "\n",
    "net = {}\n",
    "comp = re.compile(r'carrier$|operstate')\n",
    "d = Path('/sys/class/net')\n",
    "addr = [i for i in d.rglob('*/*') if comp.search(str(i))]\n",
    "rlo = [j for j in addr if not re.search(r'/lo/',str(j))]\n",
    "\n",
    "for x in rlo:\n",
    "    net.setdefault(x.parent.stem,[]).append(x.read_text().strip())\n",
    "\n",
    "def con(s):\n",
    "    if s == '1':\n",
    "        return 'Network Cable connected'\n",
    "    else:\n",
    "        return 'Network Cable not connected'\n",
    "\n",
    "print('{:^2} {:^20} {:^20}'.format('Network-Name','Network-Status','Cable-Status'))\n",
    "print('*'*62)\n",
    "for a,b in net.items():\n",
    "    print('{!r:^5} {:^25} {}'.format(a,b[0].upper(),con(b[1])))"
   ]
  },
  {
   "cell_type": "markdown",
   "metadata": {},
   "source": [
    "### Append values to list for one key in a dictionary"
   ]
  },
  {
   "cell_type": "code",
   "execution_count": null,
   "metadata": {},
   "outputs": [],
   "source": [
    "data = [('wlp2s0', 'up'), ('wlp2s0', '1')]\n",
    "di ={}\n",
    "for dev,state in data:  \n",
    "    di.setdefault(dev, []).append(state)\n",
    "di"
   ]
  },
  {
   "cell_type": "markdown",
   "metadata": {},
   "source": [
    "### How to find which linux kernel default boot?"
   ]
  },
  {
   "cell_type": "code",
   "execution_count": null,
   "metadata": {},
   "outputs": [],
   "source": [
    "with open('/proc/cmdline') as f:\n",
    "    s1 = f.read().split('root')[0]\n",
    "    print(s1.split('/')[-1])"
   ]
  },
  {
   "cell_type": "markdown",
   "metadata": {},
   "source": [
    "### How to use format another way?"
   ]
  },
  {
   "cell_type": "code",
   "execution_count": null,
   "metadata": {},
   "outputs": [],
   "source": [
    "name = 'mana'\n",
    "print(f'Myname is {name}')"
   ]
  },
  {
   "cell_type": "markdown",
   "metadata": {},
   "source": [
    "### How to use class method out side of class?"
   ]
  },
  {
   "cell_type": "code",
   "execution_count": null,
   "metadata": {},
   "outputs": [],
   "source": [
    "class MyClass():\n",
    "    def f(self):\n",
    "        return 'Hi!'\n",
    "    \n",
    "x = MyClass()\n",
    "xf = x.f # Method  Object\n",
    "\n",
    "for i in range(3):\n",
    "    print(xf())"
   ]
  },
  {
   "cell_type": "markdown",
   "metadata": {},
   "source": [
    "### How to find Maximum length of a filename?"
   ]
  },
  {
   "cell_type": "code",
   "execution_count": null,
   "metadata": {},
   "outputs": [],
   "source": [
    "import os\n",
    "\n",
    "fd = os.open('/home/mana/Work/today.txt', os.O_RDWR)\n",
    "fmax = os.fpathconf(fd, 'PC_NAME_MAX')\n",
    "print(f'Maximum length of a filename : {fmax}')"
   ]
  },
  {
   "cell_type": "markdown",
   "metadata": {},
   "source": [
    "### How to check if your kernel bypass “Meltdown” and “Spectre” vulnerable?"
   ]
  },
  {
   "cell_type": "code",
   "execution_count": null,
   "metadata": {},
   "outputs": [],
   "source": [
    "from pathlib import Path\n",
    "\n",
    "p = Path('/proc/29/status')\n",
    "if 'vulnerable' in p.read_text():\n",
    "    print('Yes. Your kernel bybass vulnerable')\n",
    "else:\n",
    "    print('No. Your kernel not bybass vulnerable')"
   ]
  },
  {
   "cell_type": "markdown",
   "metadata": {},
   "source": [
    "# Merry Christmas"
   ]
  },
  {
   "cell_type": "code",
   "execution_count": null,
   "metadata": {},
   "outputs": [],
   "source": [
    "from datetime import date\n",
    "\n",
    "def xmas():\n",
    "    if str(date.today()) == '2018-12-25':\n",
    "        print('\\33[1;35;48mMerry Christmas  \\33[0m')\n",
    "       \n",
    "xmas()"
   ]
  },
  {
   "cell_type": "markdown",
   "metadata": {},
   "source": [
    "### How to check if your processor supports Virtualization?"
   ]
  },
  {
   "cell_type": "code",
   "execution_count": null,
   "metadata": {},
   "outputs": [],
   "source": [
    "from pathlib import Path\n",
    "\n",
    "p = Path('/proc/cpuinfo').read_text().splitlines()\n",
    "chk = [[j for j in i.split() if 'vmx' in j] for i in p[19:20]]\n",
    "\n",
    "if chk[0][0] == 'vmx':\n",
    "    print('Yes. Your processor supports Virtualization')\n",
    "else:\n",
    "    print('No')"
   ]
  },
  {
   "cell_type": "markdown",
   "metadata": {},
   "source": [
    "### How to collect Bios information?"
   ]
  },
  {
   "cell_type": "code",
   "execution_count": 44,
   "metadata": {},
   "outputs": [
    {
     "name": "stdout",
     "output_type": "stream",
     "text": [
      " Manufacturer: Dell Inc.\n",
      " Product Name: Inspiron 3521\n",
      " Bios Version: A14\n",
      " Bios Date: 07/31/2015\n"
     ]
    }
   ],
   "source": [
    "from pathlib import Path\n",
    "import os\n",
    "import re\n",
    "\n",
    "com = re.compile(r'bios|product')\n",
    "p = Path('/sys/class/dmi/id')\n",
    "clt = [i for i in p.iterdir() if os.access(i, os.R_OK) and com.search(str(i))]\n",
    "bios = {j.stem: j.read_text().strip() for j in clt}\n",
    "\n",
    "print(f\" Manufacturer: {bios['bios_vendor']}\")\n",
    "print(f\" Product Name: {bios['product_name']}\")\n",
    "print(f\" Bios Version: {bios['bios_version']}\")\n",
    "print(f\" Bios Date: {bios['bios_date']}\")\n"
   ]
  },
  {
   "cell_type": "code",
   "execution_count": 29,
   "metadata": {},
   "outputs": [
    {
     "name": "stdout",
     "output_type": "stream",
     "text": [
      " Manufacturer: Dell Inc.\n",
      " Product Name: Inspiron 3521\n",
      " Bios Version: A14\n",
      " Bios Date: 07/31/2015\n"
     ]
    }
   ],
   "source": [
    "from pathlib import Path\n",
    "\n",
    "files = ['bios_vendor', 'bios_date', 'bios_version', 'product_name']\n",
    "p = Path('/sys/class/dmi/id')\n",
    "bios = {i: p.joinpath(i).read_text().strip() for i in files}\n",
    "\n",
    "print(f\" Manufacturer: {bios['bios_vendor']}\")\n",
    "print(f\" Product Name: {bios['product_name']}\")\n",
    "print(f\" Bios Version: {bios['bios_version']}\")\n",
    "print(f\" Bios Date: {bios['bios_date']}\")"
   ]
  },
  {
   "cell_type": "markdown",
   "metadata": {},
   "source": [
    "### How to convert integer from octal?"
   ]
  },
  {
   "cell_type": "code",
   "execution_count": 58,
   "metadata": {},
   "outputs": [
    {
     "data": {
      "text/plain": [
       "'90'"
      ]
     },
     "execution_count": 58,
     "metadata": {},
     "output_type": "execute_result"
    }
   ],
   "source": [
    "format(0o132, 'd')"
   ]
  },
  {
   "cell_type": "code",
   "execution_count": 360,
   "metadata": {},
   "outputs": [
    {
     "data": {
      "text/plain": [
       "90"
      ]
     },
     "execution_count": 360,
     "metadata": {},
     "output_type": "execute_result"
    }
   ],
   "source": [
    "int(0o132)"
   ]
  },
  {
   "cell_type": "markdown",
   "metadata": {},
   "source": [
    "### How to convert integer from Hexadecimal?"
   ]
  },
  {
   "cell_type": "code",
   "execution_count": 61,
   "metadata": {},
   "outputs": [
    {
     "data": {
      "text/plain": [
       "'90'"
      ]
     },
     "execution_count": 61,
     "metadata": {},
     "output_type": "execute_result"
    }
   ],
   "source": [
    "format(0x5A, 'd')"
   ]
  },
  {
   "cell_type": "code",
   "execution_count": 359,
   "metadata": {},
   "outputs": [
    {
     "data": {
      "text/plain": [
       "90"
      ]
     },
     "execution_count": 359,
     "metadata": {},
     "output_type": "execute_result"
    }
   ],
   "source": [
    "int(0x5A)"
   ]
  },
  {
   "cell_type": "markdown",
   "metadata": {},
   "source": [
    "### How to convert integer from binary?"
   ]
  },
  {
   "cell_type": "code",
   "execution_count": 63,
   "metadata": {},
   "outputs": [
    {
     "data": {
      "text/plain": [
       "'90'"
      ]
     },
     "execution_count": 63,
     "metadata": {},
     "output_type": "execute_result"
    }
   ],
   "source": [
    "format(0b1011010, 'd')"
   ]
  },
  {
   "cell_type": "code",
   "execution_count": 361,
   "metadata": {},
   "outputs": [
    {
     "data": {
      "text/plain": [
       "90"
      ]
     },
     "execution_count": 361,
     "metadata": {},
     "output_type": "execute_result"
    }
   ],
   "source": [
    "int(0b1011010)"
   ]
  },
  {
   "cell_type": "markdown",
   "metadata": {},
   "source": [
    "### How to comapre two package same are not?"
   ]
  },
  {
   "cell_type": "code",
   "execution_count": 77,
   "metadata": {},
   "outputs": [
    {
     "name": "stdout",
     "output_type": "stream",
     "text": [
      "['cockpit-176-4.el7.centos.x86_64.rpm', 'createrepo_c-0.10.0-18.el7.x86_64.rpm']\n",
      "********************\n",
      "Both are not same package.\n"
     ]
    }
   ],
   "source": [
    "from pathlib import Path\n",
    "import os\n",
    "import re\n",
    "\n",
    "print(os.listdir()) # List available packages to comapre\n",
    "print('*'*20)\n",
    "\n",
    "p = Path('/home/mana/Downloads')\n",
    "\n",
    "clt = [re.split(r'\\d{1,}(?:-|\\.)\\d{1,}',str(i),1)[0] for i in p.iterdir()]\n",
    "\n",
    "if clt[0] == clt[1]:\n",
    "    comp_version()\n",
    "else:\n",
    "    print('Both are not same package.')"
   ]
  },
  {
   "cell_type": "markdown",
   "metadata": {},
   "source": [
    "### How to comapre two linux package version?"
   ]
  },
  {
   "cell_type": "code",
   "execution_count": 372,
   "metadata": {},
   "outputs": [
    {
     "name": "stdout",
     "output_type": "stream",
     "text": [
      "createrepo_c-0.10.0-18.el7.x86_64.rpm\n",
      "createrepo_c-0.9.0-1.el7.centos.x86_64.rpm\n",
      "****************************************\n",
      "Latest version: createrepo_c-0.10.0-18.el7.x86_64.rpm\n"
     ]
    }
   ],
   "source": [
    "from pathlib import Path\n",
    "import re\n",
    "\n",
    "p = Path('/home/mana/Downloads')\n",
    "for x in p.iterdir():\n",
    "    print(x.name)\n",
    "\n",
    "print('*'*40)   \n",
    "compose = re.compile(r'\\d{1,}(?:-|\\.)\\d{1,}|\\d{1,}(?:-|\\.)\\d{1,}.*\\d{1,}(?:-|\\.)\\d{1,}')\n",
    "clt = [(i.name,compose.findall(str(i))) for i in p.iterdir()]\n",
    "ver = {a:int(re.sub(r'-|\\.','',b[0])) for a,b in clt}\n",
    "latest = max(ver.items(),key = lambda x: x[1])[0]\n",
    "print(f\"Latest version: {latest}\")"
   ]
  },
  {
   "cell_type": "markdown",
   "metadata": {},
   "source": [
    "### How to list all latest version in repo directory?"
   ]
  },
  {
   "cell_type": "code",
   "execution_count": 113,
   "metadata": {},
   "outputs": [
    {
     "name": "stdout",
     "output_type": "stream",
     "text": [
      "Latest Version: createrepo_c-0.10.0-18.el7.x86_64.rpm\n",
      "Latest Version: cockpit-176-4.el7.centos.x86_64.rpm\n",
      "Latest Version: master-pdf-editor-3.7.10_i386.deb\n",
      "Latest Version: vivaldi-stable_2.2.1388.34-1_amd64.deb\n"
     ]
    }
   ],
   "source": [
    "from pathlib import Path\n",
    "import re\n",
    "\n",
    "clt_pack = {}\n",
    "p = Path('/home/mana/Downloads')\n",
    "same_package = [(i, re.split(r'\\d{1,}(?:-|\\.)\\d{1,}',str(i),1)[0]) for i in p.iterdir()]\n",
    "compose = re.compile(r'\\d{1,}(?:-|\\.)\\d{1,}|\\d{1,}(?:-|\\.)\\d{1,}.*\\d{1,}(?:-|\\.)\\d{1,}')\n",
    "\n",
    "def chk_version(*x):    \n",
    "    temp = [(y,''.join(compose.findall(str(y))).lstrip('0.')) for y in x]\n",
    "    ver = {a:int(re.sub(r'-|\\.','',b)) for a,b in temp}\n",
    "    latest = max(ver.items(),key = lambda x: x[1])[0].name\n",
    "    print('Latest Version:',latest)\n",
    "    \n",
    "for j,k in same_package:\n",
    "    clt_pack.setdefault(k,[]).append(j)\n",
    "    \n",
    "for vkey in clt_pack.keys():\n",
    "    chk_version(*clt_pack[vkey])"
   ]
  },
  {
   "cell_type": "markdown",
   "metadata": {},
   "source": [
    "### How to convert integer from bin,hex,octal?"
   ]
  },
  {
   "cell_type": "code",
   "execution_count": 373,
   "metadata": {},
   "outputs": [
    {
     "name": "stdout",
     "output_type": "stream",
     "text": [
      "From Binary: 90\n",
      "From Hex: 90\n",
      "From Oct: 90\n"
     ]
    }
   ],
   "source": [
    "print('From Binary:',int(0b1011010))\n",
    "print('From Hex:',int(0x5A))\n",
    "print('From Oct:',int(0o132))"
   ]
  },
  {
   "cell_type": "markdown",
   "metadata": {},
   "source": [
    "### How  to check today date or date in the tuple?"
   ]
  },
  {
   "cell_type": "code",
   "execution_count": 47,
   "metadata": {},
   "outputs": [
    {
     "name": "stdout",
     "output_type": "stream",
     "text": [
      "Yes\n"
     ]
    }
   ],
   "source": [
    "from datetime import date\n",
    "\n",
    "d=(\"2019-12-31\",\"2020-12-31\",\"2021-12-31\",\"2018-12-27\",\"2022-12-31\")\n",
    "h = format(date.today())\n",
    "if h in d:\n",
    "    print('Yes')\n",
    "else:\n",
    "    print('No')"
   ]
  },
  {
   "cell_type": "markdown",
   "metadata": {},
   "source": [
    "### How to print date US and Europe format?"
   ]
  },
  {
   "cell_type": "code",
   "execution_count": 55,
   "metadata": {},
   "outputs": [
    {
     "data": {
      "text/plain": [
       "'2018-12-27'"
      ]
     },
     "execution_count": 55,
     "metadata": {},
     "output_type": "execute_result"
    }
   ],
   "source": [
    "from datetime import date\n",
    "\n",
    "US_FORMAT = format(date.today())\n",
    "US_FORMAT"
   ]
  },
  {
   "cell_type": "markdown",
   "metadata": {},
   "source": [
    "### How to print date Indian format?"
   ]
  },
  {
   "cell_type": "code",
   "execution_count": 65,
   "metadata": {},
   "outputs": [
    {
     "data": {
      "text/plain": [
       "'27-12-2018'"
      ]
     },
     "execution_count": 65,
     "metadata": {},
     "output_type": "execute_result"
    }
   ],
   "source": [
    "from datetime import date\n",
    "\n",
    "INDIAN_FORMAT = '-'.join(format(date.today()).split('-')[::-1])\n",
    "INDIAN_FORMAT"
   ]
  },
  {
   "cell_type": "markdown",
   "metadata": {},
   "source": [
    "### Convert string"
   ]
  },
  {
   "cell_type": "code",
   "execution_count": 110,
   "metadata": {},
   "outputs": [
    {
     "data": {
      "text/plain": [
       "'6'"
      ]
     },
     "execution_count": 110,
     "metadata": {},
     "output_type": "execute_result"
    }
   ],
   "source": [
    "val = 6\n",
    "value = f\"{val}\"\n",
    "value"
   ]
  },
  {
   "cell_type": "markdown",
   "metadata": {},
   "source": [
    "### How to call one method by another method in class?\n",
    "Use self argument."
   ]
  },
  {
   "cell_type": "code",
   "execution_count": 121,
   "metadata": {},
   "outputs": [
    {
     "name": "stdout",
     "output_type": "stream",
     "text": [
      "My name: Manavalan\n",
      "My name: Micheal\n"
     ]
    }
   ],
   "source": [
    "class A:        \n",
    "    def add_name(self, name):\n",
    "        print('My name:', name)\n",
    "    \n",
    "    def add_another_name(self, name):\n",
    "        self.add_name(name)   # This is call another menthod by self\n",
    "\n",
    "obj = A()\n",
    "obj.add_name('Manavalan')\n",
    "obj.add_another_name('Micheal')\n",
    "        "
   ]
  },
  {
   "cell_type": "markdown",
   "metadata": {},
   "source": [
    "### How to call outside function object into class?"
   ]
  },
  {
   "cell_type": "code",
   "execution_count": 131,
   "metadata": {},
   "outputs": [
    {
     "data": {
      "text/plain": [
       "9"
      ]
     },
     "execution_count": 131,
     "metadata": {},
     "output_type": "execute_result"
    }
   ],
   "source": [
    "def add(x, y):\n",
    "    return x +y\n",
    "\n",
    "class Addition(object):\n",
    "    ad = staticmethod(add)\n",
    "\n",
    "add(5, 4)\n",
    "obj = Addition()\n",
    "obj.ad(5,4)"
   ]
  },
  {
   "cell_type": "code",
   "execution_count": 135,
   "metadata": {},
   "outputs": [
    {
     "data": {
      "text/plain": [
       "9"
      ]
     },
     "execution_count": 135,
     "metadata": {},
     "output_type": "execute_result"
    }
   ],
   "source": [
    "def add(x, y):\n",
    "    return x +y\n",
    "\n",
    "class Addition(object):\n",
    "    ad = add(5,4)\n",
    "\n",
    "obj = Addition()\n",
    "obj.ad"
   ]
  },
  {
   "cell_type": "code",
   "execution_count": 147,
   "metadata": {},
   "outputs": [
    {
     "data": {
      "text/plain": [
       "'2018-12-28'"
      ]
     },
     "execution_count": 147,
     "metadata": {},
     "output_type": "execute_result"
    }
   ],
   "source": [
    "from datetime import date\n",
    "\n",
    "d=(\"2019-12-31\",\"2020-12-31\",\"2021-12-31\",\"2018-12-27\",\"2022-12-31\")\n",
    "str(date.today())\n"
   ]
  },
  {
   "cell_type": "markdown",
   "metadata": {},
   "source": [
    "### Getter and Setter"
   ]
  },
  {
   "cell_type": "markdown",
   "metadata": {},
   "source": [
    "#### Private Attribute\n",
    "We can not directly get __x data. Because It is Private Data. We can access by method only."
   ]
  },
  {
   "cell_type": "code",
   "execution_count": 18,
   "metadata": {},
   "outputs": [
    {
     "data": {
      "text/plain": [
       "10"
      ]
     },
     "execution_count": 18,
     "metadata": {},
     "output_type": "execute_result"
    }
   ],
   "source": [
    "class P:\n",
    "    def __init__(self, x):\n",
    "        self.__x = x\n",
    "    \n",
    "    def get_x(self):   # Getter\n",
    "        return self.__x\n",
    "    \n",
    "    def set_x(self,x): # Setter\n",
    "        self.__x = x\n",
    "\n",
    "p1 = P(5)\n",
    "p1.get_x()\n",
    "p1.set_x(10)\n",
    "p1.get_x()    "
   ]
  },
  {
   "cell_type": "markdown",
   "metadata": {},
   "source": [
    "#### Public Attribute \n",
    "We can directly get __x data. Because It is Public Data."
   ]
  },
  {
   "cell_type": "code",
   "execution_count": 8,
   "metadata": {},
   "outputs": [
    {
     "data": {
      "text/plain": [
       "10"
      ]
     },
     "execution_count": 8,
     "metadata": {},
     "output_type": "execute_result"
    }
   ],
   "source": [
    "class P:\n",
    "    def __init__(self, x):\n",
    "        self.x = x\n",
    "        \n",
    "p1 = P(5)\n",
    "p2 = P(10)\n",
    "p1.x\n",
    "p2.x"
   ]
  },
  {
   "cell_type": "markdown",
   "metadata": {},
   "source": [
    "### How to set value  ?\n",
    "larger than 1000 is assigned, x should be set to 1000,  x should be set to 0, if the value is less than 0. \n"
   ]
  },
  {
   "cell_type": "code",
   "execution_count": 16,
   "metadata": {},
   "outputs": [
    {
     "data": {
      "text/plain": [
       "1000"
      ]
     },
     "execution_count": 16,
     "metadata": {},
     "output_type": "execute_result"
    }
   ],
   "source": [
    "class P:\n",
    "    def __init__(self, x):\n",
    "        self.set_x(x)\n",
    "        \n",
    "    def get_x(self):\n",
    "        return self.__x\n",
    "    \n",
    "    def set_x(self, x):\n",
    "        if x < 0:\n",
    "            self.__x = 0\n",
    "        elif x > 1000:\n",
    "            self.__x = 1000\n",
    "        else:\n",
    "            self.__x = x\n",
    "            \n",
    "p1 = P(12)\n",
    "p1.get_x()\n",
    "p2 = P(1500)\n",
    "p2.get_x()\n",
    "            "
   ]
  },
  {
   "cell_type": "markdown",
   "metadata": {},
   "source": [
    "### @property"
   ]
  },
  {
   "cell_type": "code",
   "execution_count": 56,
   "metadata": {},
   "outputs": [
    {
     "name": "stdout",
     "output_type": "stream",
     "text": [
      "5\n"
     ]
    },
    {
     "data": {
      "text/plain": [
       "7"
      ]
     },
     "execution_count": 56,
     "metadata": {},
     "output_type": "execute_result"
    }
   ],
   "source": [
    "class P:\n",
    "    def __init__(self, x):\n",
    "        self.x = x\n",
    "        \n",
    "    @property\n",
    "    def x(self):\n",
    "        return self.__x\n",
    "    \n",
    "    @x.setter\n",
    "    def x(self, x):\n",
    "        if x < 0:\n",
    "            self.__x = 0\n",
    "        elif x > 1000:\n",
    "            self.__x = 1000\n",
    "        else:\n",
    "            self.__x = x\n",
    "            \n",
    "p1 = P(5)\n",
    "print(p1.x)\n",
    "p1.x = 7  # Setter\n",
    "p1.x"
   ]
  },
  {
   "cell_type": "markdown",
   "metadata": {},
   "source": [
    "### How to change private data value using property?\n",
    "Whenever we use p1.val, it internally calls the appropriate getter, setter."
   ]
  },
  {
   "cell_type": "code",
   "execution_count": 15,
   "metadata": {},
   "outputs": [
    {
     "name": "stdout",
     "output_type": "stream",
     "text": [
      "Mana\n",
      "Xavier\n"
     ]
    }
   ],
   "source": [
    "class A:\n",
    "    def __init__(self, value):\n",
    "        self.__x = value    # This is private data\n",
    "        \n",
    "    @property\n",
    "    def val(self):\n",
    "        return self.__x\n",
    "    \n",
    "    @val.setter\n",
    "    def val(self, value):\n",
    "        self.__x = value\n",
    "        \n",
    "p1 = A('Mana')\n",
    "print(p1.val)\n",
    "p1.val = 'Xavier'\n",
    "print(p1.val)"
   ]
  },
  {
   "cell_type": "markdown",
   "metadata": {},
   "source": [
    "### property function"
   ]
  },
  {
   "cell_type": "markdown",
   "metadata": {},
   "source": [
    "#### What happend use x.value?\n",
    "Whenever we use x.value, it internally calls the appropriate getter, setter and deleter."
   ]
  },
  {
   "cell_type": "code",
   "execution_count": 5,
   "metadata": {},
   "outputs": [
    {
     "name": "stdout",
     "output_type": "stream",
     "text": [
      "Setting value to 15\n"
     ]
    }
   ],
   "source": [
    "class Alphabet: \n",
    "    def __init__(self, value): \n",
    "        self._value = value \n",
    "          \n",
    "    # getting the values \n",
    "    def getValue(self): \n",
    "        print('Getting value') \n",
    "        return self._value \n",
    "          \n",
    "    # setting the values \n",
    "    def setValue(self, value): \n",
    "        print('Setting value to ' + value) \n",
    "        self._value = value \n",
    "          \n",
    "    # deleting the values \n",
    "    def delValue(self): \n",
    "        print('Deleting value') \n",
    "        del self._value \n",
    "    value = property(getValue, setValue, delValue, ) \n",
    "    \n",
    "x = Alphabet('10')\n",
    "x.value = '15'\n"
   ]
  },
  {
   "cell_type": "markdown",
   "metadata": {},
   "source": [
    "### Nested Array"
   ]
  },
  {
   "cell_type": "markdown",
   "metadata": {},
   "source": [
    "#### How to retrieve nested item?"
   ]
  },
  {
   "cell_type": "code",
   "execution_count": 67,
   "metadata": {},
   "outputs": [
    {
     "name": "stdout",
     "output_type": "stream",
     "text": [
      " Retrieve whole array:\n",
      " ['a', 'b', 'c', 'd']\n",
      " Retrieve 1st item of Nested array:\n",
      " a\n",
      " Retrieve 2nd item of Nested array:\n",
      " b\n"
     ]
    }
   ],
   "source": [
    "array = [['a', \n",
    "          'b', \n",
    "          'c', \n",
    "          'd']]\n",
    "\n",
    "print(' Retrieve whole array:\\n', array[0])\n",
    "print(' Retrieve 1st item of Nested array:\\n', array[0][0])\n",
    "print(' Retrieve 2nd item of Nested array:\\n', array[0][1])\n",
    "\n"
   ]
  },
  {
   "cell_type": "markdown",
   "metadata": {},
   "source": [
    "### How to unpack list values to variable?"
   ]
  },
  {
   "cell_type": "code",
   "execution_count": 74,
   "metadata": {},
   "outputs": [
    {
     "name": "stdout",
     "output_type": "stream",
     "text": [
      "34\n",
      "0\n"
     ]
    }
   ],
   "source": [
    "b,c = [34, 0]\n",
    "print(b)\n",
    "print(c)"
   ]
  },
  {
   "cell_type": "code",
   "execution_count": 71,
   "metadata": {},
   "outputs": [
    {
     "data": {
      "text/plain": [
       "(34, 0)"
      ]
     },
     "execution_count": 71,
     "metadata": {},
     "output_type": "execute_result"
    }
   ],
   "source": [
    "b,c = [34, 0]\n",
    "b, c"
   ]
  },
  {
   "cell_type": "code",
   "execution_count": 72,
   "metadata": {},
   "outputs": [
    {
     "data": {
      "text/plain": [
       "'b, c'"
      ]
     },
     "execution_count": 72,
     "metadata": {},
     "output_type": "execute_result"
    }
   ],
   "source": [
    "b,c = [34, 0]\n",
    "f\"b, c\""
   ]
  },
  {
   "cell_type": "markdown",
   "metadata": {},
   "source": [
    "### How to get server uptime using python?"
   ]
  },
  {
   "cell_type": "code",
   "execution_count": 122,
   "metadata": {},
   "outputs": [
    {
     "name": "stdout",
     "output_type": "stream",
     "text": [
      "1 day, 13:07:15\n"
     ]
    }
   ],
   "source": [
    "from datetime import timedelta as td\n",
    "from pathlib import Path\n",
    "\n",
    "up = Path('/proc/uptime').read_text().split()[0]\n",
    "print(str(td(seconds = float(up))).rpartition('.')[0])\n"
   ]
  },
  {
   "cell_type": "markdown",
   "metadata": {},
   "source": [
    "### How to check that have object to convert string?"
   ]
  },
  {
   "cell_type": "code",
   "execution_count": 18,
   "metadata": {},
   "outputs": [
    {
     "data": {
      "text/plain": [
       "True"
      ]
     },
     "execution_count": 18,
     "metadata": {},
     "output_type": "execute_result"
    }
   ],
   "source": [
    "from datetime import date\n",
    "\n",
    "'__str__' in dir(date)"
   ]
  },
  {
   "cell_type": "markdown",
   "metadata": {},
   "source": [
    "### How to get size of file?"
   ]
  },
  {
   "cell_type": "code",
   "execution_count": 43,
   "metadata": {},
   "outputs": [
    {
     "name": "stdout",
     "output_type": "stream",
     "text": [
      "Python Notes.pdf --> 5.3 MB\n",
      "Python Notes.pdf --> 5.3 MB\n",
      "Python Notes.pdf --> 5.3 MB\n"
     ]
    }
   ],
   "source": [
    "import os\n",
    "from pathlib import Path\n",
    "\n",
    "file = Path('/home/mana/Work/Python Notes.pdf')\n",
    "# Method: 1\n",
    "print('{} --> {:.1f} MB'.format(file.name,os.path.getsize(file)/1024/1024))\n",
    "\n",
    "# Method: 2\n",
    "print('{} --> {:.1f} MB'.format(file.name, os.stat(file).st_size/1024/1024))\n",
    "\n",
    "# Method: 3\n",
    "print('{} --> {:.1f} MB'.format(file.name, file.stat().st_size/1024/1024))\n"
   ]
  },
  {
   "cell_type": "markdown",
   "metadata": {},
   "source": [
    "### How to view data attribute of instance?\n",
    "Instance data attribute mapped in dictionary format."
   ]
  },
  {
   "cell_type": "code",
   "execution_count": 48,
   "metadata": {},
   "outputs": [
    {
     "data": {
      "text/plain": [
       "{'name': 'Manavalan', 'city': 'Chennai'}"
      ]
     },
     "execution_count": 48,
     "metadata": {},
     "output_type": "execute_result"
    }
   ],
   "source": [
    "class MyName:\n",
    "    def __init__(self, name, city):\n",
    "        self.name = name\n",
    "        self.city = city\n",
    "        \n",
    "nam = MyName('Manavalan', 'Chennai')\n",
    "nam.__dict__"
   ]
  },
  {
   "cell_type": "markdown",
   "metadata": {},
   "source": [
    "### How to filled data into empty class?"
   ]
  },
  {
   "cell_type": "code",
   "execution_count": 54,
   "metadata": {},
   "outputs": [
    {
     "name": "stdout",
     "output_type": "stream",
     "text": [
      "Manavalan\n",
      "100\n",
      "Computers\n"
     ]
    },
    {
     "data": {
      "text/plain": [
       "{'name': 'Manavalan', 'no': '100', 'major': 'Computers'}"
      ]
     },
     "execution_count": 54,
     "metadata": {},
     "output_type": "execute_result"
    }
   ],
   "source": [
    "class Stuendt:\n",
    "    pass\n",
    "\n",
    "stu1 = Stuendt()\n",
    "stu1.name = 'Manavalan'\n",
    "stu1.no = '100'\n",
    "stu1.major = 'Computers'\n",
    "\n",
    "print(stu1.name)\n",
    "print(stu1.no)\n",
    "print(stu1.major)\n",
    "\n",
    "stu1.__dict__"
   ]
  },
  {
   "cell_type": "markdown",
   "metadata": {},
   "source": [
    "## How to use function inside class?"
   ]
  },
  {
   "cell_type": "markdown",
   "metadata": {},
   "source": [
    "### @staticmethod\n",
    "@staticmethod is similar to a python function but define in a class."
   ]
  },
  {
   "cell_type": "markdown",
   "metadata": {},
   "source": [
    "#### Call function using object"
   ]
  },
  {
   "cell_type": "code",
   "execution_count": 3,
   "metadata": {},
   "outputs": [
    {
     "data": {
      "text/plain": [
       "'Chennai'"
      ]
     },
     "execution_count": 3,
     "metadata": {},
     "output_type": "execute_result"
    }
   ],
   "source": [
    "class MyCity:\n",
    "    @staticmethod\n",
    "    def print_city(city):\n",
    "        return city\n",
    "    \n",
    "c = MyCity()   \n",
    "c.print_city('Chennai')"
   ]
  },
  {
   "cell_type": "markdown",
   "metadata": {},
   "source": [
    "#### Call function using Class name"
   ]
  },
  {
   "cell_type": "code",
   "execution_count": 2,
   "metadata": {},
   "outputs": [
    {
     "data": {
      "text/plain": [
       "'Chennai'"
      ]
     },
     "execution_count": 2,
     "metadata": {},
     "output_type": "execute_result"
    }
   ],
   "source": [
    "class MyCity:\n",
    "    @staticmethod\n",
    "    def print_city(city):\n",
    "        return city\n",
    "    \n",
    "MyCity.print_city('Chennai')"
   ]
  },
  {
   "cell_type": "markdown",
   "metadata": {},
   "source": [
    "## @classmethod"
   ]
  },
  {
   "cell_type": "markdown",
   "metadata": {},
   "source": [
    "### How to use function as constructor with class?"
   ]
  },
  {
   "cell_type": "code",
   "execution_count": 15,
   "metadata": {},
   "outputs": [
    {
     "name": "stdout",
     "output_type": "stream",
     "text": [
      "Manavalan\n",
      "22\n"
     ]
    }
   ],
   "source": [
    "from datetime import date \n",
    "  \n",
    "class Person: \n",
    "    def __init__(self, name, age): \n",
    "        self.name = name \n",
    "        self.age = age \n",
    "      \n",
    "    @classmethod\n",
    "    def myage(cls, name, year):            # Function Constructor \n",
    "        return cls(name, date.today().year - year) \n",
    "\n",
    "person1 = Person.myage('Manavalan', 1996)\n",
    "print(person1.name)\n",
    "print(person1.age)"
   ]
  },
  {
   "cell_type": "markdown",
   "metadata": {},
   "source": [
    "### How to calculate your age?"
   ]
  },
  {
   "cell_type": "code",
   "execution_count": 19,
   "metadata": {},
   "outputs": [
    {
     "data": {
      "text/plain": [
       "33"
      ]
     },
     "execution_count": 19,
     "metadata": {},
     "output_type": "execute_result"
    }
   ],
   "source": [
    "from datetime import date \n",
    "\n",
    "def age(year):\n",
    "    return date.today().year - year\n",
    "    \n",
    "age(1985)"
   ]
  },
  {
   "cell_type": "markdown",
   "metadata": {},
   "source": [
    "### subclass"
   ]
  },
  {
   "cell_type": "code",
   "execution_count": 29,
   "metadata": {},
   "outputs": [
    {
     "data": {
      "text/plain": [
       "True"
      ]
     },
     "execution_count": 29,
     "metadata": {},
     "output_type": "execute_result"
    }
   ],
   "source": [
    "issubclass(bool, int)"
   ]
  },
  {
   "cell_type": "code",
   "execution_count": 38,
   "metadata": {},
   "outputs": [
    {
     "name": "stdout",
     "output_type": "stream",
     "text": [
      "CPU times: user 6 µs, sys: 0 ns, total: 6 µs\n",
      "Wall time: 10.5 µs\n"
     ]
    },
    {
     "data": {
      "text/plain": [
       "False"
      ]
     },
     "execution_count": 38,
     "metadata": {},
     "output_type": "execute_result"
    }
   ],
   "source": [
    "issubclass(float, int)"
   ]
  },
  {
   "cell_type": "markdown",
   "metadata": {},
   "source": [
    "### %%time"
   ]
  },
  {
   "cell_type": "code",
   "execution_count": 37,
   "metadata": {},
   "outputs": [
    {
     "name": "stdout",
     "output_type": "stream",
     "text": [
      "CPU times: user 1.06 ms, sys: 0 ns, total: 1.06 ms\n",
      "Wall time: 101 ms\n"
     ]
    }
   ],
   "source": [
    "%%time\n",
    "import time\n",
    "for _ in range(10):\n",
    "    time.sleep(0.01)# sleep for 0.01 seconds"
   ]
  },
  {
   "cell_type": "code",
   "execution_count": 52,
   "metadata": {},
   "outputs": [
    {
     "name": "stdout",
     "output_type": "stream",
     "text": [
      "0 1 2 3 4 CPU times: user 2.46 ms, sys: 0 ns, total: 2.46 ms\n",
      "Wall time: 2.52 ms\n"
     ]
    }
   ],
   "source": [
    "%%time\n",
    "\n",
    "for i in range(5):\n",
    "    print(i, end = ' ')"
   ]
  },
  {
   "cell_type": "code",
   "execution_count": null,
   "metadata": {},
   "outputs": [],
   "source": []
  },
  {
   "cell_type": "code",
   "execution_count": 53,
   "metadata": {},
   "outputs": [
    {
     "name": "stdout",
     "output_type": "stream",
     "text": [
      "Ansible-Dec.ipynb   C-Nov.ipynb\t\t   Python-Dec-11-20.ipynb\r\n",
      "ansible_kernel.log  file1.txt\t\t   Python-Dec-21-31.ipynb\r\n",
      "Bash-Dec.ipynb\t    Python-Dec-1-10.ipynb\r\n"
     ]
    }
   ],
   "source": [
    "!ls"
   ]
  },
  {
   "cell_type": "code",
   "execution_count": null,
   "metadata": {},
   "outputs": [],
   "source": []
  }
 ],
 "metadata": {
  "kernelspec": {
   "display_name": "Python 3",
   "language": "python",
   "name": "python3"
  },
  "language_info": {
   "codemirror_mode": {
    "name": "ipython",
    "version": 3
   },
   "file_extension": ".py",
   "mimetype": "text/x-python",
   "name": "python",
   "nbconvert_exporter": "python",
   "pygments_lexer": "ipython3",
   "version": "3.6.7"
  }
 },
 "nbformat": 4,
 "nbformat_minor": 2
}
