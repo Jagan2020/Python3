{
 "cells": [
  {
   "cell_type": "code",
   "execution_count": null,
   "metadata": {},
   "outputs": [],
   "source": []
  },
  {
   "cell_type": "markdown",
   "metadata": {},
   "source": [
    "### center"
   ]
  },
  {
   "cell_type": "code",
   "execution_count": 5,
   "metadata": {},
   "outputs": [
    {
     "data": {
      "text/plain": [
       "'     Manavalan      '"
      ]
     },
     "execution_count": 5,
     "metadata": {},
     "output_type": "execute_result"
    }
   ],
   "source": [
    "st = 'Manavalan'\n",
    "st.center(20)"
   ]
  },
  {
   "cell_type": "markdown",
   "metadata": {},
   "source": [
    "### ljust"
   ]
  },
  {
   "cell_type": "code",
   "execution_count": 7,
   "metadata": {},
   "outputs": [
    {
     "data": {
      "text/plain": [
       "'Manavalan           '"
      ]
     },
     "execution_count": 7,
     "metadata": {},
     "output_type": "execute_result"
    }
   ],
   "source": [
    "st = 'Manavalan'\n",
    "st.ljust(20)"
   ]
  },
  {
   "cell_type": "markdown",
   "metadata": {},
   "source": [
    "### rjust"
   ]
  },
  {
   "cell_type": "code",
   "execution_count": 3,
   "metadata": {},
   "outputs": [
    {
     "data": {
      "text/plain": [
       "'           Manavalan'"
      ]
     },
     "execution_count": 3,
     "metadata": {},
     "output_type": "execute_result"
    }
   ],
   "source": [
    "st = 'Manavalan'\n",
    "st.rjust(20)"
   ]
  },
  {
   "cell_type": "markdown",
   "metadata": {},
   "source": [
    "### How to write filesystem alert script in python?"
   ]
  },
  {
   "cell_type": "code",
   "execution_count": 32,
   "metadata": {},
   "outputs": [
    {
     "name": "stdout",
     "output_type": "stream",
     "text": [
      "Filesystem            Used     \n",
      "**************************\n",
      "/                      66%\n",
      "DATA                   53%\n",
      "MULTIMEDIA             59%\n"
     ]
    }
   ],
   "source": [
    "from subprocess import check_output as cmd\n",
    "from pathlib import Path\n",
    "\n",
    "output = [i for i in cmd(['df', '-h']).decode().splitlines()]\n",
    "dev = [i.split()[-2:] for i in output if i.startswith('/dev/sd')]\n",
    "result = [i for i in dev  if int(i[0].strip('%')) > 50] \n",
    "final = [(Path(k).parts[-1],j) for j,k in result]\n",
    "print('{:15}  {:^14}'.format('Filesystem','Used'))\n",
    "print('*'*26)\n",
    "for x,y in final:\n",
    "  print('{:21}  {}'.format(x,y))"
   ]
  },
  {
   "cell_type": "markdown",
   "metadata": {},
   "source": [
    "### How to sorted strings based on string length?"
   ]
  },
  {
   "cell_type": "code",
   "execution_count": 147,
   "metadata": {},
   "outputs": [
    {
     "data": {
      "text/plain": [
       "['Delhi', 'Kovai', 'Mumbai', 'Chennai', 'Banglore']"
      ]
     },
     "execution_count": 147,
     "metadata": {},
     "output_type": "execute_result"
    }
   ],
   "source": [
    "city = ['Mumbai', 'Delhi', 'Chennai', 'Kovai', 'Banglore']\n",
    "\n",
    "sorted(city, key=lambda x: len(x))"
   ]
  },
  {
   "cell_type": "markdown",
   "metadata": {},
   "source": [
    "### How to print list items single line?"
   ]
  },
  {
   "cell_type": "code",
   "execution_count": 145,
   "metadata": {},
   "outputs": [
    {
     "name": "stdout",
     "output_type": "stream",
     "text": [
      "This is  Mumbai Delhi Chennai Banglore\n"
     ]
    }
   ],
   "source": [
    "city = ['Mumbai', 'Delhi', 'Chennai', 'Banglore']\n",
    "\n",
    "print('This is ',*(city))"
   ]
  },
  {
   "cell_type": "markdown",
   "metadata": {},
   "source": [
    "### How to list above 50%?"
   ]
  },
  {
   "cell_type": "code",
   "execution_count": 71,
   "metadata": {},
   "outputs": [
    {
     "data": {
      "text/plain": [
       "['89%', '64%', '65%', '52%']"
      ]
     },
     "execution_count": 71,
     "metadata": {},
     "output_type": "execute_result"
    }
   ],
   "source": [
    "lst = ['89%', '34%', '12%', '64%', '24%', '65%', '52%']\n",
    "\n",
    "[x for x in lst if int(x.strip('%')) >= 50]"
   ]
  },
  {
   "cell_type": "markdown",
   "metadata": {},
   "source": [
    "### How to run linux command and catch the output in python?"
   ]
  },
  {
   "cell_type": "code",
   "execution_count": null,
   "metadata": {},
   "outputs": [],
   "source": [
    "from subprocess import check_output as cmd\n",
    "command = 'ps -A --sort pmem -o pid,comm,pmem'\n",
    "out = cmd(command.split()).decode().splitlines()\n",
    "out"
   ]
  },
  {
   "cell_type": "markdown",
   "metadata": {},
   "source": [
    "### Top 10 memory usage process"
   ]
  },
  {
   "cell_type": "code",
   "execution_count": 1,
   "metadata": {},
   "outputs": [
    {
     "name": "stdout",
     "output_type": "stream",
     "text": [
      "Top 10 Memory Consumer:\n",
      "******************************\n",
      "PID     COMMAND            USAGE%\n",
      "---------------------------------\n",
      "2177    vivaldi-bin        2.5\n",
      "3319    vivaldi-bin        2.6\n",
      "2135    vivaldi-bin        3.0\n",
      "11423   mpv                3.1\n",
      "3224    vivaldi-bin        3.3\n",
      "26970   mpv                3.4\n",
      "2026    vivaldi-bin        3.5\n",
      "2093    vivaldi-bin        5.4\n",
      "3161    vivaldi-bin        5.9\n",
      "1938    vivaldi-bin        6.8\n",
      "2095    vivaldi-bin        10.0\n"
     ]
    }
   ],
   "source": [
    "from subprocess import check_output as cmd\n",
    "command = 'ps -A --sort pmem -o pid,comm,pmem'\n",
    "out = cmd(command.split()).decode().splitlines()\n",
    "mem_usage = [i.split() for i in out[2:]][-11:]\n",
    "print('Top 10 Memory Consumer:')\n",
    "print('*'*30)\n",
    "print('{:7} {:18} {}'.format('PID','COMMAND','USAGE%'))\n",
    "print('-'*33)\n",
    "for j in mem_usage:\n",
    "    print('{:7} {:18} {}'.format(*j))"
   ]
  },
  {
   "cell_type": "markdown",
   "metadata": {},
   "source": [
    "### When linux server booted?"
   ]
  },
  {
   "cell_type": "code",
   "execution_count": null,
   "metadata": {},
   "outputs": [],
   "source": [
    "from subprocess import check_output as cmd\n",
    "\n",
    "out = cmd(['who']).decode().split()[-3:-1]\n",
    "print('Server Booted at:',*out)"
   ]
  },
  {
   "cell_type": "markdown",
   "metadata": {},
   "source": [
    "### Uptime"
   ]
  },
  {
   "cell_type": "code",
   "execution_count": null,
   "metadata": {},
   "outputs": [],
   "source": [
    "from subprocess import check_output as cmd\n",
    "\n",
    "out = cmd(['uptime']).decode().strip(',').split()\n",
    "out[2].replace(',','')"
   ]
  },
  {
   "cell_type": "markdown",
   "metadata": {},
   "source": [
    "### How to compare value between range?"
   ]
  },
  {
   "cell_type": "code",
   "execution_count": null,
   "metadata": {},
   "outputs": [],
   "source": [
    "x = 18\n",
    "5 < x > 10"
   ]
  },
  {
   "cell_type": "code",
   "execution_count": null,
   "metadata": {},
   "outputs": [],
   "source": [
    "x = 'C'\n",
    "'B' < x < 'F'"
   ]
  },
  {
   "cell_type": "code",
   "execution_count": null,
   "metadata": {},
   "outputs": [],
   "source": [
    "x = 18\n",
    "5 < x and x > 10"
   ]
  },
  {
   "cell_type": "markdown",
   "metadata": {},
   "source": [
    "### How to evaluate valid identifier?"
   ]
  },
  {
   "cell_type": "code",
   "execution_count": null,
   "metadata": {},
   "outputs": [],
   "source": [
    "print('1num'.isidentifier())\n",
    "print('num'.isidentifier())\n",
    "print('@num'.isidentifier())\n",
    "print('my_num'.isidentifier())\n",
    "print('my-num'.isidentifier())\n",
    "print('my_1_um'.isidentifier())\n",
    "print('MyNum'.isidentifier())   # Not recommend by PEP8 to be use in var."
   ]
  },
  {
   "cell_type": "code",
   "execution_count": null,
   "metadata": {},
   "outputs": [],
   "source": []
  },
  {
   "cell_type": "markdown",
   "metadata": {},
   "source": [
    "### How to print string reversely?"
   ]
  },
  {
   "cell_type": "markdown",
   "metadata": {},
   "source": [
    "#### Using slice and stride"
   ]
  },
  {
   "cell_type": "code",
   "execution_count": null,
   "metadata": {},
   "outputs": [],
   "source": [
    "st = 'Python'\n",
    "st[::-1]"
   ]
  },
  {
   "cell_type": "markdown",
   "metadata": {},
   "source": [
    "#### Using range"
   ]
  },
  {
   "cell_type": "code",
   "execution_count": null,
   "metadata": {},
   "outputs": [],
   "source": [
    "st = \"python\"\n",
    "''.join([ st[i] for i in range(len(st)-1,-1,-1)])"
   ]
  },
  {
   "cell_type": "markdown",
   "metadata": {},
   "source": [
    "#### Using while loop"
   ]
  },
  {
   "cell_type": "code",
   "execution_count": null,
   "metadata": {},
   "outputs": [],
   "source": [
    "st = 'Python'\n",
    "i = len(st)-1 \n",
    "while i >= 0:\n",
    "    print(st[i], end = '')\n",
    "    i -= 1  "
   ]
  },
  {
   "cell_type": "markdown",
   "metadata": {},
   "source": [
    "### How to capitalize each word in string? "
   ]
  },
  {
   "cell_type": "markdown",
   "metadata": {},
   "source": [
    "#### Using str title method"
   ]
  },
  {
   "cell_type": "code",
   "execution_count": null,
   "metadata": {},
   "outputs": [],
   "source": [
    "st = 'world is beautiful.'\n",
    "st.title()"
   ]
  },
  {
   "cell_type": "markdown",
   "metadata": {},
   "source": [
    "#### Using string capwords method"
   ]
  },
  {
   "cell_type": "code",
   "execution_count": null,
   "metadata": {},
   "outputs": [],
   "source": [
    "from string import capwords\n",
    "\n",
    "st = 'world is beautiful.'\n",
    "capwords(st)"
   ]
  },
  {
   "cell_type": "markdown",
   "metadata": {},
   "source": [
    "#### Using capitalize method"
   ]
  },
  {
   "cell_type": "code",
   "execution_count": null,
   "metadata": {},
   "outputs": [],
   "source": [
    "st = 'world is beautiful.'\n",
    "' '.join([ i.capitalize() for i in st.split()])"
   ]
  },
  {
   "cell_type": "markdown",
   "metadata": {},
   "source": [
    "### How to find  biggest file in a directory?"
   ]
  },
  {
   "cell_type": "markdown",
   "metadata": {},
   "source": [
    "#### Using tuple"
   ]
  },
  {
   "cell_type": "code",
   "execution_count": null,
   "metadata": {},
   "outputs": [],
   "source": [
    "from os.path import basename,getsize\n",
    "from glob import glob\n",
    "\n",
    "d = '/home/mana/Must Study/Python/*'\n",
    "files = [(basename(i), getsize(i)) for i in glob(d)]\n",
    "final = sorted(files, key = lambda x: x[1])[-1]\n",
    "print('{} - {:.0f} MB'.format(final[0],final[1]/1048576))"
   ]
  },
  {
   "cell_type": "markdown",
   "metadata": {},
   "source": [
    "#### Using dictionary"
   ]
  },
  {
   "cell_type": "code",
   "execution_count": null,
   "metadata": {},
   "outputs": [],
   "source": [
    "from os.path import basename,getsize\n",
    "from glob import glob\n",
    "\n",
    "d = '/home/mana/Must Study/Python/*'\n",
    "files = {basename(i): getsize(i) for i in glob(d)}\n",
    "final = sorted(files.items(), key = lambda x: x[1])[-1]\n",
    "print('{} - {:.0f} MB'.format(final[0],final[1]/1048576))"
   ]
  },
  {
   "cell_type": "markdown",
   "metadata": {},
   "source": [
    "### How to remove symbol from string?"
   ]
  },
  {
   "cell_type": "code",
   "execution_count": null,
   "metadata": {},
   "outputs": [],
   "source": [
    "from string import printable as ple\n",
    "\n",
    "st = 'mana@yu$rgt'\n",
    "''.join([i for i in st if i not in ple[-38:-6]])"
   ]
  },
  {
   "cell_type": "code",
   "execution_count": null,
   "metadata": {},
   "outputs": [],
   "source": [
    "import re\n",
    "\n",
    "st = 'mana@yu$rgt'\n",
    "''.join(re.findall(r'\\w', st))"
   ]
  },
  {
   "cell_type": "markdown",
   "metadata": {},
   "source": [
    "### How to split the string?"
   ]
  },
  {
   "cell_type": "code",
   "execution_count": null,
   "metadata": {},
   "outputs": [],
   "source": [
    "st = 'This is a Python'\n",
    "st.split()"
   ]
  },
  {
   "cell_type": "markdown",
   "metadata": {},
   "source": [
    "### Hoe to split each 2 word in string?"
   ]
  },
  {
   "cell_type": "code",
   "execution_count": null,
   "metadata": {},
   "outputs": [],
   "source": [
    "import re\n",
    "\n",
    "st = 'This is a Python'\n",
    "re.findall(r'\\w+ \\w+',st)  "
   ]
  },
  {
   "cell_type": "code",
   "execution_count": null,
   "metadata": {},
   "outputs": [],
   "source": [
    "st = 'This is a Python'\n",
    "[' '.join(st.split()[i:2+i]) for i in range(0,len(st.split()),2)]"
   ]
  },
  {
   "cell_type": "markdown",
   "metadata": {},
   "source": [
    "### Nested list comprehension"
   ]
  },
  {
   "cell_type": "code",
   "execution_count": null,
   "metadata": {},
   "outputs": [],
   "source": [
    "matrix = [[1, 2, 3, 4],[5, 6, 7, 8],[9, 10, 11, 12]]\n",
    "\n",
    "[[row[i] for row in matrix] for i in range(len(m)+1)]"
   ]
  },
  {
   "cell_type": "markdown",
   "metadata": {},
   "source": [
    "### What is Attribute in class?\n",
    "Variable and Method of class technically called Attribute."
   ]
  },
  {
   "cell_type": "code",
   "execution_count": null,
   "metadata": {},
   "outputs": [],
   "source": [
    "class Parent:\n",
    "    name = 'Siva'  # Variable \n",
    "    \n",
    "    def get_name(self):  # Method\n",
    "        return name\n",
    "    \n",
    "obj = Parent()\n",
    "dir(obj)[-2:]  # This statement list Attributes."
   ]
  },
  {
   "cell_type": "markdown",
   "metadata": {},
   "source": [
    "### How to raise error manually?\n",
    "Here, It accept integer number only otherwise it raise error."
   ]
  },
  {
   "cell_type": "code",
   "execution_count": null,
   "metadata": {},
   "outputs": [],
   "source": [
    "def enter_num(num):\n",
    "    if isinstance(num, int):\n",
    "        print(num)\n",
    "    else:\n",
    "        raise ValueError('Enter integer number.')\n",
    "       \n",
    "enter_num(10)   # It accpects.\n",
    "enter_num(10.5) # This is raise error.Because this is float."
   ]
  },
  {
   "cell_type": "markdown",
   "metadata": {},
   "source": [
    "### How to print  string with quotes ?"
   ]
  },
  {
   "cell_type": "code",
   "execution_count": null,
   "metadata": {},
   "outputs": [],
   "source": [
    "print('I have {!r} Books'.format('3'))  # r means raw string."
   ]
  },
  {
   "cell_type": "markdown",
   "metadata": {},
   "source": [
    "### Which built-in-method attribute used below statements?\n",
    "Below statements used to __gt__ and __le__  built-in-method attribute."
   ]
  },
  {
   "cell_type": "code",
   "execution_count": null,
   "metadata": {},
   "outputs": [],
   "source": [
    "[5, 6, 4] > [5, 6, 1]  # This is used to __gt__ built-in-method atribute."
   ]
  },
  {
   "cell_type": "code",
   "execution_count": null,
   "metadata": {},
   "outputs": [],
   "source": [
    "[5, 6, 8] < [5, 6, 7]   # This is used to __le__ built-in-method atribute."
   ]
  },
  {
   "cell_type": "code",
   "execution_count": null,
   "metadata": {},
   "outputs": [],
   "source": [
    "[i for i in dir([5, 6, 8]) if i.startswith('__gt') or i.endswith('le__')]"
   ]
  },
  {
   "cell_type": "markdown",
   "metadata": {},
   "source": [
    "### How to check what are built-in attribute available in one object?"
   ]
  },
  {
   "cell_type": "code",
   "execution_count": null,
   "metadata": {},
   "outputs": [],
   "source": [
    "[ i for i in dir(list) if i.endswith('__')]"
   ]
  },
  {
   "cell_type": "markdown",
   "metadata": {},
   "source": [
    "### How to check len built-in-method available in int?"
   ]
  },
  {
   "cell_type": "code",
   "execution_count": null,
   "metadata": {},
   "outputs": [],
   "source": [
    "'__len__' in dir(int)"
   ]
  },
  {
   "cell_type": "markdown",
   "metadata": {},
   "source": [
    "### How to check len built-in-method available in str?"
   ]
  },
  {
   "cell_type": "code",
   "execution_count": null,
   "metadata": {},
   "outputs": [],
   "source": [
    "'__len__' in dir(str)"
   ]
  },
  {
   "cell_type": "markdown",
   "metadata": {},
   "source": [
    "### How to check len built-in-method available in list?"
   ]
  },
  {
   "cell_type": "code",
   "execution_count": null,
   "metadata": {},
   "outputs": [],
   "source": [
    "'__len__' in dir(list)"
   ]
  },
  {
   "cell_type": "markdown",
   "metadata": {},
   "source": [
    "###  How to check what are attributes available in one object?\n",
    "Note: Here I taken file object."
   ]
  },
  {
   "cell_type": "code",
   "execution_count": null,
   "metadata": {},
   "outputs": [],
   "source": [
    "opn = open('file1.txt')\n",
    "\n",
    "for i,j,k,l in zip(*[iter(dir(opn))] *4):\n",
    "    print('{:20} {:20} {:20} {:20}'.format(i,j,k,l))"
   ]
  },
  {
   "cell_type": "markdown",
   "metadata": {},
   "source": [
    "### How to use Carriage Return?"
   ]
  },
  {
   "cell_type": "code",
   "execution_count": null,
   "metadata": {},
   "outputs": [],
   "source": [
    "from time import sleep\n",
    "\n",
    "for i in range(10):\n",
    "    print(i, end = '\\r')\n",
    "    sleep(1)"
   ]
  },
  {
   "cell_type": "markdown",
   "metadata": {},
   "source": [
    "### How to emulate built-in-type method?"
   ]
  },
  {
   "cell_type": "code",
   "execution_count": null,
   "metadata": {},
   "outputs": [],
   "source": [
    "class MyLen:\n",
    "    def __len__(self):\n",
    "        return 10\n",
    "    \n",
    "obj = MyLen()\n",
    "len(obj)"
   ]
  },
  {
   "cell_type": "markdown",
   "metadata": {},
   "source": [
    "### How to find installed Package Version in Ubuntu?"
   ]
  },
  {
   "cell_type": "code",
   "execution_count": null,
   "metadata": {},
   "outputs": [],
   "source": [
    "from subprocess import check_output as cmd\n",
    "import re\n",
    "\n",
    "def package_version(pkg_name):\n",
    "    out_list = [i for i in cmd(['dpkg', '-s', pkg_name]).decode().splitlines()]\n",
    "    ver = [j for j in out_list if j.startswith('Version:')]\n",
    "    print(pkg_name.title(),'Version:',re.search(r'(\\d|.\\d){1,}',ver[0]).group())\n",
    "\n",
    "package_version('firefox')"
   ]
  },
  {
   "cell_type": "markdown",
   "metadata": {},
   "source": [
    "### How to modify private data using Property Decorator?"
   ]
  },
  {
   "cell_type": "code",
   "execution_count": null,
   "metadata": {},
   "outputs": [],
   "source": [
    "class MyClass:\n",
    "    def __init__(self):\n",
    "        self.__data = 5\n",
    "        \n",
    "    @property\n",
    "    def get_data(self):\n",
    "        return self.__data\n",
    "    \n",
    "    @get_data.setter\n",
    "    def set_data(self, x): # Setter method\n",
    "        self.__data = x\n",
    "        \n",
    "obj = MyClass()\n",
    "print(obj.get_data) # return old value\n",
    "obj.set_data = 10 # Now, data modified using Property\n",
    "print(obj.get_data) # return new vlaue"
   ]
  },
  {
   "cell_type": "markdown",
   "metadata": {},
   "source": [
    "### How to modify private data using setter method?"
   ]
  },
  {
   "cell_type": "code",
   "execution_count": null,
   "metadata": {},
   "outputs": [],
   "source": [
    "class MyClass:\n",
    "    def __init__(self):\n",
    "        self.__data = 5\n",
    "        \n",
    "    def get_data(self):\n",
    "        return self.__data\n",
    "        \n",
    "obj = MyClass()\n",
    "obj.__data = 10 # data modified t0 10\n",
    "obj.get_data() # But get old value"
   ]
  },
  {
   "cell_type": "code",
   "execution_count": null,
   "metadata": {},
   "outputs": [],
   "source": [
    "class MyClass:\n",
    "    def __init__(self):\n",
    "        self.__data = 5\n",
    "        \n",
    "    def get_data(self):\n",
    "        return self.__data\n",
    "    \n",
    "    def set_data(self, x): # Setter method\n",
    "        self.__data = x\n",
    "        \n",
    "obj = MyClass()\n",
    "obj.__data = 10\n",
    "print(obj.get_data()) # return old value\n",
    "obj.set_data(10) # Now, data modified using setter method\n",
    "obj.get_data() # return new vlaue"
   ]
  },
  {
   "cell_type": "markdown",
   "metadata": {},
   "source": [
    "### How to separate 5 words in line?"
   ]
  },
  {
   "cell_type": "code",
   "execution_count": null,
   "metadata": {},
   "outputs": [],
   "source": [
    "import re\n",
    "\n",
    "lines = '''The Sangam literature of the Tamil language reveals that, \n",
    "            between 200 BCE and 200 CE, the southern peninsula was being ruled by \n",
    "            the Cheras, the Cholas, and the Pandyas, dynasties that traded \n",
    "            extensively with the Roman Empire and with West and South-East Asia.\n",
    "        '''\n",
    "[lines.split()[i:5+i] for i in range(0,len(lines.split()),5)]"
   ]
  },
  {
   "cell_type": "markdown",
   "metadata": {},
   "source": [
    "### How to format each line contain 5 words?"
   ]
  },
  {
   "cell_type": "code",
   "execution_count": null,
   "metadata": {},
   "outputs": [],
   "source": [
    "import re\n",
    "\n",
    "lines = '''The Sangam literature of the Tamil language reveals that, \n",
    "            between 200 BCE and 200 CE, the southern peninsula was being ruled by \n",
    "            the Cheras, the Cholas, and the Pandyas, dynasties that traded \n",
    "            extensively with the Roman Empire and with West and South-East Asia.\n",
    "        '''\n",
    "fmt = [' '.join(lines.split()[i:5+i]) for i in range(0,len(lines.split()),5)]\n",
    "for j in fmt:\n",
    "    print(j)"
   ]
  },
  {
   "cell_type": "markdown",
   "metadata": {},
   "source": [
    "### How to access private variable?"
   ]
  },
  {
   "cell_type": "code",
   "execution_count": null,
   "metadata": {},
   "outputs": [],
   "source": [
    "class MyClass:\n",
    "    def __init__(self):\n",
    "        self.__data = 5\n",
    "        \n",
    "obj = MyClass()\n",
    "obj.__data # We could not access private variable directly."
   ]
  },
  {
   "cell_type": "code",
   "execution_count": null,
   "metadata": {},
   "outputs": [],
   "source": [
    "class MyClass:\n",
    "    def __init__(self):\n",
    "        self.__data = 5\n",
    "    def get(self):\n",
    "        return self.__data\n",
    "        \n",
    "obj = MyClass()\n",
    "obj.get() # We can access private variable using class method"
   ]
  },
  {
   "cell_type": "markdown",
   "metadata": {},
   "source": [
    "### Compare Versions"
   ]
  },
  {
   "cell_type": "code",
   "execution_count": null,
   "metadata": {},
   "outputs": [],
   "source": [
    "# Example: 1\n",
    "(3, 6, 5) > (3, 6, 4)"
   ]
  },
  {
   "cell_type": "code",
   "execution_count": null,
   "metadata": {},
   "outputs": [],
   "source": [
    "# Example: 2\n",
    "(3, 6, 5) < (3, 6, 4)"
   ]
  },
  {
   "cell_type": "markdown",
   "metadata": {},
   "source": [
    "### Compare current python version"
   ]
  },
  {
   "cell_type": "code",
   "execution_count": null,
   "metadata": {},
   "outputs": [],
   "source": [
    "import sys\n",
    "print(sys.version_info)\n",
    "sys.version_info > (3, 6, 4)"
   ]
  },
  {
   "cell_type": "markdown",
   "metadata": {},
   "source": [
    "### Compare Package Versions"
   ]
  },
  {
   "cell_type": "code",
   "execution_count": null,
   "metadata": {},
   "outputs": [],
   "source": [
    "version1 = '3.6.7'\n",
    "version2 = '3.6.4'\n",
    "v1 = tuple([int(i) for i in version1.split('.')])\n",
    "v2 = tuple([int(i) for i in version2.split('.')])\n",
    "print(v1,v2)\n",
    "v1 > v2"
   ]
  },
  {
   "cell_type": "markdown",
   "metadata": {},
   "source": [
    "### How many bytes in each MB?"
   ]
  },
  {
   "cell_type": "code",
   "execution_count": null,
   "metadata": {},
   "outputs": [],
   "source": [
    "lmb = [ (i,i*(1024*1024)) for i in range(1,21)]\n",
    "print('{:^5} {:>7}'.format('MB','Bytes'))\n",
    "print('*'*15)\n",
    "for j,k in lmb:\n",
    "    print('{:^5} {:>8}'.format(j,k))"
   ]
  },
  {
   "cell_type": "markdown",
   "metadata": {},
   "source": [
    "### How to calculate bytes from MB?"
   ]
  },
  {
   "cell_type": "code",
   "execution_count": null,
   "metadata": {},
   "outputs": [],
   "source": [
    "def byte(mb):\n",
    "    return str(mb*(1024*1024)) + ' Bytes'\n",
    "\n",
    "byte(20)"
   ]
  },
  {
   "cell_type": "markdown",
   "metadata": {},
   "source": [
    "### How many bytes in 10MB?"
   ]
  },
  {
   "cell_type": "code",
   "execution_count": null,
   "metadata": {},
   "outputs": [],
   "source": [
    "10*(1024*1024)"
   ]
  },
  {
   "cell_type": "markdown",
   "metadata": {},
   "source": [
    "### list above 10 MB files"
   ]
  },
  {
   "cell_type": "code",
   "execution_count": null,
   "metadata": {},
   "outputs": [],
   "source": [
    "# Method: 1\n",
    "from os.path import getsize,basename\n",
    "import glob\n",
    "\n",
    "folder = '/home/mana/Must Study/Python/*'\n",
    "for i in glob.glob(folder):\n",
    "    if getsize(i) > 10485760:\n",
    "        print('{} - {:.0f} MB'.format(basename(i),getsize(i)/1024/1024))    "
   ]
  },
  {
   "cell_type": "code",
   "execution_count": null,
   "metadata": {},
   "outputs": [],
   "source": [
    "# Method: 2\n",
    "from os.path import getsize,basename\n",
    "import glob\n",
    "\n",
    "folder = '/home/mana/Must Study/Python/*'\n",
    "file = filter(lambda i: getsize(i) > 10485760, glob.glob(folder)) \n",
    "for j in file:\n",
    "    print('{} - {:.0f} MB'.format(basename(j),getsize(j)/1024/1024))\n"
   ]
  },
  {
   "cell_type": "markdown",
   "metadata": {},
   "source": [
    "### list filesize of files"
   ]
  },
  {
   "cell_type": "code",
   "execution_count": null,
   "metadata": {},
   "outputs": [],
   "source": [
    "from os.path import getsize,basename\n",
    "import glob\n",
    "\n",
    "folder = '/home/mana/Must Study/Python/*'\n",
    "for i in glob.glob(folder):\n",
    "    print(basename(i)+' - '+str(round(getsize(i)/1024/1024))+'MB')"
   ]
  },
  {
   "cell_type": "markdown",
   "metadata": {},
   "source": [
    "### Print 1 to 10 using different method"
   ]
  },
  {
   "cell_type": "code",
   "execution_count": null,
   "metadata": {},
   "outputs": [],
   "source": [
    "print(*range(1,11))"
   ]
  },
  {
   "cell_type": "code",
   "execution_count": null,
   "metadata": {},
   "outputs": [],
   "source": [
    "(lambda *x: x)(*range(1,11))"
   ]
  },
  {
   "cell_type": "code",
   "execution_count": null,
   "metadata": {},
   "outputs": [],
   "source": [
    "[*range(1,11)]"
   ]
  },
  {
   "cell_type": "code",
   "execution_count": null,
   "metadata": {},
   "outputs": [],
   "source": [
    "list(range(1,11))"
   ]
  },
  {
   "cell_type": "markdown",
   "metadata": {},
   "source": [
    "### What is output of this code?"
   ]
  },
  {
   "cell_type": "code",
   "execution_count": null,
   "metadata": {},
   "outputs": [],
   "source": [
    "for i in '1','2','3':\n",
    "    i += i\n",
    "print(i)"
   ]
  },
  {
   "cell_type": "markdown",
   "metadata": {},
   "source": [
    "### How to convert tuple from dictionary?"
   ]
  },
  {
   "cell_type": "code",
   "execution_count": null,
   "metadata": {},
   "outputs": [],
   "source": [
    "from collections import Counter\n",
    "\n",
    "lines = 'Linux  is free and open-source operating systems'\n",
    "d = Counter(lines.split()) \n",
    "print(' This is Dictionary:\\n',d)\n",
    "list((lambda x: x)(d.items()))"
   ]
  },
  {
   "cell_type": "markdown",
   "metadata": {},
   "source": [
    "### Convert tuple using list comprehension"
   ]
  },
  {
   "cell_type": "code",
   "execution_count": null,
   "metadata": {},
   "outputs": [],
   "source": [
    "from collections import Counter\n",
    "\n",
    "lines = 'Linux  is free and open-source operating systems'\n",
    "lst = [i for i in Counter(lines.split()).items()]\n",
    "lst"
   ]
  },
  {
   "cell_type": "markdown",
   "metadata": {},
   "source": [
    "### Count most frequent word."
   ]
  },
  {
   "cell_type": "code",
   "execution_count": null,
   "metadata": {},
   "outputs": [],
   "source": [
    "from collections import Counter\n",
    "\n",
    "lines = 'Linux  is free and open-source operating systems'\n",
    "Counter(lines.split())"
   ]
  },
  {
   "cell_type": "markdown",
   "metadata": {},
   "source": [
    "### Join tuples and converted single tuple"
   ]
  },
  {
   "cell_type": "code",
   "execution_count": null,
   "metadata": {},
   "outputs": [],
   "source": [
    "tu = (('a','b'), ('c', 'd', 'e'), ('f','g'))\n",
    "\n",
    "sum(tu, ())"
   ]
  },
  {
   "cell_type": "markdown",
   "metadata": {},
   "source": [
    "### How to check recursively  one directory exists or not?\n",
    "Here, I check \"test\" directory."
   ]
  },
  {
   "cell_type": "code",
   "execution_count": null,
   "metadata": {},
   "outputs": [],
   "source": [
    "import os\n",
    "\n",
    "def chk_dir(path, search_dir):\n",
    "    f = os.walk(path)\n",
    "    if [search_dir] in sum([*f], ()):\n",
    "        print(repr(search_dir), 'directory exists.')\n",
    "    else:\n",
    "        print(repr(search_dir), 'directory does not exists.')\n",
    "        \n",
    "chk_dir('/home/mana/Public','test')"
   ]
  },
  {
   "cell_type": "code",
   "execution_count": null,
   "metadata": {},
   "outputs": [],
   "source": [
    "import os\n",
    "\n",
    "f = os.walk('/home/mana/Public')\n",
    "if ['test'] in sum([*f], ()):\n",
    "    print('\"Test\" directory exists.')"
   ]
  },
  {
   "cell_type": "markdown",
   "metadata": {},
   "source": [
    "### Property Decorator"
   ]
  },
  {
   "cell_type": "code",
   "execution_count": null,
   "metadata": {},
   "outputs": [],
   "source": [
    "class Student:\n",
    "    def __init__(self,name,marks):\n",
    "        self.name = name\n",
    "        self.marks = marks\n",
    "        \n",
    "    @property    \n",
    "    def gotmarks(self):\n",
    "        gotmarks = self.name + ' obtained ' + self.marks + ' marks'\n",
    "        return gotmarks\n",
    "    \n",
    "    @gotmarks.setter\n",
    "    def gotmarks(self, sentence):\n",
    "        name, marks = sentence.split()\n",
    "        self.name = name\n",
    "        self.marks = marks\n",
    "        \n",
    "st = Student('Manavalan', '90')\n",
    "print(st.name)\n",
    "print(st.gotmarks)\n",
    "print()\n",
    "st.name = 'Micheal'\n",
    "print(st.name)\n",
    "print(st.gotmarks)\n",
    "print()\n",
    "st.gotmarks = 'Xavier 90'\n",
    "print(st.name)\n",
    "print(st.gotmarks)"
   ]
  },
  {
   "cell_type": "code",
   "execution_count": null,
   "metadata": {},
   "outputs": [],
   "source": [
    "class Student:\n",
    "    def __init__(self,name,marks):\n",
    "        self.name = name\n",
    "        self.marks = marks\n",
    "    \n",
    "    def gotmarks(self):\n",
    "        gotmarks = self.name + ' obtained ' + self.marks + ' marks'\n",
    "        return gotmarks\n",
    "\n",
    "st = Student('Manavalan', '90')\n",
    "st.name = 'Micheal'\n",
    "print(st.name)\n",
    "print(st.gotmarks())"
   ]
  },
  {
   "cell_type": "code",
   "execution_count": null,
   "metadata": {},
   "outputs": [],
   "source": [
    "class Student:\n",
    "    def __init__(self,name,marks):\n",
    "        self.name = name\n",
    "        self.marks = marks\n",
    "        self.gotmarks = self.name + ' obtained ' + self.marks + ' marks'\n",
    "\n",
    "st = Student('Manavalan', '90')\n",
    "st.name = 'Micheal'\n",
    "print(st.name)\n",
    "print(st.gotmarks)"
   ]
  },
  {
   "cell_type": "code",
   "execution_count": null,
   "metadata": {},
   "outputs": [],
   "source": [
    "class Student:\n",
    "    def __init__(self,name,marks):\n",
    "        self.name = name\n",
    "        self.marks = marks\n",
    "        self.gotmarks = self.name + ' obtained ' + self.marks + ' marks'\n",
    "\n",
    "st = Student('Manavalan', '90')\n",
    "print(st.name)\n",
    "print(st.marks)\n",
    "print(st.gotmarks)"
   ]
  },
  {
   "cell_type": "markdown",
   "metadata": {},
   "source": [
    "### How to find that most frequent word in Paragraph?"
   ]
  },
  {
   "cell_type": "code",
   "execution_count": null,
   "metadata": {},
   "outputs": [],
   "source": [
    "# Method: 1\n",
    "lines = ''' Linux  is a family of free and open-source software operating systems \n",
    "            built around the Linux kernel. Typically, Linux is packaged in a form \n",
    "            known as a Linux distribution for both desktop and server use. \n",
    "            '''\n",
    "max(set(lines.split()), key = lines.split().count)"
   ]
  },
  {
   "cell_type": "code",
   "execution_count": null,
   "metadata": {},
   "outputs": [],
   "source": [
    "# Method: 2\n",
    "from collections import Counter\n",
    "\n",
    "lines = ''' Linux  is a family of free and open-source software operating systems \n",
    "            built around the Linux kernel. Typically, Linux is packaged in a form \n",
    "            known as a Linux distribution for both desktop and server use. \n",
    "        '''\n",
    "sorted(Counter(lines.split()).items(), key = lambda x: x[1])[-1][0]"
   ]
  },
  {
   "cell_type": "markdown",
   "metadata": {},
   "source": [
    "### Check most frequent element in a list"
   ]
  },
  {
   "cell_type": "code",
   "execution_count": null,
   "metadata": {},
   "outputs": [],
   "source": [
    "num = [92, 100, 209,92, 53, 784, 90, 87, 92, 92,90, 87, 90]\n",
    "print(max(set(num), key = num.count))"
   ]
  },
  {
   "cell_type": "markdown",
   "metadata": {},
   "source": [
    "### Decorator with arguments"
   ]
  },
  {
   "cell_type": "code",
   "execution_count": null,
   "metadata": {},
   "outputs": [],
   "source": [
    "def create_decorator(number):\n",
    "    print('Now we create number decorator.')\n",
    "    c = 2 + 3\n",
    "    number(c)\n",
    "    \n",
    "@create_decorator\n",
    "def number_addition(c):\n",
    "    print('Addition of 2 + 3:', c)"
   ]
  },
  {
   "cell_type": "markdown",
   "metadata": {},
   "source": [
    "### Function Decorator"
   ]
  },
  {
   "cell_type": "code",
   "execution_count": null,
   "metadata": {},
   "outputs": [],
   "source": [
    "def create_decorate(flower):\n",
    "    print('Now we create flower decorator.')\n",
    "    flower()\n",
    "    print('Finally we created flower decorator.')\n",
    "\n",
    "@create_decorate\n",
    "def create_flower():\n",
    "    print('This is ROSE.')\n",
    "print()   \n",
    "@create_decorate\n",
    "def create_flower():\n",
    "    print('This is Jasmine.')"
   ]
  },
  {
   "cell_type": "markdown",
   "metadata": {},
   "source": [
    "### Namedtuple"
   ]
  },
  {
   "cell_type": "code",
   "execution_count": null,
   "metadata": {},
   "outputs": [],
   "source": [
    "from collections import namedtuple\n",
    "\n",
    "student = namedtuple('student', 'name city')\n",
    "student1 = student('Manavalan', 'Chennai')\n",
    "print(student1)\n",
    "print(student1.name)\n",
    "print(student1.city)"
   ]
  },
  {
   "cell_type": "markdown",
   "metadata": {},
   "source": [
    "### How to join tuple elemetns without join method?"
   ]
  },
  {
   "cell_type": "code",
   "execution_count": null,
   "metadata": {},
   "outputs": [],
   "source": [
    "import platform as plt\n",
    "\n",
    "# Before Joining\n",
    "print(plt.dist())\n",
    "print()\n",
    "\n",
    "# After joining using *unpack\n",
    "print(*(plt.dist()))"
   ]
  },
  {
   "cell_type": "markdown",
   "metadata": {},
   "source": [
    "### What are default magic methods available in one class?"
   ]
  },
  {
   "cell_type": "code",
   "execution_count": null,
   "metadata": {},
   "outputs": [],
   "source": [
    "class Test:\n",
    "    pass\n",
    "\n",
    "t = Test()\n",
    "dir(t)"
   ]
  },
  {
   "cell_type": "markdown",
   "metadata": {},
   "source": [
    "### How object reference class variable?\n"
   ]
  },
  {
   "cell_type": "code",
   "execution_count": null,
   "metadata": {},
   "outputs": [],
   "source": [
    "# Here, Object reference value this format --> t.__dict__['name']\n",
    "\n",
    "class Test:\n",
    "    def __init__(self, name):\n",
    "        self.name = name\n",
    "    def printx(self):\n",
    "        pass\n",
    "\n",
    "t = Test('Orange')\n",
    "t.__dict__"
   ]
  },
  {
   "cell_type": "markdown",
   "metadata": {},
   "source": [
    "### Override constructor variable"
   ]
  },
  {
   "cell_type": "code",
   "execution_count": null,
   "metadata": {},
   "outputs": [],
   "source": [
    "class Test:\n",
    "    def __init__(self, name):\n",
    "        self.name = name\n",
    "    def printx(self):\n",
    "        pass\n",
    "\n",
    "t = Test('Orange')\n",
    "print(t.name)\n",
    "\n",
    "# Override constructor variable\n",
    "t.name = 'Apple'\n",
    "print(t.name)"
   ]
  },
  {
   "cell_type": "markdown",
   "metadata": {},
   "source": [
    "### Class constructor with arguments"
   ]
  },
  {
   "cell_type": "code",
   "execution_count": null,
   "metadata": {},
   "outputs": [],
   "source": [
    "class Test:\n",
    "    def __init__(self, name):\n",
    "        self.name = name\n",
    "\n",
    "t = Test('Tamil')\n",
    "t.name"
   ]
  },
  {
   "cell_type": "markdown",
   "metadata": {},
   "source": [
    "### Class constructor with keyword arguments"
   ]
  },
  {
   "cell_type": "code",
   "execution_count": null,
   "metadata": {},
   "outputs": [],
   "source": [
    "class Celsius:\n",
    "    def __init__(self, temperature = 0):\n",
    "        self.temperature = temperature\n",
    "\n",
    "    def to_fahrenheit(self):\n",
    "        return (self.temperature * 1.8) + 32\n",
    "\n",
    "cel = Celsius()\n",
    "cel.temperature = 36\n",
    "cel.to_fahrenheit()"
   ]
  },
  {
   "cell_type": "markdown",
   "metadata": {},
   "source": [
    "### How to change class variable value"
   ]
  },
  {
   "cell_type": "code",
   "execution_count": null,
   "metadata": {},
   "outputs": [],
   "source": [
    "class MyClass:\n",
    "    def __init__(self):\n",
    "        self.name = 'Manavalan'\n",
    "    def printx(self):\n",
    "        print(self.name)\n",
    "\n",
    "change = MyClass()\n",
    "print(change.name)\n",
    "change.name = 'Xavier'\n",
    "print(change.name)"
   ]
  },
  {
   "cell_type": "markdown",
   "metadata": {},
   "source": [
    "### How to change class variable value using setattr method?"
   ]
  },
  {
   "cell_type": "code",
   "execution_count": null,
   "metadata": {},
   "outputs": [],
   "source": [
    "class MyClass:\n",
    "    def __init__(self):\n",
    "        self.name = 'Manavalan'\n",
    "    def printx(self):\n",
    "        print(self.name)\n",
    "\n",
    "change = MyClass()\n",
    "print(change.name)\n",
    "\n",
    "# Print after set name variable value\n",
    "setattr(change, 'name', 'Xavier')\n",
    "print(change.name)"
   ]
  },
  {
   "cell_type": "markdown",
   "metadata": {},
   "source": [
    "### issubclass"
   ]
  },
  {
   "cell_type": "code",
   "execution_count": null,
   "metadata": {},
   "outputs": [],
   "source": [
    "class cal(object):\n",
    "    pass\n",
    "\n",
    "class CalAdd(cal):\n",
    "    pass\n",
    "issubclass(CalAdd, cal)"
   ]
  },
  {
   "cell_type": "markdown",
   "metadata": {},
   "source": [
    "### has/get/set attributes"
   ]
  },
  {
   "cell_type": "code",
   "execution_count": null,
   "metadata": {},
   "outputs": [],
   "source": [
    "class calc:\n",
    "    def __init__(self):\n",
    "        self.name = 'Mana'\n",
    "    def printx(self):\n",
    "        print(self.name)\n",
    "\n",
    "cal = calc()\n",
    "hasattr(cal, 'name')\n",
    "hasattr(cal, 'printx')\n",
    "getattr(cal, 'name')\n",
    "getattr(cal, 'printx')\n",
    "setattr(cal, 'name', 'xavier')\n",
    "cal.name"
   ]
  },
  {
   "cell_type": "markdown",
   "metadata": {},
   "source": [
    "### How to get sort list items using sort method?\n",
    "Normally list sort method return None. So after sort then call list name."
   ]
  },
  {
   "cell_type": "code",
   "execution_count": null,
   "metadata": {},
   "outputs": [],
   "source": [
    "fruits = ['orange', 'pear', 'kiwi', 'apple', 'banana']\n",
    "fruits.sort()\n",
    "fruits"
   ]
  },
  {
   "cell_type": "markdown",
   "metadata": {},
   "source": [
    "### Get Free memory of Linux Server"
   ]
  },
  {
   "cell_type": "code",
   "execution_count": null,
   "metadata": {},
   "outputs": [],
   "source": [
    "from subprocess import check_output as cmd\n",
    "\n",
    "print('Free memory:',cmd(['free', '-h']).decode().split('\\n')[1][-5:])"
   ]
  },
  {
   "cell_type": "markdown",
   "metadata": {},
   "source": [
    "### How to decorate Linux command output in python?"
   ]
  },
  {
   "cell_type": "code",
   "execution_count": null,
   "metadata": {},
   "outputs": [],
   "source": [
    "from subprocess import check_output as cmd\n",
    "\n",
    "print('*'*80)\n",
    "print('{:^87}'.format('\\33[1;35;48mOUTPUT \\33[0m'))\n",
    "print('*'*80)\n",
    "for i in cmd(['free', '-h']).decode().split('\\n'):\n",
    "    print(i)\n",
    "\n"
   ]
  },
  {
   "cell_type": "code",
   "execution_count": null,
   "metadata": {},
   "outputs": [],
   "source": [
    "from subprocess import check_output as cmd\n",
    "\n",
    "for i in cmd(['free', '-h']).decode().split('\\n'):\n",
    "    print(i)\n"
   ]
  },
  {
   "cell_type": "markdown",
   "metadata": {},
   "source": [
    "### How to use for loop within lambda?"
   ]
  },
  {
   "cell_type": "code",
   "execution_count": null,
   "metadata": {},
   "outputs": [],
   "source": [
    "x = [1, 2, 3]\n",
    "(lambda i: [x[j] for j in range(i)])(len(x))"
   ]
  },
  {
   "cell_type": "markdown",
   "metadata": {},
   "source": [
    "### How to print 77 using lambda?"
   ]
  },
  {
   "cell_type": "code",
   "execution_count": null,
   "metadata": {},
   "outputs": [],
   "source": [
    "x = [1, 2, 3,5,77,63,256,7,9990]\n",
    "(lambda *i: i[4])(*x)"
   ]
  },
  {
   "cell_type": "markdown",
   "metadata": {},
   "source": [
    "### Create Hash value or Digest"
   ]
  },
  {
   "cell_type": "code",
   "execution_count": null,
   "metadata": {},
   "outputs": [],
   "source": [
    "hash('Manavalan')"
   ]
  },
  {
   "cell_type": "markdown",
   "metadata": {},
   "source": [
    "### Get Instance Type"
   ]
  },
  {
   "cell_type": "code",
   "execution_count": null,
   "metadata": {},
   "outputs": [],
   "source": [
    "city = 'Chennai'\n",
    "isinstance(city, str)"
   ]
  },
  {
   "cell_type": "markdown",
   "metadata": {},
   "source": [
    "### How to list all list methods?"
   ]
  },
  {
   "cell_type": "code",
   "execution_count": null,
   "metadata": {},
   "outputs": [],
   "source": [
    "dir(list)[35:]"
   ]
  },
  {
   "cell_type": "markdown",
   "metadata": {},
   "source": [
    "### How to list class attributes?"
   ]
  },
  {
   "cell_type": "code",
   "execution_count": null,
   "metadata": {},
   "outputs": [],
   "source": [
    "# Here i list string class attributes\n",
    "\n",
    "dir(str)"
   ]
  },
  {
   "cell_type": "markdown",
   "metadata": {},
   "source": [
    "### lambda with list comprehension"
   ]
  },
  {
   "cell_type": "code",
   "execution_count": null,
   "metadata": {},
   "outputs": [],
   "source": [
    "(lambda x: [chr(i)*x for i in range(65,70)])(3)"
   ]
  },
  {
   "cell_type": "markdown",
   "metadata": {},
   "source": [
    "### Lambda"
   ]
  },
  {
   "cell_type": "code",
   "execution_count": null,
   "metadata": {},
   "outputs": [],
   "source": [
    "# Example: 1\n",
    "    \n",
    "lam = lambda x: len(x)\n",
    "lam('Manavalan')"
   ]
  },
  {
   "cell_type": "code",
   "execution_count": null,
   "metadata": {},
   "outputs": [],
   "source": [
    "# Example: 2\n",
    "\n",
    "(lambda x: len(x))('Chennai') "
   ]
  },
  {
   "cell_type": "code",
   "execution_count": null,
   "metadata": {},
   "outputs": [],
   "source": [
    "# EExample: 3 --> lambda with list comprehension\n",
    "\n",
    "(lambda x: [chr(i)*x for i in range(65,70)])(3)"
   ]
  },
  {
   "cell_type": "markdown",
   "metadata": {},
   "source": [
    "### How to fetch 3 digit value only?"
   ]
  },
  {
   "cell_type": "code",
   "execution_count": null,
   "metadata": {},
   "outputs": [],
   "source": [
    "num = [5, 657, 12, 4789, 782, 344, 24, 2]\n",
    "\n",
    "[x for x in num if len(str(x)) == 3]"
   ]
  },
  {
   "cell_type": "markdown",
   "metadata": {},
   "source": [
    "### 10th Mark Percentage"
   ]
  },
  {
   "cell_type": "code",
   "execution_count": null,
   "metadata": {},
   "outputs": [],
   "source": [
    "mymarks, totalmarks = 401, 500\n",
    "print('{:.0%}'.format(mymarks/totalmarks))"
   ]
  },
  {
   "cell_type": "markdown",
   "metadata": {},
   "source": [
    "### 12th Mark Percentage"
   ]
  },
  {
   "cell_type": "code",
   "execution_count": null,
   "metadata": {},
   "outputs": [],
   "source": [
    "mymarks, totalmarks = 912, 1200\n",
    "print('{:.0%}'.format(mymarks/totalmarks))"
   ]
  },
  {
   "cell_type": "code",
   "execution_count": null,
   "metadata": {},
   "outputs": [],
   "source": [
    "import sys\n",
    "\n",
    "sys.version"
   ]
  },
  {
   "cell_type": "code",
   "execution_count": null,
   "metadata": {},
   "outputs": [],
   "source": []
  }
 ],
 "metadata": {
  "kernelspec": {
   "display_name": "Python 3",
   "language": "python",
   "name": "python3"
  },
  "language_info": {
   "codemirror_mode": {
    "name": "ipython",
    "version": 3
   },
   "file_extension": ".py",
   "mimetype": "text/x-python",
   "name": "python",
   "nbconvert_exporter": "python",
   "pygments_lexer": "ipython3",
   "version": "3.6.7"
  }
 },
 "nbformat": 4,
 "nbformat_minor": 2
}
