{
 "cells": [
  {
   "cell_type": "code",
   "execution_count": null,
   "metadata": {},
   "outputs": [],
   "source": []
  },
  {
   "cell_type": "markdown",
   "metadata": {},
   "source": [
    "### Keyword only arguments"
   ]
  },
  {
   "cell_type": "code",
   "execution_count": 90,
   "metadata": {},
   "outputs": [
    {
     "name": "stdout",
     "output_type": "stream",
     "text": [
      "1 Mana\n"
     ]
    }
   ],
   "source": [
    "def kwonly(a,*,kw):\n",
    "    print(a,kw)\n",
    "\n",
    "kwonly(1, kw='Mana')"
   ]
  },
  {
   "cell_type": "code",
   "execution_count": 95,
   "metadata": {},
   "outputs": [
    {
     "name": "stdout",
     "output_type": "stream",
     "text": [
      "Mana\n"
     ]
    }
   ],
   "source": [
    "def kwonly(*,kw):\n",
    "    print(kw)\n",
    "\n",
    "kwonly(kw='Mana')"
   ]
  },
  {
   "cell_type": "markdown",
   "metadata": {},
   "source": [
    "### Unpack Arguments"
   ]
  },
  {
   "cell_type": "code",
   "execution_count": 87,
   "metadata": {},
   "outputs": [
    {
     "name": "stdout",
     "output_type": "stream",
     "text": [
      "2 3 Mana\n",
      "5 ice Mana\n",
      "One 6 Xavier\n",
      "One 6 Xavier\n"
     ]
    }
   ],
   "source": [
    "def unpack(a,b,kw='Mana'):\n",
    "    print(a,b,kw)\n",
    "    \n",
    "unpack(2,3)\n",
    "unpack(*(5,'ice'))\n",
    "unpack('One',6, kw='Xavier')\n",
    "unpack(*('One',6),**{'kw':'Xavier'})"
   ]
  },
  {
   "cell_type": "markdown",
   "metadata": {},
   "source": [
    "### Default arguments and Keyword arguments"
   ]
  },
  {
   "cell_type": "code",
   "execution_count": 81,
   "metadata": {},
   "outputs": [
    {
     "name": "stdout",
     "output_type": "stream",
     "text": [
      "2 3\n",
      "(4,)\n",
      "{'kw': 'Hi'}\n"
     ]
    }
   ],
   "source": [
    "def hello(a, b=None, *args, **kwargs):\n",
    "    print(a, b)\n",
    "    print(args)\n",
    "    print(kwargs)\n",
    "\n",
    "hello(2,3,4,kw='Hi')"
   ]
  },
  {
   "cell_type": "markdown",
   "metadata": {},
   "source": [
    "### Default Arguments"
   ]
  },
  {
   "cell_type": "code",
   "execution_count": 80,
   "metadata": {},
   "outputs": [
    {
     "name": "stdout",
     "output_type": "stream",
     "text": [
      "Manavalan Chennai\n",
      "Manavalan Madurai\n"
     ]
    }
   ],
   "source": [
    "def city(name, town='Chennai'):\n",
    "    print(name, town)\n",
    "    \n",
    "city('Manavalan')\n",
    "city('Manavalan', 'Madurai')"
   ]
  },
  {
   "cell_type": "markdown",
   "metadata": {},
   "source": [
    "### Document of Function"
   ]
  },
  {
   "cell_type": "code",
   "execution_count": 76,
   "metadata": {},
   "outputs": [
    {
     "data": {
      "text/plain": [
       "'Add two numbers'"
      ]
     },
     "execution_count": 76,
     "metadata": {},
     "output_type": "execute_result"
    }
   ],
   "source": [
    "def add(a,b):\n",
    "    '''Add two numbers'''\n",
    "    return a+b\n",
    "\n",
    "add.__doc__"
   ]
  },
  {
   "cell_type": "markdown",
   "metadata": {},
   "source": [
    "### How to remove duplicate items in list?"
   ]
  },
  {
   "cell_type": "code",
   "execution_count": 61,
   "metadata": {},
   "outputs": [
    {
     "data": {
      "text/plain": [
       "[1, 2, 5, 6, 7]"
      ]
     },
     "execution_count": 61,
     "metadata": {},
     "output_type": "execute_result"
    }
   ],
   "source": [
    "a = [1, 2, 5, 6, 6, 6, 7]\n",
    "list(set(a))"
   ]
  },
  {
   "cell_type": "markdown",
   "metadata": {},
   "source": [
    "### Merge csv files with header"
   ]
  },
  {
   "cell_type": "code",
   "execution_count": null,
   "metadata": {},
   "outputs": [],
   "source": [
    "with open('file1.csv') as f1:\n",
    "    f1r = list(csv.reader(f1))\n",
    "with open('file2.csv') as f2:\n",
    "    f2r = list(csv.reader(f2))\n",
    "\n",
    "for i in range(len(f1r)):\n",
    "    print(f1r[i] + f2r[i])"
   ]
  },
  {
   "cell_type": "markdown",
   "metadata": {},
   "source": [
    "### Merge 2 csv file"
   ]
  },
  {
   "cell_type": "code",
   "execution_count": 32,
   "metadata": {},
   "outputs": [
    {
     "data": {
      "text/plain": [
       "[['Manash', ' India', ' A'],\n",
       " ['Sharma', ' Nepal', ' B'],\n",
       " ['Rajesh', ' Bangladesh', ' C'],\n",
       " ['Manash', ' Sri Lanka', ' A'],\n",
       " ['Rajesh', ' Bangladesh', ' D'],\n",
       " ['Sharma', ' Nepal', ' B']]"
      ]
     },
     "execution_count": 32,
     "metadata": {},
     "output_type": "execute_result"
    }
   ],
   "source": [
    "f1 = open('file1.csv')\n",
    "f2 = open('file2.csv')\n",
    "f1r = csv.reader(f1)\n",
    "f2r = csv.reader(f2)\n",
    "[*f1r] + [*f2r]"
   ]
  },
  {
   "cell_type": "markdown",
   "metadata": {},
   "source": [
    "### Exclude some website"
   ]
  },
  {
   "cell_type": "code",
   "execution_count": 28,
   "metadata": {},
   "outputs": [
    {
     "name": "stdout",
     "output_type": "stream",
     "text": [
      "http://www.example.com/\n",
      "https://www.google.com/\n",
      "https://www.nixcraft.com\n",
      "http://www.techmint.com\n",
      "https://automatetheboringstuff.com/\n",
      "http://www.pythonforbeginners.com/basics/python-quick-guide\n",
      "http://getpython3.com/diveintopython3/\n"
     ]
    }
   ],
   "source": [
    "import re\n",
    "\n",
    "with open('site.txt') as f:\n",
    "  for i in f:\n",
    "    matched_site = re.search(r'https?://(?!www.(facebook|youtube)).*',i)\n",
    "    if matched_site:\n",
    "      print(matched_site.group())\n",
    "    "
   ]
  },
  {
   "cell_type": "markdown",
   "metadata": {},
   "source": [
    "### Compare two files contents"
   ]
  },
  {
   "cell_type": "code",
   "execution_count": 19,
   "metadata": {},
   "outputs": [
    {
     "name": "stdout",
     "output_type": "stream",
     "text": [
      "Both file are same\n"
     ]
    }
   ],
   "source": [
    "import re\n",
    "\n",
    "def counting(file):\n",
    "    with open(file) as f1:\n",
    "        f1_read = f1.readlines() \n",
    "        file = []\n",
    "        for i in f1_read:\n",
    "            finding = re.findall(r'\\w+',i)\n",
    "            file += finding\n",
    "            str_list = list(filter(None, file))  \n",
    "    return str_list\n",
    "        \n",
    "def comparing(file1, file2):\n",
    "    c1 = counting(file1)\n",
    "    c2 = counting(file2)\n",
    "    if c1 == c2:\n",
    "        print('Both file are same')\n",
    "    else:\n",
    "        print('Both file are not same')\n",
    "\n",
    "comparing('file1.txt', 'file2.txt')\n",
    "                       "
   ]
  },
  {
   "cell_type": "markdown",
   "metadata": {},
   "source": [
    "### Remove string items in list"
   ]
  },
  {
   "cell_type": "code",
   "execution_count": null,
   "metadata": {},
   "outputs": [],
   "source": [
    "lst = [ 3, 'Chennai', 4, 34, '45']\n",
    "\n",
    "remove_string = (lambda x: isinstance(x, int))\n",
    "[*filter(remove_string, lst)]"
   ]
  },
  {
   "cell_type": "markdown",
   "metadata": {},
   "source": [
    "### lambda in list comprehension"
   ]
  },
  {
   "cell_type": "code",
   "execution_count": null,
   "metadata": {},
   "outputs": [],
   "source": [
    "lst = [(lambda x: x+1)(i) for i in range(5)]\n",
    "lst"
   ]
  },
  {
   "cell_type": "markdown",
   "metadata": {},
   "source": [
    "### Check function or Variable"
   ]
  },
  {
   "cell_type": "code",
   "execution_count": null,
   "metadata": {},
   "outputs": [],
   "source": [
    "var = 15\n",
    "def fn():\n",
    "    print('Manavalan')\n",
    "\n",
    "print(callable(var))\n",
    "print(callable(fn))"
   ]
  },
  {
   "cell_type": "markdown",
   "metadata": {},
   "source": [
    "### Alernative of pass statement"
   ]
  },
  {
   "cell_type": "code",
   "execution_count": null,
   "metadata": {},
   "outputs": [],
   "source": [
    "def foo(): ..."
   ]
  },
  {
   "cell_type": "markdown",
   "metadata": {},
   "source": [
    "### Get Python varsion from platform module"
   ]
  },
  {
   "cell_type": "code",
   "execution_count": null,
   "metadata": {},
   "outputs": [],
   "source": [
    "import platform as plt\n",
    "\n",
    "plt.python_version()"
   ]
  },
  {
   "cell_type": "markdown",
   "metadata": {},
   "source": [
    "### How to print \"Hello World!\" from python  module?"
   ]
  },
  {
   "cell_type": "code",
   "execution_count": null,
   "metadata": {},
   "outputs": [],
   "source": [
    "import __hello__"
   ]
  },
  {
   "cell_type": "markdown",
   "metadata": {},
   "source": [
    "### How to write * 10 times?"
   ]
  },
  {
   "cell_type": "code",
   "execution_count": null,
   "metadata": {},
   "outputs": [],
   "source": [
    "# Method: 1\n",
    "\n",
    "print('\\33[1;35;48m  India \\33[0m')\n",
    "print('*'*10)"
   ]
  },
  {
   "cell_type": "code",
   "execution_count": null,
   "metadata": {},
   "outputs": [],
   "source": [
    "# Method: 2\n",
    "\n",
    "print('\\33[1;35;48m  India \\33[0m')\n",
    "print('*'.ljust(10,'*'))"
   ]
  },
  {
   "cell_type": "markdown",
   "metadata": {},
   "source": [
    "### How to change postition of list elements using format method?"
   ]
  },
  {
   "cell_type": "code",
   "execution_count": null,
   "metadata": {},
   "outputs": [],
   "source": [
    "lst = ['A', 'B', 'C', 'D']\n",
    "\n",
    "lst = print(\"['{2}', '{1}', '{0}', '{3}']\".format(*lst))\n",
    "lst"
   ]
  },
  {
   "cell_type": "markdown",
   "metadata": {},
   "source": [
    "### How to unpack list elements into function?"
   ]
  },
  {
   "cell_type": "code",
   "execution_count": null,
   "metadata": {},
   "outputs": [],
   "source": [
    "lst = ['A', 'B', 'C', 'D']\n",
    "\n",
    "def unpack_list(*args):\n",
    "    for arg in args:\n",
    "        if arg == 'B':\n",
    "            print(arg)\n",
    "            \n",
    "unpack_list(*lst)"
   ]
  },
  {
   "cell_type": "markdown",
   "metadata": {},
   "source": [
    "### Create new list if lst elements value greater than 9"
   ]
  },
  {
   "cell_type": "code",
   "execution_count": null,
   "metadata": {},
   "outputs": [],
   "source": [
    "lst = [8, 13, -3, 5, 50,1]\n",
    "\n",
    "def compare_list(c_value, *args, l= []):\n",
    "    for arg in args:\n",
    "        if arg >= c_value:\n",
    "            l.append(arg)\n",
    "    return l\n",
    "\n",
    "compare_list(9,*lst)"
   ]
  },
  {
   "cell_type": "markdown",
   "metadata": {},
   "source": [
    "### How to comapre two tuple values?"
   ]
  },
  {
   "cell_type": "code",
   "execution_count": null,
   "metadata": {},
   "outputs": [],
   "source": [
    "(3, 6) > (3, 5)"
   ]
  },
  {
   "cell_type": "markdown",
   "metadata": {},
   "source": [
    "### How to compare python version?"
   ]
  },
  {
   "cell_type": "code",
   "execution_count": null,
   "metadata": {},
   "outputs": [],
   "source": [
    "import sys\n",
    "\n",
    "print('Python Version:',sys.version[0:3])\n",
    "# Compare version to 3.5\n",
    "sys.version_info > (3,5)"
   ]
  },
  {
   "cell_type": "markdown",
   "metadata": {},
   "source": [
    "### How to unpack generator into list?"
   ]
  },
  {
   "cell_type": "code",
   "execution_count": null,
   "metadata": {},
   "outputs": [],
   "source": [
    "# Create a generator by ()\n",
    "gen = (chr(i) for i in range(65,70))\n",
    "print(' This is generator object:\\n',gen, '\\n')\n",
    "\n",
    "# unpack generator by []\n",
    "lst_gen = [*gen]\n",
    "print(' This is list:\\n',lst_gen)"
   ]
  },
  {
   "cell_type": "markdown",
   "metadata": {},
   "source": [
    "### This is oneliner unpack generator into list."
   ]
  },
  {
   "cell_type": "code",
   "execution_count": null,
   "metadata": {},
   "outputs": [],
   "source": [
    "print([*(chr(i) for i in range(65,70))])"
   ]
  },
  {
   "cell_type": "markdown",
   "metadata": {},
   "source": [
    "### How to pass value withoout variable?"
   ]
  },
  {
   "cell_type": "code",
   "execution_count": null,
   "metadata": {},
   "outputs": [],
   "source": [
    "lst = [_ for _ in range(1,4)]\n",
    "lst"
   ]
  },
  {
   "cell_type": "markdown",
   "metadata": {},
   "source": [
    "### Send meaasge to generator"
   ]
  },
  {
   "cell_type": "code",
   "execution_count": null,
   "metadata": {},
   "outputs": [],
   "source": [
    "def gen_msg():\n",
    "    msg = yield\n",
    "    print('Message:', msg)\n",
    "\n",
    "g = gen_msg()\n",
    "next(g)\n",
    "g.send('Hello Manavalan')"
   ]
  },
  {
   "cell_type": "markdown",
   "metadata": {},
   "source": [
    "### Print color text"
   ]
  },
  {
   "cell_type": "code",
   "execution_count": null,
   "metadata": {},
   "outputs": [],
   "source": [
    "print(\"\\033[0;37;40m Normal text\\n\")\n",
    "print(\"\\033[2;37;40m Underlined text\\033[0;37;40m \\n\")\n",
    "print(\"\\033[1;37;40m Bright Colour\\033[0;37;40m \\n\")\n",
    "print(\"\\033[3;37;40m Negative Colour\\033[0;37;40m \\n\")\n",
    "print(\"\\033[5;37;40m Negative Colour\\033[0;37;40m\\n\")\n",
    " \n",
    "print(\"\\033[1;37;40m \\033[2;37:40m TextColour BlackBackground          TextColour GreyBackground                WhiteText ColouredBackground\\033[0;37;40m\\n\")\n",
    "print(\"\\033[1;30;40m Dark Gray      \\033[0m 1;30;40m            \\033[0;30;47m Black      \\033[0m 0;30;47m               \\033[0;37;41m Black      \\033[0m 0;37;41m\")\n",
    "print(\"\\033[1;31;40m Bright Red     \\033[0m 1;31;40m            \\033[0;31;47m Red        \\033[0m 0;31;47m               \\033[0;37;42m Black      \\033[0m 0;37;42m\")\n",
    "print(\"\\033[1;32;40m Bright Green   \\033[0m 1;32;40m            \\033[0;32;47m Green      \\033[0m 0;32;47m               \\033[0;37;43m Black      \\033[0m 0;37;43m\")\n",
    "print(\"\\033[1;33;40m Yellow         \\033[0m 1;33;40m            \\033[0;33;47m Brown      \\033[0m 0;33;47m               \\033[0;37;44m Black      \\033[0m 0;37;44m\")\n",
    "print(\"\\033[1;34;40m Bright Blue    \\033[0m 1;34;40m            \\033[0;34;47m Blue       \\033[0m 0;34;47m               \\033[0;37;45m Black      \\033[0m 0;37;45m\")\n",
    "print(\"\\033[1;35;40m Bright Magenta \\033[0m 1;35;40m            \\033[0;35;47m Magenta    \\033[0m 0;35;47m               \\033[0;37;46m Black      \\033[0m 0;37;46m\")\n",
    "print(\"\\033[1;36;40m Bright Cyan    \\033[0m 1;36;40m            \\033[0;36;47m Cyan       \\033[0m 0;36;47m               \\033[0;37;47m Black      \\033[0m 0;37;47m\")\n",
    "print(\"\\033[1;37;40m White          \\033[0m 1;37;40m            \\033[0;37;40m Light Grey \\033[0m 0;37;40m               \\033[0;37;48m Black      \\033[0m 0;37;48m\")\n"
   ]
  },
  {
   "cell_type": "markdown",
   "metadata": {},
   "source": [
    "### Print Bright Blue"
   ]
  },
  {
   "cell_type": "code",
   "execution_count": null,
   "metadata": {},
   "outputs": [],
   "source": [
    "'''The Below ANSI escape code will set the text colour to bright green. The format is;\n",
    "\\033[  Escape code, this is always the same\n",
    "1 = Style, 1 for normal.\n",
    "32 = Text colour, 32 for bright green.\n",
    "40m = Background colour, 40 is for black.\n",
    "48m = Background colour, 40 is for White'''\n",
    "     \n",
    "print(\"\\033[1;34;48m Bright Blue \\n\")"
   ]
  },
  {
   "cell_type": "markdown",
   "metadata": {},
   "source": [
    "### Print color(Blue,Yellow,Green,Red) text in Python"
   ]
  },
  {
   "cell_type": "code",
   "execution_count": null,
   "metadata": {},
   "outputs": [],
   "source": [
    "print(\"\\033[1;34;48m Manavalan Micheal \\n\")\n",
    "print(\"\\033[1;33;48m Manavalan Micheal \\n\")\n",
    "print(\"\\033[1;32;48m Manavalan Micheal \\n\")\n",
    "print(\"\\033[1;31;48m Manavalan Micheal \\n\")"
   ]
  },
  {
   "cell_type": "markdown",
   "metadata": {},
   "source": [
    "### How to unpack list into print function?"
   ]
  },
  {
   "cell_type": "code",
   "execution_count": null,
   "metadata": {},
   "outputs": [],
   "source": [
    "color = ['Red', 'Rose', 'Black', 'Blue', 'Cyan', 'Gold', 'yellow']\n",
    "print(*color)"
   ]
  },
  {
   "cell_type": "markdown",
   "metadata": {},
   "source": [
    "### How to Unpack list into format method?"
   ]
  },
  {
   "cell_type": "code",
   "execution_count": null,
   "metadata": {},
   "outputs": [],
   "source": [
    "color = ['Red', 'Rose', 'yellow']\n",
    "print('{} {} {}'.format(*color))"
   ]
  },
  {
   "cell_type": "markdown",
   "metadata": {},
   "source": [
    "### How to separate Black,Blue,Cyan using list unpacking?"
   ]
  },
  {
   "cell_type": "code",
   "execution_count": null,
   "metadata": {},
   "outputs": [],
   "source": [
    "color = ['Red', 'Rose', 'Black', 'Blue', 'Cyan', 'Gold', 'yellow']\n",
    "a,b,*c,d = color\n",
    "c"
   ]
  },
  {
   "cell_type": "code",
   "execution_count": null,
   "metadata": {},
   "outputs": [],
   "source": [
    "g = (i for i in range(2))\n",
    "next(g)\n",
    "next(g)\n",
    "next(g)"
   ]
  },
  {
   "cell_type": "markdown",
   "metadata": {},
   "source": [
    "### How to unpack generator?"
   ]
  },
  {
   "cell_type": "code",
   "execution_count": null,
   "metadata": {},
   "outputs": [],
   "source": [
    "# unpacking inside a list\n",
    "g\n",
    "1 = (x for x in range(3))\n",
    "[*g1]"
   ]
  },
  {
   "cell_type": "code",
   "execution_count": null,
   "metadata": {},
   "outputs": [],
   "source": [
    "# unpacking inside a set\n",
    "\n",
    "g = (x for x in [5, 5, 6, 6])\n",
    "{*g}"
   ]
  },
  {
   "cell_type": "code",
   "execution_count": null,
   "metadata": {},
   "outputs": [],
   "source": [
    "# unpacking to variables\n",
    "\n",
    "g = (x for x in range(3))\n",
    "a, b, c = g\n",
    "print(a, b, c)\n",
    "g = (x for x in range(6))\n",
    "a, b, *c, d = g\n",
    "print(a, b, d)\n",
    "print(c)"
   ]
  },
  {
   "cell_type": "code",
   "execution_count": null,
   "metadata": {},
   "outputs": [],
   "source": [
    "# unpacking inside a function\n",
    "\n",
    "print(*(x for x in range(3)))"
   ]
  },
  {
   "cell_type": "code",
   "execution_count": null,
   "metadata": {},
   "outputs": [],
   "source": [
    "# unpacking using next\n",
    "\n",
    "def fn (x):\n",
    "    yield x*x\n",
    "g = fn(5)\n",
    "next(g)"
   ]
  },
  {
   "cell_type": "markdown",
   "metadata": {},
   "source": [
    "### How to create generator using yield keyword?\n",
    "If the body of a def contains yield, the function automatically becomes a generator function."
   ]
  },
  {
   "cell_type": "code",
   "execution_count": null,
   "metadata": {},
   "outputs": [],
   "source": [
    "def fn (x):\n",
    "    yield x*x\n",
    "fn(5)"
   ]
  },
  {
   "cell_type": "markdown",
   "metadata": {},
   "source": [
    "### How to print all list items in one line without loop and join method?"
   ]
  },
  {
   "cell_type": "code",
   "execution_count": null,
   "metadata": {},
   "outputs": [],
   "source": [
    "# Here i have used generator and unpack generator inside function\n",
    "\n",
    "color = ['Red', 'Rose', 'Black', 'Blue', 'Cyan', 'Gold', 'yellow']\n",
    "print(*(i for i in color))"
   ]
  },
  {
   "cell_type": "markdown",
   "metadata": {},
   "source": [
    "### str (special method)"
   ]
  },
  {
   "cell_type": "code",
   "execution_count": null,
   "metadata": {},
   "outputs": [],
   "source": [
    "class employee():\n",
    "    def __init__(self,name_arg=\"None\",empid_arg=0):\n",
    "        self.name=name_arg\n",
    "        self.empid = empid_arg\n",
    "        self.designation=\"Engineer\"\n",
    "        pass\n",
    "\n",
    "    def promote(self,designation_arg):\n",
    "        designation=designation_arg\n",
    "    \n",
    "    def __str__(self):\n",
    "        return(self.name+ \" , \" +str(self.empid)+ \" , \" + self.designation)\n",
    "    \n",
    "a=employee(\"Nagesh\",689652)\n",
    "a.promote(\"Sr.Engineer\")\n",
    "print(a)\n"
   ]
  },
  {
   "cell_type": "markdown",
   "metadata": {},
   "source": [
    "### Compare CSV Columns"
   ]
  },
  {
   "cell_type": "code",
   "execution_count": null,
   "metadata": {},
   "outputs": [],
   "source": [
    "#! /usr/bin/python3\n",
    "\n",
    "import csv\n",
    "\n",
    "with open('file1.csv') as f1:\n",
    "    lf1 = list(csv.reader(f1))\n",
    "with open('file2.csv') as f2:\n",
    "    lf2 = list(csv.reader(f2))\n",
    "for i in lf1:\n",
    "    for j in lf2:\n",
    "        if i[0] == j[0] and i[1] != j[1]:\n",
    "            print(i[0],j[1]+' -->',i[1])\n",
    "        if i[0] == j[0] and i[2] != j[2]:\n",
    "            print(i[0],j[2]+' -->',i[2])"
   ]
  },
  {
   "cell_type": "markdown",
   "metadata": {},
   "source": [
    "### Last statement output stored in _ variable."
   ]
  },
  {
   "cell_type": "code",
   "execution_count": null,
   "metadata": {},
   "outputs": [],
   "source": [
    "5 + 3\n",
    "\n",
    "_ + 3"
   ]
  },
  {
   "cell_type": "markdown",
   "metadata": {},
   "source": [
    "###  Guess Your favorite color"
   ]
  },
  {
   "cell_type": "code",
   "execution_count": null,
   "metadata": {},
   "outputs": [],
   "source": [
    "from random import randint\n",
    "\n",
    "color = ['Red', 'Rose', 'Black', 'Blue', 'Cyan', 'Gold', 'yellow']\n",
    "color[randint(0,len(color) -1)]"
   ]
  },
  {
   "cell_type": "markdown",
   "metadata": {},
   "source": [
    "### How to remove end of at word?"
   ]
  },
  {
   "cell_type": "code",
   "execution_count": null,
   "metadata": {},
   "outputs": [],
   "source": [
    "animal = ['cat', 'bat', 'rat', 'elephant']\n",
    "\n",
    "final = [i for i in spam if not i.endswith('at')]\n",
    "final\n"
   ]
  },
  {
   "cell_type": "markdown",
   "metadata": {},
   "source": [
    "### How to check any symbol in word?"
   ]
  },
  {
   "cell_type": "code",
   "execution_count": null,
   "metadata": {},
   "outputs": [],
   "source": [
    "from string import punctuation as sym\n",
    "\n",
    "word = 'mana@chennai'\n",
    "for i in list(word):\n",
    "    if i in sym:\n",
    "        print('Yes')"
   ]
  },
  {
   "cell_type": "markdown",
   "metadata": {},
   "source": [
    "### Print symbol only"
   ]
  },
  {
   "cell_type": "code",
   "execution_count": 1,
   "metadata": {},
   "outputs": [
    {
     "data": {
      "text/plain": [
       "'!\"#$%&\\'()*+,-./:;<=>?@[\\\\]^_`{|}~'"
      ]
     },
     "execution_count": 1,
     "metadata": {},
     "output_type": "execute_result"
    }
   ],
   "source": [
    "import string\n",
    "\n",
    "string.punctuation"
   ]
  },
  {
   "cell_type": "markdown",
   "metadata": {},
   "source": [
    "### Generate 8 random characters"
   ]
  },
  {
   "cell_type": "code",
   "execution_count": 75,
   "metadata": {},
   "outputs": [
    {
     "data": {
      "text/plain": [
       "'dMY5+#qB'"
      ]
     },
     "execution_count": 75,
     "metadata": {},
     "output_type": "execute_result"
    }
   ],
   "source": [
    "from string import printable\n",
    "from random import choice\n",
    "\n",
    "ch = printable[:68]+printable[71:73]+printable[82:84]\n",
    "rdm = [choice(ch) for i in range(8)]\n",
    "''.join(rdm)"
   ]
  },
  {
   "cell_type": "markdown",
   "metadata": {},
   "source": [
    "### What are chracters printable in python?"
   ]
  },
  {
   "cell_type": "code",
   "execution_count": null,
   "metadata": {},
   "outputs": [],
   "source": [
    "import string\n",
    "\n",
    "string.printable"
   ]
  },
  {
   "cell_type": "markdown",
   "metadata": {},
   "source": [
    "### How to calculate percentage very quickly in python?"
   ]
  },
  {
   "cell_type": "code",
   "execution_count": 100,
   "metadata": {},
   "outputs": [
    {
     "name": "stdout",
     "output_type": "stream",
     "text": [
      "40% \n"
     ]
    }
   ],
   "source": [
    "collection_ponits = 200\n",
    "toltal_point =500\n",
    "print('{:.0%} '.format(collection_ponits/toltal_point))"
   ]
  },
  {
   "cell_type": "markdown",
   "metadata": {},
   "source": [
    "### How to make thousand separator?"
   ]
  },
  {
   "cell_type": "code",
   "execution_count": null,
   "metadata": {},
   "outputs": [],
   "source": [
    "print('{:,}'.format(4561278954979))"
   ]
  },
  {
   "cell_type": "markdown",
   "metadata": {},
   "source": [
    "### Print digits"
   ]
  },
  {
   "cell_type": "code",
   "execution_count": null,
   "metadata": {},
   "outputs": [],
   "source": [
    "import string\n",
    "\n",
    "string.digits"
   ]
  },
  {
   "cell_type": "markdown",
   "metadata": {},
   "source": [
    "### Write abcd Lower and Upper case letter"
   ]
  },
  {
   "cell_type": "code",
   "execution_count": null,
   "metadata": {},
   "outputs": [],
   "source": [
    "import string\n",
    "\n",
    "print(' '.join(string.ascii_lowercase))\n",
    "print(' '.join(string.ascii_uppercase))"
   ]
  },
  {
   "cell_type": "markdown",
   "metadata": {},
   "source": [
    "### Another Way --> Write abcd Lower and Upper case letter"
   ]
  },
  {
   "cell_type": "code",
   "execution_count": null,
   "metadata": {},
   "outputs": [],
   "source": [
    "from string import ascii_letters as asl\n",
    "\n",
    "print(' '.join(asl[:26]))\n",
    "print(' '.join(asl[26:]))"
   ]
  },
  {
   "cell_type": "markdown",
   "metadata": {},
   "source": [
    "### How to download youtube video?"
   ]
  },
  {
   "cell_type": "code",
   "execution_count": null,
   "metadata": {},
   "outputs": [],
   "source": [
    "import pafy\n",
    "import re\n",
    "\n",
    "url = 'https://youtu.be/k7ebhme9zV4?list=PLCOq7C_nEIDS39DejH5RT-d4CMflXKCmJ'\n",
    "if '?list':\n",
    "    url = url.partition('?list')[0]\n",
    "fetch = re.search(r'.{11}$', url).group()\n",
    "v = pafy.new(fetch)\n",
    "print('Available Streams:')\n",
    "print('*'*22)\n",
    "for i,j in enumerate(v.streams,1):\n",
    "    print(str(i)+'.',j)\n",
    "inp = int(input('\\nEnter Stream Number: '))\n",
    "d = v.streams[inp-1]\n",
    "d.download()"
   ]
  },
  {
   "cell_type": "markdown",
   "metadata": {},
   "source": [
    "### Download youTube Audio and Video"
   ]
  },
  {
   "cell_type": "code",
   "execution_count": null,
   "metadata": {},
   "outputs": [],
   "source": [
    "import pafy\n",
    "import re\n",
    "\n",
    "url = 'https://youtu.be/KYtmw1sDGms'\n",
    "url = url.partition('?list')[0]\n",
    "fetch = re.search(r'.{11}$', url).group()\n",
    "s = pafy.new(fetch)\n",
    "for i, j in enumerate(s.allstreams,1):\n",
    "    print('{:4}{:8} {:6} {:10} {}'.format(str(i)+'.',j.mediatype, j.extension, j.quality, j.bitrate))\n",
    "inp = int(input('\\nEnter Stream Number: '))\n",
    "d = s.allstreams[inp-1]\n",
    "d.download()"
   ]
  },
  {
   "cell_type": "markdown",
   "metadata": {},
   "source": [
    "### Check server staus"
   ]
  },
  {
   "cell_type": "code",
   "execution_count": null,
   "metadata": {},
   "outputs": [],
   "source": [
    "import os\n",
    "\n",
    "if os.getloadavg()[0] >= os.cpu_count() : \n",
    "    print('Your System is going critical')\n",
    "else:\n",
    "    print('Your System is running smooth')  "
   ]
  },
  {
   "cell_type": "markdown",
   "metadata": {},
   "source": [
    "### How to print negtive number without using minus?"
   ]
  },
  {
   "cell_type": "code",
   "execution_count": null,
   "metadata": {},
   "outputs": [],
   "source": [
    "for i in range(~4, 0):\n",
    "    print(i)\n"
   ]
  },
  {
   "cell_type": "markdown",
   "metadata": {},
   "source": [
    "### What is last number of this output?"
   ]
  },
  {
   "cell_type": "code",
   "execution_count": null,
   "metadata": {},
   "outputs": [],
   "source": [
    "for i in range(1, -~499):\n",
    "    print(i)\n",
    "    "
   ]
  },
  {
   "cell_type": "markdown",
   "metadata": {},
   "source": [
    "### How to find whether leap year or not?"
   ]
  },
  {
   "cell_type": "code",
   "execution_count": null,
   "metadata": {},
   "outputs": [],
   "source": [
    "import calendar as cal\n",
    "\n",
    "lst = [2011, 2012]\n",
    "\n",
    "for i in lst:\n",
    "    if cal.isleap(i):\n",
    "        print('Yes.',i,'is leap year')\n",
    "    else:\n",
    "        print('No. ',i,'not leap year')"
   ]
  },
  {
   "cell_type": "markdown",
   "metadata": {},
   "source": [
    "### How to find day name of particular date of year?"
   ]
  },
  {
   "cell_type": "code",
   "execution_count": null,
   "metadata": {},
   "outputs": [],
   "source": [
    "import calendar as cal\n",
    "\n",
    "def day_name (v1, v2, v3):\n",
    "    c = cal.weekday(v1, v2, v3)\n",
    "    print(cal.day_name[c])\n",
    "    \n",
    "day_name(2011, 4, 15)\n",
    "day_name(1977, 8, 17)\n"
   ]
  },
  {
   "cell_type": "markdown",
   "metadata": {},
   "source": [
    "### How to create 50 random digit?"
   ]
  },
  {
   "cell_type": "code",
   "execution_count": null,
   "metadata": {},
   "outputs": [],
   "source": [
    "from random import randint\n",
    "\n",
    "lst = [str(randint(0,9)) for i in range(1,50)]\n",
    "''.join(lst)"
   ]
  },
  {
   "cell_type": "markdown",
   "metadata": {},
   "source": [
    "### How to print ABCD?"
   ]
  },
  {
   "cell_type": "code",
   "execution_count": null,
   "metadata": {},
   "outputs": [],
   "source": [
    "for i in range(65,91):\n",
    "    print(chr(i), end = ' ')"
   ]
  },
  {
   "cell_type": "markdown",
   "metadata": {},
   "source": [
    "### How to print output same line while use fro loop?"
   ]
  },
  {
   "cell_type": "code",
   "execution_count": null,
   "metadata": {},
   "outputs": [],
   "source": [
    "for i in range(10):\n",
    "    print(i, end = ' ')"
   ]
  },
  {
   "cell_type": "markdown",
   "metadata": {},
   "source": [
    "### How to create alphabetical dictionary?"
   ]
  },
  {
   "cell_type": "code",
   "execution_count": null,
   "metadata": {},
   "outputs": [],
   "source": [
    "alpha = {}\n",
    "\n",
    "for i,j in enumerate(range(65,91), 1):\n",
    "    alpha[i] = chr(j)\n",
    "print(alpha)"
   ]
  },
  {
   "cell_type": "markdown",
   "metadata": {},
   "source": [
    "### How to find your Linux Distro?"
   ]
  },
  {
   "cell_type": "code",
   "execution_count": null,
   "metadata": {},
   "outputs": [],
   "source": [
    "from platform import dist\n",
    "\n",
    "' '.join(dist())"
   ]
  },
  {
   "cell_type": "markdown",
   "metadata": {},
   "source": [
    "### Remove duplicate elements"
   ]
  },
  {
   "cell_type": "code",
   "execution_count": null,
   "metadata": {},
   "outputs": [],
   "source": [
    "l = ['a', 'b','c', 'a']\n",
    "l = [i for i in set(l)]\n",
    "l"
   ]
  },
  {
   "cell_type": "markdown",
   "metadata": {},
   "source": [
    "### Sum of elements without builtin sum function"
   ]
  },
  {
   "cell_type": "code",
   "execution_count": null,
   "metadata": {},
   "outputs": [],
   "source": [
    "# Method : 1\n",
    "\n",
    "lst = (1, 2, 3)\n",
    "def fn(*args):\n",
    "    for i in args:\n",
    "        i += i  \n",
    "    return i\n",
    "fn(*lst)"
   ]
  },
  {
   "cell_type": "code",
   "execution_count": null,
   "metadata": {},
   "outputs": [],
   "source": [
    "# Method : 2\n",
    "\n",
    "lst = [1, 2, 3]\n",
    "for i in lst:\n",
    "    i += i    \n",
    "print(i)"
   ]
  },
  {
   "cell_type": "markdown",
   "metadata": {},
   "source": [
    "### How to separate of each 10 digit from this 50 digit?"
   ]
  },
  {
   "cell_type": "code",
   "execution_count": null,
   "metadata": {},
   "outputs": [],
   "source": [
    "# Method: 1\n",
    "    \n",
    "import re\n",
    "\n",
    "st = '72572444828386626992457852939574642925558441523343'\n",
    "print(re.findall(r'\\d{10}',st))"
   ]
  },
  {
   "cell_type": "code",
   "execution_count": null,
   "metadata": {},
   "outputs": [],
   "source": [
    "# Method: 2\n",
    "\n",
    "import re\n",
    "\n",
    "st = '72572444828386626992457852939574642925558441523343'\n",
    "l = [ st[i:i+10] for i in range(0, len(st), 10)]\n",
    "l"
   ]
  },
  {
   "cell_type": "markdown",
   "metadata": {},
   "source": [
    "### Sum of first 10 digit of 50 digit(st)"
   ]
  },
  {
   "cell_type": "code",
   "execution_count": null,
   "metadata": {},
   "outputs": [],
   "source": [
    "import re\n",
    "\n",
    "st = '72572444828386626992457852939574642925558441523343'\n",
    "\n",
    "fetch = re.match(r'\\d{10}',st).group()\n",
    "convert_int = [ int(i) for i in list(fetch)]\n",
    "sum(convert_int)\n"
   ]
  },
  {
   "cell_type": "markdown",
   "metadata": {},
   "source": [
    "### How do I calculate the hash sha256 checksum of a download file in Python?"
   ]
  },
  {
   "cell_type": "code",
   "execution_count": null,
   "metadata": {},
   "outputs": [],
   "source": [
    "from hashlib import sha256\n",
    "\n",
    "org_dig = '5748706937539418ee5707bd538c4f5eabae485d17aa49fb13ce2c9b70532433'\n",
    "dig = sha256(open('/home/joe/ubuntu-18.04.1-desktop-amd64.iso','rb').read()).hexdigest()\n",
    "\n",
    "if org_dig == dig:\n",
    "    print('File download Correctly.')\n",
    "else:\n",
    "    print('May be file corrupted while downloding.')"
   ]
  },
  {
   "cell_type": "markdown",
   "metadata": {},
   "source": [
    "### How to find your screen resloution?\n",
    "Linux and Mac OS"
   ]
  },
  {
   "cell_type": "code",
   "execution_count": null,
   "metadata": {},
   "outputs": [],
   "source": [
    "from subprocess import check_output \n",
    "import re\n",
    "\n",
    "for i in check_output(['xdpyinfo']).decode().splitlines():\n",
    "    if re.search(r'dimensions',i):\n",
    "        print('Screen Resloution:',i.split()[1])"
   ]
  },
  {
   "cell_type": "markdown",
   "metadata": {},
   "source": [
    "### Remove ! Character using maketrans and translate string method"
   ]
  },
  {
   "cell_type": "code",
   "execution_count": null,
   "metadata": {},
   "outputs": [],
   "source": [
    "st = 'Hello!'\n",
    "tr = str.maketrans('','','!')\n",
    "st.translate(tr)"
   ]
  },
  {
   "cell_type": "markdown",
   "metadata": {},
   "source": [
    "### Example of maketrans and translate"
   ]
  },
  {
   "cell_type": "code",
   "execution_count": null,
   "metadata": {},
   "outputs": [],
   "source": [
    "con = {'L': 'U'}\n",
    "st = 'Linux'\n",
    "tr = str.maketrans(con)\n",
    "st.translate(tr)"
   ]
  },
  {
   "cell_type": "markdown",
   "metadata": {},
   "source": [
    "### How to convert list from dictionary?"
   ]
  },
  {
   "cell_type": "code",
   "execution_count": null,
   "metadata": {},
   "outputs": [],
   "source": [
    "d = {'1': 'a', '2': 'b', '3': 'c'}\n",
    "\n",
    "sum(zip(d.keys(),d.values()), ())"
   ]
  },
  {
   "cell_type": "markdown",
   "metadata": {},
   "source": [
    "### How to exchange tuple itmes?"
   ]
  },
  {
   "cell_type": "code",
   "execution_count": null,
   "metadata": {},
   "outputs": [],
   "source": [
    "lst = [(1, 'one'), (2, 'two'), (3, 'three')]\n",
    "b = zip(*lst)\n",
    "list(b)"
   ]
  },
  {
   "cell_type": "markdown",
   "metadata": {},
   "source": [
    "### How to fetch year only from datetime?"
   ]
  },
  {
   "cell_type": "code",
   "execution_count": null,
   "metadata": {},
   "outputs": [],
   "source": [
    "from datetime import datetime\n",
    "today = datetime.today()\n",
    "print(today.year)"
   ]
  },
  {
   "cell_type": "markdown",
   "metadata": {},
   "source": [
    "### How to strip the date from variable?"
   ]
  },
  {
   "cell_type": "code",
   "execution_count": null,
   "metadata": {},
   "outputs": [],
   "source": [
    "from datetime import datetime\n",
    "\n",
    "my_date = '04-11-1977'\n",
    "date = datetime.strptime(my_date,'%d-%m-%Y')\n",
    "print(date.day,date.month,date.year)"
   ]
  },
  {
   "cell_type": "markdown",
   "metadata": {},
   "source": [
    "### How to find your age?"
   ]
  },
  {
   "cell_type": "code",
   "execution_count": null,
   "metadata": {},
   "outputs": [],
   "source": [
    "from datetime import datetime\n",
    "birth_date = '04-11-1977'\n",
    "today = datetime.today()\n",
    "birth_date_strip = datetime.strptime(birth_date,'%d-%m-%Y')\n",
    "age = today.year - birth_date_strip.year\n",
    "print('Age:',age,'Years')"
   ]
  },
  {
   "cell_type": "markdown",
   "metadata": {},
   "source": [
    "### Constructor "
   ]
  },
  {
   "cell_type": "code",
   "execution_count": null,
   "metadata": {},
   "outputs": [],
   "source": [
    "class student:\n",
    "    def __init__(self,name,age):\n",
    "        self.name = name\n",
    "        self.age = age\n",
    "        print('Student Object Created')\n",
    "        \n",
    "    def print_student(self):\n",
    "        print('Name:',self.name)\n",
    "        print('Age:',self.age)\n",
    "        \n",
    "stud1 = student('Manavalan', 70)\n",
    "stud1.print_student()"
   ]
  },
  {
   "cell_type": "markdown",
   "metadata": {},
   "source": [
    "### How to remove all 'A' starts elements?"
   ]
  },
  {
   "cell_type": "code",
   "execution_count": null,
   "metadata": {},
   "outputs": [],
   "source": [
    "lst = ['US', 'CA', 'GB', 'AF', 'AX']\n",
    "\n",
    "for i in lst:\n",
    "    if not i.startswith('A'):\n",
    "        print(i, end=' ')"
   ]
  },
  {
   "cell_type": "markdown",
   "metadata": {},
   "source": [
    "### How to compare alphabet character?"
   ]
  },
  {
   "cell_type": "code",
   "execution_count": null,
   "metadata": {},
   "outputs": [],
   "source": [
    "'A' < 'B'"
   ]
  },
  {
   "cell_type": "code",
   "execution_count": null,
   "metadata": {},
   "outputs": [],
   "source": [
    "'A' > 'B'"
   ]
  },
  {
   "cell_type": "markdown",
   "metadata": {},
   "source": [
    "### List Country with Code and Currencies"
   ]
  },
  {
   "cell_type": "code",
   "execution_count": null,
   "metadata": {},
   "outputs": [],
   "source": [
    "countries = {\"US\":\"United States\",\"CA\":\"Canada\",\"GB\":\"United Kingdom\",\"AR\":\"Argentina\",\"AU\":\"Australia\",\"AT\":\"Austria\",\"BE\":\"Belgium\",\"BR\":\"Brazil\",\"CL\":\"Chile\",\"CN\":\"China\",\"CO\":\"Colombia\",\"HR\":\"Croatia\",\"DK\":\"Denmark\",\"DO\":\"Dominican Republic\",\"EG\":\"Egypt\",\"FI\":\"Finland\",\"FR\":\"France\",\"DE\":\"Germany\",\"GR\":\"Greece\",\"HK\":\"Hong Kong\",\"IN\":\"India\",\"ID\":\"Indonesia\",\"IE\":\"Ireland\",\"IL\":\"Israel\",\"IT\":\"Italy\",\"JP\":\"Japan\",\"JO\":\"Jordan\",\"KW\":\"Kuwait\",\"LB\":\"Lebanon\",\"MY\":\"Malaysia\",\"MX\":\"Mexico\",\"NL\":\"Netherlands\",\"NZ\":\"New Zealand\",\"NG\":\"Nigeria\",\"NO\":\"Norway\",\"PK\":\"Pakistan\",\"PA\":\"Panama\",\"PE\":\"Peru\",\"PH\":\"Philippines\",\"PL\":\"Poland\",\"RU\":\"Russia\",\"SA\":\"Saudi Arabia\",\"RS\":\"Serbia\",\"SG\":\"Singapore\",\"ZA\":\"South Africa\",\"KR\":\"South Korea\",\"ES\":\"Spain\",\"SE\":\"Sweden\",\"CH\":\"Switzerland\",\"TW\":\"Taiwan\",\"TH\":\"Thailand\",\"TR\":\"Turkey\",\"AE\":\"United Arab Emirates\",\"VE\":\"Venezuela\",\"PT\":\"Portugal\",\"LU\":\"Luxembourg\",\"BG\":\"Bulgaria\",\"CZ\":\"Czech Republic\",\"SI\":\"Slovenia\",\"IS\":\"Iceland\",\"SK\":\"Slovakia\",\"LT\":\"Lithuania\",\"TT\":\"Trinidad and Tobago\",\"BD\":\"Bangladesh\",\"LK\":\"Sri Lanka\",\"KE\":\"Kenya\",\"HU\":\"Hungary\",\"MA\":\"Morocco\",\"CY\":\"Cyprus\",\"JM\":\"Jamaica\",\"EC\":\"Ecuador\",\"RO\":\"Romania\",\"BO\":\"Bolivia\",\"GT\":\"Guatemala\",\"CR\":\"Costa Rica\",\"QA\":\"Qatar\",\"SV\":\"El Salvador\",\"HN\":\"Honduras\",\"NI\":\"Nicaragua\",\"PY\":\"Paraguay\",\"UY\":\"Uruguay\",\"PR\":\"Puerto Rico\",\"BA\":\"Bosnia and Herzegovina\",\"PS\":\"Palestine\",\"TN\":\"Tunisia\",\"BH\":\"Bahrain\",\"VN\":\"Vietnam\",\"GH\":\"Ghana\",\"MU\":\"Mauritius\",\"UA\":\"Ukraine\",\"MT\":\"Malta\",\"BS\":\"The Bahamas\",\"MV\":\"Maldives\",\"OM\":\"Oman\",\"MK\":\"Macedonia\",\"LV\":\"Latvia\",\"EE\":\"Estonia\",\"IQ\":\"Iraq\",\"DZ\":\"Algeria\",\"AL\":\"Albania\",\"NP\":\"Nepal\",\"MO\":\"Macau\",\"ME\":\"Montenegro\",\"SN\":\"Senegal\",\"GE\":\"Georgia\",\"BN\":\"Brunei\",\"UG\":\"Uganda\",\"GP\":\"Guadeloupe\",\"BB\":\"Barbados\",\"AZ\":\"Azerbaijan\",\"TZ\":\"Tanzania\",\"LY\":\"Libya\",\"MQ\":\"Martinique\",\"CM\":\"Cameroon\",\"BW\":\"Botswana\",\"ET\":\"Ethiopia\",\"KZ\":\"Kazakhstan\",\"NA\":\"Namibia\",\"MG\":\"Madagascar\",\"NC\":\"New Caledonia\",\"MD\":\"Moldova\",\"FJ\":\"Fiji\",\"BY\":\"Belarus\",\"JE\":\"Jersey\",\"GU\":\"Guam\",\"YE\":\"Yemen\",\"ZM\":\"Zambia\",\"IM\":\"Isle Of Man\",\"HT\":\"Haiti\",\"KH\":\"Cambodia\",\"AW\":\"Aruba\",\"PF\":\"French Polynesia\",\"AF\":\"Afghanistan\",\"BM\":\"Bermuda\",\"GY\":\"Guyana\",\"AM\":\"Armenia\",\"MW\":\"Malawi\",\"AG\":\"Antigua\",\"RW\":\"Rwanda\",\"GG\":\"Guernsey\",\"GM\":\"The Gambia\",\"FO\":\"Faroe Islands\",\"LC\":\"St. Lucia\",\"KY\":\"Cayman Islands\",\"BJ\":\"Benin\",\"AD\":\"Andorra\",\"GD\":\"Grenada\",\"VI\":\"US Virgin Islands\",\"BZ\":\"Belize\",\"VC\":\"Saint Vincent and the Grenadines\",\"MN\":\"Mongolia\",\"MZ\":\"Mozambique\",\"ML\":\"Mali\",\"AO\":\"Angola\",\"GF\":\"French Guiana\",\"UZ\":\"Uzbekistan\",\"DJ\":\"Djibouti\",\"BF\":\"Burkina Faso\",\"MC\":\"Monaco\",\"TG\":\"Togo\",\"GL\":\"Greenland\",\"GA\":\"Gabon\",\"GI\":\"Gibraltar\",\"CD\":\"Democratic Republic of the Congo\",\"KG\":\"Kyrgyzstan\",\"PG\":\"Papua New Guinea\",\"BT\":\"Bhutan\",\"KN\":\"Saint Kitts and Nevis\",\"SZ\":\"Swaziland\",\"LS\":\"Lesotho\",\"LA\":\"Laos\",\"LI\":\"Liechtenstein\",\"MP\":\"Northern Mariana Islands\",\"SR\":\"Suriname\",\"SC\":\"Seychelles\",\"VG\":\"British Virgin Islands\",\"TC\":\"Turks and Caicos Islands\",\"DM\":\"Dominica\",\"MR\":\"Mauritania\",\"AX\":\"Aland Islands\",\"SM\":\"San Marino\",\"SL\":\"Sierra Leone\",\"NE\":\"Niger\",\"CG\":\"Republic of the Congo\",\"AI\":\"Anguilla\",\"YT\":\"Mayotte\",\"CV\":\"Cape Verde\",\"GN\":\"Guinea\",\"TM\":\"Turkmenistan\",\"BI\":\"Burundi\",\"TJ\":\"Tajikistan\",\"VU\":\"Vanuatu\",\"SB\":\"Solomon Islands\",\"ER\":\"Eritrea\",\"WS\":\"Samoa\",\"AS\":\"American Samoa\",\"FK\":\"Falkland Islands\",\"GQ\":\"Equatorial Guinea\",\"TO\":\"Tonga\",\"KM\":\"Comoros\",\"PW\":\"Palau\",\"FM\":\"Federated States of Micronesia\",\"CF\":\"Central African Republic\",\"SO\":\"Somalia\",\"MH\":\"Marshall Islands\",\"VA\":\"Vatican City\",\"TD\":\"Chad\",\"KI\":\"Kiribati\",\"ST\":\"Sao Tome and Principe\",\"TV\":\"Tuvalu\",\"NR\":\"Nauru\",\"RE\":\"R\\u00e9union\",\"LR\":\"Liberia\",\"ZW\":\"Zimbabwe\",\"CI\":\"C\\u00f4te d'Ivoire\",\"MM\":\"Myanmar\",\"AN\":\"Netherlands Antilles\",\"AQ\":\"Antarctica\",\"BQ\":\"Bonaire, Sint Eustatius and Saba\",\"BV\":\"Bouvet Island\",\"IO\":\"British Indian Ocean Territory\",\"CX\":\"Christmas Island\",\"CC\":\"Cocos (Keeling) Islands\",\"CK\":\"Cook Islands\",\"CW\":\"Cura\\u00e7ao\",\"TF\":\"French Southern Territories\",\"GW\":\"Guinea-Bissau\",\"HM\":\"Heard Island and McDonald Islands\",\"XK\":\"Kosovo\",\"MS\":\"Montserrat\",\"NU\":\"Niue\",\"NF\":\"Norfolk Island\",\"PN\":\"Pitcairn\",\"BL\":\"Saint Barth\\u00e9lemy\",\"SH\":\"Saint Helena\",\"MF\":\"Saint Martin\",\"PM\":\"Saint Pierre and Miquelon\",\"SX\":\"Sint Maarten\",\"GS\":\"South Georgia and the South Sandwich Islands\",\"SS\":\"South Sudan\",\"SJ\":\"Svalbard and Jan Mayen\",\"TL\":\"Timor-Leste\",\"TK\":\"Tokelau\",\"UM\":\"United States Minor Outlying Islands\",\"WF\":\"Wallis and Futuna\",\"EH\":\"Western Sahara\"}\n",
    "cur = {\"US\":\"USD\",\"CA\":\"CAD\",\"GB\":\"GBP\",\"AF\":\"USD\",\"AX\":\"USD\",\"AL\":\"USD\",\"DZ\":\"DZD\",\"AS\":\"USD\",\"AD\":\"USD\",\"AO\":\"USD\",\"AI\":\"USD\",\"AQ\":\"USD\",\"AG\":\"USD\",\"AR\":\"ARS\",\"AM\":\"USD\",\"AW\":\"USD\",\"AU\":\"AUD\",\"AT\":\"EUR\",\"AZ\":\"USD\",\"BH\":\"USD\",\"BD\":\"BDT\",\"BB\":\"USD\",\"BY\":\"USD\",\"BE\":\"EUR\",\"BZ\":\"USD\",\"BJ\":\"USD\",\"BM\":\"USD\",\"BT\":\"USD\",\"BO\":\"BOB\",\"BQ\":\"USD\",\"BA\":\"USD\",\"BW\":\"USD\",\"BV\":\"USD\",\"BR\":\"BRL\",\"IO\":\"USD\",\"VG\":\"USD\",\"BN\":\"USD\",\"BG\":\"USD\",\"BF\":\"USD\",\"BI\":\"USD\",\"KH\":\"USD\",\"CM\":\"USD\",\"CV\":\"USD\",\"KY\":\"USD\",\"CI\":\"USD\",\"CF\":\"USD\",\"TD\":\"USD\",\"CL\":\"CLP\",\"CN\":\"CNY\",\"CX\":\"USD\",\"CC\":\"USD\",\"CO\":\"COP\",\"KM\":\"USD\",\"CK\":\"USD\",\"CR\":\"CRC\",\"HR\":\"USD\",\"CU\":\"USD\",\"CW\":\"USD\",\"CY\":\"EUR\",\"CZ\":\"CZK\",\"CD\":\"USD\",\"DK\":\"DKK\",\"DJ\":\"USD\",\"DM\":\"USD\",\"DO\":\"USD\",\"EC\":\"USD\",\"EG\":\"EGP\",\"SV\":\"USD\",\"GQ\":\"USD\",\"ER\":\"USD\",\"EE\":\"EUR\",\"ET\":\"USD\",\"FK\":\"USD\",\"FO\":\"USD\",\"FM\":\"USD\",\"FJ\":\"USD\",\"FI\":\"EUR\",\"FR\":\"EUR\",\"GF\":\"USD\",\"PF\":\"USD\",\"TF\":\"USD\",\"GA\":\"USD\",\"GE\":\"USD\",\"DE\":\"EUR\",\"GH\":\"USD\",\"GI\":\"USD\",\"GR\":\"EUR\",\"GL\":\"USD\",\"GD\":\"USD\",\"GP\":\"USD\",\"GU\":\"USD\",\"GT\":\"GTQ\",\"GG\":\"USD\",\"GN\":\"USD\",\"GW\":\"USD\",\"GY\":\"USD\",\"HT\":\"USD\",\"HM\":\"USD\",\"HN\":\"HNL\",\"HK\":\"HKD\",\"HU\":\"HUF\",\"IS\":\"ISK\",\"IN\":\"INR\",\"ID\":\"IDR\",\"IR\":\"USD\",\"IQ\":\"USD\",\"IE\":\"EUR\",\"IM\":\"USD\",\"IL\":\"ILS\",\"IT\":\"EUR\",\"JM\":\"USD\",\"JP\":\"JPY\",\"JE\":\"USD\",\"JO\":\"USD\",\"KZ\":\"USD\",\"KE\":\"KES\",\"KI\":\"USD\",\"XK\":\"USD\",\"KW\":\"USD\",\"KG\":\"USD\",\"LA\":\"USD\",\"LV\":\"USD\",\"LB\":\"USD\",\"LS\":\"ZAR\",\"LR\":\"USD\",\"LY\":\"USD\",\"LI\":\"USD\",\"LT\":\"USD\",\"LU\":\"EUR\",\"MO\":\"MOP\",\"MK\":\"USD\",\"MG\":\"USD\",\"MW\":\"USD\",\"MY\":\"MYR\",\"MV\":\"USD\",\"ML\":\"USD\",\"MT\":\"EUR\",\"MH\":\"USD\",\"MQ\":\"USD\",\"MR\":\"USD\",\"MU\":\"USD\",\"YT\":\"USD\",\"MX\":\"MXN\",\"MD\":\"USD\",\"MC\":\"EUR\",\"MN\":\"USD\",\"ME\":\"USD\",\"MS\":\"USD\",\"MA\":\"USD\",\"MZ\":\"USD\",\"MM\":\"USD\",\"NA\":\"ZAR\",\"NR\":\"USD\",\"NP\":\"USD\",\"NL\":\"EUR\",\"AN\":\"USD\",\"NC\":\"USD\",\"NZ\":\"NZD\",\"NI\":\"NIO\",\"NE\":\"USD\",\"NG\":\"NGN\",\"NU\":\"USD\",\"NF\":\"USD\",\"KP\":\"USD\",\"MP\":\"USD\",\"NO\":\"NOK\",\"OM\":\"USD\",\"PK\":\"PKR\",\"PW\":\"USD\",\"PS\":\"USD\",\"PA\":\"USD\",\"PG\":\"USD\",\"PY\":\"PYG\",\"PE\":\"PEN\",\"PH\":\"PHP\",\"PN\":\"USD\",\"PL\":\"PLN\",\"PT\":\"EUR\",\"PR\":\"USD\",\"QA\":\"QAR\",\"RE\":\"USD\",\"CG\":\"USD\",\"RO\":\"RON\",\"RU\":\"RUB\",\"RW\":\"USD\",\"BL\":\"USD\",\"SH\":\"USD\",\"KN\":\"USD\",\"MF\":\"USD\",\"PM\":\"USD\",\"VC\":\"USD\",\"WS\":\"USD\",\"SM\":\"USD\",\"ST\":\"USD\",\"SA\":\"SAR\",\"SN\":\"USD\",\"RS\":\"USD\",\"SC\":\"USD\",\"SL\":\"USD\",\"SG\":\"SGD\",\"SX\":\"USD\",\"SK\":\"EUR\",\"SI\":\"EUR\",\"SB\":\"USD\",\"SO\":\"USD\",\"ZA\":\"ZAR\",\"GS\":\"USD\",\"KR\":\"KRW\",\"SS\":\"USD\",\"ES\":\"EUR\",\"LK\":\"USD\",\"LC\":\"USD\",\"SD\":\"USD\",\"SR\":\"USD\",\"SJ\":\"USD\",\"SZ\":\"ZAR\",\"SE\":\"SEK\",\"CH\":\"CHF\",\"SY\":\"USD\",\"TW\":\"TWD\",\"TJ\":\"USD\",\"TZ\":\"USD\",\"TH\":\"THB\",\"BS\":\"USD\",\"GM\":\"USD\",\"TL\":\"USD\",\"TG\":\"USD\",\"TK\":\"USD\",\"TO\":\"USD\",\"TT\":\"USD\",\"TN\":\"USD\",\"TR\":\"TRY\",\"TM\":\"USD\",\"TC\":\"USD\",\"TV\":\"USD\",\"UG\":\"USD\",\"UA\":\"USD\",\"AE\":\"AED\",\"UM\":\"USD\",\"UY\":\"UYU\",\"VI\":\"USD\",\"UZ\":\"USD\",\"VU\":\"USD\",\"VA\":\"USD\",\"VE\":\"VEF\",\"VN\":\"VND\",\"WF\":\"USD\",\"EH\":\"USD\",\"YE\":\"USD\",\"ZM\":\"USD\",\"ZW\":\"USD\"}\n",
    "coutries_currency = {}\n",
    "for i,j in countries.items():\n",
    "    for k,l in cur.items():\n",
    "        if i == k:\n",
    "            coutries_currency[i] = [ j,l ]\n",
    "print('{:^6} {:>8} {:>43}'.format('CODE','Country','Currency'))\n",
    "print('*'*60)\n",
    "for x,y in coutries_currency.items():\n",
    "    print('{:^7} {:44} {:4} '.format(x,y[0],y[1]))\n",
    "            "
   ]
  },
  {
   "cell_type": "markdown",
   "metadata": {},
   "source": [
    "### Currency"
   ]
  },
  {
   "cell_type": "code",
   "execution_count": null,
   "metadata": {},
   "outputs": [],
   "source": [
    "cur = {\"US\":\"USD\",\"CA\":\"CAD\",\"GB\":\"GBP\",\"AF\":\"USD\",\"AX\":\"USD\",\"AL\":\"USD\",\"DZ\":\"DZD\",\"AS\":\"USD\",\"AD\":\"USD\",\"AO\":\"USD\",\"AI\":\"USD\",\"AQ\":\"USD\",\"AG\":\"USD\",\"AR\":\"ARS\",\"AM\":\"USD\",\"AW\":\"USD\",\"AU\":\"AUD\",\"AT\":\"EUR\",\"AZ\":\"USD\",\"BH\":\"USD\",\"BD\":\"BDT\",\"BB\":\"USD\",\"BY\":\"USD\",\"BE\":\"EUR\",\"BZ\":\"USD\",\"BJ\":\"USD\",\"BM\":\"USD\",\"BT\":\"USD\",\"BO\":\"BOB\",\"BQ\":\"USD\",\"BA\":\"USD\",\"BW\":\"USD\",\"BV\":\"USD\",\"BR\":\"BRL\",\"IO\":\"USD\",\"VG\":\"USD\",\"BN\":\"USD\",\"BG\":\"USD\",\"BF\":\"USD\",\"BI\":\"USD\",\"KH\":\"USD\",\"CM\":\"USD\",\"CV\":\"USD\",\"KY\":\"USD\",\"CI\":\"USD\",\"CF\":\"USD\",\"TD\":\"USD\",\"CL\":\"CLP\",\"CN\":\"CNY\",\"CX\":\"USD\",\"CC\":\"USD\",\"CO\":\"COP\",\"KM\":\"USD\",\"CK\":\"USD\",\"CR\":\"CRC\",\"HR\":\"USD\",\"CU\":\"USD\",\"CW\":\"USD\",\"CY\":\"EUR\",\"CZ\":\"CZK\",\"CD\":\"USD\",\"DK\":\"DKK\",\"DJ\":\"USD\",\"DM\":\"USD\",\"DO\":\"USD\",\"EC\":\"USD\",\"EG\":\"EGP\",\"SV\":\"USD\",\"GQ\":\"USD\",\"ER\":\"USD\",\"EE\":\"EUR\",\"ET\":\"USD\",\"FK\":\"USD\",\"FO\":\"USD\",\"FM\":\"USD\",\"FJ\":\"USD\",\"FI\":\"EUR\",\"FR\":\"EUR\",\"GF\":\"USD\",\"PF\":\"USD\",\"TF\":\"USD\",\"GA\":\"USD\",\"GE\":\"USD\",\"DE\":\"EUR\",\"GH\":\"USD\",\"GI\":\"USD\",\"GR\":\"EUR\",\"GL\":\"USD\",\"GD\":\"USD\",\"GP\":\"USD\",\"GU\":\"USD\",\"GT\":\"GTQ\",\"GG\":\"USD\",\"GN\":\"USD\",\"GW\":\"USD\",\"GY\":\"USD\",\"HT\":\"USD\",\"HM\":\"USD\",\"HN\":\"HNL\",\"HK\":\"HKD\",\"HU\":\"HUF\",\"IS\":\"ISK\",\"IN\":\"INR\",\"ID\":\"IDR\",\"IR\":\"USD\",\"IQ\":\"USD\",\"IE\":\"EUR\",\"IM\":\"USD\",\"IL\":\"ILS\",\"IT\":\"EUR\",\"JM\":\"USD\",\"JP\":\"JPY\",\"JE\":\"USD\",\"JO\":\"USD\",\"KZ\":\"USD\",\"KE\":\"KES\",\"KI\":\"USD\",\"XK\":\"USD\",\"KW\":\"USD\",\"KG\":\"USD\",\"LA\":\"USD\",\"LV\":\"USD\",\"LB\":\"USD\",\"LS\":\"ZAR\",\"LR\":\"USD\",\"LY\":\"USD\",\"LI\":\"USD\",\"LT\":\"USD\",\"LU\":\"EUR\",\"MO\":\"MOP\",\"MK\":\"USD\",\"MG\":\"USD\",\"MW\":\"USD\",\"MY\":\"MYR\",\"MV\":\"USD\",\"ML\":\"USD\",\"MT\":\"EUR\",\"MH\":\"USD\",\"MQ\":\"USD\",\"MR\":\"USD\",\"MU\":\"USD\",\"YT\":\"USD\",\"MX\":\"MXN\",\"MD\":\"USD\",\"MC\":\"EUR\",\"MN\":\"USD\",\"ME\":\"USD\",\"MS\":\"USD\",\"MA\":\"USD\",\"MZ\":\"USD\",\"MM\":\"USD\",\"NA\":\"ZAR\",\"NR\":\"USD\",\"NP\":\"USD\",\"NL\":\"EUR\",\"AN\":\"USD\",\"NC\":\"USD\",\"NZ\":\"NZD\",\"NI\":\"NIO\",\"NE\":\"USD\",\"NG\":\"NGN\",\"NU\":\"USD\",\"NF\":\"USD\",\"KP\":\"USD\",\"MP\":\"USD\",\"NO\":\"NOK\",\"OM\":\"USD\",\"PK\":\"PKR\",\"PW\":\"USD\",\"PS\":\"USD\",\"PA\":\"USD\",\"PG\":\"USD\",\"PY\":\"PYG\",\"PE\":\"PEN\",\"PH\":\"PHP\",\"PN\":\"USD\",\"PL\":\"PLN\",\"PT\":\"EUR\",\"PR\":\"USD\",\"QA\":\"QAR\",\"RE\":\"USD\",\"CG\":\"USD\",\"RO\":\"RON\",\"RU\":\"RUB\",\"RW\":\"USD\",\"BL\":\"USD\",\"SH\":\"USD\",\"KN\":\"USD\",\"MF\":\"USD\",\"PM\":\"USD\",\"VC\":\"USD\",\"WS\":\"USD\",\"SM\":\"USD\",\"ST\":\"USD\",\"SA\":\"SAR\",\"SN\":\"USD\",\"RS\":\"USD\",\"SC\":\"USD\",\"SL\":\"USD\",\"SG\":\"SGD\",\"SX\":\"USD\",\"SK\":\"EUR\",\"SI\":\"EUR\",\"SB\":\"USD\",\"SO\":\"USD\",\"ZA\":\"ZAR\",\"GS\":\"USD\",\"KR\":\"KRW\",\"SS\":\"USD\",\"ES\":\"EUR\",\"LK\":\"USD\",\"LC\":\"USD\",\"SD\":\"USD\",\"SR\":\"USD\",\"SJ\":\"USD\",\"SZ\":\"ZAR\",\"SE\":\"SEK\",\"CH\":\"CHF\",\"SY\":\"USD\",\"TW\":\"TWD\",\"TJ\":\"USD\",\"TZ\":\"USD\",\"TH\":\"THB\",\"BS\":\"USD\",\"GM\":\"USD\",\"TL\":\"USD\",\"TG\":\"USD\",\"TK\":\"USD\",\"TO\":\"USD\",\"TT\":\"USD\",\"TN\":\"USD\",\"TR\":\"TRY\",\"TM\":\"USD\",\"TC\":\"USD\",\"TV\":\"USD\",\"UG\":\"USD\",\"UA\":\"USD\",\"AE\":\"AED\",\"UM\":\"USD\",\"UY\":\"UYU\",\"VI\":\"USD\",\"UZ\":\"USD\",\"VU\":\"USD\",\"VA\":\"USD\",\"VE\":\"VEF\",\"VN\":\"VND\",\"WF\":\"USD\",\"EH\":\"USD\",\"YE\":\"USD\",\"ZM\":\"USD\",\"ZW\":\"USD\"}\n",
    "\n",
    "for i,j in cur.items():\n",
    "    print(i,j)"
   ]
  },
  {
   "cell_type": "markdown",
   "metadata": {},
   "source": [
    "### Country Code"
   ]
  },
  {
   "cell_type": "code",
   "execution_count": null,
   "metadata": {},
   "outputs": [],
   "source": [
    "d = {\"US\":\"United States\",\"CA\":\"Canada\",\"GB\":\"United Kingdom\",\"AR\":\"Argentina\",\"AU\":\"Australia\",\"AT\":\"Austria\",\"BE\":\"Belgium\",\"BR\":\"Brazil\",\"CL\":\"Chile\",\"CN\":\"China\",\"CO\":\"Colombia\",\"HR\":\"Croatia\",\"DK\":\"Denmark\",\"DO\":\"Dominican Republic\",\"EG\":\"Egypt\",\"FI\":\"Finland\",\"FR\":\"France\",\"DE\":\"Germany\",\"GR\":\"Greece\",\"HK\":\"Hong Kong\",\"IN\":\"India\",\"ID\":\"Indonesia\",\"IE\":\"Ireland\",\"IL\":\"Israel\",\"IT\":\"Italy\",\"JP\":\"Japan\",\"JO\":\"Jordan\",\"KW\":\"Kuwait\",\"LB\":\"Lebanon\",\"MY\":\"Malaysia\",\"MX\":\"Mexico\",\"NL\":\"Netherlands\",\"NZ\":\"New Zealand\",\"NG\":\"Nigeria\",\"NO\":\"Norway\",\"PK\":\"Pakistan\",\"PA\":\"Panama\",\"PE\":\"Peru\",\"PH\":\"Philippines\",\"PL\":\"Poland\",\"RU\":\"Russia\",\"SA\":\"Saudi Arabia\",\"RS\":\"Serbia\",\"SG\":\"Singapore\",\"ZA\":\"South Africa\",\"KR\":\"South Korea\",\"ES\":\"Spain\",\"SE\":\"Sweden\",\"CH\":\"Switzerland\",\"TW\":\"Taiwan\",\"TH\":\"Thailand\",\"TR\":\"Turkey\",\"AE\":\"United Arab Emirates\",\"VE\":\"Venezuela\",\"PT\":\"Portugal\",\"LU\":\"Luxembourg\",\"BG\":\"Bulgaria\",\"CZ\":\"Czech Republic\",\"SI\":\"Slovenia\",\"IS\":\"Iceland\",\"SK\":\"Slovakia\",\"LT\":\"Lithuania\",\"TT\":\"Trinidad and Tobago\",\"BD\":\"Bangladesh\",\"LK\":\"Sri Lanka\",\"KE\":\"Kenya\",\"HU\":\"Hungary\",\"MA\":\"Morocco\",\"CY\":\"Cyprus\",\"JM\":\"Jamaica\",\"EC\":\"Ecuador\",\"RO\":\"Romania\",\"BO\":\"Bolivia\",\"GT\":\"Guatemala\",\"CR\":\"Costa Rica\",\"QA\":\"Qatar\",\"SV\":\"El Salvador\",\"HN\":\"Honduras\",\"NI\":\"Nicaragua\",\"PY\":\"Paraguay\",\"UY\":\"Uruguay\",\"PR\":\"Puerto Rico\",\"BA\":\"Bosnia and Herzegovina\",\"PS\":\"Palestine\",\"TN\":\"Tunisia\",\"BH\":\"Bahrain\",\"VN\":\"Vietnam\",\"GH\":\"Ghana\",\"MU\":\"Mauritius\",\"UA\":\"Ukraine\",\"MT\":\"Malta\",\"BS\":\"The Bahamas\",\"MV\":\"Maldives\",\"OM\":\"Oman\",\"MK\":\"Macedonia\",\"LV\":\"Latvia\",\"EE\":\"Estonia\",\"IQ\":\"Iraq\",\"DZ\":\"Algeria\",\"AL\":\"Albania\",\"NP\":\"Nepal\",\"MO\":\"Macau\",\"ME\":\"Montenegro\",\"SN\":\"Senegal\",\"GE\":\"Georgia\",\"BN\":\"Brunei\",\"UG\":\"Uganda\",\"GP\":\"Guadeloupe\",\"BB\":\"Barbados\",\"AZ\":\"Azerbaijan\",\"TZ\":\"Tanzania\",\"LY\":\"Libya\",\"MQ\":\"Martinique\",\"CM\":\"Cameroon\",\"BW\":\"Botswana\",\"ET\":\"Ethiopia\",\"KZ\":\"Kazakhstan\",\"NA\":\"Namibia\",\"MG\":\"Madagascar\",\"NC\":\"New Caledonia\",\"MD\":\"Moldova\",\"FJ\":\"Fiji\",\"BY\":\"Belarus\",\"JE\":\"Jersey\",\"GU\":\"Guam\",\"YE\":\"Yemen\",\"ZM\":\"Zambia\",\"IM\":\"Isle Of Man\",\"HT\":\"Haiti\",\"KH\":\"Cambodia\",\"AW\":\"Aruba\",\"PF\":\"French Polynesia\",\"AF\":\"Afghanistan\",\"BM\":\"Bermuda\",\"GY\":\"Guyana\",\"AM\":\"Armenia\",\"MW\":\"Malawi\",\"AG\":\"Antigua\",\"RW\":\"Rwanda\",\"GG\":\"Guernsey\",\"GM\":\"The Gambia\",\"FO\":\"Faroe Islands\",\"LC\":\"St. Lucia\",\"KY\":\"Cayman Islands\",\"BJ\":\"Benin\",\"AD\":\"Andorra\",\"GD\":\"Grenada\",\"VI\":\"US Virgin Islands\",\"BZ\":\"Belize\",\"VC\":\"Saint Vincent and the Grenadines\",\"MN\":\"Mongolia\",\"MZ\":\"Mozambique\",\"ML\":\"Mali\",\"AO\":\"Angola\",\"GF\":\"French Guiana\",\"UZ\":\"Uzbekistan\",\"DJ\":\"Djibouti\",\"BF\":\"Burkina Faso\",\"MC\":\"Monaco\",\"TG\":\"Togo\",\"GL\":\"Greenland\",\"GA\":\"Gabon\",\"GI\":\"Gibraltar\",\"CD\":\"Democratic Republic of the Congo\",\"KG\":\"Kyrgyzstan\",\"PG\":\"Papua New Guinea\",\"BT\":\"Bhutan\",\"KN\":\"Saint Kitts and Nevis\",\"SZ\":\"Swaziland\",\"LS\":\"Lesotho\",\"LA\":\"Laos\",\"LI\":\"Liechtenstein\",\"MP\":\"Northern Mariana Islands\",\"SR\":\"Suriname\",\"SC\":\"Seychelles\",\"VG\":\"British Virgin Islands\",\"TC\":\"Turks and Caicos Islands\",\"DM\":\"Dominica\",\"MR\":\"Mauritania\",\"AX\":\"Aland Islands\",\"SM\":\"San Marino\",\"SL\":\"Sierra Leone\",\"NE\":\"Niger\",\"CG\":\"Republic of the Congo\",\"AI\":\"Anguilla\",\"YT\":\"Mayotte\",\"CV\":\"Cape Verde\",\"GN\":\"Guinea\",\"TM\":\"Turkmenistan\",\"BI\":\"Burundi\",\"TJ\":\"Tajikistan\",\"VU\":\"Vanuatu\",\"SB\":\"Solomon Islands\",\"ER\":\"Eritrea\",\"WS\":\"Samoa\",\"AS\":\"American Samoa\",\"FK\":\"Falkland Islands\",\"GQ\":\"Equatorial Guinea\",\"TO\":\"Tonga\",\"KM\":\"Comoros\",\"PW\":\"Palau\",\"FM\":\"Federated States of Micronesia\",\"CF\":\"Central African Republic\",\"SO\":\"Somalia\",\"MH\":\"Marshall Islands\",\"VA\":\"Vatican City\",\"TD\":\"Chad\",\"KI\":\"Kiribati\",\"ST\":\"Sao Tome and Principe\",\"TV\":\"Tuvalu\",\"NR\":\"Nauru\",\"RE\":\"R\\u00e9union\",\"LR\":\"Liberia\",\"ZW\":\"Zimbabwe\",\"CI\":\"C\\u00f4te d'Ivoire\",\"MM\":\"Myanmar\",\"AN\":\"Netherlands Antilles\",\"AQ\":\"Antarctica\",\"BQ\":\"Bonaire, Sint Eustatius and Saba\",\"BV\":\"Bouvet Island\",\"IO\":\"British Indian Ocean Territory\",\"CX\":\"Christmas Island\",\"CC\":\"Cocos (Keeling) Islands\",\"CK\":\"Cook Islands\",\"CW\":\"Cura\\u00e7ao\",\"TF\":\"French Southern Territories\",\"GW\":\"Guinea-Bissau\",\"HM\":\"Heard Island and McDonald Islands\",\"XK\":\"Kosovo\",\"MS\":\"Montserrat\",\"NU\":\"Niue\",\"NF\":\"Norfolk Island\",\"PN\":\"Pitcairn\",\"BL\":\"Saint Barth\\u00e9lemy\",\"SH\":\"Saint Helena\",\"MF\":\"Saint Martin\",\"PM\":\"Saint Pierre and Miquelon\",\"SX\":\"Sint Maarten\",\"GS\":\"South Georgia and the South Sandwich Islands\",\"SS\":\"South Sudan\",\"SJ\":\"Svalbard and Jan Mayen\",\"TL\":\"Timor-Leste\",\"TK\":\"Tokelau\",\"UM\":\"United States Minor Outlying Islands\",\"WF\":\"Wallis and Futuna\",\"EH\":\"Western Sahara\"}\n",
    "for i,j in d.items():\n",
    "    print(i,j)"
   ]
  },
  {
   "cell_type": "markdown",
   "metadata": {},
   "source": [
    "### Carriage Return '\\r'"
   ]
  },
  {
   "cell_type": "code",
   "execution_count": null,
   "metadata": {},
   "outputs": [],
   "source": [
    "from time import sleep\n",
    "for i in range(10):\n",
    "    print(i, end = '\\r')\n",
    "    sleep(3)"
   ]
  },
  {
   "cell_type": "markdown",
   "metadata": {},
   "source": [
    "### Sleep in 3 Seconds"
   ]
  },
  {
   "cell_type": "code",
   "execution_count": null,
   "metadata": {},
   "outputs": [],
   "source": [
    "from time import sleep\n",
    "for i in range(10):\n",
    "    print(i, end = '\\r')\n",
    "    sleep(3)"
   ]
  },
  {
   "cell_type": "markdown",
   "metadata": {},
   "source": [
    "### How to join all items?"
   ]
  },
  {
   "cell_type": "code",
   "execution_count": null,
   "metadata": {},
   "outputs": [],
   "source": [
    "lst = [ (1,'a'), (2,'b'), (3,'c')]\n",
    "sum(lst, ())"
   ]
  },
  {
   "cell_type": "markdown",
   "metadata": {},
   "source": [
    "### Format tuple items"
   ]
  },
  {
   "cell_type": "code",
   "execution_count": null,
   "metadata": {},
   "outputs": [],
   "source": [
    "lst = [ (1,'a'), (2,'b'), (3,'c')]\n",
    "\n",
    "for j,k in zip(*[iter(sum(lst, ()))] *2):\n",
    "    print('{:} {:>5}'.format(j,k))"
   ]
  },
  {
   "cell_type": "markdown",
   "metadata": {},
   "source": [
    "### print ACSII Character "
   ]
  },
  {
   "cell_type": "code",
   "execution_count": null,
   "metadata": {},
   "outputs": [],
   "source": [
    "# Here, I print ASCII Character along with decimal number.\n",
    "lst = [ (i,chr(i)) for i in range(33,127) ]\n",
    "\n",
    "for j,k,l,m,n,o,p,q in zip(*[iter(sum(lst, ()))] *8):\n",
    "    print('{:5} {:5} {:5} {:5} {:5} {:5} {:5} {:5}'.format(j,k,l,m,n,o,p,q))"
   ]
  },
  {
   "cell_type": "markdown",
   "metadata": {},
   "source": [
    "### How to check string contain atleast one Upper,Lower,Decimal and Symbol letter?"
   ]
  },
  {
   "cell_type": "code",
   "execution_count": null,
   "metadata": {},
   "outputs": [],
   "source": [
    "import re\n",
    "\n",
    "st = '4@pcGJ6'\n",
    "rgx = ['\\W', '[a-z]', '[A-Z]', '\\d']\n",
    "l = list(filter(lambda x: re.search(r''+x+'',st), rgx))\n",
    "if len(l) == 4:\n",
    "    print('Yes.String {} contain 1 Upper,Lower,Decimal and Symbol letter.'.format(repr(st)))\n",
    "else:\n",
    "    print('No')"
   ]
  },
  {
   "cell_type": "markdown",
   "metadata": {},
   "source": [
    "### How to generate password atleast one Upper,Lower,Decimal and Symbol letter?"
   ]
  },
  {
   "cell_type": "code",
   "execution_count": null,
   "metadata": {},
   "outputs": [],
   "source": [
    "import re\n",
    "from random import choice\n",
    "\n",
    "def gnerate_password():\n",
    "    global passwd\n",
    "    global match\n",
    "    lst = [(33,91), (97,127)]\n",
    "    collect_chr = [chr(k) for i,j in lst for k in range(i,j)]\n",
    "    passwd = ''.join([choice(collect_chr) for l in range(1,9) ])\n",
    "    rgx = ['\\W', '[a-z]', '[A-Z]', '\\d']\n",
    "    match = list(filter(lambda x: re.search(r''+x+'',passwd), rgx))\n",
    "\n",
    "gnerate_password() \n",
    "\n",
    "while True:\n",
    "    if len(match) == 4:\n",
    "        print(passwd)\n",
    "        break\n",
    "    else:\n",
    "        gnerate_password() "
   ]
  },
  {
   "cell_type": "markdown",
   "metadata": {},
   "source": [
    "### Get Your Choice"
   ]
  },
  {
   "cell_type": "code",
   "execution_count": null,
   "metadata": {},
   "outputs": [],
   "source": [
    "from random import choice\n",
    "\n",
    "fruit = ['Apple', 'Orange', 'Mango', 'Bannana']\n",
    "choice(fruit)"
   ]
  },
  {
   "cell_type": "markdown",
   "metadata": {},
   "source": [
    "### How to generate Password?"
   ]
  },
  {
   "cell_type": "code",
   "execution_count": null,
   "metadata": {},
   "outputs": [],
   "source": [
    "from random import choice\n",
    "\n",
    "lst = [(33,91), (97,127)]\n",
    "collect_chr = [chr(k) for i,j in lst for k in range(i,j)]\n",
    "passwd = ''.join([choice(collect_chr) for l in range(1,9) ])\n",
    "print(passwd)"
   ]
  },
  {
   "cell_type": "markdown",
   "metadata": {},
   "source": [
    "### How to separate list a,b,c and 1,2,3?"
   ]
  },
  {
   "cell_type": "code",
   "execution_count": null,
   "metadata": {},
   "outputs": [],
   "source": [
    "list(zip(*[('a', 1), ('b', 2), ('c', 3), ('d', 4)]))"
   ]
  },
  {
   "cell_type": "markdown",
   "metadata": {},
   "source": [
    "###  zip "
   ]
  },
  {
   "cell_type": "code",
   "execution_count": null,
   "metadata": {},
   "outputs": [],
   "source": [
    "# Zip\n",
    "a = [1, 2, 3]\n",
    "b = ['Raj', 'Antony', 'Murugan']\n",
    "\n",
    "compose = zip(a,b)\n",
    "print(list(compose))\n",
    "\n"
   ]
  },
  {
   "cell_type": "markdown",
   "metadata": {},
   "source": [
    "### Unzip - Inverse zip"
   ]
  },
  {
   "cell_type": "code",
   "execution_count": null,
   "metadata": {},
   "outputs": [],
   "source": [
    "a = [1, 2, 3]\n",
    "b = ['Raj', 'Antony', 'Murugan']\n",
    "\n",
    "compose = zip(a,b)\n",
    "# Unzip\n",
    "a, b = zip(*compose)\n",
    "print(a)\n",
    "print(b)"
   ]
  },
  {
   "cell_type": "markdown",
   "metadata": {},
   "source": [
    "### Match Correct Answer"
   ]
  },
  {
   "cell_type": "code",
   "execution_count": null,
   "metadata": {},
   "outputs": [],
   "source": [
    "print('Before Matched:')\n",
    "print('*'*15)\n",
    "dt = {'USA': 'Delhi', 'UK': 'Berlin', 'Germany':  'Washington', 'India':  'London'}\n",
    "for a,b in dt.items():\n",
    "     print('{:8} {:8}'.format(a,b))\n",
    "print('')\n",
    "print('After Matched:')\n",
    "print('*'*14)\n",
    "dt['USA'],dt['UK'],dt['Germany'],dt['India'] = dt['Germany'],dt['India'],dt['UK'],dt['USA']\n",
    "for i,j in dt.items():\n",
    "    print('{:8} {:8}'.format(i,j))"
   ]
  },
  {
   "cell_type": "markdown",
   "metadata": {},
   "source": [
    "### How to exange value in Dictionary?"
   ]
  },
  {
   "cell_type": "code",
   "execution_count": null,
   "metadata": {},
   "outputs": [],
   "source": [
    "dt = {'USA': 'London', 'UK': 'Washington'}\n",
    "\n",
    "dt['USA'], dt['UK'] = dt['UK'], dt['USA']\n",
    "\n",
    "print('USA Capital', dt['USA'])\n",
    "print('UK Capital', dt['UK'])"
   ]
  },
  {
   "cell_type": "markdown",
   "metadata": {},
   "source": [
    "### How to create dictionary from keyword and value?"
   ]
  },
  {
   "cell_type": "code",
   "execution_count": null,
   "metadata": {},
   "outputs": [],
   "source": [
    "dict(USA = 'Washington', UK = 'London', Germany = 'Berlin', India = 'Delhi')"
   ]
  },
  {
   "cell_type": "markdown",
   "metadata": {},
   "source": [
    "### How to create dictionary from zip function?"
   ]
  },
  {
   "cell_type": "code",
   "execution_count": null,
   "metadata": {},
   "outputs": [],
   "source": [
    "name = ['Richard', 'Robert', 'Wills', 'Xavier']\n",
    "age = [23, 28, 12, 43]\n",
    "\n",
    "dict(zip(name,age))"
   ]
  },
  {
   "cell_type": "markdown",
   "metadata": {},
   "source": [
    "### Generate random hash"
   ]
  },
  {
   "cell_type": "code",
   "execution_count": null,
   "metadata": {},
   "outputs": [],
   "source": [
    "import random\n",
    "\n",
    "print(hex(random.getrandbits(96)).lstrip('0x'))"
   ]
  },
  {
   "cell_type": "markdown",
   "metadata": {},
   "source": [
    "### Generate random hash using different Bits"
   ]
  },
  {
   "cell_type": "code",
   "execution_count": null,
   "metadata": {},
   "outputs": [],
   "source": [
    "def my_hash(bits=48):\n",
    "    assert bits % 8 == 0\n",
    "    return hex(random.getrandbits(bits)).lstrip('0x')\n",
    "\n",
    "print(my_hash()) # This is use default value 48\n",
    "print(my_hash(96)) \n",
    "    "
   ]
  },
  {
   "cell_type": "markdown",
   "metadata": {},
   "source": [
    "### List All Error"
   ]
  },
  {
   "cell_type": "code",
   "execution_count": null,
   "metadata": {},
   "outputs": [],
   "source": [
    "import builtins\n",
    "\n",
    "err = [ i for i in dir(builtins) if i.endswith('Error') ]\n",
    "for j,k,l in zip(*[iter(err)] *3):\n",
    "    print('{:28} {:28} {:28}'.format(j, k, l))\n",
    "        "
   ]
  },
  {
   "cell_type": "markdown",
   "metadata": {},
   "source": [
    "### List All Builtin Functions"
   ]
  },
  {
   "cell_type": "code",
   "execution_count": null,
   "metadata": {},
   "outputs": [],
   "source": [
    "import builtins\n",
    "import re\n",
    "\n",
    "fn = [ i for i in dir(builtins)  if re.match(r'^[a-z]',i) ]\n",
    "for j,k,l,m in zip(*[iter(fn)] *4):\n",
    "    print('{:15} {:15} {:15} {:15}'.format(j, k, l,m))"
   ]
  },
  {
   "cell_type": "markdown",
   "metadata": {},
   "source": [
    "### How to take 2 copy of file then move to 2 different directory?"
   ]
  },
  {
   "cell_type": "code",
   "execution_count": null,
   "metadata": {},
   "outputs": [],
   "source": [
    "import os\n",
    "from shutil import copy\n",
    "\n",
    "d = '/home/joe/Temp/'\n",
    "file = [ os.listdir(d)[0] ] * 2\n",
    "\n",
    "def cpy(source,dest):\n",
    "    print('file copied to', copy(d+source, dest))\n",
    "\n",
    "cpy(file[0],'/home/joe/Directory1')  \n",
    "cpy(file[1],'/home/joe/Directory2')  "
   ]
  },
  {
   "cell_type": "markdown",
   "metadata": {},
   "source": [
    "### Check Linux Server Critical or Not"
   ]
  },
  {
   "cell_type": "code",
   "execution_count": null,
   "metadata": {},
   "outputs": [],
   "source": [
    "#! /usr/bin/python3\n",
    "\n",
    "import os\n",
    "\n",
    "count = os.cpu_count()\n",
    "avg = os.getloadavg()[0]\n",
    "\n",
    "if avg >= count :\n",
    "    print('Your System Critical.')\n",
    "else:\n",
    "    print('Your System Not Critical.')"
   ]
  },
  {
   "cell_type": "markdown",
   "metadata": {},
   "source": [
    "### How to list all os methods?"
   ]
  },
  {
   "cell_type": "code",
   "execution_count": null,
   "metadata": {},
   "outputs": [],
   "source": [
    "import os\n",
    "import re\n",
    "\n",
    "clt = zip(*[iter([ i for i in dir(os) if re.match(r'^[a-z]', i)])] *3)\n",
    "for x,y,z in clt:\n",
    "    print('{:25} {:25} {:25}'.format(x,y,z))"
   ]
  },
  {
   "cell_type": "markdown",
   "metadata": {},
   "source": [
    "### How to merge two files?"
   ]
  },
  {
   "cell_type": "code",
   "execution_count": null,
   "metadata": {},
   "outputs": [],
   "source": [
    "f1 = open('f1.txt', 'a') \n",
    "f2 = open('f2.txt')\n",
    "f2r = f2.read()\n",
    "f1.writelines(f2r)\n",
    "f1.close()\n",
    "f2.close()"
   ]
  },
  {
   "cell_type": "markdown",
   "metadata": {},
   "source": [
    "### Print all modules name with path"
   ]
  },
  {
   "cell_type": "code",
   "execution_count": null,
   "metadata": {},
   "outputs": [],
   "source": [
    "import sys\n",
    "\n",
    "d1 = sys.modules\n",
    "for mod, pa in zip(d1.keys(),d1.values()):\n",
    "    out = str(mod) + str(pa)\n",
    "    trim = out.partition('module')[2].rstrip('>').replace(\"'\",'')\n",
    "    print(trim)"
   ]
  },
  {
   "cell_type": "markdown",
   "metadata": {},
   "source": [
    "### How to fetch data and ctreate dictionary from sentence?"
   ]
  },
  {
   "cell_type": "code",
   "execution_count": null,
   "metadata": {},
   "outputs": [],
   "source": [
    "import re\n",
    "\n",
    "nameage = '''Jakie is 22 and Theon is 23\n",
    "             Gabriel is 44 and Joey 21'''\n",
    "names = re.findall(r'[A-Z][a-z]*', nameage)\n",
    "ages = re.findall(r'\\d{1,}', nameage)\n",
    "print('Fetch the Names:')\n",
    "print(names)\n",
    "print('Fetch the Ages:')\n",
    "print(ages)\n",
    "print('Create Dictionary:')\n",
    "agedict = dict(zip(names, ages))\n",
    "print(agedict)"
   ]
  },
  {
   "cell_type": "markdown",
   "metadata": {},
   "source": [
    "### How to read file using CSV Module?"
   ]
  },
  {
   "cell_type": "code",
   "execution_count": null,
   "metadata": {},
   "outputs": [],
   "source": [
    "import csv\n",
    "\n",
    "f = open('/etc/passwd')\n",
    "r = csv.reader(f, delimiter = ':')\n",
    "for i in r:\n",
    "    print(i)"
   ]
  },
  {
   "cell_type": "markdown",
   "metadata": {},
   "source": [
    "### How to find number process running in Linux server?"
   ]
  },
  {
   "cell_type": "code",
   "execution_count": null,
   "metadata": {},
   "outputs": [],
   "source": [
    "import os\n",
    "\n",
    "process = []\n",
    "for i in os.listdir('/proc'):\n",
    "    if i.isdigit():\n",
    "        process += [i]\n",
    "print('Currently {} process running.'.format(len(process)))"
   ]
  },
  {
   "cell_type": "markdown",
   "metadata": {},
   "source": [
    "### Check one of character in string Uppercase or not"
   ]
  },
  {
   "cell_type": "code",
   "execution_count": 5,
   "metadata": {},
   "outputs": [
    {
     "data": {
      "text/plain": [
       "['V']"
      ]
     },
     "execution_count": 5,
     "metadata": {},
     "output_type": "execute_result"
    }
   ],
   "source": [
    "st = 'manaValan'\n",
    "list(filter( lambda i: i.isupper(), st))"
   ]
  },
  {
   "cell_type": "code",
   "execution_count": 6,
   "metadata": {},
   "outputs": [
    {
     "data": {
      "text/plain": [
       "['V']"
      ]
     },
     "execution_count": 6,
     "metadata": {},
     "output_type": "execute_result"
    }
   ],
   "source": [
    "st = 'manaValan'\n",
    "[i for i in st if i.isupper()]"
   ]
  },
  {
   "cell_type": "code",
   "execution_count": 18,
   "metadata": {},
   "outputs": [
    {
     "data": {
      "text/plain": [
       "['V']"
      ]
     },
     "execution_count": 18,
     "metadata": {},
     "output_type": "execute_result"
    }
   ],
   "source": [
    "from string import ascii_letters as asl\n",
    "\n",
    "st = 'manaValan'\n",
    "[i for i in st if i in asl[26:]]\n"
   ]
  },
  {
   "cell_type": "markdown",
   "metadata": {},
   "source": [
    "### Check whether one character in string Upper,Lower,Number letter."
   ]
  },
  {
   "cell_type": "code",
   "execution_count": null,
   "metadata": {},
   "outputs": [],
   "source": [
    "s = '4rT'\n",
    "\n",
    "if (any(x.isupper() for x in s) and any(x.islower() for x in s) \n",
    "    and any(x.isdigit() for x in s) and len(s) >= 3):\n",
    "    print('true')\n",
    "else:\n",
    "    print('false')"
   ]
  },
  {
   "cell_type": "markdown",
   "metadata": {},
   "source": [
    "### Print string Boolean methods only"
   ]
  },
  {
   "cell_type": "code",
   "execution_count": null,
   "metadata": {},
   "outputs": [],
   "source": [
    "for i in dir(str):\n",
    "    if i.startswith('is'):\n",
    "        print(i)"
   ]
  },
  {
   "cell_type": "markdown",
   "metadata": {},
   "source": [
    "### How to alert user Enter number?"
   ]
  },
  {
   "cell_type": "code",
   "execution_count": null,
   "metadata": {},
   "outputs": [],
   "source": [
    "try:\n",
    "    inp = input('Enter Number:')\n",
    "    if not inp.isdigit():\n",
    "        raise ValueError(\"This is not number. Enter number.\")\n",
    "except ValueError as ve:\n",
    "    print(ve)"
   ]
  },
  {
   "cell_type": "markdown",
   "metadata": {},
   "source": [
    "### Create Password Program"
   ]
  },
  {
   "cell_type": "code",
   "execution_count": null,
   "metadata": {},
   "outputs": [],
   "source": [
    "password = 'mana1@p'\n",
    "i = 0\n",
    "while i <=2:\n",
    "    pd = input('Enter Password: ')\n",
    "    if pd == password:\n",
    "        print('Correct Password.')\n",
    "        break\n",
    "    else:\n",
    "        print('Wrong Password.')\n",
    "    i += 1  \n",
    "else:\n",
    "    print('You are attempt 3 times.')        "
   ]
  },
  {
   "cell_type": "markdown",
   "metadata": {},
   "source": [
    "### How to Create Objective Type Question Program?\n",
    "You could not see answer in this program. Actually answer exists in ans.txt file."
   ]
  },
  {
   "cell_type": "code",
   "execution_count": null,
   "metadata": {},
   "outputs": [],
   "source": [
    "from collections import OrderedDict\n",
    "\n",
    "with open('ans.txt') as opn:\n",
    "    ans = [ int(i) for i in opn.read().split()]\n",
    "    \n",
    "question = OrderedDict()\n",
    "question['USA Capital:'] = ['Washington', 'Banglore', 'Delhi']\n",
    "question['United Kingtom Capital:'] = ['Chennai', 'London', 'Paris']\n",
    "question['France Capital:'] = ['Paris', 'London', 'Delhi' ]\n",
    "\n",
    "def inp():\n",
    "    return int(input('Enter Number: '))\n",
    "    \n",
    "for i,j in zip(question.items(), ans):\n",
    "    print(i,j)\n",
    "    print('{}\\n{}'.format(i[0],'\\t'.join(str(i)+'. '+ k for i,k in enumerate(i[1], 1))))\n",
    "    if j == inp():\n",
    "        print(\"Your Answer Correct\\n\")\n",
    "    else:\n",
    "        print(\"Your Answer Wrong\\n\")     "
   ]
  },
  {
   "cell_type": "code",
   "execution_count": null,
   "metadata": {},
   "outputs": [],
   "source": [
    "from collections import OrderedDict\n",
    "\n",
    "question = OrderedDict()\n",
    "question['Tamil Nadu Capital:'] = ['Chennai', 'Banglore', 'Mumbai']\n",
    "question['Karnataka Capital:'] = ['Chennai', 'Banglore', 'Mumbai']\n",
    "question['Maharastra Capital:'] = ['Mumbai', 'Chennai', 'Delhi' ]\n",
    "\n",
    "def inp():\n",
    "    return int(input('Enter Number:'))\n",
    "ans = (1, 2, 1)\n",
    "    \n",
    "for i,j in zip(question.items(), ans):\n",
    "    print('{}\\n{}'.format(i[0],'\\t'.join(str(i)+'. '+ k for i,k in enumerate(i[1], 1))))\n",
    "    if j == inp():\n",
    "        print(\"Your Answer Correct\\n\")\n",
    "    else:\n",
    "        print(\"Your Answer Wrong\\n\")     "
   ]
  },
  {
   "cell_type": "markdown",
   "metadata": {},
   "source": [
    "### How to generate object within Print statement?"
   ]
  },
  {
   "cell_type": "code",
   "execution_count": null,
   "metadata": {},
   "outputs": [],
   "source": [
    "lst = ['Chennai', 'Banglore', 'Mumbai']\n",
    "\n",
    "print(str(i) + k for i,k in enumerate(lst, 1))"
   ]
  },
  {
   "cell_type": "code",
   "execution_count": null,
   "metadata": {},
   "outputs": [],
   "source": [
    "lst = ['Chennai', 'Banglore', 'Mumbai']\n",
    "\n",
    "print(i for i in lst)"
   ]
  },
  {
   "cell_type": "markdown",
   "metadata": {},
   "source": [
    "### How to print column number?"
   ]
  },
  {
   "cell_type": "code",
   "execution_count": 42,
   "metadata": {},
   "outputs": [
    {
     "name": "stdout",
     "output_type": "stream",
     "text": [
      "1. Chennai 2. Banglore 3. Mumbai\n"
     ]
    }
   ],
   "source": [
    "lst = ['Chennai', 'Banglore', 'Mumbai']\n",
    "print(' '.join(str(i) +'. '+ k for i,k in enumerate(lst, 1)))"
   ]
  },
  {
   "cell_type": "markdown",
   "metadata": {},
   "source": [
    "### How to separate one word from each 2 words?"
   ]
  },
  {
   "cell_type": "code",
   "execution_count": null,
   "metadata": {},
   "outputs": [],
   "source": [
    "st = 'Manavalan Chennai Siva Madurai'\n",
    "\n",
    "lst = [i for i,j  in zip(*[iter(st.split())] *2)]\n",
    "lst"
   ]
  },
  {
   "cell_type": "markdown",
   "metadata": {},
   "source": [
    "### How to seprate each 2 words in line?"
   ]
  },
  {
   "cell_type": "code",
   "execution_count": null,
   "metadata": {},
   "outputs": [],
   "source": [
    "# Method: 1\n",
    "st = 'Manavalan Chennai Siva Madurai'\n",
    "\n",
    "lst = [i +' '+ j for i,j in zip(*[iter(st.split())] *2)]\n",
    "lst"
   ]
  },
  {
   "cell_type": "code",
   "execution_count": null,
   "metadata": {},
   "outputs": [],
   "source": [
    "# Method: 2\n",
    "import re\n",
    "\n",
    "st = 'Manavalan Chennai Siva Madurai'\n",
    "lst = re.findall(r'\\w+ \\w+', st)\n",
    "print(lst)"
   ]
  },
  {
   "cell_type": "markdown",
   "metadata": {},
   "source": [
    "### Encapsulation"
   ]
  },
  {
   "cell_type": "code",
   "execution_count": null,
   "metadata": {},
   "outputs": [],
   "source": [
    "class Car:\n",
    "    def __init__(self):\n",
    "        self.__updatesoftware()\n",
    "    def drive(self):\n",
    "        print('Driving')\n",
    "    def __updatesoftware(self):\n",
    "        print('Update Software')\n",
    "\n",
    "redcar = Car()\n",
    "redcar.drive()"
   ]
  },
  {
   "cell_type": "markdown",
   "metadata": {},
   "source": [
    "### Private Variable"
   ]
  },
  {
   "cell_type": "code",
   "execution_count": null,
   "metadata": {},
   "outputs": [],
   "source": [
    "class Car:\n",
    "    __maxspeed = 0\n",
    "    __name = ''\n",
    "    \n",
    "    def __init__(self):\n",
    "        self.__maxspeed = 200\n",
    "        self.__name = 'Super Car'\n",
    "    def drive(self):\n",
    "        print('The Car Driving Speed:', self.__maxspeed)\n",
    "        \n",
    "supercar = Car()\n",
    "supercar.drive()\n",
    "supercar.__maxspeed = 10 # will not change variable because its private\n",
    "supercar.drive()"
   ]
  },
  {
   "cell_type": "markdown",
   "metadata": {},
   "source": [
    "### How to change private variable using setter method?"
   ]
  },
  {
   "cell_type": "code",
   "execution_count": null,
   "metadata": {},
   "outputs": [],
   "source": [
    "class Car:\n",
    "    __maxspeed = 0\n",
    "    __name = ''\n",
    "    \n",
    "    def __init__(self):\n",
    "        self.__maxspeed = 450\n",
    "        \n",
    "    def drive(self):\n",
    "        print('Driving',self.__maxspeed)\n",
    "        \n",
    "    def setmaxspeed(self,speed):\n",
    "        self.__maxspeed = speed\n",
    "\n",
    "supercar = Car()\n",
    "supercar.drive()\n",
    "supercar.setmaxspeed(500)\n",
    "supercar.drive()"
   ]
  },
  {
   "cell_type": "markdown",
   "metadata": {},
   "source": [
    "### How to use Carriage return?\n",
    "What is Carriage written?\n",
    "Lines end in \\r which causes old values to be overwritten by new when \\r is supported otherwise successive figures appear on separate lines."
   ]
  },
  {
   "cell_type": "code",
   "execution_count": null,
   "metadata": {},
   "outputs": [],
   "source": [
    "from time import sleep\n",
    "for i in range(10):\n",
    "        print('Number:',i, end='\\r')\n",
    "        sleep(3)"
   ]
  },
  {
   "cell_type": "markdown",
   "metadata": {},
   "source": [
    "### CPU Usage\n",
    "The CPU usage can be measured over an interval of time only. This means we have to read the values from /proc/stat on a fixed interval and calculate the delta from these readings."
   ]
  },
  {
   "cell_type": "code",
   "execution_count": null,
   "metadata": {},
   "outputs": [],
   "source": [
    "from time import sleep\n",
    " \n",
    "last_idle = last_total = 0\n",
    "while True:\n",
    "    with open('/proc/stat') as f:\n",
    "        fields = [float(column) for column in f.readline().split()[1:]]\n",
    "    idle, total = fields[3], sum(fields)\n",
    "    idle_delta, total_delta = idle - last_idle, total - last_total\n",
    "    last_idle, last_total = idle, total\n",
    "    utilisation = 100.0 * (1.0 - idle_delta / total_delta)\n",
    "    print('{:5.1f}%'.format(utilisation), end='\\r')\n",
    "    sleep(3)"
   ]
  },
  {
   "cell_type": "markdown",
   "metadata": {},
   "source": [
    "### How  works pattern? in Regex --> 1 or 0 match Pattern\n",
    "\n"
   ]
  },
  {
   "cell_type": "code",
   "execution_count": null,
   "metadata": {},
   "outputs": [],
   "source": [
    "# full Match --> 1 --> mame\n",
    "# half Match --> 0 --> nam\n",
    "import re\n",
    "\n",
    "# \\n for new line\n",
    "st = '''My name is Manavalan\\nMy nam is sanavalan\\n This is Madras'''\n",
    "print(re.findall(r'name?',st))"
   ]
  },
  {
   "cell_type": "markdown",
   "metadata": {},
   "source": [
    "### How to print whole line if match one word on this line?"
   ]
  },
  {
   "cell_type": "code",
   "execution_count": null,
   "metadata": {},
   "outputs": [],
   "source": [
    "import re\n",
    "\n",
    "# \\n for new line\n",
    "st = '''My name is Manavalan\\nMy nam is sanavalan\\n This is Madras'''\n",
    "print(re.findall(r'.*name.*',st))"
   ]
  },
  {
   "cell_type": "markdown",
   "metadata": {},
   "source": [
    "### Arithmetic Rules in Python"
   ]
  },
  {
   "cell_type": "code",
   "execution_count": null,
   "metadata": {},
   "outputs": [],
   "source": [
    "print(+- 3)"
   ]
  },
  {
   "cell_type": "code",
   "execution_count": null,
   "metadata": {},
   "outputs": [],
   "source": [
    "print(-+ 3)"
   ]
  },
  {
   "cell_type": "code",
   "execution_count": null,
   "metadata": {},
   "outputs": [],
   "source": [
    "print(-- 3)"
   ]
  },
  {
   "cell_type": "code",
   "execution_count": null,
   "metadata": {},
   "outputs": [],
   "source": [
    "print(++ 3)"
   ]
  },
  {
   "cell_type": "markdown",
   "metadata": {},
   "source": [
    "### Convert date,hour,minute from seconds"
   ]
  },
  {
   "cell_type": "code",
   "execution_count": null,
   "metadata": {},
   "outputs": [],
   "source": [
    "from datetime import timedelta\n",
    "up = timedelta(seconds = 1600)\n",
    "print(up)"
   ]
  },
  {
   "cell_type": "markdown",
   "metadata": {},
   "source": [
    "### How to find Linux Server Uptime?"
   ]
  },
  {
   "cell_type": "code",
   "execution_count": 6,
   "metadata": {},
   "outputs": [
    {
     "name": "stdout",
     "output_type": "stream",
     "text": [
      "4:03:27\n"
     ]
    }
   ],
   "source": [
    "from datetime import timedelta\n",
    "\n",
    "with open('/proc/uptime') as f:\n",
    "    uptime = str(timedelta(seconds = int(f.read().split('.')[0])))\n",
    "print(uptime)"
   ]
  },
  {
   "cell_type": "code",
   "execution_count": 7,
   "metadata": {},
   "outputs": [
    {
     "name": "stdout",
     "output_type": "stream",
     "text": [
      "4:03:31\n"
     ]
    }
   ],
   "source": [
    "from pathlib import Path\n",
    "from datetime import timedelta\n",
    "\n",
    "sec = Path('/proc/uptime').read_text().split('.')[0]\n",
    "print(timedelta(seconds = int(sec)))"
   ]
  },
  {
   "cell_type": "markdown",
   "metadata": {},
   "source": [
    "### Delete One Element in List"
   ]
  },
  {
   "cell_type": "code",
   "execution_count": null,
   "metadata": {},
   "outputs": [],
   "source": [
    "city = ['Mumbai', 'Delhi', 'Chennai', 'Banglore', 'Hyderabad']\n",
    "del city[1]\n",
    "print(city)"
   ]
  },
  {
   "cell_type": "markdown",
   "metadata": {},
   "source": [
    "### Delete Group of Element in List"
   ]
  },
  {
   "cell_type": "code",
   "execution_count": null,
   "metadata": {},
   "outputs": [],
   "source": [
    "city = ['Mumbai', 'Delhi', 'Chennai', 'Banglore', 'Hyderabad']\n",
    "del city[2:4]\n",
    "print(city)"
   ]
  },
  {
   "cell_type": "markdown",
   "metadata": {},
   "source": [
    "### Join String With List Element"
   ]
  },
  {
   "cell_type": "code",
   "execution_count": 7,
   "metadata": {},
   "outputs": [
    {
     "name": "stdout",
     "output_type": "stream",
     "text": [
      "This is  Mumbai Delhi Chennai Banglore\n"
     ]
    }
   ],
   "source": [
    "city = ['Mumbai', 'Delhi', 'Chennai', 'Banglore']\n",
    "print('This is ',*[*city])"
   ]
  },
  {
   "cell_type": "markdown",
   "metadata": {},
   "source": [
    "### AND"
   ]
  },
  {
   "cell_type": "code",
   "execution_count": null,
   "metadata": {},
   "outputs": [],
   "source": [
    "import itertools\n",
    "\n",
    "for i in itertools.product([True, False], repeat=2):\n",
    "    print('  X '.join((str(b) for b in i)),'--> ',i[0] and i[1])"
   ]
  },
  {
   "cell_type": "markdown",
   "metadata": {},
   "source": [
    "### OR"
   ]
  },
  {
   "cell_type": "code",
   "execution_count": null,
   "metadata": {},
   "outputs": [],
   "source": [
    "import itertools\n",
    "\n",
    "for i in itertools.product([True, False], repeat=2):\n",
    "    print('  X '.join((str(b) for b in i)),'--> ',i[0] or i[1])"
   ]
  },
  {
   "cell_type": "markdown",
   "metadata": {},
   "source": [
    "### How to list all date format?"
   ]
  },
  {
   "cell_type": "code",
   "execution_count": null,
   "metadata": {},
   "outputs": [],
   "source": [
    "import subprocess as sp\n",
    "\n",
    "dte = sp.check_output(['date','--help']).decode().splitlines()\n",
    "for i in dte[29:72]:\n",
    "    print(i)"
   ]
  },
  {
   "cell_type": "markdown",
   "metadata": {},
   "source": [
    "### Print date in various format"
   ]
  },
  {
   "cell_type": "code",
   "execution_count": 1,
   "metadata": {},
   "outputs": [
    {
     "name": "stdout",
     "output_type": "stream",
     "text": [
      "02-12-2018\n",
      "02/12/2018\n",
      "2018-12-02\n",
      "12/02/18\n",
      "02 Dec 2018\n",
      "Sun Dec 2018\n",
      "Sunday December 2018\n"
     ]
    }
   ],
   "source": [
    "from datetime import datetime\n",
    "\n",
    "now = datetime.now()\n",
    "t1 = now.strftime('%d-%m-%Y')\n",
    "t2 = now.strftime('%d/%m/%Y')\n",
    "t3 = now.strftime('%F')\n",
    "t4 = now.strftime('%D')\n",
    "t5 = now.strftime('%d %b %Y')\n",
    "t6 = now.strftime('%a %b %Y')\n",
    "t7 = now.strftime('%A %B %Y')\n",
    "print(t1)\n",
    "print(t2)\n",
    "print(t3)\n",
    "print(t4)\n",
    "print(t5)\n",
    "print(t6)\n",
    "print(t7)"
   ]
  },
  {
   "cell_type": "markdown",
   "metadata": {},
   "source": [
    "### Write Program to get Hard Disk Size"
   ]
  },
  {
   "cell_type": "code",
   "execution_count": null,
   "metadata": {},
   "outputs": [],
   "source": [
    "# Collect sectors(/sys/block/sda/size) and Multiply with sector size\n",
    "\n",
    "import os\n",
    "import glob\n",
    "\n",
    "for i in glob.glob('/sys/block/sd*'):\n",
    "    sector_size = open(i + '/queue/hw_sector_size').read().strip()\n",
    "    sectors = open(i + '/size').read().strip()\n",
    "    base = '/dev/' + os.path.basename(i)\n",
    "    size = int(sectors)*int(sector_size)/(1000*1000*1000)\n",
    "    print('{} {:>5.0f} GB'.format(base, size))"
   ]
  },
  {
   "cell_type": "markdown",
   "metadata": {},
   "source": [
    "### How to add text between lines into file?"
   ]
  },
  {
   "cell_type": "code",
   "execution_count": null,
   "metadata": {},
   "outputs": [],
   "source": [
    "with open('/home/joe/Temp/file1.txt','r') as opn:\n",
    "    reads = opn.readlines()\n",
    "    reads.insert(1,'This is another line\\n')\n",
    "with open('/home/joe/Temp/file1.txt','w') as opn:\n",
    "    text = ' '.join(reads)\n",
    "    opn.write(text)       "
   ]
  },
  {
   "cell_type": "markdown",
   "metadata": {},
   "source": [
    "### Print Binary Numbers"
   ]
  },
  {
   "cell_type": "code",
   "execution_count": null,
   "metadata": {},
   "outputs": [],
   "source": [
    "import itertools\n",
    "\n",
    "for i in itertools.product([0, 1], repeat=4):\n",
    "    print(''.join(str(b) for b in i))"
   ]
  },
  {
   "cell_type": "markdown",
   "metadata": {},
   "source": [
    "### Change order of the list elements"
   ]
  },
  {
   "cell_type": "code",
   "execution_count": null,
   "metadata": {},
   "outputs": [],
   "source": [
    "# Change order from left\n",
    "\n",
    "from collections import deque\n",
    "lst = [6, 5, 2, 1, 3, 4]\n",
    "q = deque(lst)\n",
    "print('Before altered', q)\n",
    "q.rotate(-1)\n",
    "print('After alterd', q)\n"
   ]
  },
  {
   "cell_type": "code",
   "execution_count": null,
   "metadata": {},
   "outputs": [],
   "source": [
    "# Change order from right\n",
    "from collections import deque\n",
    "lst = [6, 5, 2, 1, 3, 4]\n",
    "q = deque(lst)\n",
    "print('Before altered', q)\n",
    "q.rotate(2)\n",
    "print('After alterd', q)\n"
   ]
  },
  {
   "cell_type": "markdown",
   "metadata": {},
   "source": [
    "### collections namedtuple"
   ]
  },
  {
   "cell_type": "code",
   "execution_count": null,
   "metadata": {},
   "outputs": [],
   "source": [
    "from collections import namedtuple\n",
    "\n",
    "student = namedtuple('student', ['name', 'age'])\n",
    "mana = student('Manavalan', 30)\n",
    "print(mana)\n",
    "print(mana.name)\n",
    "print(mana.age)"
   ]
  },
  {
   "cell_type": "markdown",
   "metadata": {},
   "source": [
    "### How to add ambersand each line in file?"
   ]
  },
  {
   "cell_type": "code",
   "execution_count": null,
   "metadata": {},
   "outputs": [],
   "source": [
    "with open('/home/joe/Temp/file1.txt','r+') as opn:\n",
    "    for i in opn.readlines():\n",
    "        print('# ' + i.strip())\n",
    "            "
   ]
  },
  {
   "cell_type": "markdown",
   "metadata": {},
   "source": [
    "### Interchange keys and vlaues in dictionary using a dictionary comprehension"
   ]
  },
  {
   "cell_type": "code",
   "execution_count": null,
   "metadata": {},
   "outputs": [],
   "source": [
    "d1 = {'a': 1, 'b': 2, 'c': 3, 'd': 4}\n",
    "d1 = {j: i for i,j in d1.items()}\n",
    "d1"
   ]
  },
  {
   "cell_type": "markdown",
   "metadata": {},
   "source": [
    "### Dictionary Comperhension"
   ]
  },
  {
   "cell_type": "code",
   "execution_count": null,
   "metadata": {},
   "outputs": [],
   "source": [
    "d = { x: x**2 for x in range(5) }\n",
    "d"
   ]
  },
  {
   "cell_type": "markdown",
   "metadata": {},
   "source": [
    "### How to remove negative sign?"
   ]
  },
  {
   "cell_type": "code",
   "execution_count": null,
   "metadata": {},
   "outputs": [],
   "source": [
    "num = -18\n",
    "print(-num)"
   ]
  },
  {
   "cell_type": "markdown",
   "metadata": {},
   "source": [
    "### How to round the value using format method?"
   ]
  },
  {
   "cell_type": "code",
   "execution_count": null,
   "metadata": {},
   "outputs": [],
   "source": [
    "num = 52.47\n",
    "print('{:4.1f}'.format(num))"
   ]
  },
  {
   "cell_type": "markdown",
   "metadata": {},
   "source": [
    "### How to format the 3 column output using zip and iter method?"
   ]
  },
  {
   "cell_type": "code",
   "execution_count": null,
   "metadata": {},
   "outputs": [],
   "source": [
    "lst = [1, 2, 3, 4, 5, 6, 7, 8, 9]\n",
    "\n",
    "for i,j,k in zip(*[iter(lst)] *3):\n",
    "    print('{:4} {:4} {:4}'.format(i, j, k))"
   ]
  },
  {
   "cell_type": "markdown",
   "metadata": {},
   "source": [
    "### Print all string method in 4 column using zip and iter method"
   ]
  },
  {
   "cell_type": "code",
   "execution_count": null,
   "metadata": {},
   "outputs": [],
   "source": [
    "st = []\n",
    "for i in dir(str):\n",
    "    if not i.startswith('_'):\n",
    "        st += [i]\n",
    "for a,b,c,d in zip(*[iter(st)] *4):\n",
    "    print('{:20} {:20} {:20} {:20}'.format(a,b,c,d))"
   ]
  },
  {
   "cell_type": "markdown",
   "metadata": {},
   "source": [
    "### How to remove zero in list?"
   ]
  },
  {
   "cell_type": "code",
   "execution_count": null,
   "metadata": {},
   "outputs": [],
   "source": [
    "lst = [12, 0, 34, 10]\n",
    "list(filter(lambda x: x, lst))"
   ]
  },
  {
   "cell_type": "markdown",
   "metadata": {},
   "source": [
    "### Remove float number while printing"
   ]
  },
  {
   "cell_type": "code",
   "execution_count": null,
   "metadata": {},
   "outputs": [],
   "source": [
    "num = 23.45\n",
    "print('{:2.0f}'.format(num))"
   ]
  },
  {
   "cell_type": "markdown",
   "metadata": {},
   "source": [
    "### How to inter change keys and values?"
   ]
  },
  {
   "cell_type": "code",
   "execution_count": null,
   "metadata": {},
   "outputs": [],
   "source": [
    "d = {'a': 1, 'b': 2, 'c': 3, 'd': 4}\n",
    "pack = zip(d.values(), d.keys())\n",
    "print(dict(pack))"
   ]
  },
  {
   "cell_type": "markdown",
   "metadata": {},
   "source": [
    "### Grouping adjacent elements"
   ]
  },
  {
   "cell_type": "code",
   "execution_count": null,
   "metadata": {},
   "outputs": [],
   "source": [
    "l =  [1,2,3,4,5,6,7,8,9]\n",
    "list(zip(*[iter(l)] *3))\n"
   ]
  },
  {
   "cell_type": "markdown",
   "metadata": {},
   "source": [
    "### How to find that which Linux commands mostly used?"
   ]
  },
  {
   "cell_type": "code",
   "execution_count": null,
   "metadata": {},
   "outputs": [],
   "source": [
    "comm ={}\n",
    "with open('/home/joe/.bash_history') as opn:\n",
    "    for i in opn.readlines(): \n",
    "        fcomm = ''.join(i.split()[:1])\n",
    "        if fcomm not in comm:\n",
    "            comm[fcomm] = 1\n",
    "        else:\n",
    "            comm[fcomm] += 1\n",
    "command = sorted(comm.items(), key=lambda t: t[1], reverse=True)\n",
    "print('{:<15} {}'.format('Command','Number-of-time-Used'))\n",
    "print('*'*35)\n",
    "for c,n in command[:10]:\n",
    "    print('{:<15} {:>10}'.format(c,n))\n",
    "        "
   ]
  },
  {
   "cell_type": "code",
   "execution_count": null,
   "metadata": {},
   "outputs": [],
   "source": [
    "comm ={}\n",
    "with open('/home/joe/.bash_history') as opn:\n",
    "    for i in opn.readlines(): \n",
    "        fcomm = ''.join(i.split()[:1])\n",
    "        comm[fcomm] = comm.get(fcomm, 0) + 1\n",
    "command = sorted(comm.items(), key=lambda t: t[1], reverse=True)\n",
    "print('{:<15} {}'.format('Command','Number-of-time-Used'))\n",
    "print('*'*35)\n",
    "for c,n in command[:10]:\n",
    "    print('{:<15} {:>10}'.format(c,n))\n",
    "        "
   ]
  },
  {
   "cell_type": "markdown",
   "metadata": {},
   "source": [
    "### How to check if you are using BIOS or UEFI in Linux?"
   ]
  },
  {
   "cell_type": "code",
   "execution_count": null,
   "metadata": {},
   "outputs": [],
   "source": [
    "import os.path\n",
    "\n",
    "if os.path.isdir('/sys/firmware/efi'):\n",
    "    print('This is UEFI')\n",
    "else:\n",
    "    print('This is BIOS')\n"
   ]
  },
  {
   "cell_type": "markdown",
   "metadata": {},
   "source": [
    "### How to convert capital letter of 1st character of string?"
   ]
  },
  {
   "cell_type": "code",
   "execution_count": null,
   "metadata": {},
   "outputs": [],
   "source": [
    "st = 'manavalan'\n",
    "print(st.capitalize())"
   ]
  },
  {
   "cell_type": "code",
   "execution_count": null,
   "metadata": {},
   "outputs": [],
   "source": [
    "st = 'manavalan'\n",
    "print(st.title())"
   ]
  },
  {
   "cell_type": "markdown",
   "metadata": {},
   "source": [
    "### Find duplicate lines"
   ]
  },
  {
   "cell_type": "code",
   "execution_count": null,
   "metadata": {},
   "outputs": [],
   "source": [
    "with open('/home/joe/Temp/file.txt') as opn:\n",
    "    line = {}\n",
    "    for i in opn.readlines():\n",
    "        fline = i.strip()\n",
    "        if fline not in line:\n",
    "            line[fline] = 1\n",
    "        else:\n",
    "            line[fline] += 1\n",
    "for i,j in line.items():\n",
    "    if j > 1:\n",
    "        print(repr(i),'line duplicated',j - 1,'times')\n",
    "        "
   ]
  },
  {
   "cell_type": "code",
   "execution_count": null,
   "metadata": {},
   "outputs": [],
   "source": [
    "with open('/home/joe/Temp/file.txt') as opn:\n",
    "    line = {}\n",
    "    for i in opn.readlines():\n",
    "        fline = i.strip()\n",
    "        line[fline] = line.get(fline, 0) + 1\n",
    "for i,j in line.items():\n",
    "    if j > 1:\n",
    "        print(repr(i),'line duplicated',j - 1,'times')\n",
    "        "
   ]
  },
  {
   "cell_type": "markdown",
   "metadata": {},
   "source": [
    "### File contents"
   ]
  },
  {
   "cell_type": "code",
   "execution_count": null,
   "metadata": {},
   "outputs": [],
   "source": [
    "for i in open('/home/joe/Temp/file.txt'):\n",
    "    print(i.strip())\n",
    "    "
   ]
  },
  {
   "cell_type": "markdown",
   "metadata": {},
   "source": [
    "### Class Constructor"
   ]
  },
  {
   "cell_type": "code",
   "execution_count": null,
   "metadata": {},
   "outputs": [],
   "source": [
    "class User:\n",
    "    name = ''\n",
    "    def __init__(self,name):\n",
    "        self.name = name\n",
    "    def sayHello(self):\n",
    "        print('Name:',self.name)\n",
    "mana = User('Mana')\n",
    "mana.sayHello()"
   ]
  },
  {
   "cell_type": "markdown",
   "metadata": {},
   "source": [
    "#### Method 1: Count Repeated Character"
   ]
  },
  {
   "cell_type": "code",
   "execution_count": null,
   "metadata": {},
   "outputs": [],
   "source": [
    "st = 'Manavalan'\n",
    "ch = {}\n",
    "for i in st:\n",
    "    if i not in ch:\n",
    "        ch[i] = 1\n",
    "    else:\n",
    "        ch[i] += 1\n",
    "print(ch)"
   ]
  },
  {
   "cell_type": "markdown",
   "metadata": {},
   "source": [
    "#### Method 2: Count Repeated Character"
   ]
  },
  {
   "cell_type": "code",
   "execution_count": null,
   "metadata": {},
   "outputs": [],
   "source": [
    "st = 'Manavalan'\n",
    "ch = {}\n",
    "for i in st:\n",
    "    ch[i] = st.count(i)\n",
    "print(ch)"
   ]
  },
  {
   "cell_type": "markdown",
   "metadata": {},
   "source": [
    "#### Method 3: Count Repeated Character"
   ]
  },
  {
   "cell_type": "code",
   "execution_count": null,
   "metadata": {},
   "outputs": [],
   "source": [
    "from collections import Counter\n",
    "st = 'Manavalan'\n",
    "print(Counter(st))\n"
   ]
  },
  {
   "cell_type": "markdown",
   "metadata": {},
   "source": [
    "#### Method 4: Count Repeated Character"
   ]
  },
  {
   "cell_type": "code",
   "execution_count": null,
   "metadata": {},
   "outputs": [],
   "source": [
    "st = 'Manavalan'\n",
    "d = {}\n",
    "for i in st:\n",
    "    d[i] = d.get(i, 0) + 1\n",
    "print(d)"
   ]
  },
  {
   "cell_type": "markdown",
   "metadata": {},
   "source": [
    "### Extended unpacking"
   ]
  },
  {
   "cell_type": "code",
   "execution_count": null,
   "metadata": {},
   "outputs": [],
   "source": [
    "a, *b, c = [1, 2, 3, 4, 5]\n",
    "b"
   ]
  },
  {
   "cell_type": "markdown",
   "metadata": {},
   "source": [
    "### Polymorphism"
   ]
  },
  {
   "cell_type": "code",
   "execution_count": null,
   "metadata": {},
   "outputs": [],
   "source": [
    "class bear():\n",
    "    def sound(self):\n",
    "        print('Garrr')\n",
    "class dog():\n",
    "    def sound(self):\n",
    "        print('Lool lool')\n",
    "def makesound(animal):\n",
    "    animal.sound()\n",
    "    \n",
    "bearobj = bear()\n",
    "dogobj = dog()\n",
    "makesound(bearobj)\n",
    "makesound(dogobj)"
   ]
  },
  {
   "cell_type": "markdown",
   "metadata": {},
   "source": [
    "### How to convert integer to binary?"
   ]
  },
  {
   "cell_type": "code",
   "execution_count": null,
   "metadata": {},
   "outputs": [],
   "source": [
    "# n = 10 is integer\n",
    "n = 10\n",
    "print(bin(n).split('0b')[-1])"
   ]
  },
  {
   "cell_type": "markdown",
   "metadata": {},
   "source": [
    "### List all users in Linux server"
   ]
  },
  {
   "cell_type": "code",
   "execution_count": null,
   "metadata": {},
   "outputs": [],
   "source": [
    "import pwd\n",
    "\n",
    "with open('/etc/login.defs') as opn:\n",
    "    for i in opn:\n",
    "        if i.startswith('UID_MIN'):\n",
    "            min_uid = i.split()[-1]\n",
    "        if i.startswith('UID_MAX'):\n",
    "            max_uid = i.split()[-1]\n",
    "users = pwd.getpwall()\n",
    "print('{:>5} {:>10} {:>12} {:>10}'.format('USER', 'UID', 'HOME DIR', 'SHELL'))\n",
    "print('*'*44)\n",
    "for user in users:\n",
    "    if user[2] >= int(min_uid) and user[2] <= int(max_uid):\n",
    "        print('{:>4} {:>12} {:>12} {:>13}'.format(user[0],user[2],user[5],user[6]))"
   ]
  },
  {
   "cell_type": "markdown",
   "metadata": {},
   "source": [
    "### Recursively get a list of all the files in a directory tree"
   ]
  },
  {
   "cell_type": "code",
   "execution_count": null,
   "metadata": {},
   "outputs": [],
   "source": [
    "import os\n",
    "\n",
    "dr = '/home/joe/Program/Python'\n",
    "for pdir,subdir,filename in os.walk(dr):\n",
    "    for file in filename:\n",
    "        print(os.path.join(pdir,file))"
   ]
  },
  {
   "cell_type": "markdown",
   "metadata": {},
   "source": [
    "### How to list all installed Python modules?"
   ]
  },
  {
   "cell_type": "code",
   "execution_count": null,
   "metadata": {},
   "outputs": [],
   "source": [
    "import sys\n",
    "\n",
    "for i in sys.modules.keys():\n",
    "    print(i)"
   ]
  },
  {
   "cell_type": "markdown",
   "metadata": {},
   "source": [
    "### Print builtin modules"
   ]
  },
  {
   "cell_type": "code",
   "execution_count": null,
   "metadata": {},
   "outputs": [],
   "source": [
    "import sys\n",
    "\n",
    "print(sys.builtin_module_names)\n"
   ]
  },
  {
   "cell_type": "markdown",
   "metadata": {},
   "source": [
    "### Where Python search modules ?"
   ]
  },
  {
   "cell_type": "code",
   "execution_count": null,
   "metadata": {},
   "outputs": [],
   "source": [
    "import sys\n",
    "\n",
    "print(sys.path)"
   ]
  },
  {
   "cell_type": "markdown",
   "metadata": {},
   "source": [
    "###  How to print exception Error?"
   ]
  },
  {
   "cell_type": "code",
   "execution_count": null,
   "metadata": {},
   "outputs": [],
   "source": [
    "# Generaly exception for skip the error. \n",
    "# But, Here we print that exception Error.\n",
    "import sys\n",
    "\n",
    "try:\n",
    "    4/0\n",
    "except:\n",
    "    print(sys.exc_info()[0])"
   ]
  },
  {
   "cell_type": "markdown",
   "metadata": {},
   "source": [
    "### How to collect basic information about your Linux System?"
   ]
  },
  {
   "cell_type": "code",
   "execution_count": null,
   "metadata": {},
   "outputs": [],
   "source": [
    "import os\n",
    "\n",
    "print('Installed OS: {:>15}'.format(os.uname()[0]))\n",
    "print('Node Name: {:>16}'.format(os.uname()[1]))\n",
    "print('Kernel Version: {:>25}'.format(os.uname()[2]))\n",
    "print('Machine Acrhitecture: {:>8}'.format(os.uname()[4]))"
   ]
  },
  {
   "cell_type": "markdown",
   "metadata": {},
   "source": [
    "### How to find your installed os?"
   ]
  },
  {
   "cell_type": "code",
   "execution_count": null,
   "metadata": {},
   "outputs": [],
   "source": [
    "import sys\n",
    "\n",
    "print(sys.platform)"
   ]
  },
  {
   "cell_type": "markdown",
   "metadata": {},
   "source": [
    "### Calculate Expiry date"
   ]
  },
  {
   "cell_type": "code",
   "execution_count": null,
   "metadata": {},
   "outputs": [],
   "source": [
    "from datetime import datetime\n",
    "\n",
    "start_date = '22-07-2019'\n",
    "today = datetime.today()\n",
    "con_date = datetime.strptime(start_date,'%d-%m-%Y')\n",
    "date_diff = con_date - today\n",
    "# Calculate expiry date\n",
    "print('Expire {0} days'.format(date_diff.days))\n"
   ]
  },
  {
   "cell_type": "markdown",
   "metadata": {},
   "source": [
    "### Calculate date difference"
   ]
  },
  {
   "cell_type": "code",
   "execution_count": null,
   "metadata": {},
   "outputs": [],
   "source": [
    "from datetime import datetime\n",
    "\n",
    "start_date = '15-02-2018'\n",
    "# Assgin today date to variable today\n",
    "today = datetime.today()\n",
    "# Convert to date format of start_date from string\n",
    "con_date = datetime.strptime(start_date,'%d-%m-%Y')\n",
    "# Calculate date difference\n",
    "date_diff = con_date - today\n",
    "# abs fuction remove negative sign\n",
    "print(abs(date_diff.days),'days')\n"
   ]
  },
  {
   "cell_type": "markdown",
   "metadata": {},
   "source": [
    "### Check the memory usage of an string(str) object"
   ]
  },
  {
   "cell_type": "code",
   "execution_count": null,
   "metadata": {},
   "outputs": [],
   "source": [
    "import sys\n",
    "name = 'Manavalan Micheal'\n",
    "print(sys.getsizeof(name))"
   ]
  },
  {
   "cell_type": "markdown",
   "metadata": {},
   "source": [
    "### Convert it to a single list without using any loops."
   ]
  },
  {
   "cell_type": "code",
   "execution_count": null,
   "metadata": {},
   "outputs": [],
   "source": [
    "a = [[1, 2], [3, 4], [5, 6]]\n",
    "\n",
    "t = a[0] + a[1] + a[2]\n",
    "print(t)"
   ]
  },
  {
   "cell_type": "markdown",
   "metadata": {},
   "source": [
    "### Convert it to a single list using loops."
   ]
  },
  {
   "cell_type": "code",
   "execution_count": null,
   "metadata": {},
   "outputs": [],
   "source": [
    "a = [[1, 2], [3, 4], [5, 6]]\n",
    "\n",
    "add = []\n",
    "for i in a:\n",
    "    add += i\n",
    "print(add)"
   ]
  },
  {
   "cell_type": "markdown",
   "metadata": {},
   "source": [
    "### How to compare versions?"
   ]
  },
  {
   "cell_type": "code",
   "execution_count": null,
   "metadata": {},
   "outputs": [],
   "source": [
    "version1 = '3.4.6'\n",
    "version2 = '3.6.2'\n",
    "v1 = ''.join(version1.split('.'))\n",
    "v2 = ''.join(version2.split('.'))\n",
    "\n",
    "if v2 > v1:\n",
    "    print('Version2 is latest version:',version2)"
   ]
  },
  {
   "cell_type": "markdown",
   "metadata": {},
   "source": [
    "### How to check integer number or float number?"
   ]
  },
  {
   "cell_type": "code",
   "execution_count": null,
   "metadata": {},
   "outputs": [],
   "source": [
    "l = [45, 2.14]\n",
    "for i in l:\n",
    "    if \".\" in str(i):\n",
    "        print(\"This is Float number:\",i)\n",
    "    else:\n",
    "        print(\"This is Integer number:\",i)"
   ]
  },
  {
   "cell_type": "markdown",
   "metadata": {},
   "source": [
    "### How to separate this num \"1234567891\" to 12345 67891 like phone number?"
   ]
  },
  {
   "cell_type": "code",
   "execution_count": null,
   "metadata": {},
   "outputs": [],
   "source": [
    "import re\n",
    "\n",
    "n = '1234567891'\n",
    "np = re.findall(r'.{5}',n)\n",
    "print('{} {}'.format(np[0],np[1]))"
   ]
  },
  {
   "cell_type": "markdown",
   "metadata": {},
   "source": [
    "### How to find installed Python Version?"
   ]
  },
  {
   "cell_type": "code",
   "execution_count": null,
   "metadata": {},
   "outputs": [],
   "source": [
    "import sys\n",
    "\n",
    "print('Python:',sys.version[0:5])"
   ]
  },
  {
   "cell_type": "markdown",
   "metadata": {},
   "source": [
    "### How to find installed Python path?"
   ]
  },
  {
   "cell_type": "code",
   "execution_count": null,
   "metadata": {},
   "outputs": [],
   "source": [
    "import sys\n",
    "\n",
    "print(sys.executable)"
   ]
  },
  {
   "cell_type": "markdown",
   "metadata": {},
   "source": [
    "### How many numbers and upper, lower case letters in string '3ohsWMbNVN4'?"
   ]
  },
  {
   "cell_type": "code",
   "execution_count": null,
   "metadata": {},
   "outputs": [],
   "source": [
    "import re\n",
    "\n",
    "st = '3ohsWMbNVN4'\n",
    "N = []\n",
    "U = []\n",
    "L = []\n",
    "for i in st:\n",
    "    if re.match(r'[0-9]',i):\n",
    "        N += i\n",
    "    elif re.match(r'[A-Z]',i):\n",
    "        U += i\n",
    "    elif re.match(r'[a-z]',i):\n",
    "        L += i\n",
    "print('{} : Numbers\\n{} : Upper\\n{} : Lower'.format(len(N),len(U),len(L)))"
   ]
  },
  {
   "cell_type": "markdown",
   "metadata": {},
   "source": [
    "### How to take Backup files older than 30 days?"
   ]
  },
  {
   "cell_type": "code",
   "execution_count": null,
   "metadata": {},
   "outputs": [],
   "source": [
    "#!/usr/bin/python3\n",
    "\n",
    "import os\n",
    "import os.path\n",
    "import glob\n",
    "from datetime import datetime\n",
    "import shutil\n",
    "\n",
    "today = datetime.today()\n",
    "print('Below files are moved.')\n",
    "for i in glob.glob('/home/joe/Temp/*'):\n",
    "    mtime = datetime.fromtimestamp(os.stat(i)[8])\n",
    "    filetime = mtime - today\n",
    "    if filetime.days <= -30:\n",
    "        print('{:<20} older {} days'.format(os.path.basename(i),abs(filetime.days)))\n",
    "        shutil.move(i,'/home/joe/Backup/')\n"
   ]
  },
  {
   "cell_type": "markdown",
   "metadata": {},
   "source": [
    "### How to startswith method in middle of string?"
   ]
  },
  {
   "cell_type": "code",
   "execution_count": null,
   "metadata": {},
   "outputs": [],
   "source": [
    "# Here \"val\" start from 4 th place.\n",
    "st = 'Manavalan Micheal'\n",
    "\n",
    "if st.startswith('val',4,9):\n",
    "    print(st)\n",
    "else:\n",
    "    print('String not mathed with',st)"
   ]
  },
  {
   "cell_type": "markdown",
   "metadata": {},
   "source": [
    "### How to find that which RAID configure in server?"
   ]
  },
  {
   "cell_type": "code",
   "execution_count": null,
   "metadata": {},
   "outputs": [],
   "source": [
    "with open('/proc/mdstat') as opn:\n",
    "    raid = opn.readlines()[0].split()[-1].replace('[','').replace(']','')\n",
    "    if raid.isalnum():\n",
    "        print(raid)\n",
    "    else:\n",
    "        print('No Raid')"
   ]
  },
  {
   "cell_type": "code",
   "execution_count": null,
   "metadata": {},
   "outputs": [],
   "source": [
    "import sys\n",
    "import pprint\n",
    "\n",
    "# pretty print loaded modules\n",
    "pprint.pprint(sys.modules)\n",
    "\n"
   ]
  },
  {
   "cell_type": "markdown",
   "metadata": {},
   "source": [
    "### Scan to new lun or new disk"
   ]
  },
  {
   "cell_type": "code",
   "execution_count": null,
   "metadata": {},
   "outputs": [],
   "source": [
    "#!/usr/bin/python3\n",
    "\n",
    "import os \n",
    "\n",
    "dr = '/sys/class/scsi_host/'\n",
    "for i in os.listdir(dr):\n",
    "    with open (dr+i+'/scan', 'w') as opn:\n",
    "        opn.write('- - -')\n",
    "else:\n",
    "    print('Succuessfuly scan all scsi bus.')\n",
    "    "
   ]
  },
  {
   "cell_type": "markdown",
   "metadata": {},
   "source": [
    "### all function"
   ]
  },
  {
   "cell_type": "code",
   "execution_count": null,
   "metadata": {},
   "outputs": [],
   "source": [
    "l1 = [7, 12, 0, 5]\n",
    "l2 =  [7, 12, None, 5]\n",
    "l3 = [7, 12, False, 5]\n",
    "l4 = [7, 12, 1, 5]\n",
    "\n",
    "print('l1:',all(l1))\n",
    "print('l2:',all(l2))\n",
    "print('l3:',all(l3))\n",
    "print('l4:',all(l4))"
   ]
  },
  {
   "cell_type": "markdown",
   "metadata": {},
   "source": [
    "### How to list file recurively  and print file name full path?"
   ]
  },
  {
   "cell_type": "code",
   "execution_count": null,
   "metadata": {},
   "outputs": [],
   "source": [
    "import os\n",
    "for pdir, sdir, filenames in os.walk('/home/joe/Temp/'):\n",
    "    for file in filenames:\n",
    "        print(os.path.join(pdir, file))"
   ]
  },
  {
   "cell_type": "markdown",
   "metadata": {},
   "source": [
    "### How to collect scsi-id and Device name?"
   ]
  },
  {
   "cell_type": "code",
   "execution_count": null,
   "metadata": {},
   "outputs": [],
   "source": [
    "# Note: SCSI-ID 0:0:0:0 is known to the kernel as sda\n",
    "\n",
    "import os\n",
    "\n",
    "sd ={}\n",
    "dr = '/sys/bus/scsi/drivers/sd'\n",
    "for i in os.listdir(dr):\n",
    "    if \":\" in i:\n",
    "        sd[i] = os.listdir(dr+'/'+i+'/block')[0]\n",
    "print('{:<15} {}'.format(\"SCSI-ID\",\"Device-Name\"))\n",
    "print('*'.ljust(27,'*'))\n",
    "for j in sd:\n",
    "    print('{:^8} {:^22}'.format(j,sd[j]))"
   ]
  },
  {
   "cell_type": "markdown",
   "metadata": {},
   "source": [
    "### Craete Dictionary from pair in tuple"
   ]
  },
  {
   "cell_type": "code",
   "execution_count": null,
   "metadata": {},
   "outputs": [],
   "source": [
    "my_dict = dict([(1,'apple'), (2,'ball')])\n",
    "print(my_dict)"
   ]
  },
  {
   "cell_type": "markdown",
   "metadata": {},
   "source": [
    "### How to create dictionary and add value based on dynamic key?"
   ]
  },
  {
   "cell_type": "code",
   "execution_count": null,
   "metadata": {},
   "outputs": [],
   "source": [
    "# key is generate from glob and value added from os.path\n",
    "\n",
    "import os \n",
    "import os.path\n",
    "import glob\n",
    "\n",
    "file ={}\n",
    "dr = '/home/joe/Temp/*'\n",
    "for i in glob.glob(dr):\n",
    "    file[i] = os.path.getsize(i)\n",
    "print(file)\n",
    "    "
   ]
  },
  {
   "cell_type": "markdown",
   "metadata": {},
   "source": [
    "### Create dictionary from string"
   ]
  },
  {
   "cell_type": "code",
   "execution_count": null,
   "metadata": {},
   "outputs": [],
   "source": [
    "import ast\n",
    "print(ast)\n",
    "s = 'A - 13, B - 14, C - 29, M - 99'\n",
    "dict(e.split(' - ') for e in s.split(','))"
   ]
  },
  {
   "cell_type": "markdown",
   "metadata": {},
   "source": [
    "### Check avialable filesystems in your Linux system"
   ]
  },
  {
   "cell_type": "code",
   "execution_count": null,
   "metadata": {},
   "outputs": [],
   "source": [
    "import re\n",
    "\n",
    "fs =[]\n",
    "with open('/proc/filesystems') as fsm:\n",
    "    for i in fsm:\n",
    "        fs += [ re.search(r'\\w+$',i).group() ]\n",
    "\n",
    "#Format output three columns\n",
    "f1 = fs[::3]\n",
    "f2 = fs[1::3]\n",
    "f3 = fs[2::3]\n",
    "print('Follwing Filesystes are aviavlbe in your system:')\n",
    "print('*'.ljust(48,'*'))\n",
    "for c1,c2,c3 in zip(f1,f2,f3):\n",
    "    print('{:<15} {:<15} {}'.format(c1,c2,c3))"
   ]
  },
  {
   "cell_type": "markdown",
   "metadata": {},
   "source": [
    "### How to get login user name?"
   ]
  },
  {
   "cell_type": "code",
   "execution_count": null,
   "metadata": {},
   "outputs": [],
   "source": [
    "import os\n",
    "\n",
    "print('Login user name is',repr(os.environ['USER']))"
   ]
  },
  {
   "cell_type": "markdown",
   "metadata": {},
   "source": [
    "### How to use abs method?"
   ]
  },
  {
   "cell_type": "code",
   "execution_count": null,
   "metadata": {},
   "outputs": [],
   "source": [
    "# abs method  removed negative sign to show absolute number\n",
    "\n",
    "num1_int = -123\n",
    "num2_float = -9.45\n",
    "\n",
    "print(abs(num1_int))\n",
    "print(abs(num2_float))"
   ]
  },
  {
   "cell_type": "markdown",
   "metadata": {},
   "source": [
    "### Decorator"
   ]
  },
  {
   "cell_type": "code",
   "execution_count": null,
   "metadata": {},
   "outputs": [],
   "source": [
    "def create_decorate(dec):\n",
    "    print('hi!')\n",
    "    dec()\n",
    "    print('hi! Decorate Created.')\n",
    "@create_decorate\n",
    "def my_function():\n",
    "    print('Now Decorate Create')"
   ]
  },
  {
   "cell_type": "markdown",
   "metadata": {},
   "source": [
    "### How to pass arguments in decorator?"
   ]
  },
  {
   "cell_type": "code",
   "execution_count": null,
   "metadata": {},
   "outputs": [],
   "source": [
    "import platform\n",
    "\n",
    "def dec(pass_arg):\n",
    "    print('OS Name:')\n",
    "    osname = platform.system()\n",
    "    pass_arg(osname)\n",
    "@dec\n",
    "def fun(osname):\n",
    "    print(osname)"
   ]
  },
  {
   "cell_type": "markdown",
   "metadata": {},
   "source": [
    "### Print today date"
   ]
  },
  {
   "cell_type": "code",
   "execution_count": null,
   "metadata": {},
   "outputs": [],
   "source": [
    "from datetime import date\n",
    "\n",
    "today = date.today()\n",
    "con = str(today).split('-')\n",
    "print('-'.join(con[::-1]))"
   ]
  },
  {
   "cell_type": "markdown",
   "metadata": {},
   "source": [
    "### How to delete files older than 7 days using python?"
   ]
  },
  {
   "cell_type": "code",
   "execution_count": null,
   "metadata": {},
   "outputs": [],
   "source": [
    "import os\n",
    "import os.path\n",
    "import glob\n",
    "from datetime import datetime\n",
    "\n",
    "today = datetime.today()\n",
    "print('Below these files will be delete.')\n",
    "for i in glob.glob('/home/joe/Temp/*'):\n",
    "    mtime = datetime.fromtimestamp(os.stat(i)[8])\n",
    "    filetime = mtime - today\n",
    "    if filetime.days <= -7:\n",
    "        print('{:<20} {} days old'.format(os.path.basename(i),abs(filetime.days)))\n",
    "        os.remove(i)"
   ]
  },
  {
   "cell_type": "markdown",
   "metadata": {},
   "source": [
    "### How to find last modified date of files using python?"
   ]
  },
  {
   "cell_type": "code",
   "execution_count": null,
   "metadata": {},
   "outputs": [],
   "source": [
    "import os\n",
    "import os.path\n",
    "import glob\n",
    "from datetime import datetime\n",
    "\n",
    "today = datetime.today()\n",
    "print(\"{:<20} {} {:>26}\".format(\"Filename\",\"Date\", \"Days\"))\n",
    "for i in glob.glob('/home/joe/Temp/*'):\n",
    "    mtime = datetime.fromtimestamp(os.stat(i)[8])\n",
    "    filetime_delta = mtime - today\n",
    "    filetime = str(filetime_delta.days).lstrip('-')\n",
    "    print(\"{:<20} {} {:>10}\".format(os.path.basename(i), mtime, filetime))"
   ]
  },
  {
   "cell_type": "markdown",
   "metadata": {},
   "source": [
    "### How to get Hard disk model number?"
   ]
  },
  {
   "cell_type": "code",
   "execution_count": null,
   "metadata": {},
   "outputs": [],
   "source": [
    "import re\n",
    "\n",
    "with open('/proc/scsi/scsi') as scsi:\n",
    "    match = re.findall(r'Model:\\s.*',scsi.read())\n",
    "    for i in match:\n",
    "        print(re.sub(r'Rev:.*|Mo.*DVD.*','',i))"
   ]
  },
  {
   "cell_type": "markdown",
   "metadata": {},
   "source": [
    "### How to print line number?"
   ]
  },
  {
   "cell_type": "code",
   "execution_count": null,
   "metadata": {},
   "outputs": [],
   "source": [
    "import calendar as cal\n",
    "\n",
    "for i, day in enumerate(cal.day_name, 1):\n",
    "    print(str(i)+'.', day)"
   ]
  },
  {
   "cell_type": "markdown",
   "metadata": {},
   "source": [
    "### Print today"
   ]
  },
  {
   "cell_type": "code",
   "execution_count": null,
   "metadata": {},
   "outputs": [],
   "source": [
    "from datetime import datetime\n",
    "\n",
    "now = datetime.now()\n",
    "today = now.strftime('%b %d')\n",
    "print(today)"
   ]
  },
  {
   "cell_type": "code",
   "execution_count": null,
   "metadata": {},
   "outputs": [],
   "source": []
  }
 ],
 "metadata": {
  "kernelspec": {
   "display_name": "Python 3",
   "language": "python",
   "name": "python3"
  },
  "language_info": {
   "codemirror_mode": {
    "name": "ipython",
    "version": 3
   },
   "file_extension": ".py",
   "mimetype": "text/x-python",
   "name": "python",
   "nbconvert_exporter": "python",
   "pygments_lexer": "ipython3",
   "version": "3.6.7"
  }
 },
 "nbformat": 4,
 "nbformat_minor": 2
}
