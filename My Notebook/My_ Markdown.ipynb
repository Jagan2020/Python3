{
 "cells": [
  {
   "cell_type": "markdown",
   "metadata": {},
   "source": [
    "###  **Jupyter Add Table**"
   ]
  },
  {
   "cell_type": "markdown",
   "metadata": {},
   "source": [
    "&nbsp;\n",
    "\n",
    "|Layer        | $k$ (m/d) | $z_b$ (m) | $z_t$ | $c$ (days) |\n",
    "|:-----------:|----------:|----------:|------:|-----------:|\n",
    "|Aquifer 0    |    2      |     0     |   20  |    -       |\n",
    "|Leaky Layer 1|    -      |    -10    |   0   |   500      |\n",
    "|Aquifer 1    |    80     |    -30    |   -10 |   -        |"
   ]
  },
  {
   "cell_type": "markdown",
   "metadata": {},
   "source": [
    "### &nbsp;\n",
    "| Country  | Capital |\n",
    "| -------- | --------|\n",
    "| Portugal | Lisbon  |\n",
    "| Spain    | Madrid  |\n",
    "| Cuba     | Havana  |"
   ]
  },
  {
   "cell_type": "markdown",
   "metadata": {},
   "source": [
    "### **Jupyter Draw Equations**"
   ]
  },
  {
   "cell_type": "markdown",
   "metadata": {},
   "source": [
    "### &nbsp; $K$ (m/d) $Z_b$"
   ]
  },
  {
   "cell_type": "markdown",
   "metadata": {},
   "source": [
    "&nbsp;\n",
    "$K$ (m/d) $Z_b$"
   ]
  },
  {
   "cell_type": "markdown",
   "metadata": {},
   "source": [
    "### **Comparision Operators**"
   ]
  },
  {
   "cell_type": "markdown",
   "metadata": {},
   "source": [
    "&nbsp;\n",
    "\n",
    "&lt;\n",
    "\n",
    "&gt;\n",
    "\n",
    "&le;\n",
    "\n",
    "&ge;"
   ]
  },
  {
   "cell_type": "markdown",
   "metadata": {},
   "source": [
    "### **Horizontal line**"
   ]
  },
  {
   "cell_type": "markdown",
   "metadata": {},
   "source": [
    "&nbsp;\n",
    "***"
   ]
  },
  {
   "cell_type": "markdown",
   "metadata": {},
   "source": [
    "### **Number, period and a space for a numbered list**"
   ]
  },
  {
   "cell_type": "markdown",
   "metadata": {},
   "source": [
    "&nbsp;\n",
    "1\\. **Manavalan**\n",
    "\n",
    "1. 1\\. \n",
    "2. 2\\."
   ]
  },
  {
   "cell_type": "markdown",
   "metadata": {},
   "source": [
    "&nbsp;\n",
    "\n",
    "1\\. One\n",
    "<br></br>\n",
    "2\\. Two"
   ]
  },
  {
   "cell_type": "markdown",
   "metadata": {},
   "source": [
    "### **Link to webpage**"
   ]
  },
  {
   "cell_type": "markdown",
   "metadata": {},
   "source": [
    "&nbsp;\n",
    "[link to WikiPedia](https://en.wikipedia.org/wiki/Main_Page)    \\[link to WikiPedia\\]"
   ]
  },
  {
   "cell_type": "markdown",
   "metadata": {},
   "source": [
    "### **Non Breaking Space**\n",
    "https://en.wikipedia.org/wiki/List_of_XML_and_HTML_character_entity_references#Character_entity_references_in_HTML"
   ]
  },
  {
   "cell_type": "raw",
   "metadata": {},
   "source": [
    "Non Breaking Space\n",
    "\n",
    "Although you can use &nbsp; at no. of times you wish and most of users do it. But it results in only one space at a time and for more spacing we've to use it no. of times i.e &nbsp;&nbsp;.....(example facing such condition while posting this answer).\n",
    "\n",
    "So,I am here discussing about three more entity reference that can be used.\n",
    "\n",
    "&nbsp; = &thinsp; Results in one character space; e.g. A B <br></br>\n",
    "&ensp; Results in two character space; e.g. A B <br></br>\n",
    "&emsp; Results in four character space; e.g. A B <br></br>\n",
    "\n",
    "\n",
    "In other words, the character width of them are:\n",
    "\n",
    "&thinsp; = 1 x &nbsp;\n",
    "&ensp; = 2 x &nbsp;\n",
    "&emsp; = 2 x &ensp; = 4 x &nbsp;\n",
    "Let's check:\n",
    "\n",
    "A B (using &emsp; once)\n",
    "A  B (using &ensp; twice)\n",
    "A    B (using &nbsp; four times)\n",
    "So, as per requirement, we can use &nbsp; (U+00A0), &ensp;(U+2002) or &emsp;(U+2003)"
   ]
  },
  {
   "cell_type": "markdown",
   "metadata": {},
   "source": [
    "&ensp;\n",
    "\n",
    "A&emsp;B"
   ]
  },
  {
   "cell_type": "markdown",
   "metadata": {},
   "source": [
    "### **Bullet**"
   ]
  },
  {
   "cell_type": "markdown",
   "metadata": {},
   "source": [
    "\n",
    "\n",
    "* One\n",
    "* Two"
   ]
  },
  {
   "cell_type": "markdown",
   "metadata": {},
   "source": [
    "1. One\n",
    "2. Two"
   ]
  },
  {
   "cell_type": "markdown",
   "metadata": {},
   "source": [
    "### **Highlight Code**"
   ]
  },
  {
   "cell_type": "markdown",
   "metadata": {},
   "source": [
    "**`This is Highlight`**"
   ]
  },
  {
   "cell_type": "markdown",
   "metadata": {},
   "source": [
    "#### **How can I get display() to show to equations side by side?**"
   ]
  },
  {
   "cell_type": "code",
   "execution_count": 1,
   "metadata": {},
   "outputs": [
    {
     "data": {
      "text/markdown": [
       "${x = \\frac{1}{\\lambda^{2}}}$ &nbsp; &nbsp; optional_text_here &nbsp; &nbsp; ${\\delta x = \\frac{2 \\delta \\lambda \\left|{\\lambda}\\right|}{\\lambda^{4}}}$"
      ],
      "text/plain": [
       "<IPython.core.display.Markdown object>"
      ]
     },
     "metadata": {},
     "output_type": "display_data"
    }
   ],
   "source": [
    "import sympy as sym\n",
    "from IPython.display import display, Markdown\n",
    "\n",
    "x = sym.symbols('x')\n",
    "dx = sym.Symbol(r'\\delta x')\n",
    "lam = sym.Symbol(r'\\lambda')\n",
    "dlam = sym.Symbol(r'\\delta \\lambda')\n",
    "\n",
    "expr1 = sym.latex(sym.Eq(x, 1/lam**2))\n",
    "expr2 = sym.latex(sym.Eq(dx, 2*dlam*sym.Abs(lam)/lam**4))\n",
    "\n",
    "# To add space use #alt-0160 (on Windows) for non-breaking spaces,\n",
    "# or the HTML '&nbsp;'. Otherwise, Markdown removes the space.\n",
    "exprMark = f'${{{expr1}}}$ &nbsp; &nbsp; optional_text_here &nbsp; &nbsp; ${{{expr2}}}$'\n",
    "display(Markdown(exprMark))"
   ]
  }
 ],
 "metadata": {
  "kernelspec": {
   "display_name": "Python 3",
   "language": "python",
   "name": "python3"
  },
  "language_info": {
   "codemirror_mode": {
    "name": "ipython",
    "version": 3
   },
   "file_extension": ".py",
   "mimetype": "text/x-python",
   "name": "python",
   "nbconvert_exporter": "python",
   "pygments_lexer": "ipython3",
   "version": "3.6.9"
  }
 },
 "nbformat": 4,
 "nbformat_minor": 2
}
