{
 "cells": [
  {
   "cell_type": "markdown",
   "metadata": {},
   "source": [
    "### **How to filter except some text in a file?**\n",
    "Here i filter line text except nologin"
   ]
  },
  {
   "cell_type": "code",
   "execution_count": 67,
   "metadata": {},
   "outputs": [
    {
     "name": "stdout",
     "output_type": "stream",
     "text": [
      "geoclue:x:121:129::/var/geoclue:/usr/sbin/nologin\r\n",
      "mana:x:1000:1000:mana,,,:/home/mana:/bin/bash\r\n",
      "sshd:x:122:65534::/run/sshd:/usr/sbin/nologin\r\n",
      "\r\n"
     ]
    }
   ],
   "source": [
    "!cat ~/user.txt"
   ]
  },
  {
   "cell_type": "code",
   "execution_count": 68,
   "metadata": {},
   "outputs": [
    {
     "name": "stdout",
     "output_type": "stream",
     "text": [
      "mana:x:1000:1000:mana,,,:/home/mana:/bin/bash\n",
      "\n"
     ]
    }
   ],
   "source": [
    "%%bash\n",
    "\n",
    "grep -P '^(?!.*nologin$)' ~/user.txt"
   ]
  },
  {
   "cell_type": "code",
   "execution_count": 70,
   "metadata": {},
   "outputs": [
    {
     "name": "stdout",
     "output_type": "stream",
     "text": [
      "mana:x:1000:1000:mana,,,:/home/mana:/bin/bash \n"
     ]
    }
   ],
   "source": [
    "%%python3\n",
    "\n",
    "from pathlib import Path\n",
    "from re import search\n",
    "\n",
    "fr = Path('/home/mana/user.txt').read_text().splitlines()\n",
    "print(*[i for i in fr if search(r'^(?!.*nologin$)', i)])"
   ]
  },
  {
   "cell_type": "markdown",
   "metadata": {},
   "source": [
    "### **How to list nologin user?**"
   ]
  },
  {
   "cell_type": "code",
   "execution_count": null,
   "metadata": {},
   "outputs": [],
   "source": [
    "%%bash\n",
    "\n",
    "awk -F \":\" '/nologin$/{print $1}' <<< $(getent passwd)"
   ]
  },
  {
   "cell_type": "code",
   "execution_count": 26,
   "metadata": {},
   "outputs": [
    {
     "name": "stdout",
     "output_type": "stream",
     "text": [
      "daemon           bin              sys              games            man              \n",
      "lp               mail             news             uucp             proxy            \n",
      "www-data         backup           list             irc              gnats            \n",
      "nobody           systemd-network  systemd-resolve  syslog           messagebus       \n",
      "_apt             uuidd            avahi-autoipd    usbmux           dnsmasq          \n",
      "rtkit            cups-pk-helper   kernoops         saned            pulse            \n",
      "nm-openvpn       avahi            colord           geoclue          sshd             \n"
     ]
    }
   ],
   "source": [
    "%%python3\n",
    "\n",
    "import pwd\n",
    "\n",
    "nologin_user = [i.pw_name for i in pwd.getpwall() \n",
    "                if i.pw_shell.endswith('nologin')]\n",
    "fmt = '{:17s}'*5\n",
    "\n",
    "for user in zip(*[iter(nologin_user)] *5):\n",
    "    print(fmt.format(*user))\n"
   ]
  },
  {
   "cell_type": "markdown",
   "metadata": {},
   "source": [
    "### **How to insert text after a certain string in a file?**"
   ]
  },
  {
   "cell_type": "code",
   "execution_count": 7,
   "metadata": {},
   "outputs": [
    {
     "name": "stdout",
     "output_type": "stream",
     "text": [
      "Apple.\n",
      "Watermelon.\n",
      "Orange.\n",
      "Bannana\n",
      "Mango\n",
      "Strawberry.\n",
      "Grape.\n"
     ]
    }
   ],
   "source": [
    "%%bash\n",
    "\n",
    "sed  '/Banna/a Mango' /home/mana/Work/fruit.txt"
   ]
  },
  {
   "cell_type": "code",
   "execution_count": 12,
   "metadata": {},
   "outputs": [
    {
     "name": "stdout",
     "output_type": "stream",
     "text": [
      "Apple.\n",
      "Watermelon.\n",
      "Orange.\n",
      "Bannana\n",
      "Mango\n",
      "Strawberry.\n",
      "Grape.\n"
     ]
    }
   ],
   "source": [
    "%%python3\n",
    "\n",
    "from pathlib import Path\n",
    "\n",
    "fr = Path('/home/mana/Work/fruit.txt').read_text().splitlines()\n",
    "for i,j in enumerate(fr):\n",
    "    if 'Banna' in j:\n",
    "        fr.insert(i+1, 'Mango') \n",
    "        \n",
    "print(*fr, sep = '\\n')"
   ]
  },
  {
   "cell_type": "markdown",
   "metadata": {},
   "source": [
    "### **Draw Truth Table By Python**"
   ]
  },
  {
   "cell_type": "code",
   "execution_count": 22,
   "metadata": {},
   "outputs": [
    {
     "name": "stdout",
     "output_type": "stream",
     "text": [
      "AND:\n",
      "True and True = True\n",
      "True and False = False\n",
      "False and True = False\n",
      "False and False = False\n",
      "*************************\n",
      "OR:\n",
      "True or True = True\n",
      "True or False = True\n",
      "False or True = True\n",
      "False or False = False\n",
      "*************************\n",
      "NOT:\n",
      "Not True = False\n",
      "Not False = True\n"
     ]
    }
   ],
   "source": [
    "a = [True, False]\n",
    "b = [True, False]\n",
    "\n",
    "print(\"AND:\")\n",
    "for i in a:\n",
    "    for j in b:\n",
    "        print(i,'and', j,'=',i and j)\n",
    "print('*'*25)\n",
    "print(\"OR:\")\n",
    "for i in a:\n",
    "    for j in b:\n",
    "        print(i,'or',j,'=',i or j)\n",
    "print('*'*25)\n",
    "print(\"NOT:\")\n",
    "for i in a:\n",
    "    print('Not',i,'=',not i)"
   ]
  },
  {
   "cell_type": "markdown",
   "metadata": {},
   "source": [
    "### **How To Check Whether keyword Or Not?**"
   ]
  },
  {
   "cell_type": "code",
   "execution_count": 26,
   "metadata": {},
   "outputs": [
    {
     "name": "stdout",
     "output_type": "stream",
     "text": [
      "True\n",
      "True\n",
      "False\n"
     ]
    }
   ],
   "source": [
    "import keyword\n",
    "\n",
    "print(keyword.iskeyword('for'))\n",
    "print(keyword.iskeyword('in'))\n",
    "print(keyword.iskeyword('close'))"
   ]
  },
  {
   "cell_type": "markdown",
   "metadata": {},
   "source": [
    "### **How to merge two file with same line?**"
   ]
  },
  {
   "cell_type": "code",
   "execution_count": 33,
   "metadata": {},
   "outputs": [
    {
     "name": "stdout",
     "output_type": "stream",
     "text": [
      "Manavalan\r\n",
      "Saravanan\r\n",
      "Rani\r\n"
     ]
    }
   ],
   "source": [
    "!cat /home/mana/Work/name.txt"
   ]
  },
  {
   "cell_type": "code",
   "execution_count": 50,
   "metadata": {},
   "outputs": [
    {
     "name": "stdout",
     "output_type": "stream",
     "text": [
      "32\r\n",
      "18\r\n",
      "21\r\n"
     ]
    }
   ],
   "source": [
    "!cat /home/mana/Work/age.txt"
   ]
  },
  {
   "cell_type": "code",
   "execution_count": 46,
   "metadata": {},
   "outputs": [
    {
     "name": "stdout",
     "output_type": "stream",
     "text": [
      "Manavalan  32\n",
      "Saravanan  18\n",
      "Rani       21\n"
     ]
    }
   ],
   "source": [
    "%%bash\n",
    "\n",
    "cd /home/mana/Work\n",
    "paste name.txt age.txt | column -t"
   ]
  },
  {
   "cell_type": "code",
   "execution_count": 47,
   "metadata": {},
   "outputs": [
    {
     "name": "stdout",
     "output_type": "stream",
     "text": [
      "Manavalan   32\n",
      "Saravanan   18\n",
      "Rani        21\n"
     ]
    }
   ],
   "source": [
    "%%python3\n",
    "\n",
    "from pathlib import Path\n",
    "\n",
    "dir_path = Path('/home/mana/Work')\n",
    "name = (dir_path/'name.txt').read_text().splitlines()\n",
    "age = (dir_path/'age.txt').read_text().splitlines()\n",
    "for i,j in zip(name,age):\n",
    "    print(f'{i:12}{j}')"
   ]
  },
  {
   "cell_type": "markdown",
   "metadata": {},
   "source": [
    "### **How to merge two files into single file?**"
   ]
  },
  {
   "cell_type": "code",
   "execution_count": 48,
   "metadata": {},
   "outputs": [
    {
     "name": "stdout",
     "output_type": "stream",
     "text": [
      "Manavalan\r\n",
      "Saravanan\r\n",
      "Rani\r\n"
     ]
    }
   ],
   "source": [
    "!cat /home/mana/Work/name.txt"
   ]
  },
  {
   "cell_type": "code",
   "execution_count": 63,
   "metadata": {},
   "outputs": [
    {
     "name": "stdout",
     "output_type": "stream",
     "text": [
      "32\r\n",
      "18\r\n",
      "21\r\n"
     ]
    }
   ],
   "source": [
    "!cat /home/mana/Work/age.txt"
   ]
  },
  {
   "cell_type": "code",
   "execution_count": 55,
   "metadata": {},
   "outputs": [],
   "source": [
    "%%bash\n",
    "\n",
    "cat /home/mana/Work/{name.txt,age.txt} > out.txt"
   ]
  },
  {
   "cell_type": "code",
   "execution_count": 60,
   "metadata": {},
   "outputs": [],
   "source": [
    "%%python3\n",
    "\n",
    "from pathlib import Path\n",
    "\n",
    "dir_path = Path('/home/mana/Work')\n",
    "name = (dir_path/'name.txt').read_text().splitlines()\n",
    "age = (dir_path/'age.txt').read_text().splitlines()\n",
    "print(*(name+age), sep = '\\n', \n",
    "      file = open(dir_path/'out.txt', 'w'))"
   ]
  },
  {
   "cell_type": "code",
   "execution_count": 61,
   "metadata": {},
   "outputs": [
    {
     "name": "stdout",
     "output_type": "stream",
     "text": [
      "Manavalan\r\n",
      "Saravanan\r\n",
      "Rani\r\n",
      "32\r\n",
      "18\r\n",
      "21\r\n"
     ]
    }
   ],
   "source": [
    "!cat /home/mana/Work/out.txt"
   ]
  },
  {
   "cell_type": "markdown",
   "metadata": {},
   "source": [
    "### **How to count occurrence of particular word in a file?**"
   ]
  },
  {
   "cell_type": "code",
   "execution_count": 29,
   "metadata": {},
   "outputs": [
    {
     "name": "stdout",
     "output_type": "stream",
     "text": [
      "127.0.0.1\tlocalhost\r\n",
      "127.0.1.1\tjoe\r\n",
      "\r\n",
      "# The following lines are desirable for IPv6 capable hosts\r\n",
      "::1     ip6-localhost ip6-loopback\r\n",
      "fe00::0 ip6-localnet\r\n",
      "ff00::0 ip6-mcastprefix\r\n",
      "ff02::1 ip6-allnodes\r\n",
      "ff02::2 ip6-allrouters\r\n"
     ]
    }
   ],
   "source": [
    "!cat /etc/hosts"
   ]
  },
  {
   "cell_type": "code",
   "execution_count": 30,
   "metadata": {},
   "outputs": [
    {
     "name": "stdout",
     "output_type": "stream",
     "text": [
      "2\n"
     ]
    }
   ],
   "source": [
    "%%bash\n",
    "\n",
    "grep -ic \"localhost\" /etc/hosts"
   ]
  },
  {
   "cell_type": "code",
   "execution_count": 32,
   "metadata": {},
   "outputs": [
    {
     "name": "stdout",
     "output_type": "stream",
     "text": [
      "2\n"
     ]
    }
   ],
   "source": [
    "%%bash\n",
    "\n",
    "sed -n '/localhost/p' /etc/hosts | wc -l"
   ]
  },
  {
   "cell_type": "code",
   "execution_count": 38,
   "metadata": {},
   "outputs": [
    {
     "name": "stdout",
     "output_type": "stream",
     "text": [
      "2\n"
     ]
    }
   ],
   "source": [
    "%%bash\n",
    "awk '/localhost/{count++} END{print count}' /etc/hosts"
   ]
  },
  {
   "cell_type": "code",
   "execution_count": 37,
   "metadata": {},
   "outputs": [
    {
     "name": "stdout",
     "output_type": "stream",
     "text": [
      "2\n"
     ]
    }
   ],
   "source": [
    "%%python3\n",
    "\n",
    "from re import findall\n",
    "\n",
    "print(len(findall(r'localhost', open('/etc/hosts').read())))"
   ]
  },
  {
   "cell_type": "code",
   "execution_count": 52,
   "metadata": {},
   "outputs": [
    {
     "name": "stdout",
     "output_type": "stream",
     "text": [
      "2\n"
     ]
    }
   ],
   "source": [
    "%%bash\n",
    "\n",
    "echo \"Unix is unix not Linux\" | grep -iwo \"unix\" | wc -l"
   ]
  },
  {
   "cell_type": "markdown",
   "metadata": {},
   "source": [
    "### **How to read specific line in a file?**\n",
    "Here, I read 2nd line."
   ]
  },
  {
   "cell_type": "code",
   "execution_count": 55,
   "metadata": {},
   "outputs": [
    {
     "name": "stdout",
     "output_type": "stream",
     "text": [
      "Apple.\r\n",
      "Watermelon.\r\n",
      "Orange.\r\n",
      "Strawberry.\r\n",
      "Grape.\r\n"
     ]
    }
   ],
   "source": [
    "!cat /home/mana/Work/fruit.txt"
   ]
  },
  {
   "cell_type": "code",
   "execution_count": 59,
   "metadata": {},
   "outputs": [
    {
     "name": "stdout",
     "output_type": "stream",
     "text": [
      "Watermelon.\n"
     ]
    }
   ],
   "source": [
    "%%bash\n",
    "\n",
    "sed -n \"2p\" /home/mana/Work/fruit.txt"
   ]
  },
  {
   "cell_type": "code",
   "execution_count": 60,
   "metadata": {},
   "outputs": [
    {
     "name": "stdout",
     "output_type": "stream",
     "text": [
      "Watermelon.\n"
     ]
    }
   ],
   "source": [
    "%%bash\n",
    "\n",
    "awk 'NR == 2 {print}' /home/mana/Work/fruit.txt"
   ]
  },
  {
   "cell_type": "code",
   "execution_count": 58,
   "metadata": {},
   "outputs": [
    {
     "name": "stdout",
     "output_type": "stream",
     "text": [
      "Watermelon.\n"
     ]
    }
   ],
   "source": [
    "%%python3\n",
    "\n",
    "from pathlib import Path\n",
    "\n",
    "dpath = Path('/home/mana/Work/')\n",
    "print((dpath/'fruit.txt').read_text().splitlines()[1])"
   ]
  },
  {
   "cell_type": "markdown",
   "metadata": {},
   "source": [
    "### **Maximum element of the list**"
   ]
  },
  {
   "cell_type": "code",
   "execution_count": 65,
   "metadata": {},
   "outputs": [
    {
     "data": {
      "text/plain": [
       "6"
      ]
     },
     "execution_count": 65,
     "metadata": {},
     "output_type": "execute_result"
    }
   ],
   "source": [
    "lst = [ 1 , 3, 5, 6, 2 ]\n",
    "max(lst)"
   ]
  },
  {
   "cell_type": "code",
   "execution_count": 64,
   "metadata": {},
   "outputs": [
    {
     "data": {
      "text/plain": [
       "6"
      ]
     },
     "execution_count": 64,
     "metadata": {},
     "output_type": "execute_result"
    }
   ],
   "source": [
    "from functools import reduce\n",
    "\n",
    "lst = [ 1 , 3, 5, 6, 2 ]\n",
    "reduce(lambda a, b: a if a > b else b, lst)"
   ]
  },
  {
   "cell_type": "code",
   "execution_count": 66,
   "metadata": {},
   "outputs": [
    {
     "data": {
      "text/plain": [
       "6"
      ]
     },
     "execution_count": 66,
     "metadata": {},
     "output_type": "execute_result"
    }
   ],
   "source": [
    "lst = [ 1 , 3, 5, 6, 2 ]\n",
    "m = lst[0]\n",
    "\n",
    "for i in lst:\n",
    "    if i > m:\n",
    "        m = i\n",
    "m"
   ]
  },
  {
   "cell_type": "markdown",
   "metadata": {},
   "source": [
    "### **How to crack three digit number?**"
   ]
  },
  {
   "cell_type": "code",
   "execution_count": 86,
   "metadata": {},
   "outputs": [
    {
     "name": "stdout",
     "output_type": "stream",
     "text": [
      "139 Number Matched.\n"
     ]
    }
   ],
   "source": [
    "from itertools import product\n",
    "from string import digits\n",
    "\n",
    "secret_number = 139\n",
    "\n",
    "for i in product(digits, repeat = 3):\n",
    "    i = ''.join(i)\n",
    "    if int(i) == secret_number:\n",
    "        print(i, 'Number Matched.')\n",
    "        break    "
   ]
  },
  {
   "cell_type": "markdown",
   "metadata": {},
   "source": [
    "#### **How to generate 0 until 999 using functools and  string module?**"
   ]
  },
  {
   "cell_type": "code",
   "execution_count": 85,
   "metadata": {},
   "outputs": [
    {
     "name": "stdout",
     "output_type": "stream",
     "text": [
      "000\r",
      "001\r",
      "002\r",
      "003\r",
      "004\r",
      "005\r",
      "006\r",
      "007\r",
      "008\r",
      "009\r",
      "010\r",
      "011\r",
      "012\r",
      "013\r",
      "014\r",
      "015\r",
      "016\r",
      "017\r",
      "018\r",
      "019\r",
      "020\r",
      "021\r",
      "022\r",
      "023\r",
      "024\r",
      "025\r",
      "026\r",
      "027\r",
      "028\r",
      "029\r",
      "030\r",
      "031\r",
      "032\r",
      "033\r",
      "034\r",
      "035\r",
      "036\r",
      "037\r",
      "038\r",
      "039\r",
      "040\r",
      "041\r",
      "042\r",
      "043\r",
      "044\r",
      "045\r",
      "046\r",
      "047\r",
      "048\r",
      "049\r",
      "050\r",
      "051\r",
      "052\r",
      "053\r",
      "054\r",
      "055\r",
      "056\r",
      "057\r",
      "058\r",
      "059\r",
      "060\r",
      "061\r",
      "062\r",
      "063\r",
      "064\r",
      "065\r",
      "066\r",
      "067\r",
      "068\r",
      "069\r",
      "070\r",
      "071\r",
      "072\r",
      "073\r",
      "074\r",
      "075\r",
      "076\r",
      "077\r",
      "078\r",
      "079\r",
      "080\r",
      "081\r",
      "082\r",
      "083\r",
      "084\r",
      "085\r",
      "086\r",
      "087\r",
      "088\r",
      "089\r",
      "090\r",
      "091\r",
      "092\r",
      "093\r",
      "094\r",
      "095\r",
      "096\r",
      "097\r",
      "098\r",
      "099\r",
      "100\r",
      "101\r",
      "102\r",
      "103\r",
      "104\r",
      "105\r",
      "106\r",
      "107\r",
      "108\r",
      "109\r",
      "110\r",
      "111\r",
      "112\r",
      "113\r",
      "114\r",
      "115\r",
      "116\r",
      "117\r",
      "118\r",
      "119\r",
      "120\r",
      "121\r",
      "122\r",
      "123\r",
      "124\r",
      "125\r",
      "126\r",
      "127\r",
      "128\r",
      "129\r",
      "130\r",
      "131\r",
      "132\r",
      "133\r",
      "134\r",
      "135\r",
      "136\r",
      "137\r",
      "138\r",
      "139\r",
      "140\r",
      "141\r",
      "142\r",
      "143\r",
      "144\r",
      "145\r",
      "146\r",
      "147\r",
      "148\r",
      "149\r",
      "150\r",
      "151\r",
      "152\r",
      "153\r",
      "154\r",
      "155\r",
      "156\r",
      "157\r",
      "158\r",
      "159\r",
      "160\r",
      "161\r",
      "162\r",
      "163\r",
      "164\r",
      "165\r",
      "166\r",
      "167\r",
      "168\r",
      "169\r",
      "170\r",
      "171\r",
      "172\r",
      "173\r",
      "174\r",
      "175\r",
      "176\r",
      "177\r",
      "178\r",
      "179\r",
      "180\r",
      "181\r",
      "182\r",
      "183\r",
      "184\r",
      "185\r",
      "186\r",
      "187\r",
      "188\r",
      "189\r",
      "190\r",
      "191\r",
      "192\r",
      "193\r",
      "194\r",
      "195\r",
      "196\r",
      "197\r",
      "198\r",
      "199\r",
      "200\r",
      "201\r",
      "202\r",
      "203\r",
      "204\r",
      "205\r",
      "206\r",
      "207\r",
      "208\r",
      "209\r",
      "210\r",
      "211\r",
      "212\r",
      "213\r",
      "214\r",
      "215\r",
      "216\r",
      "217\r",
      "218\r",
      "219\r",
      "220\r",
      "221\r",
      "222\r",
      "223\r",
      "224\r",
      "225\r",
      "226\r",
      "227\r",
      "228\r",
      "229\r",
      "230\r",
      "231\r",
      "232\r",
      "233\r",
      "234\r",
      "235\r",
      "236\r",
      "237\r",
      "238\r",
      "239\r",
      "240\r",
      "241\r",
      "242\r",
      "243\r",
      "244\r",
      "245\r",
      "246\r",
      "247\r",
      "248\r",
      "249\r",
      "250\r",
      "251\r",
      "252\r",
      "253\r",
      "254\r",
      "255\r",
      "256\r",
      "257\r",
      "258\r",
      "259\r",
      "260\r",
      "261\r",
      "262\r",
      "263\r",
      "264\r",
      "265\r",
      "266\r",
      "267\r",
      "268\r",
      "269\r",
      "270\r",
      "271\r",
      "272\r",
      "273\r",
      "274\r",
      "275\r",
      "276\r",
      "277\r",
      "278\r",
      "279\r",
      "280\r",
      "281\r",
      "282\r",
      "283\r",
      "284\r",
      "285\r",
      "286\r",
      "287\r",
      "288\r",
      "289\r",
      "290\r",
      "291\r",
      "292\r",
      "293\r",
      "294\r",
      "295\r",
      "296\r",
      "297\r",
      "298\r",
      "299\r",
      "300\r",
      "301\r",
      "302\r",
      "303\r",
      "304\r",
      "305\r",
      "306\r",
      "307\r",
      "308\r",
      "309\r",
      "310\r",
      "311\r",
      "312\r",
      "313\r",
      "314\r",
      "315\r",
      "316\r",
      "317\r",
      "318\r",
      "319\r",
      "320\r",
      "321\r",
      "322\r",
      "323\r",
      "324\r",
      "325\r",
      "326\r",
      "327\r",
      "328\r",
      "329\r",
      "330\r",
      "331\r",
      "332\r",
      "333\r",
      "334\r",
      "335\r",
      "336\r",
      "337\r",
      "338\r",
      "339\r",
      "340\r",
      "341\r",
      "342\r",
      "343\r",
      "344\r",
      "345\r",
      "346\r",
      "347\r",
      "348\r",
      "349\r",
      "350\r",
      "351\r",
      "352\r",
      "353\r",
      "354\r",
      "355\r",
      "356\r",
      "357\r",
      "358\r",
      "359\r",
      "360\r",
      "361\r",
      "362\r",
      "363\r",
      "364\r",
      "365\r",
      "366\r",
      "367\r",
      "368\r",
      "369\r",
      "370\r",
      "371\r",
      "372\r",
      "373\r",
      "374\r",
      "375\r",
      "376\r",
      "377\r",
      "378\r",
      "379\r",
      "380\r",
      "381\r",
      "382\r",
      "383\r",
      "384\r",
      "385\r",
      "386\r",
      "387\r",
      "388\r",
      "389\r",
      "390\r",
      "391\r",
      "392\r",
      "393\r",
      "394\r",
      "395\r",
      "396\r",
      "397\r",
      "398\r",
      "399\r",
      "400\r",
      "401\r",
      "402\r",
      "403\r",
      "404\r",
      "405\r",
      "406\r",
      "407\r",
      "408\r",
      "409\r",
      "410\r",
      "411\r",
      "412\r",
      "413\r",
      "414\r",
      "415\r",
      "416\r",
      "417\r",
      "418\r",
      "419\r",
      "420\r",
      "421\r",
      "422\r",
      "423\r",
      "424\r",
      "425\r",
      "426\r",
      "427\r",
      "428\r",
      "429\r",
      "430\r",
      "431\r",
      "432\r",
      "433\r",
      "434\r",
      "435\r",
      "436\r",
      "437\r",
      "438\r",
      "439\r",
      "440\r",
      "441\r",
      "442\r",
      "443\r",
      "444\r",
      "445\r",
      "446\r",
      "447\r",
      "448\r",
      "449\r",
      "450\r",
      "451\r",
      "452\r",
      "453\r",
      "454\r",
      "455\r",
      "456\r",
      "457\r",
      "458\r",
      "459\r",
      "460\r",
      "461\r",
      "462\r",
      "463\r",
      "464\r",
      "465\r",
      "466\r",
      "467\r",
      "468\r",
      "469\r",
      "470\r",
      "471\r",
      "472\r",
      "473\r",
      "474\r",
      "475\r",
      "476\r",
      "477\r",
      "478\r",
      "479\r",
      "480\r",
      "481\r",
      "482\r",
      "483\r",
      "484\r",
      "485\r",
      "486\r",
      "487\r",
      "488\r",
      "489\r",
      "490\r",
      "491\r",
      "492\r",
      "493\r",
      "494\r",
      "495\r",
      "496\r",
      "497\r",
      "498\r",
      "499\r",
      "500\r",
      "501\r",
      "502\r",
      "503\r",
      "504\r",
      "505\r",
      "506\r",
      "507\r",
      "508\r",
      "509\r",
      "510\r",
      "511\r",
      "512\r",
      "513\r",
      "514\r",
      "515\r",
      "516\r",
      "517\r",
      "518\r",
      "519\r",
      "520\r",
      "521\r",
      "522\r",
      "523\r",
      "524\r",
      "525\r",
      "526\r",
      "527\r",
      "528\r",
      "529\r",
      "530\r",
      "531\r",
      "532\r",
      "533\r",
      "534\r",
      "535\r",
      "536\r",
      "537\r",
      "538\r",
      "539\r",
      "540\r",
      "541\r",
      "542\r",
      "543\r",
      "544\r",
      "545\r",
      "546\r",
      "547\r",
      "548\r",
      "549\r",
      "550\r",
      "551\r",
      "552\r",
      "553\r",
      "554\r",
      "555\r",
      "556\r",
      "557\r",
      "558\r",
      "559\r",
      "560\r",
      "561\r",
      "562\r",
      "563\r",
      "564\r",
      "565\r",
      "566\r",
      "567\r",
      "568\r",
      "569\r",
      "570\r",
      "571\r",
      "572\r",
      "573\r",
      "574\r",
      "575\r",
      "576\r",
      "577\r",
      "578\r",
      "579\r",
      "580\r",
      "581\r",
      "582\r",
      "583\r",
      "584\r",
      "585\r",
      "586\r",
      "587\r",
      "588\r",
      "589\r",
      "590\r",
      "591\r",
      "592\r",
      "593\r",
      "594\r",
      "595\r",
      "596\r",
      "597\r",
      "598\r",
      "599\r",
      "600\r",
      "601\r",
      "602\r",
      "603\r",
      "604\r",
      "605\r",
      "606\r",
      "607\r",
      "608\r",
      "609\r",
      "610\r",
      "611\r",
      "612\r",
      "613\r",
      "614\r",
      "615\r",
      "616\r",
      "617\r",
      "618\r",
      "619\r",
      "620\r",
      "621\r",
      "622\r",
      "623\r",
      "624\r",
      "625\r",
      "626\r",
      "627\r",
      "628\r",
      "629\r",
      "630\r",
      "631\r",
      "632\r",
      "633\r",
      "634\r",
      "635\r",
      "636\r",
      "637\r",
      "638\r",
      "639\r",
      "640\r",
      "641\r",
      "642\r",
      "643\r",
      "644\r",
      "645\r",
      "646\r",
      "647\r",
      "648\r",
      "649\r",
      "650\r",
      "651\r",
      "652\r",
      "653\r",
      "654\r",
      "655\r",
      "656\r",
      "657\r",
      "658\r",
      "659\r",
      "660\r",
      "661\r",
      "662\r",
      "663\r",
      "664\r",
      "665\r",
      "666\r",
      "667\r",
      "668\r",
      "669\r",
      "670\r",
      "671\r",
      "672\r",
      "673\r",
      "674\r",
      "675\r",
      "676\r",
      "677\r",
      "678\r",
      "679\r",
      "680\r",
      "681\r",
      "682\r",
      "683\r",
      "684\r",
      "685\r",
      "686\r",
      "687\r",
      "688\r",
      "689\r",
      "690\r",
      "691\r",
      "692\r",
      "693\r",
      "694\r",
      "695\r",
      "696\r",
      "697\r",
      "698\r",
      "699\r",
      "700\r",
      "701\r",
      "702\r",
      "703\r",
      "704\r",
      "705\r",
      "706\r",
      "707\r",
      "708\r",
      "709\r",
      "710\r",
      "711\r",
      "712\r",
      "713\r",
      "714\r",
      "715\r",
      "716\r",
      "717\r",
      "718\r",
      "719\r",
      "720\r",
      "721\r",
      "722\r",
      "723\r",
      "724\r",
      "725\r",
      "726\r",
      "727\r",
      "728\r",
      "729\r",
      "730\r",
      "731\r",
      "732\r",
      "733\r",
      "734\r",
      "735\r",
      "736\r",
      "737\r",
      "738\r",
      "739\r",
      "740\r",
      "741\r",
      "742\r",
      "743\r",
      "744\r",
      "745\r",
      "746\r",
      "747\r",
      "748\r",
      "749\r",
      "750\r",
      "751\r",
      "752\r",
      "753\r",
      "754\r",
      "755\r",
      "756\r",
      "757\r",
      "758\r",
      "759\r",
      "760\r",
      "761\r",
      "762\r",
      "763\r",
      "764\r",
      "765\r",
      "766\r",
      "767\r",
      "768\r",
      "769\r",
      "770\r",
      "771\r",
      "772\r",
      "773\r",
      "774\r",
      "775\r",
      "776\r",
      "777\r",
      "778\r",
      "779\r",
      "780\r",
      "781\r",
      "782\r",
      "783\r",
      "784\r",
      "785\r",
      "786\r",
      "787\r",
      "788\r",
      "789\r",
      "790\r",
      "791\r",
      "792\r",
      "793\r",
      "794\r",
      "795\r",
      "796\r",
      "797\r",
      "798\r",
      "799\r",
      "800\r",
      "801\r",
      "802\r",
      "803\r",
      "804\r",
      "805\r",
      "806\r",
      "807\r",
      "808\r",
      "809\r",
      "810\r",
      "811\r",
      "812\r",
      "813\r",
      "814\r",
      "815\r",
      "816\r",
      "817\r",
      "818\r",
      "819\r",
      "820\r",
      "821\r",
      "822\r",
      "823\r",
      "824\r",
      "825\r",
      "826\r",
      "827\r",
      "828\r",
      "829\r",
      "830\r",
      "831\r",
      "832\r",
      "833\r",
      "834\r",
      "835\r",
      "836\r",
      "837\r",
      "838\r",
      "839\r",
      "840\r",
      "841\r",
      "842\r",
      "843\r",
      "844\r",
      "845\r",
      "846\r",
      "847\r",
      "848\r",
      "849\r",
      "850\r",
      "851\r",
      "852\r",
      "853\r",
      "854\r",
      "855\r",
      "856\r",
      "857\r",
      "858\r",
      "859\r",
      "860\r",
      "861\r",
      "862\r",
      "863\r",
      "864\r",
      "865\r",
      "866\r",
      "867\r",
      "868\r",
      "869\r",
      "870\r",
      "871\r",
      "872\r",
      "873\r",
      "874\r",
      "875\r",
      "876\r",
      "877\r",
      "878\r",
      "879\r",
      "880\r",
      "881\r",
      "882\r",
      "883\r",
      "884\r",
      "885\r",
      "886\r",
      "887\r",
      "888\r",
      "889\r",
      "890\r",
      "891\r",
      "892\r",
      "893\r",
      "894\r",
      "895\r",
      "896\r",
      "897\r",
      "898\r",
      "899\r",
      "900\r",
      "901\r",
      "902\r",
      "903\r",
      "904\r",
      "905\r",
      "906\r",
      "907\r",
      "908\r",
      "909\r",
      "910\r",
      "911\r",
      "912\r",
      "913\r",
      "914\r",
      "915\r",
      "916\r",
      "917\r",
      "918\r",
      "919\r",
      "920\r",
      "921\r",
      "922\r",
      "923\r",
      "924\r",
      "925\r",
      "926\r",
      "927\r",
      "928\r",
      "929\r",
      "930\r",
      "931\r",
      "932\r",
      "933\r",
      "934\r",
      "935\r",
      "936\r",
      "937\r",
      "938\r",
      "939\r",
      "940\r",
      "941\r",
      "942\r",
      "943\r",
      "944\r",
      "945\r",
      "946\r",
      "947\r",
      "948\r",
      "949\r",
      "950\r",
      "951\r",
      "952\r",
      "953\r",
      "954\r",
      "955\r",
      "956\r",
      "957\r",
      "958\r",
      "959\r",
      "960\r",
      "961\r",
      "962\r",
      "963\r",
      "964\r",
      "965\r",
      "966\r",
      "967\r",
      "968\r",
      "969\r",
      "970\r",
      "971\r",
      "972\r",
      "973\r",
      "974\r",
      "975\r",
      "976\r",
      "977\r",
      "978\r",
      "979\r",
      "980\r",
      "981\r",
      "982\r",
      "983\r",
      "984\r",
      "985\r",
      "986\r",
      "987\r",
      "988\r",
      "989\r",
      "990\r",
      "991\r",
      "992\r",
      "993\r",
      "994\r",
      "995\r",
      "996\r",
      "997\r",
      "998\r",
      "999\r"
     ]
    }
   ],
   "source": [
    "from itertools import product\n",
    "from string import digits\n",
    "\n",
    "\n",
    "for i in product(digits, repeat = 3):\n",
    "    print(''.join(i), end = '\\r')"
   ]
  },
  {
   "cell_type": "markdown",
   "metadata": {},
   "source": [
    "### **With and Without initialization**"
   ]
  },
  {
   "cell_type": "markdown",
   "metadata": {},
   "source": [
    "#### **With initialization**"
   ]
  },
  {
   "cell_type": "code",
   "execution_count": 93,
   "metadata": {},
   "outputs": [
    {
     "name": "stdout",
     "output_type": "stream",
     "text": [
      "Hi Manavalan\n"
     ]
    }
   ],
   "source": [
    "class display:\n",
    "    def __init__(self, name):\n",
    "        self.name = name\n",
    "    \n",
    "    def hello(self):\n",
    "        print('Hi', self.name)\n",
    "        \n",
    "d1 = display('Manavalan')\n",
    "d1.hello()"
   ]
  },
  {
   "cell_type": "markdown",
   "metadata": {},
   "source": [
    "#### **Without initialization**"
   ]
  },
  {
   "cell_type": "code",
   "execution_count": 92,
   "metadata": {},
   "outputs": [
    {
     "name": "stdout",
     "output_type": "stream",
     "text": [
      "Hi Mana\n"
     ]
    }
   ],
   "source": [
    "class display:\n",
    "    def hello(self, name):\n",
    "        print('Hi', name)\n",
    "        \n",
    "d1 = display()\n",
    "d1.hello('Mana')"
   ]
  },
  {
   "cell_type": "markdown",
   "metadata": {},
   "source": [
    "### **How many words in a line?**"
   ]
  },
  {
   "cell_type": "code",
   "execution_count": 11,
   "metadata": {},
   "outputs": [
    {
     "name": "stdout",
     "output_type": "stream",
     "text": [
      "5\n",
      "5\n"
     ]
    }
   ],
   "source": [
    "%%bash\n",
    "\n",
    "text=\"Linux is Good Operating System.\"\n",
    "echo $text | egrep -o \"\\w+\" | wc -l\n",
    ": OR\n",
    "echo $text | egrep -o \"\\w+\" | awk 'END {print NR}'"
   ]
  },
  {
   "cell_type": "code",
   "execution_count": 10,
   "metadata": {},
   "outputs": [
    {
     "name": "stdout",
     "output_type": "stream",
     "text": [
      "5\n"
     ]
    }
   ],
   "source": [
    "%%bash\n",
    "\n",
    "text=\"Linux is Good Operating System.\"\n",
    "echo $text | awk '{print NF}'"
   ]
  },
  {
   "cell_type": "code",
   "execution_count": 12,
   "metadata": {},
   "outputs": [
    {
     "name": "stdout",
     "output_type": "stream",
     "text": [
      "5\n"
     ]
    }
   ],
   "source": [
    "%%python3\n",
    "\n",
    "text=\"Linux is Good Operating System.\"\n",
    "print(len(text.split()))"
   ]
  },
  {
   "cell_type": "code",
   "execution_count": 32,
   "metadata": {},
   "outputs": [
    {
     "name": "stdout",
     "output_type": "stream",
     "text": [
      "5\n"
     ]
    }
   ],
   "source": [
    "%%python3\n",
    "\n",
    "from re import findall\n",
    "\n",
    "text=\"Linux is Good Operating System.\"\n",
    "print(len(findall(r'\\w+', text)))"
   ]
  },
  {
   "cell_type": "markdown",
   "metadata": {},
   "source": [
    "### **How to count specific word occurrence in a same line?**"
   ]
  },
  {
   "cell_type": "code",
   "execution_count": 41,
   "metadata": {},
   "outputs": [
    {
     "name": "stdout",
     "output_type": "stream",
     "text": [
      "2\n",
      "2\n"
     ]
    }
   ],
   "source": [
    "%%bash\n",
    "\n",
    "text='Unix is unix not Linux.'\n",
    "echo $text | grep -iwo \"unix\" | wc -l\n",
    ": OR\n",
    "echo $text | grep -iwo \"unix\" | awk 'END {print NR}'"
   ]
  },
  {
   "cell_type": "code",
   "execution_count": 38,
   "metadata": {},
   "outputs": [
    {
     "name": "stdout",
     "output_type": "stream",
     "text": [
      "2\n"
     ]
    }
   ],
   "source": [
    "%%python3\n",
    "\n",
    "text='Unix is unix not Linux.'\n",
    "print(len([i for i in text.split() \n",
    "           if i.casefold() == 'unix']))"
   ]
  },
  {
   "cell_type": "code",
   "execution_count": 39,
   "metadata": {},
   "outputs": [
    {
     "name": "stdout",
     "output_type": "stream",
     "text": [
      "2\n"
     ]
    }
   ],
   "source": [
    "%%python3\n",
    "\n",
    "from re import findall, I\n",
    "\n",
    "text='Unix is unix not Linux.'\n",
    "print(len(findall(r'unix', text, I)))"
   ]
  },
  {
   "cell_type": "markdown",
   "metadata": {},
   "source": [
    "### **Check status of services and store into csv file**"
   ]
  },
  {
   "cell_type": "code",
   "execution_count": 69,
   "metadata": {},
   "outputs": [],
   "source": [
    "%%bash\n",
    "\n",
    "systemctl --type=service | sed -n '/service/p' | \\\n",
    "sed -rn 's/(^.*)loaded.*(running|exited|failed)(.*)/\\1, \\2/p'| \\\n",
    "sort -rk3 > ~/Work/status.csv"
   ]
  },
  {
   "cell_type": "code",
   "execution_count": 70,
   "metadata": {},
   "outputs": [],
   "source": [
    "%%python3\n",
    "\n",
    "from subprocess import check_output\n",
    "from re import search\n",
    "import csv\n",
    "\n",
    "cmd = 'systemctl --type=service'\n",
    "services = check_output(cmd.split()).decode().splitlines()[1:]\n",
    "status = []\n",
    "\n",
    "for i in services:\n",
    "    match = search(r'(^.*)loaded.*(running|exited|failed)',i)\n",
    "    if match:\n",
    "        status.append(list(match.groups()))\n",
    "\n",
    "status = sorted(status, key = lambda x: x[1], reverse = True)\n",
    "\n",
    "with open('/home/mana/Work/status.csv','w') as file:\n",
    "    writer = csv.writer(file)\n",
    "    writer.writerows(status)"
   ]
  },
  {
   "cell_type": "code",
   "execution_count": 71,
   "metadata": {},
   "outputs": [
    {
     "name": "stdout",
     "output_type": "stream",
     "text": [
      "  accounts-daemon.service                   ,running\r",
      "\r\n",
      "  acpid.service                             ,running\r",
      "\r\n",
      "  avahi-daemon.service                      ,running\r",
      "\r\n"
     ]
    }
   ],
   "source": [
    "head -3 /home/mana/Work/status.csv"
   ]
  },
  {
   "cell_type": "markdown",
   "metadata": {},
   "source": [
    "### **Recursion**\n",
    "\n",
    "A function is said to be a recursive if it calls itself. \n",
    "\n",
    "For example, lets say we have a function abc() and in the body of abc() there is a call to the abc().\n",
    "\n",
    "Example of Recursion:\n",
    "\n",
    "In this example we are defining a user-defined function factorial(). \n",
    "\n",
    "This function finds the factorial of a number by calling itself repeatedly until the base case is reached."
   ]
  },
  {
   "cell_type": "code",
   "execution_count": 2,
   "metadata": {},
   "outputs": [
    {
     "name": "stdout",
     "output_type": "stream",
     "text": [
      "Factorial of 5 is:  120\n"
     ]
    }
   ],
   "source": [
    "# find the factorial of a given number\n",
    "\n",
    "def factorial(num):\n",
    "    \"\"\"This function calls itself to find\n",
    "    the factorial of a number\"\"\"\n",
    "\n",
    "    if num == 1:\n",
    "        return 1\n",
    "    else:\n",
    "        return (num * factorial(num - 1))\n",
    "\n",
    "num = 5\n",
    "print(\"Factorial of\", num, \"is: \", factorial(num))"
   ]
  },
  {
   "cell_type": "markdown",
   "metadata": {},
   "source": [
    "### <a class=\"anchor\" id=\"first-bullet\"></a>\n",
    "1. Manavalan\n",
    "\n"
   ]
  },
  {
   "cell_type": "code",
   "execution_count": null,
   "metadata": {},
   "outputs": [],
   "source": []
  }
 ],
 "metadata": {
  "kernelspec": {
   "display_name": "Python 3",
   "language": "python",
   "name": "python3"
  },
  "language_info": {
   "codemirror_mode": {
    "name": "ipython",
    "version": 3
   },
   "file_extension": ".py",
   "mimetype": "text/x-python",
   "name": "python",
   "nbconvert_exporter": "python",
   "pygments_lexer": "ipython3",
   "version": "3.6.9"
  }
 },
 "nbformat": 4,
 "nbformat_minor": 2
}
