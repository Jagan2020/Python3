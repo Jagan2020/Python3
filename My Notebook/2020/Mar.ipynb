{
 "cells": [
  {
   "cell_type": "markdown",
   "metadata": {},
   "source": [
    "### **What is output?**"
   ]
  },
  {
   "cell_type": "code",
   "execution_count": null,
   "metadata": {},
   "outputs": [],
   "source": [
    "%%bash\n",
    "\n",
    "echo -e \"\\x44\""
   ]
  },
  {
   "cell_type": "raw",
   "metadata": {},
   "source": [
    "1. \\x44\n",
    "2. D\n",
    "3. 44\n",
    "4. command not found"
   ]
  },
  {
   "cell_type": "markdown",
   "metadata": {},
   "source": [
    "### **What is output?**"
   ]
  },
  {
   "cell_type": "code",
   "execution_count": null,
   "metadata": {},
   "outputs": [],
   "source": [
    "print(\"\\x64\")"
   ]
  },
  {
   "cell_type": "raw",
   "metadata": {},
   "source": [
    "1. \\x64\n",
    "2. D\n",
    "3. 64\n",
    "4. None\n",
    "5. d"
   ]
  },
  {
   "cell_type": "markdown",
   "metadata": {},
   "source": [
    "### **What is color of car2?**"
   ]
  },
  {
   "cell_type": "code",
   "execution_count": null,
   "metadata": {},
   "outputs": [],
   "source": [
    "car1, car2, car3 = 'Red', 'Black', 'White'"
   ]
  },
  {
   "cell_type": "raw",
   "metadata": {},
   "source": [
    "1. Red\n",
    "2. Black\n",
    "3. White\n",
    "4. None"
   ]
  },
  {
   "cell_type": "markdown",
   "metadata": {},
   "source": [
    "### What is my_car_color color?"
   ]
  },
  {
   "cell_type": "code",
   "execution_count": null,
   "metadata": {},
   "outputs": [],
   "source": [
    "%%bash\n",
    "\n",
    "cars=('Red' 'Black' 'White')\n",
    "my_car_color=${cars[1]}\n",
    "echo $my_car_color"
   ]
  },
  {
   "cell_type": "raw",
   "metadata": {},
   "source": [
    "1. Red\n",
    "2. Black\n",
    "3. White\n",
    "4. Error"
   ]
  },
  {
   "cell_type": "markdown",
   "metadata": {},
   "source": [
    "### **How to list files and directories in one Directory?**"
   ]
  },
  {
   "cell_type": "code",
   "execution_count": null,
   "metadata": {},
   "outputs": [],
   "source": [
    "%%python3\n",
    "\n",
    "from pathlib import Path\n",
    "\n",
    "d = Path('/home/mana/Work/honey')\n",
    "for i in d.iterdir():\n",
    "    print(i.name)"
   ]
  },
  {
   "cell_type": "code",
   "execution_count": null,
   "metadata": {},
   "outputs": [],
   "source": [
    "%%bash\n",
    "\n",
    "for i in /home/mana/Work/honey/*\n",
    "do\n",
    "echo $(basename $i)\n",
    "done"
   ]
  },
  {
   "cell_type": "code",
   "execution_count": null,
   "metadata": {},
   "outputs": [],
   "source": [
    "%%bash\n",
    "\n",
    "ls -1 /home/mana/Work/honey/"
   ]
  },
  {
   "cell_type": "markdown",
   "metadata": {},
   "source": [
    "### **What is output?**"
   ]
  },
  {
   "cell_type": "code",
   "execution_count": null,
   "metadata": {},
   "outputs": [],
   "source": [
    "%%python3\n",
    "\n",
    "S = b'Manavalan\\x20\\x4D'\n",
    "print(S.decode())"
   ]
  },
  {
   "cell_type": "raw",
   "metadata": {},
   "source": [
    "1. Manavalan\n",
    "2. b'Manavalan'\n",
    "3. UnicodeDecodeError: 'utf8'\n",
    "4. Manavalan M"
   ]
  },
  {
   "cell_type": "markdown",
   "metadata": {},
   "source": [
    "### **Check Whether a directory is empty or not**"
   ]
  },
  {
   "cell_type": "code",
   "execution_count": null,
   "metadata": {},
   "outputs": [],
   "source": [
    "%%python3\n",
    "\n",
    "import os\n",
    "\n",
    "print(len(os.listdir('/home/mana/Documents')) == 0 and 'empty' or 'not mmpty')"
   ]
  },
  {
   "cell_type": "code",
   "execution_count": null,
   "metadata": {},
   "outputs": [],
   "source": [
    "%%bash\n",
    "\n",
    "find /home/mana/Documents -type d -empty -exec echo {} is empty. \\;"
   ]
  },
  {
   "cell_type": "markdown",
   "metadata": {},
   "source": [
    "### **How to check whether systemd or init?**"
   ]
  },
  {
   "cell_type": "code",
   "execution_count": null,
   "metadata": {},
   "outputs": [],
   "source": [
    "from pathlib import Path\n",
    "\n",
    "sys = Path('/proc/1/comm').read_text().split()[0] == 'systemd'\n",
    "\n",
    "if sys:\n",
    "    print('This is systemd.')\n",
    "else:\n",
    "    print('This is init.')"
   ]
  },
  {
   "cell_type": "code",
   "execution_count": null,
   "metadata": {},
   "outputs": [],
   "source": [
    "from pathlib import Path\n",
    "\n",
    "sys = Path('/proc/1/comm').read_text().split()[0] == 'init'\n",
    "\n",
    "if sys:\n",
    "    print('This is systemd.')\n",
    "else:\n",
    "    print('This is init.')"
   ]
  },
  {
   "cell_type": "markdown",
   "metadata": {},
   "source": [
    "### **How to find How many lines in file?**"
   ]
  },
  {
   "cell_type": "code",
   "execution_count": null,
   "metadata": {},
   "outputs": [],
   "source": [
    "%%python3\n",
    "\n",
    "from pathlib import Path\n",
    "line = Path('/home/mana/Work/data.txt').read_text().splitlines()\n",
    "print(len(line))"
   ]
  },
  {
   "cell_type": "code",
   "execution_count": null,
   "metadata": {},
   "outputs": [],
   "source": [
    "%%python3\n",
    "\n",
    "print(open('/home/mana/Work/data.txt').read().count('\\n'))\n"
   ]
  },
  {
   "cell_type": "code",
   "execution_count": null,
   "metadata": {},
   "outputs": [],
   "source": [
    "%%python3\n",
    "\n",
    "for x,y in enumerate(open('/home/mana/Work/data.txt'), 1): pass\n",
    "else:\n",
    "    print(x)"
   ]
  },
  {
   "cell_type": "code",
   "execution_count": null,
   "metadata": {},
   "outputs": [],
   "source": [
    "%%python3\n",
    "\n",
    "from itertools import count\n",
    "for x,y in zip(count(1), open('/home/mana/Work/data.txt')): pass\n",
    "else:\n",
    "    print(x)"
   ]
  },
  {
   "cell_type": "code",
   "execution_count": null,
   "metadata": {},
   "outputs": [],
   "source": [
    "%%bash\n",
    "awk 'END {print NR}' /home/mana/Work/data.txt"
   ]
  },
  {
   "cell_type": "code",
   "execution_count": null,
   "metadata": {},
   "outputs": [],
   "source": [
    "%%bash\n",
    "wc -l /home/mana/Work/data.txt"
   ]
  },
  {
   "cell_type": "markdown",
   "metadata": {},
   "source": [
    "### **What is output?**"
   ]
  },
  {
   "cell_type": "code",
   "execution_count": null,
   "metadata": {},
   "outputs": [],
   "source": [
    "%%bash\n",
    "\n",
    "echo \"Linux\" | grep -o \"...\""
   ]
  },
  {
   "cell_type": "raw",
   "metadata": {},
   "source": [
    "1. Linux\n",
    "2. Lin\n",
    "3. Error\n",
    "4. L"
   ]
  },
  {
   "cell_type": "markdown",
   "metadata": {},
   "source": [
    "### **What is output?**"
   ]
  },
  {
   "cell_type": "code",
   "execution_count": null,
   "metadata": {},
   "outputs": [],
   "source": [
    "%%python3\n",
    "\n",
    "from re import findall\n",
    "\n",
    "print(findall(r'.{3}', 'Linux')[0])"
   ]
  },
  {
   "cell_type": "raw",
   "metadata": {},
   "source": [
    "1. Linux\n",
    "2. Lin\n",
    "3. Error\n",
    "4. L"
   ]
  },
  {
   "cell_type": "markdown",
   "metadata": {},
   "source": [
    "### **How to list file above 100MB?**"
   ]
  },
  {
   "cell_type": "code",
   "execution_count": null,
   "metadata": {},
   "outputs": [],
   "source": [
    "%%python3\n",
    "\n",
    "from pathlib import Path\n",
    "\n",
    "file = [str(x)  for x in Path('/home/mana/Work').iterdir() if x.stat().st_size > 1e+8]\n",
    "print(*file, sep = '\\n')\n"
   ]
  },
  {
   "cell_type": "code",
   "execution_count": null,
   "metadata": {},
   "outputs": [],
   "source": [
    "%%bash\n",
    "\n",
    "find /home/mana/Work -type f -size +100M"
   ]
  },
  {
   "cell_type": "markdown",
   "metadata": {},
   "source": [
    "### **What is output?**"
   ]
  },
  {
   "cell_type": "code",
   "execution_count": null,
   "metadata": {},
   "outputs": [],
   "source": [
    "lst = ['Vera', 'Raja', 'Krish', 'roja']\n",
    "\n",
    "[x for x in lst \n",
    " if x.casefold().startswith('r') == 'Raja'.casefold().startswith('r')]"
   ]
  },
  {
   "cell_type": "raw",
   "metadata": {},
   "source": [
    "1. ['Raja', 'roja']\n",
    "2. ['Raja']\n",
    "3. None\n",
    "4. lst = ['Vera', 'Raja', 'Krish', 'roja']"
   ]
  },
  {
   "cell_type": "code",
   "execution_count": null,
   "metadata": {},
   "outputs": [],
   "source": [
    "%%bash\n",
    "\n",
    "egrep -wo \"tool\" /usr/share/dict/words -m1\n",
    "egrep -wo \"run\" /usr/share/dict/words -m1"
   ]
  },
  {
   "cell_type": "code",
   "execution_count": null,
   "metadata": {},
   "outputs": [],
   "source": [
    "%%python3\n",
    "\n",
    "from pathlib import Path\n",
    "\n",
    "P = Path('/usr/share/dict/words').read_text().splitlines()\n",
    "\n",
    "print('tool' in P)\n",
    "print('run' in P)"
   ]
  },
  {
   "cell_type": "markdown",
   "metadata": {},
   "source": [
    "### **What is output?**"
   ]
  },
  {
   "cell_type": "code",
   "execution_count": null,
   "metadata": {},
   "outputs": [],
   "source": [
    "num = [1, 2, 3, 4]\n",
    "for i,j in enumerate(num, 1):\n",
    "    print(i+j, end= ' ')"
   ]
  },
  {
   "cell_type": "raw",
   "metadata": {},
   "source": [
    "A). 2 3 4 5\n",
    "B). 1, 2, 3, 4\n",
    "C). 2 4 6 8 \n",
    "D). 2, 3, 4, 5"
   ]
  },
  {
   "cell_type": "code",
   "execution_count": null,
   "metadata": {},
   "outputs": [],
   "source": [
    "%%bash\n",
    "\n",
    "for i in {1..4}; do\n",
    "echo -en $((i+i))\n",
    "done"
   ]
  },
  {
   "cell_type": "raw",
   "metadata": {},
   "source": [
    "A). 2345\n",
    "B). 1,2,3,4\n",
    "C). 2468 \n",
    "D). 2 3 4 5"
   ]
  },
  {
   "cell_type": "markdown",
   "metadata": {},
   "source": [
    "### **What is output?**"
   ]
  },
  {
   "cell_type": "code",
   "execution_count": null,
   "metadata": {},
   "outputs": [],
   "source": [
    "if not None:\n",
    "    print('True')"
   ]
  },
  {
   "cell_type": "raw",
   "metadata": {},
   "source": [
    "1. True\n",
    "2. False\n",
    "3. Error\n",
    "4. None"
   ]
  },
  {
   "cell_type": "markdown",
   "metadata": {},
   "source": [
    "### **OOPS New**"
   ]
  },
  {
   "cell_type": "code",
   "execution_count": 53,
   "metadata": {},
   "outputs": [
    {
     "name": "stdout",
     "output_type": "stream",
     "text": [
      "2\n"
     ]
    }
   ],
   "source": [
    "class A:\n",
    "    def __init__(self):\n",
    "        print(1)\n",
    "    def __new__(self):\n",
    "        print (2)\n",
    "obj1 = A()"
   ]
  },
  {
   "cell_type": "code",
   "execution_count": 54,
   "metadata": {},
   "outputs": [
    {
     "name": "stdout",
     "output_type": "stream",
     "text": [
      "2\n"
     ]
    }
   ],
   "source": [
    "class A:\n",
    "    def __init__(self):\n",
    "        print(1)\n",
    "    def __new__(self):\n",
    "        print (2)\n",
    "        \n",
    "A()"
   ]
  },
  {
   "cell_type": "markdown",
   "metadata": {},
   "source": [
    "### **What is output?**"
   ]
  },
  {
   "cell_type": "code",
   "execution_count": null,
   "metadata": {},
   "outputs": [],
   "source": [
    "%%python3\n",
    "\n",
    "name = 'manavalan'\n",
    "print(name.title())\n"
   ]
  },
  {
   "cell_type": "code",
   "execution_count": 60,
   "metadata": {},
   "outputs": [
    {
     "name": "stdout",
     "output_type": "stream",
     "text": [
      "Manavalan\n"
     ]
    }
   ],
   "source": [
    "%%bash\n",
    "\n",
    "name=manavalan\n",
    "echo ${name^}\n"
   ]
  },
  {
   "cell_type": "code",
   "execution_count": null,
   "metadata": {},
   "outputs": [],
   "source": [
    "1. Manavalan\n",
    "2. manavalan\n",
    "3. MANAVALAN\n",
    "4. Error"
   ]
  },
  {
   "cell_type": "markdown",
   "metadata": {},
   "source": [
    "### **How to to create even numbers?**"
   ]
  },
  {
   "cell_type": "code",
   "execution_count": 4,
   "metadata": {},
   "outputs": [
    {
     "name": "stdout",
     "output_type": "stream",
     "text": [
      "2 4 6 8 10 12\n"
     ]
    }
   ],
   "source": [
    "%%bash\n",
    "\n",
    "echo {2..12..2}"
   ]
  },
  {
   "cell_type": "code",
   "execution_count": 8,
   "metadata": {},
   "outputs": [
    {
     "name": "stdout",
     "output_type": "stream",
     "text": [
      "2 4 6 8 10 "
     ]
    }
   ],
   "source": [
    "%%python3\n",
    "\n",
    "for i in range(2,12,2):\n",
    "    print(i, end = ' ')\n",
    "\n"
   ]
  },
  {
   "cell_type": "code",
   "execution_count": 11,
   "metadata": {},
   "outputs": [
    {
     "data": {
      "text/plain": [
       "[2, 4, 6, 8, 10]"
      ]
     },
     "execution_count": 11,
     "metadata": {},
     "output_type": "execute_result"
    }
   ],
   "source": [
    "[i+i for i in range(1,6)]"
   ]
  },
  {
   "cell_type": "markdown",
   "metadata": {},
   "source": [
    "### **How to convert from lower case to upper case?**"
   ]
  },
  {
   "cell_type": "code",
   "execution_count": 1,
   "metadata": {},
   "outputs": [
    {
     "name": "stdout",
     "output_type": "stream",
     "text": [
      "Linux is good operating system\r\n"
     ]
    }
   ],
   "source": [
    "!echo \"Linux is good operating system\""
   ]
  },
  {
   "cell_type": "code",
   "execution_count": 2,
   "metadata": {},
   "outputs": [
    {
     "name": "stdout",
     "output_type": "stream",
     "text": [
      "LINUX IS GOOD OPERATING SYSTEM\n"
     ]
    }
   ],
   "source": [
    "%%bash \n",
    "\n",
    "echo \"Linux is good operating system\" | tr \"[a-z]\" \"[A-Z]\""
   ]
  },
  {
   "cell_type": "code",
   "execution_count": 3,
   "metadata": {},
   "outputs": [
    {
     "name": "stdout",
     "output_type": "stream",
     "text": [
      "LINUX IS GOOD OPERATING SYSTEM\n"
     ]
    }
   ],
   "source": [
    "%%bash\n",
    "\n",
    "echo \"Linux is good operating system\" | sed \"s/.*/\\U&/\""
   ]
  },
  {
   "cell_type": "code",
   "execution_count": 4,
   "metadata": {},
   "outputs": [
    {
     "name": "stdout",
     "output_type": "stream",
     "text": [
      "LINUX IS GOOD OPERATING SYSTEM\n"
     ]
    }
   ],
   "source": [
    "%%bash\n",
    "\n",
    "echo \"Linux is good operating system\" | awk '{ print toupper($0) }'"
   ]
  },
  {
   "cell_type": "code",
   "execution_count": 8,
   "metadata": {},
   "outputs": [
    {
     "name": "stdout",
     "output_type": "stream",
     "text": [
      "LINUX IS GOOD OPERATING SYSTEM\n"
     ]
    }
   ],
   "source": [
    "%%python3\n",
    "\n",
    "print(\"Linux is good operating system\".upper())"
   ]
  },
  {
   "cell_type": "markdown",
   "metadata": {},
   "source": [
    "### **How many zero will appaer to here after run this code?**"
   ]
  },
  {
   "cell_type": "code",
   "execution_count": null,
   "metadata": {},
   "outputs": [],
   "source": [
    "%%python3\n",
    "\n",
    "print(f'{1e+8: .0f}')"
   ]
  },
  {
   "cell_type": "raw",
   "metadata": {},
   "source": [
    "A). 1\n",
    "B). 1e+8\n",
    "C). 8\n",
    "D). 9"
   ]
  },
  {
   "cell_type": "markdown",
   "metadata": {},
   "source": [
    "### **How many zero will appaer to here after run this code?**"
   ]
  },
  {
   "cell_type": "code",
   "execution_count": null,
   "metadata": {},
   "outputs": [],
   "source": [
    "%%bash\n",
    "\n",
    "awk 'BEGIN {print (1e+8)}'"
   ]
  },
  {
   "cell_type": "raw",
   "metadata": {},
   "source": [
    "A). 1\n",
    "B). 1e+8\n",
    "C). 8\n",
    "D). 9\n",
    "E). awk split Error"
   ]
  },
  {
   "cell_type": "markdown",
   "metadata": {},
   "source": [
    "### **How to filter youTube video id only?**"
   ]
  },
  {
   "cell_type": "code",
   "execution_count": 15,
   "metadata": {},
   "outputs": [
    {
     "name": "stdout",
     "output_type": "stream",
     "text": [
      "PI4JABNwB_U\n"
     ]
    }
   ],
   "source": [
    "%%python3\n",
    "\n",
    "from re import search\n",
    "print(search(r'.{11}$', 'https://www.youtube.com/watch?v=PI4JABNwB_U').group())"
   ]
  },
  {
   "cell_type": "code",
   "execution_count": 22,
   "metadata": {},
   "outputs": [
    {
     "name": "stdout",
     "output_type": "stream",
     "text": [
      "PI4JABNwB_U\n"
     ]
    }
   ],
   "source": [
    "%%python3\n",
    "\n",
    "vid = 'https://www.youtube.com/watch?v=PI4JABNwB_U'\n",
    "print(vid.rpartition('v=')[2])"
   ]
  },
  {
   "cell_type": "code",
   "execution_count": 3,
   "metadata": {},
   "outputs": [
    {
     "name": "stdout",
     "output_type": "stream",
     "text": [
      "PI4JABNwB_U\n"
     ]
    }
   ],
   "source": [
    "%%bash\n",
    "\n",
    "echo \"https://www.youtube.com/watch?v=PI4JABNwB_U\" | grep -Po '.{11}$' "
   ]
  },
  {
   "cell_type": "markdown",
   "metadata": {},
   "source": [
    "### ***What is Output***"
   ]
  },
  {
   "cell_type": "code",
   "execution_count": null,
   "metadata": {},
   "outputs": [],
   "source": [
    "%%python3\n",
    "\n",
    "print('*'*3)"
   ]
  },
  {
   "cell_type": "raw",
   "metadata": {},
   "source": [
    "A). 123\n",
    "B). *\n",
    "C). ***\n",
    "D). Error"
   ]
  },
  {
   "cell_type": "code",
   "execution_count": null,
   "metadata": {},
   "outputs": [],
   "source": [
    "%%bash\n",
    "\n",
    "for i in {1..3};do  echo -n \"+\"; done; echo"
   ]
  },
  {
   "cell_type": "raw",
   "metadata": {},
   "source": [
    "A). 123\n",
    "B). +\n",
    "C). +++\n",
    "D). 1..3"
   ]
  },
  {
   "cell_type": "markdown",
   "metadata": {},
   "source": [
    "### **What is output?**"
   ]
  },
  {
   "cell_type": "code",
   "execution_count": null,
   "metadata": {},
   "outputs": [],
   "source": [
    "len([i for i in f'{101:b}' if i == '1'])"
   ]
  },
  {
   "cell_type": "raw",
   "metadata": {},
   "source": [
    "A). 2\n",
    "B). 4\n",
    "C). Error\n",
    "D). Code Wrong"
   ]
  },
  {
   "cell_type": "code",
   "execution_count": 1,
   "metadata": {},
   "outputs": [
    {
     "name": "stdout",
     "output_type": "stream",
     "text": [
      "1  ,  [2, 3, 4]\n"
     ]
    }
   ],
   "source": [
    "a,*b={1:10,2:20,3:30,4:40}\n",
    "print(a, ' , ' , b)"
   ]
  },
  {
   "cell_type": "markdown",
   "metadata": {},
   "source": [
    "### **How to write ABCD...?**"
   ]
  },
  {
   "cell_type": "code",
   "execution_count": 1,
   "metadata": {},
   "outputs": [
    {
     "name": "stdout",
     "output_type": "stream",
     "text": [
      "A B C D E F G H I J K L M N O P Q R S T U V W X Y Z\n"
     ]
    }
   ],
   "source": [
    "%%bash\n",
    "\n",
    "echo {A..Z}"
   ]
  },
  {
   "cell_type": "code",
   "execution_count": 4,
   "metadata": {},
   "outputs": [
    {
     "name": "stdout",
     "output_type": "stream",
     "text": [
      "A B C D E F G H I J K L M N O P Q R S T U V W X Y Z\n"
     ]
    }
   ],
   "source": [
    "%%python3\n",
    "\n",
    "from string import ascii_uppercase\n",
    "print(*ascii_uppercase, sep = ' ')"
   ]
  },
  {
   "cell_type": "markdown",
   "metadata": {},
   "source": [
    "### **How to call fucntion?**"
   ]
  },
  {
   "cell_type": "markdown",
   "metadata": {},
   "source": [
    "#### **Mistake call**"
   ]
  },
  {
   "cell_type": "code",
   "execution_count": 18,
   "metadata": {},
   "outputs": [
    {
     "data": {
      "text/plain": [
       "<function __main__.hello()>"
      ]
     },
     "execution_count": 18,
     "metadata": {},
     "output_type": "execute_result"
    }
   ],
   "source": [
    "def hello():    \n",
    "    return 'Hi'\n",
    "\n",
    "hello"
   ]
  },
  {
   "cell_type": "markdown",
   "metadata": {},
   "source": [
    "#### **Wrong call**"
   ]
  },
  {
   "cell_type": "code",
   "execution_count": 22,
   "metadata": {},
   "outputs": [
    {
     "ename": "TypeError",
     "evalue": "hello() takes 0 positional arguments but 1 was given",
     "output_type": "error",
     "traceback": [
      "\u001b[0;31m---------------------------------------------------------------------------\u001b[0m",
      "\u001b[0;31mTypeError\u001b[0m                                 Traceback (most recent call last)",
      "\u001b[0;32m<ipython-input-22-39ae5627c3ee>\u001b[0m in \u001b[0;36m<module>\u001b[0;34m\u001b[0m\n\u001b[1;32m      1\u001b[0m \u001b[0;32mdef\u001b[0m \u001b[0mhello\u001b[0m\u001b[0;34m(\u001b[0m\u001b[0;34m)\u001b[0m\u001b[0;34m:\u001b[0m\u001b[0;34m\u001b[0m\u001b[0;34m\u001b[0m\u001b[0m\n\u001b[1;32m      2\u001b[0m     \u001b[0;32mreturn\u001b[0m \u001b[0;34m'Hi'\u001b[0m\u001b[0;34m\u001b[0m\u001b[0;34m\u001b[0m\u001b[0m\n\u001b[0;32m----> 3\u001b[0;31m \u001b[0mhello\u001b[0m\u001b[0;34m(\u001b[0m\u001b[0;34m'Hi'\u001b[0m\u001b[0;34m)\u001b[0m\u001b[0;34m\u001b[0m\u001b[0;34m\u001b[0m\u001b[0m\n\u001b[0m",
      "\u001b[0;31mTypeError\u001b[0m: hello() takes 0 positional arguments but 1 was given"
     ]
    }
   ],
   "source": [
    "def hello():    \n",
    "    return 'Hi'\n",
    "hello('Hi')"
   ]
  },
  {
   "cell_type": "markdown",
   "metadata": {},
   "source": [
    "#### **Right call**"
   ]
  },
  {
   "cell_type": "code",
   "execution_count": 21,
   "metadata": {},
   "outputs": [
    {
     "data": {
      "text/plain": [
       "'Hi'"
      ]
     },
     "execution_count": 21,
     "metadata": {},
     "output_type": "execute_result"
    }
   ],
   "source": [
    "def hello():    \n",
    "    return 'Hi'\n",
    "\n",
    "hello()"
   ]
  },
  {
   "cell_type": "markdown",
   "metadata": {},
   "source": [
    "## **if ..else..**"
   ]
  },
  {
   "cell_type": "code",
   "execution_count": 6,
   "metadata": {},
   "outputs": [
    {
     "name": "stdout",
     "output_type": "stream",
     "text": [
      "5 is less than 10\n"
     ]
    }
   ],
   "source": [
    "%%python3\n",
    "\n",
    "a = 5\n",
    "b = 10\n",
    "\n",
    "if a >= b:\n",
    "    print(f\"{a} is greater than {b}\")\n",
    "else:\n",
    "    print(f\"{a} is less than {b}\")"
   ]
  },
  {
   "cell_type": "code",
   "execution_count": 2,
   "metadata": {},
   "outputs": [
    {
     "name": "stdout",
     "output_type": "stream",
     "text": [
      "5 is less than 10\n"
     ]
    }
   ],
   "source": [
    "%%bash\n",
    "\n",
    "a=5\n",
    "b=10\n",
    "\n",
    "if (($a >= $b))\n",
    "then\n",
    "echo \"$a is greater than $b\"\n",
    "else\n",
    "echo \"$a is less than $b\"\n",
    "fi"
   ]
  },
  {
   "cell_type": "markdown",
   "metadata": {},
   "source": [
    "### **How to check Linux Server RAM size ?**"
   ]
  },
  {
   "cell_type": "code",
   "execution_count": 3,
   "metadata": {},
   "outputs": [
    {
     "name": "stdout",
     "output_type": "stream",
     "text": [
      "MemTotal:        3995128 kB\r\n"
     ]
    }
   ],
   "source": [
    "!grep -i \"^memtotal\" /proc/meminfo"
   ]
  },
  {
   "cell_type": "code",
   "execution_count": 21,
   "metadata": {},
   "outputs": [
    {
     "name": "stdout",
     "output_type": "stream",
     "text": [
      "      3995128 K total memory\r\n"
     ]
    }
   ],
   "source": [
    "!vmstat -s | awk 'NR == 1'"
   ]
  },
  {
   "cell_type": "code",
   "execution_count": 2,
   "metadata": {},
   "outputs": [
    {
     "name": "stdout",
     "output_type": "stream",
     "text": [
      "Total RAM Size: 3.8G\n"
     ]
    }
   ],
   "source": [
    "!free -h | awk 'NR == 2 {print \"Total RAM Size:\", $2}'"
   ]
  },
  {
   "cell_type": "code",
   "execution_count": 1,
   "metadata": {},
   "outputs": [
    {
     "name": "stdout",
     "output_type": "stream",
     "text": [
      "Total RAM Size: 4G\n"
     ]
    }
   ],
   "source": [
    "%%python3\n",
    "\n",
    "from pathlib import Path\n",
    "import bisect\n",
    "\n",
    "size = [1, 1e+3, 1e+6, 1e+9]\n",
    "unit = ['K','M', 'G']\n",
    "\n",
    "def convert(byts):\n",
    "        index = bisect.bisect(size, byts) - 1\n",
    "        return  str(round(byts/size[index]))+ unit[index]\n",
    "    \n",
    "mem = Path('/proc/meminfo').read_text().splitlines()\n",
    "rk = [i.split()[1] for i in mem if i.startswith('MemTotal')]\n",
    "print('Total RAM Size:',convert((int(*rk))))"
   ]
  },
  {
   "cell_type": "markdown",
   "metadata": {},
   "source": [
    "### **Nested Loop**"
   ]
  },
  {
   "cell_type": "code",
   "execution_count": 13,
   "metadata": {},
   "outputs": [
    {
     "name": "stdout",
     "output_type": "stream",
     "text": [
      "A A\n",
      "A B\n",
      "A C\n",
      "A D\n",
      "B A\n",
      "B B\n",
      "B C\n",
      "B D\n",
      "C A\n",
      "C B\n",
      "C C\n",
      "C D\n",
      "D A\n",
      "D B\n",
      "D C\n",
      "D D\n"
     ]
    }
   ],
   "source": [
    "%%bash\n",
    "\n",
    "for i in {A..D}\n",
    "do\n",
    "for j in {A..D}\n",
    "do\n",
    "echo $i $j\n",
    "done\n",
    "done"
   ]
  },
  {
   "cell_type": "markdown",
   "metadata": {},
   "source": [
    "### **How Nested For Loop Works?**"
   ]
  },
  {
   "cell_type": "code",
   "execution_count": 14,
   "metadata": {},
   "outputs": [
    {
     "name": "stdout",
     "output_type": "stream",
     "text": [
      "A A\n",
      "A B\n",
      "A C\n",
      "A D\n",
      "B A\n",
      "B B\n",
      "B C\n",
      "B D\n",
      "C A\n",
      "C B\n",
      "C C\n",
      "C D\n",
      "D A\n",
      "D B\n",
      "D C\n",
      "D D\n"
     ]
    },
    {
     "name": "stderr",
     "output_type": "stream",
     "text": [
      "\n",
      "for i in {A..D}\n",
      "do\n",
      "for j in {A..D}\n",
      "do\n",
      "echo $i $j\n",
      "done\n",
      "done\n",
      "+ for i in {A..D}\n",
      "+ for j in {A..D}\n",
      "+ echo A A\n",
      "+ for j in {A..D}\n",
      "+ echo A B\n",
      "+ for j in {A..D}\n",
      "+ echo A C\n",
      "+ for j in {A..D}\n",
      "+ echo A D\n",
      "+ for i in {A..D}\n",
      "+ for j in {A..D}\n",
      "+ echo B A\n",
      "+ for j in {A..D}\n",
      "+ echo B B\n",
      "+ for j in {A..D}\n",
      "+ echo B C\n",
      "+ for j in {A..D}\n",
      "+ echo B D\n",
      "+ for i in {A..D}\n",
      "+ for j in {A..D}\n",
      "+ echo C A\n",
      "+ for j in {A..D}\n",
      "+ echo C B\n",
      "+ for j in {A..D}\n",
      "+ echo C C\n",
      "+ for j in {A..D}\n",
      "+ echo C D\n",
      "+ for i in {A..D}\n",
      "+ for j in {A..D}\n",
      "+ echo D A\n",
      "+ for j in {A..D}\n",
      "+ echo D B\n",
      "+ for j in {A..D}\n",
      "+ echo D C\n",
      "+ for j in {A..D}\n",
      "+ echo D D\n"
     ]
    }
   ],
   "source": [
    "%%bash -vx\n",
    "\n",
    "for i in {A..D}\n",
    "do\n",
    "for j in {A..D}\n",
    "do\n",
    "echo $i $j\n",
    "done\n",
    "done"
   ]
  },
  {
   "cell_type": "markdown",
   "metadata": {},
   "source": [
    "### **How to generate Nested for loop using itertools?**"
   ]
  },
  {
   "cell_type": "code",
   "execution_count": 9,
   "metadata": {},
   "outputs": [
    {
     "name": "stdout",
     "output_type": "stream",
     "text": [
      "('A', 'A')\n",
      "('A', 'B')\n",
      "('A', 'C')\n",
      "('A', 'D')\n",
      "('B', 'A')\n",
      "('B', 'B')\n",
      "('B', 'C')\n",
      "('B', 'D')\n",
      "('C', 'A')\n",
      "('C', 'B')\n",
      "('C', 'C')\n",
      "('C', 'D')\n",
      "('D', 'A')\n",
      "('D', 'B')\n",
      "('D', 'C')\n",
      "('D', 'D')\n"
     ]
    }
   ],
   "source": [
    "%%python3\n",
    "\n",
    "from itertools import product\n",
    "\n",
    "print(*product('ABCD', repeat=2), sep = '\\n')"
   ]
  },
  {
   "cell_type": "markdown",
   "metadata": {},
   "source": [
    "### **How  check how many unicode character**\n",
    "### **associted in single character?**\n",
    "\n",
    "Note: This is Tamil character. This method applicable in all language."
   ]
  },
  {
   "cell_type": "code",
   "execution_count": 18,
   "metadata": {},
   "outputs": [
    {
     "data": {
      "text/plain": [
       "[2996, 3021]"
      ]
     },
     "execution_count": 18,
     "metadata": {},
     "output_type": "execute_result"
    }
   ],
   "source": [
    "charcter = 'ழ்'\n",
    "\n",
    "[ord(i) for i in charcter]"
   ]
  },
  {
   "cell_type": "code",
   "execution_count": 19,
   "metadata": {},
   "outputs": [
    {
     "data": {
      "text/plain": [
       "'ழ'"
      ]
     },
     "execution_count": 19,
     "metadata": {},
     "output_type": "execute_result"
    }
   ],
   "source": [
    "chr(2996)"
   ]
  },
  {
   "cell_type": "code",
   "execution_count": 20,
   "metadata": {},
   "outputs": [
    {
     "data": {
      "text/plain": [
       "'்'"
      ]
     },
     "execution_count": 20,
     "metadata": {},
     "output_type": "execute_result"
    }
   ],
   "source": [
    "chr(3021)"
   ]
  },
  {
   "cell_type": "markdown",
   "metadata": {},
   "source": [
    "### **How to find when was linux kernel last updated?**"
   ]
  },
  {
   "cell_type": "raw",
   "metadata": {},
   "source": [
    "Here i show what are exists kernel in my system."
   ]
  },
  {
   "cell_type": "code",
   "execution_count": 54,
   "metadata": {},
   "outputs": [
    {
     "name": "stdout",
     "output_type": "stream",
     "text": [
      "/boot/vmlinuz-5.0.0-37-generic -> 2019-11-14 15:59:51.000000000 +0530\n",
      "/boot/vmlinuz-5.3.0-40-generic -> 2020-02-03 18:41:06.000000000 +0530\n"
     ]
    }
   ],
   "source": [
    "%%bash\n",
    "\n",
    "stat -c \"%n -> %y\" /boot/vml*"
   ]
  },
  {
   "cell_type": "code",
   "execution_count": 55,
   "metadata": {},
   "outputs": [
    {
     "name": "stdout",
     "output_type": "stream",
     "text": [
      "vmlinuz-5.3.0-40-generic -> 03-02-2020\n"
     ]
    }
   ],
   "source": [
    "%%python3\n",
    "\n",
    "from datetime import date\n",
    "from pathlib import Path\n",
    "\n",
    "P = Path('/boot/')\n",
    "kernel = max([i.name for i in P.iterdir() if str(i.name).startswith('vml')])\n",
    "vm_time = date.fromtimestamp((P/kernel).stat().st_mtime)\n",
    "print(kernel, \"->\", vm_time.strftime(\"%d-%m-%Y\"))"
   ]
  },
  {
   "cell_type": "markdown",
   "metadata": {},
   "source": [
    "### **How to list files recursively?**"
   ]
  },
  {
   "cell_type": "markdown",
   "metadata": {},
   "source": [
    "### **How to list Zombie process?**"
   ]
  },
  {
   "cell_type": "code",
   "execution_count": 65,
   "metadata": {},
   "outputs": [
    {
     "name": "stdout",
     "output_type": "stream",
     "text": [
      "No Zombie process found.\n"
     ]
    }
   ],
   "source": [
    "%%python3\n",
    "\n",
    "from pathlib import Path\n",
    "\n",
    "pdir = [adt.joinpath('status') for adt in Path('/proc').glob('[0-9]*')]\n",
    "zom = [(rxt.parent.name ,rxt.read_text().splitlines()[:3][1].split('\\t')[1])\n",
    "       for rxt in pdir]\n",
    "\n",
    "for pid, zombie in zom:\n",
    "    if 'Z (zombie)' in zombie:\n",
    "        print(pid, zombie)\n",
    "else:\n",
    "    print('No Zombie process found.')\\"
   ]
  },
  {
   "cell_type": "markdown",
   "metadata": {},
   "source": [
    "### **How to find last two modified file in directory?**"
   ]
  },
  {
   "cell_type": "code",
   "execution_count": 98,
   "metadata": {},
   "outputs": [
    {
     "name": "stdout",
     "output_type": "stream",
     "text": [
      "2020-03-25 20:15:36.977602686 +0530 /var/log/syslog\n",
      "2020-03-25 20:15:37.453608092 +0530 /var/log/journal/68711e34443e441bb47ee6917c0fdf1a/user-1000.journal\n"
     ]
    },
    {
     "name": "stderr",
     "output_type": "stream",
     "text": [
      "find: ‘/var/log/samba/cores’: Permission denied\n",
      "find: ‘/var/log/speech-dispatcher’: Permission denied\n"
     ]
    }
   ],
   "source": [
    "%%bash\n",
    "\n",
    "find /var/log -type f -exec stat -c '%y %n' -- '{}' \\+ | sort | tail -2"
   ]
  },
  {
   "cell_type": "code",
   "execution_count": 99,
   "metadata": {},
   "outputs": [
    {
     "data": {
      "text/plain": [
       "[(PosixPath('/var/log/syslog'), 1585147536.9776027),\n",
       " (PosixPath('/var/log/journal/68711e34443e441bb47ee6917c0fdf1a/user-1000.journal'),\n",
       "  1585147537.453608)]"
      ]
     },
     "execution_count": 99,
     "metadata": {},
     "output_type": "execute_result"
    }
   ],
   "source": [
    "from datetime import date\n",
    "from pathlib import Path\n",
    "\n",
    "P = Path('/var/log').rglob('*')\n",
    "files = {i:i.stat().st_mtime for i in P}\n",
    "sorted(files.items(), key = lambda x: x[1])[-2:]"
   ]
  },
  {
   "cell_type": "markdown",
   "metadata": {},
   "source": [
    "### **How can we calculate which error came how many times?**"
   ]
  },
  {
   "cell_type": "code",
   "execution_count": 289,
   "metadata": {},
   "outputs": [
    {
     "name": "stdout",
     "output_type": "stream",
     "text": [
      "    163 joe org.gnome.Nautilus[1181]: RuntimeError: object at 0x7fdf7cad2b40 of type FolderColorMenu is not initialized\n",
      "    104 joe org.gnome.Nautilus[1181]: ('file scheme: ', 'file')\n",
      "     98 joe budgie-panel[1539]: wnck_window_is_skip_tasklist: assertion 'WNCK_IS_WINDOW (window)' failed\n",
      "     98 joe budgie-panel[1539]: wnck_window_is_skip_pager: assertion 'WNCK_IS_WINDOW (window)' failed\n",
      "     98 joe budgie-panel[1539]: wnck_window_get_geometry: assertion 'WNCK_IS_WINDOW (window)' failed\n"
     ]
    }
   ],
   "source": [
    "%%bash\n",
    "\n",
    "grep -o \"$(hostname).*\" /var/log/syslog | sort | uniq -c \\\n",
    "| sort -rnk1 | head -5"
   ]
  },
  {
   "cell_type": "code",
   "execution_count": 290,
   "metadata": {},
   "outputs": [
    {
     "name": "stdout",
     "output_type": "stream",
     "text": [
      "163 joe org.gnome.Nautilus[1181]: RuntimeError: object at 0x7fdf7cad2b40 of type FolderColorMenu is not initialized\n",
      "104 joe org.gnome.Nautilus[1181]: ('file scheme: ', 'file')\n",
      "98 joe budgie-panel[1539]: wnck_window_is_skip_tasklist: assertion 'WNCK_IS_WINDOW (window)' failed\n",
      "98 joe budgie-panel[1539]: wnck_window_is_skip_pager: assertion 'WNCK_IS_WINDOW (window)' failed\n",
      "98 joe budgie-panel[1539]: wnck_window_get_geometry: assertion 'WNCK_IS_WINDOW (window)' failed\n"
     ]
    }
   ],
   "source": [
    "%%python3\n",
    "\n",
    "from socket import gethostname\n",
    "from itertools import groupby\n",
    "from pathlib import Path\n",
    "from re import search\n",
    "\n",
    "node = gethostname()\n",
    "file = Path('/var/log/syslog').read_text().splitlines()\n",
    "match_lines = [search(r''+node+'.*$', i).group() for i in file]\n",
    "line_cnt = {x: len(list(y)) for x, y in groupby(sorted(match_lines))}\n",
    "line_sort = sorted(line_cnt.items(), key = lambda x: x[1])[-5:][::-1]\n",
    "\n",
    "for error, n in line_sort:\n",
    "    print(n, error)"
   ]
  },
  {
   "cell_type": "markdown",
   "metadata": {},
   "source": [
    "### **How to find hostname?**"
   ]
  },
  {
   "cell_type": "code",
   "execution_count": 13,
   "metadata": {},
   "outputs": [
    {
     "name": "stdout",
     "output_type": "stream",
     "text": [
      "joe\n"
     ]
    }
   ],
   "source": [
    "%%bash\n",
    "\n",
    "hostname"
   ]
  },
  {
   "cell_type": "markdown",
   "metadata": {},
   "source": [
    "#### Method: 1"
   ]
  },
  {
   "cell_type": "code",
   "execution_count": 12,
   "metadata": {},
   "outputs": [
    {
     "name": "stdout",
     "output_type": "stream",
     "text": [
      "joe\n"
     ]
    }
   ],
   "source": [
    "%%python3\n",
    "\n",
    "import platform\n",
    "print(platform.node())"
   ]
  },
  {
   "cell_type": "markdown",
   "metadata": {},
   "source": [
    "#### Method: 2"
   ]
  },
  {
   "cell_type": "code",
   "execution_count": 11,
   "metadata": {},
   "outputs": [
    {
     "name": "stdout",
     "output_type": "stream",
     "text": [
      "joe\n"
     ]
    }
   ],
   "source": [
    "%%python3\n",
    "\n",
    "import socket\n",
    "print(socket.gethostname())"
   ]
  },
  {
   "cell_type": "markdown",
   "metadata": {},
   "source": [
    "### **How insert bulltet begining of each line?**"
   ]
  },
  {
   "cell_type": "code",
   "execution_count": 112,
   "metadata": {},
   "outputs": [
    {
     "name": "stdout",
     "output_type": "stream",
     "text": [
      "Count occurrences of word in file linux.\r\n",
      "Shell script to count number of words in a file.\r\n",
      "Shell script to count number of lines.\r\n",
      "Shell script to counts number of lines and words in a file.\r\n",
      "Find count of string in file linux.\r\n"
     ]
    }
   ],
   "source": [
    "!cat /home/mana/Work/data.txt"
   ]
  },
  {
   "cell_type": "code",
   "execution_count": 117,
   "metadata": {},
   "outputs": [
    {
     "name": "stdout",
     "output_type": "stream",
     "text": [
      "=> Count occurrences of word in file linux.\n",
      "=> Shell script to count number of words in a file.\n",
      "=> Shell script to count number of lines.\n",
      "=> Shell script to counts number of lines and words in a file.\n",
      "=> Find count of string in file linux.\n"
     ]
    }
   ],
   "source": [
    "%%python3\n",
    "\n",
    "from textwrap import indent\n",
    "from pathlib import Path\n",
    "\n",
    "P = Path('/home/mana/Work/data.txt').read_text().splitlines()\n",
    "\n",
    "for i in P:\n",
    "    print(indent(i, '=> ', lambda line: True))"
   ]
  },
  {
   "cell_type": "markdown",
   "metadata": {},
   "source": [
    "### **What  is output?**"
   ]
  },
  {
   "cell_type": "code",
   "execution_count": null,
   "metadata": {},
   "outputs": [],
   "source": [
    "%%bash\n",
    "\n",
    "date +\"%Y\""
   ]
  },
  {
   "cell_type": "raw",
   "metadata": {},
   "source": [
    "A. 2020\n",
    "B. 20\n",
    "C. Wrong date format\n",
    "D. Error"
   ]
  },
  {
   "cell_type": "code",
   "execution_count": null,
   "metadata": {},
   "outputs": [],
   "source": [
    "%%python3\n",
    "\n",
    "from datetime import date\n",
    "\n",
    "print(date.today().strftime('%Y'))"
   ]
  },
  {
   "cell_type": "raw",
   "metadata": {},
   "source": [
    "A. 2020\n",
    "B. 20\n",
    "C. Wrong date format\n",
    "D. Error"
   ]
  },
  {
   "cell_type": "markdown",
   "metadata": {},
   "source": [
    "### **How to  Shuffling text file?**"
   ]
  },
  {
   "cell_type": "markdown",
   "metadata": {},
   "source": [
    "#### Orginal file"
   ]
  },
  {
   "cell_type": "code",
   "execution_count": 122,
   "metadata": {},
   "outputs": [
    {
     "name": "stdout",
     "output_type": "stream",
     "text": [
      "Count occurrences of word in file linux.\r\n",
      "Shell script to count number of words in a file.\r\n",
      "Shell script to count number of lines.\r\n",
      "Shell script to counts number of lines and words in a file.\r\n",
      "Find count of string in file linux.\r\n"
     ]
    }
   ],
   "source": [
    "!cat /home/mana/Work/data.txt"
   ]
  },
  {
   "cell_type": "code",
   "execution_count": 123,
   "metadata": {},
   "outputs": [
    {
     "name": "stdout",
     "output_type": "stream",
     "text": [
      "Shell script to count number of words in a file.\n",
      "Find count of string in file linux.\n",
      "Count occurrences of word in file linux.\n",
      "Shell script to count number of lines.\n",
      "Shell script to counts number of lines and words in a file.\n"
     ]
    }
   ],
   "source": [
    "%%bash\n",
    "\n",
    "shuf /home/mana/Work/data.txt"
   ]
  },
  {
   "cell_type": "code",
   "execution_count": 165,
   "metadata": {},
   "outputs": [
    {
     "name": "stdout",
     "output_type": "stream",
     "text": [
      "Shell script to count number of words in a file.\n",
      "Find count of string in file linux.\n",
      "Shell script to counts number of lines and words in a file.\n",
      "Shell script to count number of lines.\n",
      "Count occurrences of word in file linux.\n"
     ]
    }
   ],
   "source": [
    "%%python3\n",
    "\n",
    "from random import shuffle\n",
    "from pathlib import Path\n",
    "\n",
    "lines = Path('/home/mana/Work/data.txt').read_text().splitlines()\n",
    "shuffle(lines)\n",
    "print(*lines, sep = '\\n')"
   ]
  },
  {
   "cell_type": "markdown",
   "metadata": {},
   "source": [
    "### **How to check your Network Card Interface name ?**"
   ]
  },
  {
   "cell_type": "code",
   "execution_count": 183,
   "metadata": {},
   "outputs": [
    {
     "name": "stdout",
     "output_type": "stream",
     "text": [
      "1: lo: <LOOPBACK,UP,LOWER_UP> mtu 65536 qdisc noqueue state UNKNOWN mode DEFAULT group default qlen 1000\n",
      "    link/loopback 00:00:00:00:00:00 brd 00:00:00:00:00:00\n",
      "2: ens33: <NO-CARRIER,BROADCAST,MULTICAST,UP> mtu 1500 qdisc fq_codel state DOWN mode DEFAULT group default qlen 1000\n",
      "    link/ether 00:e0:8c:68:0b:ac brd ff:ff:ff:ff:ff:ff\n",
      "3: enxfcde56ff0106: <BROADCAST,MULTICAST,UP,LOWER_UP> mtu 1500 qdisc fq_codel state UNKNOWN mode DEFAULT group default qlen 1000\n",
      "    link/ether fc:de:56:ff:01:06 brd ff:ff:ff:ff:ff:ff\n",
      "4: docker0: <NO-CARRIER,BROADCAST,MULTICAST,UP> mtu 1500 qdisc noqueue state DOWN mode DEFAULT group default \n",
      "    link/ether 02:42:4d:06:18:6a brd ff:ff:ff:ff:ff:ff\n"
     ]
    }
   ],
   "source": [
    "%%bash\n",
    "\n",
    "ip link show"
   ]
  },
  {
   "cell_type": "code",
   "execution_count": 182,
   "metadata": {},
   "outputs": [
    {
     "name": "stdout",
     "output_type": "stream",
     "text": [
      " fcde56ff0106\n"
     ]
    }
   ],
   "source": [
    "%%python3\n",
    "\n",
    "import uuid\n",
    "\n",
    "print(f'{uuid.getnode(): x}')"
   ]
  },
  {
   "cell_type": "markdown",
   "metadata": {},
   "source": [
    "### **What is output?**"
   ]
  },
  {
   "cell_type": "code",
   "execution_count": null,
   "metadata": {},
   "outputs": [],
   "source": [
    "ele = ('run')\n",
    "prnit(type(ele))"
   ]
  },
  {
   "cell_type": "raw",
   "metadata": {},
   "source": [
    "1. str\n",
    "2. tuple\n",
    "3. list\n",
    "4. Error"
   ]
  },
  {
   "cell_type": "markdown",
   "metadata": {},
   "source": [
    "### **How to display a line of text?**"
   ]
  },
  {
   "cell_type": "code",
   "execution_count": 189,
   "metadata": {},
   "outputs": [
    {
     "name": "stdout",
     "output_type": "stream",
     "text": [
      "Hello World!\n"
     ]
    }
   ],
   "source": [
    "%%bash\n",
    "\n",
    "echo \"Hello World!\""
   ]
  },
  {
   "cell_type": "code",
   "execution_count": 191,
   "metadata": {},
   "outputs": [
    {
     "name": "stdout",
     "output_type": "stream",
     "text": [
      "Hello World!"
     ]
    }
   ],
   "source": [
    "%%bash\n",
    "\n",
    "printf \"Hello World!\""
   ]
  },
  {
   "cell_type": "code",
   "execution_count": 190,
   "metadata": {},
   "outputs": [
    {
     "name": "stdout",
     "output_type": "stream",
     "text": [
      "Hello World!\n"
     ]
    }
   ],
   "source": [
    "%%python3\n",
    "\n",
    "print('Hello World!')\n"
   ]
  },
  {
   "cell_type": "markdown",
   "metadata": {},
   "source": [
    "### **How  to decode Root partition UUID using Python?**"
   ]
  },
  {
   "cell_type": "markdown",
   "metadata": {},
   "source": [
    "#### **Structure of UUID and UUID.fields**"
   ]
  },
  {
   "cell_type": "markdown",
   "metadata": {},
   "source": [
    "#### <img src=\"suuid.png\" height=\"300\" width=\"350\" align=\"left\">"
   ]
  },
  {
   "cell_type": "code",
   "execution_count": 283,
   "metadata": {},
   "outputs": [
    {
     "name": "stdout",
     "output_type": "stream",
     "text": [
      "My Root Partition UUID: 6b06e74c-21ef-45b0-bf84-9e7aca824481\n",
      "UUID.version : 4\n",
      "UUID.fields  : (1795614540, 8687, 17840, 191, 132, 174250220733569)\n",
      "UUID.time_low            :  1795614540\n",
      "UUID.time_mid            :  8687\n",
      "UUID.time_hi_version     :  17840\n",
      "UUID.clock_seq_hi_variant:  191\n",
      "UUID.clock_seq_low       :  132\n",
      "UUID.node                :  174250220733569\n"
     ]
    }
   ],
   "source": [
    "from pathlib import Path\n",
    "import uuid\n",
    "\n",
    "P = Path('/etc/fstab').read_text().splitlines()\n",
    "cuuid = [i.split()[0] for i in P if i.split()[0].startswith('UUID') \n",
    "         and i.split()[1] == '/']\n",
    "UUID = uuid.UUID(cuuid[0].replace('UUID=', ''))\n",
    "print('My Root Partition UUID:', UUID)\n",
    "print('UUID.version :', UUID.version)\n",
    "print('UUID.fields  :', UUID.fields)\n",
    "print('UUID.time_low            : ', UUID.time_low)\n",
    "print('UUID.time_mid            : ', UUID.time_mid)\n",
    "print('UUID.time_hi_version     : ', UUID.time_hi_version)\n",
    "print('UUID.clock_seq_hi_variant: ', UUID.clock_seq_hi_variant)\n",
    "print('UUID.clock_seq_low       : ', UUID.clock_seq_low)\n",
    "print('UUID.node                : ', UUID.node)"
   ]
  },
  {
   "cell_type": "markdown",
   "metadata": {},
   "source": [
    "### **How to print animals?**"
   ]
  },
  {
   "cell_type": "code",
   "execution_count": 291,
   "metadata": {},
   "outputs": [
    {
     "name": "stdout",
     "output_type": "stream",
     "text": [
      "🐘  🐐  🐄  🐖  🐏  🦘  🐫  🐒  🦓  🦒  "
     ]
    }
   ],
   "source": [
    "ani_code = [128024, 128016, 128004, 128022, 128015, \n",
    "            129432, 128043, 128018, 129427, 129426]\n",
    "for animal in ani_code:\n",
    "    print(chr(animal), end = '  ')"
   ]
  },
  {
   "cell_type": "markdown",
   "metadata": {},
   "source": [
    "### **What is output?**"
   ]
  },
  {
   "cell_type": "code",
   "execution_count": null,
   "metadata": {},
   "outputs": [],
   "source": [
    "myset = {3, 5.6, 'moon', [1, 2]}\n",
    "print(myset)"
   ]
  },
  {
   "cell_type": "raw",
   "metadata": {},
   "source": [
    "A. {3, 5.6, 'moon', [1, 2]}\n",
    "B. myset\n",
    "C. Error\n",
    "D. {3, 5.6, 'moon'}"
   ]
  },
  {
   "cell_type": "markdown",
   "metadata": {},
   "source": [
    "### **How to generate strong password?**"
   ]
  },
  {
   "cell_type": "markdown",
   "metadata": {},
   "source": [
    "#### **Method:1**"
   ]
  },
  {
   "cell_type": "code",
   "execution_count": 297,
   "metadata": {},
   "outputs": [
    {
     "data": {
      "text/plain": [
       "'A9QB#rTL'"
      ]
     },
     "execution_count": 297,
     "metadata": {},
     "output_type": "execute_result"
    }
   ],
   "source": [
    "import string\n",
    "import secrets\n",
    "alphabet = string.ascii_letters + string.digits + '!#$%&*+-:=?@_'\n",
    "password = ''.join(secrets.choice(alphabet) for i in range(8))\n",
    "password"
   ]
  },
  {
   "cell_type": "markdown",
   "metadata": {},
   "source": [
    "#### **Method:2**"
   ]
  },
  {
   "cell_type": "code",
   "execution_count": 302,
   "metadata": {},
   "outputs": [
    {
     "name": "stdout",
     "output_type": "stream",
     "text": [
      "qq-Dh+Me\n"
     ]
    }
   ],
   "source": [
    "from string import printable\n",
    "import re\n",
    "\n",
    "fc = re.sub(r'\\t\\n\\r\\x0b\\x0c','',string.printable)\n",
    "print(*random.choices(fc,k=8), sep = '')"
   ]
  },
  {
   "cell_type": "markdown",
   "metadata": {},
   "source": [
    "### **How to Generate an XKCD-style passphrase?**"
   ]
  },
  {
   "cell_type": "raw",
   "metadata": {},
   "source": [
    "What is XKCD-style passphrase?\n",
    "XKCD-style passphrase will generate a random phrase \n",
    "consisting of four common words. \n",
    "Generated four words joined as single word."
   ]
  },
  {
   "cell_type": "code",
   "execution_count": 321,
   "metadata": {},
   "outputs": [
    {
     "data": {
      "text/plain": [
       "'Curacaofreebeesfumigateawakening'"
      ]
     },
     "execution_count": 321,
     "metadata": {},
     "output_type": "execute_result"
    }
   ],
   "source": [
    "from pathlib import Path\n",
    "from secrets import choice\n",
    "\n",
    "words = Path('/usr/share/dict/words').read_text().splitlines()\n",
    "''.join([choice(words) for _ in range(4)])"
   ]
  },
  {
   "cell_type": "markdown",
   "metadata": {},
   "source": [
    "### **How to generate any 'k' starts with word?**"
   ]
  },
  {
   "cell_type": "code",
   "execution_count": 324,
   "metadata": {},
   "outputs": [
    {
     "name": "stdout",
     "output_type": "stream",
     "text": [
      "knothole\n"
     ]
    }
   ],
   "source": [
    "%%python3\n",
    "\n",
    "from pathlib import Path\n",
    "from secrets import choice\n",
    "\n",
    "words = Path('/usr/share/dict/words').read_text().splitlines()\n",
    "while True:\n",
    "    word = choice(words)\n",
    "    if word.startswith('k'):\n",
    "        print(word)\n",
    "        break"
   ]
  },
  {
   "cell_type": "code",
   "execution_count": null,
   "metadata": {},
   "outputs": [],
   "source": []
  },
  {
   "cell_type": "markdown",
   "metadata": {},
   "source": [
    "### **How to format output?**"
   ]
  },
  {
   "cell_type": "code",
   "execution_count": null,
   "metadata": {},
   "outputs": [],
   "source": [
    "%%bash\n",
    "\n",
    "printf"
   ]
  },
  {
   "cell_type": "markdown",
   "metadata": {},
   "source": [
    "### **How to use python code inside bash script?**"
   ]
  },
  {
   "cell_type": "code",
   "execution_count": null,
   "metadata": {},
   "outputs": [],
   "source": []
  }
 ],
 "metadata": {
  "kernelspec": {
   "display_name": "Python 3",
   "language": "python",
   "name": "python3"
  },
  "language_info": {
   "codemirror_mode": {
    "name": "ipython",
    "version": 3
   },
   "file_extension": ".py",
   "mimetype": "text/x-python",
   "name": "python",
   "nbconvert_exporter": "python",
   "pygments_lexer": "ipython3",
   "version": "3.6.9"
  }
 },
 "nbformat": 4,
 "nbformat_minor": 2
}
