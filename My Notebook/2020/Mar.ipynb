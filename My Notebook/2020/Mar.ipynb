{
 "cells": [
  {
   "cell_type": "markdown",
   "metadata": {},
   "source": [
    "### **What is output?**"
   ]
  },
  {
   "cell_type": "code",
   "execution_count": null,
   "metadata": {},
   "outputs": [],
   "source": [
    "%%bash\n",
    "\n",
    "echo -e \"\\x44\""
   ]
  },
  {
   "cell_type": "raw",
   "metadata": {},
   "source": [
    "1. \\x44\n",
    "2. D\n",
    "3. 44\n",
    "4. command not found"
   ]
  },
  {
   "cell_type": "markdown",
   "metadata": {},
   "source": [
    "### **What is output?**"
   ]
  },
  {
   "cell_type": "code",
   "execution_count": null,
   "metadata": {},
   "outputs": [],
   "source": [
    "print(\"\\x64\")"
   ]
  },
  {
   "cell_type": "raw",
   "metadata": {},
   "source": [
    "1. \\x64\n",
    "2. D\n",
    "3. 64\n",
    "4. None\n",
    "5. d"
   ]
  },
  {
   "cell_type": "markdown",
   "metadata": {},
   "source": [
    "### **What is color of car2?**"
   ]
  },
  {
   "cell_type": "code",
   "execution_count": null,
   "metadata": {},
   "outputs": [],
   "source": [
    "car1, car2, car3 = 'Red', 'Black', 'White'"
   ]
  },
  {
   "cell_type": "raw",
   "metadata": {},
   "source": [
    "1. Red\n",
    "2. Black\n",
    "3. White\n",
    "4. None"
   ]
  },
  {
   "cell_type": "markdown",
   "metadata": {},
   "source": [
    "### What is my_car_color color?"
   ]
  },
  {
   "cell_type": "code",
   "execution_count": null,
   "metadata": {},
   "outputs": [],
   "source": [
    "%%bash\n",
    "\n",
    "cars=('Red' 'Black' 'White')\n",
    "my_car_color=${cars[1]}\n",
    "echo $my_car_color"
   ]
  },
  {
   "cell_type": "raw",
   "metadata": {},
   "source": [
    "1. Red\n",
    "2. Black\n",
    "3. White\n",
    "4. Error"
   ]
  },
  {
   "cell_type": "markdown",
   "metadata": {},
   "source": [
    "### **How to list files and directories in one Directory?**"
   ]
  },
  {
   "cell_type": "code",
   "execution_count": null,
   "metadata": {},
   "outputs": [],
   "source": [
    "%%python3\n",
    "\n",
    "from pathlib import Path\n",
    "\n",
    "d = Path('/home/mana/Work/honey')\n",
    "for i in d.iterdir():\n",
    "    print(i.name)"
   ]
  },
  {
   "cell_type": "code",
   "execution_count": null,
   "metadata": {},
   "outputs": [],
   "source": [
    "%%bash\n",
    "\n",
    "for i in /home/mana/Work/honey/*\n",
    "do\n",
    "echo $(basename $i)\n",
    "done"
   ]
  },
  {
   "cell_type": "code",
   "execution_count": null,
   "metadata": {},
   "outputs": [],
   "source": [
    "%%bash\n",
    "\n",
    "ls -1 /home/mana/Work/honey/"
   ]
  },
  {
   "cell_type": "markdown",
   "metadata": {},
   "source": [
    "### **What is output?**"
   ]
  },
  {
   "cell_type": "code",
   "execution_count": null,
   "metadata": {},
   "outputs": [],
   "source": [
    "%%python3\n",
    "\n",
    "S = b'Manavalan\\x20\\x4D'\n",
    "print(S.decode())"
   ]
  },
  {
   "cell_type": "raw",
   "metadata": {},
   "source": [
    "1. Manavalan\n",
    "2. b'Manavalan'\n",
    "3. UnicodeDecodeError: 'utf8'\n",
    "4. Manavalan M"
   ]
  },
  {
   "cell_type": "markdown",
   "metadata": {},
   "source": [
    "### **Check Whether a directory is empty or not**"
   ]
  },
  {
   "cell_type": "code",
   "execution_count": null,
   "metadata": {},
   "outputs": [],
   "source": [
    "%%python3\n",
    "\n",
    "import os\n",
    "\n",
    "print(len(os.listdir('/home/mana/Documents')) == 0 and 'empty' or 'not mmpty')"
   ]
  },
  {
   "cell_type": "code",
   "execution_count": null,
   "metadata": {},
   "outputs": [],
   "source": [
    "%%bash\n",
    "\n",
    "find /home/mana/Documents -type d -empty -exec echo {} is empty. \\;"
   ]
  },
  {
   "cell_type": "markdown",
   "metadata": {},
   "source": [
    "### **How to check whether systemd or init?**"
   ]
  },
  {
   "cell_type": "code",
   "execution_count": null,
   "metadata": {},
   "outputs": [],
   "source": [
    "from pathlib import Path\n",
    "\n",
    "sys = Path('/proc/1/comm').read_text().split()[0] == 'systemd'\n",
    "\n",
    "if sys:\n",
    "    print('This is systemd.')\n",
    "else:\n",
    "    print('This is init.')"
   ]
  },
  {
   "cell_type": "code",
   "execution_count": null,
   "metadata": {},
   "outputs": [],
   "source": [
    "from pathlib import Path\n",
    "\n",
    "sys = Path('/proc/1/comm').read_text().split()[0] == 'init'\n",
    "\n",
    "if sys:\n",
    "    print('This is systemd.')\n",
    "else:\n",
    "    print('This is init.')"
   ]
  },
  {
   "cell_type": "markdown",
   "metadata": {},
   "source": [
    "### **How to find How many lines in file?**"
   ]
  },
  {
   "cell_type": "code",
   "execution_count": null,
   "metadata": {},
   "outputs": [],
   "source": [
    "%%python3\n",
    "\n",
    "from pathlib import Path\n",
    "line = Path('/home/mana/Work/data.txt').read_text().splitlines()\n",
    "print(len(line))"
   ]
  },
  {
   "cell_type": "code",
   "execution_count": null,
   "metadata": {},
   "outputs": [],
   "source": [
    "%%python3\n",
    "\n",
    "print(open('/home/mana/Work/data.txt').read().count('\\n'))\n"
   ]
  },
  {
   "cell_type": "code",
   "execution_count": null,
   "metadata": {},
   "outputs": [],
   "source": [
    "%%python3\n",
    "\n",
    "for x,y in enumerate(open('/home/mana/Work/data.txt'), 1): pass\n",
    "else:\n",
    "    print(x)"
   ]
  },
  {
   "cell_type": "code",
   "execution_count": null,
   "metadata": {},
   "outputs": [],
   "source": [
    "%%python3\n",
    "\n",
    "from itertools import count\n",
    "for x,y in zip(count(1), open('/home/mana/Work/data.txt')): pass\n",
    "else:\n",
    "    print(x)"
   ]
  },
  {
   "cell_type": "code",
   "execution_count": null,
   "metadata": {},
   "outputs": [],
   "source": [
    "%%bash\n",
    "awk 'END {print NR}' /home/mana/Work/data.txt"
   ]
  },
  {
   "cell_type": "code",
   "execution_count": null,
   "metadata": {},
   "outputs": [],
   "source": [
    "%%bash\n",
    "wc -l /home/mana/Work/data.txt"
   ]
  },
  {
   "cell_type": "markdown",
   "metadata": {},
   "source": [
    "### **What is output?**"
   ]
  },
  {
   "cell_type": "code",
   "execution_count": null,
   "metadata": {},
   "outputs": [],
   "source": [
    "%%bash\n",
    "\n",
    "echo \"Linux\" | grep -o \"...\""
   ]
  },
  {
   "cell_type": "raw",
   "metadata": {},
   "source": [
    "1. Linux\n",
    "2. Lin\n",
    "3. Error\n",
    "4. L"
   ]
  },
  {
   "cell_type": "markdown",
   "metadata": {},
   "source": [
    "### **What is output?**"
   ]
  },
  {
   "cell_type": "code",
   "execution_count": null,
   "metadata": {},
   "outputs": [],
   "source": [
    "%%python3\n",
    "\n",
    "from re import findall\n",
    "\n",
    "print(findall(r'.{3}', 'Linux')[0])"
   ]
  },
  {
   "cell_type": "raw",
   "metadata": {},
   "source": [
    "1. Linux\n",
    "2. Lin\n",
    "3. Error\n",
    "4. L"
   ]
  },
  {
   "cell_type": "markdown",
   "metadata": {},
   "source": [
    "### **How to list file above 100MB?**"
   ]
  },
  {
   "cell_type": "code",
   "execution_count": null,
   "metadata": {},
   "outputs": [],
   "source": [
    "%%python3\n",
    "\n",
    "from pathlib import Path\n",
    "\n",
    "file = [str(x)  for x in Path('/home/mana/Work').iterdir() if x.stat().st_size > 1e+8]\n",
    "print(*file, sep = '\\n')\n"
   ]
  },
  {
   "cell_type": "code",
   "execution_count": null,
   "metadata": {},
   "outputs": [],
   "source": [
    "%%bash\n",
    "\n",
    "find /home/mana/Work -type f -size +100M"
   ]
  },
  {
   "cell_type": "markdown",
   "metadata": {},
   "source": [
    "### **What is output?**"
   ]
  },
  {
   "cell_type": "code",
   "execution_count": null,
   "metadata": {},
   "outputs": [],
   "source": [
    "lst = ['Vera', 'Raja', 'Krish', 'roja']\n",
    "\n",
    "[x for x in lst \n",
    " if x.casefold().startswith('r') == 'Raja'.casefold().startswith('r')]"
   ]
  },
  {
   "cell_type": "raw",
   "metadata": {},
   "source": [
    "1. ['Raja', 'roja']\n",
    "2. ['Raja']\n",
    "3. None\n",
    "4. lst = ['Vera', 'Raja', 'Krish', 'roja']"
   ]
  },
  {
   "cell_type": "code",
   "execution_count": null,
   "metadata": {},
   "outputs": [],
   "source": [
    "%%bash\n",
    "\n",
    "egrep -wo \"tool\" /usr/share/dict/words -m1\n",
    "egrep -wo \"run\" /usr/share/dict/words -m1"
   ]
  },
  {
   "cell_type": "code",
   "execution_count": null,
   "metadata": {},
   "outputs": [],
   "source": [
    "%%python3\n",
    "\n",
    "from pathlib import Path\n",
    "\n",
    "P = Path('/usr/share/dict/words').read_text().splitlines()\n",
    "\n",
    "print('tool' in P)\n",
    "print('run' in P)"
   ]
  },
  {
   "cell_type": "markdown",
   "metadata": {},
   "source": [
    "### **What is output?**"
   ]
  },
  {
   "cell_type": "code",
   "execution_count": null,
   "metadata": {},
   "outputs": [],
   "source": [
    "num = [1, 2, 3, 4]\n",
    "for i,j in enumerate(num, 1):\n",
    "    print(i+j, end= ' ')"
   ]
  },
  {
   "cell_type": "raw",
   "metadata": {},
   "source": [
    "A). 2 3 4 5\n",
    "B). 1, 2, 3, 4\n",
    "C). 2 4 6 8 \n",
    "D). 2, 3, 4, 5"
   ]
  },
  {
   "cell_type": "code",
   "execution_count": null,
   "metadata": {},
   "outputs": [],
   "source": [
    "%%bash\n",
    "\n",
    "for i in {1..4}; do\n",
    "echo -en $((i+i))\n",
    "done"
   ]
  },
  {
   "cell_type": "raw",
   "metadata": {},
   "source": [
    "A). 2345\n",
    "B). 1,2,3,4\n",
    "C). 2468 \n",
    "D). 2 3 4 5"
   ]
  },
  {
   "cell_type": "markdown",
   "metadata": {},
   "source": [
    "### **What is output?**"
   ]
  },
  {
   "cell_type": "code",
   "execution_count": null,
   "metadata": {},
   "outputs": [],
   "source": [
    "if not None:\n",
    "    print('True')"
   ]
  },
  {
   "cell_type": "raw",
   "metadata": {},
   "source": [
    "1. True\n",
    "2. False\n",
    "3. Error\n",
    "4. None"
   ]
  },
  {
   "cell_type": "markdown",
   "metadata": {},
   "source": [
    "### **OOPS New**"
   ]
  },
  {
   "cell_type": "code",
   "execution_count": 53,
   "metadata": {},
   "outputs": [
    {
     "name": "stdout",
     "output_type": "stream",
     "text": [
      "2\n"
     ]
    }
   ],
   "source": [
    "class A:\n",
    "    def __init__(self):\n",
    "        print(1)\n",
    "    def __new__(self):\n",
    "        print (2)\n",
    "obj1 = A()"
   ]
  },
  {
   "cell_type": "code",
   "execution_count": 54,
   "metadata": {},
   "outputs": [
    {
     "name": "stdout",
     "output_type": "stream",
     "text": [
      "2\n"
     ]
    }
   ],
   "source": [
    "class A:\n",
    "    def __init__(self):\n",
    "        print(1)\n",
    "    def __new__(self):\n",
    "        print (2)\n",
    "        \n",
    "A()"
   ]
  },
  {
   "cell_type": "markdown",
   "metadata": {},
   "source": [
    "### **What is output?**"
   ]
  },
  {
   "cell_type": "code",
   "execution_count": null,
   "metadata": {},
   "outputs": [],
   "source": [
    "%%python3\n",
    "\n",
    "name = 'manavalan'\n",
    "print(name.title())\n"
   ]
  },
  {
   "cell_type": "code",
   "execution_count": 60,
   "metadata": {},
   "outputs": [
    {
     "name": "stdout",
     "output_type": "stream",
     "text": [
      "Manavalan\n"
     ]
    }
   ],
   "source": [
    "%%bash\n",
    "\n",
    "name=manavalan\n",
    "echo ${name^}\n"
   ]
  },
  {
   "cell_type": "code",
   "execution_count": null,
   "metadata": {},
   "outputs": [],
   "source": [
    "1. Manavalan\n",
    "2. manavalan\n",
    "3. MANAVALAN\n",
    "4. Error"
   ]
  },
  {
   "cell_type": "markdown",
   "metadata": {},
   "source": [
    "### **How to to create even numbers?**"
   ]
  },
  {
   "cell_type": "code",
   "execution_count": 4,
   "metadata": {},
   "outputs": [
    {
     "name": "stdout",
     "output_type": "stream",
     "text": [
      "2 4 6 8 10 12\n"
     ]
    }
   ],
   "source": [
    "%%bash\n",
    "\n",
    "echo {2..12..2}"
   ]
  },
  {
   "cell_type": "code",
   "execution_count": 8,
   "metadata": {},
   "outputs": [
    {
     "name": "stdout",
     "output_type": "stream",
     "text": [
      "2 4 6 8 10 "
     ]
    }
   ],
   "source": [
    "%%python3\n",
    "\n",
    "for i in range(2,12,2):\n",
    "    print(i, end = ' ')\n",
    "\n"
   ]
  },
  {
   "cell_type": "code",
   "execution_count": 11,
   "metadata": {},
   "outputs": [
    {
     "data": {
      "text/plain": [
       "[2, 4, 6, 8, 10]"
      ]
     },
     "execution_count": 11,
     "metadata": {},
     "output_type": "execute_result"
    }
   ],
   "source": [
    "[i+i for i in range(1,6)]"
   ]
  },
  {
   "cell_type": "markdown",
   "metadata": {},
   "source": [
    "### **How to convert from lower case to upper case?**"
   ]
  },
  {
   "cell_type": "code",
   "execution_count": 1,
   "metadata": {},
   "outputs": [
    {
     "name": "stdout",
     "output_type": "stream",
     "text": [
      "Linux is good operating system\r\n"
     ]
    }
   ],
   "source": [
    "!echo \"Linux is good operating system\""
   ]
  },
  {
   "cell_type": "code",
   "execution_count": 2,
   "metadata": {},
   "outputs": [
    {
     "name": "stdout",
     "output_type": "stream",
     "text": [
      "LINUX IS GOOD OPERATING SYSTEM\n"
     ]
    }
   ],
   "source": [
    "%%bash \n",
    "\n",
    "echo \"Linux is good operating system\" | tr \"[a-z]\" \"[A-Z]\""
   ]
  },
  {
   "cell_type": "code",
   "execution_count": 3,
   "metadata": {},
   "outputs": [
    {
     "name": "stdout",
     "output_type": "stream",
     "text": [
      "LINUX IS GOOD OPERATING SYSTEM\n"
     ]
    }
   ],
   "source": [
    "%%bash\n",
    "\n",
    "echo \"Linux is good operating system\" | sed \"s/.*/\\U&/\""
   ]
  },
  {
   "cell_type": "code",
   "execution_count": 4,
   "metadata": {},
   "outputs": [
    {
     "name": "stdout",
     "output_type": "stream",
     "text": [
      "LINUX IS GOOD OPERATING SYSTEM\n"
     ]
    }
   ],
   "source": [
    "%%bash\n",
    "\n",
    "echo \"Linux is good operating system\" | awk '{ print toupper($0) }'"
   ]
  },
  {
   "cell_type": "code",
   "execution_count": 8,
   "metadata": {},
   "outputs": [
    {
     "name": "stdout",
     "output_type": "stream",
     "text": [
      "LINUX IS GOOD OPERATING SYSTEM\n"
     ]
    }
   ],
   "source": [
    "%%python3\n",
    "\n",
    "print(\"Linux is good operating system\".upper())"
   ]
  },
  {
   "cell_type": "markdown",
   "metadata": {},
   "source": [
    "### **How many zero will appaer to here after run this code?**"
   ]
  },
  {
   "cell_type": "code",
   "execution_count": null,
   "metadata": {},
   "outputs": [],
   "source": [
    "%%python3\n",
    "\n",
    "print(f'{1e+8: .0f}')"
   ]
  },
  {
   "cell_type": "raw",
   "metadata": {},
   "source": [
    "A). 1\n",
    "B). 1e+8\n",
    "C). 8\n",
    "D). 9"
   ]
  },
  {
   "cell_type": "markdown",
   "metadata": {},
   "source": [
    "### **How many zero will appaer to here after run this code?**"
   ]
  },
  {
   "cell_type": "code",
   "execution_count": null,
   "metadata": {},
   "outputs": [],
   "source": [
    "%%bash\n",
    "\n",
    "awk 'BEGIN {print (1e+8)}'"
   ]
  },
  {
   "cell_type": "raw",
   "metadata": {},
   "source": [
    "A). 1\n",
    "B). 1e+8\n",
    "C). 8\n",
    "D). 9\n",
    "E). awk split Error"
   ]
  },
  {
   "cell_type": "markdown",
   "metadata": {},
   "source": [
    "### **How to filter youTube video id only?**"
   ]
  },
  {
   "cell_type": "code",
   "execution_count": 15,
   "metadata": {},
   "outputs": [
    {
     "name": "stdout",
     "output_type": "stream",
     "text": [
      "PI4JABNwB_U\n"
     ]
    }
   ],
   "source": [
    "%%python3\n",
    "\n",
    "from re import search\n",
    "print(search(r'.{11}$', 'https://www.youtube.com/watch?v=PI4JABNwB_U').group())"
   ]
  },
  {
   "cell_type": "code",
   "execution_count": 22,
   "metadata": {},
   "outputs": [
    {
     "name": "stdout",
     "output_type": "stream",
     "text": [
      "PI4JABNwB_U\n"
     ]
    }
   ],
   "source": [
    "%%python3\n",
    "\n",
    "vid = 'https://www.youtube.com/watch?v=PI4JABNwB_U'\n",
    "print(vid.rpartition('v=')[2])"
   ]
  },
  {
   "cell_type": "code",
   "execution_count": 3,
   "metadata": {},
   "outputs": [
    {
     "name": "stdout",
     "output_type": "stream",
     "text": [
      "PI4JABNwB_U\n"
     ]
    }
   ],
   "source": [
    "%%bash\n",
    "\n",
    "echo \"https://www.youtube.com/watch?v=PI4JABNwB_U\" | grep -Po '.{11}$' "
   ]
  },
  {
   "cell_type": "markdown",
   "metadata": {},
   "source": [
    "### ***What is Output***"
   ]
  },
  {
   "cell_type": "code",
   "execution_count": null,
   "metadata": {},
   "outputs": [],
   "source": [
    "%%python3\n",
    "\n",
    "print('*'*3)"
   ]
  },
  {
   "cell_type": "raw",
   "metadata": {},
   "source": [
    "A). 123\n",
    "B). *\n",
    "C). ***\n",
    "D). Error"
   ]
  },
  {
   "cell_type": "code",
   "execution_count": null,
   "metadata": {},
   "outputs": [],
   "source": [
    "%%bash\n",
    "\n",
    "for i in {1..3};do  echo -n \"+\"; done; echo"
   ]
  },
  {
   "cell_type": "raw",
   "metadata": {},
   "source": [
    "A). 123\n",
    "B). +\n",
    "C). +++\n",
    "D). 1..3"
   ]
  },
  {
   "cell_type": "markdown",
   "metadata": {},
   "source": [
    "### **What is output?**"
   ]
  },
  {
   "cell_type": "code",
   "execution_count": null,
   "metadata": {},
   "outputs": [],
   "source": [
    "len([i for i in f'{101:b}' if i == '1'])"
   ]
  },
  {
   "cell_type": "raw",
   "metadata": {},
   "source": [
    "A). 2\n",
    "B). 4\n",
    "C). Error\n",
    "D). Code Wrong"
   ]
  },
  {
   "cell_type": "code",
   "execution_count": 1,
   "metadata": {},
   "outputs": [
    {
     "name": "stdout",
     "output_type": "stream",
     "text": [
      "1  ,  [2, 3, 4]\n"
     ]
    }
   ],
   "source": [
    "a,*b={1:10,2:20,3:30,4:40}\n",
    "print(a, ' , ' , b)"
   ]
  },
  {
   "cell_type": "markdown",
   "metadata": {},
   "source": [
    "### **How to write ABCD...?**"
   ]
  },
  {
   "cell_type": "code",
   "execution_count": 1,
   "metadata": {},
   "outputs": [
    {
     "name": "stdout",
     "output_type": "stream",
     "text": [
      "A B C D E F G H I J K L M N O P Q R S T U V W X Y Z\n"
     ]
    }
   ],
   "source": [
    "%%bash\n",
    "\n",
    "echo {A..Z}"
   ]
  },
  {
   "cell_type": "code",
   "execution_count": 4,
   "metadata": {},
   "outputs": [
    {
     "name": "stdout",
     "output_type": "stream",
     "text": [
      "A B C D E F G H I J K L M N O P Q R S T U V W X Y Z\n"
     ]
    }
   ],
   "source": [
    "%%python3\n",
    "\n",
    "from string import ascii_uppercase\n",
    "print(*ascii_uppercase, sep = ' ')"
   ]
  },
  {
   "cell_type": "markdown",
   "metadata": {},
   "source": [
    "### **How to call fucntion?**"
   ]
  },
  {
   "cell_type": "markdown",
   "metadata": {},
   "source": [
    "#### **Mistake call**"
   ]
  },
  {
   "cell_type": "code",
   "execution_count": 18,
   "metadata": {},
   "outputs": [
    {
     "data": {
      "text/plain": [
       "<function __main__.hello()>"
      ]
     },
     "execution_count": 18,
     "metadata": {},
     "output_type": "execute_result"
    }
   ],
   "source": [
    "def hello():    \n",
    "    return 'Hi'\n",
    "\n",
    "hello"
   ]
  },
  {
   "cell_type": "markdown",
   "metadata": {},
   "source": [
    "#### **Wrong call**"
   ]
  },
  {
   "cell_type": "code",
   "execution_count": 22,
   "metadata": {},
   "outputs": [
    {
     "ename": "TypeError",
     "evalue": "hello() takes 0 positional arguments but 1 was given",
     "output_type": "error",
     "traceback": [
      "\u001b[0;31m---------------------------------------------------------------------------\u001b[0m",
      "\u001b[0;31mTypeError\u001b[0m                                 Traceback (most recent call last)",
      "\u001b[0;32m<ipython-input-22-39ae5627c3ee>\u001b[0m in \u001b[0;36m<module>\u001b[0;34m\u001b[0m\n\u001b[1;32m      1\u001b[0m \u001b[0;32mdef\u001b[0m \u001b[0mhello\u001b[0m\u001b[0;34m(\u001b[0m\u001b[0;34m)\u001b[0m\u001b[0;34m:\u001b[0m\u001b[0;34m\u001b[0m\u001b[0;34m\u001b[0m\u001b[0m\n\u001b[1;32m      2\u001b[0m     \u001b[0;32mreturn\u001b[0m \u001b[0;34m'Hi'\u001b[0m\u001b[0;34m\u001b[0m\u001b[0;34m\u001b[0m\u001b[0m\n\u001b[0;32m----> 3\u001b[0;31m \u001b[0mhello\u001b[0m\u001b[0;34m(\u001b[0m\u001b[0;34m'Hi'\u001b[0m\u001b[0;34m)\u001b[0m\u001b[0;34m\u001b[0m\u001b[0;34m\u001b[0m\u001b[0m\n\u001b[0m",
      "\u001b[0;31mTypeError\u001b[0m: hello() takes 0 positional arguments but 1 was given"
     ]
    }
   ],
   "source": [
    "def hello():    \n",
    "    return 'Hi'\n",
    "hello('Hi')"
   ]
  },
  {
   "cell_type": "markdown",
   "metadata": {},
   "source": [
    "#### **Right call**"
   ]
  },
  {
   "cell_type": "code",
   "execution_count": 21,
   "metadata": {},
   "outputs": [
    {
     "data": {
      "text/plain": [
       "'Hi'"
      ]
     },
     "execution_count": 21,
     "metadata": {},
     "output_type": "execute_result"
    }
   ],
   "source": [
    "def hello():    \n",
    "    return 'Hi'\n",
    "\n",
    "hello()"
   ]
  },
  {
   "cell_type": "markdown",
   "metadata": {},
   "source": [
    "## **if ..else..**"
   ]
  },
  {
   "cell_type": "code",
   "execution_count": 6,
   "metadata": {},
   "outputs": [
    {
     "name": "stdout",
     "output_type": "stream",
     "text": [
      "5 is less than 10\n"
     ]
    }
   ],
   "source": [
    "%%python3\n",
    "\n",
    "a = 5\n",
    "b = 10\n",
    "\n",
    "if a >= b:\n",
    "    print(f\"{a} is greater than {b}\")\n",
    "else:\n",
    "    print(f\"{a} is less than {b}\")"
   ]
  },
  {
   "cell_type": "code",
   "execution_count": 2,
   "metadata": {},
   "outputs": [
    {
     "name": "stdout",
     "output_type": "stream",
     "text": [
      "5 is less than 10\n"
     ]
    }
   ],
   "source": [
    "%%bash\n",
    "\n",
    "a=5\n",
    "b=10\n",
    "\n",
    "if (($a >= $b))\n",
    "then\n",
    "echo \"$a is greater than $b\"\n",
    "else\n",
    "echo \"$a is less than $b\"\n",
    "fi"
   ]
  },
  {
   "cell_type": "markdown",
   "metadata": {},
   "source": [
    "### **How to check Linux Server RAM size ?**"
   ]
  },
  {
   "cell_type": "code",
   "execution_count": 3,
   "metadata": {},
   "outputs": [
    {
     "name": "stdout",
     "output_type": "stream",
     "text": [
      "MemTotal:        3995128 kB\r\n"
     ]
    }
   ],
   "source": [
    "!grep -i \"^memtotal\" /proc/meminfo"
   ]
  },
  {
   "cell_type": "code",
   "execution_count": 21,
   "metadata": {},
   "outputs": [
    {
     "name": "stdout",
     "output_type": "stream",
     "text": [
      "      3995128 K total memory\r\n"
     ]
    }
   ],
   "source": [
    "!vmstat -s | awk 'NR == 1'"
   ]
  },
  {
   "cell_type": "code",
   "execution_count": 2,
   "metadata": {},
   "outputs": [
    {
     "name": "stdout",
     "output_type": "stream",
     "text": [
      "Total RAM Size: 3.8G\n"
     ]
    }
   ],
   "source": [
    "!free -h | awk 'NR == 2 {print \"Total RAM Size:\", $2}'"
   ]
  },
  {
   "cell_type": "code",
   "execution_count": 1,
   "metadata": {},
   "outputs": [
    {
     "name": "stdout",
     "output_type": "stream",
     "text": [
      "Total RAM Size: 4G\n"
     ]
    }
   ],
   "source": [
    "%%python3\n",
    "\n",
    "from pathlib import Path\n",
    "import bisect\n",
    "\n",
    "size = [1, 1e+3, 1e+6, 1e+9]\n",
    "unit = ['K','M', 'G']\n",
    "\n",
    "def convert(byts):\n",
    "        index = bisect.bisect(size, byts) - 1\n",
    "        return  str(round(byts/size[index]))+ unit[index]\n",
    "    \n",
    "mem = Path('/proc/meminfo').read_text().splitlines()\n",
    "rk = [i.split()[1] for i in mem if i.startswith('MemTotal')]\n",
    "print('Total RAM Size:',convert((int(*rk))))"
   ]
  },
  {
   "cell_type": "markdown",
   "metadata": {},
   "source": [
    "### **Nested Loop**"
   ]
  },
  {
   "cell_type": "code",
   "execution_count": 13,
   "metadata": {},
   "outputs": [
    {
     "name": "stdout",
     "output_type": "stream",
     "text": [
      "A A\n",
      "A B\n",
      "A C\n",
      "A D\n",
      "B A\n",
      "B B\n",
      "B C\n",
      "B D\n",
      "C A\n",
      "C B\n",
      "C C\n",
      "C D\n",
      "D A\n",
      "D B\n",
      "D C\n",
      "D D\n"
     ]
    }
   ],
   "source": [
    "%%bash\n",
    "\n",
    "for i in {A..D}\n",
    "do\n",
    "for j in {A..D}\n",
    "do\n",
    "echo $i $j\n",
    "done\n",
    "done"
   ]
  },
  {
   "cell_type": "markdown",
   "metadata": {},
   "source": [
    "### **How Nested For Loop Works?**"
   ]
  },
  {
   "cell_type": "code",
   "execution_count": 14,
   "metadata": {},
   "outputs": [
    {
     "name": "stdout",
     "output_type": "stream",
     "text": [
      "A A\n",
      "A B\n",
      "A C\n",
      "A D\n",
      "B A\n",
      "B B\n",
      "B C\n",
      "B D\n",
      "C A\n",
      "C B\n",
      "C C\n",
      "C D\n",
      "D A\n",
      "D B\n",
      "D C\n",
      "D D\n"
     ]
    },
    {
     "name": "stderr",
     "output_type": "stream",
     "text": [
      "\n",
      "for i in {A..D}\n",
      "do\n",
      "for j in {A..D}\n",
      "do\n",
      "echo $i $j\n",
      "done\n",
      "done\n",
      "+ for i in {A..D}\n",
      "+ for j in {A..D}\n",
      "+ echo A A\n",
      "+ for j in {A..D}\n",
      "+ echo A B\n",
      "+ for j in {A..D}\n",
      "+ echo A C\n",
      "+ for j in {A..D}\n",
      "+ echo A D\n",
      "+ for i in {A..D}\n",
      "+ for j in {A..D}\n",
      "+ echo B A\n",
      "+ for j in {A..D}\n",
      "+ echo B B\n",
      "+ for j in {A..D}\n",
      "+ echo B C\n",
      "+ for j in {A..D}\n",
      "+ echo B D\n",
      "+ for i in {A..D}\n",
      "+ for j in {A..D}\n",
      "+ echo C A\n",
      "+ for j in {A..D}\n",
      "+ echo C B\n",
      "+ for j in {A..D}\n",
      "+ echo C C\n",
      "+ for j in {A..D}\n",
      "+ echo C D\n",
      "+ for i in {A..D}\n",
      "+ for j in {A..D}\n",
      "+ echo D A\n",
      "+ for j in {A..D}\n",
      "+ echo D B\n",
      "+ for j in {A..D}\n",
      "+ echo D C\n",
      "+ for j in {A..D}\n",
      "+ echo D D\n"
     ]
    }
   ],
   "source": [
    "%%bash -vx\n",
    "\n",
    "for i in {A..D}\n",
    "do\n",
    "for j in {A..D}\n",
    "do\n",
    "echo $i $j\n",
    "done\n",
    "done"
   ]
  },
  {
   "cell_type": "markdown",
   "metadata": {},
   "source": [
    "### **How to generate Nested for loop using itertools?**"
   ]
  },
  {
   "cell_type": "code",
   "execution_count": 9,
   "metadata": {},
   "outputs": [
    {
     "name": "stdout",
     "output_type": "stream",
     "text": [
      "('A', 'A')\n",
      "('A', 'B')\n",
      "('A', 'C')\n",
      "('A', 'D')\n",
      "('B', 'A')\n",
      "('B', 'B')\n",
      "('B', 'C')\n",
      "('B', 'D')\n",
      "('C', 'A')\n",
      "('C', 'B')\n",
      "('C', 'C')\n",
      "('C', 'D')\n",
      "('D', 'A')\n",
      "('D', 'B')\n",
      "('D', 'C')\n",
      "('D', 'D')\n"
     ]
    }
   ],
   "source": [
    "%%python3\n",
    "\n",
    "from itertools import product\n",
    "\n",
    "print(*product('ABCD', repeat=2), sep = '\\n')"
   ]
  },
  {
   "cell_type": "code",
   "execution_count": null,
   "metadata": {},
   "outputs": [],
   "source": []
  }
 ],
 "metadata": {
  "kernelspec": {
   "display_name": "Python 3",
   "language": "python",
   "name": "python3"
  },
  "language_info": {
   "codemirror_mode": {
    "name": "ipython",
    "version": 3
   },
   "file_extension": ".py",
   "mimetype": "text/x-python",
   "name": "python",
   "nbconvert_exporter": "python",
   "pygments_lexer": "ipython3",
   "version": "3.6.9"
  }
 },
 "nbformat": 4,
 "nbformat_minor": 2
}
