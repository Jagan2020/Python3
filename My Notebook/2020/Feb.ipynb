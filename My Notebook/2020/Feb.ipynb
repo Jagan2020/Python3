{
 "cells": [
  {
   "cell_type": "markdown",
   "metadata": {},
   "source": [
    "### **Print Even Numbers**"
   ]
  },
  {
   "cell_type": "code",
   "execution_count": null,
   "metadata": {},
   "outputs": [],
   "source": [
    "[i for i in range(0, 12, 2)]"
   ]
  },
  {
   "cell_type": "code",
   "execution_count": null,
   "metadata": {},
   "outputs": [],
   "source": [
    "from itertools import filterfalse\n",
    "\n",
    "list(filterfalse(lambda x: x%2, range(12)))"
   ]
  },
  {
   "cell_type": "code",
   "execution_count": null,
   "metadata": {},
   "outputs": [],
   "source": [
    "for i in range(12):\n",
    "    if i%2 == 0:\n",
    "        print(i, end = ' ')"
   ]
  },
  {
   "cell_type": "markdown",
   "metadata": {},
   "source": [
    "### **Print odd Numbers**"
   ]
  },
  {
   "cell_type": "code",
   "execution_count": null,
   "metadata": {},
   "outputs": [],
   "source": [
    "list(filter(lambda x: x%2, range(12)))"
   ]
  },
  {
   "cell_type": "code",
   "execution_count": null,
   "metadata": {},
   "outputs": [],
   "source": [
    "[i for i in range(1, 12, 2)]"
   ]
  },
  {
   "cell_type": "code",
   "execution_count": null,
   "metadata": {},
   "outputs": [],
   "source": [
    "for i in range(12):\n",
    "    if i%2 != 0:\n",
    "        print(i, end =' ')"
   ]
  },
  {
   "cell_type": "markdown",
   "metadata": {},
   "source": [
    "### **How To View Logs In Last Specific Time By Particular Text?**"
   ]
  },
  {
   "cell_type": "code",
   "execution_count": null,
   "metadata": {},
   "outputs": [],
   "source": [
    "from datetime import datetime,timedelta\n",
    "from pathlib import Path\n",
    "import re\n",
    "\n",
    "inpm = int(input('Enter Minutes: '))\n",
    "inpt = input('Enter Search Text: ')\n",
    "now = datetime.now()\n",
    "\n",
    "def ftime():\n",
    "    convert_date = datetime.strptime(dtime, \"%b %d %H:%M:%S\")\n",
    "    return convert_date.strftime(\"%b %e %H:%M\")\n",
    "        \n",
    "times = [(now - timedelta(minutes=x)).strftime(\"%b %e %H:%M\") \n",
    "     for x in range(inpm)]\n",
    "logs = Path('/var/log/syslog').read_text().splitlines()\n",
    "\n",
    "for line in logs:\n",
    "    time_seq = re.match(r'.*'+inpt+'.*', line, re.I)\n",
    "    if time_seq:\n",
    "        dtime = ' '.join(time_seq.group().split()[:3])\n",
    "        if ftime() in times:\n",
    "            print(time_seq.group())"
   ]
  },
  {
   "cell_type": "markdown",
   "metadata": {},
   "source": [
    "### **Extract log in specified  range of time**"
   ]
  },
  {
   "cell_type": "code",
   "execution_count": null,
   "metadata": {},
   "outputs": [],
   "source": [
    "from datetime import datetime,timedelta\n",
    "from pathlib import Path\n",
    "\n",
    "def ftime():\n",
    "    convert_date = datetime.strptime(dtime, \"%b %d %H:%M:%S\")\n",
    "    return convert_date.strftime(\"%b %e %H:%M\")\n",
    "\n",
    "start_time = 'Feb  12 06:30'\n",
    "end_time = 'Feb  12 06:45'\n",
    "start_time = datetime.strptime(start_time, \"%b %d %H:%M\")\n",
    "end_time = datetime.strptime(end_time, \"%b %d %H:%M\")\n",
    "mintue = (end_time - start_time).seconds //60\n",
    "times = [(start_time + timedelta(minutes=x)).strftime(\"%b %e %H:%M\") \n",
    "     for x in range(mintue+1)]\n",
    "logs = Path('/var/log/syslog').read_text().splitlines()\n",
    "\n",
    "for line in logs:  \n",
    "    dtime = ' '.join(line.split()[:3])\n",
    "    if ftime() in times:\n",
    "        print(line)"
   ]
  },
  {
   "cell_type": "markdown",
   "metadata": {},
   "source": [
    "### **How to get docstring?**"
   ]
  },
  {
   "cell_type": "code",
   "execution_count": null,
   "metadata": {},
   "outputs": [],
   "source": [
    "import itertools\n",
    "\n",
    "methods = [i for i  in dir(itertools) if not i.startswith('_')]\n",
    "\n",
    "for i in methods:\n",
    "    print(i+':')\n",
    "    print(getattr(itertools,i).__doc__)\n",
    "    print('*'*50)"
   ]
  },
  {
   "cell_type": "markdown",
   "metadata": {},
   "source": [
    "### **Sum of every three number from a list**"
   ]
  },
  {
   "cell_type": "code",
   "execution_count": null,
   "metadata": {},
   "outputs": [],
   "source": [
    "lst = [1,2,3,4,5,6,7,8,9]\n",
    "[sum(lst[i:i+3]) for i in range(0, len(lst), 3)]"
   ]
  },
  {
   "cell_type": "code",
   "execution_count": null,
   "metadata": {},
   "outputs": [],
   "source": [
    "from functools import reduce\n",
    "from operator import add \n",
    "\n",
    "lst = [1,2,3,4,5,6,7,8,9]\n",
    "partion3 = [lst[i:i+3] for i in range(0, len(lst), 3)]\n",
    "\n",
    "[reduce(add, x) for x in partion3]\n",
    "    "
   ]
  },
  {
   "cell_type": "code",
   "execution_count": null,
   "metadata": {},
   "outputs": [],
   "source": [
    "from itertools import starmap\n",
    "\n",
    "lst = [1,2,3,4,5,6,7,8,9]\n",
    "partion3 = [lst[i:i+3] for i in range(0, len(lst), 3)]\n",
    "\n",
    "list(starmap(lambda x, y, z: x + y + z, partion3))"
   ]
  },
  {
   "cell_type": "markdown",
   "metadata": {},
   "source": [
    "### **isplaindrome**"
   ]
  },
  {
   "cell_type": "code",
   "execution_count": null,
   "metadata": {},
   "outputs": [],
   "source": [
    "%%python3\n",
    "\n",
    "def isplaindrome(x):\n",
    "    return x == x[::-1]\n",
    "\n",
    "print(isplaindrome('radar'))\n",
    "print(isplaindrome('one'))\n",
    "print(isplaindrome('malayalam'))"
   ]
  },
  {
   "cell_type": "markdown",
   "metadata": {},
   "source": [
    "### **How to print every 3 words per line in a file?**"
   ]
  },
  {
   "cell_type": "code",
   "execution_count": null,
   "metadata": {},
   "outputs": [],
   "source": [
    "!cat /home/mana/Work/data1.txt"
   ]
  },
  {
   "cell_type": "code",
   "execution_count": null,
   "metadata": {},
   "outputs": [],
   "source": [
    "from pathlib import Path\n",
    "\n",
    "words = Path('/home/mana/Work/data1.txt').read_text().split()\n",
    "\n",
    "for x, y in enumerate(words, 1):\n",
    "    print(f'{y:12s}', end =' ')\n",
    "    if x%3 == 0:\n",
    "        print()"
   ]
  },
  {
   "cell_type": "code",
   "execution_count": null,
   "metadata": {},
   "outputs": [],
   "source": [
    "from itertools import count\n",
    "from pathlib import Path\n",
    "\n",
    "words = Path('/home/mana/Work/data1.txt').read_text().split()\n",
    "for x, y in zip(count(1), words):\n",
    "    print(f'{y:12s}', end =' ')\n",
    "    if x%3 == 0:\n",
    "        print()\n",
    "    "
   ]
  },
  {
   "cell_type": "markdown",
   "metadata": {},
   "source": [
    "### **How to added line number infront of each line?**"
   ]
  },
  {
   "cell_type": "code",
   "execution_count": null,
   "metadata": {},
   "outputs": [],
   "source": [
    "from pathlib import Path\n",
    "\n",
    "lines = Path('/home/mana/Work/data1.txt').read_text().splitlines()\n",
    "\n",
    "for x, y in enumerate(lines, 1):\n",
    "    print(f'{x}. {y}')"
   ]
  },
  {
   "cell_type": "code",
   "execution_count": null,
   "metadata": {},
   "outputs": [],
   "source": [
    "from itertools import count\n",
    "from pathlib import Path\n",
    "\n",
    "lines = Path('/home/mana/Work/data1.txt').read_text().splitlines()\n",
    "for x, y in zip(count(1), lines):\n",
    "    print(f'{x}. {y}')"
   ]
  },
  {
   "cell_type": "markdown",
   "metadata": {},
   "source": [
    "### **How to count word occurance using groupby method?**"
   ]
  },
  {
   "cell_type": "code",
   "execution_count": null,
   "metadata": {},
   "outputs": [],
   "source": [
    "from itertools import groupby\n",
    "from pathlib import Path\n",
    "\n",
    "lines = Path('/home/mana/Work/data.txt').read_text().split()\n",
    "words = [(x,len(list(y))) for x, y in groupby(sorted(lines))]\n",
    "word_cnt = sorted(words, key = lambda x: x[1], reverse = True)\n",
    "\n",
    "for word, n in word_cnt:\n",
    "    print(f'{word:15s} {n}')"
   ]
  },
  {
   "cell_type": "markdown",
   "metadata": {},
   "source": [
    "### **How to make columnwise format?**"
   ]
  },
  {
   "cell_type": "code",
   "execution_count": null,
   "metadata": {},
   "outputs": [],
   "source": [
    "methods = [i for i in dir(str) if not i.startswith('_')]\n",
    "fmt = '{:15s}'*4\n",
    "\n",
    "for x in zip(*[iter(methods)] *4):\n",
    "    print(fmt.format(*x))"
   ]
  },
  {
   "cell_type": "code",
   "execution_count": null,
   "metadata": {},
   "outputs": [],
   "source": [
    "methods = [i for i in dir(str) if not i.startswith('_')]\n",
    "\n",
    "for x, y in enumerate(methods, 1):\n",
    "    print(f'{y:15s}', end = ' ')\n",
    "    if x%4 == 0:\n",
    "        print()"
   ]
  },
  {
   "cell_type": "markdown",
   "metadata": {},
   "source": [
    "### **How to count repeated lines in a file?**"
   ]
  },
  {
   "cell_type": "code",
   "execution_count": null,
   "metadata": {},
   "outputs": [],
   "source": [
    "!cat /home/mana/Work/music.txt "
   ]
  },
  {
   "cell_type": "code",
   "execution_count": null,
   "metadata": {},
   "outputs": [],
   "source": [
    "%%python3\n",
    "\n",
    "from collections import Counter\n",
    "from pathlib import Path\n",
    "\n",
    "rlines = Path('/home/mana/Work/music.txt').read_text().splitlines()\n",
    "uniq = Counter(rlines)\n",
    "\n",
    "for word, n in uniq.items():\n",
    "    print(f'{word:30s} {n}')"
   ]
  },
  {
   "cell_type": "code",
   "execution_count": null,
   "metadata": {},
   "outputs": [],
   "source": [
    "%%python3\n",
    "\n",
    "from itertools import groupby\n",
    "from pathlib import Path\n",
    "\n",
    "rlines = Path('/home/mana/Work/music.txt').read_text().splitlines()\n",
    "lines = [(x,len(list(y))) for x, y in groupby(rlines)]\n",
    "\n",
    "for word, n in lines:\n",
    "    print(f'{word:30s} {n}')"
   ]
  },
  {
   "cell_type": "code",
   "execution_count": null,
   "metadata": {},
   "outputs": [],
   "source": [
    "%%bash\n",
    "\n",
    "uniq -c /home/mana/Work/music.txt "
   ]
  },
  {
   "cell_type": "markdown",
   "metadata": {},
   "source": [
    "### **How to find mostly common used word in file?**"
   ]
  },
  {
   "cell_type": "code",
   "execution_count": null,
   "metadata": {},
   "outputs": [],
   "source": [
    "%%python3\n",
    "\n",
    "from collections import Counter\n",
    "from pathlib import Path\n",
    "\n",
    "rlines = Path('/home/mana/Work/data.txt').read_text().split()\n",
    "print(Counter(rlines).most_common(3))"
   ]
  },
  {
   "cell_type": "code",
   "execution_count": null,
   "metadata": {},
   "outputs": [],
   "source": [
    "from itertools import groupby\n",
    "from pathlib import Path\n",
    "\n",
    "lines = Path('/home/mana/Work/data.txt').read_text().split()\n",
    "words = [(x,len(list(y))) for x, y in groupby(sorted(lines))]\n",
    "word_cnt = sorted(words, key = lambda x: x[1], reverse = True)\n",
    "word_cnt[:3]"
   ]
  },
  {
   "cell_type": "markdown",
   "metadata": {},
   "source": [
    "### **Print categorize**"
   ]
  },
  {
   "cell_type": "code",
   "execution_count": null,
   "metadata": {},
   "outputs": [],
   "source": [
    "from itertools import permutations\n",
    "\n",
    "def show(iterable):\n",
    "    first = None\n",
    "    for i, item in enumerate(iterable, 1):\n",
    "        if first != item[0]:\n",
    "            if first is not None:\n",
    "                print()\n",
    "            first = item[0]\n",
    "        print(''.join(item), end=' ')\n",
    "    print()\n",
    "\n",
    "\n",
    "print('All permutations:\\n')\n",
    "show(permutations('abcd'))  "
   ]
  },
  {
   "cell_type": "markdown",
   "metadata": {},
   "source": [
    "### **Which lines are similar between two files using product method?**"
   ]
  },
  {
   "cell_type": "code",
   "execution_count": null,
   "metadata": {},
   "outputs": [],
   "source": [
    "from itertools import product\n",
    "from pathlib import Path\n",
    "\n",
    "P = Path('/home/mana/Work')\n",
    "f1 = (P/'sample1.txt').read_text().splitlines()\n",
    "f2 = (P/'sample2.txt').read_text().splitlines()\n",
    "for i,j in list(product(f1, f2)):\n",
    "    if i == j:\n",
    "        print(i)\n"
   ]
  },
  {
   "cell_type": "code",
   "execution_count": null,
   "metadata": {},
   "outputs": [],
   "source": [
    "!cat /home/mana/Work/sample1.txt"
   ]
  },
  {
   "cell_type": "code",
   "execution_count": null,
   "metadata": {},
   "outputs": [],
   "source": [
    "!cat /home/mana/Work/sample2.txt"
   ]
  },
  {
   "cell_type": "markdown",
   "metadata": {},
   "source": [
    "### **How to find different lines?**"
   ]
  },
  {
   "cell_type": "code",
   "execution_count": null,
   "metadata": {},
   "outputs": [],
   "source": [
    "from difflib import ndiff\n",
    "from pathlib import Path\n",
    "\n",
    "P = Path('/home/mana/Work')\n",
    "f1 = (P/'sample1.txt').read_text().splitlines()\n",
    "f2 = (P/'sample2.txt').read_text().splitlines()\n",
    "diff = ndiff(f1, f2)\n",
    "delta = [x.replace('- ','') for x in diff if x.startswith('-')]\n",
    "\n",
    "print(*delta, sep = '\\n')"
   ]
  },
  {
   "cell_type": "markdown",
   "metadata": {},
   "source": [
    "### **How to find similar lines?**"
   ]
  },
  {
   "cell_type": "code",
   "execution_count": null,
   "metadata": {},
   "outputs": [],
   "source": [
    "from difflib import Differ\n",
    "from pathlib import Path\n",
    "\n",
    "P = Path('/home/mana/Work')\n",
    "f1 = (P/'sample1.txt').read_text().splitlines()\n",
    "f2 = (P/'sample2.txt').read_text().splitlines()\n",
    "diff = Differ().compare(f1,f2)\n",
    "same_lines = [x for x in diff if x.startswith(' ')]\n",
    "print(*same_lines)"
   ]
  },
  {
   "cell_type": "code",
   "execution_count": null,
   "metadata": {},
   "outputs": [],
   "source": [
    "!cat /home/mana/Work/sample1.txt"
   ]
  },
  {
   "cell_type": "code",
   "execution_count": null,
   "metadata": {},
   "outputs": [],
   "source": [
    "!cat /home/mana/Work/sample2.txt"
   ]
  },
  {
   "cell_type": "markdown",
   "metadata": {},
   "source": [
    "### **How to find different and similar lines between two files?**"
   ]
  },
  {
   "cell_type": "code",
   "execution_count": null,
   "metadata": {},
   "outputs": [],
   "source": [
    "%%python3\n",
    "\n",
    "from difflib import Differ,ndiff\n",
    "from pathlib import Path\n",
    "\n",
    "P = Path('/home/mana/Work')\n",
    "f1 = (P/'sample1.txt').read_text().splitlines()\n",
    "f2 = (P/'sample2.txt').read_text().splitlines()\n",
    "same = Differ().compare(f1,f2)\n",
    "different = ndiff(f1, f2)\n",
    "same_lines = [x.replace('  ','') for x in same \n",
    "              if x.startswith(' ')]\n",
    "different_lines = [x.replace('- ','') for x in different \n",
    "                   if x.startswith('-')]\n",
    "print(\"These lines are same: \")\n",
    "print(*same_lines, sep = '\\n')\n",
    "print()\n",
    "print(\"These lines are different: \")\n",
    "print(*different_lines, sep = '\\n')"
   ]
  },
  {
   "cell_type": "markdown",
   "metadata": {},
   "source": [
    "### **How to find comman elements between  lists?**"
   ]
  },
  {
   "cell_type": "code",
   "execution_count": null,
   "metadata": {},
   "outputs": [],
   "source": [
    "lst1 = [1, 2, 4, 7, 5]\n",
    "lst2 = [1, 2, 3, 4, 7, 6]\n",
    "set(lst1) & set(lst2)"
   ]
  },
  {
   "cell_type": "code",
   "execution_count": null,
   "metadata": {},
   "outputs": [],
   "source": [
    "from itertools import product\n",
    "\n",
    "lst1 = [1, 2, 4, 7, 5]\n",
    "lst2 = [1, 2, 3, 4, 7, 6]\n",
    "\n",
    "for i, j in product(lst1, lst2):\n",
    "    if i == j:\n",
    "        print(i, end = ', ')"
   ]
  },
  {
   "cell_type": "markdown",
   "metadata": {},
   "source": [
    "### **How to evaluate Grade?**"
   ]
  },
  {
   "cell_type": "code",
   "execution_count": null,
   "metadata": {},
   "outputs": [],
   "source": [
    "from bisect import bisect\n",
    "\n",
    "marks = [0, 40, 60, 80]\n",
    "grade = ['D', 'C', 'B', 'A']\n",
    "\n",
    "def display_grade(num):\n",
    "    idx = bisect(marks, num) - 1\n",
    "    return f'{grade[idx]} Grade' \n",
    "\n",
    "display_grade(65)   "
   ]
  },
  {
   "cell_type": "markdown",
   "metadata": {},
   "source": [
    "### **How to efficiently use regex in Linux?**"
   ]
  },
  {
   "cell_type": "code",
   "execution_count": null,
   "metadata": {},
   "outputs": [],
   "source": [
    "%%bash\n",
    "\n",
    "grep \"task\" /usr/share/dict/words"
   ]
  },
  {
   "cell_type": "code",
   "execution_count": null,
   "metadata": {},
   "outputs": [],
   "source": [
    "%%bash\n",
    "\n",
    "grep -w \"task\" /usr/share/dict/words"
   ]
  },
  {
   "cell_type": "code",
   "execution_count": null,
   "metadata": {},
   "outputs": [],
   "source": [
    "%%bash\n",
    "\n",
    "grep -w \"task$\" /usr/share/dict/words"
   ]
  },
  {
   "cell_type": "markdown",
   "metadata": {},
   "source": [
    "### **How to list directory and sub directory only?**"
   ]
  },
  {
   "cell_type": "code",
   "execution_count": null,
   "metadata": {},
   "outputs": [],
   "source": [
    "%%bash\n",
    "\n",
    "ls /home/mana/Work/*/"
   ]
  },
  {
   "cell_type": "markdown",
   "metadata": {},
   "source": [
    "### **How to view original path of symbolic link?**"
   ]
  },
  {
   "cell_type": "code",
   "execution_count": null,
   "metadata": {},
   "outputs": [],
   "source": [
    "%%bash\n",
    "\n",
    "readlink -f /etc/localtime"
   ]
  },
  {
   "cell_type": "code",
   "execution_count": null,
   "metadata": {},
   "outputs": [],
   "source": [
    "%%python3\n",
    "\n",
    "from os import readlink\n",
    "\n",
    "print(readlink('/etc/localtime'))\n"
   ]
  },
  {
   "cell_type": "markdown",
   "metadata": {},
   "source": [
    "### **Built-in Functions in Python**"
   ]
  },
  {
   "cell_type": "code",
   "execution_count": null,
   "metadata": {},
   "outputs": [],
   "source": [
    "import builtins\n",
    "\n",
    "fmt = '{:18s}'*4\n",
    "fn = [i for i in dir(builtins) if i[0].islower()]\n",
    "\n",
    "for x in zip(*[iter(fun)] *4):\n",
    "    print(fmt.format(*x))"
   ]
  },
  {
   "cell_type": "code",
   "execution_count": null,
   "metadata": {},
   "outputs": [],
   "source": [
    "import builtins\n",
    "import re\n",
    "\n",
    "fmt = '{:18s}'*4\n",
    "fun = [i for i in dir(builtins) if re.match(r'^[a-z]', i)]\n",
    "\n",
    "for x in zip(*[iter(fun)] *4):\n",
    "    print(fmt.format(*x))"
   ]
  },
  {
   "cell_type": "markdown",
   "metadata": {},
   "source": [
    "### **How to print string methods?**"
   ]
  },
  {
   "cell_type": "code",
   "execution_count": null,
   "metadata": {},
   "outputs": [],
   "source": [
    "fmt = '{:15s}'*4\n",
    "fn = [i for i in dir(str) if i[0].islower()]\n",
    "\n",
    "for x in zip(*[iter(fn)] *4):\n",
    "    print(fmt.format(*x))"
   ]
  },
  {
   "cell_type": "markdown",
   "metadata": {},
   "source": [
    "### **Pascal's Triangle**"
   ]
  },
  {
   "cell_type": "raw",
   "metadata": {},
   "source": [
    "Pascal's Triangle is an arithmetic and geometric figure first imagined by Blaise Pascal.\n",
    "Here,\n",
    "          Each number is the two numbers above it added together."
   ]
  },
  {
   "cell_type": "code",
   "execution_count": null,
   "metadata": {},
   "outputs": [],
   "source": [
    "def pascal_triangle(n):\n",
    "    trow=[1]\n",
    "    y=[0]\n",
    "    for x in range(n,0,-1):\n",
    "        print(trow)\n",
    "        trow=[l+r for l,r in zip(trow+y , y+trow)]\n",
    "    return n>=1\n",
    "\n",
    "pascal_triangle(10)"
   ]
  },
  {
   "cell_type": "markdown",
   "metadata": {},
   "source": [
    "### **Swap two variable**"
   ]
  },
  {
   "cell_type": "code",
   "execution_count": null,
   "metadata": {},
   "outputs": [],
   "source": [
    "%%bash\n",
    "\n",
    "x=10\n",
    "y=38\n",
    "temp=$x\n",
    "x=$y\n",
    "y=$temp\n",
    "echo \"x = $x\"\n",
    "echo \"y = $y\""
   ]
  },
  {
   "cell_type": "code",
   "execution_count": null,
   "metadata": {},
   "outputs": [],
   "source": [
    "%%python3\n",
    "\n",
    "x = 10\n",
    "y = 38\n",
    "x, y = y, x\n",
    "print(f'x = {x}')\n",
    "print(f'y = {y}')"
   ]
  },
  {
   "cell_type": "code",
   "execution_count": null,
   "metadata": {},
   "outputs": [],
   "source": [
    "%%python3\n",
    "#Mtehod: 2\n",
    "x = 10\n",
    "y = 38\n",
    "temp = x\n",
    "x = y\n",
    "y = temp\n",
    "print(f'x = {x}')\n",
    "print(f'y = {y}')"
   ]
  },
  {
   "cell_type": "markdown",
   "metadata": {},
   "source": [
    "### **How to verify data integrity using MD5?**"
   ]
  },
  {
   "cell_type": "markdown",
   "metadata": {},
   "source": [
    "#### **md5sum**"
   ]
  },
  {
   "cell_type": "raw",
   "metadata": {},
   "source": [
    "md5sum - compute and check MD5 message digest\n",
    "md5sum is a computer program that calculates and verifies 128-bit MD5 hashes. \n",
    "md5sum is used to verify the integrity of files, as virtually any change \n",
    "to a file will cause its MD5 hash to change. Most commonly, md5sum is used \n",
    "to verify that a file has not changed as a result of a faulty file transfer, \n",
    "a disk error or non-malicious meddling. The md5sum program is included \n",
    "in most Unix-like operating systems "
   ]
  },
  {
   "cell_type": "code",
   "execution_count": null,
   "metadata": {},
   "outputs": [],
   "source": [
    "%%python3\n",
    "\n",
    "from pathlib import Path\n",
    "from hashlib import md5\n",
    "\n",
    "p = Path('/home/mana/Work/test.csv')\n",
    "print(md5(p.read_bytes()).hexdigest(), p)"
   ]
  },
  {
   "cell_type": "code",
   "execution_count": null,
   "metadata": {},
   "outputs": [],
   "source": [
    "%%bash\n",
    "\n",
    "md5sum /home/mana/Work/test.csv"
   ]
  },
  {
   "cell_type": "markdown",
   "metadata": {},
   "source": [
    "### **How to compare two sha256 hashing message digest?**"
   ]
  },
  {
   "cell_type": "raw",
   "metadata": {},
   "source": [
    "What is message digest?\n",
    "\n",
    "A cryptographic hash function (CHF) is a hash function \n",
    "that is suitable for use in cryptography. It is a \n",
    "mathematical algorithm that maps data of arbitrary \n",
    "size (often called the \"message\") to a bit string of a \n",
    "fixed size (the \"hash value\", \"hash\", or \"message digest\") \n",
    "and is a one-way function.\n",
    "\n",
    "Ref: https://en.wikipedia.org/wiki/Cryptographic_hash_function"
   ]
  },
  {
   "cell_type": "code",
   "execution_count": null,
   "metadata": {},
   "outputs": [],
   "source": [
    "%%python3\n",
    "\n",
    "from pathlib import Path\n",
    "from hashlib import sha256\n",
    "\n",
    "org_dig='c7eeb1fcaddc955b8732d3c3b810ff553edbb54c4a89118bcb26021fe147233e'\n",
    "p = Path('/home/mana/Work/test.csv')\n",
    "\n",
    "if sha256(p.read_bytes()).hexdigest() == org_dig:\n",
    "    print('Digest correct.')\n",
    "else:\n",
    "    print('Digest is not correct.')\n",
    "    "
   ]
  },
  {
   "cell_type": "code",
   "execution_count": null,
   "metadata": {},
   "outputs": [],
   "source": [
    "%%bash\n",
    "\n",
    "org_dig='c7eeb1fcaddc955b8732d3c3b810ff553edbb54c4a89118bcb26021fe147233e'\n",
    "file_dig=$(sha256sum /home/mana/Work/test.csv | awk '{print $1}')\n",
    "\n",
    "if [[ $file_dig  == $org_dig ]]\n",
    "then\n",
    "echo 'Digest correct.'\n",
    "else\n",
    "echo 'Digest is not correct.'\n",
    "fi\n"
   ]
  },
  {
   "cell_type": "markdown",
   "metadata": {},
   "source": [
    "### **How to find longest digit in this string?**"
   ]
  },
  {
   "cell_type": "code",
   "execution_count": null,
   "metadata": {},
   "outputs": [],
   "source": [
    "%%python3\n",
    "\n",
    "from re import findall\n",
    "\n",
    "st = 'c7eeb1fcaddc955b8732d3c3b810ff553edbb54c'\n",
    "filter_digit = [(i, len(i)) for i in findall(r'\\d{1,}', st) ]\n",
    "sorted(filter_digit, key = lambda x: x[1], reverse = True)[0][0]"
   ]
  },
  {
   "cell_type": "code",
   "execution_count": null,
   "metadata": {},
   "outputs": [],
   "source": [
    "%%bash\n",
    "\n",
    "st='c7eeb1fcaddc955b8732d3c3b810ff553edbb54c'\n",
    "echo $st | grep -Po \"\\d{1,}\" | sort -n | tail -1"
   ]
  },
  {
   "cell_type": "code",
   "execution_count": null,
   "metadata": {},
   "outputs": [],
   "source": [
    "%%perl\n",
    "\n",
    "$num = 'c7eeb1fcaddc955b8732d3c3b810ff553edbb54c';\n",
    "@arr = reverse sort { length $a <=> length $b } split /\\D+?/, $num;\n",
    "print $arr[0];"
   ]
  },
  {
   "cell_type": "markdown",
   "metadata": {},
   "source": [
    "### **How to calulate vowels in a string?**"
   ]
  },
  {
   "cell_type": "code",
   "execution_count": 330,
   "metadata": {},
   "outputs": [
    {
     "name": "stdout",
     "output_type": "stream",
     "text": [
      "('India', ['I', 'i', 'a'], 3)\n",
      "('France', ['a', 'e'], 2)\n",
      "('America', ['A', 'e', 'i', 'a'], 4)\n",
      "('Germany', ['e', 'a'], 2)\n",
      "('England', ['E', 'a'], 2)\n"
     ]
    }
   ],
   "source": [
    "lst = ['India', 'France', 'America', 'Germany', 'England']\n",
    "\n",
    "def vow(word):\n",
    "    v_filter = [x for x in word if x.casefold() in 'aeiou']\n",
    "    return word, v_filter, len(v_filter)\n",
    "\n",
    "print(*list(map(vow, lst)), sep = '\\n')"
   ]
  },
  {
   "cell_type": "markdown",
   "metadata": {},
   "source": [
    "### **Red blood cell compatibility**\n",
    "https://en.wikipedia.org/wiki/Blood_type#Red_blood_cell_compatibility"
   ]
  },
  {
   "cell_type": "markdown",
   "metadata": {},
   "source": [
    "### **My Desktop Uptime**"
   ]
  },
  {
   "cell_type": "code",
   "execution_count": 328,
   "metadata": {},
   "outputs": [
    {
     "name": "stdout",
     "output_type": "stream",
     "text": [
      "7 days, 12:11\n"
     ]
    }
   ],
   "source": [
    "%%python3\n",
    "\n",
    "from pathlib import Path as Pa\n",
    "from datetime import timedelta\n",
    "\n",
    "u = Pa('/proc/uptime').read_text().split()[0]\n",
    "t = timedelta(seconds = float(u))\n",
    "print(str(t).rpartition(':')[0])"
   ]
  },
  {
   "cell_type": "code",
   "execution_count": 322,
   "metadata": {},
   "outputs": [
    {
     "name": "stdout",
     "output_type": "stream",
     "text": [
      "up 1 week, 11 hours, 45 minutes\n"
     ]
    }
   ],
   "source": [
    "%%bash\n",
    "\n",
    "uptime -p"
   ]
  },
  {
   "cell_type": "markdown",
   "metadata": {},
   "source": [
    "### **How to print heart ❤️?**"
   ]
  },
  {
   "cell_type": "code",
   "execution_count": 11,
   "metadata": {},
   "outputs": [
    {
     "data": {
      "text/plain": [
       "'❤'"
      ]
     },
     "execution_count": 11,
     "metadata": {},
     "output_type": "execute_result"
    }
   ],
   "source": [
    "chr(10084)"
   ]
  },
  {
   "cell_type": "markdown",
   "metadata": {},
   "source": [
    "### **How to create random alphanumeric string?**"
   ]
  },
  {
   "cell_type": "code",
   "execution_count": 51,
   "metadata": {},
   "outputs": [
    {
     "name": "stdout",
     "output_type": "stream",
     "text": [
      "U9brt3RMzHbZfMbOUyiDSNAJ3"
     ]
    }
   ],
   "source": [
    "%%bash\n",
    "\n",
    "cat /dev/urandom | tr -dc 'a-zA-Z0-9' | head -c 25"
   ]
  },
  {
   "cell_type": "code",
   "execution_count": 9,
   "metadata": {},
   "outputs": [
    {
     "name": "stdout",
     "output_type": "stream",
     "text": [
      "7Y37xouMuVqR7Bzc92q7ht31h\n"
     ]
    }
   ],
   "source": [
    "%%python3\n",
    "\n",
    "from string import ascii_letters, digits\n",
    "from random import choices\n",
    "\n",
    "print(*choices(ascii_letters+digits*2, k=25), sep ='')"
   ]
  },
  {
   "cell_type": "code",
   "execution_count": 49,
   "metadata": {},
   "outputs": [
    {
     "name": "stdout",
     "output_type": "stream",
     "text": [
      "2VbQUizw2yt4kqrYf7KZS6PGn\n"
     ]
    }
   ],
   "source": [
    "%%python3\n",
    "\n",
    "from string import ascii_letters, digits\n",
    "from random import choices\n",
    "\n",
    "print(''.join(choices(ascii_letters+digits*2, k=25)))"
   ]
  },
  {
   "cell_type": "code",
   "execution_count": 2,
   "metadata": {},
   "outputs": [
    {
     "name": "stdout",
     "output_type": "stream",
     "text": [
      "0 2 4 6 8 10 12 14 16\n"
     ]
    }
   ],
   "source": [
    "print(*(i*2 for i in range(9)))"
   ]
  },
  {
   "cell_type": "code",
   "execution_count": null,
   "metadata": {},
   "outputs": [],
   "source": [
    "%%bash\n",
    "\n",
    "for i in {1..3}\n",
    "do\n",
    "echo -n $i, $i\n",
    "done"
   ]
  },
  {
   "cell_type": "raw",
   "metadata": {},
   "source": [
    "A) 123\n",
    "B) 13\n",
    "C) 1, 12, 23, 3\n",
    "D) 1, 12, 23"
   ]
  },
  {
   "cell_type": "code",
   "execution_count": null,
   "metadata": {},
   "outputs": [],
   "source": [
    "%%python3\n",
    "\n",
    "for i in range(1,3):\n",
    "    print(i, i, end = ' ')"
   ]
  },
  {
   "cell_type": "raw",
   "metadata": {},
   "source": [
    "A) 123\n",
    "B) 1 1 2 2 \n",
    "C) 1, 12, 23, 3\n",
    "D) 1, 12, 23"
   ]
  },
  {
   "cell_type": "markdown",
   "metadata": {},
   "source": [
    "### **Array in Bash and python**"
   ]
  },
  {
   "cell_type": "code",
   "execution_count": 185,
   "metadata": {},
   "outputs": [
    {
     "name": "stdout",
     "output_type": "stream",
     "text": [
      "Total number of elements: 4\n",
      "Second Element: Banglore\n"
     ]
    }
   ],
   "source": [
    "%%bash\n",
    "\n",
    "city=('Paris' 'Banglore' 'London' 'California')\n",
    "\n",
    "#Total number of elements in Array.\n",
    "echo \"Total number of elements: ${#city[@]}\"\n",
    "\n",
    "#Access second element.\n",
    "echo \"Second Element: ${city[1]}\"\n"
   ]
  },
  {
   "cell_type": "code",
   "execution_count": 186,
   "metadata": {},
   "outputs": [
    {
     "name": "stdout",
     "output_type": "stream",
     "text": [
      "Total number of elements: 4\n",
      "Second Element: Banglore\n"
     ]
    }
   ],
   "source": [
    "%%python3\n",
    "\n",
    "city=['Paris', 'Banglore', 'London', 'California']\n",
    "\n",
    "#Total number of elements in Array.\n",
    "print(\"Total number of elements:\",len(city))\n",
    "\n",
    "#Access second element.\n",
    "print(\"Second Element:\", city[1])\n"
   ]
  },
  {
   "cell_type": "markdown",
   "metadata": {},
   "source": [
    "### **How to print numbers leading with zeros?**"
   ]
  },
  {
   "cell_type": "code",
   "execution_count": 110,
   "metadata": {},
   "outputs": [
    {
     "name": "stdout",
     "output_type": "stream",
     "text": [
      "01 02 03 04 05 06 07 08 09 10\n"
     ]
    }
   ],
   "source": [
    "%%bash\n",
    "\n",
    "echo {01..10}"
   ]
  },
  {
   "cell_type": "code",
   "execution_count": 108,
   "metadata": {},
   "outputs": [
    {
     "name": "stdout",
     "output_type": "stream",
     "text": [
      "01 02 03 04 05 06 07 08 09 10 "
     ]
    }
   ],
   "source": [
    "%%python3\n",
    "\n",
    "for i in range(1,11):\n",
    "    print(f\"{i:02}\", end = ' ')"
   ]
  },
  {
   "cell_type": "markdown",
   "metadata": {},
   "source": [
    "### **How  to list all cats to here?**"
   ]
  },
  {
   "cell_type": "code",
   "execution_count": 118,
   "metadata": {},
   "outputs": [
    {
     "data": {
      "text/plain": [
       "['cat', 'cat', 'cat', 'cat']"
      ]
     },
     "execution_count": 118,
     "metadata": {},
     "output_type": "execute_result"
    }
   ],
   "source": [
    "animals = ['dog', 'cat', 'horse', 'donkey', 'cat', 'cat', 'snake', 'cat']\n",
    "['cat']*animals.count('cat')"
   ]
  },
  {
   "cell_type": "code",
   "execution_count": 114,
   "metadata": {},
   "outputs": [
    {
     "data": {
      "text/plain": [
       "['cat', 'cat', 'cat', 'cat']"
      ]
     },
     "execution_count": 114,
     "metadata": {},
     "output_type": "execute_result"
    }
   ],
   "source": [
    "animals = ['dog', 'cat', 'horse', 'donkey', 'cat', 'cat', 'snake', 'cat']\n",
    "[i for i in animals if i == 'cat']"
   ]
  },
  {
   "cell_type": "code",
   "execution_count": 117,
   "metadata": {},
   "outputs": [
    {
     "data": {
      "text/plain": [
       "['cat', 'cat', 'cat', 'cat']"
      ]
     },
     "execution_count": 117,
     "metadata": {},
     "output_type": "execute_result"
    }
   ],
   "source": [
    "from re import findall\n",
    "\n",
    "animals = ['dog', 'cat', 'horse', 'donkey', 'cat', 'cat', 'snake', 'cat']\n",
    "findall(r'cat', ' '.join(animals))"
   ]
  },
  {
   "cell_type": "markdown",
   "metadata": {},
   "source": [
    "### **How to split a file into line ranges?**\n",
    "\n",
    "Here, i split to 20-25."
   ]
  },
  {
   "cell_type": "code",
   "execution_count": 196,
   "metadata": {},
   "outputs": [
    {
     "name": "stdout",
     "output_type": "stream",
     "text": [
      "daytime\t\t13/udp\n",
      "netstat\t\t15/tcp\n",
      "qotd\t\t17/tcp\t\tquote\n",
      "msp\t\t18/tcp\t\t\t\t# message send protocol\n",
      "msp\t\t18/udp\n",
      "chargen\t\t19/tcp\t\tttytst source\n"
     ]
    }
   ],
   "source": [
    "%%python3\n",
    "\n",
    "from pathlib import Path\n",
    "\n",
    "print(*Path('/etc/services').read_text().splitlines()[19:25], sep = '\\n')"
   ]
  },
  {
   "cell_type": "code",
   "execution_count": 195,
   "metadata": {},
   "outputs": [
    {
     "name": "stdout",
     "output_type": "stream",
     "text": [
      "daytime\t\t13/udp\n",
      "netstat\t\t15/tcp\n",
      "qotd\t\t17/tcp\t\tquote\n",
      "msp\t\t18/tcp\t\t\t\t# message send protocol\n",
      "msp\t\t18/udp\n",
      "chargen\t\t19/tcp\t\tttytst source\n"
     ]
    }
   ],
   "source": [
    "%%bash\n",
    "\n",
    "sed -n '20,25p' /etc/services"
   ]
  },
  {
   "cell_type": "markdown",
   "metadata": {},
   "source": [
    "### **How to find max value in list?**"
   ]
  },
  {
   "cell_type": "code",
   "execution_count": 4,
   "metadata": {},
   "outputs": [
    {
     "data": {
      "text/plain": [
       "9"
      ]
     },
     "execution_count": 4,
     "metadata": {},
     "output_type": "execute_result"
    }
   ],
   "source": [
    "data = [5, 2, 6, 4, 5, 9, 1]\n",
    "max(data)"
   ]
  },
  {
   "cell_type": "code",
   "execution_count": 3,
   "metadata": {},
   "outputs": [
    {
     "data": {
      "text/plain": [
       "9"
      ]
     },
     "execution_count": 3,
     "metadata": {},
     "output_type": "execute_result"
    }
   ],
   "source": [
    "from functools import reduce\n",
    "\n",
    "data = [5, 2, 6, 4, 5, 9, 1]\n",
    "reduce(max, data)"
   ]
  },
  {
   "cell_type": "markdown",
   "metadata": {},
   "source": [
    "### How to find sum values in list?"
   ]
  },
  {
   "cell_type": "code",
   "execution_count": 9,
   "metadata": {},
   "outputs": [
    {
     "data": {
      "text/plain": [
       "17"
      ]
     },
     "execution_count": 9,
     "metadata": {},
     "output_type": "execute_result"
    }
   ],
   "source": [
    "data = [5, 2, 6, 4]\n",
    "sum(data)"
   ]
  },
  {
   "cell_type": "code",
   "execution_count": 8,
   "metadata": {},
   "outputs": [
    {
     "data": {
      "text/plain": [
       "17"
      ]
     },
     "execution_count": 8,
     "metadata": {},
     "output_type": "execute_result"
    }
   ],
   "source": [
    "from itertools import accumulate\n",
    "\n",
    "data = [5, 2, 6, 4]\n",
    "list(accumulate(data))[-1]"
   ]
  },
  {
   "cell_type": "code",
   "execution_count": 12,
   "metadata": {},
   "outputs": [
    {
     "name": "stdout",
     "output_type": "stream",
     "text": [
      "17\n"
     ]
    }
   ],
   "source": [
    "data = [5, 2, 6, 4]\n",
    "\n",
    "total = 0\n",
    "for i in data:\n",
    "    total += i\n",
    "    \n",
    "print(total)    "
   ]
  },
  {
   "cell_type": "markdown",
   "metadata": {},
   "source": [
    "### **How to fetch exact three digits in string?**"
   ]
  },
  {
   "cell_type": "code",
   "execution_count": 60,
   "metadata": {},
   "outputs": [
    {
     "name": "stdout",
     "output_type": "stream",
     "text": [
      "212\n"
     ]
    }
   ],
   "source": [
    "%%python3\n",
    "\n",
    "from re import findall, sub\n",
    "\n",
    "st = '4OF8gn4w43kaF7ZM8j62557b9G212i'\n",
    "f_str = findall(r'[a-zA-Z]\\d{3}[a-zA-Z]', st)\n",
    "print(sub(r'[a-zA-Z]','', ' '.join(f_str)))\n"
   ]
  },
  {
   "cell_type": "code",
   "execution_count": 42,
   "metadata": {},
   "outputs": [
    {
     "name": "stdout",
     "output_type": "stream",
     "text": [
      "212\n"
     ]
    }
   ],
   "source": [
    "%%bash\n",
    "\n",
    "echo '4OF8gn4w43kaF7ZM8j62557b9G212i' | \\\n",
    "grep -Po \"[a-zA-Z]\\d{3}[a-zA-Z]\" | sed 's/[a-zA-Z]//g'"
   ]
  },
  {
   "cell_type": "markdown",
   "metadata": {},
   "source": [
    "### **How to sum list of list?**"
   ]
  },
  {
   "cell_type": "code",
   "execution_count": 2,
   "metadata": {},
   "outputs": [
    {
     "data": {
      "text/plain": [
       "475"
      ]
     },
     "execution_count": 2,
     "metadata": {},
     "output_type": "execute_result"
    }
   ],
   "source": [
    "lst=[[2,4,5,66],[4,5,77,99],[55,68,90]]\n",
    "sum(sum(lst, []))"
   ]
  },
  {
   "cell_type": "code",
   "execution_count": 15,
   "metadata": {},
   "outputs": [
    {
     "data": {
      "text/plain": [
       "475"
      ]
     },
     "execution_count": 15,
     "metadata": {},
     "output_type": "execute_result"
    }
   ],
   "source": [
    "lst=[[2,4,5,66],[4,5,77,99],[55,68,90]]\n",
    "sum([sum(i) for i in lst ])"
   ]
  },
  {
   "cell_type": "code",
   "execution_count": 17,
   "metadata": {},
   "outputs": [
    {
     "data": {
      "text/plain": [
       "475"
      ]
     },
     "execution_count": 17,
     "metadata": {},
     "output_type": "execute_result"
    }
   ],
   "source": [
    "lst=[[2,4,5,66],[4,5,77,99],[55,68,90]]\n",
    "sum(map(sum, lst))"
   ]
  },
  {
   "cell_type": "code",
   "execution_count": 12,
   "metadata": {},
   "outputs": [
    {
     "data": {
      "text/plain": [
       "475"
      ]
     },
     "execution_count": 12,
     "metadata": {},
     "output_type": "execute_result"
    }
   ],
   "source": [
    "from itertools import chain\n",
    "from functools import reduce\n",
    "from operator import add\n",
    "\n",
    "lst=[[2,4,5,66],[4,5,77,99],[55,68,90]]\n",
    "reduce(add, chain(*lst))"
   ]
  },
  {
   "cell_type": "code",
   "execution_count": 9,
   "metadata": {},
   "outputs": [
    {
     "data": {
      "text/plain": [
       "475"
      ]
     },
     "execution_count": 9,
     "metadata": {},
     "output_type": "execute_result"
    }
   ],
   "source": [
    "from itertools import chain, accumulate\n",
    "from operator import add\n",
    "\n",
    "lst=[[2,4,5,66],[4,5,77,99],[55,68,90]]\n",
    "list(accumulate(chain(*lst)))[-1]"
   ]
  },
  {
   "cell_type": "markdown",
   "metadata": {},
   "source": [
    "### **Encode and Decode**"
   ]
  },
  {
   "cell_type": "markdown",
   "metadata": {},
   "source": [
    "#### **What is encode?**"
   ]
  },
  {
   "cell_type": "code",
   "execution_count": 18,
   "metadata": {},
   "outputs": [
    {
     "name": "stdout",
     "output_type": "stream",
     "text": [
      "S.encode(encoding='utf-8', errors='strict') -> bytes\n",
      "\n",
      "Encode S using the codec registered for encoding. Default encoding\n",
      "is 'utf-8'. errors may be given to set a different error\n",
      "handling scheme. Default is 'strict' meaning that encoding errors raise\n",
      "a UnicodeEncodeError. Other possible values are 'ignore', 'replace' and\n",
      "'xmlcharrefreplace' as well as any other name registered with\n",
      "codecs.register_error that can handle UnicodeEncodeErrors.\n"
     ]
    }
   ],
   "source": [
    "print(getattr(str,'encode').__doc__)"
   ]
  },
  {
   "cell_type": "markdown",
   "metadata": {},
   "source": [
    "#### **What is decode?**"
   ]
  },
  {
   "cell_type": "code",
   "execution_count": 20,
   "metadata": {},
   "outputs": [
    {
     "name": "stdout",
     "output_type": "stream",
     "text": [
      "Decode the bytes using the codec registered for encoding.\n",
      "\n",
      "  encoding\n",
      "    The encoding with which to decode the bytes.\n",
      "  errors\n",
      "    The error handling scheme to use for the handling of decoding errors.\n",
      "    The default is 'strict' meaning that decoding errors raise a\n",
      "    UnicodeDecodeError. Other possible values are 'ignore' and 'replace'\n",
      "    as well as any other name registered with codecs.register_error that\n",
      "    can handle UnicodeDecodeErrors.\n"
     ]
    }
   ],
   "source": [
    "print(getattr(bytes,'decode').__doc__)"
   ]
  },
  {
   "cell_type": "code",
   "execution_count": 10,
   "metadata": {},
   "outputs": [
    {
     "name": "stdout",
     "output_type": "stream",
     "text": [
      "<class 'bytes'>\n"
     ]
    }
   ],
   "source": [
    "name = b'Manavalan Micheal'\n",
    "print(type(name))"
   ]
  },
  {
   "cell_type": "code",
   "execution_count": 5,
   "metadata": {},
   "outputs": [
    {
     "name": "stdout",
     "output_type": "stream",
     "text": [
      "<class 'str'>\n",
      "Manavalan Micheal\n"
     ]
    }
   ],
   "source": [
    "de = name.decode()\n",
    "print(type(de))\n",
    "print(de)"
   ]
  },
  {
   "cell_type": "markdown",
   "metadata": {},
   "source": [
    "### <img src=\"false.jpg\" height=\"300\" width=\"300\">"
   ]
  },
  {
   "cell_type": "markdown",
   "metadata": {},
   "source": [
    "### <h2><center>not False</center></h2>\n",
    "### <h3><center>True</center></h3>"
   ]
  },
  {
   "cell_type": "code",
   "execution_count": null,
   "metadata": {},
   "outputs": [],
   "source": []
  }
 ],
 "metadata": {
  "kernelspec": {
   "display_name": "Python 3",
   "language": "python",
   "name": "python3"
  },
  "language_info": {
   "codemirror_mode": {
    "name": "ipython",
    "version": 3
   },
   "file_extension": ".py",
   "mimetype": "text/x-python",
   "name": "python",
   "nbconvert_exporter": "python",
   "pygments_lexer": "ipython3",
   "version": "3.6.9"
  }
 },
 "nbformat": 4,
 "nbformat_minor": 2
}
