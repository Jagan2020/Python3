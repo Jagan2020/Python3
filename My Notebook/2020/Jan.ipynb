{
 "cells": [
  {
   "cell_type": "markdown",
   "metadata": {},
   "source": [
    "### **Assgiment arguments in Dictionary**"
   ]
  },
  {
   "cell_type": "code",
   "execution_count": null,
   "metadata": {},
   "outputs": [],
   "source": [
    "\n",
    "dict(A=1, B=2, C=3)"
   ]
  },
  {
   "cell_type": "markdown",
   "metadata": {},
   "source": [
    "### ping"
   ]
  },
  {
   "cell_type": "code",
   "execution_count": null,
   "metadata": {},
   "outputs": [],
   "source": [
    "from subprocess import check_output\n",
    "\n",
    "def ping(ip):\n",
    "    cmd = 'ping '+ ip + ' -c 2'\n",
    "    out = check_output(cmd.split()).decode()\n",
    "    \n",
    "    if 'bytes from' in out:\n",
    "        return ip\n",
    "    elif 'Destination Most Unreachable':\n",
    "        return 'Down'\n",
    "    else:\n",
    "        return 'Unknown'\n",
    "            \n",
    "ping('google.com')"
   ]
  },
  {
   "cell_type": "code",
   "execution_count": null,
   "metadata": {},
   "outputs": [],
   "source": [
    "%%bash\n",
    "\n",
    "while read name\n",
    "do \n",
    "echo -n \"$name-->\"\n",
    "(curl -Is $name | grep -i \"location\" &> /dev/null) && echo \"host Up\" || echo \"host down\" \n",
    "done < /home/mana/Work/hosts.txt\n"
   ]
  },
  {
   "cell_type": "markdown",
   "metadata": {},
   "source": [
    "### How to check if ICMP blocking is enabled in a system?\n"
   ]
  },
  {
   "cell_type": "code",
   "execution_count": null,
   "metadata": {},
   "outputs": [],
   "source": [
    "%%bash\n",
    "\n",
    "value=$(cat /proc/sys/net/ipv4/icmp_echo_ignore_all)\n",
    "\n",
    "if (($value == 0))\n",
    "then\n",
    "echo \"ICMP protocol enabled.\"\n",
    "else\n",
    "echo \"ICMP protocol disabled.\"\n",
    "fi"
   ]
  },
  {
   "cell_type": "code",
   "execution_count": null,
   "metadata": {},
   "outputs": [],
   "source": [
    "%%python3\n",
    "\n",
    "from pathlib import Path\n",
    "\n",
    "value = Path('/proc/sys/net/ipv4/icmp_echo_ignore_all').read_text()\n",
    "\n",
    "if int(value) == 0:\n",
    "    print(\"ICMP protocol enabled.\")\n",
    "else:\n",
    "    print('\"ICMP protocol disabled.\"')\n",
    "    "
   ]
  },
  {
   "cell_type": "markdown",
   "metadata": {},
   "source": [
    "### Making the program repeat after typing the incorrect password"
   ]
  },
  {
   "cell_type": "code",
   "execution_count": null,
   "metadata": {},
   "outputs": [],
   "source": [
    "passwd = 'correct'\n",
    "usr_passwd = input('Enter Password: ')\n",
    "while passwd != usr_passwd:\n",
    "    print(\"Sorry, your password is 'incorrect'!\")\n",
    "    usr_passwd = input('Enter Password Again: ')\n",
    "else:\n",
    "    print('Password Correct.')"
   ]
  },
  {
   "cell_type": "markdown",
   "metadata": {},
   "source": [
    "### How to check module installed or not?"
   ]
  },
  {
   "cell_type": "code",
   "execution_count": null,
   "metadata": {},
   "outputs": [],
   "source": [
    "try:\n",
    "    import numpy \n",
    "except ModuleNotFoundError as p:\n",
    "    print(p,'Install Module.')\n",
    "else:\n",
    "    print('Already module installed.')"
   ]
  },
  {
   "cell_type": "code",
   "execution_count": null,
   "metadata": {},
   "outputs": [],
   "source": [
    "try:\n",
    "    import keras\n",
    "except ModuleNotFoundError as p:\n",
    "    print(p, 'Install Module.')\n",
    "else:\n",
    "    print('Already module installed.')"
   ]
  },
  {
   "cell_type": "markdown",
   "metadata": {},
   "source": [
    "### How to get the type of exception?\n"
   ]
  },
  {
   "cell_type": "code",
   "execution_count": null,
   "metadata": {},
   "outputs": [],
   "source": [
    "import sys\n",
    "try:\n",
    "    6+'6'\n",
    "except:\n",
    "    print(sys.exc_info()[0])"
   ]
  },
  {
   "cell_type": "markdown",
   "metadata": {},
   "source": [
    "### How to remove all special characters in this string?"
   ]
  },
  {
   "cell_type": "code",
   "execution_count": null,
   "metadata": {},
   "outputs": [],
   "source": [
    "import re\n",
    "\n",
    "st = '''<li class=\"pass\">'+line+'</li>'''\n",
    "re.sub(r'\\W',' ',st).split()"
   ]
  },
  {
   "cell_type": "markdown",
   "metadata": {},
   "source": [
    "### How to create simple Tamil Dictionary using Python?"
   ]
  },
  {
   "cell_type": "code",
   "execution_count": null,
   "metadata": {},
   "outputs": [],
   "source": [
    "word = {'banana':'வாழைப்பழம',\n",
    "            'milk':'பால்',\n",
    "            'water':'நீர்',\n",
    "            'rice':'சாதம',\n",
    "            'coffee':'காப்பி',\n",
    "            'fish':'மீன்',\n",
    "            'meat':'இறைச்சி',  \n",
    "            'fruit': 'பழம',\n",
    "            'chicken':'கோழி',\n",
    "            'tommato':'தக்காளி'}\n",
    "\n",
    "inp = input('Enter Word:')\n",
    "if inp in word:\n",
    "    print('{} means {}'.format(inp.title(),word[inp]))\n",
    "else:\n",
    "    print('Word not fonud')"
   ]
  },
  {
   "cell_type": "markdown",
   "metadata": {},
   "source": [
    "### Format string"
   ]
  },
  {
   "cell_type": "code",
   "execution_count": null,
   "metadata": {},
   "outputs": [],
   "source": [
    "%%python3\n",
    "\n",
    "app = 2\n",
    "man = 3\n",
    "orgn = 5 \n",
    "tot = 50\n",
    "\n",
    "print(f'The cost of {app} apples {man} mangoes and {orgn} oranges is Rs {tot} .')"
   ]
  },
  {
   "cell_type": "code",
   "execution_count": null,
   "metadata": {},
   "outputs": [],
   "source": [
    "%%bash\n",
    "\n",
    "app=2\n",
    "man=3\n",
    "orgn=5 \n",
    "tot=50\n",
    "\n",
    "echo \"The cost of ${app} apples ${man} mangoes and ${orgn} oranges is Rs ${tot} .\""
   ]
  },
  {
   "cell_type": "markdown",
   "metadata": {},
   "source": [
    "### factorial"
   ]
  },
  {
   "cell_type": "code",
   "execution_count": null,
   "metadata": {},
   "outputs": [],
   "source": [
    "n = 23\n",
    "fact = 1\n",
    "  \n",
    "for i in range(1,n+1): \n",
    "    fact = fact * i \n",
    "      \n",
    "print (\"The factorial of 23 is : \",end=\"\") \n",
    "print (fact) "
   ]
  },
  {
   "cell_type": "code",
   "execution_count": null,
   "metadata": {},
   "outputs": [],
   "source": [
    "import math \n",
    "\n",
    "print ('23!- ',math.factorial(23)) "
   ]
  },
  {
   "cell_type": "markdown",
   "metadata": {},
   "source": [
    "### How to count the all zero at the last of a factorial number?"
   ]
  },
  {
   "cell_type": "code",
   "execution_count": null,
   "metadata": {},
   "outputs": [],
   "source": [
    "import math \n",
    "\n",
    "print (math.factorial(23)) "
   ]
  },
  {
   "cell_type": "code",
   "execution_count": null,
   "metadata": {},
   "outputs": [],
   "source": [
    "import math \n",
    "import re\n",
    "\n",
    "fact = str(math.factorial(23))\n",
    "last = re.findall(r'[1-9]0*$',fact)\n",
    "len(re.sub(r'^.','',last[0]))"
   ]
  },
  {
   "cell_type": "markdown",
   "metadata": {},
   "source": [
    "### **How to remove empty space in list?**"
   ]
  },
  {
   "cell_type": "markdown",
   "metadata": {},
   "source": [
    "##### Method:1"
   ]
  },
  {
   "cell_type": "code",
   "execution_count": null,
   "metadata": {},
   "outputs": [],
   "source": [
    "lst = [' ','Python', ' ', '2020']\n",
    "[i for i in lst if i != ' ' ]"
   ]
  },
  {
   "cell_type": "markdown",
   "metadata": {},
   "source": [
    "##### Method:2"
   ]
  },
  {
   "cell_type": "code",
   "execution_count": null,
   "metadata": {},
   "outputs": [],
   "source": [
    "lst = [' ','Python', ' ', '2020']\n",
    "[i for i in lst if not i.isspace() ]"
   ]
  },
  {
   "cell_type": "markdown",
   "metadata": {},
   "source": [
    "##### Method:3"
   ]
  },
  {
   "cell_type": "code",
   "execution_count": null,
   "metadata": {},
   "outputs": [],
   "source": [
    "import re\n",
    "\n",
    "lst = [' ','Python', ' ', '2020']\n",
    "[i for i in lst if re.match(r'^\\w',i)]"
   ]
  },
  {
   "cell_type": "markdown",
   "metadata": {},
   "source": [
    "### **How to list Built-In-Exceptions Error?**"
   ]
  },
  {
   "cell_type": "code",
   "execution_count": null,
   "metadata": {},
   "outputs": [],
   "source": [
    "import re\n",
    "\n",
    "match = re.findall(r'^[AZ].*[EW]', ' '.join(dir(__builtins__)))\n",
    "match_splt = match[0].split()\n",
    "extra = ['False', 'True', 'None', 'Ellipsis']\n",
    "final = sorted(list(set(match_splt) - set(extra)))\n",
    "\n",
    "for i,j,k in zip(*[iter(final)] *3):\n",
    "    print('{:<25} {:<20} {:<20}'.format(i, j, k))\n"
   ]
  },
  {
   "cell_type": "markdown",
   "metadata": {},
   "source": [
    "### **Standard errno system table**"
   ]
  },
  {
   "cell_type": "markdown",
   "metadata": {},
   "source": [
    "#### **To translate a numeric error code to an error message**"
   ]
  },
  {
   "cell_type": "code",
   "execution_count": null,
   "metadata": {},
   "outputs": [],
   "source": [
    "import errno\n",
    "import os\n",
    "\n",
    "print('{:<10} {:^14} {:>15}'.format('Error-Code','Error-Symbol','Error-Message'))\n",
    "print('-'*50)\n",
    "for x,y in sorted(errno.errorcode.items()):\n",
    "    print('{}  {:^20} {:<35}'.format(x, y, os.strerror(x)))"
   ]
  },
  {
   "cell_type": "markdown",
   "metadata": {},
   "source": [
    "### **Password Validation**\n"
   ]
  },
  {
   "cell_type": "raw",
   "metadata": {},
   "source": [
    "The password is vaild if it has at minimum 2 numbers and \n",
    "2 following of special characters and a length of at least 7 charcters."
   ]
  },
  {
   "cell_type": "code",
   "execution_count": null,
   "metadata": {},
   "outputs": [],
   "source": [
    "import re\n",
    "st = 'mk$*als^r73'\n",
    "\n",
    "if len(st) >= 7 and len(re.findall(r'\\W{2,}',st)) and len(re.findall(r'\\d{2,}',st)):\n",
    "    print('Vaild')\n",
    "else:\n",
    "    print('Not Vaild')\n"
   ]
  },
  {
   "cell_type": "markdown",
   "metadata": {},
   "source": [
    "### **How to use 'and', 'None'?**"
   ]
  },
  {
   "cell_type": "code",
   "execution_count": null,
   "metadata": {},
   "outputs": [],
   "source": [
    "st = 'Mana'\n",
    "if len(st) >= 7 and 0:\n",
    "    print('Correct')\n",
    "else:\n",
    "    print('Wrong')\n"
   ]
  },
  {
   "cell_type": "code",
   "execution_count": null,
   "metadata": {},
   "outputs": [],
   "source": [
    "st = 'Manavalan'\n",
    "if len(st) >= 7 and 1:\n",
    "    print('Correct')\n",
    "else:\n",
    "    print('Wrong')\n"
   ]
  },
  {
   "cell_type": "markdown",
   "metadata": {},
   "source": [
    "### **Check whether a directory is empty or not**"
   ]
  },
  {
   "cell_type": "code",
   "execution_count": null,
   "metadata": {},
   "outputs": [],
   "source": [
    "%%python3\n",
    "\n",
    "from pathlib import Path \n",
    "\n",
    "p = Path('/home/mana/Documents')\n",
    "if len([*p.glob('*')]):\n",
    "    print(p,'is not empty.')\n",
    "else:\n",
    "    print(p,'is empty.')"
   ]
  },
  {
   "cell_type": "code",
   "execution_count": null,
   "metadata": {},
   "outputs": [],
   "source": [
    "%%bash\n",
    "\n",
    "find /home/mana/Documents -type d -empty -exec echo {} is empty. \\;"
   ]
  },
  {
   "cell_type": "markdown",
   "metadata": {},
   "source": [
    "### **Evaluate expression in single line**"
   ]
  },
  {
   "cell_type": "code",
   "execution_count": null,
   "metadata": {},
   "outputs": [],
   "source": [
    "%%bash\n",
    "\n",
    "((0 <= 40 && 40 <= 100 )) && echo 'Vaild' || echo 'Not Vaild'"
   ]
  },
  {
   "cell_type": "code",
   "execution_count": null,
   "metadata": {},
   "outputs": [],
   "source": [
    "%%python3\n",
    "\n",
    "print('valid' if 0 <= 40 <=100 else 'Not Valid')"
   ]
  },
  {
   "cell_type": "markdown",
   "metadata": {},
   "source": [
    "### **Dictionary setdefault method** "
   ]
  },
  {
   "cell_type": "code",
   "execution_count": null,
   "metadata": {},
   "outputs": [],
   "source": [
    "name = 'Manavalan'\n",
    "d = {}\n",
    "for i in name:\n",
    "    d.setdefault(i, []).append(i)\n",
    "d"
   ]
  },
  {
   "cell_type": "markdown",
   "metadata": {},
   "source": [
    "### **Dictionary get method**"
   ]
  },
  {
   "cell_type": "code",
   "execution_count": null,
   "metadata": {},
   "outputs": [],
   "source": [
    "name = 'Manavalan'\n",
    "d = {}\n",
    "for i in name:\n",
    "    d[i] = d.get(i,0)+1\n",
    "d"
   ]
  },
  {
   "cell_type": "markdown",
   "metadata": {},
   "source": [
    "### **Most common character**"
   ]
  },
  {
   "cell_type": "code",
   "execution_count": null,
   "metadata": {},
   "outputs": [],
   "source": [
    "name = 'Manavalan'\n",
    "d = {}\n",
    "for i in name:\n",
    "    d[i] = d.get(i,0)+1\n",
    "sorted(d.items(), key = lambda x: x[1])[-1]"
   ]
  },
  {
   "cell_type": "code",
   "execution_count": null,
   "metadata": {},
   "outputs": [],
   "source": [
    "from collections import Counter\n",
    "\n",
    "name = 'Manavalan'\n",
    "Counter(name).most_common(1)"
   ]
  },
  {
   "cell_type": "markdown",
   "metadata": {},
   "source": [
    "### **How to create tail command using Python?**"
   ]
  },
  {
   "cell_type": "code",
   "execution_count": null,
   "metadata": {},
   "outputs": [],
   "source": [
    "from collections import deque\n",
    "from pathlib import Path\n",
    "\n",
    "lines = Path('/etc/passwd').read_text().splitlines()\n",
    "print(*deque(lines, 4), sep = '\\n')"
   ]
  },
  {
   "cell_type": "code",
   "execution_count": null,
   "metadata": {},
   "outputs": [],
   "source": [
    "!tail -4 /etc/passwd"
   ]
  },
  {
   "cell_type": "markdown",
   "metadata": {},
   "source": [
    "### **How to generate 5 random numbers?**"
   ]
  },
  {
   "cell_type": "code",
   "execution_count": null,
   "metadata": {},
   "outputs": [],
   "source": [
    "from collections import deque\n",
    "import random\n",
    "\n",
    "lst = [random.randint(0, 100) for _ in range(20)]\n",
    "deque(lst, 5)"
   ]
  },
  {
   "cell_type": "markdown",
   "metadata": {},
   "source": [
    "### **How to find inode number of file?**"
   ]
  },
  {
   "cell_type": "code",
   "execution_count": null,
   "metadata": {},
   "outputs": [],
   "source": [
    "%%python3\n",
    "\n",
    "import os\n",
    "\n",
    "file = '/home/mana/Work/user.csv'\n",
    "print(os.stat(file).st_ino, file)"
   ]
  },
  {
   "cell_type": "code",
   "execution_count": null,
   "metadata": {},
   "outputs": [],
   "source": [
    "!ls -i /home/mana/Work/user.csv"
   ]
  },
  {
   "cell_type": "markdown",
   "metadata": {},
   "source": [
    "### **How to make dictionary from keyword args?**"
   ]
  },
  {
   "cell_type": "code",
   "execution_count": null,
   "metadata": {},
   "outputs": [],
   "source": [
    "dict(a=1, b=2, c=3)"
   ]
  },
  {
   "cell_type": "markdown",
   "metadata": {},
   "source": [
    "### **How Jio validate days?**\n",
    "> 'This is One Month Plan'"
   ]
  },
  {
   "cell_type": "code",
   "execution_count": null,
   "metadata": {},
   "outputs": [],
   "source": [
    "from datetime import datetime\n",
    "\n",
    "recharge_date = '10-12-2019'\n",
    "diff = datetime.now() - datetime.strptime(recharge_date,\"%d-%m-%Y\")\n",
    "print(diff.days, 'days.')"
   ]
  },
  {
   "cell_type": "markdown",
   "metadata": {},
   "source": [
    "### **How to check whether systemd or init?**"
   ]
  },
  {
   "cell_type": "code",
   "execution_count": null,
   "metadata": {},
   "outputs": [],
   "source": [
    "%%python3\n",
    "\n",
    "from pathlib import Path\n",
    "\n",
    "pro = Path('/proc/1/status').read_text().splitlines()[0]\n",
    "if pro.split()[1] == 'systemd':\n",
    "    print('This is systemd system.')\n",
    "else:\n",
    "    print('This is init system.')"
   ]
  },
  {
   "cell_type": "code",
   "execution_count": null,
   "metadata": {},
   "outputs": [],
   "source": [
    "%%bash\n",
    "\n",
    "awk '/Name:/ {if ($2 == \"systemd.\") print \"systemd\"; else print \"initd.\"}' \\\n",
    "/proc/1/status"
   ]
  },
  {
   "cell_type": "markdown",
   "metadata": {},
   "source": [
    "### **10 Most Frequently Used Linux commands**"
   ]
  },
  {
   "cell_type": "code",
   "execution_count": null,
   "metadata": {},
   "outputs": [],
   "source": [
    "from collections import Counter\n",
    "from pathlib import Path\n",
    "from os import environ\n",
    "\n",
    "home = environ['HOME']\n",
    "lines = Path(home+'/.bash_history').read_text().splitlines()\n",
    "commands = [x.split()[0] for x in lines if x]\n",
    "result = Counter(commands).most_common(10)\n",
    "\n",
    "for i,j in result:\n",
    "    print(f'{i:10} {j}') "
   ]
  },
  {
   "cell_type": "code",
   "execution_count": null,
   "metadata": {},
   "outputs": [],
   "source": [
    "from pathlib import Path\n",
    "from os import environ\n",
    "\n",
    "dcommand = {}\n",
    "home = environ['HOME']\n",
    "lines = Path(home+'/.bash_history').read_text().splitlines()\n",
    "for x in lines:\n",
    "    if x:\n",
    "        splt = x.split()[0]\n",
    "        dcommand[splt] = dcommand.get(splt, 0)+1\n",
    "\n",
    "result = sorted(dcommand.items(), key = lambda x: x[1], reverse = True)[0:10]\n",
    "for i,j in result:\n",
    "    print(f'{i:10} {j}')"
   ]
  },
  {
   "cell_type": "code",
   "execution_count": null,
   "metadata": {},
   "outputs": [],
   "source": [
    "from collections import Counter\n",
    "from os import environ\n",
    "from re import findall\n",
    "\n",
    "home = environ['HOME']\n",
    "compose = findall(r'.*', open(home+'/.bash_history').read())\n",
    "commands = [x.split()[0] for x in compose if x]\n",
    "result = Counter(commands).most_common(10)\n",
    "for i,j in result:\n",
    "    print(f'{i:10} {j}')"
   ]
  },
  {
   "cell_type": "markdown",
   "metadata": {},
   "source": [
    "### **Read file in single line code**"
   ]
  },
  {
   "cell_type": "code",
   "execution_count": null,
   "metadata": {},
   "outputs": [],
   "source": [
    "open('/home/mana/Work/user.txt').read()\n"
   ]
  },
  {
   "cell_type": "code",
   "execution_count": null,
   "metadata": {},
   "outputs": [],
   "source": [
    "open('/home/mana/Work/user.txt').readlines()"
   ]
  },
  {
   "cell_type": "markdown",
   "metadata": {},
   "source": [
    "### **How to split lines in a file?**"
   ]
  },
  {
   "cell_type": "code",
   "execution_count": null,
   "metadata": {},
   "outputs": [],
   "source": [
    "list(map(str.split, open('/home/mana/Work/user.txt').readlines()))\n",
    "open('/home/mana/Work/user.txt').close()"
   ]
  },
  {
   "cell_type": "markdown",
   "metadata": {},
   "source": [
    "### **How to remove empty elements?**"
   ]
  },
  {
   "cell_type": "code",
   "execution_count": null,
   "metadata": {},
   "outputs": [],
   "source": [
    "lst = [3, 'M', '', 'B', 78, 0]\n",
    "list(filter(lambda x: x  != '', lst))"
   ]
  },
  {
   "cell_type": "code",
   "execution_count": null,
   "metadata": {},
   "outputs": [],
   "source": [
    "lst = [3, 'M', '', 'B', 78, 0]\n",
    "[x for x in lst if x  != '']"
   ]
  },
  {
   "cell_type": "markdown",
   "metadata": {},
   "source": [
    "### **How to find longest word in file?**\n",
    "\n",
    "if two or more words are same length, it print first occurance word only."
   ]
  },
  {
   "cell_type": "code",
   "execution_count": null,
   "metadata": {},
   "outputs": [],
   "source": [
    "max(open('/home/mana/Work/fruit2.txt').read().split(), key=len)"
   ]
  },
  {
   "cell_type": "markdown",
   "metadata": {},
   "source": [
    "### **How to find longest line in a file?**"
   ]
  },
  {
   "cell_type": "code",
   "execution_count": null,
   "metadata": {},
   "outputs": [],
   "source": [
    "!cat /home/mana/Work/fruit2.txt"
   ]
  },
  {
   "cell_type": "code",
   "execution_count": null,
   "metadata": {},
   "outputs": [],
   "source": [
    "%%bash\n",
    "\n",
    "awk '{print length, $0}' /home/mana/Work/fruit2.txt | sort -nr | head -1"
   ]
  },
  {
   "cell_type": "code",
   "execution_count": null,
   "metadata": {},
   "outputs": [],
   "source": [
    "%%python3\n",
    "\n",
    "print(max(open('/home/mana/Work/fruit2.txt'), key=len))"
   ]
  },
  {
   "cell_type": "markdown",
   "metadata": {},
   "source": [
    "### **How to generate HTML file?**"
   ]
  },
  {
   "cell_type": "code",
   "execution_count": null,
   "metadata": {},
   "outputs": [],
   "source": [
    "with open(\"/home/mana/Work/file.html\", \"w\") as f:\n",
    "    str = '<html>'\n",
    "    str += '\\n <body>'\n",
    "    str += '\\n <svg width=\"100\" height=\"100\">'\n",
    "    str += '\\n <circle cx=\"50\" cy=\"50\" r=\"40\" stroke=\"green\" stroke-width=\"4\" fill=\"yellow\" />'\n",
    "    str += '\\n </svg>'\n",
    "    str += '\\n </body>'\n",
    "    str += '\\n</html>'\n",
    "    f.write(str)"
   ]
  },
  {
   "cell_type": "markdown",
   "metadata": {},
   "source": [
    "### **How many times split in the line?**\n",
    "\n",
    "Default it split each space."
   ]
  },
  {
   "cell_type": "code",
   "execution_count": null,
   "metadata": {},
   "outputs": [],
   "source": [
    "st = 'I am a beginner.'\n",
    "\n",
    "f'{len(st.split())-1} times'"
   ]
  },
  {
   "cell_type": "markdown",
   "metadata": {},
   "source": [
    "### **How to find size of file?**"
   ]
  },
  {
   "cell_type": "markdown",
   "metadata": {},
   "source": [
    "#### python3"
   ]
  },
  {
   "cell_type": "code",
   "execution_count": null,
   "metadata": {},
   "outputs": [],
   "source": [
    "from pathlib import Path\n",
    "import bisect\n",
    "\n",
    "#size = [1, 1e+3, 1e+6, 1e+9]\n",
    "size = [1, 2**10, 2**20, 2**30]\n",
    "unit = ['B', 'K', 'M', 'G']\n",
    "fpath = input('Enter file name: ') \n",
    "fsize = Path(fpath).stat().st_size\n",
    "\n",
    "def convert(byts):\n",
    "    if byts != 0:\n",
    "        index = bisect.bisect(size, byts) -1\n",
    "        return f'{byts/size[index]:.1f}{unit[index]}'\n",
    "    else: \n",
    "        return '0B'\n",
    "print(f'{convert(fsize)} {fpath}')"
   ]
  },
  {
   "cell_type": "code",
   "execution_count": null,
   "metadata": {},
   "outputs": [],
   "source": [
    "%%bash\n",
    "\n",
    "ls -1sh /home/mana/Pro-Python-System-Administration.pdf"
   ]
  },
  {
   "cell_type": "markdown",
   "metadata": {},
   "source": [
    "### **Find and Remove files bigger than a specific size and type**\n",
    "Here I remove the files more than 10MB size."
   ]
  },
  {
   "cell_type": "code",
   "execution_count": null,
   "metadata": {},
   "outputs": [],
   "source": [
    "%%python3\n",
    "\n",
    "from pathlib import Path\n",
    "    \n",
    "dpath = Path('/home/mana/Work')\n",
    "fsize = [(i,i.stat().st_size) for i in dpath.iterdir() if i.is_file()]\n",
    "\n",
    "print(\"Follwing files are reomoved:\")\n",
    "for x,y in fsize:\n",
    "    if y >= 1e+7 and x.suffix in ['.tar', '.zip', '.pdf']:\n",
    "        print(x.name)\n",
    "        x.unlink()"
   ]
  },
  {
   "cell_type": "code",
   "execution_count": null,
   "metadata": {},
   "outputs": [],
   "source": [
    "%%bash\n",
    "\n",
    "echo \"Follwing files are reomoved:\"\n",
    "find /home/mana/Work/ -maxdepth 1 -type f \\\n",
    "\\( -name \"*zip\" -o -name \"*tar\" -o -name \"*pdf\" \\) \\\n",
    "-size +10M -printf \"%f\\n\" -delete"
   ]
  },
  {
   "cell_type": "markdown",
   "metadata": {},
   "source": [
    "### **How to split a list into multiple lists?**"
   ]
  },
  {
   "cell_type": "raw",
   "metadata": {},
   "source": [
    "Expected Output:\n",
    "\n",
    "['CS']\n",
    "['CS-PP']\n",
    "['CS-PP-GE']\n",
    "['CS-PP-GE-RI']\n",
    "['CS-PP-GE-RI-ET']"
   ]
  },
  {
   "cell_type": "code",
   "execution_count": null,
   "metadata": {},
   "outputs": [],
   "source": [
    "l = 'CS-PP-GE-RI-ET'.split('-')\n",
    "m = [['-'.join(l[0:i+1])] for i in range(len(l))]\n",
    "print(*m, sep = '\\n')"
   ]
  },
  {
   "cell_type": "code",
   "execution_count": null,
   "metadata": {},
   "outputs": [],
   "source": [
    "from itertools import accumulate\n",
    "\n",
    "l = 'CS-PP-GE-RI-ET'.split('-')\n",
    "print(*accumulate(l, lambda x, y: '-'.join([x, y])), sep='\\n')"
   ]
  },
  {
   "cell_type": "raw",
   "metadata": {},
   "source": [
    "Replace every instance of 'o' with $ Except the first occurence \n",
    "in the string below:\n",
    "\n",
    "'Welcome to Python 101'"
   ]
  },
  {
   "cell_type": "code",
   "execution_count": null,
   "metadata": {},
   "outputs": [],
   "source": [
    "st = 'Welcome to Python 101'[::-1]\n",
    "st.replace('o','$', 2)[::-1]\n"
   ]
  },
  {
   "cell_type": "code",
   "execution_count": null,
   "metadata": {},
   "outputs": [],
   "source": [
    "import re\n",
    "\n",
    "st = 'Welcome to Python 101'[::-1]\n",
    "re.sub(r'o','$', st, count = 2)[::-1]"
   ]
  },
  {
   "cell_type": "raw",
   "metadata": {},
   "source": [
    "Replace every instance of 'o' with $ Except 'o' occurence end of word\n",
    "in the string below:\n",
    "\n",
    "'Welcome to Python 101'"
   ]
  },
  {
   "cell_type": "code",
   "execution_count": null,
   "metadata": {},
   "outputs": [],
   "source": [
    "%%python3\n",
    "\n",
    "import re\n",
    "\n",
    "st = 'Welcome to Python 101'\n",
    "print(re.sub(r'o\\B','$', st))"
   ]
  },
  {
   "cell_type": "code",
   "execution_count": null,
   "metadata": {},
   "outputs": [],
   "source": [
    "%%bash\n",
    "\n",
    "echo 'Welcome to Python 101' | sed -rn 's/o\\B/$/gp'"
   ]
  },
  {
   "cell_type": "code",
   "execution_count": null,
   "metadata": {},
   "outputs": [],
   "source": [
    "print('Bye.')"
   ]
  },
  {
   "cell_type": "markdown",
   "metadata": {},
   "source": [
    "## **Emulate df command using python**"
   ]
  },
  {
   "cell_type": "code",
   "execution_count": null,
   "metadata": {},
   "outputs": [],
   "source": [
    "from os import statvfs as svfs\n",
    "from pathlib import Path\n",
    "import bisect\n",
    "import re\n",
    "\n",
    "#size = [1, 1e+3, 1e+6, 1e+9]      ## GB\n",
    "size = [1, 2**10, 2**20, 2**30]  ## GiB\n",
    "unit = ['B', 'K', 'M', 'G']\n",
    "mline = Path('/proc/mounts').read_text().splitlines()\n",
    "mdev = [lp.split()[:2] for lp in mline if re.match(r'^/dev/sd[a-z][1-9]', lp)]\n",
    "clt = [(fsl,svfs(mpl)[0]*svfs(mpl)[2],svfs(mpl)[0]*svfs(mpl)[3],mpl) \n",
    "       for fsl, mpl in mdev]\n",
    "\n",
    "def con(byts):\n",
    "    index = bisect.bisect(size, byts)-1\n",
    "    return \"{:.0f}{}\".format(byts/size[index], unit[index])\n",
    "\n",
    "print('{:20} {:^9} {:^9} {:^9} {:>13}'\n",
    "      .format('Filesystem','Size','Used','Avail','Mounted-on'))\n",
    "print('*'*66)\n",
    "for fs in clt:\n",
    "     print('{:20} {:^9} {:^9} {:^9}    {:20}'\n",
    "           .format(fs[0],con(fs[1]),con(fs[1]-fs[2]),con(fs[2]),fs[3]))  "
   ]
  },
  {
   "cell_type": "markdown",
   "metadata": {},
   "source": [
    "### **How many apples to here?**"
   ]
  },
  {
   "cell_type": "code",
   "execution_count": null,
   "metadata": {},
   "outputs": [],
   "source": [
    "st = 'Apple Orange Mango Apple Banana Orange'\n",
    "st.count('Apple')"
   ]
  },
  {
   "cell_type": "code",
   "execution_count": null,
   "metadata": {},
   "outputs": [],
   "source": [
    "st = 'Apple Orange Mango Apple Banana Orange'\n",
    "\n",
    "aps = []\n",
    "\n",
    "for i in st.split():\n",
    "    if i == 'Apple':\n",
    "        aps.append(i)\n",
    "len(aps)"
   ]
  },
  {
   "cell_type": "code",
   "execution_count": null,
   "metadata": {},
   "outputs": [],
   "source": [
    "from collections import Counter\n",
    "st = 'Apple Orange Mango Apple Banana Orange'\n",
    "\n",
    "Counter(st.split())"
   ]
  },
  {
   "cell_type": "code",
   "execution_count": null,
   "metadata": {},
   "outputs": [],
   "source": [
    "from collections import defaultdic"
   ]
  },
  {
   "cell_type": "code",
   "execution_count": null,
   "metadata": {},
   "outputs": [],
   "source": [
    "setdefault"
   ]
  },
  {
   "cell_type": "markdown",
   "metadata": {},
   "source": [
    "### How can i get ASCII number of every letter?"
   ]
  },
  {
   "cell_type": "code",
   "execution_count": null,
   "metadata": {},
   "outputs": [],
   "source": [
    "from string import ascii_uppercase,ascii_lowercase\n",
    "\n",
    "{i: ord(i) for i  in ascii_uppercase+ascii_lowercase}"
   ]
  },
  {
   "cell_type": "markdown",
   "metadata": {},
   "source": [
    "### **What is output this program?**"
   ]
  },
  {
   "cell_type": "code",
   "execution_count": null,
   "metadata": {},
   "outputs": [],
   "source": [
    "a = 10\n",
    "b = 'z'\n",
    "print(a+b)"
   ]
  },
  {
   "cell_type": "raw",
   "metadata": {},
   "source": [
    "1. 10z\n",
    "2. 10 + 'z'\n",
    "3. Type Error\n",
    "4. a+b"
   ]
  },
  {
   "cell_type": "markdown",
   "metadata": {},
   "source": [
    "### **How to use check_output method in Linux system?**"
   ]
  },
  {
   "cell_type": "code",
   "execution_count": null,
   "metadata": {},
   "outputs": [],
   "source": [
    "%%python3\n",
    "\n",
    "from subprocess import check_output\n",
    "\n",
    "cmd = 'ping -c3 8.8.8.8'\n",
    "print(*check_output(cmd.split()).decode().splitlines(), sep = '\\n')"
   ]
  },
  {
   "cell_type": "markdown",
   "metadata": {},
   "source": [
    "### **How to call function through another function?**"
   ]
  },
  {
   "cell_type": "code",
   "execution_count": null,
   "metadata": {},
   "outputs": [],
   "source": [
    "def add(a, b):\n",
    "    return a + b\n",
    "\n",
    "def call_add():\n",
    "    return add(3, 2)\n",
    "\n",
    "call_add()"
   ]
  },
  {
   "cell_type": "markdown",
   "metadata": {},
   "source": [
    "### **Print current working directory**"
   ]
  },
  {
   "cell_type": "code",
   "execution_count": null,
   "metadata": {},
   "outputs": [],
   "source": [
    "%%bash\n",
    "\n",
    "pwd\n",
    "\n",
    "## OR ###\n",
    "\n",
    "echo \"$PWD\""
   ]
  },
  {
   "cell_type": "code",
   "execution_count": null,
   "metadata": {},
   "outputs": [],
   "source": [
    "%%python3\n",
    "\n",
    "import os\n",
    "\n",
    "print(os.getcwd())"
   ]
  },
  {
   "cell_type": "markdown",
   "metadata": {},
   "source": [
    "### **How to format date?**"
   ]
  },
  {
   "cell_type": "code",
   "execution_count": null,
   "metadata": {},
   "outputs": [],
   "source": [
    "from datetime import datetime\n",
    "\n",
    "person1_date = '24-12-1984'\n",
    "person1 = datetime.strptime(person1_date, \"%d-%m-%Y\")\n",
    "person2_date = '08-12-1986'\n",
    "person2 = datetime.strptime(person2_date, \"%d-%m-%Y\")\n",
    "\n",
    "print((person2 - person1).days, 'days')\n",
    "print(round((person2 - person1).days/365), 'years')\n",
    "\n"
   ]
  },
  {
   "cell_type": "markdown",
   "metadata": {},
   "source": [
    "### **list of date formats**"
   ]
  },
  {
   "cell_type": "code",
   "execution_count": null,
   "metadata": {},
   "outputs": [],
   "source": [
    "%%bash\n",
    "date --help | grep -Po \"\\s{2}%.*\""
   ]
  },
  {
   "cell_type": "code",
   "execution_count": null,
   "metadata": {},
   "outputs": [],
   "source": [
    "%%python3\n",
    "\n",
    "from subprocess import check_output\n",
    "from re import findall\n",
    "\n",
    "cmd = 'date --help'\n",
    "out = check_output(cmd.split())\n",
    "print(*findall(r'\\s{2}%.*', out.decode()), sep = '\\n')"
   ]
  },
  {
   "cell_type": "markdown",
   "metadata": {},
   "source": [
    "### **How to create a timer in python?**"
   ]
  },
  {
   "cell_type": "code",
   "execution_count": null,
   "metadata": {},
   "outputs": [],
   "source": [
    "from time import sleep\n",
    "sec = int(input('Select seconds:'))\n",
    "print(sec)\n",
    "for t in range(sec,-1,-1):\n",
    "    print(t, end = '\\f\\r')\n",
    "    sleep(1)"
   ]
  },
  {
   "cell_type": "markdown",
   "metadata": {},
   "source": [
    "### **How to use base argument in integer function?**"
   ]
  },
  {
   "cell_type": "markdown",
   "metadata": {},
   "source": [
    "#### **Convert integer from Binary**"
   ]
  },
  {
   "cell_type": "code",
   "execution_count": null,
   "metadata": {},
   "outputs": [],
   "source": [
    "int('1001', 2)"
   ]
  },
  {
   "cell_type": "markdown",
   "metadata": {},
   "source": [
    "#### **Convert integer from Oct**"
   ]
  },
  {
   "cell_type": "code",
   "execution_count": null,
   "metadata": {},
   "outputs": [],
   "source": [
    "int('13', 8)"
   ]
  },
  {
   "cell_type": "markdown",
   "metadata": {},
   "source": [
    "#### **Convert integer from Hex**"
   ]
  },
  {
   "cell_type": "code",
   "execution_count": null,
   "metadata": {},
   "outputs": [],
   "source": [
    "int('4F', 16)"
   ]
  },
  {
   "cell_type": "markdown",
   "metadata": {},
   "source": [
    "### **Checking the Usage of Memory**\n",
    "We can check the amount of memory consumed by each variable."
   ]
  },
  {
   "cell_type": "code",
   "execution_count": null,
   "metadata": {},
   "outputs": [],
   "source": [
    "# Example: 1\n",
    "from sys import getsizeof\n",
    "x = 'Manavalan'\n",
    "y = 459\n",
    "z = ['M', 90, 'Chennai', 0, 'Paris']\n",
    "print(getsizeof(x))\n",
    "print(getsizeof(y))\n",
    "print(getsizeof(z))"
   ]
  },
  {
   "cell_type": "code",
   "execution_count": null,
   "metadata": {},
   "outputs": [],
   "source": [
    "# Example: 2\n",
    "from sys import getsizeof\n",
    "def add(x):\n",
    "    return 5**10000+6+9+x\n",
    "\n",
    "print(getsizeof(add(100000)))"
   ]
  },
  {
   "cell_type": "markdown",
   "metadata": {},
   "source": [
    "### This is sample program to generate function name"
   ]
  },
  {
   "cell_type": "code",
   "execution_count": null,
   "metadata": {},
   "outputs": [],
   "source": [
    "import builtins\n",
    "\n",
    "fn = ['abs','all', 'any']\n",
    "\n",
    "for x in fn:\n",
    "    print(x)\n",
    "    print(getattr(builtins, x).__doc__)\n",
    "    print('*'*50)"
   ]
  },
  {
   "cell_type": "markdown",
   "metadata": {},
   "source": [
    "#### Can you explain the code print(int('13',8)) and How to get 11?"
   ]
  },
  {
   "cell_type": "code",
   "execution_count": null,
   "metadata": {},
   "outputs": [],
   "source": [
    "int function has 2 arguments. \n",
    "one argument is string_number value or float value. another one is base.\n",
    "\n",
    "If you convert string_number to integer with base 10(This is ordinary decimal).\n",
    "Dont need mention base.\n",
    "For Example:\n",
    "    int('25')\n",
    "    \n",
    "Suppose if you want convert Binary string_number to integer. \n",
    "You need mention the base is 2.\n",
    "For Example:\n",
    "    int('1001', base = 2)\n",
    "    \n",
    "\n",
    "Suppose if you want convert Octal string_number to integer. \n",
    "You need mention the base is 8.\n",
    "For Example:\n",
    "    int('31', base = 8)\n",
    "    \n",
    "Suppose if you want convert Hex string_number to integer. \n",
    "You need mention the base is 16.\n",
    "For Example:\n",
    "    int('4F', base = 16)"
   ]
  },
  {
   "cell_type": "code",
   "execution_count": null,
   "metadata": {},
   "outputs": [],
   "source": [
    "print(int('1001', 2))\n",
    "print(int('13', 8))\n",
    "print(int('4F', 16))\n"
   ]
  },
  {
   "cell_type": "markdown",
   "metadata": {},
   "source": [
    "### Multiple assginments\n",
    "Here, name and age assgine in single line\n",
    "\n",
    "using multiple assignments."
   ]
  },
  {
   "cell_type": "code",
   "execution_count": null,
   "metadata": {},
   "outputs": [],
   "source": [
    "name, age = 'Jane', 22\n",
    "print(f'Her name is {name}. she is {age}')"
   ]
  },
  {
   "cell_type": "markdown",
   "metadata": {},
   "source": [
    "### **How to use if ..else in lambda?**"
   ]
  },
  {
   "cell_type": "code",
   "execution_count": null,
   "metadata": {},
   "outputs": [],
   "source": [
    "(lambda a,b : a if a > b else b)(10, 5)"
   ]
  },
  {
   "cell_type": "markdown",
   "metadata": {},
   "source": [
    "### **How to use and or in lambda?**"
   ]
  },
  {
   "cell_type": "code",
   "execution_count": null,
   "metadata": {},
   "outputs": [],
   "source": [
    "(lambda a,b : a > b and a or b)(10, 5)"
   ]
  },
  {
   "cell_type": "markdown",
   "metadata": {},
   "source": [
    "### **Sum of different length Lists of list**"
   ]
  },
  {
   "cell_type": "code",
   "execution_count": null,
   "metadata": {},
   "outputs": [],
   "source": [
    "lst = [[1, 4, 5], [7, 3], [4], [46, 7, 3]] \n",
    "sum(sum(lst, []))"
   ]
  },
  {
   "cell_type": "code",
   "execution_count": null,
   "metadata": {},
   "outputs": [],
   "source": [
    "from itertools import chain \n",
    "\n",
    "lst = [[1, 4, 5], [7, 3], [4], [46, 7, 3]] \n",
    "sum(list(chain(*lst)))"
   ]
  },
  {
   "cell_type": "code",
   "execution_count": null,
   "metadata": {},
   "outputs": [],
   "source": [
    "import operator\n",
    "from functools import reduce\n",
    "\n",
    "lst = [[1, 4, 5], [7, 3], [4], [46, 7, 3]] \n",
    "reduce(operator.add, sum(lst, []))"
   ]
  },
  {
   "cell_type": "markdown",
   "metadata": {},
   "source": [
    "### **nested for loop in list comprehension**"
   ]
  },
  {
   "cell_type": "code",
   "execution_count": null,
   "metadata": {},
   "outputs": [],
   "source": [
    "lst = [[1, 4, 5], [7, 3], [4], [46, 7, 3]] \n",
    "[y for x in lst for y in x]"
   ]
  },
  {
   "cell_type": "markdown",
   "metadata": {},
   "source": [
    "### **How to change list of list into single list?**"
   ]
  },
  {
   "cell_type": "code",
   "execution_count": null,
   "metadata": {},
   "outputs": [],
   "source": [
    "lst = [[1, 4, 5], [7, 3], [4], [46, 7, 3]] \n",
    "sum(lst, [])"
   ]
  },
  {
   "cell_type": "code",
   "execution_count": null,
   "metadata": {},
   "outputs": [],
   "source": [
    "lst = [[1, 4, 5], [7, 3], [4], [46, 7, 3]] \n",
    "[y for x in lst for y in x]"
   ]
  },
  {
   "cell_type": "code",
   "execution_count": null,
   "metadata": {},
   "outputs": [],
   "source": [
    "from itertools import chain \n",
    "\n",
    "lst = [[1, 4, 5], [7, 3], [4], [46, 7, 3]] \n",
    "list(chain(*lst))"
   ]
  },
  {
   "cell_type": "markdown",
   "metadata": {},
   "source": [
    "### **What is output of this program?**"
   ]
  },
  {
   "cell_type": "code",
   "execution_count": null,
   "metadata": {},
   "outputs": [],
   "source": [
    "print(10 > 5 and 10 or 5)"
   ]
  },
  {
   "cell_type": "raw",
   "metadata": {},
   "source": [
    "1. 10\n",
    "2. 5\n",
    "3. None\n",
    "4. 15"
   ]
  },
  {
   "cell_type": "markdown",
   "metadata": {},
   "source": [
    "### **How to sum two list?**"
   ]
  },
  {
   "cell_type": "code",
   "execution_count": null,
   "metadata": {},
   "outputs": [],
   "source": [
    "lst1 = [2, 3, 4]\n",
    "lst2 = [4, 5, 6]\n",
    "\n",
    "sum(lst1+lst2)"
   ]
  },
  {
   "cell_type": "code",
   "execution_count": null,
   "metadata": {},
   "outputs": [],
   "source": [
    "import operator\n",
    "\n",
    "lst1 = [2, 3, 4]\n",
    "lst2 = [4, 5, 6]\n",
    "sum(map(operator.add, lst1, lst2))"
   ]
  },
  {
   "cell_type": "code",
   "execution_count": null,
   "metadata": {},
   "outputs": [],
   "source": [
    "from functools import reduce\n",
    "from operator import add\n",
    "\n",
    "lst1 = [2, 3, 4]\n",
    "lst2 = [4, 5, 6]\n",
    "\n",
    "reduce(add, lst1+lst2)\n"
   ]
  },
  {
   "cell_type": "markdown",
   "metadata": {},
   "source": [
    "### Why sencond statement failed?"
   ]
  },
  {
   "cell_type": "code",
   "execution_count": null,
   "metadata": {},
   "outputs": [],
   "source": [
    "print(0 and Null)\n",
    "print(1 and Null)"
   ]
  },
  {
   "cell_type": "markdown",
   "metadata": {},
   "source": [
    "### **What is output?**"
   ]
  },
  {
   "cell_type": "code",
   "execution_count": null,
   "metadata": {},
   "outputs": [],
   "source": [
    "print(4 and 6 and 11)"
   ]
  },
  {
   "cell_type": "raw",
   "metadata": {},
   "source": [
    "1. 4\n",
    "2. 11\n",
    "3. 6\n",
    "4. None"
   ]
  },
  {
   "cell_type": "markdown",
   "metadata": {},
   "source": [
    "### **How to assgin empty keyword on function arguments?**"
   ]
  },
  {
   "cell_type": "code",
   "execution_count": null,
   "metadata": {},
   "outputs": [],
   "source": [
    "from subprocess import check_output\n",
    "\n",
    "def uptime(x = ''):\n",
    "    cmd = 'uptime -' + x\n",
    "    out = check_output(cmd.split()).decode()\n",
    "    return out\n",
    "\n",
    "print('How long the system has been running?\\n',uptime())\n",
    "print('Show uptime in pretty format:\\n', uptime('p'))\n",
    "print('System up since:\\n',uptime('s'))"
   ]
  },
  {
   "cell_type": "code",
   "execution_count": null,
   "metadata": {},
   "outputs": [],
   "source": [
    "from functools import partial\n",
    "from subprocess import check_output\n",
    "\n",
    "def uptime(x = ''):\n",
    "    cmd = 'uptime -' + x\n",
    "    out = check_output(cmd.split()).decode()\n",
    "    return out\n",
    "\n",
    "print('How long the system has been running?')\n",
    "print(partial(uptime))\n",
    "      \n",
    "print('Show uptime in pretty format:\\n', uptime('p'))\n",
    "print('System up since:\\n',uptime('s'))"
   ]
  },
  {
   "cell_type": "code",
   "execution_count": null,
   "metadata": {},
   "outputs": [],
   "source": [
    "from functools import partial\n",
    "from subprocess import check_output\n",
    "\n",
    "def uptime(x):\n",
    "    cmd = 'uptime -' + x\n",
    "    out = check_output(cmd.split()).decode()\n",
    "    return out\n",
    "\n",
    "print('How long the system has been running?')\n",
    "print(partial(uptime, x = ''))\n",
    "      "
   ]
  },
  {
   "cell_type": "code",
   "execution_count": null,
   "metadata": {},
   "outputs": [],
   "source": [
    "from functools import partial\n",
    "partial(int)\n"
   ]
  },
  {
   "cell_type": "markdown",
   "metadata": {},
   "source": [
    "### **Find a word in text file**"
   ]
  },
  {
   "cell_type": "code",
   "execution_count": null,
   "metadata": {},
   "outputs": [],
   "source": [
    "!cat /home/mana/Work/linux.txt"
   ]
  },
  {
   "cell_type": "code",
   "execution_count": null,
   "metadata": {},
   "outputs": [],
   "source": [
    "from pathlib import Path\n",
    "\n",
    "'kernel' in Path('/home/mana/Work/linux.txt').read_text().split()"
   ]
  },
  {
   "cell_type": "code",
   "execution_count": null,
   "metadata": {},
   "outputs": [],
   "source": [
    "from pathlib import Path\n",
    "\n",
    "'gravity' in Path('/home/mana/Work/linux.txt').read_text().split()"
   ]
  },
  {
   "cell_type": "markdown",
   "metadata": {},
   "source": [
    "### **Word count in file**"
   ]
  },
  {
   "cell_type": "code",
   "execution_count": null,
   "metadata": {},
   "outputs": [],
   "source": [
    "!cat /home/mana/Work/linux.txt"
   ]
  },
  {
   "cell_type": "code",
   "execution_count": null,
   "metadata": {},
   "outputs": [],
   "source": [
    "%%bash\n",
    "\n",
    "wc -w /home/mana/Work/linux.txt"
   ]
  },
  {
   "cell_type": "code",
   "execution_count": null,
   "metadata": {},
   "outputs": [],
   "source": [
    "%%python3\n",
    "\n",
    "from pathlib import Path\n",
    "\n",
    "print(len(Path('/home/mana/Work/linux.txt').read_text().split()))"
   ]
  },
  {
   "cell_type": "code",
   "execution_count": null,
   "metadata": {},
   "outputs": [],
   "source": [
    "!egrep -o \"\\w*\" /home/mana/Work/linux.txt | wc -l"
   ]
  },
  {
   "cell_type": "markdown",
   "metadata": {},
   "source": [
    "### **Capture current date log and compress into tar file**"
   ]
  },
  {
   "cell_type": "code",
   "execution_count": null,
   "metadata": {},
   "outputs": [],
   "source": [
    "%%python3\n",
    "\n",
    "from datetime import datetime\n",
    "from pathlib import Path\n",
    "import tarfile\n",
    "\n",
    "dpath = '/home/mana/Work/'\n",
    "log_file = Path('/var/log/syslog').read_text().splitlines()\n",
    "today = datetime.today().strftime('%b %d')\n",
    "current_date_log = [i for i in log_file if i.startswith(today)]\n",
    "print(*current_date_log, sep = '\\n', file = open(dpath+'log.txt', 'w'))\n",
    "with tarfile.open('/home/mana/Work/log.tar.gz', \"w:gz\") as tar:\n",
    "    tar.add(dpath+'log.txt', arcname=Path(dpath+'log.txt').name)\n",
    "Path(dpath+'log.txt').unlink()"
   ]
  },
  {
   "cell_type": "markdown",
   "metadata": {},
   "source": [
    "### **How to Compress a file?**"
   ]
  },
  {
   "cell_type": "code",
   "execution_count": null,
   "metadata": {},
   "outputs": [],
   "source": [
    "%%bash\n",
    "\n",
    "cd /home/mana/Work\n",
    "tar -czf test.tar.gz test.txt"
   ]
  },
  {
   "cell_type": "code",
   "execution_count": null,
   "metadata": {},
   "outputs": [],
   "source": [
    "%%python3\n",
    "\n",
    "from pathlib import Path\n",
    "import tarfile\n",
    "\n",
    "with tarfile.open('/home/mana/Work/test.tar.gz', \"w:gz\") as tar:\n",
    "    tar.add('/home/mana/Work/test.txt', \n",
    "            arcname=Path('/home/mana/Work/test.txt').name)"
   ]
  },
  {
   "cell_type": "markdown",
   "metadata": {},
   "source": [
    "### **Print cat**"
   ]
  },
  {
   "cell_type": "code",
   "execution_count": null,
   "metadata": {},
   "outputs": [],
   "source": [
    "chr(128008)"
   ]
  },
  {
   "cell_type": "code",
   "execution_count": null,
   "metadata": {},
   "outputs": [],
   "source": [
    "chr(128006)"
   ]
  },
  {
   "cell_type": "markdown",
   "metadata": {},
   "source": [
    "### **Print emoji**"
   ]
  },
  {
   "cell_type": "code",
   "execution_count": null,
   "metadata": {},
   "outputs": [],
   "source": [
    "for i in range(128000, 128015):\n",
    "    print(chr(i), end = ' ')"
   ]
  },
  {
   "cell_type": "code",
   "execution_count": null,
   "metadata": {},
   "outputs": [],
   "source": [
    "chr(int('2740', base = 16))"
   ]
  },
  {
   "cell_type": "code",
   "execution_count": null,
   "metadata": {},
   "outputs": [],
   "source": [
    "print(u\"\\U0001F9DE\\u201D\\u2740\\uFE0F\")"
   ]
  },
  {
   "cell_type": "code",
   "execution_count": null,
   "metadata": {},
   "outputs": [],
   "source": [
    "print(u\"\\U0001F9DE\")"
   ]
  },
  {
   "cell_type": "code",
   "execution_count": null,
   "metadata": {},
   "outputs": [],
   "source": [
    "print(u\"\\u2740\")"
   ]
  },
  {
   "cell_type": "code",
   "execution_count": null,
   "metadata": {},
   "outputs": [],
   "source": [
    "chr(58401)"
   ]
  },
  {
   "cell_type": "code",
   "execution_count": null,
   "metadata": {},
   "outputs": [],
   "source": [
    "print(u\"\\U0001F44E\")"
   ]
  },
  {
   "cell_type": "markdown",
   "metadata": {},
   "source": [
    "### **How to find router(Gateway) address from /proc/net/router file?**"
   ]
  },
  {
   "cell_type": "code",
   "execution_count": null,
   "metadata": {},
   "outputs": [],
   "source": [
    "%%python3\n",
    "\n",
    "from pathlib import Path\n",
    "from re import findall\n",
    "\n",
    "route = Path('/proc/net/route').read_text().splitlines()[1]\n",
    "hex_addr = findall(r'..',route.split('\\t')[2])[::-1]\n",
    "hex_base = [str(int(x, base=16)) for x in hex_addr]\n",
    "print('.'.join(hex_base))"
   ]
  },
  {
   "cell_type": "code",
   "execution_count": null,
   "metadata": {},
   "outputs": [],
   "source": [
    "%%bash\n",
    "\n",
    "ip route | awk 'NR == 1 {print $3}'"
   ]
  },
  {
   "cell_type": "markdown",
   "metadata": {},
   "source": [
    "### **How to use color code?**"
   ]
  },
  {
   "cell_type": "code",
   "execution_count": null,
   "metadata": {},
   "outputs": [],
   "source": [
    "%%python3\n",
    "\n",
    "print('\\033[1;34;40m Welcome ')"
   ]
  },
  {
   "cell_type": "code",
   "execution_count": null,
   "metadata": {},
   "outputs": [],
   "source": [
    "%%bash\n",
    "\n",
    "echo -e \"\\033[1;34;40m Welcome \""
   ]
  },
  {
   "cell_type": "markdown",
   "metadata": {},
   "source": [
    "### **Memory size of 'x' and Memory view of 'x'**"
   ]
  },
  {
   "cell_type": "code",
   "execution_count": null,
   "metadata": {},
   "outputs": [],
   "source": [
    "from sys import getsizeof\n",
    "\n",
    "x = 'Python'.encode()\n",
    "\n",
    "print(x)\n",
    "print('Memory Size of x: ', getsizeof(x))\n",
    "print(memoryview(bytes(x)))"
   ]
  },
  {
   "cell_type": "markdown",
   "metadata": {},
   "source": [
    "### **What is output?**"
   ]
  },
  {
   "cell_type": "code",
   "execution_count": null,
   "metadata": {},
   "outputs": [],
   "source": [
    "x = 'Python'.encode()\n",
    "print(x)"
   ]
  },
  {
   "cell_type": "raw",
   "metadata": {},
   "source": [
    "1. 'Python'\n",
    "2. Python\n",
    "3. b'Python'\n",
    "4. None"
   ]
  },
  {
   "cell_type": "markdown",
   "metadata": {},
   "source": [
    "### **How to print current year?**"
   ]
  },
  {
   "cell_type": "code",
   "execution_count": null,
   "metadata": {},
   "outputs": [],
   "source": [
    "from datetime import datetime\n",
    "\n",
    "print(datetime.today().strftime('%Y'))"
   ]
  },
  {
   "cell_type": "markdown",
   "metadata": {},
   "source": [
    "### **Find Second Largest Number**"
   ]
  },
  {
   "cell_type": "code",
   "execution_count": null,
   "metadata": {},
   "outputs": [],
   "source": [
    "my_nums = [ 44, 11, 83, 25, 76, 88]\n",
    "sorted(my_nums)[-2]"
   ]
  },
  {
   "cell_type": "code",
   "execution_count": null,
   "metadata": {},
   "outputs": [],
   "source": [
    "my_nums = [ 44, 11, 83, 25, 76, 88]\n",
    "my_nums.sort()\n",
    "my_nums[-2]"
   ]
  },
  {
   "cell_type": "code",
   "execution_count": null,
   "metadata": {},
   "outputs": [],
   "source": [
    "my_nums = [ 44, 11, 83, 25, 76, 88]\n",
    "my_nums.remove(max(my_nums))\n",
    "max(my_nums)"
   ]
  },
  {
   "cell_type": "code",
   "execution_count": null,
   "metadata": {},
   "outputs": [],
   "source": [
    "import heapq\n",
    "\n",
    "my_nums = [ 44, 11, 83, 25, 76, 88]\n",
    "heapq.heapify\n",
    "heapq.nlargest(2, my_nums)[1]"
   ]
  },
  {
   "cell_type": "code",
   "execution_count": null,
   "metadata": {},
   "outputs": [],
   "source": [
    "import heapq\n",
    "\n",
    "my_nums = [ 44, 11, 83, 25, 76, 88]\n",
    "heapq.heapify\n",
    "min(heapq.nlargest(2, my_nums))"
   ]
  },
  {
   "cell_type": "markdown",
   "metadata": {},
   "source": [
    "### **How to find Nth largest number in an array?**"
   ]
  },
  {
   "cell_type": "code",
   "execution_count": null,
   "metadata": {},
   "outputs": [],
   "source": [
    "arr = [7,10,4,3,3,20,15,7]\n",
    "max(arr)"
   ]
  },
  {
   "cell_type": "code",
   "execution_count": null,
   "metadata": {},
   "outputs": [],
   "source": [
    "sorted(arr)[-1]"
   ]
  },
  {
   "cell_type": "code",
   "execution_count": null,
   "metadata": {},
   "outputs": [],
   "source": [
    "arr.sort()\n",
    "arr[-1]"
   ]
  },
  {
   "cell_type": "code",
   "execution_count": null,
   "metadata": {},
   "outputs": [],
   "source": [
    "import heapq\n",
    "heapq.heapify\n",
    "heapq.nlargest(1,arr)"
   ]
  },
  {
   "cell_type": "code",
   "execution_count": null,
   "metadata": {},
   "outputs": [],
   "source": [
    "from functools import reduce\n",
    "reduce(max,arr)"
   ]
  },
  {
   "cell_type": "code",
   "execution_count": null,
   "metadata": {},
   "outputs": [],
   "source": [
    "from itertools import accumulate\n",
    "list(accumulate(arr,max))[-1]"
   ]
  },
  {
   "cell_type": "raw",
   "metadata": {},
   "source": [
    "1 : what if?\n",
    "2 : what elif?\n",
    "3 : what else?"
   ]
  },
  {
   "cell_type": "code",
   "execution_count": null,
   "metadata": {},
   "outputs": [],
   "source": [
    "def comparision(x, y):\n",
    "    if x > y:\n",
    "        return f'1. if \"{x}\" is greater than \"{y}\".'\n",
    "    elif x >= y:\n",
    "        return f'2. elseif is \"{x}\" greater than equal to \"{y}\".'\n",
    "    else:\n",
    "        return f'3. else \"{x}\" is less than \"{y}\".'\n",
    "        \n",
    "    \n",
    "print(comparision(5, 4))\n",
    "print(comparision(5, 5))\n",
    "print(comparision(4, 5))"
   ]
  },
  {
   "cell_type": "markdown",
   "metadata": {},
   "source": [
    "#### **What are differences between required arguments and key word arguments**"
   ]
  },
  {
   "cell_type": "code",
   "execution_count": null,
   "metadata": {},
   "outputs": [],
   "source": [
    "def add(x,y):\n",
    "    return x + y\n",
    "\n",
    "print(add(7))\n",
    "print(add(7, 3))"
   ]
  },
  {
   "cell_type": "code",
   "execution_count": null,
   "metadata": {},
   "outputs": [],
   "source": [
    "def add(x, y = 0):\n",
    "    return x + y\n",
    "\n",
    "print(add(7))\n",
    "print(add(7, 3))"
   ]
  },
  {
   "cell_type": "code",
   "execution_count": null,
   "metadata": {},
   "outputs": [],
   "source": []
  },
  {
   "cell_type": "code",
   "execution_count": null,
   "metadata": {},
   "outputs": [],
   "source": [
    "import subprocess\n",
    "\n",
    "subprocess.run('ls')"
   ]
  },
  {
   "cell_type": "code",
   "execution_count": null,
   "metadata": {},
   "outputs": [],
   "source": [
    "nums = [5, 12, 54, 87, 55, 69, 23, 17]\n",
    "nums.remove(max(nums))\n",
    "print(max(nums))"
   ]
  },
  {
   "cell_type": "markdown",
   "metadata": {},
   "source": [
    "### **How to list which user uses which shell?**"
   ]
  },
  {
   "cell_type": "code",
   "execution_count": null,
   "metadata": {},
   "outputs": [],
   "source": [
    "from collections import defaultdict\n",
    "from pwd import getpwall\n",
    "\n",
    "user_dict = defaultdict(list)\n",
    "users_shell = [(i[-1], i[0]) for i in getpwall()]\n",
    "\n",
    "for x,y in users_shell:\n",
    "    user_dict[x].append(y)\n",
    "\n",
    "user_dict"
   ]
  },
  {
   "cell_type": "markdown",
   "metadata": {},
   "source": [
    "### **Draw Triangle**"
   ]
  },
  {
   "cell_type": "code",
   "execution_count": null,
   "metadata": {},
   "outputs": [],
   "source": [
    "%%python3\n",
    "\n",
    "for i in range(1,10,2):\n",
    "    print(('^'*i).center(20))"
   ]
  },
  {
   "cell_type": "code",
   "execution_count": null,
   "metadata": {},
   "outputs": [],
   "source": [
    "%%python3\n",
    "\n",
    "for i in range(1,10,2):\n",
    "    print(f'{\"^\"*i:^20}') "
   ]
  },
  {
   "cell_type": "markdown",
   "metadata": {},
   "source": [
    "### **last in last out**"
   ]
  },
  {
   "cell_type": "code",
   "execution_count": null,
   "metadata": {},
   "outputs": [],
   "source": [
    "a = [0, 1, 2, 3]\n",
    "\n",
    "for a[1] in a:\n",
    "    print(a)"
   ]
  },
  {
   "cell_type": "code",
   "execution_count": null,
   "metadata": {},
   "outputs": [],
   "source": [
    "a = [0, 1, 2, 3]\n",
    "for a[-1] in a:\n",
    "    print (a)\n",
    "    print (a[-1])"
   ]
  },
  {
   "cell_type": "markdown",
   "metadata": {},
   "source": [
    "### **How to pick the numbers which sums upto 15?**"
   ]
  },
  {
   "cell_type": "code",
   "execution_count": null,
   "metadata": {},
   "outputs": [],
   "source": [
    "from itertools import combinations\n",
    "from functools import reduce\n",
    "from operator import add\n",
    "\n",
    "lst_nums = [1, 2, 17, 14, 5, 3, 7, 12, 3, 8, 4, 9]\n",
    "sum1 = 15\n",
    "match_lst = []\n",
    "for i in range(1,len(lst_nums)):\n",
    "    x = list(combinations(lst_nums, i))\n",
    "    for y in x:\n",
    "        tmp = reduce(add, y)\n",
    "        if tmp == sum1:\n",
    "            match_lst.append(y)\n",
    "\n",
    "print(*sorted(set(match_lst), key = len), sep = '\\n')"
   ]
  },
  {
   "cell_type": "markdown",
   "metadata": {},
   "source": [
    "### **Find common elements in list of lists**"
   ]
  },
  {
   "cell_type": "code",
   "execution_count": null,
   "metadata": {},
   "outputs": [],
   "source": [
    "# Method: 1\n",
    "lst = [[12, 3, 8, 4, 3], [3, 8, 4, 3], [8, 4, 3]]\n",
    "list(set.intersection(*map(set, lst))) "
   ]
  },
  {
   "cell_type": "code",
   "execution_count": null,
   "metadata": {},
   "outputs": [],
   "source": [
    "# Method: 2\n",
    "from functools import reduce\n",
    "\n",
    "lst = [[12, 3, 8, 4, 3], [3, 8, 4, 3], [8, 4, 3]]\n",
    "list(reduce(lambda i, j: i & j, (set(x) for x in lst))) "
   ]
  },
  {
   "cell_type": "markdown",
   "metadata": {},
   "source": [
    "### **How to fetch the port from this line?**"
   ]
  },
  {
   "cell_type": "code",
   "execution_count": null,
   "metadata": {},
   "outputs": [],
   "source": [
    "%%bash\n",
    "\n",
    "line=\"tomcatapp 2291 test 717u IPv4 159994 0t0 TCP 0.0.1.1:8080 (LISTEN)\"\n",
    "echo $line | awk -F \":\" '{print $2}' | awk '{print $1}'\n"
   ]
  },
  {
   "cell_type": "code",
   "execution_count": null,
   "metadata": {},
   "outputs": [],
   "source": [
    "%%bash\n",
    "\n",
    "line=\"tomcatapp 2291 test 717u IPv4 159994 0t0 TCP 0.0.1.1:8080 (LISTEN)\"\n",
    "echo $line | awk -F\"[:(]\" '{print $2}'"
   ]
  },
  {
   "cell_type": "code",
   "execution_count": null,
   "metadata": {},
   "outputs": [],
   "source": [
    "%%python3\n",
    "\n",
    "st = \"tomcatapp 2291 test 717u IPv4 159994 0t0 TCP 0.0.1.1:8080 (LISTEN)\"\n",
    "print(st.split(\":\")[-1].split()[0])"
   ]
  },
  {
   "cell_type": "markdown",
   "metadata": {},
   "source": [
    "### **Write a program to remove duplicates in Matrix**"
   ]
  },
  {
   "cell_type": "code",
   "execution_count": null,
   "metadata": {},
   "outputs": [],
   "source": [
    "INPUT : [[5, 6, 8], [8, 5, 3], [9, 10, 3]]\n",
    "OUTPUT: [[5, 6, 8], [3], [9, 10]]"
   ]
  },
  {
   "cell_type": "code",
   "execution_count": null,
   "metadata": {},
   "outputs": [],
   "source": [
    "from itertools import accumulate\n",
    "\n",
    "lst = [[5, 6, 8], [8, 5, 3], [9, 10, 3]]\n",
    "list(accumulate(lst, lambda x,y : list(set(y) - set(x))))"
   ]
  },
  {
   "cell_type": "code",
   "execution_count": null,
   "metadata": {},
   "outputs": [],
   "source": [
    "from itertools import accumulate\n",
    "\n",
    "lst = [[5, 6, 8], [8, 5, 3], [9, 10, 3], [3, 5]]\n",
    "list(accumulate(lst, lambda x,y : list(set(y) - set(x))))"
   ]
  },
  {
   "cell_type": "markdown",
   "metadata": {},
   "source": [
    "### **How to convert single list from list of list various length?**"
   ]
  },
  {
   "cell_type": "code",
   "execution_count": null,
   "metadata": {},
   "outputs": [],
   "source": [
    "from itertools import chain\n",
    "\n",
    "lst = [[5, 6, 8], [8, 5, 3], [7], [9, 10, 3], [3, 5]]\n",
    "list(chain(*lst))"
   ]
  },
  {
   "cell_type": "code",
   "execution_count": null,
   "metadata": {},
   "outputs": [],
   "source": [
    "from functools import reduce\n",
    "\n",
    "lst = [[5, 6, 8], [8, 5, 3], [7], [9, 10, 3], [3, 5]]\n",
    "list(reduce(lambda x,y: x+y, lst))"
   ]
  },
  {
   "cell_type": "code",
   "execution_count": null,
   "metadata": {},
   "outputs": [],
   "source": [
    "from functools import reduce\n",
    "from operator import add\n",
    "\n",
    "lst = [[5, 6, 8], [8, 5, 3], [7], [9, 10, 3], [3, 5]]\n",
    "list(reduce(add, lst))"
   ]
  },
  {
   "cell_type": "code",
   "execution_count": null,
   "metadata": {},
   "outputs": [],
   "source": [
    "from itertools import accumulate\n",
    "\n",
    "lst = [[5, 6, 8], [8, 5, 3], [7], [9, 10, 3], [3, 5]]\n",
    "list(accumulate(lst))[-1]"
   ]
  },
  {
   "cell_type": "code",
   "execution_count": null,
   "metadata": {},
   "outputs": [],
   "source": [
    "lst = [[5, 6, 8], [8, 5, 3], [7], [9, 10, 3], [3, 5]]\n",
    "list(eval(str(lst).replace('[', '').replace(']', '')))"
   ]
  },
  {
   "cell_type": "code",
   "execution_count": null,
   "metadata": {},
   "outputs": [],
   "source": [
    "lst = [[5, 6, 8], [8, 5, 3], [7], [9, 10, 3], [3, 5]]\n",
    "sum(lst, [])"
   ]
  },
  {
   "cell_type": "markdown",
   "metadata": {},
   "source": [
    "### **How to remove text files older than 7 days?**"
   ]
  },
  {
   "cell_type": "code",
   "execution_count": null,
   "metadata": {},
   "outputs": [],
   "source": [
    "%%python3\n",
    "\n",
    "from datetime import date\n",
    "from pathlib import Path\n",
    "\n",
    "for x in Path('/home/mana/Work/').glob('*.txt'):\n",
    "    if (date.today() - date.fromtimestamp(x.stat().st_mtime)).days > 7:\n",
    "        print('removed:',x)\n",
    "        x.unlink()"
   ]
  },
  {
   "cell_type": "code",
   "execution_count": null,
   "metadata": {},
   "outputs": [],
   "source": [
    "%%bash\n",
    "\n",
    "find /home/mana/Work/ -type f -name \"*.txt\" -mtime +7 -exec rm -v {} \\;"
   ]
  },
  {
   "cell_type": "markdown",
   "metadata": {},
   "source": [
    "### **How to join the list items?**"
   ]
  },
  {
   "cell_type": "code",
   "execution_count": null,
   "metadata": {},
   "outputs": [],
   "source": [
    "name = ['Manavalan', 'Micheal']\n",
    "''.join(name)"
   ]
  },
  {
   "cell_type": "code",
   "execution_count": null,
   "metadata": {},
   "outputs": [],
   "source": [
    "from itertools import chain \n",
    "name = ['Manavalan', 'Micheal']\n",
    "\n",
    "print(*chain(*name), sep= '')"
   ]
  },
  {
   "cell_type": "markdown",
   "metadata": {},
   "source": [
    "### **How to read csv file without using using any library's?**"
   ]
  },
  {
   "cell_type": "code",
   "execution_count": null,
   "metadata": {},
   "outputs": [],
   "source": [
    "!cat /home/mana/Work/test.csv"
   ]
  },
  {
   "cell_type": "code",
   "execution_count": null,
   "metadata": {},
   "outputs": [],
   "source": [
    "from pathlib import Path\n",
    "\n",
    "Path('/home/mana/Work/test.csv').read_text().splitlines()"
   ]
  },
  {
   "cell_type": "markdown",
   "metadata": {},
   "source": [
    "### **How to compare two documents ?**"
   ]
  },
  {
   "cell_type": "code",
   "execution_count": null,
   "metadata": {},
   "outputs": [],
   "source": [
    "!cat /home/mana/Work/fruit1.txt"
   ]
  },
  {
   "cell_type": "code",
   "execution_count": null,
   "metadata": {},
   "outputs": [],
   "source": [
    "!cat /home/mana/Work/fruit2.txt"
   ]
  },
  {
   "cell_type": "code",
   "execution_count": null,
   "metadata": {},
   "outputs": [],
   "source": [
    "from difflib import Differ\n",
    "from pathlib import Path\n",
    "\n",
    "path = Path('/home/mana/Work')\n",
    "f1 = (path/'fruit1.txt').read_text().splitlines()\n",
    "f2 = (path/'fruit2.txt').read_text().splitlines()\n",
    "diff = Differ().compare(f1, f2)\n",
    "print(*diff, sep = '\\n')"
   ]
  },
  {
   "cell_type": "markdown",
   "metadata": {},
   "source": [
    "### **How to sum a list?**"
   ]
  },
  {
   "cell_type": "code",
   "execution_count": null,
   "metadata": {},
   "outputs": [],
   "source": [
    "lst = [1, 2, 3]\n",
    "sum(lst)"
   ]
  },
  {
   "cell_type": "code",
   "execution_count": null,
   "metadata": {},
   "outputs": [],
   "source": [
    "from functools import reduce\n",
    "from operator import add\n",
    "\n",
    "lst = [1, 2, 3]\n",
    "reduce(add, lst)"
   ]
  },
  {
   "cell_type": "code",
   "execution_count": null,
   "metadata": {},
   "outputs": [],
   "source": [
    "from functools import reduce\n",
    "\n",
    "lst = [1, 2, 3]\n",
    "reduce(lambda x,y: x+y, lst)"
   ]
  },
  {
   "cell_type": "code",
   "execution_count": null,
   "metadata": {},
   "outputs": [],
   "source": [
    "from itertools import accumulate\n",
    "from operator import add\n",
    "\n",
    "lst = [1, 2, 3]\n",
    "list(accumulate(lst, add))[-1]"
   ]
  },
  {
   "cell_type": "code",
   "execution_count": null,
   "metadata": {},
   "outputs": [],
   "source": [
    "from itertools import accumulate\n",
    "\n",
    "lst = [1, 2, 3]\n",
    "list(accumulate(lst, lambda x,y: x+y))[-1]"
   ]
  },
  {
   "cell_type": "markdown",
   "metadata": {},
   "source": [
    "### **How to sum list of lists various length**?"
   ]
  },
  {
   "cell_type": "code",
   "execution_count": null,
   "metadata": {},
   "outputs": [],
   "source": [
    "lst = [[1, 2, 3], [5, 2], [10]]\n",
    "sum(sum(lst,[]))"
   ]
  },
  {
   "cell_type": "code",
   "execution_count": null,
   "metadata": {},
   "outputs": [],
   "source": [
    "from functools import reduce\n",
    "from operator import add\n",
    "\n",
    "lst = [[1, 2, 3], [5, 2], [10]]\n",
    "sum(reduce(add, lst))"
   ]
  },
  {
   "cell_type": "code",
   "execution_count": null,
   "metadata": {},
   "outputs": [],
   "source": [
    "from functools import reduce\n",
    "from itertools import chain\n",
    "from operator import add\n",
    "\n",
    "lst = [[1, 2, 3], [5, 2], [10]]\n",
    "reduce(add, chain(*lst))"
   ]
  },
  {
   "cell_type": "code",
   "execution_count": null,
   "metadata": {},
   "outputs": [],
   "source": [
    "from itertools import accumulate,chain\n",
    "from operator import add\n",
    "\n",
    "lst = [[1, 2, 3], [5, 2], [10]]\n",
    "list(accumulate(chain(*lst), add))[-1]"
   ]
  },
  {
   "cell_type": "markdown",
   "metadata": {},
   "source": [
    "### **How to use while loop?**"
   ]
  },
  {
   "cell_type": "raw",
   "metadata": {},
   "source": [
    "While execute statement until condition true."
   ]
  },
  {
   "cell_type": "code",
   "execution_count": null,
   "metadata": {},
   "outputs": [],
   "source": [
    "a = 0\n",
    "\n",
    "while a < 5:\n",
    "    print(a)\n",
    "    a += 1"
   ]
  },
  {
   "cell_type": "markdown",
   "metadata": {},
   "source": [
    "### **How to convert set of list of list elements?**"
   ]
  },
  {
   "cell_type": "code",
   "execution_count": null,
   "metadata": {},
   "outputs": [],
   "source": [
    "lst = [[12, 3, 8, 4, 3], [3, 8, 4, 3], [8, 4, 3]]\n",
    "list(map(set, lst))"
   ]
  },
  {
   "cell_type": "code",
   "execution_count": null,
   "metadata": {},
   "outputs": [],
   "source": [
    "\n",
    "lst = [[12, 3, 8, 4, 3], [3, 8, 4, 3], [8, 4, 3]]\n",
    "[set(x) for x in lst]"
   ]
  },
  {
   "cell_type": "markdown",
   "metadata": {},
   "source": [
    "### **How to fetch last element from list?**"
   ]
  },
  {
   "cell_type": "code",
   "execution_count": null,
   "metadata": {},
   "outputs": [],
   "source": [
    "lst = [1, 2, 3, 4, 5]\n",
    "lst[-1]"
   ]
  },
  {
   "cell_type": "code",
   "execution_count": null,
   "metadata": {},
   "outputs": [],
   "source": [
    "from collections import deque\n",
    "\n",
    "lst = [1, 2, 3, 4, 5]\n",
    "deque(lst, 1)\n"
   ]
  },
  {
   "cell_type": "markdown",
   "metadata": {},
   "source": [
    "### **How to fetch last character from string?**"
   ]
  },
  {
   "cell_type": "code",
   "execution_count": null,
   "metadata": {},
   "outputs": [],
   "source": [
    "string = 'Python'"
   ]
  },
  {
   "cell_type": "code",
   "execution_count": null,
   "metadata": {},
   "outputs": [],
   "source": [
    "print(string[-1])"
   ]
  },
  {
   "cell_type": "code",
   "execution_count": null,
   "metadata": {},
   "outputs": [],
   "source": [
    "from collections import deque\n",
    "\n",
    "print(*deque(string, 1))"
   ]
  },
  {
   "cell_type": "code",
   "execution_count": null,
   "metadata": {},
   "outputs": [],
   "source": [
    "for i in string:\n",
    "    pass\n",
    "else:\n",
    "    print(i)"
   ]
  },
  {
   "cell_type": "markdown",
   "metadata": {},
   "source": [
    "### **How to remove empty elements in list?**"
   ]
  },
  {
   "cell_type": "code",
   "execution_count": null,
   "metadata": {},
   "outputs": [],
   "source": [
    "lst = [3, '', 5, 't', 0, None, 'u']\n",
    "[i for i in lst if i]"
   ]
  },
  {
   "cell_type": "code",
   "execution_count": null,
   "metadata": {},
   "outputs": [],
   "source": [
    "lst = [3, '', 5, 't', 0, None, 'u']\n",
    "list(filter(None, lst))"
   ]
  },
  {
   "cell_type": "markdown",
   "metadata": {},
   "source": [
    "### **How to count occurrences of word in file?**"
   ]
  },
  {
   "cell_type": "code",
   "execution_count": null,
   "metadata": {},
   "outputs": [],
   "source": [
    "!cat /home/mana/Work/data.txt"
   ]
  },
  {
   "cell_type": "code",
   "execution_count": null,
   "metadata": {},
   "outputs": [],
   "source": [
    "%%python3\n",
    "\n",
    "from collections import Counter\n",
    "from pathlib import Path\n",
    "\n",
    "words = Path('/home/mana/Work/data.txt').read_text().split()\n",
    "print('*'*33)\n",
    "print(f'{\"Word\":15} {\"Count\":>17}')\n",
    "print('*'*33)\n",
    "\n",
    "for i,j in Counter(words).items():\n",
    "      print(f'{i:15} {j:15}')"
   ]
  },
  {
   "cell_type": "code",
   "execution_count": null,
   "metadata": {},
   "outputs": [],
   "source": [
    "%%bash\n",
    "\n",
    "egrep -o \"\\w+\" /home/mana/Work/data.txt | sort | uniq -c \\\n",
    "| awk '{print $2, $1}' | column -t"
   ]
  },
  {
   "cell_type": "markdown",
   "metadata": {},
   "source": [
    "### **How to format sequence string and list?**"
   ]
  },
  {
   "cell_type": "code",
   "execution_count": null,
   "metadata": {},
   "outputs": [],
   "source": [
    "hfmt = '{:15s}' + ('  {:>5}' * 3)\n",
    "print(hfmt.format('Name', 'Address', 'Mail', 'Mobileno'))"
   ]
  },
  {
   "cell_type": "code",
   "execution_count": null,
   "metadata": {},
   "outputs": [],
   "source": [
    "lst = ['abcd04', 'abcd05', 'abcd06', 'abcd07']\n",
    "hfmt = '{:10}' * len(lst)\n",
    "print(hfmt.format(*lst))"
   ]
  },
  {
   "cell_type": "code",
   "execution_count": null,
   "metadata": {},
   "outputs": [],
   "source": [
    "for i in range(1,5):\n",
    "    print(f'abcd{i:02d}')"
   ]
  },
  {
   "cell_type": "markdown",
   "metadata": {},
   "source": [
    "### **How to use zfill in f string format?**"
   ]
  },
  {
   "cell_type": "code",
   "execution_count": null,
   "metadata": {},
   "outputs": [],
   "source": [
    "for i in range(1,5):\n",
    "    print(f'abcd{i:02d}')"
   ]
  },
  {
   "cell_type": "markdown",
   "metadata": {},
   "source": [
    "### **last reboot**"
   ]
  },
  {
   "cell_type": "code",
   "execution_count": null,
   "metadata": {},
   "outputs": [],
   "source": [
    "!last -x1 reboot | tail -1"
   ]
  },
  {
   "cell_type": "code",
   "execution_count": null,
   "metadata": {},
   "outputs": [],
   "source": [
    "!uptime"
   ]
  },
  {
   "cell_type": "code",
   "execution_count": null,
   "metadata": {},
   "outputs": [],
   "source": [
    "!w | head -1"
   ]
  },
  {
   "cell_type": "markdown",
   "metadata": {},
   "source": [
    "### **How to remove all the numbers below 5?**"
   ]
  },
  {
   "cell_type": "code",
   "execution_count": null,
   "metadata": {},
   "outputs": [],
   "source": [
    "numbers = [1, 1, 2, 2, 3, 4, 5, 12, 63, 89]\n",
    "\n",
    "[i for i in numbers if i > 5]"
   ]
  },
  {
   "cell_type": "markdown",
   "metadata": {},
   "source": [
    "### **How to list Linux server users?**"
   ]
  },
  {
   "cell_type": "code",
   "execution_count": null,
   "metadata": {},
   "outputs": [],
   "source": [
    "%%python3\n",
    "\n",
    "from pwd import getpwall\n",
    "\n",
    "users = [i[0] for i in getpwall()]\n",
    "fmt = '{:18}'*4\n",
    "\n",
    "for user in zip(*[iter(users)] *4):\n",
    "    print(fmt.format(*user))\n"
   ]
  },
  {
   "cell_type": "code",
   "execution_count": null,
   "metadata": {},
   "outputs": [],
   "source": [
    "%%bash\n",
    "\n",
    "getent passwd | awk -F \":\" '{print $1}' | xargs -n4 | column -t"
   ]
  },
  {
   "cell_type": "markdown",
   "metadata": {},
   "source": [
    "### **How to make beautiful format?**\n",
    "\n",
    "Here i taken all string methods. Then print 4 columns."
   ]
  },
  {
   "cell_type": "code",
   "execution_count": null,
   "metadata": {},
   "outputs": [],
   "source": [
    "methods = [i for i in dir(str) if not i.startswith('_')]\n",
    "fmt = '{:15s}'*4\n",
    "\n",
    "for fn in zip(*[iter(methods)] *4):\n",
    "    print(fmt.format(*fn))"
   ]
  },
  {
   "cell_type": "markdown",
   "metadata": {},
   "source": [
    "### **Bubble sort**"
   ]
  },
  {
   "cell_type": "code",
   "execution_count": null,
   "metadata": {},
   "outputs": [],
   "source": [
    "lst = [7, 2, 5, 1, 11]\n",
    "\n",
    "for i in range(len(lst)):\n",
    "    print(f'i:{i}')\n",
    "    for j in range(len(lst) -1):\n",
    "        print(f'j:{j}')\n",
    "        if lst[j] > lst[j+1]:\n",
    "            print(f'Before Moved: lst[j]: {lst[j]}, lst[j+1]: {lst[j+1]}')\n",
    "            lst[j], lst[j+1] = lst[j+1], lst[j]\n",
    "            print(f'After Moved: {lst[j]}, {lst[j+1]}')\n",
    "            \n",
    "print(lst)"
   ]
  },
  {
   "cell_type": "markdown",
   "metadata": {},
   "source": [
    "### **How to  find size of file?**"
   ]
  },
  {
   "cell_type": "code",
   "execution_count": null,
   "metadata": {},
   "outputs": [],
   "source": [
    "%%python3\n",
    "\n",
    "from bisect import bisect\n",
    "from pathlib import Path\n",
    "\n",
    "size = [1, 1e+3, 1e+6, 1e+9]\n",
    "unit = ['B', 'K', 'M', 'G']\n",
    "file = Path('/home/mana/Work/Python-System-Programming-Book.pdf')\n",
    "fsize = file.stat().st_size\n",
    "\n",
    "def convert(byts):\n",
    "    if byts != 0:\n",
    "        index = bisect(size, byts) - 1\n",
    "        return \"{:.1f}{}\".format(byts/size[index], unit[index])\n",
    "    else: \n",
    "        return '0B'\n",
    "    \n",
    "print(convert(fsize), file)"
   ]
  },
  {
   "cell_type": "code",
   "execution_count": null,
   "metadata": {},
   "outputs": [],
   "source": [
    "%%bash\n",
    "\n",
    "ls -1sh ~/Work/Python-System-Programming-Book.pdf"
   ]
  },
  {
   "cell_type": "markdown",
   "metadata": {},
   "source": [
    "### **Emoji**"
   ]
  },
  {
   "cell_type": "code",
   "execution_count": null,
   "metadata": {},
   "outputs": [],
   "source": [
    "st = '🦊❄️🐿'"
   ]
  },
  {
   "cell_type": "code",
   "execution_count": null,
   "metadata": {},
   "outputs": [],
   "source": [
    "ord('🐿')"
   ]
  },
  {
   "cell_type": "code",
   "execution_count": null,
   "metadata": {},
   "outputs": [],
   "source": [
    "%%bash\n",
    "\n",
    "hostname\n",
    "hostname -i\n",
    "df -h | grep -o \"/dev/sd[a-z][1-9]*.*\" "
   ]
  },
  {
   "cell_type": "markdown",
   "metadata": {},
   "source": [
    "### **Writing a Python list into CSV**"
   ]
  },
  {
   "cell_type": "code",
   "execution_count": null,
   "metadata": {},
   "outputs": [],
   "source": [
    "import csv\n",
    "\n",
    "line1 = 'joe'\n",
    "line2 = '121.1.1.0'\n",
    "line3 = \"\"\"statsPumpCtrl\n",
    "sactcontrol\n",
    "serviceAct\n",
    "smcontrol\n",
    "serviceMonitor\n",
    "shcontrol\n",
    "syshealthSvc\n",
    "logger\n",
    "ccs\n",
    "datapump\n",
    "rtdataSvr\n",
    "RBACManager\n",
    "java\n",
    "Naming_Service\"\"\"\n",
    "\n",
    "\n",
    "\n",
    "lst = [line1, line2, line3]\n",
    "with open('/home/mana/Work/sankar.csv','w') as f:\n",
    "    writer = csv.writer(f)\n",
    "    writer.writerow(lst)"
   ]
  },
  {
   "cell_type": "markdown",
   "metadata": {},
   "source": [
    "### **Write headers to a CSV file**"
   ]
  },
  {
   "cell_type": "code",
   "execution_count": null,
   "metadata": {},
   "outputs": [],
   "source": [
    "import csv\n",
    "\n",
    "f = open(\"/home/mana/Work/fruits.csv\", \"w\")\n",
    "writer = csv.DictWriter(\n",
    "    f, fieldnames=[\"fruit\", \"count\"])\n",
    "writer.writeheader()\n",
    "f.close()\n"
   ]
  },
  {
   "cell_type": "markdown",
   "metadata": {},
   "source": [
    "### **How can i pair lowest kye and lowest value together?**\n",
    "\n",
    "Note: it should be rising by order small to big"
   ]
  },
  {
   "cell_type": "code",
   "execution_count": null,
   "metadata": {},
   "outputs": [],
   "source": [
    "d = {'1': 30, '2': 15, '4': 29, '11': 22, '12': 41, '14': 26}\n",
    "key = sorted(map(int,d.keys()))\n",
    "key_modified = list(map(str,key))\n",
    "value = sorted(d.values())\n",
    "dict(zip(key_modified, value))"
   ]
  },
  {
   "cell_type": "markdown",
   "metadata": {},
   "source": [
    "### **How to read multiple csv files from directory and  get file path and size?**"
   ]
  },
  {
   "cell_type": "code",
   "execution_count": null,
   "metadata": {},
   "outputs": [],
   "source": [
    "from pathlib import Path\n",
    "from bisect import bisect\n",
    "\n",
    "\n",
    "size = [1, 1e+3, 1e+6, 1e+9]  ## GB\n",
    "# size = [1, 2**10, 2**20, 2**30] ## GiB\n",
    "unit = ['B', 'K', 'M', 'G']\n",
    "my_directory = Path('/home/mana/Work/').glob('*.csv')\n",
    "\n",
    "def convert(byts):\n",
    "    if byts != 0:\n",
    "        index = bisect(size, byts) -1\n",
    "        return f\"{byts/size[index]:.0f}{unit[index]}\"\n",
    "    else: \n",
    "        return '0B'\n",
    "\n",
    "for i in my_directory:\n",
    "    print(i, convert(i.stat().st_size))"
   ]
  },
  {
   "cell_type": "code",
   "execution_count": null,
   "metadata": {},
   "outputs": [],
   "source": [
    "%%bash\n",
    "\n",
    "stat -c \"%n %sB\" /home/mana/Work/*.csv "
   ]
  },
  {
   "cell_type": "markdown",
   "metadata": {},
   "source": [
    "### **gorilla**"
   ]
  },
  {
   "cell_type": "code",
   "execution_count": null,
   "metadata": {},
   "outputs": [],
   "source": [
    "chr(129421)"
   ]
  },
  {
   "cell_type": "markdown",
   "metadata": {},
   "source": [
    "### **How many functions are in this code?**"
   ]
  },
  {
   "cell_type": "code",
   "execution_count": null,
   "metadata": {},
   "outputs": [],
   "source": [
    "list(map((lambda x: x%2), range(4)))\n"
   ]
  },
  {
   "cell_type": "code",
   "execution_count": null,
   "metadata": {},
   "outputs": [],
   "source": [
    "[x%2 for x in range(4)]"
   ]
  },
  {
   "cell_type": "code",
   "execution_count": null,
   "metadata": {},
   "outputs": [],
   "source": [
    "A. 3\n",
    "B. 2\n",
    "C. 4\n",
    "D. 1"
   ]
  },
  {
   "cell_type": "markdown",
   "metadata": {},
   "source": [
    "### **How to filter '#' if line startswith '#'?**"
   ]
  },
  {
   "cell_type": "code",
   "execution_count": null,
   "metadata": {},
   "outputs": [],
   "source": [
    "%%bash\n",
    "\n",
    "echo -e \"people\\n#people\\nTrading\\n#Trading\""
   ]
  },
  {
   "cell_type": "code",
   "execution_count": null,
   "metadata": {},
   "outputs": [],
   "source": [
    "%%bash\n",
    "\n",
    "echo -e \"people\\n#people\\nTrading\\n#Trading\" | sed -n \"/^[^#]/p\""
   ]
  },
  {
   "cell_type": "code",
   "execution_count": null,
   "metadata": {},
   "outputs": [],
   "source": [
    "nums = [95,4,6,1,5]\n",
    "sum1 = 100\n",
    "h = {}\n",
    "for i, num in enumerate(nums):\n",
    "    n = sum1 - num\n",
    "    if n not in h:\n",
    "        h[num] = i\n",
    "    else:\n",
    "        print([h[n], i])"
   ]
  },
  {
   "cell_type": "code",
   "execution_count": null,
   "metadata": {},
   "outputs": [],
   "source": [
    "from itertools import combinations\n",
    "from functools import reduce\n",
    "from operator import add\n",
    "\n",
    "nums = [95,4,6,1,5]\n",
    "sum1 = 100\n",
    "for i in range(1,len(nums)):\n",
    "    x = list(combinations(nums, i))\n",
    "    for y in x:\n",
    "        if reduce(add, y) == sum1:\n",
    "            print([nums.index(v) for v in y])\n",
    "            "
   ]
  },
  {
   "cell_type": "raw",
   "metadata": {},
   "source": [
    "If a, b, c, d are postive integers with sum of 63,\n",
    "What is maximum value of ab + bc + cd?"
   ]
  },
  {
   "cell_type": "code",
   "execution_count": null,
   "metadata": {},
   "outputs": [],
   "source": [
    "from itertools import permutations\n",
    "from operator import add,mul\n",
    "from functools import reduce\n",
    "\n",
    "a = 1 \n",
    "b = 30 \n",
    "c = 31 \n",
    "d = 1\n",
    "lst = [a, b, c, d]\n",
    "result = list(permutations(lst, 2))\n",
    "reduce(add, [mul(*i) for i in result[::4]])\n",
    "    "
   ]
  },
  {
   "cell_type": "raw",
   "metadata": {},
   "source": [
    "If a, b, c, d are postive integers with sum of random number,\n",
    "What is maximum value of ab + bc + cd?"
   ]
  },
  {
   "cell_type": "code",
   "execution_count": null,
   "metadata": {},
   "outputs": [],
   "source": [
    "from itertools import permutations\n",
    "from operator import add,mul\n",
    "from functools import reduce\n",
    "from random import randint\n",
    "\n",
    "\n",
    "lst = a, b, c, d = [ randint(1,10) for i in range(4)]\n",
    "result = list(permutations(lst, 2))\n",
    "reduce(add, [mul(*i) for i in result[::4]])\n",
    "    "
   ]
  },
  {
   "cell_type": "raw",
   "metadata": {},
   "source": [
    "Assign 7 colors to 5 weekdays, i.e., excluding weekends. \n",
    "What will be the color after 35 days? \n",
    "Colors: blue, green, pink, red, orange, purple, black"
   ]
  },
  {
   "cell_type": "code",
   "execution_count": null,
   "metadata": {},
   "outputs": [],
   "source": [
    "colors = ['blue', 'green', 'pink', 'red', 'orange', 'purple', 'black']\n",
    "day = colors*5\n",
    "day[-1]"
   ]
  },
  {
   "cell_type": "markdown",
   "metadata": {},
   "source": [
    "### **How to convert int all number elements?**"
   ]
  },
  {
   "cell_type": "code",
   "execution_count": null,
   "metadata": {},
   "outputs": [],
   "source": [
    "num = (1, 1.0, 2, 2.4, 5, '6', 7, 3,4)\n",
    "\n",
    "[int(i) for i in num]"
   ]
  },
  {
   "cell_type": "code",
   "execution_count": null,
   "metadata": {},
   "outputs": [],
   "source": [
    "list(map(int, num))"
   ]
  },
  {
   "cell_type": "markdown",
   "metadata": {},
   "source": [
    "### **Check whether the list of words \"not\" exist \"in\" lines**"
   ]
  },
  {
   "cell_type": "code",
   "execution_count": 271,
   "metadata": {},
   "outputs": [
    {
     "name": "stdout",
     "output_type": "stream",
     "text": [
      "Joseph, Watson\n"
     ]
    }
   ],
   "source": [
    "%%python3\n",
    "\n",
    "words = ['Jack', 'Joseph', 'Ronald', 'Watson', 'Boston', 'Naomi']\n",
    "lines = \"\"\" Jack is maried with Jessy, \n",
    "they have 3 children Ronald Boston and \n",
    "Naomi and Harold is the last one \"\"\"\n",
    "\n",
    "print(*[i for i in words if i  not in lines], sep = ', ')"
   ]
  },
  {
   "cell_type": "markdown",
   "metadata": {},
   "source": [
    "### **Check whether the list of words exist \"in\" lines**"
   ]
  },
  {
   "cell_type": "code",
   "execution_count": 269,
   "metadata": {},
   "outputs": [
    {
     "name": "stdout",
     "output_type": "stream",
     "text": [
      "Jack, Ronald, Boston, Naomi\n"
     ]
    }
   ],
   "source": [
    "%%python3\n",
    "\n",
    "words = ['Jack', 'Joseph', 'Ronald', 'Watson', 'Boston', 'Naomi']\n",
    "lines = \"\"\" Jack is maried with Jessy, \n",
    "they have 3 children Ronald Boston and \n",
    "Naomi and Harold is the last one \"\"\"\n",
    "\n",
    "print(*[i for i in words if i  in lines], sep = ', ')"
   ]
  },
  {
   "cell_type": "markdown",
   "metadata": {},
   "source": [
    "### **How to compare two files?**"
   ]
  },
  {
   "cell_type": "code",
   "execution_count": null,
   "metadata": {},
   "outputs": [],
   "source": [
    "%%python3\n",
    "\n",
    "from difflib import Differ\n",
    "from pathlib import Path\n",
    "\n",
    "P = Path('/home/mana/Work/')\n",
    "f1 = (P/'file1.txt').read_text().splitlines()\n",
    "f2 = (P/'file2.txt').read_text().splitlines()\n",
    "\n",
    "diff = Differ().compare(f1,f2)\n",
    "print(*diff, sep = '\\n')"
   ]
  },
  {
   "cell_type": "code",
   "execution_count": null,
   "metadata": {},
   "outputs": [],
   "source": [
    "%%bash\n",
    "\n",
    "diff -c /home/mana/Work/{file1.txt,file2.txt}"
   ]
  },
  {
   "cell_type": "code",
   "execution_count": null,
   "metadata": {},
   "outputs": [],
   "source": [
    "%%bash\n",
    "\n",
    "diff -y -w /home/mana/Work/{file1.txt,file2.txt}"
   ]
  },
  {
   "cell_type": "code",
   "execution_count": null,
   "metadata": {},
   "outputs": [],
   "source": [
    "what public, protected, private in Python ?"
   ]
  },
  {
   "cell_type": "markdown",
   "metadata": {},
   "source": [
    "### **How to check two files content same or not?**"
   ]
  },
  {
   "cell_type": "code",
   "execution_count": 80,
   "metadata": {},
   "outputs": [
    {
     "name": "stdout",
     "output_type": "stream",
     "text": [
      "Both files contents are not same.\n"
     ]
    }
   ],
   "source": [
    "%%python3\n",
    "\n",
    "from pathlib import Path\n",
    "from filecmp import cmp\n",
    "\n",
    "P = Path('/home/mana/Work/')\n",
    "f1 = (P/'file1.txt')\n",
    "f2 = (P/'file2.txt')\n",
    "\n",
    "if cmp(f1,f2):\n",
    "    print(\"Both files contents are same.\")\n",
    "else:\n",
    "    print(\"Both files contents are not same.\")"
   ]
  },
  {
   "cell_type": "code",
   "execution_count": 78,
   "metadata": {},
   "outputs": [
    {
     "name": "stdout",
     "output_type": "stream",
     "text": [
      "Both files contents are not same.\n"
     ]
    }
   ],
   "source": [
    "%%bash\n",
    "\n",
    "cmp /home/mana/Work/{file1.txt,file2.txt} &> /dev/null \\\n",
    "&& echo \"Both files contents are same.\" \\\n",
    "|| echo \"Both files contents are not same.\""
   ]
  },
  {
   "cell_type": "code",
   "execution_count": null,
   "metadata": {},
   "outputs": [],
   "source": []
  }
 ],
 "metadata": {
  "kernelspec": {
   "display_name": "Python 3",
   "language": "python",
   "name": "python3"
  },
  "language_info": {
   "codemirror_mode": {
    "name": "ipython",
    "version": 3
   },
   "file_extension": ".py",
   "mimetype": "text/x-python",
   "name": "python",
   "nbconvert_exporter": "python",
   "pygments_lexer": "ipython3",
   "version": "3.6.9"
  }
 },
 "nbformat": 4,
 "nbformat_minor": 4
}
