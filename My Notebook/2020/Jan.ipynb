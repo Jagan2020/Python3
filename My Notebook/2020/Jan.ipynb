{
 "cells": [
  {
   "cell_type": "markdown",
   "metadata": {},
   "source": [
    "### **Assgiment arguments in Dictionary**"
   ]
  },
  {
   "cell_type": "code",
   "execution_count": null,
   "metadata": {},
   "outputs": [],
   "source": [
    "\n",
    "dict(A=1, B=2, C=3)"
   ]
  },
  {
   "cell_type": "markdown",
   "metadata": {},
   "source": [
    "### ping"
   ]
  },
  {
   "cell_type": "code",
   "execution_count": null,
   "metadata": {},
   "outputs": [],
   "source": [
    "from subprocess import check_output\n",
    "\n",
    "def ping(ip):\n",
    "    cmd = 'ping '+ ip + ' -c 2'\n",
    "    out = check_output(cmd.split()).decode()\n",
    "    \n",
    "    if 'bytes from' in out:\n",
    "        return ip\n",
    "    elif 'Destination Most Unreachable':\n",
    "        return 'Down'\n",
    "    else:\n",
    "        return 'Unknown'\n",
    "            \n",
    "ping('google.com')"
   ]
  },
  {
   "cell_type": "code",
   "execution_count": null,
   "metadata": {},
   "outputs": [],
   "source": [
    "%%bash\n",
    "\n",
    "while read name\n",
    "do \n",
    "echo -n \"$name-->\"\n",
    "(curl -Is $name | grep -i \"location\" &> /dev/null) && echo \"host Up\" || echo \"host down\" \n",
    "done < /home/mana/Work/hosts.txt\n"
   ]
  },
  {
   "cell_type": "markdown",
   "metadata": {},
   "source": [
    "### How to check if ICMP blocking is enabled in a system?\n"
   ]
  },
  {
   "cell_type": "code",
   "execution_count": null,
   "metadata": {},
   "outputs": [],
   "source": [
    "%%bash\n",
    "\n",
    "value=$(cat /proc/sys/net/ipv4/icmp_echo_ignore_all)\n",
    "\n",
    "if (($value == 0))\n",
    "then\n",
    "echo \"ICMP protocol enabled.\"\n",
    "else\n",
    "echo \"ICMP protocol disabled.\"\n",
    "fi"
   ]
  },
  {
   "cell_type": "code",
   "execution_count": null,
   "metadata": {},
   "outputs": [],
   "source": [
    "%%python3\n",
    "\n",
    "from pathlib import Path\n",
    "\n",
    "value = Path('/proc/sys/net/ipv4/icmp_echo_ignore_all').read_text()\n",
    "\n",
    "if int(value) == 0:\n",
    "    print(\"ICMP protocol enabled.\")\n",
    "else:\n",
    "    print('\"ICMP protocol disabled.\"')\n",
    "    "
   ]
  },
  {
   "cell_type": "markdown",
   "metadata": {},
   "source": [
    "### Making the program repeat after typing the incorrect password"
   ]
  },
  {
   "cell_type": "code",
   "execution_count": null,
   "metadata": {},
   "outputs": [],
   "source": [
    "passwd = 'correct'\n",
    "usr_passwd = input('Enter Password: ')\n",
    "while passwd != usr_passwd:\n",
    "    print(\"Sorry, your password is 'incorrect'!\")\n",
    "    usr_passwd = input('Enter Password Again: ')\n",
    "else:\n",
    "    print('Password Correct.')"
   ]
  },
  {
   "cell_type": "markdown",
   "metadata": {},
   "source": [
    "### How to check module installed or not?"
   ]
  },
  {
   "cell_type": "code",
   "execution_count": null,
   "metadata": {},
   "outputs": [],
   "source": [
    "try:\n",
    "    import numpy \n",
    "except ModuleNotFoundError as p:\n",
    "    print(p,'Install Module.')\n",
    "else:\n",
    "    print('Already module installed.')"
   ]
  },
  {
   "cell_type": "code",
   "execution_count": null,
   "metadata": {},
   "outputs": [],
   "source": [
    "try:\n",
    "    import keras\n",
    "except ModuleNotFoundError as p:\n",
    "    print(p, 'Install Module.')\n",
    "else:\n",
    "    print('Already module installed.')"
   ]
  },
  {
   "cell_type": "markdown",
   "metadata": {},
   "source": [
    "### How to get the type of exception?\n"
   ]
  },
  {
   "cell_type": "code",
   "execution_count": null,
   "metadata": {},
   "outputs": [],
   "source": [
    "import sys\n",
    "try:\n",
    "    6+'6'\n",
    "except:\n",
    "    print(sys.exc_info()[0])"
   ]
  },
  {
   "cell_type": "markdown",
   "metadata": {},
   "source": [
    "### How to remove all special characters in this string?"
   ]
  },
  {
   "cell_type": "code",
   "execution_count": null,
   "metadata": {},
   "outputs": [],
   "source": [
    "import re\n",
    "\n",
    "st = '''<li class=\"pass\">'+line+'</li>'''\n",
    "re.sub(r'\\W',' ',st).split()"
   ]
  },
  {
   "cell_type": "markdown",
   "metadata": {},
   "source": [
    "### How to create simple Tamil Dictionary using Python?"
   ]
  },
  {
   "cell_type": "code",
   "execution_count": null,
   "metadata": {},
   "outputs": [],
   "source": [
    "word = {'banana':'வாழைப்பழம',\n",
    "            'milk':'பால்',\n",
    "            'water':'நீர்',\n",
    "            'rice':'சாதம',\n",
    "            'coffee':'காப்பி',\n",
    "            'fish':'மீன்',\n",
    "            'meat':'இறைச்சி',  \n",
    "            'fruit': 'பழம',\n",
    "            'chicken':'கோழி',\n",
    "            'tommato':'தக்காளி'}\n",
    "\n",
    "inp = input('Enter Word:')\n",
    "if inp in word:\n",
    "    print('{} means {}'.format(inp.title(),word[inp]))\n",
    "else:\n",
    "    print('Word not fonud')"
   ]
  },
  {
   "cell_type": "markdown",
   "metadata": {},
   "source": [
    "### Format string"
   ]
  },
  {
   "cell_type": "code",
   "execution_count": null,
   "metadata": {},
   "outputs": [],
   "source": [
    "%%python3\n",
    "\n",
    "app = 2\n",
    "man = 3\n",
    "orgn = 5 \n",
    "tot = 50\n",
    "\n",
    "print(f'The cost of {app} apples {man} mangoes and {orgn} oranges is Rs {tot} .')"
   ]
  },
  {
   "cell_type": "code",
   "execution_count": null,
   "metadata": {},
   "outputs": [],
   "source": [
    "%%bash\n",
    "\n",
    "app=2\n",
    "man=3\n",
    "orgn=5 \n",
    "tot=50\n",
    "\n",
    "echo \"The cost of ${app} apples ${man} mangoes and ${orgn} oranges is Rs ${tot} .\""
   ]
  },
  {
   "cell_type": "markdown",
   "metadata": {},
   "source": [
    "### factorial"
   ]
  },
  {
   "cell_type": "code",
   "execution_count": null,
   "metadata": {},
   "outputs": [],
   "source": [
    "n = 23\n",
    "fact = 1\n",
    "  \n",
    "for i in range(1,n+1): \n",
    "    fact = fact * i \n",
    "      \n",
    "print (\"The factorial of 23 is : \",end=\"\") \n",
    "print (fact) "
   ]
  },
  {
   "cell_type": "code",
   "execution_count": null,
   "metadata": {},
   "outputs": [],
   "source": [
    "import math \n",
    "\n",
    "print ('23!- ',math.factorial(23)) "
   ]
  },
  {
   "cell_type": "markdown",
   "metadata": {},
   "source": [
    "### How to count the all zero at the last of a factorial number?"
   ]
  },
  {
   "cell_type": "code",
   "execution_count": null,
   "metadata": {},
   "outputs": [],
   "source": [
    "import math \n",
    "\n",
    "print (math.factorial(23)) "
   ]
  },
  {
   "cell_type": "code",
   "execution_count": null,
   "metadata": {},
   "outputs": [],
   "source": [
    "import math \n",
    "import re\n",
    "\n",
    "fact = str(math.factorial(23))\n",
    "last = re.findall(r'[1-9]0*$',fact)\n",
    "len(re.sub(r'^.','',last[0]))"
   ]
  },
  {
   "cell_type": "markdown",
   "metadata": {},
   "source": [
    "### **How to remove empty space in list?**"
   ]
  },
  {
   "cell_type": "markdown",
   "metadata": {},
   "source": [
    "##### Method:1"
   ]
  },
  {
   "cell_type": "code",
   "execution_count": null,
   "metadata": {},
   "outputs": [],
   "source": [
    "lst = [' ','Python', ' ', '2020']\n",
    "[i for i in lst if i != ' ' ]"
   ]
  },
  {
   "cell_type": "markdown",
   "metadata": {},
   "source": [
    "##### Method:2"
   ]
  },
  {
   "cell_type": "code",
   "execution_count": null,
   "metadata": {},
   "outputs": [],
   "source": [
    "lst = [' ','Python', ' ', '2020']\n",
    "[i for i in lst if not i.isspace() ]"
   ]
  },
  {
   "cell_type": "markdown",
   "metadata": {},
   "source": [
    "##### Method:3"
   ]
  },
  {
   "cell_type": "code",
   "execution_count": null,
   "metadata": {},
   "outputs": [],
   "source": [
    "import re\n",
    "\n",
    "lst = [' ','Python', ' ', '2020']\n",
    "[i for i in lst if re.match(r'^\\w',i)]"
   ]
  },
  {
   "cell_type": "markdown",
   "metadata": {},
   "source": [
    "### **How to list Built-In-Exceptions Error?**"
   ]
  },
  {
   "cell_type": "code",
   "execution_count": null,
   "metadata": {},
   "outputs": [],
   "source": [
    "import re\n",
    "\n",
    "match = re.findall(r'^[AZ].*[EW]', ' '.join(dir(__builtins__)))\n",
    "match_splt = match[0].split()\n",
    "extra = ['False', 'True', 'None', 'Ellipsis']\n",
    "final = sorted(list(set(match_splt) - set(extra)))\n",
    "\n",
    "for i,j,k in zip(*[iter(final)] *3):\n",
    "    print('{:<25} {:<20} {:<20}'.format(i, j, k))\n"
   ]
  },
  {
   "cell_type": "markdown",
   "metadata": {},
   "source": [
    "### **Standard errno system table**"
   ]
  },
  {
   "cell_type": "markdown",
   "metadata": {},
   "source": [
    "#### **To translate a numeric error code to an error message**"
   ]
  },
  {
   "cell_type": "code",
   "execution_count": null,
   "metadata": {},
   "outputs": [],
   "source": [
    "import errno\n",
    "import os\n",
    "\n",
    "print('{:<10} {:^14} {:>15}'.format('Error-Code','Error-Symbol','Error-Message'))\n",
    "print('-'*50)\n",
    "for x,y in sorted(errno.errorcode.items()):\n",
    "    print('{}  {:^20} {:<35}'.format(x, y, os.strerror(x)))"
   ]
  },
  {
   "cell_type": "markdown",
   "metadata": {},
   "source": [
    "### **Password Validation**\n"
   ]
  },
  {
   "cell_type": "raw",
   "metadata": {},
   "source": [
    "The password is vaild if it has at minimum 2 numbers and \n",
    "2 following of special characters and a length of at least 7 charcters."
   ]
  },
  {
   "cell_type": "code",
   "execution_count": null,
   "metadata": {},
   "outputs": [],
   "source": [
    "import re\n",
    "st = 'mk$*als^r73'\n",
    "\n",
    "if len(st) >= 7 and len(re.findall(r'\\W{2,}',st)) and len(re.findall(r'\\d{2,}',st)):\n",
    "    print('Vaild')\n",
    "else:\n",
    "    print('Not Vaild')\n"
   ]
  },
  {
   "cell_type": "markdown",
   "metadata": {},
   "source": [
    "### **How to use 'and', 'None'?**"
   ]
  },
  {
   "cell_type": "code",
   "execution_count": null,
   "metadata": {},
   "outputs": [],
   "source": [
    "st = 'Mana'\n",
    "if len(st) >= 7 and 0:\n",
    "    print('Correct')\n",
    "else:\n",
    "    print('Wrong')\n"
   ]
  },
  {
   "cell_type": "code",
   "execution_count": null,
   "metadata": {},
   "outputs": [],
   "source": [
    "st = 'Manavalan'\n",
    "if len(st) >= 7 and 1:\n",
    "    print('Correct')\n",
    "else:\n",
    "    print('Wrong')\n"
   ]
  },
  {
   "cell_type": "markdown",
   "metadata": {},
   "source": [
    "### **Check whether a directory is empty or not**"
   ]
  },
  {
   "cell_type": "code",
   "execution_count": null,
   "metadata": {},
   "outputs": [],
   "source": [
    "%%python3\n",
    "\n",
    "from pathlib import Path \n",
    "\n",
    "p = Path('/home/mana/Documents')\n",
    "if len([*p.glob('*')]):\n",
    "    print(p,'is not empty.')\n",
    "else:\n",
    "    print(p,'is empty.')"
   ]
  },
  {
   "cell_type": "code",
   "execution_count": null,
   "metadata": {},
   "outputs": [],
   "source": [
    "%%bash\n",
    "\n",
    "find /home/mana/Documents -type d -empty -exec echo {} is empty. \\;"
   ]
  },
  {
   "cell_type": "markdown",
   "metadata": {},
   "source": [
    "### **Evaluate expression in single line**"
   ]
  },
  {
   "cell_type": "code",
   "execution_count": null,
   "metadata": {},
   "outputs": [],
   "source": [
    "%%bash\n",
    "\n",
    "((0 <= 40 && 40 <= 100 )) && echo 'Vaild' || echo 'Not Vaild'"
   ]
  },
  {
   "cell_type": "code",
   "execution_count": null,
   "metadata": {},
   "outputs": [],
   "source": [
    "%%python3\n",
    "\n",
    "print('valid' if 0 <= 40 <=100 else 'Not Valid')"
   ]
  },
  {
   "cell_type": "markdown",
   "metadata": {},
   "source": [
    "### **Dictionary setdefault method** "
   ]
  },
  {
   "cell_type": "code",
   "execution_count": null,
   "metadata": {},
   "outputs": [],
   "source": [
    "name = 'Manavalan'\n",
    "d = {}\n",
    "for i in name:\n",
    "    d.setdefault(i, []).append(i)\n",
    "d"
   ]
  },
  {
   "cell_type": "markdown",
   "metadata": {},
   "source": [
    "### **Dictionary get method**"
   ]
  },
  {
   "cell_type": "code",
   "execution_count": null,
   "metadata": {},
   "outputs": [],
   "source": [
    "name = 'Manavalan'\n",
    "d = {}\n",
    "for i in name:\n",
    "    d[i] = d.get(i,0)+1\n",
    "d"
   ]
  },
  {
   "cell_type": "markdown",
   "metadata": {},
   "source": [
    "### **Most common character**"
   ]
  },
  {
   "cell_type": "code",
   "execution_count": null,
   "metadata": {},
   "outputs": [],
   "source": [
    "name = 'Manavalan'\n",
    "d = {}\n",
    "for i in name:\n",
    "    d[i] = d.get(i,0)+1\n",
    "sorted(d.items(), key = lambda x: x[1])[-1]"
   ]
  },
  {
   "cell_type": "code",
   "execution_count": null,
   "metadata": {},
   "outputs": [],
   "source": [
    "from collections import Counter\n",
    "\n",
    "name = 'Manavalan'\n",
    "Counter(name).most_common(1)"
   ]
  },
  {
   "cell_type": "markdown",
   "metadata": {},
   "source": [
    "### **How to create tail command using Python?**"
   ]
  },
  {
   "cell_type": "code",
   "execution_count": null,
   "metadata": {},
   "outputs": [],
   "source": [
    "from collections import deque\n",
    "from pathlib import Path\n",
    "\n",
    "lines = Path('/etc/passwd').read_text().splitlines()\n",
    "print(*deque(lines, 4), sep = '\\n')"
   ]
  },
  {
   "cell_type": "code",
   "execution_count": null,
   "metadata": {},
   "outputs": [],
   "source": [
    "!tail -4 /etc/passwd"
   ]
  },
  {
   "cell_type": "markdown",
   "metadata": {},
   "source": [
    "### **How to generate 5 random numbers?**"
   ]
  },
  {
   "cell_type": "code",
   "execution_count": null,
   "metadata": {},
   "outputs": [],
   "source": [
    "from collections import deque\n",
    "import random\n",
    "\n",
    "lst = [random.randint(0, 100) for _ in range(20)]\n",
    "deque(lst, 5)"
   ]
  },
  {
   "cell_type": "markdown",
   "metadata": {},
   "source": [
    "### **How to find inode number of file?**"
   ]
  },
  {
   "cell_type": "code",
   "execution_count": null,
   "metadata": {},
   "outputs": [],
   "source": [
    "%%python3\n",
    "\n",
    "import os\n",
    "\n",
    "file = '/home/mana/Work/user.csv'\n",
    "print(os.stat(file).st_ino, file)"
   ]
  },
  {
   "cell_type": "code",
   "execution_count": null,
   "metadata": {},
   "outputs": [],
   "source": [
    "!ls -i /home/mana/Work/user.csv"
   ]
  },
  {
   "cell_type": "markdown",
   "metadata": {},
   "source": [
    "### **How to make dictionary from keyword args?**"
   ]
  },
  {
   "cell_type": "code",
   "execution_count": null,
   "metadata": {},
   "outputs": [],
   "source": [
    "dict(a=1, b=2, c=3)"
   ]
  },
  {
   "cell_type": "markdown",
   "metadata": {},
   "source": [
    "### **How Jio validate days?**\n",
    "> 'This is One Month Plan'"
   ]
  },
  {
   "cell_type": "code",
   "execution_count": null,
   "metadata": {},
   "outputs": [],
   "source": [
    "from datetime import datetime\n",
    "\n",
    "recharge_date = '10-12-2019'\n",
    "diff = datetime.now() - datetime.strptime(recharge_date,\"%d-%m-%Y\")\n",
    "print(diff.days, 'days.')"
   ]
  },
  {
   "cell_type": "markdown",
   "metadata": {},
   "source": [
    "### **How to check whether systemd or init?**"
   ]
  },
  {
   "cell_type": "code",
   "execution_count": null,
   "metadata": {},
   "outputs": [],
   "source": [
    "%%python3\n",
    "\n",
    "from pathlib import Path\n",
    "\n",
    "pro = Path('/proc/1/status').read_text().splitlines()[0]\n",
    "if pro.split()[1] == 'systemd':\n",
    "    print('This is systemd system.')\n",
    "else:\n",
    "    print('This is init system.')"
   ]
  },
  {
   "cell_type": "code",
   "execution_count": null,
   "metadata": {},
   "outputs": [],
   "source": [
    "%%bash\n",
    "\n",
    "awk '/Name:/ {if ($2 == \"systemd.\") print \"systemd\"; else print \"initd.\"}' \\\n",
    "/proc/1/status"
   ]
  },
  {
   "cell_type": "markdown",
   "metadata": {},
   "source": [
    "### **10 Most Frequently Used Linux commands**"
   ]
  },
  {
   "cell_type": "code",
   "execution_count": null,
   "metadata": {},
   "outputs": [],
   "source": [
    "from collections import Counter\n",
    "from pathlib import Path\n",
    "from os import environ\n",
    "\n",
    "home = environ['HOME']\n",
    "lines = Path(home+'/.bash_history').read_text().splitlines()\n",
    "commands = [x.split()[0] for x in lines if x]\n",
    "result = Counter(commands).most_common(10)\n",
    "\n",
    "for i,j in result:\n",
    "    print(f'{i:10} {j}') "
   ]
  },
  {
   "cell_type": "code",
   "execution_count": null,
   "metadata": {},
   "outputs": [],
   "source": [
    "from pathlib import Path\n",
    "from os import environ\n",
    "\n",
    "dcommand = {}\n",
    "home = environ['HOME']\n",
    "lines = Path(home+'/.bash_history').read_text().splitlines()\n",
    "for x in lines:\n",
    "    if x:\n",
    "        splt = x.split()[0]\n",
    "        dcommand[splt] = dcommand.get(splt, 0)+1\n",
    "\n",
    "result = sorted(dcommand.items(), key = lambda x: x[1], reverse = True)[0:10]\n",
    "for i,j in result:\n",
    "    print(f'{i:10} {j}')"
   ]
  },
  {
   "cell_type": "code",
   "execution_count": null,
   "metadata": {},
   "outputs": [],
   "source": [
    "from collections import Counter\n",
    "from os import environ\n",
    "from re import findall\n",
    "\n",
    "home = environ['HOME']\n",
    "compose = findall(r'.*', open(home+'/.bash_history').read())\n",
    "commands = [x.split()[0] for x in compose if x]\n",
    "result = Counter(commands).most_common(10)\n",
    "for i,j in result:\n",
    "    print(f'{i:10} {j}')"
   ]
  },
  {
   "cell_type": "markdown",
   "metadata": {},
   "source": [
    "### **Read file in single line code**"
   ]
  },
  {
   "cell_type": "code",
   "execution_count": null,
   "metadata": {},
   "outputs": [],
   "source": [
    "open('/home/mana/Work/user.txt').read()\n"
   ]
  },
  {
   "cell_type": "code",
   "execution_count": null,
   "metadata": {},
   "outputs": [],
   "source": [
    "open('/home/mana/Work/user.txt').readlines()"
   ]
  },
  {
   "cell_type": "markdown",
   "metadata": {},
   "source": [
    "### **How to split lines in a file?**"
   ]
  },
  {
   "cell_type": "code",
   "execution_count": null,
   "metadata": {},
   "outputs": [],
   "source": [
    "list(map(str.split, open('/home/mana/Work/user.txt').readlines()))\n",
    "open('/home/mana/Work/user.txt').close()"
   ]
  },
  {
   "cell_type": "markdown",
   "metadata": {},
   "source": [
    "### **How to remove empty elements?**"
   ]
  },
  {
   "cell_type": "code",
   "execution_count": null,
   "metadata": {},
   "outputs": [],
   "source": [
    "lst = [3, 'M', '', 'B', 78, 0]\n",
    "list(filter(lambda x: x  != '', lst))"
   ]
  },
  {
   "cell_type": "code",
   "execution_count": null,
   "metadata": {},
   "outputs": [],
   "source": [
    "lst = [3, 'M', '', 'B', 78, 0]\n",
    "[x for x in lst if x  != '']"
   ]
  },
  {
   "cell_type": "markdown",
   "metadata": {},
   "source": [
    "### **How to find longest word in file?**\n",
    "\n",
    "if two or more words are same length, it print first occurance word only."
   ]
  },
  {
   "cell_type": "code",
   "execution_count": null,
   "metadata": {},
   "outputs": [],
   "source": [
    "max(open('/home/mana/Work/fruit2.txt').read().split(), key=len)"
   ]
  },
  {
   "cell_type": "markdown",
   "metadata": {},
   "source": [
    "### **How to find longest line in a file?**"
   ]
  },
  {
   "cell_type": "code",
   "execution_count": null,
   "metadata": {},
   "outputs": [],
   "source": [
    "!cat /home/mana/Work/fruit2.txt"
   ]
  },
  {
   "cell_type": "code",
   "execution_count": null,
   "metadata": {},
   "outputs": [],
   "source": [
    "%%bash\n",
    "\n",
    "awk '{print length, $0}' /home/mana/Work/fruit2.txt | sort -nr | head -1"
   ]
  },
  {
   "cell_type": "code",
   "execution_count": null,
   "metadata": {},
   "outputs": [],
   "source": [
    "%%python3\n",
    "\n",
    "print(max(open('/home/mana/Work/fruit2.txt'), key=len))"
   ]
  },
  {
   "cell_type": "markdown",
   "metadata": {},
   "source": [
    "### **How to generate HTML file?**"
   ]
  },
  {
   "cell_type": "code",
   "execution_count": null,
   "metadata": {},
   "outputs": [],
   "source": [
    "with open(\"/home/mana/Work/file.html\", \"w\") as f:\n",
    "    str = '<html>'\n",
    "    str += '\\n <body>'\n",
    "    str += '\\n <svg width=\"100\" height=\"100\">'\n",
    "    str += '\\n <circle cx=\"50\" cy=\"50\" r=\"40\" stroke=\"green\" stroke-width=\"4\" fill=\"yellow\" />'\n",
    "    str += '\\n </svg>'\n",
    "    str += '\\n </body>'\n",
    "    str += '\\n</html>'\n",
    "    f.write(str)"
   ]
  },
  {
   "cell_type": "markdown",
   "metadata": {},
   "source": [
    "### **How many times split in the line?**\n",
    "\n",
    "Default it split each space."
   ]
  },
  {
   "cell_type": "code",
   "execution_count": null,
   "metadata": {},
   "outputs": [],
   "source": [
    "st = 'I am a beginner.'\n",
    "\n",
    "f'{len(st.split())-1} times'"
   ]
  },
  {
   "cell_type": "markdown",
   "metadata": {},
   "source": [
    "### **How to find size of file?**"
   ]
  },
  {
   "cell_type": "markdown",
   "metadata": {},
   "source": [
    "#### python3"
   ]
  },
  {
   "cell_type": "code",
   "execution_count": null,
   "metadata": {},
   "outputs": [],
   "source": [
    "from pathlib import Path\n",
    "import bisect\n",
    "\n",
    "#size = [1, 1e+3, 1e+6, 1e+9]\n",
    "size = [1, 2**10, 2**20, 2**30]\n",
    "unit = ['B', 'K', 'M', 'G']\n",
    "fpath = input('Enter file name: ') \n",
    "fsize = Path(fpath).stat().st_size\n",
    "\n",
    "def convert(byts):\n",
    "    if byts != 0:\n",
    "        index = bisect.bisect(size, byts) -1\n",
    "        return f'{byts/size[index]:.1f}{unit[index]}'\n",
    "    else: \n",
    "        return '0B'\n",
    "print(f'{convert(fsize)} {fpath}')"
   ]
  },
  {
   "cell_type": "code",
   "execution_count": null,
   "metadata": {},
   "outputs": [],
   "source": [
    "%%bash\n",
    "\n",
    "ls -1sh /home/mana/Pro-Python-System-Administration.pdf"
   ]
  },
  {
   "cell_type": "markdown",
   "metadata": {},
   "source": [
    "### **Find and Remove files bigger than a specific size and type**\n",
    "Here I remove the files more than 10MB size."
   ]
  },
  {
   "cell_type": "code",
   "execution_count": 259,
   "metadata": {},
   "outputs": [
    {
     "name": "stdout",
     "output_type": "stream",
     "text": [
      "Follwing files are reomoved:\n",
      "The Python 3 Standard Library by Example.pdf\n",
      "Automate-the-boring-stuff-with-python-2015.tar\n",
      "PSYCHEDELIC TRANCE MIX-The Best Of 2017.zip\n"
     ]
    }
   ],
   "source": [
    "%%python3\n",
    "\n",
    "from pathlib import Path\n",
    "    \n",
    "dpath = Path('/home/mana/Work')\n",
    "fsize = [(i,i.stat().st_size) for i in dpath.iterdir() if i.is_file()]\n",
    "\n",
    "print(\"Follwing files are reomoved:\")\n",
    "for x,y in fsize:\n",
    "    if y >= 1e+7 and x.suffix in ['.tar', '.zip', '.pdf']:\n",
    "        print(x.name)\n",
    "        x.unlink()"
   ]
  },
  {
   "cell_type": "code",
   "execution_count": 234,
   "metadata": {},
   "outputs": [
    {
     "name": "stdout",
     "output_type": "stream",
     "text": [
      "Follwing files are reomoved:\n",
      "The Python 3 Standard Library by Example.pdf\n",
      "Automate-the-boring-stuff-with-python-2015.tar\n",
      "PSYCHEDELIC TRANCE MIX-The Best Of 2017.zip\n"
     ]
    }
   ],
   "source": [
    "%%bash\n",
    "\n",
    "echo \"Follwing files are reomoved:\"\n",
    "find /home/mana/Work/ -maxdepth 1 -type f \\\n",
    "\\( -name \"*zip\" -o -name \"*tar\" -o -name \"*pdf\" \\) \\\n",
    "-size +10M -printf \"%f\\n\" -delete"
   ]
  },
  {
   "cell_type": "markdown",
   "metadata": {},
   "source": [
    "### **How to split a list into multiple lists?**"
   ]
  },
  {
   "cell_type": "raw",
   "metadata": {},
   "source": [
    "Expected Output:\n",
    "\n",
    "['CS']\n",
    "['CS-PP']\n",
    "['CS-PP-GE']\n",
    "['CS-PP-GE-RI']\n",
    "['CS-PP-GE-RI-ET']"
   ]
  },
  {
   "cell_type": "code",
   "execution_count": 354,
   "metadata": {},
   "outputs": [
    {
     "name": "stdout",
     "output_type": "stream",
     "text": [
      "['CS']\n",
      "['CS-PP']\n",
      "['CS-PP-GE']\n",
      "['CS-PP-GE-RI']\n",
      "['CS-PP-GE-RI-ET']\n"
     ]
    }
   ],
   "source": [
    "l = 'CS-PP-GE-RI-ET'.split('-')\n",
    "m = [['-'.join(l[0:i+1])] for i in range(len(l))]\n",
    "print(*m, sep = '\\n')"
   ]
  },
  {
   "cell_type": "code",
   "execution_count": 355,
   "metadata": {},
   "outputs": [
    {
     "name": "stdout",
     "output_type": "stream",
     "text": [
      "CS\n",
      "CS-PP\n",
      "CS-PP-GE\n",
      "CS-PP-GE-RI\n",
      "CS-PP-GE-RI-ET\n"
     ]
    }
   ],
   "source": [
    "from itertools import accumulate\n",
    "\n",
    "l = 'CS-PP-GE-RI-ET'.split('-')\n",
    "print(*accumulate(l, lambda x, y: '-'.join([x, y])), sep='\\n')"
   ]
  },
  {
   "cell_type": "raw",
   "metadata": {},
   "source": [
    "Replace every instance of 'o' with $ Except the first occurence \n",
    "in the string below:\n",
    "\n",
    "'Welcome to Python 101'"
   ]
  },
  {
   "cell_type": "code",
   "execution_count": 365,
   "metadata": {},
   "outputs": [
    {
     "data": {
      "text/plain": [
       "'Welcome t$ Pyth$n 101'"
      ]
     },
     "execution_count": 365,
     "metadata": {},
     "output_type": "execute_result"
    }
   ],
   "source": [
    "st = 'Welcome to Python 101'[::-1]\n",
    "st.replace('o','$', 2)[::-1]\n"
   ]
  },
  {
   "cell_type": "code",
   "execution_count": 375,
   "metadata": {},
   "outputs": [
    {
     "data": {
      "text/plain": [
       "'Welcome t$ Pyth$n 101'"
      ]
     },
     "execution_count": 375,
     "metadata": {},
     "output_type": "execute_result"
    }
   ],
   "source": [
    "import re\n",
    "\n",
    "st = 'Welcome to Python 101'[::-1]\n",
    "re.sub(r'o','$', st, count = 2)[::-1]"
   ]
  },
  {
   "cell_type": "raw",
   "metadata": {},
   "source": [
    "Replace every instance of 'o' with $ Except 'o' occurence end of word\n",
    "in the string below:\n",
    "\n",
    "'Welcome to Python 101'"
   ]
  },
  {
   "cell_type": "code",
   "execution_count": 379,
   "metadata": {},
   "outputs": [
    {
     "name": "stdout",
     "output_type": "stream",
     "text": [
      "Welc$me to Pyth$n 101\n"
     ]
    }
   ],
   "source": [
    "%%python3\n",
    "\n",
    "import re\n",
    "\n",
    "st = 'Welcome to Python 101'\n",
    "print(re.sub(r'o\\B','$', st))"
   ]
  },
  {
   "cell_type": "code",
   "execution_count": 381,
   "metadata": {},
   "outputs": [
    {
     "name": "stdout",
     "output_type": "stream",
     "text": [
      "Welc$me to Pyth$n 101\n"
     ]
    }
   ],
   "source": [
    "%%bash\n",
    "\n",
    "echo 'Welcome to Python 101' | sed -rn 's/o\\B/$/gp'"
   ]
  },
  {
   "cell_type": "code",
   "execution_count": 1,
   "metadata": {},
   "outputs": [
    {
     "name": "stdout",
     "output_type": "stream",
     "text": [
      "Bye.\n"
     ]
    }
   ],
   "source": [
    "print('Bye.')"
   ]
  },
  {
   "cell_type": "markdown",
   "metadata": {},
   "source": [
    "## **Emulate df command using python**"
   ]
  },
  {
   "cell_type": "code",
   "execution_count": 12,
   "metadata": {},
   "outputs": [
    {
     "name": "stdout",
     "output_type": "stream",
     "text": [
      "Filesystem             Size      Used      Avail      Mounted-on\n",
      "******************************************************************\n",
      "/dev/sda5               29G       12G       17G       /                   \n",
      "/dev/sda2               83G       4G        79G       /media/mana/DATA    \n"
     ]
    }
   ],
   "source": [
    "from os import statvfs as svfs\n",
    "from pathlib import Path\n",
    "import bisect\n",
    "import re\n",
    "\n",
    "#size = [1, 1e+3, 1e+6, 1e+9]      ## GB\n",
    "size = [1, 2**10, 2**20, 2**30]  ## GiB\n",
    "unit = ['B', 'K', 'M', 'G']\n",
    "mline = Path('/proc/mounts').read_text().splitlines()\n",
    "mdev = [lp.split()[:2] for lp in mline if re.match(r'^/dev/sd[a-z][1-9]', lp)]\n",
    "clt = [(fsl,svfs(mpl)[0]*svfs(mpl)[2],svfs(mpl)[0]*svfs(mpl)[3],mpl) \n",
    "       for fsl, mpl in mdev]\n",
    "\n",
    "def con(byts):\n",
    "    index = bisect.bisect(size, byts)-1\n",
    "    return \"{:.0f}{}\".format(byts/size[index], unit[index])\n",
    "\n",
    "print('{:20} {:^9} {:^9} {:^9} {:>13}'\n",
    "      .format('Filesystem','Size','Used','Avail','Mounted-on'))\n",
    "print('*'*66)\n",
    "for fs in clt:\n",
    "     print('{:20} {:^9} {:^9} {:^9}    {:20}'\n",
    "           .format(fs[0],con(fs[1]),con(fs[1]-fs[2]),con(fs[2]),fs[3]))  "
   ]
  },
  {
   "cell_type": "markdown",
   "metadata": {},
   "source": [
    "### **How many apples to here?**"
   ]
  },
  {
   "cell_type": "code",
   "execution_count": 67,
   "metadata": {},
   "outputs": [
    {
     "data": {
      "text/plain": [
       "2"
      ]
     },
     "execution_count": 67,
     "metadata": {},
     "output_type": "execute_result"
    }
   ],
   "source": [
    "st = 'Apple Orange Mango Apple Banana Orange'\n",
    "st.count('Apple')"
   ]
  },
  {
   "cell_type": "code",
   "execution_count": 54,
   "metadata": {},
   "outputs": [
    {
     "data": {
      "text/plain": [
       "2"
      ]
     },
     "execution_count": 54,
     "metadata": {},
     "output_type": "execute_result"
    }
   ],
   "source": [
    "st = 'Apple Orange Mango Apple Banana Orange'\n",
    "\n",
    "aps = []\n",
    "\n",
    "for i in st.split():\n",
    "    if i == 'Apple':\n",
    "        aps.append(i)\n",
    "len(aps)"
   ]
  },
  {
   "cell_type": "code",
   "execution_count": 58,
   "metadata": {},
   "outputs": [
    {
     "data": {
      "text/plain": [
       "Counter({'Apple': 2, 'Orange': 2, 'Mango': 1, 'Banana': 1})"
      ]
     },
     "execution_count": 58,
     "metadata": {},
     "output_type": "execute_result"
    }
   ],
   "source": [
    "from collections import Counter\n",
    "st = 'Apple Orange Mango Apple Banana Orange'\n",
    "\n",
    "Counter(st.split())"
   ]
  },
  {
   "cell_type": "code",
   "execution_count": null,
   "metadata": {},
   "outputs": [],
   "source": [
    "from collections import defaultdic"
   ]
  },
  {
   "cell_type": "code",
   "execution_count": null,
   "metadata": {},
   "outputs": [],
   "source": [
    "setdefault"
   ]
  },
  {
   "cell_type": "markdown",
   "metadata": {},
   "source": [
    "### How can i get ASCII number of every letter?"
   ]
  },
  {
   "cell_type": "code",
   "execution_count": 66,
   "metadata": {},
   "outputs": [
    {
     "data": {
      "text/plain": [
       "{'A': 65,\n",
       " 'B': 66,\n",
       " 'C': 67,\n",
       " 'D': 68,\n",
       " 'E': 69,\n",
       " 'F': 70,\n",
       " 'G': 71,\n",
       " 'H': 72,\n",
       " 'I': 73,\n",
       " 'J': 74,\n",
       " 'K': 75,\n",
       " 'L': 76,\n",
       " 'M': 77,\n",
       " 'N': 78,\n",
       " 'O': 79,\n",
       " 'P': 80,\n",
       " 'Q': 81,\n",
       " 'R': 82,\n",
       " 'S': 83,\n",
       " 'T': 84,\n",
       " 'U': 85,\n",
       " 'V': 86,\n",
       " 'W': 87,\n",
       " 'X': 88,\n",
       " 'Y': 89,\n",
       " 'Z': 90,\n",
       " 'a': 97,\n",
       " 'b': 98,\n",
       " 'c': 99,\n",
       " 'd': 100,\n",
       " 'e': 101,\n",
       " 'f': 102,\n",
       " 'g': 103,\n",
       " 'h': 104,\n",
       " 'i': 105,\n",
       " 'j': 106,\n",
       " 'k': 107,\n",
       " 'l': 108,\n",
       " 'm': 109,\n",
       " 'n': 110,\n",
       " 'o': 111,\n",
       " 'p': 112,\n",
       " 'q': 113,\n",
       " 'r': 114,\n",
       " 's': 115,\n",
       " 't': 116,\n",
       " 'u': 117,\n",
       " 'v': 118,\n",
       " 'w': 119,\n",
       " 'x': 120,\n",
       " 'y': 121,\n",
       " 'z': 122}"
      ]
     },
     "execution_count": 66,
     "metadata": {},
     "output_type": "execute_result"
    }
   ],
   "source": [
    "from string import ascii_uppercase,ascii_lowercase\n",
    "\n",
    "{i: ord(i) for i  in ascii_uppercase+ascii_lowercase}"
   ]
  },
  {
   "cell_type": "markdown",
   "metadata": {},
   "source": [
    "### **What is output this program?**"
   ]
  },
  {
   "cell_type": "code",
   "execution_count": null,
   "metadata": {},
   "outputs": [],
   "source": [
    "a = 10\n",
    "b = 'z'\n",
    "print(a+b)"
   ]
  },
  {
   "cell_type": "raw",
   "metadata": {},
   "source": [
    "1. 10z\n",
    "2. 10 + 'z'\n",
    "3. Type Error\n",
    "4. a+b"
   ]
  },
  {
   "cell_type": "markdown",
   "metadata": {},
   "source": [
    "### **How to use check_output method in Linux system?**"
   ]
  },
  {
   "cell_type": "code",
   "execution_count": 94,
   "metadata": {},
   "outputs": [
    {
     "name": "stdout",
     "output_type": "stream",
     "text": [
      "PING 8.8.8.8 (8.8.8.8) 56(84) bytes of data.\n",
      "64 bytes from 8.8.8.8: icmp_seq=1 ttl=52 time=124 ms\n",
      "64 bytes from 8.8.8.8: icmp_seq=2 ttl=52 time=53.1 ms\n",
      "64 bytes from 8.8.8.8: icmp_seq=3 ttl=52 time=41.8 ms\n",
      "\n",
      "--- 8.8.8.8 ping statistics ---\n",
      "3 packets transmitted, 3 received, 0% packet loss, time 2002ms\n",
      "rtt min/avg/max/mdev = 41.814/73.139/124.486/36.600 ms\n"
     ]
    }
   ],
   "source": [
    "%%python3\n",
    "\n",
    "from subprocess import check_output\n",
    "\n",
    "cmd = 'ping -c3 8.8.8.8'\n",
    "print(*check_output(cmd.split()).decode().splitlines(), sep = '\\n')"
   ]
  },
  {
   "cell_type": "markdown",
   "metadata": {},
   "source": [
    "### **How to call function through another function?**"
   ]
  },
  {
   "cell_type": "code",
   "execution_count": 4,
   "metadata": {},
   "outputs": [
    {
     "data": {
      "text/plain": [
       "5"
      ]
     },
     "execution_count": 4,
     "metadata": {},
     "output_type": "execute_result"
    }
   ],
   "source": [
    "def add(a, b):\n",
    "    return a + b\n",
    "\n",
    "def call_add():\n",
    "    return add(3, 2)\n",
    "\n",
    "call_add()"
   ]
  },
  {
   "cell_type": "markdown",
   "metadata": {},
   "source": [
    "### **Print current working directory**"
   ]
  },
  {
   "cell_type": "code",
   "execution_count": 14,
   "metadata": {},
   "outputs": [
    {
     "name": "stdout",
     "output_type": "stream",
     "text": [
      "/home/mana/Code/Month/2020\n",
      "/home/mana/Code/Month/2020\n"
     ]
    }
   ],
   "source": [
    "%%bash\n",
    "\n",
    "pwd\n",
    "\n",
    "## OR ###\n",
    "\n",
    "echo \"$PWD\""
   ]
  },
  {
   "cell_type": "code",
   "execution_count": 11,
   "metadata": {},
   "outputs": [
    {
     "name": "stdout",
     "output_type": "stream",
     "text": [
      "/home/mana/Code/Month/2020\n"
     ]
    }
   ],
   "source": [
    "%%python3\n",
    "\n",
    "import os\n",
    "\n",
    "print(os.getcwd())"
   ]
  },
  {
   "cell_type": "markdown",
   "metadata": {},
   "source": [
    "### **How to format date?**"
   ]
  },
  {
   "cell_type": "code",
   "execution_count": 57,
   "metadata": {},
   "outputs": [
    {
     "name": "stdout",
     "output_type": "stream",
     "text": [
      "714 days\n",
      "2 years\n"
     ]
    }
   ],
   "source": [
    "from datetime import datetime\n",
    "\n",
    "person1_date = '24-12-1984'\n",
    "person1 = datetime.strptime(person1_date, \"%d-%m-%Y\")\n",
    "person2_date = '08-12-1986'\n",
    "person2 = datetime.strptime(person2_date, \"%d-%m-%Y\")\n",
    "\n",
    "print((person2 - person1).days, 'days')\n",
    "print(round((person2 - person1).days/365), 'years')\n",
    "\n"
   ]
  },
  {
   "cell_type": "markdown",
   "metadata": {},
   "source": [
    "### **list of date formats**"
   ]
  },
  {
   "cell_type": "code",
   "execution_count": null,
   "metadata": {},
   "outputs": [],
   "source": [
    "%%bash\n",
    "date --help | grep -Po \"\\s{2}%.*\""
   ]
  },
  {
   "cell_type": "code",
   "execution_count": 94,
   "metadata": {},
   "outputs": [
    {
     "name": "stdout",
     "output_type": "stream",
     "text": [
      "  %%   a literal %\n",
      "  %a   locale's abbreviated weekday name (e.g., Sun)\n",
      "  %A   locale's full weekday name (e.g., Sunday)\n",
      "  %b   locale's abbreviated month name (e.g., Jan)\n",
      "  %B   locale's full month name (e.g., January)\n",
      "  %c   locale's date and time (e.g., Thu Mar  3 23:05:25 2005)\n",
      "  %C   century; like %Y, except omit last two digits (e.g., 20)\n",
      "  %d   day of month (e.g., 01)\n",
      "  %D   date; same as %m/%d/%y\n",
      "  %e   day of month, space padded; same as %_d\n",
      "  %F   full date; same as %Y-%m-%d\n",
      "  %g   last two digits of year of ISO week number (see %G)\n",
      "  %G   year of ISO week number (see %V); normally useful only with %V\n",
      "  %h   same as %b\n",
      "  %H   hour (00..23)\n",
      "  %I   hour (01..12)\n",
      "  %j   day of year (001..366)\n",
      "  %k   hour, space padded ( 0..23); same as %_H\n",
      "  %l   hour, space padded ( 1..12); same as %_I\n",
      "  %m   month (01..12)\n",
      "  %M   minute (00..59)\n",
      "  %n   a newline\n",
      "  %N   nanoseconds (000000000..999999999)\n",
      "  %p   locale's equivalent of either AM or PM; blank if not known\n",
      "  %P   like %p, but lower case\n",
      "  %q   quarter of year (1..4)\n",
      "  %r   locale's 12-hour clock time (e.g., 11:11:04 PM)\n",
      "  %R   24-hour hour and minute; same as %H:%M\n",
      "  %s   seconds since 1970-01-01 00:00:00 UTC\n",
      "  %S   second (00..60)\n",
      "  %t   a tab\n",
      "  %T   time; same as %H:%M:%S\n",
      "  %u   day of week (1..7); 1 is Monday\n",
      "  %U   week number of year, with Sunday as first day of week (00..53)\n",
      "  %V   ISO week number, with Monday as first day of week (01..53)\n",
      "  %w   day of week (0..6); 0 is Sunday\n",
      "  %W   week number of year, with Monday as first day of week (00..53)\n",
      "  %x   locale's date representation (e.g., 12/31/99)\n",
      "  %X   locale's time representation (e.g., 23:13:48)\n",
      "  %y   last two digits of year (00..99)\n",
      "  %Y   year\n",
      "  %z   +hhmm numeric time zone (e.g., -0400)\n",
      "  %:z  +hh:mm numeric time zone (e.g., -04:00)\n",
      "  %::z  +hh:mm:ss numeric time zone (e.g., -04:00:00)\n",
      "  %:::z  numeric time zone with : to necessary precision (e.g., -04, +05:30)\n",
      "  %Z   alphabetic time zone abbreviation (e.g., EDT)\n"
     ]
    }
   ],
   "source": [
    "%%python3\n",
    "\n",
    "from subprocess import check_output\n",
    "from re import findall\n",
    "\n",
    "cmd = 'date --help'\n",
    "out = check_output(cmd.split())\n",
    "print(*findall(r'\\s{2}%.*', out.decode()), sep = '\\n')"
   ]
  },
  {
   "cell_type": "markdown",
   "metadata": {},
   "source": [
    "### **How to create a timer in python?**"
   ]
  },
  {
   "cell_type": "code",
   "execution_count": 175,
   "metadata": {},
   "outputs": [
    {
     "name": "stdout",
     "output_type": "stream",
     "text": [
      "Select seconds:35\n",
      "35\n",
      "0\f",
      "\f",
      "\r"
     ]
    }
   ],
   "source": [
    "from time import sleep\n",
    "sec = int(input('Select seconds:'))\n",
    "print(sec)\n",
    "for t in range(sec,-1,-1):\n",
    "    print(t, end = '\\f\\r')\n",
    "    sleep(1)"
   ]
  },
  {
   "cell_type": "markdown",
   "metadata": {},
   "source": [
    "### **How to use base argument in integer function?**"
   ]
  },
  {
   "cell_type": "markdown",
   "metadata": {},
   "source": [
    "#### **Convert integer from Binary**"
   ]
  },
  {
   "cell_type": "code",
   "execution_count": 206,
   "metadata": {},
   "outputs": [
    {
     "data": {
      "text/plain": [
       "9"
      ]
     },
     "execution_count": 206,
     "metadata": {},
     "output_type": "execute_result"
    }
   ],
   "source": [
    "int('1001', 2)"
   ]
  },
  {
   "cell_type": "markdown",
   "metadata": {},
   "source": [
    "#### **Convert integer from Oct**"
   ]
  },
  {
   "cell_type": "code",
   "execution_count": 207,
   "metadata": {},
   "outputs": [
    {
     "data": {
      "text/plain": [
       "11"
      ]
     },
     "execution_count": 207,
     "metadata": {},
     "output_type": "execute_result"
    }
   ],
   "source": [
    "int('13', 8)"
   ]
  },
  {
   "cell_type": "markdown",
   "metadata": {},
   "source": [
    "#### **Convert integer from Hex**"
   ]
  },
  {
   "cell_type": "code",
   "execution_count": 208,
   "metadata": {},
   "outputs": [
    {
     "data": {
      "text/plain": [
       "79"
      ]
     },
     "execution_count": 208,
     "metadata": {},
     "output_type": "execute_result"
    }
   ],
   "source": [
    "int('4F', 16)"
   ]
  },
  {
   "cell_type": "markdown",
   "metadata": {},
   "source": [
    "### **Checking the Usage of Memory**\n",
    "We can check the amount of memory consumed by each variable."
   ]
  },
  {
   "cell_type": "code",
   "execution_count": 235,
   "metadata": {},
   "outputs": [
    {
     "name": "stdout",
     "output_type": "stream",
     "text": [
      "58\n",
      "28\n",
      "104\n"
     ]
    }
   ],
   "source": [
    "# Example: 1\n",
    "from sys import getsizeof\n",
    "x = 'Manavalan'\n",
    "y = 459\n",
    "z = ['M', 90, 'Chennai', 0, 'Paris']\n",
    "print(getsizeof(x))\n",
    "print(getsizeof(y))\n",
    "print(getsizeof(z))"
   ]
  },
  {
   "cell_type": "code",
   "execution_count": 1,
   "metadata": {},
   "outputs": [
    {
     "name": "stdout",
     "output_type": "stream",
     "text": [
      "3120\n"
     ]
    }
   ],
   "source": [
    "# Example: 2\n",
    "from sys import getsizeof\n",
    "def add(x):\n",
    "    return 5**10000+6+9+x\n",
    "\n",
    "print(getsizeof(add(100000)))"
   ]
  },
  {
   "cell_type": "markdown",
   "metadata": {},
   "source": [
    "### This is sample program to generate function name"
   ]
  },
  {
   "cell_type": "code",
   "execution_count": 49,
   "metadata": {},
   "outputs": [
    {
     "name": "stdout",
     "output_type": "stream",
     "text": [
      "abs\n",
      "Return the absolute value of the argument.\n",
      "**************************************************\n",
      "all\n",
      "Return True if bool(x) is True for all values x in the iterable.\n",
      "\n",
      "If the iterable is empty, return True.\n",
      "**************************************************\n",
      "any\n",
      "Return True if bool(x) is True for any x in the iterable.\n",
      "\n",
      "If the iterable is empty, return False.\n",
      "**************************************************\n"
     ]
    }
   ],
   "source": [
    "import builtins\n",
    "\n",
    "fn = ['abs','all', 'any']\n",
    "\n",
    "for x in fn:\n",
    "    print(x)\n",
    "    print(getattr(builtins, x).__doc__)\n",
    "    print('*'*50)"
   ]
  },
  {
   "cell_type": "markdown",
   "metadata": {},
   "source": [
    "#### Can you explain the code print(int('13',8)) and How to get 11?"
   ]
  },
  {
   "cell_type": "code",
   "execution_count": null,
   "metadata": {},
   "outputs": [],
   "source": [
    "int function has 2 arguments. \n",
    "one argument is string_number value or float value. another one is base.\n",
    "\n",
    "If you convert string_number to integer with base 10(This is ordinary decimal).\n",
    "Dont need mention base.\n",
    "For Example:\n",
    "    int('25')\n",
    "    \n",
    "Suppose if you want convert Binary string_number to integer. \n",
    "You need mention the base is 2.\n",
    "For Example:\n",
    "    int('1001', base = 2)\n",
    "    \n",
    "\n",
    "Suppose if you want convert Octal string_number to integer. \n",
    "You need mention the base is 8.\n",
    "For Example:\n",
    "    int('31', base = 8)\n",
    "    \n",
    "Suppose if you want convert Hex string_number to integer. \n",
    "You need mention the base is 16.\n",
    "For Example:\n",
    "    int('4F', base = 16)"
   ]
  },
  {
   "cell_type": "code",
   "execution_count": 52,
   "metadata": {},
   "outputs": [
    {
     "name": "stdout",
     "output_type": "stream",
     "text": [
      "9\n",
      "11\n",
      "79\n"
     ]
    }
   ],
   "source": [
    "print(int('1001', 2))\n",
    "print(int('13', 8))\n",
    "print(int('4F', 16))\n"
   ]
  },
  {
   "cell_type": "markdown",
   "metadata": {},
   "source": [
    "### Multiple assginments\n",
    "Here, name and age assgine in single line\n",
    "\n",
    "using multiple assignments."
   ]
  },
  {
   "cell_type": "code",
   "execution_count": 54,
   "metadata": {},
   "outputs": [
    {
     "name": "stdout",
     "output_type": "stream",
     "text": [
      "Her name is Jane. she is 22\n"
     ]
    }
   ],
   "source": [
    "name, age = 'Jane', 22\n",
    "print(f'Her name is {name}. she is {age}')"
   ]
  },
  {
   "cell_type": "code",
   "execution_count": null,
   "metadata": {},
   "outputs": [],
   "source": []
  }
 ],
 "metadata": {
  "kernelspec": {
   "display_name": "Python 3",
   "language": "python",
   "name": "python3"
  },
  "language_info": {
   "codemirror_mode": {
    "name": "ipython",
    "version": 3
   },
   "file_extension": ".py",
   "mimetype": "text/x-python",
   "name": "python",
   "nbconvert_exporter": "python",
   "pygments_lexer": "ipython3",
   "version": "3.6.9"
  }
 },
 "nbformat": 4,
 "nbformat_minor": 4
}
