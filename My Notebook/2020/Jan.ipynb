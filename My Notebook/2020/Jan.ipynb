{
 "cells": [
  {
   "cell_type": "markdown",
   "metadata": {},
   "source": [
    "### **Assgiment arguments in Dictionary**"
   ]
  },
  {
   "cell_type": "code",
   "execution_count": null,
   "metadata": {},
   "outputs": [],
   "source": [
    "\n",
    "dict(A=1, B=2, C=3)"
   ]
  },
  {
   "cell_type": "markdown",
   "metadata": {},
   "source": [
    "### ping"
   ]
  },
  {
   "cell_type": "code",
   "execution_count": null,
   "metadata": {},
   "outputs": [],
   "source": [
    "from subprocess import check_output\n",
    "\n",
    "def ping(ip):\n",
    "    cmd = 'ping '+ ip + ' -c 2'\n",
    "    out = check_output(cmd.split()).decode()\n",
    "    \n",
    "    if 'bytes from' in out:\n",
    "        return ip\n",
    "    elif 'Destination Most Unreachable':\n",
    "        return 'Down'\n",
    "    else:\n",
    "        return 'Unknown'\n",
    "            \n",
    "ping('google.com')"
   ]
  },
  {
   "cell_type": "code",
   "execution_count": null,
   "metadata": {},
   "outputs": [],
   "source": [
    "%%bash\n",
    "\n",
    "while read name\n",
    "do \n",
    "echo -n \"$name-->\"\n",
    "(curl -Is $name | grep -i \"location\" &> /dev/null) && echo \"host Up\" || echo \"host down\" \n",
    "done < /home/mana/Work/hosts.txt\n"
   ]
  },
  {
   "cell_type": "markdown",
   "metadata": {},
   "source": [
    "### How to check if ICMP blocking is enabled in a system?\n"
   ]
  },
  {
   "cell_type": "code",
   "execution_count": null,
   "metadata": {},
   "outputs": [],
   "source": [
    "%%bash\n",
    "\n",
    "value=$(cat /proc/sys/net/ipv4/icmp_echo_ignore_all)\n",
    "\n",
    "if (($value == 0))\n",
    "then\n",
    "echo \"ICMP protocol enabled.\"\n",
    "else\n",
    "echo \"ICMP protocol disabled.\"\n",
    "fi"
   ]
  },
  {
   "cell_type": "code",
   "execution_count": null,
   "metadata": {},
   "outputs": [],
   "source": [
    "%%python3\n",
    "\n",
    "from pathlib import Path\n",
    "\n",
    "value = Path('/proc/sys/net/ipv4/icmp_echo_ignore_all').read_text()\n",
    "\n",
    "if int(value) == 0:\n",
    "    print(\"ICMP protocol enabled.\")\n",
    "else:\n",
    "    print('\"ICMP protocol disabled.\"')\n",
    "    "
   ]
  },
  {
   "cell_type": "markdown",
   "metadata": {},
   "source": [
    "### Making the program repeat after typing the incorrect password"
   ]
  },
  {
   "cell_type": "code",
   "execution_count": null,
   "metadata": {},
   "outputs": [],
   "source": [
    "passwd = 'correct'\n",
    "usr_passwd = input('Enter Password: ')\n",
    "while passwd != usr_passwd:\n",
    "    print(\"Sorry, your password is 'incorrect'!\")\n",
    "    usr_passwd = input('Enter Password Again: ')\n",
    "else:\n",
    "    print('Password Correct.')"
   ]
  },
  {
   "cell_type": "markdown",
   "metadata": {},
   "source": [
    "### How to check module installed or not?"
   ]
  },
  {
   "cell_type": "code",
   "execution_count": null,
   "metadata": {},
   "outputs": [],
   "source": [
    "try:\n",
    "    import numpy \n",
    "except ModuleNotFoundError as p:\n",
    "    print(p,'Install Module.')\n",
    "else:\n",
    "    print('Already module installed.')"
   ]
  },
  {
   "cell_type": "code",
   "execution_count": null,
   "metadata": {},
   "outputs": [],
   "source": [
    "try:\n",
    "    import keras\n",
    "except ModuleNotFoundError as p:\n",
    "    print(p, 'Install Module.')\n",
    "else:\n",
    "    print('Already module installed.')"
   ]
  },
  {
   "cell_type": "markdown",
   "metadata": {},
   "source": [
    "### How to get the type of exception?\n"
   ]
  },
  {
   "cell_type": "code",
   "execution_count": null,
   "metadata": {},
   "outputs": [],
   "source": [
    "import sys\n",
    "try:\n",
    "    6+'6'\n",
    "except:\n",
    "    print(sys.exc_info()[0])"
   ]
  },
  {
   "cell_type": "markdown",
   "metadata": {},
   "source": [
    "### How to remove all special characters in this string?"
   ]
  },
  {
   "cell_type": "code",
   "execution_count": null,
   "metadata": {},
   "outputs": [],
   "source": [
    "import re\n",
    "\n",
    "st = '''<li class=\"pass\">'+line+'</li>'''\n",
    "re.sub(r'\\W',' ',st).split()"
   ]
  },
  {
   "cell_type": "markdown",
   "metadata": {},
   "source": [
    "### How to create simple Tamil Dictionary using Python?"
   ]
  },
  {
   "cell_type": "code",
   "execution_count": null,
   "metadata": {},
   "outputs": [],
   "source": [
    "word = {'banana':'வாழைப்பழம',\n",
    "            'milk':'பால்',\n",
    "            'water':'நீர்',\n",
    "            'rice':'சாதம',\n",
    "            'coffee':'காப்பி',\n",
    "            'fish':'மீன்',\n",
    "            'meat':'இறைச்சி',  \n",
    "            'fruit': 'பழம',\n",
    "            'chicken':'கோழி',\n",
    "            'tommato':'தக்காளி'}\n",
    "\n",
    "inp = input('Enter Word:')\n",
    "if inp in word:\n",
    "    print('{} means {}'.format(inp.title(),word[inp]))\n",
    "else:\n",
    "    print('Word not fonud')"
   ]
  },
  {
   "cell_type": "markdown",
   "metadata": {},
   "source": [
    "### Format string"
   ]
  },
  {
   "cell_type": "code",
   "execution_count": null,
   "metadata": {},
   "outputs": [],
   "source": [
    "%%python3\n",
    "\n",
    "app = 2\n",
    "man = 3\n",
    "orgn = 5 \n",
    "tot = 50\n",
    "\n",
    "print(f'The cost of {app} apples {man} mangoes and {orgn} oranges is Rs {tot} .')"
   ]
  },
  {
   "cell_type": "code",
   "execution_count": null,
   "metadata": {},
   "outputs": [],
   "source": [
    "%%bash\n",
    "\n",
    "app=2\n",
    "man=3\n",
    "orgn=5 \n",
    "tot=50\n",
    "\n",
    "echo \"The cost of ${app} apples ${man} mangoes and ${orgn} oranges is Rs ${tot} .\""
   ]
  },
  {
   "cell_type": "markdown",
   "metadata": {},
   "source": [
    "### factorial"
   ]
  },
  {
   "cell_type": "code",
   "execution_count": null,
   "metadata": {},
   "outputs": [],
   "source": [
    "n = 23\n",
    "fact = 1\n",
    "  \n",
    "for i in range(1,n+1): \n",
    "    fact = fact * i \n",
    "      \n",
    "print (\"The factorial of 23 is : \",end=\"\") \n",
    "print (fact) "
   ]
  },
  {
   "cell_type": "code",
   "execution_count": null,
   "metadata": {},
   "outputs": [],
   "source": [
    "import math \n",
    "\n",
    "print ('23!- ',math.factorial(23)) "
   ]
  },
  {
   "cell_type": "markdown",
   "metadata": {},
   "source": [
    "### How to count the all zero at the last of a factorial number?"
   ]
  },
  {
   "cell_type": "code",
   "execution_count": null,
   "metadata": {},
   "outputs": [],
   "source": [
    "import math \n",
    "\n",
    "print (math.factorial(23)) "
   ]
  },
  {
   "cell_type": "code",
   "execution_count": null,
   "metadata": {},
   "outputs": [],
   "source": [
    "import math \n",
    "import re\n",
    "\n",
    "fact = str(math.factorial(23))\n",
    "last = re.findall(r'[1-9]0*$',fact)\n",
    "len(re.sub(r'^.','',last[0]))"
   ]
  },
  {
   "cell_type": "markdown",
   "metadata": {},
   "source": [
    "### **How to remove empty space in list?**"
   ]
  },
  {
   "cell_type": "markdown",
   "metadata": {},
   "source": [
    "##### Method:1"
   ]
  },
  {
   "cell_type": "code",
   "execution_count": null,
   "metadata": {},
   "outputs": [],
   "source": [
    "lst = [' ','Python', ' ', '2020']\n",
    "[i for i in lst if i != ' ' ]"
   ]
  },
  {
   "cell_type": "markdown",
   "metadata": {},
   "source": [
    "##### Method:2"
   ]
  },
  {
   "cell_type": "code",
   "execution_count": null,
   "metadata": {},
   "outputs": [],
   "source": [
    "lst = [' ','Python', ' ', '2020']\n",
    "[i for i in lst if not i.isspace() ]"
   ]
  },
  {
   "cell_type": "markdown",
   "metadata": {},
   "source": [
    "##### Method:3"
   ]
  },
  {
   "cell_type": "code",
   "execution_count": null,
   "metadata": {},
   "outputs": [],
   "source": [
    "import re\n",
    "\n",
    "lst = [' ','Python', ' ', '2020']\n",
    "[i for i in lst if re.match(r'^\\w',i)]"
   ]
  },
  {
   "cell_type": "markdown",
   "metadata": {},
   "source": [
    "### **How to list Built-In-Exceptions Error?**"
   ]
  },
  {
   "cell_type": "code",
   "execution_count": null,
   "metadata": {},
   "outputs": [],
   "source": [
    "import re\n",
    "\n",
    "match = re.findall(r'^[AZ].*[EW]', ' '.join(dir(__builtins__)))\n",
    "match_splt = match[0].split()\n",
    "extra = ['False', 'True', 'None', 'Ellipsis']\n",
    "final = sorted(list(set(match_splt) - set(extra)))\n",
    "\n",
    "for i,j,k in zip(*[iter(final)] *3):\n",
    "    print('{:<25} {:<20} {:<20}'.format(i, j, k))\n"
   ]
  },
  {
   "cell_type": "markdown",
   "metadata": {},
   "source": [
    "### **Standard errno system table**"
   ]
  },
  {
   "cell_type": "markdown",
   "metadata": {},
   "source": [
    "#### **To translate a numeric error code to an error message**"
   ]
  },
  {
   "cell_type": "code",
   "execution_count": null,
   "metadata": {},
   "outputs": [],
   "source": [
    "import errno\n",
    "import os\n",
    "\n",
    "print('{:<10} {:^14} {:>15}'.format('Error-Code','Error-Symbol','Error-Message'))\n",
    "print('-'*50)\n",
    "for x,y in sorted(errno.errorcode.items()):\n",
    "    print('{}  {:^20} {:<35}'.format(x, y, os.strerror(x)))"
   ]
  },
  {
   "cell_type": "markdown",
   "metadata": {},
   "source": [
    "### **Password Validation**\n"
   ]
  },
  {
   "cell_type": "raw",
   "metadata": {},
   "source": [
    "The password is vaild if it has at minimum 2 numbers and \n",
    "2 following of special characters and a length of at least 7 charcters."
   ]
  },
  {
   "cell_type": "code",
   "execution_count": null,
   "metadata": {},
   "outputs": [],
   "source": [
    "import re\n",
    "st = 'mk$*als^r73'\n",
    "\n",
    "if len(st) >= 7 and len(re.findall(r'\\W{2,}',st)) and len(re.findall(r'\\d{2,}',st)):\n",
    "    print('Vaild')\n",
    "else:\n",
    "    print('Not Vaild')\n"
   ]
  },
  {
   "cell_type": "markdown",
   "metadata": {},
   "source": [
    "### **How to use 'and', 'None'?**"
   ]
  },
  {
   "cell_type": "code",
   "execution_count": null,
   "metadata": {},
   "outputs": [],
   "source": [
    "st = 'Mana'\n",
    "if len(st) >= 7 and 0:\n",
    "    print('Correct')\n",
    "else:\n",
    "    print('Wrong')\n"
   ]
  },
  {
   "cell_type": "code",
   "execution_count": null,
   "metadata": {},
   "outputs": [],
   "source": [
    "st = 'Manavalan'\n",
    "if len(st) >= 7 and 1:\n",
    "    print('Correct')\n",
    "else:\n",
    "    print('Wrong')\n"
   ]
  },
  {
   "cell_type": "markdown",
   "metadata": {},
   "source": [
    "### **Check whether a directory is empty or not**"
   ]
  },
  {
   "cell_type": "code",
   "execution_count": null,
   "metadata": {},
   "outputs": [],
   "source": [
    "%%python3\n",
    "\n",
    "from pathlib import Path \n",
    "\n",
    "p = Path('/home/mana/Documents')\n",
    "if len([*p.glob('*')]):\n",
    "    print(p,'is not empty.')\n",
    "else:\n",
    "    print(p,'is empty.')"
   ]
  },
  {
   "cell_type": "code",
   "execution_count": null,
   "metadata": {},
   "outputs": [],
   "source": [
    "%%bash\n",
    "\n",
    "find /home/mana/Documents -type d -empty -exec echo {} is empty. \\;"
   ]
  },
  {
   "cell_type": "markdown",
   "metadata": {},
   "source": [
    "### **Evaluate expression in single line**"
   ]
  },
  {
   "cell_type": "code",
   "execution_count": null,
   "metadata": {},
   "outputs": [],
   "source": [
    "%%bash\n",
    "\n",
    "((0 <= 40 && 40 <= 100 )) && echo 'Vaild' || echo 'Not Vaild'"
   ]
  },
  {
   "cell_type": "code",
   "execution_count": null,
   "metadata": {},
   "outputs": [],
   "source": [
    "%%python3\n",
    "\n",
    "print('valid' if 0 <= 40 <=100 else 'Not Valid')"
   ]
  },
  {
   "cell_type": "markdown",
   "metadata": {},
   "source": [
    "### **Dictionary setdefault method** "
   ]
  },
  {
   "cell_type": "code",
   "execution_count": null,
   "metadata": {},
   "outputs": [],
   "source": [
    "name = 'Manavalan'\n",
    "d = {}\n",
    "for i in name:\n",
    "    d.setdefault(i, []).append(i)\n",
    "d"
   ]
  },
  {
   "cell_type": "markdown",
   "metadata": {},
   "source": [
    "### **Dictionary get method**"
   ]
  },
  {
   "cell_type": "code",
   "execution_count": null,
   "metadata": {},
   "outputs": [],
   "source": [
    "name = 'Manavalan'\n",
    "d = {}\n",
    "for i in name:\n",
    "    d[i] = d.get(i,0)+1\n",
    "d"
   ]
  },
  {
   "cell_type": "markdown",
   "metadata": {},
   "source": [
    "### **Most common character**"
   ]
  },
  {
   "cell_type": "code",
   "execution_count": null,
   "metadata": {},
   "outputs": [],
   "source": [
    "name = 'Manavalan'\n",
    "d = {}\n",
    "for i in name:\n",
    "    d[i] = d.get(i,0)+1\n",
    "sorted(d.items(), key = lambda x: x[1])[-1]"
   ]
  },
  {
   "cell_type": "code",
   "execution_count": null,
   "metadata": {},
   "outputs": [],
   "source": [
    "from collections import Counter\n",
    "\n",
    "name = 'Manavalan'\n",
    "Counter(name).most_common(1)"
   ]
  },
  {
   "cell_type": "markdown",
   "metadata": {},
   "source": [
    "### **How to create tail command using Python?**"
   ]
  },
  {
   "cell_type": "code",
   "execution_count": null,
   "metadata": {},
   "outputs": [],
   "source": [
    "from collections import deque\n",
    "from pathlib import Path\n",
    "\n",
    "lines = Path('/etc/passwd').read_text().splitlines()\n",
    "print(*deque(lines, 4), sep = '\\n')"
   ]
  },
  {
   "cell_type": "code",
   "execution_count": null,
   "metadata": {},
   "outputs": [],
   "source": [
    "!tail -4 /etc/passwd"
   ]
  },
  {
   "cell_type": "markdown",
   "metadata": {},
   "source": [
    "### **How to generate 5 random numbers?**"
   ]
  },
  {
   "cell_type": "code",
   "execution_count": null,
   "metadata": {},
   "outputs": [],
   "source": [
    "from collections import deque\n",
    "import random\n",
    "\n",
    "lst = [random.randint(0, 100) for _ in range(20)]\n",
    "deque(lst, 5)"
   ]
  },
  {
   "cell_type": "markdown",
   "metadata": {},
   "source": [
    "### **How to find inode number of file?**"
   ]
  },
  {
   "cell_type": "code",
   "execution_count": null,
   "metadata": {},
   "outputs": [],
   "source": [
    "%%python3\n",
    "\n",
    "import os\n",
    "\n",
    "file = '/home/mana/Work/user.csv'\n",
    "print(os.stat(file).st_ino, file)"
   ]
  },
  {
   "cell_type": "code",
   "execution_count": null,
   "metadata": {},
   "outputs": [],
   "source": [
    "!ls -i /home/mana/Work/user.csv"
   ]
  },
  {
   "cell_type": "markdown",
   "metadata": {},
   "source": [
    "### **How to make dictionary from keyword args?**"
   ]
  },
  {
   "cell_type": "code",
   "execution_count": null,
   "metadata": {},
   "outputs": [],
   "source": [
    "dict(a=1, b=2, c=3)"
   ]
  },
  {
   "cell_type": "markdown",
   "metadata": {},
   "source": [
    "### **How Jio validate days?**\n",
    "> 'This is One Month Plan'"
   ]
  },
  {
   "cell_type": "code",
   "execution_count": null,
   "metadata": {},
   "outputs": [],
   "source": [
    "from datetime import datetime\n",
    "\n",
    "recharge_date = '10-12-2019'\n",
    "diff = datetime.now() - datetime.strptime(recharge_date,\"%d-%m-%Y\")\n",
    "print(diff.days, 'days.')"
   ]
  },
  {
   "cell_type": "markdown",
   "metadata": {},
   "source": [
    "### **How to check whether systemd or init?**"
   ]
  },
  {
   "cell_type": "code",
   "execution_count": null,
   "metadata": {},
   "outputs": [],
   "source": [
    "%%python3\n",
    "\n",
    "from pathlib import Path\n",
    "\n",
    "pro = Path('/proc/1/status').read_text().splitlines()[0]\n",
    "if pro.split()[1] == 'systemd':\n",
    "    print('This is systemd system.')\n",
    "else:\n",
    "    print('This is init system.')"
   ]
  },
  {
   "cell_type": "code",
   "execution_count": null,
   "metadata": {},
   "outputs": [],
   "source": [
    "%%bash\n",
    "\n",
    "awk '/Name:/ {if ($2 == \"systemd.\") print \"systemd\"; else print \"initd.\"}' \\\n",
    "/proc/1/status"
   ]
  },
  {
   "cell_type": "markdown",
   "metadata": {},
   "source": [
    "### **10 Most Frequently Used Linux commands**"
   ]
  },
  {
   "cell_type": "code",
   "execution_count": null,
   "metadata": {},
   "outputs": [],
   "source": [
    "from collections import Counter\n",
    "from pathlib import Path\n",
    "from os import environ\n",
    "\n",
    "home = environ['HOME']\n",
    "lines = Path(home+'/.bash_history').read_text().splitlines()\n",
    "commands = [x.split()[0] for x in lines if x]\n",
    "result = Counter(commands).most_common(10)\n",
    "\n",
    "for i,j in result:\n",
    "    print(f'{i:10} {j}') "
   ]
  },
  {
   "cell_type": "code",
   "execution_count": null,
   "metadata": {},
   "outputs": [],
   "source": [
    "from pathlib import Path\n",
    "from os import environ\n",
    "\n",
    "dcommand = {}\n",
    "home = environ['HOME']\n",
    "lines = Path(home+'/.bash_history').read_text().splitlines()\n",
    "for x in lines:\n",
    "    if x:\n",
    "        splt = x.split()[0]\n",
    "        dcommand[splt] = dcommand.get(splt, 0)+1\n",
    "\n",
    "result = sorted(dcommand.items(), key = lambda x: x[1], reverse = True)[0:10]\n",
    "for i,j in result:\n",
    "    print(f'{i:10} {j}')"
   ]
  },
  {
   "cell_type": "code",
   "execution_count": null,
   "metadata": {},
   "outputs": [],
   "source": [
    "from collections import Counter\n",
    "from os import environ\n",
    "from re import findall\n",
    "\n",
    "home = environ['HOME']\n",
    "compose = findall(r'.*', open(home+'/.bash_history').read())\n",
    "commands = [x.split()[0] for x in compose if x]\n",
    "result = Counter(commands).most_common(10)\n",
    "for i,j in result:\n",
    "    print(f'{i:10} {j}')"
   ]
  },
  {
   "cell_type": "markdown",
   "metadata": {},
   "source": [
    "### **Read file in single line code**"
   ]
  },
  {
   "cell_type": "code",
   "execution_count": null,
   "metadata": {},
   "outputs": [],
   "source": [
    "open('/home/mana/Work/user.txt').read()\n"
   ]
  },
  {
   "cell_type": "code",
   "execution_count": null,
   "metadata": {},
   "outputs": [],
   "source": [
    "open('/home/mana/Work/user.txt').readlines()"
   ]
  },
  {
   "cell_type": "markdown",
   "metadata": {},
   "source": [
    "### **How to split lines in a file?**"
   ]
  },
  {
   "cell_type": "code",
   "execution_count": null,
   "metadata": {},
   "outputs": [],
   "source": [
    "list(map(str.split, open('/home/mana/Work/user.txt').readlines()))\n",
    "open('/home/mana/Work/user.txt').close()"
   ]
  },
  {
   "cell_type": "markdown",
   "metadata": {},
   "source": [
    "### **How to remove empty elements?**"
   ]
  },
  {
   "cell_type": "code",
   "execution_count": null,
   "metadata": {},
   "outputs": [],
   "source": [
    "lst = [3, 'M', '', 'B', 78, 0]\n",
    "list(filter(lambda x: x  != '', lst))"
   ]
  },
  {
   "cell_type": "code",
   "execution_count": null,
   "metadata": {},
   "outputs": [],
   "source": [
    "lst = [3, 'M', '', 'B', 78, 0]\n",
    "[x for x in lst if x  != '']"
   ]
  },
  {
   "cell_type": "markdown",
   "metadata": {},
   "source": [
    "### **How to find longest word in file?**\n",
    "\n",
    "if two or more words are same length, it print first occurance word only."
   ]
  },
  {
   "cell_type": "code",
   "execution_count": null,
   "metadata": {},
   "outputs": [],
   "source": [
    "max(open('/home/mana/Work/fruit2.txt').read().split(), key=len)"
   ]
  },
  {
   "cell_type": "markdown",
   "metadata": {},
   "source": [
    "### **How to find longest line in a file?**"
   ]
  },
  {
   "cell_type": "code",
   "execution_count": null,
   "metadata": {},
   "outputs": [],
   "source": [
    "!cat /home/mana/Work/fruit2.txt"
   ]
  },
  {
   "cell_type": "code",
   "execution_count": null,
   "metadata": {},
   "outputs": [],
   "source": [
    "%%bash\n",
    "\n",
    "awk '{print length, $0}' /home/mana/Work/fruit2.txt | sort -nr | head -1"
   ]
  },
  {
   "cell_type": "code",
   "execution_count": null,
   "metadata": {},
   "outputs": [],
   "source": [
    "%%python3\n",
    "\n",
    "print(max(open('/home/mana/Work/fruit2.txt'), key=len))"
   ]
  },
  {
   "cell_type": "markdown",
   "metadata": {},
   "source": [
    "### **How to generate HTML file?**"
   ]
  },
  {
   "cell_type": "code",
   "execution_count": null,
   "metadata": {},
   "outputs": [],
   "source": [
    "with open(\"/home/mana/Work/file.html\", \"w\") as f:\n",
    "    str = '<html>'\n",
    "    str += '\\n <body>'\n",
    "    str += '\\n <svg width=\"100\" height=\"100\">'\n",
    "    str += '\\n <circle cx=\"50\" cy=\"50\" r=\"40\" stroke=\"green\" stroke-width=\"4\" fill=\"yellow\" />'\n",
    "    str += '\\n </svg>'\n",
    "    str += '\\n </body>'\n",
    "    str += '\\n</html>'\n",
    "    f.write(str)"
   ]
  },
  {
   "cell_type": "markdown",
   "metadata": {},
   "source": [
    "### **How many times split in the line?**\n",
    "\n",
    "Default it split each space."
   ]
  },
  {
   "cell_type": "code",
   "execution_count": null,
   "metadata": {},
   "outputs": [],
   "source": [
    "st = 'I am a beginner.'\n",
    "\n",
    "f'{len(st.split())-1} times'"
   ]
  },
  {
   "cell_type": "markdown",
   "metadata": {},
   "source": [
    "### **How to find size of file?**"
   ]
  },
  {
   "cell_type": "markdown",
   "metadata": {},
   "source": [
    "#### python3"
   ]
  },
  {
   "cell_type": "code",
   "execution_count": null,
   "metadata": {},
   "outputs": [],
   "source": [
    "from pathlib import Path\n",
    "import bisect\n",
    "\n",
    "#size = [1, 1e+3, 1e+6, 1e+9]\n",
    "size = [1, 2**10, 2**20, 2**30]\n",
    "unit = ['B', 'K', 'M', 'G']\n",
    "fpath = input('Enter file name: ') \n",
    "fsize = Path(fpath).stat().st_size\n",
    "\n",
    "def convert(byts):\n",
    "    if byts != 0:\n",
    "        index = bisect.bisect(size, byts) -1\n",
    "        return f'{byts/size[index]:.1f}{unit[index]}'\n",
    "    else: \n",
    "        return '0B'\n",
    "print(f'{convert(fsize)} {fpath}')"
   ]
  },
  {
   "cell_type": "code",
   "execution_count": null,
   "metadata": {},
   "outputs": [],
   "source": [
    "%%bash\n",
    "\n",
    "ls -1sh /home/mana/Pro-Python-System-Administration.pdf"
   ]
  },
  {
   "cell_type": "markdown",
   "metadata": {},
   "source": [
    "### **Find and Remove files bigger than a specific size and type**\n",
    "Here I remove the files more than 10MB size."
   ]
  },
  {
   "cell_type": "code",
   "execution_count": null,
   "metadata": {},
   "outputs": [],
   "source": [
    "%%python3\n",
    "\n",
    "from pathlib import Path\n",
    "    \n",
    "dpath = Path('/home/mana/Work')\n",
    "fsize = [(i,i.stat().st_size) for i in dpath.iterdir() if i.is_file()]\n",
    "\n",
    "print(\"Follwing files are reomoved:\")\n",
    "for x,y in fsize:\n",
    "    if y >= 1e+7 and x.suffix in ['.tar', '.zip', '.pdf']:\n",
    "        print(x.name)\n",
    "        x.unlink()"
   ]
  },
  {
   "cell_type": "code",
   "execution_count": null,
   "metadata": {},
   "outputs": [],
   "source": [
    "%%bash\n",
    "\n",
    "echo \"Follwing files are reomoved:\"\n",
    "find /home/mana/Work/ -maxdepth 1 -type f \\\n",
    "\\( -name \"*zip\" -o -name \"*tar\" -o -name \"*pdf\" \\) \\\n",
    "-size +10M -printf \"%f\\n\" -delete"
   ]
  },
  {
   "cell_type": "markdown",
   "metadata": {},
   "source": [
    "### **How to split a list into multiple lists?**"
   ]
  },
  {
   "cell_type": "raw",
   "metadata": {},
   "source": [
    "Expected Output:\n",
    "\n",
    "['CS']\n",
    "['CS-PP']\n",
    "['CS-PP-GE']\n",
    "['CS-PP-GE-RI']\n",
    "['CS-PP-GE-RI-ET']"
   ]
  },
  {
   "cell_type": "code",
   "execution_count": null,
   "metadata": {},
   "outputs": [],
   "source": [
    "l = 'CS-PP-GE-RI-ET'.split('-')\n",
    "m = [['-'.join(l[0:i+1])] for i in range(len(l))]\n",
    "print(*m, sep = '\\n')"
   ]
  },
  {
   "cell_type": "code",
   "execution_count": null,
   "metadata": {},
   "outputs": [],
   "source": [
    "from itertools import accumulate\n",
    "\n",
    "l = 'CS-PP-GE-RI-ET'.split('-')\n",
    "print(*accumulate(l, lambda x, y: '-'.join([x, y])), sep='\\n')"
   ]
  },
  {
   "cell_type": "raw",
   "metadata": {},
   "source": [
    "Replace every instance of 'o' with $ Except the first occurence \n",
    "in the string below:\n",
    "\n",
    "'Welcome to Python 101'"
   ]
  },
  {
   "cell_type": "code",
   "execution_count": null,
   "metadata": {},
   "outputs": [],
   "source": [
    "st = 'Welcome to Python 101'[::-1]\n",
    "st.replace('o','$', 2)[::-1]\n"
   ]
  },
  {
   "cell_type": "code",
   "execution_count": null,
   "metadata": {},
   "outputs": [],
   "source": [
    "import re\n",
    "\n",
    "st = 'Welcome to Python 101'[::-1]\n",
    "re.sub(r'o','$', st, count = 2)[::-1]"
   ]
  },
  {
   "cell_type": "raw",
   "metadata": {},
   "source": [
    "Replace every instance of 'o' with $ Except 'o' occurence end of word\n",
    "in the string below:\n",
    "\n",
    "'Welcome to Python 101'"
   ]
  },
  {
   "cell_type": "code",
   "execution_count": null,
   "metadata": {},
   "outputs": [],
   "source": [
    "%%python3\n",
    "\n",
    "import re\n",
    "\n",
    "st = 'Welcome to Python 101'\n",
    "print(re.sub(r'o\\B','$', st))"
   ]
  },
  {
   "cell_type": "code",
   "execution_count": null,
   "metadata": {},
   "outputs": [],
   "source": [
    "%%bash\n",
    "\n",
    "echo 'Welcome to Python 101' | sed -rn 's/o\\B/$/gp'"
   ]
  },
  {
   "cell_type": "code",
   "execution_count": null,
   "metadata": {},
   "outputs": [],
   "source": [
    "print('Bye.')"
   ]
  },
  {
   "cell_type": "markdown",
   "metadata": {},
   "source": [
    "## **Emulate df command using python**"
   ]
  },
  {
   "cell_type": "code",
   "execution_count": null,
   "metadata": {},
   "outputs": [],
   "source": [
    "from os import statvfs as svfs\n",
    "from pathlib import Path\n",
    "import bisect\n",
    "import re\n",
    "\n",
    "#size = [1, 1e+3, 1e+6, 1e+9]      ## GB\n",
    "size = [1, 2**10, 2**20, 2**30]  ## GiB\n",
    "unit = ['B', 'K', 'M', 'G']\n",
    "mline = Path('/proc/mounts').read_text().splitlines()\n",
    "mdev = [lp.split()[:2] for lp in mline if re.match(r'^/dev/sd[a-z][1-9]', lp)]\n",
    "clt = [(fsl,svfs(mpl)[0]*svfs(mpl)[2],svfs(mpl)[0]*svfs(mpl)[3],mpl) \n",
    "       for fsl, mpl in mdev]\n",
    "\n",
    "def con(byts):\n",
    "    index = bisect.bisect(size, byts)-1\n",
    "    return \"{:.0f}{}\".format(byts/size[index], unit[index])\n",
    "\n",
    "print('{:20} {:^9} {:^9} {:^9} {:>13}'\n",
    "      .format('Filesystem','Size','Used','Avail','Mounted-on'))\n",
    "print('*'*66)\n",
    "for fs in clt:\n",
    "     print('{:20} {:^9} {:^9} {:^9}    {:20}'\n",
    "           .format(fs[0],con(fs[1]),con(fs[1]-fs[2]),con(fs[2]),fs[3]))  "
   ]
  },
  {
   "cell_type": "markdown",
   "metadata": {},
   "source": [
    "### **How many apples to here?**"
   ]
  },
  {
   "cell_type": "code",
   "execution_count": null,
   "metadata": {},
   "outputs": [],
   "source": [
    "st = 'Apple Orange Mango Apple Banana Orange'\n",
    "st.count('Apple')"
   ]
  },
  {
   "cell_type": "code",
   "execution_count": null,
   "metadata": {},
   "outputs": [],
   "source": [
    "st = 'Apple Orange Mango Apple Banana Orange'\n",
    "\n",
    "aps = []\n",
    "\n",
    "for i in st.split():\n",
    "    if i == 'Apple':\n",
    "        aps.append(i)\n",
    "len(aps)"
   ]
  },
  {
   "cell_type": "code",
   "execution_count": null,
   "metadata": {},
   "outputs": [],
   "source": [
    "from collections import Counter\n",
    "st = 'Apple Orange Mango Apple Banana Orange'\n",
    "\n",
    "Counter(st.split())"
   ]
  },
  {
   "cell_type": "code",
   "execution_count": null,
   "metadata": {},
   "outputs": [],
   "source": [
    "from collections import defaultdic"
   ]
  },
  {
   "cell_type": "code",
   "execution_count": null,
   "metadata": {},
   "outputs": [],
   "source": [
    "setdefault"
   ]
  },
  {
   "cell_type": "markdown",
   "metadata": {},
   "source": [
    "### How can i get ASCII number of every letter?"
   ]
  },
  {
   "cell_type": "code",
   "execution_count": null,
   "metadata": {},
   "outputs": [],
   "source": [
    "from string import ascii_uppercase,ascii_lowercase\n",
    "\n",
    "{i: ord(i) for i  in ascii_uppercase+ascii_lowercase}"
   ]
  },
  {
   "cell_type": "markdown",
   "metadata": {},
   "source": [
    "### **What is output this program?**"
   ]
  },
  {
   "cell_type": "code",
   "execution_count": null,
   "metadata": {},
   "outputs": [],
   "source": [
    "a = 10\n",
    "b = 'z'\n",
    "print(a+b)"
   ]
  },
  {
   "cell_type": "raw",
   "metadata": {},
   "source": [
    "1. 10z\n",
    "2. 10 + 'z'\n",
    "3. Type Error\n",
    "4. a+b"
   ]
  },
  {
   "cell_type": "markdown",
   "metadata": {},
   "source": [
    "### **How to use check_output method in Linux system?**"
   ]
  },
  {
   "cell_type": "code",
   "execution_count": null,
   "metadata": {},
   "outputs": [],
   "source": [
    "%%python3\n",
    "\n",
    "from subprocess import check_output\n",
    "\n",
    "cmd = 'ping -c3 8.8.8.8'\n",
    "print(*check_output(cmd.split()).decode().splitlines(), sep = '\\n')"
   ]
  },
  {
   "cell_type": "markdown",
   "metadata": {},
   "source": [
    "### **How to call function through another function?**"
   ]
  },
  {
   "cell_type": "code",
   "execution_count": null,
   "metadata": {},
   "outputs": [],
   "source": [
    "def add(a, b):\n",
    "    return a + b\n",
    "\n",
    "def call_add():\n",
    "    return add(3, 2)\n",
    "\n",
    "call_add()"
   ]
  },
  {
   "cell_type": "markdown",
   "metadata": {},
   "source": [
    "### **Print current working directory**"
   ]
  },
  {
   "cell_type": "code",
   "execution_count": null,
   "metadata": {},
   "outputs": [],
   "source": [
    "%%bash\n",
    "\n",
    "pwd\n",
    "\n",
    "## OR ###\n",
    "\n",
    "echo \"$PWD\""
   ]
  },
  {
   "cell_type": "code",
   "execution_count": null,
   "metadata": {},
   "outputs": [],
   "source": [
    "%%python3\n",
    "\n",
    "import os\n",
    "\n",
    "print(os.getcwd())"
   ]
  },
  {
   "cell_type": "markdown",
   "metadata": {},
   "source": [
    "### **How to format date?**"
   ]
  },
  {
   "cell_type": "code",
   "execution_count": null,
   "metadata": {},
   "outputs": [],
   "source": [
    "from datetime import datetime\n",
    "\n",
    "person1_date = '24-12-1984'\n",
    "person1 = datetime.strptime(person1_date, \"%d-%m-%Y\")\n",
    "person2_date = '08-12-1986'\n",
    "person2 = datetime.strptime(person2_date, \"%d-%m-%Y\")\n",
    "\n",
    "print((person2 - person1).days, 'days')\n",
    "print(round((person2 - person1).days/365), 'years')\n",
    "\n"
   ]
  },
  {
   "cell_type": "markdown",
   "metadata": {},
   "source": [
    "### **list of date formats**"
   ]
  },
  {
   "cell_type": "code",
   "execution_count": null,
   "metadata": {},
   "outputs": [],
   "source": [
    "%%bash\n",
    "date --help | grep -Po \"\\s{2}%.*\""
   ]
  },
  {
   "cell_type": "code",
   "execution_count": null,
   "metadata": {},
   "outputs": [],
   "source": [
    "%%python3\n",
    "\n",
    "from subprocess import check_output\n",
    "from re import findall\n",
    "\n",
    "cmd = 'date --help'\n",
    "out = check_output(cmd.split())\n",
    "print(*findall(r'\\s{2}%.*', out.decode()), sep = '\\n')"
   ]
  },
  {
   "cell_type": "markdown",
   "metadata": {},
   "source": [
    "### **How to create a timer in python?**"
   ]
  },
  {
   "cell_type": "code",
   "execution_count": 93,
   "metadata": {},
   "outputs": [
    {
     "name": "stdout",
     "output_type": "stream",
     "text": [
      "Select seconds:20\n",
      "20\n",
      "0\f",
      "\f",
      "\r"
     ]
    }
   ],
   "source": [
    "from time import sleep\n",
    "sec = int(input('Select seconds:'))\n",
    "print(sec)\n",
    "for t in range(sec,-1,-1):\n",
    "    print(t, end = '\\f\\r')\n",
    "    sleep(1)"
   ]
  },
  {
   "cell_type": "markdown",
   "metadata": {},
   "source": [
    "### **How to use base argument in integer function?**"
   ]
  },
  {
   "cell_type": "markdown",
   "metadata": {},
   "source": [
    "#### **Convert integer from Binary**"
   ]
  },
  {
   "cell_type": "code",
   "execution_count": null,
   "metadata": {},
   "outputs": [],
   "source": [
    "int('1001', 2)"
   ]
  },
  {
   "cell_type": "markdown",
   "metadata": {},
   "source": [
    "#### **Convert integer from Oct**"
   ]
  },
  {
   "cell_type": "code",
   "execution_count": null,
   "metadata": {},
   "outputs": [],
   "source": [
    "int('13', 8)"
   ]
  },
  {
   "cell_type": "markdown",
   "metadata": {},
   "source": [
    "#### **Convert integer from Hex**"
   ]
  },
  {
   "cell_type": "code",
   "execution_count": null,
   "metadata": {},
   "outputs": [],
   "source": [
    "int('4F', 16)"
   ]
  },
  {
   "cell_type": "markdown",
   "metadata": {},
   "source": [
    "### **Checking the Usage of Memory**\n",
    "We can check the amount of memory consumed by each variable."
   ]
  },
  {
   "cell_type": "code",
   "execution_count": null,
   "metadata": {},
   "outputs": [],
   "source": [
    "# Example: 1\n",
    "from sys import getsizeof\n",
    "x = 'Manavalan'\n",
    "y = 459\n",
    "z = ['M', 90, 'Chennai', 0, 'Paris']\n",
    "print(getsizeof(x))\n",
    "print(getsizeof(y))\n",
    "print(getsizeof(z))"
   ]
  },
  {
   "cell_type": "code",
   "execution_count": null,
   "metadata": {},
   "outputs": [],
   "source": [
    "# Example: 2\n",
    "from sys import getsizeof\n",
    "def add(x):\n",
    "    return 5**10000+6+9+x\n",
    "\n",
    "print(getsizeof(add(100000)))"
   ]
  },
  {
   "cell_type": "markdown",
   "metadata": {},
   "source": [
    "### This is sample program to generate function name"
   ]
  },
  {
   "cell_type": "code",
   "execution_count": null,
   "metadata": {},
   "outputs": [],
   "source": [
    "import builtins\n",
    "\n",
    "fn = ['abs','all', 'any']\n",
    "\n",
    "for x in fn:\n",
    "    print(x)\n",
    "    print(getattr(builtins, x).__doc__)\n",
    "    print('*'*50)"
   ]
  },
  {
   "cell_type": "markdown",
   "metadata": {},
   "source": [
    "#### Can you explain the code print(int('13',8)) and How to get 11?"
   ]
  },
  {
   "cell_type": "code",
   "execution_count": null,
   "metadata": {},
   "outputs": [],
   "source": [
    "int function has 2 arguments. \n",
    "one argument is string_number value or float value. another one is base.\n",
    "\n",
    "If you convert string_number to integer with base 10(This is ordinary decimal).\n",
    "Dont need mention base.\n",
    "For Example:\n",
    "    int('25')\n",
    "    \n",
    "Suppose if you want convert Binary string_number to integer. \n",
    "You need mention the base is 2.\n",
    "For Example:\n",
    "    int('1001', base = 2)\n",
    "    \n",
    "\n",
    "Suppose if you want convert Octal string_number to integer. \n",
    "You need mention the base is 8.\n",
    "For Example:\n",
    "    int('31', base = 8)\n",
    "    \n",
    "Suppose if you want convert Hex string_number to integer. \n",
    "You need mention the base is 16.\n",
    "For Example:\n",
    "    int('4F', base = 16)"
   ]
  },
  {
   "cell_type": "code",
   "execution_count": null,
   "metadata": {},
   "outputs": [],
   "source": [
    "print(int('1001', 2))\n",
    "print(int('13', 8))\n",
    "print(int('4F', 16))\n"
   ]
  },
  {
   "cell_type": "markdown",
   "metadata": {},
   "source": [
    "### Multiple assginments\n",
    "Here, name and age assgine in single line\n",
    "\n",
    "using multiple assignments."
   ]
  },
  {
   "cell_type": "code",
   "execution_count": null,
   "metadata": {},
   "outputs": [],
   "source": [
    "name, age = 'Jane', 22\n",
    "print(f'Her name is {name}. she is {age}')"
   ]
  },
  {
   "cell_type": "markdown",
   "metadata": {},
   "source": [
    "### **How to use if ..else in lambda?**"
   ]
  },
  {
   "cell_type": "code",
   "execution_count": null,
   "metadata": {},
   "outputs": [],
   "source": [
    "(lambda a,b : a if a > b else b)(10, 5)"
   ]
  },
  {
   "cell_type": "markdown",
   "metadata": {},
   "source": [
    "### **How to use and or in lambda?**"
   ]
  },
  {
   "cell_type": "code",
   "execution_count": null,
   "metadata": {},
   "outputs": [],
   "source": [
    "(lambda a,b : a > b and a or b)(10, 5)"
   ]
  },
  {
   "cell_type": "markdown",
   "metadata": {},
   "source": [
    "### **Sum of different length Lists of list**"
   ]
  },
  {
   "cell_type": "code",
   "execution_count": null,
   "metadata": {},
   "outputs": [],
   "source": [
    "lst = [[1, 4, 5], [7, 3], [4], [46, 7, 3]] \n",
    "sum(sum(lst, []))"
   ]
  },
  {
   "cell_type": "code",
   "execution_count": null,
   "metadata": {},
   "outputs": [],
   "source": [
    "from itertools import chain \n",
    "\n",
    "lst = [[1, 4, 5], [7, 3], [4], [46, 7, 3]] \n",
    "sum(list(chain(*lst)))"
   ]
  },
  {
   "cell_type": "code",
   "execution_count": null,
   "metadata": {},
   "outputs": [],
   "source": [
    "import operator\n",
    "from functools import reduce\n",
    "\n",
    "lst = [[1, 4, 5], [7, 3], [4], [46, 7, 3]] \n",
    "reduce(operator.add, sum(lst, []))"
   ]
  },
  {
   "cell_type": "markdown",
   "metadata": {},
   "source": [
    "### **nested for loop in list comprehension**"
   ]
  },
  {
   "cell_type": "code",
   "execution_count": null,
   "metadata": {},
   "outputs": [],
   "source": [
    "lst = [[1, 4, 5], [7, 3], [4], [46, 7, 3]] \n",
    "[y for x in lst for y in x]"
   ]
  },
  {
   "cell_type": "markdown",
   "metadata": {},
   "source": [
    "### **How to change list of list into single list?**"
   ]
  },
  {
   "cell_type": "code",
   "execution_count": null,
   "metadata": {},
   "outputs": [],
   "source": [
    "lst = [[1, 4, 5], [7, 3], [4], [46, 7, 3]] \n",
    "sum(lst, [])"
   ]
  },
  {
   "cell_type": "code",
   "execution_count": null,
   "metadata": {},
   "outputs": [],
   "source": [
    "lst = [[1, 4, 5], [7, 3], [4], [46, 7, 3]] \n",
    "[y for x in lst for y in x]"
   ]
  },
  {
   "cell_type": "code",
   "execution_count": null,
   "metadata": {},
   "outputs": [],
   "source": [
    "from itertools import chain \n",
    "\n",
    "lst = [[1, 4, 5], [7, 3], [4], [46, 7, 3]] \n",
    "list(chain(*lst))"
   ]
  },
  {
   "cell_type": "markdown",
   "metadata": {},
   "source": [
    "### **What is output of this program?**"
   ]
  },
  {
   "cell_type": "code",
   "execution_count": null,
   "metadata": {},
   "outputs": [],
   "source": [
    "print(10 > 5 and 10 or 5)"
   ]
  },
  {
   "cell_type": "raw",
   "metadata": {},
   "source": [
    "1. 10\n",
    "2. 5\n",
    "3. None\n",
    "4. 15"
   ]
  },
  {
   "cell_type": "markdown",
   "metadata": {},
   "source": [
    "### **How to sum two list?**"
   ]
  },
  {
   "cell_type": "code",
   "execution_count": null,
   "metadata": {},
   "outputs": [],
   "source": [
    "lst1 = [2, 3, 4]\n",
    "lst2 = [4, 5, 6]\n",
    "\n",
    "sum(lst1+lst2)"
   ]
  },
  {
   "cell_type": "code",
   "execution_count": null,
   "metadata": {},
   "outputs": [],
   "source": [
    "import operator\n",
    "\n",
    "lst1 = [2, 3, 4]\n",
    "lst2 = [4, 5, 6]\n",
    "sum(map(operator.add, lst1, lst2))"
   ]
  },
  {
   "cell_type": "code",
   "execution_count": null,
   "metadata": {},
   "outputs": [],
   "source": [
    "from functools import reduce\n",
    "from operator import add\n",
    "\n",
    "lst1 = [2, 3, 4]\n",
    "lst2 = [4, 5, 6]\n",
    "\n",
    "reduce(add, lst1+lst2)\n"
   ]
  },
  {
   "cell_type": "markdown",
   "metadata": {},
   "source": [
    "### Why sencond statement failed?"
   ]
  },
  {
   "cell_type": "code",
   "execution_count": null,
   "metadata": {},
   "outputs": [],
   "source": [
    "print(0 and Null)\n",
    "print(1 and Null)"
   ]
  },
  {
   "cell_type": "markdown",
   "metadata": {},
   "source": [
    "### **What is output?**"
   ]
  },
  {
   "cell_type": "code",
   "execution_count": null,
   "metadata": {},
   "outputs": [],
   "source": [
    "print(4 and 6 and 11)"
   ]
  },
  {
   "cell_type": "raw",
   "metadata": {},
   "source": [
    "1. 4\n",
    "2. 11\n",
    "3. 6\n",
    "4. None"
   ]
  },
  {
   "cell_type": "markdown",
   "metadata": {},
   "source": [
    "### **How to assgin empty keyword on function arguments?**"
   ]
  },
  {
   "cell_type": "code",
   "execution_count": 63,
   "metadata": {},
   "outputs": [
    {
     "name": "stdout",
     "output_type": "stream",
     "text": [
      "How long the system has been running?\n",
      "  15:45:45 up 22:13,  1 user,  load average: 0.61, 1.00, 0.95\n",
      "\n",
      "Show uptime in pretty format:\n",
      " up 22 hours, 13 minutes\n",
      "\n",
      "System up since:\n",
      " 2020-01-17 17:31:58\n",
      "\n"
     ]
    }
   ],
   "source": [
    "from subprocess import check_output\n",
    "\n",
    "def uptime(x = ''):\n",
    "    cmd = 'uptime -' + x\n",
    "    out = check_output(cmd.split()).decode()\n",
    "    return out\n",
    "\n",
    "print('How long the system has been running?\\n',uptime())\n",
    "print('Show uptime in pretty format:\\n', uptime('p'))\n",
    "print('System up since:\\n',uptime('s'))"
   ]
  },
  {
   "cell_type": "code",
   "execution_count": 5,
   "metadata": {},
   "outputs": [
    {
     "name": "stdout",
     "output_type": "stream",
     "text": [
      "How long the system has been running?\n",
      "functools.partial(<function uptime at 0x7f39b4564ae8>)\n",
      "Show uptime in pretty format:\n",
      " up 5 hours, 11 minutes\n",
      "\n",
      "System up since:\n",
      " 2020-01-18 16:35:12\n",
      "\n"
     ]
    }
   ],
   "source": [
    "from functools import partial\n",
    "from subprocess import check_output\n",
    "\n",
    "def uptime(x = ''):\n",
    "    cmd = 'uptime -' + x\n",
    "    out = check_output(cmd.split()).decode()\n",
    "    return out\n",
    "\n",
    "print('How long the system has been running?')\n",
    "print(partial(uptime))\n",
    "      \n",
    "print('Show uptime in pretty format:\\n', uptime('p'))\n",
    "print('System up since:\\n',uptime('s'))"
   ]
  },
  {
   "cell_type": "code",
   "execution_count": 38,
   "metadata": {},
   "outputs": [
    {
     "name": "stdout",
     "output_type": "stream",
     "text": [
      "How long the system has been running?\n",
      "functools.partial(<function uptime at 0x7f39b44f2bf8>, x='')\n"
     ]
    }
   ],
   "source": [
    "from functools import partial\n",
    "from subprocess import check_output\n",
    "\n",
    "def uptime(x):\n",
    "    cmd = 'uptime -' + x\n",
    "    out = check_output(cmd.split()).decode()\n",
    "    return out\n",
    "\n",
    "print('How long the system has been running?')\n",
    "print(partial(uptime, x = ''))\n",
    "      "
   ]
  },
  {
   "cell_type": "code",
   "execution_count": 9,
   "metadata": {},
   "outputs": [
    {
     "data": {
      "text/plain": [
       "functools.partial(<class 'int'>)"
      ]
     },
     "execution_count": 9,
     "metadata": {},
     "output_type": "execute_result"
    }
   ],
   "source": [
    "from functools import partial\n",
    "partial(int)\n"
   ]
  },
  {
   "cell_type": "markdown",
   "metadata": {},
   "source": [
    "### **Find a word in text file**"
   ]
  },
  {
   "cell_type": "code",
   "execution_count": 19,
   "metadata": {},
   "outputs": [
    {
     "name": "stdout",
     "output_type": "stream",
     "text": [
      "Linux is a family of free and open-source software operating systems built\r\n",
      "around the Linux kernel.\r\n",
      "Typically, Linux is packaged in a form known as a Linux distribution (or distro\r\n",
      "for short) for both desktop and server use.\r\n",
      "The defining component of a Linux distribution is the Linux kernel an operating\r\n",
      "system kernel first released on September 17, 1991, by Linus Torvalds.\r\n"
     ]
    }
   ],
   "source": [
    "!cat /home/mana/Work/linux.txt"
   ]
  },
  {
   "cell_type": "code",
   "execution_count": 35,
   "metadata": {},
   "outputs": [
    {
     "data": {
      "text/plain": [
       "True"
      ]
     },
     "execution_count": 35,
     "metadata": {},
     "output_type": "execute_result"
    }
   ],
   "source": [
    "from pathlib import Path\n",
    "\n",
    "'kernel' in Path('/home/mana/Work/linux.txt').read_text().split()"
   ]
  },
  {
   "cell_type": "code",
   "execution_count": 33,
   "metadata": {},
   "outputs": [
    {
     "data": {
      "text/plain": [
       "False"
      ]
     },
     "execution_count": 33,
     "metadata": {},
     "output_type": "execute_result"
    }
   ],
   "source": [
    "from pathlib import Path\n",
    "\n",
    "'gravity' in Path('/home/mana/Work/linux.txt').read_text().split()"
   ]
  },
  {
   "cell_type": "markdown",
   "metadata": {},
   "source": [
    "### **Word count in file**"
   ]
  },
  {
   "cell_type": "code",
   "execution_count": 39,
   "metadata": {},
   "outputs": [
    {
     "name": "stdout",
     "output_type": "stream",
     "text": [
      "Linux is a family of free and open-source software operating systems built\r\n",
      "around the Linux kernel.\r\n",
      "Typically, Linux is packaged in a form known as a Linux distribution (or distro\r\n",
      "for short) for both desktop and server use.\r\n",
      "The defining component of a Linux distribution is the Linux kernel an operating\r\n",
      "system kernel first released on September 17, 1991, by Linus Torvalds.\r\n"
     ]
    }
   ],
   "source": [
    "!cat /home/mana/Work/linux.txt"
   ]
  },
  {
   "cell_type": "code",
   "execution_count": 50,
   "metadata": {},
   "outputs": [
    {
     "name": "stdout",
     "output_type": "stream",
     "text": [
      "62 /home/mana/Work/linux.txt\n"
     ]
    }
   ],
   "source": [
    "%%bash\n",
    "\n",
    "wc -w /home/mana/Work/linux.txt"
   ]
  },
  {
   "cell_type": "code",
   "execution_count": 48,
   "metadata": {},
   "outputs": [
    {
     "name": "stdout",
     "output_type": "stream",
     "text": [
      "62\n"
     ]
    }
   ],
   "source": [
    "%%python3\n",
    "\n",
    "from pathlib import Path\n",
    "\n",
    "print(len(Path('/home/mana/Work/linux.txt').read_text().split()))"
   ]
  },
  {
   "cell_type": "code",
   "execution_count": 56,
   "metadata": {},
   "outputs": [
    {
     "name": "stdout",
     "output_type": "stream",
     "text": [
      "63\r\n"
     ]
    }
   ],
   "source": [
    "!egrep -o \"\\w*\" /home/mana/Work/linux.txt | wc -l"
   ]
  },
  {
   "cell_type": "markdown",
   "metadata": {},
   "source": [
    "### **Capture current date log and compress into tar file**"
   ]
  },
  {
   "cell_type": "code",
   "execution_count": 97,
   "metadata": {},
   "outputs": [],
   "source": [
    "%%python3\n",
    "\n",
    "from datetime import datetime\n",
    "from pathlib import Path\n",
    "import tarfile\n",
    "\n",
    "dpath = '/home/mana/Work/'\n",
    "log_file = Path('/var/log/syslog').read_text().splitlines()\n",
    "today = datetime.today().strftime('%b %d')\n",
    "current_date_log = [i for i in log_file if i.startswith(today)]\n",
    "print(*current_date_log, sep = '\\n', file = open(dpath+'log.txt', 'w'))\n",
    "with tarfile.open('/home/mana/Work/log.tar.gz', \"w:gz\") as tar:\n",
    "    tar.add(dpath+'log.txt', arcname=Path(dpath+'log.txt').name)\n",
    "Path(dpath+'log.txt').unlink()"
   ]
  },
  {
   "cell_type": "markdown",
   "metadata": {},
   "source": [
    "### **How to Compress a file?**"
   ]
  },
  {
   "cell_type": "code",
   "execution_count": 43,
   "metadata": {},
   "outputs": [],
   "source": [
    "%%bash\n",
    "\n",
    "cd /home/mana/Work\n",
    "tar -czf test.tar.gz test.txt"
   ]
  },
  {
   "cell_type": "code",
   "execution_count": 50,
   "metadata": {},
   "outputs": [],
   "source": [
    "%%python3\n",
    "\n",
    "from pathlib import Path\n",
    "import tarfile\n",
    "\n",
    "with tarfile.open('/home/mana/Work/test.tar.gz', \"w:gz\") as tar:\n",
    "    tar.add('/home/mana/Work/test.txt', \n",
    "            arcname=Path('/home/mana/Work/test.txt').name)"
   ]
  },
  {
   "cell_type": "markdown",
   "metadata": {},
   "source": [
    "### **Print cat**"
   ]
  },
  {
   "cell_type": "code",
   "execution_count": 52,
   "metadata": {},
   "outputs": [
    {
     "data": {
      "text/plain": [
       "'🐈'"
      ]
     },
     "execution_count": 52,
     "metadata": {},
     "output_type": "execute_result"
    }
   ],
   "source": [
    "chr(128008)"
   ]
  },
  {
   "cell_type": "code",
   "execution_count": 54,
   "metadata": {},
   "outputs": [
    {
     "data": {
      "text/plain": [
       "'🐆'"
      ]
     },
     "execution_count": 54,
     "metadata": {},
     "output_type": "execute_result"
    }
   ],
   "source": [
    "chr(128006)"
   ]
  },
  {
   "cell_type": "markdown",
   "metadata": {},
   "source": [
    "### **Print emoji**"
   ]
  },
  {
   "cell_type": "code",
   "execution_count": 64,
   "metadata": {},
   "outputs": [
    {
     "name": "stdout",
     "output_type": "stream",
     "text": [
      "🐀 🐁 🐂 🐃 🐄 🐅 🐆 🐇 🐈 🐉 🐊 🐋 🐌 🐍 🐎 "
     ]
    }
   ],
   "source": [
    "for i in range(128000, 128015):\n",
    "    print(chr(i), end = ' ')"
   ]
  },
  {
   "cell_type": "code",
   "execution_count": 250,
   "metadata": {},
   "outputs": [
    {
     "data": {
      "text/plain": [
       "'❀'"
      ]
     },
     "execution_count": 250,
     "metadata": {},
     "output_type": "execute_result"
    }
   ],
   "source": [
    "chr(int('2740', base = 16))"
   ]
  },
  {
   "cell_type": "code",
   "execution_count": 255,
   "metadata": {},
   "outputs": [
    {
     "name": "stdout",
     "output_type": "stream",
     "text": [
      "🧞”❀️\n"
     ]
    }
   ],
   "source": [
    "print(u\"\\U0001F9DE\\u201D\\u2740\\uFE0F\")"
   ]
  },
  {
   "cell_type": "code",
   "execution_count": 256,
   "metadata": {},
   "outputs": [
    {
     "name": "stdout",
     "output_type": "stream",
     "text": [
      "🧞\n"
     ]
    }
   ],
   "source": [
    "print(u\"\\U0001F9DE\")"
   ]
  },
  {
   "cell_type": "code",
   "execution_count": 257,
   "metadata": {},
   "outputs": [
    {
     "name": "stdout",
     "output_type": "stream",
     "text": [
      "❀\n"
     ]
    }
   ],
   "source": [
    "print(u\"\\u2740\")"
   ]
  },
  {
   "cell_type": "code",
   "execution_count": 258,
   "metadata": {},
   "outputs": [
    {
     "data": {
      "text/plain": [
       "'\\ue421'"
      ]
     },
     "execution_count": 258,
     "metadata": {},
     "output_type": "execute_result"
    }
   ],
   "source": [
    "chr(58401)"
   ]
  },
  {
   "cell_type": "code",
   "execution_count": 260,
   "metadata": {},
   "outputs": [
    {
     "name": "stdout",
     "output_type": "stream",
     "text": [
      "👎\n"
     ]
    }
   ],
   "source": [
    "print(u\"\\U0001F44E\")"
   ]
  },
  {
   "cell_type": "markdown",
   "metadata": {},
   "source": [
    "### **How to find router(Gateway) address from /proc/net/router file?**"
   ]
  },
  {
   "cell_type": "code",
   "execution_count": 131,
   "metadata": {},
   "outputs": [
    {
     "name": "stdout",
     "output_type": "stream",
     "text": [
      "192.168.1.1\n"
     ]
    }
   ],
   "source": [
    "%%python3\n",
    "\n",
    "from pathlib import Path\n",
    "from re import findall\n",
    "\n",
    "route = Path('/proc/net/route').read_text().splitlines()[1]\n",
    "hex_addr = findall(r'..',route.split('\\t')[2])[::-1]\n",
    "hex_base = [str(int(x, base=16)) for x in hex_addr]\n",
    "print('.'.join(hex_base))"
   ]
  },
  {
   "cell_type": "code",
   "execution_count": 130,
   "metadata": {},
   "outputs": [
    {
     "name": "stdout",
     "output_type": "stream",
     "text": [
      "192.168.1.1\n"
     ]
    }
   ],
   "source": [
    "%%bash\n",
    "\n",
    "ip route | awk 'NR == 1 {print $3}'"
   ]
  },
  {
   "cell_type": "markdown",
   "metadata": {},
   "source": [
    "### **How to use color code?**"
   ]
  },
  {
   "cell_type": "code",
   "execution_count": 149,
   "metadata": {},
   "outputs": [
    {
     "name": "stdout",
     "output_type": "stream",
     "text": [
      "\u001b[1;34;40m Welcome \n"
     ]
    }
   ],
   "source": [
    "%%python3\n",
    "\n",
    "print('\\033[1;34;40m Welcome ')"
   ]
  },
  {
   "cell_type": "code",
   "execution_count": 150,
   "metadata": {},
   "outputs": [
    {
     "name": "stdout",
     "output_type": "stream",
     "text": [
      "\u001b[1;34;40m Welcome \n"
     ]
    }
   ],
   "source": [
    "%%bash\n",
    "\n",
    "echo -e \"\\033[1;34;40m Welcome \""
   ]
  },
  {
   "cell_type": "markdown",
   "metadata": {},
   "source": [
    "### **Memory size of 'x' and Memory view of 'x'**"
   ]
  },
  {
   "cell_type": "code",
   "execution_count": 160,
   "metadata": {},
   "outputs": [
    {
     "name": "stdout",
     "output_type": "stream",
     "text": [
      "b'Python'\n",
      "Memory Size of x:  39\n",
      "<memory at 0x7f78bd778408>\n"
     ]
    }
   ],
   "source": [
    "from sys import getsizeof\n",
    "\n",
    "x = 'Python'.encode()\n",
    "\n",
    "print(x)\n",
    "print('Memory Size of x: ', getsizeof(x))\n",
    "print(memoryview(bytes(x)))"
   ]
  },
  {
   "cell_type": "markdown",
   "metadata": {},
   "source": [
    "### **What is output?**"
   ]
  },
  {
   "cell_type": "code",
   "execution_count": null,
   "metadata": {},
   "outputs": [],
   "source": [
    "x = 'Python'.encode()\n",
    "print(x)"
   ]
  },
  {
   "cell_type": "raw",
   "metadata": {},
   "source": [
    "1. 'Python'\n",
    "2. Python\n",
    "3. b'Python'\n",
    "4. None"
   ]
  },
  {
   "cell_type": "markdown",
   "metadata": {},
   "source": [
    "### **How to print current year?**"
   ]
  },
  {
   "cell_type": "code",
   "execution_count": 180,
   "metadata": {},
   "outputs": [
    {
     "name": "stdout",
     "output_type": "stream",
     "text": [
      "2020\n"
     ]
    }
   ],
   "source": [
    "from datetime import datetime\n",
    "\n",
    "print(datetime.today().strftime('%Y'))"
   ]
  },
  {
   "cell_type": "code",
   "execution_count": null,
   "metadata": {},
   "outputs": [],
   "source": []
  }
 ],
 "metadata": {
  "kernelspec": {
   "display_name": "Python 3",
   "language": "python",
   "name": "python3"
  },
  "language_info": {
   "codemirror_mode": {
    "name": "ipython",
    "version": 3
   },
   "file_extension": ".py",
   "mimetype": "text/x-python",
   "name": "python",
   "nbconvert_exporter": "python",
   "pygments_lexer": "ipython3",
   "version": "3.6.9"
  }
 },
 "nbformat": 4,
 "nbformat_minor": 4
}
