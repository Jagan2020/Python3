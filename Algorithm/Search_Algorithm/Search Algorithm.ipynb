{
 "cells": [
  {
   "cell_type": "markdown",
   "metadata": {},
   "source": [
    "## **Search Algorithm**\n",
    "\n",
    "The notation used in search algorithms is O(n), where n is the number of comparisons done. "
   ]
  },
  {
   "cell_type": "raw",
   "metadata": {},
   "source": [
    "What is Search Algorithm?\n",
    "A search algorithm is the step-by-step procedure used to locate specific data among a collection of data. It is considered a fundamental procedure in computing. \n",
    "\n",
    "All search algorithms make use of a search key in order to proceed with the procedure. Search algorithms are expected to return a success or a failure status, usually denoted by Boolean true/false. Different search algorithms are available, and the performance and efficiency of the same depend on the data and on the manner in which they are used.\n",
    "\n",
    "A linear search algorithm is considered the most basic of all search algorithms. The best perhaps is binary search. There are other search algorithms such as the depth-first search algorithm, breadth-first algorithm, etc. The efficiency of a search algorithm is measured by the number of times a comparison of the search key is done in the worst case. The notation used in search algorithms is O(n), where n is the number of comparisons done. It gives the idea of the asymptotic upper bound of execution time required for the algorithm with respect to a given condition.\n",
    "\n",
    "Search cases in search algorithms can be categorized as best case, average case and worst case. In some algorithms, all the three cases might be asymptotically the same, whereas in some others there could be a large difference. The average behavior of the search algorithm helps in determining the usefulness of the algorithm."
   ]
  },
  {
   "cell_type": "markdown",
   "metadata": {},
   "source": [
    "### **Type of Searching Algorithm**"
   ]
  },
  {
   "cell_type": "raw",
   "metadata": {},
   "source": [
    "Generally there are two types of searching algos,\n",
    "\n",
    "1. Linear Search: It is best when the data is less and is unsorted. It will be lengthy for the huge amount of data because it go through the every data value linearly for searching. Complexty is O(n).\n",
    "\n",
    "2. Binary Search: It is a more efficient search algorithm which relies on the elements in the list being sorted. Every iteration we divide the array by 2 and then see which side the element (to be searched) falls (lower half or upper half) and recursively do the same thing till the element is found. Complexity is O(log n).\n",
    "There is one more searching technique:\n",
    "\n",
    "Search using HASH value with complexity O(1):\n",
    "Insert the elements of the data structure into a hash implemented data structure like Hashtable or HashMap and you are good to go with one line statement:\n",
    "hashArr.contains(a[i])\n",
    "\n",
    "Since the elements of hashmap are indexed by hashcode, the time to search for any particular element would almost be = 1 (CONSTANT time"
   ]
  },
  {
   "cell_type": "code",
   "execution_count": null,
   "metadata": {},
   "outputs": [],
   "source": []
  }
 ],
 "metadata": {
  "kernelspec": {
   "display_name": "Python 3",
   "language": "python",
   "name": "python3"
  },
  "language_info": {
   "codemirror_mode": {
    "name": "ipython",
    "version": 3
   },
   "file_extension": ".py",
   "mimetype": "text/x-python",
   "name": "python",
   "nbconvert_exporter": "python",
   "pygments_lexer": "ipython3",
   "version": "3.6.9"
  }
 },
 "nbformat": 4,
 "nbformat_minor": 2
}
